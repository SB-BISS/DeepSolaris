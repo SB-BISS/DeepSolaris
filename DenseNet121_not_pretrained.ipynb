{
 "cells": [
  {
   "cell_type": "code",
   "execution_count": 1,
   "metadata": {},
   "outputs": [],
   "source": [
    "from __future__ import absolute_import\n",
    "from __future__ import division\n",
    "from __future__ import print_function\n",
    "\n",
    "### setting the different directories \n",
    "\n",
    "# on the server (linux):\n",
    "# where to find the images:\n",
    "home_dir = '/home/rick/Documents/HannahZ'\n",
    "# folder where to save code and so on\n",
    "code_dir = home_dir + '/Code'\n",
    "# where to save the final models\n",
    "model_dir = code_dir + '/Final_models'\n",
    "# where to save the logs for visualization in TensorBoard\n",
    "log_dir = code_dir + '/logs'\n",
    "# where to save the weights\n",
    "new_weight_dir = code_dir + '/new_weights'\n",
    "\n",
    "\n",
    "# on my computer (windows):\n",
    "# where to find the images:\n",
    "#home_dir = '\\\\Users\\\\ThinkPad User\\\\Google Drive\\\\DeepSolaris'\n",
    "# folder where to save code and so on\n",
    "#code_dir = '\\\\Users\\\\ThinkPad User\\\\Google Drive\\\\Master_thesis_H_Z_DL&NN\\\\Coding'\n",
    "# where to save the final models\n",
    "#model_dir = code_dir + '\\\\Final_models_saved'\n",
    "# where to save the logs for visualization in TensorBoard\n",
    "#log_dir = code_dir + '\\\\logs'\n",
    "import os\n",
    "os.chdir(home_dir)"
   ]
  },
  {
   "cell_type": "code",
   "execution_count": 2,
   "metadata": {},
   "outputs": [],
   "source": [
    "modelname = 'DenseNet121'"
   ]
  },
  {
   "cell_type": "code",
   "execution_count": 3,
   "metadata": {},
   "outputs": [
    {
     "name": "stderr",
     "output_type": "stream",
     "text": [
      "Using TensorFlow backend.\n"
     ]
    }
   ],
   "source": [
    "from keras import backend as K\n",
    "from keras.models import Model\n",
    "from keras.layers import Activation\n",
    "from keras.layers import AveragePooling2D\n",
    "from keras.layers import BatchNormalization\n",
    "from keras.layers import Concatenate\n",
    "from keras.layers import Conv2D\n",
    "from keras.layers import Dense\n",
    "from keras.layers import GlobalAveragePooling2D\n",
    "from keras.layers import GlobalMaxPooling2D\n",
    "from keras.layers import Input\n",
    "from keras.layers import MaxPooling2D\n",
    "from keras.layers import ZeroPadding2D\n",
    "from keras.utils.data_utils import get_file\n",
    "from keras.engine import get_source_inputs\n",
    "from keras.applications import imagenet_utils\n",
    "from keras.applications.imagenet_utils import decode_predictions\n",
    "from keras.applications.imagenet_utils import _obtain_input_shape \n",
    "\n",
    "from sklearn.model_selection import cross_validate\n",
    "from sklearn.metrics import roc_curve\n",
    "from sklearn.metrics import auc\n",
    "from sklearn.metrics import precision_score\n",
    "from sklearn.metrics import recall_score\n",
    "from sklearn.metrics import f1_score\n",
    "from keras.losses import binary_crossentropy\n",
    "\n",
    "\n",
    "from random import randrange\n",
    "from random import seed\n",
    "from random import sample\n",
    "import tensorflow as tf\n",
    "\n",
    "\n",
    "import itertools\n",
    "import matplotlib.pyplot as plt\n",
    "import numpy as np\n",
    "import pandas as pd\n",
    "from time import time\n",
    "from datetime import timedelta\n",
    "import math\n",
    "from sklearn.model_selection import train_test_split\n",
    "from datetime import datetime\n",
    "from keras.preprocessing import image\n",
    "from keras.optimizers import SGD\n",
    "from sklearn.metrics import accuracy_score\n",
    "from sklearn.metrics import confusion_matrix\n",
    "from keras.models import load_model\n",
    "from keras.callbacks import TensorBoard\n",
    "from keras.callbacks import EarlyStopping\n",
    "from keras.callbacks import ModelCheckpoint\n",
    "import keras\n",
    "from keras.callbacks import Callback\n",
    "\n",
    "\n",
    "os.chdir(code_dir)\n",
    "\n",
    "from Learning_rate_scheduler import LrReducer\n",
    "from CyclicLR import CyclicLR\n",
    "from DenseNet_pretrained import DenseNet121"
   ]
  },
  {
   "cell_type": "code",
   "execution_count": null,
   "metadata": {},
   "outputs": [],
   "source": [
    "seed(0)"
   ]
  },
  {
   "cell_type": "code",
   "execution_count": 4,
   "metadata": {},
   "outputs": [
    {
     "name": "stdout",
     "output_type": "stream",
     "text": [
      "Size of:\n",
      "- Training-set:\t\t3357\n",
      "- Validation-set:\t374\n",
      "- Test-set:\t\t934\n"
     ]
    }
   ],
   "source": [
    "### Helper metrics functions\n",
    "\n",
    "def precision(y_true, y_pred):\n",
    "    true_positives = K.sum(K.round(K.clip(y_true * y_pred, 0, 1)))\n",
    "    predicted_positives = K.sum(K.round(K.clip(y_pred, 0, 1)))\n",
    "    precision = true_positives / (predicted_positives + K.epsilon())\n",
    "    return precision\n",
    "    \n",
    "def recall(y_true, y_pred):\n",
    "    true_positives = K.sum(K.round(K.clip(y_true * y_pred, 0, 1)))\n",
    "    possible_positives = K.sum(K.round(K.clip(y_true, 0, 1)))\n",
    "    recall = true_positives / (possible_positives + K.epsilon())\n",
    "    return recall\n",
    "    \n",
    "    \n",
    "def fbeta_score(y_true, y_pred, beta=1):\n",
    "    if beta < 0:\n",
    "        raise ValueError('The lowest choosable beta is zero (only precision).')\n",
    "    # If there are no true positives, fix the F score at 0 like sklearn.\n",
    "    if K.sum(K.round(K.clip(y_true, 0, 1))) == 0:\n",
    "        return 0\n",
    "    p = precision(y_true, y_pred)\n",
    "    r = recall(y_true, y_pred)\n",
    "    bb = beta ** 2\n",
    "    fbeta_score = (1 + bb) * (p * r) / (bb * p + r + K.epsilon())\n",
    "    return fbeta_score\n",
    "def fmeasure(y_true, y_pred):\n",
    "    return fbeta_score(y_true, y_pred, beta=1)\n",
    "\n",
    "no_of_epochs = 0\n",
    "\n",
    "### check if data are in the right format\n",
    "K.image_data_format() == 'channels_last'\n",
    "\n",
    "os.chdir(home_dir)\n",
    "train_images = np.load('training_images_AcMüDüHo.npy')\n",
    "valid_images = np.load('validation_images_AcMüDüHo.npy')\n",
    "test_images = np.load('test_images_AcMüDüHo.npy')\n",
    "train_labels = np.load('training_labels_AcMüDüHo.npy')\n",
    "valid_labels = np.load('validation_labels_AcMüDüHo.npy')\n",
    "test_labels = np.load('test_labels_AcMüDüHo.npy')\n",
    "\n",
    "print(\"Size of:\")\n",
    "print(\"- Training-set:\\t\\t{}\".format(len(train_labels)))\n",
    "print(\"- Validation-set:\\t{}\".format(len(valid_labels)))\n",
    "print(\"- Test-set:\\t\\t{}\".format(len(test_labels)))"
   ]
  },
  {
   "cell_type": "code",
   "execution_count": 5,
   "metadata": {},
   "outputs": [
    {
     "data": {
      "text/plain": [
       "780"
      ]
     },
     "execution_count": 5,
     "metadata": {},
     "output_type": "execute_result"
    }
   ],
   "source": [
    "# choose training specifications (None or 'imagenet')\n",
    "weights = None\n",
    "#tf.reset_default_graph()\n",
    "\n",
    "# importing the currently used model\n",
    "os.chdir(code_dir)\n",
    "\n",
    "### create the base pre-trained model\n",
    "# usually takes around 30 seconds\n",
    "Model_base = InceptionResNetV2(weights = weights, include_top=False)\n",
    "# find out how many layers exist to find right number of trainable layers\n",
    "len(Model_base.layers)"
   ]
  },
  {
   "cell_type": "code",
   "execution_count": 6,
   "metadata": {},
   "outputs": [
    {
     "data": {
      "text/plain": [
       "419.625"
      ]
     },
     "execution_count": 6,
     "metadata": {},
     "output_type": "execute_result"
    }
   ],
   "source": [
    "# choose trainable layers as 'Frozen' or 'All' or some number\n",
    "trainable_layers = 'All'\n",
    "# otherwise trainable_layers = x\n",
    "# add a global spatial average pooling layer to the pretrained model to \n",
    "# finish its compilation\n",
    "def compileModel(trainable_layers = 'Frozen'):\n",
    "    global Final_model\n",
    "    x = Model_base.output\n",
    "    x = GlobalAveragePooling2D()(x)\n",
    "    # let's add a fully-connected layer\n",
    "    x = Dense(512, activation='relu')(x)\n",
    "    preds = Dense(1, activation='sigmoid')(x)\n",
    "    Final_model = Model(inputs=Model_base.input, outputs=preds)\n",
    "    if (trainable_layers == 'Frozen'):\n",
    "        for layer in Model_base.layers:   # only train the new layers first\n",
    "            layer.trainable = False\n",
    "    elif (trainable_layers == 'All'):\n",
    "        for layer in Model_base.layers:   # only train the new layers first\n",
    "            layer.trainable = True\n",
    "    else:\n",
    "        for layer in Model_base.layers[:trainable_layers]:\n",
    "            layer.trainable = False\n",
    "        for layer in Model_base.layers[trainable_layers:]:  \n",
    "            layer.trainable = True\n",
    "    Final_model.compile(optimizer='rmsprop', loss='binary_crossentropy', \n",
    "                            metrics=['accuracy', precision, recall, fmeasure])\n",
    "# calculating the stepsize\n",
    "(3357/64)*8"
   ]
  },
  {
   "cell_type": "code",
   "execution_count": 7,
   "metadata": {},
   "outputs": [
    {
     "name": "stdout",
     "output_type": "stream",
     "text": [
      "None\n",
      "All\n"
     ]
    }
   ],
   "source": [
    "###################### first training stage ###################################\n",
    "batch_size = 64\n",
    "step_size = 420\n",
    "base_lr = 0.00001\n",
    "max_lr = 0.001\n",
    "epochs = 48\n",
    "mode = 'triangular'\n",
    "def train_Model(verbose =1, times = 2, epochs = epochs, base_lr = base_lr, max_lr= max_lr, mode = mode, \n",
    "                stepsize = step_size, batch_size = batch_size, use_tensorboard = False):\n",
    "    start_time = time()   \n",
    "    global h\n",
    "    global no_of_epochs\n",
    "    global name\n",
    "    date = str(datetime.now().date())\n",
    "    # logdir in linux:\n",
    "    logdir = (log_dir + '/' + date + '_' + str(batch_size) + '_' + str(mode) + '_si-' + str(stepsize) + '_base-' \n",
    "              + str(base_lr) + '_max-' + str(max_lr) + '_' + str(times))\n",
    "    # logdir in windows:\n",
    "    ##logdir = (log_dir + '\\\\' + date + '_' + str(batch_size) + '_' + str(mode) + '_si-' + str(stepsize) + \n",
    "    #          '_base-' + str(base_lr) + '_max-' + str(max_lr) + '_' + str(times))\n",
    "    name = ('batch size: ' + str(batch_size) + ', mode: ' + str(mode) + ', stepsize: ' \n",
    "            + str(stepsize) + ', base-lr: ' + str(base_lr) + ', max-lr ' + str(max_lr) + ', *' + str(times))\n",
    "    print(' - Model specifics:\\t{}'.format(name))\n",
    "    clr = CyclicLR(base_lr = base_lr, max_lr=max_lr,\n",
    "                        step_size= stepsize, mode = mode)\n",
    "    tbCallBack = TensorBoard(log_dir=logdir, histogram_freq=0, \n",
    "                         write_graph=False, write_images=False)\n",
    "    if (use_tensorboard == True):\n",
    "        Final_model.fit(x = train_images, y = train_labels, epochs = epochs, callbacks= [tbCallBack, clr], \n",
    "                            validation_data = (valid_images, valid_labels), batch_size = batch_size, \n",
    "                            verbose = verbose)\n",
    "    else:\n",
    "        Final_model.fit(x = train_images, y = train_labels, epochs = epochs, callbacks= [clr], \n",
    "                            validation_data = (valid_images, valid_labels), batch_size = batch_size, \n",
    "                            verbose = verbose)\n",
    "    no_of_epochs = no_of_epochs + epochs\n",
    "    h = []\n",
    "    h = clr.history\n",
    "    end_time = time()\n",
    "    time_dif = end_time - start_time\n",
    "    print('Time usage: ' + str(timedelta(seconds=int(round(time_dif)))) + ' minutes')\n",
    "print(weights)\n",
    "print(trainable_layers)"
   ]
  },
  {
   "cell_type": "code",
   "execution_count": 8,
   "metadata": {},
   "outputs": [
    {
     "name": "stdout",
     "output_type": "stream",
     "text": [
      " - Model specifics:\tbatch size: 64, mode: triangular, stepsize: 420, base-lr: 1e-05, max-lr 0.001, *5\n",
      "Time usage: 0:03:46 minutes\n",
      "3357/3357 [==============================] - 3s 954us/step\n",
      "374/374 [==============================] - 1s 2ms/step\n",
      "934/934 [==============================] - 1s 1ms/step\n",
      "- Training accuracy:\t0.5019\n",
      "- Validation accuracy:\t0.5134\n",
      "- Test accuracy:\t0.4893\n"
     ]
    },
    {
     "data": {
      "text/plain": [
       "[<matplotlib.lines.Line2D at 0x7f7aa4e351d0>]"
      ]
     },
     "execution_count": 8,
     "metadata": {},
     "output_type": "execute_result"
    },
    {
     "data": {
      "image/png": "[encoded data removed]",
      "text/plain": [
       "<matplotlib.figure.Figure at 0x7f7aa5258d90>"
      ]
     },
     "metadata": {},
     "output_type": "display_data"
    }
   ],
   "source": [
    "compileModel()\n",
    "train_Model(times = 5, use_tensorboard = True, verbose = 0)\n",
    "train_acc = round(Final_model.evaluate(train_images, train_labels, 128)[1],4)\n",
    "valid_acc = round(Final_model.evaluate(valid_images, valid_labels, 128)[1],4)\n",
    "test_acc = round(Final_model.evaluate(test_images, test_labels, 128)[1],4)\n",
    "\n",
    "print(\"- Training accuracy:\\t{}\".format(train_acc))\n",
    "print(\"- Validation accuracy:\\t{}\".format(valid_acc))\n",
    "print(\"- Test accuracy:\\t{}\".format(test_acc))\n",
    "\n",
    "%matplotlib inline\n",
    "lr = h['lr'][:step_size]\n",
    "acc = h['acc'][:step_size]\n",
    "plt.plot(lr, acc)"
   ]
  },
  {
   "cell_type": "code",
   "execution_count": 9,
   "metadata": {},
   "outputs": [],
   "source": [
    "### choose your learning rates now! The one where the accuracy starts to rise as base_lr and the one where it stops\n",
    "### growing/ starts to tumble as max_lr\n",
    "baseLRS = [0.000001, 0.00001, 0.00005]\n",
    "maxLRS = [0.0001, 0.0002, 0.0004]"
   ]
  },
  {
   "cell_type": "code",
   "execution_count": 10,
   "metadata": {},
   "outputs": [],
   "source": [
    "# experiment with different learning rate ranges\n",
    "def learning_rate_finder(rep = 5, baseLRS = baseLRS, maxLRS = maxLRS):\n",
    "    start_time = time() \n",
    "    global test_acc_list\n",
    "    global valid_acc_list\n",
    "    global train_acc_list\n",
    "    global test_loss_list\n",
    "    global valid_loss_list\n",
    "    global train_loss_list\n",
    "    global test_prec_list\n",
    "    global valid_prec_list\n",
    "    global train_prec_list\n",
    "    global test_rec_list\n",
    "    global valid_rec_list\n",
    "    global train_rec_list\n",
    "    global model_details\n",
    "    model_details = []\n",
    "    test_acc_list = []\n",
    "    valid_acc_list = []\n",
    "    train_acc_list = []\n",
    "    test_loss_list = []\n",
    "    valid_loss_list = []\n",
    "    train_loss_list = []\n",
    "    test_prec_list = []\n",
    "    valid_prec_list = []\n",
    "    train_prec_list = []\n",
    "    test_rec_list = []\n",
    "    valid_rec_list = []\n",
    "    train_rec_list = []\n",
    "    for blr in baseLRS:\n",
    "        print('NEXT LEARNINGRATE: {}'.format(blr))\n",
    "        for mlr in maxLRS:\n",
    "            print('Models with base lr = ' + str(blr) + ' and max lr = ' + str(mlr))\n",
    "            for i in range(rep):\n",
    "                    compileModel()\n",
    "                    times = i\n",
    "                    if (i == 0):\n",
    "                        train_Model(times = times, epochs = epochs, base_lr = blr, max_lr = mlr, verbose = 0, \n",
    "                                    use_tensorboard = True)\n",
    "                    else:\n",
    "                        train_Model(times = times, epochs = epochs, base_lr = blr, max_lr = mlr, verbose = 0)\n",
    "                    train_metrics = Final_model.evaluate(train_images, train_labels)\n",
    "                    valid_metrics = Final_model.evaluate(valid_images, valid_labels)\n",
    "                    test_metrics = Final_model.evaluate(test_images, test_labels)\n",
    "                    train_acc = train_metrics[1]\n",
    "                    valid_acc = valid_metrics[1]\n",
    "                    test_acc = test_metrics[1]\n",
    "                    train_loss = train_metrics[0]\n",
    "                    valid_loss = valid_metrics[0]\n",
    "                    test_loss = test_metrics[0]\n",
    "                    train_prec = train_metrics[2]\n",
    "                    valid_prec = valid_metrics[2]\n",
    "                    test_prec = test_metrics[2]\n",
    "                    train_rec = train_metrics[3]\n",
    "                    valid_rec = valid_metrics[3]\n",
    "                    test_rec = test_metrics[3]                                \n",
    "                    test_acc_list.append(test_acc)\n",
    "                    valid_acc_list.append(valid_acc)\n",
    "                    train_acc_list.append(train_acc)\n",
    "                    test_loss_list.append(test_loss)\n",
    "                    valid_loss_list.append(valid_loss)\n",
    "                    train_loss_list.append(train_loss)\n",
    "                    test_prec_list.append(test_prec)\n",
    "                    valid_prec_list.append(valid_prec)\n",
    "                    train_prec_list.append(train_prec)\n",
    "                    test_rec_list.append(test_rec)\n",
    "                    valid_rec_list.append(valid_rec)\n",
    "                    train_rec_list.append(train_rec)\n",
    "                    model_details.append(name)\n",
    "            print(\"- Training accuracies:\\t{}\".format([round(el,4) for el in train_acc_list]))\n",
    "            print(\"- Validation accuracies:\\t{}\".format([round(el,4) for el in valid_acc_list]))\n",
    "            print(\"- Testing accuracies:\\t{}\".format([round(el,4) for el in test_acc_list]))\n",
    "            print('')\n",
    "            print('')\n",
    "    end_time = time()\n",
    "    time_dif = end_time - start_time\n",
    "    print('Time usage: ' + str(timedelta(seconds=int(round(time_dif)))) + ' minutes')        "
   ]
  },
  {
   "cell_type": "code",
   "execution_count": 11,
   "metadata": {},
   "outputs": [
    {
     "name": "stdout",
     "output_type": "stream",
     "text": [
      "NEXT LEARNINGRATE: 1e-06\n",
      "Models with base lr = 1e-06 and max lr = 0.0001\n",
      " - Model specifics:\tbatch size: 64, mode: triangular, stepsize: 420, base-lr: 1e-06, max-lr 0.0001, *0\n",
      "Time usage: 0:03:37 minutes\n",
      "3357/3357 [==============================] - 7s 2ms/step\n",
      "374/374 [==============================] - 1s 2ms/step\n",
      "934/934 [==============================] - 2s 2ms/step\n",
      " - Model specifics:\tbatch size: 64, mode: triangular, stepsize: 420, base-lr: 1e-06, max-lr 0.0001, *1\n",
      "Time usage: 0:03:28 minutes\n",
      "3357/3357 [==============================] - 6s 2ms/step\n",
      "374/374 [==============================] - 1s 2ms/step\n",
      "934/934 [==============================] - 2s 2ms/step\n",
      " - Model specifics:\tbatch size: 64, mode: triangular, stepsize: 420, base-lr: 1e-06, max-lr 0.0001, *2\n",
      "Time usage: 0:03:29 minutes\n",
      "3357/3357 [==============================] - 6s 2ms/step\n",
      "374/374 [==============================] - 1s 2ms/step\n",
      "934/934 [==============================] - 2s 2ms/step\n",
      " - Model specifics:\tbatch size: 64, mode: triangular, stepsize: 420, base-lr: 1e-06, max-lr 0.0001, *3\n",
      "Time usage: 0:03:29 minutes\n",
      "3357/3357 [==============================] - 6s 2ms/step\n",
      "374/374 [==============================] - 1s 2ms/step\n",
      "934/934 [==============================] - 2s 2ms/step\n",
      " - Model specifics:\tbatch size: 64, mode: triangular, stepsize: 420, base-lr: 1e-06, max-lr 0.0001, *4\n",
      "Time usage: 0:03:29 minutes\n",
      "3357/3357 [==============================] - 6s 2ms/step\n",
      "374/374 [==============================] - 1s 2ms/step\n",
      "934/934 [==============================] - 2s 2ms/step\n",
      "- Training accuracies:\t[0.4981, 0.4981, 0.4981, 0.4981, 0.4981]\n",
      "- Validation accuracies:\t[0.4893, 0.4866, 0.4866, 0.4866, 0.4866]\n",
      "- Testing accuracies:\t[0.5107, 0.5107, 0.5107, 0.5107, 0.5107]\n",
      "\n",
      "\n",
      "Models with base lr = 1e-06 and max lr = 0.0002\n",
      " - Model specifics:\tbatch size: 64, mode: triangular, stepsize: 420, base-lr: 1e-06, max-lr 0.0002, *0\n",
      "Time usage: 0:03:30 minutes\n",
      "3357/3357 [==============================] - 6s 2ms/step\n",
      "374/374 [==============================] - 1s 2ms/step\n",
      "934/934 [==============================] - 2s 2ms/step\n",
      " - Model specifics:\tbatch size: 64, mode: triangular, stepsize: 420, base-lr: 1e-06, max-lr 0.0002, *1\n",
      "Time usage: 0:03:29 minutes\n",
      "3357/3357 [==============================] - 6s 2ms/step\n",
      "374/374 [==============================] - 1s 2ms/step\n",
      "934/934 [==============================] - 2s 2ms/step\n",
      " - Model specifics:\tbatch size: 64, mode: triangular, stepsize: 420, base-lr: 1e-06, max-lr 0.0002, *2\n",
      "Time usage: 0:03:28 minutes\n",
      "3357/3357 [==============================] - 6s 2ms/step\n",
      "374/374 [==============================] - 1s 2ms/step\n",
      "934/934 [==============================] - 2s 2ms/step\n",
      " - Model specifics:\tbatch size: 64, mode: triangular, stepsize: 420, base-lr: 1e-06, max-lr 0.0002, *3\n",
      "Time usage: 0:03:27 minutes\n",
      "3357/3357 [==============================] - 6s 2ms/step\n",
      "374/374 [==============================] - 1s 2ms/step\n",
      "934/934 [==============================] - 2s 2ms/step\n",
      " - Model specifics:\tbatch size: 64, mode: triangular, stepsize: 420, base-lr: 1e-06, max-lr 0.0002, *4\n",
      "Time usage: 0:03:25 minutes\n",
      "3357/3357 [==============================] - 6s 2ms/step\n",
      "374/374 [==============================] - 1s 2ms/step\n",
      "934/934 [==============================] - 2s 2ms/step\n",
      "- Training accuracies:\t[0.4981, 0.4981, 0.4981, 0.4981, 0.4981, 0.4981, 0.4981, 0.4999, 0.5305, 0.6378]\n",
      "- Validation accuracies:\t[0.4893, 0.4866, 0.4866, 0.4866, 0.4866, 0.4866, 0.4866, 0.4866, 0.5241, 0.6364]\n",
      "- Testing accuracies:\t[0.5107, 0.5107, 0.5107, 0.5107, 0.5107, 0.5107, 0.5107, 0.5118, 0.5471, 0.6499]\n",
      "\n",
      "\n",
      "Models with base lr = 1e-06 and max lr = 0.0004\n",
      " - Model specifics:\tbatch size: 64, mode: triangular, stepsize: 420, base-lr: 1e-06, max-lr 0.0004, *0\n",
      "Time usage: 0:03:27 minutes\n",
      "3357/3357 [==============================] - 6s 2ms/step\n",
      "374/374 [==============================] - 1s 2ms/step\n",
      "934/934 [==============================] - 2s 2ms/step\n",
      " - Model specifics:\tbatch size: 64, mode: triangular, stepsize: 420, base-lr: 1e-06, max-lr 0.0004, *1\n",
      "Time usage: 0:03:26 minutes\n",
      "3357/3357 [==============================] - 6s 2ms/step\n",
      "374/374 [==============================] - 1s 2ms/step\n",
      "934/934 [==============================] - 2s 2ms/step\n",
      " - Model specifics:\tbatch size: 64, mode: triangular, stepsize: 420, base-lr: 1e-06, max-lr 0.0004, *2\n",
      "Time usage: 0:03:26 minutes\n",
      "3357/3357 [==============================] - 6s 2ms/step\n",
      "374/374 [==============================] - 1s 2ms/step\n",
      "934/934 [==============================] - 2s 2ms/step\n",
      " - Model specifics:\tbatch size: 64, mode: triangular, stepsize: 420, base-lr: 1e-06, max-lr 0.0004, *3\n",
      "Time usage: 0:03:26 minutes\n",
      "3357/3357 [==============================] - 6s 2ms/step\n",
      "374/374 [==============================] - 1s 2ms/step\n",
      "934/934 [==============================] - 2s 2ms/step\n",
      " - Model specifics:\tbatch size: 64, mode: triangular, stepsize: 420, base-lr: 1e-06, max-lr 0.0004, *4\n",
      "Time usage: 0:03:26 minutes\n",
      "3357/3357 [==============================] - 6s 2ms/step\n",
      "374/374 [==============================] - 1s 2ms/step\n",
      "934/934 [==============================] - 2s 2ms/step\n",
      "- Training accuracies:\t[0.4981, 0.4981, 0.4981, 0.4981, 0.4981, 0.4981, 0.4981, 0.4999, 0.5305, 0.6378, 0.6032, 0.647, 0.6387, 0.6461, 0.6184]\n",
      "- Validation accuracies:\t[0.4893, 0.4866, 0.4866, 0.4866, 0.4866, 0.4866, 0.4866, 0.4866, 0.5241, 0.6364, 0.6096, 0.6497, 0.6257, 0.6578, 0.639]\n",
      "- Testing accuracies:\t[0.5107, 0.5107, 0.5107, 0.5107, 0.5107, 0.5107, 0.5107, 0.5118, 0.5471, 0.6499, 0.5889, 0.6403, 0.6231, 0.6392, 0.6231]\n",
      "\n",
      "\n",
      "NEXT LEARNINGRATE: 1e-05\n",
      "Models with base lr = 1e-05 and max lr = 0.0001\n",
      " - Model specifics:\tbatch size: 64, mode: triangular, stepsize: 420, base-lr: 1e-05, max-lr 0.0001, *0\n",
      "Time usage: 0:03:27 minutes\n",
      "3357/3357 [==============================] - 6s 2ms/step\n",
      "374/374 [==============================] - 1s 2ms/step\n",
      "934/934 [==============================] - 2s 2ms/step\n",
      " - Model specifics:\tbatch size: 64, mode: triangular, stepsize: 420, base-lr: 1e-05, max-lr 0.0001, *1\n",
      "Time usage: 0:03:27 minutes\n",
      "3357/3357 [==============================] - 6s 2ms/step\n",
      "374/374 [==============================] - 1s 2ms/step\n",
      "934/934 [==============================] - 2s 2ms/step\n",
      " - Model specifics:\tbatch size: 64, mode: triangular, stepsize: 420, base-lr: 1e-05, max-lr 0.0001, *2\n",
      "Time usage: 0:03:26 minutes\n",
      "3357/3357 [==============================] - 6s 2ms/step\n",
      "374/374 [==============================] - 1s 2ms/step\n",
      "934/934 [==============================] - 2s 2ms/step\n",
      " - Model specifics:\tbatch size: 64, mode: triangular, stepsize: 420, base-lr: 1e-05, max-lr 0.0001, *3\n",
      "Time usage: 0:03:26 minutes\n",
      "3357/3357 [==============================] - 6s 2ms/step\n",
      "374/374 [==============================] - 1s 2ms/step\n",
      "934/934 [==============================] - 2s 2ms/step\n",
      " - Model specifics:\tbatch size: 64, mode: triangular, stepsize: 420, base-lr: 1e-05, max-lr 0.0001, *4\n",
      "Time usage: 0:03:28 minutes\n",
      "3357/3357 [==============================] - 7s 2ms/step\n",
      "374/374 [==============================] - 1s 2ms/step\n",
      "934/934 [==============================] - 2s 2ms/step\n",
      "- Training accuracies:\t[0.4981, 0.4981, 0.4981, 0.4981, 0.4981, 0.4981, 0.4981, 0.4999, 0.5305, 0.6378, 0.6032, 0.647, 0.6387, 0.6461, 0.6184, 0.4981, 0.4984, 0.4981, 0.4981, 0.4981]\n",
      "- Validation accuracies:\t[0.4893, 0.4866, 0.4866, 0.4866, 0.4866, 0.4866, 0.4866, 0.4866, 0.5241, 0.6364, 0.6096, 0.6497, 0.6257, 0.6578, 0.639, 0.4866, 0.4866, 0.4866, 0.4866, 0.4866]\n",
      "- Testing accuracies:\t[0.5107, 0.5107, 0.5107, 0.5107, 0.5107, 0.5107, 0.5107, 0.5118, 0.5471, 0.6499, 0.5889, 0.6403, 0.6231, 0.6392, 0.6231, 0.5107, 0.5107, 0.5107, 0.5107, 0.5107]\n",
      "\n",
      "\n",
      "Models with base lr = 1e-05 and max lr = 0.0002\n",
      " - Model specifics:\tbatch size: 64, mode: triangular, stepsize: 420, base-lr: 1e-05, max-lr 0.0002, *0\n",
      "Time usage: 0:03:31 minutes\n",
      "3357/3357 [==============================] - 6s 2ms/step\n",
      "374/374 [==============================] - 1s 2ms/step\n",
      "934/934 [==============================] - 2s 2ms/step\n",
      " - Model specifics:\tbatch size: 64, mode: triangular, stepsize: 420, base-lr: 1e-05, max-lr 0.0002, *1\n"
     ]
    },
    {
     "name": "stderr",
     "output_type": "stream",
     "text": [
      "/home/rick/.conda/envs/hannah_z/lib/python2.7/site-packages/keras/callbacks.py:120: UserWarning: Method on_batch_end() is slow compared to the batch update (0.123322). Check your callbacks.\n",
      "  % delta_t_median)\n"
     ]
    },
    {
     "name": "stdout",
     "output_type": "stream",
     "text": [
      "Time usage: 0:03:32 minutes\n",
      "3357/3357 [==============================] - 6s 2ms/step\n",
      "374/374 [==============================] - 1s 2ms/step\n",
      "934/934 [==============================] - 2s 2ms/step\n",
      " - Model specifics:\tbatch size: 64, mode: triangular, stepsize: 420, base-lr: 1e-05, max-lr 0.0002, *2\n"
     ]
    },
    {
     "name": "stderr",
     "output_type": "stream",
     "text": [
      "/home/rick/.conda/envs/hannah_z/lib/python2.7/site-packages/keras/callbacks.py:120: UserWarning: Method on_batch_end() is slow compared to the batch update (0.118939). Check your callbacks.\n",
      "  % delta_t_median)\n"
     ]
    },
    {
     "name": "stdout",
     "output_type": "stream",
     "text": [
      "Time usage: 0:03:28 minutes\n",
      "3357/3357 [==============================] - 6s 2ms/step\n",
      "374/374 [==============================] - 1s 2ms/step\n",
      "934/934 [==============================] - 2s 2ms/step\n",
      " - Model specifics:\tbatch size: 64, mode: triangular, stepsize: 420, base-lr: 1e-05, max-lr 0.0002, *3\n"
     ]
    },
    {
     "name": "stderr",
     "output_type": "stream",
     "text": [
      "/home/rick/.conda/envs/hannah_z/lib/python2.7/site-packages/keras/callbacks.py:120: UserWarning: Method on_batch_end() is slow compared to the batch update (0.111461). Check your callbacks.\n",
      "  % delta_t_median)\n"
     ]
    },
    {
     "name": "stdout",
     "output_type": "stream",
     "text": [
      "Time usage: 0:03:28 minutes\n",
      "3357/3357 [==============================] - 6s 2ms/step\n",
      "374/374 [==============================] - 1s 2ms/step\n",
      "934/934 [==============================] - 2s 2ms/step\n",
      " - Model specifics:\tbatch size: 64, mode: triangular, stepsize: 420, base-lr: 1e-05, max-lr 0.0002, *4\n"
     ]
    },
    {
     "name": "stderr",
     "output_type": "stream",
     "text": [
      "/home/rick/.conda/envs/hannah_z/lib/python2.7/site-packages/keras/callbacks.py:120: UserWarning: Method on_batch_end() is slow compared to the batch update (0.109473). Check your callbacks.\n",
      "  % delta_t_median)\n"
     ]
    },
    {
     "name": "stdout",
     "output_type": "stream",
     "text": [
      "Time usage: 0:03:32 minutes\n",
      "3357/3357 [==============================] - 6s 2ms/step\n",
      "374/374 [==============================] - 1s 2ms/step\n",
      "934/934 [==============================] - 2s 2ms/step\n",
      "- Training accuracies:\t[0.4981, 0.4981, 0.4981, 0.4981, 0.4981, 0.4981, 0.4981, 0.4999, 0.5305, 0.6378, 0.6032, 0.647, 0.6387, 0.6461, 0.6184, 0.4981, 0.4984, 0.4981, 0.4981, 0.4981, 0.5013, 0.4981, 0.5159, 0.499, 0.6014]\n",
      "- Validation accuracies:\t[0.4893, 0.4866, 0.4866, 0.4866, 0.4866, 0.4866, 0.4866, 0.4866, 0.5241, 0.6364, 0.6096, 0.6497, 0.6257, 0.6578, 0.639, 0.4866, 0.4866, 0.4866, 0.4866, 0.4866, 0.492, 0.4866, 0.516, 0.4866, 0.5802]\n",
      "- Testing accuracies:\t[0.5107, 0.5107, 0.5107, 0.5107, 0.5107, 0.5107, 0.5107, 0.5118, 0.5471, 0.6499, 0.5889, 0.6403, 0.6231, 0.6392, 0.6231, 0.5107, 0.5107, 0.5107, 0.5107, 0.5107, 0.5118, 0.5107, 0.5246, 0.5107, 0.5567]\n",
      "\n",
      "\n",
      "Models with base lr = 1e-05 and max lr = 0.0004\n",
      " - Model specifics:\tbatch size: 64, mode: triangular, stepsize: 420, base-lr: 1e-05, max-lr 0.0004, *0\n"
     ]
    },
    {
     "name": "stderr",
     "output_type": "stream",
     "text": [
      "/home/rick/.conda/envs/hannah_z/lib/python2.7/site-packages/keras/callbacks.py:120: UserWarning: Method on_batch_end() is slow compared to the batch update (0.116441). Check your callbacks.\n",
      "  % delta_t_median)\n"
     ]
    },
    {
     "name": "stdout",
     "output_type": "stream",
     "text": [
      "Time usage: 0:03:34 minutes\n",
      "3357/3357 [==============================] - 6s 2ms/step\n",
      "374/374 [==============================] - 1s 2ms/step\n",
      "934/934 [==============================] - 2s 2ms/step\n",
      " - Model specifics:\tbatch size: 64, mode: triangular, stepsize: 420, base-lr: 1e-05, max-lr 0.0004, *1\n"
     ]
    },
    {
     "name": "stderr",
     "output_type": "stream",
     "text": [
      "/home/rick/.conda/envs/hannah_z/lib/python2.7/site-packages/keras/callbacks.py:120: UserWarning: Method on_batch_end() is slow compared to the batch update (0.123198). Check your callbacks.\n",
      "  % delta_t_median)\n"
     ]
    },
    {
     "name": "stdout",
     "output_type": "stream",
     "text": [
      "Time usage: 0:03:32 minutes\n",
      "3357/3357 [==============================] - 6s 2ms/step\n",
      "374/374 [==============================] - 1s 2ms/step\n",
      "934/934 [==============================] - 2s 2ms/step\n",
      " - Model specifics:\tbatch size: 64, mode: triangular, stepsize: 420, base-lr: 1e-05, max-lr 0.0004, *2\n"
     ]
    },
    {
     "name": "stderr",
     "output_type": "stream",
     "text": [
      "/home/rick/.conda/envs/hannah_z/lib/python2.7/site-packages/keras/callbacks.py:120: UserWarning: Method on_batch_end() is slow compared to the batch update (0.113167). Check your callbacks.\n",
      "  % delta_t_median)\n"
     ]
    },
    {
     "name": "stdout",
     "output_type": "stream",
     "text": [
      "Time usage: 0:03:31 minutes\n",
      "3357/3357 [==============================] - 6s 2ms/step\n",
      "374/374 [==============================] - 1s 2ms/step\n",
      "934/934 [==============================] - 2s 2ms/step\n",
      " - Model specifics:\tbatch size: 64, mode: triangular, stepsize: 420, base-lr: 1e-05, max-lr 0.0004, *3\n"
     ]
    },
    {
     "name": "stderr",
     "output_type": "stream",
     "text": [
      "/home/rick/.conda/envs/hannah_z/lib/python2.7/site-packages/keras/callbacks.py:120: UserWarning: Method on_batch_end() is slow compared to the batch update (0.111590). Check your callbacks.\n",
      "  % delta_t_median)\n"
     ]
    },
    {
     "name": "stdout",
     "output_type": "stream",
     "text": [
      "Time usage: 0:03:31 minutes\n",
      "3357/3357 [==============================] - 6s 2ms/step\n",
      "374/374 [==============================] - 1s 2ms/step\n",
      "934/934 [==============================] - 2s 2ms/step\n",
      " - Model specifics:\tbatch size: 64, mode: triangular, stepsize: 420, base-lr: 1e-05, max-lr 0.0004, *4\n"
     ]
    },
    {
     "name": "stderr",
     "output_type": "stream",
     "text": [
      "/home/rick/.conda/envs/hannah_z/lib/python2.7/site-packages/keras/callbacks.py:120: UserWarning: Method on_batch_end() is slow compared to the batch update (0.111855). Check your callbacks.\n",
      "  % delta_t_median)\n"
     ]
    },
    {
     "name": "stdout",
     "output_type": "stream",
     "text": [
      "Time usage: 0:03:31 minutes\n",
      "3357/3357 [==============================] - 6s 2ms/step\n",
      "374/374 [==============================] - 1s 2ms/step\n",
      "934/934 [==============================] - 2s 2ms/step\n",
      "- Training accuracies:\t[0.4981, 0.4981, 0.4981, 0.4981, 0.4981, 0.4981, 0.4981, 0.4999, 0.5305, 0.6378, 0.6032, 0.647, 0.6387, 0.6461, 0.6184, 0.4981, 0.4984, 0.4981, 0.4981, 0.4981, 0.5013, 0.4981, 0.5159, 0.499, 0.6014, 0.6005, 0.5067, 0.6562, 0.6345, 0.5016]\n",
      "- Validation accuracies:\t[0.4893, 0.4866, 0.4866, 0.4866, 0.4866, 0.4866, 0.4866, 0.4866, 0.5241, 0.6364, 0.6096, 0.6497, 0.6257, 0.6578, 0.639, 0.4866, 0.4866, 0.4866, 0.4866, 0.4866, 0.492, 0.4866, 0.516, 0.4866, 0.5802, 0.6096, 0.5187, 0.6604, 0.6417, 0.516]\n",
      "- Testing accuracies:\t[0.5107, 0.5107, 0.5107, 0.5107, 0.5107, 0.5107, 0.5107, 0.5118, 0.5471, 0.6499, 0.5889, 0.6403, 0.6231, 0.6392, 0.6231, 0.5107, 0.5107, 0.5107, 0.5107, 0.5107, 0.5118, 0.5107, 0.5246, 0.5107, 0.5567, 0.5846, 0.4936, 0.6563, 0.6285, 0.4904]\n",
      "\n",
      "\n",
      "NEXT LEARNINGRATE: 5e-05\n",
      "Models with base lr = 5e-05 and max lr = 0.0001\n",
      " - Model specifics:\tbatch size: 64, mode: triangular, stepsize: 420, base-lr: 5e-05, max-lr 0.0001, *0\n"
     ]
    },
    {
     "name": "stderr",
     "output_type": "stream",
     "text": [
      "/home/rick/.conda/envs/hannah_z/lib/python2.7/site-packages/keras/callbacks.py:120: UserWarning: Method on_batch_end() is slow compared to the batch update (0.113602). Check your callbacks.\n",
      "  % delta_t_median)\n"
     ]
    },
    {
     "name": "stdout",
     "output_type": "stream",
     "text": [
      "Time usage: 0:03:31 minutes\n",
      "3357/3357 [==============================] - 6s 2ms/step\n",
      "374/374 [==============================] - 1s 2ms/step\n",
      "934/934 [==============================] - 2s 2ms/step\n",
      " - Model specifics:\tbatch size: 64, mode: triangular, stepsize: 420, base-lr: 5e-05, max-lr 0.0001, *1\n"
     ]
    },
    {
     "name": "stderr",
     "output_type": "stream",
     "text": [
      "/home/rick/.conda/envs/hannah_z/lib/python2.7/site-packages/keras/callbacks.py:120: UserWarning: Method on_batch_end() is slow compared to the batch update (0.113351). Check your callbacks.\n",
      "  % delta_t_median)\n"
     ]
    },
    {
     "name": "stdout",
     "output_type": "stream",
     "text": [
      "Time usage: 0:03:31 minutes\n",
      "3357/3357 [==============================] - 6s 2ms/step\n",
      "374/374 [==============================] - 1s 2ms/step\n",
      "934/934 [==============================] - 2s 2ms/step\n",
      " - Model specifics:\tbatch size: 64, mode: triangular, stepsize: 420, base-lr: 5e-05, max-lr 0.0001, *2\n"
     ]
    },
    {
     "name": "stderr",
     "output_type": "stream",
     "text": [
      "/home/rick/.conda/envs/hannah_z/lib/python2.7/site-packages/keras/callbacks.py:120: UserWarning: Method on_batch_end() is slow compared to the batch update (0.115374). Check your callbacks.\n",
      "  % delta_t_median)\n"
     ]
    },
    {
     "name": "stdout",
     "output_type": "stream",
     "text": [
      "Time usage: 0:03:29 minutes\n",
      "3357/3357 [==============================] - 6s 2ms/step\n",
      "374/374 [==============================] - 1s 2ms/step\n",
      "934/934 [==============================] - 2s 2ms/step\n",
      " - Model specifics:\tbatch size: 64, mode: triangular, stepsize: 420, base-lr: 5e-05, max-lr 0.0001, *3\n"
     ]
    },
    {
     "name": "stderr",
     "output_type": "stream",
     "text": [
      "/home/rick/.conda/envs/hannah_z/lib/python2.7/site-packages/keras/callbacks.py:120: UserWarning: Method on_batch_end() is slow compared to the batch update (0.116247). Check your callbacks.\n",
      "  % delta_t_median)\n"
     ]
    },
    {
     "name": "stdout",
     "output_type": "stream",
     "text": [
      "Time usage: 0:03:30 minutes\n",
      "3357/3357 [==============================] - 6s 2ms/step\n",
      "374/374 [==============================] - 1s 2ms/step\n",
      "934/934 [==============================] - 2s 2ms/step\n",
      " - Model specifics:\tbatch size: 64, mode: triangular, stepsize: 420, base-lr: 5e-05, max-lr 0.0001, *4\n"
     ]
    },
    {
     "name": "stderr",
     "output_type": "stream",
     "text": [
      "/home/rick/.conda/envs/hannah_z/lib/python2.7/site-packages/keras/callbacks.py:120: UserWarning: Method on_batch_end() is slow compared to the batch update (0.115649). Check your callbacks.\n",
      "  % delta_t_median)\n"
     ]
    },
    {
     "name": "stdout",
     "output_type": "stream",
     "text": [
      "Time usage: 0:03:32 minutes\n",
      "3357/3357 [==============================] - 6s 2ms/step\n",
      "374/374 [==============================] - 1s 2ms/step\n",
      "934/934 [==============================] - 2s 2ms/step\n",
      "- Training accuracies:\t[0.4981, 0.4981, 0.4981, 0.4981, 0.4981, 0.4981, 0.4981, 0.4999, 0.5305, 0.6378, 0.6032, 0.647, 0.6387, 0.6461, 0.6184, 0.4981, 0.4984, 0.4981, 0.4981, 0.4981, 0.5013, 0.4981, 0.5159, 0.499, 0.6014, 0.6005, 0.5067, 0.6562, 0.6345, 0.5016, 0.4984, 0.5013, 0.4984, 0.4981, 0.4993]\n",
      "- Validation accuracies:\t[0.4893, 0.4866, 0.4866, 0.4866, 0.4866, 0.4866, 0.4866, 0.4866, 0.5241, 0.6364, 0.6096, 0.6497, 0.6257, 0.6578, 0.639, 0.4866, 0.4866, 0.4866, 0.4866, 0.4866, 0.492, 0.4866, 0.516, 0.4866, 0.5802, 0.6096, 0.5187, 0.6604, 0.6417, 0.516, 0.4866, 0.492, 0.4866, 0.4866, 0.4866]\n",
      "- Testing accuracies:\t[0.5107, 0.5107, 0.5107, 0.5107, 0.5107, 0.5107, 0.5107, 0.5118, 0.5471, 0.6499, 0.5889, 0.6403, 0.6231, 0.6392, 0.6231, 0.5107, 0.5107, 0.5107, 0.5107, 0.5107, 0.5118, 0.5107, 0.5246, 0.5107, 0.5567, 0.5846, 0.4936, 0.6563, 0.6285, 0.4904, 0.5107, 0.5118, 0.5107, 0.5107, 0.5107]\n",
      "\n",
      "\n",
      "Models with base lr = 5e-05 and max lr = 0.0002\n",
      " - Model specifics:\tbatch size: 64, mode: triangular, stepsize: 420, base-lr: 5e-05, max-lr 0.0002, *0\n"
     ]
    },
    {
     "name": "stderr",
     "output_type": "stream",
     "text": [
      "/home/rick/.conda/envs/hannah_z/lib/python2.7/site-packages/keras/callbacks.py:120: UserWarning: Method on_batch_end() is slow compared to the batch update (0.118672). Check your callbacks.\n",
      "  % delta_t_median)\n"
     ]
    },
    {
     "name": "stdout",
     "output_type": "stream",
     "text": [
      "Time usage: 0:03:32 minutes\n",
      "3357/3357 [==============================] - 6s 2ms/step\n",
      "374/374 [==============================] - 1s 2ms/step\n",
      "934/934 [==============================] - 2s 2ms/step\n",
      " - Model specifics:\tbatch size: 64, mode: triangular, stepsize: 420, base-lr: 5e-05, max-lr 0.0002, *1\n"
     ]
    },
    {
     "name": "stderr",
     "output_type": "stream",
     "text": [
      "/home/rick/.conda/envs/hannah_z/lib/python2.7/site-packages/keras/callbacks.py:120: UserWarning: Method on_batch_end() is slow compared to the batch update (0.120748). Check your callbacks.\n",
      "  % delta_t_median)\n"
     ]
    },
    {
     "name": "stdout",
     "output_type": "stream",
     "text": [
      "Time usage: 0:03:30 minutes\n",
      "3357/3357 [==============================] - 6s 2ms/step\n",
      "374/374 [==============================] - 1s 2ms/step\n",
      "934/934 [==============================] - 2s 2ms/step\n",
      " - Model specifics:\tbatch size: 64, mode: triangular, stepsize: 420, base-lr: 5e-05, max-lr 0.0002, *2\n"
     ]
    },
    {
     "name": "stderr",
     "output_type": "stream",
     "text": [
      "/home/rick/.conda/envs/hannah_z/lib/python2.7/site-packages/keras/callbacks.py:120: UserWarning: Method on_batch_end() is slow compared to the batch update (0.119112). Check your callbacks.\n",
      "  % delta_t_median)\n"
     ]
    },
    {
     "name": "stdout",
     "output_type": "stream",
     "text": [
      "Time usage: 0:03:30 minutes\n",
      "3357/3357 [==============================] - 6s 2ms/step\n",
      "374/374 [==============================] - 1s 2ms/step\n",
      "934/934 [==============================] - 2s 2ms/step\n",
      " - Model specifics:\tbatch size: 64, mode: triangular, stepsize: 420, base-lr: 5e-05, max-lr 0.0002, *3\n"
     ]
    },
    {
     "name": "stderr",
     "output_type": "stream",
     "text": [
      "/home/rick/.conda/envs/hannah_z/lib/python2.7/site-packages/keras/callbacks.py:120: UserWarning: Method on_batch_end() is slow compared to the batch update (0.118738). Check your callbacks.\n",
      "  % delta_t_median)\n"
     ]
    },
    {
     "name": "stdout",
     "output_type": "stream",
     "text": [
      "Time usage: 0:03:30 minutes\n",
      "3357/3357 [==============================] - 6s 2ms/step\n",
      "374/374 [==============================] - 1s 2ms/step\n",
      "934/934 [==============================] - 2s 2ms/step\n",
      " - Model specifics:\tbatch size: 64, mode: triangular, stepsize: 420, base-lr: 5e-05, max-lr 0.0002, *4\n"
     ]
    },
    {
     "name": "stderr",
     "output_type": "stream",
     "text": [
      "/home/rick/.conda/envs/hannah_z/lib/python2.7/site-packages/keras/callbacks.py:120: UserWarning: Method on_batch_end() is slow compared to the batch update (0.119707). Check your callbacks.\n",
      "  % delta_t_median)\n"
     ]
    },
    {
     "name": "stdout",
     "output_type": "stream",
     "text": [
      "Time usage: 0:03:31 minutes\n",
      "3357/3357 [==============================] - 7s 2ms/step\n",
      "374/374 [==============================] - 1s 2ms/step\n",
      "934/934 [==============================] - 2s 2ms/step\n",
      "- Training accuracies:\t[0.4981, 0.4981, 0.4981, 0.4981, 0.4981, 0.4981, 0.4981, 0.4999, 0.5305, 0.6378, 0.6032, 0.647, 0.6387, 0.6461, 0.6184, 0.4981, 0.4984, 0.4981, 0.4981, 0.4981, 0.5013, 0.4981, 0.5159, 0.499, 0.6014, 0.6005, 0.5067, 0.6562, 0.6345, 0.5016, 0.4984, 0.5013, 0.4984, 0.4981, 0.4993, 0.6399, 0.6354, 0.4996, 0.5761, 0.4996]\n",
      "- Validation accuracies:\t[0.4893, 0.4866, 0.4866, 0.4866, 0.4866, 0.4866, 0.4866, 0.4866, 0.5241, 0.6364, 0.6096, 0.6497, 0.6257, 0.6578, 0.639, 0.4866, 0.4866, 0.4866, 0.4866, 0.4866, 0.492, 0.4866, 0.516, 0.4866, 0.5802, 0.6096, 0.5187, 0.6604, 0.6417, 0.516, 0.4866, 0.492, 0.4866, 0.4866, 0.4866, 0.639, 0.6471, 0.4866, 0.5668, 0.4893]\n",
      "- Testing accuracies:\t[0.5107, 0.5107, 0.5107, 0.5107, 0.5107, 0.5107, 0.5107, 0.5118, 0.5471, 0.6499, 0.5889, 0.6403, 0.6231, 0.6392, 0.6231, 0.5107, 0.5107, 0.5107, 0.5107, 0.5107, 0.5118, 0.5107, 0.5246, 0.5107, 0.5567, 0.5846, 0.4936, 0.6563, 0.6285, 0.4904, 0.5107, 0.5118, 0.5107, 0.5107, 0.5107, 0.651, 0.6124, 0.5107, 0.5878, 0.5107]\n",
      "\n",
      "\n",
      "Models with base lr = 5e-05 and max lr = 0.0004\n",
      " - Model specifics:\tbatch size: 64, mode: triangular, stepsize: 420, base-lr: 5e-05, max-lr 0.0004, *0\n"
     ]
    },
    {
     "name": "stderr",
     "output_type": "stream",
     "text": [
      "/home/rick/.conda/envs/hannah_z/lib/python2.7/site-packages/keras/callbacks.py:120: UserWarning: Method on_batch_end() is slow compared to the batch update (0.117427). Check your callbacks.\n",
      "  % delta_t_median)\n"
     ]
    },
    {
     "name": "stdout",
     "output_type": "stream",
     "text": [
      "Time usage: 0:03:34 minutes\n",
      "3357/3357 [==============================] - 6s 2ms/step\n",
      "374/374 [==============================] - 1s 2ms/step\n",
      "934/934 [==============================] - 2s 2ms/step\n",
      " - Model specifics:\tbatch size: 64, mode: triangular, stepsize: 420, base-lr: 5e-05, max-lr 0.0004, *1\n"
     ]
    },
    {
     "name": "stderr",
     "output_type": "stream",
     "text": [
      "/home/rick/.conda/envs/hannah_z/lib/python2.7/site-packages/keras/callbacks.py:120: UserWarning: Method on_batch_end() is slow compared to the batch update (0.122018). Check your callbacks.\n",
      "  % delta_t_median)\n"
     ]
    },
    {
     "name": "stdout",
     "output_type": "stream",
     "text": [
      "Time usage: 0:03:30 minutes\n",
      "3357/3357 [==============================] - 6s 2ms/step\n",
      "374/374 [==============================] - 1s 2ms/step\n",
      "934/934 [==============================] - 2s 2ms/step\n",
      " - Model specifics:\tbatch size: 64, mode: triangular, stepsize: 420, base-lr: 5e-05, max-lr 0.0004, *2\n"
     ]
    },
    {
     "name": "stderr",
     "output_type": "stream",
     "text": [
      "/home/rick/.conda/envs/hannah_z/lib/python2.7/site-packages/keras/callbacks.py:120: UserWarning: Method on_batch_end() is slow compared to the batch update (0.166647). Check your callbacks.\n",
      "  % delta_t_median)\n"
     ]
    },
    {
     "name": "stdout",
     "output_type": "stream",
     "text": [
      "Time usage: 0:03:32 minutes\n",
      "3357/3357 [==============================] - 6s 2ms/step\n",
      "374/374 [==============================] - 1s 2ms/step\n",
      "934/934 [==============================] - 2s 2ms/step\n",
      " - Model specifics:\tbatch size: 64, mode: triangular, stepsize: 420, base-lr: 5e-05, max-lr 0.0004, *3\n"
     ]
    },
    {
     "name": "stderr",
     "output_type": "stream",
     "text": [
      "/home/rick/.conda/envs/hannah_z/lib/python2.7/site-packages/keras/callbacks.py:120: UserWarning: Method on_batch_end() is slow compared to the batch update (0.155257). Check your callbacks.\n",
      "  % delta_t_median)\n"
     ]
    },
    {
     "name": "stdout",
     "output_type": "stream",
     "text": [
      "Time usage: 0:03:32 minutes\n",
      "3357/3357 [==============================] - 6s 2ms/step\n",
      "374/374 [==============================] - 1s 2ms/step\n",
      "934/934 [==============================] - 2s 2ms/step\n",
      " - Model specifics:\tbatch size: 64, mode: triangular, stepsize: 420, base-lr: 5e-05, max-lr 0.0004, *4\n"
     ]
    },
    {
     "name": "stderr",
     "output_type": "stream",
     "text": [
      "/home/rick/.conda/envs/hannah_z/lib/python2.7/site-packages/keras/callbacks.py:120: UserWarning: Method on_batch_end() is slow compared to the batch update (0.148253). Check your callbacks.\n",
      "  % delta_t_median)\n"
     ]
    },
    {
     "name": "stdout",
     "output_type": "stream",
     "text": [
      "Time usage: 0:03:32 minutes\n",
      "3357/3357 [==============================] - 6s 2ms/step\n",
      "374/374 [==============================] - 1s 2ms/step\n",
      "934/934 [==============================] - 2s 2ms/step\n",
      "- Training accuracies:\t[0.4981, 0.4981, 0.4981, 0.4981, 0.4981, 0.4981, 0.4981, 0.4999, 0.5305, 0.6378, 0.6032, 0.647, 0.6387, 0.6461, 0.6184, 0.4981, 0.4984, 0.4981, 0.4981, 0.4981, 0.5013, 0.4981, 0.5159, 0.499, 0.6014, 0.6005, 0.5067, 0.6562, 0.6345, 0.5016, 0.4984, 0.5013, 0.4984, 0.4981, 0.4993, 0.6399, 0.6354, 0.4996, 0.5761, 0.4996, 0.563, 0.5639, 0.6086, 0.5019, 0.6053]\n",
      "- Validation accuracies:\t[0.4893, 0.4866, 0.4866, 0.4866, 0.4866, 0.4866, 0.4866, 0.4866, 0.5241, 0.6364, 0.6096, 0.6497, 0.6257, 0.6578, 0.639, 0.4866, 0.4866, 0.4866, 0.4866, 0.4866, 0.492, 0.4866, 0.516, 0.4866, 0.5802, 0.6096, 0.5187, 0.6604, 0.6417, 0.516, 0.4866, 0.492, 0.4866, 0.4866, 0.4866, 0.639, 0.6471, 0.4866, 0.5668, 0.4893, 0.5722, 0.5775, 0.6096, 0.5134, 0.6043]\n",
      "- Testing accuracies:\t[0.5107, 0.5107, 0.5107, 0.5107, 0.5107, 0.5107, 0.5107, 0.5118, 0.5471, 0.6499, 0.5889, 0.6403, 0.6231, 0.6392, 0.6231, 0.5107, 0.5107, 0.5107, 0.5107, 0.5107, 0.5118, 0.5107, 0.5246, 0.5107, 0.5567, 0.5846, 0.4936, 0.6563, 0.6285, 0.4904, 0.5107, 0.5118, 0.5107, 0.5107, 0.5107, 0.651, 0.6124, 0.5107, 0.5878, 0.5107, 0.5236, 0.5407, 0.5867, 0.4893, 0.621]\n",
      "\n",
      "\n",
      "Time usage: 2:44:15 minutes\n"
     ]
    },
    {
     "data": {
      "text/plain": [
       "[<matplotlib.lines.Line2D at 0x7f7a77bfd810>]"
      ]
     },
     "execution_count": 11,
     "metadata": {},
     "output_type": "execute_result"
    },
    {
     "data": {
      "image/png": "[encoded data removed]",
      "text/plain": [
       "<matplotlib.figure.Figure at 0x7f7aaf13c510>"
      ]
     },
     "metadata": {},
     "output_type": "display_data"
    }
   ],
   "source": [
    "# usual training time: 2h - 2:43 - 2;47 - 2:44\n",
    "learning_rate_finder()\n",
    "%matplotlib inline\n",
    "acc = h['acc']\n",
    "plt.plot(acc)"
   ]
  },
  {
   "cell_type": "code",
   "execution_count": 12,
   "metadata": {},
   "outputs": [
    {
     "data": {
      "text/html": [
       "<div>\n",
       "<style scoped>\n",
       "    .dataframe tbody tr th:only-of-type {\n",
       "        vertical-align: middle;\n",
       "    }\n",
       "\n",
       "    .dataframe tbody tr th {\n",
       "        vertical-align: top;\n",
       "    }\n",
       "\n",
       "    .dataframe thead th {\n",
       "        text-align: right;\n",
       "    }\n",
       "</style>\n",
       "<table border=\"1\" class=\"dataframe\">\n",
       "  <thead>\n",
       "    <tr style=\"text-align: right;\">\n",
       "      <th></th>\n",
       "      <th>test acc</th>\n",
       "      <th>valid acc</th>\n",
       "      <th>train acc</th>\n",
       "      <th>test loss</th>\n",
       "      <th>valid loss</th>\n",
       "      <th>train loss</th>\n",
       "      <th>test prec</th>\n",
       "      <th>valid prec</th>\n",
       "      <th>train prec</th>\n",
       "      <th>test rec</th>\n",
       "      <th>valid rec</th>\n",
       "      <th>train rec</th>\n",
       "    </tr>\n",
       "  </thead>\n",
       "  <tbody>\n",
       "    <tr>\n",
       "      <th>base-lr: 1e-06, max-lr 0.0004,</th>\n",
       "      <td>0.5675</td>\n",
       "      <td>0.5586</td>\n",
       "      <td>0.5625</td>\n",
       "      <td>0.6920</td>\n",
       "      <td>0.6922</td>\n",
       "      <td>0.6921</td>\n",
       "      <td>0.5653</td>\n",
       "      <td>0.5417</td>\n",
       "      <td>0.5526</td>\n",
       "      <td>0.8687</td>\n",
       "      <td>0.8845</td>\n",
       "      <td>0.8767</td>\n",
       "    </tr>\n",
       "    <tr>\n",
       "      <th>base-lr: 1e-05, max-lr 0.0004,</th>\n",
       "      <td>0.5546</td>\n",
       "      <td>0.5497</td>\n",
       "      <td>0.5529</td>\n",
       "      <td>0.6920</td>\n",
       "      <td>0.6921</td>\n",
       "      <td>0.6920</td>\n",
       "      <td>0.5318</td>\n",
       "      <td>0.5119</td>\n",
       "      <td>0.5253</td>\n",
       "      <td>0.7685</td>\n",
       "      <td>0.7851</td>\n",
       "      <td>0.7763</td>\n",
       "    </tr>\n",
       "    <tr>\n",
       "      <th>base-lr: 5e-05, max-lr 0.0004,</th>\n",
       "      <td>0.5546</td>\n",
       "      <td>0.5521</td>\n",
       "      <td>0.5545</td>\n",
       "      <td>0.6920</td>\n",
       "      <td>0.6920</td>\n",
       "      <td>0.6920</td>\n",
       "      <td>0.5364</td>\n",
       "      <td>0.5188</td>\n",
       "      <td>0.5368</td>\n",
       "      <td>0.7245</td>\n",
       "      <td>0.7434</td>\n",
       "      <td>0.7326</td>\n",
       "    </tr>\n",
       "    <tr>\n",
       "      <th>base-lr: 1e-05, max-lr 0.0001,</th>\n",
       "      <td>0.5541</td>\n",
       "      <td>0.5417</td>\n",
       "      <td>0.5473</td>\n",
       "      <td>0.6920</td>\n",
       "      <td>0.6922</td>\n",
       "      <td>0.6921</td>\n",
       "      <td>0.5525</td>\n",
       "      <td>0.5288</td>\n",
       "      <td>0.5398</td>\n",
       "      <td>0.8996</td>\n",
       "      <td>0.9117</td>\n",
       "      <td>0.9057</td>\n",
       "    </tr>\n",
       "    <tr>\n",
       "      <th>base-lr: 5e-05, max-lr 0.0002,</th>\n",
       "      <td>0.5537</td>\n",
       "      <td>0.5466</td>\n",
       "      <td>0.5507</td>\n",
       "      <td>0.6920</td>\n",
       "      <td>0.6921</td>\n",
       "      <td>0.6920</td>\n",
       "      <td>0.5377</td>\n",
       "      <td>0.5161</td>\n",
       "      <td>0.5297</td>\n",
       "      <td>0.7974</td>\n",
       "      <td>0.8126</td>\n",
       "      <td>0.8037</td>\n",
       "    </tr>\n",
       "    <tr>\n",
       "      <th>base-lr: 1e-05, max-lr 0.0002,</th>\n",
       "      <td>0.5487</td>\n",
       "      <td>0.5373</td>\n",
       "      <td>0.5439</td>\n",
       "      <td>0.6920</td>\n",
       "      <td>0.6922</td>\n",
       "      <td>0.6921</td>\n",
       "      <td>0.5535</td>\n",
       "      <td>0.5274</td>\n",
       "      <td>0.5439</td>\n",
       "      <td>0.8832</td>\n",
       "      <td>0.8959</td>\n",
       "      <td>0.8904</td>\n",
       "    </tr>\n",
       "    <tr>\n",
       "      <th>base-lr: 5e-05, max-lr 0.0001,</th>\n",
       "      <td>0.5486</td>\n",
       "      <td>0.5412</td>\n",
       "      <td>0.5456</td>\n",
       "      <td>0.6920</td>\n",
       "      <td>0.6921</td>\n",
       "      <td>0.6920</td>\n",
       "      <td>0.5289</td>\n",
       "      <td>0.5085</td>\n",
       "      <td>0.5216</td>\n",
       "      <td>0.8004</td>\n",
       "      <td>0.8147</td>\n",
       "      <td>0.8071</td>\n",
       "    </tr>\n",
       "    <tr>\n",
       "      <th>base-lr: 1e-06, max-lr 0.0002,</th>\n",
       "      <td>0.5303</td>\n",
       "      <td>0.5074</td>\n",
       "      <td>0.5174</td>\n",
       "      <td>0.6920</td>\n",
       "      <td>0.6923</td>\n",
       "      <td>0.6921</td>\n",
       "      <td>0.5239</td>\n",
       "      <td>0.4992</td>\n",
       "      <td>0.5100</td>\n",
       "      <td>0.9856</td>\n",
       "      <td>0.9852</td>\n",
       "      <td>0.9866</td>\n",
       "    </tr>\n",
       "    <tr>\n",
       "      <th>base-lr: 1e-06, max-lr 0.0001,</th>\n",
       "      <td>0.5107</td>\n",
       "      <td>0.4872</td>\n",
       "      <td>0.4981</td>\n",
       "      <td>0.6921</td>\n",
       "      <td>0.6925</td>\n",
       "      <td>0.6923</td>\n",
       "      <td>0.5107</td>\n",
       "      <td>0.4869</td>\n",
       "      <td>0.4981</td>\n",
       "      <td>1.0000</td>\n",
       "      <td>1.0000</td>\n",
       "      <td>1.0000</td>\n",
       "    </tr>\n",
       "  </tbody>\n",
       "</table>\n",
       "</div>"
      ],
      "text/plain": [
       "                                test acc  valid acc  train acc  test loss  \\\n",
       "base-lr: 1e-06, max-lr 0.0004,    0.5675     0.5586     0.5625     0.6920   \n",
       "base-lr: 1e-05, max-lr 0.0004,    0.5546     0.5497     0.5529     0.6920   \n",
       "base-lr: 5e-05, max-lr 0.0004,    0.5546     0.5521     0.5545     0.6920   \n",
       "base-lr: 1e-05, max-lr 0.0001,    0.5541     0.5417     0.5473     0.6920   \n",
       "base-lr: 5e-05, max-lr 0.0002,    0.5537     0.5466     0.5507     0.6920   \n",
       "base-lr: 1e-05, max-lr 0.0002,    0.5487     0.5373     0.5439     0.6920   \n",
       "base-lr: 5e-05, max-lr 0.0001,    0.5486     0.5412     0.5456     0.6920   \n",
       "base-lr: 1e-06, max-lr 0.0002,    0.5303     0.5074     0.5174     0.6920   \n",
       "base-lr: 1e-06, max-lr 0.0001,    0.5107     0.4872     0.4981     0.6921   \n",
       "\n",
       "                                valid loss  train loss  test prec  valid prec  \\\n",
       "base-lr: 1e-06, max-lr 0.0004,      0.6922      0.6921     0.5653      0.5417   \n",
       "base-lr: 1e-05, max-lr 0.0004,      0.6921      0.6920     0.5318      0.5119   \n",
       "base-lr: 5e-05, max-lr 0.0004,      0.6920      0.6920     0.5364      0.5188   \n",
       "base-lr: 1e-05, max-lr 0.0001,      0.6922      0.6921     0.5525      0.5288   \n",
       "base-lr: 5e-05, max-lr 0.0002,      0.6921      0.6920     0.5377      0.5161   \n",
       "base-lr: 1e-05, max-lr 0.0002,      0.6922      0.6921     0.5535      0.5274   \n",
       "base-lr: 5e-05, max-lr 0.0001,      0.6921      0.6920     0.5289      0.5085   \n",
       "base-lr: 1e-06, max-lr 0.0002,      0.6923      0.6921     0.5239      0.4992   \n",
       "base-lr: 1e-06, max-lr 0.0001,      0.6925      0.6923     0.5107      0.4869   \n",
       "\n",
       "                                train prec  test rec  valid rec  train rec  \n",
       "base-lr: 1e-06, max-lr 0.0004,      0.5526    0.8687     0.8845     0.8767  \n",
       "base-lr: 1e-05, max-lr 0.0004,      0.5253    0.7685     0.7851     0.7763  \n",
       "base-lr: 5e-05, max-lr 0.0004,      0.5368    0.7245     0.7434     0.7326  \n",
       "base-lr: 1e-05, max-lr 0.0001,      0.5398    0.8996     0.9117     0.9057  \n",
       "base-lr: 5e-05, max-lr 0.0002,      0.5297    0.7974     0.8126     0.8037  \n",
       "base-lr: 1e-05, max-lr 0.0002,      0.5439    0.8832     0.8959     0.8904  \n",
       "base-lr: 5e-05, max-lr 0.0001,      0.5216    0.8004     0.8147     0.8071  \n",
       "base-lr: 1e-06, max-lr 0.0002,      0.5100    0.9856     0.9852     0.9866  \n",
       "base-lr: 1e-06, max-lr 0.0001,      0.4981    1.0000     1.0000     1.0000  "
      ]
     },
     "execution_count": 12,
     "metadata": {},
     "output_type": "execute_result"
    }
   ],
   "source": [
    "titel = model_details[0][:47]\n",
    "mean_test_acc = []\n",
    "mean_valid_acc = []\n",
    "mean_train_acc = []\n",
    "mean_test_loss = []\n",
    "mean_valid_loss = []\n",
    "mean_train_loss = []\n",
    "mean_test_prec = []\n",
    "mean_valid_prec = []\n",
    "mean_train_prec = []\n",
    "mean_test_rec = []\n",
    "mean_valid_rec = []\n",
    "mean_train_rec = []\n",
    "model_list = []\n",
    "a = len(test_acc_list)\n",
    "for i in range(9):\n",
    "    tals = test_acc_list[i:(i+1)*5]\n",
    "    vals = valid_acc_list[i:(i+1)*5]\n",
    "    rals = train_acc_list[i:(i+1)*5]\n",
    "    tlls = test_loss_list[i:(i+1)*5]\n",
    "    vlls = valid_loss_list[i:(i+1)*5]\n",
    "    rlls = train_loss_list[i:(i+1)*5]\n",
    "    tpls = test_prec_list[i:(i+1)*5]\n",
    "    vpls = valid_prec_list[i:(i+1)*5]\n",
    "    rpls = train_prec_list[i:(i+1)*5]\n",
    "    trls = test_rec_list[i:(i+1)*5]\n",
    "    vrls = valid_rec_list[i:(i+1)*5]\n",
    "    rrls = train_rec_list[i:(i+1)*5]\n",
    "    tmean = round(sum(tals)/len(tals),4)\n",
    "    vmean = round(sum(vals)/len(vals),4)\n",
    "    rmean = round(sum(rals)/len(rals),4)\n",
    "    ltmean = round(sum(tlls)/len(tals),4)\n",
    "    lvmean = round(sum(vlls)/len(vals),4)\n",
    "    lrmean = round(sum(rlls)/len(rals),4)\n",
    "    ptmean = round(sum(tpls)/len(tals),4)\n",
    "    pvmean = round(sum(vpls)/len(vals),4)\n",
    "    prmean = round(sum(rpls)/len(rals),4)\n",
    "    rtmean = round(sum(trls)/len(tals),4)\n",
    "    rvmean = round(sum(vrls)/len(vals),4)\n",
    "    rrmean = round(sum(rrls)/len(rals),4)\n",
    "    mean_test_acc.append(tmean)\n",
    "    mean_valid_acc.append(vmean)\n",
    "    mean_train_acc.append(rmean)\n",
    "    mean_test_loss.append(ltmean)\n",
    "    mean_valid_loss.append(lvmean)\n",
    "    mean_train_loss.append(lrmean)\n",
    "    mean_test_prec.append(ptmean)\n",
    "    mean_valid_prec.append(pvmean)\n",
    "    mean_train_prec.append(prmean)\n",
    "    mean_test_rec.append(rtmean)\n",
    "    mean_valid_rec.append(rvmean)\n",
    "    mean_train_rec.append(rrmean)\n",
    "    model_list.append(model_details[i*5][49:79])\n",
    "columns = ['test acc', 'valid acc', 'train acc', 'test loss', 'valid loss', 'train loss', 'test prec', \\\n",
    "           'valid prec', 'train prec', 'test rec', 'valid rec', 'train rec']\n",
    "data = np.array((mean_test_acc, mean_valid_acc, mean_train_acc, mean_test_loss, mean_valid_loss, mean_train_loss,\\\n",
    "                mean_test_prec, mean_valid_prec, mean_train_prec, mean_test_rec, mean_valid_rec, mean_train_rec))\n",
    "results = pd.DataFrame(data = data, columns = model_list, index = columns)\n",
    "lr_overview = pd.DataFrame(data = results.transpose(), columns = columns, index = model_list)\n",
    "#lr_overview\n",
    "overviewSorted = lr_overview.sort_values(by=['test acc'], ascending = False)\n",
    "overviewSorted"
   ]
  },
  {
   "cell_type": "code",
   "execution_count": 13,
   "metadata": {},
   "outputs": [],
   "source": [
    "blr = 0.000001\n",
    "mlr = 0.0004"
   ]
  },
  {
   "cell_type": "code",
   "execution_count": 14,
   "metadata": {},
   "outputs": [
    {
     "data": {
      "text/plain": [
       "'AfterTuningLR_modelOverview_IncResNetV2_bs-64_triangular_sz-420_None_All_48epochs'"
      ]
     },
     "execution_count": 14,
     "metadata": {},
     "output_type": "execute_result"
    }
   ],
   "source": [
    "os.chdir(code_dir + '/Excel')\n",
    "savename = ('AfterTuningLR_modelOverview_' + str(modelname) + '_bs-' + str(batch_size) + '_' + str(mode) + '_sz-' \n",
    "            + str(step_size) + '_' + str(weights) + '_' + str(trainable_layers) + '_' + str(epochs) + 'epochs')\n",
    "savename"
   ]
  },
  {
   "cell_type": "code",
   "execution_count": 15,
   "metadata": {},
   "outputs": [],
   "source": [
    "overviewSorted.to_csv(savename)"
   ]
  },
  {
   "cell_type": "code",
   "execution_count": null,
   "metadata": {},
   "outputs": [],
   "source": []
  },
  {
   "cell_type": "code",
   "execution_count": 16,
   "metadata": {},
   "outputs": [
    {
     "data": {
      "image/png": "[encoded data removed]",
      "text/plain": [
       "<matplotlib.figure.Figure at 0x7f7a773d3ed0>"
      ]
     },
     "metadata": {},
     "output_type": "display_data"
    }
   ],
   "source": [
    "import seaborn as sns\n",
    "sns.set()\n",
    "heatmap = sns.heatmap(results.iloc[:3,:].transpose(), annot=True, fmt = 'f')"
   ]
  },
  {
   "cell_type": "code",
   "execution_count": 17,
   "metadata": {},
   "outputs": [
    {
     "data": {
      "text/plain": [
       "[<matplotlib.lines.Line2D at 0x7f7a76c64690>]"
      ]
     },
     "execution_count": 17,
     "metadata": {},
     "output_type": "execute_result"
    },
    {
     "data": {
      "image/png": "[encoded data removed]",
      "text/plain": [
       "<matplotlib.figure.Figure at 0x7f7a76d5bf50>"
      ]
     },
     "metadata": {},
     "output_type": "display_data"
    }
   ],
   "source": [
    "%matplotlib inline\n",
    "\n",
    "f, (ax1, ax2) = plt.subplots(2, 1, sharex='col', sharey='row')\n",
    "ax1.plot(mean_test_acc, color = 'r')\n",
    "ax1.axis([0, 8, 0.5, 1])\n",
    "ax1.set_title('Close up')\n",
    "ax1.plot(mean_valid_acc)\n",
    "ax1.plot(mean_train_acc, color = 'g')\n",
    "ax2.set_title('Zoom')\n",
    "ax2.plot(mean_test_acc, color = 'r')\n",
    "ax2.axis([0, 8, 0.7, 0.8])\n",
    "ax2.plot(mean_valid_acc)\n",
    "ax2.plot(mean_train_acc, color = 'g')"
   ]
  },
  {
   "cell_type": "code",
   "execution_count": 18,
   "metadata": {},
   "outputs": [],
   "source": [
    "from IPython.core.interactiveshell import InteractiveShell\n",
    "InteractiveShell.ast_node_interactivity = \"all\""
   ]
  },
  {
   "cell_type": "code",
   "execution_count": 26,
   "metadata": {},
   "outputs": [],
   "source": [
    "stepsizes128 = [157, 210, 262]\n",
    "stepsizes64 = [315, 420,525]\n",
    "batch_sizes = [64, 128]\n",
    "modes = ['triangular', 'triangular2']\n",
    "rep = 1"
   ]
  },
  {
   "cell_type": "code",
   "execution_count": 27,
   "metadata": {
    "scrolled": true
   },
   "outputs": [],
   "source": [
    "def hp_tuner(base_lr = blr, max_lr = mlr, rep = 5):\n",
    "    start_time = time()  \n",
    "    global test_acc_l\n",
    "    global valid_acc_l\n",
    "    global train_acc_l\n",
    "    global test_loss_l\n",
    "    global valid_loss_l\n",
    "    global train_loss_l\n",
    "    global test_prec_l\n",
    "    global valid_prec_l\n",
    "    global train_prec_l\n",
    "    global test_rec_l\n",
    "    global valid_rec_l\n",
    "    global train_rec_l\n",
    "    global model_det\n",
    "    model_det = []\n",
    "    test_acc_l = []\n",
    "    valid_acc_l = []\n",
    "    train_acc_l = []\n",
    "    test_loss_l = []\n",
    "    valid_loss_l = []\n",
    "    train_loss_l = []\n",
    "    test_prec_l = []\n",
    "    valid_prec_l = []\n",
    "    train_prec_l = []\n",
    "    test_rec_l = []\n",
    "    valid_rec_l = []\n",
    "    train_rec_l = []\n",
    "    for bs in batch_sizes:\n",
    "        if (bs == 64):\n",
    "            stepsizes = stepsizes64\n",
    "        if (bs ==128):\n",
    "            stepsizes = stepsizes128\n",
    "        for sz in stepsizes: \n",
    "            for md in modes:\n",
    "                i = 0\n",
    "                mid_time = time()\n",
    "                while (i < rep):\n",
    "                    compileModel()\n",
    "                    times = i\n",
    "                    if (i == 0):\n",
    "                        train_Model(times = times, epochs = 48, base_lr = base_lr, max_lr = max_lr, verbose = 0,\n",
    "                                    batch_size = bs, stepsize = sz, mode = md, use_tensorboard = True)\n",
    "                    else:\n",
    "                        train_Model(times = times, epochs = 48, base_lr = base_lr, max_lr = max_lr, verbose = 0, \n",
    "                                    batch_size = bs, stepsize = sz, mode = md, use_tensorboard = False)\n",
    "                    valid_metrics = Final_model.evaluate(valid_images, valid_labels)\n",
    "                    test_metrics = Final_model.evaluate(test_images, test_labels)\n",
    "                    train_metrics = Final_model.evaluate(train_images, train_labels)\n",
    "                    \n",
    "                    train_acc = train_metrics[1]\n",
    "                    valid_acc = valid_metrics[1]\n",
    "                    test_acc = test_metrics[1]\n",
    "                    train_loss = train_metrics[0]\n",
    "                    valid_loss = valid_metrics[0]\n",
    "                    test_loss = test_metrics[0]\n",
    "                    train_prec = train_metrics[2]\n",
    "                    valid_prec = valid_metrics[2]\n",
    "                    test_prec = test_metrics[2]\n",
    "                    train_rec = train_metrics[3]\n",
    "                    valid_rec = valid_metrics[3]\n",
    "                    test_rec = test_metrics[3]                                \n",
    "                    test_acc_l.append(test_acc)\n",
    "                    valid_acc_l.append(valid_acc)\n",
    "                    train_acc_l.append(train_acc)\n",
    "                    test_loss_l.append(test_loss)\n",
    "                    valid_loss_l.append(valid_loss)\n",
    "                    train_loss_l.append(train_loss)\n",
    "                    test_prec_l.append(test_prec)\n",
    "                    valid_prec_l.append(valid_prec)\n",
    "                    train_prec_l.append(train_prec)\n",
    "                    test_rec_l.append(test_rec)\n",
    "                    valid_rec_l.append(valid_rec)\n",
    "                    train_rec_l.append(train_rec)\n",
    "                    model_det.append(name)\n",
    "    ### training the same model for more epochs\n",
    "                    if (i == 0):\n",
    "                        train_Model(times = times, epochs = 48, base_lr = base_lr, max_lr = max_lr, verbose = 0,\n",
    "                                    batch_size = bs, stepsize = sz, mode = md, use_tensorboard = True)\n",
    "                    else:\n",
    "                        train_Model(times = times, epochs = 48, base_lr = base_lr, max_lr = max_lr, verbose = 0, \n",
    "                                    batch_size = bs, stepsize = sz, mode = md, use_tensorboard = False)\n",
    "                    valid_metrics = Final_model.evaluate(valid_images, valid_labels)\n",
    "                    test_metrics = Final_model.evaluate(test_images, test_labels)\n",
    "                    train_metrics = Final_model.evaluate(train_images, train_labels)\n",
    "                    \n",
    "                    train_acc = train_metrics[1]\n",
    "                    valid_acc = valid_metrics[1]\n",
    "                    test_acc = test_metrics[1]\n",
    "                    train_loss = train_metrics[0]\n",
    "                    valid_loss = valid_metrics[0]\n",
    "                    test_loss = test_metrics[0]\n",
    "                    train_prec = train_metrics[2]\n",
    "                    valid_prec = valid_metrics[2]\n",
    "                    test_prec = test_metrics[2]\n",
    "                    train_rec = train_metrics[3]\n",
    "                    valid_rec = valid_metrics[3]\n",
    "                    test_rec = test_metrics[3]                                \n",
    "                    test_acc_l.append(test_acc)\n",
    "                    valid_acc_l.append(valid_acc)\n",
    "                    train_acc_l.append(train_acc)\n",
    "                    test_loss_l.append(test_loss)\n",
    "                    valid_loss_l.append(valid_loss)\n",
    "                    train_loss_l.append(train_loss)\n",
    "                    test_prec_l.append(test_prec)\n",
    "                    valid_prec_l.append(valid_prec)\n",
    "                    train_prec_l.append(train_prec)\n",
    "                    test_rec_l.append(test_rec)\n",
    "                    valid_rec_l.append(valid_rec)\n",
    "                    train_rec_l.append(train_rec)\n",
    "                    name2 = name + '_x2'\n",
    "                    model_det.append(name2)\n",
    "                    print(log_dir)\n",
    "                    i += 1\n",
    "                mid_end_time = time()\n",
    "                mid_time_dif = mid_end_time - mid_time\n",
    "                print('Time usage: ' + str(timedelta(seconds=int(round(mid_time_dif)))) + ' minutes')\n",
    "    end_time = time()\n",
    "    time_dif = end_time - start_time\n",
    "    print('Time usage: ' + str(timedelta(seconds=int(round(time_dif)))) + ' minutes')"
   ]
  },
  {
   "cell_type": "code",
   "execution_count": 28,
   "metadata": {},
   "outputs": [
    {
     "name": "stdout",
     "output_type": "stream",
     "text": [
      " - Model specifics:\tbatch size: 64, mode: triangular, stepsize: 315, base-lr: 1e-06, max-lr 0.0001, *0\n"
     ]
    },
    {
     "name": "stderr",
     "output_type": "stream",
     "text": [
      "/home/rick/.conda/envs/hannah_z/lib/python2.7/site-packages/keras/callbacks.py:120: UserWarning: Method on_batch_end() is slow compared to the batch update (0.153100). Check your callbacks.\n",
      "  % delta_t_median)\n"
     ]
    },
    {
     "name": "stdout",
     "output_type": "stream",
     "text": [
      "Time usage: 0:03:32 minutes\n",
      "374/374 [==============================] - 1s 2ms/step\n",
      "934/934 [==============================] - 2s 2ms/step\n",
      "3357/3357 [==============================] - 6s 2ms/step\n",
      " - Model specifics:\tbatch size: 64, mode: triangular, stepsize: 315, base-lr: 1e-06, max-lr 0.0001, *0\n",
      "Time usage: 0:03:22 minutes\n",
      "374/374 [==============================] - 1s 2ms/step\n",
      "934/934 [==============================] - 2s 2ms/step\n",
      "3357/3357 [==============================] - 6s 2ms/step\n",
      "/home/rick/Documents/HannahZ/Code/logs\n",
      " - Model specifics:\tbatch size: 64, mode: triangular, stepsize: 315, base-lr: 1e-06, max-lr 0.0001, *1\n"
     ]
    },
    {
     "name": "stderr",
     "output_type": "stream",
     "text": [
      "/home/rick/.conda/envs/hannah_z/lib/python2.7/site-packages/keras/callbacks.py:120: UserWarning: Method on_batch_end() is slow compared to the batch update (0.151812). Check your callbacks.\n",
      "  % delta_t_median)\n"
     ]
    },
    {
     "name": "stdout",
     "output_type": "stream",
     "text": [
      "Time usage: 0:03:36 minutes\n",
      "374/374 [==============================] - 1s 2ms/step\n",
      "934/934 [==============================] - 2s 2ms/step\n",
      "3357/3357 [==============================] - 7s 2ms/step\n",
      " - Model specifics:\tbatch size: 64, mode: triangular, stepsize: 315, base-lr: 1e-06, max-lr 0.0001, *1\n",
      "Time usage: 0:03:25 minutes\n",
      "374/374 [==============================] - 1s 2ms/step\n",
      "934/934 [==============================] - 2s 2ms/step\n",
      "3357/3357 [==============================] - 7s 2ms/step\n",
      "/home/rick/Documents/HannahZ/Code/logs\n",
      " - Model specifics:\tbatch size: 64, mode: triangular, stepsize: 315, base-lr: 1e-06, max-lr 0.0001, *2\n"
     ]
    },
    {
     "name": "stderr",
     "output_type": "stream",
     "text": [
      "/home/rick/.conda/envs/hannah_z/lib/python2.7/site-packages/keras/callbacks.py:120: UserWarning: Method on_batch_end() is slow compared to the batch update (0.148189). Check your callbacks.\n",
      "  % delta_t_median)\n"
     ]
    },
    {
     "name": "stdout",
     "output_type": "stream",
     "text": [
      "Time usage: 0:03:32 minutes\n",
      "374/374 [==============================] - 1s 2ms/step\n",
      "934/934 [==============================] - 2s 2ms/step\n",
      "3357/3357 [==============================] - 6s 2ms/step\n",
      " - Model specifics:\tbatch size: 64, mode: triangular, stepsize: 315, base-lr: 1e-06, max-lr 0.0001, *2\n",
      "Time usage: 0:03:22 minutes\n",
      "374/374 [==============================] - 1s 2ms/step\n",
      "934/934 [==============================] - 2s 2ms/step\n",
      "3357/3357 [==============================] - 6s 2ms/step\n",
      "/home/rick/Documents/HannahZ/Code/logs\n",
      " - Model specifics:\tbatch size: 64, mode: triangular, stepsize: 315, base-lr: 1e-06, max-lr 0.0001, *3\n"
     ]
    },
    {
     "name": "stderr",
     "output_type": "stream",
     "text": [
      "/home/rick/.conda/envs/hannah_z/lib/python2.7/site-packages/keras/callbacks.py:120: UserWarning: Method on_batch_end() is slow compared to the batch update (0.146180). Check your callbacks.\n",
      "  % delta_t_median)\n"
     ]
    },
    {
     "name": "stdout",
     "output_type": "stream",
     "text": [
      "Time usage: 0:03:34 minutes\n",
      "374/374 [==============================] - 1s 2ms/step\n",
      "934/934 [==============================] - 2s 2ms/step\n",
      "3357/3357 [==============================] - 7s 2ms/step\n",
      " - Model specifics:\tbatch size: 64, mode: triangular, stepsize: 315, base-lr: 1e-06, max-lr 0.0001, *3\n",
      "Time usage: 0:03:22 minutes\n",
      "374/374 [==============================] - 1s 2ms/step\n",
      "934/934 [==============================] - 2s 2ms/step\n",
      "3357/3357 [==============================] - 7s 2ms/step\n",
      "/home/rick/Documents/HannahZ/Code/logs\n",
      " - Model specifics:\tbatch size: 64, mode: triangular, stepsize: 315, base-lr: 1e-06, max-lr 0.0001, *4\n"
     ]
    },
    {
     "name": "stderr",
     "output_type": "stream",
     "text": [
      "/home/rick/.conda/envs/hannah_z/lib/python2.7/site-packages/keras/callbacks.py:120: UserWarning: Method on_batch_end() is slow compared to the batch update (0.168385). Check your callbacks.\n",
      "  % delta_t_median)\n"
     ]
    },
    {
     "name": "stdout",
     "output_type": "stream",
     "text": [
      "Time usage: 0:03:37 minutes\n",
      "374/374 [==============================] - 1s 2ms/step\n",
      "934/934 [==============================] - 2s 2ms/step\n",
      "3357/3357 [==============================] - 7s 2ms/step\n",
      " - Model specifics:\tbatch size: 64, mode: triangular, stepsize: 315, base-lr: 1e-06, max-lr 0.0001, *4\n",
      "Time usage: 0:03:26 minutes\n",
      "374/374 [==============================] - 1s 2ms/step\n",
      "934/934 [==============================] - 2s 2ms/step\n",
      "3357/3357 [==============================] - 7s 2ms/step\n",
      "/home/rick/Documents/HannahZ/Code/logs\n",
      "Time usage: 0:36:21 minutes\n",
      " - Model specifics:\tbatch size: 64, mode: triangular2, stepsize: 315, base-lr: 1e-06, max-lr 0.0001, *0\n"
     ]
    },
    {
     "name": "stderr",
     "output_type": "stream",
     "text": [
      "/home/rick/.conda/envs/hannah_z/lib/python2.7/site-packages/keras/callbacks.py:120: UserWarning: Method on_batch_end() is slow compared to the batch update (0.138479). Check your callbacks.\n",
      "  % delta_t_median)\n"
     ]
    },
    {
     "name": "stdout",
     "output_type": "stream",
     "text": [
      "Time usage: 0:03:34 minutes\n",
      "374/374 [==============================] - 1s 2ms/step\n",
      "934/934 [==============================] - 2s 2ms/step\n",
      "3357/3357 [==============================] - 7s 2ms/step\n",
      " - Model specifics:\tbatch size: 64, mode: triangular2, stepsize: 315, base-lr: 1e-06, max-lr 0.0001, *0\n",
      "Time usage: 0:03:22 minutes\n",
      "374/374 [==============================] - 1s 2ms/step\n",
      "934/934 [==============================] - 2s 2ms/step\n",
      "3357/3357 [==============================] - 7s 2ms/step\n",
      "/home/rick/Documents/HannahZ/Code/logs\n",
      " - Model specifics:\tbatch size: 64, mode: triangular2, stepsize: 315, base-lr: 1e-06, max-lr 0.0001, *1\n"
     ]
    },
    {
     "name": "stderr",
     "output_type": "stream",
     "text": [
      "/home/rick/.conda/envs/hannah_z/lib/python2.7/site-packages/keras/callbacks.py:120: UserWarning: Method on_batch_end() is slow compared to the batch update (0.141676). Check your callbacks.\n",
      "  % delta_t_median)\n"
     ]
    },
    {
     "name": "stdout",
     "output_type": "stream",
     "text": [
      "Time usage: 0:03:35 minutes\n",
      "374/374 [==============================] - 1s 2ms/step\n",
      "934/934 [==============================] - 2s 2ms/step\n",
      "3357/3357 [==============================] - 7s 2ms/step\n",
      " - Model specifics:\tbatch size: 64, mode: triangular2, stepsize: 315, base-lr: 1e-06, max-lr 0.0001, *1\n",
      "Time usage: 0:03:24 minutes\n",
      "374/374 [==============================] - 1s 2ms/step\n",
      "934/934 [==============================] - 2s 2ms/step\n",
      "3357/3357 [==============================] - 7s 2ms/step\n",
      "/home/rick/Documents/HannahZ/Code/logs\n",
      " - Model specifics:\tbatch size: 64, mode: triangular2, stepsize: 315, base-lr: 1e-06, max-lr 0.0001, *2\n"
     ]
    },
    {
     "name": "stderr",
     "output_type": "stream",
     "text": [
      "/home/rick/.conda/envs/hannah_z/lib/python2.7/site-packages/keras/callbacks.py:120: UserWarning: Method on_batch_end() is slow compared to the batch update (0.146714). Check your callbacks.\n",
      "  % delta_t_median)\n"
     ]
    },
    {
     "name": "stdout",
     "output_type": "stream",
     "text": [
      "Time usage: 0:03:38 minutes\n",
      "374/374 [==============================] - 1s 2ms/step\n",
      "934/934 [==============================] - 2s 2ms/step\n",
      "3357/3357 [==============================] - 7s 2ms/step\n",
      " - Model specifics:\tbatch size: 64, mode: triangular2, stepsize: 315, base-lr: 1e-06, max-lr 0.0001, *2\n",
      "Time usage: 0:03:27 minutes\n",
      "374/374 [==============================] - 1s 2ms/step\n",
      "934/934 [==============================] - 2s 2ms/step\n",
      "3357/3357 [==============================] - 7s 2ms/step\n",
      "/home/rick/Documents/HannahZ/Code/logs\n",
      " - Model specifics:\tbatch size: 64, mode: triangular2, stepsize: 315, base-lr: 1e-06, max-lr 0.0001, *3\n"
     ]
    },
    {
     "name": "stderr",
     "output_type": "stream",
     "text": [
      "/home/rick/.conda/envs/hannah_z/lib/python2.7/site-packages/keras/callbacks.py:120: UserWarning: Method on_batch_end() is slow compared to the batch update (0.148964). Check your callbacks.\n",
      "  % delta_t_median)\n"
     ]
    },
    {
     "name": "stdout",
     "output_type": "stream",
     "text": [
      "Time usage: 0:03:36 minutes\n",
      "374/374 [==============================] - 1s 2ms/step\n",
      "934/934 [==============================] - 2s 2ms/step\n",
      "3357/3357 [==============================] - 6s 2ms/step\n",
      " - Model specifics:\tbatch size: 64, mode: triangular2, stepsize: 315, base-lr: 1e-06, max-lr 0.0001, *3\n",
      "Time usage: 0:03:26 minutes\n",
      "374/374 [==============================] - 1s 2ms/step\n",
      "934/934 [==============================] - 2s 2ms/step\n",
      "3357/3357 [==============================] - 7s 2ms/step\n",
      "/home/rick/Documents/HannahZ/Code/logs\n",
      " - Model specifics:\tbatch size: 64, mode: triangular2, stepsize: 315, base-lr: 1e-06, max-lr 0.0001, *4\n"
     ]
    },
    {
     "name": "stderr",
     "output_type": "stream",
     "text": [
      "/home/rick/.conda/envs/hannah_z/lib/python2.7/site-packages/keras/callbacks.py:120: UserWarning: Method on_batch_end() is slow compared to the batch update (0.147093). Check your callbacks.\n",
      "  % delta_t_median)\n"
     ]
    },
    {
     "name": "stdout",
     "output_type": "stream",
     "text": [
      "Time usage: 0:03:34 minutes\n",
      "374/374 [==============================] - 1s 2ms/step\n",
      "934/934 [==============================] - 2s 2ms/step\n",
      "3357/3357 [==============================] - 6s 2ms/step\n",
      " - Model specifics:\tbatch size: 64, mode: triangular2, stepsize: 315, base-lr: 1e-06, max-lr 0.0001, *4\n",
      "Time usage: 0:03:23 minutes\n",
      "374/374 [==============================] - 1s 2ms/step\n",
      "934/934 [==============================] - 2s 2ms/step\n",
      "3357/3357 [==============================] - 7s 2ms/step\n",
      "/home/rick/Documents/HannahZ/Code/logs\n",
      "Time usage: 0:36:33 minutes\n",
      " - Model specifics:\tbatch size: 64, mode: triangular, stepsize: 420, base-lr: 1e-06, max-lr 0.0001, *0\n"
     ]
    },
    {
     "name": "stderr",
     "output_type": "stream",
     "text": [
      "/home/rick/.conda/envs/hannah_z/lib/python2.7/site-packages/keras/callbacks.py:120: UserWarning: Method on_batch_end() is slow compared to the batch update (0.159675). Check your callbacks.\n",
      "  % delta_t_median)\n"
     ]
    },
    {
     "name": "stdout",
     "output_type": "stream",
     "text": [
      "Time usage: 0:03:37 minutes\n",
      "374/374 [==============================] - 1s 2ms/step\n",
      "934/934 [==============================] - 2s 2ms/step\n",
      "3357/3357 [==============================] - 7s 2ms/step\n",
      " - Model specifics:\tbatch size: 64, mode: triangular, stepsize: 420, base-lr: 1e-06, max-lr 0.0001, *0\n",
      "Time usage: 0:03:22 minutes\n",
      "374/374 [==============================] - 1s 2ms/step\n",
      "934/934 [==============================] - 2s 2ms/step\n",
      "3357/3357 [==============================] - 7s 2ms/step\n",
      "/home/rick/Documents/HannahZ/Code/logs\n",
      " - Model specifics:\tbatch size: 64, mode: triangular, stepsize: 420, base-lr: 1e-06, max-lr 0.0001, *1\n"
     ]
    },
    {
     "name": "stderr",
     "output_type": "stream",
     "text": [
      "/home/rick/.conda/envs/hannah_z/lib/python2.7/site-packages/keras/callbacks.py:120: UserWarning: Method on_batch_end() is slow compared to the batch update (0.146761). Check your callbacks.\n",
      "  % delta_t_median)\n"
     ]
    },
    {
     "name": "stdout",
     "output_type": "stream",
     "text": [
      "Time usage: 0:03:38 minutes\n",
      "374/374 [==============================] - 1s 2ms/step\n",
      "934/934 [==============================] - 2s 2ms/step\n",
      "3357/3357 [==============================] - 6s 2ms/step\n",
      " - Model specifics:\tbatch size: 64, mode: triangular, stepsize: 420, base-lr: 1e-06, max-lr 0.0001, *1\n",
      "Time usage: 0:03:26 minutes\n",
      "374/374 [==============================] - 1s 2ms/step\n",
      "934/934 [==============================] - 2s 2ms/step\n",
      "3357/3357 [==============================] - 7s 2ms/step\n",
      "/home/rick/Documents/HannahZ/Code/logs\n",
      " - Model specifics:\tbatch size: 64, mode: triangular, stepsize: 420, base-lr: 1e-06, max-lr 0.0001, *2\n"
     ]
    },
    {
     "name": "stderr",
     "output_type": "stream",
     "text": [
      "/home/rick/.conda/envs/hannah_z/lib/python2.7/site-packages/keras/callbacks.py:120: UserWarning: Method on_batch_end() is slow compared to the batch update (0.142426). Check your callbacks.\n",
      "  % delta_t_median)\n"
     ]
    },
    {
     "name": "stdout",
     "output_type": "stream",
     "text": [
      "Time usage: 0:03:38 minutes\n",
      "374/374 [==============================] - 1s 2ms/step\n",
      "934/934 [==============================] - 2s 2ms/step\n",
      "3357/3357 [==============================] - 7s 2ms/step\n",
      " - Model specifics:\tbatch size: 64, mode: triangular, stepsize: 420, base-lr: 1e-06, max-lr 0.0001, *2\n",
      "Time usage: 0:03:27 minutes\n",
      "374/374 [==============================] - 1s 2ms/step\n",
      "934/934 [==============================] - 2s 2ms/step\n",
      "3357/3357 [==============================] - 6s 2ms/step\n",
      "/home/rick/Documents/HannahZ/Code/logs\n",
      " - Model specifics:\tbatch size: 64, mode: triangular, stepsize: 420, base-lr: 1e-06, max-lr 0.0001, *3\n"
     ]
    },
    {
     "name": "stderr",
     "output_type": "stream",
     "text": [
      "/home/rick/.conda/envs/hannah_z/lib/python2.7/site-packages/keras/callbacks.py:120: UserWarning: Method on_batch_end() is slow compared to the batch update (0.150489). Check your callbacks.\n",
      "  % delta_t_median)\n"
     ]
    },
    {
     "name": "stdout",
     "output_type": "stream",
     "text": [
      "Time usage: 0:03:34 minutes\n",
      "374/374 [==============================] - 1s 2ms/step\n",
      "934/934 [==============================] - 2s 2ms/step\n",
      "3357/3357 [==============================] - 7s 2ms/step\n",
      " - Model specifics:\tbatch size: 64, mode: triangular, stepsize: 420, base-lr: 1e-06, max-lr 0.0001, *3\n",
      "Time usage: 0:03:24 minutes\n",
      "374/374 [==============================] - 1s 2ms/step\n",
      "934/934 [==============================] - 2s 2ms/step\n",
      "3357/3357 [==============================] - 7s 2ms/step\n",
      "/home/rick/Documents/HannahZ/Code/logs\n",
      " - Model specifics:\tbatch size: 64, mode: triangular, stepsize: 420, base-lr: 1e-06, max-lr 0.0001, *4\n"
     ]
    },
    {
     "name": "stderr",
     "output_type": "stream",
     "text": [
      "/home/rick/.conda/envs/hannah_z/lib/python2.7/site-packages/keras/callbacks.py:120: UserWarning: Method on_batch_end() is slow compared to the batch update (0.147365). Check your callbacks.\n",
      "  % delta_t_median)\n"
     ]
    },
    {
     "name": "stdout",
     "output_type": "stream",
     "text": [
      "Time usage: 0:03:37 minutes\n",
      "374/374 [==============================] - 1s 2ms/step\n",
      "934/934 [==============================] - 2s 2ms/step\n",
      "3357/3357 [==============================] - 7s 2ms/step\n",
      " - Model specifics:\tbatch size: 64, mode: triangular, stepsize: 420, base-lr: 1e-06, max-lr 0.0001, *4\n",
      "Time usage: 0:03:27 minutes\n",
      "374/374 [==============================] - 1s 2ms/step\n",
      "934/934 [==============================] - 2s 2ms/step\n",
      "3357/3357 [==============================] - 7s 2ms/step\n",
      "/home/rick/Documents/HannahZ/Code/logs\n",
      "Time usage: 0:36:45 minutes\n",
      " - Model specifics:\tbatch size: 64, mode: triangular2, stepsize: 420, base-lr: 1e-06, max-lr 0.0001, *0\n"
     ]
    },
    {
     "name": "stderr",
     "output_type": "stream",
     "text": [
      "/home/rick/.conda/envs/hannah_z/lib/python2.7/site-packages/keras/callbacks.py:120: UserWarning: Method on_batch_end() is slow compared to the batch update (0.150169). Check your callbacks.\n",
      "  % delta_t_median)\n"
     ]
    },
    {
     "name": "stdout",
     "output_type": "stream",
     "text": [
      "Time usage: 0:03:36 minutes\n",
      "374/374 [==============================] - 1s 2ms/step\n",
      "934/934 [==============================] - 2s 2ms/step\n",
      "3357/3357 [==============================] - 7s 2ms/step\n",
      " - Model specifics:\tbatch size: 64, mode: triangular2, stepsize: 420, base-lr: 1e-06, max-lr 0.0001, *0\n",
      "Time usage: 0:03:25 minutes\n",
      "374/374 [==============================] - 1s 2ms/step\n",
      "934/934 [==============================] - 2s 2ms/step\n",
      "3357/3357 [==============================] - 7s 2ms/step\n",
      "/home/rick/Documents/HannahZ/Code/logs\n",
      " - Model specifics:\tbatch size: 64, mode: triangular2, stepsize: 420, base-lr: 1e-06, max-lr 0.0001, *1\n"
     ]
    },
    {
     "name": "stderr",
     "output_type": "stream",
     "text": [
      "/home/rick/.conda/envs/hannah_z/lib/python2.7/site-packages/keras/callbacks.py:120: UserWarning: Method on_batch_end() is slow compared to the batch update (0.151690). Check your callbacks.\n",
      "  % delta_t_median)\n"
     ]
    },
    {
     "name": "stdout",
     "output_type": "stream",
     "text": [
      "Time usage: 0:03:36 minutes\n",
      "374/374 [==============================] - 1s 2ms/step\n",
      "934/934 [==============================] - 2s 2ms/step\n",
      "3357/3357 [==============================] - 7s 2ms/step\n",
      " - Model specifics:\tbatch size: 64, mode: triangular2, stepsize: 420, base-lr: 1e-06, max-lr 0.0001, *1\n",
      "Time usage: 0:03:25 minutes\n",
      "374/374 [==============================] - 1s 2ms/step\n",
      "934/934 [==============================] - 2s 2ms/step\n",
      "3357/3357 [==============================] - 7s 2ms/step\n",
      "/home/rick/Documents/HannahZ/Code/logs\n",
      " - Model specifics:\tbatch size: 64, mode: triangular2, stepsize: 420, base-lr: 1e-06, max-lr 0.0001, *2\n"
     ]
    },
    {
     "name": "stderr",
     "output_type": "stream",
     "text": [
      "/home/rick/.conda/envs/hannah_z/lib/python2.7/site-packages/keras/callbacks.py:120: UserWarning: Method on_batch_end() is slow compared to the batch update (0.146104). Check your callbacks.\n",
      "  % delta_t_median)\n"
     ]
    },
    {
     "name": "stdout",
     "output_type": "stream",
     "text": [
      "Time usage: 0:03:38 minutes\n",
      "374/374 [==============================] - 1s 2ms/step\n",
      "934/934 [==============================] - 2s 2ms/step\n",
      "3357/3357 [==============================] - 7s 2ms/step\n",
      " - Model specifics:\tbatch size: 64, mode: triangular2, stepsize: 420, base-lr: 1e-06, max-lr 0.0001, *2\n",
      "Time usage: 0:03:27 minutes\n",
      "374/374 [==============================] - 1s 2ms/step\n",
      "934/934 [==============================] - 2s 2ms/step\n",
      "3357/3357 [==============================] - 7s 2ms/step\n",
      "/home/rick/Documents/HannahZ/Code/logs\n",
      " - Model specifics:\tbatch size: 64, mode: triangular2, stepsize: 420, base-lr: 1e-06, max-lr 0.0001, *3\n"
     ]
    },
    {
     "name": "stderr",
     "output_type": "stream",
     "text": [
      "/home/rick/.conda/envs/hannah_z/lib/python2.7/site-packages/keras/callbacks.py:120: UserWarning: Method on_batch_end() is slow compared to the batch update (0.268391). Check your callbacks.\n",
      "  % delta_t_median)\n"
     ]
    },
    {
     "name": "stdout",
     "output_type": "stream",
     "text": [
      "Time usage: 0:03:42 minutes\n",
      "374/374 [==============================] - 1s 2ms/step\n",
      "934/934 [==============================] - 2s 2ms/step\n",
      "3357/3357 [==============================] - 7s 2ms/step\n",
      " - Model specifics:\tbatch size: 64, mode: triangular2, stepsize: 420, base-lr: 1e-06, max-lr 0.0001, *3\n",
      "Time usage: 0:03:28 minutes\n",
      "374/374 [==============================] - 1s 2ms/step\n",
      "934/934 [==============================] - 2s 2ms/step\n",
      "3357/3357 [==============================] - 7s 2ms/step\n",
      "/home/rick/Documents/HannahZ/Code/logs\n",
      " - Model specifics:\tbatch size: 64, mode: triangular2, stepsize: 420, base-lr: 1e-06, max-lr 0.0001, *4\n"
     ]
    },
    {
     "name": "stderr",
     "output_type": "stream",
     "text": [
      "/home/rick/.conda/envs/hannah_z/lib/python2.7/site-packages/keras/callbacks.py:120: UserWarning: Method on_batch_end() is slow compared to the batch update (0.208318). Check your callbacks.\n",
      "  % delta_t_median)\n"
     ]
    },
    {
     "name": "stdout",
     "output_type": "stream",
     "text": [
      "Time usage: 0:03:37 minutes\n",
      "374/374 [==============================] - 1s 2ms/step\n",
      "934/934 [==============================] - 2s 2ms/step\n",
      "3357/3357 [==============================] - 6s 2ms/step\n",
      " - Model specifics:\tbatch size: 64, mode: triangular2, stepsize: 420, base-lr: 1e-06, max-lr 0.0001, *4\n",
      "Time usage: 0:03:24 minutes\n",
      "374/374 [==============================] - 1s 2ms/step\n",
      "934/934 [==============================] - 2s 2ms/step\n",
      "3357/3357 [==============================] - 6s 2ms/step\n",
      "/home/rick/Documents/HannahZ/Code/logs\n",
      "Time usage: 0:36:54 minutes\n",
      " - Model specifics:\tbatch size: 64, mode: triangular, stepsize: 525, base-lr: 1e-06, max-lr 0.0001, *0\n"
     ]
    },
    {
     "name": "stderr",
     "output_type": "stream",
     "text": [
      "/home/rick/.conda/envs/hannah_z/lib/python2.7/site-packages/keras/callbacks.py:120: UserWarning: Method on_batch_end() is slow compared to the batch update (0.181908). Check your callbacks.\n",
      "  % delta_t_median)\n"
     ]
    },
    {
     "name": "stdout",
     "output_type": "stream",
     "text": [
      "Time usage: 0:03:40 minutes\n",
      "374/374 [==============================] - 1s 2ms/step\n",
      "934/934 [==============================] - 2s 2ms/step\n",
      "3357/3357 [==============================] - 6s 2ms/step\n",
      " - Model specifics:\tbatch size: 64, mode: triangular, stepsize: 525, base-lr: 1e-06, max-lr 0.0001, *0\n",
      "Time usage: 0:03:21 minutes\n",
      "374/374 [==============================] - 1s 2ms/step\n",
      "934/934 [==============================] - 2s 2ms/step\n",
      "3357/3357 [==============================] - 6s 2ms/step\n",
      "/home/rick/Documents/HannahZ/Code/logs\n",
      " - Model specifics:\tbatch size: 64, mode: triangular, stepsize: 525, base-lr: 1e-06, max-lr 0.0001, *1\n"
     ]
    },
    {
     "name": "stderr",
     "output_type": "stream",
     "text": [
      "/home/rick/.conda/envs/hannah_z/lib/python2.7/site-packages/keras/callbacks.py:120: UserWarning: Method on_batch_end() is slow compared to the batch update (0.180516). Check your callbacks.\n",
      "  % delta_t_median)\n"
     ]
    },
    {
     "name": "stdout",
     "output_type": "stream",
     "text": [
      "Time usage: 0:03:33 minutes\n",
      "374/374 [==============================] - 1s 2ms/step\n",
      "934/934 [==============================] - 2s 2ms/step\n",
      "3357/3357 [==============================] - 6s 2ms/step\n",
      " - Model specifics:\tbatch size: 64, mode: triangular, stepsize: 525, base-lr: 1e-06, max-lr 0.0001, *1\n",
      "Time usage: 0:03:21 minutes\n",
      "374/374 [==============================] - 1s 2ms/step\n",
      "934/934 [==============================] - 2s 2ms/step\n",
      "3357/3357 [==============================] - 6s 2ms/step\n",
      "/home/rick/Documents/HannahZ/Code/logs\n",
      " - Model specifics:\tbatch size: 64, mode: triangular, stepsize: 525, base-lr: 1e-06, max-lr 0.0001, *2\n"
     ]
    },
    {
     "name": "stderr",
     "output_type": "stream",
     "text": [
      "/home/rick/.conda/envs/hannah_z/lib/python2.7/site-packages/keras/callbacks.py:120: UserWarning: Method on_batch_end() is slow compared to the batch update (0.188255). Check your callbacks.\n",
      "  % delta_t_median)\n"
     ]
    },
    {
     "name": "stdout",
     "output_type": "stream",
     "text": [
      "Time usage: 0:03:38 minutes\n",
      "374/374 [==============================] - 1s 2ms/step\n",
      "934/934 [==============================] - 2s 2ms/step\n",
      "3357/3357 [==============================] - 6s 2ms/step\n",
      " - Model specifics:\tbatch size: 64, mode: triangular, stepsize: 525, base-lr: 1e-06, max-lr 0.0001, *2\n",
      "Time usage: 0:03:24 minutes\n",
      "374/374 [==============================] - 1s 2ms/step\n",
      "934/934 [==============================] - 2s 2ms/step\n",
      "3357/3357 [==============================] - 6s 2ms/step\n",
      "/home/rick/Documents/HannahZ/Code/logs\n",
      " - Model specifics:\tbatch size: 64, mode: triangular, stepsize: 525, base-lr: 1e-06, max-lr 0.0001, *3\n"
     ]
    },
    {
     "name": "stderr",
     "output_type": "stream",
     "text": [
      "/home/rick/.conda/envs/hannah_z/lib/python2.7/site-packages/keras/callbacks.py:120: UserWarning: Method on_batch_end() is slow compared to the batch update (0.177647). Check your callbacks.\n",
      "  % delta_t_median)\n"
     ]
    },
    {
     "name": "stdout",
     "output_type": "stream",
     "text": [
      "Time usage: 0:03:37 minutes\n",
      "374/374 [==============================] - 1s 2ms/step\n",
      "934/934 [==============================] - 2s 2ms/step\n",
      "3357/3357 [==============================] - 6s 2ms/step\n",
      " - Model specifics:\tbatch size: 64, mode: triangular, stepsize: 525, base-lr: 1e-06, max-lr 0.0001, *3\n",
      "Time usage: 0:03:21 minutes\n",
      "374/374 [==============================] - 1s 2ms/step\n",
      "934/934 [==============================] - 2s 2ms/step\n",
      "3357/3357 [==============================] - 6s 2ms/step\n",
      "/home/rick/Documents/HannahZ/Code/logs\n",
      " - Model specifics:\tbatch size: 64, mode: triangular, stepsize: 525, base-lr: 1e-06, max-lr 0.0001, *4\n"
     ]
    },
    {
     "name": "stderr",
     "output_type": "stream",
     "text": [
      "/home/rick/.conda/envs/hannah_z/lib/python2.7/site-packages/keras/callbacks.py:120: UserWarning: Method on_batch_end() is slow compared to the batch update (0.178694). Check your callbacks.\n",
      "  % delta_t_median)\n"
     ]
    },
    {
     "name": "stdout",
     "output_type": "stream",
     "text": [
      "Time usage: 0:03:33 minutes\n",
      "374/374 [==============================] - 1s 2ms/step\n",
      "934/934 [==============================] - 2s 2ms/step\n",
      "3357/3357 [==============================] - 6s 2ms/step\n",
      " - Model specifics:\tbatch size: 64, mode: triangular, stepsize: 525, base-lr: 1e-06, max-lr 0.0001, *4\n",
      "Time usage: 0:03:24 minutes\n",
      "374/374 [==============================] - 1s 2ms/step\n",
      "934/934 [==============================] - 2s 2ms/step\n",
      "3357/3357 [==============================] - 6s 2ms/step\n",
      "/home/rick/Documents/HannahZ/Code/logs\n",
      "Time usage: 0:36:20 minutes\n",
      " - Model specifics:\tbatch size: 64, mode: triangular2, stepsize: 525, base-lr: 1e-06, max-lr 0.0001, *0\n"
     ]
    },
    {
     "name": "stderr",
     "output_type": "stream",
     "text": [
      "/home/rick/.conda/envs/hannah_z/lib/python2.7/site-packages/keras/callbacks.py:120: UserWarning: Method on_batch_end() is slow compared to the batch update (0.197917). Check your callbacks.\n",
      "  % delta_t_median)\n"
     ]
    },
    {
     "name": "stdout",
     "output_type": "stream",
     "text": [
      "Time usage: 0:03:40 minutes\n",
      "374/374 [==============================] - 1s 2ms/step\n",
      "934/934 [==============================] - 2s 2ms/step\n",
      "3357/3357 [==============================] - 6s 2ms/step\n",
      " - Model specifics:\tbatch size: 64, mode: triangular2, stepsize: 525, base-lr: 1e-06, max-lr 0.0001, *0\n",
      "Time usage: 0:03:25 minutes\n",
      "374/374 [==============================] - 1s 2ms/step\n",
      "934/934 [==============================] - 2s 2ms/step\n",
      "3357/3357 [==============================] - 6s 2ms/step\n",
      "/home/rick/Documents/HannahZ/Code/logs\n",
      " - Model specifics:\tbatch size: 64, mode: triangular2, stepsize: 525, base-lr: 1e-06, max-lr 0.0001, *1\n"
     ]
    },
    {
     "name": "stderr",
     "output_type": "stream",
     "text": [
      "/home/rick/.conda/envs/hannah_z/lib/python2.7/site-packages/keras/callbacks.py:120: UserWarning: Method on_batch_end() is slow compared to the batch update (0.184788). Check your callbacks.\n",
      "  % delta_t_median)\n"
     ]
    },
    {
     "name": "stdout",
     "output_type": "stream",
     "text": [
      "Time usage: 0:03:37 minutes\n",
      "374/374 [==============================] - 1s 2ms/step\n",
      "934/934 [==============================] - 2s 2ms/step\n",
      "3357/3357 [==============================] - 6s 2ms/step\n",
      " - Model specifics:\tbatch size: 64, mode: triangular2, stepsize: 525, base-lr: 1e-06, max-lr 0.0001, *1\n",
      "Time usage: 0:03:24 minutes\n",
      "374/374 [==============================] - 1s 2ms/step\n",
      "934/934 [==============================] - 2s 2ms/step\n",
      "3357/3357 [==============================] - 6s 2ms/step\n",
      "/home/rick/Documents/HannahZ/Code/logs\n",
      " - Model specifics:\tbatch size: 64, mode: triangular2, stepsize: 525, base-lr: 1e-06, max-lr 0.0001, *2\n"
     ]
    },
    {
     "name": "stderr",
     "output_type": "stream",
     "text": [
      "/home/rick/.conda/envs/hannah_z/lib/python2.7/site-packages/keras/callbacks.py:120: UserWarning: Method on_batch_end() is slow compared to the batch update (0.186049). Check your callbacks.\n",
      "  % delta_t_median)\n"
     ]
    },
    {
     "name": "stdout",
     "output_type": "stream",
     "text": [
      "Time usage: 0:03:38 minutes\n",
      "374/374 [==============================] - 1s 2ms/step\n",
      "934/934 [==============================] - 2s 2ms/step\n",
      "3357/3357 [==============================] - 6s 2ms/step\n",
      " - Model specifics:\tbatch size: 64, mode: triangular2, stepsize: 525, base-lr: 1e-06, max-lr 0.0001, *2\n",
      "Time usage: 0:03:21 minutes\n",
      "374/374 [==============================] - 1s 2ms/step\n",
      "934/934 [==============================] - 2s 2ms/step\n",
      "3357/3357 [==============================] - 6s 2ms/step\n",
      "/home/rick/Documents/HannahZ/Code/logs\n",
      " - Model specifics:\tbatch size: 64, mode: triangular2, stepsize: 525, base-lr: 1e-06, max-lr 0.0001, *3\n"
     ]
    },
    {
     "name": "stderr",
     "output_type": "stream",
     "text": [
      "/home/rick/.conda/envs/hannah_z/lib/python2.7/site-packages/keras/callbacks.py:120: UserWarning: Method on_batch_end() is slow compared to the batch update (0.178529). Check your callbacks.\n",
      "  % delta_t_median)\n"
     ]
    },
    {
     "name": "stdout",
     "output_type": "stream",
     "text": [
      "Time usage: 0:03:33 minutes\n",
      "374/374 [==============================] - 1s 2ms/step\n",
      "934/934 [==============================] - 2s 2ms/step\n",
      "3357/3357 [==============================] - 6s 2ms/step\n",
      " - Model specifics:\tbatch size: 64, mode: triangular2, stepsize: 525, base-lr: 1e-06, max-lr 0.0001, *3\n",
      "Time usage: 0:03:21 minutes\n",
      "374/374 [==============================] - 1s 2ms/step\n",
      "934/934 [==============================] - 2s 2ms/step\n",
      "3357/3357 [==============================] - 6s 2ms/step\n",
      "/home/rick/Documents/HannahZ/Code/logs\n",
      " - Model specifics:\tbatch size: 64, mode: triangular2, stepsize: 525, base-lr: 1e-06, max-lr 0.0001, *4\n"
     ]
    },
    {
     "name": "stderr",
     "output_type": "stream",
     "text": [
      "/home/rick/.conda/envs/hannah_z/lib/python2.7/site-packages/keras/callbacks.py:120: UserWarning: Method on_batch_end() is slow compared to the batch update (0.177279). Check your callbacks.\n",
      "  % delta_t_median)\n"
     ]
    },
    {
     "name": "stdout",
     "output_type": "stream",
     "text": [
      "Time usage: 0:03:33 minutes\n",
      "374/374 [==============================] - 1s 2ms/step\n",
      "934/934 [==============================] - 2s 2ms/step\n",
      "3357/3357 [==============================] - 6s 2ms/step\n",
      " - Model specifics:\tbatch size: 64, mode: triangular2, stepsize: 525, base-lr: 1e-06, max-lr 0.0001, *4\n",
      "Time usage: 0:03:20 minutes\n",
      "374/374 [==============================] - 1s 2ms/step\n",
      "934/934 [==============================] - 2s 2ms/step\n",
      "3357/3357 [==============================] - 6s 2ms/step\n",
      "/home/rick/Documents/HannahZ/Code/logs\n",
      "Time usage: 0:36:21 minutes\n",
      " - Model specifics:\tbatch size: 128, mode: triangular, stepsize: 157, base-lr: 1e-06, max-lr 0.0001, *0\n"
     ]
    },
    {
     "name": "stderr",
     "output_type": "stream",
     "text": [
      "/home/rick/.conda/envs/hannah_z/lib/python2.7/site-packages/keras/callbacks.py:120: UserWarning: Method on_batch_end() is slow compared to the batch update (0.180415). Check your callbacks.\n",
      "  % delta_t_median)\n"
     ]
    },
    {
     "name": "stdout",
     "output_type": "stream",
     "text": [
      "Time usage: 0:02:37 minutes\n",
      "374/374 [==============================] - 1s 2ms/step\n",
      "934/934 [==============================] - 2s 2ms/step\n",
      "3357/3357 [==============================] - 6s 2ms/step\n",
      " - Model specifics:\tbatch size: 128, mode: triangular, stepsize: 157, base-lr: 1e-06, max-lr 0.0001, *0\n",
      "Time usage: 0:02:25 minutes\n",
      "374/374 [==============================] - 1s 2ms/step\n",
      "934/934 [==============================] - 2s 2ms/step\n",
      "3357/3357 [==============================] - 6s 2ms/step\n",
      "/home/rick/Documents/HannahZ/Code/logs\n",
      " - Model specifics:\tbatch size: 128, mode: triangular, stepsize: 157, base-lr: 1e-06, max-lr 0.0001, *1\n"
     ]
    },
    {
     "name": "stderr",
     "output_type": "stream",
     "text": [
      "/home/rick/.conda/envs/hannah_z/lib/python2.7/site-packages/keras/callbacks.py:120: UserWarning: Method on_batch_end() is slow compared to the batch update (0.183605). Check your callbacks.\n",
      "  % delta_t_median)\n"
     ]
    },
    {
     "name": "stdout",
     "output_type": "stream",
     "text": [
      "Time usage: 0:02:35 minutes\n",
      "374/374 [==============================] - 1s 2ms/step\n",
      "934/934 [==============================] - 2s 2ms/step\n",
      "3357/3357 [==============================] - 6s 2ms/step\n",
      " - Model specifics:\tbatch size: 128, mode: triangular, stepsize: 157, base-lr: 1e-06, max-lr 0.0001, *1\n",
      "Time usage: 0:02:23 minutes\n",
      "374/374 [==============================] - 1s 2ms/step\n",
      "934/934 [==============================] - 2s 2ms/step\n",
      "3357/3357 [==============================] - 6s 2ms/step\n",
      "/home/rick/Documents/HannahZ/Code/logs\n",
      " - Model specifics:\tbatch size: 128, mode: triangular, stepsize: 157, base-lr: 1e-06, max-lr 0.0001, *2\n"
     ]
    },
    {
     "name": "stderr",
     "output_type": "stream",
     "text": [
      "/home/rick/.conda/envs/hannah_z/lib/python2.7/site-packages/keras/callbacks.py:120: UserWarning: Method on_batch_end() is slow compared to the batch update (0.180849). Check your callbacks.\n",
      "  % delta_t_median)\n"
     ]
    },
    {
     "name": "stdout",
     "output_type": "stream",
     "text": [
      "Time usage: 0:02:35 minutes\n",
      "374/374 [==============================] - 1s 2ms/step\n",
      "934/934 [==============================] - 2s 2ms/step\n",
      "3357/3357 [==============================] - 6s 2ms/step\n",
      " - Model specifics:\tbatch size: 128, mode: triangular, stepsize: 157, base-lr: 1e-06, max-lr 0.0001, *2\n",
      "Time usage: 0:02:23 minutes\n",
      "374/374 [==============================] - 1s 2ms/step\n",
      "934/934 [==============================] - 2s 2ms/step\n",
      "3357/3357 [==============================] - 6s 2ms/step\n",
      "/home/rick/Documents/HannahZ/Code/logs\n",
      " - Model specifics:\tbatch size: 128, mode: triangular, stepsize: 157, base-lr: 1e-06, max-lr 0.0001, *3\n"
     ]
    },
    {
     "name": "stderr",
     "output_type": "stream",
     "text": [
      "/home/rick/.conda/envs/hannah_z/lib/python2.7/site-packages/keras/callbacks.py:120: UserWarning: Method on_batch_end() is slow compared to the batch update (0.176367). Check your callbacks.\n",
      "  % delta_t_median)\n"
     ]
    },
    {
     "name": "stdout",
     "output_type": "stream",
     "text": [
      "Time usage: 0:02:35 minutes\n",
      "374/374 [==============================] - 1s 2ms/step\n",
      "934/934 [==============================] - 2s 2ms/step\n",
      "3357/3357 [==============================] - 6s 2ms/step\n",
      " - Model specifics:\tbatch size: 128, mode: triangular, stepsize: 157, base-lr: 1e-06, max-lr 0.0001, *3\n",
      "Time usage: 0:02:23 minutes\n",
      "374/374 [==============================] - 1s 2ms/step\n",
      "934/934 [==============================] - 2s 2ms/step\n",
      "3357/3357 [==============================] - 6s 2ms/step\n",
      "/home/rick/Documents/HannahZ/Code/logs\n",
      " - Model specifics:\tbatch size: 128, mode: triangular, stepsize: 157, base-lr: 1e-06, max-lr 0.0001, *4\n"
     ]
    },
    {
     "name": "stderr",
     "output_type": "stream",
     "text": [
      "/home/rick/.conda/envs/hannah_z/lib/python2.7/site-packages/keras/callbacks.py:120: UserWarning: Method on_batch_end() is slow compared to the batch update (0.179264). Check your callbacks.\n",
      "  % delta_t_median)\n"
     ]
    },
    {
     "name": "stdout",
     "output_type": "stream",
     "text": [
      "Time usage: 0:02:36 minutes\n",
      "374/374 [==============================] - 1s 2ms/step\n",
      "934/934 [==============================] - 2s 2ms/step\n",
      "3357/3357 [==============================] - 6s 2ms/step\n",
      " - Model specifics:\tbatch size: 128, mode: triangular, stepsize: 157, base-lr: 1e-06, max-lr 0.0001, *4\n",
      "Time usage: 0:02:25 minutes\n",
      "374/374 [==============================] - 1s 2ms/step\n",
      "934/934 [==============================] - 2s 2ms/step\n",
      "3357/3357 [==============================] - 6s 2ms/step\n",
      "/home/rick/Documents/HannahZ/Code/logs\n",
      "Time usage: 0:26:27 minutes\n",
      " - Model specifics:\tbatch size: 128, mode: triangular2, stepsize: 157, base-lr: 1e-06, max-lr 0.0001, *0\n"
     ]
    },
    {
     "name": "stderr",
     "output_type": "stream",
     "text": [
      "/home/rick/.conda/envs/hannah_z/lib/python2.7/site-packages/keras/callbacks.py:120: UserWarning: Method on_batch_end() is slow compared to the batch update (0.179772). Check your callbacks.\n",
      "  % delta_t_median)\n"
     ]
    },
    {
     "name": "stdout",
     "output_type": "stream",
     "text": [
      "Time usage: 0:02:38 minutes\n",
      "374/374 [==============================] - 1s 2ms/step\n",
      "934/934 [==============================] - 2s 2ms/step\n",
      "3357/3357 [==============================] - 6s 2ms/step\n",
      " - Model specifics:\tbatch size: 128, mode: triangular2, stepsize: 157, base-lr: 1e-06, max-lr 0.0001, *0\n",
      "Time usage: 0:02:24 minutes\n",
      "374/374 [==============================] - 1s 2ms/step\n",
      "934/934 [==============================] - 2s 2ms/step\n",
      "3357/3357 [==============================] - 6s 2ms/step\n",
      "/home/rick/Documents/HannahZ/Code/logs\n",
      " - Model specifics:\tbatch size: 128, mode: triangular2, stepsize: 157, base-lr: 1e-06, max-lr 0.0001, *1\n"
     ]
    },
    {
     "name": "stderr",
     "output_type": "stream",
     "text": [
      "/home/rick/.conda/envs/hannah_z/lib/python2.7/site-packages/keras/callbacks.py:120: UserWarning: Method on_batch_end() is slow compared to the batch update (0.179588). Check your callbacks.\n",
      "  % delta_t_median)\n"
     ]
    },
    {
     "name": "stdout",
     "output_type": "stream",
     "text": [
      "Time usage: 0:02:36 minutes\n",
      "374/374 [==============================] - 1s 2ms/step\n",
      "934/934 [==============================] - 2s 2ms/step\n",
      "3357/3357 [==============================] - 6s 2ms/step\n",
      " - Model specifics:\tbatch size: 128, mode: triangular2, stepsize: 157, base-lr: 1e-06, max-lr 0.0001, *1\n",
      "Time usage: 0:02:23 minutes\n",
      "374/374 [==============================] - 1s 2ms/step\n",
      "934/934 [==============================] - 2s 2ms/step\n",
      "3357/3357 [==============================] - 6s 2ms/step\n",
      "/home/rick/Documents/HannahZ/Code/logs\n",
      " - Model specifics:\tbatch size: 128, mode: triangular2, stepsize: 157, base-lr: 1e-06, max-lr 0.0001, *2\n"
     ]
    },
    {
     "name": "stderr",
     "output_type": "stream",
     "text": [
      "/home/rick/.conda/envs/hannah_z/lib/python2.7/site-packages/keras/callbacks.py:120: UserWarning: Method on_batch_end() is slow compared to the batch update (0.181504). Check your callbacks.\n",
      "  % delta_t_median)\n"
     ]
    },
    {
     "name": "stdout",
     "output_type": "stream",
     "text": [
      "Time usage: 0:02:35 minutes\n",
      "374/374 [==============================] - 1s 2ms/step\n",
      "934/934 [==============================] - 2s 2ms/step\n",
      "3357/3357 [==============================] - 6s 2ms/step\n",
      " - Model specifics:\tbatch size: 128, mode: triangular2, stepsize: 157, base-lr: 1e-06, max-lr 0.0001, *2\n",
      "Time usage: 0:02:23 minutes\n",
      "374/374 [==============================] - 1s 2ms/step\n",
      "934/934 [==============================] - 2s 2ms/step\n",
      "3357/3357 [==============================] - 6s 2ms/step\n",
      "/home/rick/Documents/HannahZ/Code/logs\n",
      " - Model specifics:\tbatch size: 128, mode: triangular2, stepsize: 157, base-lr: 1e-06, max-lr 0.0001, *3\n"
     ]
    },
    {
     "name": "stderr",
     "output_type": "stream",
     "text": [
      "/home/rick/.conda/envs/hannah_z/lib/python2.7/site-packages/keras/callbacks.py:120: UserWarning: Method on_batch_end() is slow compared to the batch update (0.182878). Check your callbacks.\n",
      "  % delta_t_median)\n"
     ]
    },
    {
     "name": "stdout",
     "output_type": "stream",
     "text": [
      "Time usage: 0:02:37 minutes\n",
      "374/374 [==============================] - 1s 2ms/step\n",
      "934/934 [==============================] - 2s 2ms/step\n",
      "3357/3357 [==============================] - 6s 2ms/step\n",
      " - Model specifics:\tbatch size: 128, mode: triangular2, stepsize: 157, base-lr: 1e-06, max-lr 0.0001, *3\n",
      "Time usage: 0:02:23 minutes\n",
      "374/374 [==============================] - 1s 2ms/step\n",
      "934/934 [==============================] - 2s 2ms/step\n",
      "3357/3357 [==============================] - 6s 2ms/step\n",
      "/home/rick/Documents/HannahZ/Code/logs\n",
      " - Model specifics:\tbatch size: 128, mode: triangular2, stepsize: 157, base-lr: 1e-06, max-lr 0.0001, *4\n"
     ]
    },
    {
     "name": "stderr",
     "output_type": "stream",
     "text": [
      "/home/rick/.conda/envs/hannah_z/lib/python2.7/site-packages/keras/callbacks.py:120: UserWarning: Method on_batch_end() is slow compared to the batch update (0.181816). Check your callbacks.\n",
      "  % delta_t_median)\n"
     ]
    },
    {
     "name": "stdout",
     "output_type": "stream",
     "text": [
      "Time usage: 0:02:35 minutes\n",
      "374/374 [==============================] - 1s 2ms/step\n",
      "934/934 [==============================] - 2s 2ms/step\n",
      "3357/3357 [==============================] - 6s 2ms/step\n",
      " - Model specifics:\tbatch size: 128, mode: triangular2, stepsize: 157, base-lr: 1e-06, max-lr 0.0001, *4\n",
      "Time usage: 0:02:24 minutes\n",
      "374/374 [==============================] - 1s 2ms/step\n",
      "934/934 [==============================] - 2s 2ms/step\n",
      "3357/3357 [==============================] - 6s 2ms/step\n",
      "/home/rick/Documents/HannahZ/Code/logs\n",
      "Time usage: 0:26:27 minutes\n",
      " - Model specifics:\tbatch size: 128, mode: triangular, stepsize: 210, base-lr: 1e-06, max-lr 0.0001, *0\n"
     ]
    },
    {
     "name": "stderr",
     "output_type": "stream",
     "text": [
      "/home/rick/.conda/envs/hannah_z/lib/python2.7/site-packages/keras/callbacks.py:120: UserWarning: Method on_batch_end() is slow compared to the batch update (0.183775). Check your callbacks.\n",
      "  % delta_t_median)\n"
     ]
    },
    {
     "name": "stdout",
     "output_type": "stream",
     "text": [
      "Time usage: 0:02:40 minutes\n",
      "374/374 [==============================] - 1s 2ms/step\n",
      "934/934 [==============================] - 2s 2ms/step\n",
      "3357/3357 [==============================] - 6s 2ms/step\n",
      " - Model specifics:\tbatch size: 128, mode: triangular, stepsize: 210, base-lr: 1e-06, max-lr 0.0001, *0\n",
      "Time usage: 0:02:25 minutes\n",
      "374/374 [==============================] - 1s 2ms/step\n",
      "934/934 [==============================] - 2s 2ms/step\n",
      "3357/3357 [==============================] - 6s 2ms/step\n",
      "/home/rick/Documents/HannahZ/Code/logs\n",
      " - Model specifics:\tbatch size: 128, mode: triangular, stepsize: 210, base-lr: 1e-06, max-lr 0.0001, *1\n"
     ]
    },
    {
     "name": "stderr",
     "output_type": "stream",
     "text": [
      "/home/rick/.conda/envs/hannah_z/lib/python2.7/site-packages/keras/callbacks.py:120: UserWarning: Method on_batch_end() is slow compared to the batch update (0.186000). Check your callbacks.\n",
      "  % delta_t_median)\n"
     ]
    },
    {
     "name": "stdout",
     "output_type": "stream",
     "text": [
      "Time usage: 0:02:38 minutes\n",
      "374/374 [==============================] - 1s 2ms/step\n",
      "934/934 [==============================] - 2s 2ms/step\n",
      "3357/3357 [==============================] - 6s 2ms/step\n",
      " - Model specifics:\tbatch size: 128, mode: triangular, stepsize: 210, base-lr: 1e-06, max-lr 0.0001, *1\n",
      "Time usage: 0:02:27 minutes\n",
      "374/374 [==============================] - 1s 2ms/step\n",
      "934/934 [==============================] - 2s 2ms/step\n",
      "3357/3357 [==============================] - 6s 2ms/step\n",
      "/home/rick/Documents/HannahZ/Code/logs\n",
      " - Model specifics:\tbatch size: 128, mode: triangular, stepsize: 210, base-lr: 1e-06, max-lr 0.0001, *2\n"
     ]
    },
    {
     "name": "stderr",
     "output_type": "stream",
     "text": [
      "/home/rick/.conda/envs/hannah_z/lib/python2.7/site-packages/keras/callbacks.py:120: UserWarning: Method on_batch_end() is slow compared to the batch update (0.182974). Check your callbacks.\n",
      "  % delta_t_median)\n"
     ]
    },
    {
     "name": "stdout",
     "output_type": "stream",
     "text": [
      "Time usage: 0:02:36 minutes\n",
      "374/374 [==============================] - 1s 2ms/step\n",
      "934/934 [==============================] - 2s 2ms/step\n",
      "3357/3357 [==============================] - 6s 2ms/step\n",
      " - Model specifics:\tbatch size: 128, mode: triangular, stepsize: 210, base-lr: 1e-06, max-lr 0.0001, *2\n",
      "Time usage: 0:02:23 minutes\n",
      "374/374 [==============================] - 1s 2ms/step\n",
      "934/934 [==============================] - 2s 2ms/step\n",
      "3357/3357 [==============================] - 6s 2ms/step\n",
      "/home/rick/Documents/HannahZ/Code/logs\n",
      " - Model specifics:\tbatch size: 128, mode: triangular, stepsize: 210, base-lr: 1e-06, max-lr 0.0001, *3\n"
     ]
    },
    {
     "name": "stderr",
     "output_type": "stream",
     "text": [
      "/home/rick/.conda/envs/hannah_z/lib/python2.7/site-packages/keras/callbacks.py:120: UserWarning: Method on_batch_end() is slow compared to the batch update (0.185059). Check your callbacks.\n",
      "  % delta_t_median)\n"
     ]
    },
    {
     "name": "stdout",
     "output_type": "stream",
     "text": [
      "Time usage: 0:02:38 minutes\n",
      "374/374 [==============================] - 1s 2ms/step\n",
      "934/934 [==============================] - 2s 2ms/step\n",
      "3357/3357 [==============================] - 6s 2ms/step\n",
      " - Model specifics:\tbatch size: 128, mode: triangular, stepsize: 210, base-lr: 1e-06, max-lr 0.0001, *3\n",
      "Time usage: 0:02:25 minutes\n",
      "374/374 [==============================] - 1s 2ms/step\n",
      "934/934 [==============================] - 2s 2ms/step\n",
      "3357/3357 [==============================] - 6s 2ms/step\n",
      "/home/rick/Documents/HannahZ/Code/logs\n",
      " - Model specifics:\tbatch size: 128, mode: triangular, stepsize: 210, base-lr: 1e-06, max-lr 0.0001, *4\n"
     ]
    },
    {
     "name": "stderr",
     "output_type": "stream",
     "text": [
      "/home/rick/.conda/envs/hannah_z/lib/python2.7/site-packages/keras/callbacks.py:120: UserWarning: Method on_batch_end() is slow compared to the batch update (0.182762). Check your callbacks.\n",
      "  % delta_t_median)\n"
     ]
    },
    {
     "name": "stdout",
     "output_type": "stream",
     "text": [
      "Time usage: 0:02:36 minutes\n",
      "374/374 [==============================] - 1s 2ms/step\n",
      "934/934 [==============================] - 2s 2ms/step\n",
      "3357/3357 [==============================] - 6s 2ms/step\n",
      " - Model specifics:\tbatch size: 128, mode: triangular, stepsize: 210, base-lr: 1e-06, max-lr 0.0001, *4\n",
      "Time usage: 0:02:23 minutes\n",
      "374/374 [==============================] - 1s 2ms/step\n",
      "934/934 [==============================] - 2s 2ms/step\n",
      "3357/3357 [==============================] - 6s 2ms/step\n",
      "/home/rick/Documents/HannahZ/Code/logs\n",
      "Time usage: 0:26:39 minutes\n",
      " - Model specifics:\tbatch size: 128, mode: triangular2, stepsize: 210, base-lr: 1e-06, max-lr 0.0001, *0\n"
     ]
    },
    {
     "name": "stderr",
     "output_type": "stream",
     "text": [
      "/home/rick/.conda/envs/hannah_z/lib/python2.7/site-packages/keras/callbacks.py:120: UserWarning: Method on_batch_end() is slow compared to the batch update (0.185345). Check your callbacks.\n",
      "  % delta_t_median)\n"
     ]
    },
    {
     "name": "stdout",
     "output_type": "stream",
     "text": [
      "Time usage: 0:02:39 minutes\n",
      "374/374 [==============================] - 1s 2ms/step\n",
      "934/934 [==============================] - 2s 2ms/step\n",
      "3357/3357 [==============================] - 6s 2ms/step\n",
      " - Model specifics:\tbatch size: 128, mode: triangular2, stepsize: 210, base-lr: 1e-06, max-lr 0.0001, *0\n",
      "Time usage: 0:02:26 minutes\n",
      "374/374 [==============================] - 1s 2ms/step\n",
      "934/934 [==============================] - 2s 2ms/step\n",
      "3357/3357 [==============================] - 6s 2ms/step\n",
      "/home/rick/Documents/HannahZ/Code/logs\n",
      " - Model specifics:\tbatch size: 128, mode: triangular2, stepsize: 210, base-lr: 1e-06, max-lr 0.0001, *1\n"
     ]
    },
    {
     "name": "stderr",
     "output_type": "stream",
     "text": [
      "/home/rick/.conda/envs/hannah_z/lib/python2.7/site-packages/keras/callbacks.py:120: UserWarning: Method on_batch_end() is slow compared to the batch update (0.186296). Check your callbacks.\n",
      "  % delta_t_median)\n"
     ]
    },
    {
     "name": "stdout",
     "output_type": "stream",
     "text": [
      "Time usage: 0:02:35 minutes\n",
      "374/374 [==============================] - 1s 2ms/step\n",
      "934/934 [==============================] - 2s 2ms/step\n",
      "3357/3357 [==============================] - 6s 2ms/step\n",
      " - Model specifics:\tbatch size: 128, mode: triangular2, stepsize: 210, base-lr: 1e-06, max-lr 0.0001, *1\n",
      "Time usage: 0:02:23 minutes\n",
      "374/374 [==============================] - 1s 2ms/step\n",
      "934/934 [==============================] - 2s 2ms/step\n",
      "3357/3357 [==============================] - 6s 2ms/step\n",
      "/home/rick/Documents/HannahZ/Code/logs\n",
      " - Model specifics:\tbatch size: 128, mode: triangular2, stepsize: 210, base-lr: 1e-06, max-lr 0.0001, *2\n"
     ]
    },
    {
     "name": "stderr",
     "output_type": "stream",
     "text": [
      "/home/rick/.conda/envs/hannah_z/lib/python2.7/site-packages/keras/callbacks.py:120: UserWarning: Method on_batch_end() is slow compared to the batch update (0.188169). Check your callbacks.\n",
      "  % delta_t_median)\n"
     ]
    },
    {
     "name": "stdout",
     "output_type": "stream",
     "text": [
      "Time usage: 0:02:33 minutes\n",
      "374/374 [==============================] - 1s 2ms/step\n",
      "934/934 [==============================] - 2s 2ms/step\n",
      "3357/3357 [==============================] - 6s 2ms/step\n",
      " - Model specifics:\tbatch size: 128, mode: triangular2, stepsize: 210, base-lr: 1e-06, max-lr 0.0001, *2\n",
      "Time usage: 0:02:21 minutes\n",
      "374/374 [==============================] - 1s 2ms/step\n",
      "934/934 [==============================] - 2s 2ms/step\n",
      "3357/3357 [==============================] - 6s 2ms/step\n",
      "/home/rick/Documents/HannahZ/Code/logs\n",
      " - Model specifics:\tbatch size: 128, mode: triangular2, stepsize: 210, base-lr: 1e-06, max-lr 0.0001, *3\n"
     ]
    },
    {
     "name": "stderr",
     "output_type": "stream",
     "text": [
      "/home/rick/.conda/envs/hannah_z/lib/python2.7/site-packages/keras/callbacks.py:120: UserWarning: Method on_batch_end() is slow compared to the batch update (0.189561). Check your callbacks.\n",
      "  % delta_t_median)\n"
     ]
    },
    {
     "name": "stdout",
     "output_type": "stream",
     "text": [
      "Time usage: 0:02:36 minutes\n",
      "374/374 [==============================] - 1s 2ms/step\n",
      "934/934 [==============================] - 2s 2ms/step\n",
      "3357/3357 [==============================] - 6s 2ms/step\n",
      " - Model specifics:\tbatch size: 128, mode: triangular2, stepsize: 210, base-lr: 1e-06, max-lr 0.0001, *3\n",
      "Time usage: 0:02:23 minutes\n",
      "374/374 [==============================] - 1s 2ms/step\n",
      "934/934 [==============================] - 2s 2ms/step\n",
      "3357/3357 [==============================] - 6s 2ms/step\n",
      "/home/rick/Documents/HannahZ/Code/logs\n",
      " - Model specifics:\tbatch size: 128, mode: triangular2, stepsize: 210, base-lr: 1e-06, max-lr 0.0001, *4\n"
     ]
    },
    {
     "name": "stderr",
     "output_type": "stream",
     "text": [
      "/home/rick/.conda/envs/hannah_z/lib/python2.7/site-packages/keras/callbacks.py:120: UserWarning: Method on_batch_end() is slow compared to the batch update (0.296220). Check your callbacks.\n",
      "  % delta_t_median)\n"
     ]
    },
    {
     "name": "stdout",
     "output_type": "stream",
     "text": [
      "Time usage: 0:02:40 minutes\n",
      "374/374 [==============================] - 1s 2ms/step\n",
      "934/934 [==============================] - 2s 2ms/step\n",
      "3357/3357 [==============================] - 6s 2ms/step\n",
      " - Model specifics:\tbatch size: 128, mode: triangular2, stepsize: 210, base-lr: 1e-06, max-lr 0.0001, *4\n",
      "Time usage: 0:02:21 minutes\n",
      "374/374 [==============================] - 1s 2ms/step\n",
      "934/934 [==============================] - 2s 2ms/step\n",
      "3357/3357 [==============================] - 6s 2ms/step\n",
      "/home/rick/Documents/HannahZ/Code/logs\n",
      "Time usage: 0:26:26 minutes\n",
      " - Model specifics:\tbatch size: 128, mode: triangular, stepsize: 262, base-lr: 1e-06, max-lr 0.0001, *0\n"
     ]
    },
    {
     "name": "stderr",
     "output_type": "stream",
     "text": [
      "/home/rick/.conda/envs/hannah_z/lib/python2.7/site-packages/keras/callbacks.py:120: UserWarning: Method on_batch_end() is slow compared to the batch update (0.236726). Check your callbacks.\n",
      "  % delta_t_median)\n"
     ]
    },
    {
     "name": "stdout",
     "output_type": "stream",
     "text": [
      "Time usage: 0:02:39 minutes\n",
      "374/374 [==============================] - 1s 2ms/step\n",
      "934/934 [==============================] - 2s 2ms/step\n",
      "3357/3357 [==============================] - 6s 2ms/step\n",
      " - Model specifics:\tbatch size: 128, mode: triangular, stepsize: 262, base-lr: 1e-06, max-lr 0.0001, *0\n",
      "Time usage: 0:02:22 minutes\n",
      "374/374 [==============================] - 1s 2ms/step\n",
      "934/934 [==============================] - 2s 2ms/step\n",
      "3357/3357 [==============================] - 6s 2ms/step\n",
      "/home/rick/Documents/HannahZ/Code/logs\n",
      " - Model specifics:\tbatch size: 128, mode: triangular, stepsize: 262, base-lr: 1e-06, max-lr 0.0001, *1\n"
     ]
    },
    {
     "name": "stderr",
     "output_type": "stream",
     "text": [
      "/home/rick/.conda/envs/hannah_z/lib/python2.7/site-packages/keras/callbacks.py:120: UserWarning: Method on_batch_end() is slow compared to the batch update (0.229605). Check your callbacks.\n",
      "  % delta_t_median)\n"
     ]
    },
    {
     "name": "stdout",
     "output_type": "stream",
     "text": [
      "Time usage: 0:02:38 minutes\n",
      "374/374 [==============================] - 1s 2ms/step\n",
      "934/934 [==============================] - 2s 2ms/step\n",
      "3357/3357 [==============================] - 6s 2ms/step\n",
      " - Model specifics:\tbatch size: 128, mode: triangular, stepsize: 262, base-lr: 1e-06, max-lr 0.0001, *1\n",
      "Time usage: 0:02:23 minutes\n",
      "374/374 [==============================] - 1s 2ms/step\n",
      "934/934 [==============================] - 2s 2ms/step\n",
      "3357/3357 [==============================] - 6s 2ms/step\n",
      "/home/rick/Documents/HannahZ/Code/logs\n",
      " - Model specifics:\tbatch size: 128, mode: triangular, stepsize: 262, base-lr: 1e-06, max-lr 0.0001, *2\n"
     ]
    },
    {
     "name": "stderr",
     "output_type": "stream",
     "text": [
      "/home/rick/.conda/envs/hannah_z/lib/python2.7/site-packages/keras/callbacks.py:120: UserWarning: Method on_batch_end() is slow compared to the batch update (0.231187). Check your callbacks.\n",
      "  % delta_t_median)\n"
     ]
    },
    {
     "name": "stdout",
     "output_type": "stream",
     "text": [
      "Time usage: 0:02:37 minutes\n",
      "374/374 [==============================] - 1s 2ms/step\n",
      "934/934 [==============================] - 2s 2ms/step\n",
      "3357/3357 [==============================] - 6s 2ms/step\n",
      " - Model specifics:\tbatch size: 128, mode: triangular, stepsize: 262, base-lr: 1e-06, max-lr 0.0001, *2\n",
      "Time usage: 0:02:23 minutes\n",
      "374/374 [==============================] - 1s 2ms/step\n",
      "934/934 [==============================] - 2s 2ms/step\n",
      "3357/3357 [==============================] - 6s 2ms/step\n",
      "/home/rick/Documents/HannahZ/Code/logs\n",
      " - Model specifics:\tbatch size: 128, mode: triangular, stepsize: 262, base-lr: 1e-06, max-lr 0.0001, *3\n"
     ]
    },
    {
     "name": "stderr",
     "output_type": "stream",
     "text": [
      "/home/rick/.conda/envs/hannah_z/lib/python2.7/site-packages/keras/callbacks.py:120: UserWarning: Method on_batch_end() is slow compared to the batch update (0.268625). Check your callbacks.\n",
      "  % delta_t_median)\n"
     ]
    },
    {
     "name": "stdout",
     "output_type": "stream",
     "text": [
      "Time usage: 0:02:36 minutes\n",
      "374/374 [==============================] - 1s 2ms/step\n",
      "934/934 [==============================] - 2s 2ms/step\n",
      "3357/3357 [==============================] - 6s 2ms/step\n",
      " - Model specifics:\tbatch size: 128, mode: triangular, stepsize: 262, base-lr: 1e-06, max-lr 0.0001, *3\n",
      "Time usage: 0:02:21 minutes\n",
      "374/374 [==============================] - 1s 2ms/step\n",
      "934/934 [==============================] - 2s 2ms/step\n",
      "3357/3357 [==============================] - 6s 2ms/step\n",
      "/home/rick/Documents/HannahZ/Code/logs\n",
      " - Model specifics:\tbatch size: 128, mode: triangular, stepsize: 262, base-lr: 1e-06, max-lr 0.0001, *4\n"
     ]
    },
    {
     "name": "stderr",
     "output_type": "stream",
     "text": [
      "/home/rick/.conda/envs/hannah_z/lib/python2.7/site-packages/keras/callbacks.py:120: UserWarning: Method on_batch_end() is slow compared to the batch update (0.235921). Check your callbacks.\n",
      "  % delta_t_median)\n"
     ]
    },
    {
     "name": "stdout",
     "output_type": "stream",
     "text": [
      "Time usage: 0:02:39 minutes\n",
      "374/374 [==============================] - 1s 2ms/step\n",
      "934/934 [==============================] - 2s 2ms/step\n",
      "3357/3357 [==============================] - 6s 2ms/step\n",
      " - Model specifics:\tbatch size: 128, mode: triangular, stepsize: 262, base-lr: 1e-06, max-lr 0.0001, *4\n",
      "Time usage: 0:02:24 minutes\n",
      "374/374 [==============================] - 1s 2ms/step\n",
      "934/934 [==============================] - 2s 2ms/step\n",
      "3357/3357 [==============================] - 6s 2ms/step\n",
      "/home/rick/Documents/HannahZ/Code/logs\n",
      "Time usage: 0:26:32 minutes\n",
      " - Model specifics:\tbatch size: 128, mode: triangular2, stepsize: 262, base-lr: 1e-06, max-lr 0.0001, *0\n"
     ]
    },
    {
     "name": "stderr",
     "output_type": "stream",
     "text": [
      "/home/rick/.conda/envs/hannah_z/lib/python2.7/site-packages/keras/callbacks.py:120: UserWarning: Method on_batch_end() is slow compared to the batch update (0.287592). Check your callbacks.\n",
      "  % delta_t_median)\n"
     ]
    },
    {
     "name": "stdout",
     "output_type": "stream",
     "text": [
      "Time usage: 0:02:40 minutes\n",
      "374/374 [==============================] - 1s 2ms/step\n",
      "934/934 [==============================] - 2s 2ms/step\n",
      "3357/3357 [==============================] - 6s 2ms/step\n",
      " - Model specifics:\tbatch size: 128, mode: triangular2, stepsize: 262, base-lr: 1e-06, max-lr 0.0001, *0\n",
      "Time usage: 0:02:22 minutes\n",
      "374/374 [==============================] - 1s 2ms/step\n",
      "934/934 [==============================] - 2s 2ms/step\n",
      "3357/3357 [==============================] - 6s 2ms/step\n",
      "/home/rick/Documents/HannahZ/Code/logs\n",
      " - Model specifics:\tbatch size: 128, mode: triangular2, stepsize: 262, base-lr: 1e-06, max-lr 0.0001, *1\n"
     ]
    },
    {
     "name": "stderr",
     "output_type": "stream",
     "text": [
      "/home/rick/.conda/envs/hannah_z/lib/python2.7/site-packages/keras/callbacks.py:120: UserWarning: Method on_batch_end() is slow compared to the batch update (0.265745). Check your callbacks.\n",
      "  % delta_t_median)\n"
     ]
    },
    {
     "name": "stdout",
     "output_type": "stream",
     "text": [
      "Time usage: 0:02:37 minutes\n",
      "374/374 [==============================] - 1s 2ms/step\n",
      "934/934 [==============================] - 2s 2ms/step\n",
      "3357/3357 [==============================] - 6s 2ms/step\n",
      " - Model specifics:\tbatch size: 128, mode: triangular2, stepsize: 262, base-lr: 1e-06, max-lr 0.0001, *1\n",
      "Time usage: 0:02:22 minutes\n",
      "374/374 [==============================] - 1s 2ms/step\n",
      "934/934 [==============================] - 2s 2ms/step\n",
      "3357/3357 [==============================] - 6s 2ms/step\n",
      "/home/rick/Documents/HannahZ/Code/logs\n",
      " - Model specifics:\tbatch size: 128, mode: triangular2, stepsize: 262, base-lr: 1e-06, max-lr 0.0001, *2\n"
     ]
    },
    {
     "name": "stderr",
     "output_type": "stream",
     "text": [
      "/home/rick/.conda/envs/hannah_z/lib/python2.7/site-packages/keras/callbacks.py:120: UserWarning: Method on_batch_end() is slow compared to the batch update (0.252464). Check your callbacks.\n",
      "  % delta_t_median)\n"
     ]
    },
    {
     "name": "stdout",
     "output_type": "stream",
     "text": [
      "Time usage: 0:02:39 minutes\n",
      "374/374 [==============================] - 1s 2ms/step\n",
      "934/934 [==============================] - 2s 2ms/step\n",
      "3357/3357 [==============================] - 6s 2ms/step\n",
      " - Model specifics:\tbatch size: 128, mode: triangular2, stepsize: 262, base-lr: 1e-06, max-lr 0.0001, *2\n",
      "Time usage: 0:02:25 minutes\n",
      "374/374 [==============================] - 1s 2ms/step\n",
      "934/934 [==============================] - 2s 2ms/step\n",
      "3357/3357 [==============================] - 6s 2ms/step\n",
      "/home/rick/Documents/HannahZ/Code/logs\n",
      " - Model specifics:\tbatch size: 128, mode: triangular2, stepsize: 262, base-lr: 1e-06, max-lr 0.0001, *3\n"
     ]
    },
    {
     "name": "stderr",
     "output_type": "stream",
     "text": [
      "/home/rick/.conda/envs/hannah_z/lib/python2.7/site-packages/keras/callbacks.py:120: UserWarning: Method on_batch_end() is slow compared to the batch update (0.250617). Check your callbacks.\n",
      "  % delta_t_median)\n"
     ]
    },
    {
     "name": "stdout",
     "output_type": "stream",
     "text": [
      "Time usage: 0:02:37 minutes\n",
      "374/374 [==============================] - 1s 2ms/step\n",
      "934/934 [==============================] - 2s 2ms/step\n",
      "3357/3357 [==============================] - 6s 2ms/step\n",
      " - Model specifics:\tbatch size: 128, mode: triangular2, stepsize: 262, base-lr: 1e-06, max-lr 0.0001, *3\n",
      "Time usage: 0:02:22 minutes\n",
      "374/374 [==============================] - 1s 2ms/step\n",
      "934/934 [==============================] - 2s 2ms/step\n",
      "3357/3357 [==============================] - 6s 2ms/step\n",
      "/home/rick/Documents/HannahZ/Code/logs\n",
      " - Model specifics:\tbatch size: 128, mode: triangular2, stepsize: 262, base-lr: 1e-06, max-lr 0.0001, *4\n"
     ]
    },
    {
     "name": "stderr",
     "output_type": "stream",
     "text": [
      "/home/rick/.conda/envs/hannah_z/lib/python2.7/site-packages/keras/callbacks.py:120: UserWarning: Method on_batch_end() is slow compared to the batch update (0.234225). Check your callbacks.\n",
      "  % delta_t_median)\n"
     ]
    },
    {
     "name": "stdout",
     "output_type": "stream",
     "text": [
      "Time usage: 0:02:38 minutes\n",
      "374/374 [==============================] - 1s 2ms/step\n",
      "934/934 [==============================] - 2s 2ms/step\n",
      "3357/3357 [==============================] - 6s 2ms/step\n",
      " - Model specifics:\tbatch size: 128, mode: triangular2, stepsize: 262, base-lr: 1e-06, max-lr 0.0001, *4\n",
      "Time usage: 0:02:24 minutes\n",
      "374/374 [==============================] - 1s 2ms/step\n",
      "934/934 [==============================] - 2s 2ms/step\n",
      "3357/3357 [==============================] - 6s 2ms/step\n",
      "/home/rick/Documents/HannahZ/Code/logs\n",
      "Time usage: 0:26:35 minutes\n",
      "Time usage: 6:18:19 minutes\n"
     ]
    }
   ],
   "source": [
    "# usual training time: 4:51 / 3:21 / 3:26 / 6:13 / 6:18\n",
    "rep = 5\n",
    "hp_tuner(rep = rep)"
   ]
  },
  {
   "cell_type": "code",
   "execution_count": 29,
   "metadata": {},
   "outputs": [],
   "source": [
    "rep = 5\n",
    "titel = model_details[0][:47]\n",
    "mean_test_a = []\n",
    "mean_valid_a = []\n",
    "mean_train_a = []\n",
    "mean_test_l = []\n",
    "mean_valid_l = []\n",
    "mean_train_l = []\n",
    "mean_test_p = []\n",
    "mean_valid_p = []\n",
    "mean_train_p = []\n",
    "mean_test_r = []\n",
    "mean_valid_r = []\n",
    "mean_train_r = []\n",
    "model_l = []\n",
    "a = int(len(test_acc_l)/rep)\n",
    "for i in range(a):\n",
    "    tals = test_acc_l[i:(i+1)*rep]\n",
    "    vals = valid_acc_l[i:(i+1)*rep]\n",
    "    rals = train_acc_l[i:(i+1)*rep]\n",
    "    tlls = test_loss_l[i:(i+1)*rep]\n",
    "    vlls = valid_loss_l[i:(i+1)*rep]\n",
    "    rlls = train_loss_l[i:(i+1)*rep]\n",
    "    tpls = test_prec_l[i:(i+1)*rep]\n",
    "    vpls = valid_prec_l[i:(i+1)*rep]\n",
    "    rpls = train_prec_l[i:(i+1)*rep]\n",
    "    trls = test_rec_l[i:(i+1)*rep]\n",
    "    vrls = valid_rec_l[i:(i+1)*rep]\n",
    "    rrls = train_rec_l[i:(i+1)*rep]\n",
    "    tmean = round(sum(tals)/len(tals),4)\n",
    "    vmean = round(sum(vals)/len(vals),4)\n",
    "    rmean = round(sum(rals)/len(rals),4)\n",
    "    ltmean = round(sum(tlls)/len(tals),4)\n",
    "    lvmean = round(sum(vlls)/len(vals),4)\n",
    "    lrmean = round(sum(rlls)/len(rals),4)\n",
    "    ptmean = round(sum(tpls)/len(tals),4)\n",
    "    pvmean = round(sum(vpls)/len(vals),4)\n",
    "    prmean = round(sum(rpls)/len(rals),4)\n",
    "    rtmean = round(sum(trls)/len(tals),4)\n",
    "    rvmean = round(sum(vrls)/len(vals),4)\n",
    "    rrmean = round(sum(rrls)/len(rals),4)\n",
    "    mean_test_a.append(tmean)\n",
    "    mean_valid_a.append(vmean)\n",
    "    mean_train_a.append(rmean)\n",
    "    mean_test_l.append(ltmean)\n",
    "    mean_valid_l.append(lvmean)\n",
    "    mean_train_l.append(lrmean)\n",
    "    mean_test_p.append(ptmean)\n",
    "    mean_valid_p.append(pvmean)\n",
    "    mean_train_p.append(prmean)\n",
    "    mean_test_r.append(rtmean)\n",
    "    mean_valid_r.append(rvmean)\n",
    "    mean_train_r.append(rrmean)\n",
    "    if (model_det[i*rep][-2:] == 'x2'):\n",
    "        model_l.append(model_det[i*rep][6:49] + ' ' + model_det[i*rep][-2:])\n",
    "    else:\n",
    "        model_l.append(model_det[i*rep][6:49])"
   ]
  },
  {
   "cell_type": "code",
   "execution_count": 30,
   "metadata": {},
   "outputs": [
    {
     "name": "stdout",
     "output_type": "stream",
     "text": [
      "size: 64, mode: triangular, stepsize: 315, \n",
      "*0\n"
     ]
    }
   ],
   "source": [
    "print(model_det[8][6:49])\n",
    "print(model_det[0][-2:])"
   ]
  },
  {
   "cell_type": "code",
   "execution_count": 31,
   "metadata": {},
   "outputs": [
    {
     "data": {
      "text/plain": [
       "'AfterTuningHP_modelOverview_IncResNetV2_bs-64_triangular_sz-420_imagenet_595_48epochs'"
      ]
     },
     "execution_count": 31,
     "metadata": {},
     "output_type": "execute_result"
    }
   ],
   "source": [
    "savename2 = ('AfterTuningHP_modelOverview_' + str(modelname) + '_bs-'+ str(batch_size) + '_' + str(mode) + '_sz-' \n",
    "             + str(step_size) + '_' + str(weights) + '_' + str(trainable_layers) + '_' + str(epochs) + 'epochs')\n",
    "savename2"
   ]
  },
  {
   "cell_type": "code",
   "execution_count": 32,
   "metadata": {},
   "outputs": [
    {
     "data": {
      "text/html": [
       "<div>\n",
       "<style scoped>\n",
       "    .dataframe tbody tr th:only-of-type {\n",
       "        vertical-align: middle;\n",
       "    }\n",
       "\n",
       "    .dataframe tbody tr th {\n",
       "        vertical-align: top;\n",
       "    }\n",
       "\n",
       "    .dataframe thead th {\n",
       "        text-align: right;\n",
       "    }\n",
       "</style>\n",
       "<table border=\"1\" class=\"dataframe\">\n",
       "  <thead>\n",
       "    <tr style=\"text-align: right;\">\n",
       "      <th></th>\n",
       "      <th>test acc</th>\n",
       "      <th>valid acc</th>\n",
       "      <th>train acc</th>\n",
       "      <th>test loss</th>\n",
       "      <th>valid loss</th>\n",
       "      <th>train loss</th>\n",
       "      <th>test prec</th>\n",
       "      <th>valid prec</th>\n",
       "      <th>train prec</th>\n",
       "      <th>test rec</th>\n",
       "      <th>valid rec</th>\n",
       "      <th>train rec</th>\n",
       "    </tr>\n",
       "  </thead>\n",
       "  <tbody>\n",
       "    <tr>\n",
       "      <th>size: 64, mode: triangular, stepsize: 315,</th>\n",
       "      <td>0.7493</td>\n",
       "      <td>0.7316</td>\n",
       "      <td>0.7713</td>\n",
       "      <td>0.9368</td>\n",
       "      <td>0.9491</td>\n",
       "      <td>0.8491</td>\n",
       "      <td>0.6929</td>\n",
       "      <td>0.6582</td>\n",
       "      <td>0.7015</td>\n",
       "      <td>0.9233</td>\n",
       "      <td>0.9038</td>\n",
       "      <td>0.9421</td>\n",
       "    </tr>\n",
       "    <tr>\n",
       "      <th>size: 64, mode: triangular, stepsize: 315,  x2</th>\n",
       "      <td>0.7463</td>\n",
       "      <td>0.7252</td>\n",
       "      <td>0.7686</td>\n",
       "      <td>0.9660</td>\n",
       "      <td>1.0058</td>\n",
       "      <td>0.8794</td>\n",
       "      <td>0.6892</td>\n",
       "      <td>0.6497</td>\n",
       "      <td>0.6971</td>\n",
       "      <td>0.9251</td>\n",
       "      <td>0.9090</td>\n",
       "      <td>0.9478</td>\n",
       "    </tr>\n",
       "    <tr>\n",
       "      <th>size: 64, mode: triangular2, stepsize: 315,</th>\n",
       "      <td>0.7438</td>\n",
       "      <td>0.7221</td>\n",
       "      <td>0.7653</td>\n",
       "      <td>0.9432</td>\n",
       "      <td>0.9939</td>\n",
       "      <td>0.8679</td>\n",
       "      <td>0.6872</td>\n",
       "      <td>0.6481</td>\n",
       "      <td>0.6936</td>\n",
       "      <td>0.9235</td>\n",
       "      <td>0.9032</td>\n",
       "      <td>0.9476</td>\n",
       "    </tr>\n",
       "    <tr>\n",
       "      <th>size: 64, mode: triangular2, stepsize: 525,</th>\n",
       "      <td>0.7430</td>\n",
       "      <td>0.7253</td>\n",
       "      <td>0.7654</td>\n",
       "      <td>0.9432</td>\n",
       "      <td>0.9809</td>\n",
       "      <td>0.8737</td>\n",
       "      <td>0.6863</td>\n",
       "      <td>0.6522</td>\n",
       "      <td>0.6948</td>\n",
       "      <td>0.9245</td>\n",
       "      <td>0.9002</td>\n",
       "      <td>0.9439</td>\n",
       "    </tr>\n",
       "    <tr>\n",
       "      <th>size: 64, mode: triangular2, stepsize: 315, x2</th>\n",
       "      <td>0.7427</td>\n",
       "      <td>0.7229</td>\n",
       "      <td>0.7644</td>\n",
       "      <td>0.9432</td>\n",
       "      <td>0.9936</td>\n",
       "      <td>0.8727</td>\n",
       "      <td>0.6853</td>\n",
       "      <td>0.6485</td>\n",
       "      <td>0.6921</td>\n",
       "      <td>0.9262</td>\n",
       "      <td>0.9043</td>\n",
       "      <td>0.9490</td>\n",
       "    </tr>\n",
       "    <tr>\n",
       "      <th>size: 64, mode: triangular, stepsize: 525,  x2</th>\n",
       "      <td>0.7427</td>\n",
       "      <td>0.7241</td>\n",
       "      <td>0.7646</td>\n",
       "      <td>0.9512</td>\n",
       "      <td>0.9922</td>\n",
       "      <td>0.8804</td>\n",
       "      <td>0.6858</td>\n",
       "      <td>0.6509</td>\n",
       "      <td>0.6938</td>\n",
       "      <td>0.9251</td>\n",
       "      <td>0.9011</td>\n",
       "      <td>0.9448</td>\n",
       "    </tr>\n",
       "    <tr>\n",
       "      <th>size: 64, mode: triangular2, stepsize: 420, x2</th>\n",
       "      <td>0.7426</td>\n",
       "      <td>0.7240</td>\n",
       "      <td>0.7636</td>\n",
       "      <td>0.9441</td>\n",
       "      <td>0.9886</td>\n",
       "      <td>0.8757</td>\n",
       "      <td>0.6851</td>\n",
       "      <td>0.6493</td>\n",
       "      <td>0.6919</td>\n",
       "      <td>0.9265</td>\n",
       "      <td>0.9042</td>\n",
       "      <td>0.9466</td>\n",
       "    </tr>\n",
       "    <tr>\n",
       "      <th>size: 64, mode: triangular2, stepsize: 420,</th>\n",
       "      <td>0.7423</td>\n",
       "      <td>0.7232</td>\n",
       "      <td>0.7635</td>\n",
       "      <td>0.9520</td>\n",
       "      <td>0.9988</td>\n",
       "      <td>0.8824</td>\n",
       "      <td>0.6848</td>\n",
       "      <td>0.6483</td>\n",
       "      <td>0.6914</td>\n",
       "      <td>0.9265</td>\n",
       "      <td>0.9051</td>\n",
       "      <td>0.9478</td>\n",
       "    </tr>\n",
       "    <tr>\n",
       "      <th>size: 64, mode: triangular, stepsize: 525,</th>\n",
       "      <td>0.7422</td>\n",
       "      <td>0.7240</td>\n",
       "      <td>0.7642</td>\n",
       "      <td>0.9499</td>\n",
       "      <td>0.9921</td>\n",
       "      <td>0.8796</td>\n",
       "      <td>0.6848</td>\n",
       "      <td>0.6496</td>\n",
       "      <td>0.6926</td>\n",
       "      <td>0.9263</td>\n",
       "      <td>0.9044</td>\n",
       "      <td>0.9467</td>\n",
       "    </tr>\n",
       "    <tr>\n",
       "      <th>size: 64, mode: triangular, stepsize: 420,</th>\n",
       "      <td>0.7421</td>\n",
       "      <td>0.7229</td>\n",
       "      <td>0.7636</td>\n",
       "      <td>0.9448</td>\n",
       "      <td>0.9963</td>\n",
       "      <td>0.8749</td>\n",
       "      <td>0.6849</td>\n",
       "      <td>0.6482</td>\n",
       "      <td>0.6915</td>\n",
       "      <td>0.9257</td>\n",
       "      <td>0.9045</td>\n",
       "      <td>0.9486</td>\n",
       "    </tr>\n",
       "    <tr>\n",
       "      <th>size: 64, mode: triangular, stepsize: 420,  x2</th>\n",
       "      <td>0.7420</td>\n",
       "      <td>0.7232</td>\n",
       "      <td>0.7640</td>\n",
       "      <td>0.9560</td>\n",
       "      <td>1.0035</td>\n",
       "      <td>0.8836</td>\n",
       "      <td>0.6848</td>\n",
       "      <td>0.6479</td>\n",
       "      <td>0.6918</td>\n",
       "      <td>0.9257</td>\n",
       "      <td>0.9060</td>\n",
       "      <td>0.9486</td>\n",
       "    </tr>\n",
       "    <tr>\n",
       "      <th>size: 64, mode: triangular2, stepsize: 525, x2</th>\n",
       "      <td>0.7419</td>\n",
       "      <td>0.7253</td>\n",
       "      <td>0.7643</td>\n",
       "      <td>0.9537</td>\n",
       "      <td>0.9895</td>\n",
       "      <td>0.8826</td>\n",
       "      <td>0.6848</td>\n",
       "      <td>0.6519</td>\n",
       "      <td>0.6934</td>\n",
       "      <td>0.9260</td>\n",
       "      <td>0.9040</td>\n",
       "      <td>0.9453</td>\n",
       "    </tr>\n",
       "    <tr>\n",
       "      <th>size: 128, mode: triangular, stepsize: 262, x2</th>\n",
       "      <td>0.7415</td>\n",
       "      <td>0.7253</td>\n",
       "      <td>0.7639</td>\n",
       "      <td>0.9854</td>\n",
       "      <td>1.0577</td>\n",
       "      <td>0.9252</td>\n",
       "      <td>0.6849</td>\n",
       "      <td>0.6535</td>\n",
       "      <td>0.6948</td>\n",
       "      <td>0.9268</td>\n",
       "      <td>0.9035</td>\n",
       "      <td>0.9422</td>\n",
       "    </tr>\n",
       "    <tr>\n",
       "      <th>size: 128, mode: triangular, stepsize: 157, x2</th>\n",
       "      <td>0.7408</td>\n",
       "      <td>0.7228</td>\n",
       "      <td>0.7636</td>\n",
       "      <td>0.9746</td>\n",
       "      <td>1.0218</td>\n",
       "      <td>0.9053</td>\n",
       "      <td>0.6834</td>\n",
       "      <td>0.6495</td>\n",
       "      <td>0.6928</td>\n",
       "      <td>0.9273</td>\n",
       "      <td>0.9041</td>\n",
       "      <td>0.9452</td>\n",
       "    </tr>\n",
       "    <tr>\n",
       "      <th>size: 128, mode: triangular2, stepsize: 262</th>\n",
       "      <td>0.7405</td>\n",
       "      <td>0.7244</td>\n",
       "      <td>0.7631</td>\n",
       "      <td>0.9921</td>\n",
       "      <td>1.0656</td>\n",
       "      <td>0.9329</td>\n",
       "      <td>0.6835</td>\n",
       "      <td>0.6524</td>\n",
       "      <td>0.6937</td>\n",
       "      <td>0.9278</td>\n",
       "      <td>0.9046</td>\n",
       "      <td>0.9431</td>\n",
       "    </tr>\n",
       "    <tr>\n",
       "      <th>size: 128, mode: triangular2, stepsize: 262 x2</th>\n",
       "      <td>0.7405</td>\n",
       "      <td>0.7242</td>\n",
       "      <td>0.7627</td>\n",
       "      <td>0.9950</td>\n",
       "      <td>1.0706</td>\n",
       "      <td>0.9364</td>\n",
       "      <td>0.6833</td>\n",
       "      <td>0.6521</td>\n",
       "      <td>0.6932</td>\n",
       "      <td>0.9286</td>\n",
       "      <td>0.9052</td>\n",
       "      <td>0.9435</td>\n",
       "    </tr>\n",
       "    <tr>\n",
       "      <th>size: 128, mode: triangular, stepsize: 157,</th>\n",
       "      <td>0.7404</td>\n",
       "      <td>0.7232</td>\n",
       "      <td>0.7632</td>\n",
       "      <td>0.9708</td>\n",
       "      <td>1.0112</td>\n",
       "      <td>0.9004</td>\n",
       "      <td>0.6829</td>\n",
       "      <td>0.6498</td>\n",
       "      <td>0.6921</td>\n",
       "      <td>0.9275</td>\n",
       "      <td>0.9058</td>\n",
       "      <td>0.9462</td>\n",
       "    </tr>\n",
       "    <tr>\n",
       "      <th>size: 128, mode: triangular2, stepsize: 157</th>\n",
       "      <td>0.7403</td>\n",
       "      <td>0.7232</td>\n",
       "      <td>0.7627</td>\n",
       "      <td>0.9787</td>\n",
       "      <td>1.0276</td>\n",
       "      <td>0.9110</td>\n",
       "      <td>0.6824</td>\n",
       "      <td>0.6495</td>\n",
       "      <td>0.6916</td>\n",
       "      <td>0.9289</td>\n",
       "      <td>0.9068</td>\n",
       "      <td>0.9462</td>\n",
       "    </tr>\n",
       "    <tr>\n",
       "      <th>size: 128, mode: triangular, stepsize: 262,</th>\n",
       "      <td>0.7402</td>\n",
       "      <td>0.7232</td>\n",
       "      <td>0.7628</td>\n",
       "      <td>0.9906</td>\n",
       "      <td>1.0596</td>\n",
       "      <td>0.9294</td>\n",
       "      <td>0.6820</td>\n",
       "      <td>0.6499</td>\n",
       "      <td>0.6921</td>\n",
       "      <td>0.9299</td>\n",
       "      <td>0.9072</td>\n",
       "      <td>0.9454</td>\n",
       "    </tr>\n",
       "    <tr>\n",
       "      <th>size: 128, mode: triangular2, stepsize: 157 x2</th>\n",
       "      <td>0.7398</td>\n",
       "      <td>0.7223</td>\n",
       "      <td>0.7626</td>\n",
       "      <td>0.9810</td>\n",
       "      <td>1.0344</td>\n",
       "      <td>0.9148</td>\n",
       "      <td>0.6816</td>\n",
       "      <td>0.6487</td>\n",
       "      <td>0.6913</td>\n",
       "      <td>0.9296</td>\n",
       "      <td>0.9072</td>\n",
       "      <td>0.9467</td>\n",
       "    </tr>\n",
       "    <tr>\n",
       "      <th>size: 128, mode: triangular, stepsize: 210,</th>\n",
       "      <td>0.7395</td>\n",
       "      <td>0.7223</td>\n",
       "      <td>0.7622</td>\n",
       "      <td>0.9886</td>\n",
       "      <td>1.0470</td>\n",
       "      <td>0.9238</td>\n",
       "      <td>0.6811</td>\n",
       "      <td>0.6484</td>\n",
       "      <td>0.6908</td>\n",
       "      <td>0.9303</td>\n",
       "      <td>0.9084</td>\n",
       "      <td>0.9471</td>\n",
       "    </tr>\n",
       "    <tr>\n",
       "      <th>size: 128, mode: triangular, stepsize: 210, x2</th>\n",
       "      <td>0.7395</td>\n",
       "      <td>0.7219</td>\n",
       "      <td>0.7624</td>\n",
       "      <td>0.9936</td>\n",
       "      <td>1.0557</td>\n",
       "      <td>0.9294</td>\n",
       "      <td>0.6810</td>\n",
       "      <td>0.6479</td>\n",
       "      <td>0.6911</td>\n",
       "      <td>0.9305</td>\n",
       "      <td>0.9085</td>\n",
       "      <td>0.9467</td>\n",
       "    </tr>\n",
       "    <tr>\n",
       "      <th>size: 128, mode: triangular2, stepsize: 210</th>\n",
       "      <td>0.7383</td>\n",
       "      <td>0.7211</td>\n",
       "      <td>0.7616</td>\n",
       "      <td>0.9999</td>\n",
       "      <td>1.0637</td>\n",
       "      <td>0.9354</td>\n",
       "      <td>0.6796</td>\n",
       "      <td>0.6470</td>\n",
       "      <td>0.6901</td>\n",
       "      <td>0.9316</td>\n",
       "      <td>0.9098</td>\n",
       "      <td>0.9474</td>\n",
       "    </tr>\n",
       "    <tr>\n",
       "      <th>size: 128, mode: triangular2, stepsize: 210 x2</th>\n",
       "      <td>0.7382</td>\n",
       "      <td>0.7211</td>\n",
       "      <td>0.7611</td>\n",
       "      <td>1.0026</td>\n",
       "      <td>1.0675</td>\n",
       "      <td>0.9389</td>\n",
       "      <td>0.6792</td>\n",
       "      <td>0.6469</td>\n",
       "      <td>0.6896</td>\n",
       "      <td>0.9323</td>\n",
       "      <td>0.9105</td>\n",
       "      <td>0.9478</td>\n",
       "    </tr>\n",
       "  </tbody>\n",
       "</table>\n",
       "</div>"
      ],
      "text/plain": [
       "                                                test acc  valid acc  \\\n",
       "size: 64, mode: triangular, stepsize: 315,        0.7493     0.7316   \n",
       "size: 64, mode: triangular, stepsize: 315,  x2    0.7463     0.7252   \n",
       "size: 64, mode: triangular2, stepsize: 315,       0.7438     0.7221   \n",
       "size: 64, mode: triangular2, stepsize: 525,       0.7430     0.7253   \n",
       "size: 64, mode: triangular2, stepsize: 315, x2    0.7427     0.7229   \n",
       "size: 64, mode: triangular, stepsize: 525,  x2    0.7427     0.7241   \n",
       "size: 64, mode: triangular2, stepsize: 420, x2    0.7426     0.7240   \n",
       "size: 64, mode: triangular2, stepsize: 420,       0.7423     0.7232   \n",
       "size: 64, mode: triangular, stepsize: 525,        0.7422     0.7240   \n",
       "size: 64, mode: triangular, stepsize: 420,        0.7421     0.7229   \n",
       "size: 64, mode: triangular, stepsize: 420,  x2    0.7420     0.7232   \n",
       "size: 64, mode: triangular2, stepsize: 525, x2    0.7419     0.7253   \n",
       "size: 128, mode: triangular, stepsize: 262, x2    0.7415     0.7253   \n",
       "size: 128, mode: triangular, stepsize: 157, x2    0.7408     0.7228   \n",
       "size: 128, mode: triangular2, stepsize: 262       0.7405     0.7244   \n",
       "size: 128, mode: triangular2, stepsize: 262 x2    0.7405     0.7242   \n",
       "size: 128, mode: triangular, stepsize: 157,       0.7404     0.7232   \n",
       "size: 128, mode: triangular2, stepsize: 157       0.7403     0.7232   \n",
       "size: 128, mode: triangular, stepsize: 262,       0.7402     0.7232   \n",
       "size: 128, mode: triangular2, stepsize: 157 x2    0.7398     0.7223   \n",
       "size: 128, mode: triangular, stepsize: 210,       0.7395     0.7223   \n",
       "size: 128, mode: triangular, stepsize: 210, x2    0.7395     0.7219   \n",
       "size: 128, mode: triangular2, stepsize: 210       0.7383     0.7211   \n",
       "size: 128, mode: triangular2, stepsize: 210 x2    0.7382     0.7211   \n",
       "\n",
       "                                                train acc  test loss  \\\n",
       "size: 64, mode: triangular, stepsize: 315,         0.7713     0.9368   \n",
       "size: 64, mode: triangular, stepsize: 315,  x2     0.7686     0.9660   \n",
       "size: 64, mode: triangular2, stepsize: 315,        0.7653     0.9432   \n",
       "size: 64, mode: triangular2, stepsize: 525,        0.7654     0.9432   \n",
       "size: 64, mode: triangular2, stepsize: 315, x2     0.7644     0.9432   \n",
       "size: 64, mode: triangular, stepsize: 525,  x2     0.7646     0.9512   \n",
       "size: 64, mode: triangular2, stepsize: 420, x2     0.7636     0.9441   \n",
       "size: 64, mode: triangular2, stepsize: 420,        0.7635     0.9520   \n",
       "size: 64, mode: triangular, stepsize: 525,         0.7642     0.9499   \n",
       "size: 64, mode: triangular, stepsize: 420,         0.7636     0.9448   \n",
       "size: 64, mode: triangular, stepsize: 420,  x2     0.7640     0.9560   \n",
       "size: 64, mode: triangular2, stepsize: 525, x2     0.7643     0.9537   \n",
       "size: 128, mode: triangular, stepsize: 262, x2     0.7639     0.9854   \n",
       "size: 128, mode: triangular, stepsize: 157, x2     0.7636     0.9746   \n",
       "size: 128, mode: triangular2, stepsize: 262        0.7631     0.9921   \n",
       "size: 128, mode: triangular2, stepsize: 262 x2     0.7627     0.9950   \n",
       "size: 128, mode: triangular, stepsize: 157,        0.7632     0.9708   \n",
       "size: 128, mode: triangular2, stepsize: 157        0.7627     0.9787   \n",
       "size: 128, mode: triangular, stepsize: 262,        0.7628     0.9906   \n",
       "size: 128, mode: triangular2, stepsize: 157 x2     0.7626     0.9810   \n",
       "size: 128, mode: triangular, stepsize: 210,        0.7622     0.9886   \n",
       "size: 128, mode: triangular, stepsize: 210, x2     0.7624     0.9936   \n",
       "size: 128, mode: triangular2, stepsize: 210        0.7616     0.9999   \n",
       "size: 128, mode: triangular2, stepsize: 210 x2     0.7611     1.0026   \n",
       "\n",
       "                                                valid loss  train loss  \\\n",
       "size: 64, mode: triangular, stepsize: 315,          0.9491      0.8491   \n",
       "size: 64, mode: triangular, stepsize: 315,  x2      1.0058      0.8794   \n",
       "size: 64, mode: triangular2, stepsize: 315,         0.9939      0.8679   \n",
       "size: 64, mode: triangular2, stepsize: 525,         0.9809      0.8737   \n",
       "size: 64, mode: triangular2, stepsize: 315, x2      0.9936      0.8727   \n",
       "size: 64, mode: triangular, stepsize: 525,  x2      0.9922      0.8804   \n",
       "size: 64, mode: triangular2, stepsize: 420, x2      0.9886      0.8757   \n",
       "size: 64, mode: triangular2, stepsize: 420,         0.9988      0.8824   \n",
       "size: 64, mode: triangular, stepsize: 525,          0.9921      0.8796   \n",
       "size: 64, mode: triangular, stepsize: 420,          0.9963      0.8749   \n",
       "size: 64, mode: triangular, stepsize: 420,  x2      1.0035      0.8836   \n",
       "size: 64, mode: triangular2, stepsize: 525, x2      0.9895      0.8826   \n",
       "size: 128, mode: triangular, stepsize: 262, x2      1.0577      0.9252   \n",
       "size: 128, mode: triangular, stepsize: 157, x2      1.0218      0.9053   \n",
       "size: 128, mode: triangular2, stepsize: 262         1.0656      0.9329   \n",
       "size: 128, mode: triangular2, stepsize: 262 x2      1.0706      0.9364   \n",
       "size: 128, mode: triangular, stepsize: 157,         1.0112      0.9004   \n",
       "size: 128, mode: triangular2, stepsize: 157         1.0276      0.9110   \n",
       "size: 128, mode: triangular, stepsize: 262,         1.0596      0.9294   \n",
       "size: 128, mode: triangular2, stepsize: 157 x2      1.0344      0.9148   \n",
       "size: 128, mode: triangular, stepsize: 210,         1.0470      0.9238   \n",
       "size: 128, mode: triangular, stepsize: 210, x2      1.0557      0.9294   \n",
       "size: 128, mode: triangular2, stepsize: 210         1.0637      0.9354   \n",
       "size: 128, mode: triangular2, stepsize: 210 x2      1.0675      0.9389   \n",
       "\n",
       "                                                test prec  valid prec  \\\n",
       "size: 64, mode: triangular, stepsize: 315,         0.6929      0.6582   \n",
       "size: 64, mode: triangular, stepsize: 315,  x2     0.6892      0.6497   \n",
       "size: 64, mode: triangular2, stepsize: 315,        0.6872      0.6481   \n",
       "size: 64, mode: triangular2, stepsize: 525,        0.6863      0.6522   \n",
       "size: 64, mode: triangular2, stepsize: 315, x2     0.6853      0.6485   \n",
       "size: 64, mode: triangular, stepsize: 525,  x2     0.6858      0.6509   \n",
       "size: 64, mode: triangular2, stepsize: 420, x2     0.6851      0.6493   \n",
       "size: 64, mode: triangular2, stepsize: 420,        0.6848      0.6483   \n",
       "size: 64, mode: triangular, stepsize: 525,         0.6848      0.6496   \n",
       "size: 64, mode: triangular, stepsize: 420,         0.6849      0.6482   \n",
       "size: 64, mode: triangular, stepsize: 420,  x2     0.6848      0.6479   \n",
       "size: 64, mode: triangular2, stepsize: 525, x2     0.6848      0.6519   \n",
       "size: 128, mode: triangular, stepsize: 262, x2     0.6849      0.6535   \n",
       "size: 128, mode: triangular, stepsize: 157, x2     0.6834      0.6495   \n",
       "size: 128, mode: triangular2, stepsize: 262        0.6835      0.6524   \n",
       "size: 128, mode: triangular2, stepsize: 262 x2     0.6833      0.6521   \n",
       "size: 128, mode: triangular, stepsize: 157,        0.6829      0.6498   \n",
       "size: 128, mode: triangular2, stepsize: 157        0.6824      0.6495   \n",
       "size: 128, mode: triangular, stepsize: 262,        0.6820      0.6499   \n",
       "size: 128, mode: triangular2, stepsize: 157 x2     0.6816      0.6487   \n",
       "size: 128, mode: triangular, stepsize: 210,        0.6811      0.6484   \n",
       "size: 128, mode: triangular, stepsize: 210, x2     0.6810      0.6479   \n",
       "size: 128, mode: triangular2, stepsize: 210        0.6796      0.6470   \n",
       "size: 128, mode: triangular2, stepsize: 210 x2     0.6792      0.6469   \n",
       "\n",
       "                                                train prec  test rec  \\\n",
       "size: 64, mode: triangular, stepsize: 315,          0.7015    0.9233   \n",
       "size: 64, mode: triangular, stepsize: 315,  x2      0.6971    0.9251   \n",
       "size: 64, mode: triangular2, stepsize: 315,         0.6936    0.9235   \n",
       "size: 64, mode: triangular2, stepsize: 525,         0.6948    0.9245   \n",
       "size: 64, mode: triangular2, stepsize: 315, x2      0.6921    0.9262   \n",
       "size: 64, mode: triangular, stepsize: 525,  x2      0.6938    0.9251   \n",
       "size: 64, mode: triangular2, stepsize: 420, x2      0.6919    0.9265   \n",
       "size: 64, mode: triangular2, stepsize: 420,         0.6914    0.9265   \n",
       "size: 64, mode: triangular, stepsize: 525,          0.6926    0.9263   \n",
       "size: 64, mode: triangular, stepsize: 420,          0.6915    0.9257   \n",
       "size: 64, mode: triangular, stepsize: 420,  x2      0.6918    0.9257   \n",
       "size: 64, mode: triangular2, stepsize: 525, x2      0.6934    0.9260   \n",
       "size: 128, mode: triangular, stepsize: 262, x2      0.6948    0.9268   \n",
       "size: 128, mode: triangular, stepsize: 157, x2      0.6928    0.9273   \n",
       "size: 128, mode: triangular2, stepsize: 262         0.6937    0.9278   \n",
       "size: 128, mode: triangular2, stepsize: 262 x2      0.6932    0.9286   \n",
       "size: 128, mode: triangular, stepsize: 157,         0.6921    0.9275   \n",
       "size: 128, mode: triangular2, stepsize: 157         0.6916    0.9289   \n",
       "size: 128, mode: triangular, stepsize: 262,         0.6921    0.9299   \n",
       "size: 128, mode: triangular2, stepsize: 157 x2      0.6913    0.9296   \n",
       "size: 128, mode: triangular, stepsize: 210,         0.6908    0.9303   \n",
       "size: 128, mode: triangular, stepsize: 210, x2      0.6911    0.9305   \n",
       "size: 128, mode: triangular2, stepsize: 210         0.6901    0.9316   \n",
       "size: 128, mode: triangular2, stepsize: 210 x2      0.6896    0.9323   \n",
       "\n",
       "                                                valid rec  train rec  \n",
       "size: 64, mode: triangular, stepsize: 315,         0.9038     0.9421  \n",
       "size: 64, mode: triangular, stepsize: 315,  x2     0.9090     0.9478  \n",
       "size: 64, mode: triangular2, stepsize: 315,        0.9032     0.9476  \n",
       "size: 64, mode: triangular2, stepsize: 525,        0.9002     0.9439  \n",
       "size: 64, mode: triangular2, stepsize: 315, x2     0.9043     0.9490  \n",
       "size: 64, mode: triangular, stepsize: 525,  x2     0.9011     0.9448  \n",
       "size: 64, mode: triangular2, stepsize: 420, x2     0.9042     0.9466  \n",
       "size: 64, mode: triangular2, stepsize: 420,        0.9051     0.9478  \n",
       "size: 64, mode: triangular, stepsize: 525,         0.9044     0.9467  \n",
       "size: 64, mode: triangular, stepsize: 420,         0.9045     0.9486  \n",
       "size: 64, mode: triangular, stepsize: 420,  x2     0.9060     0.9486  \n",
       "size: 64, mode: triangular2, stepsize: 525, x2     0.9040     0.9453  \n",
       "size: 128, mode: triangular, stepsize: 262, x2     0.9035     0.9422  \n",
       "size: 128, mode: triangular, stepsize: 157, x2     0.9041     0.9452  \n",
       "size: 128, mode: triangular2, stepsize: 262        0.9046     0.9431  \n",
       "size: 128, mode: triangular2, stepsize: 262 x2     0.9052     0.9435  \n",
       "size: 128, mode: triangular, stepsize: 157,        0.9058     0.9462  \n",
       "size: 128, mode: triangular2, stepsize: 157        0.9068     0.9462  \n",
       "size: 128, mode: triangular, stepsize: 262,        0.9072     0.9454  \n",
       "size: 128, mode: triangular2, stepsize: 157 x2     0.9072     0.9467  \n",
       "size: 128, mode: triangular, stepsize: 210,        0.9084     0.9471  \n",
       "size: 128, mode: triangular, stepsize: 210, x2     0.9085     0.9467  \n",
       "size: 128, mode: triangular2, stepsize: 210        0.9098     0.9474  \n",
       "size: 128, mode: triangular2, stepsize: 210 x2     0.9105     0.9478  "
      ]
     },
     "execution_count": 32,
     "metadata": {},
     "output_type": "execute_result"
    }
   ],
   "source": [
    "cols = ['test acc', 'valid acc', 'train acc', 'test loss', 'valid loss', 'train loss', 'test prec', \\\n",
    "           'valid prec', 'train prec', 'test rec', 'valid rec', 'train rec']\n",
    "data2 = np.array((mean_test_a, mean_valid_a, mean_train_a, mean_test_l, mean_valid_l, mean_train_l,\\\n",
    "                mean_test_p, mean_valid_p, mean_train_p, mean_test_r, mean_valid_r, mean_train_r))\n",
    "results2 = pd.DataFrame(data = data2, columns = model_l, index = cols)\n",
    "hp_overview = pd.DataFrame(data = results2.transpose(), columns = cols, index = model_l)\n",
    "hpOverviewSorted = hp_overview.sort_values(by=['test acc'], ascending = False)\n",
    "hpOverviewSorted\n",
    "os.chdir(code_dir + '/Excel')\n",
    "hpOverviewSorted.to_csv(savename2)"
   ]
  },
  {
   "cell_type": "code",
   "execution_count": 33,
   "metadata": {},
   "outputs": [
    {
     "data": {
      "text/plain": [
       "<matplotlib.figure.Figure at 0x7f75b54fd9d0>"
      ]
     },
     "execution_count": 33,
     "metadata": {},
     "output_type": "execute_result"
    },
    {
     "data": {
      "text/plain": [
       "<matplotlib.axes._subplots.AxesSubplot at 0x7f75b549d710>"
      ]
     },
     "execution_count": 33,
     "metadata": {},
     "output_type": "execute_result"
    },
    {
     "data": {
      "image/png": "[encoded data removed]",
      "text/plain": [
       "<matplotlib.figure.Figure at 0x7f75b54fd9d0>"
      ]
     },
     "metadata": {},
     "output_type": "display_data"
    }
   ],
   "source": [
    "%matplotlib inline\n",
    "plt.figure(figsize=(6, 8))\n",
    "\n",
    "sns.heatmap(hp_overview.iloc[:,:3], annot=True,  fmt = 'f')"
   ]
  },
  {
   "cell_type": "code",
   "execution_count": 34,
   "metadata": {},
   "outputs": [
    {
     "data": {
      "text/plain": [
       "[<matplotlib.lines.Line2D at 0x7f75b5367f90>]"
      ]
     },
     "execution_count": 34,
     "metadata": {},
     "output_type": "execute_result"
    },
    {
     "data": {
      "text/plain": [
       "[0, 9, 0.5, 1]"
      ]
     },
     "execution_count": 34,
     "metadata": {},
     "output_type": "execute_result"
    },
    {
     "data": {
      "text/plain": [
       "<matplotlib.text.Text at 0x7f75a4fc0bd0>"
      ]
     },
     "execution_count": 34,
     "metadata": {},
     "output_type": "execute_result"
    },
    {
     "data": {
      "text/plain": [
       "[<matplotlib.lines.Line2D at 0x7f75a4fe9d90>]"
      ]
     },
     "execution_count": 34,
     "metadata": {},
     "output_type": "execute_result"
    },
    {
     "data": {
      "text/plain": [
       "[<matplotlib.lines.Line2D at 0x7f75b5578a50>]"
      ]
     },
     "execution_count": 34,
     "metadata": {},
     "output_type": "execute_result"
    },
    {
     "data": {
      "text/plain": [
       "<matplotlib.text.Text at 0x7f75a4fa3e90>"
      ]
     },
     "execution_count": 34,
     "metadata": {},
     "output_type": "execute_result"
    },
    {
     "data": {
      "text/plain": [
       "[<matplotlib.lines.Line2D at 0x7f75a4fb1550>]"
      ]
     },
     "execution_count": 34,
     "metadata": {},
     "output_type": "execute_result"
    },
    {
     "data": {
      "text/plain": [
       "[0, 9, 0.73, 0.79]"
      ]
     },
     "execution_count": 34,
     "metadata": {},
     "output_type": "execute_result"
    },
    {
     "data": {
      "text/plain": [
       "[<matplotlib.lines.Line2D at 0x7f75a4fa3450>]"
      ]
     },
     "execution_count": 34,
     "metadata": {},
     "output_type": "execute_result"
    },
    {
     "data": {
      "text/plain": [
       "[<matplotlib.lines.Line2D at 0x7f75a4f08110>]"
      ]
     },
     "execution_count": 34,
     "metadata": {},
     "output_type": "execute_result"
    },
    {
     "data": {
      "image/png": "[encoded data removed]",
      "text/plain": [
       "<matplotlib.figure.Figure at 0x7f75a52ef510>"
      ]
     },
     "metadata": {},
     "output_type": "display_data"
    }
   ],
   "source": [
    "%matplotlib inline\n",
    "\n",
    "f, (ax1, ax2) = plt.subplots(2, 1, sharex='col', sharey='row')\n",
    "ax1.plot(mean_test_a, color = 'r')\n",
    "ax1.axis([0, 9, 0.5, 1])\n",
    "ax1.set_title('Close up')\n",
    "ax1.plot(mean_valid_a)\n",
    "ax1.plot(mean_train_a, color = 'g')\n",
    "ax2.set_title('Zoom')\n",
    "ax2.plot(mean_test_a, color = 'r')\n",
    "ax2.axis([0, 9, 0.73, 0.79])\n",
    "ax2.plot(mean_valid_a)\n",
    "ax2.plot(mean_train_a, color = 'g')"
   ]
  },
  {
   "cell_type": "code",
   "execution_count": 35,
   "metadata": {},
   "outputs": [
    {
     "data": {
      "text/html": [
       "<div>\n",
       "<style scoped>\n",
       "    .dataframe tbody tr th:only-of-type {\n",
       "        vertical-align: middle;\n",
       "    }\n",
       "\n",
       "    .dataframe tbody tr th {\n",
       "        vertical-align: top;\n",
       "    }\n",
       "\n",
       "    .dataframe thead th {\n",
       "        text-align: right;\n",
       "    }\n",
       "</style>\n",
       "<table border=\"1\" class=\"dataframe\">\n",
       "  <thead>\n",
       "    <tr style=\"text-align: right;\">\n",
       "      <th></th>\n",
       "      <th>test acc</th>\n",
       "      <th>valid acc</th>\n",
       "      <th>train acc</th>\n",
       "      <th>test loss</th>\n",
       "      <th>valid loss</th>\n",
       "      <th>train loss</th>\n",
       "      <th>test prec</th>\n",
       "      <th>valid prec</th>\n",
       "      <th>train prec</th>\n",
       "      <th>test rec</th>\n",
       "      <th>valid rec</th>\n",
       "      <th>train rec</th>\n",
       "    </tr>\n",
       "  </thead>\n",
       "  <tbody>\n",
       "    <tr>\n",
       "      <th>size: 64, mode: triangular, stepsize: 315,</th>\n",
       "      <td>0.7493</td>\n",
       "      <td>0.7316</td>\n",
       "      <td>0.7713</td>\n",
       "      <td>0.9368</td>\n",
       "      <td>0.9491</td>\n",
       "      <td>0.8491</td>\n",
       "      <td>0.6929</td>\n",
       "      <td>0.6582</td>\n",
       "      <td>0.7015</td>\n",
       "      <td>0.9233</td>\n",
       "      <td>0.9038</td>\n",
       "      <td>0.9421</td>\n",
       "    </tr>\n",
       "    <tr>\n",
       "      <th>size: 64, mode: triangular, stepsize: 315,  x2</th>\n",
       "      <td>0.7463</td>\n",
       "      <td>0.7252</td>\n",
       "      <td>0.7686</td>\n",
       "      <td>0.9660</td>\n",
       "      <td>1.0058</td>\n",
       "      <td>0.8794</td>\n",
       "      <td>0.6892</td>\n",
       "      <td>0.6497</td>\n",
       "      <td>0.6971</td>\n",
       "      <td>0.9251</td>\n",
       "      <td>0.9090</td>\n",
       "      <td>0.9478</td>\n",
       "    </tr>\n",
       "    <tr>\n",
       "      <th>size: 64, mode: triangular2, stepsize: 315,</th>\n",
       "      <td>0.7438</td>\n",
       "      <td>0.7221</td>\n",
       "      <td>0.7653</td>\n",
       "      <td>0.9432</td>\n",
       "      <td>0.9939</td>\n",
       "      <td>0.8679</td>\n",
       "      <td>0.6872</td>\n",
       "      <td>0.6481</td>\n",
       "      <td>0.6936</td>\n",
       "      <td>0.9235</td>\n",
       "      <td>0.9032</td>\n",
       "      <td>0.9476</td>\n",
       "    </tr>\n",
       "  </tbody>\n",
       "</table>\n",
       "</div>"
      ],
      "text/plain": [
       "                                                test acc  valid acc  \\\n",
       "size: 64, mode: triangular, stepsize: 315,        0.7493     0.7316   \n",
       "size: 64, mode: triangular, stepsize: 315,  x2    0.7463     0.7252   \n",
       "size: 64, mode: triangular2, stepsize: 315,       0.7438     0.7221   \n",
       "\n",
       "                                                train acc  test loss  \\\n",
       "size: 64, mode: triangular, stepsize: 315,         0.7713     0.9368   \n",
       "size: 64, mode: triangular, stepsize: 315,  x2     0.7686     0.9660   \n",
       "size: 64, mode: triangular2, stepsize: 315,        0.7653     0.9432   \n",
       "\n",
       "                                                valid loss  train loss  \\\n",
       "size: 64, mode: triangular, stepsize: 315,          0.9491      0.8491   \n",
       "size: 64, mode: triangular, stepsize: 315,  x2      1.0058      0.8794   \n",
       "size: 64, mode: triangular2, stepsize: 315,         0.9939      0.8679   \n",
       "\n",
       "                                                test prec  valid prec  \\\n",
       "size: 64, mode: triangular, stepsize: 315,         0.6929      0.6582   \n",
       "size: 64, mode: triangular, stepsize: 315,  x2     0.6892      0.6497   \n",
       "size: 64, mode: triangular2, stepsize: 315,        0.6872      0.6481   \n",
       "\n",
       "                                                train prec  test rec  \\\n",
       "size: 64, mode: triangular, stepsize: 315,          0.7015    0.9233   \n",
       "size: 64, mode: triangular, stepsize: 315,  x2      0.6971    0.9251   \n",
       "size: 64, mode: triangular2, stepsize: 315,         0.6936    0.9235   \n",
       "\n",
       "                                                valid rec  train rec  \n",
       "size: 64, mode: triangular, stepsize: 315,         0.9038     0.9421  \n",
       "size: 64, mode: triangular, stepsize: 315,  x2     0.9090     0.9478  \n",
       "size: 64, mode: triangular2, stepsize: 315,        0.9032     0.9476  "
      ]
     },
     "execution_count": 35,
     "metadata": {},
     "output_type": "execute_result"
    },
    {
     "data": {
      "text/plain": [
       "'base-lr: 1e-06, max-lr 0.0001,'"
      ]
     },
     "execution_count": 35,
     "metadata": {},
     "output_type": "execute_result"
    }
   ],
   "source": [
    "hp_overview.sort_values(by=['test acc'], ascending = False).iloc[:3,:]\n",
    "# hp_overview.sort_values(by=['test loss'], ascending = True).iloc[:3,:]\n",
    "# hp_overview.sort_values(by=['test prec'], ascending = False).iloc[:3,:]\n",
    "# hp_overview.sort_values(by=['test rec'], ascending = False).iloc[:3,:]\n",
    "model_det[0][49:79]"
   ]
  },
  {
   "cell_type": "code",
   "execution_count": 36,
   "metadata": {},
   "outputs": [
    {
     "data": {
      "text/plain": [
       "'/home/rick/Documents/HannahZ/Code/weights/IncResNetV2_bs-64_triangular_sz-315_blr-1e-06_mlr-0.0001_e-48_imagenet_595.hdf5'"
      ]
     },
     "execution_count": 36,
     "metadata": {},
     "output_type": "execute_result"
    }
   ],
   "source": [
    "# decide on best hyperparameters\n",
    "batch_size = 64\n",
    "step_size = 315\n",
    "mode = 'triangular'\n",
    "base_lr = 0.000001\n",
    "max_lr = 0.0001\n",
    "epochs = 48\n",
    "d3 = {}\n",
    "fp = (str(modelname) + '_bs-' + str(batch_size) + '_' + str(mode) + '_sz-' + str(step_size) + '_blr-' \n",
    "      + str(base_lr) + '_mlr-' + str(max_lr) + '_e-' + str(epochs) + '_' + weights + '_' + str(trainable_layers))\n",
    "weight_dir + '/' + fp + '.hdf5'"
   ]
  },
  {
   "cell_type": "code",
   "execution_count": 37,
   "metadata": {},
   "outputs": [],
   "source": [
    "def trainModels(batch_size = batch_size, stepsize = step_size, mode = mode, max_lr = max_lr, base_lr = base_lr, \n",
    "                epochs = epochs, verbose = 0):\n",
    "    start_time = time()   \n",
    "    global name\n",
    "    global filepath\n",
    "    global d    \n",
    "    date = str(datetime.now().date())\n",
    "    d = {}\n",
    "    for i in range(5):\n",
    "        compileModel()\n",
    "        # logdir in linux:\n",
    "        logdir = (log_dir + '/' + date + '_' + str(batch_size) + '_' + str(mode) + '_si-' + str(stepsize) \n",
    "                  + '_base-' + str(base_lr) + '_max-' + str(max_lr) + '_' + str(i))\n",
    "        # logdir in windows:\n",
    "        ##logdir = (log_dir + '\\\\' + date + '_' + str(batch_size) + '_' + str(mode) + '_si-' + str(stepsize) + \n",
    "        #          '_base-' + str(base_lr) + '_max-' + str(max_lr) + '_' + str(i))\n",
    "        name = ('batch size: ' + str(batch_size) + ', mode: ' + str(mode) + ', stepsize: ' \n",
    "                + str(stepsize) + ', base-lr: ' + str(base_lr) + ', max-lr ' + str(max_lr) + '_' + str(i))\n",
    "        print(' - Model specifics:\\t{}'.format(name))\n",
    "        clr = CyclicLR(base_lr = base_lr, max_lr=max_lr, step_size= stepsize, mode = mode)\n",
    "        fp = (str(modelname) + '_bs-' + str(batch_size) + '_' + str(mode) + '_sz-' + str(step_size) + '_blr-' \n",
    "              + str(base_lr) + '_mlr-' + str(max_lr) + '_e-' + str(epochs) + '_' + weights + '_' \n",
    "              + str(trainable_layers) + '_' + str(i))\n",
    "        filepath = weight_dir + '/' + fp + '-{epoch:02d}-' + '.hdf5'\n",
    "        checkp = ModelCheckpoint(filepath, monitor='val_acc', verbose= verbose, save_weights_only=True, \n",
    "                                save_best_only=True, mode='max', period=1)\n",
    "        tbCallBack = TensorBoard(log_dir=logdir, histogram_freq=0, \n",
    "                             write_graph=False, write_images=False)\n",
    "        d[\"FinalModel{0}\".format(i)]= Final_model\n",
    "        d[\"FinalModel{0}\".format(i)].fit(x = train_images, y = train_labels, epochs = epochs, \n",
    "                                         callbacks= [tbCallBack, clr, checkp], batch_size = batch_size,\n",
    "                                         validation_data = (valid_images, valid_labels), verbose = 0)\n",
    "    end_time = time()\n",
    "    time_dif = end_time - start_time\n",
    "    print('Time usage: ' + str(timedelta(seconds=int(round(time_dif)))) + ' minutes')"
   ]
  },
  {
   "cell_type": "code",
   "execution_count": 38,
   "metadata": {},
   "outputs": [
    {
     "name": "stdout",
     "output_type": "stream",
     "text": [
      " - Model specifics:\tbatch size: 64, mode: triangular, stepsize: 315, base-lr: 1e-06, max-lr 0.0001_0\n"
     ]
    },
    {
     "name": "stderr",
     "output_type": "stream",
     "text": [
      "/home/rick/.conda/envs/hannah_z/lib/python2.7/site-packages/keras/callbacks.py:120: UserWarning: Method on_batch_end() is slow compared to the batch update (0.225021). Check your callbacks.\n",
      "  % delta_t_median)\n"
     ]
    },
    {
     "name": "stdout",
     "output_type": "stream",
     "text": [
      " - Model specifics:\tbatch size: 64, mode: triangular, stepsize: 315, base-lr: 1e-06, max-lr 0.0001_1\n"
     ]
    },
    {
     "name": "stderr",
     "output_type": "stream",
     "text": [
      "/home/rick/.conda/envs/hannah_z/lib/python2.7/site-packages/keras/callbacks.py:120: UserWarning: Method on_batch_end() is slow compared to the batch update (0.218704). Check your callbacks.\n",
      "  % delta_t_median)\n"
     ]
    },
    {
     "name": "stdout",
     "output_type": "stream",
     "text": [
      " - Model specifics:\tbatch size: 64, mode: triangular, stepsize: 315, base-lr: 1e-06, max-lr 0.0001_2\n"
     ]
    },
    {
     "name": "stderr",
     "output_type": "stream",
     "text": [
      "/home/rick/.conda/envs/hannah_z/lib/python2.7/site-packages/keras/callbacks.py:120: UserWarning: Method on_batch_end() is slow compared to the batch update (0.228290). Check your callbacks.\n",
      "  % delta_t_median)\n"
     ]
    },
    {
     "name": "stdout",
     "output_type": "stream",
     "text": [
      " - Model specifics:\tbatch size: 64, mode: triangular, stepsize: 315, base-lr: 1e-06, max-lr 0.0001_3\n"
     ]
    },
    {
     "name": "stderr",
     "output_type": "stream",
     "text": [
      "/home/rick/.conda/envs/hannah_z/lib/python2.7/site-packages/keras/callbacks.py:120: UserWarning: Method on_batch_end() is slow compared to the batch update (0.219787). Check your callbacks.\n",
      "  % delta_t_median)\n"
     ]
    },
    {
     "name": "stdout",
     "output_type": "stream",
     "text": [
      " - Model specifics:\tbatch size: 64, mode: triangular, stepsize: 315, base-lr: 1e-06, max-lr 0.0001_4\n"
     ]
    },
    {
     "name": "stderr",
     "output_type": "stream",
     "text": [
      "/home/rick/.conda/envs/hannah_z/lib/python2.7/site-packages/keras/callbacks.py:120: UserWarning: Method on_batch_end() is slow compared to the batch update (0.224491). Check your callbacks.\n",
      "  % delta_t_median)\n"
     ]
    },
    {
     "name": "stdout",
     "output_type": "stream",
     "text": [
      "Time usage: 0:23:12 minutes\n"
     ]
    }
   ],
   "source": [
    "# build best model again\n",
    "# usual time: 15 / 40 minutes\n",
    "fm = ['FinalModel1', 'FinalModel2', 'FinalModel3', 'FinalModel4', 'FinalModel5']\n",
    "metrics = ['loss', 'acc', 'precision', 'recall']\n",
    "\n",
    "name = ('bs-' + str(batch_size) + '_' + str(mode) + '_sz-' + str(step_size) + '_blr-' + str(base_lr) + '_mlr-' \n",
    "       + str(max_lr)) + '_' + str(weights) + '_' + str(trainable_layers)\n",
    "\n",
    "trainModels(base_lr = base_lr, max_lr= max_lr, epochs = epochs, verbose = 0,\n",
    "           batch_size = batch_size, stepsize = step_size, mode = mode)"
   ]
  },
  {
   "cell_type": "code",
   "execution_count": 41,
   "metadata": {},
   "outputs": [
    {
     "name": "stdout",
     "output_type": "stream",
     "text": [
      "IncResNetV2_bs-64_triangular_sz-315_blr-1e-06_mlr-0.0001_e-48_imagenet_595_0.hdf5\n"
     ]
    }
   ],
   "source": [
    "# find out where 'bs' starts and '_' ends...\n",
    "i = 0\n",
    "filename = str(filepath)[42:117] + str(i) + str(filepath)[118:]\n",
    "print(filename)"
   ]
  },
  {
   "cell_type": "code",
   "execution_count": null,
   "metadata": {},
   "outputs": [],
   "source": []
  },
  {
   "cell_type": "code",
   "execution_count": 42,
   "metadata": {},
   "outputs": [
    {
     "name": "stdout",
     "output_type": "stream",
     "text": [
      "IncResNetV2_bs-64_triangular_sz-315_blr-1e-06_mlr-0.0001_e-48_imagenet_595_0.hdf5\n",
      "\n",
      "IncResNetV2_bs-64_triangular_sz-315_blr-1e-06_mlr-0.0001_e-48_imagenet_595_1.hdf5\n",
      "\n",
      "IncResNetV2_bs-64_triangular_sz-315_blr-1e-06_mlr-0.0001_e-48_imagenet_595_2.hdf5\n",
      "\n",
      "IncResNetV2_bs-64_triangular_sz-315_blr-1e-06_mlr-0.0001_e-48_imagenet_595_3.hdf5\n",
      "\n",
      "IncResNetV2_bs-64_triangular_sz-315_blr-1e-06_mlr-0.0001_e-48_imagenet_595_4.hdf5\n",
      "\n",
      "Time usage: 0:01:55 minutes\n"
     ]
    }
   ],
   "source": [
    "# usual time: 2 minutes\n",
    "startTime = time()\n",
    "FinalModelList = {}\n",
    "for i in range(5):\n",
    "    filename = str(filepath)[42:117] + str(i) + str(filepath)[118:]\n",
    "    print(filename)\n",
    "    os.chdir(weight_dir)\n",
    "    compileModel()\n",
    "    Final_model.load_weights(filename)\n",
    "    FinalModelList[\"FinalModel{0}\".format(i)]= Final_model\n",
    "    test_m = Final_model.evaluate(test_images, test_labels, verbose = 0)\n",
    "    test_m = [round(el, 4) for el in test_m]\n",
    "    valid_m = Final_model.evaluate(valid_images, valid_labels, verbose = 0)\n",
    "    valid_m = [round(el, 4) for el in valid_m]\n",
    "    train_m = Final_model.evaluate(train_images, train_labels, verbose = 0)\n",
    "    train_m = [round(el, 4) for el in train_m]\n",
    "    col = [\"FinalModel{0}\".format(i)]\n",
    "    d3[\"td{0}\".format(i)]= pd.DataFrame(data = test_m[:4], columns = col, index = metrics)\n",
    "#     print('Best test accuracy model {}: {}'.format(i, test_m[1]))\n",
    "#     print('Best validation accuracy model {}: {}'.format(i, valid_m[1]))\n",
    "#     print('Best training accuracy model {}: {}'.format(i, train_m[1]))\n",
    "    print('')\n",
    "endTime = time()\n",
    "finalTime = endTime - startTime\n",
    "print('Time usage: ' + str(timedelta(seconds=int(round(finalTime)))) + ' minutes')"
   ]
  },
  {
   "cell_type": "code",
   "execution_count": 43,
   "metadata": {},
   "outputs": [
    {
     "data": {
      "text/html": [
       "<div>\n",
       "<style scoped>\n",
       "    .dataframe tbody tr th:only-of-type {\n",
       "        vertical-align: middle;\n",
       "    }\n",
       "\n",
       "    .dataframe tbody tr th {\n",
       "        vertical-align: top;\n",
       "    }\n",
       "\n",
       "    .dataframe thead th {\n",
       "        text-align: right;\n",
       "    }\n",
       "</style>\n",
       "<table border=\"1\" class=\"dataframe\">\n",
       "  <thead>\n",
       "    <tr style=\"text-align: right;\">\n",
       "      <th></th>\n",
       "      <th>loss</th>\n",
       "      <th>acc</th>\n",
       "      <th>precision</th>\n",
       "      <th>recall</th>\n",
       "    </tr>\n",
       "  </thead>\n",
       "  <tbody>\n",
       "    <tr>\n",
       "      <th>FinalModel3</th>\n",
       "      <td>0.6300</td>\n",
       "      <td>0.7784</td>\n",
       "      <td>0.7464</td>\n",
       "      <td>0.8570</td>\n",
       "    </tr>\n",
       "    <tr>\n",
       "      <th>FinalModel1</th>\n",
       "      <td>0.6939</td>\n",
       "      <td>0.7762</td>\n",
       "      <td>0.7321</td>\n",
       "      <td>0.8864</td>\n",
       "    </tr>\n",
       "    <tr>\n",
       "      <th>FinalModel4</th>\n",
       "      <td>0.6679</td>\n",
       "      <td>0.7741</td>\n",
       "      <td>0.7318</td>\n",
       "      <td>0.8829</td>\n",
       "    </tr>\n",
       "    <tr>\n",
       "      <th>FinalModel0</th>\n",
       "      <td>0.6521</td>\n",
       "      <td>0.7687</td>\n",
       "      <td>0.7460</td>\n",
       "      <td>0.8272</td>\n",
       "    </tr>\n",
       "    <tr>\n",
       "      <th>FinalModel2</th>\n",
       "      <td>0.7011</td>\n",
       "      <td>0.7580</td>\n",
       "      <td>0.7308</td>\n",
       "      <td>0.8485</td>\n",
       "    </tr>\n",
       "  </tbody>\n",
       "</table>\n",
       "</div>"
      ],
      "text/plain": [
       "               loss     acc  precision  recall\n",
       "FinalModel3  0.6300  0.7784     0.7464  0.8570\n",
       "FinalModel1  0.6939  0.7762     0.7321  0.8864\n",
       "FinalModel4  0.6679  0.7741     0.7318  0.8829\n",
       "FinalModel0  0.6521  0.7687     0.7460  0.8272\n",
       "FinalModel2  0.7011  0.7580     0.7308  0.8485"
      ]
     },
     "execution_count": 43,
     "metadata": {},
     "output_type": "execute_result"
    }
   ],
   "source": [
    "FinalResults = pd.concat([d3['td0'], d3['td1'], d3['td2'], d3['td3'], d3['td4']], axis=1)\n",
    "FinalResults = pd.DataFrame(data = FinalResults.transpose(), columns = metrics)\n",
    "FinalResults.sort_values(by = ['acc'], ascending = False)"
   ]
  },
  {
   "cell_type": "code",
   "execution_count": 44,
   "metadata": {
    "scrolled": true
   },
   "outputs": [
    {
     "name": "stdout",
     "output_type": "stream",
     "text": [
      "934/934 [==============================] - 11s 11ms/step\n"
     ]
    },
    {
     "data": {
      "text/html": [
       "<div>\n",
       "<style scoped>\n",
       "    .dataframe tbody tr th:only-of-type {\n",
       "        vertical-align: middle;\n",
       "    }\n",
       "\n",
       "    .dataframe tbody tr th {\n",
       "        vertical-align: top;\n",
       "    }\n",
       "\n",
       "    .dataframe thead th {\n",
       "        text-align: right;\n",
       "    }\n",
       "</style>\n",
       "<table border=\"1\" class=\"dataframe\">\n",
       "  <thead>\n",
       "    <tr style=\"text-align: right;\">\n",
       "      <th></th>\n",
       "      <th>loss</th>\n",
       "      <th>acc</th>\n",
       "      <th>precision</th>\n",
       "      <th>recall</th>\n",
       "    </tr>\n",
       "  </thead>\n",
       "  <tbody>\n",
       "    <tr>\n",
       "      <th>ensembleModel</th>\n",
       "      <td>0.600425</td>\n",
       "      <td>0.775161</td>\n",
       "      <td>0.738813</td>\n",
       "      <td>0.872498</td>\n",
       "    </tr>\n",
       "  </tbody>\n",
       "</table>\n",
       "</div>"
      ],
      "text/plain": [
       "                   loss       acc  precision    recall\n",
       "ensembleModel  0.600425  0.775161   0.738813  0.872498"
      ]
     },
     "execution_count": 44,
     "metadata": {},
     "output_type": "execute_result"
    },
    {
     "data": {
      "text/html": [
       "<div>\n",
       "<style scoped>\n",
       "    .dataframe tbody tr th:only-of-type {\n",
       "        vertical-align: middle;\n",
       "    }\n",
       "\n",
       "    .dataframe tbody tr th {\n",
       "        vertical-align: top;\n",
       "    }\n",
       "\n",
       "    .dataframe thead th {\n",
       "        text-align: right;\n",
       "    }\n",
       "</style>\n",
       "<table border=\"1\" class=\"dataframe\">\n",
       "  <thead>\n",
       "    <tr style=\"text-align: right;\">\n",
       "      <th></th>\n",
       "      <th>loss</th>\n",
       "      <th>acc</th>\n",
       "      <th>precision</th>\n",
       "      <th>recall</th>\n",
       "    </tr>\n",
       "  </thead>\n",
       "  <tbody>\n",
       "    <tr>\n",
       "      <th>FinalModel3</th>\n",
       "      <td>0.630000</td>\n",
       "      <td>0.778400</td>\n",
       "      <td>0.746400</td>\n",
       "      <td>0.857000</td>\n",
       "    </tr>\n",
       "    <tr>\n",
       "      <th>FinalModel1</th>\n",
       "      <td>0.693900</td>\n",
       "      <td>0.776200</td>\n",
       "      <td>0.732100</td>\n",
       "      <td>0.886400</td>\n",
       "    </tr>\n",
       "    <tr>\n",
       "      <th>ensembleModel</th>\n",
       "      <td>0.600425</td>\n",
       "      <td>0.775161</td>\n",
       "      <td>0.738813</td>\n",
       "      <td>0.872498</td>\n",
       "    </tr>\n",
       "    <tr>\n",
       "      <th>FinalModel4</th>\n",
       "      <td>0.667900</td>\n",
       "      <td>0.774100</td>\n",
       "      <td>0.731800</td>\n",
       "      <td>0.882900</td>\n",
       "    </tr>\n",
       "    <tr>\n",
       "      <th>FinalModel0</th>\n",
       "      <td>0.652100</td>\n",
       "      <td>0.768700</td>\n",
       "      <td>0.746000</td>\n",
       "      <td>0.827200</td>\n",
       "    </tr>\n",
       "    <tr>\n",
       "      <th>FinalModel2</th>\n",
       "      <td>0.701100</td>\n",
       "      <td>0.758000</td>\n",
       "      <td>0.730800</td>\n",
       "      <td>0.848500</td>\n",
       "    </tr>\n",
       "  </tbody>\n",
       "</table>\n",
       "</div>"
      ],
      "text/plain": [
       "                   loss       acc  precision    recall\n",
       "FinalModel3    0.630000  0.778400   0.746400  0.857000\n",
       "FinalModel1    0.693900  0.776200   0.732100  0.886400\n",
       "ensembleModel  0.600425  0.775161   0.738813  0.872498\n",
       "FinalModel4    0.667900  0.774100   0.731800  0.882900\n",
       "FinalModel0    0.652100  0.768700   0.746000  0.827200\n",
       "FinalModel2    0.701100  0.758000   0.730800  0.848500"
      ]
     },
     "execution_count": 44,
     "metadata": {},
     "output_type": "execute_result"
    }
   ],
   "source": [
    "models = [FinalModelList['FinalModel0'], FinalModelList['FinalModel1'], FinalModelList['FinalModel2'], \\\n",
    "          FinalModelList['FinalModel3'], FinalModelList['FinalModel4']]\n",
    "def ensemble(models):    \n",
    "    global eModel\n",
    "    outputs = [model.outputs[0] for model in models]\n",
    "    y = keras.layers.Average()(outputs)   \n",
    "    eModel = Model(inputs=Model_base.input, outputs = y, name='ensemble')  \n",
    "    eModel.compile(optimizer='rmsprop', loss='binary_crossentropy',\n",
    "                   metrics=['accuracy', precision, recall, fmeasure])\n",
    "    return eModel\n",
    "ensemble_model = ensemble(models)\n",
    "ensResults = ensemble_model.evaluate(test_images, test_labels)\n",
    "Res = pd.DataFrame(data = ensResults[:4], columns = ['ensembleModel'], index = metrics)\n",
    "Res.transpose()\n",
    "FinalResults = pd.concat([d3['td0'], d3['td1'], d3['td2'], d3['td3'], d3['td4'], Res], axis=1)\n",
    "FinalResults = pd.DataFrame(data = FinalResults.transpose(), columns = metrics)\n",
    "FinalResults.sort_values(by = ['acc'], ascending = False)"
   ]
  },
  {
   "cell_type": "code",
   "execution_count": 46,
   "metadata": {},
   "outputs": [
    {
     "name": "stdout",
     "output_type": "stream",
     "text": [
      "IncResNetV2_bs-64_triangular_sz-315_blr-1e-06_mlr-0.0001_e-48_imagenet_595_3\n"
     ]
    }
   ],
   "source": [
    "# change again the path name\n",
    "# saving the model   \n",
    "i = 3\n",
    "#FinName = str(filepath)[42:120] + '_ensemble' \n",
    "FinName = str(filepath)[42:117] + str(i)\n",
    "print(FinName)\n",
    "os.chdir(model_dir)\n",
    "#Final_model1 = ensemble_model # or\n",
    "Final_model = FinalModelList['FinalModel{0}'.format(i)]\n",
    "# predictions = np.round(Final_model.predict(test_images),4)           \n",
    "# predictions_ensemble = np.round(Final_model1.predict(test_images),4)\n",
    "# for v1, v2 in zip(predictions[:5], predictions_ensemble[:5]):\n",
    "#     print('Best model prediction and ensemble prediction: \\t{} \\t{}'.format(v1, v2))"
   ]
  },
  {
   "cell_type": "code",
   "execution_count": 47,
   "metadata": {},
   "outputs": [],
   "source": [
    "Final_model.save(FinName)"
   ]
  },
  {
   "cell_type": "code",
   "execution_count": null,
   "metadata": {},
   "outputs": [],
   "source": [
    "# calculating the ROC    \n",
    "y_pred = Final_model.predict(test_images, batch_size = 64)\n",
    "y_true = test_labels\n",
    "fpr, tpr, thresholds = roc_curve(y_true, y_pred, pos_label = 1)\n",
    "roc_auc = auc(fpr, tpr)\n",
    "plt.figure()\n",
    "plt.plot(fpr, tpr, color='lime',\n",
    "         lw=2, label='ROC curve (area = %0.2f)' % roc_auc)\n",
    "plt.plot([0, 1], [0, 1], color='darkgrey', lw=2, linestyle='--')\n",
    "plt.xlim([-0.05, 1.0])\n",
    "plt.ylim([0.0, 1.05])\n",
    "plt.xlabel('False Positive Rate')\n",
    "plt.ylabel('True Positive Rate')\n",
    "plt.title('Receiver operating characteristic Curve')\n",
    "plt.legend(loc=\"lower right\")\n",
    "plt.show()"
   ]
  },
  {
   "cell_type": "code",
   "execution_count": null,
   "metadata": {
    "collapsed": true
   },
   "outputs": [],
   "source": [
    "# calculating the ROC    \n",
    "y_pred = Final_model.predict(test_images, batch_size = 64)\n",
    "y_true = test_labels\n",
    "fpr, tpr, thresholds = roc_curve(y_true, y_pred, pos_label = 1)\n",
    "roc_auc = auc(fpr, tpr)\n",
    "plt.figure()\n",
    "plt.plot(fpr, tpr, color='lime',\n",
    "         lw=2, label='ROC curve (area = %0.2f)' % roc_auc)\n",
    "plt.plot([0, 1], [0, 1], color='darkgrey', lw=2, linestyle='--')\n",
    "plt.xlim([-0.05, 1.0])\n",
    "plt.ylim([0.0, 1.05])\n",
    "plt.xlabel('False Positive Rate')\n",
    "plt.ylabel('True Positive Rate')\n",
    "plt.title('Receiver operating characteristic Curve')\n",
    "plt.legend(loc=\"lower right\")\n",
    "plt.show()\n",
    "\n",
    "# evaluation with bootstrapping\n",
    "seed(1)\n",
    "ratio = 0.1\n",
    "y_pred_1 = Final_model.predict(test_images, batch_size = 64).squeeze(axis = 1)\n",
    "def subsample(dataset = y_pred_1, labels = test_labels, ratio= ratio):\n",
    "    pred_sample = list()\n",
    "    label_sample = list()\n",
    "    n_sample = round(len(dataset) * ratio)\n",
    "    index = sample(range(len(dataset)), n_sample)\n",
    "    pred_sample = dataset[index]\n",
    "    label_sample = labels[index]           \n",
    "    return pred_sample, label_sample\n",
    "\n",
    "loss = []\n",
    "accuracy = []\n",
    "precisions = []\n",
    "recalls = []\n",
    "f_measures = []\n",
    "    \n",
    "def bootstrap(iterations = 20, ratio = ratio, dataset = y_pred_1, labels = test_labels):    \n",
    "    for i in range (iterations):\n",
    "        b_pred, b_labels = subsample(dataset, labels, ratio)\n",
    "        lo = cross_entropy(b_pred, b_labels)\n",
    "        b_pred_rounded = b_pred.round()\n",
    "        acc = accuracy_score(b_labels, b_pred_rounded)\n",
    "        pre = precision_score(b_labels, b_pred_rounded)\n",
    "        rec = recall_score(b_labels, b_pred_rounded)\n",
    "        fme = f1_score(b_labels, b_pred_rounded)\n",
    "        loss.append(lo)\n",
    "        accuracy.append(acc)\n",
    "        precisions.append(pre)\n",
    "        recalls.append(rec)\n",
    "        f_measures.append(fme)\n",
    "        if (i%100 == 0): \n",
    "            print('Iteration_' + str(i))\n",
    "        \n",
    "bootstrap(iterations = 10000)\n",
    "plt.hist(accuracy, bins = 100, range = [0,1])\n",
    "plt.hist(precisions, bins = 100, range = [0,1])\n",
    "plt.hist(recalls, bins = 100, range = [0,1])\n",
    "plt.hist(loss, bins = 100)\n",
    "\n",
    "##################### second training stage ###################################\n",
    "for i, layer in enumerate(Model_base.layers):\n",
    "   if ('mix' in layer.name):\n",
    "       print(i, layer.name)\n",
    "for layer in Final_model.layers[:275]:\n",
    "   layer.trainable = False\n",
    "for layer in Final_model.layers[275:]:\n",
    "   layer.trainable = True\n",
    "\n",
    "Final_model.compile(optimizer=SGD(lr=0.0001, momentum=0.9), \n",
    "              loss='binary_crossentropy', metrics = ['acc'])\n",
    "def train2_IncResNet_model(epochs = 21):\n",
    "    global no_of_epochs\n",
    "    Final_model.fit(x = train_images, y = train_labels, epochs = epochs)\n",
    "    no_of_epochs = no_of_epochs + epochs\n",
    "train2_IncResNet_model(epochs = 21)\n",
    "\n",
    "result = Final_model.evaluate(test_images, test_labels)\n",
    "for name, value in zip(Final_model.metrics_names, result):\n",
    "    print(name, value)\n",
    "\n",
    "### making predictions on the test data\n",
    "predictions = Final_model.predict(test_images).squeeze(axis = 1)\n",
    "binary_preds = predictions.round()\n",
    "print(predictions[0:10], binary_preds[0:10])\n",
    "\n",
    "# Plot a few images to see if the data is correct\n",
    "images = test_images[9:18]\n",
    "cls_true = test_labels[9:18].astype(int)\n",
    "plot_images(images=images, cls_true=cls_true)\n",
    "cls_pred = binary_preds[9:18]\n",
    "plot_images(images=images, cls_true=cls_true, cls_pred = cls_pred)    \n",
    "\n",
    "### checking test accuracy, example errors and confusion matrix\n",
    "print_test_accuracy\n",
    "\n",
    "### checking which layers are convolutional layers\n",
    "for i, layer in enumerate(Model_base.layers):\n",
    "   if ('conv' in layer.name):\n",
    "       print(i, layer.name)\n",
    "\n",
    "plot_weights(input_channel = 0, layer_index = 1)\n",
    "plot_weights(input_channel = 1, layer_index = 1)\n",
    "\n",
    "\n",
    "\n",
    "\n",
    "\n",
    "\n",
    "\n",
    "\n",
    "\n",
    "\n",
    "\n",
    "\n",
    "\n",
    "\n",
    "\n",
    "\n",
    "\n",
    "\n",
    "#*****************************************************************************\n",
    "################# HELPER FUNCTIONS ###########################################\n",
    "#\n",
    "#*****************************************************************************\n",
    "\n",
    "### Helper function for confusion matrix #####################################\n",
    "import itertools\n",
    "classes = ['no sp', 'sp']\n",
    "\n",
    "def plot_confusion_matrix(cm = cm, classes = classes,\n",
    "                          normalize=False,\n",
    "                          title='Confusion matrix',\n",
    "                          cmap=plt.cm.Blues):\n",
    "    \"\"\"\n",
    "    This function prints and plots the confusion matrix.\n",
    "    Normalization can be applied by setting `normalize=True`.\n",
    "    \"\"\"\n",
    "    if normalize:\n",
    "        cm = cm.astype('float') / cm.sum()\n",
    "        print(\"Normalized confusion matrix\")\n",
    "    else:\n",
    "        print('Confusion matrix, without normalization')\n",
    "    print(cm)\n",
    "    plt.imshow(cm, interpolation='nearest', cmap=cmap)\n",
    "    plt.title(title)\n",
    "    plt.colorbar()\n",
    "    tick_marks = np.arange(len(classes))\n",
    "    plt.xticks(tick_marks, classes)\n",
    "    plt.yticks(tick_marks, classes)\n",
    "    fmt = '.2f' if normalize else 'd'\n",
    "    thresh = cm.max() / 2.\n",
    "    for i, j in itertools.product(range(cm.shape[0]), range(cm.shape[1])):\n",
    "        plt.text(j, i, format(cm[i, j], fmt),\n",
    "                 horizontalalignment=\"center\",\n",
    "                 color=\"white\" if cm[i, j] > thresh else \"black\")     \n",
    "    plt.tight_layout(pad = 2)\n",
    "    plt.ylabel('True label')\n",
    "    plt.xlabel('Predicted label')\n",
    "\n",
    "\n",
    "###### Helper function for plotting images ####################################\n",
    "def plot_images(images, cls_true, cls_pred=None):\n",
    "    assert len(images) == len(cls_true) == 9\n",
    "    # Create figure with 3x3 sub-plots.\n",
    "    fig, axes = plt.subplots(3, 3)\n",
    "    fig.subplots_adjust(hspace=0.3, wspace=0.3)\n",
    "    for i, ax in enumerate(axes.flat):\n",
    "        ax.imshow(images[i], cmap='binary')\n",
    "        if cls_pred is None:\n",
    "            xlabel = \"Label: {0}\".format(cls_true[i])\n",
    "        else:\n",
    "            xlabel = \"Label: {0}, Pred: {1}\".format(cls_true[i], cls_pred[i])\n",
    "        # Show the classes as the label on the x-axis.\n",
    "        ax.set_xlabel(xlabel)\n",
    "        ax.set_xticks([])\n",
    "        ax.set_yticks([])\n",
    "    plt.show() \n",
    "    \n",
    "### Example errors\n",
    "def plot_example_errors(cls_pred, correct):\n",
    "    incorrect = (correct == False)\n",
    "    images = test_images[incorrect]\n",
    "    cls_pred = cls_pred[incorrect]\n",
    "    cls_true = test_labels[incorrect]\n",
    "    plot_images(images=images[0:9],\n",
    "                cls_true=cls_true[0:9],\n",
    "                cls_pred=cls_pred[0:9])\n",
    "\n",
    "def print_test_accuracy(show_example_errors=True,\n",
    "                        show_confusion_matrix=True, \n",
    "                        show_first_10_preds = True):\n",
    "    num_test = len(test_images)\n",
    "    #cls_pred = np.zeros(shape=num_test, dtype=np.int)\n",
    "    cls_pred = Final_model.predict(test_images).squeeze(axis = 1).round()\n",
    "    cls_true = test_labels\n",
    "    correct = (cls_true == cls_pred)\n",
    "    correct_sum = correct.sum()\n",
    "    acc = float(correct_sum) / num_test\n",
    "    msg = \"Accuracy on Test-Set: {0:.1%} ({1} / {2})\"\n",
    "    print(msg.format(acc, correct_sum, num_test))\n",
    "    # Plot some examples of mis-classifications, if desired.\n",
    "    if show_example_errors:\n",
    "        print(\"Example errors:\")\n",
    "        plot_example_errors(cls_pred=cls_pred, correct=correct)\n",
    "    # Plot the confusion matrix, if desired.\n",
    "    if show_confusion_matrix:\n",
    "        print(\"Confusion Matrix:\")\n",
    "        cm = confusion_matrix(test_labels, cls_pred.round())\n",
    "        plot_confusion_matrix(cm = cm)\n",
    "    # Show the first hundred predictions made:\n",
    "    if show_first_10_preds:\n",
    "        print(\"First 10 predictions:\")\n",
    "        print(cls_pred[0:10])\n",
    "\n",
    "\n",
    "#### Helper function for plotting the output of a convolutional layer\n",
    "#def plot_conv_layer(layer, image):\n",
    "#    feed_dict = {x: [image]}\n",
    "#    values = IncResNet_model.run(layer, feed_dict=feed_dict)\n",
    "#    num_filters = values.shape[3]\n",
    "#    num_grids = math.ceil(math.sqrt(num_filters))\n",
    "#    fig, axes = plt.subplots(num_grids, num_grids)\n",
    "#    for i, ax in enumerate(axes.flat):\n",
    "#        if i<num_filters:\n",
    "#            img = values[0, :, :, i]\n",
    "#            ax.imshow(img, interpolation='nearest', cmap='binary')\n",
    "#        ax.set_xticks([])\n",
    "#        ax.set_yticks([])\n",
    "#    plt.show()\n",
    "\n",
    "### Helper function for conv weights\n",
    "def plot_weights(input_channel=0, layer_index = 1):\n",
    "    w = Final_model.layers[layer_index].get_weights()[0]\n",
    "    w_min = np.min(w)\n",
    "    w_max = np.max(w)\n",
    "    num_filters = w.shape[3]\n",
    "    num_grids = math.ceil(math.sqrt(num_filters))\n",
    "    fig, axes = plt.subplots(num_grids, num_grids)\n",
    "    for i, ax in enumerate(axes.flat):\n",
    "        if i<num_filters:\n",
    "            img = w[:, :, input_channel, i]\n",
    "            ax.imshow(img, vmin=w_min, vmax=w_max,\n",
    "                      interpolation='nearest', cmap='seismic')\n",
    "        ax.set_xticks([])\n",
    "        ax.set_yticks([])\n",
    "    plt.show()"
   ]
  }
 ],
 "metadata": {
  "kernelspec": {
   "display_name": "Python [default]",
   "language": "python",
   "name": "python2"
  },
  "language_info": {
   "codemirror_mode": {
    "name": "ipython",
    "version": 2
   },
   "file_extension": ".py",
   "mimetype": "text/x-python",
   "name": "python",
   "nbconvert_exporter": "python",
   "pygments_lexer": "ipython2",
   "version": "2.7.15"
  }
 },
 "nbformat": 4,
 "nbformat_minor": 2
}
