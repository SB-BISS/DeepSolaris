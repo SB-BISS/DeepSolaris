{
 "cells": [
  {
   "cell_type": "code",
   "execution_count": 2,
   "metadata": {
    "collapsed": true
   },
   "outputs": [],
   "source": [
    "from __future__ import absolute_import\n",
    "from __future__ import division\n",
    "from __future__ import print_function\n",
    "\n",
    "### setting the different directories \n",
    "\n",
    "# on the server (linux):\n",
    "# where to find the images:\n",
    "home_dir = '/home/rick/Documents/HannahZ'\n",
    "# folder where to save code and so on\n",
    "code_dir = home_dir + '/Code'\n",
    "# where to save the final models\n",
    "model_dir = code_dir + '/Final_models'\n",
    "# where to save the logs for visualization in TensorBoard\n",
    "log_dir = code_dir + '/logs'\n",
    "# where to save the weights\n",
    "new_weight_dir = code_dir + '/new_weights'\n",
    "\n",
    "\n",
    "# on my computer (windows):\n",
    "# where to find the images:\n",
    "#home_dir = '\\\\Users\\\\ThinkPad User\\\\Google Drive\\\\DeepSolaris'\n",
    "# folder where to save code and so on\n",
    "#code_dir = '\\\\Users\\\\ThinkPad User\\\\Google Drive\\\\Master_thesis_H_Z_DL&NN\\\\Coding'\n",
    "# where to save the final models\n",
    "#model_dir = code_dir + '\\\\Final_models_saved'\n",
    "# where to save the logs for visualization in TensorBoard\n",
    "#log_dir = code_dir + '\\\\logs'\n",
    "import os\n",
    "os.chdir(home_dir)"
   ]
  },
  {
   "cell_type": "code",
   "execution_count": 3,
   "metadata": {
    "collapsed": true
   },
   "outputs": [],
   "source": [
    "modelname = 'IncResNetV2'"
   ]
  },
  {
   "cell_type": "code",
   "execution_count": 4,
   "metadata": {},
   "outputs": [
    {
     "name": "stderr",
     "output_type": "stream",
     "text": [
      "Using TensorFlow backend.\n"
     ]
    }
   ],
   "source": [
    "from keras import backend as K\n",
    "from keras.models import Model\n",
    "from keras.layers import Activation\n",
    "from keras.layers import AveragePooling2D\n",
    "from keras.layers import BatchNormalization\n",
    "from keras.layers import Concatenate\n",
    "from keras.layers import Conv2D\n",
    "from keras.layers import Dense\n",
    "from keras.layers import GlobalAveragePooling2D\n",
    "from keras.layers import GlobalMaxPooling2D\n",
    "from keras.layers import Input\n",
    "from keras.layers import MaxPooling2D\n",
    "from keras.layers import ZeroPadding2D\n",
    "from keras.utils.data_utils import get_file\n",
    "from keras.engine import get_source_inputs\n",
    "from keras.applications import imagenet_utils\n",
    "from keras.applications.imagenet_utils import decode_predictions\n",
    "from keras.applications.imagenet_utils import _obtain_input_shape \n",
    "\n",
    "from sklearn.model_selection import cross_validate\n",
    "from sklearn.metrics import roc_curve\n",
    "from sklearn.metrics import auc\n",
    "from sklearn.metrics import precision_score\n",
    "from sklearn.metrics import recall_score\n",
    "from sklearn.metrics import f1_score\n",
    "from keras.losses import binary_crossentropy\n",
    "\n",
    "\n",
    "from random import randrange\n",
    "from random import seed\n",
    "from random import sample\n",
    "import tensorflow as tf\n",
    "\n",
    "\n",
    "import itertools\n",
    "import matplotlib.pyplot as plt\n",
    "import numpy as np\n",
    "import pandas as pd\n",
    "from time import time\n",
    "from datetime import timedelta\n",
    "import math\n",
    "from sklearn.model_selection import train_test_split\n",
    "from datetime import datetime\n",
    "from keras.preprocessing import image\n",
    "from keras.optimizers import SGD\n",
    "from sklearn.metrics import accuracy_score\n",
    "from sklearn.metrics import confusion_matrix\n",
    "from keras.models import load_model\n",
    "from keras.callbacks import TensorBoard\n",
    "from keras.callbacks import EarlyStopping\n",
    "from keras.callbacks import ModelCheckpoint\n",
    "import keras\n",
    "from keras.callbacks import Callback\n",
    "from keras.applications.inception_resnet_v2 import InceptionResNetV2\n",
    "\n",
    "\n",
    "os.chdir(code_dir)\n",
    "\n",
    "from Learning_rate_scheduler import LrReducer\n",
    "from CyclicLR import CyclicLR"
   ]
  },
  {
   "cell_type": "code",
   "execution_count": 5,
   "metadata": {
    "collapsed": true
   },
   "outputs": [],
   "source": [
    "seed(0)"
   ]
  },
  {
   "cell_type": "code",
   "execution_count": 6,
   "metadata": {},
   "outputs": [
    {
     "name": "stdout",
     "output_type": "stream",
     "text": [
      "Size of:\n",
      "- Training-set:\t\t3357\n",
      "- Validation-set:\t374\n",
      "- Test-set:\t\t934\n"
     ]
    }
   ],
   "source": [
    "### Helper metrics functions\n",
    "\n",
    "def precision(y_true, y_pred):\n",
    "    true_positives = K.sum(K.round(K.clip(y_true * y_pred, 0, 1)))\n",
    "    predicted_positives = K.sum(K.round(K.clip(y_pred, 0, 1)))\n",
    "    precision = true_positives / (predicted_positives + K.epsilon())\n",
    "    return precision\n",
    "    \n",
    "def recall(y_true, y_pred):\n",
    "    true_positives = K.sum(K.round(K.clip(y_true * y_pred, 0, 1)))\n",
    "    possible_positives = K.sum(K.round(K.clip(y_true, 0, 1)))\n",
    "    recall = true_positives / (possible_positives + K.epsilon())\n",
    "    return recall\n",
    "    \n",
    "    \n",
    "def fbeta_score(y_true, y_pred, beta=1):\n",
    "    if beta < 0:\n",
    "        raise ValueError('The lowest choosable beta is zero (only precision).')\n",
    "    # If there are no true positives, fix the F score at 0 like sklearn.\n",
    "    if K.sum(K.round(K.clip(y_true, 0, 1))) == 0:\n",
    "        return 0\n",
    "    p = precision(y_true, y_pred)\n",
    "    r = recall(y_true, y_pred)\n",
    "    bb = beta ** 2\n",
    "    fbeta_score = (1 + bb) * (p * r) / (bb * p + r + K.epsilon())\n",
    "    return fbeta_score\n",
    "def fmeasure(y_true, y_pred):\n",
    "    return fbeta_score(y_true, y_pred, beta=1)\n",
    "\n",
    "no_of_epochs = 0\n",
    "\n",
    "### check if data are in the right format\n",
    "K.image_data_format() == 'channels_last'\n",
    "\n",
    "os.chdir(home_dir)\n",
    "train_images = np.load('training_images_AcMüDüHo.npy')\n",
    "valid_images = np.load('validation_images_AcMüDüHo.npy')\n",
    "test_images = np.load('test_images_AcMüDüHo.npy')\n",
    "train_labels = np.load('training_labels_AcMüDüHo.npy')\n",
    "valid_labels = np.load('validation_labels_AcMüDüHo.npy')\n",
    "test_labels = np.load('test_labels_AcMüDüHo.npy')\n",
    "\n",
    "print(\"Size of:\")\n",
    "print(\"- Training-set:\\t\\t{}\".format(len(train_labels)))\n",
    "print(\"- Validation-set:\\t{}\".format(len(valid_labels)))\n",
    "print(\"- Test-set:\\t\\t{}\".format(len(test_labels)))"
   ]
  },
  {
   "cell_type": "code",
   "execution_count": 7,
   "metadata": {},
   "outputs": [
    {
     "data": {
      "text/plain": [
       "780"
      ]
     },
     "execution_count": 7,
     "metadata": {},
     "output_type": "execute_result"
    }
   ],
   "source": [
    "# choose training specifications (None or 'imagenet')\n",
    "weights = 'imagenet'\n",
    "#tf.reset_default_graph()\n",
    "\n",
    "# importing the currently used model\n",
    "os.chdir(code_dir)\n",
    "\n",
    "### create the base pre-trained model\n",
    "# usually takes around 30 seconds\n",
    "Model_base = InceptionResNetV2(weights = weights, include_top=False)\n",
    "# find out how many layers exist to find right number of trainable layers\n",
    "len(Model_base.layers)"
   ]
  },
  {
   "cell_type": "code",
   "execution_count": 8,
   "metadata": {
    "collapsed": true
   },
   "outputs": [],
   "source": [
    "# choose layers for split\n",
    "# for i, layer in enumerate(Model_base.layers):\n",
    "#      if ('pool' in layer.name):\n",
    "#         print(i, layer.name)"
   ]
  },
  {
   "cell_type": "code",
   "execution_count": 9,
   "metadata": {},
   "outputs": [
    {
     "data": {
      "text/plain": [
       "419.625"
      ]
     },
     "execution_count": 9,
     "metadata": {},
     "output_type": "execute_result"
    }
   ],
   "source": [
    "# choose trainable layers as 'Frozen' or 'All' or some number\n",
    "trainable_layers = 'All'\n",
    "# otherwise trainable_layers = x\n",
    "# add a global spatial average pooling layer to the pretrained model to \n",
    "# finish its compilation\n",
    "def compileModel(trainable_layers = 'Frozen'):\n",
    "    global Final_model\n",
    "    x = Model_base.output\n",
    "    x = GlobalAveragePooling2D()(x)\n",
    "    # let's add a fully-connected layer\n",
    "    x = Dense(512, activation='relu')(x)\n",
    "    preds = Dense(1, activation='sigmoid')(x)\n",
    "    Final_model = Model(inputs=Model_base.input, outputs=preds)\n",
    "    if (trainable_layers == 'Frozen'):\n",
    "        for layer in Model_base.layers:   # only train the new layers first\n",
    "            layer.trainable = False\n",
    "    elif (trainable_layers == 'All'):\n",
    "        for layer in Model_base.layers:   # only train the new layers first\n",
    "            layer.trainable = True\n",
    "    else:\n",
    "        for layer in Model_base.layers[:trainable_layers]:\n",
    "            layer.trainable = False\n",
    "        for layer in Model_base.layers[trainable_layers:]:  \n",
    "            layer.trainable = True\n",
    "    Final_model.compile(optimizer='rmsprop', loss='binary_crossentropy', \n",
    "                            metrics=['accuracy', precision, recall, fmeasure])\n",
    "# calculating the stepsize\n",
    "(3357/64)*8"
   ]
  },
  {
   "cell_type": "code",
   "execution_count": 10,
   "metadata": {},
   "outputs": [
    {
     "name": "stdout",
     "output_type": "stream",
     "text": [
      "imagenet\n",
      "All\n"
     ]
    }
   ],
   "source": [
    "###################### first training stage ###################################\n",
    "batch_size = 64\n",
    "step_size = 420\n",
    "base_lr = 0.00001\n",
    "max_lr = 0.001\n",
    "epochs = 48\n",
    "mode = 'triangular'\n",
    "def train_Model(verbose =1, times = 2, epochs = epochs, base_lr = base_lr, max_lr= max_lr, mode = mode, \n",
    "                stepsize = step_size, batch_size = batch_size, use_tensorboard = False):\n",
    "    start_time = time()   \n",
    "    global h\n",
    "    global no_of_epochs\n",
    "    global name\n",
    "    date = str(datetime.now().date())\n",
    "    # logdir in linux:\n",
    "    logdir = (log_dir + '/' + date + '_' + str(batch_size) + '_' + str(mode) + '_si-' + str(stepsize) + '_base-' \n",
    "              + str(base_lr) + '_max-' + str(max_lr) + '_' + str(times))\n",
    "    # logdir in windows:\n",
    "    ##logdir = (log_dir + '\\\\' + date + '_' + str(batch_size) + '_' + str(mode) + '_si-' + str(stepsize) + \n",
    "    #          '_base-' + str(base_lr) + '_max-' + str(max_lr) + '_' + str(times))\n",
    "    name = ('batch size: ' + str(batch_size) + ', mode: ' + str(mode) + ', stepsize: ' \n",
    "            + str(stepsize) + ', base-lr: ' + str(base_lr) + ', max-lr ' + str(max_lr) + ', *' + str(times))\n",
    "    print(' - Model specifics:\\t{}'.format(name))\n",
    "    clr = CyclicLR(base_lr = base_lr, max_lr=max_lr,\n",
    "                        step_size= stepsize, mode = mode)\n",
    "    tbCallBack = TensorBoard(log_dir=logdir, histogram_freq=0, \n",
    "                         write_graph=False, write_images=False)\n",
    "    if (use_tensorboard == True):\n",
    "        Final_model.fit(x = train_images, y = train_labels, epochs = epochs, callbacks= [tbCallBack, clr], \n",
    "                            validation_data = (valid_images, valid_labels), batch_size = batch_size, \n",
    "                            verbose = verbose)\n",
    "    else:\n",
    "        Final_model.fit(x = train_images, y = train_labels, epochs = epochs, callbacks= [clr], \n",
    "                            validation_data = (valid_images, valid_labels), batch_size = batch_size, \n",
    "                            verbose = verbose)\n",
    "    no_of_epochs = no_of_epochs + epochs\n",
    "    h = []\n",
    "    h = clr.history\n",
    "    end_time = time()\n",
    "    time_dif = end_time - start_time\n",
    "    print('Time usage: ' + str(timedelta(seconds=int(round(time_dif)))) + ' minutes')\n",
    "print(weights)\n",
    "print(trainable_layers)"
   ]
  },
  {
   "cell_type": "code",
   "execution_count": 9,
   "metadata": {},
   "outputs": [
    {
     "name": "stdout",
     "output_type": "stream",
     "text": [
      " - Model specifics:\tbatch size: 64, mode: triangular, stepsize: 420, base-lr: 1e-05, max-lr 0.001, *5\n",
      "Time usage: 0:03:42 minutes\n",
      "3357/3357 [==============================] - 3s 955us/step\n",
      "374/374 [==============================] - 1s 2ms/step\n",
      "934/934 [==============================] - 1s 1ms/step\n",
      "- Training accuracy:\t0.7739\n",
      "- Validation accuracy:\t0.7433\n",
      "- Test accuracy:\t0.7527\n"
     ]
    },
    {
     "data": {
      "text/plain": [
       "[<matplotlib.lines.Line2D at 0x7f009ac6c590>]"
      ]
     },
     "execution_count": 9,
     "metadata": {},
     "output_type": "execute_result"
    },
    {
     "data": {
      "image/png": "[encoded data removed]",
      "text/plain": [
       "<matplotlib.figure.Figure at 0x7f009b818550>"
      ]
     },
     "metadata": {},
     "output_type": "display_data"
    }
   ],
   "source": [
    "compileModel()\n",
    "train_Model(times = 5, use_tensorboard = True, verbose = 0)\n",
    "train_acc = round(Final_model.evaluate(train_images, train_labels, 128)[1],4)\n",
    "valid_acc = round(Final_model.evaluate(valid_images, valid_labels, 128)[1],4)\n",
    "test_acc = round(Final_model.evaluate(test_images, test_labels, 128)[1],4)\n",
    "\n",
    "print(\"- Training accuracy:\\t{}\".format(train_acc))\n",
    "print(\"- Validation accuracy:\\t{}\".format(valid_acc))\n",
    "print(\"- Test accuracy:\\t{}\".format(test_acc))\n",
    "\n",
    "%matplotlib inline\n",
    "lr = h['lr'][:step_size]\n",
    "acc = h['acc'][:step_size]\n",
    "plt.plot(lr, acc)"
   ]
  },
  {
   "cell_type": "code",
   "execution_count": 10,
   "metadata": {
    "collapsed": true
   },
   "outputs": [],
   "source": [
    "### choose your learning rates now! The one where the accuracy starts to rise as base_lr and the one where it stops\n",
    "### growing/ starts to tumble as max_lr\n",
    "baseLRS = [0.000001, 0.00001, 0.00005]\n",
    "maxLRS = [0.0001, 0.0003, 0.0005]"
   ]
  },
  {
   "cell_type": "code",
   "execution_count": 11,
   "metadata": {
    "collapsed": true
   },
   "outputs": [],
   "source": [
    "# experiment with different learning rate ranges\n",
    "def learning_rate_finder(rep = 5, baseLRS = baseLRS, maxLRS = maxLRS):\n",
    "    start_time = time() \n",
    "    global test_acc_list\n",
    "    global valid_acc_list\n",
    "    global train_acc_list\n",
    "    global test_loss_list\n",
    "    global valid_loss_list\n",
    "    global train_loss_list\n",
    "    global test_prec_list\n",
    "    global valid_prec_list\n",
    "    global train_prec_list\n",
    "    global test_rec_list\n",
    "    global valid_rec_list\n",
    "    global train_rec_list\n",
    "    global model_details\n",
    "    model_details = []\n",
    "    test_acc_list = []\n",
    "    valid_acc_list = []\n",
    "    train_acc_list = []\n",
    "    test_loss_list = []\n",
    "    valid_loss_list = []\n",
    "    train_loss_list = []\n",
    "    test_prec_list = []\n",
    "    valid_prec_list = []\n",
    "    train_prec_list = []\n",
    "    test_rec_list = []\n",
    "    valid_rec_list = []\n",
    "    train_rec_list = []\n",
    "    for blr in baseLRS:\n",
    "        print('NEXT LEARNINGRATE: {}'.format(blr))\n",
    "        for mlr in maxLRS:\n",
    "            print('Models with base lr = ' + str(blr) + ' and max lr = ' + str(mlr))\n",
    "            for i in range(rep):\n",
    "                    compileModel()\n",
    "                    times = i\n",
    "                    if (i == 0):\n",
    "                        train_Model(times = times, epochs = epochs, base_lr = blr, max_lr = mlr, verbose = 0, \n",
    "                                    use_tensorboard = True)\n",
    "                    else:\n",
    "                        train_Model(times = times, epochs = epochs, base_lr = blr, max_lr = mlr, verbose = 0)\n",
    "                    train_metrics = Final_model.evaluate(train_images, train_labels)\n",
    "                    valid_metrics = Final_model.evaluate(valid_images, valid_labels)\n",
    "                    test_metrics = Final_model.evaluate(test_images, test_labels)\n",
    "                    train_acc = train_metrics[1]\n",
    "                    valid_acc = valid_metrics[1]\n",
    "                    test_acc = test_metrics[1]\n",
    "                    train_loss = train_metrics[0]\n",
    "                    valid_loss = valid_metrics[0]\n",
    "                    test_loss = test_metrics[0]\n",
    "                    train_prec = train_metrics[2]\n",
    "                    valid_prec = valid_metrics[2]\n",
    "                    test_prec = test_metrics[2]\n",
    "                    train_rec = train_metrics[3]\n",
    "                    valid_rec = valid_metrics[3]\n",
    "                    test_rec = test_metrics[3]                                \n",
    "                    test_acc_list.append(test_acc)\n",
    "                    valid_acc_list.append(valid_acc)\n",
    "                    train_acc_list.append(train_acc)\n",
    "                    test_loss_list.append(test_loss)\n",
    "                    valid_loss_list.append(valid_loss)\n",
    "                    train_loss_list.append(train_loss)\n",
    "                    test_prec_list.append(test_prec)\n",
    "                    valid_prec_list.append(valid_prec)\n",
    "                    train_prec_list.append(train_prec)\n",
    "                    test_rec_list.append(test_rec)\n",
    "                    valid_rec_list.append(valid_rec)\n",
    "                    train_rec_list.append(train_rec)\n",
    "                    model_details.append(name)\n",
    "            print(\"- Training accuracies:\\t{}\".format([round(el,4) for el in train_acc_list]))\n",
    "            print(\"- Validation accuracies:\\t{}\".format([round(el,4) for el in valid_acc_list]))\n",
    "            print(\"- Testing accuracies:\\t{}\".format([round(el,4) for el in test_acc_list]))\n",
    "            print('')\n",
    "            print('')\n",
    "    end_time = time()\n",
    "    time_dif = end_time - start_time\n",
    "    print('Time usage: ' + str(timedelta(seconds=int(round(time_dif)))) + ' minutes')        "
   ]
  },
  {
   "cell_type": "code",
   "execution_count": 12,
   "metadata": {},
   "outputs": [
    {
     "name": "stdout",
     "output_type": "stream",
     "text": [
      "NEXT LEARNINGRATE: 1e-06\n",
      "Models with base lr = 1e-06 and max lr = 0.0001\n",
      " - Model specifics:\tbatch size: 64, mode: triangular, stepsize: 420, base-lr: 1e-06, max-lr 0.0001, *0\n",
      "Time usage: 0:03:35 minutes\n",
      "3357/3357 [==============================] - 6s 2ms/step\n",
      "374/374 [==============================] - 1s 2ms/step\n",
      "934/934 [==============================] - 2s 2ms/step\n",
      " - Model specifics:\tbatch size: 64, mode: triangular, stepsize: 420, base-lr: 1e-06, max-lr 0.0001, *1\n",
      "Time usage: 0:03:27 minutes\n",
      "3357/3357 [==============================] - 6s 2ms/step\n",
      "374/374 [==============================] - 1s 2ms/step\n",
      "934/934 [==============================] - 2s 2ms/step\n",
      " - Model specifics:\tbatch size: 64, mode: triangular, stepsize: 420, base-lr: 1e-06, max-lr 0.0001, *2\n",
      "Time usage: 0:03:27 minutes\n",
      "3357/3357 [==============================] - 6s 2ms/step\n",
      "374/374 [==============================] - 1s 2ms/step\n",
      "934/934 [==============================] - 2s 2ms/step\n",
      " - Model specifics:\tbatch size: 64, mode: triangular, stepsize: 420, base-lr: 1e-06, max-lr 0.0001, *3\n",
      "Time usage: 0:03:27 minutes\n",
      "3357/3357 [==============================] - 7s 2ms/step\n",
      "374/374 [==============================] - 1s 2ms/step\n",
      "934/934 [==============================] - 2s 2ms/step\n",
      " - Model specifics:\tbatch size: 64, mode: triangular, stepsize: 420, base-lr: 1e-06, max-lr 0.0001, *4\n",
      "Time usage: 0:03:27 minutes\n",
      "3357/3357 [==============================] - 7s 2ms/step\n",
      "374/374 [==============================] - 1s 2ms/step\n",
      "934/934 [==============================] - 2s 2ms/step\n",
      "- Training accuracies:\t[0.7617, 0.7665, 0.7656, 0.7641, 0.7656]\n",
      "- Validation accuracies:\t[0.7193, 0.7246, 0.7326, 0.7112, 0.7273]\n",
      "- Testing accuracies:\t[0.7388, 0.7463, 0.7495, 0.7377, 0.742]\n",
      "\n",
      "\n",
      "Models with base lr = 1e-06 and max lr = 0.0003\n",
      " - Model specifics:\tbatch size: 64, mode: triangular, stepsize: 420, base-lr: 1e-06, max-lr 0.0003, *0\n",
      "Time usage: 0:03:29 minutes\n",
      "3357/3357 [==============================] - 6s 2ms/step\n",
      "374/374 [==============================] - 1s 2ms/step\n",
      "934/934 [==============================] - 2s 2ms/step\n",
      " - Model specifics:\tbatch size: 64, mode: triangular, stepsize: 420, base-lr: 1e-06, max-lr 0.0003, *1\n",
      "Time usage: 0:03:29 minutes\n",
      "3357/3357 [==============================] - 6s 2ms/step\n",
      "374/374 [==============================] - 1s 2ms/step\n",
      "934/934 [==============================] - 2s 2ms/step\n",
      " - Model specifics:\tbatch size: 64, mode: triangular, stepsize: 420, base-lr: 1e-06, max-lr 0.0003, *2\n",
      "Time usage: 0:03:32 minutes\n",
      "3357/3357 [==============================] - 7s 2ms/step\n",
      "374/374 [==============================] - 1s 2ms/step\n",
      "934/934 [==============================] - 2s 2ms/step\n",
      " - Model specifics:\tbatch size: 64, mode: triangular, stepsize: 420, base-lr: 1e-06, max-lr 0.0003, *3\n",
      "Time usage: 0:03:31 minutes\n",
      "3357/3357 [==============================] - 6s 2ms/step\n",
      "374/374 [==============================] - 1s 2ms/step\n",
      "934/934 [==============================] - 2s 2ms/step\n",
      " - Model specifics:\tbatch size: 64, mode: triangular, stepsize: 420, base-lr: 1e-06, max-lr 0.0003, *4\n"
     ]
    },
    {
     "name": "stderr",
     "output_type": "stream",
     "text": [
      "/home/rick/.conda/envs/hannah_z/lib/python2.7/site-packages/keras/callbacks.py:120: UserWarning: Method on_batch_end() is slow compared to the batch update (0.107308). Check your callbacks.\n",
      "  % delta_t_median)\n"
     ]
    },
    {
     "name": "stdout",
     "output_type": "stream",
     "text": [
      "Time usage: 0:03:33 minutes\n",
      "3357/3357 [==============================] - 7s 2ms/step\n",
      "374/374 [==============================] - 1s 2ms/step\n",
      "934/934 [==============================] - 2s 2ms/step\n",
      "- Training accuracies:\t[0.7617, 0.7665, 0.7656, 0.7641, 0.7656, 0.7465, 0.7775, 0.7712, 0.7551, 0.7808]\n",
      "- Validation accuracies:\t[0.7193, 0.7246, 0.7326, 0.7112, 0.7273, 0.7193, 0.7299, 0.7219, 0.7219, 0.7246]\n",
      "- Testing accuracies:\t[0.7388, 0.7463, 0.7495, 0.7377, 0.742, 0.7281, 0.7505, 0.7516, 0.7377, 0.758]\n",
      "\n",
      "\n",
      "Models with base lr = 1e-06 and max lr = 0.0005\n",
      " - Model specifics:\tbatch size: 64, mode: triangular, stepsize: 420, base-lr: 1e-06, max-lr 0.0005, *0\n"
     ]
    },
    {
     "name": "stderr",
     "output_type": "stream",
     "text": [
      "/home/rick/.conda/envs/hannah_z/lib/python2.7/site-packages/keras/callbacks.py:120: UserWarning: Method on_batch_end() is slow compared to the batch update (0.106944). Check your callbacks.\n",
      "  % delta_t_median)\n"
     ]
    },
    {
     "name": "stdout",
     "output_type": "stream",
     "text": [
      "Time usage: 0:03:42 minutes\n",
      "3357/3357 [==============================] - 6s 2ms/step\n",
      "374/374 [==============================] - 1s 2ms/step\n",
      "934/934 [==============================] - 2s 2ms/step\n",
      " - Model specifics:\tbatch size: 64, mode: triangular, stepsize: 420, base-lr: 1e-06, max-lr 0.0005, *1\n",
      "Time usage: 0:03:32 minutes\n",
      "3357/3357 [==============================] - 6s 2ms/step\n",
      "374/374 [==============================] - 1s 2ms/step\n",
      "934/934 [==============================] - 2s 2ms/step\n",
      " - Model specifics:\tbatch size: 64, mode: triangular, stepsize: 420, base-lr: 1e-06, max-lr 0.0005, *2\n",
      "Time usage: 0:03:34 minutes\n",
      "3357/3357 [==============================] - 6s 2ms/step\n",
      "374/374 [==============================] - 1s 2ms/step\n",
      "934/934 [==============================] - 2s 2ms/step\n",
      " - Model specifics:\tbatch size: 64, mode: triangular, stepsize: 420, base-lr: 1e-06, max-lr 0.0005, *3\n",
      "Time usage: 0:03:31 minutes\n",
      "3357/3357 [==============================] - 6s 2ms/step\n",
      "374/374 [==============================] - 1s 2ms/step\n",
      "934/934 [==============================] - 2s 2ms/step\n",
      " - Model specifics:\tbatch size: 64, mode: triangular, stepsize: 420, base-lr: 1e-06, max-lr 0.0005, *4\n",
      "Time usage: 0:03:28 minutes\n",
      "3357/3357 [==============================] - 6s 2ms/step\n",
      "374/374 [==============================] - 1s 2ms/step\n",
      "934/934 [==============================] - 2s 2ms/step\n",
      "- Training accuracies:\t[0.7617, 0.7665, 0.7656, 0.7641, 0.7656, 0.7465, 0.7775, 0.7712, 0.7551, 0.7808, 0.7674, 0.7727, 0.7617, 0.7519, 0.7584]\n",
      "- Validation accuracies:\t[0.7193, 0.7246, 0.7326, 0.7112, 0.7273, 0.7193, 0.7299, 0.7219, 0.7219, 0.7246, 0.7487, 0.7326, 0.738, 0.7139, 0.7139]\n",
      "- Testing accuracies:\t[0.7388, 0.7463, 0.7495, 0.7377, 0.742, 0.7281, 0.7505, 0.7516, 0.7377, 0.758, 0.7377, 0.7516, 0.7377, 0.7409, 0.7259]\n",
      "\n",
      "\n",
      "NEXT LEARNINGRATE: 1e-05\n",
      "Models with base lr = 1e-05 and max lr = 0.0001\n",
      " - Model specifics:\tbatch size: 64, mode: triangular, stepsize: 420, base-lr: 1e-05, max-lr 0.0001, *0\n",
      "Time usage: 0:03:30 minutes\n",
      "3357/3357 [==============================] - 6s 2ms/step\n",
      "374/374 [==============================] - 1s 2ms/step\n",
      "934/934 [==============================] - 2s 2ms/step\n",
      " - Model specifics:\tbatch size: 64, mode: triangular, stepsize: 420, base-lr: 1e-05, max-lr 0.0001, *1\n",
      "Time usage: 0:03:28 minutes\n",
      "3357/3357 [==============================] - 6s 2ms/step\n",
      "374/374 [==============================] - 1s 2ms/step\n",
      "934/934 [==============================] - 2s 2ms/step\n",
      " - Model specifics:\tbatch size: 64, mode: triangular, stepsize: 420, base-lr: 1e-05, max-lr 0.0001, *2\n",
      "Time usage: 0:03:28 minutes\n",
      "3357/3357 [==============================] - 6s 2ms/step\n",
      "374/374 [==============================] - 1s 2ms/step\n",
      "934/934 [==============================] - 2s 2ms/step\n",
      " - Model specifics:\tbatch size: 64, mode: triangular, stepsize: 420, base-lr: 1e-05, max-lr 0.0001, *3\n"
     ]
    },
    {
     "name": "stderr",
     "output_type": "stream",
     "text": [
      "/home/rick/.conda/envs/hannah_z/lib/python2.7/site-packages/keras/callbacks.py:120: UserWarning: Method on_batch_end() is slow compared to the batch update (0.117375). Check your callbacks.\n",
      "  % delta_t_median)\n"
     ]
    },
    {
     "name": "stdout",
     "output_type": "stream",
     "text": [
      "Time usage: 0:03:30 minutes\n",
      "3357/3357 [==============================] - 6s 2ms/step\n",
      "374/374 [==============================] - 1s 2ms/step\n",
      "934/934 [==============================] - 2s 2ms/step\n",
      " - Model specifics:\tbatch size: 64, mode: triangular, stepsize: 420, base-lr: 1e-05, max-lr 0.0001, *4\n"
     ]
    },
    {
     "name": "stderr",
     "output_type": "stream",
     "text": [
      "/home/rick/.conda/envs/hannah_z/lib/python2.7/site-packages/keras/callbacks.py:120: UserWarning: Method on_batch_end() is slow compared to the batch update (0.111794). Check your callbacks.\n",
      "  % delta_t_median)\n"
     ]
    },
    {
     "name": "stdout",
     "output_type": "stream",
     "text": [
      "Time usage: 0:03:30 minutes\n",
      "3357/3357 [==============================] - 6s 2ms/step\n",
      "374/374 [==============================] - 1s 2ms/step\n",
      "934/934 [==============================] - 2s 2ms/step\n",
      "- Training accuracies:\t[0.7617, 0.7665, 0.7656, 0.7641, 0.7656, 0.7465, 0.7775, 0.7712, 0.7551, 0.7808, 0.7674, 0.7727, 0.7617, 0.7519, 0.7584, 0.7644, 0.7629, 0.7608, 0.7745, 0.7799]\n",
      "- Validation accuracies:\t[0.7193, 0.7246, 0.7326, 0.7112, 0.7273, 0.7193, 0.7299, 0.7219, 0.7219, 0.7246, 0.7487, 0.7326, 0.738, 0.7139, 0.7139, 0.7166, 0.7273, 0.7193, 0.7166, 0.754]\n",
      "- Testing accuracies:\t[0.7388, 0.7463, 0.7495, 0.7377, 0.742, 0.7281, 0.7505, 0.7516, 0.7377, 0.758, 0.7377, 0.7516, 0.7377, 0.7409, 0.7259, 0.7398, 0.7398, 0.7334, 0.7559, 0.757]\n",
      "\n",
      "\n",
      "Models with base lr = 1e-05 and max lr = 0.0003\n",
      " - Model specifics:\tbatch size: 64, mode: triangular, stepsize: 420, base-lr: 1e-05, max-lr 0.0003, *0\n"
     ]
    },
    {
     "name": "stderr",
     "output_type": "stream",
     "text": [
      "/home/rick/.conda/envs/hannah_z/lib/python2.7/site-packages/keras/callbacks.py:120: UserWarning: Method on_batch_end() is slow compared to the batch update (0.109512). Check your callbacks.\n",
      "  % delta_t_median)\n"
     ]
    },
    {
     "name": "stdout",
     "output_type": "stream",
     "text": [
      "Time usage: 0:03:31 minutes\n",
      "3357/3357 [==============================] - 6s 2ms/step\n",
      "374/374 [==============================] - 1s 2ms/step\n",
      "934/934 [==============================] - 2s 2ms/step\n",
      " - Model specifics:\tbatch size: 64, mode: triangular, stepsize: 420, base-lr: 1e-05, max-lr 0.0003, *1\n"
     ]
    },
    {
     "name": "stderr",
     "output_type": "stream",
     "text": [
      "/home/rick/.conda/envs/hannah_z/lib/python2.7/site-packages/keras/callbacks.py:120: UserWarning: Method on_batch_end() is slow compared to the batch update (0.109002). Check your callbacks.\n",
      "  % delta_t_median)\n"
     ]
    },
    {
     "name": "stdout",
     "output_type": "stream",
     "text": [
      "Time usage: 0:03:30 minutes\n",
      "3357/3357 [==============================] - 6s 2ms/step\n",
      "374/374 [==============================] - 1s 2ms/step\n",
      "934/934 [==============================] - 2s 2ms/step\n",
      " - Model specifics:\tbatch size: 64, mode: triangular, stepsize: 420, base-lr: 1e-05, max-lr 0.0003, *2\n"
     ]
    },
    {
     "name": "stderr",
     "output_type": "stream",
     "text": [
      "/home/rick/.conda/envs/hannah_z/lib/python2.7/site-packages/keras/callbacks.py:120: UserWarning: Method on_batch_end() is slow compared to the batch update (0.111047). Check your callbacks.\n",
      "  % delta_t_median)\n"
     ]
    },
    {
     "name": "stdout",
     "output_type": "stream",
     "text": [
      "Time usage: 0:03:30 minutes\n",
      "3357/3357 [==============================] - 6s 2ms/step\n",
      "374/374 [==============================] - 1s 2ms/step\n",
      "934/934 [==============================] - 2s 2ms/step\n",
      " - Model specifics:\tbatch size: 64, mode: triangular, stepsize: 420, base-lr: 1e-05, max-lr 0.0003, *3\n"
     ]
    },
    {
     "name": "stderr",
     "output_type": "stream",
     "text": [
      "/home/rick/.conda/envs/hannah_z/lib/python2.7/site-packages/keras/callbacks.py:120: UserWarning: Method on_batch_end() is slow compared to the batch update (0.108401). Check your callbacks.\n",
      "  % delta_t_median)\n"
     ]
    },
    {
     "name": "stdout",
     "output_type": "stream",
     "text": [
      "Time usage: 0:03:30 minutes\n",
      "3357/3357 [==============================] - 6s 2ms/step\n",
      "374/374 [==============================] - 1s 2ms/step\n",
      "934/934 [==============================] - 2s 2ms/step\n",
      " - Model specifics:\tbatch size: 64, mode: triangular, stepsize: 420, base-lr: 1e-05, max-lr 0.0003, *4\n"
     ]
    },
    {
     "name": "stderr",
     "output_type": "stream",
     "text": [
      "/home/rick/.conda/envs/hannah_z/lib/python2.7/site-packages/keras/callbacks.py:120: UserWarning: Method on_batch_end() is slow compared to the batch update (0.112232). Check your callbacks.\n",
      "  % delta_t_median)\n"
     ]
    },
    {
     "name": "stdout",
     "output_type": "stream",
     "text": [
      "Time usage: 0:03:30 minutes\n",
      "3357/3357 [==============================] - 6s 2ms/step\n",
      "374/374 [==============================] - 1s 2ms/step\n",
      "934/934 [==============================] - 2s 2ms/step\n",
      "- Training accuracies:\t[0.7617, 0.7665, 0.7656, 0.7641, 0.7656, 0.7465, 0.7775, 0.7712, 0.7551, 0.7808, 0.7674, 0.7727, 0.7617, 0.7519, 0.7584, 0.7644, 0.7629, 0.7608, 0.7745, 0.7799, 0.7623, 0.7665, 0.77, 0.7757, 0.7596]\n",
      "- Validation accuracies:\t[0.7193, 0.7246, 0.7326, 0.7112, 0.7273, 0.7193, 0.7299, 0.7219, 0.7219, 0.7246, 0.7487, 0.7326, 0.738, 0.7139, 0.7139, 0.7166, 0.7273, 0.7193, 0.7166, 0.754, 0.7166, 0.7166, 0.7112, 0.7219, 0.7246]\n",
      "- Testing accuracies:\t[0.7388, 0.7463, 0.7495, 0.7377, 0.742, 0.7281, 0.7505, 0.7516, 0.7377, 0.758, 0.7377, 0.7516, 0.7377, 0.7409, 0.7259, 0.7398, 0.7398, 0.7334, 0.7559, 0.757, 0.7441, 0.7463, 0.7463, 0.757, 0.7323]\n",
      "\n",
      "\n",
      "Models with base lr = 1e-05 and max lr = 0.0005\n",
      " - Model specifics:\tbatch size: 64, mode: triangular, stepsize: 420, base-lr: 1e-05, max-lr 0.0005, *0\n"
     ]
    },
    {
     "name": "stderr",
     "output_type": "stream",
     "text": [
      "/home/rick/.conda/envs/hannah_z/lib/python2.7/site-packages/keras/callbacks.py:120: UserWarning: Method on_batch_end() is slow compared to the batch update (0.115901). Check your callbacks.\n",
      "  % delta_t_median)\n"
     ]
    },
    {
     "name": "stdout",
     "output_type": "stream",
     "text": [
      "Time usage: 0:03:32 minutes\n",
      "3357/3357 [==============================] - 6s 2ms/step\n",
      "374/374 [==============================] - 1s 2ms/step\n",
      "934/934 [==============================] - 2s 2ms/step\n",
      " - Model specifics:\tbatch size: 64, mode: triangular, stepsize: 420, base-lr: 1e-05, max-lr 0.0005, *1\n"
     ]
    },
    {
     "name": "stderr",
     "output_type": "stream",
     "text": [
      "/home/rick/.conda/envs/hannah_z/lib/python2.7/site-packages/keras/callbacks.py:120: UserWarning: Method on_batch_end() is slow compared to the batch update (0.117484). Check your callbacks.\n",
      "  % delta_t_median)\n"
     ]
    },
    {
     "name": "stdout",
     "output_type": "stream",
     "text": [
      "Time usage: 0:03:31 minutes\n",
      "3357/3357 [==============================] - 6s 2ms/step\n",
      "374/374 [==============================] - 1s 2ms/step\n",
      "934/934 [==============================] - 2s 2ms/step\n",
      " - Model specifics:\tbatch size: 64, mode: triangular, stepsize: 420, base-lr: 1e-05, max-lr 0.0005, *2\n"
     ]
    },
    {
     "name": "stderr",
     "output_type": "stream",
     "text": [
      "/home/rick/.conda/envs/hannah_z/lib/python2.7/site-packages/keras/callbacks.py:120: UserWarning: Method on_batch_end() is slow compared to the batch update (0.113108). Check your callbacks.\n",
      "  % delta_t_median)\n"
     ]
    },
    {
     "name": "stdout",
     "output_type": "stream",
     "text": [
      "Time usage: 0:03:29 minutes\n",
      "3357/3357 [==============================] - 6s 2ms/step\n",
      "374/374 [==============================] - 1s 2ms/step\n",
      "934/934 [==============================] - 2s 2ms/step\n",
      " - Model specifics:\tbatch size: 64, mode: triangular, stepsize: 420, base-lr: 1e-05, max-lr 0.0005, *3\n"
     ]
    },
    {
     "name": "stderr",
     "output_type": "stream",
     "text": [
      "/home/rick/.conda/envs/hannah_z/lib/python2.7/site-packages/keras/callbacks.py:120: UserWarning: Method on_batch_end() is slow compared to the batch update (0.116622). Check your callbacks.\n",
      "  % delta_t_median)\n"
     ]
    },
    {
     "name": "stdout",
     "output_type": "stream",
     "text": [
      "Time usage: 0:03:30 minutes\n",
      "3357/3357 [==============================] - 6s 2ms/step\n",
      "374/374 [==============================] - 1s 2ms/step\n",
      "934/934 [==============================] - 2s 2ms/step\n",
      " - Model specifics:\tbatch size: 64, mode: triangular, stepsize: 420, base-lr: 1e-05, max-lr 0.0005, *4\n"
     ]
    },
    {
     "name": "stderr",
     "output_type": "stream",
     "text": [
      "/home/rick/.conda/envs/hannah_z/lib/python2.7/site-packages/keras/callbacks.py:120: UserWarning: Method on_batch_end() is slow compared to the batch update (0.116038). Check your callbacks.\n",
      "  % delta_t_median)\n"
     ]
    },
    {
     "name": "stdout",
     "output_type": "stream",
     "text": [
      "Time usage: 0:03:31 minutes\n",
      "3357/3357 [==============================] - 6s 2ms/step\n",
      "374/374 [==============================] - 1s 2ms/step\n",
      "934/934 [==============================] - 2s 2ms/step\n",
      "- Training accuracies:\t[0.7617, 0.7665, 0.7656, 0.7641, 0.7656, 0.7465, 0.7775, 0.7712, 0.7551, 0.7808, 0.7674, 0.7727, 0.7617, 0.7519, 0.7584, 0.7644, 0.7629, 0.7608, 0.7745, 0.7799, 0.7623, 0.7665, 0.77, 0.7757, 0.7596, 0.7528, 0.7441, 0.7697, 0.7492, 0.776]\n",
      "- Validation accuracies:\t[0.7193, 0.7246, 0.7326, 0.7112, 0.7273, 0.7193, 0.7299, 0.7219, 0.7219, 0.7246, 0.7487, 0.7326, 0.738, 0.7139, 0.7139, 0.7166, 0.7273, 0.7193, 0.7166, 0.754, 0.7166, 0.7166, 0.7112, 0.7219, 0.7246, 0.6979, 0.7059, 0.7406, 0.7086, 0.7112]\n",
      "- Testing accuracies:\t[0.7388, 0.7463, 0.7495, 0.7377, 0.742, 0.7281, 0.7505, 0.7516, 0.7377, 0.758, 0.7377, 0.7516, 0.7377, 0.7409, 0.7259, 0.7398, 0.7398, 0.7334, 0.7559, 0.757, 0.7441, 0.7463, 0.7463, 0.757, 0.7323, 0.7323, 0.7281, 0.7527, 0.7259, 0.7388]\n",
      "\n",
      "\n",
      "NEXT LEARNINGRATE: 5e-05\n",
      "Models with base lr = 5e-05 and max lr = 0.0001\n",
      " - Model specifics:\tbatch size: 64, mode: triangular, stepsize: 420, base-lr: 5e-05, max-lr 0.0001, *0\n"
     ]
    },
    {
     "name": "stderr",
     "output_type": "stream",
     "text": [
      "/home/rick/.conda/envs/hannah_z/lib/python2.7/site-packages/keras/callbacks.py:120: UserWarning: Method on_batch_end() is slow compared to the batch update (0.119180). Check your callbacks.\n",
      "  % delta_t_median)\n"
     ]
    },
    {
     "name": "stdout",
     "output_type": "stream",
     "text": [
      "Time usage: 0:03:32 minutes\n",
      "3357/3357 [==============================] - 6s 2ms/step\n",
      "374/374 [==============================] - 1s 2ms/step\n",
      "934/934 [==============================] - 2s 2ms/step\n",
      " - Model specifics:\tbatch size: 64, mode: triangular, stepsize: 420, base-lr: 5e-05, max-lr 0.0001, *1\n"
     ]
    },
    {
     "name": "stderr",
     "output_type": "stream",
     "text": [
      "/home/rick/.conda/envs/hannah_z/lib/python2.7/site-packages/keras/callbacks.py:120: UserWarning: Method on_batch_end() is slow compared to the batch update (0.119562). Check your callbacks.\n",
      "  % delta_t_median)\n"
     ]
    },
    {
     "name": "stdout",
     "output_type": "stream",
     "text": [
      "Time usage: 0:03:31 minutes\n",
      "3357/3357 [==============================] - 6s 2ms/step\n",
      "374/374 [==============================] - 1s 2ms/step\n",
      "934/934 [==============================] - 2s 2ms/step\n",
      " - Model specifics:\tbatch size: 64, mode: triangular, stepsize: 420, base-lr: 5e-05, max-lr 0.0001, *2\n"
     ]
    },
    {
     "name": "stderr",
     "output_type": "stream",
     "text": [
      "/home/rick/.conda/envs/hannah_z/lib/python2.7/site-packages/keras/callbacks.py:120: UserWarning: Method on_batch_end() is slow compared to the batch update (0.117067). Check your callbacks.\n",
      "  % delta_t_median)\n"
     ]
    },
    {
     "name": "stdout",
     "output_type": "stream",
     "text": [
      "Time usage: 0:03:30 minutes\n",
      "3357/3357 [==============================] - 7s 2ms/step\n",
      "374/374 [==============================] - 1s 2ms/step\n",
      "934/934 [==============================] - 2s 2ms/step\n",
      " - Model specifics:\tbatch size: 64, mode: triangular, stepsize: 420, base-lr: 5e-05, max-lr 0.0001, *3\n"
     ]
    },
    {
     "name": "stderr",
     "output_type": "stream",
     "text": [
      "/home/rick/.conda/envs/hannah_z/lib/python2.7/site-packages/keras/callbacks.py:120: UserWarning: Method on_batch_end() is slow compared to the batch update (0.118763). Check your callbacks.\n",
      "  % delta_t_median)\n"
     ]
    },
    {
     "name": "stdout",
     "output_type": "stream",
     "text": [
      "Time usage: 0:03:30 minutes\n",
      "3357/3357 [==============================] - 6s 2ms/step\n",
      "374/374 [==============================] - 1s 2ms/step\n",
      "934/934 [==============================] - 2s 2ms/step\n",
      " - Model specifics:\tbatch size: 64, mode: triangular, stepsize: 420, base-lr: 5e-05, max-lr 0.0001, *4\n"
     ]
    },
    {
     "name": "stderr",
     "output_type": "stream",
     "text": [
      "/home/rick/.conda/envs/hannah_z/lib/python2.7/site-packages/keras/callbacks.py:120: UserWarning: Method on_batch_end() is slow compared to the batch update (0.119773). Check your callbacks.\n",
      "  % delta_t_median)\n"
     ]
    },
    {
     "name": "stdout",
     "output_type": "stream",
     "text": [
      "Time usage: 0:03:30 minutes\n",
      "3357/3357 [==============================] - 6s 2ms/step\n",
      "374/374 [==============================] - 1s 2ms/step\n",
      "934/934 [==============================] - 2s 2ms/step\n",
      "- Training accuracies:\t[0.7617, 0.7665, 0.7656, 0.7641, 0.7656, 0.7465, 0.7775, 0.7712, 0.7551, 0.7808, 0.7674, 0.7727, 0.7617, 0.7519, 0.7584, 0.7644, 0.7629, 0.7608, 0.7745, 0.7799, 0.7623, 0.7665, 0.77, 0.7757, 0.7596, 0.7528, 0.7441, 0.7697, 0.7492, 0.776, 0.7933, 0.7745, 0.7718, 0.7733, 0.7644]\n",
      "- Validation accuracies:\t[0.7193, 0.7246, 0.7326, 0.7112, 0.7273, 0.7193, 0.7299, 0.7219, 0.7219, 0.7246, 0.7487, 0.7326, 0.738, 0.7139, 0.7139, 0.7166, 0.7273, 0.7193, 0.7166, 0.754, 0.7166, 0.7166, 0.7112, 0.7219, 0.7246, 0.6979, 0.7059, 0.7406, 0.7086, 0.7112, 0.7513, 0.7406, 0.7166, 0.7139, 0.7086]\n",
      "- Testing accuracies:\t[0.7388, 0.7463, 0.7495, 0.7377, 0.742, 0.7281, 0.7505, 0.7516, 0.7377, 0.758, 0.7377, 0.7516, 0.7377, 0.7409, 0.7259, 0.7398, 0.7398, 0.7334, 0.7559, 0.757, 0.7441, 0.7463, 0.7463, 0.757, 0.7323, 0.7323, 0.7281, 0.7527, 0.7259, 0.7388, 0.7698, 0.743, 0.7591, 0.7505, 0.7377]\n",
      "\n",
      "\n",
      "Models with base lr = 5e-05 and max lr = 0.0003\n",
      " - Model specifics:\tbatch size: 64, mode: triangular, stepsize: 420, base-lr: 5e-05, max-lr 0.0003, *0\n"
     ]
    },
    {
     "name": "stderr",
     "output_type": "stream",
     "text": [
      "/home/rick/.conda/envs/hannah_z/lib/python2.7/site-packages/keras/callbacks.py:120: UserWarning: Method on_batch_end() is slow compared to the batch update (0.120548). Check your callbacks.\n",
      "  % delta_t_median)\n"
     ]
    },
    {
     "name": "stdout",
     "output_type": "stream",
     "text": [
      "Time usage: 0:03:32 minutes\n",
      "3357/3357 [==============================] - 6s 2ms/step\n",
      "374/374 [==============================] - 1s 2ms/step\n",
      "934/934 [==============================] - 2s 2ms/step\n",
      " - Model specifics:\tbatch size: 64, mode: triangular, stepsize: 420, base-lr: 5e-05, max-lr 0.0003, *1\n"
     ]
    },
    {
     "name": "stderr",
     "output_type": "stream",
     "text": [
      "/home/rick/.conda/envs/hannah_z/lib/python2.7/site-packages/keras/callbacks.py:120: UserWarning: Method on_batch_end() is slow compared to the batch update (0.121340). Check your callbacks.\n",
      "  % delta_t_median)\n"
     ]
    },
    {
     "name": "stdout",
     "output_type": "stream",
     "text": [
      "Time usage: 0:03:31 minutes\n",
      "3357/3357 [==============================] - 6s 2ms/step\n",
      "374/374 [==============================] - 1s 2ms/step\n",
      "934/934 [==============================] - 2s 2ms/step\n",
      " - Model specifics:\tbatch size: 64, mode: triangular, stepsize: 420, base-lr: 5e-05, max-lr 0.0003, *2\n"
     ]
    },
    {
     "name": "stderr",
     "output_type": "stream",
     "text": [
      "/home/rick/.conda/envs/hannah_z/lib/python2.7/site-packages/keras/callbacks.py:120: UserWarning: Method on_batch_end() is slow compared to the batch update (0.121827). Check your callbacks.\n",
      "  % delta_t_median)\n"
     ]
    },
    {
     "name": "stdout",
     "output_type": "stream",
     "text": [
      "Time usage: 0:03:32 minutes\n",
      "3357/3357 [==============================] - 6s 2ms/step\n",
      "374/374 [==============================] - 1s 2ms/step\n",
      "934/934 [==============================] - 2s 2ms/step\n",
      " - Model specifics:\tbatch size: 64, mode: triangular, stepsize: 420, base-lr: 5e-05, max-lr 0.0003, *3\n"
     ]
    },
    {
     "name": "stderr",
     "output_type": "stream",
     "text": [
      "/home/rick/.conda/envs/hannah_z/lib/python2.7/site-packages/keras/callbacks.py:120: UserWarning: Method on_batch_end() is slow compared to the batch update (0.132874). Check your callbacks.\n",
      "  % delta_t_median)\n"
     ]
    },
    {
     "name": "stdout",
     "output_type": "stream",
     "text": [
      "Time usage: 0:03:31 minutes\n",
      "3357/3357 [==============================] - 6s 2ms/step\n",
      "374/374 [==============================] - 1s 2ms/step\n",
      "934/934 [==============================] - 2s 2ms/step\n",
      " - Model specifics:\tbatch size: 64, mode: triangular, stepsize: 420, base-lr: 5e-05, max-lr 0.0003, *4\n"
     ]
    },
    {
     "name": "stderr",
     "output_type": "stream",
     "text": [
      "/home/rick/.conda/envs/hannah_z/lib/python2.7/site-packages/keras/callbacks.py:120: UserWarning: Method on_batch_end() is slow compared to the batch update (0.165558). Check your callbacks.\n",
      "  % delta_t_median)\n"
     ]
    },
    {
     "name": "stdout",
     "output_type": "stream",
     "text": [
      "Time usage: 0:03:32 minutes\n",
      "3357/3357 [==============================] - 7s 2ms/step: \n",
      "374/374 [==============================] - 1s 2ms/step\n",
      "934/934 [==============================] - 2s 2ms/step\n",
      "- Training accuracies:\t[0.7617, 0.7665, 0.7656, 0.7641, 0.7656, 0.7465, 0.7775, 0.7712, 0.7551, 0.7808, 0.7674, 0.7727, 0.7617, 0.7519, 0.7584, 0.7644, 0.7629, 0.7608, 0.7745, 0.7799, 0.7623, 0.7665, 0.77, 0.7757, 0.7596, 0.7528, 0.7441, 0.7697, 0.7492, 0.776, 0.7933, 0.7745, 0.7718, 0.7733, 0.7644, 0.7852, 0.7233, 0.7885, 0.7447, 0.7706]\n",
      "- Validation accuracies:\t[0.7193, 0.7246, 0.7326, 0.7112, 0.7273, 0.7193, 0.7299, 0.7219, 0.7219, 0.7246, 0.7487, 0.7326, 0.738, 0.7139, 0.7139, 0.7166, 0.7273, 0.7193, 0.7166, 0.754, 0.7166, 0.7166, 0.7112, 0.7219, 0.7246, 0.6979, 0.7059, 0.7406, 0.7086, 0.7112, 0.7513, 0.7406, 0.7166, 0.7139, 0.7086, 0.7433, 0.6872, 0.746, 0.6952, 0.7246]\n",
      "- Testing accuracies:\t[0.7388, 0.7463, 0.7495, 0.7377, 0.742, 0.7281, 0.7505, 0.7516, 0.7377, 0.758, 0.7377, 0.7516, 0.7377, 0.7409, 0.7259, 0.7398, 0.7398, 0.7334, 0.7559, 0.757, 0.7441, 0.7463, 0.7463, 0.757, 0.7323, 0.7323, 0.7281, 0.7527, 0.7259, 0.7388, 0.7698, 0.743, 0.7591, 0.7505, 0.7377, 0.7537, 0.7077, 0.7548, 0.7238, 0.758]\n",
      "\n",
      "\n",
      "Models with base lr = 5e-05 and max lr = 0.0005\n",
      " - Model specifics:\tbatch size: 64, mode: triangular, stepsize: 420, base-lr: 5e-05, max-lr 0.0005, *0\n"
     ]
    },
    {
     "name": "stderr",
     "output_type": "stream",
     "text": [
      "/home/rick/.conda/envs/hannah_z/lib/python2.7/site-packages/keras/callbacks.py:120: UserWarning: Method on_batch_end() is slow compared to the batch update (0.140474). Check your callbacks.\n",
      "  % delta_t_median)\n"
     ]
    },
    {
     "name": "stdout",
     "output_type": "stream",
     "text": [
      "Time usage: 0:03:34 minutes\n",
      "3357/3357 [==============================] - 6s 2ms/step\n",
      "374/374 [==============================] - 1s 2ms/step\n",
      "934/934 [==============================] - 2s 2ms/step\n",
      " - Model specifics:\tbatch size: 64, mode: triangular, stepsize: 420, base-lr: 5e-05, max-lr 0.0005, *1\n"
     ]
    },
    {
     "name": "stderr",
     "output_type": "stream",
     "text": [
      "/home/rick/.conda/envs/hannah_z/lib/python2.7/site-packages/keras/callbacks.py:120: UserWarning: Method on_batch_end() is slow compared to the batch update (0.139471). Check your callbacks.\n",
      "  % delta_t_median)\n"
     ]
    },
    {
     "name": "stdout",
     "output_type": "stream",
     "text": [
      "Time usage: 0:03:33 minutes\n",
      "3357/3357 [==============================] - 6s 2ms/step\n",
      "374/374 [==============================] - 1s 2ms/step\n",
      "934/934 [==============================] - 2s 2ms/step\n",
      " - Model specifics:\tbatch size: 64, mode: triangular, stepsize: 420, base-lr: 5e-05, max-lr 0.0005, *2\n"
     ]
    },
    {
     "name": "stderr",
     "output_type": "stream",
     "text": [
      "/home/rick/.conda/envs/hannah_z/lib/python2.7/site-packages/keras/callbacks.py:120: UserWarning: Method on_batch_end() is slow compared to the batch update (0.140465). Check your callbacks.\n",
      "  % delta_t_median)\n"
     ]
    },
    {
     "name": "stdout",
     "output_type": "stream",
     "text": [
      "Time usage: 0:03:33 minutes\n",
      "3357/3357 [==============================] - 6s 2ms/step\n",
      "374/374 [==============================] - 1s 2ms/step\n",
      "934/934 [==============================] - 2s 2ms/step\n",
      " - Model specifics:\tbatch size: 64, mode: triangular, stepsize: 420, base-lr: 5e-05, max-lr 0.0005, *3\n"
     ]
    },
    {
     "name": "stderr",
     "output_type": "stream",
     "text": [
      "/home/rick/.conda/envs/hannah_z/lib/python2.7/site-packages/keras/callbacks.py:120: UserWarning: Method on_batch_end() is slow compared to the batch update (0.142139). Check your callbacks.\n",
      "  % delta_t_median)\n"
     ]
    },
    {
     "name": "stdout",
     "output_type": "stream",
     "text": [
      "Time usage: 0:03:32 minutes\n",
      "3357/3357 [==============================] - 6s 2ms/step\n",
      "374/374 [==============================] - 1s 2ms/step\n",
      "934/934 [==============================] - 2s 2ms/step\n",
      " - Model specifics:\tbatch size: 64, mode: triangular, stepsize: 420, base-lr: 5e-05, max-lr 0.0005, *4\n"
     ]
    },
    {
     "name": "stderr",
     "output_type": "stream",
     "text": [
      "/home/rick/.conda/envs/hannah_z/lib/python2.7/site-packages/keras/callbacks.py:120: UserWarning: Method on_batch_end() is slow compared to the batch update (0.142074). Check your callbacks.\n",
      "  % delta_t_median)\n"
     ]
    },
    {
     "name": "stdout",
     "output_type": "stream",
     "text": [
      "Time usage: 0:03:33 minutes\n",
      "3357/3357 [==============================] - 6s 2ms/step\n",
      "374/374 [==============================] - 1s 2ms/step\n",
      "934/934 [==============================] - 2s 2ms/step\n",
      "- Training accuracies:\t[0.7617, 0.7665, 0.7656, 0.7641, 0.7656, 0.7465, 0.7775, 0.7712, 0.7551, 0.7808, 0.7674, 0.7727, 0.7617, 0.7519, 0.7584, 0.7644, 0.7629, 0.7608, 0.7745, 0.7799, 0.7623, 0.7665, 0.77, 0.7757, 0.7596, 0.7528, 0.7441, 0.7697, 0.7492, 0.776, 0.7933, 0.7745, 0.7718, 0.7733, 0.7644, 0.7852, 0.7233, 0.7885, 0.7447, 0.7706, 0.7748, 0.7611, 0.7623, 0.7644, 0.7715]\n",
      "- Validation accuracies:\t[0.7193, 0.7246, 0.7326, 0.7112, 0.7273, 0.7193, 0.7299, 0.7219, 0.7219, 0.7246, 0.7487, 0.7326, 0.738, 0.7139, 0.7139, 0.7166, 0.7273, 0.7193, 0.7166, 0.754, 0.7166, 0.7166, 0.7112, 0.7219, 0.7246, 0.6979, 0.7059, 0.7406, 0.7086, 0.7112, 0.7513, 0.7406, 0.7166, 0.7139, 0.7086, 0.7433, 0.6872, 0.746, 0.6952, 0.7246, 0.7299, 0.7166, 0.7139, 0.7086, 0.7299]\n",
      "- Testing accuracies:\t[0.7388, 0.7463, 0.7495, 0.7377, 0.742, 0.7281, 0.7505, 0.7516, 0.7377, 0.758, 0.7377, 0.7516, 0.7377, 0.7409, 0.7259, 0.7398, 0.7398, 0.7334, 0.7559, 0.757, 0.7441, 0.7463, 0.7463, 0.757, 0.7323, 0.7323, 0.7281, 0.7527, 0.7259, 0.7388, 0.7698, 0.743, 0.7591, 0.7505, 0.7377, 0.7537, 0.7077, 0.7548, 0.7238, 0.758, 0.7441, 0.7377, 0.7441, 0.743, 0.7463]\n",
      "\n",
      "\n",
      "Time usage: 2:45:13 minutes\n"
     ]
    },
    {
     "data": {
      "text/plain": [
       "[<matplotlib.lines.Line2D at 0x7f006beca110>]"
      ]
     },
     "execution_count": 12,
     "metadata": {},
     "output_type": "execute_result"
    },
    {
     "data": {
      "image/png": "[encoded data removed]",
      "text/plain": [
       "<matplotlib.figure.Figure at 0x7f00cc9d1cd0>"
      ]
     },
     "metadata": {},
     "output_type": "display_data"
    }
   ],
   "source": [
    "# usual training time: 2h\n",
    "learning_rate_finder()\n",
    "%matplotlib inline\n",
    "acc = h['acc']\n",
    "plt.plot(acc)"
   ]
  },
  {
   "cell_type": "code",
   "execution_count": 13,
   "metadata": {},
   "outputs": [
    {
     "data": {
      "text/html": [
       "<div>\n",
       "<style scoped>\n",
       "    .dataframe tbody tr th:only-of-type {\n",
       "        vertical-align: middle;\n",
       "    }\n",
       "\n",
       "    .dataframe tbody tr th {\n",
       "        vertical-align: top;\n",
       "    }\n",
       "\n",
       "    .dataframe thead th {\n",
       "        text-align: right;\n",
       "    }\n",
       "</style>\n",
       "<table border=\"1\" class=\"dataframe\">\n",
       "  <thead>\n",
       "    <tr style=\"text-align: right;\">\n",
       "      <th></th>\n",
       "      <th>test acc</th>\n",
       "      <th>valid acc</th>\n",
       "      <th>train acc</th>\n",
       "      <th>test loss</th>\n",
       "      <th>valid loss</th>\n",
       "      <th>train loss</th>\n",
       "      <th>test prec</th>\n",
       "      <th>valid prec</th>\n",
       "      <th>train prec</th>\n",
       "      <th>test rec</th>\n",
       "      <th>valid rec</th>\n",
       "      <th>train rec</th>\n",
       "    </tr>\n",
       "  </thead>\n",
       "  <tbody>\n",
       "    <tr>\n",
       "      <th>base-lr: 1e-06, max-lr 0.0003,</th>\n",
       "      <td>0.7446</td>\n",
       "      <td>0.7237</td>\n",
       "      <td>0.7659</td>\n",
       "      <td>1.0401</td>\n",
       "      <td>1.0831</td>\n",
       "      <td>0.9513</td>\n",
       "      <td>0.6844</td>\n",
       "      <td>0.6487</td>\n",
       "      <td>0.6931</td>\n",
       "      <td>0.9334</td>\n",
       "      <td>0.9091</td>\n",
       "      <td>0.9512</td>\n",
       "    </tr>\n",
       "    <tr>\n",
       "      <th>base-lr: 5e-05, max-lr 0.0001,</th>\n",
       "      <td>0.7442</td>\n",
       "      <td>0.7229</td>\n",
       "      <td>0.7670</td>\n",
       "      <td>1.1213</td>\n",
       "      <td>1.1644</td>\n",
       "      <td>1.0096</td>\n",
       "      <td>0.6850</td>\n",
       "      <td>0.6488</td>\n",
       "      <td>0.6956</td>\n",
       "      <td>0.9302</td>\n",
       "      <td>0.9078</td>\n",
       "      <td>0.9487</td>\n",
       "    </tr>\n",
       "    <tr>\n",
       "      <th>base-lr: 1e-05, max-lr 0.0003,</th>\n",
       "      <td>0.7435</td>\n",
       "      <td>0.7246</td>\n",
       "      <td>0.7660</td>\n",
       "      <td>1.1213</td>\n",
       "      <td>1.1552</td>\n",
       "      <td>1.0097</td>\n",
       "      <td>0.6836</td>\n",
       "      <td>0.6494</td>\n",
       "      <td>0.6937</td>\n",
       "      <td>0.9320</td>\n",
       "      <td>0.9108</td>\n",
       "      <td>0.9510</td>\n",
       "    </tr>\n",
       "    <tr>\n",
       "      <th>base-lr: 5e-05, max-lr 0.0003,</th>\n",
       "      <td>0.7433</td>\n",
       "      <td>0.7222</td>\n",
       "      <td>0.7660</td>\n",
       "      <td>1.1211</td>\n",
       "      <td>1.1676</td>\n",
       "      <td>1.0123</td>\n",
       "      <td>0.6846</td>\n",
       "      <td>0.6487</td>\n",
       "      <td>0.6953</td>\n",
       "      <td>0.9292</td>\n",
       "      <td>0.9064</td>\n",
       "      <td>0.9474</td>\n",
       "    </tr>\n",
       "    <tr>\n",
       "      <th>base-lr: 5e-05, max-lr 0.0005,</th>\n",
       "      <td>0.7430</td>\n",
       "      <td>0.7219</td>\n",
       "      <td>0.7659</td>\n",
       "      <td>1.1438</td>\n",
       "      <td>1.1883</td>\n",
       "      <td>1.0279</td>\n",
       "      <td>0.6844</td>\n",
       "      <td>0.6484</td>\n",
       "      <td>0.6954</td>\n",
       "      <td>0.9285</td>\n",
       "      <td>0.9050</td>\n",
       "      <td>0.9468</td>\n",
       "    </tr>\n",
       "    <tr>\n",
       "      <th>base-lr: 1e-06, max-lr 0.0001,</th>\n",
       "      <td>0.7428</td>\n",
       "      <td>0.7230</td>\n",
       "      <td>0.7647</td>\n",
       "      <td>0.9361</td>\n",
       "      <td>0.9744</td>\n",
       "      <td>0.8725</td>\n",
       "      <td>0.6840</td>\n",
       "      <td>0.6479</td>\n",
       "      <td>0.6922</td>\n",
       "      <td>0.9302</td>\n",
       "      <td>0.9028</td>\n",
       "      <td>0.9482</td>\n",
       "    </tr>\n",
       "    <tr>\n",
       "      <th>base-lr: 1e-05, max-lr 0.0001,</th>\n",
       "      <td>0.7427</td>\n",
       "      <td>0.7257</td>\n",
       "      <td>0.7656</td>\n",
       "      <td>1.1115</td>\n",
       "      <td>1.1470</td>\n",
       "      <td>1.0032</td>\n",
       "      <td>0.6828</td>\n",
       "      <td>0.6505</td>\n",
       "      <td>0.6932</td>\n",
       "      <td>0.9320</td>\n",
       "      <td>0.9081</td>\n",
       "      <td>0.9506</td>\n",
       "    </tr>\n",
       "    <tr>\n",
       "      <th>base-lr: 1e-06, max-lr 0.0005,</th>\n",
       "      <td>0.7422</td>\n",
       "      <td>0.7258</td>\n",
       "      <td>0.7645</td>\n",
       "      <td>1.1678</td>\n",
       "      <td>1.1983</td>\n",
       "      <td>1.0465</td>\n",
       "      <td>0.6818</td>\n",
       "      <td>0.6498</td>\n",
       "      <td>0.6919</td>\n",
       "      <td>0.9338</td>\n",
       "      <td>0.9113</td>\n",
       "      <td>0.9515</td>\n",
       "    </tr>\n",
       "    <tr>\n",
       "      <th>base-lr: 1e-05, max-lr 0.0005,</th>\n",
       "      <td>0.7420</td>\n",
       "      <td>0.7221</td>\n",
       "      <td>0.7645</td>\n",
       "      <td>1.1710</td>\n",
       "      <td>1.2124</td>\n",
       "      <td>1.0508</td>\n",
       "      <td>0.6817</td>\n",
       "      <td>0.6466</td>\n",
       "      <td>0.6919</td>\n",
       "      <td>0.9334</td>\n",
       "      <td>0.9142</td>\n",
       "      <td>0.9524</td>\n",
       "    </tr>\n",
       "  </tbody>\n",
       "</table>\n",
       "</div>"
      ],
      "text/plain": [
       "                                test acc  valid acc  train acc  test loss  \\\n",
       "base-lr: 1e-06, max-lr 0.0003,    0.7446     0.7237     0.7659     1.0401   \n",
       "base-lr: 5e-05, max-lr 0.0001,    0.7442     0.7229     0.7670     1.1213   \n",
       "base-lr: 1e-05, max-lr 0.0003,    0.7435     0.7246     0.7660     1.1213   \n",
       "base-lr: 5e-05, max-lr 0.0003,    0.7433     0.7222     0.7660     1.1211   \n",
       "base-lr: 5e-05, max-lr 0.0005,    0.7430     0.7219     0.7659     1.1438   \n",
       "base-lr: 1e-06, max-lr 0.0001,    0.7428     0.7230     0.7647     0.9361   \n",
       "base-lr: 1e-05, max-lr 0.0001,    0.7427     0.7257     0.7656     1.1115   \n",
       "base-lr: 1e-06, max-lr 0.0005,    0.7422     0.7258     0.7645     1.1678   \n",
       "base-lr: 1e-05, max-lr 0.0005,    0.7420     0.7221     0.7645     1.1710   \n",
       "\n",
       "                                valid loss  train loss  test prec  valid prec  \\\n",
       "base-lr: 1e-06, max-lr 0.0003,      1.0831      0.9513     0.6844      0.6487   \n",
       "base-lr: 5e-05, max-lr 0.0001,      1.1644      1.0096     0.6850      0.6488   \n",
       "base-lr: 1e-05, max-lr 0.0003,      1.1552      1.0097     0.6836      0.6494   \n",
       "base-lr: 5e-05, max-lr 0.0003,      1.1676      1.0123     0.6846      0.6487   \n",
       "base-lr: 5e-05, max-lr 0.0005,      1.1883      1.0279     0.6844      0.6484   \n",
       "base-lr: 1e-06, max-lr 0.0001,      0.9744      0.8725     0.6840      0.6479   \n",
       "base-lr: 1e-05, max-lr 0.0001,      1.1470      1.0032     0.6828      0.6505   \n",
       "base-lr: 1e-06, max-lr 0.0005,      1.1983      1.0465     0.6818      0.6498   \n",
       "base-lr: 1e-05, max-lr 0.0005,      1.2124      1.0508     0.6817      0.6466   \n",
       "\n",
       "                                train prec  test rec  valid rec  train rec  \n",
       "base-lr: 1e-06, max-lr 0.0003,      0.6931    0.9334     0.9091     0.9512  \n",
       "base-lr: 5e-05, max-lr 0.0001,      0.6956    0.9302     0.9078     0.9487  \n",
       "base-lr: 1e-05, max-lr 0.0003,      0.6937    0.9320     0.9108     0.9510  \n",
       "base-lr: 5e-05, max-lr 0.0003,      0.6953    0.9292     0.9064     0.9474  \n",
       "base-lr: 5e-05, max-lr 0.0005,      0.6954    0.9285     0.9050     0.9468  \n",
       "base-lr: 1e-06, max-lr 0.0001,      0.6922    0.9302     0.9028     0.9482  \n",
       "base-lr: 1e-05, max-lr 0.0001,      0.6932    0.9320     0.9081     0.9506  \n",
       "base-lr: 1e-06, max-lr 0.0005,      0.6919    0.9338     0.9113     0.9515  \n",
       "base-lr: 1e-05, max-lr 0.0005,      0.6919    0.9334     0.9142     0.9524  "
      ]
     },
     "execution_count": 13,
     "metadata": {},
     "output_type": "execute_result"
    }
   ],
   "source": [
    "titel = model_details[0][:47]\n",
    "mean_test_acc = []\n",
    "mean_valid_acc = []\n",
    "mean_train_acc = []\n",
    "mean_test_loss = []\n",
    "mean_valid_loss = []\n",
    "mean_train_loss = []\n",
    "mean_test_prec = []\n",
    "mean_valid_prec = []\n",
    "mean_train_prec = []\n",
    "mean_test_rec = []\n",
    "mean_valid_rec = []\n",
    "mean_train_rec = []\n",
    "model_list = []\n",
    "a = len(test_acc_list)\n",
    "for i in range(9):\n",
    "    tals = test_acc_list[i:(i+1)*5]\n",
    "    vals = valid_acc_list[i:(i+1)*5]\n",
    "    rals = train_acc_list[i:(i+1)*5]\n",
    "    tlls = test_loss_list[i:(i+1)*5]\n",
    "    vlls = valid_loss_list[i:(i+1)*5]\n",
    "    rlls = train_loss_list[i:(i+1)*5]\n",
    "    tpls = test_prec_list[i:(i+1)*5]\n",
    "    vpls = valid_prec_list[i:(i+1)*5]\n",
    "    rpls = train_prec_list[i:(i+1)*5]\n",
    "    trls = test_rec_list[i:(i+1)*5]\n",
    "    vrls = valid_rec_list[i:(i+1)*5]\n",
    "    rrls = train_rec_list[i:(i+1)*5]\n",
    "    tmean = round(sum(tals)/len(tals),4)\n",
    "    vmean = round(sum(vals)/len(vals),4)\n",
    "    rmean = round(sum(rals)/len(rals),4)\n",
    "    ltmean = round(sum(tlls)/len(tals),4)\n",
    "    lvmean = round(sum(vlls)/len(vals),4)\n",
    "    lrmean = round(sum(rlls)/len(rals),4)\n",
    "    ptmean = round(sum(tpls)/len(tals),4)\n",
    "    pvmean = round(sum(vpls)/len(vals),4)\n",
    "    prmean = round(sum(rpls)/len(rals),4)\n",
    "    rtmean = round(sum(trls)/len(tals),4)\n",
    "    rvmean = round(sum(vrls)/len(vals),4)\n",
    "    rrmean = round(sum(rrls)/len(rals),4)\n",
    "    mean_test_acc.append(tmean)\n",
    "    mean_valid_acc.append(vmean)\n",
    "    mean_train_acc.append(rmean)\n",
    "    mean_test_loss.append(ltmean)\n",
    "    mean_valid_loss.append(lvmean)\n",
    "    mean_train_loss.append(lrmean)\n",
    "    mean_test_prec.append(ptmean)\n",
    "    mean_valid_prec.append(pvmean)\n",
    "    mean_train_prec.append(prmean)\n",
    "    mean_test_rec.append(rtmean)\n",
    "    mean_valid_rec.append(rvmean)\n",
    "    mean_train_rec.append(rrmean)\n",
    "    model_list.append(model_details[i*5][49:79])\n",
    "columns = ['test acc', 'valid acc', 'train acc', 'test loss', 'valid loss', 'train loss', 'test prec', \\\n",
    "           'valid prec', 'train prec', 'test rec', 'valid rec', 'train rec']\n",
    "data = np.array((mean_test_acc, mean_valid_acc, mean_train_acc, mean_test_loss, mean_valid_loss, mean_train_loss,\\\n",
    "                mean_test_prec, mean_valid_prec, mean_train_prec, mean_test_rec, mean_valid_rec, mean_train_rec))\n",
    "results = pd.DataFrame(data = data, columns = model_list, index = columns)\n",
    "lr_overview = pd.DataFrame(data = results.transpose(), columns = columns, index = model_list)\n",
    "#lr_overview\n",
    "overviewSorted = lr_overview.sort_values(by=['test acc'], ascending = False)\n",
    "overviewSorted"
   ]
  },
  {
   "cell_type": "code",
   "execution_count": 14,
   "metadata": {
    "collapsed": true
   },
   "outputs": [],
   "source": [
    "blr = 0.000001\n",
    "mlr = 0.0003"
   ]
  },
  {
   "cell_type": "code",
   "execution_count": 15,
   "metadata": {},
   "outputs": [
    {
     "data": {
      "text/plain": [
       "'AfterTuningLR_modelOverview_IncResNetV2_bs-64_triangular_sz-420_imagenet_All_48epochs'"
      ]
     },
     "execution_count": 15,
     "metadata": {},
     "output_type": "execute_result"
    }
   ],
   "source": [
    "os.chdir(code_dir + '/Excel')\n",
    "savename = ('AfterTuningLR_modelOverview_' + str(modelname) + '_bs-' + str(batch_size) + '_' + str(mode) + '_sz-' \n",
    "            + str(step_size) + '_' + str(weights) + '_' + str(trainable_layers) + '_' + str(epochs) + 'epochs')\n",
    "savename"
   ]
  },
  {
   "cell_type": "code",
   "execution_count": null,
   "metadata": {
    "collapsed": true
   },
   "outputs": [],
   "source": []
  },
  {
   "cell_type": "code",
   "execution_count": 16,
   "metadata": {
    "collapsed": true
   },
   "outputs": [],
   "source": [
    "overviewSorted.to_csv(savename)"
   ]
  },
  {
   "cell_type": "code",
   "execution_count": 17,
   "metadata": {},
   "outputs": [
    {
     "data": {
      "image/png": "[encoded data removed]",
      "text/plain": [
       "<matplotlib.figure.Figure at 0x7f006b8e4e10>"
      ]
     },
     "metadata": {},
     "output_type": "display_data"
    }
   ],
   "source": [
    "import seaborn as sns\n",
    "sns.set()\n",
    "heatmap = sns.heatmap(results.iloc[:3,:].transpose(), annot=True, fmt = 'f')"
   ]
  },
  {
   "cell_type": "code",
   "execution_count": 18,
   "metadata": {},
   "outputs": [
    {
     "data": {
      "text/plain": [
       "[<matplotlib.lines.Line2D at 0x7f006b02ab90>]"
      ]
     },
     "execution_count": 18,
     "metadata": {},
     "output_type": "execute_result"
    },
    {
     "data": {
      "image/png": "[encoded data removed]",
      "text/plain": [
       "<matplotlib.figure.Figure at 0x7f006b073cd0>"
      ]
     },
     "metadata": {},
     "output_type": "display_data"
    }
   ],
   "source": [
    "%matplotlib inline\n",
    "\n",
    "f, (ax1, ax2) = plt.subplots(2, 1, sharex='col', sharey='row')\n",
    "ax1.plot(mean_test_acc, color = 'r')\n",
    "ax1.axis([0, 8, 0.5, 1])\n",
    "ax1.set_title('Close up')\n",
    "ax1.plot(mean_valid_acc)\n",
    "ax1.plot(mean_train_acc, color = 'g')\n",
    "ax2.set_title('Zoom')\n",
    "ax2.plot(mean_test_acc, color = 'r')\n",
    "ax2.axis([0, 8, 0.7, 0.8])\n",
    "ax2.plot(mean_valid_acc)\n",
    "ax2.plot(mean_train_acc, color = 'g')"
   ]
  },
  {
   "cell_type": "code",
   "execution_count": 19,
   "metadata": {
    "collapsed": true
   },
   "outputs": [],
   "source": [
    "from IPython.core.interactiveshell import InteractiveShell\n",
    "InteractiveShell.ast_node_interactivity = \"all\""
   ]
  },
  {
   "cell_type": "code",
   "execution_count": 20,
   "metadata": {
    "collapsed": true
   },
   "outputs": [],
   "source": [
    "stepsizes128 = [157, 210, 262]\n",
    "stepsizes64 = [315, 420,525]\n",
    "batch_sizes = [64, 128]\n",
    "modes = ['triangular', 'triangular2']\n",
    "rep = 1"
   ]
  },
  {
   "cell_type": "code",
   "execution_count": 21,
   "metadata": {
    "collapsed": true,
    "scrolled": true
   },
   "outputs": [],
   "source": [
    "def hp_tuner(base_lr = blr, max_lr = mlr, rep = 5):\n",
    "    start_time = time()  \n",
    "    global test_acc_l\n",
    "    global valid_acc_l\n",
    "    global train_acc_l\n",
    "    global test_loss_l\n",
    "    global valid_loss_l\n",
    "    global train_loss_l\n",
    "    global test_prec_l\n",
    "    global valid_prec_l\n",
    "    global train_prec_l\n",
    "    global test_rec_l\n",
    "    global valid_rec_l\n",
    "    global train_rec_l\n",
    "    global model_det\n",
    "    model_det = []\n",
    "    test_acc_l = []\n",
    "    valid_acc_l = []\n",
    "    train_acc_l = []\n",
    "    test_loss_l = []\n",
    "    valid_loss_l = []\n",
    "    train_loss_l = []\n",
    "    test_prec_l = []\n",
    "    valid_prec_l = []\n",
    "    train_prec_l = []\n",
    "    test_rec_l = []\n",
    "    valid_rec_l = []\n",
    "    train_rec_l = []\n",
    "    for bs in batch_sizes:\n",
    "        if (bs == 64):\n",
    "            stepsizes = stepsizes64\n",
    "        if (bs ==128):\n",
    "            stepsizes = stepsizes128\n",
    "        for sz in stepsizes: \n",
    "            for md in modes:\n",
    "                i = 0\n",
    "                mid_time = time()\n",
    "                while (i < rep):\n",
    "                    compileModel()\n",
    "                    times = i\n",
    "                    if (i == 0):\n",
    "                        train_Model(times = times, epochs = 48, base_lr = base_lr, max_lr = max_lr, verbose = 0,\n",
    "                                    batch_size = bs, stepsize = sz, mode = md, use_tensorboard = True)\n",
    "                    else:\n",
    "                        train_Model(times = times, epochs = 48, base_lr = base_lr, max_lr = max_lr, verbose = 0, \n",
    "                                    batch_size = bs, stepsize = sz, mode = md, use_tensorboard = False)\n",
    "                    valid_metrics = Final_model.evaluate(valid_images, valid_labels)\n",
    "                    test_metrics = Final_model.evaluate(test_images, test_labels)\n",
    "                    train_metrics = Final_model.evaluate(train_images, train_labels)\n",
    "                    \n",
    "                    train_acc = train_metrics[1]\n",
    "                    valid_acc = valid_metrics[1]\n",
    "                    test_acc = test_metrics[1]\n",
    "                    train_loss = train_metrics[0]\n",
    "                    valid_loss = valid_metrics[0]\n",
    "                    test_loss = test_metrics[0]\n",
    "                    train_prec = train_metrics[2]\n",
    "                    valid_prec = valid_metrics[2]\n",
    "                    test_prec = test_metrics[2]\n",
    "                    train_rec = train_metrics[3]\n",
    "                    valid_rec = valid_metrics[3]\n",
    "                    test_rec = test_metrics[3]                                \n",
    "                    test_acc_l.append(test_acc)\n",
    "                    valid_acc_l.append(valid_acc)\n",
    "                    train_acc_l.append(train_acc)\n",
    "                    test_loss_l.append(test_loss)\n",
    "                    valid_loss_l.append(valid_loss)\n",
    "                    train_loss_l.append(train_loss)\n",
    "                    test_prec_l.append(test_prec)\n",
    "                    valid_prec_l.append(valid_prec)\n",
    "                    train_prec_l.append(train_prec)\n",
    "                    test_rec_l.append(test_rec)\n",
    "                    valid_rec_l.append(valid_rec)\n",
    "                    train_rec_l.append(train_rec)\n",
    "                    model_det.append(name)\n",
    "    ### training the same model for more epochs\n",
    "                    if (i == 0):\n",
    "                        train_Model(times = times, epochs = 48, base_lr = base_lr, max_lr = max_lr, verbose = 0,\n",
    "                                    batch_size = bs, stepsize = sz, mode = md, use_tensorboard = True)\n",
    "                    else:\n",
    "                        train_Model(times = times, epochs = 48, base_lr = base_lr, max_lr = max_lr, verbose = 0, \n",
    "                                    batch_size = bs, stepsize = sz, mode = md, use_tensorboard = False)\n",
    "                    valid_metrics = Final_model.evaluate(valid_images, valid_labels)\n",
    "                    test_metrics = Final_model.evaluate(test_images, test_labels)\n",
    "                    train_metrics = Final_model.evaluate(train_images, train_labels)\n",
    "                    \n",
    "                    train_acc = train_metrics[1]\n",
    "                    valid_acc = valid_metrics[1]\n",
    "                    test_acc = test_metrics[1]\n",
    "                    train_loss = train_metrics[0]\n",
    "                    valid_loss = valid_metrics[0]\n",
    "                    test_loss = test_metrics[0]\n",
    "                    train_prec = train_metrics[2]\n",
    "                    valid_prec = valid_metrics[2]\n",
    "                    test_prec = test_metrics[2]\n",
    "                    train_rec = train_metrics[3]\n",
    "                    valid_rec = valid_metrics[3]\n",
    "                    test_rec = test_metrics[3]                                \n",
    "                    test_acc_l.append(test_acc)\n",
    "                    valid_acc_l.append(valid_acc)\n",
    "                    train_acc_l.append(train_acc)\n",
    "                    test_loss_l.append(test_loss)\n",
    "                    valid_loss_l.append(valid_loss)\n",
    "                    train_loss_l.append(train_loss)\n",
    "                    test_prec_l.append(test_prec)\n",
    "                    valid_prec_l.append(valid_prec)\n",
    "                    train_prec_l.append(train_prec)\n",
    "                    test_rec_l.append(test_rec)\n",
    "                    valid_rec_l.append(valid_rec)\n",
    "                    train_rec_l.append(train_rec)\n",
    "                    name2 = name + '_x2'\n",
    "                    model_det.append(name2)\n",
    "                    print(log_dir)\n",
    "                    i += 1\n",
    "                mid_end_time = time()\n",
    "                mid_time_dif = mid_end_time - mid_time\n",
    "                print('Time usage: ' + str(timedelta(seconds=int(round(mid_time_dif)))) + ' minutes')\n",
    "    end_time = time()\n",
    "    time_dif = end_time - start_time\n",
    "    print('Time usage: ' + str(timedelta(seconds=int(round(time_dif)))) + ' minutes')"
   ]
  },
  {
   "cell_type": "code",
   "execution_count": 22,
   "metadata": {},
   "outputs": [
    {
     "name": "stdout",
     "output_type": "stream",
     "text": [
      " - Model specifics:\tbatch size: 64, mode: triangular, stepsize: 315, base-lr: 1e-06, max-lr 0.0003, *0\n"
     ]
    },
    {
     "name": "stderr",
     "output_type": "stream",
     "text": [
      "/home/rick/.conda/envs/hannah_z/lib/python2.7/site-packages/keras/callbacks.py:120: UserWarning: Method on_batch_end() is slow compared to the batch update (0.163159). Check your callbacks.\n",
      "  % delta_t_median)\n"
     ]
    },
    {
     "name": "stdout",
     "output_type": "stream",
     "text": [
      "Time usage: 0:03:34 minutes\n",
      "374/374 [==============================] - 1s 2ms/step\n",
      "934/934 [==============================] - 2s 2ms/step\n",
      "3357/3357 [==============================] - 6s 2ms/step\n",
      " - Model specifics:\tbatch size: 64, mode: triangular, stepsize: 315, base-lr: 1e-06, max-lr 0.0003, *0\n",
      "Time usage: 0:03:20 minutes\n",
      "374/374 [==============================] - 1s 2ms/step\n",
      "934/934 [==============================] - 2s 2ms/step\n",
      "3357/3357 [==============================] - 6s 2ms/step\n",
      "/home/rick/Documents/HannahZ/Code/logs\n",
      " - Model specifics:\tbatch size: 64, mode: triangular, stepsize: 315, base-lr: 1e-06, max-lr 0.0003, *1\n"
     ]
    },
    {
     "name": "stderr",
     "output_type": "stream",
     "text": [
      "/home/rick/.conda/envs/hannah_z/lib/python2.7/site-packages/keras/callbacks.py:120: UserWarning: Method on_batch_end() is slow compared to the batch update (0.148131). Check your callbacks.\n",
      "  % delta_t_median)\n"
     ]
    },
    {
     "name": "stdout",
     "output_type": "stream",
     "text": [
      "Time usage: 0:03:31 minutes\n",
      "374/374 [==============================] - 1s 2ms/step\n",
      "934/934 [==============================] - 2s 2ms/step\n",
      "3357/3357 [==============================] - 6s 2ms/step\n",
      " - Model specifics:\tbatch size: 64, mode: triangular, stepsize: 315, base-lr: 1e-06, max-lr 0.0003, *1\n",
      "Time usage: 0:03:20 minutes\n",
      "374/374 [==============================] - 1s 2ms/step\n",
      "934/934 [==============================] - 2s 2ms/step\n",
      "3357/3357 [==============================] - 6s 2ms/step\n",
      "/home/rick/Documents/HannahZ/Code/logs\n",
      " - Model specifics:\tbatch size: 64, mode: triangular, stepsize: 315, base-lr: 1e-06, max-lr 0.0003, *2\n"
     ]
    },
    {
     "name": "stderr",
     "output_type": "stream",
     "text": [
      "/home/rick/.conda/envs/hannah_z/lib/python2.7/site-packages/keras/callbacks.py:120: UserWarning: Method on_batch_end() is slow compared to the batch update (0.152833). Check your callbacks.\n",
      "  % delta_t_median)\n"
     ]
    },
    {
     "name": "stdout",
     "output_type": "stream",
     "text": [
      "Time usage: 0:03:31 minutes\n",
      "374/374 [==============================] - 1s 2ms/step\n",
      "934/934 [==============================] - 2s 2ms/step\n",
      "3357/3357 [==============================] - 6s 2ms/step\n",
      " - Model specifics:\tbatch size: 64, mode: triangular, stepsize: 315, base-lr: 1e-06, max-lr 0.0003, *2\n",
      "Time usage: 0:03:20 minutes\n",
      "374/374 [==============================] - 1s 2ms/step\n",
      "934/934 [==============================] - 2s 2ms/step\n",
      "3357/3357 [==============================] - 6s 2ms/step\n",
      "/home/rick/Documents/HannahZ/Code/logs\n",
      " - Model specifics:\tbatch size: 64, mode: triangular, stepsize: 315, base-lr: 1e-06, max-lr 0.0003, *3\n"
     ]
    },
    {
     "name": "stderr",
     "output_type": "stream",
     "text": [
      "/home/rick/.conda/envs/hannah_z/lib/python2.7/site-packages/keras/callbacks.py:120: UserWarning: Method on_batch_end() is slow compared to the batch update (0.141776). Check your callbacks.\n",
      "  % delta_t_median)\n"
     ]
    },
    {
     "name": "stdout",
     "output_type": "stream",
     "text": [
      "Time usage: 0:03:31 minutes\n",
      "374/374 [==============================] - 1s 2ms/step\n",
      "934/934 [==============================] - 2s 2ms/step\n",
      "3357/3357 [==============================] - 6s 2ms/step\n",
      " - Model specifics:\tbatch size: 64, mode: triangular, stepsize: 315, base-lr: 1e-06, max-lr 0.0003, *3\n",
      "Time usage: 0:03:21 minutes\n",
      "374/374 [==============================] - 1s 2ms/step\n",
      "934/934 [==============================] - 2s 2ms/step\n",
      "3357/3357 [==============================] - 6s 2ms/step\n",
      "/home/rick/Documents/HannahZ/Code/logs\n",
      " - Model specifics:\tbatch size: 64, mode: triangular, stepsize: 315, base-lr: 1e-06, max-lr 0.0003, *4\n"
     ]
    },
    {
     "name": "stderr",
     "output_type": "stream",
     "text": [
      "/home/rick/.conda/envs/hannah_z/lib/python2.7/site-packages/keras/callbacks.py:120: UserWarning: Method on_batch_end() is slow compared to the batch update (0.143298). Check your callbacks.\n",
      "  % delta_t_median)\n"
     ]
    },
    {
     "name": "stdout",
     "output_type": "stream",
     "text": [
      "Time usage: 0:03:32 minutes\n",
      "374/374 [==============================] - 1s 2ms/step\n",
      "934/934 [==============================] - 2s 2ms/step\n",
      "3357/3357 [==============================] - 7s 2ms/step\n",
      " - Model specifics:\tbatch size: 64, mode: triangular, stepsize: 315, base-lr: 1e-06, max-lr 0.0003, *4\n",
      "Time usage: 0:03:22 minutes\n",
      "374/374 [==============================] - 1s 2ms/step\n",
      "934/934 [==============================] - 2s 2ms/step\n",
      "3357/3357 [==============================] - 6s 2ms/step\n",
      "/home/rick/Documents/HannahZ/Code/logs\n",
      "Time usage: 0:35:55 minutes\n",
      " - Model specifics:\tbatch size: 64, mode: triangular2, stepsize: 315, base-lr: 1e-06, max-lr 0.0003, *0\n"
     ]
    },
    {
     "name": "stderr",
     "output_type": "stream",
     "text": [
      "/home/rick/.conda/envs/hannah_z/lib/python2.7/site-packages/keras/callbacks.py:120: UserWarning: Method on_batch_end() is slow compared to the batch update (0.145790). Check your callbacks.\n",
      "  % delta_t_median)\n"
     ]
    },
    {
     "name": "stdout",
     "output_type": "stream",
     "text": [
      "Time usage: 0:03:34 minutes\n",
      "374/374 [==============================] - 1s 2ms/step\n",
      "934/934 [==============================] - 2s 2ms/step\n",
      "3357/3357 [==============================] - 6s 2ms/step\n",
      " - Model specifics:\tbatch size: 64, mode: triangular2, stepsize: 315, base-lr: 1e-06, max-lr 0.0003, *0\n",
      "Time usage: 0:03:21 minutes\n",
      "374/374 [==============================] - 1s 2ms/step\n",
      "934/934 [==============================] - 2s 2ms/step\n",
      "3357/3357 [==============================] - 6s 2ms/step\n",
      "/home/rick/Documents/HannahZ/Code/logs\n",
      " - Model specifics:\tbatch size: 64, mode: triangular2, stepsize: 315, base-lr: 1e-06, max-lr 0.0003, *1\n"
     ]
    },
    {
     "name": "stderr",
     "output_type": "stream",
     "text": [
      "/home/rick/.conda/envs/hannah_z/lib/python2.7/site-packages/keras/callbacks.py:120: UserWarning: Method on_batch_end() is slow compared to the batch update (0.147451). Check your callbacks.\n",
      "  % delta_t_median)\n"
     ]
    },
    {
     "name": "stdout",
     "output_type": "stream",
     "text": [
      "Time usage: 0:03:33 minutes\n",
      "374/374 [==============================] - 1s 2ms/step\n",
      "934/934 [==============================] - 2s 2ms/step\n",
      "3357/3357 [==============================] - 6s 2ms/step\n",
      " - Model specifics:\tbatch size: 64, mode: triangular2, stepsize: 315, base-lr: 1e-06, max-lr 0.0003, *1\n",
      "Time usage: 0:03:22 minutes\n",
      "374/374 [==============================] - 1s 2ms/step\n",
      "934/934 [==============================] - 2s 2ms/step\n",
      "3357/3357 [==============================] - 6s 2ms/step\n",
      "/home/rick/Documents/HannahZ/Code/logs\n",
      " - Model specifics:\tbatch size: 64, mode: triangular2, stepsize: 315, base-lr: 1e-06, max-lr 0.0003, *2\n"
     ]
    },
    {
     "name": "stderr",
     "output_type": "stream",
     "text": [
      "/home/rick/.conda/envs/hannah_z/lib/python2.7/site-packages/keras/callbacks.py:120: UserWarning: Method on_batch_end() is slow compared to the batch update (0.139878). Check your callbacks.\n",
      "  % delta_t_median)\n"
     ]
    },
    {
     "name": "stdout",
     "output_type": "stream",
     "text": [
      "Time usage: 0:03:32 minutes\n",
      "374/374 [==============================] - 1s 2ms/step\n",
      "934/934 [==============================] - 2s 2ms/step\n",
      "3357/3357 [==============================] - 6s 2ms/step\n",
      " - Model specifics:\tbatch size: 64, mode: triangular2, stepsize: 315, base-lr: 1e-06, max-lr 0.0003, *2\n",
      "Time usage: 0:03:21 minutes\n",
      "374/374 [==============================] - 1s 2ms/step\n",
      "934/934 [==============================] - 2s 2ms/step\n",
      "3357/3357 [==============================] - 6s 2ms/step\n",
      "/home/rick/Documents/HannahZ/Code/logs\n",
      " - Model specifics:\tbatch size: 64, mode: triangular2, stepsize: 315, base-lr: 1e-06, max-lr 0.0003, *3\n"
     ]
    },
    {
     "name": "stderr",
     "output_type": "stream",
     "text": [
      "/home/rick/.conda/envs/hannah_z/lib/python2.7/site-packages/keras/callbacks.py:120: UserWarning: Method on_batch_end() is slow compared to the batch update (0.144855). Check your callbacks.\n",
      "  % delta_t_median)\n"
     ]
    },
    {
     "name": "stdout",
     "output_type": "stream",
     "text": [
      "Time usage: 0:03:32 minutes\n",
      "374/374 [==============================] - 1s 2ms/step\n",
      "934/934 [==============================] - 2s 2ms/step\n",
      "3357/3357 [==============================] - 6s 2ms/step\n",
      " - Model specifics:\tbatch size: 64, mode: triangular2, stepsize: 315, base-lr: 1e-06, max-lr 0.0003, *3\n",
      "Time usage: 0:03:22 minutes\n",
      "374/374 [==============================] - 1s 2ms/step\n",
      "934/934 [==============================] - 2s 2ms/step\n",
      "3357/3357 [==============================] - 7s 2ms/step\n",
      "/home/rick/Documents/HannahZ/Code/logs\n",
      " - Model specifics:\tbatch size: 64, mode: triangular2, stepsize: 315, base-lr: 1e-06, max-lr 0.0003, *4\n"
     ]
    },
    {
     "name": "stderr",
     "output_type": "stream",
     "text": [
      "/home/rick/.conda/envs/hannah_z/lib/python2.7/site-packages/keras/callbacks.py:120: UserWarning: Method on_batch_end() is slow compared to the batch update (0.147083). Check your callbacks.\n",
      "  % delta_t_median)\n"
     ]
    },
    {
     "name": "stdout",
     "output_type": "stream",
     "text": [
      "Time usage: 0:03:32 minutes\n",
      "374/374 [==============================] - 1s 2ms/step\n",
      "934/934 [==============================] - 2s 2ms/step\n",
      "3357/3357 [==============================] - 7s 2ms/step\n",
      " - Model specifics:\tbatch size: 64, mode: triangular2, stepsize: 315, base-lr: 1e-06, max-lr 0.0003, *4\n",
      "Time usage: 0:03:20 minutes\n",
      "374/374 [==============================] - 1s 2ms/step\n",
      "934/934 [==============================] - 2s 2ms/step\n",
      "3357/3357 [==============================] - 7s 2ms/step\n",
      "/home/rick/Documents/HannahZ/Code/logs\n",
      "Time usage: 0:36:03 minutes\n",
      " - Model specifics:\tbatch size: 64, mode: triangular, stepsize: 420, base-lr: 1e-06, max-lr 0.0003, *0\n"
     ]
    },
    {
     "name": "stderr",
     "output_type": "stream",
     "text": [
      "/home/rick/.conda/envs/hannah_z/lib/python2.7/site-packages/keras/callbacks.py:120: UserWarning: Method on_batch_end() is slow compared to the batch update (0.148594). Check your callbacks.\n",
      "  % delta_t_median)\n"
     ]
    },
    {
     "name": "stdout",
     "output_type": "stream",
     "text": [
      "Time usage: 0:03:33 minutes\n",
      "374/374 [==============================] - 1s 2ms/step\n",
      "934/934 [==============================] - 2s 2ms/step\n",
      "3357/3357 [==============================] - 7s 2ms/step\n",
      " - Model specifics:\tbatch size: 64, mode: triangular, stepsize: 420, base-lr: 1e-06, max-lr 0.0003, *0\n",
      "Time usage: 0:03:20 minutes\n",
      "374/374 [==============================] - 1s 2ms/step\n",
      "934/934 [==============================] - 2s 2ms/step\n",
      "3357/3357 [==============================] - 6s 2ms/step\n",
      "/home/rick/Documents/HannahZ/Code/logs\n",
      " - Model specifics:\tbatch size: 64, mode: triangular, stepsize: 420, base-lr: 1e-06, max-lr 0.0003, *1\n"
     ]
    },
    {
     "name": "stderr",
     "output_type": "stream",
     "text": [
      "/home/rick/.conda/envs/hannah_z/lib/python2.7/site-packages/keras/callbacks.py:120: UserWarning: Method on_batch_end() is slow compared to the batch update (0.149444). Check your callbacks.\n",
      "  % delta_t_median)\n"
     ]
    },
    {
     "name": "stdout",
     "output_type": "stream",
     "text": [
      "Time usage: 0:03:32 minutes\n",
      "374/374 [==============================] - 1s 2ms/step\n",
      "934/934 [==============================] - 2s 2ms/step\n",
      "3357/3357 [==============================] - 6s 2ms/step\n",
      " - Model specifics:\tbatch size: 64, mode: triangular, stepsize: 420, base-lr: 1e-06, max-lr 0.0003, *1\n",
      "Time usage: 0:03:20 minutes\n",
      "374/374 [==============================] - 1s 2ms/step\n",
      "934/934 [==============================] - 2s 2ms/step\n",
      "3357/3357 [==============================] - 6s 2ms/step\n",
      "/home/rick/Documents/HannahZ/Code/logs\n",
      " - Model specifics:\tbatch size: 64, mode: triangular, stepsize: 420, base-lr: 1e-06, max-lr 0.0003, *2\n"
     ]
    },
    {
     "name": "stderr",
     "output_type": "stream",
     "text": [
      "/home/rick/.conda/envs/hannah_z/lib/python2.7/site-packages/keras/callbacks.py:120: UserWarning: Method on_batch_end() is slow compared to the batch update (0.148191). Check your callbacks.\n",
      "  % delta_t_median)\n"
     ]
    },
    {
     "name": "stdout",
     "output_type": "stream",
     "text": [
      "Time usage: 0:03:31 minutes\n",
      "374/374 [==============================] - 1s 2ms/step\n",
      "934/934 [==============================] - 2s 2ms/step\n",
      "3357/3357 [==============================] - 6s 2ms/step\n",
      " - Model specifics:\tbatch size: 64, mode: triangular, stepsize: 420, base-lr: 1e-06, max-lr 0.0003, *2\n",
      "Time usage: 0:03:21 minutes\n",
      "374/374 [==============================] - 1s 2ms/step\n",
      "934/934 [==============================] - 2s 2ms/step\n",
      "3357/3357 [==============================] - 6s 2ms/step\n",
      "/home/rick/Documents/HannahZ/Code/logs\n",
      " - Model specifics:\tbatch size: 64, mode: triangular, stepsize: 420, base-lr: 1e-06, max-lr 0.0003, *3\n"
     ]
    },
    {
     "name": "stderr",
     "output_type": "stream",
     "text": [
      "/home/rick/.conda/envs/hannah_z/lib/python2.7/site-packages/keras/callbacks.py:120: UserWarning: Method on_batch_end() is slow compared to the batch update (0.146556). Check your callbacks.\n",
      "  % delta_t_median)\n"
     ]
    },
    {
     "name": "stdout",
     "output_type": "stream",
     "text": [
      "Time usage: 0:03:32 minutes\n",
      "374/374 [==============================] - 1s 2ms/step\n",
      "934/934 [==============================] - 2s 2ms/step\n",
      "3357/3357 [==============================] - 6s 2ms/step\n",
      " - Model specifics:\tbatch size: 64, mode: triangular, stepsize: 420, base-lr: 1e-06, max-lr 0.0003, *3\n",
      "Time usage: 0:03:21 minutes\n",
      "374/374 [==============================] - 1s 2ms/step\n",
      "934/934 [==============================] - 2s 2ms/step\n",
      "3357/3357 [==============================] - 6s 2ms/step\n",
      "/home/rick/Documents/HannahZ/Code/logs\n",
      " - Model specifics:\tbatch size: 64, mode: triangular, stepsize: 420, base-lr: 1e-06, max-lr 0.0003, *4\n"
     ]
    },
    {
     "name": "stderr",
     "output_type": "stream",
     "text": [
      "/home/rick/.conda/envs/hannah_z/lib/python2.7/site-packages/keras/callbacks.py:120: UserWarning: Method on_batch_end() is slow compared to the batch update (0.162471). Check your callbacks.\n",
      "  % delta_t_median)\n"
     ]
    },
    {
     "name": "stdout",
     "output_type": "stream",
     "text": [
      "Time usage: 0:03:32 minutes\n",
      "374/374 [==============================] - 1s 2ms/step\n",
      "934/934 [==============================] - 2s 2ms/step\n",
      "3357/3357 [==============================] - 6s 2ms/step\n",
      " - Model specifics:\tbatch size: 64, mode: triangular, stepsize: 420, base-lr: 1e-06, max-lr 0.0003, *4\n",
      "Time usage: 0:03:21 minutes\n",
      "374/374 [==============================] - 1s 2ms/step\n",
      "934/934 [==============================] - 2s 2ms/step\n",
      "3357/3357 [==============================] - 6s 2ms/step\n",
      "/home/rick/Documents/HannahZ/Code/logs\n",
      "Time usage: 0:35:57 minutes\n",
      " - Model specifics:\tbatch size: 64, mode: triangular2, stepsize: 420, base-lr: 1e-06, max-lr 0.0003, *0\n"
     ]
    },
    {
     "name": "stderr",
     "output_type": "stream",
     "text": [
      "/home/rick/.conda/envs/hannah_z/lib/python2.7/site-packages/keras/callbacks.py:120: UserWarning: Method on_batch_end() is slow compared to the batch update (0.150350). Check your callbacks.\n",
      "  % delta_t_median)\n"
     ]
    },
    {
     "name": "stdout",
     "output_type": "stream",
     "text": [
      "Time usage: 0:03:34 minutes\n",
      "374/374 [==============================] - 1s 2ms/step\n",
      "934/934 [==============================] - 2s 2ms/step\n",
      "3357/3357 [==============================] - 6s 2ms/step\n",
      " - Model specifics:\tbatch size: 64, mode: triangular2, stepsize: 420, base-lr: 1e-06, max-lr 0.0003, *0\n",
      "Time usage: 0:03:21 minutes\n",
      "374/374 [==============================] - 1s 2ms/step\n",
      "934/934 [==============================] - 2s 2ms/step\n",
      "3357/3357 [==============================] - 6s 2ms/step\n",
      "/home/rick/Documents/HannahZ/Code/logs\n",
      " - Model specifics:\tbatch size: 64, mode: triangular2, stepsize: 420, base-lr: 1e-06, max-lr 0.0003, *1\n"
     ]
    },
    {
     "name": "stderr",
     "output_type": "stream",
     "text": [
      "/home/rick/.conda/envs/hannah_z/lib/python2.7/site-packages/keras/callbacks.py:120: UserWarning: Method on_batch_end() is slow compared to the batch update (0.153338). Check your callbacks.\n",
      "  % delta_t_median)\n"
     ]
    },
    {
     "name": "stdout",
     "output_type": "stream",
     "text": [
      "Time usage: 0:03:33 minutes\n",
      "374/374 [==============================] - 1s 2ms/step\n",
      "934/934 [==============================] - 2s 2ms/step\n",
      "3357/3357 [==============================] - 7s 2ms/step\n",
      " - Model specifics:\tbatch size: 64, mode: triangular2, stepsize: 420, base-lr: 1e-06, max-lr 0.0003, *1\n",
      "Time usage: 0:03:21 minutes\n",
      "374/374 [==============================] - 1s 2ms/step\n",
      "934/934 [==============================] - 2s 2ms/step\n",
      "3357/3357 [==============================] - 6s 2ms/step\n",
      "/home/rick/Documents/HannahZ/Code/logs\n",
      " - Model specifics:\tbatch size: 64, mode: triangular2, stepsize: 420, base-lr: 1e-06, max-lr 0.0003, *2\n"
     ]
    },
    {
     "name": "stderr",
     "output_type": "stream",
     "text": [
      "/home/rick/.conda/envs/hannah_z/lib/python2.7/site-packages/keras/callbacks.py:120: UserWarning: Method on_batch_end() is slow compared to the batch update (0.150810). Check your callbacks.\n",
      "  % delta_t_median)\n"
     ]
    },
    {
     "name": "stdout",
     "output_type": "stream",
     "text": [
      "Time usage: 0:03:32 minutes\n",
      "374/374 [==============================] - 1s 2ms/step\n",
      "934/934 [==============================] - 2s 2ms/step\n",
      "3357/3357 [==============================] - 7s 2ms/step\n",
      " - Model specifics:\tbatch size: 64, mode: triangular2, stepsize: 420, base-lr: 1e-06, max-lr 0.0003, *2\n",
      "Time usage: 0:03:23 minutes\n",
      "374/374 [==============================] - 1s 2ms/step\n",
      "934/934 [==============================] - 2s 2ms/step\n",
      "3357/3357 [==============================] - 6s 2ms/step\n",
      "/home/rick/Documents/HannahZ/Code/logs\n",
      " - Model specifics:\tbatch size: 64, mode: triangular2, stepsize: 420, base-lr: 1e-06, max-lr 0.0003, *3\n"
     ]
    },
    {
     "name": "stderr",
     "output_type": "stream",
     "text": [
      "/home/rick/.conda/envs/hannah_z/lib/python2.7/site-packages/keras/callbacks.py:120: UserWarning: Method on_batch_end() is slow compared to the batch update (0.222312). Check your callbacks.\n",
      "  % delta_t_median)\n"
     ]
    },
    {
     "name": "stdout",
     "output_type": "stream",
     "text": [
      "Time usage: 0:03:35 minutes\n",
      "374/374 [==============================] - 1s 2ms/step\n",
      "934/934 [==============================] - 2s 2ms/step\n",
      "3357/3357 [==============================] - 7s 2ms/step\n",
      " - Model specifics:\tbatch size: 64, mode: triangular2, stepsize: 420, base-lr: 1e-06, max-lr 0.0003, *3\n",
      "Time usage: 0:03:22 minutes\n",
      "374/374 [==============================] - 1s 2ms/step\n",
      "934/934 [==============================] - 2s 2ms/step\n",
      "3357/3357 [==============================] - 6s 2ms/step\n",
      "/home/rick/Documents/HannahZ/Code/logs\n",
      " - Model specifics:\tbatch size: 64, mode: triangular2, stepsize: 420, base-lr: 1e-06, max-lr 0.0003, *4\n"
     ]
    },
    {
     "name": "stderr",
     "output_type": "stream",
     "text": [
      "/home/rick/.conda/envs/hannah_z/lib/python2.7/site-packages/keras/callbacks.py:120: UserWarning: Method on_batch_end() is slow compared to the batch update (0.206237). Check your callbacks.\n",
      "  % delta_t_median)\n"
     ]
    },
    {
     "name": "stdout",
     "output_type": "stream",
     "text": [
      "Time usage: 0:03:35 minutes\n",
      "374/374 [==============================] - 1s 2ms/step\n",
      "934/934 [==============================] - 2s 2ms/step\n",
      "3357/3357 [==============================] - 7s 2ms/step\n",
      " - Model specifics:\tbatch size: 64, mode: triangular2, stepsize: 420, base-lr: 1e-06, max-lr 0.0003, *4\n",
      "Time usage: 0:03:22 minutes\n",
      "374/374 [==============================] - 1s 2ms/step\n",
      "934/934 [==============================] - 2s 2ms/step\n",
      "3357/3357 [==============================] - 7s 2ms/step\n",
      "/home/rick/Documents/HannahZ/Code/logs\n",
      "Time usage: 0:36:14 minutes\n",
      " - Model specifics:\tbatch size: 64, mode: triangular, stepsize: 525, base-lr: 1e-06, max-lr 0.0003, *0\n"
     ]
    },
    {
     "name": "stderr",
     "output_type": "stream",
     "text": [
      "/home/rick/.conda/envs/hannah_z/lib/python2.7/site-packages/keras/callbacks.py:120: UserWarning: Method on_batch_end() is slow compared to the batch update (0.178123). Check your callbacks.\n",
      "  % delta_t_median)\n"
     ]
    },
    {
     "name": "stdout",
     "output_type": "stream",
     "text": [
      "Time usage: 0:03:36 minutes\n",
      "374/374 [==============================] - 1s 2ms/step\n",
      "934/934 [==============================] - 2s 2ms/step\n",
      "3357/3357 [==============================] - 6s 2ms/step\n",
      " - Model specifics:\tbatch size: 64, mode: triangular, stepsize: 525, base-lr: 1e-06, max-lr 0.0003, *0\n",
      "Time usage: 0:03:23 minutes\n",
      "374/374 [==============================] - 1s 2ms/step\n",
      "934/934 [==============================] - 2s 2ms/step\n",
      "3357/3357 [==============================] - 7s 2ms/step\n",
      "/home/rick/Documents/HannahZ/Code/logs\n",
      " - Model specifics:\tbatch size: 64, mode: triangular, stepsize: 525, base-lr: 1e-06, max-lr 0.0003, *1\n"
     ]
    },
    {
     "name": "stderr",
     "output_type": "stream",
     "text": [
      "/home/rick/.conda/envs/hannah_z/lib/python2.7/site-packages/keras/callbacks.py:120: UserWarning: Method on_batch_end() is slow compared to the batch update (0.174270). Check your callbacks.\n",
      "  % delta_t_median)\n"
     ]
    },
    {
     "name": "stdout",
     "output_type": "stream",
     "text": [
      "Time usage: 0:03:35 minutes\n",
      "374/374 [==============================] - 1s 2ms/step\n",
      "934/934 [==============================] - 2s 2ms/step\n",
      "3357/3357 [==============================] - 7s 2ms/step\n",
      " - Model specifics:\tbatch size: 64, mode: triangular, stepsize: 525, base-lr: 1e-06, max-lr 0.0003, *1\n",
      "Time usage: 0:03:23 minutes\n",
      "374/374 [==============================] - 1s 2ms/step\n",
      "934/934 [==============================] - 2s 2ms/step\n",
      "3357/3357 [==============================] - 6s 2ms/step\n",
      "/home/rick/Documents/HannahZ/Code/logs\n",
      " - Model specifics:\tbatch size: 64, mode: triangular, stepsize: 525, base-lr: 1e-06, max-lr 0.0003, *2\n"
     ]
    },
    {
     "name": "stderr",
     "output_type": "stream",
     "text": [
      "/home/rick/.conda/envs/hannah_z/lib/python2.7/site-packages/keras/callbacks.py:120: UserWarning: Method on_batch_end() is slow compared to the batch update (0.175439). Check your callbacks.\n",
      "  % delta_t_median)\n"
     ]
    },
    {
     "name": "stdout",
     "output_type": "stream",
     "text": [
      "Time usage: 0:03:35 minutes\n",
      "374/374 [==============================] - 1s 2ms/step\n",
      "934/934 [==============================] - 2s 2ms/step\n",
      "3357/3357 [==============================] - 6s 2ms/step\n",
      " - Model specifics:\tbatch size: 64, mode: triangular, stepsize: 525, base-lr: 1e-06, max-lr 0.0003, *2\n",
      "Time usage: 0:03:22 minutes\n",
      "374/374 [==============================] - 1s 2ms/step\n",
      "934/934 [==============================] - 2s 2ms/step\n",
      "3357/3357 [==============================] - 7s 2ms/step\n",
      "/home/rick/Documents/HannahZ/Code/logs\n",
      " - Model specifics:\tbatch size: 64, mode: triangular, stepsize: 525, base-lr: 1e-06, max-lr 0.0003, *3\n"
     ]
    },
    {
     "name": "stderr",
     "output_type": "stream",
     "text": [
      "/home/rick/.conda/envs/hannah_z/lib/python2.7/site-packages/keras/callbacks.py:120: UserWarning: Method on_batch_end() is slow compared to the batch update (0.168441). Check your callbacks.\n",
      "  % delta_t_median)\n"
     ]
    },
    {
     "name": "stdout",
     "output_type": "stream",
     "text": [
      "Time usage: 0:03:35 minutes\n",
      "374/374 [==============================] - 1s 2ms/step\n",
      "934/934 [==============================] - 2s 2ms/step\n",
      "3357/3357 [==============================] - 7s 2ms/step\n",
      " - Model specifics:\tbatch size: 64, mode: triangular, stepsize: 525, base-lr: 1e-06, max-lr 0.0003, *3\n",
      "Time usage: 0:03:22 minutes\n",
      "374/374 [==============================] - 1s 2ms/step\n",
      "934/934 [==============================] - 2s 2ms/step\n",
      "3357/3357 [==============================] - 7s 2ms/step\n",
      "/home/rick/Documents/HannahZ/Code/logs\n",
      " - Model specifics:\tbatch size: 64, mode: triangular, stepsize: 525, base-lr: 1e-06, max-lr 0.0003, *4\n"
     ]
    },
    {
     "name": "stderr",
     "output_type": "stream",
     "text": [
      "/home/rick/.conda/envs/hannah_z/lib/python2.7/site-packages/keras/callbacks.py:120: UserWarning: Method on_batch_end() is slow compared to the batch update (0.176007). Check your callbacks.\n",
      "  % delta_t_median)\n"
     ]
    },
    {
     "name": "stdout",
     "output_type": "stream",
     "text": [
      "Time usage: 0:03:35 minutes\n",
      "374/374 [==============================] - 1s 2ms/step\n",
      "934/934 [==============================] - 2s 2ms/step\n",
      "3357/3357 [==============================] - 7s 2ms/step\n",
      " - Model specifics:\tbatch size: 64, mode: triangular, stepsize: 525, base-lr: 1e-06, max-lr 0.0003, *4\n",
      "Time usage: 0:03:22 minutes\n",
      "374/374 [==============================] - 1s 2ms/step\n",
      "934/934 [==============================] - 2s 2ms/step\n",
      "3357/3357 [==============================] - 7s 2ms/step\n",
      "/home/rick/Documents/HannahZ/Code/logs\n",
      "Time usage: 0:36:21 minutes\n",
      " - Model specifics:\tbatch size: 64, mode: triangular2, stepsize: 525, base-lr: 1e-06, max-lr 0.0003, *0\n"
     ]
    },
    {
     "name": "stderr",
     "output_type": "stream",
     "text": [
      "/home/rick/.conda/envs/hannah_z/lib/python2.7/site-packages/keras/callbacks.py:120: UserWarning: Method on_batch_end() is slow compared to the batch update (0.195200). Check your callbacks.\n",
      "  % delta_t_median)\n"
     ]
    },
    {
     "name": "stdout",
     "output_type": "stream",
     "text": [
      "Time usage: 0:03:38 minutes\n",
      "374/374 [==============================] - 1s 2ms/step\n",
      "934/934 [==============================] - 2s 2ms/step\n",
      "3357/3357 [==============================] - 6s 2ms/step\n",
      " - Model specifics:\tbatch size: 64, mode: triangular2, stepsize: 525, base-lr: 1e-06, max-lr 0.0003, *0\n",
      "Time usage: 0:03:23 minutes\n",
      "374/374 [==============================] - 1s 2ms/step\n",
      "934/934 [==============================] - 2s 2ms/step\n",
      "3357/3357 [==============================] - 7s 2ms/step\n",
      "/home/rick/Documents/HannahZ/Code/logs\n",
      " - Model specifics:\tbatch size: 64, mode: triangular2, stepsize: 525, base-lr: 1e-06, max-lr 0.0003, *1\n"
     ]
    },
    {
     "name": "stderr",
     "output_type": "stream",
     "text": [
      "/home/rick/.conda/envs/hannah_z/lib/python2.7/site-packages/keras/callbacks.py:120: UserWarning: Method on_batch_end() is slow compared to the batch update (0.194515). Check your callbacks.\n",
      "  % delta_t_median)\n"
     ]
    },
    {
     "name": "stdout",
     "output_type": "stream",
     "text": [
      "Time usage: 0:03:35 minutes\n",
      "374/374 [==============================] - 1s 2ms/step\n",
      "934/934 [==============================] - 2s 2ms/step\n",
      "3357/3357 [==============================] - 6s 2ms/step\n",
      " - Model specifics:\tbatch size: 64, mode: triangular2, stepsize: 525, base-lr: 1e-06, max-lr 0.0003, *1\n",
      "Time usage: 0:03:22 minutes\n",
      "374/374 [==============================] - 1s 2ms/step\n",
      "934/934 [==============================] - 2s 2ms/step\n",
      "3357/3357 [==============================] - 7s 2ms/step\n",
      "/home/rick/Documents/HannahZ/Code/logs\n",
      " - Model specifics:\tbatch size: 64, mode: triangular2, stepsize: 525, base-lr: 1e-06, max-lr 0.0003, *2\n"
     ]
    },
    {
     "name": "stderr",
     "output_type": "stream",
     "text": [
      "/home/rick/.conda/envs/hannah_z/lib/python2.7/site-packages/keras/callbacks.py:120: UserWarning: Method on_batch_end() is slow compared to the batch update (0.179979). Check your callbacks.\n",
      "  % delta_t_median)\n"
     ]
    },
    {
     "name": "stdout",
     "output_type": "stream",
     "text": [
      "Time usage: 0:03:35 minutes\n",
      "374/374 [==============================] - 1s 2ms/step\n",
      "934/934 [==============================] - 2s 2ms/step\n",
      "3357/3357 [==============================] - 7s 2ms/step\n",
      " - Model specifics:\tbatch size: 64, mode: triangular2, stepsize: 525, base-lr: 1e-06, max-lr 0.0003, *2\n",
      "Time usage: 0:03:22 minutes\n",
      "374/374 [==============================] - 1s 2ms/step\n",
      "934/934 [==============================] - 2s 2ms/step\n",
      "3357/3357 [==============================] - 7s 2ms/step\n",
      "/home/rick/Documents/HannahZ/Code/logs\n",
      " - Model specifics:\tbatch size: 64, mode: triangular2, stepsize: 525, base-lr: 1e-06, max-lr 0.0003, *3\n"
     ]
    },
    {
     "name": "stderr",
     "output_type": "stream",
     "text": [
      "/home/rick/.conda/envs/hannah_z/lib/python2.7/site-packages/keras/callbacks.py:120: UserWarning: Method on_batch_end() is slow compared to the batch update (0.176582). Check your callbacks.\n",
      "  % delta_t_median)\n"
     ]
    },
    {
     "name": "stdout",
     "output_type": "stream",
     "text": [
      "Time usage: 0:03:35 minutes\n",
      "374/374 [==============================] - 1s 2ms/step\n",
      "934/934 [==============================] - 2s 2ms/step\n",
      "3357/3357 [==============================] - 6s 2ms/step\n",
      " - Model specifics:\tbatch size: 64, mode: triangular2, stepsize: 525, base-lr: 1e-06, max-lr 0.0003, *3\n",
      "Time usage: 0:03:22 minutes\n",
      "374/374 [==============================] - 1s 2ms/step\n",
      "934/934 [==============================] - 2s 2ms/step\n",
      "3357/3357 [==============================] - 6s 2ms/step\n",
      "/home/rick/Documents/HannahZ/Code/logs\n",
      " - Model specifics:\tbatch size: 64, mode: triangular2, stepsize: 525, base-lr: 1e-06, max-lr 0.0003, *4\n"
     ]
    },
    {
     "name": "stderr",
     "output_type": "stream",
     "text": [
      "/home/rick/.conda/envs/hannah_z/lib/python2.7/site-packages/keras/callbacks.py:120: UserWarning: Method on_batch_end() is slow compared to the batch update (0.172612). Check your callbacks.\n",
      "  % delta_t_median)\n"
     ]
    },
    {
     "name": "stdout",
     "output_type": "stream",
     "text": [
      "Time usage: 0:03:35 minutes\n",
      "374/374 [==============================] - 1s 2ms/step\n",
      "934/934 [==============================] - 2s 2ms/step\n",
      "3357/3357 [==============================] - 6s 2ms/step\n",
      " - Model specifics:\tbatch size: 64, mode: triangular2, stepsize: 525, base-lr: 1e-06, max-lr 0.0003, *4\n",
      "Time usage: 0:03:23 minutes\n",
      "374/374 [==============================] - 1s 2ms/step\n",
      "934/934 [==============================] - 2s 2ms/step\n",
      "3357/3357 [==============================] - 6s 2ms/step\n",
      "/home/rick/Documents/HannahZ/Code/logs\n",
      "Time usage: 0:36:22 minutes\n",
      " - Model specifics:\tbatch size: 128, mode: triangular, stepsize: 157, base-lr: 1e-06, max-lr 0.0003, *0\n"
     ]
    },
    {
     "name": "stderr",
     "output_type": "stream",
     "text": [
      "/home/rick/.conda/envs/hannah_z/lib/python2.7/site-packages/keras/callbacks.py:120: UserWarning: Method on_batch_end() is slow compared to the batch update (0.180199). Check your callbacks.\n",
      "  % delta_t_median)\n"
     ]
    },
    {
     "name": "stdout",
     "output_type": "stream",
     "text": [
      "Time usage: 0:02:35 minutes\n",
      "374/374 [==============================] - 1s 2ms/step\n",
      "934/934 [==============================] - 2s 2ms/step\n",
      "3357/3357 [==============================] - 6s 2ms/step\n",
      " - Model specifics:\tbatch size: 128, mode: triangular, stepsize: 157, base-lr: 1e-06, max-lr 0.0003, *0\n",
      "Time usage: 0:02:22 minutes\n",
      "374/374 [==============================] - 1s 2ms/step\n",
      "934/934 [==============================] - 2s 2ms/step\n",
      "3357/3357 [==============================] - 7s 2ms/step\n",
      "/home/rick/Documents/HannahZ/Code/logs\n",
      " - Model specifics:\tbatch size: 128, mode: triangular, stepsize: 157, base-lr: 1e-06, max-lr 0.0003, *1\n"
     ]
    },
    {
     "name": "stderr",
     "output_type": "stream",
     "text": [
      "/home/rick/.conda/envs/hannah_z/lib/python2.7/site-packages/keras/callbacks.py:120: UserWarning: Method on_batch_end() is slow compared to the batch update (0.179018). Check your callbacks.\n",
      "  % delta_t_median)\n"
     ]
    },
    {
     "name": "stdout",
     "output_type": "stream",
     "text": [
      "Time usage: 0:02:34 minutes\n",
      "374/374 [==============================] - 1s 2ms/step\n",
      "934/934 [==============================] - 2s 2ms/step\n",
      "3357/3357 [==============================] - 7s 2ms/step\n",
      " - Model specifics:\tbatch size: 128, mode: triangular, stepsize: 157, base-lr: 1e-06, max-lr 0.0003, *1\n",
      "Time usage: 0:02:21 minutes\n",
      "374/374 [==============================] - 1s 2ms/step\n",
      "934/934 [==============================] - 2s 2ms/step\n",
      "3357/3357 [==============================] - 7s 2ms/step\n",
      "/home/rick/Documents/HannahZ/Code/logs\n",
      " - Model specifics:\tbatch size: 128, mode: triangular, stepsize: 157, base-lr: 1e-06, max-lr 0.0003, *2\n"
     ]
    },
    {
     "name": "stderr",
     "output_type": "stream",
     "text": [
      "/home/rick/.conda/envs/hannah_z/lib/python2.7/site-packages/keras/callbacks.py:120: UserWarning: Method on_batch_end() is slow compared to the batch update (0.179128). Check your callbacks.\n",
      "  % delta_t_median)\n"
     ]
    },
    {
     "name": "stdout",
     "output_type": "stream",
     "text": [
      "Time usage: 0:02:34 minutes\n",
      "374/374 [==============================] - 1s 2ms/step\n",
      "934/934 [==============================] - 2s 2ms/step\n",
      "3357/3357 [==============================] - 6s 2ms/step\n",
      " - Model specifics:\tbatch size: 128, mode: triangular, stepsize: 157, base-lr: 1e-06, max-lr 0.0003, *2\n",
      "Time usage: 0:02:21 minutes\n",
      "374/374 [==============================] - 1s 2ms/step\n",
      "934/934 [==============================] - 2s 2ms/step\n",
      "3357/3357 [==============================] - 7s 2ms/step\n",
      "/home/rick/Documents/HannahZ/Code/logs\n",
      " - Model specifics:\tbatch size: 128, mode: triangular, stepsize: 157, base-lr: 1e-06, max-lr 0.0003, *3\n"
     ]
    },
    {
     "name": "stderr",
     "output_type": "stream",
     "text": [
      "/home/rick/.conda/envs/hannah_z/lib/python2.7/site-packages/keras/callbacks.py:120: UserWarning: Method on_batch_end() is slow compared to the batch update (0.177102). Check your callbacks.\n",
      "  % delta_t_median)\n"
     ]
    },
    {
     "name": "stdout",
     "output_type": "stream",
     "text": [
      "Time usage: 0:02:33 minutes\n",
      "374/374 [==============================] - 1s 2ms/step\n",
      "934/934 [==============================] - 2s 2ms/step\n",
      "3357/3357 [==============================] - 7s 2ms/step\n",
      " - Model specifics:\tbatch size: 128, mode: triangular, stepsize: 157, base-lr: 1e-06, max-lr 0.0003, *3\n",
      "Time usage: 0:02:21 minutes\n",
      "374/374 [==============================] - 1s 2ms/step\n",
      "934/934 [==============================] - 2s 2ms/step\n",
      "3357/3357 [==============================] - 7s 2ms/step\n",
      "/home/rick/Documents/HannahZ/Code/logs\n",
      " - Model specifics:\tbatch size: 128, mode: triangular, stepsize: 157, base-lr: 1e-06, max-lr 0.0003, *4\n"
     ]
    },
    {
     "name": "stderr",
     "output_type": "stream",
     "text": [
      "/home/rick/.conda/envs/hannah_z/lib/python2.7/site-packages/keras/callbacks.py:120: UserWarning: Method on_batch_end() is slow compared to the batch update (0.176542). Check your callbacks.\n",
      "  % delta_t_median)\n"
     ]
    },
    {
     "name": "stdout",
     "output_type": "stream",
     "text": [
      "Time usage: 0:02:35 minutes\n",
      "374/374 [==============================] - 1s 2ms/step\n",
      "934/934 [==============================] - 2s 2ms/step\n",
      "3357/3357 [==============================] - 7s 2ms/step\n",
      " - Model specifics:\tbatch size: 128, mode: triangular, stepsize: 157, base-lr: 1e-06, max-lr 0.0003, *4\n",
      "Time usage: 0:02:23 minutes\n",
      "374/374 [==============================] - 1s 2ms/step\n",
      "934/934 [==============================] - 2s 2ms/step\n",
      "3357/3357 [==============================] - 7s 2ms/step\n",
      "/home/rick/Documents/HannahZ/Code/logs\n",
      "Time usage: 0:26:13 minutes\n",
      " - Model specifics:\tbatch size: 128, mode: triangular2, stepsize: 157, base-lr: 1e-06, max-lr 0.0003, *0\n"
     ]
    },
    {
     "name": "stderr",
     "output_type": "stream",
     "text": [
      "/home/rick/.conda/envs/hannah_z/lib/python2.7/site-packages/keras/callbacks.py:120: UserWarning: Method on_batch_end() is slow compared to the batch update (0.178558). Check your callbacks.\n",
      "  % delta_t_median)\n"
     ]
    },
    {
     "name": "stdout",
     "output_type": "stream",
     "text": [
      "Time usage: 0:02:36 minutes\n",
      "374/374 [==============================] - 1s 2ms/step\n",
      "934/934 [==============================] - 2s 2ms/step\n",
      "3357/3357 [==============================] - 7s 2ms/step\n",
      " - Model specifics:\tbatch size: 128, mode: triangular2, stepsize: 157, base-lr: 1e-06, max-lr 0.0003, *0\n",
      "Time usage: 0:02:22 minutes\n",
      "374/374 [==============================] - 1s 2ms/step\n",
      "934/934 [==============================] - 2s 2ms/step\n",
      "3357/3357 [==============================] - 7s 2ms/step\n",
      "/home/rick/Documents/HannahZ/Code/logs\n",
      " - Model specifics:\tbatch size: 128, mode: triangular2, stepsize: 157, base-lr: 1e-06, max-lr 0.0003, *1\n"
     ]
    },
    {
     "name": "stderr",
     "output_type": "stream",
     "text": [
      "/home/rick/.conda/envs/hannah_z/lib/python2.7/site-packages/keras/callbacks.py:120: UserWarning: Method on_batch_end() is slow compared to the batch update (0.179900). Check your callbacks.\n",
      "  % delta_t_median)\n"
     ]
    },
    {
     "name": "stdout",
     "output_type": "stream",
     "text": [
      "Time usage: 0:02:33 minutes\n",
      "374/374 [==============================] - 1s 2ms/step\n",
      "934/934 [==============================] - 2s 2ms/step\n",
      "3357/3357 [==============================] - 7s 2ms/step\n",
      " - Model specifics:\tbatch size: 128, mode: triangular2, stepsize: 157, base-lr: 1e-06, max-lr 0.0003, *1\n",
      "Time usage: 0:02:21 minutes\n",
      "374/374 [==============================] - 1s 2ms/step\n",
      "934/934 [==============================] - 2s 2ms/step\n",
      "3357/3357 [==============================] - 6s 2ms/step\n",
      "/home/rick/Documents/HannahZ/Code/logs\n",
      " - Model specifics:\tbatch size: 128, mode: triangular2, stepsize: 157, base-lr: 1e-06, max-lr 0.0003, *2\n"
     ]
    },
    {
     "name": "stderr",
     "output_type": "stream",
     "text": [
      "/home/rick/.conda/envs/hannah_z/lib/python2.7/site-packages/keras/callbacks.py:120: UserWarning: Method on_batch_end() is slow compared to the batch update (0.178504). Check your callbacks.\n",
      "  % delta_t_median)\n"
     ]
    },
    {
     "name": "stdout",
     "output_type": "stream",
     "text": [
      "Time usage: 0:02:35 minutes\n",
      "374/374 [==============================] - 1s 2ms/step\n",
      "934/934 [==============================] - 2s 2ms/step\n",
      "3357/3357 [==============================] - 7s 2ms/step\n",
      " - Model specifics:\tbatch size: 128, mode: triangular2, stepsize: 157, base-lr: 1e-06, max-lr 0.0003, *2\n",
      "Time usage: 0:02:23 minutes\n",
      "374/374 [==============================] - 1s 2ms/step\n",
      "934/934 [==============================] - 2s 2ms/step\n",
      "3357/3357 [==============================] - 7s 2ms/step\n",
      "/home/rick/Documents/HannahZ/Code/logs\n",
      " - Model specifics:\tbatch size: 128, mode: triangular2, stepsize: 157, base-lr: 1e-06, max-lr 0.0003, *3\n"
     ]
    },
    {
     "name": "stderr",
     "output_type": "stream",
     "text": [
      "/home/rick/.conda/envs/hannah_z/lib/python2.7/site-packages/keras/callbacks.py:120: UserWarning: Method on_batch_end() is slow compared to the batch update (0.178280). Check your callbacks.\n",
      "  % delta_t_median)\n"
     ]
    },
    {
     "name": "stdout",
     "output_type": "stream",
     "text": [
      "Time usage: 0:02:35 minutes\n",
      "374/374 [==============================] - 1s 2ms/step\n",
      "934/934 [==============================] - 2s 2ms/step\n",
      "3357/3357 [==============================] - 7s 2ms/step\n",
      " - Model specifics:\tbatch size: 128, mode: triangular2, stepsize: 157, base-lr: 1e-06, max-lr 0.0003, *3\n",
      "Time usage: 0:02:23 minutes\n",
      "374/374 [==============================] - 1s 2ms/step\n",
      "934/934 [==============================] - 2s 2ms/step\n",
      "3357/3357 [==============================] - 6s 2ms/step\n",
      "/home/rick/Documents/HannahZ/Code/logs\n",
      " - Model specifics:\tbatch size: 128, mode: triangular2, stepsize: 157, base-lr: 1e-06, max-lr 0.0003, *4\n"
     ]
    },
    {
     "name": "stderr",
     "output_type": "stream",
     "text": [
      "/home/rick/.conda/envs/hannah_z/lib/python2.7/site-packages/keras/callbacks.py:120: UserWarning: Method on_batch_end() is slow compared to the batch update (0.178946). Check your callbacks.\n",
      "  % delta_t_median)\n"
     ]
    },
    {
     "name": "stdout",
     "output_type": "stream",
     "text": [
      "Time usage: 0:02:33 minutes\n",
      "374/374 [==============================] - 1s 2ms/step\n",
      "934/934 [==============================] - 2s 2ms/step\n",
      "3357/3357 [==============================] - 6s 2ms/step\n",
      " - Model specifics:\tbatch size: 128, mode: triangular2, stepsize: 157, base-lr: 1e-06, max-lr 0.0003, *4\n",
      "Time usage: 0:02:21 minutes\n",
      "374/374 [==============================] - 1s 2ms/step\n",
      "934/934 [==============================] - 2s 2ms/step\n",
      "3357/3357 [==============================] - 6s 2ms/step\n",
      "/home/rick/Documents/HannahZ/Code/logs\n",
      "Time usage: 0:26:17 minutes\n",
      " - Model specifics:\tbatch size: 128, mode: triangular, stepsize: 210, base-lr: 1e-06, max-lr 0.0003, *0\n"
     ]
    },
    {
     "name": "stderr",
     "output_type": "stream",
     "text": [
      "/home/rick/.conda/envs/hannah_z/lib/python2.7/site-packages/keras/callbacks.py:120: UserWarning: Method on_batch_end() is slow compared to the batch update (0.183005). Check your callbacks.\n",
      "  % delta_t_median)\n"
     ]
    },
    {
     "name": "stdout",
     "output_type": "stream",
     "text": [
      "Time usage: 0:02:37 minutes\n",
      "374/374 [==============================] - 1s 2ms/step\n",
      "934/934 [==============================] - 2s 2ms/step\n",
      "3357/3357 [==============================] - 6s 2ms/step\n",
      " - Model specifics:\tbatch size: 128, mode: triangular, stepsize: 210, base-lr: 1e-06, max-lr 0.0003, *0\n",
      "Time usage: 0:02:23 minutes\n",
      "374/374 [==============================] - 1s 2ms/step\n",
      "934/934 [==============================] - 2s 2ms/step\n",
      "3357/3357 [==============================] - 6s 2ms/step\n",
      "/home/rick/Documents/HannahZ/Code/logs\n",
      " - Model specifics:\tbatch size: 128, mode: triangular, stepsize: 210, base-lr: 1e-06, max-lr 0.0003, *1\n"
     ]
    },
    {
     "name": "stderr",
     "output_type": "stream",
     "text": [
      "/home/rick/.conda/envs/hannah_z/lib/python2.7/site-packages/keras/callbacks.py:120: UserWarning: Method on_batch_end() is slow compared to the batch update (0.177320). Check your callbacks.\n",
      "  % delta_t_median)\n"
     ]
    },
    {
     "name": "stdout",
     "output_type": "stream",
     "text": [
      "Time usage: 0:02:33 minutes\n",
      "374/374 [==============================] - 1s 2ms/step\n",
      "934/934 [==============================] - 2s 2ms/step\n",
      "3357/3357 [==============================] - 6s 2ms/step\n",
      " - Model specifics:\tbatch size: 128, mode: triangular, stepsize: 210, base-lr: 1e-06, max-lr 0.0003, *1\n",
      "Time usage: 0:02:21 minutes\n",
      "374/374 [==============================] - 1s 2ms/step\n",
      "934/934 [==============================] - 2s 2ms/step\n",
      "3357/3357 [==============================] - 6s 2ms/step\n",
      "/home/rick/Documents/HannahZ/Code/logs\n",
      " - Model specifics:\tbatch size: 128, mode: triangular, stepsize: 210, base-lr: 1e-06, max-lr 0.0003, *2\n"
     ]
    },
    {
     "name": "stderr",
     "output_type": "stream",
     "text": [
      "/home/rick/.conda/envs/hannah_z/lib/python2.7/site-packages/keras/callbacks.py:120: UserWarning: Method on_batch_end() is slow compared to the batch update (0.187885). Check your callbacks.\n",
      "  % delta_t_median)\n"
     ]
    },
    {
     "name": "stdout",
     "output_type": "stream",
     "text": [
      "Time usage: 0:02:36 minutes\n",
      "374/374 [==============================] - 1s 2ms/step\n",
      "934/934 [==============================] - 2s 2ms/step\n",
      "3357/3357 [==============================] - 7s 2ms/step\n",
      " - Model specifics:\tbatch size: 128, mode: triangular, stepsize: 210, base-lr: 1e-06, max-lr 0.0003, *2\n",
      "Time usage: 0:02:24 minutes\n",
      "374/374 [==============================] - 1s 2ms/step\n",
      "934/934 [==============================] - 2s 2ms/step\n",
      "3357/3357 [==============================] - 7s 2ms/step\n",
      "/home/rick/Documents/HannahZ/Code/logs\n",
      " - Model specifics:\tbatch size: 128, mode: triangular, stepsize: 210, base-lr: 1e-06, max-lr 0.0003, *3\n"
     ]
    },
    {
     "name": "stderr",
     "output_type": "stream",
     "text": [
      "/home/rick/.conda/envs/hannah_z/lib/python2.7/site-packages/keras/callbacks.py:120: UserWarning: Method on_batch_end() is slow compared to the batch update (0.183723). Check your callbacks.\n",
      "  % delta_t_median)\n"
     ]
    },
    {
     "name": "stdout",
     "output_type": "stream",
     "text": [
      "Time usage: 0:02:34 minutes\n",
      "374/374 [==============================] - 1s 2ms/step\n",
      "934/934 [==============================] - 2s 2ms/step\n",
      "3357/3357 [==============================] - 6s 2ms/step\n",
      " - Model specifics:\tbatch size: 128, mode: triangular, stepsize: 210, base-lr: 1e-06, max-lr 0.0003, *3\n",
      "Time usage: 0:02:22 minutes\n",
      "374/374 [==============================] - 1s 2ms/step\n",
      "934/934 [==============================] - 2s 2ms/step\n",
      "3357/3357 [==============================] - 6s 2ms/step\n",
      "/home/rick/Documents/HannahZ/Code/logs\n",
      " - Model specifics:\tbatch size: 128, mode: triangular, stepsize: 210, base-lr: 1e-06, max-lr 0.0003, *4\n"
     ]
    },
    {
     "name": "stderr",
     "output_type": "stream",
     "text": [
      "/home/rick/.conda/envs/hannah_z/lib/python2.7/site-packages/keras/callbacks.py:120: UserWarning: Method on_batch_end() is slow compared to the batch update (0.182708). Check your callbacks.\n",
      "  % delta_t_median)\n"
     ]
    },
    {
     "name": "stdout",
     "output_type": "stream",
     "text": [
      "Time usage: 0:02:36 minutes\n",
      "374/374 [==============================] - 1s 2ms/step\n",
      "934/934 [==============================] - 2s 2ms/step\n",
      "3357/3357 [==============================] - 7s 2ms/step\n",
      " - Model specifics:\tbatch size: 128, mode: triangular, stepsize: 210, base-lr: 1e-06, max-lr 0.0003, *4\n",
      "Time usage: 0:02:25 minutes\n",
      "374/374 [==============================] - 1s 2ms/step\n",
      "934/934 [==============================] - 2s 2ms/step\n",
      "3357/3357 [==============================] - 7s 2ms/step\n",
      "/home/rick/Documents/HannahZ/Code/logs\n",
      "Time usage: 0:26:24 minutes\n",
      " - Model specifics:\tbatch size: 128, mode: triangular2, stepsize: 210, base-lr: 1e-06, max-lr 0.0003, *0\n"
     ]
    },
    {
     "name": "stderr",
     "output_type": "stream",
     "text": [
      "/home/rick/.conda/envs/hannah_z/lib/python2.7/site-packages/keras/callbacks.py:120: UserWarning: Method on_batch_end() is slow compared to the batch update (0.183416). Check your callbacks.\n",
      "  % delta_t_median)\n"
     ]
    },
    {
     "name": "stdout",
     "output_type": "stream",
     "text": [
      "Time usage: 0:02:38 minutes\n",
      "374/374 [==============================] - 1s 2ms/step\n",
      "934/934 [==============================] - 2s 2ms/step\n",
      "3357/3357 [==============================] - 7s 2ms/step\n",
      " - Model specifics:\tbatch size: 128, mode: triangular2, stepsize: 210, base-lr: 1e-06, max-lr 0.0003, *0\n",
      "Time usage: 0:02:24 minutes\n",
      "374/374 [==============================] - 1s 2ms/step\n",
      "934/934 [==============================] - 2s 2ms/step\n",
      "3357/3357 [==============================] - 7s 2ms/step\n",
      "/home/rick/Documents/HannahZ/Code/logs\n",
      " - Model specifics:\tbatch size: 128, mode: triangular2, stepsize: 210, base-lr: 1e-06, max-lr 0.0003, *1\n"
     ]
    },
    {
     "name": "stderr",
     "output_type": "stream",
     "text": [
      "/home/rick/.conda/envs/hannah_z/lib/python2.7/site-packages/keras/callbacks.py:120: UserWarning: Method on_batch_end() is slow compared to the batch update (0.184779). Check your callbacks.\n",
      "  % delta_t_median)\n"
     ]
    },
    {
     "name": "stdout",
     "output_type": "stream",
     "text": [
      "Time usage: 0:02:36 minutes\n",
      "374/374 [==============================] - 1s 2ms/step\n",
      "934/934 [==============================] - 2s 2ms/step\n",
      "3357/3357 [==============================] - 7s 2ms/step\n",
      " - Model specifics:\tbatch size: 128, mode: triangular2, stepsize: 210, base-lr: 1e-06, max-lr 0.0003, *1\n",
      "Time usage: 0:02:24 minutes\n",
      "374/374 [==============================] - 1s 2ms/step\n",
      "934/934 [==============================] - 2s 2ms/step\n",
      "3357/3357 [==============================] - 7s 2ms/step\n",
      "/home/rick/Documents/HannahZ/Code/logs\n",
      " - Model specifics:\tbatch size: 128, mode: triangular2, stepsize: 210, base-lr: 1e-06, max-lr 0.0003, *2\n"
     ]
    },
    {
     "name": "stderr",
     "output_type": "stream",
     "text": [
      "/home/rick/.conda/envs/hannah_z/lib/python2.7/site-packages/keras/callbacks.py:120: UserWarning: Method on_batch_end() is slow compared to the batch update (0.186515). Check your callbacks.\n",
      "  % delta_t_median)\n"
     ]
    },
    {
     "name": "stdout",
     "output_type": "stream",
     "text": [
      "Time usage: 0:02:35 minutes\n",
      "374/374 [==============================] - 1s 2ms/step\n",
      "934/934 [==============================] - 2s 2ms/step\n",
      "3357/3357 [==============================] - 7s 2ms/step\n",
      " - Model specifics:\tbatch size: 128, mode: triangular2, stepsize: 210, base-lr: 1e-06, max-lr 0.0003, *2\n",
      "Time usage: 0:02:23 minutes\n",
      "374/374 [==============================] - 1s 2ms/step\n",
      "934/934 [==============================] - 2s 2ms/step\n",
      "3357/3357 [==============================] - 7s 2ms/step\n",
      "/home/rick/Documents/HannahZ/Code/logs\n",
      " - Model specifics:\tbatch size: 128, mode: triangular2, stepsize: 210, base-lr: 1e-06, max-lr 0.0003, *3\n"
     ]
    },
    {
     "name": "stderr",
     "output_type": "stream",
     "text": [
      "/home/rick/.conda/envs/hannah_z/lib/python2.7/site-packages/keras/callbacks.py:120: UserWarning: Method on_batch_end() is slow compared to the batch update (0.186696). Check your callbacks.\n",
      "  % delta_t_median)\n"
     ]
    },
    {
     "name": "stdout",
     "output_type": "stream",
     "text": [
      "Time usage: 0:02:36 minutes\n",
      "374/374 [==============================] - 1s 2ms/step\n",
      "934/934 [==============================] - 2s 2ms/step\n",
      "3357/3357 [==============================] - 6s 2ms/step\n",
      " - Model specifics:\tbatch size: 128, mode: triangular2, stepsize: 210, base-lr: 1e-06, max-lr 0.0003, *3\n",
      "Time usage: 0:02:23 minutes\n",
      "374/374 [==============================] - 1s 2ms/step\n",
      "934/934 [==============================] - 2s 2ms/step\n",
      "3357/3357 [==============================] - 6s 2ms/step\n",
      "/home/rick/Documents/HannahZ/Code/logs\n",
      " - Model specifics:\tbatch size: 128, mode: triangular2, stepsize: 210, base-lr: 1e-06, max-lr 0.0003, *4\n"
     ]
    },
    {
     "name": "stderr",
     "output_type": "stream",
     "text": [
      "/home/rick/.conda/envs/hannah_z/lib/python2.7/site-packages/keras/callbacks.py:120: UserWarning: Method on_batch_end() is slow compared to the batch update (0.295772). Check your callbacks.\n",
      "  % delta_t_median)\n"
     ]
    },
    {
     "name": "stdout",
     "output_type": "stream",
     "text": [
      "Time usage: 0:02:40 minutes\n",
      "374/374 [==============================] - 1s 2ms/step\n",
      "934/934 [==============================] - 2s 2ms/step\n",
      "3357/3357 [==============================] - 7s 2ms/step\n",
      " - Model specifics:\tbatch size: 128, mode: triangular2, stepsize: 210, base-lr: 1e-06, max-lr 0.0003, *4\n",
      "Time usage: 0:02:22 minutes\n",
      "374/374 [==============================] - 1s 2ms/step\n",
      "934/934 [==============================] - 2s 2ms/step\n",
      "3357/3357 [==============================] - 7s 2ms/step\n",
      "/home/rick/Documents/HannahZ/Code/logs\n",
      "Time usage: 0:26:36 minutes\n",
      " - Model specifics:\tbatch size: 128, mode: triangular, stepsize: 262, base-lr: 1e-06, max-lr 0.0003, *0\n"
     ]
    },
    {
     "name": "stderr",
     "output_type": "stream",
     "text": [
      "/home/rick/.conda/envs/hannah_z/lib/python2.7/site-packages/keras/callbacks.py:120: UserWarning: Method on_batch_end() is slow compared to the batch update (0.232849). Check your callbacks.\n",
      "  % delta_t_median)\n"
     ]
    },
    {
     "name": "stdout",
     "output_type": "stream",
     "text": [
      "Time usage: 0:02:41 minutes\n",
      "374/374 [==============================] - 1s 2ms/step\n",
      "934/934 [==============================] - 2s 2ms/step\n",
      "3357/3357 [==============================] - 7s 2ms/step\n",
      " - Model specifics:\tbatch size: 128, mode: triangular, stepsize: 262, base-lr: 1e-06, max-lr 0.0003, *0\n",
      "Time usage: 0:02:24 minutes\n",
      "374/374 [==============================] - 1s 2ms/step\n",
      "934/934 [==============================] - 2s 2ms/step\n",
      "3357/3357 [==============================] - 7s 2ms/step\n",
      "/home/rick/Documents/HannahZ/Code/logs\n",
      " - Model specifics:\tbatch size: 128, mode: triangular, stepsize: 262, base-lr: 1e-06, max-lr 0.0003, *1\n"
     ]
    },
    {
     "name": "stderr",
     "output_type": "stream",
     "text": [
      "/home/rick/.conda/envs/hannah_z/lib/python2.7/site-packages/keras/callbacks.py:120: UserWarning: Method on_batch_end() is slow compared to the batch update (0.222809). Check your callbacks.\n",
      "  % delta_t_median)\n"
     ]
    },
    {
     "name": "stdout",
     "output_type": "stream",
     "text": [
      "Time usage: 0:02:36 minutes\n",
      "374/374 [==============================] - 1s 2ms/step\n",
      "934/934 [==============================] - 2s 2ms/step\n",
      "3357/3357 [==============================] - 7s 2ms/step\n",
      " - Model specifics:\tbatch size: 128, mode: triangular, stepsize: 262, base-lr: 1e-06, max-lr 0.0003, *1\n",
      "Time usage: 0:02:22 minutes\n",
      "374/374 [==============================] - 1s 2ms/step\n",
      "934/934 [==============================] - 2s 2ms/step\n",
      "3357/3357 [==============================] - 7s 2ms/step\n",
      "/home/rick/Documents/HannahZ/Code/logs\n",
      " - Model specifics:\tbatch size: 128, mode: triangular, stepsize: 262, base-lr: 1e-06, max-lr 0.0003, *2\n"
     ]
    },
    {
     "name": "stderr",
     "output_type": "stream",
     "text": [
      "/home/rick/.conda/envs/hannah_z/lib/python2.7/site-packages/keras/callbacks.py:120: UserWarning: Method on_batch_end() is slow compared to the batch update (0.250529). Check your callbacks.\n",
      "  % delta_t_median)\n"
     ]
    },
    {
     "name": "stdout",
     "output_type": "stream",
     "text": [
      "Time usage: 0:02:36 minutes\n",
      "374/374 [==============================] - 1s 2ms/step\n",
      "934/934 [==============================] - 2s 2ms/step\n",
      "3357/3357 [==============================] - 7s 2ms/step\n",
      " - Model specifics:\tbatch size: 128, mode: triangular, stepsize: 262, base-lr: 1e-06, max-lr 0.0003, *2\n",
      "Time usage: 0:02:22 minutes\n",
      "374/374 [==============================] - 1s 2ms/step\n",
      "934/934 [==============================] - 2s 2ms/step\n",
      "3357/3357 [==============================] - 6s 2ms/step\n",
      "/home/rick/Documents/HannahZ/Code/logs\n",
      " - Model specifics:\tbatch size: 128, mode: triangular, stepsize: 262, base-lr: 1e-06, max-lr 0.0003, *3\n"
     ]
    },
    {
     "name": "stderr",
     "output_type": "stream",
     "text": [
      "/home/rick/.conda/envs/hannah_z/lib/python2.7/site-packages/keras/callbacks.py:120: UserWarning: Method on_batch_end() is slow compared to the batch update (0.226939). Check your callbacks.\n",
      "  % delta_t_median)\n"
     ]
    },
    {
     "name": "stdout",
     "output_type": "stream",
     "text": [
      "Time usage: 0:02:38 minutes\n",
      "374/374 [==============================] - 1s 2ms/step\n",
      "934/934 [==============================] - 2s 2ms/step\n",
      "3357/3357 [==============================] - 7s 2ms/step\n",
      " - Model specifics:\tbatch size: 128, mode: triangular, stepsize: 262, base-lr: 1e-06, max-lr 0.0003, *3\n",
      "Time usage: 0:02:24 minutes\n",
      "374/374 [==============================] - 1s 2ms/step\n",
      "934/934 [==============================] - 2s 2ms/step\n",
      "3357/3357 [==============================] - 7s 2ms/step\n",
      "/home/rick/Documents/HannahZ/Code/logs\n",
      " - Model specifics:\tbatch size: 128, mode: triangular, stepsize: 262, base-lr: 1e-06, max-lr 0.0003, *4\n"
     ]
    },
    {
     "name": "stderr",
     "output_type": "stream",
     "text": [
      "/home/rick/.conda/envs/hannah_z/lib/python2.7/site-packages/keras/callbacks.py:120: UserWarning: Method on_batch_end() is slow compared to the batch update (0.224153). Check your callbacks.\n",
      "  % delta_t_median)\n"
     ]
    },
    {
     "name": "stdout",
     "output_type": "stream",
     "text": [
      "Time usage: 0:02:39 minutes\n",
      "374/374 [==============================] - 1s 2ms/step\n",
      "934/934 [==============================] - 2s 2ms/step\n",
      "3357/3357 [==============================] - 7s 2ms/step\n",
      " - Model specifics:\tbatch size: 128, mode: triangular, stepsize: 262, base-lr: 1e-06, max-lr 0.0003, *4\n",
      "Time usage: 0:02:24 minutes\n",
      "374/374 [==============================] - 1s 2ms/step\n",
      "934/934 [==============================] - 2s 2ms/step\n",
      "3357/3357 [==============================] - 7s 2ms/step\n",
      "/home/rick/Documents/HannahZ/Code/logs\n",
      "Time usage: 0:26:41 minutes\n",
      " - Model specifics:\tbatch size: 128, mode: triangular2, stepsize: 262, base-lr: 1e-06, max-lr 0.0003, *0\n"
     ]
    },
    {
     "name": "stderr",
     "output_type": "stream",
     "text": [
      "/home/rick/.conda/envs/hannah_z/lib/python2.7/site-packages/keras/callbacks.py:120: UserWarning: Method on_batch_end() is slow compared to the batch update (0.287355). Check your callbacks.\n",
      "  % delta_t_median)\n"
     ]
    },
    {
     "name": "stdout",
     "output_type": "stream",
     "text": [
      "Time usage: 0:02:40 minutes\n",
      "374/374 [==============================] - 1s 2ms/step\n",
      "934/934 [==============================] - 2s 2ms/step\n",
      "3357/3357 [==============================] - 7s 2ms/step\n",
      " - Model specifics:\tbatch size: 128, mode: triangular2, stepsize: 262, base-lr: 1e-06, max-lr 0.0003, *0\n",
      "Time usage: 0:02:22 minutes\n",
      "374/374 [==============================] - 1s 2ms/step\n",
      "934/934 [==============================] - 2s 2ms/step\n",
      "3357/3357 [==============================] - 7s 2ms/step\n",
      "/home/rick/Documents/HannahZ/Code/logs\n",
      " - Model specifics:\tbatch size: 128, mode: triangular2, stepsize: 262, base-lr: 1e-06, max-lr 0.0003, *1\n"
     ]
    },
    {
     "name": "stderr",
     "output_type": "stream",
     "text": [
      "/home/rick/.conda/envs/hannah_z/lib/python2.7/site-packages/keras/callbacks.py:120: UserWarning: Method on_batch_end() is slow compared to the batch update (0.260757). Check your callbacks.\n",
      "  % delta_t_median)\n"
     ]
    },
    {
     "name": "stdout",
     "output_type": "stream",
     "text": [
      "Time usage: 0:02:36 minutes\n",
      "374/374 [==============================] - 1s 2ms/step\n",
      "934/934 [==============================] - 2s 2ms/step\n",
      "3357/3357 [==============================] - 7s 2ms/step\n",
      " - Model specifics:\tbatch size: 128, mode: triangular2, stepsize: 262, base-lr: 1e-06, max-lr 0.0003, *1\n",
      "Time usage: 0:02:22 minutes\n",
      "374/374 [==============================] - 1s 2ms/step\n",
      "934/934 [==============================] - 2s 2ms/step\n",
      "3357/3357 [==============================] - 7s 2ms/step\n",
      "/home/rick/Documents/HannahZ/Code/logs\n",
      " - Model specifics:\tbatch size: 128, mode: triangular2, stepsize: 262, base-lr: 1e-06, max-lr 0.0003, *2\n"
     ]
    },
    {
     "name": "stderr",
     "output_type": "stream",
     "text": [
      "/home/rick/.conda/envs/hannah_z/lib/python2.7/site-packages/keras/callbacks.py:120: UserWarning: Method on_batch_end() is slow compared to the batch update (0.260788). Check your callbacks.\n",
      "  % delta_t_median)\n"
     ]
    },
    {
     "name": "stdout",
     "output_type": "stream",
     "text": [
      "Time usage: 0:02:36 minutes\n",
      "374/374 [==============================] - 1s 2ms/step\n",
      "934/934 [==============================] - 2s 2ms/step\n",
      "3357/3357 [==============================] - 7s 2ms/step\n",
      " - Model specifics:\tbatch size: 128, mode: triangular2, stepsize: 262, base-lr: 1e-06, max-lr 0.0003, *2\n",
      "Time usage: 0:02:22 minutes\n",
      "374/374 [==============================] - 1s 2ms/step\n",
      "934/934 [==============================] - 2s 2ms/step\n",
      "3357/3357 [==============================] - 7s 2ms/step\n",
      "/home/rick/Documents/HannahZ/Code/logs\n",
      " - Model specifics:\tbatch size: 128, mode: triangular2, stepsize: 262, base-lr: 1e-06, max-lr 0.0003, *3\n"
     ]
    },
    {
     "name": "stderr",
     "output_type": "stream",
     "text": [
      "/home/rick/.conda/envs/hannah_z/lib/python2.7/site-packages/keras/callbacks.py:120: UserWarning: Method on_batch_end() is slow compared to the batch update (0.232908). Check your callbacks.\n",
      "  % delta_t_median)\n"
     ]
    },
    {
     "name": "stdout",
     "output_type": "stream",
     "text": [
      "Time usage: 0:02:39 minutes\n",
      "374/374 [==============================] - 1s 2ms/step\n",
      "934/934 [==============================] - 2s 2ms/step\n",
      "3357/3357 [==============================] - 7s 2ms/step\n",
      " - Model specifics:\tbatch size: 128, mode: triangular2, stepsize: 262, base-lr: 1e-06, max-lr 0.0003, *3\n",
      "Time usage: 0:02:25 minutes\n",
      "374/374 [==============================] - 1s 2ms/step\n",
      "934/934 [==============================] - 2s 2ms/step\n",
      "3357/3357 [==============================] - 7s 2ms/step\n",
      "/home/rick/Documents/HannahZ/Code/logs\n",
      " - Model specifics:\tbatch size: 128, mode: triangular2, stepsize: 262, base-lr: 1e-06, max-lr 0.0003, *4\n"
     ]
    },
    {
     "name": "stderr",
     "output_type": "stream",
     "text": [
      "/home/rick/.conda/envs/hannah_z/lib/python2.7/site-packages/keras/callbacks.py:120: UserWarning: Method on_batch_end() is slow compared to the batch update (0.230170). Check your callbacks.\n",
      "  % delta_t_median)\n"
     ]
    },
    {
     "name": "stdout",
     "output_type": "stream",
     "text": [
      "Time usage: 0:02:38 minutes\n",
      "374/374 [==============================] - 1s 2ms/step\n",
      "934/934 [==============================] - 2s 2ms/step\n",
      "3357/3357 [==============================] - 7s 2ms/step\n",
      " - Model specifics:\tbatch size: 128, mode: triangular2, stepsize: 262, base-lr: 1e-06, max-lr 0.0003, *4\n",
      "Time usage: 0:02:24 minutes\n",
      "374/374 [==============================] - 1s 2ms/step\n",
      "934/934 [==============================] - 2s 2ms/step\n",
      "3357/3357 [==============================] - 7s 2ms/step\n",
      "/home/rick/Documents/HannahZ/Code/logs\n",
      "Time usage: 0:26:38 minutes\n",
      "Time usage: 6:15:41 minutes\n"
     ]
    }
   ],
   "source": [
    "# usual training time: 4:51 / 3:21 / 3:26\n",
    "rep = 5\n",
    "hp_tuner(rep = rep)"
   ]
  },
  {
   "cell_type": "code",
   "execution_count": 23,
   "metadata": {
    "collapsed": true
   },
   "outputs": [],
   "source": [
    "rep = 5\n",
    "titel = model_details[0][:47]\n",
    "mean_test_a = []\n",
    "mean_valid_a = []\n",
    "mean_train_a = []\n",
    "mean_test_l = []\n",
    "mean_valid_l = []\n",
    "mean_train_l = []\n",
    "mean_test_p = []\n",
    "mean_valid_p = []\n",
    "mean_train_p = []\n",
    "mean_test_r = []\n",
    "mean_valid_r = []\n",
    "mean_train_r = []\n",
    "model_l = []\n",
    "a = int(len(test_acc_l)/rep)\n",
    "for i in range(a):\n",
    "    tals = test_acc_l[i:(i+1)*rep]\n",
    "    vals = valid_acc_l[i:(i+1)*rep]\n",
    "    rals = train_acc_l[i:(i+1)*rep]\n",
    "    tlls = test_loss_l[i:(i+1)*rep]\n",
    "    vlls = valid_loss_l[i:(i+1)*rep]\n",
    "    rlls = train_loss_l[i:(i+1)*rep]\n",
    "    tpls = test_prec_l[i:(i+1)*rep]\n",
    "    vpls = valid_prec_l[i:(i+1)*rep]\n",
    "    rpls = train_prec_l[i:(i+1)*rep]\n",
    "    trls = test_rec_l[i:(i+1)*rep]\n",
    "    vrls = valid_rec_l[i:(i+1)*rep]\n",
    "    rrls = train_rec_l[i:(i+1)*rep]\n",
    "    tmean = round(sum(tals)/len(tals),4)\n",
    "    vmean = round(sum(vals)/len(vals),4)\n",
    "    rmean = round(sum(rals)/len(rals),4)\n",
    "    ltmean = round(sum(tlls)/len(tals),4)\n",
    "    lvmean = round(sum(vlls)/len(vals),4)\n",
    "    lrmean = round(sum(rlls)/len(rals),4)\n",
    "    ptmean = round(sum(tpls)/len(tals),4)\n",
    "    pvmean = round(sum(vpls)/len(vals),4)\n",
    "    prmean = round(sum(rpls)/len(rals),4)\n",
    "    rtmean = round(sum(trls)/len(tals),4)\n",
    "    rvmean = round(sum(vrls)/len(vals),4)\n",
    "    rrmean = round(sum(rrls)/len(rals),4)\n",
    "    mean_test_a.append(tmean)\n",
    "    mean_valid_a.append(vmean)\n",
    "    mean_train_a.append(rmean)\n",
    "    mean_test_l.append(ltmean)\n",
    "    mean_valid_l.append(lvmean)\n",
    "    mean_train_l.append(lrmean)\n",
    "    mean_test_p.append(ptmean)\n",
    "    mean_valid_p.append(pvmean)\n",
    "    mean_train_p.append(prmean)\n",
    "    mean_test_r.append(rtmean)\n",
    "    mean_valid_r.append(rvmean)\n",
    "    mean_train_r.append(rrmean)\n",
    "    if (model_det[i*rep][-2:] == 'x2'):\n",
    "        model_l.append(model_det[i*rep][6:49] + ' ' + model_det[i*rep][-2:])\n",
    "    else:\n",
    "        model_l.append(model_det[i*rep][6:49])"
   ]
  },
  {
   "cell_type": "code",
   "execution_count": 24,
   "metadata": {},
   "outputs": [
    {
     "name": "stdout",
     "output_type": "stream",
     "text": [
      "size: 64, mode: triangular, stepsize: 315, \n",
      "*0\n"
     ]
    }
   ],
   "source": [
    "print(model_det[8][6:49])\n",
    "print(model_det[0][-2:])"
   ]
  },
  {
   "cell_type": "code",
   "execution_count": 25,
   "metadata": {},
   "outputs": [
    {
     "data": {
      "text/plain": [
       "'AfterTuningHP_modelOverview_IncResNetV2_bs-64_triangular_sz-420_imagenet_All_48epochs'"
      ]
     },
     "execution_count": 25,
     "metadata": {},
     "output_type": "execute_result"
    }
   ],
   "source": [
    "savename2 = ('AfterTuningHP_modelOverview_' + str(modelname) + '_bs-'+ str(batch_size) + '_' + str(mode) + '_sz-' \n",
    "             + str(step_size) + '_' + str(weights) + '_' + str(trainable_layers) + '_' + str(epochs) + 'epochs')\n",
    "savename2"
   ]
  },
  {
   "cell_type": "code",
   "execution_count": 26,
   "metadata": {},
   "outputs": [
    {
     "data": {
      "text/html": [
       "<div>\n",
       "<style scoped>\n",
       "    .dataframe tbody tr th:only-of-type {\n",
       "        vertical-align: middle;\n",
       "    }\n",
       "\n",
       "    .dataframe tbody tr th {\n",
       "        vertical-align: top;\n",
       "    }\n",
       "\n",
       "    .dataframe thead th {\n",
       "        text-align: right;\n",
       "    }\n",
       "</style>\n",
       "<table border=\"1\" class=\"dataframe\">\n",
       "  <thead>\n",
       "    <tr style=\"text-align: right;\">\n",
       "      <th></th>\n",
       "      <th>test acc</th>\n",
       "      <th>valid acc</th>\n",
       "      <th>train acc</th>\n",
       "      <th>test loss</th>\n",
       "      <th>valid loss</th>\n",
       "      <th>train loss</th>\n",
       "      <th>test prec</th>\n",
       "      <th>valid prec</th>\n",
       "      <th>train prec</th>\n",
       "      <th>test rec</th>\n",
       "      <th>valid rec</th>\n",
       "      <th>train rec</th>\n",
       "    </tr>\n",
       "  </thead>\n",
       "  <tbody>\n",
       "    <tr>\n",
       "      <th>size: 64, mode: triangular, stepsize: 315,  x2</th>\n",
       "      <td>0.7414</td>\n",
       "      <td>0.7267</td>\n",
       "      <td>0.7688</td>\n",
       "      <td>1.2538</td>\n",
       "      <td>1.2591</td>\n",
       "      <td>1.1015</td>\n",
       "      <td>0.6811</td>\n",
       "      <td>0.6491</td>\n",
       "      <td>0.6972</td>\n",
       "      <td>0.9320</td>\n",
       "      <td>0.9193</td>\n",
       "      <td>0.9512</td>\n",
       "    </tr>\n",
       "    <tr>\n",
       "      <th>size: 64, mode: triangular2, stepsize: 420,</th>\n",
       "      <td>0.7406</td>\n",
       "      <td>0.7245</td>\n",
       "      <td>0.7657</td>\n",
       "      <td>1.1598</td>\n",
       "      <td>1.1988</td>\n",
       "      <td>1.0395</td>\n",
       "      <td>0.6805</td>\n",
       "      <td>0.6479</td>\n",
       "      <td>0.6930</td>\n",
       "      <td>0.9322</td>\n",
       "      <td>0.9158</td>\n",
       "      <td>0.9525</td>\n",
       "    </tr>\n",
       "    <tr>\n",
       "      <th>size: 64, mode: triangular2, stepsize: 420, x2</th>\n",
       "      <td>0.7405</td>\n",
       "      <td>0.7236</td>\n",
       "      <td>0.7648</td>\n",
       "      <td>1.1556</td>\n",
       "      <td>1.2003</td>\n",
       "      <td>1.0373</td>\n",
       "      <td>0.6804</td>\n",
       "      <td>0.6474</td>\n",
       "      <td>0.6921</td>\n",
       "      <td>0.9324</td>\n",
       "      <td>0.9156</td>\n",
       "      <td>0.9523</td>\n",
       "    </tr>\n",
       "    <tr>\n",
       "      <th>size: 64, mode: triangular, stepsize: 420,  x2</th>\n",
       "      <td>0.7404</td>\n",
       "      <td>0.7244</td>\n",
       "      <td>0.7650</td>\n",
       "      <td>1.1941</td>\n",
       "      <td>1.2268</td>\n",
       "      <td>1.0650</td>\n",
       "      <td>0.6801</td>\n",
       "      <td>0.6478</td>\n",
       "      <td>0.6924</td>\n",
       "      <td>0.9329</td>\n",
       "      <td>0.9160</td>\n",
       "      <td>0.9529</td>\n",
       "    </tr>\n",
       "    <tr>\n",
       "      <th>size: 64, mode: triangular2, stepsize: 315,</th>\n",
       "      <td>0.7403</td>\n",
       "      <td>0.7258</td>\n",
       "      <td>0.7668</td>\n",
       "      <td>1.1682</td>\n",
       "      <td>1.1837</td>\n",
       "      <td>1.0427</td>\n",
       "      <td>0.6809</td>\n",
       "      <td>0.6485</td>\n",
       "      <td>0.6945</td>\n",
       "      <td>0.9296</td>\n",
       "      <td>0.9169</td>\n",
       "      <td>0.9524</td>\n",
       "    </tr>\n",
       "    <tr>\n",
       "      <th>size: 64, mode: triangular, stepsize: 315,</th>\n",
       "      <td>0.7396</td>\n",
       "      <td>0.7203</td>\n",
       "      <td>0.7648</td>\n",
       "      <td>1.2225</td>\n",
       "      <td>1.2362</td>\n",
       "      <td>1.0851</td>\n",
       "      <td>0.6788</td>\n",
       "      <td>0.6427</td>\n",
       "      <td>0.6922</td>\n",
       "      <td>0.9339</td>\n",
       "      <td>0.9233</td>\n",
       "      <td>0.9524</td>\n",
       "    </tr>\n",
       "    <tr>\n",
       "      <th>size: 64, mode: triangular2, stepsize: 315, x2</th>\n",
       "      <td>0.7394</td>\n",
       "      <td>0.7241</td>\n",
       "      <td>0.7658</td>\n",
       "      <td>1.1488</td>\n",
       "      <td>1.1750</td>\n",
       "      <td>1.0312</td>\n",
       "      <td>0.6796</td>\n",
       "      <td>0.6472</td>\n",
       "      <td>0.6930</td>\n",
       "      <td>0.9308</td>\n",
       "      <td>0.9163</td>\n",
       "      <td>0.9537</td>\n",
       "    </tr>\n",
       "    <tr>\n",
       "      <th>size: 64, mode: triangular, stepsize: 420,</th>\n",
       "      <td>0.7390</td>\n",
       "      <td>0.7245</td>\n",
       "      <td>0.7642</td>\n",
       "      <td>1.1708</td>\n",
       "      <td>1.1957</td>\n",
       "      <td>1.0497</td>\n",
       "      <td>0.6787</td>\n",
       "      <td>0.6472</td>\n",
       "      <td>0.6911</td>\n",
       "      <td>0.9336</td>\n",
       "      <td>0.9183</td>\n",
       "      <td>0.9545</td>\n",
       "    </tr>\n",
       "    <tr>\n",
       "      <th>size: 64, mode: triangular2, stepsize: 525, x2</th>\n",
       "      <td>0.7386</td>\n",
       "      <td>0.7223</td>\n",
       "      <td>0.7635</td>\n",
       "      <td>1.1544</td>\n",
       "      <td>1.1990</td>\n",
       "      <td>1.0366</td>\n",
       "      <td>0.6806</td>\n",
       "      <td>0.6485</td>\n",
       "      <td>0.6935</td>\n",
       "      <td>0.9289</td>\n",
       "      <td>0.9101</td>\n",
       "      <td>0.9475</td>\n",
       "    </tr>\n",
       "    <tr>\n",
       "      <th>size: 128, mode: triangular, stepsize: 157,</th>\n",
       "      <td>0.7381</td>\n",
       "      <td>0.7215</td>\n",
       "      <td>0.7629</td>\n",
       "      <td>1.1676</td>\n",
       "      <td>1.2196</td>\n",
       "      <td>1.0504</td>\n",
       "      <td>0.6804</td>\n",
       "      <td>0.6481</td>\n",
       "      <td>0.6933</td>\n",
       "      <td>0.9286</td>\n",
       "      <td>0.9096</td>\n",
       "      <td>0.9468</td>\n",
       "    </tr>\n",
       "    <tr>\n",
       "      <th>size: 64, mode: triangular, stepsize: 525,</th>\n",
       "      <td>0.7378</td>\n",
       "      <td>0.7200</td>\n",
       "      <td>0.7618</td>\n",
       "      <td>1.1778</td>\n",
       "      <td>1.2258</td>\n",
       "      <td>1.0610</td>\n",
       "      <td>0.6779</td>\n",
       "      <td>0.6449</td>\n",
       "      <td>0.6896</td>\n",
       "      <td>0.9337</td>\n",
       "      <td>0.9158</td>\n",
       "      <td>0.9530</td>\n",
       "    </tr>\n",
       "    <tr>\n",
       "      <th>size: 64, mode: triangular2, stepsize: 525,</th>\n",
       "      <td>0.7375</td>\n",
       "      <td>0.7214</td>\n",
       "      <td>0.7624</td>\n",
       "      <td>1.1634</td>\n",
       "      <td>1.2078</td>\n",
       "      <td>1.0453</td>\n",
       "      <td>0.6792</td>\n",
       "      <td>0.6475</td>\n",
       "      <td>0.6919</td>\n",
       "      <td>0.9301</td>\n",
       "      <td>0.9118</td>\n",
       "      <td>0.9488</td>\n",
       "    </tr>\n",
       "    <tr>\n",
       "      <th>size: 64, mode: triangular, stepsize: 525,  x2</th>\n",
       "      <td>0.7371</td>\n",
       "      <td>0.7217</td>\n",
       "      <td>0.7623</td>\n",
       "      <td>1.1753</td>\n",
       "      <td>1.2151</td>\n",
       "      <td>1.0542</td>\n",
       "      <td>0.6788</td>\n",
       "      <td>0.6475</td>\n",
       "      <td>0.6917</td>\n",
       "      <td>0.9298</td>\n",
       "      <td>0.9122</td>\n",
       "      <td>0.9490</td>\n",
       "    </tr>\n",
       "    <tr>\n",
       "      <th>size: 128, mode: triangular, stepsize: 157, x2</th>\n",
       "      <td>0.7364</td>\n",
       "      <td>0.7197</td>\n",
       "      <td>0.7607</td>\n",
       "      <td>1.1999</td>\n",
       "      <td>1.2556</td>\n",
       "      <td>1.0814</td>\n",
       "      <td>0.6785</td>\n",
       "      <td>0.6461</td>\n",
       "      <td>0.6910</td>\n",
       "      <td>0.9302</td>\n",
       "      <td>0.9106</td>\n",
       "      <td>0.9474</td>\n",
       "    </tr>\n",
       "    <tr>\n",
       "      <th>size: 128, mode: triangular2, stepsize: 157</th>\n",
       "      <td>0.7360</td>\n",
       "      <td>0.7196</td>\n",
       "      <td>0.7602</td>\n",
       "      <td>1.1944</td>\n",
       "      <td>1.2548</td>\n",
       "      <td>1.0802</td>\n",
       "      <td>0.6778</td>\n",
       "      <td>0.6458</td>\n",
       "      <td>0.6904</td>\n",
       "      <td>0.9308</td>\n",
       "      <td>0.9112</td>\n",
       "      <td>0.9475</td>\n",
       "    </tr>\n",
       "    <tr>\n",
       "      <th>size: 128, mode: triangular2, stepsize: 210 x2</th>\n",
       "      <td>0.7358</td>\n",
       "      <td>0.7204</td>\n",
       "      <td>0.7592</td>\n",
       "      <td>1.2012</td>\n",
       "      <td>1.2754</td>\n",
       "      <td>1.0942</td>\n",
       "      <td>0.6771</td>\n",
       "      <td>0.6461</td>\n",
       "      <td>0.6893</td>\n",
       "      <td>0.9316</td>\n",
       "      <td>0.9133</td>\n",
       "      <td>0.9468</td>\n",
       "    </tr>\n",
       "    <tr>\n",
       "      <th>size: 128, mode: triangular2, stepsize: 262</th>\n",
       "      <td>0.7358</td>\n",
       "      <td>0.7209</td>\n",
       "      <td>0.7588</td>\n",
       "      <td>1.1964</td>\n",
       "      <td>1.2791</td>\n",
       "      <td>1.0952</td>\n",
       "      <td>0.6789</td>\n",
       "      <td>0.6482</td>\n",
       "      <td>0.6910</td>\n",
       "      <td>0.9280</td>\n",
       "      <td>0.9095</td>\n",
       "      <td>0.9428</td>\n",
       "    </tr>\n",
       "    <tr>\n",
       "      <th>size: 128, mode: triangular2, stepsize: 157 x2</th>\n",
       "      <td>0.7357</td>\n",
       "      <td>0.7193</td>\n",
       "      <td>0.7595</td>\n",
       "      <td>1.1936</td>\n",
       "      <td>1.2564</td>\n",
       "      <td>1.0814</td>\n",
       "      <td>0.6773</td>\n",
       "      <td>0.6453</td>\n",
       "      <td>0.6895</td>\n",
       "      <td>0.9315</td>\n",
       "      <td>0.9121</td>\n",
       "      <td>0.9478</td>\n",
       "    </tr>\n",
       "    <tr>\n",
       "      <th>size: 128, mode: triangular, stepsize: 210, x2</th>\n",
       "      <td>0.7356</td>\n",
       "      <td>0.7199</td>\n",
       "      <td>0.7592</td>\n",
       "      <td>1.2056</td>\n",
       "      <td>1.2724</td>\n",
       "      <td>1.0935</td>\n",
       "      <td>0.6772</td>\n",
       "      <td>0.6458</td>\n",
       "      <td>0.6894</td>\n",
       "      <td>0.9312</td>\n",
       "      <td>0.9121</td>\n",
       "      <td>0.9466</td>\n",
       "    </tr>\n",
       "    <tr>\n",
       "      <th>size: 128, mode: triangular2, stepsize: 210</th>\n",
       "      <td>0.7356</td>\n",
       "      <td>0.7201</td>\n",
       "      <td>0.7593</td>\n",
       "      <td>1.2017</td>\n",
       "      <td>1.2724</td>\n",
       "      <td>1.0922</td>\n",
       "      <td>0.6770</td>\n",
       "      <td>0.6459</td>\n",
       "      <td>0.6894</td>\n",
       "      <td>0.9315</td>\n",
       "      <td>0.9122</td>\n",
       "      <td>0.9468</td>\n",
       "    </tr>\n",
       "    <tr>\n",
       "      <th>size: 128, mode: triangular, stepsize: 210,</th>\n",
       "      <td>0.7354</td>\n",
       "      <td>0.7196</td>\n",
       "      <td>0.7592</td>\n",
       "      <td>1.1991</td>\n",
       "      <td>1.2646</td>\n",
       "      <td>1.0876</td>\n",
       "      <td>0.6769</td>\n",
       "      <td>0.6455</td>\n",
       "      <td>0.6893</td>\n",
       "      <td>0.9315</td>\n",
       "      <td>0.9126</td>\n",
       "      <td>0.9475</td>\n",
       "    </tr>\n",
       "    <tr>\n",
       "      <th>size: 128, mode: triangular, stepsize: 262,</th>\n",
       "      <td>0.7349</td>\n",
       "      <td>0.7195</td>\n",
       "      <td>0.7578</td>\n",
       "      <td>1.2123</td>\n",
       "      <td>1.2907</td>\n",
       "      <td>1.1066</td>\n",
       "      <td>0.6771</td>\n",
       "      <td>0.6459</td>\n",
       "      <td>0.6889</td>\n",
       "      <td>0.9306</td>\n",
       "      <td>0.9125</td>\n",
       "      <td>0.9455</td>\n",
       "    </tr>\n",
       "    <tr>\n",
       "      <th>size: 128, mode: triangular2, stepsize: 262 x2</th>\n",
       "      <td>0.7349</td>\n",
       "      <td>0.7202</td>\n",
       "      <td>0.7577</td>\n",
       "      <td>1.2049</td>\n",
       "      <td>1.2886</td>\n",
       "      <td>1.1037</td>\n",
       "      <td>0.6778</td>\n",
       "      <td>0.6474</td>\n",
       "      <td>0.6898</td>\n",
       "      <td>0.9289</td>\n",
       "      <td>0.9108</td>\n",
       "      <td>0.9435</td>\n",
       "    </tr>\n",
       "    <tr>\n",
       "      <th>size: 128, mode: triangular, stepsize: 262, x2</th>\n",
       "      <td>0.7346</td>\n",
       "      <td>0.7194</td>\n",
       "      <td>0.7573</td>\n",
       "      <td>1.2140</td>\n",
       "      <td>1.2952</td>\n",
       "      <td>1.1099</td>\n",
       "      <td>0.6771</td>\n",
       "      <td>0.6463</td>\n",
       "      <td>0.6889</td>\n",
       "      <td>0.9301</td>\n",
       "      <td>0.9117</td>\n",
       "      <td>0.9446</td>\n",
       "    </tr>\n",
       "  </tbody>\n",
       "</table>\n",
       "</div>"
      ],
      "text/plain": [
       "                                                test acc  valid acc  \\\n",
       "size: 64, mode: triangular, stepsize: 315,  x2    0.7414     0.7267   \n",
       "size: 64, mode: triangular2, stepsize: 420,       0.7406     0.7245   \n",
       "size: 64, mode: triangular2, stepsize: 420, x2    0.7405     0.7236   \n",
       "size: 64, mode: triangular, stepsize: 420,  x2    0.7404     0.7244   \n",
       "size: 64, mode: triangular2, stepsize: 315,       0.7403     0.7258   \n",
       "size: 64, mode: triangular, stepsize: 315,        0.7396     0.7203   \n",
       "size: 64, mode: triangular2, stepsize: 315, x2    0.7394     0.7241   \n",
       "size: 64, mode: triangular, stepsize: 420,        0.7390     0.7245   \n",
       "size: 64, mode: triangular2, stepsize: 525, x2    0.7386     0.7223   \n",
       "size: 128, mode: triangular, stepsize: 157,       0.7381     0.7215   \n",
       "size: 64, mode: triangular, stepsize: 525,        0.7378     0.7200   \n",
       "size: 64, mode: triangular2, stepsize: 525,       0.7375     0.7214   \n",
       "size: 64, mode: triangular, stepsize: 525,  x2    0.7371     0.7217   \n",
       "size: 128, mode: triangular, stepsize: 157, x2    0.7364     0.7197   \n",
       "size: 128, mode: triangular2, stepsize: 157       0.7360     0.7196   \n",
       "size: 128, mode: triangular2, stepsize: 210 x2    0.7358     0.7204   \n",
       "size: 128, mode: triangular2, stepsize: 262       0.7358     0.7209   \n",
       "size: 128, mode: triangular2, stepsize: 157 x2    0.7357     0.7193   \n",
       "size: 128, mode: triangular, stepsize: 210, x2    0.7356     0.7199   \n",
       "size: 128, mode: triangular2, stepsize: 210       0.7356     0.7201   \n",
       "size: 128, mode: triangular, stepsize: 210,       0.7354     0.7196   \n",
       "size: 128, mode: triangular, stepsize: 262,       0.7349     0.7195   \n",
       "size: 128, mode: triangular2, stepsize: 262 x2    0.7349     0.7202   \n",
       "size: 128, mode: triangular, stepsize: 262, x2    0.7346     0.7194   \n",
       "\n",
       "                                                train acc  test loss  \\\n",
       "size: 64, mode: triangular, stepsize: 315,  x2     0.7688     1.2538   \n",
       "size: 64, mode: triangular2, stepsize: 420,        0.7657     1.1598   \n",
       "size: 64, mode: triangular2, stepsize: 420, x2     0.7648     1.1556   \n",
       "size: 64, mode: triangular, stepsize: 420,  x2     0.7650     1.1941   \n",
       "size: 64, mode: triangular2, stepsize: 315,        0.7668     1.1682   \n",
       "size: 64, mode: triangular, stepsize: 315,         0.7648     1.2225   \n",
       "size: 64, mode: triangular2, stepsize: 315, x2     0.7658     1.1488   \n",
       "size: 64, mode: triangular, stepsize: 420,         0.7642     1.1708   \n",
       "size: 64, mode: triangular2, stepsize: 525, x2     0.7635     1.1544   \n",
       "size: 128, mode: triangular, stepsize: 157,        0.7629     1.1676   \n",
       "size: 64, mode: triangular, stepsize: 525,         0.7618     1.1778   \n",
       "size: 64, mode: triangular2, stepsize: 525,        0.7624     1.1634   \n",
       "size: 64, mode: triangular, stepsize: 525,  x2     0.7623     1.1753   \n",
       "size: 128, mode: triangular, stepsize: 157, x2     0.7607     1.1999   \n",
       "size: 128, mode: triangular2, stepsize: 157        0.7602     1.1944   \n",
       "size: 128, mode: triangular2, stepsize: 210 x2     0.7592     1.2012   \n",
       "size: 128, mode: triangular2, stepsize: 262        0.7588     1.1964   \n",
       "size: 128, mode: triangular2, stepsize: 157 x2     0.7595     1.1936   \n",
       "size: 128, mode: triangular, stepsize: 210, x2     0.7592     1.2056   \n",
       "size: 128, mode: triangular2, stepsize: 210        0.7593     1.2017   \n",
       "size: 128, mode: triangular, stepsize: 210,        0.7592     1.1991   \n",
       "size: 128, mode: triangular, stepsize: 262,        0.7578     1.2123   \n",
       "size: 128, mode: triangular2, stepsize: 262 x2     0.7577     1.2049   \n",
       "size: 128, mode: triangular, stepsize: 262, x2     0.7573     1.2140   \n",
       "\n",
       "                                                valid loss  train loss  \\\n",
       "size: 64, mode: triangular, stepsize: 315,  x2      1.2591      1.1015   \n",
       "size: 64, mode: triangular2, stepsize: 420,         1.1988      1.0395   \n",
       "size: 64, mode: triangular2, stepsize: 420, x2      1.2003      1.0373   \n",
       "size: 64, mode: triangular, stepsize: 420,  x2      1.2268      1.0650   \n",
       "size: 64, mode: triangular2, stepsize: 315,         1.1837      1.0427   \n",
       "size: 64, mode: triangular, stepsize: 315,          1.2362      1.0851   \n",
       "size: 64, mode: triangular2, stepsize: 315, x2      1.1750      1.0312   \n",
       "size: 64, mode: triangular, stepsize: 420,          1.1957      1.0497   \n",
       "size: 64, mode: triangular2, stepsize: 525, x2      1.1990      1.0366   \n",
       "size: 128, mode: triangular, stepsize: 157,         1.2196      1.0504   \n",
       "size: 64, mode: triangular, stepsize: 525,          1.2258      1.0610   \n",
       "size: 64, mode: triangular2, stepsize: 525,         1.2078      1.0453   \n",
       "size: 64, mode: triangular, stepsize: 525,  x2      1.2151      1.0542   \n",
       "size: 128, mode: triangular, stepsize: 157, x2      1.2556      1.0814   \n",
       "size: 128, mode: triangular2, stepsize: 157         1.2548      1.0802   \n",
       "size: 128, mode: triangular2, stepsize: 210 x2      1.2754      1.0942   \n",
       "size: 128, mode: triangular2, stepsize: 262         1.2791      1.0952   \n",
       "size: 128, mode: triangular2, stepsize: 157 x2      1.2564      1.0814   \n",
       "size: 128, mode: triangular, stepsize: 210, x2      1.2724      1.0935   \n",
       "size: 128, mode: triangular2, stepsize: 210         1.2724      1.0922   \n",
       "size: 128, mode: triangular, stepsize: 210,         1.2646      1.0876   \n",
       "size: 128, mode: triangular, stepsize: 262,         1.2907      1.1066   \n",
       "size: 128, mode: triangular2, stepsize: 262 x2      1.2886      1.1037   \n",
       "size: 128, mode: triangular, stepsize: 262, x2      1.2952      1.1099   \n",
       "\n",
       "                                                test prec  valid prec  \\\n",
       "size: 64, mode: triangular, stepsize: 315,  x2     0.6811      0.6491   \n",
       "size: 64, mode: triangular2, stepsize: 420,        0.6805      0.6479   \n",
       "size: 64, mode: triangular2, stepsize: 420, x2     0.6804      0.6474   \n",
       "size: 64, mode: triangular, stepsize: 420,  x2     0.6801      0.6478   \n",
       "size: 64, mode: triangular2, stepsize: 315,        0.6809      0.6485   \n",
       "size: 64, mode: triangular, stepsize: 315,         0.6788      0.6427   \n",
       "size: 64, mode: triangular2, stepsize: 315, x2     0.6796      0.6472   \n",
       "size: 64, mode: triangular, stepsize: 420,         0.6787      0.6472   \n",
       "size: 64, mode: triangular2, stepsize: 525, x2     0.6806      0.6485   \n",
       "size: 128, mode: triangular, stepsize: 157,        0.6804      0.6481   \n",
       "size: 64, mode: triangular, stepsize: 525,         0.6779      0.6449   \n",
       "size: 64, mode: triangular2, stepsize: 525,        0.6792      0.6475   \n",
       "size: 64, mode: triangular, stepsize: 525,  x2     0.6788      0.6475   \n",
       "size: 128, mode: triangular, stepsize: 157, x2     0.6785      0.6461   \n",
       "size: 128, mode: triangular2, stepsize: 157        0.6778      0.6458   \n",
       "size: 128, mode: triangular2, stepsize: 210 x2     0.6771      0.6461   \n",
       "size: 128, mode: triangular2, stepsize: 262        0.6789      0.6482   \n",
       "size: 128, mode: triangular2, stepsize: 157 x2     0.6773      0.6453   \n",
       "size: 128, mode: triangular, stepsize: 210, x2     0.6772      0.6458   \n",
       "size: 128, mode: triangular2, stepsize: 210        0.6770      0.6459   \n",
       "size: 128, mode: triangular, stepsize: 210,        0.6769      0.6455   \n",
       "size: 128, mode: triangular, stepsize: 262,        0.6771      0.6459   \n",
       "size: 128, mode: triangular2, stepsize: 262 x2     0.6778      0.6474   \n",
       "size: 128, mode: triangular, stepsize: 262, x2     0.6771      0.6463   \n",
       "\n",
       "                                                train prec  test rec  \\\n",
       "size: 64, mode: triangular, stepsize: 315,  x2      0.6972    0.9320   \n",
       "size: 64, mode: triangular2, stepsize: 420,         0.6930    0.9322   \n",
       "size: 64, mode: triangular2, stepsize: 420, x2      0.6921    0.9324   \n",
       "size: 64, mode: triangular, stepsize: 420,  x2      0.6924    0.9329   \n",
       "size: 64, mode: triangular2, stepsize: 315,         0.6945    0.9296   \n",
       "size: 64, mode: triangular, stepsize: 315,          0.6922    0.9339   \n",
       "size: 64, mode: triangular2, stepsize: 315, x2      0.6930    0.9308   \n",
       "size: 64, mode: triangular, stepsize: 420,          0.6911    0.9336   \n",
       "size: 64, mode: triangular2, stepsize: 525, x2      0.6935    0.9289   \n",
       "size: 128, mode: triangular, stepsize: 157,         0.6933    0.9286   \n",
       "size: 64, mode: triangular, stepsize: 525,          0.6896    0.9337   \n",
       "size: 64, mode: triangular2, stepsize: 525,         0.6919    0.9301   \n",
       "size: 64, mode: triangular, stepsize: 525,  x2      0.6917    0.9298   \n",
       "size: 128, mode: triangular, stepsize: 157, x2      0.6910    0.9302   \n",
       "size: 128, mode: triangular2, stepsize: 157         0.6904    0.9308   \n",
       "size: 128, mode: triangular2, stepsize: 210 x2      0.6893    0.9316   \n",
       "size: 128, mode: triangular2, stepsize: 262         0.6910    0.9280   \n",
       "size: 128, mode: triangular2, stepsize: 157 x2      0.6895    0.9315   \n",
       "size: 128, mode: triangular, stepsize: 210, x2      0.6894    0.9312   \n",
       "size: 128, mode: triangular2, stepsize: 210         0.6894    0.9315   \n",
       "size: 128, mode: triangular, stepsize: 210,         0.6893    0.9315   \n",
       "size: 128, mode: triangular, stepsize: 262,         0.6889    0.9306   \n",
       "size: 128, mode: triangular2, stepsize: 262 x2      0.6898    0.9289   \n",
       "size: 128, mode: triangular, stepsize: 262, x2      0.6889    0.9301   \n",
       "\n",
       "                                                valid rec  train rec  \n",
       "size: 64, mode: triangular, stepsize: 315,  x2     0.9193     0.9512  \n",
       "size: 64, mode: triangular2, stepsize: 420,        0.9158     0.9525  \n",
       "size: 64, mode: triangular2, stepsize: 420, x2     0.9156     0.9523  \n",
       "size: 64, mode: triangular, stepsize: 420,  x2     0.9160     0.9529  \n",
       "size: 64, mode: triangular2, stepsize: 315,        0.9169     0.9524  \n",
       "size: 64, mode: triangular, stepsize: 315,         0.9233     0.9524  \n",
       "size: 64, mode: triangular2, stepsize: 315, x2     0.9163     0.9537  \n",
       "size: 64, mode: triangular, stepsize: 420,         0.9183     0.9545  \n",
       "size: 64, mode: triangular2, stepsize: 525, x2     0.9101     0.9475  \n",
       "size: 128, mode: triangular, stepsize: 157,        0.9096     0.9468  \n",
       "size: 64, mode: triangular, stepsize: 525,         0.9158     0.9530  \n",
       "size: 64, mode: triangular2, stepsize: 525,        0.9118     0.9488  \n",
       "size: 64, mode: triangular, stepsize: 525,  x2     0.9122     0.9490  \n",
       "size: 128, mode: triangular, stepsize: 157, x2     0.9106     0.9474  \n",
       "size: 128, mode: triangular2, stepsize: 157        0.9112     0.9475  \n",
       "size: 128, mode: triangular2, stepsize: 210 x2     0.9133     0.9468  \n",
       "size: 128, mode: triangular2, stepsize: 262        0.9095     0.9428  \n",
       "size: 128, mode: triangular2, stepsize: 157 x2     0.9121     0.9478  \n",
       "size: 128, mode: triangular, stepsize: 210, x2     0.9121     0.9466  \n",
       "size: 128, mode: triangular2, stepsize: 210        0.9122     0.9468  \n",
       "size: 128, mode: triangular, stepsize: 210,        0.9126     0.9475  \n",
       "size: 128, mode: triangular, stepsize: 262,        0.9125     0.9455  \n",
       "size: 128, mode: triangular2, stepsize: 262 x2     0.9108     0.9435  \n",
       "size: 128, mode: triangular, stepsize: 262, x2     0.9117     0.9446  "
      ]
     },
     "execution_count": 26,
     "metadata": {},
     "output_type": "execute_result"
    }
   ],
   "source": [
    "cols = ['test acc', 'valid acc', 'train acc', 'test loss', 'valid loss', 'train loss', 'test prec', \\\n",
    "           'valid prec', 'train prec', 'test rec', 'valid rec', 'train rec']\n",
    "data2 = np.array((mean_test_a, mean_valid_a, mean_train_a, mean_test_l, mean_valid_l, mean_train_l,\\\n",
    "                mean_test_p, mean_valid_p, mean_train_p, mean_test_r, mean_valid_r, mean_train_r))\n",
    "results2 = pd.DataFrame(data = data2, columns = model_l, index = cols)\n",
    "hp_overview = pd.DataFrame(data = results2.transpose(), columns = cols, index = model_l)\n",
    "hpOverviewSorted = hp_overview.sort_values(by=['test acc'], ascending = False)\n",
    "hpOverviewSorted\n",
    "os.chdir(code_dir + '/Excel')\n",
    "hpOverviewSorted.to_csv(savename2)"
   ]
  },
  {
   "cell_type": "code",
   "execution_count": 27,
   "metadata": {},
   "outputs": [
    {
     "data": {
      "text/plain": [
       "<matplotlib.figure.Figure at 0x7f006b073d50>"
      ]
     },
     "execution_count": 27,
     "metadata": {},
     "output_type": "execute_result"
    },
    {
     "data": {
      "text/plain": [
       "<matplotlib.axes._subplots.AxesSubplot at 0x7f006b07b410>"
      ]
     },
     "execution_count": 27,
     "metadata": {},
     "output_type": "execute_result"
    },
    {
     "data": {
      "image/png": "[encoded data removed]",
      "text/plain": [
       "<matplotlib.figure.Figure at 0x7f006b073d50>"
      ]
     },
     "metadata": {},
     "output_type": "display_data"
    }
   ],
   "source": [
    "%matplotlib inline\n",
    "plt.figure(figsize=(6, 8))\n",
    "\n",
    "sns.heatmap(hp_overview.iloc[:,:3], annot=True,  fmt = 'f')"
   ]
  },
  {
   "cell_type": "code",
   "execution_count": 28,
   "metadata": {},
   "outputs": [
    {
     "data": {
      "text/plain": [
       "[<matplotlib.lines.Line2D at 0x7f005ae35c90>]"
      ]
     },
     "execution_count": 28,
     "metadata": {},
     "output_type": "execute_result"
    },
    {
     "data": {
      "text/plain": [
       "[0, 9, 0.5, 1]"
      ]
     },
     "execution_count": 28,
     "metadata": {},
     "output_type": "execute_result"
    },
    {
     "data": {
      "text/plain": [
       "<matplotlib.text.Text at 0x7f005ab07f10>"
      ]
     },
     "execution_count": 28,
     "metadata": {},
     "output_type": "execute_result"
    },
    {
     "data": {
      "text/plain": [
       "[<matplotlib.lines.Line2D at 0x7f005ab31f90>]"
      ]
     },
     "execution_count": 28,
     "metadata": {},
     "output_type": "execute_result"
    },
    {
     "data": {
      "text/plain": [
       "[<matplotlib.lines.Line2D at 0x7f005ae1f6d0>]"
      ]
     },
     "execution_count": 28,
     "metadata": {},
     "output_type": "execute_result"
    },
    {
     "data": {
      "text/plain": [
       "<matplotlib.text.Text at 0x7f005aafd150>"
      ]
     },
     "execution_count": 28,
     "metadata": {},
     "output_type": "execute_result"
    },
    {
     "data": {
      "text/plain": [
       "[<matplotlib.lines.Line2D at 0x7f005aa50390>]"
      ]
     },
     "execution_count": 28,
     "metadata": {},
     "output_type": "execute_result"
    },
    {
     "data": {
      "text/plain": [
       "[0, 9, 0.73, 0.79]"
      ]
     },
     "execution_count": 28,
     "metadata": {},
     "output_type": "execute_result"
    },
    {
     "data": {
      "text/plain": [
       "[<matplotlib.lines.Line2D at 0x7f005aafd1d0>]"
      ]
     },
     "execution_count": 28,
     "metadata": {},
     "output_type": "execute_result"
    },
    {
     "data": {
      "text/plain": [
       "[<matplotlib.lines.Line2D at 0x7f006aef2710>]"
      ]
     },
     "execution_count": 28,
     "metadata": {},
     "output_type": "execute_result"
    },
    {
     "data": {
      "image/png": "[encoded data removed]",
      "text/plain": [
       "<matplotlib.figure.Figure at 0x7f005ae35d10>"
      ]
     },
     "metadata": {},
     "output_type": "display_data"
    }
   ],
   "source": [
    "%matplotlib inline\n",
    "\n",
    "f, (ax1, ax2) = plt.subplots(2, 1, sharex='col', sharey='row')\n",
    "ax1.plot(mean_test_a, color = 'r')\n",
    "ax1.axis([0, 9, 0.5, 1])\n",
    "ax1.set_title('Close up')\n",
    "ax1.plot(mean_valid_a)\n",
    "ax1.plot(mean_train_a, color = 'g')\n",
    "ax2.set_title('Zoom')\n",
    "ax2.plot(mean_test_a, color = 'r')\n",
    "ax2.axis([0, 9, 0.73, 0.79])\n",
    "ax2.plot(mean_valid_a)\n",
    "ax2.plot(mean_train_a, color = 'g')"
   ]
  },
  {
   "cell_type": "code",
   "execution_count": 29,
   "metadata": {},
   "outputs": [
    {
     "data": {
      "text/html": [
       "<div>\n",
       "<style scoped>\n",
       "    .dataframe tbody tr th:only-of-type {\n",
       "        vertical-align: middle;\n",
       "    }\n",
       "\n",
       "    .dataframe tbody tr th {\n",
       "        vertical-align: top;\n",
       "    }\n",
       "\n",
       "    .dataframe thead th {\n",
       "        text-align: right;\n",
       "    }\n",
       "</style>\n",
       "<table border=\"1\" class=\"dataframe\">\n",
       "  <thead>\n",
       "    <tr style=\"text-align: right;\">\n",
       "      <th></th>\n",
       "      <th>test acc</th>\n",
       "      <th>valid acc</th>\n",
       "      <th>train acc</th>\n",
       "      <th>test loss</th>\n",
       "      <th>valid loss</th>\n",
       "      <th>train loss</th>\n",
       "      <th>test prec</th>\n",
       "      <th>valid prec</th>\n",
       "      <th>train prec</th>\n",
       "      <th>test rec</th>\n",
       "      <th>valid rec</th>\n",
       "      <th>train rec</th>\n",
       "    </tr>\n",
       "  </thead>\n",
       "  <tbody>\n",
       "    <tr>\n",
       "      <th>size: 64, mode: triangular, stepsize: 315,  x2</th>\n",
       "      <td>0.7414</td>\n",
       "      <td>0.7267</td>\n",
       "      <td>0.7688</td>\n",
       "      <td>1.2538</td>\n",
       "      <td>1.2591</td>\n",
       "      <td>1.1015</td>\n",
       "      <td>0.6811</td>\n",
       "      <td>0.6491</td>\n",
       "      <td>0.6972</td>\n",
       "      <td>0.9320</td>\n",
       "      <td>0.9193</td>\n",
       "      <td>0.9512</td>\n",
       "    </tr>\n",
       "    <tr>\n",
       "      <th>size: 64, mode: triangular2, stepsize: 420,</th>\n",
       "      <td>0.7406</td>\n",
       "      <td>0.7245</td>\n",
       "      <td>0.7657</td>\n",
       "      <td>1.1598</td>\n",
       "      <td>1.1988</td>\n",
       "      <td>1.0395</td>\n",
       "      <td>0.6805</td>\n",
       "      <td>0.6479</td>\n",
       "      <td>0.6930</td>\n",
       "      <td>0.9322</td>\n",
       "      <td>0.9158</td>\n",
       "      <td>0.9525</td>\n",
       "    </tr>\n",
       "    <tr>\n",
       "      <th>size: 64, mode: triangular2, stepsize: 420, x2</th>\n",
       "      <td>0.7405</td>\n",
       "      <td>0.7236</td>\n",
       "      <td>0.7648</td>\n",
       "      <td>1.1556</td>\n",
       "      <td>1.2003</td>\n",
       "      <td>1.0373</td>\n",
       "      <td>0.6804</td>\n",
       "      <td>0.6474</td>\n",
       "      <td>0.6921</td>\n",
       "      <td>0.9324</td>\n",
       "      <td>0.9156</td>\n",
       "      <td>0.9523</td>\n",
       "    </tr>\n",
       "  </tbody>\n",
       "</table>\n",
       "</div>"
      ],
      "text/plain": [
       "                                                test acc  valid acc  \\\n",
       "size: 64, mode: triangular, stepsize: 315,  x2    0.7414     0.7267   \n",
       "size: 64, mode: triangular2, stepsize: 420,       0.7406     0.7245   \n",
       "size: 64, mode: triangular2, stepsize: 420, x2    0.7405     0.7236   \n",
       "\n",
       "                                                train acc  test loss  \\\n",
       "size: 64, mode: triangular, stepsize: 315,  x2     0.7688     1.2538   \n",
       "size: 64, mode: triangular2, stepsize: 420,        0.7657     1.1598   \n",
       "size: 64, mode: triangular2, stepsize: 420, x2     0.7648     1.1556   \n",
       "\n",
       "                                                valid loss  train loss  \\\n",
       "size: 64, mode: triangular, stepsize: 315,  x2      1.2591      1.1015   \n",
       "size: 64, mode: triangular2, stepsize: 420,         1.1988      1.0395   \n",
       "size: 64, mode: triangular2, stepsize: 420, x2      1.2003      1.0373   \n",
       "\n",
       "                                                test prec  valid prec  \\\n",
       "size: 64, mode: triangular, stepsize: 315,  x2     0.6811      0.6491   \n",
       "size: 64, mode: triangular2, stepsize: 420,        0.6805      0.6479   \n",
       "size: 64, mode: triangular2, stepsize: 420, x2     0.6804      0.6474   \n",
       "\n",
       "                                                train prec  test rec  \\\n",
       "size: 64, mode: triangular, stepsize: 315,  x2      0.6972    0.9320   \n",
       "size: 64, mode: triangular2, stepsize: 420,         0.6930    0.9322   \n",
       "size: 64, mode: triangular2, stepsize: 420, x2      0.6921    0.9324   \n",
       "\n",
       "                                                valid rec  train rec  \n",
       "size: 64, mode: triangular, stepsize: 315,  x2     0.9193     0.9512  \n",
       "size: 64, mode: triangular2, stepsize: 420,        0.9158     0.9525  \n",
       "size: 64, mode: triangular2, stepsize: 420, x2     0.9156     0.9523  "
      ]
     },
     "execution_count": 29,
     "metadata": {},
     "output_type": "execute_result"
    },
    {
     "data": {
      "text/plain": [
       "'base-lr: 1e-06, max-lr 0.0003,'"
      ]
     },
     "execution_count": 29,
     "metadata": {},
     "output_type": "execute_result"
    }
   ],
   "source": [
    "hp_overview.sort_values(by=['test acc'], ascending = False).iloc[:3,:]\n",
    "# hp_overview.sort_values(by=['test loss'], ascending = True).iloc[:3,:]\n",
    "# hp_overview.sort_values(by=['test prec'], ascending = False).iloc[:3,:]\n",
    "# hp_overview.sort_values(by=['test rec'], ascending = False).iloc[:3,:]\n",
    "model_det[0][49:79]"
   ]
  },
  {
   "cell_type": "code",
   "execution_count": 11,
   "metadata": {},
   "outputs": [
    {
     "data": {
      "text/plain": [
       "'/home/rick/Documents/HannahZ/Code/new_weights/IncResNetV2_bs-64_triangular_sz-315_blr-1e-06_mlr-0.0003_e-96_imagenet_All.hdf5'"
      ]
     },
     "execution_count": 11,
     "metadata": {},
     "output_type": "execute_result"
    }
   ],
   "source": [
    "# decide on best hyperparameters\n",
    "batch_size = 64\n",
    "step_size = 315\n",
    "mode = 'triangular'\n",
    "base_lr = 0.000001\n",
    "max_lr = 0.0003\n",
    "epochs = 96\n",
    "d3 = {}\n",
    "fp = (str(modelname) + '_bs-' + str(batch_size) + '_' + str(mode) + '_sz-' + str(step_size) + '_blr-' \n",
    "      + str(base_lr) + '_mlr-' + str(max_lr) + '_e-' + str(epochs) + '_' + weights + '_' + str(trainable_layers))\n",
    "new_weight_dir + '/' + fp + '.hdf5'"
   ]
  },
  {
   "cell_type": "code",
   "execution_count": 12,
   "metadata": {
    "collapsed": true
   },
   "outputs": [],
   "source": [
    "def trainModels(batch_size = batch_size, stepsize = step_size, mode = mode, max_lr = max_lr, base_lr = base_lr, \n",
    "                epochs = epochs, verbose = 0):\n",
    "    start_time = time()   \n",
    "    global name\n",
    "    global filepath\n",
    "    global d    \n",
    "    date = str(datetime.now().date())\n",
    "    d = {}\n",
    "    for i in range(5):\n",
    "        compileModel()\n",
    "        # logdir in linux:\n",
    "        logdir = (log_dir + '/' + date + '_' + str(batch_size) + '_' + str(mode) + '_si-' + str(stepsize) \n",
    "                  + '_base-' + str(base_lr) + '_max-' + str(max_lr) + '_' + str(i))\n",
    "        # logdir in windows:\n",
    "        ##logdir = (log_dir + '\\\\' + date + '_' + str(batch_size) + '_' + str(mode) + '_si-' + str(stepsize) + \n",
    "        #          '_base-' + str(base_lr) + '_max-' + str(max_lr) + '_' + str(i))\n",
    "        name = ('batch size: ' + str(batch_size) + ', mode: ' + str(mode) + ', stepsize: ' \n",
    "                + str(stepsize) + ', base-lr: ' + str(base_lr) + ', max-lr ' + str(max_lr) + '_' + str(i))\n",
    "        print(' - Model specifics:\\t{}'.format(name))\n",
    "        clr = CyclicLR(base_lr = base_lr, max_lr=max_lr, step_size= stepsize, mode = mode)\n",
    "        fp = (str(modelname) + '_bs-' + str(batch_size) + '_' + str(mode) + '_sz-' + str(step_size) + '_blr-' \n",
    "              + str(base_lr) + '_mlr-' + str(max_lr) + '_e-' + str(epochs) + '_' + weights + '_' \n",
    "              + str(trainable_layers) + '_' + str(i))\n",
    "        filepath = new_weight_dir + '/' + fp + '-{epoch:02d}-' +'.hdf5'\n",
    "        checkp = ModelCheckpoint(filepath, monitor='val_acc', verbose= verbose, save_weights_only=True, \n",
    "                                save_best_only=True, mode='max', period=1)\n",
    "        tbCallBack = TensorBoard(log_dir=logdir, histogram_freq=0, \n",
    "                             write_graph=False, write_images=False)\n",
    "        d[\"FinalModel{0}\".format(i)]= Final_model\n",
    "        d[\"FinalModel{0}\".format(i)].fit(x = train_images, y = train_labels, epochs = epochs, \n",
    "                                         callbacks= [tbCallBack, clr, checkp], batch_size = batch_size,\n",
    "                                         validation_data = (valid_images, valid_labels), verbose = 0)\n",
    "    end_time = time()\n",
    "    time_dif = end_time - start_time\n",
    "    print('Time usage: ' + str(timedelta(seconds=int(round(time_dif)))) + ' minutes')"
   ]
  },
  {
   "cell_type": "code",
   "execution_count": 14,
   "metadata": {},
   "outputs": [
    {
     "name": "stdout",
     "output_type": "stream",
     "text": [
      " - Model specifics:\tbatch size: 64, mode: triangular, stepsize: 315, base-lr: 1e-06, max-lr 0.0003_0\n"
     ]
    },
    {
     "ename": "KeyboardInterrupt",
     "evalue": "",
     "output_type": "error",
     "traceback": [
      "\u001b[0;31m---------------------------------------------------------------------------\u001b[0m",
      "\u001b[0;31mKeyboardInterrupt\u001b[0m                         Traceback (most recent call last)",
      "\u001b[0;32m<ipython-input-14-115168657f41>\u001b[0m in \u001b[0;36m<module>\u001b[0;34m()\u001b[0m\n\u001b[1;32m      6\u001b[0m        + str(max_lr)) + '_' + str(weights) + '_' + str(trainable_layers)\n\u001b[1;32m      7\u001b[0m trainModels(base_lr = base_lr, max_lr= max_lr, epochs = epochs, verbose = 0,\n\u001b[0;32m----> 8\u001b[0;31m            batch_size = batch_size, stepsize = step_size, mode = mode)\n\u001b[0m",
      "\u001b[0;32m<ipython-input-12-d7d2774114b4>\u001b[0m in \u001b[0;36mtrainModels\u001b[0;34m(batch_size, stepsize, mode, max_lr, base_lr, epochs, verbose)\u001b[0m\n\u001b[1;32m     30\u001b[0m         d[\"FinalModel{0}\".format(i)].fit(x = train_images, y = train_labels, epochs = epochs, \n\u001b[1;32m     31\u001b[0m                                          \u001b[0mcallbacks\u001b[0m\u001b[0;34m=\u001b[0m \u001b[0;34m[\u001b[0m\u001b[0mtbCallBack\u001b[0m\u001b[0;34m,\u001b[0m \u001b[0mclr\u001b[0m\u001b[0;34m,\u001b[0m \u001b[0mcheckp\u001b[0m\u001b[0;34m]\u001b[0m\u001b[0;34m,\u001b[0m \u001b[0mbatch_size\u001b[0m \u001b[0;34m=\u001b[0m \u001b[0mbatch_size\u001b[0m\u001b[0;34m,\u001b[0m\u001b[0;34m\u001b[0m\u001b[0m\n\u001b[0;32m---> 32\u001b[0;31m                                          validation_data = (valid_images, valid_labels), verbose = 0)\n\u001b[0m\u001b[1;32m     33\u001b[0m     \u001b[0mend_time\u001b[0m \u001b[0;34m=\u001b[0m \u001b[0mtime\u001b[0m\u001b[0;34m(\u001b[0m\u001b[0;34m)\u001b[0m\u001b[0;34m\u001b[0m\u001b[0m\n\u001b[1;32m     34\u001b[0m     \u001b[0mtime_dif\u001b[0m \u001b[0;34m=\u001b[0m \u001b[0mend_time\u001b[0m \u001b[0;34m-\u001b[0m \u001b[0mstart_time\u001b[0m\u001b[0;34m\u001b[0m\u001b[0m\n",
      "\u001b[0;32m/home/rick/.conda/envs/hannah_z/lib/python2.7/site-packages/keras/engine/training.pyc\u001b[0m in \u001b[0;36mfit\u001b[0;34m(self, x, y, batch_size, epochs, verbose, callbacks, validation_split, validation_data, shuffle, class_weight, sample_weight, initial_epoch, steps_per_epoch, validation_steps, **kwargs)\u001b[0m\n\u001b[1;32m   1040\u001b[0m                                         \u001b[0minitial_epoch\u001b[0m\u001b[0;34m=\u001b[0m\u001b[0minitial_epoch\u001b[0m\u001b[0;34m,\u001b[0m\u001b[0;34m\u001b[0m\u001b[0m\n\u001b[1;32m   1041\u001b[0m                                         \u001b[0msteps_per_epoch\u001b[0m\u001b[0;34m=\u001b[0m\u001b[0msteps_per_epoch\u001b[0m\u001b[0;34m,\u001b[0m\u001b[0;34m\u001b[0m\u001b[0m\n\u001b[0;32m-> 1042\u001b[0;31m                                         validation_steps=validation_steps)\n\u001b[0m\u001b[1;32m   1043\u001b[0m \u001b[0;34m\u001b[0m\u001b[0m\n\u001b[1;32m   1044\u001b[0m     def evaluate(self, x=None, y=None,\n",
      "\u001b[0;32m/home/rick/.conda/envs/hannah_z/lib/python2.7/site-packages/keras/engine/training_arrays.pyc\u001b[0m in \u001b[0;36mfit_loop\u001b[0;34m(model, f, ins, out_labels, batch_size, epochs, verbose, callbacks, val_f, val_ins, shuffle, callback_metrics, initial_epoch, steps_per_epoch, validation_steps)\u001b[0m\n\u001b[1;32m    217\u001b[0m                         \u001b[0;32mfor\u001b[0m \u001b[0ml\u001b[0m\u001b[0;34m,\u001b[0m \u001b[0mo\u001b[0m \u001b[0;32min\u001b[0m \u001b[0mzip\u001b[0m\u001b[0;34m(\u001b[0m\u001b[0mout_labels\u001b[0m\u001b[0;34m,\u001b[0m \u001b[0mval_outs\u001b[0m\u001b[0;34m)\u001b[0m\u001b[0;34m:\u001b[0m\u001b[0;34m\u001b[0m\u001b[0m\n\u001b[1;32m    218\u001b[0m                             \u001b[0mepoch_logs\u001b[0m\u001b[0;34m[\u001b[0m\u001b[0;34m'val_'\u001b[0m \u001b[0;34m+\u001b[0m \u001b[0ml\u001b[0m\u001b[0;34m]\u001b[0m \u001b[0;34m=\u001b[0m \u001b[0mo\u001b[0m\u001b[0;34m\u001b[0m\u001b[0m\n\u001b[0;32m--> 219\u001b[0;31m         \u001b[0mcallbacks\u001b[0m\u001b[0;34m.\u001b[0m\u001b[0mon_epoch_end\u001b[0m\u001b[0;34m(\u001b[0m\u001b[0mepoch\u001b[0m\u001b[0;34m,\u001b[0m \u001b[0mepoch_logs\u001b[0m\u001b[0;34m)\u001b[0m\u001b[0;34m\u001b[0m\u001b[0m\n\u001b[0m\u001b[1;32m    220\u001b[0m         \u001b[0;32mif\u001b[0m \u001b[0mcallback_model\u001b[0m\u001b[0;34m.\u001b[0m\u001b[0mstop_training\u001b[0m\u001b[0;34m:\u001b[0m\u001b[0;34m\u001b[0m\u001b[0m\n\u001b[1;32m    221\u001b[0m             \u001b[0;32mbreak\u001b[0m\u001b[0;34m\u001b[0m\u001b[0m\n",
      "\u001b[0;32m/home/rick/.conda/envs/hannah_z/lib/python2.7/site-packages/keras/callbacks.pyc\u001b[0m in \u001b[0;36mon_epoch_end\u001b[0;34m(self, epoch, logs)\u001b[0m\n\u001b[1;32m     75\u001b[0m         \u001b[0mlogs\u001b[0m \u001b[0;34m=\u001b[0m \u001b[0mlogs\u001b[0m \u001b[0;32mor\u001b[0m \u001b[0;34m{\u001b[0m\u001b[0;34m}\u001b[0m\u001b[0;34m\u001b[0m\u001b[0m\n\u001b[1;32m     76\u001b[0m         \u001b[0;32mfor\u001b[0m \u001b[0mcallback\u001b[0m \u001b[0;32min\u001b[0m \u001b[0mself\u001b[0m\u001b[0;34m.\u001b[0m\u001b[0mcallbacks\u001b[0m\u001b[0;34m:\u001b[0m\u001b[0;34m\u001b[0m\u001b[0m\n\u001b[0;32m---> 77\u001b[0;31m             \u001b[0mcallback\u001b[0m\u001b[0;34m.\u001b[0m\u001b[0mon_epoch_end\u001b[0m\u001b[0;34m(\u001b[0m\u001b[0mepoch\u001b[0m\u001b[0;34m,\u001b[0m \u001b[0mlogs\u001b[0m\u001b[0;34m)\u001b[0m\u001b[0;34m\u001b[0m\u001b[0m\n\u001b[0m\u001b[1;32m     78\u001b[0m \u001b[0;34m\u001b[0m\u001b[0m\n\u001b[1;32m     79\u001b[0m     \u001b[0;32mdef\u001b[0m \u001b[0mon_batch_begin\u001b[0m\u001b[0;34m(\u001b[0m\u001b[0mself\u001b[0m\u001b[0;34m,\u001b[0m \u001b[0mbatch\u001b[0m\u001b[0;34m,\u001b[0m \u001b[0mlogs\u001b[0m\u001b[0;34m=\u001b[0m\u001b[0mNone\u001b[0m\u001b[0;34m)\u001b[0m\u001b[0;34m:\u001b[0m\u001b[0;34m\u001b[0m\u001b[0m\n",
      "\u001b[0;32m/home/rick/.conda/envs/hannah_z/lib/python2.7/site-packages/keras/callbacks.pyc\u001b[0m in \u001b[0;36mon_epoch_end\u001b[0;34m(self, epoch, logs)\u001b[0m\n\u001b[1;32m    440\u001b[0m                         \u001b[0mself\u001b[0m\u001b[0;34m.\u001b[0m\u001b[0mbest\u001b[0m \u001b[0;34m=\u001b[0m \u001b[0mcurrent\u001b[0m\u001b[0;34m\u001b[0m\u001b[0m\n\u001b[1;32m    441\u001b[0m                         \u001b[0;32mif\u001b[0m \u001b[0mself\u001b[0m\u001b[0;34m.\u001b[0m\u001b[0msave_weights_only\u001b[0m\u001b[0;34m:\u001b[0m\u001b[0;34m\u001b[0m\u001b[0m\n\u001b[0;32m--> 442\u001b[0;31m                             \u001b[0mself\u001b[0m\u001b[0;34m.\u001b[0m\u001b[0mmodel\u001b[0m\u001b[0;34m.\u001b[0m\u001b[0msave_weights\u001b[0m\u001b[0;34m(\u001b[0m\u001b[0mfilepath\u001b[0m\u001b[0;34m,\u001b[0m \u001b[0moverwrite\u001b[0m\u001b[0;34m=\u001b[0m\u001b[0mTrue\u001b[0m\u001b[0;34m)\u001b[0m\u001b[0;34m\u001b[0m\u001b[0m\n\u001b[0m\u001b[1;32m    443\u001b[0m                         \u001b[0;32melse\u001b[0m\u001b[0;34m:\u001b[0m\u001b[0;34m\u001b[0m\u001b[0m\n\u001b[1;32m    444\u001b[0m                             \u001b[0mself\u001b[0m\u001b[0;34m.\u001b[0m\u001b[0mmodel\u001b[0m\u001b[0;34m.\u001b[0m\u001b[0msave\u001b[0m\u001b[0;34m(\u001b[0m\u001b[0mfilepath\u001b[0m\u001b[0;34m,\u001b[0m \u001b[0moverwrite\u001b[0m\u001b[0;34m=\u001b[0m\u001b[0mTrue\u001b[0m\u001b[0;34m)\u001b[0m\u001b[0;34m\u001b[0m\u001b[0m\n",
      "\u001b[0;32m/home/rick/.conda/envs/hannah_z/lib/python2.7/site-packages/keras/engine/network.pyc\u001b[0m in \u001b[0;36msave_weights\u001b[0;34m(self, filepath, overwrite)\u001b[0m\n\u001b[1;32m   1133\u001b[0m                 \u001b[0;32mreturn\u001b[0m\u001b[0;34m\u001b[0m\u001b[0m\n\u001b[1;32m   1134\u001b[0m         \u001b[0;32mwith\u001b[0m \u001b[0mh5py\u001b[0m\u001b[0;34m.\u001b[0m\u001b[0mFile\u001b[0m\u001b[0;34m(\u001b[0m\u001b[0mfilepath\u001b[0m\u001b[0;34m,\u001b[0m \u001b[0;34m'w'\u001b[0m\u001b[0;34m)\u001b[0m \u001b[0;32mas\u001b[0m \u001b[0mf\u001b[0m\u001b[0;34m:\u001b[0m\u001b[0;34m\u001b[0m\u001b[0m\n\u001b[0;32m-> 1135\u001b[0;31m             \u001b[0msaving\u001b[0m\u001b[0;34m.\u001b[0m\u001b[0msave_weights_to_hdf5_group\u001b[0m\u001b[0;34m(\u001b[0m\u001b[0mf\u001b[0m\u001b[0;34m,\u001b[0m \u001b[0mself\u001b[0m\u001b[0;34m.\u001b[0m\u001b[0mlayers\u001b[0m\u001b[0;34m)\u001b[0m\u001b[0;34m\u001b[0m\u001b[0m\n\u001b[0m\u001b[1;32m   1136\u001b[0m             \u001b[0mf\u001b[0m\u001b[0;34m.\u001b[0m\u001b[0mflush\u001b[0m\u001b[0;34m(\u001b[0m\u001b[0;34m)\u001b[0m\u001b[0;34m\u001b[0m\u001b[0m\n\u001b[1;32m   1137\u001b[0m \u001b[0;34m\u001b[0m\u001b[0m\n",
      "\u001b[0;32m/home/rick/.conda/envs/hannah_z/lib/python2.7/site-packages/keras/engine/saving.pyc\u001b[0m in \u001b[0;36msave_weights_to_hdf5_group\u001b[0;34m(f, layers)\u001b[0m\n\u001b[1;32m    447\u001b[0m         \u001b[0mg\u001b[0m \u001b[0;34m=\u001b[0m \u001b[0mf\u001b[0m\u001b[0;34m.\u001b[0m\u001b[0mcreate_group\u001b[0m\u001b[0;34m(\u001b[0m\u001b[0mlayer\u001b[0m\u001b[0;34m.\u001b[0m\u001b[0mname\u001b[0m\u001b[0;34m)\u001b[0m\u001b[0;34m\u001b[0m\u001b[0m\n\u001b[1;32m    448\u001b[0m         \u001b[0msymbolic_weights\u001b[0m \u001b[0;34m=\u001b[0m \u001b[0mlayer\u001b[0m\u001b[0;34m.\u001b[0m\u001b[0mweights\u001b[0m\u001b[0;34m\u001b[0m\u001b[0m\n\u001b[0;32m--> 449\u001b[0;31m         \u001b[0mweight_values\u001b[0m \u001b[0;34m=\u001b[0m \u001b[0mK\u001b[0m\u001b[0;34m.\u001b[0m\u001b[0mbatch_get_value\u001b[0m\u001b[0;34m(\u001b[0m\u001b[0msymbolic_weights\u001b[0m\u001b[0;34m)\u001b[0m\u001b[0;34m\u001b[0m\u001b[0m\n\u001b[0m\u001b[1;32m    450\u001b[0m         \u001b[0mweight_names\u001b[0m \u001b[0;34m=\u001b[0m \u001b[0;34m[\u001b[0m\u001b[0;34m]\u001b[0m\u001b[0;34m\u001b[0m\u001b[0m\n\u001b[1;32m    451\u001b[0m         \u001b[0;32mfor\u001b[0m \u001b[0mi\u001b[0m\u001b[0;34m,\u001b[0m \u001b[0;34m(\u001b[0m\u001b[0mw\u001b[0m\u001b[0;34m,\u001b[0m \u001b[0mval\u001b[0m\u001b[0;34m)\u001b[0m \u001b[0;32min\u001b[0m \u001b[0menumerate\u001b[0m\u001b[0;34m(\u001b[0m\u001b[0mzip\u001b[0m\u001b[0;34m(\u001b[0m\u001b[0msymbolic_weights\u001b[0m\u001b[0;34m,\u001b[0m \u001b[0mweight_values\u001b[0m\u001b[0;34m)\u001b[0m\u001b[0;34m)\u001b[0m\u001b[0;34m:\u001b[0m\u001b[0;34m\u001b[0m\u001b[0m\n",
      "\u001b[0;32m/home/rick/.conda/envs/hannah_z/lib/python2.7/site-packages/keras/backend/tensorflow_backend.pyc\u001b[0m in \u001b[0;36mbatch_get_value\u001b[0;34m(ops)\u001b[0m\n\u001b[1;32m   2383\u001b[0m     \"\"\"\n\u001b[1;32m   2384\u001b[0m     \u001b[0;32mif\u001b[0m \u001b[0mops\u001b[0m\u001b[0;34m:\u001b[0m\u001b[0;34m\u001b[0m\u001b[0m\n\u001b[0;32m-> 2385\u001b[0;31m         \u001b[0;32mreturn\u001b[0m \u001b[0mget_session\u001b[0m\u001b[0;34m(\u001b[0m\u001b[0;34m)\u001b[0m\u001b[0;34m.\u001b[0m\u001b[0mrun\u001b[0m\u001b[0;34m(\u001b[0m\u001b[0mops\u001b[0m\u001b[0;34m)\u001b[0m\u001b[0;34m\u001b[0m\u001b[0m\n\u001b[0m\u001b[1;32m   2386\u001b[0m     \u001b[0;32melse\u001b[0m\u001b[0;34m:\u001b[0m\u001b[0;34m\u001b[0m\u001b[0m\n\u001b[1;32m   2387\u001b[0m         \u001b[0;32mreturn\u001b[0m \u001b[0;34m[\u001b[0m\u001b[0;34m]\u001b[0m\u001b[0;34m\u001b[0m\u001b[0m\n",
      "\u001b[0;32m/home/rick/.conda/envs/hannah_z/lib/python2.7/site-packages/tensorflow/python/client/session.pyc\u001b[0m in \u001b[0;36mrun\u001b[0;34m(self, fetches, feed_dict, options, run_metadata)\u001b[0m\n\u001b[1;32m    898\u001b[0m     \u001b[0;32mtry\u001b[0m\u001b[0;34m:\u001b[0m\u001b[0;34m\u001b[0m\u001b[0m\n\u001b[1;32m    899\u001b[0m       result = self._run(None, fetches, feed_dict, options_ptr,\n\u001b[0;32m--> 900\u001b[0;31m                          run_metadata_ptr)\n\u001b[0m\u001b[1;32m    901\u001b[0m       \u001b[0;32mif\u001b[0m \u001b[0mrun_metadata\u001b[0m\u001b[0;34m:\u001b[0m\u001b[0;34m\u001b[0m\u001b[0m\n\u001b[1;32m    902\u001b[0m         \u001b[0mproto_data\u001b[0m \u001b[0;34m=\u001b[0m \u001b[0mtf_session\u001b[0m\u001b[0;34m.\u001b[0m\u001b[0mTF_GetBuffer\u001b[0m\u001b[0;34m(\u001b[0m\u001b[0mrun_metadata_ptr\u001b[0m\u001b[0;34m)\u001b[0m\u001b[0;34m\u001b[0m\u001b[0m\n",
      "\u001b[0;32m/home/rick/.conda/envs/hannah_z/lib/python2.7/site-packages/tensorflow/python/client/session.pyc\u001b[0m in \u001b[0;36m_run\u001b[0;34m(self, handle, fetches, feed_dict, options, run_metadata)\u001b[0m\n\u001b[1;32m   1133\u001b[0m     \u001b[0;32mif\u001b[0m \u001b[0mfinal_fetches\u001b[0m \u001b[0;32mor\u001b[0m \u001b[0mfinal_targets\u001b[0m \u001b[0;32mor\u001b[0m \u001b[0;34m(\u001b[0m\u001b[0mhandle\u001b[0m \u001b[0;32mand\u001b[0m \u001b[0mfeed_dict_tensor\u001b[0m\u001b[0;34m)\u001b[0m\u001b[0;34m:\u001b[0m\u001b[0;34m\u001b[0m\u001b[0m\n\u001b[1;32m   1134\u001b[0m       results = self._do_run(handle, final_targets, final_fetches,\n\u001b[0;32m-> 1135\u001b[0;31m                              feed_dict_tensor, options, run_metadata)\n\u001b[0m\u001b[1;32m   1136\u001b[0m     \u001b[0;32melse\u001b[0m\u001b[0;34m:\u001b[0m\u001b[0;34m\u001b[0m\u001b[0m\n\u001b[1;32m   1137\u001b[0m       \u001b[0mresults\u001b[0m \u001b[0;34m=\u001b[0m \u001b[0;34m[\u001b[0m\u001b[0;34m]\u001b[0m\u001b[0;34m\u001b[0m\u001b[0m\n",
      "\u001b[0;32m/home/rick/.conda/envs/hannah_z/lib/python2.7/site-packages/tensorflow/python/client/session.pyc\u001b[0m in \u001b[0;36m_do_run\u001b[0;34m(self, handle, target_list, fetch_list, feed_dict, options, run_metadata)\u001b[0m\n\u001b[1;32m   1314\u001b[0m     \u001b[0;32mif\u001b[0m \u001b[0mhandle\u001b[0m \u001b[0;32mis\u001b[0m \u001b[0mNone\u001b[0m\u001b[0;34m:\u001b[0m\u001b[0;34m\u001b[0m\u001b[0m\n\u001b[1;32m   1315\u001b[0m       return self._do_call(_run_fn, feeds, fetches, targets, options,\n\u001b[0;32m-> 1316\u001b[0;31m                            run_metadata)\n\u001b[0m\u001b[1;32m   1317\u001b[0m     \u001b[0;32melse\u001b[0m\u001b[0;34m:\u001b[0m\u001b[0;34m\u001b[0m\u001b[0m\n\u001b[1;32m   1318\u001b[0m       \u001b[0;32mreturn\u001b[0m \u001b[0mself\u001b[0m\u001b[0;34m.\u001b[0m\u001b[0m_do_call\u001b[0m\u001b[0;34m(\u001b[0m\u001b[0m_prun_fn\u001b[0m\u001b[0;34m,\u001b[0m \u001b[0mhandle\u001b[0m\u001b[0;34m,\u001b[0m \u001b[0mfeeds\u001b[0m\u001b[0;34m,\u001b[0m \u001b[0mfetches\u001b[0m\u001b[0;34m)\u001b[0m\u001b[0;34m\u001b[0m\u001b[0m\n",
      "\u001b[0;32m/home/rick/.conda/envs/hannah_z/lib/python2.7/site-packages/tensorflow/python/client/session.pyc\u001b[0m in \u001b[0;36m_do_call\u001b[0;34m(self, fn, *args)\u001b[0m\n\u001b[1;32m   1320\u001b[0m   \u001b[0;32mdef\u001b[0m \u001b[0m_do_call\u001b[0m\u001b[0;34m(\u001b[0m\u001b[0mself\u001b[0m\u001b[0;34m,\u001b[0m \u001b[0mfn\u001b[0m\u001b[0;34m,\u001b[0m \u001b[0;34m*\u001b[0m\u001b[0margs\u001b[0m\u001b[0;34m)\u001b[0m\u001b[0;34m:\u001b[0m\u001b[0;34m\u001b[0m\u001b[0m\n\u001b[1;32m   1321\u001b[0m     \u001b[0;32mtry\u001b[0m\u001b[0;34m:\u001b[0m\u001b[0;34m\u001b[0m\u001b[0m\n\u001b[0;32m-> 1322\u001b[0;31m       \u001b[0;32mreturn\u001b[0m \u001b[0mfn\u001b[0m\u001b[0;34m(\u001b[0m\u001b[0;34m*\u001b[0m\u001b[0margs\u001b[0m\u001b[0;34m)\u001b[0m\u001b[0;34m\u001b[0m\u001b[0m\n\u001b[0m\u001b[1;32m   1323\u001b[0m     \u001b[0;32mexcept\u001b[0m \u001b[0merrors\u001b[0m\u001b[0;34m.\u001b[0m\u001b[0mOpError\u001b[0m \u001b[0;32mas\u001b[0m \u001b[0me\u001b[0m\u001b[0;34m:\u001b[0m\u001b[0;34m\u001b[0m\u001b[0m\n\u001b[1;32m   1324\u001b[0m       \u001b[0mmessage\u001b[0m \u001b[0;34m=\u001b[0m \u001b[0mcompat\u001b[0m\u001b[0;34m.\u001b[0m\u001b[0mas_text\u001b[0m\u001b[0;34m(\u001b[0m\u001b[0me\u001b[0m\u001b[0;34m.\u001b[0m\u001b[0mmessage\u001b[0m\u001b[0;34m)\u001b[0m\u001b[0;34m\u001b[0m\u001b[0m\n",
      "\u001b[0;32m/home/rick/.conda/envs/hannah_z/lib/python2.7/site-packages/tensorflow/python/client/session.pyc\u001b[0m in \u001b[0;36m_run_fn\u001b[0;34m(feed_dict, fetch_list, target_list, options, run_metadata)\u001b[0m\n\u001b[1;32m   1305\u001b[0m       \u001b[0mself\u001b[0m\u001b[0;34m.\u001b[0m\u001b[0m_extend_graph\u001b[0m\u001b[0;34m(\u001b[0m\u001b[0;34m)\u001b[0m\u001b[0;34m\u001b[0m\u001b[0m\n\u001b[1;32m   1306\u001b[0m       return self._call_tf_sessionrun(\n\u001b[0;32m-> 1307\u001b[0;31m           options, feed_dict, fetch_list, target_list, run_metadata)\n\u001b[0m\u001b[1;32m   1308\u001b[0m \u001b[0;34m\u001b[0m\u001b[0m\n\u001b[1;32m   1309\u001b[0m     \u001b[0;32mdef\u001b[0m \u001b[0m_prun_fn\u001b[0m\u001b[0;34m(\u001b[0m\u001b[0mhandle\u001b[0m\u001b[0;34m,\u001b[0m \u001b[0mfeed_dict\u001b[0m\u001b[0;34m,\u001b[0m \u001b[0mfetch_list\u001b[0m\u001b[0;34m)\u001b[0m\u001b[0;34m:\u001b[0m\u001b[0;34m\u001b[0m\u001b[0m\n",
      "\u001b[0;32m/home/rick/.conda/envs/hannah_z/lib/python2.7/site-packages/tensorflow/python/client/session.pyc\u001b[0m in \u001b[0;36m_call_tf_sessionrun\u001b[0;34m(self, options, feed_dict, fetch_list, target_list, run_metadata)\u001b[0m\n\u001b[1;32m   1407\u001b[0m       return tf_session.TF_SessionRun_wrapper(\n\u001b[1;32m   1408\u001b[0m           \u001b[0mself\u001b[0m\u001b[0;34m.\u001b[0m\u001b[0m_session\u001b[0m\u001b[0;34m,\u001b[0m \u001b[0moptions\u001b[0m\u001b[0;34m,\u001b[0m \u001b[0mfeed_dict\u001b[0m\u001b[0;34m,\u001b[0m \u001b[0mfetch_list\u001b[0m\u001b[0;34m,\u001b[0m \u001b[0mtarget_list\u001b[0m\u001b[0;34m,\u001b[0m\u001b[0;34m\u001b[0m\u001b[0m\n\u001b[0;32m-> 1409\u001b[0;31m           run_metadata)\n\u001b[0m\u001b[1;32m   1410\u001b[0m     \u001b[0;32melse\u001b[0m\u001b[0;34m:\u001b[0m\u001b[0;34m\u001b[0m\u001b[0m\n\u001b[1;32m   1411\u001b[0m       \u001b[0;32mwith\u001b[0m \u001b[0merrors\u001b[0m\u001b[0;34m.\u001b[0m\u001b[0mraise_exception_on_not_ok_status\u001b[0m\u001b[0;34m(\u001b[0m\u001b[0;34m)\u001b[0m \u001b[0;32mas\u001b[0m \u001b[0mstatus\u001b[0m\u001b[0;34m:\u001b[0m\u001b[0;34m\u001b[0m\u001b[0m\n",
      "\u001b[0;31mKeyboardInterrupt\u001b[0m: "
     ]
    }
   ],
   "source": [
    "# build best model again\n",
    "# usual time: 15 minutes - 18\n",
    "fm = ['FinalModel1', 'FinalModel2', 'FinalModel3', 'FinalModel4', 'FinalModel5']\n",
    "metrics = ['loss', 'acc', 'precision', 'recall']\n",
    "name = ('bs-' + str(batch_size) + '_' + str(mode) + '_sz-' + str(step_size) + '_blr-' + str(base_lr) + '_mlr-' \n",
    "       + str(max_lr)) + '_' + str(weights) + '_' + str(trainable_layers)\n",
    "trainModels(base_lr = base_lr, max_lr= max_lr, epochs = epochs, verbose = 0,\n",
    "           batch_size = batch_size, stepsize = step_size, mode = mode)"
   ]
  },
  {
   "cell_type": "code",
   "execution_count": 13,
   "metadata": {},
   "outputs": [
    {
     "ename": "NameError",
     "evalue": "name 'filepath' is not defined",
     "output_type": "error",
     "traceback": [
      "\u001b[0;31m---------------------------------------------------------------------------\u001b[0m",
      "\u001b[0;31mNameError\u001b[0m                                 Traceback (most recent call last)",
      "\u001b[0;32m<ipython-input-13-6157533d5281>\u001b[0m in \u001b[0;36m<module>\u001b[0;34m()\u001b[0m\n\u001b[1;32m      2\u001b[0m \u001b[0mi\u001b[0m \u001b[0;34m=\u001b[0m \u001b[0;36m0\u001b[0m\u001b[0;34m\u001b[0m\u001b[0m\n\u001b[1;32m      3\u001b[0m \u001b[0mlast\u001b[0m \u001b[0;34m=\u001b[0m \u001b[0;36m121\u001b[0m\u001b[0;34m\u001b[0m\u001b[0m\n\u001b[0;32m----> 4\u001b[0;31m \u001b[0;32mprint\u001b[0m\u001b[0;34m(\u001b[0m\u001b[0mstr\u001b[0m\u001b[0;34m(\u001b[0m\u001b[0mfilepath\u001b[0m\u001b[0;34m)\u001b[0m\u001b[0;34m[\u001b[0m\u001b[0;36m46\u001b[0m\u001b[0;34m:\u001b[0m\u001b[0mlast\u001b[0m\u001b[0;34m]\u001b[0m \u001b[0;34m+\u001b[0m \u001b[0mstr\u001b[0m\u001b[0;34m(\u001b[0m\u001b[0mi\u001b[0m\u001b[0;34m)\u001b[0m \u001b[0;34m+\u001b[0m \u001b[0mstr\u001b[0m\u001b[0;34m(\u001b[0m\u001b[0mfilepath\u001b[0m\u001b[0;34m)\u001b[0m\u001b[0;34m[\u001b[0m\u001b[0;34m(\u001b[0m\u001b[0mlast\u001b[0m\u001b[0;34m+\u001b[0m\u001b[0;36m1\u001b[0m\u001b[0;34m)\u001b[0m\u001b[0;34m:\u001b[0m\u001b[0;34m]\u001b[0m\u001b[0;34m)\u001b[0m\u001b[0;34m\u001b[0m\u001b[0m\n\u001b[0m\u001b[1;32m      5\u001b[0m \u001b[0mfilename\u001b[0m \u001b[0;34m=\u001b[0m \u001b[0mstr\u001b[0m\u001b[0;34m(\u001b[0m\u001b[0mfilepath\u001b[0m\u001b[0;34m)\u001b[0m\u001b[0;34m[\u001b[0m\u001b[0;36m46\u001b[0m\u001b[0;34m:\u001b[0m\u001b[0mlast\u001b[0m\u001b[0;34m]\u001b[0m \u001b[0;34m+\u001b[0m \u001b[0mstr\u001b[0m\u001b[0;34m(\u001b[0m\u001b[0mi\u001b[0m\u001b[0;34m)\u001b[0m\u001b[0;34m\u001b[0m\u001b[0m\n\u001b[1;32m      6\u001b[0m \u001b[0;32mprint\u001b[0m\u001b[0;34m(\u001b[0m\u001b[0mfilename\u001b[0m\u001b[0;34m)\u001b[0m\u001b[0;34m\u001b[0m\u001b[0m\n",
      "\u001b[0;31mNameError\u001b[0m: name 'filepath' is not defined"
     ]
    }
   ],
   "source": [
    "# find out where 'bs' starts and '_' ends...\n",
    "i = 0\n",
    "last = 121\n",
    "print(str(filepath)[46:last] + str(i) + str(filepath)[(last+1):])\n",
    "filename = str(filepath)[46:last] + str(i)\n",
    "print(filename)"
   ]
  },
  {
   "cell_type": "code",
   "execution_count": 17,
   "metadata": {
    "collapsed": true
   },
   "outputs": [],
   "source": [
    "from collections import OrderedDict"
   ]
  },
  {
   "cell_type": "code",
   "execution_count": 18,
   "metadata": {},
   "outputs": [
    {
     "name": "stdout",
     "output_type": "stream",
     "text": [
      "IncResNetV2_bs-64_triangular_sz-315_blr-1e-06_mlr-0.0003_e-96_imagenet_All_0\n",
      "IncResNetV2_bs-64_triangular_sz-315_blr-1e-06_mlr-0.0003_e-96_imagenet_All_0-19-.hdf5\n",
      "td0-e19\n",
      "\n",
      "IncResNetV2_bs-64_triangular_sz-315_blr-1e-06_mlr-0.0003_e-96_imagenet_All_1\n",
      "IncResNetV2_bs-64_triangular_sz-315_blr-1e-06_mlr-0.0003_e-96_imagenet_All_1-40-.hdf5\n",
      "td1-e40\n",
      "\n",
      "IncResNetV2_bs-64_triangular_sz-315_blr-1e-06_mlr-0.0003_e-96_imagenet_All_2\n",
      "IncResNetV2_bs-64_triangular_sz-315_blr-1e-06_mlr-0.0003_e-96_imagenet_All_2-54-.hdf5\n",
      "td2-e54\n",
      "\n",
      "IncResNetV2_bs-64_triangular_sz-315_blr-1e-06_mlr-0.0003_e-96_imagenet_All_3\n",
      "IncResNetV2_bs-64_triangular_sz-315_blr-1e-06_mlr-0.0003_e-96_imagenet_All_3-63-.hdf5\n",
      "td3-e63\n",
      "\n",
      "IncResNetV2_bs-64_triangular_sz-315_blr-1e-06_mlr-0.0003_e-96_imagenet_All_4\n",
      "IncResNetV2_bs-64_triangular_sz-315_blr-1e-06_mlr-0.0003_e-96_imagenet_All_4-75-.hdf5\n",
      "td4-e75\n",
      "\n",
      "Time usage: 0:01:27 minutes\n"
     ]
    }
   ],
   "source": [
    "# usual time: 2 minutes\n",
    "startTime = time()\n",
    "FinalModelList = OrderedDict()\n",
    "d3 = OrderedDict()\n",
    "for i in range(5):\n",
    "    filename = str(filepath)[46:last] + str(i) #+ str(filepath)[113:]\n",
    "    weightlist = os.listdir(new_weight_dir)\n",
    "    print(filename)\n",
    "    best_filename = 'no'\n",
    "    for el in weightlist:\n",
    "        if(str(el)[:len(filename)]) == filename:\n",
    "            if len(el)>(len(filename)+5):\n",
    "                best_filename = el\n",
    "    print(best_filename)\n",
    "    best = str(best_filename)[-8:-6]\n",
    "    os.chdir(new_weight_dir)\n",
    "    compileModel()\n",
    "    Final_model.load_weights(best_filename)\n",
    "    FinalModelList[\"FinalModel{}-e{}\".format(i,best)]= Final_model\n",
    "    test_m = Final_model.evaluate(test_images, test_labels, verbose = 0)\n",
    "    test_m = [round(el, 4) for el in test_m]\n",
    "    valid_m = Final_model.evaluate(valid_images, valid_labels, verbose = 0)\n",
    "    valid_m = [round(el, 4) for el in valid_m]\n",
    "    train_m = Final_model.evaluate(train_images, train_labels, verbose = 0)\n",
    "    train_m = [round(el, 4) for el in train_m]\n",
    "    col = [\"FinalModel{}-e{}\".format(i,best)]\n",
    "    print(\"td{}-e{}\".format(i, best))\n",
    "    d3[\"td{}-e{}\".format(i, best)]= pd.DataFrame(data = test_m[:4], columns = col, index = metrics)\n",
    "#     print('Best test accuracy model {}: {}'.format(i, test_m[1]))\n",
    "#     print('Best validation accuracy model {}: {}'.format(i, valid_m[1]))\n",
    "#     print('Best training accuracy model {}: {}'.format(i, train_m[1]))\n",
    "    print('')\n",
    "endTime = time()\n",
    "finalTime = endTime - startTime\n",
    "print('Time usage: ' + str(timedelta(seconds=int(round(finalTime)))) + ' minutes')"
   ]
  },
  {
   "cell_type": "code",
   "execution_count": 19,
   "metadata": {},
   "outputs": [
    {
     "data": {
      "text/html": [
       "<div>\n",
       "<style scoped>\n",
       "    .dataframe tbody tr th:only-of-type {\n",
       "        vertical-align: middle;\n",
       "    }\n",
       "\n",
       "    .dataframe tbody tr th {\n",
       "        vertical-align: top;\n",
       "    }\n",
       "\n",
       "    .dataframe thead th {\n",
       "        text-align: right;\n",
       "    }\n",
       "</style>\n",
       "<table border=\"1\" class=\"dataframe\">\n",
       "  <thead>\n",
       "    <tr style=\"text-align: right;\">\n",
       "      <th></th>\n",
       "      <th>loss</th>\n",
       "      <th>acc</th>\n",
       "      <th>precision</th>\n",
       "      <th>recall</th>\n",
       "    </tr>\n",
       "  </thead>\n",
       "  <tbody>\n",
       "    <tr>\n",
       "      <th>FinalModel3-e63</th>\n",
       "      <td>0.8145</td>\n",
       "      <td>0.7944</td>\n",
       "      <td>0.7579</td>\n",
       "      <td>0.8750</td>\n",
       "    </tr>\n",
       "    <tr>\n",
       "      <th>FinalModel2-e54</th>\n",
       "      <td>0.7630</td>\n",
       "      <td>0.7859</td>\n",
       "      <td>0.7637</td>\n",
       "      <td>0.8414</td>\n",
       "    </tr>\n",
       "    <tr>\n",
       "      <th>FinalModel0-e19</th>\n",
       "      <td>0.6353</td>\n",
       "      <td>0.7848</td>\n",
       "      <td>0.7690</td>\n",
       "      <td>0.8349</td>\n",
       "    </tr>\n",
       "    <tr>\n",
       "      <th>FinalModel4-e75</th>\n",
       "      <td>0.8713</td>\n",
       "      <td>0.7827</td>\n",
       "      <td>0.7662</td>\n",
       "      <td>0.8310</td>\n",
       "    </tr>\n",
       "    <tr>\n",
       "      <th>FinalModel1-e40</th>\n",
       "      <td>0.6926</td>\n",
       "      <td>0.7784</td>\n",
       "      <td>0.7678</td>\n",
       "      <td>0.8150</td>\n",
       "    </tr>\n",
       "  </tbody>\n",
       "</table>\n",
       "</div>"
      ],
      "text/plain": [
       "                   loss     acc  precision  recall\n",
       "FinalModel3-e63  0.8145  0.7944     0.7579  0.8750\n",
       "FinalModel2-e54  0.7630  0.7859     0.7637  0.8414\n",
       "FinalModel0-e19  0.6353  0.7848     0.7690  0.8349\n",
       "FinalModel4-e75  0.8713  0.7827     0.7662  0.8310\n",
       "FinalModel1-e40  0.6926  0.7784     0.7678  0.8150"
      ]
     },
     "execution_count": 19,
     "metadata": {},
     "output_type": "execute_result"
    }
   ],
   "source": [
    "keys = d3.keys()\n",
    "FinalResults = pd.concat([d3[keys[0]], d3[keys[1]], d3[keys[2]], d3[keys[3]], d3[keys[4]]], axis=1)\n",
    "FinalResults = pd.DataFrame(data = FinalResults.transpose(), columns = metrics)\n",
    "FinalResults.sort_values(by = ['acc'], ascending = False)"
   ]
  },
  {
   "cell_type": "code",
   "execution_count": 20,
   "metadata": {},
   "outputs": [
    {
     "name": "stdout",
     "output_type": "stream",
     "text": [
      "['FinalModel0-e19', 'FinalModel1-e40', 'FinalModel2-e54', 'FinalModel3-e63', 'FinalModel4-e75']\n",
      "934/934 [==============================] - 7s 7ms/step\n"
     ]
    },
    {
     "data": {
      "text/html": [
       "<div>\n",
       "<style scoped>\n",
       "    .dataframe tbody tr th:only-of-type {\n",
       "        vertical-align: middle;\n",
       "    }\n",
       "\n",
       "    .dataframe tbody tr th {\n",
       "        vertical-align: top;\n",
       "    }\n",
       "\n",
       "    .dataframe thead th {\n",
       "        text-align: right;\n",
       "    }\n",
       "</style>\n",
       "<table border=\"1\" class=\"dataframe\">\n",
       "  <thead>\n",
       "    <tr style=\"text-align: right;\">\n",
       "      <th></th>\n",
       "      <th>loss</th>\n",
       "      <th>acc</th>\n",
       "      <th>precision</th>\n",
       "      <th>recall</th>\n",
       "    </tr>\n",
       "  </thead>\n",
       "  <tbody>\n",
       "    <tr>\n",
       "      <th>FinalModel3-e63</th>\n",
       "      <td>0.8145</td>\n",
       "      <td>0.794400</td>\n",
       "      <td>0.757900</td>\n",
       "      <td>0.87500</td>\n",
       "    </tr>\n",
       "    <tr>\n",
       "      <th>FinalModel2-e54</th>\n",
       "      <td>0.7630</td>\n",
       "      <td>0.785900</td>\n",
       "      <td>0.763700</td>\n",
       "      <td>0.84140</td>\n",
       "    </tr>\n",
       "    <tr>\n",
       "      <th>FinalModel0-e19</th>\n",
       "      <td>0.6353</td>\n",
       "      <td>0.784800</td>\n",
       "      <td>0.769000</td>\n",
       "      <td>0.83490</td>\n",
       "    </tr>\n",
       "    <tr>\n",
       "      <th>FinalModel4-e75</th>\n",
       "      <td>0.8713</td>\n",
       "      <td>0.782700</td>\n",
       "      <td>0.766200</td>\n",
       "      <td>0.83100</td>\n",
       "    </tr>\n",
       "    <tr>\n",
       "      <th>ensembleModel</th>\n",
       "      <td>0.6144</td>\n",
       "      <td>0.782655</td>\n",
       "      <td>0.759829</td>\n",
       "      <td>0.83673</td>\n",
       "    </tr>\n",
       "    <tr>\n",
       "      <th>FinalModel1-e40</th>\n",
       "      <td>0.6926</td>\n",
       "      <td>0.778400</td>\n",
       "      <td>0.767800</td>\n",
       "      <td>0.81500</td>\n",
       "    </tr>\n",
       "  </tbody>\n",
       "</table>\n",
       "</div>"
      ],
      "text/plain": [
       "                   loss       acc  precision   recall\n",
       "FinalModel3-e63  0.8145  0.794400   0.757900  0.87500\n",
       "FinalModel2-e54  0.7630  0.785900   0.763700  0.84140\n",
       "FinalModel0-e19  0.6353  0.784800   0.769000  0.83490\n",
       "FinalModel4-e75  0.8713  0.782700   0.766200  0.83100\n",
       "ensembleModel    0.6144  0.782655   0.759829  0.83673\n",
       "FinalModel1-e40  0.6926  0.778400   0.767800  0.81500"
      ]
     },
     "execution_count": 20,
     "metadata": {},
     "output_type": "execute_result"
    }
   ],
   "source": [
    "dictlist = FinalModelList.keys()\n",
    "print(dictlist)\n",
    "models = [FinalModelList[dictlist[0]], FinalModelList[dictlist[1]], FinalModelList[dictlist[2]], \\\n",
    "          FinalModelList[dictlist[3]], FinalModelList[dictlist[4]]]\n",
    "def ensemble(models):    \n",
    "    global eModel\n",
    "    outputs = [model.outputs[0] for model in models]\n",
    "    y = keras.layers.Average()(outputs)   \n",
    "    eModel = Model(inputs=Model_base.input, outputs = y, name='ensemble')  \n",
    "    eModel.compile(optimizer='rmsprop', loss='binary_crossentropy',\n",
    "                   metrics=['accuracy', precision, recall, fmeasure])\n",
    "    return eModel\n",
    "ensemble_model = ensemble(models)\n",
    "ensResults = ensemble_model.evaluate(test_images, test_labels)\n",
    "Res = pd.DataFrame(data = ensResults[:4], columns = ['ensembleModel'], index = metrics)\n",
    "Res.transpose()\n",
    "keys = d3.keys()\n",
    "FinalResults = pd.concat([d3[keys[0]], d3[keys[1]], d3[keys[2]], d3[keys[3]], d3[keys[4]], Res], axis=1)\n",
    "FinalResults = pd.DataFrame(data = FinalResults.transpose(), columns = metrics)\n",
    "FinalResults.sort_values(by = ['acc'], ascending = False)"
   ]
  },
  {
   "cell_type": "code",
   "execution_count": 21,
   "metadata": {},
   "outputs": [
    {
     "name": "stdout",
     "output_type": "stream",
     "text": [
      "IncResNetV2_bs-64_triangular_sz-315_blr-1e-06_mlr-0.0003_e-96_imagenet_All_3-e63\n"
     ]
    }
   ],
   "source": [
    "# change again the path name\n",
    "# saving the model   \n",
    "i = 3\n",
    "#FinName = str(filepath)[46:112] + '_ensemble' \n",
    "FinName = str(filepath)[46:last] + str(i) + dictlist[i][-4:]\n",
    "print(FinName)\n",
    "os.chdir(model_dir)\n",
    "#Final_model1 = ensemble_model # or\n",
    "Final_model = FinalModelList[dictlist[i]]\n",
    "# predictions = np.round(Final_model.predict(test_images),4)           \n",
    "# predictions_ensemble = np.round(Final_model1.predict(test_images),4)\n",
    "# for v1, v2 in zip(predictions[:5], predictions_ensemble[:5]):\n",
    "#     print('Best model prediction and ensemble prediction: \\t{} \\t{}'.format(v1, v2))"
   ]
  },
  {
   "cell_type": "code",
   "execution_count": 22,
   "metadata": {
    "collapsed": true
   },
   "outputs": [],
   "source": [
    "Final_model.save(FinName)"
   ]
  },
  {
   "cell_type": "code",
   "execution_count": null,
   "metadata": {
    "collapsed": true
   },
   "outputs": [],
   "source": [
    "# calculating the ROC    \n",
    "y_pred = Final_model.predict(test_images, batch_size = 64)\n",
    "y_true = test_labels\n",
    "fpr, tpr, thresholds = roc_curve(y_true, y_pred, pos_label = 1)\n",
    "roc_auc = auc(fpr, tpr)\n",
    "plt.figure()\n",
    "plt.plot(fpr, tpr, color='lime',\n",
    "         lw=2, label='ROC curve (area = %0.2f)' % roc_auc)\n",
    "plt.plot([0, 1], [0, 1], color='darkgrey', lw=2, linestyle='--')\n",
    "plt.xlim([-0.05, 1.0])\n",
    "plt.ylim([0.0, 1.05])\n",
    "plt.xlabel('False Positive Rate')\n",
    "plt.ylabel('True Positive Rate')\n",
    "plt.title('Receiver operating characteristic Curve')\n",
    "plt.legend(loc=\"lower right\")\n",
    "plt.show()"
   ]
  }
 ],
 "metadata": {
  "kernelspec": {
   "display_name": "Python 3",
   "language": "python",
   "name": "python3"
  },
  "language_info": {
   "codemirror_mode": {
    "name": "ipython",
    "version": 3
   },
   "file_extension": ".py",
   "mimetype": "text/x-python",
   "name": "python",
   "nbconvert_exporter": "python",
   "pygments_lexer": "ipython3",
   "version": "3.6.5"
  }
 },
 "nbformat": 4,
 "nbformat_minor": 2
}
