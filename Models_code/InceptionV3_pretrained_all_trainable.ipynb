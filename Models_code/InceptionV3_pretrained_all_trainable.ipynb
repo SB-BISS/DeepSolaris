{
 "cells": [
  {
   "cell_type": "code",
   "execution_count": 30,
   "metadata": {},
   "outputs": [],
   "source": [
    "from __future__ import absolute_import\n",
    "from __future__ import division\n",
    "from __future__ import print_function\n",
    "\n",
    "### setting the different directories \n",
    "\n",
    "# on the server (linux):\n",
    "# where to find the images:\n",
    "home_dir = '/home/rick/Documents/HannahZ'\n",
    "# folder where to save code and so on\n",
    "code_dir = home_dir + '/Code'\n",
    "# where to save the final models\n",
    "model_dir = code_dir + '/Final_models'\n",
    "# where to save the logs for visualization in TensorBoard\n",
    "log_dir = code_dir + '/logs'\n",
    "# where to save the weights\n",
    "new_weight_dir = code_dir + '/new_weights'\n",
    "\n",
    "\n",
    "# on my computer (windows):\n",
    "# where to find the images:\n",
    "#home_dir = '\\\\Users\\\\ThinkPad User\\\\Google Drive\\\\DeepSolaris'\n",
    "# folder where to save code and so on\n",
    "#code_dir = '\\\\Users\\\\ThinkPad User\\\\Google Drive\\\\Master_thesis_H_Z_DL&NN\\\\Coding'\n",
    "# where to save the final models\n",
    "#model_dir = code_dir + '\\\\Final_models_saved'\n",
    "# where to save the logs for visualization in TensorBoard\n",
    "#log_dir = code_dir + '\\\\logs'\n",
    "import os\n",
    "os.chdir(home_dir)"
   ]
  },
  {
   "cell_type": "code",
   "execution_count": 3,
   "metadata": {},
   "outputs": [],
   "source": [
    "modelname = 'IncV3'"
   ]
  },
  {
   "cell_type": "code",
   "execution_count": 4,
   "metadata": {},
   "outputs": [
    {
     "name": "stderr",
     "output_type": "stream",
     "text": [
      "Using TensorFlow backend.\n"
     ]
    }
   ],
   "source": [
    "from keras import backend as K\n",
    "from keras.models import Model\n",
    "from keras.layers import Activation\n",
    "from keras.layers import AveragePooling2D\n",
    "from keras.layers import BatchNormalization\n",
    "from keras.layers import Concatenate\n",
    "from keras.layers import Conv2D\n",
    "from keras.layers import Dense\n",
    "from keras.layers import GlobalAveragePooling2D\n",
    "from keras.layers import GlobalMaxPooling2D\n",
    "from keras.layers import Input\n",
    "from keras.layers import MaxPooling2D\n",
    "from keras.layers import ZeroPadding2D\n",
    "from keras.utils.data_utils import get_file\n",
    "from keras.engine import get_source_inputs\n",
    "from keras.applications import imagenet_utils\n",
    "from keras.applications.imagenet_utils import decode_predictions\n",
    "from keras.applications.imagenet_utils import _obtain_input_shape \n",
    "\n",
    "from sklearn.model_selection import cross_validate\n",
    "from sklearn.metrics import roc_curve\n",
    "from sklearn.metrics import auc\n",
    "from sklearn.metrics import precision_score\n",
    "from sklearn.metrics import recall_score\n",
    "from sklearn.metrics import f1_score\n",
    "from keras.losses import binary_crossentropy\n",
    "\n",
    "\n",
    "from random import randrange\n",
    "from random import seed\n",
    "from random import sample\n",
    "import tensorflow as tf\n",
    "\n",
    "\n",
    "import itertools\n",
    "import matplotlib.pyplot as plt\n",
    "import numpy as np\n",
    "import pandas as pd\n",
    "from time import time\n",
    "from datetime import timedelta\n",
    "import math\n",
    "from sklearn.model_selection import train_test_split\n",
    "from datetime import datetime\n",
    "from keras.preprocessing import image\n",
    "from keras.optimizers import SGD\n",
    "from sklearn.metrics import accuracy_score\n",
    "from sklearn.metrics import confusion_matrix\n",
    "from keras.models import load_model\n",
    "from keras.callbacks import TensorBoard\n",
    "from keras.callbacks import EarlyStopping\n",
    "from keras.callbacks import ModelCheckpoint\n",
    "import keras\n",
    "from keras.callbacks import Callback\n",
    "from keras.applications.inception_v3 import InceptionV3\n",
    "\n",
    "\n",
    "os.chdir(code_dir)\n",
    "\n",
    "from Learning_rate_scheduler import LrReducer\n",
    "from CyclicLR import CyclicLR"
   ]
  },
  {
   "cell_type": "code",
   "execution_count": 5,
   "metadata": {},
   "outputs": [
    {
     "name": "stdout",
     "output_type": "stream",
     "text": [
      "Size of:\n",
      "- Training-set:\t\t3357\n",
      "- Validation-set:\t374\n",
      "- Test-set:\t\t934\n"
     ]
    }
   ],
   "source": [
    "### Helper metrics functions\n",
    "\n",
    "def precision(y_true, y_pred):\n",
    "    true_positives = K.sum(K.round(K.clip(y_true * y_pred, 0, 1)))\n",
    "    predicted_positives = K.sum(K.round(K.clip(y_pred, 0, 1)))\n",
    "    precision = true_positives / (predicted_positives + K.epsilon())\n",
    "    return precision\n",
    "    \n",
    "def recall(y_true, y_pred):\n",
    "    true_positives = K.sum(K.round(K.clip(y_true * y_pred, 0, 1)))\n",
    "    possible_positives = K.sum(K.round(K.clip(y_true, 0, 1)))\n",
    "    recall = true_positives / (possible_positives + K.epsilon())\n",
    "    return recall\n",
    "    \n",
    "    \n",
    "def fbeta_score(y_true, y_pred, beta=1):\n",
    "    if beta < 0:\n",
    "        raise ValueError('The lowest choosable beta is zero (only precision).')\n",
    "    # If there are no true positives, fix the F score at 0 like sklearn.\n",
    "    if K.sum(K.round(K.clip(y_true, 0, 1))) == 0:\n",
    "        return 0\n",
    "    p = precision(y_true, y_pred)\n",
    "    r = recall(y_true, y_pred)\n",
    "    bb = beta ** 2\n",
    "    fbeta_score = (1 + bb) * (p * r) / (bb * p + r + K.epsilon())\n",
    "    return fbeta_score\n",
    "def fmeasure(y_true, y_pred):\n",
    "    return fbeta_score(y_true, y_pred, beta=1)\n",
    "\n",
    "no_of_epochs = 0\n",
    "\n",
    "### check if data are in the right format\n",
    "K.image_data_format() == 'channels_last'\n",
    "\n",
    "os.chdir(home_dir)\n",
    "train_images = np.load('training_images_AcMüDüHo.npy')\n",
    "valid_images = np.load('validation_images_AcMüDüHo.npy')\n",
    "test_images = np.load('test_images_AcMüDüHo.npy')\n",
    "train_labels = np.load('training_labels_AcMüDüHo.npy')\n",
    "valid_labels = np.load('validation_labels_AcMüDüHo.npy')\n",
    "test_labels = np.load('test_labels_AcMüDüHo.npy')\n",
    "\n",
    "print(\"Size of:\")\n",
    "print(\"- Training-set:\\t\\t{}\".format(len(train_labels)))\n",
    "print(\"- Validation-set:\\t{}\".format(len(valid_labels)))\n",
    "print(\"- Test-set:\\t\\t{}\".format(len(test_labels)))"
   ]
  },
  {
   "cell_type": "code",
   "execution_count": 6,
   "metadata": {},
   "outputs": [
    {
     "data": {
      "text/plain": [
       "311"
      ]
     },
     "execution_count": 6,
     "metadata": {},
     "output_type": "execute_result"
    }
   ],
   "source": [
    "# choose training specifications (None or 'imagenet')\n",
    "weights = 'imagenet'\n",
    "#tf.reset_default_graph()\n",
    "\n",
    "# importing the currently used model\n",
    "os.chdir(code_dir)\n",
    "\n",
    "### create the base pre-trained model\n",
    "# usually takes around 30 seconds\n",
    "Model_base = InceptionV3(weights = weights, include_top=False, )\n",
    "# find out how many layers exist to find right number of trainable layers\n",
    "len(Model_base.layers)"
   ]
  },
  {
   "cell_type": "code",
   "execution_count": 7,
   "metadata": {},
   "outputs": [],
   "source": [
    "# choose layers for split\n",
    "# for i, layer in enumerate(Model_base.layers):\n",
    "#      if ('pool' in layer.name):\n",
    "#         print(i, layer.name)"
   ]
  },
  {
   "cell_type": "code",
   "execution_count": 8,
   "metadata": {},
   "outputs": [
    {
     "data": {
      "text/plain": [
       "419.625"
      ]
     },
     "execution_count": 8,
     "metadata": {},
     "output_type": "execute_result"
    }
   ],
   "source": [
    "# choose trainable layers as 'Frozen' or 'All' or some number\n",
    "trainable_layers = 'All'\n",
    "# otherwise trainable_layers = x\n",
    "# add a global spatial average pooling layer to the pretrained model to \n",
    "# finish its compilation\n",
    "def compileModel(trainable_layers = 'Frozen'):\n",
    "    global Final_model\n",
    "    x = Model_base.output\n",
    "    x = GlobalAveragePooling2D()(x)\n",
    "    # let's add a fully-connected layer\n",
    "    x = Dense(512, activation='relu')(x)\n",
    "    preds = Dense(1, activation='sigmoid')(x)\n",
    "    Final_model = Model(inputs=Model_base.input, outputs=preds)\n",
    "    if (trainable_layers == 'Frozen'):\n",
    "        for layer in Model_base.layers:   # only train the new layers first\n",
    "            layer.trainable = False\n",
    "    elif (trainable_layers == 'All'):\n",
    "        for layer in Model_base.layers:   # only train the new layers first\n",
    "            layer.trainable = True\n",
    "    else:\n",
    "        for layer in Model_base.layers[:trainable_layers]:\n",
    "            layer.trainable = False\n",
    "        for layer in Model_base.layers[trainable_layers:]:  \n",
    "            layer.trainable = True\n",
    "    Final_model.compile(optimizer='rmsprop', loss='binary_crossentropy', \n",
    "                            metrics=['accuracy', precision, recall, fmeasure])\n",
    "# calculating the stepsize\n",
    "(3357/64)*8"
   ]
  },
  {
   "cell_type": "code",
   "execution_count": 8,
   "metadata": {},
   "outputs": [
    {
     "name": "stdout",
     "output_type": "stream",
     "text": [
      "imagenet\n",
      "All\n"
     ]
    }
   ],
   "source": [
    "###################### first training stage ###################################\n",
    "batch_size = 64\n",
    "step_size = 420\n",
    "base_lr = 0.00001\n",
    "max_lr = 0.001\n",
    "epochs = 48\n",
    "mode = 'triangular'\n",
    "def train_Model(verbose =1, times = 2, epochs = epochs, base_lr = base_lr, max_lr= max_lr, mode = mode, \n",
    "                stepsize = step_size, batch_size = batch_size, use_tensorboard = False):\n",
    "    start_time = time()   \n",
    "    global h\n",
    "    global no_of_epochs\n",
    "    global name\n",
    "    date = str(datetime.now().date())\n",
    "    # logdir in linux:\n",
    "    logdir = (log_dir + '/' + date + '_' + str(batch_size) + '_' + str(mode) + '_si-' + str(stepsize) + '_base-' \n",
    "              + str(base_lr) + '_max-' + str(max_lr) + '_' + str(times))\n",
    "    # logdir in windows:\n",
    "    ##logdir = (log_dir + '\\\\' + date + '_' + str(batch_size) + '_' + str(mode) + '_si-' + str(stepsize) + \n",
    "    #          '_base-' + str(base_lr) + '_max-' + str(max_lr) + '_' + str(times))\n",
    "    name = ('batch size: ' + str(batch_size) + ', mode: ' + str(mode) + ', stepsize: ' \n",
    "            + str(stepsize) + ', base-lr: ' + str(base_lr) + ', max-lr ' + str(max_lr) + ', *' + str(times))\n",
    "    print(' - Model specifics:\\t{}'.format(name))\n",
    "    clr = CyclicLR(base_lr = base_lr, max_lr=max_lr,\n",
    "                        step_size= stepsize, mode = mode)\n",
    "    tbCallBack = TensorBoard(log_dir=logdir, histogram_freq=0, \n",
    "                         write_graph=False, write_images=False)\n",
    "    if (use_tensorboard == True):\n",
    "        Final_model.fit(x = train_images, y = train_labels, epochs = epochs, callbacks= [tbCallBack, clr], \n",
    "                            validation_data = (valid_images, valid_labels), batch_size = batch_size, \n",
    "                            verbose = verbose)\n",
    "    else:\n",
    "        Final_model.fit(x = train_images, y = train_labels, epochs = epochs, callbacks= [clr], \n",
    "                            validation_data = (valid_images, valid_labels), batch_size = batch_size, \n",
    "                            verbose = verbose)\n",
    "    no_of_epochs = no_of_epochs + epochs\n",
    "    h = []\n",
    "    h = clr.history\n",
    "    end_time = time()\n",
    "    time_dif = end_time - start_time\n",
    "    print('Time usage: ' + str(timedelta(seconds=int(round(time_dif)))) + ' minutes')\n",
    "print(weights)\n",
    "print(trainable_layers)"
   ]
  },
  {
   "cell_type": "code",
   "execution_count": 9,
   "metadata": {},
   "outputs": [
    {
     "name": "stdout",
     "output_type": "stream",
     "text": [
      " - Model specifics:\tbatch size: 64, mode: triangular, stepsize: 420, base-lr: 1e-05, max-lr 0.001, *5\n",
      "Time usage: 0:02:00 minutes\n",
      "3357/3357 [==============================] - 2s 581us/step\n",
      "374/374 [==============================] - 1s 2ms/step\n",
      "934/934 [==============================] - 1s 774us/step\n",
      "- Training accuracy:\t0.6881\n",
      "- Validation accuracy:\t0.6283\n",
      "- Test accuracy:\t0.6617\n"
     ]
    },
    {
     "data": {
      "text/plain": [
       "[<matplotlib.lines.Line2D at 0x7f11392bd7d0>]"
      ]
     },
     "execution_count": 9,
     "metadata": {},
     "output_type": "execute_result"
    },
    {
     "data": {
      "image/png": "[encoded data removed]",
      "text/plain": [
       "<matplotlib.figure.Figure at 0x7f1139eead10>"
      ]
     },
     "metadata": {},
     "output_type": "display_data"
    }
   ],
   "source": [
    "compileModel()\n",
    "train_Model(times = 5, use_tensorboard = True, verbose = 0)\n",
    "train_acc = round(Final_model.evaluate(train_images, train_labels, 128)[1],4)\n",
    "valid_acc = round(Final_model.evaluate(valid_images, valid_labels, 128)[1],4)\n",
    "test_acc = round(Final_model.evaluate(test_images, test_labels, 128)[1],4)\n",
    "\n",
    "print(\"- Training accuracy:\\t{}\".format(train_acc))\n",
    "print(\"- Validation accuracy:\\t{}\".format(valid_acc))\n",
    "print(\"- Test accuracy:\\t{}\".format(test_acc))\n",
    "\n",
    "%matplotlib inline\n",
    "lr = h['lr'][:step_size]\n",
    "acc = h['acc'][:step_size]\n",
    "plt.plot(lr, acc)"
   ]
  },
  {
   "cell_type": "code",
   "execution_count": 10,
   "metadata": {},
   "outputs": [],
   "source": [
    "### choose your learning rates now! The one where the accuracy starts to rise as base_lr and the one where it stops\n",
    "### growing/ starts to tumble as max_lr\n",
    "baseLRS = [0.000001, 0.00001, 0.00005]\n",
    "maxLRS = [0.0002, 0.0004, 0.0006]"
   ]
  },
  {
   "cell_type": "code",
   "execution_count": 11,
   "metadata": {},
   "outputs": [],
   "source": [
    "# experiment with different learning rate ranges\n",
    "def learning_rate_finder(rep = 5, baseLRS = baseLRS, maxLRS = maxLRS):\n",
    "    start_time = time() \n",
    "    global test_acc_list\n",
    "    global valid_acc_list\n",
    "    global train_acc_list\n",
    "    global test_loss_list\n",
    "    global valid_loss_list\n",
    "    global train_loss_list\n",
    "    global test_prec_list\n",
    "    global valid_prec_list\n",
    "    global train_prec_list\n",
    "    global test_rec_list\n",
    "    global valid_rec_list\n",
    "    global train_rec_list\n",
    "    global model_details\n",
    "    model_details = []\n",
    "    test_acc_list = []\n",
    "    valid_acc_list = []\n",
    "    train_acc_list = []\n",
    "    test_loss_list = []\n",
    "    valid_loss_list = []\n",
    "    train_loss_list = []\n",
    "    test_prec_list = []\n",
    "    valid_prec_list = []\n",
    "    train_prec_list = []\n",
    "    test_rec_list = []\n",
    "    valid_rec_list = []\n",
    "    train_rec_list = []\n",
    "    for blr in baseLRS:\n",
    "        print('NEXT LEARNINGRATE: {}'.format(blr))\n",
    "        for mlr in maxLRS:\n",
    "            print('Models with base lr = ' + str(blr) + ' and max lr = ' + str(mlr))\n",
    "            for i in range(rep):\n",
    "                    compileModel()\n",
    "                    times = i\n",
    "                    if (i == 0):\n",
    "                        train_Model(times = times, epochs = epochs, base_lr = blr, max_lr = mlr, verbose = 0, \n",
    "                                    use_tensorboard = True)\n",
    "                    else:\n",
    "                        train_Model(times = times, epochs = epochs, base_lr = blr, max_lr = mlr, verbose = 0)\n",
    "                    train_metrics = Final_model.evaluate(train_images, train_labels)\n",
    "                    valid_metrics = Final_model.evaluate(valid_images, valid_labels)\n",
    "                    test_metrics = Final_model.evaluate(test_images, test_labels)\n",
    "                    train_acc = train_metrics[1]\n",
    "                    valid_acc = valid_metrics[1]\n",
    "                    test_acc = test_metrics[1]\n",
    "                    train_loss = train_metrics[0]\n",
    "                    valid_loss = valid_metrics[0]\n",
    "                    test_loss = test_metrics[0]\n",
    "                    train_prec = train_metrics[2]\n",
    "                    valid_prec = valid_metrics[2]\n",
    "                    test_prec = test_metrics[2]\n",
    "                    train_rec = train_metrics[3]\n",
    "                    valid_rec = valid_metrics[3]\n",
    "                    test_rec = test_metrics[3]                                \n",
    "                    test_acc_list.append(test_acc)\n",
    "                    valid_acc_list.append(valid_acc)\n",
    "                    train_acc_list.append(train_acc)\n",
    "                    test_loss_list.append(test_loss)\n",
    "                    valid_loss_list.append(valid_loss)\n",
    "                    train_loss_list.append(train_loss)\n",
    "                    test_prec_list.append(test_prec)\n",
    "                    valid_prec_list.append(valid_prec)\n",
    "                    train_prec_list.append(train_prec)\n",
    "                    test_rec_list.append(test_rec)\n",
    "                    valid_rec_list.append(valid_rec)\n",
    "                    train_rec_list.append(train_rec)\n",
    "                    model_details.append(name)\n",
    "            print(\"- Training accuracies:\\t{}\".format([round(el,4) for el in train_acc_list]))\n",
    "            print(\"- Validation accuracies:\\t{}\".format([round(el,4) for el in valid_acc_list]))\n",
    "            print(\"- Testing accuracies:\\t{}\".format([round(el,4) for el in test_acc_list]))\n",
    "            print('')\n",
    "            print('')\n",
    "    end_time = time()\n",
    "    time_dif = end_time - start_time\n",
    "    print('Time usage: ' + str(timedelta(seconds=int(round(time_dif)))) + ' minutes')        "
   ]
  },
  {
   "cell_type": "code",
   "execution_count": 12,
   "metadata": {},
   "outputs": [
    {
     "name": "stdout",
     "output_type": "stream",
     "text": [
      "NEXT LEARNINGRATE: 1e-06\n",
      "Models with base lr = 1e-06 and max lr = 0.0002\n",
      " - Model specifics:\tbatch size: 64, mode: triangular, stepsize: 420, base-lr: 1e-06, max-lr 0.0002, *0\n",
      "Time usage: 0:01:56 minutes\n",
      "3357/3357 [==============================] - 3s 957us/step\n",
      "374/374 [==============================] - 1s 1ms/step\n",
      "934/934 [==============================] - 1s 1ms/step\n",
      " - Model specifics:\tbatch size: 64, mode: triangular, stepsize: 420, base-lr: 1e-06, max-lr 0.0002, *1\n",
      "Time usage: 0:01:53 minutes\n",
      "3357/3357 [==============================] - 3s 896us/step\n",
      "374/374 [==============================] - 0s 945us/step\n",
      "934/934 [==============================] - 1s 950us/step\n",
      " - Model specifics:\tbatch size: 64, mode: triangular, stepsize: 420, base-lr: 1e-06, max-lr 0.0002, *2\n",
      "Time usage: 0:01:55 minutes\n",
      "3357/3357 [==============================] - 3s 912us/step\n",
      "374/374 [==============================] - 0s 871us/step\n",
      "934/934 [==============================] - 1s 947us/step\n",
      " - Model specifics:\tbatch size: 64, mode: triangular, stepsize: 420, base-lr: 1e-06, max-lr 0.0002, *3\n",
      "Time usage: 0:01:52 minutes\n",
      "3357/3357 [==============================] - 3s 878us/step\n",
      "374/374 [==============================] - 0s 938us/step\n",
      "934/934 [==============================] - 1s 958us/step\n",
      " - Model specifics:\tbatch size: 64, mode: triangular, stepsize: 420, base-lr: 1e-06, max-lr 0.0002, *4\n",
      "Time usage: 0:01:55 minutes\n",
      "3357/3357 [==============================] - 3s 892us/step\n",
      "374/374 [==============================] - 0s 957us/step\n",
      "934/934 [==============================] - 1s 959us/step\n",
      "- Training accuracies:\t[0.6768, 0.6595, 0.6807, 0.686, 0.6816]\n",
      "- Validation accuracies:\t[0.6364, 0.6123, 0.6417, 0.6417, 0.6364]\n",
      "- Testing accuracies:\t[0.6692, 0.6552, 0.667, 0.682, 0.6788]\n",
      "\n",
      "\n",
      "Models with base lr = 1e-06 and max lr = 0.0004\n",
      " - Model specifics:\tbatch size: 64, mode: triangular, stepsize: 420, base-lr: 1e-06, max-lr 0.0004, *0\n",
      "Time usage: 0:01:52 minutes\n",
      "3357/3357 [==============================] - 3s 885us/step\n",
      "374/374 [==============================] - 0s 918us/step\n",
      "934/934 [==============================] - 1s 966us/step\n",
      " - Model specifics:\tbatch size: 64, mode: triangular, stepsize: 420, base-lr: 1e-06, max-lr 0.0004, *1\n",
      "Time usage: 0:01:53 minutes\n",
      "3357/3357 [==============================] - 3s 867us/step\n",
      "374/374 [==============================] - 0s 898us/step\n",
      "934/934 [==============================] - 1s 909us/step\n",
      " - Model specifics:\tbatch size: 64, mode: triangular, stepsize: 420, base-lr: 1e-06, max-lr 0.0004, *2\n",
      "Time usage: 0:01:54 minutes\n",
      "3357/3357 [==============================] - 3s 901us/step\n",
      "374/374 [==============================] - 0s 900us/step\n",
      "934/934 [==============================] - 1s 942us/step\n",
      " - Model specifics:\tbatch size: 64, mode: triangular, stepsize: 420, base-lr: 1e-06, max-lr 0.0004, *3\n",
      "Time usage: 0:01:52 minutes\n",
      "3357/3357 [==============================] - 3s 891us/step\n",
      "374/374 [==============================] - 0s 875us/step\n",
      "934/934 [==============================] - 1s 927us/step\n",
      " - Model specifics:\tbatch size: 64, mode: triangular, stepsize: 420, base-lr: 1e-06, max-lr 0.0004, *4\n",
      "Time usage: 0:01:54 minutes\n",
      "3357/3357 [==============================] - 3s 881us/step\n",
      "374/374 [==============================] - 0s 914us/step\n",
      "934/934 [==============================] - 1s 967us/step\n",
      "- Training accuracies:\t[0.6768, 0.6595, 0.6807, 0.686, 0.6816, 0.6726, 0.692, 0.6813, 0.6744, 0.6768]\n",
      "- Validation accuracies:\t[0.6364, 0.6123, 0.6417, 0.6417, 0.6364, 0.6203, 0.6364, 0.6417, 0.6283, 0.6283]\n",
      "- Testing accuracies:\t[0.6692, 0.6552, 0.667, 0.682, 0.6788, 0.6585, 0.6788, 0.6681, 0.6756, 0.651]\n",
      "\n",
      "\n",
      "Models with base lr = 1e-06 and max lr = 0.0006\n",
      " - Model specifics:\tbatch size: 64, mode: triangular, stepsize: 420, base-lr: 1e-06, max-lr 0.0006, *0\n",
      "Time usage: 0:02:57 minutes\n",
      "3357/3357 [==============================] - 3s 906us/step\n",
      "374/374 [==============================] - 0s 919us/step\n",
      "934/934 [==============================] - 2s 2ms/step\n",
      " - Model specifics:\tbatch size: 64, mode: triangular, stepsize: 420, base-lr: 1e-06, max-lr 0.0006, *1\n",
      "Time usage: 0:02:02 minutes\n",
      "3357/3357 [==============================] - 3s 902us/step\n",
      "374/374 [==============================] - 0s 910us/step\n",
      "934/934 [==============================] - 1s 1ms/step\n",
      " - Model specifics:\tbatch size: 64, mode: triangular, stepsize: 420, base-lr: 1e-06, max-lr 0.0006, *2\n",
      "Time usage: 0:01:53 minutes\n",
      "3357/3357 [==============================] - 3s 890us/step\n",
      "374/374 [==============================] - 0s 870us/step\n",
      "934/934 [==============================] - 1s 974us/step\n",
      " - Model specifics:\tbatch size: 64, mode: triangular, stepsize: 420, base-lr: 1e-06, max-lr 0.0006, *3\n",
      "Time usage: 0:01:52 minutes\n",
      "3357/3357 [==============================] - 3s 882us/step\n",
      "374/374 [==============================] - 0s 862us/step\n",
      "934/934 [==============================] - 1s 935us/step\n",
      " - Model specifics:\tbatch size: 64, mode: triangular, stepsize: 420, base-lr: 1e-06, max-lr 0.0006, *4\n",
      "Time usage: 0:01:52 minutes\n",
      "3357/3357 [==============================] - 3s 890us/step\n",
      "374/374 [==============================] - 0s 881us/step\n",
      "934/934 [==============================] - 1s 944us/step\n",
      "- Training accuracies:\t[0.6768, 0.6595, 0.6807, 0.686, 0.6816, 0.6726, 0.692, 0.6813, 0.6744, 0.6768, 0.6968, 0.6899, 0.6798, 0.7084, 0.6836]\n",
      "- Validation accuracies:\t[0.6364, 0.6123, 0.6417, 0.6417, 0.6364, 0.6203, 0.6364, 0.6417, 0.6283, 0.6283, 0.6444, 0.6417, 0.6417, 0.6497, 0.6524]\n",
      "- Testing accuracies:\t[0.6692, 0.6552, 0.667, 0.682, 0.6788, 0.6585, 0.6788, 0.6681, 0.6756, 0.651, 0.6842, 0.6734, 0.6552, 0.6991, 0.6574]\n",
      "\n",
      "\n",
      "NEXT LEARNINGRATE: 1e-05\n",
      "Models with base lr = 1e-05 and max lr = 0.0002\n",
      " - Model specifics:\tbatch size: 64, mode: triangular, stepsize: 420, base-lr: 1e-05, max-lr 0.0002, *0\n",
      "Time usage: 0:01:53 minutes\n",
      "3357/3357 [==============================] - 3s 895us/step\n",
      "374/374 [==============================] - 0s 883us/step\n",
      "934/934 [==============================] - 1s 932us/step\n",
      " - Model specifics:\tbatch size: 64, mode: triangular, stepsize: 420, base-lr: 1e-05, max-lr 0.0002, *1\n",
      "Time usage: 0:01:52 minutes\n",
      "3357/3357 [==============================] - 3s 922us/step\n",
      "374/374 [==============================] - 0s 930us/step\n",
      "934/934 [==============================] - 1s 941us/step\n",
      " - Model specifics:\tbatch size: 64, mode: triangular, stepsize: 420, base-lr: 1e-05, max-lr 0.0002, *2\n",
      "Time usage: 0:01:54 minutes\n",
      "3357/3357 [==============================] - 3s 886us/step\n",
      "374/374 [==============================] - 0s 878us/step\n",
      "934/934 [==============================] - 1s 938us/step\n",
      " - Model specifics:\tbatch size: 64, mode: triangular, stepsize: 420, base-lr: 1e-05, max-lr 0.0002, *3\n",
      "Time usage: 0:01:53 minutes\n",
      "3357/3357 [==============================] - 3s 884us/step\n",
      "374/374 [==============================] - 0s 999us/step\n",
      "934/934 [==============================] - 1s 959us/step\n",
      " - Model specifics:\tbatch size: 64, mode: triangular, stepsize: 420, base-lr: 1e-05, max-lr 0.0002, *4\n",
      "Time usage: 0:01:53 minutes\n",
      "3357/3357 [==============================] - 3s 899us/step\n",
      "374/374 [==============================] - 0s 891us/step\n",
      "934/934 [==============================] - 1s 945us/step\n",
      "- Training accuracies:\t[0.6768, 0.6595, 0.6807, 0.686, 0.6816, 0.6726, 0.692, 0.6813, 0.6744, 0.6768, 0.6968, 0.6899, 0.6798, 0.7084, 0.6836, 0.706, 0.6965, 0.6839, 0.6896, 0.6881]\n",
      "- Validation accuracies:\t[0.6364, 0.6123, 0.6417, 0.6417, 0.6364, 0.6203, 0.6364, 0.6417, 0.6283, 0.6283, 0.6444, 0.6417, 0.6417, 0.6497, 0.6524, 0.6658, 0.6551, 0.6471, 0.6711, 0.6524]\n",
      "- Testing accuracies:\t[0.6692, 0.6552, 0.667, 0.682, 0.6788, 0.6585, 0.6788, 0.6681, 0.6756, 0.651, 0.6842, 0.6734, 0.6552, 0.6991, 0.6574, 0.6916, 0.6809, 0.6713, 0.6831, 0.6852]\n",
      "\n",
      "\n",
      "Models with base lr = 1e-05 and max lr = 0.0004\n",
      " - Model specifics:\tbatch size: 64, mode: triangular, stepsize: 420, base-lr: 1e-05, max-lr 0.0004, *0\n",
      "Time usage: 0:01:57 minutes\n",
      "3357/3357 [==============================] - 3s 894us/step\n",
      "374/374 [==============================] - 0s 924us/step\n",
      "934/934 [==============================] - 1s 949us/step\n",
      " - Model specifics:\tbatch size: 64, mode: triangular, stepsize: 420, base-lr: 1e-05, max-lr 0.0004, *1\n"
     ]
    },
    {
     "name": "stdout",
     "output_type": "stream",
     "text": [
      "Time usage: 0:01:55 minutes\n",
      "3357/3357 [==============================] - 3s 890us/step\n",
      "374/374 [==============================] - 0s 879us/step\n",
      "934/934 [==============================] - 1s 972us/step\n",
      " - Model specifics:\tbatch size: 64, mode: triangular, stepsize: 420, base-lr: 1e-05, max-lr 0.0004, *2\n",
      "Time usage: 0:01:54 minutes\n",
      "3357/3357 [==============================] - 3s 879us/step\n",
      "374/374 [==============================] - 0s 884us/step\n",
      "934/934 [==============================] - 1s 919us/step\n",
      " - Model specifics:\tbatch size: 64, mode: triangular, stepsize: 420, base-lr: 1e-05, max-lr 0.0004, *3\n",
      "Time usage: 0:01:53 minutes\n",
      "3357/3357 [==============================] - 3s 895us/step\n",
      "374/374 [==============================] - 0s 890us/step\n",
      "934/934 [==============================] - 1s 943us/step\n",
      " - Model specifics:\tbatch size: 64, mode: triangular, stepsize: 420, base-lr: 1e-05, max-lr 0.0004, *4\n",
      "Time usage: 0:01:56 minutes\n",
      "3357/3357 [==============================] - 3s 878us/step\n",
      "374/374 [==============================] - 0s 942us/step\n",
      "934/934 [==============================] - 1s 932us/step\n",
      "- Training accuracies:\t[0.6768, 0.6595, 0.6807, 0.686, 0.6816, 0.6726, 0.692, 0.6813, 0.6744, 0.6768, 0.6968, 0.6899, 0.6798, 0.7084, 0.6836, 0.706, 0.6965, 0.6839, 0.6896, 0.6881, 0.6842, 0.6804, 0.6556, 0.6825, 0.6637]\n",
      "- Validation accuracies:\t[0.6364, 0.6123, 0.6417, 0.6417, 0.6364, 0.6203, 0.6364, 0.6417, 0.6283, 0.6283, 0.6444, 0.6417, 0.6417, 0.6497, 0.6524, 0.6658, 0.6551, 0.6471, 0.6711, 0.6524, 0.639, 0.631, 0.6096, 0.6444, 0.623]\n",
      "- Testing accuracies:\t[0.6692, 0.6552, 0.667, 0.682, 0.6788, 0.6585, 0.6788, 0.6681, 0.6756, 0.651, 0.6842, 0.6734, 0.6552, 0.6991, 0.6574, 0.6916, 0.6809, 0.6713, 0.6831, 0.6852, 0.6702, 0.6745, 0.6392, 0.6842, 0.6595]\n",
      "\n",
      "\n",
      "Models with base lr = 1e-05 and max lr = 0.0006\n",
      " - Model specifics:\tbatch size: 64, mode: triangular, stepsize: 420, base-lr: 1e-05, max-lr 0.0006, *0\n",
      "Time usage: 0:01:54 minutes\n",
      "3357/3357 [==============================] - 3s 898us/step\n",
      "374/374 [==============================] - 0s 936us/step\n",
      "934/934 [==============================] - 1s 948us/step\n",
      " - Model specifics:\tbatch size: 64, mode: triangular, stepsize: 420, base-lr: 1e-05, max-lr 0.0006, *1\n",
      "Time usage: 0:01:55 minutes\n",
      "3357/3357 [==============================] - 3s 865us/step\n",
      "374/374 [==============================] - 0s 916us/step\n",
      "934/934 [==============================] - 1s 945us/step\n",
      " - Model specifics:\tbatch size: 64, mode: triangular, stepsize: 420, base-lr: 1e-05, max-lr 0.0006, *2\n",
      "Time usage: 0:01:56 minutes\n",
      "3357/3357 [==============================] - 3s 901us/step\n",
      "374/374 [==============================] - 0s 907us/step\n",
      "934/934 [==============================] - 1s 968us/step\n",
      " - Model specifics:\tbatch size: 64, mode: triangular, stepsize: 420, base-lr: 1e-05, max-lr 0.0006, *3\n",
      "Time usage: 0:01:54 minutes\n",
      "3357/3357 [==============================] - 3s 906us/step\n",
      "374/374 [==============================] - 0s 942us/step\n",
      "934/934 [==============================] - 1s 942us/step\n",
      " - Model specifics:\tbatch size: 64, mode: triangular, stepsize: 420, base-lr: 1e-05, max-lr 0.0006, *4\n",
      "Time usage: 0:01:53 minutes\n",
      "3357/3357 [==============================] - 3s 896us/step\n",
      "374/374 [==============================] - 0s 925us/step\n",
      "934/934 [==============================] - 1s 968us/step\n",
      "- Training accuracies:\t[0.6768, 0.6595, 0.6807, 0.686, 0.6816, 0.6726, 0.692, 0.6813, 0.6744, 0.6768, 0.6968, 0.6899, 0.6798, 0.7084, 0.6836, 0.706, 0.6965, 0.6839, 0.6896, 0.6881, 0.6842, 0.6804, 0.6556, 0.6825, 0.6637, 0.6807, 0.6717, 0.6822, 0.6705, 0.6717]\n",
      "- Validation accuracies:\t[0.6364, 0.6123, 0.6417, 0.6417, 0.6364, 0.6203, 0.6364, 0.6417, 0.6283, 0.6283, 0.6444, 0.6417, 0.6417, 0.6497, 0.6524, 0.6658, 0.6551, 0.6471, 0.6711, 0.6524, 0.639, 0.631, 0.6096, 0.6444, 0.623, 0.6551, 0.6337, 0.6337, 0.623, 0.631]\n",
      "- Testing accuracies:\t[0.6692, 0.6552, 0.667, 0.682, 0.6788, 0.6585, 0.6788, 0.6681, 0.6756, 0.651, 0.6842, 0.6734, 0.6552, 0.6991, 0.6574, 0.6916, 0.6809, 0.6713, 0.6831, 0.6852, 0.6702, 0.6745, 0.6392, 0.6842, 0.6595, 0.6585, 0.667, 0.6627, 0.6456, 0.6552]\n",
      "\n",
      "\n",
      "NEXT LEARNINGRATE: 5e-05\n",
      "Models with base lr = 5e-05 and max lr = 0.0002\n",
      " - Model specifics:\tbatch size: 64, mode: triangular, stepsize: 420, base-lr: 5e-05, max-lr 0.0002, *0\n",
      "Time usage: 0:01:53 minutes\n",
      "3357/3357 [==============================] - 3s 891us/step\n",
      "374/374 [==============================] - 0s 923us/step\n",
      "934/934 [==============================] - 1s 988us/step\n",
      " - Model specifics:\tbatch size: 64, mode: triangular, stepsize: 420, base-lr: 5e-05, max-lr 0.0002, *1\n",
      "Time usage: 0:01:52 minutes\n",
      "3357/3357 [==============================] - 3s 875us/step\n",
      "374/374 [==============================] - 0s 865us/step\n",
      "934/934 [==============================] - 1s 956us/step\n",
      " - Model specifics:\tbatch size: 64, mode: triangular, stepsize: 420, base-lr: 5e-05, max-lr 0.0002, *2\n",
      "Time usage: 0:01:53 minutes\n",
      "3357/3357 [==============================] - 3s 911us/step\n",
      "374/374 [==============================] - 0s 983us/step\n",
      "934/934 [==============================] - 1s 970us/step\n",
      " - Model specifics:\tbatch size: 64, mode: triangular, stepsize: 420, base-lr: 5e-05, max-lr 0.0002, *3\n",
      "Time usage: 0:01:52 minutes\n",
      "3357/3357 [==============================] - 3s 891us/step\n",
      "374/374 [==============================] - 0s 926us/step\n",
      "934/934 [==============================] - 1s 959us/step\n",
      " - Model specifics:\tbatch size: 64, mode: triangular, stepsize: 420, base-lr: 5e-05, max-lr 0.0002, *4\n"
     ]
    },
    {
     "name": "stderr",
     "output_type": "stream",
     "text": [
      "/home/rick/.conda/envs/hannah_z/lib/python2.7/site-packages/keras/callbacks.py:120: UserWarning: Method on_batch_end() is slow compared to the batch update (0.107544). Check your callbacks.\n",
      "  % delta_t_median)\n"
     ]
    },
    {
     "name": "stdout",
     "output_type": "stream",
     "text": [
      "Time usage: 0:01:56 minutes\n",
      "3357/3357 [==============================] - 3s 901us/step\n",
      "374/374 [==============================] - 0s 911us/step\n",
      "934/934 [==============================] - 1s 959us/step\n",
      "- Training accuracies:\t[0.6768, 0.6595, 0.6807, 0.686, 0.6816, 0.6726, 0.692, 0.6813, 0.6744, 0.6768, 0.6968, 0.6899, 0.6798, 0.7084, 0.6836, 0.706, 0.6965, 0.6839, 0.6896, 0.6881, 0.6842, 0.6804, 0.6556, 0.6825, 0.6637, 0.6807, 0.6717, 0.6822, 0.6705, 0.6717, 0.6831, 0.6735, 0.6741, 0.6676, 0.6973]\n",
      "- Validation accuracies:\t[0.6364, 0.6123, 0.6417, 0.6417, 0.6364, 0.6203, 0.6364, 0.6417, 0.6283, 0.6283, 0.6444, 0.6417, 0.6417, 0.6497, 0.6524, 0.6658, 0.6551, 0.6471, 0.6711, 0.6524, 0.639, 0.631, 0.6096, 0.6444, 0.623, 0.6551, 0.6337, 0.6337, 0.623, 0.631, 0.6551, 0.6524, 0.6364, 0.6257, 0.6524]\n",
      "- Testing accuracies:\t[0.6692, 0.6552, 0.667, 0.682, 0.6788, 0.6585, 0.6788, 0.6681, 0.6756, 0.651, 0.6842, 0.6734, 0.6552, 0.6991, 0.6574, 0.6916, 0.6809, 0.6713, 0.6831, 0.6852, 0.6702, 0.6745, 0.6392, 0.6842, 0.6595, 0.6585, 0.667, 0.6627, 0.6456, 0.6552, 0.6799, 0.6702, 0.6681, 0.6585, 0.6991]\n",
      "\n",
      "\n",
      "Models with base lr = 5e-05 and max lr = 0.0004\n",
      " - Model specifics:\tbatch size: 64, mode: triangular, stepsize: 420, base-lr: 5e-05, max-lr 0.0004, *0\n",
      "Time usage: 0:01:55 minutes\n",
      "3357/3357 [==============================] - 3s 906us/step\n",
      "374/374 [==============================] - 0s 889us/step\n",
      "934/934 [==============================] - 1s 953us/step\n",
      " - Model specifics:\tbatch size: 64, mode: triangular, stepsize: 420, base-lr: 5e-05, max-lr 0.0004, *1\n",
      "Time usage: 0:01:54 minutes\n",
      "3357/3357 [==============================] - 3s 880us/step\n",
      "374/374 [==============================] - 0s 969us/step\n",
      "934/934 [==============================] - 1s 915us/step\n",
      " - Model specifics:\tbatch size: 64, mode: triangular, stepsize: 420, base-lr: 5e-05, max-lr 0.0004, *2\n",
      "Time usage: 0:01:53 minutes\n",
      "3357/3357 [==============================] - 3s 888us/step\n",
      "374/374 [==============================] - 0s 911us/step\n",
      "934/934 [==============================] - 1s 976us/step\n",
      " - Model specifics:\tbatch size: 64, mode: triangular, stepsize: 420, base-lr: 5e-05, max-lr 0.0004, *3\n",
      "Time usage: 0:01:53 minutes\n",
      "3357/3357 [==============================] - 3s 930us/step\n",
      "374/374 [==============================] - 0s 924us/step\n",
      "934/934 [==============================] - 1s 1ms/step\n",
      " - Model specifics:\tbatch size: 64, mode: triangular, stepsize: 420, base-lr: 5e-05, max-lr 0.0004, *4\n",
      "Time usage: 0:01:54 minutes\n",
      "3357/3357 [==============================] - 3s 877us/step\n",
      "374/374 [==============================] - 0s 878us/step\n",
      "934/934 [==============================] - 1s 924us/step\n",
      "- Training accuracies:\t[0.6768, 0.6595, 0.6807, 0.686, 0.6816, 0.6726, 0.692, 0.6813, 0.6744, 0.6768, 0.6968, 0.6899, 0.6798, 0.7084, 0.6836, 0.706, 0.6965, 0.6839, 0.6896, 0.6881, 0.6842, 0.6804, 0.6556, 0.6825, 0.6637, 0.6807, 0.6717, 0.6822, 0.6705, 0.6717, 0.6831, 0.6735, 0.6741, 0.6676, 0.6973, 0.6705, 0.6836, 0.6756, 0.686, 0.6717]\n",
      "- Validation accuracies:\t[0.6364, 0.6123, 0.6417, 0.6417, 0.6364, 0.6203, 0.6364, 0.6417, 0.6283, 0.6283, 0.6444, 0.6417, 0.6417, 0.6497, 0.6524, 0.6658, 0.6551, 0.6471, 0.6711, 0.6524, 0.639, 0.631, 0.6096, 0.6444, 0.623, 0.6551, 0.6337, 0.6337, 0.623, 0.631, 0.6551, 0.6524, 0.6364, 0.6257, 0.6524, 0.607, 0.6417, 0.6283, 0.6631, 0.6283]\n",
      "- Testing accuracies:\t[0.6692, 0.6552, 0.667, 0.682, 0.6788, 0.6585, 0.6788, 0.6681, 0.6756, 0.651, 0.6842, 0.6734, 0.6552, 0.6991, 0.6574, 0.6916, 0.6809, 0.6713, 0.6831, 0.6852, 0.6702, 0.6745, 0.6392, 0.6842, 0.6595, 0.6585, 0.667, 0.6627, 0.6456, 0.6552, 0.6799, 0.6702, 0.6681, 0.6585, 0.6991, 0.6574, 0.666, 0.6563, 0.6649, 0.6478]\n",
      "\n",
      "\n",
      "Models with base lr = 5e-05 and max lr = 0.0006\n",
      " - Model specifics:\tbatch size: 64, mode: triangular, stepsize: 420, base-lr: 5e-05, max-lr 0.0006, *0\n"
     ]
    },
    {
     "name": "stderr",
     "output_type": "stream",
     "text": [
      "/home/rick/.conda/envs/hannah_z/lib/python2.7/site-packages/keras/callbacks.py:120: UserWarning: Method on_batch_end() is slow compared to the batch update (0.101326). Check your callbacks.\n",
      "  % delta_t_median)\n"
     ]
    },
    {
     "name": "stdout",
     "output_type": "stream",
     "text": [
      "Time usage: 0:01:55 minutes\n",
      "3357/3357 [==============================] - 3s 891us/step\n",
      "374/374 [==============================] - 0s 942us/step\n",
      "934/934 [==============================] - 1s 955us/step\n",
      " - Model specifics:\tbatch size: 64, mode: triangular, stepsize: 420, base-lr: 5e-05, max-lr 0.0006, *1\n",
      "Time usage: 0:01:55 minutes\n",
      "3357/3357 [==============================] - 3s 881us/step\n",
      "374/374 [==============================] - 0s 936us/step\n",
      "934/934 [==============================] - 1s 979us/step\n",
      " - Model specifics:\tbatch size: 64, mode: triangular, stepsize: 420, base-lr: 5e-05, max-lr 0.0006, *2\n",
      "Time usage: 0:01:55 minutes\n",
      "3357/3357 [==============================] - 3s 913us/step\n",
      "374/374 [==============================] - 0s 919us/step\n",
      "934/934 [==============================] - ETA:  - 1s 979us/step\n",
      " - Model specifics:\tbatch size: 64, mode: triangular, stepsize: 420, base-lr: 5e-05, max-lr 0.0006, *3\n",
      "Time usage: 0:01:53 minutes\n",
      "3357/3357 [==============================] - 3s 868us/step\n",
      "374/374 [==============================] - 0s 931us/step\n",
      "934/934 [==============================] - 1s 975us/step\n",
      " - Model specifics:\tbatch size: 64, mode: triangular, stepsize: 420, base-lr: 5e-05, max-lr 0.0006, *4\n",
      "Time usage: 0:01:54 minutes\n",
      "3357/3357 [==============================] - 3s 891us/step\n",
      "374/374 [==============================] - 0s 941us/step\n",
      "934/934 [==============================] - 1s 938us/step\n",
      "- Training accuracies:\t[0.6768, 0.6595, 0.6807, 0.686, 0.6816, 0.6726, 0.692, 0.6813, 0.6744, 0.6768, 0.6968, 0.6899, 0.6798, 0.7084, 0.6836, 0.706, 0.6965, 0.6839, 0.6896, 0.6881, 0.6842, 0.6804, 0.6556, 0.6825, 0.6637, 0.6807, 0.6717, 0.6822, 0.6705, 0.6717, 0.6831, 0.6735, 0.6741, 0.6676, 0.6973, 0.6705, 0.6836, 0.6756, 0.686, 0.6717, 0.6702, 0.6682, 0.664, 0.6807, 0.6693]\n",
      "- Validation accuracies:\t[0.6364, 0.6123, 0.6417, 0.6417, 0.6364, 0.6203, 0.6364, 0.6417, 0.6283, 0.6283, 0.6444, 0.6417, 0.6417, 0.6497, 0.6524, 0.6658, 0.6551, 0.6471, 0.6711, 0.6524, 0.639, 0.631, 0.6096, 0.6444, 0.623, 0.6551, 0.6337, 0.6337, 0.623, 0.631, 0.6551, 0.6524, 0.6364, 0.6257, 0.6524, 0.607, 0.6417, 0.6283, 0.6631, 0.6283, 0.615, 0.6364, 0.6337, 0.6283, 0.6417]\n",
      "- Testing accuracies:\t[0.6692, 0.6552, 0.667, 0.682, 0.6788, 0.6585, 0.6788, 0.6681, 0.6756, 0.651, 0.6842, 0.6734, 0.6552, 0.6991, 0.6574, 0.6916, 0.6809, 0.6713, 0.6831, 0.6852, 0.6702, 0.6745, 0.6392, 0.6842, 0.6595, 0.6585, 0.667, 0.6627, 0.6456, 0.6552, 0.6799, 0.6702, 0.6681, 0.6585, 0.6991, 0.6574, 0.666, 0.6563, 0.6649, 0.6478, 0.6478, 0.6552, 0.637, 0.6692, 0.6563]\n",
      "\n",
      "\n",
      "Time usage: 1:29:54 minutes\n"
     ]
    },
    {
     "data": {
      "text/plain": [
       "[<matplotlib.lines.Line2D at 0x7f110cb5c450>]"
      ]
     },
     "execution_count": 12,
     "metadata": {},
     "output_type": "execute_result"
    },
    {
     "data": {
      "image/png": "[encoded data removed]",
      "text/plain": [
       "<matplotlib.figure.Figure at 0x7f11745168d0>"
      ]
     },
     "metadata": {},
     "output_type": "display_data"
    }
   ],
   "source": [
    "# usual training time: 2h\n",
    "learning_rate_finder()\n",
    "%matplotlib inline\n",
    "acc = h['acc']\n",
    "plt.plot(acc)"
   ]
  },
  {
   "cell_type": "code",
   "execution_count": 13,
   "metadata": {},
   "outputs": [
    {
     "data": {
      "text/html": [
       "<div>\n",
       "<style scoped>\n",
       "    .dataframe tbody tr th:only-of-type {\n",
       "        vertical-align: middle;\n",
       "    }\n",
       "\n",
       "    .dataframe tbody tr th {\n",
       "        vertical-align: top;\n",
       "    }\n",
       "\n",
       "    .dataframe thead th {\n",
       "        text-align: right;\n",
       "    }\n",
       "</style>\n",
       "<table border=\"1\" class=\"dataframe\">\n",
       "  <thead>\n",
       "    <tr style=\"text-align: right;\">\n",
       "      <th></th>\n",
       "      <th>test acc</th>\n",
       "      <th>valid acc</th>\n",
       "      <th>train acc</th>\n",
       "      <th>test loss</th>\n",
       "      <th>valid loss</th>\n",
       "      <th>train loss</th>\n",
       "      <th>test prec</th>\n",
       "      <th>valid prec</th>\n",
       "      <th>train prec</th>\n",
       "      <th>test rec</th>\n",
       "      <th>valid rec</th>\n",
       "      <th>train rec</th>\n",
       "    </tr>\n",
       "  </thead>\n",
       "  <tbody>\n",
       "    <tr>\n",
       "      <th>base-lr: 1e-05, max-lr 0.0002,</th>\n",
       "      <td>0.6750</td>\n",
       "      <td>0.6444</td>\n",
       "      <td>0.6875</td>\n",
       "      <td>1.2512</td>\n",
       "      <td>1.3230</td>\n",
       "      <td>1.1718</td>\n",
       "      <td>0.6221</td>\n",
       "      <td>0.5797</td>\n",
       "      <td>0.6226</td>\n",
       "      <td>0.9434</td>\n",
       "      <td>0.9399</td>\n",
       "      <td>0.9494</td>\n",
       "    </tr>\n",
       "    <tr>\n",
       "      <th>base-lr: 1e-05, max-lr 0.0004,</th>\n",
       "      <td>0.6724</td>\n",
       "      <td>0.6409</td>\n",
       "      <td>0.6842</td>\n",
       "      <td>1.2832</td>\n",
       "      <td>1.3582</td>\n",
       "      <td>1.2045</td>\n",
       "      <td>0.6198</td>\n",
       "      <td>0.5773</td>\n",
       "      <td>0.6196</td>\n",
       "      <td>0.9461</td>\n",
       "      <td>0.9422</td>\n",
       "      <td>0.9513</td>\n",
       "    </tr>\n",
       "    <tr>\n",
       "      <th>base-lr: 1e-06, max-lr 0.0006,</th>\n",
       "      <td>0.6715</td>\n",
       "      <td>0.6388</td>\n",
       "      <td>0.6849</td>\n",
       "      <td>1.3050</td>\n",
       "      <td>1.3821</td>\n",
       "      <td>1.2193</td>\n",
       "      <td>0.6189</td>\n",
       "      <td>0.5760</td>\n",
       "      <td>0.6198</td>\n",
       "      <td>0.9448</td>\n",
       "      <td>0.9393</td>\n",
       "      <td>0.9533</td>\n",
       "    </tr>\n",
       "    <tr>\n",
       "      <th>base-lr: 5e-05, max-lr 0.0002,</th>\n",
       "      <td>0.6706</td>\n",
       "      <td>0.6414</td>\n",
       "      <td>0.6823</td>\n",
       "      <td>1.3096</td>\n",
       "      <td>1.3834</td>\n",
       "      <td>1.2273</td>\n",
       "      <td>0.6184</td>\n",
       "      <td>0.5776</td>\n",
       "      <td>0.6182</td>\n",
       "      <td>0.9455</td>\n",
       "      <td>0.9451</td>\n",
       "      <td>0.9515</td>\n",
       "    </tr>\n",
       "    <tr>\n",
       "      <th>base-lr: 1e-06, max-lr 0.0002,</th>\n",
       "      <td>0.6704</td>\n",
       "      <td>0.6337</td>\n",
       "      <td>0.6769</td>\n",
       "      <td>1.2072</td>\n",
       "      <td>1.2979</td>\n",
       "      <td>1.1443</td>\n",
       "      <td>0.6181</td>\n",
       "      <td>0.5713</td>\n",
       "      <td>0.6140</td>\n",
       "      <td>0.9448</td>\n",
       "      <td>0.9512</td>\n",
       "      <td>0.9519</td>\n",
       "    </tr>\n",
       "    <tr>\n",
       "      <th>base-lr: 1e-05, max-lr 0.0006,</th>\n",
       "      <td>0.6692</td>\n",
       "      <td>0.6400</td>\n",
       "      <td>0.6825</td>\n",
       "      <td>1.3251</td>\n",
       "      <td>1.3981</td>\n",
       "      <td>1.2412</td>\n",
       "      <td>0.6172</td>\n",
       "      <td>0.5769</td>\n",
       "      <td>0.6182</td>\n",
       "      <td>0.9459</td>\n",
       "      <td>0.9425</td>\n",
       "      <td>0.9522</td>\n",
       "    </tr>\n",
       "    <tr>\n",
       "      <th>base-lr: 5e-05, max-lr 0.0004,</th>\n",
       "      <td>0.6685</td>\n",
       "      <td>0.6404</td>\n",
       "      <td>0.6813</td>\n",
       "      <td>1.3224</td>\n",
       "      <td>1.3942</td>\n",
       "      <td>1.2390</td>\n",
       "      <td>0.6168</td>\n",
       "      <td>0.5769</td>\n",
       "      <td>0.6172</td>\n",
       "      <td>0.9450</td>\n",
       "      <td>0.9447</td>\n",
       "      <td>0.9520</td>\n",
       "    </tr>\n",
       "    <tr>\n",
       "      <th>base-lr: 1e-06, max-lr 0.0004,</th>\n",
       "      <td>0.6683</td>\n",
       "      <td>0.6319</td>\n",
       "      <td>0.6783</td>\n",
       "      <td>1.2551</td>\n",
       "      <td>1.3403</td>\n",
       "      <td>1.1824</td>\n",
       "      <td>0.6162</td>\n",
       "      <td>0.5707</td>\n",
       "      <td>0.6146</td>\n",
       "      <td>0.9460</td>\n",
       "      <td>0.9455</td>\n",
       "      <td>0.9539</td>\n",
       "    </tr>\n",
       "    <tr>\n",
       "      <th>base-lr: 5e-05, max-lr 0.0006,</th>\n",
       "      <td>0.6664</td>\n",
       "      <td>0.6391</td>\n",
       "      <td>0.6798</td>\n",
       "      <td>1.3580</td>\n",
       "      <td>1.4330</td>\n",
       "      <td>1.2702</td>\n",
       "      <td>0.6150</td>\n",
       "      <td>0.5762</td>\n",
       "      <td>0.6159</td>\n",
       "      <td>0.9454</td>\n",
       "      <td>0.9466</td>\n",
       "      <td>0.9533</td>\n",
       "    </tr>\n",
       "  </tbody>\n",
       "</table>\n",
       "</div>"
      ],
      "text/plain": [
       "                                test acc  valid acc  train acc  test loss  \\\n",
       "base-lr: 1e-05, max-lr 0.0002,    0.6750     0.6444     0.6875     1.2512   \n",
       "base-lr: 1e-05, max-lr 0.0004,    0.6724     0.6409     0.6842     1.2832   \n",
       "base-lr: 1e-06, max-lr 0.0006,    0.6715     0.6388     0.6849     1.3050   \n",
       "base-lr: 5e-05, max-lr 0.0002,    0.6706     0.6414     0.6823     1.3096   \n",
       "base-lr: 1e-06, max-lr 0.0002,    0.6704     0.6337     0.6769     1.2072   \n",
       "base-lr: 1e-05, max-lr 0.0006,    0.6692     0.6400     0.6825     1.3251   \n",
       "base-lr: 5e-05, max-lr 0.0004,    0.6685     0.6404     0.6813     1.3224   \n",
       "base-lr: 1e-06, max-lr 0.0004,    0.6683     0.6319     0.6783     1.2551   \n",
       "base-lr: 5e-05, max-lr 0.0006,    0.6664     0.6391     0.6798     1.3580   \n",
       "\n",
       "                                valid loss  train loss  test prec  valid prec  \\\n",
       "base-lr: 1e-05, max-lr 0.0002,      1.3230      1.1718     0.6221      0.5797   \n",
       "base-lr: 1e-05, max-lr 0.0004,      1.3582      1.2045     0.6198      0.5773   \n",
       "base-lr: 1e-06, max-lr 0.0006,      1.3821      1.2193     0.6189      0.5760   \n",
       "base-lr: 5e-05, max-lr 0.0002,      1.3834      1.2273     0.6184      0.5776   \n",
       "base-lr: 1e-06, max-lr 0.0002,      1.2979      1.1443     0.6181      0.5713   \n",
       "base-lr: 1e-05, max-lr 0.0006,      1.3981      1.2412     0.6172      0.5769   \n",
       "base-lr: 5e-05, max-lr 0.0004,      1.3942      1.2390     0.6168      0.5769   \n",
       "base-lr: 1e-06, max-lr 0.0004,      1.3403      1.1824     0.6162      0.5707   \n",
       "base-lr: 5e-05, max-lr 0.0006,      1.4330      1.2702     0.6150      0.5762   \n",
       "\n",
       "                                train prec  test rec  valid rec  train rec  \n",
       "base-lr: 1e-05, max-lr 0.0002,      0.6226    0.9434     0.9399     0.9494  \n",
       "base-lr: 1e-05, max-lr 0.0004,      0.6196    0.9461     0.9422     0.9513  \n",
       "base-lr: 1e-06, max-lr 0.0006,      0.6198    0.9448     0.9393     0.9533  \n",
       "base-lr: 5e-05, max-lr 0.0002,      0.6182    0.9455     0.9451     0.9515  \n",
       "base-lr: 1e-06, max-lr 0.0002,      0.6140    0.9448     0.9512     0.9519  \n",
       "base-lr: 1e-05, max-lr 0.0006,      0.6182    0.9459     0.9425     0.9522  \n",
       "base-lr: 5e-05, max-lr 0.0004,      0.6172    0.9450     0.9447     0.9520  \n",
       "base-lr: 1e-06, max-lr 0.0004,      0.6146    0.9460     0.9455     0.9539  \n",
       "base-lr: 5e-05, max-lr 0.0006,      0.6159    0.9454     0.9466     0.9533  "
      ]
     },
     "execution_count": 13,
     "metadata": {},
     "output_type": "execute_result"
    }
   ],
   "source": [
    "titel = model_details[0][:47]\n",
    "mean_test_acc = []\n",
    "mean_valid_acc = []\n",
    "mean_train_acc = []\n",
    "mean_test_loss = []\n",
    "mean_valid_loss = []\n",
    "mean_train_loss = []\n",
    "mean_test_prec = []\n",
    "mean_valid_prec = []\n",
    "mean_train_prec = []\n",
    "mean_test_rec = []\n",
    "mean_valid_rec = []\n",
    "mean_train_rec = []\n",
    "model_list = []\n",
    "a = len(test_acc_list)\n",
    "for i in range(9):\n",
    "    tals = test_acc_list[i:(i+1)*5]\n",
    "    vals = valid_acc_list[i:(i+1)*5]\n",
    "    rals = train_acc_list[i:(i+1)*5]\n",
    "    tlls = test_loss_list[i:(i+1)*5]\n",
    "    vlls = valid_loss_list[i:(i+1)*5]\n",
    "    rlls = train_loss_list[i:(i+1)*5]\n",
    "    tpls = test_prec_list[i:(i+1)*5]\n",
    "    vpls = valid_prec_list[i:(i+1)*5]\n",
    "    rpls = train_prec_list[i:(i+1)*5]\n",
    "    trls = test_rec_list[i:(i+1)*5]\n",
    "    vrls = valid_rec_list[i:(i+1)*5]\n",
    "    rrls = train_rec_list[i:(i+1)*5]\n",
    "    tmean = round(sum(tals)/len(tals),4)\n",
    "    vmean = round(sum(vals)/len(vals),4)\n",
    "    rmean = round(sum(rals)/len(rals),4)\n",
    "    ltmean = round(sum(tlls)/len(tals),4)\n",
    "    lvmean = round(sum(vlls)/len(vals),4)\n",
    "    lrmean = round(sum(rlls)/len(rals),4)\n",
    "    ptmean = round(sum(tpls)/len(tals),4)\n",
    "    pvmean = round(sum(vpls)/len(vals),4)\n",
    "    prmean = round(sum(rpls)/len(rals),4)\n",
    "    rtmean = round(sum(trls)/len(tals),4)\n",
    "    rvmean = round(sum(vrls)/len(vals),4)\n",
    "    rrmean = round(sum(rrls)/len(rals),4)\n",
    "    mean_test_acc.append(tmean)\n",
    "    mean_valid_acc.append(vmean)\n",
    "    mean_train_acc.append(rmean)\n",
    "    mean_test_loss.append(ltmean)\n",
    "    mean_valid_loss.append(lvmean)\n",
    "    mean_train_loss.append(lrmean)\n",
    "    mean_test_prec.append(ptmean)\n",
    "    mean_valid_prec.append(pvmean)\n",
    "    mean_train_prec.append(prmean)\n",
    "    mean_test_rec.append(rtmean)\n",
    "    mean_valid_rec.append(rvmean)\n",
    "    mean_train_rec.append(rrmean)\n",
    "    model_list.append(model_details[i*5][49:79])\n",
    "columns = ['test acc', 'valid acc', 'train acc', 'test loss', 'valid loss', 'train loss', 'test prec', \\\n",
    "           'valid prec', 'train prec', 'test rec', 'valid rec', 'train rec']\n",
    "data = np.array((mean_test_acc, mean_valid_acc, mean_train_acc, mean_test_loss, mean_valid_loss, mean_train_loss,\\\n",
    "                mean_test_prec, mean_valid_prec, mean_train_prec, mean_test_rec, mean_valid_rec, mean_train_rec))\n",
    "results = pd.DataFrame(data = data, columns = model_list, index = columns)\n",
    "lr_overview = pd.DataFrame(data = results.transpose(), columns = columns, index = model_list)\n",
    "#lr_overview\n",
    "overviewSorted = lr_overview.sort_values(by=['test acc'], ascending = False)\n",
    "overviewSorted"
   ]
  },
  {
   "cell_type": "code",
   "execution_count": 14,
   "metadata": {},
   "outputs": [],
   "source": [
    "blr = 0.00001\n",
    "mlr = 0.0002"
   ]
  },
  {
   "cell_type": "code",
   "execution_count": 9,
   "metadata": {},
   "outputs": [
    {
     "ename": "NameError",
     "evalue": "name 'batch_size' is not defined",
     "output_type": "error",
     "traceback": [
      "\u001b[0;31m---------------------------------------------------------------------------\u001b[0m",
      "\u001b[0;31mNameError\u001b[0m                                 Traceback (most recent call last)",
      "\u001b[0;32m<ipython-input-9-9fba9d7e8b7f>\u001b[0m in \u001b[0;36m<module>\u001b[0;34m()\u001b[0m\n\u001b[1;32m      1\u001b[0m \u001b[0mos\u001b[0m\u001b[0;34m.\u001b[0m\u001b[0mchdir\u001b[0m\u001b[0;34m(\u001b[0m\u001b[0mcode_dir\u001b[0m \u001b[0;34m+\u001b[0m \u001b[0;34m'/Excel'\u001b[0m\u001b[0;34m)\u001b[0m\u001b[0;34m\u001b[0m\u001b[0m\n\u001b[1;32m      2\u001b[0m savename = ('AfterTuningLR_modelOverview_' + str(modelname) + '_bs-' + str(batch_size) + '_' + str(mode) + '_sz-' \n\u001b[0;32m----> 3\u001b[0;31m             + str(step_size) + '_' + str(weights) + '_' + str(trainable_layers) + '_' + str(epochs) + 'epochs')\n\u001b[0m\u001b[1;32m      4\u001b[0m \u001b[0msavename\u001b[0m\u001b[0;34m\u001b[0m\u001b[0m\n",
      "\u001b[0;31mNameError\u001b[0m: name 'batch_size' is not defined"
     ]
    }
   ],
   "source": [
    "os.chdir(code_dir + '/Excel')\n",
    "savename = ('AfterTuningLR_modelOverview_' + str(modelname) + '_bs-' + str(batch_size) + '_' + str(mode) + '_sz-' \n",
    "            + str(step_size) + '_' + str(weights) + '_' + str(trainable_layers) + '_' + str(epochs) + 'epochs')\n",
    "savename"
   ]
  },
  {
   "cell_type": "code",
   "execution_count": null,
   "metadata": {},
   "outputs": [],
   "source": []
  },
  {
   "cell_type": "code",
   "execution_count": 16,
   "metadata": {},
   "outputs": [],
   "source": [
    "overviewSorted.to_csv(savename)"
   ]
  },
  {
   "cell_type": "code",
   "execution_count": 17,
   "metadata": {},
   "outputs": [
    {
     "data": {
      "image/png": "[encoded data removed]",
      "text/plain": [
       "<matplotlib.figure.Figure at 0x7f110c566f90>"
      ]
     },
     "metadata": {},
     "output_type": "display_data"
    }
   ],
   "source": [
    "import seaborn as sns\n",
    "sns.set()\n",
    "heatmap = sns.heatmap(results.iloc[:3,:].transpose(), annot=True, fmt = 'f')"
   ]
  },
  {
   "cell_type": "code",
   "execution_count": 18,
   "metadata": {},
   "outputs": [
    {
     "data": {
      "text/plain": [
       "[<matplotlib.lines.Line2D at 0x7f110bb9b810>]"
      ]
     },
     "execution_count": 18,
     "metadata": {},
     "output_type": "execute_result"
    },
    {
     "data": {
      "image/png": "[encoded data removed]",
      "text/plain": [
       "<matplotlib.figure.Figure at 0x7f110bc976d0>"
      ]
     },
     "metadata": {},
     "output_type": "display_data"
    }
   ],
   "source": [
    "%matplotlib inline\n",
    "\n",
    "f, (ax1, ax2) = plt.subplots(2, 1, sharex='col', sharey='row')\n",
    "ax1.plot(mean_test_acc, color = 'r')\n",
    "ax1.axis([0, 8, 0.5, 1])\n",
    "ax1.set_title('Close up')\n",
    "ax1.plot(mean_valid_acc)\n",
    "ax1.plot(mean_train_acc, color = 'g')\n",
    "ax2.set_title('Zoom')\n",
    "ax2.plot(mean_test_acc, color = 'r')\n",
    "ax2.axis([0, 8, 0.7, 0.8])\n",
    "ax2.plot(mean_valid_acc)\n",
    "ax2.plot(mean_train_acc, color = 'g')"
   ]
  },
  {
   "cell_type": "code",
   "execution_count": 19,
   "metadata": {},
   "outputs": [],
   "source": [
    "from IPython.core.interactiveshell import InteractiveShell\n",
    "InteractiveShell.ast_node_interactivity = \"all\""
   ]
  },
  {
   "cell_type": "code",
   "execution_count": 20,
   "metadata": {},
   "outputs": [],
   "source": [
    "stepsizes128 = [157, 210, 262]\n",
    "stepsizes64 = [315, 420,525]\n",
    "batch_sizes = [64, 128]\n",
    "modes = ['triangular', 'triangular2']\n",
    "rep = 1"
   ]
  },
  {
   "cell_type": "code",
   "execution_count": 21,
   "metadata": {
    "scrolled": true
   },
   "outputs": [],
   "source": [
    "def hp_tuner(base_lr = blr, max_lr = mlr, rep = 5):\n",
    "    start_time = time()  \n",
    "    global test_acc_l\n",
    "    global valid_acc_l\n",
    "    global train_acc_l\n",
    "    global test_loss_l\n",
    "    global valid_loss_l\n",
    "    global train_loss_l\n",
    "    global test_prec_l\n",
    "    global valid_prec_l\n",
    "    global train_prec_l\n",
    "    global test_rec_l\n",
    "    global valid_rec_l\n",
    "    global train_rec_l\n",
    "    global model_det\n",
    "    model_det = []\n",
    "    test_acc_l = []\n",
    "    valid_acc_l = []\n",
    "    train_acc_l = []\n",
    "    test_loss_l = []\n",
    "    valid_loss_l = []\n",
    "    train_loss_l = []\n",
    "    test_prec_l = []\n",
    "    valid_prec_l = []\n",
    "    train_prec_l = []\n",
    "    test_rec_l = []\n",
    "    valid_rec_l = []\n",
    "    train_rec_l = []\n",
    "    for bs in batch_sizes:\n",
    "        if (bs == 64):\n",
    "            stepsizes = stepsizes64\n",
    "        if (bs ==128):\n",
    "            stepsizes = stepsizes128\n",
    "        for sz in stepsizes: \n",
    "            for md in modes:\n",
    "                i = 0\n",
    "                mid_time = time()\n",
    "                while (i < rep):\n",
    "                    compileModel()\n",
    "                    times = i\n",
    "                    if (i == 0):\n",
    "                        train_Model(times = times, epochs = 48, base_lr = base_lr, max_lr = max_lr, verbose = 0,\n",
    "                                    batch_size = bs, stepsize = sz, mode = md, use_tensorboard = True)\n",
    "                    else:\n",
    "                        train_Model(times = times, epochs = 48, base_lr = base_lr, max_lr = max_lr, verbose = 0, \n",
    "                                    batch_size = bs, stepsize = sz, mode = md, use_tensorboard = False)\n",
    "                    valid_metrics = Final_model.evaluate(valid_images, valid_labels)\n",
    "                    test_metrics = Final_model.evaluate(test_images, test_labels)\n",
    "                    train_metrics = Final_model.evaluate(train_images, train_labels)\n",
    "                    \n",
    "                    train_acc = train_metrics[1]\n",
    "                    valid_acc = valid_metrics[1]\n",
    "                    test_acc = test_metrics[1]\n",
    "                    train_loss = train_metrics[0]\n",
    "                    valid_loss = valid_metrics[0]\n",
    "                    test_loss = test_metrics[0]\n",
    "                    train_prec = train_metrics[2]\n",
    "                    valid_prec = valid_metrics[2]\n",
    "                    test_prec = test_metrics[2]\n",
    "                    train_rec = train_metrics[3]\n",
    "                    valid_rec = valid_metrics[3]\n",
    "                    test_rec = test_metrics[3]                                \n",
    "                    test_acc_l.append(test_acc)\n",
    "                    valid_acc_l.append(valid_acc)\n",
    "                    train_acc_l.append(train_acc)\n",
    "                    test_loss_l.append(test_loss)\n",
    "                    valid_loss_l.append(valid_loss)\n",
    "                    train_loss_l.append(train_loss)\n",
    "                    test_prec_l.append(test_prec)\n",
    "                    valid_prec_l.append(valid_prec)\n",
    "                    train_prec_l.append(train_prec)\n",
    "                    test_rec_l.append(test_rec)\n",
    "                    valid_rec_l.append(valid_rec)\n",
    "                    train_rec_l.append(train_rec)\n",
    "                    model_det.append(name)\n",
    "    ### training the same model for more epochs\n",
    "                    if (i == 0):\n",
    "                        train_Model(times = times, epochs = 48, base_lr = base_lr, max_lr = max_lr, verbose = 0,\n",
    "                                    batch_size = bs, stepsize = sz, mode = md, use_tensorboard = True)\n",
    "                    else:\n",
    "                        train_Model(times = times, epochs = 48, base_lr = base_lr, max_lr = max_lr, verbose = 0, \n",
    "                                    batch_size = bs, stepsize = sz, mode = md, use_tensorboard = False)\n",
    "                    valid_metrics = Final_model.evaluate(valid_images, valid_labels)\n",
    "                    test_metrics = Final_model.evaluate(test_images, test_labels)\n",
    "                    train_metrics = Final_model.evaluate(train_images, train_labels)\n",
    "                    \n",
    "                    train_acc = train_metrics[1]\n",
    "                    valid_acc = valid_metrics[1]\n",
    "                    test_acc = test_metrics[1]\n",
    "                    train_loss = train_metrics[0]\n",
    "                    valid_loss = valid_metrics[0]\n",
    "                    test_loss = test_metrics[0]\n",
    "                    train_prec = train_metrics[2]\n",
    "                    valid_prec = valid_metrics[2]\n",
    "                    test_prec = test_metrics[2]\n",
    "                    train_rec = train_metrics[3]\n",
    "                    valid_rec = valid_metrics[3]\n",
    "                    test_rec = test_metrics[3]                                \n",
    "                    test_acc_l.append(test_acc)\n",
    "                    valid_acc_l.append(valid_acc)\n",
    "                    train_acc_l.append(train_acc)\n",
    "                    test_loss_l.append(test_loss)\n",
    "                    valid_loss_l.append(valid_loss)\n",
    "                    train_loss_l.append(train_loss)\n",
    "                    test_prec_l.append(test_prec)\n",
    "                    valid_prec_l.append(valid_prec)\n",
    "                    train_prec_l.append(train_prec)\n",
    "                    test_rec_l.append(test_rec)\n",
    "                    valid_rec_l.append(valid_rec)\n",
    "                    train_rec_l.append(train_rec)\n",
    "                    name2 = name + '_x2'\n",
    "                    model_det.append(name2)\n",
    "                    print(log_dir)\n",
    "                    i += 1\n",
    "                mid_end_time = time()\n",
    "                mid_time_dif = mid_end_time - mid_time\n",
    "                print('Time usage: ' + str(timedelta(seconds=int(round(mid_time_dif)))) + ' minutes')\n",
    "    end_time = time()\n",
    "    time_dif = end_time - start_time\n",
    "    print('Time usage: ' + str(timedelta(seconds=int(round(time_dif)))) + ' minutes')"
   ]
  },
  {
   "cell_type": "code",
   "execution_count": 22,
   "metadata": {},
   "outputs": [
    {
     "name": "stdout",
     "output_type": "stream",
     "text": [
      " - Model specifics:\tbatch size: 64, mode: triangular, stepsize: 315, base-lr: 1e-05, max-lr 0.0002, *0\n",
      "Time usage: 0:02:03 minutes\n",
      "374/374 [==============================] - 0s 893us/step\n",
      "934/934 [==============================] - 2s 2ms/step\n",
      "3357/3357 [==============================] - 3s 899us/step\n",
      " - Model specifics:\tbatch size: 64, mode: triangular, stepsize: 315, base-lr: 1e-05, max-lr 0.0002, *0\n",
      "Time usage: 0:01:47 minutes\n",
      "374/374 [==============================] - 0s 908us/step\n",
      "934/934 [==============================] - 1s 948us/step\n",
      "3357/3357 [==============================] - 3s 891us/step\n",
      "/home/rick/Documents/HannahZ/Code/logs\n",
      " - Model specifics:\tbatch size: 64, mode: triangular, stepsize: 315, base-lr: 1e-05, max-lr 0.0002, *1\n",
      "Time usage: 0:01:54 minutes\n",
      "374/374 [==============================] - 0s 930us/step\n",
      "934/934 [==============================] - 1s 933us/step\n",
      "3357/3357 [==============================] - 3s 904us/step\n",
      " - Model specifics:\tbatch size: 64, mode: triangular, stepsize: 315, base-lr: 1e-05, max-lr 0.0002, *1\n",
      "Time usage: 0:01:47 minutes\n",
      "374/374 [==============================] - 0s 874us/step\n",
      "934/934 [==============================] - 1s 906us/step\n",
      "3357/3357 [==============================] - 3s 878us/step\n",
      "/home/rick/Documents/HannahZ/Code/logs\n",
      " - Model specifics:\tbatch size: 64, mode: triangular, stepsize: 315, base-lr: 1e-05, max-lr 0.0002, *2\n",
      "Time usage: 0:01:54 minutes\n",
      "374/374 [==============================] - 0s 878us/step\n",
      "934/934 [==============================] - 1s 935us/step\n",
      "3357/3357 [==============================] - 3s 880us/step\n",
      " - Model specifics:\tbatch size: 64, mode: triangular, stepsize: 315, base-lr: 1e-05, max-lr 0.0002, *2\n",
      "Time usage: 0:01:48 minutes\n",
      "374/374 [==============================] - 0s 929us/step\n",
      "934/934 [==============================] - 1s 953us/step\n",
      "3357/3357 [==============================] - 3s 885us/step\n",
      "/home/rick/Documents/HannahZ/Code/logs\n",
      " - Model specifics:\tbatch size: 64, mode: triangular, stepsize: 315, base-lr: 1e-05, max-lr 0.0002, *3\n"
     ]
    },
    {
     "name": "stderr",
     "output_type": "stream",
     "text": [
      "/home/rick/.conda/envs/hannah_z/lib/python2.7/site-packages/keras/callbacks.py:120: UserWarning: Method on_batch_end() is slow compared to the batch update (0.114923). Check your callbacks.\n",
      "  % delta_t_median)\n"
     ]
    },
    {
     "name": "stdout",
     "output_type": "stream",
     "text": [
      "Time usage: 0:01:56 minutes\n",
      "374/374 [==============================] - 0s 931us/step\n",
      "934/934 [==============================] - 1s 948us/step\n",
      "3357/3357 [==============================] - 3s 873us/step\n",
      " - Model specifics:\tbatch size: 64, mode: triangular, stepsize: 315, base-lr: 1e-05, max-lr 0.0002, *3\n",
      "Time usage: 0:01:49 minutes\n",
      "374/374 [==============================] - 0s 948us/step\n",
      "934/934 [==============================] - 1s 931us/step\n",
      "3357/3357 [==============================] - 3s 898us/step\n",
      "/home/rick/Documents/HannahZ/Code/logs\n",
      " - Model specifics:\tbatch size: 64, mode: triangular, stepsize: 315, base-lr: 1e-05, max-lr 0.0002, *4\n",
      "Time usage: 0:01:54 minutes\n",
      "374/374 [==============================] - 0s 882us/step\n",
      "934/934 [==============================] - 1s 963us/step\n",
      "3357/3357 [==============================] - 3s 869us/step\n",
      " - Model specifics:\tbatch size: 64, mode: triangular, stepsize: 315, base-lr: 1e-05, max-lr 0.0002, *4\n",
      "Time usage: 0:01:48 minutes\n",
      "374/374 [==============================] - 0s 937us/step\n",
      "934/934 [==============================] - 1s 923us/step\n",
      "3357/3357 [==============================] - 3s 896us/step\n",
      "/home/rick/Documents/HannahZ/Code/logs\n",
      "Time usage: 0:19:22 minutes\n",
      " - Model specifics:\tbatch size: 64, mode: triangular2, stepsize: 315, base-lr: 1e-05, max-lr 0.0002, *0\n"
     ]
    },
    {
     "name": "stderr",
     "output_type": "stream",
     "text": [
      "/home/rick/.conda/envs/hannah_z/lib/python2.7/site-packages/keras/callbacks.py:120: UserWarning: Method on_batch_end() is slow compared to the batch update (0.109128). Check your callbacks.\n",
      "  % delta_t_median)\n"
     ]
    },
    {
     "name": "stdout",
     "output_type": "stream",
     "text": [
      "Time usage: 0:02:03 minutes\n",
      "374/374 [==============================] - 0s 891us/step\n",
      "934/934 [==============================] - 1s 918us/step\n",
      "3357/3357 [==============================] - 3s 890us/step\n",
      " - Model specifics:\tbatch size: 64, mode: triangular2, stepsize: 315, base-lr: 1e-05, max-lr 0.0002, *0\n",
      "Time usage: 0:01:47 minutes\n",
      "374/374 [==============================] - 0s 908us/step\n",
      "934/934 [==============================] - 1s 951us/step\n",
      "3357/3357 [==============================] - 3s 877us/step\n",
      "/home/rick/Documents/HannahZ/Code/logs\n",
      " - Model specifics:\tbatch size: 64, mode: triangular2, stepsize: 315, base-lr: 1e-05, max-lr 0.0002, *1\n"
     ]
    },
    {
     "name": "stderr",
     "output_type": "stream",
     "text": [
      "/home/rick/.conda/envs/hannah_z/lib/python2.7/site-packages/keras/callbacks.py:120: UserWarning: Method on_batch_end() is slow compared to the batch update (0.111719). Check your callbacks.\n",
      "  % delta_t_median)\n"
     ]
    },
    {
     "name": "stdout",
     "output_type": "stream",
     "text": [
      "Time usage: 0:01:55 minutes\n",
      "374/374 [==============================] - 0s 880us/step\n",
      "934/934 [==============================] - 1s 966us/step\n",
      "3357/3357 [==============================] - 3s 878us/step\n",
      " - Model specifics:\tbatch size: 64, mode: triangular2, stepsize: 315, base-lr: 1e-05, max-lr 0.0002, *1\n",
      "Time usage: 0:01:47 minutes\n",
      "374/374 [==============================] - 0s 873us/step\n",
      "934/934 [==============================] - 1s 917us/step\n",
      "3357/3357 [==============================] - 3s 882us/step\n",
      "/home/rick/Documents/HannahZ/Code/logs\n",
      " - Model specifics:\tbatch size: 64, mode: triangular2, stepsize: 315, base-lr: 1e-05, max-lr 0.0002, *2\n"
     ]
    },
    {
     "name": "stderr",
     "output_type": "stream",
     "text": [
      "/home/rick/.conda/envs/hannah_z/lib/python2.7/site-packages/keras/callbacks.py:120: UserWarning: Method on_batch_end() is slow compared to the batch update (0.110261). Check your callbacks.\n",
      "  % delta_t_median)\n"
     ]
    },
    {
     "name": "stdout",
     "output_type": "stream",
     "text": [
      "Time usage: 0:01:55 minutes\n",
      "374/374 [==============================] - 0s 892us/step\n",
      "934/934 [==============================] - 1s 907us/step\n",
      "3357/3357 [==============================] - 3s 896us/step\n",
      " - Model specifics:\tbatch size: 64, mode: triangular2, stepsize: 315, base-lr: 1e-05, max-lr 0.0002, *2\n",
      "Time usage: 0:01:48 minutes\n",
      "374/374 [==============================] - 0s 872us/step\n",
      "934/934 [==============================] - 1s 929us/step\n",
      "3357/3357 [==============================] - 3s 894us/step\n",
      "/home/rick/Documents/HannahZ/Code/logs\n",
      " - Model specifics:\tbatch size: 64, mode: triangular2, stepsize: 315, base-lr: 1e-05, max-lr 0.0002, *3\n"
     ]
    },
    {
     "name": "stderr",
     "output_type": "stream",
     "text": [
      "/home/rick/.conda/envs/hannah_z/lib/python2.7/site-packages/keras/callbacks.py:120: UserWarning: Method on_batch_end() is slow compared to the batch update (0.108492). Check your callbacks.\n",
      "  % delta_t_median)\n"
     ]
    },
    {
     "name": "stdout",
     "output_type": "stream",
     "text": [
      "Time usage: 0:01:55 minutes\n",
      "374/374 [==============================] - 0s 927us/step\n",
      "934/934 [==============================] - 1s 939us/step\n",
      "3357/3357 [==============================] - 3s 881us/step\n",
      " - Model specifics:\tbatch size: 64, mode: triangular2, stepsize: 315, base-lr: 1e-05, max-lr 0.0002, *3\n",
      "Time usage: 0:01:48 minutes\n",
      "374/374 [==============================] - 0s 919us/step\n",
      "934/934 [==============================] - 1s 977us/step\n",
      "3357/3357 [==============================] - 3s 901us/step\n",
      "/home/rick/Documents/HannahZ/Code/logs\n",
      " - Model specifics:\tbatch size: 64, mode: triangular2, stepsize: 315, base-lr: 1e-05, max-lr 0.0002, *4\n"
     ]
    },
    {
     "name": "stderr",
     "output_type": "stream",
     "text": [
      "/home/rick/.conda/envs/hannah_z/lib/python2.7/site-packages/keras/callbacks.py:120: UserWarning: Method on_batch_end() is slow compared to the batch update (0.110097). Check your callbacks.\n",
      "  % delta_t_median)\n"
     ]
    },
    {
     "name": "stdout",
     "output_type": "stream",
     "text": [
      "Time usage: 0:01:56 minutes\n",
      "374/374 [==============================] - 0s 941us/step\n",
      "934/934 [==============================] - 1s 925us/step\n",
      "3357/3357 [==============================] - 3s 888us/step\n",
      " - Model specifics:\tbatch size: 64, mode: triangular2, stepsize: 315, base-lr: 1e-05, max-lr 0.0002, *4\n",
      "Time usage: 0:01:49 minutes\n",
      "374/374 [==============================] - 0s 914us/step\n",
      "934/934 [==============================] - 1s 946us/step\n",
      "3357/3357 [==============================] - 3s 904us/step\n",
      "/home/rick/Documents/HannahZ/Code/logs\n",
      "Time usage: 0:19:25 minutes\n",
      " - Model specifics:\tbatch size: 64, mode: triangular, stepsize: 420, base-lr: 1e-05, max-lr 0.0002, *0\n"
     ]
    },
    {
     "name": "stderr",
     "output_type": "stream",
     "text": [
      "/home/rick/.conda/envs/hannah_z/lib/python2.7/site-packages/keras/callbacks.py:120: UserWarning: Method on_batch_end() is slow compared to the batch update (0.141986). Check your callbacks.\n",
      "  % delta_t_median)\n"
     ]
    },
    {
     "name": "stdout",
     "output_type": "stream",
     "text": [
      "Time usage: 0:01:57 minutes\n",
      "374/374 [==============================] - 0s 942us/step\n",
      "934/934 [==============================] - 1s 985us/step\n",
      "3357/3357 [==============================] - 3s 882us/step\n",
      " - Model specifics:\tbatch size: 64, mode: triangular, stepsize: 420, base-lr: 1e-05, max-lr 0.0002, *0\n",
      "Time usage: 0:01:48 minutes\n",
      "374/374 [==============================] - 0s 890us/step\n",
      "934/934 [==============================] - 1s 987us/step\n",
      "3357/3357 [==============================] - 3s 885us/step\n",
      "/home/rick/Documents/HannahZ/Code/logs\n",
      " - Model specifics:\tbatch size: 64, mode: triangular, stepsize: 420, base-lr: 1e-05, max-lr 0.0002, *1\n"
     ]
    },
    {
     "name": "stderr",
     "output_type": "stream",
     "text": [
      "/home/rick/.conda/envs/hannah_z/lib/python2.7/site-packages/keras/callbacks.py:120: UserWarning: Method on_batch_end() is slow compared to the batch update (0.132865). Check your callbacks.\n",
      "  % delta_t_median)\n"
     ]
    },
    {
     "name": "stdout",
     "output_type": "stream",
     "text": [
      "Time usage: 0:01:57 minutes\n",
      "374/374 [==============================] - 0s 914us/step\n",
      "934/934 [==============================] - 1s 936us/step\n",
      "3357/3357 [==============================] - 3s 901us/step\n",
      " - Model specifics:\tbatch size: 64, mode: triangular, stepsize: 420, base-lr: 1e-05, max-lr 0.0002, *1\n",
      "Time usage: 0:01:49 minutes\n",
      "374/374 [==============================] - 0s 932us/step\n",
      "934/934 [==============================] - 1s 944us/step\n",
      "3357/3357 [==============================] - 3s 917us/step\n",
      "/home/rick/Documents/HannahZ/Code/logs\n",
      " - Model specifics:\tbatch size: 64, mode: triangular, stepsize: 420, base-lr: 1e-05, max-lr 0.0002, *2\n"
     ]
    },
    {
     "name": "stderr",
     "output_type": "stream",
     "text": [
      "/home/rick/.conda/envs/hannah_z/lib/python2.7/site-packages/keras/callbacks.py:120: UserWarning: Method on_batch_end() is slow compared to the batch update (0.123158). Check your callbacks.\n",
      "  % delta_t_median)\n"
     ]
    },
    {
     "name": "stdout",
     "output_type": "stream",
     "text": [
      "Time usage: 0:01:54 minutes\n",
      "374/374 [==============================] - 0s 886us/step\n",
      "934/934 [==============================] - 1s 893us/step\n",
      "3357/3357 [==============================] - 3s 882us/step\n",
      " - Model specifics:\tbatch size: 64, mode: triangular, stepsize: 420, base-lr: 1e-05, max-lr 0.0002, *2\n",
      "Time usage: 0:01:47 minutes\n",
      "374/374 [==============================] - 0s 912us/step\n",
      "934/934 [==============================] - 1s 936us/step\n",
      "3357/3357 [==============================] - 3s 876us/step\n",
      "/home/rick/Documents/HannahZ/Code/logs\n",
      " - Model specifics:\tbatch size: 64, mode: triangular, stepsize: 420, base-lr: 1e-05, max-lr 0.0002, *3\n"
     ]
    },
    {
     "name": "stderr",
     "output_type": "stream",
     "text": [
      "/home/rick/.conda/envs/hannah_z/lib/python2.7/site-packages/keras/callbacks.py:120: UserWarning: Method on_batch_end() is slow compared to the batch update (0.115515). Check your callbacks.\n",
      "  % delta_t_median)\n"
     ]
    },
    {
     "name": "stdout",
     "output_type": "stream",
     "text": [
      "Time usage: 0:01:55 minutes\n",
      "374/374 [==============================] - 0s 895us/step\n",
      "934/934 [==============================] - 1s 905us/step\n",
      "3357/3357 [==============================] - 3s 887us/step\n",
      " - Model specifics:\tbatch size: 64, mode: triangular, stepsize: 420, base-lr: 1e-05, max-lr 0.0002, *3\n",
      "Time usage: 0:01:48 minutes\n",
      "374/374 [==============================] - 0s 884us/step\n",
      "934/934 [==============================] - 1s 970us/step\n",
      "3357/3357 [==============================] - 3s 885us/step\n",
      "/home/rick/Documents/HannahZ/Code/logs\n",
      " - Model specifics:\tbatch size: 64, mode: triangular, stepsize: 420, base-lr: 1e-05, max-lr 0.0002, *4\n"
     ]
    },
    {
     "name": "stderr",
     "output_type": "stream",
     "text": [
      "/home/rick/.conda/envs/hannah_z/lib/python2.7/site-packages/keras/callbacks.py:120: UserWarning: Method on_batch_end() is slow compared to the batch update (0.114581). Check your callbacks.\n",
      "  % delta_t_median)\n"
     ]
    },
    {
     "name": "stdout",
     "output_type": "stream",
     "text": [
      "Time usage: 0:01:55 minutes\n",
      "374/374 [==============================] - 0s 929us/step\n",
      "934/934 [==============================] - 1s 918us/step\n",
      "3357/3357 [==============================] - 3s 890us/step\n",
      " - Model specifics:\tbatch size: 64, mode: triangular, stepsize: 420, base-lr: 1e-05, max-lr 0.0002, *4\n",
      "Time usage: 0:01:49 minutes\n",
      "374/374 [==============================] - 0s 911us/step\n",
      "934/934 [==============================] - 1s 921us/step\n",
      "3357/3357 [==============================] - 3s 895us/step\n",
      "/home/rick/Documents/HannahZ/Code/logs\n",
      "Time usage: 0:19:24 minutes\n",
      " - Model specifics:\tbatch size: 64, mode: triangular2, stepsize: 420, base-lr: 1e-05, max-lr 0.0002, *0\n"
     ]
    },
    {
     "name": "stderr",
     "output_type": "stream",
     "text": [
      "/home/rick/.conda/envs/hannah_z/lib/python2.7/site-packages/keras/callbacks.py:120: UserWarning: Method on_batch_end() is slow compared to the batch update (0.110769). Check your callbacks.\n",
      "  % delta_t_median)\n"
     ]
    },
    {
     "name": "stdout",
     "output_type": "stream",
     "text": [
      "Time usage: 0:01:56 minutes\n",
      "374/374 [==============================] - 0s 917us/step\n",
      "934/934 [==============================] - 1s 918us/step\n",
      "3357/3357 [==============================] - 3s 895us/step\n",
      " - Model specifics:\tbatch size: 64, mode: triangular2, stepsize: 420, base-lr: 1e-05, max-lr 0.0002, *0\n",
      "Time usage: 0:01:48 minutes\n",
      "374/374 [==============================] - 0s 906us/step\n",
      "934/934 [==============================] - 1s 948us/step\n",
      "3357/3357 [==============================] - 3s 876us/step\n",
      "/home/rick/Documents/HannahZ/Code/logs\n",
      " - Model specifics:\tbatch size: 64, mode: triangular2, stepsize: 420, base-lr: 1e-05, max-lr 0.0002, *1\n"
     ]
    },
    {
     "name": "stderr",
     "output_type": "stream",
     "text": [
      "/home/rick/.conda/envs/hannah_z/lib/python2.7/site-packages/keras/callbacks.py:120: UserWarning: Method on_batch_end() is slow compared to the batch update (0.111811). Check your callbacks.\n",
      "  % delta_t_median)\n"
     ]
    },
    {
     "name": "stdout",
     "output_type": "stream",
     "text": [
      "Time usage: 0:01:55 minutes\n",
      "374/374 [==============================] - 0s 928us/step\n",
      "934/934 [==============================] - 1s 945us/step\n",
      "3357/3357 [==============================] - 3s 892us/step\n",
      " - Model specifics:\tbatch size: 64, mode: triangular2, stepsize: 420, base-lr: 1e-05, max-lr 0.0002, *1\n",
      "Time usage: 0:01:48 minutes\n",
      "374/374 [==============================] - 0s 907us/step\n",
      "934/934 [==============================] - 1s 960us/step\n",
      "3357/3357 [==============================] - 3s 872us/step\n",
      "/home/rick/Documents/HannahZ/Code/logs\n",
      " - Model specifics:\tbatch size: 64, mode: triangular2, stepsize: 420, base-lr: 1e-05, max-lr 0.0002, *2\n"
     ]
    },
    {
     "name": "stderr",
     "output_type": "stream",
     "text": [
      "/home/rick/.conda/envs/hannah_z/lib/python2.7/site-packages/keras/callbacks.py:120: UserWarning: Method on_batch_end() is slow compared to the batch update (0.115171). Check your callbacks.\n",
      "  % delta_t_median)\n"
     ]
    },
    {
     "name": "stdout",
     "output_type": "stream",
     "text": [
      "Time usage: 0:01:56 minutes\n",
      "374/374 [==============================] - 0s 946us/step\n",
      "934/934 [==============================] - 1s 940us/step\n",
      "3357/3357 [==============================] - 3s 899us/step\n",
      " - Model specifics:\tbatch size: 64, mode: triangular2, stepsize: 420, base-lr: 1e-05, max-lr 0.0002, *2\n",
      "Time usage: 0:01:49 minutes\n",
      "374/374 [==============================] - 0s 917us/step\n",
      "934/934 [==============================] - 1s 966us/step\n",
      "3357/3357 [==============================] - 3s 883us/step\n",
      "/home/rick/Documents/HannahZ/Code/logs\n",
      " - Model specifics:\tbatch size: 64, mode: triangular2, stepsize: 420, base-lr: 1e-05, max-lr 0.0002, *3\n"
     ]
    },
    {
     "name": "stderr",
     "output_type": "stream",
     "text": [
      "/home/rick/.conda/envs/hannah_z/lib/python2.7/site-packages/keras/callbacks.py:120: UserWarning: Method on_batch_end() is slow compared to the batch update (0.115445). Check your callbacks.\n",
      "  % delta_t_median)\n"
     ]
    },
    {
     "name": "stdout",
     "output_type": "stream",
     "text": [
      "Time usage: 0:01:56 minutes\n",
      "374/374 [==============================] - 0s 976us/step\n",
      "934/934 [==============================] - 1s 933us/step\n",
      "3357/3357 [==============================] - 3s 893us/step\n",
      " - Model specifics:\tbatch size: 64, mode: triangular2, stepsize: 420, base-lr: 1e-05, max-lr 0.0002, *3\n",
      "Time usage: 0:01:49 minutes\n",
      "374/374 [==============================] - 0s 916us/step\n",
      "934/934 [==============================] - 1s 941us/step\n",
      "3357/3357 [==============================] - 3s 876us/step\n",
      "/home/rick/Documents/HannahZ/Code/logs\n",
      " - Model specifics:\tbatch size: 64, mode: triangular2, stepsize: 420, base-lr: 1e-05, max-lr 0.0002, *4\n"
     ]
    },
    {
     "name": "stderr",
     "output_type": "stream",
     "text": [
      "/home/rick/.conda/envs/hannah_z/lib/python2.7/site-packages/keras/callbacks.py:120: UserWarning: Method on_batch_end() is slow compared to the batch update (0.117737). Check your callbacks.\n",
      "  % delta_t_median)\n"
     ]
    },
    {
     "name": "stdout",
     "output_type": "stream",
     "text": [
      "Time usage: 0:01:55 minutes\n",
      "374/374 [==============================] - 0s 925us/step\n",
      "934/934 [==============================] - 1s 912us/step\n",
      "3357/3357 [==============================] - 3s 878us/step\n",
      " - Model specifics:\tbatch size: 64, mode: triangular2, stepsize: 420, base-lr: 1e-05, max-lr 0.0002, *4\n",
      "Time usage: 0:01:48 minutes\n",
      "374/374 [==============================] - 0s 932us/step\n",
      "934/934 [==============================] - 1s 948us/step\n",
      "3357/3357 [==============================] - 3s 881us/step\n",
      "/home/rick/Documents/HannahZ/Code/logs\n",
      "Time usage: 0:19:24 minutes\n",
      " - Model specifics:\tbatch size: 64, mode: triangular, stepsize: 525, base-lr: 1e-05, max-lr 0.0002, *0\n"
     ]
    },
    {
     "name": "stderr",
     "output_type": "stream",
     "text": [
      "/home/rick/.conda/envs/hannah_z/lib/python2.7/site-packages/keras/callbacks.py:120: UserWarning: Method on_batch_end() is slow compared to the batch update (0.120314). Check your callbacks.\n",
      "  % delta_t_median)\n"
     ]
    },
    {
     "name": "stdout",
     "output_type": "stream",
     "text": [
      "Time usage: 0:01:56 minutes\n",
      "374/374 [==============================] - 0s 895us/step\n",
      "934/934 [==============================] - 1s 898us/step\n",
      "3357/3357 [==============================] - 3s 884us/step\n",
      " - Model specifics:\tbatch size: 64, mode: triangular, stepsize: 525, base-lr: 1e-05, max-lr 0.0002, *0\n",
      "Time usage: 0:01:48 minutes\n",
      "374/374 [==============================] - 0s 931us/step\n",
      "934/934 [==============================] - 1s 943us/step\n",
      "3357/3357 [==============================] - 3s 894us/step\n",
      "/home/rick/Documents/HannahZ/Code/logs\n",
      " - Model specifics:\tbatch size: 64, mode: triangular, stepsize: 525, base-lr: 1e-05, max-lr 0.0002, *1\n"
     ]
    },
    {
     "name": "stderr",
     "output_type": "stream",
     "text": [
      "/home/rick/.conda/envs/hannah_z/lib/python2.7/site-packages/keras/callbacks.py:120: UserWarning: Method on_batch_end() is slow compared to the batch update (0.120503). Check your callbacks.\n",
      "  % delta_t_median)\n"
     ]
    },
    {
     "name": "stdout",
     "output_type": "stream",
     "text": [
      "Time usage: 0:01:56 minutes\n",
      "374/374 [==============================] - 0s 897us/step\n",
      "934/934 [==============================] - 1s 898us/step\n",
      "3357/3357 [==============================] - 3s 888us/step\n",
      " - Model specifics:\tbatch size: 64, mode: triangular, stepsize: 525, base-lr: 1e-05, max-lr 0.0002, *1\n",
      "Time usage: 0:01:48 minutes\n",
      "374/374 [==============================] - 0s 931us/step\n",
      "934/934 [==============================] - 1s 930us/step\n",
      "3357/3357 [==============================] - 3s 1ms/step\n",
      "/home/rick/Documents/HannahZ/Code/logs\n",
      " - Model specifics:\tbatch size: 64, mode: triangular, stepsize: 525, base-lr: 1e-05, max-lr 0.0002, *2\n"
     ]
    },
    {
     "name": "stderr",
     "output_type": "stream",
     "text": [
      "/home/rick/.conda/envs/hannah_z/lib/python2.7/site-packages/keras/callbacks.py:120: UserWarning: Method on_batch_end() is slow compared to the batch update (0.119559). Check your callbacks.\n",
      "  % delta_t_median)\n"
     ]
    },
    {
     "name": "stdout",
     "output_type": "stream",
     "text": [
      "Time usage: 0:01:56 minutes\n",
      "374/374 [==============================] - 0s 958us/step\n",
      "934/934 [==============================] - 1s 916us/step\n",
      "3357/3357 [==============================] - 3s 887us/step\n",
      " - Model specifics:\tbatch size: 64, mode: triangular, stepsize: 525, base-lr: 1e-05, max-lr 0.0002, *2\n",
      "Time usage: 0:01:49 minutes\n",
      "374/374 [==============================] - 0s 875us/step\n",
      "934/934 [==============================] - 1s 926us/step\n",
      "3357/3357 [==============================] - 3s 885us/step\n",
      "/home/rick/Documents/HannahZ/Code/logs\n",
      " - Model specifics:\tbatch size: 64, mode: triangular, stepsize: 525, base-lr: 1e-05, max-lr 0.0002, *3\n"
     ]
    },
    {
     "name": "stderr",
     "output_type": "stream",
     "text": [
      "/home/rick/.conda/envs/hannah_z/lib/python2.7/site-packages/keras/callbacks.py:120: UserWarning: Method on_batch_end() is slow compared to the batch update (0.119684). Check your callbacks.\n",
      "  % delta_t_median)\n"
     ]
    },
    {
     "name": "stdout",
     "output_type": "stream",
     "text": [
      "Time usage: 0:01:56 minutes\n",
      "374/374 [==============================] - 0s 891us/step\n",
      "934/934 [==============================] - 1s 971us/step\n",
      "3357/3357 [==============================] - 3s 882us/step\n",
      " - Model specifics:\tbatch size: 64, mode: triangular, stepsize: 525, base-lr: 1e-05, max-lr 0.0002, *3\n",
      "Time usage: 0:01:48 minutes\n",
      "374/374 [==============================] - 0s 924us/step\n",
      "934/934 [==============================] - 1s 883us/step\n",
      "3357/3357 [==============================] - 3s 893us/step\n",
      "/home/rick/Documents/HannahZ/Code/logs\n",
      " - Model specifics:\tbatch size: 64, mode: triangular, stepsize: 525, base-lr: 1e-05, max-lr 0.0002, *4\n"
     ]
    },
    {
     "name": "stderr",
     "output_type": "stream",
     "text": [
      "/home/rick/.conda/envs/hannah_z/lib/python2.7/site-packages/keras/callbacks.py:120: UserWarning: Method on_batch_end() is slow compared to the batch update (0.116666). Check your callbacks.\n",
      "  % delta_t_median)\n"
     ]
    },
    {
     "name": "stdout",
     "output_type": "stream",
     "text": [
      "Time usage: 0:01:55 minutes\n",
      "374/374 [==============================] - 0s 989us/step\n",
      "934/934 [==============================] - 1s 975us/step\n",
      "3357/3357 [==============================] - 3s 912us/step\n",
      " - Model specifics:\tbatch size: 64, mode: triangular, stepsize: 525, base-lr: 1e-05, max-lr 0.0002, *4\n",
      "Time usage: 0:01:48 minutes\n",
      "374/374 [==============================] - 0s 929us/step\n",
      "934/934 [==============================] - 1s 895us/step\n",
      "3357/3357 [==============================] - 3s 893us/step\n",
      "/home/rick/Documents/HannahZ/Code/logs\n",
      "Time usage: 0:19:24 minutes\n",
      " - Model specifics:\tbatch size: 64, mode: triangular2, stepsize: 525, base-lr: 1e-05, max-lr 0.0002, *0\n"
     ]
    },
    {
     "name": "stderr",
     "output_type": "stream",
     "text": [
      "/home/rick/.conda/envs/hannah_z/lib/python2.7/site-packages/keras/callbacks.py:120: UserWarning: Method on_batch_end() is slow compared to the batch update (0.121639). Check your callbacks.\n",
      "  % delta_t_median)\n"
     ]
    },
    {
     "name": "stdout",
     "output_type": "stream",
     "text": [
      "Time usage: 0:01:57 minutes\n",
      "374/374 [==============================] - 0s 934us/step\n",
      "934/934 [==============================] - 1s 915us/step\n",
      "3357/3357 [==============================] - 3s 900us/step\n",
      " - Model specifics:\tbatch size: 64, mode: triangular2, stepsize: 525, base-lr: 1e-05, max-lr 0.0002, *0\n",
      "Time usage: 0:01:48 minutes\n",
      "374/374 [==============================] - 0s 931us/step\n",
      "934/934 [==============================] - 1s 974us/step\n",
      "3357/3357 [==============================] - 3s 894us/step\n",
      "/home/rick/Documents/HannahZ/Code/logs\n",
      " - Model specifics:\tbatch size: 64, mode: triangular2, stepsize: 525, base-lr: 1e-05, max-lr 0.0002, *1\n"
     ]
    },
    {
     "name": "stderr",
     "output_type": "stream",
     "text": [
      "/home/rick/.conda/envs/hannah_z/lib/python2.7/site-packages/keras/callbacks.py:120: UserWarning: Method on_batch_end() is slow compared to the batch update (0.185688). Check your callbacks.\n",
      "  % delta_t_median)\n"
     ]
    },
    {
     "name": "stdout",
     "output_type": "stream",
     "text": [
      "Time usage: 0:02:01 minutes\n",
      "374/374 [==============================] - 0s 976us/step\n",
      "934/934 [==============================] - 1s 917us/step\n",
      "3357/3357 [==============================] - 3s 911us/step\n",
      " - Model specifics:\tbatch size: 64, mode: triangular2, stepsize: 525, base-lr: 1e-05, max-lr 0.0002, *1\n",
      "Time usage: 0:01:51 minutes\n",
      "374/374 [==============================] - 0s 888us/step\n",
      "934/934 [==============================] - 1s 962us/step\n",
      "3357/3357 [==============================] - 3s 882us/step\n",
      "/home/rick/Documents/HannahZ/Code/logs\n",
      " - Model specifics:\tbatch size: 64, mode: triangular2, stepsize: 525, base-lr: 1e-05, max-lr 0.0002, *2\n"
     ]
    },
    {
     "name": "stderr",
     "output_type": "stream",
     "text": [
      "/home/rick/.conda/envs/hannah_z/lib/python2.7/site-packages/keras/callbacks.py:120: UserWarning: Method on_batch_end() is slow compared to the batch update (0.168212). Check your callbacks.\n",
      "  % delta_t_median)\n"
     ]
    },
    {
     "name": "stdout",
     "output_type": "stream",
     "text": [
      "Time usage: 0:01:57 minutes\n",
      "374/374 [==============================] - 0s 942us/step\n",
      "934/934 [==============================] - 1s 948us/step\n",
      "3357/3357 [==============================] - 3s 893us/step\n",
      " - Model specifics:\tbatch size: 64, mode: triangular2, stepsize: 525, base-lr: 1e-05, max-lr 0.0002, *2\n",
      "Time usage: 0:01:48 minutes\n",
      "374/374 [==============================] - 0s 920us/step\n",
      "934/934 [==============================] - 1s 924us/step\n",
      "3357/3357 [==============================] - 3s 900us/step\n",
      "/home/rick/Documents/HannahZ/Code/logs\n",
      " - Model specifics:\tbatch size: 64, mode: triangular2, stepsize: 525, base-lr: 1e-05, max-lr 0.0002, *3\n"
     ]
    },
    {
     "name": "stderr",
     "output_type": "stream",
     "text": [
      "/home/rick/.conda/envs/hannah_z/lib/python2.7/site-packages/keras/callbacks.py:120: UserWarning: Method on_batch_end() is slow compared to the batch update (0.159561). Check your callbacks.\n",
      "  % delta_t_median)\n"
     ]
    },
    {
     "name": "stdout",
     "output_type": "stream",
     "text": [
      "Time usage: 0:01:57 minutes\n",
      "374/374 [==============================] - 0s 928us/step\n",
      "934/934 [==============================] - 1s 949us/step\n",
      "3357/3357 [==============================] - 3s 902us/step\n",
      " - Model specifics:\tbatch size: 64, mode: triangular2, stepsize: 525, base-lr: 1e-05, max-lr 0.0002, *3\n",
      "Time usage: 0:01:48 minutes\n",
      "374/374 [==============================] - 0s 901us/step\n",
      "934/934 [==============================] - 1s 904us/step\n",
      "3357/3357 [==============================] - 3s 902us/step\n",
      "/home/rick/Documents/HannahZ/Code/logs\n",
      " - Model specifics:\tbatch size: 64, mode: triangular2, stepsize: 525, base-lr: 1e-05, max-lr 0.0002, *4\n"
     ]
    },
    {
     "name": "stderr",
     "output_type": "stream",
     "text": [
      "/home/rick/.conda/envs/hannah_z/lib/python2.7/site-packages/keras/callbacks.py:120: UserWarning: Method on_batch_end() is slow compared to the batch update (0.152992). Check your callbacks.\n",
      "  % delta_t_median)\n"
     ]
    },
    {
     "name": "stdout",
     "output_type": "stream",
     "text": [
      "Time usage: 0:01:56 minutes\n",
      "374/374 [==============================] - 0s 982us/step\n",
      "934/934 [==============================] - 1s 909us/step\n",
      "3357/3357 [==============================] - 3s 894us/step\n",
      " - Model specifics:\tbatch size: 64, mode: triangular2, stepsize: 525, base-lr: 1e-05, max-lr 0.0002, *4\n",
      "Time usage: 0:01:48 minutes\n",
      "374/374 [==============================] - 0s 939us/step\n",
      "934/934 [==============================] - 1s 991us/step\n",
      "3357/3357 [==============================] - 3s 901us/step\n",
      "/home/rick/Documents/HannahZ/Code/logs\n",
      "Time usage: 0:19:35 minutes\n",
      " - Model specifics:\tbatch size: 128, mode: triangular, stepsize: 157, base-lr: 1e-05, max-lr 0.0002, *0\n"
     ]
    },
    {
     "name": "stderr",
     "output_type": "stream",
     "text": [
      "/home/rick/.conda/envs/hannah_z/lib/python2.7/site-packages/keras/callbacks.py:120: UserWarning: Method on_batch_end() is slow compared to the batch update (0.140360). Check your callbacks.\n",
      "  % delta_t_median)\n"
     ]
    },
    {
     "name": "stdout",
     "output_type": "stream",
     "text": [
      "Time usage: 0:01:29 minutes\n",
      "374/374 [==============================] - 0s 940us/step\n",
      "934/934 [==============================] - 1s 918us/step\n",
      "3357/3357 [==============================] - 3s 915us/step\n",
      " - Model specifics:\tbatch size: 128, mode: triangular, stepsize: 157, base-lr: 1e-05, max-lr 0.0002, *0\n",
      "Time usage: 0:01:19 minutes\n",
      "374/374 [==============================] - 0s 942us/step\n",
      "934/934 [==============================] - 1s 964us/step\n",
      "3357/3357 [==============================] - 3s 894us/step\n",
      "/home/rick/Documents/HannahZ/Code/logs\n",
      " - Model specifics:\tbatch size: 128, mode: triangular, stepsize: 157, base-lr: 1e-05, max-lr 0.0002, *1\n"
     ]
    },
    {
     "name": "stderr",
     "output_type": "stream",
     "text": [
      "/home/rick/.conda/envs/hannah_z/lib/python2.7/site-packages/keras/callbacks.py:120: UserWarning: Method on_batch_end() is slow compared to the batch update (0.134736). Check your callbacks.\n",
      "  % delta_t_median)\n"
     ]
    },
    {
     "name": "stdout",
     "output_type": "stream",
     "text": [
      "Time usage: 0:01:27 minutes\n",
      "374/374 [==============================] - 0s 930us/step\n",
      "934/934 [==============================] - 1s 975us/step\n",
      "3357/3357 [==============================] - 3s 884us/step\n",
      " - Model specifics:\tbatch size: 128, mode: triangular, stepsize: 157, base-lr: 1e-05, max-lr 0.0002, *1\n",
      "Time usage: 0:01:19 minutes\n",
      "374/374 [==============================] - 0s 939us/step\n",
      "934/934 [==============================] - 1s 945us/step\n",
      "3357/3357 [==============================] - 3s 912us/step\n",
      "/home/rick/Documents/HannahZ/Code/logs\n",
      " - Model specifics:\tbatch size: 128, mode: triangular, stepsize: 157, base-lr: 1e-05, max-lr 0.0002, *2\n"
     ]
    },
    {
     "name": "stderr",
     "output_type": "stream",
     "text": [
      "/home/rick/.conda/envs/hannah_z/lib/python2.7/site-packages/keras/callbacks.py:120: UserWarning: Method on_batch_end() is slow compared to the batch update (0.139079). Check your callbacks.\n",
      "  % delta_t_median)\n"
     ]
    },
    {
     "name": "stdout",
     "output_type": "stream",
     "text": [
      "Time usage: 0:01:27 minutes\n",
      "374/374 [==============================] - 0s 938us/step\n",
      "934/934 [==============================] - 1s 961us/step\n",
      "3357/3357 [==============================] - 3s 904us/step\n",
      " - Model specifics:\tbatch size: 128, mode: triangular, stepsize: 157, base-lr: 1e-05, max-lr 0.0002, *2\n",
      "Time usage: 0:01:19 minutes\n",
      "374/374 [==============================] - 0s 928us/step\n",
      "934/934 [==============================] - 1s 938us/step\n",
      "3357/3357 [==============================] - 3s 901us/step\n",
      "/home/rick/Documents/HannahZ/Code/logs\n",
      " - Model specifics:\tbatch size: 128, mode: triangular, stepsize: 157, base-lr: 1e-05, max-lr 0.0002, *3\n"
     ]
    },
    {
     "name": "stderr",
     "output_type": "stream",
     "text": [
      "/home/rick/.conda/envs/hannah_z/lib/python2.7/site-packages/keras/callbacks.py:120: UserWarning: Method on_batch_end() is slow compared to the batch update (0.140759). Check your callbacks.\n",
      "  % delta_t_median)\n"
     ]
    },
    {
     "name": "stdout",
     "output_type": "stream",
     "text": [
      "Time usage: 0:01:28 minutes\n",
      "374/374 [==============================] - 0s 987us/step\n",
      "934/934 [==============================] - 1s 916us/step\n",
      "3357/3357 [==============================] - 3s 899us/step\n",
      " - Model specifics:\tbatch size: 128, mode: triangular, stepsize: 157, base-lr: 1e-05, max-lr 0.0002, *3\n",
      "Time usage: 0:01:20 minutes\n",
      "374/374 [==============================] - 0s 984us/step\n",
      "934/934 [==============================] - 1s 1ms/step\n",
      "3357/3357 [==============================] - 3s 946us/step\n",
      "/home/rick/Documents/HannahZ/Code/logs\n",
      " - Model specifics:\tbatch size: 128, mode: triangular, stepsize: 157, base-lr: 1e-05, max-lr 0.0002, *4\n"
     ]
    },
    {
     "name": "stderr",
     "output_type": "stream",
     "text": [
      "/home/rick/.conda/envs/hannah_z/lib/python2.7/site-packages/keras/callbacks.py:120: UserWarning: Method on_batch_end() is slow compared to the batch update (0.130070). Check your callbacks.\n",
      "  % delta_t_median)\n"
     ]
    },
    {
     "name": "stdout",
     "output_type": "stream",
     "text": [
      "Time usage: 0:01:30 minutes\n",
      "374/374 [==============================] - 0s 1ms/step\n",
      "934/934 [==============================] - 1s 970us/step\n",
      "3357/3357 [==============================] - 3s 923us/step\n",
      " - Model specifics:\tbatch size: 128, mode: triangular, stepsize: 157, base-lr: 1e-05, max-lr 0.0002, *4\n",
      "Time usage: 0:01:21 minutes\n",
      "374/374 [==============================] - 0s 958us/step\n",
      "934/934 [==============================] - 1s 962us/step\n",
      "3357/3357 [==============================] - 3s 913us/step\n",
      "/home/rick/Documents/HannahZ/Code/logs\n",
      "Time usage: 0:14:42 minutes\n",
      " - Model specifics:\tbatch size: 128, mode: triangular2, stepsize: 157, base-lr: 1e-05, max-lr 0.0002, *0\n"
     ]
    },
    {
     "name": "stderr",
     "output_type": "stream",
     "text": [
      "/home/rick/.conda/envs/hannah_z/lib/python2.7/site-packages/keras/callbacks.py:120: UserWarning: Method on_batch_end() is slow compared to the batch update (0.200660). Check your callbacks.\n",
      "  % delta_t_median)\n"
     ]
    },
    {
     "name": "stdout",
     "output_type": "stream",
     "text": [
      "Time usage: 0:01:34 minutes\n",
      "374/374 [==============================] - 0s 963us/step\n",
      "934/934 [==============================] - 1s 1ms/step\n",
      "3357/3357 [==============================] - 3s 936us/step\n",
      " - Model specifics:\tbatch size: 128, mode: triangular2, stepsize: 157, base-lr: 1e-05, max-lr 0.0002, *0\n",
      "Time usage: 0:01:20 minutes\n",
      "374/374 [==============================] - 0s 933us/step\n",
      "934/934 [==============================] - 1s 1ms/step\n",
      "3357/3357 [==============================] - 3s 903us/step\n",
      "/home/rick/Documents/HannahZ/Code/logs\n",
      " - Model specifics:\tbatch size: 128, mode: triangular2, stepsize: 157, base-lr: 1e-05, max-lr 0.0002, *1\n"
     ]
    },
    {
     "name": "stderr",
     "output_type": "stream",
     "text": [
      "/home/rick/.conda/envs/hannah_z/lib/python2.7/site-packages/keras/callbacks.py:120: UserWarning: Method on_batch_end() is slow compared to the batch update (0.173141). Check your callbacks.\n",
      "  % delta_t_median)\n"
     ]
    },
    {
     "name": "stdout",
     "output_type": "stream",
     "text": [
      "Time usage: 0:01:28 minutes\n",
      "374/374 [==============================] - 0s 965us/step\n",
      "934/934 [==============================] - 1s 1000us/step\n",
      "3357/3357 [==============================] - 3s 905us/step\n",
      " - Model specifics:\tbatch size: 128, mode: triangular2, stepsize: 157, base-lr: 1e-05, max-lr 0.0002, *1\n",
      "Time usage: 0:01:19 minutes\n",
      "374/374 [==============================] - 0s 942us/step\n",
      "934/934 [==============================] - 1s 968us/step\n",
      "3357/3357 [==============================] - 3s 918us/step\n",
      "/home/rick/Documents/HannahZ/Code/logs\n",
      " - Model specifics:\tbatch size: 128, mode: triangular2, stepsize: 157, base-lr: 1e-05, max-lr 0.0002, *2\n"
     ]
    },
    {
     "name": "stderr",
     "output_type": "stream",
     "text": [
      "/home/rick/.conda/envs/hannah_z/lib/python2.7/site-packages/keras/callbacks.py:120: UserWarning: Method on_batch_end() is slow compared to the batch update (0.166238). Check your callbacks.\n",
      "  % delta_t_median)\n"
     ]
    },
    {
     "name": "stdout",
     "output_type": "stream",
     "text": [
      "Time usage: 0:01:28 minutes\n",
      "374/374 [==============================] - 0s 966us/step\n",
      "934/934 [==============================] - 1s 986us/step\n",
      "3357/3357 [==============================] - 3s 906us/step\n",
      " - Model specifics:\tbatch size: 128, mode: triangular2, stepsize: 157, base-lr: 1e-05, max-lr 0.0002, *2\n",
      "Time usage: 0:01:18 minutes\n",
      "374/374 [==============================] - 0s 955us/step\n",
      "934/934 [==============================] - 1s 961us/step\n",
      "3357/3357 [==============================] - 3s 927us/step\n",
      "/home/rick/Documents/HannahZ/Code/logs\n",
      " - Model specifics:\tbatch size: 128, mode: triangular2, stepsize: 157, base-lr: 1e-05, max-lr 0.0002, *3\n"
     ]
    },
    {
     "name": "stderr",
     "output_type": "stream",
     "text": [
      "/home/rick/.conda/envs/hannah_z/lib/python2.7/site-packages/keras/callbacks.py:120: UserWarning: Method on_batch_end() is slow compared to the batch update (0.154280). Check your callbacks.\n",
      "  % delta_t_median)\n"
     ]
    },
    {
     "name": "stdout",
     "output_type": "stream",
     "text": [
      "Time usage: 0:01:26 minutes\n",
      "374/374 [==============================] - 0s 962us/step\n",
      "934/934 [==============================] - 1s 960us/step\n",
      "3357/3357 [==============================] - 3s 903us/step\n",
      " - Model specifics:\tbatch size: 128, mode: triangular2, stepsize: 157, base-lr: 1e-05, max-lr 0.0002, *3\n",
      "Time usage: 0:01:17 minutes\n",
      "374/374 [==============================] - 0s 918us/step\n",
      "934/934 [==============================] - 1s 934us/step\n",
      "3357/3357 [==============================] - 3s 890us/step\n",
      "/home/rick/Documents/HannahZ/Code/logs\n",
      " - Model specifics:\tbatch size: 128, mode: triangular2, stepsize: 157, base-lr: 1e-05, max-lr 0.0002, *4\n"
     ]
    },
    {
     "name": "stderr",
     "output_type": "stream",
     "text": [
      "/home/rick/.conda/envs/hannah_z/lib/python2.7/site-packages/keras/callbacks.py:120: UserWarning: Method on_batch_end() is slow compared to the batch update (0.144872). Check your callbacks.\n",
      "  % delta_t_median)\n"
     ]
    },
    {
     "name": "stdout",
     "output_type": "stream",
     "text": [
      "Time usage: 0:01:34 minutes\n",
      "374/374 [==============================] - 0s 918us/step\n",
      "934/934 [==============================] - 1s 980us/step\n",
      "3357/3357 [==============================] - 3s 908us/step\n",
      " - Model specifics:\tbatch size: 128, mode: triangular2, stepsize: 157, base-lr: 1e-05, max-lr 0.0002, *4\n",
      "Time usage: 0:01:30 minutes\n",
      "374/374 [==============================] - 0s 935us/step\n",
      "934/934 [==============================] - 1s 993us/step\n",
      "3357/3357 [==============================] - 3s 924us/step\n",
      "/home/rick/Documents/HannahZ/Code/logs\n",
      "Time usage: 0:14:59 minutes\n",
      " - Model specifics:\tbatch size: 128, mode: triangular, stepsize: 210, base-lr: 1e-05, max-lr 0.0002, *0\n"
     ]
    },
    {
     "name": "stderr",
     "output_type": "stream",
     "text": [
      "/home/rick/.conda/envs/hannah_z/lib/python2.7/site-packages/keras/callbacks.py:120: UserWarning: Method on_batch_end() is slow compared to the batch update (0.148548). Check your callbacks.\n",
      "  % delta_t_median)\n"
     ]
    },
    {
     "name": "stdout",
     "output_type": "stream",
     "text": [
      "Time usage: 0:01:37 minutes\n",
      "374/374 [==============================] - 0s 1ms/step\n",
      "934/934 [==============================] - 1s 972us/step\n",
      "3357/3357 [==============================] - 3s 910us/step\n",
      " - Model specifics:\tbatch size: 128, mode: triangular, stepsize: 210, base-lr: 1e-05, max-lr 0.0002, *0\n",
      "Time usage: 0:01:26 minutes\n",
      "374/374 [==============================] - 0s 995us/step\n",
      "934/934 [==============================] - 1s 969us/step\n",
      "3357/3357 [==============================] - 3s 920us/step\n",
      "/home/rick/Documents/HannahZ/Code/logs\n",
      " - Model specifics:\tbatch size: 128, mode: triangular, stepsize: 210, base-lr: 1e-05, max-lr 0.0002, *1\n"
     ]
    },
    {
     "name": "stderr",
     "output_type": "stream",
     "text": [
      "/home/rick/.conda/envs/hannah_z/lib/python2.7/site-packages/keras/callbacks.py:120: UserWarning: Method on_batch_end() is slow compared to the batch update (0.176596). Check your callbacks.\n",
      "  % delta_t_median)\n"
     ]
    },
    {
     "name": "stdout",
     "output_type": "stream",
     "text": [
      "Time usage: 0:01:27 minutes\n",
      "374/374 [==============================] - 0s 927us/step\n",
      "934/934 [==============================] - 1s 975us/step\n",
      "3357/3357 [==============================] - 3s 911us/step\n",
      " - Model specifics:\tbatch size: 128, mode: triangular, stepsize: 210, base-lr: 1e-05, max-lr 0.0002, *1\n",
      "Time usage: 0:01:19 minutes\n",
      "374/374 [==============================] - 0s 909us/step\n",
      "934/934 [==============================] - 1s 995us/step\n",
      "3357/3357 [==============================] - 3s 934us/step\n",
      "/home/rick/Documents/HannahZ/Code/logs\n",
      " - Model specifics:\tbatch size: 128, mode: triangular, stepsize: 210, base-lr: 1e-05, max-lr 0.0002, *2\n"
     ]
    },
    {
     "name": "stderr",
     "output_type": "stream",
     "text": [
      "/home/rick/.conda/envs/hannah_z/lib/python2.7/site-packages/keras/callbacks.py:120: UserWarning: Method on_batch_end() is slow compared to the batch update (0.150550). Check your callbacks.\n",
      "  % delta_t_median)\n"
     ]
    },
    {
     "name": "stdout",
     "output_type": "stream",
     "text": [
      "Time usage: 0:01:27 minutes\n",
      "374/374 [==============================] - 0s 939us/step\n",
      "934/934 [==============================] - 1s 984us/step\n",
      "3357/3357 [==============================] - 3s 937us/step\n",
      " - Model specifics:\tbatch size: 128, mode: triangular, stepsize: 210, base-lr: 1e-05, max-lr 0.0002, *2\n",
      "Time usage: 0:01:20 minutes\n",
      "374/374 [==============================] - 0s 925us/step\n",
      "934/934 [==============================] - 1s 951us/step\n",
      "3357/3357 [==============================] - 3s 921us/step\n",
      "/home/rick/Documents/HannahZ/Code/logs\n",
      " - Model specifics:\tbatch size: 128, mode: triangular, stepsize: 210, base-lr: 1e-05, max-lr 0.0002, *3\n"
     ]
    },
    {
     "name": "stderr",
     "output_type": "stream",
     "text": [
      "/home/rick/.conda/envs/hannah_z/lib/python2.7/site-packages/keras/callbacks.py:120: UserWarning: Method on_batch_end() is slow compared to the batch update (0.151377). Check your callbacks.\n",
      "  % delta_t_median)\n"
     ]
    },
    {
     "name": "stdout",
     "output_type": "stream",
     "text": [
      "Time usage: 0:01:29 minutes\n",
      "374/374 [==============================] - 0s 920us/step\n",
      "934/934 [==============================] - 1s 964us/step\n",
      "3357/3357 [==============================] - 3s 930us/step\n",
      " - Model specifics:\tbatch size: 128, mode: triangular, stepsize: 210, base-lr: 1e-05, max-lr 0.0002, *3\n",
      "Time usage: 0:01:20 minutes\n",
      "374/374 [==============================] - 0s 1ms/step\n",
      "934/934 [==============================] - 1s 977us/step\n",
      "3357/3357 [==============================] - 3s 916us/step\n",
      "/home/rick/Documents/HannahZ/Code/logs\n",
      " - Model specifics:\tbatch size: 128, mode: triangular, stepsize: 210, base-lr: 1e-05, max-lr 0.0002, *4\n"
     ]
    },
    {
     "name": "stderr",
     "output_type": "stream",
     "text": [
      "/home/rick/.conda/envs/hannah_z/lib/python2.7/site-packages/keras/callbacks.py:120: UserWarning: Method on_batch_end() is slow compared to the batch update (0.153020). Check your callbacks.\n",
      "  % delta_t_median)\n"
     ]
    },
    {
     "name": "stdout",
     "output_type": "stream",
     "text": [
      "Time usage: 0:01:27 minutes\n",
      "374/374 [==============================] - 0s 938us/step\n",
      "934/934 [==============================] - 1s 965us/step\n",
      "3357/3357 [==============================] - 3s 919us/step\n",
      " - Model specifics:\tbatch size: 128, mode: triangular, stepsize: 210, base-lr: 1e-05, max-lr 0.0002, *4\n",
      "Time usage: 0:01:18 minutes\n",
      "374/374 [==============================] - 0s 920us/step\n",
      "934/934 [==============================] - 1s 933us/step\n",
      "3357/3357 [==============================] - 3s 932us/step\n",
      "/home/rick/Documents/HannahZ/Code/logs\n",
      "Time usage: 0:14:55 minutes\n",
      " - Model specifics:\tbatch size: 128, mode: triangular2, stepsize: 210, base-lr: 1e-05, max-lr 0.0002, *0\n"
     ]
    },
    {
     "name": "stderr",
     "output_type": "stream",
     "text": [
      "/home/rick/.conda/envs/hannah_z/lib/python2.7/site-packages/keras/callbacks.py:120: UserWarning: Method on_batch_end() is slow compared to the batch update (0.143923). Check your callbacks.\n",
      "  % delta_t_median)\n"
     ]
    },
    {
     "name": "stdout",
     "output_type": "stream",
     "text": [
      "Time usage: 0:01:38 minutes\n",
      "374/374 [==============================] - 0s 961us/step\n",
      "934/934 [==============================] - 1s 976us/step\n",
      "3357/3357 [==============================] - 3s 909us/step\n",
      " - Model specifics:\tbatch size: 128, mode: triangular2, stepsize: 210, base-lr: 1e-05, max-lr 0.0002, *0\n",
      "Time usage: 0:01:29 minutes\n",
      "374/374 [==============================] - 0s 957us/step\n",
      "934/934 [==============================] - 1s 945us/step\n",
      "3357/3357 [==============================] - 3s 919us/step\n",
      "/home/rick/Documents/HannahZ/Code/logs\n",
      " - Model specifics:\tbatch size: 128, mode: triangular2, stepsize: 210, base-lr: 1e-05, max-lr 0.0002, *1\n"
     ]
    },
    {
     "name": "stderr",
     "output_type": "stream",
     "text": [
      "/home/rick/.conda/envs/hannah_z/lib/python2.7/site-packages/keras/callbacks.py:120: UserWarning: Method on_batch_end() is slow compared to the batch update (0.150880). Check your callbacks.\n",
      "  % delta_t_median)\n"
     ]
    },
    {
     "name": "stdout",
     "output_type": "stream",
     "text": [
      "Time usage: 0:01:38 minutes\n",
      "374/374 [==============================] - 0s 928us/step\n",
      "934/934 [==============================] - 1s 975us/step\n",
      "3357/3357 [==============================] - 3s 944us/step\n",
      " - Model specifics:\tbatch size: 128, mode: triangular2, stepsize: 210, base-lr: 1e-05, max-lr 0.0002, *1\n",
      "Time usage: 0:01:31 minutes\n",
      "374/374 [==============================] - 0s 919us/step\n",
      "934/934 [==============================] - 1s 995us/step\n",
      "3357/3357 [==============================] - 3s 920us/step\n",
      "/home/rick/Documents/HannahZ/Code/logs\n",
      " - Model specifics:\tbatch size: 128, mode: triangular2, stepsize: 210, base-lr: 1e-05, max-lr 0.0002, *2\n"
     ]
    },
    {
     "name": "stderr",
     "output_type": "stream",
     "text": [
      "/home/rick/.conda/envs/hannah_z/lib/python2.7/site-packages/keras/callbacks.py:120: UserWarning: Method on_batch_end() is slow compared to the batch update (0.159031). Check your callbacks.\n",
      "  % delta_t_median)\n"
     ]
    },
    {
     "name": "stdout",
     "output_type": "stream",
     "text": [
      "Time usage: 0:01:27 minutes\n",
      "374/374 [==============================] - 0s 918us/step\n",
      "934/934 [==============================] - 1s 980us/step\n",
      "3357/3357 [==============================] - 3s 904us/step\n",
      " - Model specifics:\tbatch size: 128, mode: triangular2, stepsize: 210, base-lr: 1e-05, max-lr 0.0002, *2\n",
      "Time usage: 0:01:19 minutes\n",
      "374/374 [==============================] - 0s 914us/step\n",
      "934/934 [==============================] - 1s 958us/step\n",
      "3357/3357 [==============================] - 3s 916us/step\n",
      "/home/rick/Documents/HannahZ/Code/logs\n",
      " - Model specifics:\tbatch size: 128, mode: triangular2, stepsize: 210, base-lr: 1e-05, max-lr 0.0002, *3\n"
     ]
    },
    {
     "name": "stderr",
     "output_type": "stream",
     "text": [
      "/home/rick/.conda/envs/hannah_z/lib/python2.7/site-packages/keras/callbacks.py:120: UserWarning: Method on_batch_end() is slow compared to the batch update (0.152930). Check your callbacks.\n",
      "  % delta_t_median)\n"
     ]
    },
    {
     "name": "stdout",
     "output_type": "stream",
     "text": [
      "Time usage: 0:01:27 minutes\n",
      "374/374 [==============================] - 0s 998us/step\n",
      "934/934 [==============================] - 1s 973us/step\n",
      "3357/3357 [==============================] - 3s 921us/step\n",
      " - Model specifics:\tbatch size: 128, mode: triangular2, stepsize: 210, base-lr: 1e-05, max-lr 0.0002, *3\n",
      "Time usage: 0:01:19 minutes\n",
      "374/374 [==============================] - 0s 921us/step\n",
      "934/934 [==============================] - 1s 969us/step\n",
      "3357/3357 [==============================] - 3s 917us/step\n",
      "/home/rick/Documents/HannahZ/Code/logs\n",
      " - Model specifics:\tbatch size: 128, mode: triangular2, stepsize: 210, base-lr: 1e-05, max-lr 0.0002, *4\n"
     ]
    },
    {
     "name": "stderr",
     "output_type": "stream",
     "text": [
      "/home/rick/.conda/envs/hannah_z/lib/python2.7/site-packages/keras/callbacks.py:120: UserWarning: Method on_batch_end() is slow compared to the batch update (0.155219). Check your callbacks.\n",
      "  % delta_t_median)\n"
     ]
    },
    {
     "name": "stdout",
     "output_type": "stream",
     "text": [
      "Time usage: 0:01:29 minutes\n",
      "374/374 [==============================] - 0s 967us/step\n",
      "934/934 [==============================] - 1s 989us/step\n",
      "3357/3357 [==============================] - 3s 927us/step\n",
      " - Model specifics:\tbatch size: 128, mode: triangular2, stepsize: 210, base-lr: 1e-05, max-lr 0.0002, *4\n",
      "Time usage: 0:01:20 minutes\n",
      "374/374 [==============================] - 0s 910us/step\n",
      "934/934 [==============================] - 1s 974us/step\n",
      "3357/3357 [==============================] - 3s 916us/step\n",
      "/home/rick/Documents/HannahZ/Code/logs\n",
      "Time usage: 0:15:21 minutes\n",
      " - Model specifics:\tbatch size: 128, mode: triangular, stepsize: 262, base-lr: 1e-05, max-lr 0.0002, *0\n"
     ]
    },
    {
     "name": "stderr",
     "output_type": "stream",
     "text": [
      "/home/rick/.conda/envs/hannah_z/lib/python2.7/site-packages/keras/callbacks.py:120: UserWarning: Method on_batch_end() is slow compared to the batch update (0.157592). Check your callbacks.\n",
      "  % delta_t_median)\n"
     ]
    },
    {
     "name": "stdout",
     "output_type": "stream",
     "text": [
      "Time usage: 0:01:28 minutes\n",
      "374/374 [==============================] - 0s 913us/step\n",
      "934/934 [==============================] - 1s 942us/step\n",
      "3357/3357 [==============================] - 3s 904us/step\n",
      " - Model specifics:\tbatch size: 128, mode: triangular, stepsize: 262, base-lr: 1e-05, max-lr 0.0002, *0\n",
      "Time usage: 0:01:18 minutes\n",
      "374/374 [==============================] - 0s 943us/step\n",
      "934/934 [==============================] - 1s 951us/step\n",
      "3357/3357 [==============================] - 3s 914us/step\n",
      "/home/rick/Documents/HannahZ/Code/logs\n",
      " - Model specifics:\tbatch size: 128, mode: triangular, stepsize: 262, base-lr: 1e-05, max-lr 0.0002, *1\n"
     ]
    },
    {
     "name": "stderr",
     "output_type": "stream",
     "text": [
      "/home/rick/.conda/envs/hannah_z/lib/python2.7/site-packages/keras/callbacks.py:120: UserWarning: Method on_batch_end() is slow compared to the batch update (0.159599). Check your callbacks.\n",
      "  % delta_t_median)\n"
     ]
    },
    {
     "name": "stdout",
     "output_type": "stream",
     "text": [
      "Time usage: 0:01:27 minutes\n",
      "374/374 [==============================] - 0s 958us/step\n",
      "934/934 [==============================] - 1s 963us/step\n",
      "3357/3357 [==============================] - 3s 909us/step\n",
      " - Model specifics:\tbatch size: 128, mode: triangular, stepsize: 262, base-lr: 1e-05, max-lr 0.0002, *1\n",
      "Time usage: 0:01:19 minutes\n",
      "374/374 [==============================] - 0s 911us/step\n",
      "934/934 [==============================] - 1s 989us/step\n",
      "3357/3357 [==============================] - 3s 917us/step\n",
      "/home/rick/Documents/HannahZ/Code/logs\n",
      " - Model specifics:\tbatch size: 128, mode: triangular, stepsize: 262, base-lr: 1e-05, max-lr 0.0002, *2\n"
     ]
    },
    {
     "name": "stderr",
     "output_type": "stream",
     "text": [
      "/home/rick/.conda/envs/hannah_z/lib/python2.7/site-packages/keras/callbacks.py:120: UserWarning: Method on_batch_end() is slow compared to the batch update (0.164216). Check your callbacks.\n",
      "  % delta_t_median)\n"
     ]
    },
    {
     "name": "stdout",
     "output_type": "stream",
     "text": [
      "Time usage: 0:01:29 minutes\n",
      "374/374 [==============================] - 0s 945us/step\n",
      "934/934 [==============================] - 1s 1ms/step\n",
      "3357/3357 [==============================] - 3s 912us/step\n",
      " - Model specifics:\tbatch size: 128, mode: triangular, stepsize: 262, base-lr: 1e-05, max-lr 0.0002, *2\n",
      "Time usage: 0:01:18 minutes\n",
      "374/374 [==============================] - 0s 941us/step\n",
      "934/934 [==============================] - 1s 958us/step\n",
      "3357/3357 [==============================] - 3s 902us/step\n",
      "/home/rick/Documents/HannahZ/Code/logs\n",
      " - Model specifics:\tbatch size: 128, mode: triangular, stepsize: 262, base-lr: 1e-05, max-lr 0.0002, *3\n"
     ]
    },
    {
     "name": "stderr",
     "output_type": "stream",
     "text": [
      "/home/rick/.conda/envs/hannah_z/lib/python2.7/site-packages/keras/callbacks.py:120: UserWarning: Method on_batch_end() is slow compared to the batch update (0.268741). Check your callbacks.\n",
      "  % delta_t_median)\n"
     ]
    },
    {
     "name": "stdout",
     "output_type": "stream",
     "text": [
      "Time usage: 0:01:30 minutes\n",
      "374/374 [==============================] - 0s 940us/step\n",
      "934/934 [==============================] - 1s 976us/step\n",
      "3357/3357 [==============================] - 3s 922us/step\n",
      " - Model specifics:\tbatch size: 128, mode: triangular, stepsize: 262, base-lr: 1e-05, max-lr 0.0002, *3\n",
      "Time usage: 0:01:19 minutes\n",
      "374/374 [==============================] - 0s 923us/step\n",
      "934/934 [==============================] - 1s 976us/step\n",
      "3357/3357 [==============================] - 3s 911us/step\n",
      "/home/rick/Documents/HannahZ/Code/logs\n",
      " - Model specifics:\tbatch size: 128, mode: triangular, stepsize: 262, base-lr: 1e-05, max-lr 0.0002, *4\n"
     ]
    },
    {
     "name": "stderr",
     "output_type": "stream",
     "text": [
      "/home/rick/.conda/envs/hannah_z/lib/python2.7/site-packages/keras/callbacks.py:120: UserWarning: Method on_batch_end() is slow compared to the batch update (0.232111). Check your callbacks.\n",
      "  % delta_t_median)\n"
     ]
    },
    {
     "name": "stdout",
     "output_type": "stream",
     "text": [
      "Time usage: 0:01:28 minutes\n",
      "374/374 [==============================] - 0s 964us/step\n",
      "934/934 [==============================] - 1s 952us/step\n",
      "3357/3357 [==============================] - 3s 946us/step\n",
      " - Model specifics:\tbatch size: 128, mode: triangular, stepsize: 262, base-lr: 1e-05, max-lr 0.0002, *4\n",
      "Time usage: 0:01:19 minutes\n",
      "374/374 [==============================] - 0s 988us/step\n",
      "934/934 [==============================] - 1s 978us/step\n",
      "3357/3357 [==============================] - 3s 955us/step\n",
      "/home/rick/Documents/HannahZ/Code/logs\n",
      "Time usage: 0:14:42 minutes\n",
      " - Model specifics:\tbatch size: 128, mode: triangular2, stepsize: 262, base-lr: 1e-05, max-lr 0.0002, *0\n"
     ]
    },
    {
     "name": "stderr",
     "output_type": "stream",
     "text": [
      "/home/rick/.conda/envs/hannah_z/lib/python2.7/site-packages/keras/callbacks.py:120: UserWarning: Method on_batch_end() is slow compared to the batch update (0.180705). Check your callbacks.\n",
      "  % delta_t_median)\n"
     ]
    },
    {
     "name": "stdout",
     "output_type": "stream",
     "text": [
      "Time usage: 0:01:30 minutes\n",
      "374/374 [==============================] - 0s 931us/step\n",
      "934/934 [==============================] - 1s 951us/step\n",
      "3357/3357 [==============================] - 3s 903us/step\n",
      " - Model specifics:\tbatch size: 128, mode: triangular2, stepsize: 262, base-lr: 1e-05, max-lr 0.0002, *0\n",
      "Time usage: 0:01:19 minutes\n",
      "374/374 [==============================] - 0s 952us/step\n",
      "934/934 [==============================] - 1s 987us/step\n",
      "3357/3357 [==============================] - 3s 920us/step\n",
      "/home/rick/Documents/HannahZ/Code/logs\n",
      " - Model specifics:\tbatch size: 128, mode: triangular2, stepsize: 262, base-lr: 1e-05, max-lr 0.0002, *1\n"
     ]
    },
    {
     "name": "stderr",
     "output_type": "stream",
     "text": [
      "/home/rick/.conda/envs/hannah_z/lib/python2.7/site-packages/keras/callbacks.py:120: UserWarning: Method on_batch_end() is slow compared to the batch update (0.179804). Check your callbacks.\n",
      "  % delta_t_median)\n"
     ]
    },
    {
     "name": "stdout",
     "output_type": "stream",
     "text": [
      "Time usage: 0:01:28 minutes\n",
      "374/374 [==============================] - 0s 945us/step\n",
      "934/934 [==============================] - 1s 999us/step\n",
      "3357/3357 [==============================] - 3s 921us/step\n",
      " - Model specifics:\tbatch size: 128, mode: triangular2, stepsize: 262, base-lr: 1e-05, max-lr 0.0002, *1\n",
      "Time usage: 0:01:20 minutes\n",
      "374/374 [==============================] - 0s 979us/step\n",
      "934/934 [==============================] - 1s 1ms/step\n",
      "3357/3357 [==============================] - 3s 956us/step\n",
      "/home/rick/Documents/HannahZ/Code/logs\n",
      " - Model specifics:\tbatch size: 128, mode: triangular2, stepsize: 262, base-lr: 1e-05, max-lr 0.0002, *2\n"
     ]
    },
    {
     "name": "stderr",
     "output_type": "stream",
     "text": [
      "/home/rick/.conda/envs/hannah_z/lib/python2.7/site-packages/keras/callbacks.py:120: UserWarning: Method on_batch_end() is slow compared to the batch update (0.180496). Check your callbacks.\n",
      "  % delta_t_median)\n"
     ]
    },
    {
     "name": "stdout",
     "output_type": "stream",
     "text": [
      "Time usage: 0:01:30 minutes\n",
      "374/374 [==============================] - 0s 972us/step\n",
      "934/934 [==============================] - 1s 983us/step\n",
      "3357/3357 [==============================] - 3s 925us/step\n",
      " - Model specifics:\tbatch size: 128, mode: triangular2, stepsize: 262, base-lr: 1e-05, max-lr 0.0002, *2\n",
      "Time usage: 0:01:20 minutes\n",
      "374/374 [==============================] - 0s 930us/step\n",
      "934/934 [==============================] - 1s 973us/step\n",
      "3357/3357 [==============================] - 3s 936us/step\n",
      "/home/rick/Documents/HannahZ/Code/logs\n",
      " - Model specifics:\tbatch size: 128, mode: triangular2, stepsize: 262, base-lr: 1e-05, max-lr 0.0002, *3\n"
     ]
    },
    {
     "name": "stderr",
     "output_type": "stream",
     "text": [
      "/home/rick/.conda/envs/hannah_z/lib/python2.7/site-packages/keras/callbacks.py:120: UserWarning: Method on_batch_end() is slow compared to the batch update (0.182409). Check your callbacks.\n",
      "  % delta_t_median)\n"
     ]
    },
    {
     "name": "stdout",
     "output_type": "stream",
     "text": [
      "Time usage: 0:01:28 minutes\n",
      "374/374 [==============================] - 0s 936us/step\n",
      "934/934 [==============================] - 1s 983us/step\n",
      "3357/3357 [==============================] - 3s 914us/step\n",
      " - Model specifics:\tbatch size: 128, mode: triangular2, stepsize: 262, base-lr: 1e-05, max-lr 0.0002, *3\n",
      "Time usage: 0:01:20 minutes\n",
      "374/374 [==============================] - 0s 942us/step\n",
      "934/934 [==============================] - 1s 1ms/step\n",
      "3357/3357 [==============================] - 3s 974us/step\n",
      "/home/rick/Documents/HannahZ/Code/logs\n",
      " - Model specifics:\tbatch size: 128, mode: triangular2, stepsize: 262, base-lr: 1e-05, max-lr 0.0002, *4\n"
     ]
    },
    {
     "name": "stderr",
     "output_type": "stream",
     "text": [
      "/home/rick/.conda/envs/hannah_z/lib/python2.7/site-packages/keras/callbacks.py:120: UserWarning: Method on_batch_end() is slow compared to the batch update (0.188976). Check your callbacks.\n",
      "  % delta_t_median)\n"
     ]
    },
    {
     "name": "stdout",
     "output_type": "stream",
     "text": [
      "Time usage: 0:01:29 minutes\n",
      "374/374 [==============================] - 0s 942us/step\n",
      "934/934 [==============================] - 1s 984us/step\n",
      "3357/3357 [==============================] - 3s 932us/step\n",
      " - Model specifics:\tbatch size: 128, mode: triangular2, stepsize: 262, base-lr: 1e-05, max-lr 0.0002, *4\n",
      "Time usage: 0:01:19 minutes\n",
      "374/374 [==============================] - 0s 1ms/step\n",
      "934/934 [==============================] - 1s 973us/step\n",
      "3357/3357 [==============================] - 3s 917us/step\n",
      "/home/rick/Documents/HannahZ/Code/logs\n",
      "Time usage: 0:14:48 minutes\n",
      "Time usage: 3:26:03 minutes\n"
     ]
    }
   ],
   "source": [
    "# usual training time: 4:51 / 3:21 / 3:26\n",
    "rep = 5\n",
    "hp_tuner(rep = rep)"
   ]
  },
  {
   "cell_type": "code",
   "execution_count": 23,
   "metadata": {},
   "outputs": [],
   "source": [
    "rep = 5\n",
    "titel = model_details[0][:47]\n",
    "mean_test_a = []\n",
    "mean_valid_a = []\n",
    "mean_train_a = []\n",
    "mean_test_l = []\n",
    "mean_valid_l = []\n",
    "mean_train_l = []\n",
    "mean_test_p = []\n",
    "mean_valid_p = []\n",
    "mean_train_p = []\n",
    "mean_test_r = []\n",
    "mean_valid_r = []\n",
    "mean_train_r = []\n",
    "model_l = []\n",
    "a = int(len(test_acc_l)/rep)\n",
    "for i in range(a):\n",
    "    tals = test_acc_l[i:(i+1)*rep]\n",
    "    vals = valid_acc_l[i:(i+1)*rep]\n",
    "    rals = train_acc_l[i:(i+1)*rep]\n",
    "    tlls = test_loss_l[i:(i+1)*rep]\n",
    "    vlls = valid_loss_l[i:(i+1)*rep]\n",
    "    rlls = train_loss_l[i:(i+1)*rep]\n",
    "    tpls = test_prec_l[i:(i+1)*rep]\n",
    "    vpls = valid_prec_l[i:(i+1)*rep]\n",
    "    rpls = train_prec_l[i:(i+1)*rep]\n",
    "    trls = test_rec_l[i:(i+1)*rep]\n",
    "    vrls = valid_rec_l[i:(i+1)*rep]\n",
    "    rrls = train_rec_l[i:(i+1)*rep]\n",
    "    tmean = round(sum(tals)/len(tals),4)\n",
    "    vmean = round(sum(vals)/len(vals),4)\n",
    "    rmean = round(sum(rals)/len(rals),4)\n",
    "    ltmean = round(sum(tlls)/len(tals),4)\n",
    "    lvmean = round(sum(vlls)/len(vals),4)\n",
    "    lrmean = round(sum(rlls)/len(rals),4)\n",
    "    ptmean = round(sum(tpls)/len(tals),4)\n",
    "    pvmean = round(sum(vpls)/len(vals),4)\n",
    "    prmean = round(sum(rpls)/len(rals),4)\n",
    "    rtmean = round(sum(trls)/len(tals),4)\n",
    "    rvmean = round(sum(vrls)/len(vals),4)\n",
    "    rrmean = round(sum(rrls)/len(rals),4)\n",
    "    mean_test_a.append(tmean)\n",
    "    mean_valid_a.append(vmean)\n",
    "    mean_train_a.append(rmean)\n",
    "    mean_test_l.append(ltmean)\n",
    "    mean_valid_l.append(lvmean)\n",
    "    mean_train_l.append(lrmean)\n",
    "    mean_test_p.append(ptmean)\n",
    "    mean_valid_p.append(pvmean)\n",
    "    mean_train_p.append(prmean)\n",
    "    mean_test_r.append(rtmean)\n",
    "    mean_valid_r.append(rvmean)\n",
    "    mean_train_r.append(rrmean)\n",
    "    if (model_det[i*rep][-2:] == 'x2'):\n",
    "        model_l.append(model_det[i*rep][6:49] + ' ' + model_det[i*rep][-2:])\n",
    "    else:\n",
    "        model_l.append(model_det[i*rep][6:49])"
   ]
  },
  {
   "cell_type": "code",
   "execution_count": 24,
   "metadata": {},
   "outputs": [
    {
     "name": "stdout",
     "output_type": "stream",
     "text": [
      "size: 64, mode: triangular, stepsize: 315, \n",
      "*0\n"
     ]
    }
   ],
   "source": [
    "print(model_det[8][6:49])\n",
    "print(model_det[0][-2:])"
   ]
  },
  {
   "cell_type": "code",
   "execution_count": 25,
   "metadata": {},
   "outputs": [
    {
     "data": {
      "text/plain": [
       "'AfterTuningHP_modelOverview_IncV3_bs-64_triangular_sz-420_imagenet_All_48epochs'"
      ]
     },
     "execution_count": 25,
     "metadata": {},
     "output_type": "execute_result"
    }
   ],
   "source": [
    "savename2 = ('AfterTuningHP_modelOverview_' + str(modelname) + '_bs-'+ str(batch_size) + '_' + str(mode) + '_sz-' \n",
    "             + str(step_size) + '_' + str(weights) + '_' + str(trainable_layers) + '_' + str(epochs) + 'epochs')\n",
    "savename2"
   ]
  },
  {
   "cell_type": "code",
   "execution_count": 26,
   "metadata": {},
   "outputs": [
    {
     "data": {
      "text/html": [
       "<div>\n",
       "<style scoped>\n",
       "    .dataframe tbody tr th:only-of-type {\n",
       "        vertical-align: middle;\n",
       "    }\n",
       "\n",
       "    .dataframe tbody tr th {\n",
       "        vertical-align: top;\n",
       "    }\n",
       "\n",
       "    .dataframe thead th {\n",
       "        text-align: right;\n",
       "    }\n",
       "</style>\n",
       "<table border=\"1\" class=\"dataframe\">\n",
       "  <thead>\n",
       "    <tr style=\"text-align: right;\">\n",
       "      <th></th>\n",
       "      <th>test acc</th>\n",
       "      <th>valid acc</th>\n",
       "      <th>train acc</th>\n",
       "      <th>test loss</th>\n",
       "      <th>valid loss</th>\n",
       "      <th>train loss</th>\n",
       "      <th>test prec</th>\n",
       "      <th>valid prec</th>\n",
       "      <th>train prec</th>\n",
       "      <th>test rec</th>\n",
       "      <th>valid rec</th>\n",
       "      <th>train rec</th>\n",
       "    </tr>\n",
       "  </thead>\n",
       "  <tbody>\n",
       "    <tr>\n",
       "      <th>size: 64, mode: triangular2, stepsize: 315, x2</th>\n",
       "      <td>0.6762</td>\n",
       "      <td>0.6469</td>\n",
       "      <td>0.6835</td>\n",
       "      <td>1.1868</td>\n",
       "      <td>1.2604</td>\n",
       "      <td>1.1241</td>\n",
       "      <td>0.6226</td>\n",
       "      <td>0.5804</td>\n",
       "      <td>0.6194</td>\n",
       "      <td>0.9463</td>\n",
       "      <td>0.9480</td>\n",
       "      <td>0.9506</td>\n",
       "    </tr>\n",
       "    <tr>\n",
       "      <th>size: 64, mode: triangular2, stepsize: 315,</th>\n",
       "      <td>0.6760</td>\n",
       "      <td>0.6458</td>\n",
       "      <td>0.6822</td>\n",
       "      <td>1.1948</td>\n",
       "      <td>1.2704</td>\n",
       "      <td>1.1372</td>\n",
       "      <td>0.6226</td>\n",
       "      <td>0.5800</td>\n",
       "      <td>0.6183</td>\n",
       "      <td>0.9461</td>\n",
       "      <td>0.9479</td>\n",
       "      <td>0.9511</td>\n",
       "    </tr>\n",
       "    <tr>\n",
       "      <th>size: 64, mode: triangular, stepsize: 420,</th>\n",
       "      <td>0.6752</td>\n",
       "      <td>0.6467</td>\n",
       "      <td>0.6835</td>\n",
       "      <td>1.2001</td>\n",
       "      <td>1.2637</td>\n",
       "      <td>1.1327</td>\n",
       "      <td>0.6215</td>\n",
       "      <td>0.5800</td>\n",
       "      <td>0.6191</td>\n",
       "      <td>0.9469</td>\n",
       "      <td>0.9506</td>\n",
       "      <td>0.9522</td>\n",
       "    </tr>\n",
       "    <tr>\n",
       "      <th>size: 64, mode: triangular2, stepsize: 420,</th>\n",
       "      <td>0.6738</td>\n",
       "      <td>0.6444</td>\n",
       "      <td>0.6822</td>\n",
       "      <td>1.2103</td>\n",
       "      <td>1.2756</td>\n",
       "      <td>1.1444</td>\n",
       "      <td>0.6204</td>\n",
       "      <td>0.5785</td>\n",
       "      <td>0.6179</td>\n",
       "      <td>0.9465</td>\n",
       "      <td>0.9508</td>\n",
       "      <td>0.9525</td>\n",
       "    </tr>\n",
       "    <tr>\n",
       "      <th>size: 64, mode: triangular2, stepsize: 420, x2</th>\n",
       "      <td>0.6735</td>\n",
       "      <td>0.6445</td>\n",
       "      <td>0.6822</td>\n",
       "      <td>1.2067</td>\n",
       "      <td>1.2715</td>\n",
       "      <td>1.1411</td>\n",
       "      <td>0.6202</td>\n",
       "      <td>0.5786</td>\n",
       "      <td>0.6181</td>\n",
       "      <td>0.9463</td>\n",
       "      <td>0.9515</td>\n",
       "      <td>0.9521</td>\n",
       "    </tr>\n",
       "    <tr>\n",
       "      <th>size: 64, mode: triangular2, stepsize: 525,</th>\n",
       "      <td>0.6734</td>\n",
       "      <td>0.6441</td>\n",
       "      <td>0.6822</td>\n",
       "      <td>1.2068</td>\n",
       "      <td>1.2746</td>\n",
       "      <td>1.1407</td>\n",
       "      <td>0.6210</td>\n",
       "      <td>0.5791</td>\n",
       "      <td>0.6188</td>\n",
       "      <td>0.9446</td>\n",
       "      <td>0.9476</td>\n",
       "      <td>0.9496</td>\n",
       "    </tr>\n",
       "    <tr>\n",
       "      <th>size: 64, mode: triangular, stepsize: 420,  x2</th>\n",
       "      <td>0.6728</td>\n",
       "      <td>0.6434</td>\n",
       "      <td>0.6820</td>\n",
       "      <td>1.2215</td>\n",
       "      <td>1.2855</td>\n",
       "      <td>1.1540</td>\n",
       "      <td>0.6195</td>\n",
       "      <td>0.5778</td>\n",
       "      <td>0.6177</td>\n",
       "      <td>0.9471</td>\n",
       "      <td>0.9493</td>\n",
       "      <td>0.9529</td>\n",
       "    </tr>\n",
       "    <tr>\n",
       "      <th>size: 64, mode: triangular, stepsize: 525,  x2</th>\n",
       "      <td>0.6722</td>\n",
       "      <td>0.6435</td>\n",
       "      <td>0.6816</td>\n",
       "      <td>1.2143</td>\n",
       "      <td>1.2789</td>\n",
       "      <td>1.1473</td>\n",
       "      <td>0.6200</td>\n",
       "      <td>0.5786</td>\n",
       "      <td>0.6183</td>\n",
       "      <td>0.9441</td>\n",
       "      <td>0.9477</td>\n",
       "      <td>0.9499</td>\n",
       "    </tr>\n",
       "    <tr>\n",
       "      <th>size: 64, mode: triangular, stepsize: 525,</th>\n",
       "      <td>0.6721</td>\n",
       "      <td>0.6434</td>\n",
       "      <td>0.6804</td>\n",
       "      <td>1.2159</td>\n",
       "      <td>1.2792</td>\n",
       "      <td>1.1492</td>\n",
       "      <td>0.6193</td>\n",
       "      <td>0.5781</td>\n",
       "      <td>0.6168</td>\n",
       "      <td>0.9468</td>\n",
       "      <td>0.9508</td>\n",
       "      <td>0.9518</td>\n",
       "    </tr>\n",
       "    <tr>\n",
       "      <th>size: 64, mode: triangular2, stepsize: 525, x2</th>\n",
       "      <td>0.6717</td>\n",
       "      <td>0.6430</td>\n",
       "      <td>0.6813</td>\n",
       "      <td>1.2167</td>\n",
       "      <td>1.2848</td>\n",
       "      <td>1.1498</td>\n",
       "      <td>0.6196</td>\n",
       "      <td>0.5783</td>\n",
       "      <td>0.6178</td>\n",
       "      <td>0.9452</td>\n",
       "      <td>0.9489</td>\n",
       "      <td>0.9509</td>\n",
       "    </tr>\n",
       "    <tr>\n",
       "      <th>size: 128, mode: triangular2, stepsize: 157 x2</th>\n",
       "      <td>0.6710</td>\n",
       "      <td>0.6458</td>\n",
       "      <td>0.6802</td>\n",
       "      <td>1.2101</td>\n",
       "      <td>1.2852</td>\n",
       "      <td>1.1497</td>\n",
       "      <td>0.6202</td>\n",
       "      <td>0.5810</td>\n",
       "      <td>0.6179</td>\n",
       "      <td>0.9389</td>\n",
       "      <td>0.9452</td>\n",
       "      <td>0.9440</td>\n",
       "    </tr>\n",
       "    <tr>\n",
       "      <th>size: 128, mode: triangular, stepsize: 210,</th>\n",
       "      <td>0.6708</td>\n",
       "      <td>0.6457</td>\n",
       "      <td>0.6802</td>\n",
       "      <td>1.2082</td>\n",
       "      <td>1.2852</td>\n",
       "      <td>1.1498</td>\n",
       "      <td>0.6202</td>\n",
       "      <td>0.5811</td>\n",
       "      <td>0.6181</td>\n",
       "      <td>0.9375</td>\n",
       "      <td>0.9436</td>\n",
       "      <td>0.9425</td>\n",
       "    </tr>\n",
       "    <tr>\n",
       "      <th>size: 128, mode: triangular2, stepsize: 157</th>\n",
       "      <td>0.6708</td>\n",
       "      <td>0.6444</td>\n",
       "      <td>0.6801</td>\n",
       "      <td>1.2159</td>\n",
       "      <td>1.2894</td>\n",
       "      <td>1.1546</td>\n",
       "      <td>0.6199</td>\n",
       "      <td>0.5800</td>\n",
       "      <td>0.6177</td>\n",
       "      <td>0.9395</td>\n",
       "      <td>0.9451</td>\n",
       "      <td>0.9454</td>\n",
       "    </tr>\n",
       "    <tr>\n",
       "      <th>size: 128, mode: triangular2, stepsize: 210</th>\n",
       "      <td>0.6706</td>\n",
       "      <td>0.6458</td>\n",
       "      <td>0.6796</td>\n",
       "      <td>1.2065</td>\n",
       "      <td>1.2876</td>\n",
       "      <td>1.1514</td>\n",
       "      <td>0.6204</td>\n",
       "      <td>0.5814</td>\n",
       "      <td>0.6178</td>\n",
       "      <td>0.9366</td>\n",
       "      <td>0.9431</td>\n",
       "      <td>0.9409</td>\n",
       "    </tr>\n",
       "    <tr>\n",
       "      <th>size: 128, mode: triangular2, stepsize: 210 x2</th>\n",
       "      <td>0.6705</td>\n",
       "      <td>0.6459</td>\n",
       "      <td>0.6793</td>\n",
       "      <td>1.2052</td>\n",
       "      <td>1.2875</td>\n",
       "      <td>1.1515</td>\n",
       "      <td>0.6204</td>\n",
       "      <td>0.5814</td>\n",
       "      <td>0.6177</td>\n",
       "      <td>0.9360</td>\n",
       "      <td>0.9427</td>\n",
       "      <td>0.9401</td>\n",
       "    </tr>\n",
       "    <tr>\n",
       "      <th>size: 128, mode: triangular, stepsize: 157,</th>\n",
       "      <td>0.6705</td>\n",
       "      <td>0.6425</td>\n",
       "      <td>0.6798</td>\n",
       "      <td>1.2297</td>\n",
       "      <td>1.3030</td>\n",
       "      <td>1.1645</td>\n",
       "      <td>0.6186</td>\n",
       "      <td>0.5781</td>\n",
       "      <td>0.6168</td>\n",
       "      <td>0.9448</td>\n",
       "      <td>0.9492</td>\n",
       "      <td>0.9502</td>\n",
       "    </tr>\n",
       "    <tr>\n",
       "      <th>size: 128, mode: triangular, stepsize: 210, x2</th>\n",
       "      <td>0.6701</td>\n",
       "      <td>0.6457</td>\n",
       "      <td>0.6795</td>\n",
       "      <td>1.2144</td>\n",
       "      <td>1.2934</td>\n",
       "      <td>1.1572</td>\n",
       "      <td>0.6198</td>\n",
       "      <td>0.5812</td>\n",
       "      <td>0.6176</td>\n",
       "      <td>0.9372</td>\n",
       "      <td>0.9435</td>\n",
       "      <td>0.9420</td>\n",
       "    </tr>\n",
       "    <tr>\n",
       "      <th>size: 128, mode: triangular, stepsize: 157, x2</th>\n",
       "      <td>0.6700</td>\n",
       "      <td>0.6426</td>\n",
       "      <td>0.6796</td>\n",
       "      <td>1.2306</td>\n",
       "      <td>1.3053</td>\n",
       "      <td>1.1681</td>\n",
       "      <td>0.6188</td>\n",
       "      <td>0.5786</td>\n",
       "      <td>0.6170</td>\n",
       "      <td>0.9410</td>\n",
       "      <td>0.9455</td>\n",
       "      <td>0.9473</td>\n",
       "    </tr>\n",
       "    <tr>\n",
       "      <th>size: 128, mode: triangular, stepsize: 262,</th>\n",
       "      <td>0.6699</td>\n",
       "      <td>0.6455</td>\n",
       "      <td>0.6787</td>\n",
       "      <td>1.2131</td>\n",
       "      <td>1.2975</td>\n",
       "      <td>1.1603</td>\n",
       "      <td>0.6205</td>\n",
       "      <td>0.5815</td>\n",
       "      <td>0.6178</td>\n",
       "      <td>0.9341</td>\n",
       "      <td>0.9404</td>\n",
       "      <td>0.9384</td>\n",
       "    </tr>\n",
       "    <tr>\n",
       "      <th>size: 128, mode: triangular, stepsize: 262, x2</th>\n",
       "      <td>0.6697</td>\n",
       "      <td>0.6453</td>\n",
       "      <td>0.6784</td>\n",
       "      <td>1.2155</td>\n",
       "      <td>1.3013</td>\n",
       "      <td>1.1632</td>\n",
       "      <td>0.6206</td>\n",
       "      <td>0.5815</td>\n",
       "      <td>0.6177</td>\n",
       "      <td>0.9333</td>\n",
       "      <td>0.9388</td>\n",
       "      <td>0.9375</td>\n",
       "    </tr>\n",
       "    <tr>\n",
       "      <th>size: 64, mode: triangular, stepsize: 315,  x2</th>\n",
       "      <td>0.6695</td>\n",
       "      <td>0.6411</td>\n",
       "      <td>0.6790</td>\n",
       "      <td>1.2464</td>\n",
       "      <td>1.3182</td>\n",
       "      <td>1.1830</td>\n",
       "      <td>0.6177</td>\n",
       "      <td>0.5774</td>\n",
       "      <td>0.6153</td>\n",
       "      <td>0.9429</td>\n",
       "      <td>0.9453</td>\n",
       "      <td>0.9524</td>\n",
       "    </tr>\n",
       "    <tr>\n",
       "      <th>size: 128, mode: triangular2, stepsize: 262</th>\n",
       "      <td>0.6693</td>\n",
       "      <td>0.6448</td>\n",
       "      <td>0.6778</td>\n",
       "      <td>1.2158</td>\n",
       "      <td>1.3035</td>\n",
       "      <td>1.1642</td>\n",
       "      <td>0.6202</td>\n",
       "      <td>0.5812</td>\n",
       "      <td>0.6172</td>\n",
       "      <td>0.9337</td>\n",
       "      <td>0.9391</td>\n",
       "      <td>0.9377</td>\n",
       "    </tr>\n",
       "    <tr>\n",
       "      <th>size: 64, mode: triangular, stepsize: 315,</th>\n",
       "      <td>0.6690</td>\n",
       "      <td>0.6422</td>\n",
       "      <td>0.6792</td>\n",
       "      <td>1.2463</td>\n",
       "      <td>1.3182</td>\n",
       "      <td>1.1803</td>\n",
       "      <td>0.6182</td>\n",
       "      <td>0.5792</td>\n",
       "      <td>0.6161</td>\n",
       "      <td>0.9424</td>\n",
       "      <td>0.9482</td>\n",
       "      <td>0.9497</td>\n",
       "    </tr>\n",
       "    <tr>\n",
       "      <th>size: 128, mode: triangular2, stepsize: 262 x2</th>\n",
       "      <td>0.6689</td>\n",
       "      <td>0.6448</td>\n",
       "      <td>0.6775</td>\n",
       "      <td>1.2176</td>\n",
       "      <td>1.3059</td>\n",
       "      <td>1.1662</td>\n",
       "      <td>0.6199</td>\n",
       "      <td>0.5812</td>\n",
       "      <td>0.6169</td>\n",
       "      <td>0.9337</td>\n",
       "      <td>0.9392</td>\n",
       "      <td>0.9375</td>\n",
       "    </tr>\n",
       "  </tbody>\n",
       "</table>\n",
       "</div>"
      ],
      "text/plain": [
       "                                                test acc  valid acc  \\\n",
       "size: 64, mode: triangular2, stepsize: 315, x2    0.6762     0.6469   \n",
       "size: 64, mode: triangular2, stepsize: 315,       0.6760     0.6458   \n",
       "size: 64, mode: triangular, stepsize: 420,        0.6752     0.6467   \n",
       "size: 64, mode: triangular2, stepsize: 420,       0.6738     0.6444   \n",
       "size: 64, mode: triangular2, stepsize: 420, x2    0.6735     0.6445   \n",
       "size: 64, mode: triangular2, stepsize: 525,       0.6734     0.6441   \n",
       "size: 64, mode: triangular, stepsize: 420,  x2    0.6728     0.6434   \n",
       "size: 64, mode: triangular, stepsize: 525,  x2    0.6722     0.6435   \n",
       "size: 64, mode: triangular, stepsize: 525,        0.6721     0.6434   \n",
       "size: 64, mode: triangular2, stepsize: 525, x2    0.6717     0.6430   \n",
       "size: 128, mode: triangular2, stepsize: 157 x2    0.6710     0.6458   \n",
       "size: 128, mode: triangular, stepsize: 210,       0.6708     0.6457   \n",
       "size: 128, mode: triangular2, stepsize: 157       0.6708     0.6444   \n",
       "size: 128, mode: triangular2, stepsize: 210       0.6706     0.6458   \n",
       "size: 128, mode: triangular2, stepsize: 210 x2    0.6705     0.6459   \n",
       "size: 128, mode: triangular, stepsize: 157,       0.6705     0.6425   \n",
       "size: 128, mode: triangular, stepsize: 210, x2    0.6701     0.6457   \n",
       "size: 128, mode: triangular, stepsize: 157, x2    0.6700     0.6426   \n",
       "size: 128, mode: triangular, stepsize: 262,       0.6699     0.6455   \n",
       "size: 128, mode: triangular, stepsize: 262, x2    0.6697     0.6453   \n",
       "size: 64, mode: triangular, stepsize: 315,  x2    0.6695     0.6411   \n",
       "size: 128, mode: triangular2, stepsize: 262       0.6693     0.6448   \n",
       "size: 64, mode: triangular, stepsize: 315,        0.6690     0.6422   \n",
       "size: 128, mode: triangular2, stepsize: 262 x2    0.6689     0.6448   \n",
       "\n",
       "                                                train acc  test loss  \\\n",
       "size: 64, mode: triangular2, stepsize: 315, x2     0.6835     1.1868   \n",
       "size: 64, mode: triangular2, stepsize: 315,        0.6822     1.1948   \n",
       "size: 64, mode: triangular, stepsize: 420,         0.6835     1.2001   \n",
       "size: 64, mode: triangular2, stepsize: 420,        0.6822     1.2103   \n",
       "size: 64, mode: triangular2, stepsize: 420, x2     0.6822     1.2067   \n",
       "size: 64, mode: triangular2, stepsize: 525,        0.6822     1.2068   \n",
       "size: 64, mode: triangular, stepsize: 420,  x2     0.6820     1.2215   \n",
       "size: 64, mode: triangular, stepsize: 525,  x2     0.6816     1.2143   \n",
       "size: 64, mode: triangular, stepsize: 525,         0.6804     1.2159   \n",
       "size: 64, mode: triangular2, stepsize: 525, x2     0.6813     1.2167   \n",
       "size: 128, mode: triangular2, stepsize: 157 x2     0.6802     1.2101   \n",
       "size: 128, mode: triangular, stepsize: 210,        0.6802     1.2082   \n",
       "size: 128, mode: triangular2, stepsize: 157        0.6801     1.2159   \n",
       "size: 128, mode: triangular2, stepsize: 210        0.6796     1.2065   \n",
       "size: 128, mode: triangular2, stepsize: 210 x2     0.6793     1.2052   \n",
       "size: 128, mode: triangular, stepsize: 157,        0.6798     1.2297   \n",
       "size: 128, mode: triangular, stepsize: 210, x2     0.6795     1.2144   \n",
       "size: 128, mode: triangular, stepsize: 157, x2     0.6796     1.2306   \n",
       "size: 128, mode: triangular, stepsize: 262,        0.6787     1.2131   \n",
       "size: 128, mode: triangular, stepsize: 262, x2     0.6784     1.2155   \n",
       "size: 64, mode: triangular, stepsize: 315,  x2     0.6790     1.2464   \n",
       "size: 128, mode: triangular2, stepsize: 262        0.6778     1.2158   \n",
       "size: 64, mode: triangular, stepsize: 315,         0.6792     1.2463   \n",
       "size: 128, mode: triangular2, stepsize: 262 x2     0.6775     1.2176   \n",
       "\n",
       "                                                valid loss  train loss  \\\n",
       "size: 64, mode: triangular2, stepsize: 315, x2      1.2604      1.1241   \n",
       "size: 64, mode: triangular2, stepsize: 315,         1.2704      1.1372   \n",
       "size: 64, mode: triangular, stepsize: 420,          1.2637      1.1327   \n",
       "size: 64, mode: triangular2, stepsize: 420,         1.2756      1.1444   \n",
       "size: 64, mode: triangular2, stepsize: 420, x2      1.2715      1.1411   \n",
       "size: 64, mode: triangular2, stepsize: 525,         1.2746      1.1407   \n",
       "size: 64, mode: triangular, stepsize: 420,  x2      1.2855      1.1540   \n",
       "size: 64, mode: triangular, stepsize: 525,  x2      1.2789      1.1473   \n",
       "size: 64, mode: triangular, stepsize: 525,          1.2792      1.1492   \n",
       "size: 64, mode: triangular2, stepsize: 525, x2      1.2848      1.1498   \n",
       "size: 128, mode: triangular2, stepsize: 157 x2      1.2852      1.1497   \n",
       "size: 128, mode: triangular, stepsize: 210,         1.2852      1.1498   \n",
       "size: 128, mode: triangular2, stepsize: 157         1.2894      1.1546   \n",
       "size: 128, mode: triangular2, stepsize: 210         1.2876      1.1514   \n",
       "size: 128, mode: triangular2, stepsize: 210 x2      1.2875      1.1515   \n",
       "size: 128, mode: triangular, stepsize: 157,         1.3030      1.1645   \n",
       "size: 128, mode: triangular, stepsize: 210, x2      1.2934      1.1572   \n",
       "size: 128, mode: triangular, stepsize: 157, x2      1.3053      1.1681   \n",
       "size: 128, mode: triangular, stepsize: 262,         1.2975      1.1603   \n",
       "size: 128, mode: triangular, stepsize: 262, x2      1.3013      1.1632   \n",
       "size: 64, mode: triangular, stepsize: 315,  x2      1.3182      1.1830   \n",
       "size: 128, mode: triangular2, stepsize: 262         1.3035      1.1642   \n",
       "size: 64, mode: triangular, stepsize: 315,          1.3182      1.1803   \n",
       "size: 128, mode: triangular2, stepsize: 262 x2      1.3059      1.1662   \n",
       "\n",
       "                                                test prec  valid prec  \\\n",
       "size: 64, mode: triangular2, stepsize: 315, x2     0.6226      0.5804   \n",
       "size: 64, mode: triangular2, stepsize: 315,        0.6226      0.5800   \n",
       "size: 64, mode: triangular, stepsize: 420,         0.6215      0.5800   \n",
       "size: 64, mode: triangular2, stepsize: 420,        0.6204      0.5785   \n",
       "size: 64, mode: triangular2, stepsize: 420, x2     0.6202      0.5786   \n",
       "size: 64, mode: triangular2, stepsize: 525,        0.6210      0.5791   \n",
       "size: 64, mode: triangular, stepsize: 420,  x2     0.6195      0.5778   \n",
       "size: 64, mode: triangular, stepsize: 525,  x2     0.6200      0.5786   \n",
       "size: 64, mode: triangular, stepsize: 525,         0.6193      0.5781   \n",
       "size: 64, mode: triangular2, stepsize: 525, x2     0.6196      0.5783   \n",
       "size: 128, mode: triangular2, stepsize: 157 x2     0.6202      0.5810   \n",
       "size: 128, mode: triangular, stepsize: 210,        0.6202      0.5811   \n",
       "size: 128, mode: triangular2, stepsize: 157        0.6199      0.5800   \n",
       "size: 128, mode: triangular2, stepsize: 210        0.6204      0.5814   \n",
       "size: 128, mode: triangular2, stepsize: 210 x2     0.6204      0.5814   \n",
       "size: 128, mode: triangular, stepsize: 157,        0.6186      0.5781   \n",
       "size: 128, mode: triangular, stepsize: 210, x2     0.6198      0.5812   \n",
       "size: 128, mode: triangular, stepsize: 157, x2     0.6188      0.5786   \n",
       "size: 128, mode: triangular, stepsize: 262,        0.6205      0.5815   \n",
       "size: 128, mode: triangular, stepsize: 262, x2     0.6206      0.5815   \n",
       "size: 64, mode: triangular, stepsize: 315,  x2     0.6177      0.5774   \n",
       "size: 128, mode: triangular2, stepsize: 262        0.6202      0.5812   \n",
       "size: 64, mode: triangular, stepsize: 315,         0.6182      0.5792   \n",
       "size: 128, mode: triangular2, stepsize: 262 x2     0.6199      0.5812   \n",
       "\n",
       "                                                train prec  test rec  \\\n",
       "size: 64, mode: triangular2, stepsize: 315, x2      0.6194    0.9463   \n",
       "size: 64, mode: triangular2, stepsize: 315,         0.6183    0.9461   \n",
       "size: 64, mode: triangular, stepsize: 420,          0.6191    0.9469   \n",
       "size: 64, mode: triangular2, stepsize: 420,         0.6179    0.9465   \n",
       "size: 64, mode: triangular2, stepsize: 420, x2      0.6181    0.9463   \n",
       "size: 64, mode: triangular2, stepsize: 525,         0.6188    0.9446   \n",
       "size: 64, mode: triangular, stepsize: 420,  x2      0.6177    0.9471   \n",
       "size: 64, mode: triangular, stepsize: 525,  x2      0.6183    0.9441   \n",
       "size: 64, mode: triangular, stepsize: 525,          0.6168    0.9468   \n",
       "size: 64, mode: triangular2, stepsize: 525, x2      0.6178    0.9452   \n",
       "size: 128, mode: triangular2, stepsize: 157 x2      0.6179    0.9389   \n",
       "size: 128, mode: triangular, stepsize: 210,         0.6181    0.9375   \n",
       "size: 128, mode: triangular2, stepsize: 157         0.6177    0.9395   \n",
       "size: 128, mode: triangular2, stepsize: 210         0.6178    0.9366   \n",
       "size: 128, mode: triangular2, stepsize: 210 x2      0.6177    0.9360   \n",
       "size: 128, mode: triangular, stepsize: 157,         0.6168    0.9448   \n",
       "size: 128, mode: triangular, stepsize: 210, x2      0.6176    0.9372   \n",
       "size: 128, mode: triangular, stepsize: 157, x2      0.6170    0.9410   \n",
       "size: 128, mode: triangular, stepsize: 262,         0.6178    0.9341   \n",
       "size: 128, mode: triangular, stepsize: 262, x2      0.6177    0.9333   \n",
       "size: 64, mode: triangular, stepsize: 315,  x2      0.6153    0.9429   \n",
       "size: 128, mode: triangular2, stepsize: 262         0.6172    0.9337   \n",
       "size: 64, mode: triangular, stepsize: 315,          0.6161    0.9424   \n",
       "size: 128, mode: triangular2, stepsize: 262 x2      0.6169    0.9337   \n",
       "\n",
       "                                                valid rec  train rec  \n",
       "size: 64, mode: triangular2, stepsize: 315, x2     0.9480     0.9506  \n",
       "size: 64, mode: triangular2, stepsize: 315,        0.9479     0.9511  \n",
       "size: 64, mode: triangular, stepsize: 420,         0.9506     0.9522  \n",
       "size: 64, mode: triangular2, stepsize: 420,        0.9508     0.9525  \n",
       "size: 64, mode: triangular2, stepsize: 420, x2     0.9515     0.9521  \n",
       "size: 64, mode: triangular2, stepsize: 525,        0.9476     0.9496  \n",
       "size: 64, mode: triangular, stepsize: 420,  x2     0.9493     0.9529  \n",
       "size: 64, mode: triangular, stepsize: 525,  x2     0.9477     0.9499  \n",
       "size: 64, mode: triangular, stepsize: 525,         0.9508     0.9518  \n",
       "size: 64, mode: triangular2, stepsize: 525, x2     0.9489     0.9509  \n",
       "size: 128, mode: triangular2, stepsize: 157 x2     0.9452     0.9440  \n",
       "size: 128, mode: triangular, stepsize: 210,        0.9436     0.9425  \n",
       "size: 128, mode: triangular2, stepsize: 157        0.9451     0.9454  \n",
       "size: 128, mode: triangular2, stepsize: 210        0.9431     0.9409  \n",
       "size: 128, mode: triangular2, stepsize: 210 x2     0.9427     0.9401  \n",
       "size: 128, mode: triangular, stepsize: 157,        0.9492     0.9502  \n",
       "size: 128, mode: triangular, stepsize: 210, x2     0.9435     0.9420  \n",
       "size: 128, mode: triangular, stepsize: 157, x2     0.9455     0.9473  \n",
       "size: 128, mode: triangular, stepsize: 262,        0.9404     0.9384  \n",
       "size: 128, mode: triangular, stepsize: 262, x2     0.9388     0.9375  \n",
       "size: 64, mode: triangular, stepsize: 315,  x2     0.9453     0.9524  \n",
       "size: 128, mode: triangular2, stepsize: 262        0.9391     0.9377  \n",
       "size: 64, mode: triangular, stepsize: 315,         0.9482     0.9497  \n",
       "size: 128, mode: triangular2, stepsize: 262 x2     0.9392     0.9375  "
      ]
     },
     "execution_count": 26,
     "metadata": {},
     "output_type": "execute_result"
    }
   ],
   "source": [
    "cols = ['test acc', 'valid acc', 'train acc', 'test loss', 'valid loss', 'train loss', 'test prec', \\\n",
    "           'valid prec', 'train prec', 'test rec', 'valid rec', 'train rec']\n",
    "data2 = np.array((mean_test_a, mean_valid_a, mean_train_a, mean_test_l, mean_valid_l, mean_train_l,\\\n",
    "                mean_test_p, mean_valid_p, mean_train_p, mean_test_r, mean_valid_r, mean_train_r))\n",
    "results2 = pd.DataFrame(data = data2, columns = model_l, index = cols)\n",
    "hp_overview = pd.DataFrame(data = results2.transpose(), columns = cols, index = model_l)\n",
    "hpOverviewSorted = hp_overview.sort_values(by=['test acc'], ascending = False)\n",
    "hpOverviewSorted\n",
    "os.chdir(code_dir + '/Excel')\n",
    "hpOverviewSorted.to_csv(savename2)"
   ]
  },
  {
   "cell_type": "code",
   "execution_count": 27,
   "metadata": {},
   "outputs": [
    {
     "data": {
      "text/plain": [
       "<matplotlib.figure.Figure at 0x7f10fbdc1e10>"
      ]
     },
     "execution_count": 27,
     "metadata": {},
     "output_type": "execute_result"
    },
    {
     "data": {
      "text/plain": [
       "<matplotlib.axes._subplots.AxesSubplot at 0x7f10fbe1af10>"
      ]
     },
     "execution_count": 27,
     "metadata": {},
     "output_type": "execute_result"
    },
    {
     "data": {
      "image/png": "[encoded data removed]",
      "text/plain": [
       "<matplotlib.figure.Figure at 0x7f10fbdc1e10>"
      ]
     },
     "metadata": {},
     "output_type": "display_data"
    }
   ],
   "source": [
    "%matplotlib inline\n",
    "plt.figure(figsize=(6, 8))\n",
    "\n",
    "sns.heatmap(hp_overview.iloc[:,:3], annot=True,  fmt = 'f')"
   ]
  },
  {
   "cell_type": "code",
   "execution_count": 28,
   "metadata": {},
   "outputs": [
    {
     "data": {
      "text/plain": [
       "[<matplotlib.lines.Line2D at 0x7f10fbb7a190>]"
      ]
     },
     "execution_count": 28,
     "metadata": {},
     "output_type": "execute_result"
    },
    {
     "data": {
      "text/plain": [
       "[0, 9, 0.5, 1]"
      ]
     },
     "execution_count": 28,
     "metadata": {},
     "output_type": "execute_result"
    },
    {
     "data": {
      "text/plain": [
       "<matplotlib.text.Text at 0x7f10fb8401d0>"
      ]
     },
     "execution_count": 28,
     "metadata": {},
     "output_type": "execute_result"
    },
    {
     "data": {
      "text/plain": [
       "[<matplotlib.lines.Line2D at 0x7f10fb78a410>]"
      ]
     },
     "execution_count": 28,
     "metadata": {},
     "output_type": "execute_result"
    },
    {
     "data": {
      "text/plain": [
       "[<matplotlib.lines.Line2D at 0x7f10fb78a0d0>]"
      ]
     },
     "execution_count": 28,
     "metadata": {},
     "output_type": "execute_result"
    },
    {
     "data": {
      "text/plain": [
       "<matplotlib.text.Text at 0x7f10fb826090>"
      ]
     },
     "execution_count": 28,
     "metadata": {},
     "output_type": "execute_result"
    },
    {
     "data": {
      "text/plain": [
       "[<matplotlib.lines.Line2D at 0x7f10fb872390>]"
      ]
     },
     "execution_count": 28,
     "metadata": {},
     "output_type": "execute_result"
    },
    {
     "data": {
      "text/plain": [
       "[0, 9, 0.73, 0.79]"
      ]
     },
     "execution_count": 28,
     "metadata": {},
     "output_type": "execute_result"
    },
    {
     "data": {
      "text/plain": [
       "[<matplotlib.lines.Line2D at 0x7f10fb8269d0>]"
      ]
     },
     "execution_count": 28,
     "metadata": {},
     "output_type": "execute_result"
    },
    {
     "data": {
      "text/plain": [
       "[<matplotlib.lines.Line2D at 0x7f10fb7f7e90>]"
      ]
     },
     "execution_count": 28,
     "metadata": {},
     "output_type": "execute_result"
    },
    {
     "data": {
      "image/png": "[encoded data removed]",
      "text/plain": [
       "<matplotlib.figure.Figure at 0x7f10fbb7a150>"
      ]
     },
     "metadata": {},
     "output_type": "display_data"
    }
   ],
   "source": [
    "%matplotlib inline\n",
    "\n",
    "f, (ax1, ax2) = plt.subplots(2, 1, sharex='col', sharey='row')\n",
    "ax1.plot(mean_test_a, color = 'r')\n",
    "ax1.axis([0, 9, 0.5, 1])\n",
    "ax1.set_title('Close up')\n",
    "ax1.plot(mean_valid_a)\n",
    "ax1.plot(mean_train_a, color = 'g')\n",
    "ax2.set_title('Zoom')\n",
    "ax2.plot(mean_test_a, color = 'r')\n",
    "ax2.axis([0, 9, 0.73, 0.79])\n",
    "ax2.plot(mean_valid_a)\n",
    "ax2.plot(mean_train_a, color = 'g')"
   ]
  },
  {
   "cell_type": "code",
   "execution_count": 29,
   "metadata": {},
   "outputs": [
    {
     "data": {
      "text/html": [
       "<div>\n",
       "<style scoped>\n",
       "    .dataframe tbody tr th:only-of-type {\n",
       "        vertical-align: middle;\n",
       "    }\n",
       "\n",
       "    .dataframe tbody tr th {\n",
       "        vertical-align: top;\n",
       "    }\n",
       "\n",
       "    .dataframe thead th {\n",
       "        text-align: right;\n",
       "    }\n",
       "</style>\n",
       "<table border=\"1\" class=\"dataframe\">\n",
       "  <thead>\n",
       "    <tr style=\"text-align: right;\">\n",
       "      <th></th>\n",
       "      <th>test acc</th>\n",
       "      <th>valid acc</th>\n",
       "      <th>train acc</th>\n",
       "      <th>test loss</th>\n",
       "      <th>valid loss</th>\n",
       "      <th>train loss</th>\n",
       "      <th>test prec</th>\n",
       "      <th>valid prec</th>\n",
       "      <th>train prec</th>\n",
       "      <th>test rec</th>\n",
       "      <th>valid rec</th>\n",
       "      <th>train rec</th>\n",
       "    </tr>\n",
       "  </thead>\n",
       "  <tbody>\n",
       "    <tr>\n",
       "      <th>size: 64, mode: triangular2, stepsize: 315, x2</th>\n",
       "      <td>0.6762</td>\n",
       "      <td>0.6469</td>\n",
       "      <td>0.6835</td>\n",
       "      <td>1.1868</td>\n",
       "      <td>1.2604</td>\n",
       "      <td>1.1241</td>\n",
       "      <td>0.6226</td>\n",
       "      <td>0.5804</td>\n",
       "      <td>0.6194</td>\n",
       "      <td>0.9463</td>\n",
       "      <td>0.9480</td>\n",
       "      <td>0.9506</td>\n",
       "    </tr>\n",
       "    <tr>\n",
       "      <th>size: 64, mode: triangular2, stepsize: 315,</th>\n",
       "      <td>0.6760</td>\n",
       "      <td>0.6458</td>\n",
       "      <td>0.6822</td>\n",
       "      <td>1.1948</td>\n",
       "      <td>1.2704</td>\n",
       "      <td>1.1372</td>\n",
       "      <td>0.6226</td>\n",
       "      <td>0.5800</td>\n",
       "      <td>0.6183</td>\n",
       "      <td>0.9461</td>\n",
       "      <td>0.9479</td>\n",
       "      <td>0.9511</td>\n",
       "    </tr>\n",
       "    <tr>\n",
       "      <th>size: 64, mode: triangular, stepsize: 420,</th>\n",
       "      <td>0.6752</td>\n",
       "      <td>0.6467</td>\n",
       "      <td>0.6835</td>\n",
       "      <td>1.2001</td>\n",
       "      <td>1.2637</td>\n",
       "      <td>1.1327</td>\n",
       "      <td>0.6215</td>\n",
       "      <td>0.5800</td>\n",
       "      <td>0.6191</td>\n",
       "      <td>0.9469</td>\n",
       "      <td>0.9506</td>\n",
       "      <td>0.9522</td>\n",
       "    </tr>\n",
       "  </tbody>\n",
       "</table>\n",
       "</div>"
      ],
      "text/plain": [
       "                                                test acc  valid acc  \\\n",
       "size: 64, mode: triangular2, stepsize: 315, x2    0.6762     0.6469   \n",
       "size: 64, mode: triangular2, stepsize: 315,       0.6760     0.6458   \n",
       "size: 64, mode: triangular, stepsize: 420,        0.6752     0.6467   \n",
       "\n",
       "                                                train acc  test loss  \\\n",
       "size: 64, mode: triangular2, stepsize: 315, x2     0.6835     1.1868   \n",
       "size: 64, mode: triangular2, stepsize: 315,        0.6822     1.1948   \n",
       "size: 64, mode: triangular, stepsize: 420,         0.6835     1.2001   \n",
       "\n",
       "                                                valid loss  train loss  \\\n",
       "size: 64, mode: triangular2, stepsize: 315, x2      1.2604      1.1241   \n",
       "size: 64, mode: triangular2, stepsize: 315,         1.2704      1.1372   \n",
       "size: 64, mode: triangular, stepsize: 420,          1.2637      1.1327   \n",
       "\n",
       "                                                test prec  valid prec  \\\n",
       "size: 64, mode: triangular2, stepsize: 315, x2     0.6226      0.5804   \n",
       "size: 64, mode: triangular2, stepsize: 315,        0.6226      0.5800   \n",
       "size: 64, mode: triangular, stepsize: 420,         0.6215      0.5800   \n",
       "\n",
       "                                                train prec  test rec  \\\n",
       "size: 64, mode: triangular2, stepsize: 315, x2      0.6194    0.9463   \n",
       "size: 64, mode: triangular2, stepsize: 315,         0.6183    0.9461   \n",
       "size: 64, mode: triangular, stepsize: 420,          0.6191    0.9469   \n",
       "\n",
       "                                                valid rec  train rec  \n",
       "size: 64, mode: triangular2, stepsize: 315, x2     0.9480     0.9506  \n",
       "size: 64, mode: triangular2, stepsize: 315,        0.9479     0.9511  \n",
       "size: 64, mode: triangular, stepsize: 420,         0.9506     0.9522  "
      ]
     },
     "execution_count": 29,
     "metadata": {},
     "output_type": "execute_result"
    },
    {
     "data": {
      "text/plain": [
       "'base-lr: 1e-05, max-lr 0.0002,'"
      ]
     },
     "execution_count": 29,
     "metadata": {},
     "output_type": "execute_result"
    }
   ],
   "source": [
    "hp_overview.sort_values(by=['test acc'], ascending = False).iloc[:3,:]\n",
    "# hp_overview.sort_values(by=['test loss'], ascending = True).iloc[:3,:]\n",
    "# hp_overview.sort_values(by=['test prec'], ascending = False).iloc[:3,:]\n",
    "# hp_overview.sort_values(by=['test rec'], ascending = False).iloc[:3,:]\n",
    "model_det[0][49:79]"
   ]
  },
  {
   "cell_type": "code",
   "execution_count": 33,
   "metadata": {},
   "outputs": [
    {
     "data": {
      "text/plain": [
       "'/home/rick/Documents/HannahZ/Code/new_weights/IncV3_bs-64_triangular2_sz-315_blr-1e-05_mlr-0.0002_e-96_imagenet_All.hdf5'"
      ]
     },
     "execution_count": 33,
     "metadata": {},
     "output_type": "execute_result"
    }
   ],
   "source": [
    "# decide on best hyperparameters\n",
    "batch_size = 64\n",
    "step_size = 315\n",
    "mode = 'triangular2'\n",
    "base_lr = 0.00001\n",
    "max_lr = 0.0002\n",
    "epochs = 96\n",
    "d3 = {}\n",
    "fp = (str(modelname) + '_bs-' + str(batch_size) + '_' + str(mode) + '_sz-' + str(step_size) + '_blr-' \n",
    "      + str(base_lr) + '_mlr-' + str(max_lr) + '_e-' + str(epochs) + '_' + weights + '_' + str(trainable_layers))\n",
    "new_weight_dir + '/' + fp + '.hdf5'"
   ]
  },
  {
   "cell_type": "code",
   "execution_count": 34,
   "metadata": {},
   "outputs": [],
   "source": [
    "def trainModels(batch_size = batch_size, stepsize = step_size, mode = mode, max_lr = max_lr, base_lr = base_lr, \n",
    "                epochs = epochs, verbose = 0):\n",
    "    start_time = time()   \n",
    "    global name\n",
    "    global filepath\n",
    "    global d    \n",
    "    date = str(datetime.now().date())\n",
    "    d = {}\n",
    "    for i in range(5):\n",
    "        compileModel()\n",
    "        # logdir in linux:\n",
    "        logdir = (log_dir + '/' + date + '_' + str(batch_size) + '_' + str(mode) + '_si-' + str(stepsize) \n",
    "                  + '_base-' + str(base_lr) + '_max-' + str(max_lr) + '_' + str(i))\n",
    "        # logdir in windows:\n",
    "        ##logdir = (log_dir + '\\\\' + date + '_' + str(batch_size) + '_' + str(mode) + '_si-' + str(stepsize) + \n",
    "        #          '_base-' + str(base_lr) + '_max-' + str(max_lr) + '_' + str(i))\n",
    "        name = ('batch size: ' + str(batch_size) + ', mode: ' + str(mode) + ', stepsize: ' \n",
    "                + str(stepsize) + ', base-lr: ' + str(base_lr) + ', max-lr ' + str(max_lr) + '_' + str(i))\n",
    "        print(' - Model specifics:\\t{}'.format(name))\n",
    "        clr = CyclicLR(base_lr = base_lr, max_lr=max_lr, step_size= stepsize, mode = mode)\n",
    "        fp = (str(modelname) + '_bs-' + str(batch_size) + '_' + str(mode) + '_sz-' + str(step_size) + '_blr-' \n",
    "              + str(base_lr) + '_mlr-' + str(max_lr) + '_e-' + str(epochs) + '_' + weights + '_' \n",
    "              + str(trainable_layers) + '_' + str(i))\n",
    "        filepath = new_weight_dir + '/' + fp + '-{epoch:02d}-' +'.hdf5'\n",
    "        checkp = ModelCheckpoint(filepath, monitor='val_acc', verbose= verbose, save_weights_only=True, \n",
    "                                save_best_only=True, mode='max', period=1)\n",
    "        tbCallBack = TensorBoard(log_dir=logdir, histogram_freq=0, \n",
    "                             write_graph=False, write_images=False)\n",
    "        d[\"FinalModel{0}\".format(i)]= Final_model\n",
    "        d[\"FinalModel{0}\".format(i)].fit(x = train_images, y = train_labels, epochs = epochs, \n",
    "                                         callbacks= [tbCallBack, clr, checkp], batch_size = batch_size,\n",
    "                                         validation_data = (valid_images, valid_labels), verbose = 0)\n",
    "    end_time = time()\n",
    "    time_dif = end_time - start_time\n",
    "    print('Time usage: ' + str(timedelta(seconds=int(round(time_dif)))) + ' minutes')"
   ]
  },
  {
   "cell_type": "code",
   "execution_count": 35,
   "metadata": {},
   "outputs": [
    {
     "name": "stdout",
     "output_type": "stream",
     "text": [
      " - Model specifics:\tbatch size: 64, mode: triangular2, stepsize: 315, base-lr: 1e-05, max-lr 0.0002_0\n",
      " - Model specifics:\tbatch size: 64, mode: triangular2, stepsize: 315, base-lr: 1e-05, max-lr 0.0002_1\n",
      " - Model specifics:\tbatch size: 64, mode: triangular2, stepsize: 315, base-lr: 1e-05, max-lr 0.0002_2\n",
      " - Model specifics:\tbatch size: 64, mode: triangular2, stepsize: 315, base-lr: 1e-05, max-lr 0.0002_3\n",
      " - Model specifics:\tbatch size: 64, mode: triangular2, stepsize: 315, base-lr: 1e-05, max-lr 0.0002_4\n",
      "Time usage: 0:17:50 minutes\n"
     ]
    }
   ],
   "source": [
    "# build best model again\n",
    "# usual time: 15 minutes\n",
    "start_time = time()\n",
    "fm = ['FinalModel1', 'FinalModel2', 'FinalModel3', 'FinalModel4', 'FinalModel5']\n",
    "metrics = ['loss', 'acc', 'precision', 'recall']\n",
    "\n",
    "name = ('bs-' + str(batch_size) + '_' + str(mode) + '_sz-' + str(step_size) + '_blr-' + str(base_lr) + '_mlr-' \n",
    "       + str(max_lr)) + '_' + str(weights) + '_' + str(trainable_layers)\n",
    "\n",
    "trainModels(base_lr = base_lr, max_lr= max_lr, epochs = epochs, verbose = 0,\n",
    "           batch_size = batch_size, stepsize = step_size, mode = mode)\n",
    "end_time = time()\n",
    "time_dif = end_time - start_time\n",
    "print('Time usage: ' + str(timedelta(seconds=int(round(time_dif)))) + ' minutes')"
   ]
  },
  {
   "cell_type": "code",
   "execution_count": 40,
   "metadata": {},
   "outputs": [
    {
     "data": {
      "text/plain": [
       "'/home/rick/Documents/HannahZ/Code/new_weights'"
      ]
     },
     "execution_count": 40,
     "metadata": {},
     "output_type": "execute_result"
    }
   ],
   "source": [
    "new_weight_dir"
   ]
  },
  {
   "cell_type": "code",
   "execution_count": 44,
   "metadata": {},
   "outputs": [
    {
     "name": "stdout",
     "output_type": "stream",
     "text": [
      "IncV3_bs-64_triangular2_sz-315_blr-1e-05_mlr-0.0002_e-96_imagenet_All_0-{epoch:02d}-.hdf5\n",
      "IncV3_bs-64_triangular2_sz-315_blr-1e-05_mlr-0.0002_e-96_imagenet_All_0\n"
     ]
    }
   ],
   "source": [
    "# find out where 'bs' starts and '_' ends...\n",
    "i = 0\n",
    "last = 116\n",
    "print(str(filepath)[46:last] + str(i) + str(filepath)[(last+1):])\n",
    "filename = str(filepath)[46:last] + str(i)\n",
    "print(filename)"
   ]
  },
  {
   "cell_type": "code",
   "execution_count": 45,
   "metadata": {},
   "outputs": [
    {
     "name": "stdout",
     "output_type": "stream",
     "text": [
      "IncV3_bs-64_triangular2_sz-315_blr-1e-05_mlr-0.0002_e-96_imagenet_All_0\n",
      "IncV3_bs-64_triangular2_sz-315_blr-1e-05_mlr-0.0002_e-96_imagenet_All_0-04-.hdf5\n"
     ]
    }
   ],
   "source": [
    "weightlist = os.listdir(new_weight_dir)\n",
    "print(filename)\n",
    "#print(weightlist)\n",
    "best_filename = 'no'\n",
    "for el in weightlist:\n",
    "    if(str(el)[:len(filename)]) == filename:\n",
    "        if len(el)>(len(filename)+5):\n",
    "            best_filename = el\n",
    "print(best_filename)"
   ]
  },
  {
   "cell_type": "code",
   "execution_count": 91,
   "metadata": {},
   "outputs": [
    {
     "name": "stdout",
     "output_type": "stream",
     "text": [
      "IncV3_bs-64_triangular2_sz-315_blr-1e-05_mlr-0.0002_e-96_imagenet_All_0\n",
      "IncV3_bs-64_triangular2_sz-315_blr-1e-05_mlr-0.0002_e-96_imagenet_All_0-04-.hdf5\n",
      "04\n",
      "04\n",
      "['FinalModel0-e04']\n",
      "\n",
      "IncV3_bs-64_triangular2_sz-315_blr-1e-05_mlr-0.0002_e-96_imagenet_All_1\n",
      "IncV3_bs-64_triangular2_sz-315_blr-1e-05_mlr-0.0002_e-96_imagenet_All_1-04-.hdf5\n",
      "04\n",
      "04\n",
      "['FinalModel1-e04']\n",
      "\n",
      "IncV3_bs-64_triangular2_sz-315_blr-1e-05_mlr-0.0002_e-96_imagenet_All_2\n",
      "IncV3_bs-64_triangular2_sz-315_blr-1e-05_mlr-0.0002_e-96_imagenet_All_2-03-.hdf5\n",
      "03\n",
      "03\n",
      "['FinalModel2-e03']\n",
      "\n",
      "IncV3_bs-64_triangular2_sz-315_blr-1e-05_mlr-0.0002_e-96_imagenet_All_3\n",
      "IncV3_bs-64_triangular2_sz-315_blr-1e-05_mlr-0.0002_e-96_imagenet_All_3-09-.hdf5\n",
      "09\n",
      "09\n",
      "['FinalModel3-e09']\n",
      "\n",
      "IncV3_bs-64_triangular2_sz-315_blr-1e-05_mlr-0.0002_e-96_imagenet_All_4\n",
      "IncV3_bs-64_triangular2_sz-315_blr-1e-05_mlr-0.0002_e-96_imagenet_All_4-07-.hdf5\n",
      "07\n",
      "07\n",
      "['FinalModel4-e07']\n",
      "\n",
      "Time usage: 0:00:43 minutes\n"
     ]
    }
   ],
   "source": [
    "# usual time: 2 minutes\n",
    "startTime = time()\n",
    "FinalModelList = {}\n",
    "for i in range(5):\n",
    "    filename = str(filepath)[46:last] + str(i) #+ str(filepath)[113:]\n",
    "    weightlist = os.listdir(new_weight_dir)\n",
    "    print(filename)\n",
    "    best_filename = 'no'\n",
    "    for el in weightlist:\n",
    "        if(str(el)[:len(filename)]) == filename:\n",
    "            if len(el)>(len(filename)+5):\n",
    "                best_filename = el\n",
    "    print(best_filename)\n",
    "    best = str(best_filename)[-8:-6]\n",
    "    os.chdir(new_weight_dir)\n",
    "    compileModel()\n",
    "    Final_model.load_weights(best_filename)\n",
    "    FinalModelList[\"FinalModel{}-e{}\".format(i,best)]= Final_model\n",
    "    test_m = Final_model.evaluate(test_images, test_labels, verbose = 0)\n",
    "    test_m = [round(el, 4) for el in test_m]\n",
    "    valid_m = Final_model.evaluate(valid_images, valid_labels, verbose = 0)\n",
    "    valid_m = [round(el, 4) for el in valid_m]\n",
    "    train_m = Final_model.evaluate(train_images, train_labels, verbose = 0)\n",
    "    train_m = [round(el, 4) for el in train_m]\n",
    "    col = [\"FinalModel{}-e{}\".format(i,best)]\n",
    "    d3[\"td{}-e{}\".format(i, best)]= pd.DataFrame(data = test_m[:4], columns = col, index = metrics)\n",
    "#     print('Best test accuracy model {}: {}'.format(i, test_m[1]))\n",
    "#     print('Best validation accuracy model {}: {}'.format(i, valid_m[1]))\n",
    "#     print('Best training accuracy model {}: {}'.format(i, train_m[1]))\n",
    "    print('')\n",
    "endTime = time()\n",
    "finalTime = endTime - startTime\n",
    "print('Time usage: ' + str(timedelta(seconds=int(round(finalTime)))) + ' minutes')"
   ]
  },
  {
   "cell_type": "code",
   "execution_count": 81,
   "metadata": {},
   "outputs": [
    {
     "data": {
      "text/plain": [
       "'04'"
      ]
     },
     "execution_count": 81,
     "metadata": {},
     "output_type": "execute_result"
    }
   ],
   "source": [
    "best_filename = 'IncV3_bs-64_triangular2_sz-315_blr-1e-05_mlr-0.0002_e-96_imagenet_All_0-04-.hdf5'\n",
    "str(best_filename)[-8:-6]\n",
    "#str(best_filename)[(last+2):(last+4)]\n"
   ]
  },
  {
   "cell_type": "code",
   "execution_count": 1,
   "metadata": {},
   "outputs": [],
   "source": [
    "FinalResults = pd.concat([d3['td0'], d3['td1'], d3['td2'], d3['td3'], d3['td4']], axis=1)\n",
    "FinalResults = pd.DataFrame(data = FinalResults.transpose(), columns = metrics)\n",
    "FinalResults.sort_values(by = ['acc'], ascending = False)"
   ]
  },
  {
   "cell_type": "code",
   "execution_count": 93,
   "metadata": {},
   "outputs": [
    {
     "name": "stdout",
     "output_type": "stream",
     "text": [
      "['FinalModel0-e04', 'FinalModel2-e03', 'FinalModel1-e04', 'FinalModel3-e09', 'FinalModel4-e07']\n"
     ]
    }
   ],
   "source": [
    "dictlist = []\n",
    "for key, value in FinalModelList.iteritems():\n",
    "    temp = key\n",
    "    dictlist.append(temp)\n",
    "print(dictlist)"
   ]
  },
  {
   "cell_type": "code",
   "execution_count": 96,
   "metadata": {},
   "outputs": [
    {
     "name": "stdout",
     "output_type": "stream",
     "text": [
      "['FinalModel0-e04', 'FinalModel2-e03', 'FinalModel1-e04', 'FinalModel3-e09', 'FinalModel4-e07']\n",
      "[<keras.engine.training.Model object at 0x7f4ec1ae0050>, <keras.engine.training.Model object at 0x7f4ec1451a90>, <keras.engine.training.Model object at 0x7f4ec15b2750>, <keras.engine.training.Model object at 0x7f4ec135a3d0>, <keras.engine.training.Model object at 0x7f4ec120e290>]\n",
      "934/934 [==============================] - 4s 4ms/step\n"
     ]
    },
    {
     "data": {
      "text/html": [
       "<div>\n",
       "<style scoped>\n",
       "    .dataframe tbody tr th:only-of-type {\n",
       "        vertical-align: middle;\n",
       "    }\n",
       "\n",
       "    .dataframe tbody tr th {\n",
       "        vertical-align: top;\n",
       "    }\n",
       "\n",
       "    .dataframe thead th {\n",
       "        text-align: right;\n",
       "    }\n",
       "</style>\n",
       "<table border=\"1\" class=\"dataframe\">\n",
       "  <thead>\n",
       "    <tr style=\"text-align: right;\">\n",
       "      <th></th>\n",
       "      <th>loss</th>\n",
       "      <th>acc</th>\n",
       "      <th>precision</th>\n",
       "      <th>recall</th>\n",
       "    </tr>\n",
       "  </thead>\n",
       "  <tbody>\n",
       "    <tr>\n",
       "      <th>FinalModel0-e0</th>\n",
       "      <td>0.55830</td>\n",
       "      <td>0.735500</td>\n",
       "      <td>0.718300</td>\n",
       "      <td>0.808900</td>\n",
       "    </tr>\n",
       "    <tr>\n",
       "      <th>FinalModel1-e1</th>\n",
       "      <td>0.55930</td>\n",
       "      <td>0.730200</td>\n",
       "      <td>0.726700</td>\n",
       "      <td>0.775100</td>\n",
       "    </tr>\n",
       "    <tr>\n",
       "      <th>ensembleModel</th>\n",
       "      <td>0.53853</td>\n",
       "      <td>0.729122</td>\n",
       "      <td>0.709212</td>\n",
       "      <td>0.820307</td>\n",
       "    </tr>\n",
       "    <tr>\n",
       "      <th>FinalModel4-e4</th>\n",
       "      <td>0.63870</td>\n",
       "      <td>0.728100</td>\n",
       "      <td>0.696700</td>\n",
       "      <td>0.835300</td>\n",
       "    </tr>\n",
       "    <tr>\n",
       "      <th>FinalModel3-e3</th>\n",
       "      <td>0.68490</td>\n",
       "      <td>0.715200</td>\n",
       "      <td>0.682500</td>\n",
       "      <td>0.843100</td>\n",
       "    </tr>\n",
       "    <tr>\n",
       "      <th>FinalModel2-e2</th>\n",
       "      <td>0.58310</td>\n",
       "      <td>0.702400</td>\n",
       "      <td>0.719900</td>\n",
       "      <td>0.685700</td>\n",
       "    </tr>\n",
       "  </tbody>\n",
       "</table>\n",
       "</div>"
      ],
      "text/plain": [
       "                   loss       acc  precision    recall\n",
       "FinalModel0-e0  0.55830  0.735500   0.718300  0.808900\n",
       "FinalModel1-e1  0.55930  0.730200   0.726700  0.775100\n",
       "ensembleModel   0.53853  0.729122   0.709212  0.820307\n",
       "FinalModel4-e4  0.63870  0.728100   0.696700  0.835300\n",
       "FinalModel3-e3  0.68490  0.715200   0.682500  0.843100\n",
       "FinalModel2-e2  0.58310  0.702400   0.719900  0.685700"
      ]
     },
     "execution_count": 96,
     "metadata": {},
     "output_type": "execute_result"
    }
   ],
   "source": [
    "dictlist = []\n",
    "for key, value in FinalModelList.iteritems():\n",
    "    temp = key\n",
    "    dictlist.append(temp)\n",
    "print(dictlist)\n",
    "models = [FinalModelList[dictlist[0]], FinalModelList[dictlist[1]], FinalModelList[dictlist[2]], \\\n",
    "          FinalModelList[dictlist[3]], FinalModelList[dictlist[4]]]\n",
    "def ensemble(models):    \n",
    "    global eModel\n",
    "    outputs = [model.outputs[0] for model in models]\n",
    "    y = keras.layers.Average()(outputs)   \n",
    "    eModel = Model(inputs=Model_base.input, outputs = y, name='ensemble')  \n",
    "    eModel.compile(optimizer='rmsprop', loss='binary_crossentropy',\n",
    "                   metrics=['accuracy', precision, recall, fmeasure])\n",
    "    return eModel\n",
    "ensemble_model = ensemble(models)\n",
    "ensResults = ensemble_model.evaluate(test_images, test_labels)\n",
    "Res = pd.DataFrame(data = ensResults[:4], columns = ['ensembleModel'], index = metrics)\n",
    "Res.transpose()\n",
    "FinalResults = pd.concat([d3['td0'], d3['td1'], d3['td2'], d3['td3'], d3['td4'], Res], axis=1)\n",
    "FinalResults = pd.DataFrame(data = FinalResults.transpose(), columns = metrics)\n",
    "FinalResults.sort_values(by = ['acc'], ascending = False)"
   ]
  },
  {
   "cell_type": "code",
   "execution_count": 102,
   "metadata": {},
   "outputs": [
    {
     "name": "stdout",
     "output_type": "stream",
     "text": [
      "IncV3_bs-64_triangular2_sz-315_blr-1e-05_mlr-0.0002_e-96_imagenet_All_0-e04\n"
     ]
    }
   ],
   "source": [
    "# change again the path name\n",
    "# saving the model   \n",
    "i = 0\n",
    "#FinName = str(filepath)[46:112] + '_ensemble' \n",
    "FinName = str(filepath)[46:last] + str(i) + dictlist[i][-4:]\n",
    "print(FinName)\n",
    "os.chdir(model_dir)\n",
    "#Final_model1 = ensemble_model # or\n",
    "Final_model = FinalModelList[dictlist[i]]\n",
    "# predictions = np.round(Final_model.predict(test_images),4)           \n",
    "# predictions_ensemble = np.round(Final_model1.predict(test_images),4)\n",
    "# for v1, v2 in zip(predictions[:5], predictions_ensemble[:5]):\n",
    "#     print('Best model prediction and ensemble prediction: \\t{} \\t{}'.format(v1, v2))"
   ]
  },
  {
   "cell_type": "code",
   "execution_count": 103,
   "metadata": {},
   "outputs": [],
   "source": [
    "Final_model.save(FinName)"
   ]
  },
  {
   "cell_type": "code",
   "execution_count": null,
   "metadata": {},
   "outputs": [],
   "source": [
    "# calculating the ROC    \n",
    "y_pred = Final_model.predict(test_images, batch_size = 64)\n",
    "y_true = test_labels\n",
    "fpr, tpr, thresholds = roc_curve(y_true, y_pred, pos_label = 1)\n",
    "roc_auc = auc(fpr, tpr)\n",
    "plt.figure()\n",
    "plt.plot(fpr, tpr, color='lime',\n",
    "         lw=2, label='ROC curve (area = %0.2f)' % roc_auc)\n",
    "plt.plot([0, 1], [0, 1], color='darkgrey', lw=2, linestyle='--')\n",
    "plt.xlim([-0.05, 1.0])\n",
    "plt.ylim([0.0, 1.05])\n",
    "plt.xlabel('False Positive Rate')\n",
    "plt.ylabel('True Positive Rate')\n",
    "plt.title('Receiver operating characteristic Curve')\n",
    "plt.legend(loc=\"lower right\")\n",
    "plt.show()"
   ]
  },
  {
   "cell_type": "code",
   "execution_count": null,
   "metadata": {
    "collapsed": true
   },
   "outputs": [],
   "source": [
    "# calculating the ROC    \n",
    "y_pred = Final_model.predict(test_images, batch_size = 64)\n",
    "y_true = test_labels\n",
    "fpr, tpr, thresholds = roc_curve(y_true, y_pred, pos_label = 1)\n",
    "roc_auc = auc(fpr, tpr)\n",
    "plt.figure()\n",
    "plt.plot(fpr, tpr, color='lime',\n",
    "         lw=2, label='ROC curve (area = %0.2f)' % roc_auc)\n",
    "plt.plot([0, 1], [0, 1], color='darkgrey', lw=2, linestyle='--')\n",
    "plt.xlim([-0.05, 1.0])\n",
    "plt.ylim([0.0, 1.05])\n",
    "plt.xlabel('False Positive Rate')\n",
    "plt.ylabel('True Positive Rate')\n",
    "plt.title('Receiver operating characteristic Curve')\n",
    "plt.legend(loc=\"lower right\")\n",
    "plt.show()\n",
    "\n",
    "# evaluation with bootstrapping\n",
    "seed(1)\n",
    "ratio = 0.1\n",
    "y_pred_1 = Final_model.predict(test_images, batch_size = 64).squeeze(axis = 1)\n",
    "def subsample(dataset = y_pred_1, labels = test_labels, ratio= ratio):\n",
    "    pred_sample = list()\n",
    "    label_sample = list()\n",
    "    n_sample = round(len(dataset) * ratio)\n",
    "    index = sample(range(len(dataset)), n_sample)\n",
    "    pred_sample = dataset[index]\n",
    "    label_sample = labels[index]           \n",
    "    return pred_sample, label_sample\n",
    "\n",
    "loss = []\n",
    "accuracy = []\n",
    "precisions = []\n",
    "recalls = []\n",
    "f_measures = []\n",
    "    \n",
    "def bootstrap(iterations = 20, ratio = ratio, dataset = y_pred_1, labels = test_labels):    \n",
    "    for i in range (iterations):\n",
    "        b_pred, b_labels = subsample(dataset, labels, ratio)\n",
    "        lo = cross_entropy(b_pred, b_labels)\n",
    "        b_pred_rounded = b_pred.round()\n",
    "        acc = accuracy_score(b_labels, b_pred_rounded)\n",
    "        pre = precision_score(b_labels, b_pred_rounded)\n",
    "        rec = recall_score(b_labels, b_pred_rounded)\n",
    "        fme = f1_score(b_labels, b_pred_rounded)\n",
    "        loss.append(lo)\n",
    "        accuracy.append(acc)\n",
    "        precisions.append(pre)\n",
    "        recalls.append(rec)\n",
    "        f_measures.append(fme)\n",
    "        if (i%100 == 0): \n",
    "            print('Iteration_' + str(i))\n",
    "        \n",
    "bootstrap(iterations = 10000)\n",
    "plt.hist(accuracy, bins = 100, range = [0,1])\n",
    "plt.hist(precisions, bins = 100, range = [0,1])\n",
    "plt.hist(recalls, bins = 100, range = [0,1])\n",
    "plt.hist(loss, bins = 100)\n",
    "\n",
    "##################### second training stage ###################################\n",
    "for i, layer in enumerate(Model_base.layers):\n",
    "   if ('mix' in layer.name):\n",
    "       print(i, layer.name)\n",
    "for layer in Final_model.layers[:275]:\n",
    "   layer.trainable = False\n",
    "for layer in Final_model.layers[275:]:\n",
    "   layer.trainable = True\n",
    "\n",
    "Final_model.compile(optimizer=SGD(lr=0.0001, momentum=0.9), \n",
    "              loss='binary_crossentropy', metrics = ['acc'])\n",
    "def train2_IncResNet_model(epochs = 21):\n",
    "    global no_of_epochs\n",
    "    Final_model.fit(x = train_images, y = train_labels, epochs = epochs)\n",
    "    no_of_epochs = no_of_epochs + epochs\n",
    "train2_IncResNet_model(epochs = 21)\n",
    "\n",
    "result = Final_model.evaluate(test_images, test_labels)\n",
    "for name, value in zip(Final_model.metrics_names, result):\n",
    "    print(name, value)\n",
    "\n",
    "### making predictions on the test data\n",
    "predictions = Final_model.predict(test_images).squeeze(axis = 1)\n",
    "binary_preds = predictions.round()\n",
    "print(predictions[0:10], binary_preds[0:10])\n",
    "\n",
    "# Plot a few images to see if the data is correct\n",
    "images = test_images[9:18]\n",
    "cls_true = test_labels[9:18].astype(int)\n",
    "plot_images(images=images, cls_true=cls_true)\n",
    "cls_pred = binary_preds[9:18]\n",
    "plot_images(images=images, cls_true=cls_true, cls_pred = cls_pred)    \n",
    "\n",
    "### checking test accuracy, example errors and confusion matrix\n",
    "print_test_accuracy\n",
    "\n",
    "### checking which layers are convolutional layers\n",
    "for i, layer in enumerate(Model_base.layers):\n",
    "   if ('conv' in layer.name):\n",
    "       print(i, layer.name)\n",
    "\n",
    "plot_weights(input_channel = 0, layer_index = 1)\n",
    "plot_weights(input_channel = 1, layer_index = 1)\n",
    "\n",
    "\n",
    "\n",
    "\n",
    "\n",
    "\n",
    "\n",
    "\n",
    "\n",
    "\n",
    "\n",
    "\n",
    "\n",
    "\n",
    "\n",
    "\n",
    "\n",
    "\n",
    "#*****************************************************************************\n",
    "################# HELPER FUNCTIONS ###########################################\n",
    "#\n",
    "#*****************************************************************************\n",
    "\n",
    "### Helper function for confusion matrix #####################################\n",
    "import itertools\n",
    "classes = ['no sp', 'sp']\n",
    "\n",
    "def plot_confusion_matrix(cm = cm, classes = classes,\n",
    "                          normalize=False,\n",
    "                          title='Confusion matrix',\n",
    "                          cmap=plt.cm.Blues):\n",
    "    \"\"\"\n",
    "    This function prints and plots the confusion matrix.\n",
    "    Normalization can be applied by setting `normalize=True`.\n",
    "    \"\"\"\n",
    "    if normalize:\n",
    "        cm = cm.astype('float') / cm.sum()\n",
    "        print(\"Normalized confusion matrix\")\n",
    "    else:\n",
    "        print('Confusion matrix, without normalization')\n",
    "    print(cm)\n",
    "    plt.imshow(cm, interpolation='nearest', cmap=cmap)\n",
    "    plt.title(title)\n",
    "    plt.colorbar()\n",
    "    tick_marks = np.arange(len(classes))\n",
    "    plt.xticks(tick_marks, classes)\n",
    "    plt.yticks(tick_marks, classes)\n",
    "    fmt = '.2f' if normalize else 'd'\n",
    "    thresh = cm.max() / 2.\n",
    "    for i, j in itertools.product(range(cm.shape[0]), range(cm.shape[1])):\n",
    "        plt.text(j, i, format(cm[i, j], fmt),\n",
    "                 horizontalalignment=\"center\",\n",
    "                 color=\"white\" if cm[i, j] > thresh else \"black\")     \n",
    "    plt.tight_layout(pad = 2)\n",
    "    plt.ylabel('True label')\n",
    "    plt.xlabel('Predicted label')\n",
    "\n",
    "\n",
    "###### Helper function for plotting images ####################################\n",
    "def plot_images(images, cls_true, cls_pred=None):\n",
    "    assert len(images) == len(cls_true) == 9\n",
    "    # Create figure with 3x3 sub-plots.\n",
    "    fig, axes = plt.subplots(3, 3)\n",
    "    fig.subplots_adjust(hspace=0.3, wspace=0.3)\n",
    "    for i, ax in enumerate(axes.flat):\n",
    "        ax.imshow(images[i], cmap='binary')\n",
    "        if cls_pred is None:\n",
    "            xlabel = \"Label: {0}\".format(cls_true[i])\n",
    "        else:\n",
    "            xlabel = \"Label: {0}, Pred: {1}\".format(cls_true[i], cls_pred[i])\n",
    "        # Show the classes as the label on the x-axis.\n",
    "        ax.set_xlabel(xlabel)\n",
    "        ax.set_xticks([])\n",
    "        ax.set_yticks([])\n",
    "    plt.show() \n",
    "    \n",
    "### Example errors\n",
    "def plot_example_errors(cls_pred, correct):\n",
    "    incorrect = (correct == False)\n",
    "    images = test_images[incorrect]\n",
    "    cls_pred = cls_pred[incorrect]\n",
    "    cls_true = test_labels[incorrect]\n",
    "    plot_images(images=images[0:9],\n",
    "                cls_true=cls_true[0:9],\n",
    "                cls_pred=cls_pred[0:9])\n",
    "\n",
    "def print_test_accuracy(show_example_errors=True,\n",
    "                        show_confusion_matrix=True, \n",
    "                        show_first_10_preds = True):\n",
    "    num_test = len(test_images)\n",
    "    #cls_pred = np.zeros(shape=num_test, dtype=np.int)\n",
    "    cls_pred = Final_model.predict(test_images).squeeze(axis = 1).round()\n",
    "    cls_true = test_labels\n",
    "    correct = (cls_true == cls_pred)\n",
    "    correct_sum = correct.sum()\n",
    "    acc = float(correct_sum) / num_test\n",
    "    msg = \"Accuracy on Test-Set: {0:.1%} ({1} / {2})\"\n",
    "    print(msg.format(acc, correct_sum, num_test))\n",
    "    # Plot some examples of mis-classifications, if desired.\n",
    "    if show_example_errors:\n",
    "        print(\"Example errors:\")\n",
    "        plot_example_errors(cls_pred=cls_pred, correct=correct)\n",
    "    # Plot the confusion matrix, if desired.\n",
    "    if show_confusion_matrix:\n",
    "        print(\"Confusion Matrix:\")\n",
    "        cm = confusion_matrix(test_labels, cls_pred.round())\n",
    "        plot_confusion_matrix(cm = cm)\n",
    "    # Show the first hundred predictions made:\n",
    "    if show_first_10_preds:\n",
    "        print(\"First 10 predictions:\")\n",
    "        print(cls_pred[0:10])\n",
    "\n",
    "\n",
    "#### Helper function for plotting the output of a convolutional layer\n",
    "#def plot_conv_layer(layer, image):\n",
    "#    feed_dict = {x: [image]}\n",
    "#    values = IncResNet_model.run(layer, feed_dict=feed_dict)\n",
    "#    num_filters = values.shape[3]\n",
    "#    num_grids = math.ceil(math.sqrt(num_filters))\n",
    "#    fig, axes = plt.subplots(num_grids, num_grids)\n",
    "#    for i, ax in enumerate(axes.flat):\n",
    "#        if i<num_filters:\n",
    "#            img = values[0, :, :, i]\n",
    "#            ax.imshow(img, interpolation='nearest', cmap='binary')\n",
    "#        ax.set_xticks([])\n",
    "#        ax.set_yticks([])\n",
    "#    plt.show()\n",
    "\n",
    "### Helper function for conv weights\n",
    "def plot_weights(input_channel=0, layer_index = 1):\n",
    "    w = Final_model.layers[layer_index].get_weights()[0]\n",
    "    w_min = np.min(w)\n",
    "    w_max = np.max(w)\n",
    "    num_filters = w.shape[3]\n",
    "    num_grids = math.ceil(math.sqrt(num_filters))\n",
    "    fig, axes = plt.subplots(num_grids, num_grids)\n",
    "    for i, ax in enumerate(axes.flat):\n",
    "        if i<num_filters:\n",
    "            img = w[:, :, input_channel, i]\n",
    "            ax.imshow(img, vmin=w_min, vmax=w_max,\n",
    "                      interpolation='nearest', cmap='seismic')\n",
    "        ax.set_xticks([])\n",
    "        ax.set_yticks([])\n",
    "    plt.show()"
   ]
  }
 ],
 "metadata": {
  "kernelspec": {
   "display_name": "Python [default]",
   "language": "python",
   "name": "python2"
  },
  "language_info": {
   "codemirror_mode": {
    "name": "ipython",
    "version": 2
   },
   "file_extension": ".py",
   "mimetype": "text/x-python",
   "name": "python",
   "nbconvert_exporter": "python",
   "pygments_lexer": "ipython2",
   "version": "2.7.15"
  }
 },
 "nbformat": 4,
 "nbformat_minor": 2
}
