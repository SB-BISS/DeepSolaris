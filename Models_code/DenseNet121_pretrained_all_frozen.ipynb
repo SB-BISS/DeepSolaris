{
 "cells": [
  {
   "cell_type": "code",
   "execution_count": 1,
   "metadata": {
    "collapsed": true
   },
   "outputs": [],
   "source": [
    "\"\"\"DenseNet models for Keras.\n",
    "# Reference paper\n",
    "- [Densely Connected Convolutional Networks]\n",
    "  (https://arxiv.org/abs/1608.06993) (CVPR 2017 Best Paper Award)\n",
    "# Reference implementation\n",
    "- [Torch DenseNets]\n",
    "  (https://github.com/liuzhuang13/DenseNet/blob/master/models/densenet.lua)\n",
    "- [TensorNets]\n",
    "  (https://github.com/taehoonlee/tensornets/blob/master/tensornets/densenets.py)\n",
    "\"\"\"\n",
    "\n",
    "from __future__ import absolute_import\n",
    "from __future__ import division\n",
    "from __future__ import print_function\n",
    "\n",
    "### setting the different directories \n",
    "\n",
    "# on the server (linux):\n",
    "# where to find the images:\n",
    "#home_dir = '/home/rick/Documents/HannahZ'\n",
    "# folder where to save code and so on\n",
    "#code_dir = home_dir + '/Code'\n",
    "# where to save the final models\n",
    "#model_dir = code_dir + '/Final_models'\n",
    "# where to save the logs for visualization in TensorBoard\n",
    "#log_dir = code_dir + '/logs'\n",
    "# where to save the weights\n",
    "#new_weight_dir = code_dir + '/new_weights'\n",
    "\n",
    "modelname = 'DenseNet121'\n",
    "\n",
    "# on my computer (windows):\n",
    "# where to find the images:\n",
    "home_dir = '\\\\Users\\\\ThinkPad User\\\\Google Drive\\\\DeepSolaris'\n",
    "# folder where to save code and so on\n",
    "code_dir = '\\\\Users\\\\ThinkPad User\\\\Google Drive\\\\Master_thesis_H_Z_DL&NN\\\\Coding'\n",
    "# where to save the final models\n",
    "model_dir = code_dir + '\\\\Final_models_saved'\n",
    "# where to save the logs for visualization in TensorBoard\n",
    "log_dir = code_dir + '\\\\logs'\n",
    "import os\n",
    "os.chdir(home_dir)"
   ]
  },
  {
   "cell_type": "code",
   "execution_count": 2,
   "metadata": {},
   "outputs": [
    {
     "name": "stderr",
     "output_type": "stream",
     "text": [
      "Using TensorFlow backend.\n"
     ]
    }
   ],
   "source": [
    "from keras import backend as K\n",
    "from keras.models import Model\n",
    "from keras.layers import Activation\n",
    "from keras.layers import AveragePooling2D\n",
    "from keras.layers import BatchNormalization\n",
    "from keras.layers import Concatenate\n",
    "from keras.layers import Conv2D\n",
    "from keras.layers import Dense\n",
    "from keras.layers import GlobalAveragePooling2D\n",
    "from keras.layers import GlobalMaxPooling2D\n",
    "from keras.layers import Input\n",
    "from keras.layers import MaxPooling2D\n",
    "from keras.layers import ZeroPadding2D\n",
    "from keras.utils.data_utils import get_file\n",
    "from keras.engine import get_source_inputs\n",
    "from keras.applications import imagenet_utils\n",
    "from keras.applications.imagenet_utils import decode_predictions\n",
    "from keras.applications.imagenet_utils import _obtain_input_shape \n",
    "\n",
    "from sklearn.model_selection import cross_validate\n",
    "from sklearn.metrics import roc_curve\n",
    "from sklearn.metrics import auc\n",
    "from sklearn.metrics import precision_score\n",
    "from sklearn.metrics import recall_score\n",
    "from sklearn.metrics import f1_score\n",
    "from keras.losses import binary_crossentropy\n",
    "\n",
    "\n",
    "from random import randrange\n",
    "from random import seed\n",
    "from random import sample\n",
    "import tensorflow as tf\n",
    "\n",
    "\n",
    "import itertools\n",
    "import matplotlib.pyplot as plt\n",
    "import numpy as np\n",
    "import pandas as pd\n",
    "from time import time\n",
    "from datetime import timedelta\n",
    "import math\n",
    "from sklearn.model_selection import train_test_split\n",
    "from datetime import datetime\n",
    "from keras.preprocessing import image\n",
    "from keras.optimizers import SGD\n",
    "from sklearn.metrics import accuracy_score\n",
    "from sklearn.metrics import confusion_matrix\n",
    "from keras.models import load_model\n",
    "from keras.callbacks import TensorBoard\n",
    "from keras.callbacks import EarlyStopping\n",
    "from keras.callbacks import ModelCheckpoint\n",
    "import keras\n",
    "from keras.callbacks import Callback"
   ]
  },
  {
   "cell_type": "code",
   "execution_count": 3,
   "metadata": {
    "collapsed": true
   },
   "outputs": [],
   "source": [
    "os.chdir(code_dir)\n",
    "import DenseNet_pretrained\n",
    "from DenseNet_pretrained import DenseNet\n",
    "from DenseNet_pretrained import conv_block\n",
    "from DenseNet_pretrained import transition_block\n",
    "from DenseNet_pretrained import dense_block\n",
    "from DenseNet_pretrained import DenseNet121"
   ]
  },
  {
   "cell_type": "code",
   "execution_count": 4,
   "metadata": {
    "collapsed": true
   },
   "outputs": [],
   "source": [
    "seed(0)\n",
    "### Helper metrics functions\n",
    "\n",
    "# def accuracy(y_true, y_pred):\n",
    "#     accuracy = K.mean(K.equal(y_true, K.round(y_pred)), axis=-1)\n",
    "#     return accuracy\n",
    "def precision(y_true, y_pred):\n",
    "    true_positives = K.sum(K.round(K.clip(y_true * y_pred, 0, 1)))\n",
    "    predicted_positives = K.sum(K.round(K.clip(y_pred, 0, 1)))\n",
    "    precision = true_positives / (predicted_positives + K.epsilon())\n",
    "    return precision\n",
    "    \n",
    "def recall(y_true, y_pred):\n",
    "    true_positives = K.sum(K.round(K.clip(y_true * y_pred, 0, 1)))\n",
    "    possible_positives = K.sum(K.round(K.clip(y_true, 0, 1)))\n",
    "    recall = true_positives / (possible_positives + K.epsilon())\n",
    "    return recall\n",
    "    \n",
    "    \n",
    "def fbeta_score(y_true, y_pred, beta=1):\n",
    "    if beta < 0:\n",
    "        raise ValueError('The lowest choosable beta is zero (only precision).')\n",
    "    # If there are no true positives, fix the F score at 0 like sklearn.\n",
    "    if K.sum(K.round(K.clip(y_true, 0, 1))) == 0:\n",
    "        return 0\n",
    "    p = precision(y_true, y_pred)\n",
    "    r = recall(y_true, y_pred)\n",
    "    bb = beta ** 2\n",
    "    fbeta_score = (1 + bb) * (p * r) / (bb * p + r + K.epsilon())\n",
    "    return fbeta_score\n",
    "\n",
    "\n",
    "def fmeasure(y_true, y_pred):\n",
    "    return fbeta_score(y_true, y_pred, beta=1)"
   ]
  },
  {
   "cell_type": "code",
   "execution_count": 5,
   "metadata": {},
   "outputs": [
    {
     "name": "stdout",
     "output_type": "stream",
     "text": [
      "Size of:\n",
      "- Training-set:\t\t3357\n",
      "- Validation-set:\t374\n",
      "- Test-set:\t\t934\n"
     ]
    }
   ],
   "source": [
    "no_of_epochs = 0\n",
    "\n",
    "### check if data are in the right format\n",
    "K.image_data_format() == 'channels_last'\n",
    "\n",
    "os.chdir(home_dir)\n",
    "train_images = np.load('training_images_AcMüDüHo.npy')\n",
    "valid_images = np.load('validation_images_AcMüDüHo.npy')\n",
    "test_images = np.load('test_images_AcMüDüHo.npy')\n",
    "train_labels = np.load('training_labels_AcMüDüHo.npy')\n",
    "valid_labels = np.load('validation_labels_AcMüDüHo.npy')\n",
    "test_labels = np.load('test_labels_AcMüDüHo.npy')\n",
    "\n",
    "print(\"Size of:\")\n",
    "print(\"- Training-set:\\t\\t{}\".format(len(train_labels)))\n",
    "print(\"- Validation-set:\\t{}\".format(len(valid_labels)))\n",
    "print(\"- Test-set:\\t\\t{}\".format(len(test_labels)))"
   ]
  },
  {
   "cell_type": "code",
   "execution_count": 6,
   "metadata": {
    "collapsed": true
   },
   "outputs": [],
   "source": [
    "## test-settings for no-gpu-case\n",
    "# test_size = 100\n",
    "# valid_size = int(0.1 * test_size)\n",
    "# train_images = train_images[:test_size,:,:,:]\n",
    "# valid_images = valid_images[:valid_size,:,:,:]\n",
    "# test_images = test_images[:valid_size,:,:,:]\n",
    "# train_labels = train_labels[:test_size]\n",
    "# valid_labels = valid_labels[:valid_size]\n",
    "# test_labels = test_labels[:valid_size]\n",
    "\n",
    "# print(\"Size of:\")\n",
    "# print(\"- Training-set:\\t\\t{}\".format(len(train_labels)))\n",
    "# print(\"- Validation-set:\\t{}\".format(len(valid_labels)))\n",
    "# print(\"- Test-set:\\t\\t{}\".format(len(test_labels)))\n"
   ]
  },
  {
   "cell_type": "code",
   "execution_count": 7,
   "metadata": {
    "collapsed": true
   },
   "outputs": [],
   "source": [
    "### Callbacks used\n",
    "# EarlStop = EarlyStopping(monitor='val_loss',\n",
    "#                              min_delta=0,\n",
    "#                             patience=20,\n",
    "#                            verbose=0, mode='auto')"
   ]
  },
  {
   "cell_type": "code",
   "execution_count": 8,
   "metadata": {
    "collapsed": true
   },
   "outputs": [],
   "source": [
    "os.chdir(code_dir)\n",
    "from Learning_rate_scheduler import LrReducer\n",
    "from CyclicLR import CyclicLR"
   ]
  },
  {
   "cell_type": "code",
   "execution_count": 9,
   "metadata": {
    "collapsed": true
   },
   "outputs": [],
   "source": [
    "# choose training specifications\n",
    "weights = 'imagenet' \n",
    "# otherwise weights = None\n",
    "trainable_layers = 'Frozen'\n",
    "# otherwise trainable_layers = x"
   ]
  },
  {
   "cell_type": "code",
   "execution_count": null,
   "metadata": {
    "collapsed": true
   },
   "outputs": [],
   "source": []
  },
  {
   "cell_type": "code",
   "execution_count": null,
   "metadata": {
    "collapsed": true
   },
   "outputs": [],
   "source": [
    "# importing the currently used model\n",
    "import keras\n",
    "\n",
    "### create the base pre-trained model\n",
    "Model_base = keras.applications.xception.Xception(weights = 'imagenet', include_top=False)"
   ]
  },
  {
   "cell_type": "code",
   "execution_count": null,
   "metadata": {
    "collapsed": true
   },
   "outputs": [],
   "source": []
  },
  {
   "cell_type": "code",
   "execution_count": 13,
   "metadata": {
    "collapsed": true
   },
   "outputs": [],
   "source": [
    "# choose trainable layers as 'Frozen' or 'All' or some number\n",
    "trainable_layers = 'Frozen'\n",
    "# otherwise trainable_layers = x\n",
    "# add a global spatial average pooling layer to the pretrained model to \n",
    "# finish its compilation\n",
    "def compileModel(trainable_layers = 'Frozen'):\n",
    "    global Final_model\n",
    "    x = Model_base.output\n",
    "    x = GlobalAveragePooling2D()(x)\n",
    "    # let's add a fully-connected layer\n",
    "    x = Dense(512, activation='relu')(x)\n",
    "    preds = Dense(1, activation='sigmoid')(x)\n",
    "    Final_model = Model(inputs=Model_base.input, outputs=preds)\n",
    "    if (trainable_layers == 'Frozen'):\n",
    "        for layer in Model_base.layers:   # only train the new layers first\n",
    "            layer.trainable = False\n",
    "    elif (trainable_layers == 'All'):\n",
    "        for layer in Model_base.layers:   # only train the new layers first\n",
    "            layer.trainable = True\n",
    "    else:\n",
    "        for layer in Model_base.layers[:trainable_layers]:\n",
    "            layer.trainable = False\n",
    "        for layer in Model_base.layers[trainable_layers:]:  \n",
    "            layer.trainable = True\n",
    "    Final_model.compile(optimizer='rmsprop', loss='binary_crossentropy', \n",
    "                            metrics=['accuracy', precision, recall, fmeasure])"
   ]
  },
  {
   "cell_type": "code",
   "execution_count": null,
   "metadata": {
    "collapsed": true
   },
   "outputs": [],
   "source": [
    "# choose trainable layers as 'Frozen' or 'All' or some number\n",
    "trainable_layers = 'Frozen'\n",
    "# otherwise trainable_layers = x\n",
    "# add a global spatial average pooling layer to the pretrained model to \n",
    "# finish its compilation\n",
    "def compileModel(trainable_layers = 'Frozen'):\n",
    "    global Final_model\n",
    "    x = Model_base.output\n",
    "    x = GlobalAveragePooling2D()(x)\n",
    "    # let's add a fully-connected layer\n",
    "    x = Dense(512, activation='relu')(x)\n",
    "    preds = Dense(1, activation='sigmoid')(x)\n",
    "    Final_model = Model(inputs=Model_base.input, outputs=preds)\n",
    "    if (trainable_layers == 'Frozen'):\n",
    "        for layer in Model_base.layers:   # only train the new layers first\n",
    "            layer.trainable = False\n",
    "    elif (trainable_layers == 'All'):\n",
    "        for layer in Model_base.layers:   # only train the new layers first\n",
    "            layer.trainable = True\n",
    "    else:\n",
    "        for layer in Model_base.layers[:trainable_layers]:\n",
    "            layer.trainable = False\n",
    "        for layer in Model_base.layers[trainable_layers:]:  \n",
    "            layer.trainable = True\n",
    "    Final_model.compile(optimizer='rmsprop', loss='binary_crossentropy', \n",
    "                            metrics=['accuracy', precision, recall, fmeasure])"
   ]
  },
  {
   "cell_type": "code",
   "execution_count": 14,
   "metadata": {
    "collapsed": true
   },
   "outputs": [],
   "source": [
    "###################### first training stage ###################################\n",
    "def train_Model(verbose =1, times = 2, epochs = 100, base_lr = 0.00001, max_lr=0.001, mode = 'triangular', \n",
    "                stepsize = 157, batch_size = 64, use_tensorboard = False, use_checkp = False):\n",
    "    start_time = time()   \n",
    "    global h\n",
    "    global no_of_epochs\n",
    "    global name\n",
    "    global filepath\n",
    "    date = str(datetime.now().date())\n",
    "    # logdir in linux:\n",
    "    logdir = (log_dir + '/' + date + '_' + str(batch_size) + '_' + str(mode) + '_si-' + str(stepsize) + '_base-' \n",
    "              + str(base_lr) + '_max-' + str(max_lr) + '_' + str(times))\n",
    "    # logdir in windows:\n",
    "    ##logdir = (log_dir + '\\\\' + date + '_' + str(batch_size) + '_' + str(mode) + '_si-' + str(stepsize) + \n",
    "    #          '_base-' + str(base_lr) + '_max-' + str(max_lr) + '_' + str(times))\n",
    "    name = ('batch size: ' + str(batch_size) + ', mode: ' + str(mode) + ', stepsize: ' \n",
    "            + str(stepsize) + ', base-lr: ' + str(base_lr) + ', max-lr ' + str(max_lr) + ', *' + str(times))\n",
    "    print(' - Model specifics:\\t{}'.format(name))\n",
    "    clr = CyclicLR(base_lr = base_lr, max_lr=max_lr,\n",
    "                        step_size= stepsize, mode = mode)\n",
    "    fp = ('bs-' + str(batch_size) + '_' + str(mode) + '_sz-' + str(stepsize) + '_blr-' + str(base_lr) + '_mlr-' \n",
    "        + str(max_lr)) + '_' + weights + '_' + trainable_layers\n",
    "    filepath = model_dir + '/' + fp + '.hdf5'\n",
    "    checkp = ModelCheckpoint(filepath, monitor='val_acc', verbose=1, save_weights_only=True, \n",
    "                            save_best_only=True, mode='max', period=1)\n",
    "    tbCallBack = TensorBoard(log_dir=logdir, histogram_freq=0, \n",
    "                         write_graph=False, write_images=False)\n",
    "    if (use_checkp == True):\n",
    "        Final_model.fit(x = train_images, y = train_labels, epochs = epochs, callbacks= [tbCallBack, clr, checkp], \n",
    "                        validation_data = (valid_images, valid_labels), batch_size = batch_size,verbose = verbose)\n",
    "    else:\n",
    "        if (use_tensorboard == True):\n",
    "            Final_model.fit(x = train_images, y = train_labels, epochs = epochs, callbacks= [tbCallBack, clr], \n",
    "                            validation_data = (valid_images, valid_labels), batch_size = batch_size, \n",
    "                            verbose = verbose)\n",
    "        else:\n",
    "            Final_model.fit(x = train_images, y = train_labels, epochs = epochs, callbacks= [clr], \n",
    "                            validation_data = (valid_images, valid_labels), batch_size = batch_size, \n",
    "                            verbose = verbose)\n",
    "    no_of_epochs = no_of_epochs + epochs\n",
    "    h = []\n",
    "    h = clr.history\n",
    "    end_time = time()\n",
    "    time_dif = end_time - start_time\n",
    "    print('Time usage: ' + str(timedelta(seconds=int(round(time_dif)))) + ' minutes')"
   ]
  },
  {
   "cell_type": "code",
   "execution_count": 108,
   "metadata": {},
   "outputs": [
    {
     "name": "stdout",
     "output_type": "stream",
     "text": [
      " - Model specifics:\tbatch size: 64, mode: triangular, stepsize: 157, base-lr: 1e-05, max-lr 0.001, *1\n",
      "Train on 3357 samples, validate on 374 samples\n",
      "Epoch 1/2\n",
      " 320/3357 [=>............................] - ETA: 26s - loss: 0.8042 - acc: 0.5344 - precision: 0.5247 - recall: 0.4607 - fmeasure: 0.4876"
     ]
    },
    {
     "name": "stderr",
     "output_type": "stream",
     "text": [
      "/home/rick/.conda/envs/hannah_z/lib/python3.6/site-packages/keras/callbacks.py:120: UserWarning: Method on_batch_end() is slow compared to the batch update (0.155287). Check your callbacks.\n",
      "  % delta_t_median)\n"
     ]
    },
    {
     "name": "stdout",
     "output_type": "stream",
     "text": [
      "3357/3357 [==============================] - 7s 2ms/step - loss: 0.5799 - acc: 0.7015 - precision: 0.6977 - recall: 0.7148 - fmeasure: 0.6999 - val_loss: 0.9096 - val_acc: 0.7460 - val_precision: 0.6674 - val_recall: 0.9558 - val_fmeasure: 0.7853\n",
      "Epoch 2/2\n",
      "3357/3357 [==============================] - 3s 953us/step - loss: 0.3731 - acc: 0.8362 - precision: 0.8398 - recall: 0.8414 - fmeasure: 0.8354 - val_loss: 0.5774 - val_acc: 0.8021 - val_precision: 0.7623 - val_recall: 0.8537 - val_fmeasure: 0.8052\n",
      "Time usage: 0:00:16 minutes\n",
      "3357/3357 [==============================] - 3s 851us/step\n",
      "374/374 [==============================] - 0s 846us/step\n",
      "934/934 [==============================] - 1s 901us/step\n",
      "- Training accuracy:\t0.8183\n",
      "- Validation accuracy:\t0.8021\n",
      "- Test accuracy:\t0.7816\n"
     ]
    }
   ],
   "source": [
    "h = []\n",
    "compileModel()\n",
    "train_Model(times = 1, epochs = 2, use_tensorboard = True)\n",
    "train_acc = round(Final_model.evaluate(train_images, train_labels, 128)[1],4)\n",
    "valid_acc = round(Final_model.evaluate(valid_images, valid_labels, 128)[1],4)\n",
    "test_acc = round(Final_model.evaluate(test_images, test_labels, 128)[1],4)\n",
    "\n",
    "print(\"- Training accuracy:\\t{}\".format(train_acc))\n",
    "print(\"- Validation accuracy:\\t{}\".format(valid_acc))\n",
    "print(\"- Test accuracy:\\t{}\".format(test_acc))"
   ]
  },
  {
   "cell_type": "code",
   "execution_count": 45,
   "metadata": {},
   "outputs": [
    {
     "data": {
      "text/plain": [
       "[<matplotlib.lines.Line2D at 0x7ff1e50d2e80>]"
      ]
     },
     "execution_count": 45,
     "metadata": {},
     "output_type": "execute_result"
    },
    {
     "data": {
      "image/png": "[encoded data removed]",
      "text/plain": [
       "<Figure size 432x288 with 1 Axes>"
      ]
     },
     "metadata": {},
     "output_type": "display_data"
    }
   ],
   "source": [
    "stepsize = 157\n",
    "len(h)\n",
    "%matplotlib inline\n",
    "lr = h['lr'][:stepsize]\n",
    "acc = h['acc'][:stepsize]\n",
    "plt.plot(lr, acc)"
   ]
  },
  {
   "cell_type": "code",
   "execution_count": 82,
   "metadata": {
    "collapsed": true
   },
   "outputs": [],
   "source": [
    "### choose your learning rates now! The one where the accuracy starts to rise as base_lr and the one where it stops\n",
    "### growing/ starts to tumble as max_lr"
   ]
  },
  {
   "cell_type": "code",
   "execution_count": 169,
   "metadata": {
    "collapsed": true
   },
   "outputs": [],
   "source": [
    "# experiment with different learning rate ranges\n",
    "def learning_rate_finder(rep = 5, epochs = 50):\n",
    "    start_time = time() \n",
    "    global test_acc_list\n",
    "    global valid_acc_list\n",
    "    global train_acc_list\n",
    "    global test_loss_list\n",
    "    global valid_loss_list\n",
    "    global train_loss_list\n",
    "    global test_prec_list\n",
    "    global valid_prec_list\n",
    "    global train_prec_list\n",
    "    global test_rec_list\n",
    "    global valid_rec_list\n",
    "    global train_rec_list\n",
    "    global model_details\n",
    "    model_details = []\n",
    "    test_acc_list = []\n",
    "    valid_acc_list = []\n",
    "    train_acc_list = []\n",
    "    test_loss_list = []\n",
    "    valid_loss_list = []\n",
    "    train_loss_list = []\n",
    "    test_prec_list = []\n",
    "    valid_prec_list = []\n",
    "    train_prec_list = []\n",
    "    test_rec_list = []\n",
    "    valid_rec_list = []\n",
    "    train_rec_list = []\n",
    "    for blr in [0.00001, 0.00005, 0.0001]:\n",
    "        print('NEXT LEARNINGRATE: {}'.format(blr))\n",
    "        for mlr in [0.0003, 0.0006, 0.0009]:\n",
    "            print('Models with base lr = ' + str(blr) + ' and max lr = ' + str(mlr))\n",
    "            for i in range(rep):\n",
    "                    compileModel()\n",
    "                    times = i\n",
    "                    if (i == 0):\n",
    "                        train_Model(times = times, epochs = epochs, base_lr = blr, max_lr = mlr, verbose = 0, \n",
    "                                    use_tensorboard = True)\n",
    "                    else:\n",
    "                        train_Model(times = times, epochs = epochs, base_lr = blr, max_lr = mlr, verbose = 0)\n",
    "                    train_metrics = Final_model.evaluate(train_images, train_labels)\n",
    "                    valid_metrics = Final_model.evaluate(valid_images, valid_labels)\n",
    "                    test_metrics = Final_model.evaluate(test_images, test_labels)\n",
    "                    train_acc = train_metrics[1]\n",
    "                    valid_acc = valid_metrics[1]\n",
    "                    test_acc = test_metrics[1]\n",
    "                    train_loss = train_metrics[0]\n",
    "                    valid_loss = valid_metrics[0]\n",
    "                    test_loss = test_metrics[0]\n",
    "                    train_prec = train_metrics[2]\n",
    "                    valid_prec = valid_metrics[2]\n",
    "                    test_prec = test_metrics[2]\n",
    "                    train_rec = train_metrics[3]\n",
    "                    valid_rec = valid_metrics[3]\n",
    "                    test_rec = test_metrics[3]                                \n",
    "                    test_acc_list.append(test_acc)\n",
    "                    valid_acc_list.append(valid_acc)\n",
    "                    train_acc_list.append(train_acc)\n",
    "                    test_loss_list.append(test_loss)\n",
    "                    valid_loss_list.append(valid_loss)\n",
    "                    train_loss_list.append(train_loss)\n",
    "                    test_prec_list.append(test_prec)\n",
    "                    valid_prec_list.append(valid_prec)\n",
    "                    train_prec_list.append(train_prec)\n",
    "                    test_rec_list.append(test_rec)\n",
    "                    valid_rec_list.append(valid_rec)\n",
    "                    train_rec_list.append(train_rec)\n",
    "                    model_details.append(name)\n",
    "            print(\"- Training accuracies:\\t{}\".format(train_accuracy_list))\n",
    "            print(\"- validation accuracies:\\t{}\".format(valid_accuracy_list))\n",
    "            print(\"- Testing accuracies:\\t{}\".format(test_accuracy_list))\n",
    "            print('')\n",
    "            print('')\n",
    "    end_time = time()\n",
    "    time_dif = end_time - start_time\n",
    "    print('Time usage: ' + str(timedelta(seconds=int(round(time_dif)))) + ' minutes')        "
   ]
  },
  {
   "cell_type": "code",
   "execution_count": 170,
   "metadata": {},
   "outputs": [
    {
     "name": "stdout",
     "output_type": "stream",
     "text": [
      "NEXT LEARNINGRATE: 1e-05\n",
      "Models with base lr = 1e-05 and max lr = 0.0003\n",
      " - Model specifics:\tbatch size: 64, mode: triangular, stepsize: 157, base-lr: 1e-05, max-lr 0.0003, *0\n"
     ]
    },
    {
     "name": "stderr",
     "output_type": "stream",
     "text": [
      "/home/rick/.conda/envs/hannah_z/lib/python3.6/site-packages/keras/callbacks.py:120: UserWarning: Method on_batch_end() is slow compared to the batch update (0.415617). Check your callbacks.\n",
      "  % delta_t_median)\n"
     ]
    },
    {
     "name": "stdout",
     "output_type": "stream",
     "text": [
      "Time usage: 0:00:40 minutes\n",
      "3357/3357 [==============================] - 4s 1ms/step\n",
      "374/374 [==============================] - 0s 1ms/step\n",
      "934/934 [==============================] - 1s 1ms/step\n",
      "3357/3357 [==============================] - 4s 1ms/step\n",
      "374/374 [==============================] - 0s 1ms/step\n",
      "934/934 [==============================] - 1s 1ms/step\n",
      "3357/3357 [==============================] - 4s 1ms/step\n",
      "374/374 [==============================] - 0s 1ms/step\n",
      "934/934 [==============================] - 1s 1ms/step\n",
      "3357/3357 [==============================] - 4s 1ms/step\n",
      "374/374 [==============================] - 0s 1ms/step\n",
      "934/934 [==============================] - 1s 1ms/step\n",
      " - Model specifics:\tbatch size: 64, mode: triangular, stepsize: 157, base-lr: 1e-05, max-lr 0.0003, *1\n"
     ]
    },
    {
     "name": "stderr",
     "output_type": "stream",
     "text": [
      "/home/rick/.conda/envs/hannah_z/lib/python3.6/site-packages/keras/callbacks.py:120: UserWarning: Method on_batch_end() is slow compared to the batch update (0.413662). Check your callbacks.\n",
      "  % delta_t_median)\n"
     ]
    },
    {
     "name": "stdout",
     "output_type": "stream",
     "text": [
      "Time usage: 0:00:34 minutes\n",
      "3357/3357 [==============================] - 4s 1ms/step\n",
      "374/374 [==============================] - 0s 1ms/step\n",
      "934/934 [==============================] - 1s 1ms/step\n",
      "3357/3357 [==============================] - 4s 1ms/step\n",
      "374/374 [==============================] - 0s 1ms/step\n",
      "934/934 [==============================] - 1s 1ms/step\n",
      "3357/3357 [==============================] - 4s 1ms/step\n",
      "374/374 [==============================] - 0s 1ms/step\n",
      "934/934 [==============================] - 1s 1ms/step\n",
      "3357/3357 [==============================] - 4s 1ms/step\n",
      "374/374 [==============================] - 0s 1ms/step\n",
      "934/934 [==============================] - 1s 1ms/step\n",
      " - Model specifics:\tbatch size: 64, mode: triangular, stepsize: 157, base-lr: 1e-05, max-lr 0.0003, *2\n"
     ]
    },
    {
     "name": "stderr",
     "output_type": "stream",
     "text": [
      "/home/rick/.conda/envs/hannah_z/lib/python3.6/site-packages/keras/callbacks.py:120: UserWarning: Method on_batch_end() is slow compared to the batch update (0.426725). Check your callbacks.\n",
      "  % delta_t_median)\n"
     ]
    },
    {
     "name": "stdout",
     "output_type": "stream",
     "text": [
      "Time usage: 0:00:35 minutes\n",
      "3357/3357 [==============================] - 4s 1ms/step\n",
      "374/374 [==============================] - 1s 1ms/step\n",
      "934/934 [==============================] - 1s 1ms/step\n",
      "3357/3357 [==============================] - 4s 1ms/step\n",
      "374/374 [==============================] - 0s 1ms/step\n",
      "934/934 [==============================] - 1s 1ms/step\n",
      "3357/3357 [==============================] - 4s 1ms/step\n",
      "374/374 [==============================] - 0s 1ms/step\n",
      "934/934 [==============================] - 1s 1ms/step\n",
      "3357/3357 [==============================] - 4s 1ms/step\n",
      "374/374 [==============================] - 0s 1ms/step\n",
      "934/934 [==============================] - 1s 1ms/step\n",
      " - Model specifics:\tbatch size: 64, mode: triangular, stepsize: 157, base-lr: 1e-05, max-lr 0.0003, *3\n"
     ]
    },
    {
     "name": "stderr",
     "output_type": "stream",
     "text": [
      "/home/rick/.conda/envs/hannah_z/lib/python3.6/site-packages/keras/callbacks.py:120: UserWarning: Method on_batch_end() is slow compared to the batch update (0.385641). Check your callbacks.\n",
      "  % delta_t_median)\n"
     ]
    },
    {
     "name": "stdout",
     "output_type": "stream",
     "text": [
      "Time usage: 0:00:35 minutes\n",
      "3357/3357 [==============================] - 4s 1ms/step\n",
      "374/374 [==============================] - 0s 1ms/step\n",
      "934/934 [==============================] - 1s 1ms/step\n",
      "3357/3357 [==============================] - 4s 1ms/step\n",
      "374/374 [==============================] - 0s 1ms/step\n",
      "934/934 [==============================] - 1s 1ms/step\n",
      "3357/3357 [==============================] - 4s 1ms/step\n",
      "374/374 [==============================] - 0s 1ms/step\n",
      "934/934 [==============================] - 1s 1ms/step\n",
      "3357/3357 [==============================] - 4s 1ms/step\n",
      "374/374 [==============================] - 0s 1ms/step\n",
      "934/934 [==============================] - 1s 1ms/step\n",
      " - Model specifics:\tbatch size: 64, mode: triangular, stepsize: 157, base-lr: 1e-05, max-lr 0.0003, *4\n"
     ]
    },
    {
     "name": "stderr",
     "output_type": "stream",
     "text": [
      "/home/rick/.conda/envs/hannah_z/lib/python3.6/site-packages/keras/callbacks.py:120: UserWarning: Method on_batch_end() is slow compared to the batch update (0.388539). Check your callbacks.\n",
      "  % delta_t_median)\n"
     ]
    },
    {
     "name": "stdout",
     "output_type": "stream",
     "text": [
      "Time usage: 0:00:34 minutes\n",
      "3357/3357 [==============================] - 4s 1ms/step\n",
      "374/374 [==============================] - 0s 1ms/step\n",
      "934/934 [==============================] - 1s 1ms/step\n",
      "3357/3357 [==============================] - 4s 1ms/step\n",
      "374/374 [==============================] - 0s 1ms/step\n",
      "934/934 [==============================] - 1s 1ms/step\n",
      "3357/3357 [==============================] - 4s 1ms/step\n",
      "374/374 [==============================] - 0s 1ms/step\n",
      "934/934 [==============================] - 1s 1ms/step\n",
      "3357/3357 [==============================] - 4s 1ms/step\n",
      "374/374 [==============================] - 0s 1ms/step\n",
      "934/934 [==============================] - 1s 1ms/step\n",
      "- Training accuracies:\t[0.7864, 0.7745, 0.7909, 0.7697, 0.7373, 0.7691, 0.8067, 0.7682, 0.7876, 0.7834, 0.7924, 0.7954, 0.7688, 0.7924, 0.8028, 0.7909, 0.7781, 0.807, 0.8061, 0.7992, 0.7778, 0.7727, 0.784, 0.7772, 0.7867, 0.793, 0.7659, 0.798, 0.7954, 0.7945, 0.7957, 0.7867, 0.7516, 0.7593, 0.7685, 0.7632, 0.7822, 0.7766, 0.7968, 0.7977, 0.7781, 0.801, 0.7617, 0.8239, 0.7942, 0.7858, 0.7682, 0.7989, 0.7867, 0.717, 0.8126, 0.821, 0.8129, 0.7906, 0.8082, 0.776, 0.7748, 0.7659, 0.776, 0.8004, 0.7924, 0.793, 0.7837, 0.8031, 0.79, 0.7423, 0.793, 0.7495, 0.8079, 0.7733, 0.7849, 0.7718, 0.7802, 0.7879, 0.7769, 0.7939, 0.7852, 0.8034, 0.7843, 0.7766, 0.79, 0.779, 0.7688, 0.7775, 0.793, 0.8001, 0.787, 0.7939, 0.8019, 0.7951, 0.8025, 0.7912, 0.7754, 0.7674, 0.8025, 0.7769, 0.7799, 0.7587, 0.7962, 0.7831, 0.7745, 0.7769, 0.7974, 0.7921, 0.7155, 0.779, 0.7915, 0.7221, 0.7948, 0.7632, 0.7665, 0.784, 0.8114, 0.784, 0.784, 0.7775, 0.8254, 0.7986, 0.7742, 0.7879]\n",
      "- validation accuracies:\t[0.7594, 0.7513, 0.7487, 0.738, 0.6979, 0.7406, 0.7727, 0.7326, 0.7406, 0.7299, 0.754, 0.7513, 0.7299, 0.7674, 0.7674, 0.746, 0.7513, 0.7701, 0.7781, 0.7701, 0.7326, 0.7299, 0.7433, 0.7487, 0.7433, 0.746, 0.7273, 0.7647, 0.754, 0.7594, 0.7647, 0.7406, 0.7193, 0.7326, 0.7299, 0.7139, 0.746, 0.746, 0.7567, 0.7513, 0.746, 0.7594, 0.7353, 0.8021, 0.754, 0.738, 0.7273, 0.762, 0.7567, 0.6872, 0.7754, 0.7888, 0.7781, 0.7567, 0.7754, 0.7406, 0.738, 0.7219, 0.7299, 0.7727, 0.7647, 0.7406, 0.7406, 0.7701, 0.7487, 0.7166, 0.7406, 0.7005, 0.7754, 0.7353, 0.7487, 0.7353, 0.7433, 0.754, 0.746, 0.7567, 0.7433, 0.762, 0.738, 0.746, 0.7567, 0.7406, 0.7406, 0.754, 0.7674, 0.762, 0.7353, 0.754, 0.7781, 0.7513, 0.7701, 0.7487, 0.7353, 0.7299, 0.7567, 0.762, 0.7433, 0.7193, 0.7567, 0.7353, 0.746, 0.7433, 0.7647, 0.7594, 0.6872, 0.7299, 0.7567, 0.6979, 0.7674, 0.7139, 0.7406, 0.7647, 0.7861, 0.7487, 0.7406, 0.754, 0.7941, 0.7701, 0.7299, 0.754]\n",
      "- Testing accuracies:\t[0.7441, 0.7323, 0.7495, 0.7366, 0.7131, 0.7334, 0.7612, 0.7441, 0.743, 0.7323, 0.7484, 0.7345, 0.7313, 0.7463, 0.7612, 0.7495, 0.7334, 0.7537, 0.7623, 0.7559, 0.7366, 0.743, 0.7505, 0.7398, 0.7484, 0.7505, 0.7323, 0.7537, 0.7559, 0.7441, 0.7559, 0.7302, 0.7163, 0.727, 0.7366, 0.7281, 0.7463, 0.7398, 0.742, 0.7463, 0.7398, 0.7505, 0.7355, 0.7805, 0.7527, 0.743, 0.7313, 0.757, 0.742, 0.7013, 0.7709, 0.758, 0.7741, 0.7516, 0.7677, 0.7398, 0.7366, 0.7291, 0.7323, 0.7463, 0.7495, 0.7495, 0.743, 0.7634, 0.7452, 0.7206, 0.7559, 0.7141, 0.7527, 0.727, 0.7473, 0.7441, 0.7409, 0.743, 0.743, 0.7559, 0.7473, 0.7634, 0.742, 0.7398, 0.7463, 0.7345, 0.7409, 0.7473, 0.7645, 0.7516, 0.742, 0.7602, 0.7677, 0.758, 0.7516, 0.743, 0.7345, 0.7334, 0.757, 0.7377, 0.7388, 0.727, 0.7484, 0.7345, 0.7409, 0.7355, 0.7398, 0.7452, 0.6842, 0.7473, 0.7559, 0.7002, 0.7495, 0.7291, 0.7323, 0.7398, 0.7709, 0.742, 0.7409, 0.7463, 0.7773, 0.7634, 0.7345, 0.7463]\n",
      "\n",
      "\n",
      "Models with base lr = 1e-05 and max lr = 0.0006\n",
      " - Model specifics:\tbatch size: 64, mode: triangular, stepsize: 157, base-lr: 1e-05, max-lr 0.0006, *0\n"
     ]
    },
    {
     "name": "stderr",
     "output_type": "stream",
     "text": [
      "/home/rick/.conda/envs/hannah_z/lib/python3.6/site-packages/keras/callbacks.py:120: UserWarning: Method on_batch_end() is slow compared to the batch update (0.559300). Check your callbacks.\n",
      "  % delta_t_median)\n"
     ]
    },
    {
     "name": "stdout",
     "output_type": "stream",
     "text": [
      "Time usage: 0:00:40 minutes\n",
      "3357/3357 [==============================] - 4s 1ms/step\n",
      "374/374 [==============================] - 0s 1ms/step\n",
      "934/934 [==============================] - 1s 1ms/step\n",
      "3357/3357 [==============================] - 4s 1ms/step\n",
      "374/374 [==============================] - 0s 1ms/step\n",
      "934/934 [==============================] - 1s 1ms/step\n",
      "3357/3357 [==============================] - 4s 1ms/step\n",
      "374/374 [==============================] - 0s 1ms/step\n",
      "934/934 [==============================] - 1s 1ms/step\n",
      "3357/3357 [==============================] - 4s 1ms/step\n",
      "374/374 [==============================] - 0s 1ms/step\n",
      "934/934 [==============================] - 1s 1ms/step\n",
      " - Model specifics:\tbatch size: 64, mode: triangular, stepsize: 157, base-lr: 1e-05, max-lr 0.0006, *1\n"
     ]
    },
    {
     "name": "stderr",
     "output_type": "stream",
     "text": [
      "/home/rick/.conda/envs/hannah_z/lib/python3.6/site-packages/keras/callbacks.py:120: UserWarning: Method on_batch_end() is slow compared to the batch update (0.488128). Check your callbacks.\n",
      "  % delta_t_median)\n"
     ]
    },
    {
     "name": "stdout",
     "output_type": "stream",
     "text": [
      "Time usage: 0:00:35 minutes\n",
      "3357/3357 [==============================] - 4s 1ms/step\n",
      "374/374 [==============================] - 0s 1ms/step\n",
      "934/934 [==============================] - 1s 1ms/step\n",
      "3357/3357 [==============================] - 4s 1ms/step\n",
      "374/374 [==============================] - 0s 1ms/step\n",
      "934/934 [==============================] - 1s 1ms/step\n",
      "3357/3357 [==============================] - 4s 1ms/step\n",
      "374/374 [==============================] - 0s 1ms/step\n",
      "934/934 [==============================] - 1s 1ms/step\n",
      "3357/3357 [==============================] - 4s 1ms/step\n",
      "374/374 [==============================] - 0s 1ms/step\n",
      "934/934 [==============================] - 1s 1ms/step\n",
      " - Model specifics:\tbatch size: 64, mode: triangular, stepsize: 157, base-lr: 1e-05, max-lr 0.0006, *2\n"
     ]
    },
    {
     "name": "stderr",
     "output_type": "stream",
     "text": [
      "/home/rick/.conda/envs/hannah_z/lib/python3.6/site-packages/keras/callbacks.py:120: UserWarning: Method on_batch_end() is slow compared to the batch update (0.483141). Check your callbacks.\n",
      "  % delta_t_median)\n"
     ]
    },
    {
     "name": "stdout",
     "output_type": "stream",
     "text": [
      "Time usage: 0:00:35 minutes\n",
      "3357/3357 [==============================] - 4s 1ms/step\n",
      "374/374 [==============================] - 0s 1ms/step\n",
      "934/934 [==============================] - 1s 1ms/step\n",
      "3357/3357 [==============================] - 4s 1ms/step\n",
      "374/374 [==============================] - 0s 1ms/step\n",
      "934/934 [==============================] - 1s 1ms/step\n",
      "3357/3357 [==============================] - 4s 1ms/step\n",
      "374/374 [==============================] - 0s 1ms/step\n",
      "934/934 [==============================] - 1s 1ms/step\n",
      "3357/3357 [==============================] - 4s 1ms/step\n",
      "374/374 [==============================] - 0s 1ms/step\n",
      "934/934 [==============================] - 1s 1ms/step\n",
      " - Model specifics:\tbatch size: 64, mode: triangular, stepsize: 157, base-lr: 1e-05, max-lr 0.0006, *3\n"
     ]
    },
    {
     "name": "stderr",
     "output_type": "stream",
     "text": [
      "/home/rick/.conda/envs/hannah_z/lib/python3.6/site-packages/keras/callbacks.py:120: UserWarning: Method on_batch_end() is slow compared to the batch update (0.468119). Check your callbacks.\n",
      "  % delta_t_median)\n"
     ]
    },
    {
     "name": "stdout",
     "output_type": "stream",
     "text": [
      "Time usage: 0:00:35 minutes\n",
      "3357/3357 [==============================] - 4s 1ms/step\n",
      "374/374 [==============================] - 0s 1ms/step\n",
      "934/934 [==============================] - 1s 1ms/step\n",
      "3357/3357 [==============================] - 4s 1ms/step\n",
      "374/374 [==============================] - 0s 1ms/step\n",
      "934/934 [==============================] - 1s 1ms/step\n",
      "3357/3357 [==============================] - 4s 1ms/step\n",
      "374/374 [==============================] - 0s 1ms/step\n",
      "934/934 [==============================] - 1s 1ms/step\n",
      "3357/3357 [==============================] - 4s 1ms/step\n",
      "374/374 [==============================] - 0s 1ms/step\n",
      "934/934 [==============================] - 1s 1ms/step\n",
      " - Model specifics:\tbatch size: 64, mode: triangular, stepsize: 157, base-lr: 1e-05, max-lr 0.0006, *4\n"
     ]
    },
    {
     "name": "stderr",
     "output_type": "stream",
     "text": [
      "/home/rick/.conda/envs/hannah_z/lib/python3.6/site-packages/keras/callbacks.py:120: UserWarning: Method on_batch_end() is slow compared to the batch update (0.447360). Check your callbacks.\n",
      "  % delta_t_median)\n"
     ]
    },
    {
     "name": "stdout",
     "output_type": "stream",
     "text": [
      "Time usage: 0:00:34 minutes\n",
      "3357/3357 [==============================] - 4s 1ms/step\n",
      "374/374 [==============================] - 0s 1ms/step\n",
      "934/934 [==============================] - 1s 1ms/step\n",
      "3357/3357 [==============================] - 4s 1ms/step\n",
      "374/374 [==============================] - 0s 1ms/step\n",
      "934/934 [==============================] - 1s 1ms/step\n",
      "3357/3357 [==============================] - 4s 1ms/step\n",
      "374/374 [==============================] - 0s 1ms/step\n",
      "934/934 [==============================] - 1s 1ms/step\n",
      "3357/3357 [==============================] - 4s 1ms/step\n",
      "374/374 [==============================] - 0s 1ms/step\n",
      "934/934 [==============================] - 1s 1ms/step\n",
      "- Training accuracies:\t[0.7864, 0.7745, 0.7909, 0.7697, 0.7373, 0.7691, 0.8067, 0.7682, 0.7876, 0.7834, 0.7924, 0.7954, 0.7688, 0.7924, 0.8028, 0.7909, 0.7781, 0.807, 0.8061, 0.7992, 0.7778, 0.7727, 0.784, 0.7772, 0.7867, 0.793, 0.7659, 0.798, 0.7954, 0.7945, 0.7957, 0.7867, 0.7516, 0.7593, 0.7685, 0.7632, 0.7822, 0.7766, 0.7968, 0.7977, 0.7781, 0.801, 0.7617, 0.8239, 0.7942, 0.7858, 0.7682, 0.7989, 0.7867, 0.717, 0.8126, 0.821, 0.8129, 0.7906, 0.8082, 0.776, 0.7748, 0.7659, 0.776, 0.8004, 0.7924, 0.793, 0.7837, 0.8031, 0.79, 0.7423, 0.793, 0.7495, 0.8079, 0.7733, 0.7849, 0.7718, 0.7802, 0.7879, 0.7769, 0.7939, 0.7852, 0.8034, 0.7843, 0.7766, 0.79, 0.779, 0.7688, 0.7775, 0.793, 0.8001, 0.787, 0.7939, 0.8019, 0.7951, 0.8025, 0.7912, 0.7754, 0.7674, 0.8025, 0.7769, 0.7799, 0.7587, 0.7962, 0.7831, 0.7745, 0.7769, 0.7974, 0.7921, 0.7155, 0.779, 0.7915, 0.7221, 0.7948, 0.7632, 0.7665, 0.784, 0.8114, 0.784, 0.784, 0.7775, 0.8254, 0.7986, 0.7742, 0.7879]\n",
      "- validation accuracies:\t[0.7594, 0.7513, 0.7487, 0.738, 0.6979, 0.7406, 0.7727, 0.7326, 0.7406, 0.7299, 0.754, 0.7513, 0.7299, 0.7674, 0.7674, 0.746, 0.7513, 0.7701, 0.7781, 0.7701, 0.7326, 0.7299, 0.7433, 0.7487, 0.7433, 0.746, 0.7273, 0.7647, 0.754, 0.7594, 0.7647, 0.7406, 0.7193, 0.7326, 0.7299, 0.7139, 0.746, 0.746, 0.7567, 0.7513, 0.746, 0.7594, 0.7353, 0.8021, 0.754, 0.738, 0.7273, 0.762, 0.7567, 0.6872, 0.7754, 0.7888, 0.7781, 0.7567, 0.7754, 0.7406, 0.738, 0.7219, 0.7299, 0.7727, 0.7647, 0.7406, 0.7406, 0.7701, 0.7487, 0.7166, 0.7406, 0.7005, 0.7754, 0.7353, 0.7487, 0.7353, 0.7433, 0.754, 0.746, 0.7567, 0.7433, 0.762, 0.738, 0.746, 0.7567, 0.7406, 0.7406, 0.754, 0.7674, 0.762, 0.7353, 0.754, 0.7781, 0.7513, 0.7701, 0.7487, 0.7353, 0.7299, 0.7567, 0.762, 0.7433, 0.7193, 0.7567, 0.7353, 0.746, 0.7433, 0.7647, 0.7594, 0.6872, 0.7299, 0.7567, 0.6979, 0.7674, 0.7139, 0.7406, 0.7647, 0.7861, 0.7487, 0.7406, 0.754, 0.7941, 0.7701, 0.7299, 0.754]\n",
      "- Testing accuracies:\t[0.7441, 0.7323, 0.7495, 0.7366, 0.7131, 0.7334, 0.7612, 0.7441, 0.743, 0.7323, 0.7484, 0.7345, 0.7313, 0.7463, 0.7612, 0.7495, 0.7334, 0.7537, 0.7623, 0.7559, 0.7366, 0.743, 0.7505, 0.7398, 0.7484, 0.7505, 0.7323, 0.7537, 0.7559, 0.7441, 0.7559, 0.7302, 0.7163, 0.727, 0.7366, 0.7281, 0.7463, 0.7398, 0.742, 0.7463, 0.7398, 0.7505, 0.7355, 0.7805, 0.7527, 0.743, 0.7313, 0.757, 0.742, 0.7013, 0.7709, 0.758, 0.7741, 0.7516, 0.7677, 0.7398, 0.7366, 0.7291, 0.7323, 0.7463, 0.7495, 0.7495, 0.743, 0.7634, 0.7452, 0.7206, 0.7559, 0.7141, 0.7527, 0.727, 0.7473, 0.7441, 0.7409, 0.743, 0.743, 0.7559, 0.7473, 0.7634, 0.742, 0.7398, 0.7463, 0.7345, 0.7409, 0.7473, 0.7645, 0.7516, 0.742, 0.7602, 0.7677, 0.758, 0.7516, 0.743, 0.7345, 0.7334, 0.757, 0.7377, 0.7388, 0.727, 0.7484, 0.7345, 0.7409, 0.7355, 0.7398, 0.7452, 0.6842, 0.7473, 0.7559, 0.7002, 0.7495, 0.7291, 0.7323, 0.7398, 0.7709, 0.742, 0.7409, 0.7463, 0.7773, 0.7634, 0.7345, 0.7463]\n",
      "\n",
      "\n",
      "Models with base lr = 1e-05 and max lr = 0.0009\n",
      " - Model specifics:\tbatch size: 64, mode: triangular, stepsize: 157, base-lr: 1e-05, max-lr 0.0009, *0\n"
     ]
    },
    {
     "name": "stderr",
     "output_type": "stream",
     "text": [
      "/home/rick/.conda/envs/hannah_z/lib/python3.6/site-packages/keras/callbacks.py:120: UserWarning: Method on_batch_end() is slow compared to the batch update (0.401697). Check your callbacks.\n",
      "  % delta_t_median)\n"
     ]
    },
    {
     "name": "stdout",
     "output_type": "stream",
     "text": [
      "Time usage: 0:00:38 minutes\n",
      "3357/3357 [==============================] - 4s 1ms/step\n",
      "374/374 [==============================] - 0s 1ms/step\n",
      "934/934 [==============================] - 1s 1ms/step\n",
      "3357/3357 [==============================] - 4s 1ms/step\n",
      "374/374 [==============================] - 0s 1ms/step\n",
      "934/934 [==============================] - 1s 1ms/step\n",
      "3357/3357 [==============================] - 4s 1ms/step\n",
      "374/374 [==============================] - 0s 1ms/step\n",
      "934/934 [==============================] - 1s 1ms/step\n",
      "3357/3357 [==============================] - 4s 1ms/step\n",
      "374/374 [==============================] - 0s 1ms/step\n",
      "934/934 [==============================] - 1s 1ms/step\n",
      " - Model specifics:\tbatch size: 64, mode: triangular, stepsize: 157, base-lr: 1e-05, max-lr 0.0009, *1\n"
     ]
    },
    {
     "name": "stderr",
     "output_type": "stream",
     "text": [
      "/home/rick/.conda/envs/hannah_z/lib/python3.6/site-packages/keras/callbacks.py:120: UserWarning: Method on_batch_end() is slow compared to the batch update (0.410205). Check your callbacks.\n",
      "  % delta_t_median)\n"
     ]
    },
    {
     "name": "stdout",
     "output_type": "stream",
     "text": [
      "Time usage: 0:00:34 minutes\n",
      "3357/3357 [==============================] - 4s 1ms/step\n",
      "374/374 [==============================] - 0s 1ms/step\n",
      "934/934 [==============================] - 1s 1ms/step\n",
      "3357/3357 [==============================] - 4s 1ms/step\n",
      "374/374 [==============================] - 0s 1ms/step\n",
      "934/934 [==============================] - 1s 1ms/step\n",
      "3357/3357 [==============================] - 4s 1ms/step\n",
      "374/374 [==============================] - 0s 1ms/step\n",
      "934/934 [==============================] - 1s 1ms/step\n",
      "3357/3357 [==============================] - 4s 1ms/step\n",
      "374/374 [==============================] - 0s 1ms/step\n",
      "934/934 [==============================] - 1s 1ms/step\n",
      " - Model specifics:\tbatch size: 64, mode: triangular, stepsize: 157, base-lr: 1e-05, max-lr 0.0009, *2\n"
     ]
    },
    {
     "name": "stderr",
     "output_type": "stream",
     "text": [
      "/home/rick/.conda/envs/hannah_z/lib/python3.6/site-packages/keras/callbacks.py:120: UserWarning: Method on_batch_end() is slow compared to the batch update (0.371377). Check your callbacks.\n",
      "  % delta_t_median)\n"
     ]
    },
    {
     "name": "stdout",
     "output_type": "stream",
     "text": [
      "Time usage: 0:00:34 minutes\n",
      "3357/3357 [==============================] - 4s 1ms/step\n",
      "374/374 [==============================] - 0s 1ms/step\n",
      "934/934 [==============================] - 1s 1ms/step\n",
      "3357/3357 [==============================] - 4s 1ms/step\n",
      "374/374 [==============================] - 0s 1ms/step\n",
      "934/934 [==============================] - 1s 1ms/step\n",
      "3357/3357 [==============================] - 4s 1ms/step\n",
      "374/374 [==============================] - 0s 1ms/step\n",
      "934/934 [==============================] - 1s 1ms/step\n",
      "3357/3357 [==============================] - 4s 1ms/step\n",
      "374/374 [==============================] - 0s 1ms/step\n",
      "934/934 [==============================] - 1s 1ms/step\n",
      " - Model specifics:\tbatch size: 64, mode: triangular, stepsize: 157, base-lr: 1e-05, max-lr 0.0009, *3\n"
     ]
    },
    {
     "name": "stderr",
     "output_type": "stream",
     "text": [
      "/home/rick/.conda/envs/hannah_z/lib/python3.6/site-packages/keras/callbacks.py:120: UserWarning: Method on_batch_end() is slow compared to the batch update (0.372636). Check your callbacks.\n",
      "  % delta_t_median)\n"
     ]
    },
    {
     "name": "stdout",
     "output_type": "stream",
     "text": [
      "Time usage: 0:00:33 minutes\n",
      "3357/3357 [==============================] - 4s 1ms/step\n",
      "374/374 [==============================] - 0s 1ms/step\n",
      "934/934 [==============================] - 1s 1ms/step\n",
      "3357/3357 [==============================] - 4s 1ms/step\n",
      "374/374 [==============================] - 0s 1ms/step\n",
      "934/934 [==============================] - 1s 1ms/step\n",
      "3357/3357 [==============================] - 4s 1ms/step\n",
      "374/374 [==============================] - 0s 1ms/step\n",
      "934/934 [==============================] - 1s 1ms/step\n",
      "3357/3357 [==============================] - 4s 1ms/step\n",
      "374/374 [==============================] - 0s 1ms/step\n",
      "934/934 [==============================] - 1s 1ms/step\n",
      " - Model specifics:\tbatch size: 64, mode: triangular, stepsize: 157, base-lr: 1e-05, max-lr 0.0009, *4\n"
     ]
    },
    {
     "name": "stderr",
     "output_type": "stream",
     "text": [
      "/home/rick/.conda/envs/hannah_z/lib/python3.6/site-packages/keras/callbacks.py:120: UserWarning: Method on_batch_end() is slow compared to the batch update (0.373659). Check your callbacks.\n",
      "  % delta_t_median)\n"
     ]
    },
    {
     "name": "stdout",
     "output_type": "stream",
     "text": [
      "Time usage: 0:00:33 minutes\n",
      "3357/3357 [==============================] - 4s 1ms/step\n",
      "374/374 [==============================] - 0s 1ms/step\n",
      "934/934 [==============================] - 1s 1ms/step\n",
      "3357/3357 [==============================] - 4s 1ms/step\n",
      "374/374 [==============================] - 0s 1ms/step\n",
      "934/934 [==============================] - 1s 1ms/step\n",
      "3357/3357 [==============================] - 4s 1ms/step\n",
      "374/374 [==============================] - 0s 1ms/step\n",
      "934/934 [==============================] - 1s 1ms/step\n",
      "3357/3357 [==============================] - 4s 1ms/step\n",
      "374/374 [==============================] - 0s 1ms/step\n",
      "934/934 [==============================] - 1s 1ms/step\n",
      "- Training accuracies:\t[0.7864, 0.7745, 0.7909, 0.7697, 0.7373, 0.7691, 0.8067, 0.7682, 0.7876, 0.7834, 0.7924, 0.7954, 0.7688, 0.7924, 0.8028, 0.7909, 0.7781, 0.807, 0.8061, 0.7992, 0.7778, 0.7727, 0.784, 0.7772, 0.7867, 0.793, 0.7659, 0.798, 0.7954, 0.7945, 0.7957, 0.7867, 0.7516, 0.7593, 0.7685, 0.7632, 0.7822, 0.7766, 0.7968, 0.7977, 0.7781, 0.801, 0.7617, 0.8239, 0.7942, 0.7858, 0.7682, 0.7989, 0.7867, 0.717, 0.8126, 0.821, 0.8129, 0.7906, 0.8082, 0.776, 0.7748, 0.7659, 0.776, 0.8004, 0.7924, 0.793, 0.7837, 0.8031, 0.79, 0.7423, 0.793, 0.7495, 0.8079, 0.7733, 0.7849, 0.7718, 0.7802, 0.7879, 0.7769, 0.7939, 0.7852, 0.8034, 0.7843, 0.7766, 0.79, 0.779, 0.7688, 0.7775, 0.793, 0.8001, 0.787, 0.7939, 0.8019, 0.7951, 0.8025, 0.7912, 0.7754, 0.7674, 0.8025, 0.7769, 0.7799, 0.7587, 0.7962, 0.7831, 0.7745, 0.7769, 0.7974, 0.7921, 0.7155, 0.779, 0.7915, 0.7221, 0.7948, 0.7632, 0.7665, 0.784, 0.8114, 0.784, 0.784, 0.7775, 0.8254, 0.7986, 0.7742, 0.7879]\n",
      "- validation accuracies:\t[0.7594, 0.7513, 0.7487, 0.738, 0.6979, 0.7406, 0.7727, 0.7326, 0.7406, 0.7299, 0.754, 0.7513, 0.7299, 0.7674, 0.7674, 0.746, 0.7513, 0.7701, 0.7781, 0.7701, 0.7326, 0.7299, 0.7433, 0.7487, 0.7433, 0.746, 0.7273, 0.7647, 0.754, 0.7594, 0.7647, 0.7406, 0.7193, 0.7326, 0.7299, 0.7139, 0.746, 0.746, 0.7567, 0.7513, 0.746, 0.7594, 0.7353, 0.8021, 0.754, 0.738, 0.7273, 0.762, 0.7567, 0.6872, 0.7754, 0.7888, 0.7781, 0.7567, 0.7754, 0.7406, 0.738, 0.7219, 0.7299, 0.7727, 0.7647, 0.7406, 0.7406, 0.7701, 0.7487, 0.7166, 0.7406, 0.7005, 0.7754, 0.7353, 0.7487, 0.7353, 0.7433, 0.754, 0.746, 0.7567, 0.7433, 0.762, 0.738, 0.746, 0.7567, 0.7406, 0.7406, 0.754, 0.7674, 0.762, 0.7353, 0.754, 0.7781, 0.7513, 0.7701, 0.7487, 0.7353, 0.7299, 0.7567, 0.762, 0.7433, 0.7193, 0.7567, 0.7353, 0.746, 0.7433, 0.7647, 0.7594, 0.6872, 0.7299, 0.7567, 0.6979, 0.7674, 0.7139, 0.7406, 0.7647, 0.7861, 0.7487, 0.7406, 0.754, 0.7941, 0.7701, 0.7299, 0.754]\n",
      "- Testing accuracies:\t[0.7441, 0.7323, 0.7495, 0.7366, 0.7131, 0.7334, 0.7612, 0.7441, 0.743, 0.7323, 0.7484, 0.7345, 0.7313, 0.7463, 0.7612, 0.7495, 0.7334, 0.7537, 0.7623, 0.7559, 0.7366, 0.743, 0.7505, 0.7398, 0.7484, 0.7505, 0.7323, 0.7537, 0.7559, 0.7441, 0.7559, 0.7302, 0.7163, 0.727, 0.7366, 0.7281, 0.7463, 0.7398, 0.742, 0.7463, 0.7398, 0.7505, 0.7355, 0.7805, 0.7527, 0.743, 0.7313, 0.757, 0.742, 0.7013, 0.7709, 0.758, 0.7741, 0.7516, 0.7677, 0.7398, 0.7366, 0.7291, 0.7323, 0.7463, 0.7495, 0.7495, 0.743, 0.7634, 0.7452, 0.7206, 0.7559, 0.7141, 0.7527, 0.727, 0.7473, 0.7441, 0.7409, 0.743, 0.743, 0.7559, 0.7473, 0.7634, 0.742, 0.7398, 0.7463, 0.7345, 0.7409, 0.7473, 0.7645, 0.7516, 0.742, 0.7602, 0.7677, 0.758, 0.7516, 0.743, 0.7345, 0.7334, 0.757, 0.7377, 0.7388, 0.727, 0.7484, 0.7345, 0.7409, 0.7355, 0.7398, 0.7452, 0.6842, 0.7473, 0.7559, 0.7002, 0.7495, 0.7291, 0.7323, 0.7398, 0.7709, 0.742, 0.7409, 0.7463, 0.7773, 0.7634, 0.7345, 0.7463]\n",
      "\n",
      "\n",
      "NEXT LEARNINGRATE: 5e-05\n",
      "Models with base lr = 5e-05 and max lr = 0.0003\n",
      " - Model specifics:\tbatch size: 64, mode: triangular, stepsize: 157, base-lr: 5e-05, max-lr 0.0003, *0\n"
     ]
    },
    {
     "name": "stderr",
     "output_type": "stream",
     "text": [
      "/home/rick/.conda/envs/hannah_z/lib/python3.6/site-packages/keras/callbacks.py:120: UserWarning: Method on_batch_end() is slow compared to the batch update (0.440619). Check your callbacks.\n",
      "  % delta_t_median)\n"
     ]
    },
    {
     "name": "stdout",
     "output_type": "stream",
     "text": [
      "Time usage: 0:00:38 minutes\n",
      "3357/3357 [==============================] - 4s 1ms/step\n",
      "374/374 [==============================] - 0s 1ms/step\n",
      "934/934 [==============================] - 1s 1ms/step\n",
      "3357/3357 [==============================] - 4s 1ms/step\n",
      "374/374 [==============================] - 0s 1ms/step\n",
      "934/934 [==============================] - 1s 1ms/step\n",
      "3357/3357 [==============================] - 4s 1ms/step\n",
      "374/374 [==============================] - 0s 1ms/step\n",
      "934/934 [==============================] - 1s 1ms/step\n",
      "3357/3357 [==============================] - 4s 1ms/step\n",
      "374/374 [==============================] - 0s 1ms/step\n",
      "934/934 [==============================] - 1s 1ms/step\n",
      " - Model specifics:\tbatch size: 64, mode: triangular, stepsize: 157, base-lr: 5e-05, max-lr 0.0003, *1\n"
     ]
    },
    {
     "name": "stderr",
     "output_type": "stream",
     "text": [
      "/home/rick/.conda/envs/hannah_z/lib/python3.6/site-packages/keras/callbacks.py:120: UserWarning: Method on_batch_end() is slow compared to the batch update (0.419463). Check your callbacks.\n",
      "  % delta_t_median)\n"
     ]
    },
    {
     "name": "stdout",
     "output_type": "stream",
     "text": [
      "Time usage: 0:00:34 minutes\n",
      "3357/3357 [==============================] - 4s 1ms/step\n",
      "374/374 [==============================] - 0s 1ms/step\n",
      "934/934 [==============================] - 1s 1ms/step\n",
      "3357/3357 [==============================] - 4s 1ms/step\n",
      "374/374 [==============================] - 0s 1ms/step\n",
      "934/934 [==============================] - 1s 1ms/step\n",
      "3357/3357 [==============================] - 4s 1ms/step\n",
      "374/374 [==============================] - 0s 1ms/step\n",
      "934/934 [==============================] - 1s 1ms/step\n",
      "3357/3357 [==============================] - 4s 1ms/step\n",
      "374/374 [==============================] - 0s 1ms/step\n",
      "934/934 [==============================] - 1s 1ms/step\n",
      " - Model specifics:\tbatch size: 64, mode: triangular, stepsize: 157, base-lr: 5e-05, max-lr 0.0003, *2\n"
     ]
    },
    {
     "name": "stderr",
     "output_type": "stream",
     "text": [
      "/home/rick/.conda/envs/hannah_z/lib/python3.6/site-packages/keras/callbacks.py:120: UserWarning: Method on_batch_end() is slow compared to the batch update (0.401943). Check your callbacks.\n",
      "  % delta_t_median)\n"
     ]
    },
    {
     "name": "stdout",
     "output_type": "stream",
     "text": [
      "Time usage: 0:00:33 minutes\n",
      "3357/3357 [==============================] - 4s 1ms/step\n",
      "374/374 [==============================] - 0s 1ms/step\n",
      "934/934 [==============================] - 1s 1ms/step\n",
      "3357/3357 [==============================] - 4s 1ms/step\n",
      "374/374 [==============================] - 0s 1ms/step\n",
      "934/934 [==============================] - 1s 1ms/step\n",
      "3357/3357 [==============================] - 4s 1ms/step\n",
      "374/374 [==============================] - 0s 1ms/step\n",
      "934/934 [==============================] - 1s 1ms/step\n",
      "3357/3357 [==============================] - 4s 1ms/step\n",
      "374/374 [==============================] - 0s 1ms/step\n",
      "934/934 [==============================] - 1s 1ms/step\n",
      " - Model specifics:\tbatch size: 64, mode: triangular, stepsize: 157, base-lr: 5e-05, max-lr 0.0003, *3\n"
     ]
    },
    {
     "name": "stderr",
     "output_type": "stream",
     "text": [
      "/home/rick/.conda/envs/hannah_z/lib/python3.6/site-packages/keras/callbacks.py:120: UserWarning: Method on_batch_end() is slow compared to the batch update (0.389860). Check your callbacks.\n",
      "  % delta_t_median)\n"
     ]
    },
    {
     "name": "stdout",
     "output_type": "stream",
     "text": [
      "Time usage: 0:00:33 minutes\n",
      "3357/3357 [==============================] - 4s 1ms/step\n",
      "374/374 [==============================] - 0s 1ms/step\n",
      "934/934 [==============================] - 1s 1ms/step\n",
      "3357/3357 [==============================] - 4s 1ms/step\n",
      "374/374 [==============================] - 0s 1ms/step\n",
      "934/934 [==============================] - 1s 1ms/step\n",
      "3357/3357 [==============================] - 4s 1ms/step\n",
      "374/374 [==============================] - 0s 1ms/step\n",
      "934/934 [==============================] - 1s 1ms/step\n",
      "3357/3357 [==============================] - 4s 1ms/step\n",
      "374/374 [==============================] - 0s 1ms/step\n",
      "934/934 [==============================] - 1s 1ms/step\n",
      " - Model specifics:\tbatch size: 64, mode: triangular, stepsize: 157, base-lr: 5e-05, max-lr 0.0003, *4\n"
     ]
    },
    {
     "name": "stderr",
     "output_type": "stream",
     "text": [
      "/home/rick/.conda/envs/hannah_z/lib/python3.6/site-packages/keras/callbacks.py:120: UserWarning: Method on_batch_end() is slow compared to the batch update (0.369424). Check your callbacks.\n",
      "  % delta_t_median)\n"
     ]
    },
    {
     "name": "stdout",
     "output_type": "stream",
     "text": [
      "Time usage: 0:00:33 minutes\n",
      "3357/3357 [==============================] - 4s 1ms/step\n",
      "374/374 [==============================] - 0s 1ms/step\n",
      "934/934 [==============================] - 1s 1ms/step\n",
      "3357/3357 [==============================] - 4s 1ms/step\n",
      "374/374 [==============================] - 0s 1ms/step\n",
      "934/934 [==============================] - 1s 1ms/step\n",
      "3357/3357 [==============================] - 4s 1ms/step\n",
      "374/374 [==============================] - 0s 1ms/step\n",
      "934/934 [==============================] - 1s 1ms/step\n",
      "3357/3357 [==============================] - 4s 1ms/step\n",
      "374/374 [==============================] - 0s 1ms/step\n",
      "934/934 [==============================] - 1s 1ms/step\n",
      "- Training accuracies:\t[0.7864, 0.7745, 0.7909, 0.7697, 0.7373, 0.7691, 0.8067, 0.7682, 0.7876, 0.7834, 0.7924, 0.7954, 0.7688, 0.7924, 0.8028, 0.7909, 0.7781, 0.807, 0.8061, 0.7992, 0.7778, 0.7727, 0.784, 0.7772, 0.7867, 0.793, 0.7659, 0.798, 0.7954, 0.7945, 0.7957, 0.7867, 0.7516, 0.7593, 0.7685, 0.7632, 0.7822, 0.7766, 0.7968, 0.7977, 0.7781, 0.801, 0.7617, 0.8239, 0.7942, 0.7858, 0.7682, 0.7989, 0.7867, 0.717, 0.8126, 0.821, 0.8129, 0.7906, 0.8082, 0.776, 0.7748, 0.7659, 0.776, 0.8004, 0.7924, 0.793, 0.7837, 0.8031, 0.79, 0.7423, 0.793, 0.7495, 0.8079, 0.7733, 0.7849, 0.7718, 0.7802, 0.7879, 0.7769, 0.7939, 0.7852, 0.8034, 0.7843, 0.7766, 0.79, 0.779, 0.7688, 0.7775, 0.793, 0.8001, 0.787, 0.7939, 0.8019, 0.7951, 0.8025, 0.7912, 0.7754, 0.7674, 0.8025, 0.7769, 0.7799, 0.7587, 0.7962, 0.7831, 0.7745, 0.7769, 0.7974, 0.7921, 0.7155, 0.779, 0.7915, 0.7221, 0.7948, 0.7632, 0.7665, 0.784, 0.8114, 0.784, 0.784, 0.7775, 0.8254, 0.7986, 0.7742, 0.7879]\n",
      "- validation accuracies:\t[0.7594, 0.7513, 0.7487, 0.738, 0.6979, 0.7406, 0.7727, 0.7326, 0.7406, 0.7299, 0.754, 0.7513, 0.7299, 0.7674, 0.7674, 0.746, 0.7513, 0.7701, 0.7781, 0.7701, 0.7326, 0.7299, 0.7433, 0.7487, 0.7433, 0.746, 0.7273, 0.7647, 0.754, 0.7594, 0.7647, 0.7406, 0.7193, 0.7326, 0.7299, 0.7139, 0.746, 0.746, 0.7567, 0.7513, 0.746, 0.7594, 0.7353, 0.8021, 0.754, 0.738, 0.7273, 0.762, 0.7567, 0.6872, 0.7754, 0.7888, 0.7781, 0.7567, 0.7754, 0.7406, 0.738, 0.7219, 0.7299, 0.7727, 0.7647, 0.7406, 0.7406, 0.7701, 0.7487, 0.7166, 0.7406, 0.7005, 0.7754, 0.7353, 0.7487, 0.7353, 0.7433, 0.754, 0.746, 0.7567, 0.7433, 0.762, 0.738, 0.746, 0.7567, 0.7406, 0.7406, 0.754, 0.7674, 0.762, 0.7353, 0.754, 0.7781, 0.7513, 0.7701, 0.7487, 0.7353, 0.7299, 0.7567, 0.762, 0.7433, 0.7193, 0.7567, 0.7353, 0.746, 0.7433, 0.7647, 0.7594, 0.6872, 0.7299, 0.7567, 0.6979, 0.7674, 0.7139, 0.7406, 0.7647, 0.7861, 0.7487, 0.7406, 0.754, 0.7941, 0.7701, 0.7299, 0.754]\n",
      "- Testing accuracies:\t[0.7441, 0.7323, 0.7495, 0.7366, 0.7131, 0.7334, 0.7612, 0.7441, 0.743, 0.7323, 0.7484, 0.7345, 0.7313, 0.7463, 0.7612, 0.7495, 0.7334, 0.7537, 0.7623, 0.7559, 0.7366, 0.743, 0.7505, 0.7398, 0.7484, 0.7505, 0.7323, 0.7537, 0.7559, 0.7441, 0.7559, 0.7302, 0.7163, 0.727, 0.7366, 0.7281, 0.7463, 0.7398, 0.742, 0.7463, 0.7398, 0.7505, 0.7355, 0.7805, 0.7527, 0.743, 0.7313, 0.757, 0.742, 0.7013, 0.7709, 0.758, 0.7741, 0.7516, 0.7677, 0.7398, 0.7366, 0.7291, 0.7323, 0.7463, 0.7495, 0.7495, 0.743, 0.7634, 0.7452, 0.7206, 0.7559, 0.7141, 0.7527, 0.727, 0.7473, 0.7441, 0.7409, 0.743, 0.743, 0.7559, 0.7473, 0.7634, 0.742, 0.7398, 0.7463, 0.7345, 0.7409, 0.7473, 0.7645, 0.7516, 0.742, 0.7602, 0.7677, 0.758, 0.7516, 0.743, 0.7345, 0.7334, 0.757, 0.7377, 0.7388, 0.727, 0.7484, 0.7345, 0.7409, 0.7355, 0.7398, 0.7452, 0.6842, 0.7473, 0.7559, 0.7002, 0.7495, 0.7291, 0.7323, 0.7398, 0.7709, 0.742, 0.7409, 0.7463, 0.7773, 0.7634, 0.7345, 0.7463]\n",
      "\n",
      "\n",
      "Models with base lr = 5e-05 and max lr = 0.0006\n",
      " - Model specifics:\tbatch size: 64, mode: triangular, stepsize: 157, base-lr: 5e-05, max-lr 0.0006, *0\n"
     ]
    },
    {
     "name": "stderr",
     "output_type": "stream",
     "text": [
      "/home/rick/.conda/envs/hannah_z/lib/python3.6/site-packages/keras/callbacks.py:120: UserWarning: Method on_batch_end() is slow compared to the batch update (0.373907). Check your callbacks.\n",
      "  % delta_t_median)\n"
     ]
    },
    {
     "name": "stdout",
     "output_type": "stream",
     "text": [
      "Time usage: 0:00:38 minutes\n",
      "3357/3357 [==============================] - 4s 1ms/step\n",
      "374/374 [==============================] - 0s 1ms/step\n",
      "934/934 [==============================] - 1s 1ms/step\n",
      "3357/3357 [==============================] - 4s 1ms/step\n",
      "374/374 [==============================] - 0s 1ms/step\n",
      "934/934 [==============================] - 1s 1ms/step\n",
      "3357/3357 [==============================] - 4s 1ms/step\n",
      "374/374 [==============================] - 0s 1ms/step\n",
      "934/934 [==============================] - 1s 1ms/step\n",
      "3357/3357 [==============================] - 4s 1ms/step\n",
      "374/374 [==============================] - 0s 1ms/step\n",
      "934/934 [==============================] - 1s 1ms/step\n",
      " - Model specifics:\tbatch size: 64, mode: triangular, stepsize: 157, base-lr: 5e-05, max-lr 0.0006, *1\n"
     ]
    },
    {
     "name": "stderr",
     "output_type": "stream",
     "text": [
      "/home/rick/.conda/envs/hannah_z/lib/python3.6/site-packages/keras/callbacks.py:120: UserWarning: Method on_batch_end() is slow compared to the batch update (0.369520). Check your callbacks.\n",
      "  % delta_t_median)\n"
     ]
    },
    {
     "name": "stdout",
     "output_type": "stream",
     "text": [
      "Time usage: 0:00:33 minutes\n",
      "3357/3357 [==============================] - 4s 1ms/step\n",
      "374/374 [==============================] - 0s 1ms/step\n",
      "934/934 [==============================] - 1s 1ms/step\n",
      "3357/3357 [==============================] - 4s 1ms/step\n",
      "374/374 [==============================] - 0s 1ms/step\n",
      "934/934 [==============================] - 1s 1ms/step\n",
      "3357/3357 [==============================] - 4s 1ms/step\n",
      "374/374 [==============================] - 0s 1ms/step\n",
      "934/934 [==============================] - 1s 1ms/step\n",
      "3357/3357 [==============================] - 4s 1ms/step\n",
      "374/374 [==============================] - 0s 1ms/step\n",
      "934/934 [==============================] - 1s 1ms/step\n",
      " - Model specifics:\tbatch size: 64, mode: triangular, stepsize: 157, base-lr: 5e-05, max-lr 0.0006, *2\n"
     ]
    },
    {
     "name": "stderr",
     "output_type": "stream",
     "text": [
      "/home/rick/.conda/envs/hannah_z/lib/python3.6/site-packages/keras/callbacks.py:120: UserWarning: Method on_batch_end() is slow compared to the batch update (0.369298). Check your callbacks.\n",
      "  % delta_t_median)\n"
     ]
    },
    {
     "name": "stdout",
     "output_type": "stream",
     "text": [
      "Time usage: 0:00:33 minutes\n",
      "3357/3357 [==============================] - 4s 1ms/step\n",
      "374/374 [==============================] - 0s 1ms/step\n",
      "934/934 [==============================] - 1s 1ms/step\n",
      "3357/3357 [==============================] - 4s 1ms/step\n",
      "374/374 [==============================] - 0s 1ms/step\n",
      "934/934 [==============================] - 1s 1ms/step\n",
      "3357/3357 [==============================] - 4s 1ms/step\n",
      "374/374 [==============================] - 0s 1ms/step\n",
      "934/934 [==============================] - 1s 1ms/step\n",
      "3357/3357 [==============================] - 4s 1ms/step\n",
      "374/374 [==============================] - 0s 1ms/step\n",
      "934/934 [==============================] - 1s 1ms/step\n",
      " - Model specifics:\tbatch size: 64, mode: triangular, stepsize: 157, base-lr: 5e-05, max-lr 0.0006, *3\n"
     ]
    },
    {
     "name": "stderr",
     "output_type": "stream",
     "text": [
      "/home/rick/.conda/envs/hannah_z/lib/python3.6/site-packages/keras/callbacks.py:120: UserWarning: Method on_batch_end() is slow compared to the batch update (0.382556). Check your callbacks.\n",
      "  % delta_t_median)\n"
     ]
    },
    {
     "name": "stdout",
     "output_type": "stream",
     "text": [
      "Time usage: 0:00:33 minutes\n",
      "3357/3357 [==============================] - 4s 1ms/step\n",
      "374/374 [==============================] - 0s 1ms/step\n",
      "934/934 [==============================] - 1s 1ms/step\n",
      "3357/3357 [==============================] - 4s 1ms/step\n",
      "374/374 [==============================] - 0s 1ms/step\n",
      "934/934 [==============================] - 1s 1ms/step\n",
      "3357/3357 [==============================] - 4s 1ms/step\n",
      "374/374 [==============================] - 0s 1ms/step\n",
      "934/934 [==============================] - 1s 1ms/step\n",
      "3357/3357 [==============================] - 4s 1ms/step\n",
      "374/374 [==============================] - 0s 1ms/step\n",
      "934/934 [==============================] - 1s 1ms/step\n",
      " - Model specifics:\tbatch size: 64, mode: triangular, stepsize: 157, base-lr: 5e-05, max-lr 0.0006, *4\n"
     ]
    },
    {
     "name": "stderr",
     "output_type": "stream",
     "text": [
      "/home/rick/.conda/envs/hannah_z/lib/python3.6/site-packages/keras/callbacks.py:120: UserWarning: Method on_batch_end() is slow compared to the batch update (0.360112). Check your callbacks.\n",
      "  % delta_t_median)\n"
     ]
    },
    {
     "name": "stdout",
     "output_type": "stream",
     "text": [
      "Time usage: 0:00:33 minutes\n",
      "3357/3357 [==============================] - 4s 1ms/step\n",
      "374/374 [==============================] - 0s 1ms/step\n",
      "934/934 [==============================] - 1s 1ms/step\n",
      "3357/3357 [==============================] - 4s 1ms/step\n",
      "374/374 [==============================] - 0s 1ms/step\n",
      "934/934 [==============================] - 1s 1ms/step\n",
      "3357/3357 [==============================] - 4s 1ms/step\n",
      "374/374 [==============================] - 0s 1ms/step\n",
      "934/934 [==============================] - 1s 1ms/step\n",
      "3357/3357 [==============================] - 4s 1ms/step\n",
      "374/374 [==============================] - 0s 1ms/step\n",
      "934/934 [==============================] - 1s 1ms/step\n",
      "- Training accuracies:\t[0.7864, 0.7745, 0.7909, 0.7697, 0.7373, 0.7691, 0.8067, 0.7682, 0.7876, 0.7834, 0.7924, 0.7954, 0.7688, 0.7924, 0.8028, 0.7909, 0.7781, 0.807, 0.8061, 0.7992, 0.7778, 0.7727, 0.784, 0.7772, 0.7867, 0.793, 0.7659, 0.798, 0.7954, 0.7945, 0.7957, 0.7867, 0.7516, 0.7593, 0.7685, 0.7632, 0.7822, 0.7766, 0.7968, 0.7977, 0.7781, 0.801, 0.7617, 0.8239, 0.7942, 0.7858, 0.7682, 0.7989, 0.7867, 0.717, 0.8126, 0.821, 0.8129, 0.7906, 0.8082, 0.776, 0.7748, 0.7659, 0.776, 0.8004, 0.7924, 0.793, 0.7837, 0.8031, 0.79, 0.7423, 0.793, 0.7495, 0.8079, 0.7733, 0.7849, 0.7718, 0.7802, 0.7879, 0.7769, 0.7939, 0.7852, 0.8034, 0.7843, 0.7766, 0.79, 0.779, 0.7688, 0.7775, 0.793, 0.8001, 0.787, 0.7939, 0.8019, 0.7951, 0.8025, 0.7912, 0.7754, 0.7674, 0.8025, 0.7769, 0.7799, 0.7587, 0.7962, 0.7831, 0.7745, 0.7769, 0.7974, 0.7921, 0.7155, 0.779, 0.7915, 0.7221, 0.7948, 0.7632, 0.7665, 0.784, 0.8114, 0.784, 0.784, 0.7775, 0.8254, 0.7986, 0.7742, 0.7879]\n",
      "- validation accuracies:\t[0.7594, 0.7513, 0.7487, 0.738, 0.6979, 0.7406, 0.7727, 0.7326, 0.7406, 0.7299, 0.754, 0.7513, 0.7299, 0.7674, 0.7674, 0.746, 0.7513, 0.7701, 0.7781, 0.7701, 0.7326, 0.7299, 0.7433, 0.7487, 0.7433, 0.746, 0.7273, 0.7647, 0.754, 0.7594, 0.7647, 0.7406, 0.7193, 0.7326, 0.7299, 0.7139, 0.746, 0.746, 0.7567, 0.7513, 0.746, 0.7594, 0.7353, 0.8021, 0.754, 0.738, 0.7273, 0.762, 0.7567, 0.6872, 0.7754, 0.7888, 0.7781, 0.7567, 0.7754, 0.7406, 0.738, 0.7219, 0.7299, 0.7727, 0.7647, 0.7406, 0.7406, 0.7701, 0.7487, 0.7166, 0.7406, 0.7005, 0.7754, 0.7353, 0.7487, 0.7353, 0.7433, 0.754, 0.746, 0.7567, 0.7433, 0.762, 0.738, 0.746, 0.7567, 0.7406, 0.7406, 0.754, 0.7674, 0.762, 0.7353, 0.754, 0.7781, 0.7513, 0.7701, 0.7487, 0.7353, 0.7299, 0.7567, 0.762, 0.7433, 0.7193, 0.7567, 0.7353, 0.746, 0.7433, 0.7647, 0.7594, 0.6872, 0.7299, 0.7567, 0.6979, 0.7674, 0.7139, 0.7406, 0.7647, 0.7861, 0.7487, 0.7406, 0.754, 0.7941, 0.7701, 0.7299, 0.754]\n",
      "- Testing accuracies:\t[0.7441, 0.7323, 0.7495, 0.7366, 0.7131, 0.7334, 0.7612, 0.7441, 0.743, 0.7323, 0.7484, 0.7345, 0.7313, 0.7463, 0.7612, 0.7495, 0.7334, 0.7537, 0.7623, 0.7559, 0.7366, 0.743, 0.7505, 0.7398, 0.7484, 0.7505, 0.7323, 0.7537, 0.7559, 0.7441, 0.7559, 0.7302, 0.7163, 0.727, 0.7366, 0.7281, 0.7463, 0.7398, 0.742, 0.7463, 0.7398, 0.7505, 0.7355, 0.7805, 0.7527, 0.743, 0.7313, 0.757, 0.742, 0.7013, 0.7709, 0.758, 0.7741, 0.7516, 0.7677, 0.7398, 0.7366, 0.7291, 0.7323, 0.7463, 0.7495, 0.7495, 0.743, 0.7634, 0.7452, 0.7206, 0.7559, 0.7141, 0.7527, 0.727, 0.7473, 0.7441, 0.7409, 0.743, 0.743, 0.7559, 0.7473, 0.7634, 0.742, 0.7398, 0.7463, 0.7345, 0.7409, 0.7473, 0.7645, 0.7516, 0.742, 0.7602, 0.7677, 0.758, 0.7516, 0.743, 0.7345, 0.7334, 0.757, 0.7377, 0.7388, 0.727, 0.7484, 0.7345, 0.7409, 0.7355, 0.7398, 0.7452, 0.6842, 0.7473, 0.7559, 0.7002, 0.7495, 0.7291, 0.7323, 0.7398, 0.7709, 0.742, 0.7409, 0.7463, 0.7773, 0.7634, 0.7345, 0.7463]\n",
      "\n",
      "\n",
      "Models with base lr = 5e-05 and max lr = 0.0009\n",
      " - Model specifics:\tbatch size: 64, mode: triangular, stepsize: 157, base-lr: 5e-05, max-lr 0.0009, *0\n"
     ]
    },
    {
     "name": "stderr",
     "output_type": "stream",
     "text": [
      "/home/rick/.conda/envs/hannah_z/lib/python3.6/site-packages/keras/callbacks.py:120: UserWarning: Method on_batch_end() is slow compared to the batch update (0.380396). Check your callbacks.\n",
      "  % delta_t_median)\n"
     ]
    },
    {
     "name": "stdout",
     "output_type": "stream",
     "text": [
      "Time usage: 0:00:37 minutes\n",
      "3357/3357 [==============================] - 4s 1ms/step\n",
      "374/374 [==============================] - 0s 1ms/step\n",
      "934/934 [==============================] - 1s 1ms/step\n",
      "3357/3357 [==============================] - 4s 1ms/step\n",
      "374/374 [==============================] - 0s 1ms/step\n",
      "934/934 [==============================] - 1s 1ms/step\n",
      "3357/3357 [==============================] - 4s 1ms/step\n",
      "374/374 [==============================] - 0s 1ms/step\n",
      "934/934 [==============================] - 1s 1ms/step\n",
      "3357/3357 [==============================] - 4s 1ms/step\n",
      "374/374 [==============================] - 0s 1ms/step\n",
      "934/934 [==============================] - 1s 1ms/step\n",
      " - Model specifics:\tbatch size: 64, mode: triangular, stepsize: 157, base-lr: 5e-05, max-lr 0.0009, *1\n"
     ]
    },
    {
     "name": "stderr",
     "output_type": "stream",
     "text": [
      "/home/rick/.conda/envs/hannah_z/lib/python3.6/site-packages/keras/callbacks.py:120: UserWarning: Method on_batch_end() is slow compared to the batch update (0.374103). Check your callbacks.\n",
      "  % delta_t_median)\n"
     ]
    },
    {
     "name": "stdout",
     "output_type": "stream",
     "text": [
      "Time usage: 0:00:33 minutes\n",
      "3357/3357 [==============================] - 4s 1ms/step\n",
      "374/374 [==============================] - 0s 1ms/step\n",
      "934/934 [==============================] - 1s 1ms/step\n",
      "3357/3357 [==============================] - 4s 1ms/step\n",
      "374/374 [==============================] - 0s 1ms/step\n",
      "934/934 [==============================] - 1s 1ms/step\n",
      "3357/3357 [==============================] - 4s 1ms/step\n",
      "374/374 [==============================] - 0s 1ms/step\n",
      "934/934 [==============================] - 1s 1ms/step\n",
      "3357/3357 [==============================] - 4s 1ms/step\n",
      "374/374 [==============================] - 0s 1ms/step\n",
      "934/934 [==============================] - 1s 1ms/step\n",
      " - Model specifics:\tbatch size: 64, mode: triangular, stepsize: 157, base-lr: 5e-05, max-lr 0.0009, *2\n"
     ]
    },
    {
     "name": "stderr",
     "output_type": "stream",
     "text": [
      "/home/rick/.conda/envs/hannah_z/lib/python3.6/site-packages/keras/callbacks.py:120: UserWarning: Method on_batch_end() is slow compared to the batch update (0.372190). Check your callbacks.\n",
      "  % delta_t_median)\n"
     ]
    },
    {
     "name": "stdout",
     "output_type": "stream",
     "text": [
      "Time usage: 0:00:33 minutes\n",
      "3357/3357 [==============================] - 4s 1ms/step\n",
      "374/374 [==============================] - 0s 1ms/step\n",
      "934/934 [==============================] - 1s 1ms/step\n",
      "3357/3357 [==============================] - 4s 1ms/step\n",
      "374/374 [==============================] - 0s 1ms/step\n",
      "934/934 [==============================] - 1s 1ms/step\n",
      "3357/3357 [==============================] - 4s 1ms/step\n",
      "374/374 [==============================] - 0s 1ms/step\n",
      "934/934 [==============================] - 1s 1ms/step\n",
      "3357/3357 [==============================] - 4s 1ms/step\n",
      "374/374 [==============================] - 0s 1ms/step\n",
      "934/934 [==============================] - 1s 1ms/step\n",
      " - Model specifics:\tbatch size: 64, mode: triangular, stepsize: 157, base-lr: 5e-05, max-lr 0.0009, *3\n"
     ]
    },
    {
     "name": "stderr",
     "output_type": "stream",
     "text": [
      "/home/rick/.conda/envs/hannah_z/lib/python3.6/site-packages/keras/callbacks.py:120: UserWarning: Method on_batch_end() is slow compared to the batch update (0.372197). Check your callbacks.\n",
      "  % delta_t_median)\n"
     ]
    },
    {
     "name": "stdout",
     "output_type": "stream",
     "text": [
      "Time usage: 0:00:33 minutes\n",
      "3357/3357 [==============================] - 4s 1ms/step\n",
      "374/374 [==============================] - 0s 1ms/step\n",
      "934/934 [==============================] - 1s 1ms/step\n",
      "3357/3357 [==============================] - 4s 1ms/step\n",
      "374/374 [==============================] - 0s 1ms/step\n",
      "934/934 [==============================] - 1s 1ms/step\n",
      "3357/3357 [==============================] - 4s 1ms/step\n",
      "374/374 [==============================] - 0s 1ms/step\n",
      "934/934 [==============================] - 1s 1ms/step\n",
      "3357/3357 [==============================] - 4s 1ms/step\n",
      "374/374 [==============================] - 0s 1ms/step\n",
      "934/934 [==============================] - 1s 1ms/step\n",
      " - Model specifics:\tbatch size: 64, mode: triangular, stepsize: 157, base-lr: 5e-05, max-lr 0.0009, *4\n"
     ]
    },
    {
     "name": "stderr",
     "output_type": "stream",
     "text": [
      "/home/rick/.conda/envs/hannah_z/lib/python3.6/site-packages/keras/callbacks.py:120: UserWarning: Method on_batch_end() is slow compared to the batch update (0.373338). Check your callbacks.\n",
      "  % delta_t_median)\n"
     ]
    },
    {
     "name": "stdout",
     "output_type": "stream",
     "text": [
      "Time usage: 0:00:34 minutes\n",
      "3357/3357 [==============================] - 4s 1ms/step\n",
      "374/374 [==============================] - 0s 1ms/step\n",
      "934/934 [==============================] - 1s 1ms/step\n",
      "3357/3357 [==============================] - 4s 1ms/step\n",
      "374/374 [==============================] - 0s 1ms/step\n",
      "934/934 [==============================] - 1s 1ms/step\n",
      "3357/3357 [==============================] - 4s 1ms/step\n",
      "374/374 [==============================] - 0s 1ms/step\n",
      "934/934 [==============================] - 1s 1ms/step\n",
      "3357/3357 [==============================] - 4s 1ms/step\n",
      "374/374 [==============================] - 0s 1ms/step\n",
      "934/934 [==============================] - 1s 1ms/step\n",
      "- Training accuracies:\t[0.7864, 0.7745, 0.7909, 0.7697, 0.7373, 0.7691, 0.8067, 0.7682, 0.7876, 0.7834, 0.7924, 0.7954, 0.7688, 0.7924, 0.8028, 0.7909, 0.7781, 0.807, 0.8061, 0.7992, 0.7778, 0.7727, 0.784, 0.7772, 0.7867, 0.793, 0.7659, 0.798, 0.7954, 0.7945, 0.7957, 0.7867, 0.7516, 0.7593, 0.7685, 0.7632, 0.7822, 0.7766, 0.7968, 0.7977, 0.7781, 0.801, 0.7617, 0.8239, 0.7942, 0.7858, 0.7682, 0.7989, 0.7867, 0.717, 0.8126, 0.821, 0.8129, 0.7906, 0.8082, 0.776, 0.7748, 0.7659, 0.776, 0.8004, 0.7924, 0.793, 0.7837, 0.8031, 0.79, 0.7423, 0.793, 0.7495, 0.8079, 0.7733, 0.7849, 0.7718, 0.7802, 0.7879, 0.7769, 0.7939, 0.7852, 0.8034, 0.7843, 0.7766, 0.79, 0.779, 0.7688, 0.7775, 0.793, 0.8001, 0.787, 0.7939, 0.8019, 0.7951, 0.8025, 0.7912, 0.7754, 0.7674, 0.8025, 0.7769, 0.7799, 0.7587, 0.7962, 0.7831, 0.7745, 0.7769, 0.7974, 0.7921, 0.7155, 0.779, 0.7915, 0.7221, 0.7948, 0.7632, 0.7665, 0.784, 0.8114, 0.784, 0.784, 0.7775, 0.8254, 0.7986, 0.7742, 0.7879]\n",
      "- validation accuracies:\t[0.7594, 0.7513, 0.7487, 0.738, 0.6979, 0.7406, 0.7727, 0.7326, 0.7406, 0.7299, 0.754, 0.7513, 0.7299, 0.7674, 0.7674, 0.746, 0.7513, 0.7701, 0.7781, 0.7701, 0.7326, 0.7299, 0.7433, 0.7487, 0.7433, 0.746, 0.7273, 0.7647, 0.754, 0.7594, 0.7647, 0.7406, 0.7193, 0.7326, 0.7299, 0.7139, 0.746, 0.746, 0.7567, 0.7513, 0.746, 0.7594, 0.7353, 0.8021, 0.754, 0.738, 0.7273, 0.762, 0.7567, 0.6872, 0.7754, 0.7888, 0.7781, 0.7567, 0.7754, 0.7406, 0.738, 0.7219, 0.7299, 0.7727, 0.7647, 0.7406, 0.7406, 0.7701, 0.7487, 0.7166, 0.7406, 0.7005, 0.7754, 0.7353, 0.7487, 0.7353, 0.7433, 0.754, 0.746, 0.7567, 0.7433, 0.762, 0.738, 0.746, 0.7567, 0.7406, 0.7406, 0.754, 0.7674, 0.762, 0.7353, 0.754, 0.7781, 0.7513, 0.7701, 0.7487, 0.7353, 0.7299, 0.7567, 0.762, 0.7433, 0.7193, 0.7567, 0.7353, 0.746, 0.7433, 0.7647, 0.7594, 0.6872, 0.7299, 0.7567, 0.6979, 0.7674, 0.7139, 0.7406, 0.7647, 0.7861, 0.7487, 0.7406, 0.754, 0.7941, 0.7701, 0.7299, 0.754]\n",
      "- Testing accuracies:\t[0.7441, 0.7323, 0.7495, 0.7366, 0.7131, 0.7334, 0.7612, 0.7441, 0.743, 0.7323, 0.7484, 0.7345, 0.7313, 0.7463, 0.7612, 0.7495, 0.7334, 0.7537, 0.7623, 0.7559, 0.7366, 0.743, 0.7505, 0.7398, 0.7484, 0.7505, 0.7323, 0.7537, 0.7559, 0.7441, 0.7559, 0.7302, 0.7163, 0.727, 0.7366, 0.7281, 0.7463, 0.7398, 0.742, 0.7463, 0.7398, 0.7505, 0.7355, 0.7805, 0.7527, 0.743, 0.7313, 0.757, 0.742, 0.7013, 0.7709, 0.758, 0.7741, 0.7516, 0.7677, 0.7398, 0.7366, 0.7291, 0.7323, 0.7463, 0.7495, 0.7495, 0.743, 0.7634, 0.7452, 0.7206, 0.7559, 0.7141, 0.7527, 0.727, 0.7473, 0.7441, 0.7409, 0.743, 0.743, 0.7559, 0.7473, 0.7634, 0.742, 0.7398, 0.7463, 0.7345, 0.7409, 0.7473, 0.7645, 0.7516, 0.742, 0.7602, 0.7677, 0.758, 0.7516, 0.743, 0.7345, 0.7334, 0.757, 0.7377, 0.7388, 0.727, 0.7484, 0.7345, 0.7409, 0.7355, 0.7398, 0.7452, 0.6842, 0.7473, 0.7559, 0.7002, 0.7495, 0.7291, 0.7323, 0.7398, 0.7709, 0.742, 0.7409, 0.7463, 0.7773, 0.7634, 0.7345, 0.7463]\n",
      "\n",
      "\n",
      "NEXT LEARNINGRATE: 0.0001\n",
      "Models with base lr = 0.0001 and max lr = 0.0003\n",
      " - Model specifics:\tbatch size: 64, mode: triangular, stepsize: 157, base-lr: 0.0001, max-lr 0.0003, *0\n"
     ]
    },
    {
     "name": "stderr",
     "output_type": "stream",
     "text": [
      "/home/rick/.conda/envs/hannah_z/lib/python3.6/site-packages/keras/callbacks.py:120: UserWarning: Method on_batch_end() is slow compared to the batch update (0.380152). Check your callbacks.\n",
      "  % delta_t_median)\n"
     ]
    },
    {
     "name": "stdout",
     "output_type": "stream",
     "text": [
      "Time usage: 0:00:38 minutes\n",
      "3357/3357 [==============================] - 4s 1ms/step\n",
      "374/374 [==============================] - 0s 1ms/step\n",
      "934/934 [==============================] - 1s 1ms/step\n",
      "3357/3357 [==============================] - 4s 1ms/step\n",
      "374/374 [==============================] - 0s 1ms/step\n",
      "934/934 [==============================] - 1s 1ms/step\n",
      "3357/3357 [==============================] - 4s 1ms/step\n",
      "374/374 [==============================] - 0s 1ms/step\n",
      "934/934 [==============================] - 1s 1ms/step\n",
      "3357/3357 [==============================] - 4s 1ms/step\n",
      "374/374 [==============================] - 0s 1ms/step\n",
      "934/934 [==============================] - 1s 1ms/step\n",
      " - Model specifics:\tbatch size: 64, mode: triangular, stepsize: 157, base-lr: 0.0001, max-lr 0.0003, *1\n"
     ]
    },
    {
     "name": "stderr",
     "output_type": "stream",
     "text": [
      "/home/rick/.conda/envs/hannah_z/lib/python3.6/site-packages/keras/callbacks.py:120: UserWarning: Method on_batch_end() is slow compared to the batch update (0.390133). Check your callbacks.\n",
      "  % delta_t_median)\n"
     ]
    },
    {
     "name": "stdout",
     "output_type": "stream",
     "text": [
      "Time usage: 0:00:34 minutes\n",
      "3357/3357 [==============================] - 4s 1ms/step\n",
      "374/374 [==============================] - 0s 1ms/step\n",
      "934/934 [==============================] - 1s 1ms/step\n",
      "3357/3357 [==============================] - 4s 1ms/step\n",
      "374/374 [==============================] - 0s 1ms/step\n",
      "934/934 [==============================] - 1s 1ms/step\n",
      "3357/3357 [==============================] - 4s 1ms/step\n",
      "374/374 [==============================] - 0s 1ms/step\n",
      "934/934 [==============================] - 1s 1ms/step\n",
      "3357/3357 [==============================] - 4s 1ms/step\n",
      "374/374 [==============================] - 0s 1ms/step\n",
      "934/934 [==============================] - 1s 1ms/step\n",
      " - Model specifics:\tbatch size: 64, mode: triangular, stepsize: 157, base-lr: 0.0001, max-lr 0.0003, *2\n"
     ]
    },
    {
     "name": "stderr",
     "output_type": "stream",
     "text": [
      "/home/rick/.conda/envs/hannah_z/lib/python3.6/site-packages/keras/callbacks.py:120: UserWarning: Method on_batch_end() is slow compared to the batch update (0.380665). Check your callbacks.\n",
      "  % delta_t_median)\n"
     ]
    },
    {
     "name": "stdout",
     "output_type": "stream",
     "text": [
      "Time usage: 0:00:34 minutes\n",
      "3357/3357 [==============================] - 4s 1ms/step\n",
      "374/374 [==============================] - 0s 1ms/step\n",
      "934/934 [==============================] - 1s 1ms/step\n",
      "3357/3357 [==============================] - 4s 1ms/step\n",
      "374/374 [==============================] - 0s 1ms/step\n",
      "934/934 [==============================] - 1s 1ms/step\n",
      "3357/3357 [==============================] - 4s 1ms/step\n",
      "374/374 [==============================] - 0s 1ms/step\n",
      "934/934 [==============================] - 1s 1ms/step\n",
      "3357/3357 [==============================] - 4s 1ms/step\n",
      "374/374 [==============================] - 0s 1ms/step\n",
      "934/934 [==============================] - 1s 1ms/step\n",
      " - Model specifics:\tbatch size: 64, mode: triangular, stepsize: 157, base-lr: 0.0001, max-lr 0.0003, *3\n"
     ]
    },
    {
     "name": "stderr",
     "output_type": "stream",
     "text": [
      "/home/rick/.conda/envs/hannah_z/lib/python3.6/site-packages/keras/callbacks.py:120: UserWarning: Method on_batch_end() is slow compared to the batch update (0.418345). Check your callbacks.\n",
      "  % delta_t_median)\n"
     ]
    },
    {
     "name": "stdout",
     "output_type": "stream",
     "text": [
      "Time usage: 0:00:35 minutes\n",
      "3357/3357 [==============================] - 4s 1ms/step\n",
      "374/374 [==============================] - 0s 1ms/step\n",
      "934/934 [==============================] - 1s 1ms/step\n",
      "3357/3357 [==============================] - 4s 1ms/step\n",
      "374/374 [==============================] - 0s 1ms/step\n",
      "934/934 [==============================] - 1s 1ms/step\n",
      "3357/3357 [==============================] - 4s 1ms/step\n",
      "374/374 [==============================] - 0s 1ms/step\n",
      "934/934 [==============================] - 1s 1ms/step\n",
      "3357/3357 [==============================] - 4s 1ms/step\n",
      "374/374 [==============================] - 0s 1ms/step\n",
      "934/934 [==============================] - 1s 1ms/step\n",
      " - Model specifics:\tbatch size: 64, mode: triangular, stepsize: 157, base-lr: 0.0001, max-lr 0.0003, *4\n"
     ]
    },
    {
     "name": "stderr",
     "output_type": "stream",
     "text": [
      "/home/rick/.conda/envs/hannah_z/lib/python3.6/site-packages/keras/callbacks.py:120: UserWarning: Method on_batch_end() is slow compared to the batch update (0.404685). Check your callbacks.\n",
      "  % delta_t_median)\n"
     ]
    },
    {
     "name": "stdout",
     "output_type": "stream",
     "text": [
      "Time usage: 0:00:35 minutes\n",
      "3357/3357 [==============================] - 4s 1ms/step\n",
      "374/374 [==============================] - 0s 1ms/step\n",
      "934/934 [==============================] - 1s 1ms/step\n",
      "3357/3357 [==============================] - 4s 1ms/step\n",
      "374/374 [==============================] - 0s 1ms/step\n",
      "934/934 [==============================] - 1s 1ms/step\n",
      "3357/3357 [==============================] - 4s 1ms/step\n",
      "374/374 [==============================] - 0s 1ms/step\n",
      "934/934 [==============================] - 1s 1ms/step\n",
      "3357/3357 [==============================] - 4s 1ms/step\n",
      "374/374 [==============================] - 0s 1ms/step\n",
      "934/934 [==============================] - 1s 1ms/step\n",
      "- Training accuracies:\t[0.7864, 0.7745, 0.7909, 0.7697, 0.7373, 0.7691, 0.8067, 0.7682, 0.7876, 0.7834, 0.7924, 0.7954, 0.7688, 0.7924, 0.8028, 0.7909, 0.7781, 0.807, 0.8061, 0.7992, 0.7778, 0.7727, 0.784, 0.7772, 0.7867, 0.793, 0.7659, 0.798, 0.7954, 0.7945, 0.7957, 0.7867, 0.7516, 0.7593, 0.7685, 0.7632, 0.7822, 0.7766, 0.7968, 0.7977, 0.7781, 0.801, 0.7617, 0.8239, 0.7942, 0.7858, 0.7682, 0.7989, 0.7867, 0.717, 0.8126, 0.821, 0.8129, 0.7906, 0.8082, 0.776, 0.7748, 0.7659, 0.776, 0.8004, 0.7924, 0.793, 0.7837, 0.8031, 0.79, 0.7423, 0.793, 0.7495, 0.8079, 0.7733, 0.7849, 0.7718, 0.7802, 0.7879, 0.7769, 0.7939, 0.7852, 0.8034, 0.7843, 0.7766, 0.79, 0.779, 0.7688, 0.7775, 0.793, 0.8001, 0.787, 0.7939, 0.8019, 0.7951, 0.8025, 0.7912, 0.7754, 0.7674, 0.8025, 0.7769, 0.7799, 0.7587, 0.7962, 0.7831, 0.7745, 0.7769, 0.7974, 0.7921, 0.7155, 0.779, 0.7915, 0.7221, 0.7948, 0.7632, 0.7665, 0.784, 0.8114, 0.784, 0.784, 0.7775, 0.8254, 0.7986, 0.7742, 0.7879]\n",
      "- validation accuracies:\t[0.7594, 0.7513, 0.7487, 0.738, 0.6979, 0.7406, 0.7727, 0.7326, 0.7406, 0.7299, 0.754, 0.7513, 0.7299, 0.7674, 0.7674, 0.746, 0.7513, 0.7701, 0.7781, 0.7701, 0.7326, 0.7299, 0.7433, 0.7487, 0.7433, 0.746, 0.7273, 0.7647, 0.754, 0.7594, 0.7647, 0.7406, 0.7193, 0.7326, 0.7299, 0.7139, 0.746, 0.746, 0.7567, 0.7513, 0.746, 0.7594, 0.7353, 0.8021, 0.754, 0.738, 0.7273, 0.762, 0.7567, 0.6872, 0.7754, 0.7888, 0.7781, 0.7567, 0.7754, 0.7406, 0.738, 0.7219, 0.7299, 0.7727, 0.7647, 0.7406, 0.7406, 0.7701, 0.7487, 0.7166, 0.7406, 0.7005, 0.7754, 0.7353, 0.7487, 0.7353, 0.7433, 0.754, 0.746, 0.7567, 0.7433, 0.762, 0.738, 0.746, 0.7567, 0.7406, 0.7406, 0.754, 0.7674, 0.762, 0.7353, 0.754, 0.7781, 0.7513, 0.7701, 0.7487, 0.7353, 0.7299, 0.7567, 0.762, 0.7433, 0.7193, 0.7567, 0.7353, 0.746, 0.7433, 0.7647, 0.7594, 0.6872, 0.7299, 0.7567, 0.6979, 0.7674, 0.7139, 0.7406, 0.7647, 0.7861, 0.7487, 0.7406, 0.754, 0.7941, 0.7701, 0.7299, 0.754]\n",
      "- Testing accuracies:\t[0.7441, 0.7323, 0.7495, 0.7366, 0.7131, 0.7334, 0.7612, 0.7441, 0.743, 0.7323, 0.7484, 0.7345, 0.7313, 0.7463, 0.7612, 0.7495, 0.7334, 0.7537, 0.7623, 0.7559, 0.7366, 0.743, 0.7505, 0.7398, 0.7484, 0.7505, 0.7323, 0.7537, 0.7559, 0.7441, 0.7559, 0.7302, 0.7163, 0.727, 0.7366, 0.7281, 0.7463, 0.7398, 0.742, 0.7463, 0.7398, 0.7505, 0.7355, 0.7805, 0.7527, 0.743, 0.7313, 0.757, 0.742, 0.7013, 0.7709, 0.758, 0.7741, 0.7516, 0.7677, 0.7398, 0.7366, 0.7291, 0.7323, 0.7463, 0.7495, 0.7495, 0.743, 0.7634, 0.7452, 0.7206, 0.7559, 0.7141, 0.7527, 0.727, 0.7473, 0.7441, 0.7409, 0.743, 0.743, 0.7559, 0.7473, 0.7634, 0.742, 0.7398, 0.7463, 0.7345, 0.7409, 0.7473, 0.7645, 0.7516, 0.742, 0.7602, 0.7677, 0.758, 0.7516, 0.743, 0.7345, 0.7334, 0.757, 0.7377, 0.7388, 0.727, 0.7484, 0.7345, 0.7409, 0.7355, 0.7398, 0.7452, 0.6842, 0.7473, 0.7559, 0.7002, 0.7495, 0.7291, 0.7323, 0.7398, 0.7709, 0.742, 0.7409, 0.7463, 0.7773, 0.7634, 0.7345, 0.7463]\n",
      "\n",
      "\n",
      "Models with base lr = 0.0001 and max lr = 0.0006\n",
      " - Model specifics:\tbatch size: 64, mode: triangular, stepsize: 157, base-lr: 0.0001, max-lr 0.0006, *0\n"
     ]
    },
    {
     "name": "stderr",
     "output_type": "stream",
     "text": [
      "/home/rick/.conda/envs/hannah_z/lib/python3.6/site-packages/keras/callbacks.py:120: UserWarning: Method on_batch_end() is slow compared to the batch update (0.383752). Check your callbacks.\n",
      "  % delta_t_median)\n"
     ]
    },
    {
     "name": "stdout",
     "output_type": "stream",
     "text": [
      "Time usage: 0:00:40 minutes\n",
      "3357/3357 [==============================] - 4s 1ms/step\n",
      "374/374 [==============================] - 0s 1ms/step\n",
      "934/934 [==============================] - 1s 1ms/step\n",
      "3357/3357 [==============================] - 4s 1ms/step\n",
      "374/374 [==============================] - 0s 1ms/step\n",
      "934/934 [==============================] - 1s 1ms/step\n",
      "3357/3357 [==============================] - 4s 1ms/step\n",
      "374/374 [==============================] - 0s 1ms/step\n",
      "934/934 [==============================] - 1s 1ms/step\n",
      "3357/3357 [==============================] - 4s 1ms/step\n",
      "374/374 [==============================] - 0s 1ms/step\n",
      "934/934 [==============================] - 1s 1ms/step\n",
      " - Model specifics:\tbatch size: 64, mode: triangular, stepsize: 157, base-lr: 0.0001, max-lr 0.0006, *1\n"
     ]
    },
    {
     "name": "stderr",
     "output_type": "stream",
     "text": [
      "/home/rick/.conda/envs/hannah_z/lib/python3.6/site-packages/keras/callbacks.py:120: UserWarning: Method on_batch_end() is slow compared to the batch update (0.387132). Check your callbacks.\n",
      "  % delta_t_median)\n"
     ]
    },
    {
     "name": "stdout",
     "output_type": "stream",
     "text": [
      "Time usage: 0:00:35 minutes\n",
      "3357/3357 [==============================] - 4s 1ms/step\n",
      "374/374 [==============================] - 0s 1ms/step\n",
      "934/934 [==============================] - 1s 1ms/step\n",
      "3357/3357 [==============================] - 4s 1ms/step\n",
      "374/374 [==============================] - 0s 1ms/step\n",
      "934/934 [==============================] - 1s 1ms/step\n",
      "3357/3357 [==============================] - 4s 1ms/step\n",
      "374/374 [==============================] - 0s 1ms/step\n",
      "934/934 [==============================] - 1s 1ms/step\n",
      "3357/3357 [==============================] - 4s 1ms/step\n",
      "374/374 [==============================] - 0s 1ms/step\n",
      "934/934 [==============================] - 1s 1ms/step\n",
      " - Model specifics:\tbatch size: 64, mode: triangular, stepsize: 157, base-lr: 0.0001, max-lr 0.0006, *2\n"
     ]
    },
    {
     "name": "stderr",
     "output_type": "stream",
     "text": [
      "/home/rick/.conda/envs/hannah_z/lib/python3.6/site-packages/keras/callbacks.py:120: UserWarning: Method on_batch_end() is slow compared to the batch update (0.380041). Check your callbacks.\n",
      "  % delta_t_median)\n"
     ]
    },
    {
     "name": "stdout",
     "output_type": "stream",
     "text": [
      "Time usage: 0:00:35 minutes\n",
      "3357/3357 [==============================] - 4s 1ms/step\n",
      "374/374 [==============================] - 0s 1ms/step\n",
      "934/934 [==============================] - 1s 1ms/step\n",
      "3357/3357 [==============================] - 4s 1ms/step\n",
      "374/374 [==============================] - 0s 1ms/step\n",
      "934/934 [==============================] - 1s 1ms/step\n",
      "3357/3357 [==============================] - 4s 1ms/step\n",
      "374/374 [==============================] - 0s 1ms/step\n",
      "934/934 [==============================] - 1s 1ms/step\n",
      "3357/3357 [==============================] - 4s 1ms/step\n",
      "374/374 [==============================] - 0s 1ms/step\n",
      "934/934 [==============================] - 1s 1ms/step\n",
      " - Model specifics:\tbatch size: 64, mode: triangular, stepsize: 157, base-lr: 0.0001, max-lr 0.0006, *3\n"
     ]
    },
    {
     "name": "stderr",
     "output_type": "stream",
     "text": [
      "/home/rick/.conda/envs/hannah_z/lib/python3.6/site-packages/keras/callbacks.py:120: UserWarning: Method on_batch_end() is slow compared to the batch update (0.391763). Check your callbacks.\n",
      "  % delta_t_median)\n"
     ]
    },
    {
     "name": "stdout",
     "output_type": "stream",
     "text": [
      "Time usage: 0:00:35 minutes\n",
      "3357/3357 [==============================] - 4s 1ms/step\n",
      "374/374 [==============================] - 0s 1ms/step\n",
      "934/934 [==============================] - 1s 1ms/step\n",
      "3357/3357 [==============================] - 4s 1ms/step\n",
      "374/374 [==============================] - 0s 1ms/step\n",
      "934/934 [==============================] - 1s 1ms/step\n",
      "3357/3357 [==============================] - 4s 1ms/step\n",
      "374/374 [==============================] - 0s 1ms/step\n",
      "934/934 [==============================] - 1s 1ms/step\n",
      "3357/3357 [==============================] - 4s 1ms/step\n",
      "374/374 [==============================] - 0s 1ms/step\n",
      "934/934 [==============================] - 1s 1ms/step\n",
      " - Model specifics:\tbatch size: 64, mode: triangular, stepsize: 157, base-lr: 0.0001, max-lr 0.0006, *4\n"
     ]
    },
    {
     "name": "stderr",
     "output_type": "stream",
     "text": [
      "/home/rick/.conda/envs/hannah_z/lib/python3.6/site-packages/keras/callbacks.py:120: UserWarning: Method on_batch_end() is slow compared to the batch update (0.389570). Check your callbacks.\n",
      "  % delta_t_median)\n"
     ]
    },
    {
     "name": "stdout",
     "output_type": "stream",
     "text": [
      "Time usage: 0:00:35 minutes\n",
      "3357/3357 [==============================] - 4s 1ms/step\n",
      "374/374 [==============================] - 0s 1ms/step\n",
      "934/934 [==============================] - 1s 1ms/step\n",
      "3357/3357 [==============================] - 4s 1ms/step\n",
      "374/374 [==============================] - 0s 1ms/step\n",
      "934/934 [==============================] - 1s 1ms/step\n",
      "3357/3357 [==============================] - 4s 1ms/step\n",
      "374/374 [==============================] - 0s 1ms/step\n",
      "934/934 [==============================] - 1s 1ms/step\n",
      "3357/3357 [==============================] - 4s 1ms/step\n",
      "374/374 [==============================] - 0s 1ms/step\n",
      "934/934 [==============================] - 1s 1ms/step\n",
      "- Training accuracies:\t[0.7864, 0.7745, 0.7909, 0.7697, 0.7373, 0.7691, 0.8067, 0.7682, 0.7876, 0.7834, 0.7924, 0.7954, 0.7688, 0.7924, 0.8028, 0.7909, 0.7781, 0.807, 0.8061, 0.7992, 0.7778, 0.7727, 0.784, 0.7772, 0.7867, 0.793, 0.7659, 0.798, 0.7954, 0.7945, 0.7957, 0.7867, 0.7516, 0.7593, 0.7685, 0.7632, 0.7822, 0.7766, 0.7968, 0.7977, 0.7781, 0.801, 0.7617, 0.8239, 0.7942, 0.7858, 0.7682, 0.7989, 0.7867, 0.717, 0.8126, 0.821, 0.8129, 0.7906, 0.8082, 0.776, 0.7748, 0.7659, 0.776, 0.8004, 0.7924, 0.793, 0.7837, 0.8031, 0.79, 0.7423, 0.793, 0.7495, 0.8079, 0.7733, 0.7849, 0.7718, 0.7802, 0.7879, 0.7769, 0.7939, 0.7852, 0.8034, 0.7843, 0.7766, 0.79, 0.779, 0.7688, 0.7775, 0.793, 0.8001, 0.787, 0.7939, 0.8019, 0.7951, 0.8025, 0.7912, 0.7754, 0.7674, 0.8025, 0.7769, 0.7799, 0.7587, 0.7962, 0.7831, 0.7745, 0.7769, 0.7974, 0.7921, 0.7155, 0.779, 0.7915, 0.7221, 0.7948, 0.7632, 0.7665, 0.784, 0.8114, 0.784, 0.784, 0.7775, 0.8254, 0.7986, 0.7742, 0.7879]\n",
      "- validation accuracies:\t[0.7594, 0.7513, 0.7487, 0.738, 0.6979, 0.7406, 0.7727, 0.7326, 0.7406, 0.7299, 0.754, 0.7513, 0.7299, 0.7674, 0.7674, 0.746, 0.7513, 0.7701, 0.7781, 0.7701, 0.7326, 0.7299, 0.7433, 0.7487, 0.7433, 0.746, 0.7273, 0.7647, 0.754, 0.7594, 0.7647, 0.7406, 0.7193, 0.7326, 0.7299, 0.7139, 0.746, 0.746, 0.7567, 0.7513, 0.746, 0.7594, 0.7353, 0.8021, 0.754, 0.738, 0.7273, 0.762, 0.7567, 0.6872, 0.7754, 0.7888, 0.7781, 0.7567, 0.7754, 0.7406, 0.738, 0.7219, 0.7299, 0.7727, 0.7647, 0.7406, 0.7406, 0.7701, 0.7487, 0.7166, 0.7406, 0.7005, 0.7754, 0.7353, 0.7487, 0.7353, 0.7433, 0.754, 0.746, 0.7567, 0.7433, 0.762, 0.738, 0.746, 0.7567, 0.7406, 0.7406, 0.754, 0.7674, 0.762, 0.7353, 0.754, 0.7781, 0.7513, 0.7701, 0.7487, 0.7353, 0.7299, 0.7567, 0.762, 0.7433, 0.7193, 0.7567, 0.7353, 0.746, 0.7433, 0.7647, 0.7594, 0.6872, 0.7299, 0.7567, 0.6979, 0.7674, 0.7139, 0.7406, 0.7647, 0.7861, 0.7487, 0.7406, 0.754, 0.7941, 0.7701, 0.7299, 0.754]\n",
      "- Testing accuracies:\t[0.7441, 0.7323, 0.7495, 0.7366, 0.7131, 0.7334, 0.7612, 0.7441, 0.743, 0.7323, 0.7484, 0.7345, 0.7313, 0.7463, 0.7612, 0.7495, 0.7334, 0.7537, 0.7623, 0.7559, 0.7366, 0.743, 0.7505, 0.7398, 0.7484, 0.7505, 0.7323, 0.7537, 0.7559, 0.7441, 0.7559, 0.7302, 0.7163, 0.727, 0.7366, 0.7281, 0.7463, 0.7398, 0.742, 0.7463, 0.7398, 0.7505, 0.7355, 0.7805, 0.7527, 0.743, 0.7313, 0.757, 0.742, 0.7013, 0.7709, 0.758, 0.7741, 0.7516, 0.7677, 0.7398, 0.7366, 0.7291, 0.7323, 0.7463, 0.7495, 0.7495, 0.743, 0.7634, 0.7452, 0.7206, 0.7559, 0.7141, 0.7527, 0.727, 0.7473, 0.7441, 0.7409, 0.743, 0.743, 0.7559, 0.7473, 0.7634, 0.742, 0.7398, 0.7463, 0.7345, 0.7409, 0.7473, 0.7645, 0.7516, 0.742, 0.7602, 0.7677, 0.758, 0.7516, 0.743, 0.7345, 0.7334, 0.757, 0.7377, 0.7388, 0.727, 0.7484, 0.7345, 0.7409, 0.7355, 0.7398, 0.7452, 0.6842, 0.7473, 0.7559, 0.7002, 0.7495, 0.7291, 0.7323, 0.7398, 0.7709, 0.742, 0.7409, 0.7463, 0.7773, 0.7634, 0.7345, 0.7463]\n",
      "\n",
      "\n",
      "Models with base lr = 0.0001 and max lr = 0.0009\n",
      " - Model specifics:\tbatch size: 64, mode: triangular, stepsize: 157, base-lr: 0.0001, max-lr 0.0009, *0\n"
     ]
    },
    {
     "name": "stderr",
     "output_type": "stream",
     "text": [
      "/home/rick/.conda/envs/hannah_z/lib/python3.6/site-packages/keras/callbacks.py:120: UserWarning: Method on_batch_end() is slow compared to the batch update (0.396346). Check your callbacks.\n",
      "  % delta_t_median)\n"
     ]
    },
    {
     "name": "stdout",
     "output_type": "stream",
     "text": [
      "Time usage: 0:00:40 minutes\n",
      "3357/3357 [==============================] - 4s 1ms/step\n",
      "374/374 [==============================] - 0s 1ms/step\n",
      "934/934 [==============================] - 1s 1ms/step\n",
      "3357/3357 [==============================] - 4s 1ms/step\n",
      "374/374 [==============================] - 0s 1ms/step\n",
      "934/934 [==============================] - 1s 1ms/step\n",
      "3357/3357 [==============================] - 4s 1ms/step\n",
      "374/374 [==============================] - 0s 1ms/step\n",
      "934/934 [==============================] - 1s 1ms/step\n",
      "3357/3357 [==============================] - 4s 1ms/step\n",
      "374/374 [==============================] - 1s 1ms/step\n",
      "934/934 [==============================] - 1s 1ms/step\n",
      " - Model specifics:\tbatch size: 64, mode: triangular, stepsize: 157, base-lr: 0.0001, max-lr 0.0009, *1\n"
     ]
    },
    {
     "name": "stderr",
     "output_type": "stream",
     "text": [
      "/home/rick/.conda/envs/hannah_z/lib/python3.6/site-packages/keras/callbacks.py:120: UserWarning: Method on_batch_end() is slow compared to the batch update (0.397478). Check your callbacks.\n",
      "  % delta_t_median)\n"
     ]
    },
    {
     "name": "stdout",
     "output_type": "stream",
     "text": [
      "Time usage: 0:00:35 minutes\n",
      "3357/3357 [==============================] - 4s 1ms/step\n",
      "374/374 [==============================] - 0s 1ms/step\n",
      "934/934 [==============================] - 1s 1ms/step\n",
      "3357/3357 [==============================] - 4s 1ms/step\n",
      "374/374 [==============================] - 0s 1ms/step\n",
      "934/934 [==============================] - 1s 1ms/step\n",
      "3357/3357 [==============================] - 4s 1ms/step\n",
      "374/374 [==============================] - 0s 1ms/step\n",
      "934/934 [==============================] - 1s 1ms/step\n",
      "3357/3357 [==============================] - 4s 1ms/step\n",
      "374/374 [==============================] - 0s 1ms/step\n",
      "934/934 [==============================] - 1s 1ms/step\n",
      " - Model specifics:\tbatch size: 64, mode: triangular, stepsize: 157, base-lr: 0.0001, max-lr 0.0009, *2\n"
     ]
    },
    {
     "name": "stderr",
     "output_type": "stream",
     "text": [
      "/home/rick/.conda/envs/hannah_z/lib/python3.6/site-packages/keras/callbacks.py:120: UserWarning: Method on_batch_end() is slow compared to the batch update (0.442388). Check your callbacks.\n",
      "  % delta_t_median)\n"
     ]
    },
    {
     "name": "stdout",
     "output_type": "stream",
     "text": [
      "Time usage: 0:00:36 minutes\n",
      "3357/3357 [==============================] - 4s 1ms/step\n",
      "374/374 [==============================] - 0s 1ms/step\n",
      "934/934 [==============================] - 1s 1ms/step\n",
      "3357/3357 [==============================] - 4s 1ms/step\n",
      "374/374 [==============================] - 0s 1ms/step\n",
      "934/934 [==============================] - 1s 1ms/step\n",
      "3357/3357 [==============================] - 4s 1ms/step\n",
      "374/374 [==============================] - 0s 1ms/step\n",
      "934/934 [==============================] - 1s 1ms/step\n",
      "3357/3357 [==============================] - 4s 1ms/step\n",
      "374/374 [==============================] - 1s 1ms/step\n",
      "934/934 [==============================] - 1s 1ms/step\n",
      " - Model specifics:\tbatch size: 64, mode: triangular, stepsize: 157, base-lr: 0.0001, max-lr 0.0009, *3\n"
     ]
    },
    {
     "name": "stderr",
     "output_type": "stream",
     "text": [
      "/home/rick/.conda/envs/hannah_z/lib/python3.6/site-packages/keras/callbacks.py:120: UserWarning: Method on_batch_end() is slow compared to the batch update (0.414620). Check your callbacks.\n",
      "  % delta_t_median)\n"
     ]
    },
    {
     "name": "stdout",
     "output_type": "stream",
     "text": [
      "Time usage: 0:00:35 minutes\n",
      "3357/3357 [==============================] - 4s 1ms/step\n",
      "374/374 [==============================] - 0s 1ms/step\n",
      "934/934 [==============================] - 1s 1ms/step\n",
      "3357/3357 [==============================] - 4s 1ms/step\n",
      "374/374 [==============================] - 1s 1ms/step\n",
      "934/934 [==============================] - 1s 1ms/step\n",
      "3357/3357 [==============================] - 4s 1ms/step\n",
      "374/374 [==============================] - 0s 1ms/step\n",
      "934/934 [==============================] - 1s 1ms/step\n",
      "3357/3357 [==============================] - 4s 1ms/step\n",
      "374/374 [==============================] - 0s 1ms/step\n",
      "934/934 [==============================] - 1s 1ms/step\n",
      " - Model specifics:\tbatch size: 64, mode: triangular, stepsize: 157, base-lr: 0.0001, max-lr 0.0009, *4\n"
     ]
    },
    {
     "name": "stderr",
     "output_type": "stream",
     "text": [
      "/home/rick/.conda/envs/hannah_z/lib/python3.6/site-packages/keras/callbacks.py:120: UserWarning: Method on_batch_end() is slow compared to the batch update (0.418762). Check your callbacks.\n",
      "  % delta_t_median)\n"
     ]
    },
    {
     "name": "stdout",
     "output_type": "stream",
     "text": [
      "Time usage: 0:00:36 minutes\n",
      "3357/3357 [==============================] - 4s 1ms/step\n",
      "374/374 [==============================] - 0s 1ms/step\n",
      "934/934 [==============================] - 1s 1ms/step\n",
      "3357/3357 [==============================] - 4s 1ms/step\n",
      "374/374 [==============================] - 0s 1ms/step\n",
      "934/934 [==============================] - 1s 1ms/step\n",
      "3357/3357 [==============================] - 4s 1ms/step\n",
      "374/374 [==============================] - 0s 1ms/step\n",
      "934/934 [==============================] - 1s 1ms/step\n",
      "3357/3357 [==============================] - 4s 1ms/step\n",
      "374/374 [==============================] - 0s 1ms/step\n",
      "934/934 [==============================] - 1s 1ms/step\n",
      "- Training accuracies:\t[0.7864, 0.7745, 0.7909, 0.7697, 0.7373, 0.7691, 0.8067, 0.7682, 0.7876, 0.7834, 0.7924, 0.7954, 0.7688, 0.7924, 0.8028, 0.7909, 0.7781, 0.807, 0.8061, 0.7992, 0.7778, 0.7727, 0.784, 0.7772, 0.7867, 0.793, 0.7659, 0.798, 0.7954, 0.7945, 0.7957, 0.7867, 0.7516, 0.7593, 0.7685, 0.7632, 0.7822, 0.7766, 0.7968, 0.7977, 0.7781, 0.801, 0.7617, 0.8239, 0.7942, 0.7858, 0.7682, 0.7989, 0.7867, 0.717, 0.8126, 0.821, 0.8129, 0.7906, 0.8082, 0.776, 0.7748, 0.7659, 0.776, 0.8004, 0.7924, 0.793, 0.7837, 0.8031, 0.79, 0.7423, 0.793, 0.7495, 0.8079, 0.7733, 0.7849, 0.7718, 0.7802, 0.7879, 0.7769, 0.7939, 0.7852, 0.8034, 0.7843, 0.7766, 0.79, 0.779, 0.7688, 0.7775, 0.793, 0.8001, 0.787, 0.7939, 0.8019, 0.7951, 0.8025, 0.7912, 0.7754, 0.7674, 0.8025, 0.7769, 0.7799, 0.7587, 0.7962, 0.7831, 0.7745, 0.7769, 0.7974, 0.7921, 0.7155, 0.779, 0.7915, 0.7221, 0.7948, 0.7632, 0.7665, 0.784, 0.8114, 0.784, 0.784, 0.7775, 0.8254, 0.7986, 0.7742, 0.7879]\n",
      "- validation accuracies:\t[0.7594, 0.7513, 0.7487, 0.738, 0.6979, 0.7406, 0.7727, 0.7326, 0.7406, 0.7299, 0.754, 0.7513, 0.7299, 0.7674, 0.7674, 0.746, 0.7513, 0.7701, 0.7781, 0.7701, 0.7326, 0.7299, 0.7433, 0.7487, 0.7433, 0.746, 0.7273, 0.7647, 0.754, 0.7594, 0.7647, 0.7406, 0.7193, 0.7326, 0.7299, 0.7139, 0.746, 0.746, 0.7567, 0.7513, 0.746, 0.7594, 0.7353, 0.8021, 0.754, 0.738, 0.7273, 0.762, 0.7567, 0.6872, 0.7754, 0.7888, 0.7781, 0.7567, 0.7754, 0.7406, 0.738, 0.7219, 0.7299, 0.7727, 0.7647, 0.7406, 0.7406, 0.7701, 0.7487, 0.7166, 0.7406, 0.7005, 0.7754, 0.7353, 0.7487, 0.7353, 0.7433, 0.754, 0.746, 0.7567, 0.7433, 0.762, 0.738, 0.746, 0.7567, 0.7406, 0.7406, 0.754, 0.7674, 0.762, 0.7353, 0.754, 0.7781, 0.7513, 0.7701, 0.7487, 0.7353, 0.7299, 0.7567, 0.762, 0.7433, 0.7193, 0.7567, 0.7353, 0.746, 0.7433, 0.7647, 0.7594, 0.6872, 0.7299, 0.7567, 0.6979, 0.7674, 0.7139, 0.7406, 0.7647, 0.7861, 0.7487, 0.7406, 0.754, 0.7941, 0.7701, 0.7299, 0.754]\n",
      "- Testing accuracies:\t[0.7441, 0.7323, 0.7495, 0.7366, 0.7131, 0.7334, 0.7612, 0.7441, 0.743, 0.7323, 0.7484, 0.7345, 0.7313, 0.7463, 0.7612, 0.7495, 0.7334, 0.7537, 0.7623, 0.7559, 0.7366, 0.743, 0.7505, 0.7398, 0.7484, 0.7505, 0.7323, 0.7537, 0.7559, 0.7441, 0.7559, 0.7302, 0.7163, 0.727, 0.7366, 0.7281, 0.7463, 0.7398, 0.742, 0.7463, 0.7398, 0.7505, 0.7355, 0.7805, 0.7527, 0.743, 0.7313, 0.757, 0.742, 0.7013, 0.7709, 0.758, 0.7741, 0.7516, 0.7677, 0.7398, 0.7366, 0.7291, 0.7323, 0.7463, 0.7495, 0.7495, 0.743, 0.7634, 0.7452, 0.7206, 0.7559, 0.7141, 0.7527, 0.727, 0.7473, 0.7441, 0.7409, 0.743, 0.743, 0.7559, 0.7473, 0.7634, 0.742, 0.7398, 0.7463, 0.7345, 0.7409, 0.7473, 0.7645, 0.7516, 0.742, 0.7602, 0.7677, 0.758, 0.7516, 0.743, 0.7345, 0.7334, 0.757, 0.7377, 0.7388, 0.727, 0.7484, 0.7345, 0.7409, 0.7355, 0.7398, 0.7452, 0.6842, 0.7473, 0.7559, 0.7002, 0.7495, 0.7291, 0.7323, 0.7398, 0.7709, 0.742, 0.7409, 0.7463, 0.7773, 0.7634, 0.7345, 0.7463]\n",
      "\n",
      "\n",
      "Time usage: 0:43:18 minutes\n"
     ]
    }
   ],
   "source": [
    "learning_rate_finder(epochs = 5)"
   ]
  },
  {
   "cell_type": "code",
   "execution_count": null,
   "metadata": {
    "collapsed": true
   },
   "outputs": [],
   "source": []
  },
  {
   "cell_type": "code",
   "execution_count": 180,
   "metadata": {},
   "outputs": [
    {
     "name": "stdout",
     "output_type": "stream",
     "text": [
      "accuracy\n",
      "batch size: 64, mode: triangular, stepsize: 157, base-lr: 1e-05, max-lr 0.0003, *0\t0.7552\t0.7572\t0.7794\n",
      "batch size: 64, mode: triangular, stepsize: 157, base-lr: 1e-05, max-lr 0.0006, *0\t0.7541\t0.7543\t0.7786\n",
      "batch size: 64, mode: triangular, stepsize: 157, base-lr: 1e-05, max-lr 0.0009, *0\t0.7566\t0.7577\t0.7852\n",
      "batch size: 64, mode: triangular, stepsize: 157, base-lr: 5e-05, max-lr 0.0003, *0\t0.757\t0.7579\t0.7857\n",
      "batch size: 64, mode: triangular, stepsize: 157, base-lr: 5e-05, max-lr 0.0006, *0\t0.7576\t0.76\t0.7871\n",
      "batch size: 64, mode: triangular, stepsize: 157, base-lr: 5e-05, max-lr 0.0009, *0\t0.7567\t0.7572\t0.7863\n",
      "batch size: 64, mode: triangular, stepsize: 157, base-lr: 0.0001, max-lr 0.0003, *0\t0.7561\t0.758\t0.7861\n",
      "batch size: 64, mode: triangular, stepsize: 157, base-lr: 0.0001, max-lr 0.0006, *0\t0.7567\t0.7587\t0.7876\n",
      "batch size: 64, mode: triangular, stepsize: 157, base-lr: 0.0001, max-lr 0.0009, *0\t0.7571\t0.7599\t0.7896\n",
      "\n",
      "loss\n",
      "batch size: 64, mode: triangular, stepsize: 157, base-lr: 1e-05, max-lr 0.0003, *0\t1.006\t0.9945\t0.8361\n",
      "batch size: 64, mode: triangular, stepsize: 157, base-lr: 1e-05, max-lr 0.0006, *0\t1.0466\t1.0321\t0.8604\n",
      "batch size: 64, mode: triangular, stepsize: 157, base-lr: 1e-05, max-lr 0.0009, *0\t1.0197\t1.0037\t0.8233\n",
      "batch size: 64, mode: triangular, stepsize: 157, base-lr: 5e-05, max-lr 0.0003, *0\t1.0011\t0.9823\t0.8093\n",
      "batch size: 64, mode: triangular, stepsize: 157, base-lr: 5e-05, max-lr 0.0006, *0\t0.9993\t0.985\t0.8063\n",
      "batch size: 64, mode: triangular, stepsize: 157, base-lr: 5e-05, max-lr 0.0009, *0\t1.0136\t1.0047\t0.8163\n",
      "batch size: 64, mode: triangular, stepsize: 157, base-lr: 0.0001, max-lr 0.0003, *0\t1.0048\t0.9991\t0.8114\n",
      "batch size: 64, mode: triangular, stepsize: 157, base-lr: 0.0001, max-lr 0.0006, *0\t0.9946\t0.989\t0.803\n",
      "batch size: 64, mode: triangular, stepsize: 157, base-lr: 0.0001, max-lr 0.0009, *0\t0.9833\t0.975\t0.7914\n",
      "\n",
      "precision\n",
      "batch size: 64, mode: triangular, stepsize: 157, base-lr: 1e-05, max-lr 0.0003, *0\t0.6875\t0.6682\t0.7033\n",
      "batch size: 64, mode: triangular, stepsize: 157, base-lr: 1e-05, max-lr 0.0006, *0\t0.6872\t0.6664\t0.7034\n",
      "batch size: 64, mode: triangular, stepsize: 157, base-lr: 1e-05, max-lr 0.0009, *0\t0.6921\t0.6705\t0.7118\n",
      "batch size: 64, mode: triangular, stepsize: 157, base-lr: 5e-05, max-lr 0.0003, *0\t0.6929\t0.6708\t0.7123\n",
      "batch size: 64, mode: triangular, stepsize: 157, base-lr: 5e-05, max-lr 0.0006, *0\t0.6938\t0.673\t0.7141\n",
      "batch size: 64, mode: triangular, stepsize: 157, base-lr: 5e-05, max-lr 0.0009, *0\t0.6934\t0.6704\t0.7134\n",
      "batch size: 64, mode: triangular, stepsize: 157, base-lr: 0.0001, max-lr 0.0003, *0\t0.6927\t0.6709\t0.7129\n",
      "batch size: 64, mode: triangular, stepsize: 157, base-lr: 0.0001, max-lr 0.0006, *0\t0.6939\t0.6719\t0.7149\n",
      "batch size: 64, mode: triangular, stepsize: 157, base-lr: 0.0001, max-lr 0.0009, *0\t0.6956\t0.6739\t0.7179\n",
      "\n",
      "recall\n",
      "batch size: 64, mode: triangular, stepsize: 157, base-lr: 1e-05, max-lr 0.0003, *0\t0.9628\t0.9718\t0.9672\n",
      "batch size: 64, mode: triangular, stepsize: 157, base-lr: 1e-05, max-lr 0.0006, *0\t0.96\t0.9716\t0.9644\n",
      "batch size: 64, mode: triangular, stepsize: 157, base-lr: 1e-05, max-lr 0.0009, *0\t0.9528\t0.9677\t0.961\n",
      "batch size: 64, mode: triangular, stepsize: 157, base-lr: 5e-05, max-lr 0.0003, *0\t0.9521\t0.9656\t0.9608\n",
      "batch size: 64, mode: triangular, stepsize: 157, base-lr: 5e-05, max-lr 0.0006, *0\t0.9499\t0.9647\t0.9594\n",
      "batch size: 64, mode: triangular, stepsize: 157, base-lr: 5e-05, max-lr 0.0009, *0\t0.949\t0.9633\t0.9589\n",
      "batch size: 64, mode: triangular, stepsize: 157, base-lr: 0.0001, max-lr 0.0003, *0\t0.9493\t0.9638\t0.9593\n",
      "batch size: 64, mode: triangular, stepsize: 157, base-lr: 0.0001, max-lr 0.0006, *0\t0.948\t0.962\t0.9581\n",
      "batch size: 64, mode: triangular, stepsize: 157, base-lr: 0.0001, max-lr 0.0009, *0\t0.9443\t0.9597\t0.9559\n"
     ]
    }
   ],
   "source": [
    "titel = model_details[0][:47]\n",
    "mean_test_acc = []\n",
    "mean_valid_acc = []\n",
    "mean_train_acc = []\n",
    "mean_test_loss = []\n",
    "mean_valid_loss = []\n",
    "mean_train_loss = []\n",
    "mean_test_prec = []\n",
    "mean_valid_prec = []\n",
    "mean_train_prec = []\n",
    "mean_test_rec = []\n",
    "mean_valid_rec = []\n",
    "mean_train_rec = []\n",
    "model_list = []\n",
    "a = len(test_accuracy_list)\n",
    "for i in range(9):\n",
    "    tals = test_acc_list[i:(i+1)*5]\n",
    "    vals = valid_acc_list[i:(i+1)*5]\n",
    "    rals = train_acc_list[i:(i+1)*5]\n",
    "    tlls = test_loss_list[i:(i+1)*5]\n",
    "    vlls = valid_loss_list[i:(i+1)*5]\n",
    "    rlls = train_loss_list[i:(i+1)*5]\n",
    "    tpls = test_prec_list[i:(i+1)*5]\n",
    "    vpls = valid_prec_list[i:(i+1)*5]\n",
    "    rpls = train_prec_list[i:(i+1)*5]\n",
    "    trls = test_rec_list[i:(i+1)*5]\n",
    "    vrls = valid_rec_list[i:(i+1)*5]\n",
    "    rrls = train_rec_list[i:(i+1)*5]\n",
    "    tmean = round(sum(tals)/len(tals),4)\n",
    "    vmean = round(sum(vals)/len(vals),4)\n",
    "    rmean = round(sum(rals)/len(rals),4)\n",
    "    ltmean = round(sum(tlls)/len(tals),4)\n",
    "    lvmean = round(sum(vlls)/len(vals),4)\n",
    "    lrmean = round(sum(rlls)/len(rals),4)\n",
    "    ptmean = round(sum(tpls)/len(tals),4)\n",
    "    pvmean = round(sum(vpls)/len(vals),4)\n",
    "    prmean = round(sum(rpls)/len(rals),4)\n",
    "    rtmean = round(sum(trls)/len(tals),4)\n",
    "    rvmean = round(sum(vrls)/len(vals),4)\n",
    "    rrmean = round(sum(rrls)/len(rals),4)\n",
    "    mean_test_acc.append(tmean)\n",
    "    mean_valid_acc.append(vmean)\n",
    "    mean_train_acc.append(rmean)\n",
    "    mean_test_loss.append(ltmean)\n",
    "    mean_valid_loss.append(lvmean)\n",
    "    mean_train_loss.append(lrmean)\n",
    "    mean_test_prec.append(ptmean)\n",
    "    mean_valid_prec.append(pvmean)\n",
    "    mean_train_prec.append(prmean)\n",
    "    mean_test_rec.append(rtmean)\n",
    "    mean_valid_rec.append(rvmean)\n",
    "    mean_train_rec.append(rrmean)\n",
    "    model_list.append(model_details[i*5][49:79])\n",
    " \n",
    "len(mean_train_acc)\n",
    "len(mean_test_acc)\n",
    "len(model_list)\n",
    "    \n",
    "# print(\"accuracy\")\n",
    "# for name, t, v, r in zip(model_list, mean_test_acc, mean_valid_acc, mean_train_acc):\n",
    "#     print('{}\\t{}\\t{}\\t{}'.format(name,t, v, r))\n",
    "# print('')\n",
    "# print('loss')\n",
    "# for name, t, v, r in zip(model_list, mean_test_loss, mean_valid_loss, mean_train_loss):\n",
    "#     print('{}\\t{}\\t{}\\t{}'.format(name,t, v, r))\n",
    "# print('')\n",
    "# print('precision')\n",
    "# for name, t, v, r in zip(model_list, mean_test_prec, mean_valid_prec, mean_train_prec):\n",
    "#     print('{}\\t{}\\t{}\\t{}'.format(name,t, v, r))\n",
    "# print('')\n",
    "# print('recall')\n",
    "# for name, t, v, r in zip(model_list, mean_test_rec, mean_valid_rec, mean_train_rec):\n",
    "#     print('{}\\t{}\\t{}\\t{}'.format(name,t, v, r))\n",
    "    "
   ]
  },
  {
   "cell_type": "code",
   "execution_count": 243,
   "metadata": {
    "collapsed": true
   },
   "outputs": [],
   "source": [
    "columns = ['test acc', 'valid acc', 'train acc', 'test loss', 'valid loss', 'train loss', 'test prec', \\\n",
    "           'valid prec', 'train prec', 'test rec', 'valid rec', 'train rec']\n",
    "data = np.array((mean_test_acc, mean_valid_acc, mean_train_acc, mean_test_loss, mean_valid_loss, mean_train_loss,\\\n",
    "                mean_test_prec, mean_valid_prec, mean_train_prec, mean_test_rec, mean_valid_rec, mean_train_rec))\n",
    "results = pd.DataFrame(data = data, columns = model_list, index = columns)"
   ]
  },
  {
   "cell_type": "code",
   "execution_count": 254,
   "metadata": {},
   "outputs": [
    {
     "data": {
      "text/html": [
       "<div>\n",
       "<style scoped>\n",
       "    .dataframe tbody tr th:only-of-type {\n",
       "        vertical-align: middle;\n",
       "    }\n",
       "\n",
       "    .dataframe tbody tr th {\n",
       "        vertical-align: top;\n",
       "    }\n",
       "\n",
       "    .dataframe thead th {\n",
       "        text-align: right;\n",
       "    }\n",
       "</style>\n",
       "<table border=\"1\" class=\"dataframe\">\n",
       "  <thead>\n",
       "    <tr style=\"text-align: right;\">\n",
       "      <th></th>\n",
       "      <th>test acc</th>\n",
       "      <th>valid acc</th>\n",
       "      <th>train acc</th>\n",
       "      <th>test loss</th>\n",
       "      <th>valid loss</th>\n",
       "      <th>train loss</th>\n",
       "      <th>test prec</th>\n",
       "      <th>valid prec</th>\n",
       "      <th>train prec</th>\n",
       "      <th>test rec</th>\n",
       "      <th>valid rec</th>\n",
       "      <th>train rec</th>\n",
       "    </tr>\n",
       "  </thead>\n",
       "  <tbody>\n",
       "    <tr>\n",
       "      <th>batch size: 64, mode: triangular, stepsize: 157, base-lr: 1e-05, max-lr 0.0006, *0</th>\n",
       "      <td>0.7541</td>\n",
       "      <td>0.7543</td>\n",
       "      <td>0.7786</td>\n",
       "      <td>1.0466</td>\n",
       "      <td>1.0321</td>\n",
       "      <td>0.8604</td>\n",
       "      <td>0.6872</td>\n",
       "      <td>0.6664</td>\n",
       "      <td>0.7034</td>\n",
       "      <td>0.9600</td>\n",
       "      <td>0.9716</td>\n",
       "      <td>0.9644</td>\n",
       "    </tr>\n",
       "    <tr>\n",
       "      <th>batch size: 64, mode: triangular, stepsize: 157, base-lr: 1e-05, max-lr 0.0009, *0</th>\n",
       "      <td>0.7566</td>\n",
       "      <td>0.7577</td>\n",
       "      <td>0.7852</td>\n",
       "      <td>1.0197</td>\n",
       "      <td>1.0037</td>\n",
       "      <td>0.8233</td>\n",
       "      <td>0.6921</td>\n",
       "      <td>0.6705</td>\n",
       "      <td>0.7118</td>\n",
       "      <td>0.9528</td>\n",
       "      <td>0.9677</td>\n",
       "      <td>0.9610</td>\n",
       "    </tr>\n",
       "    <tr>\n",
       "      <th>batch size: 64, mode: triangular, stepsize: 157, base-lr: 5e-05, max-lr 0.0009, *0</th>\n",
       "      <td>0.7567</td>\n",
       "      <td>0.7572</td>\n",
       "      <td>0.7863</td>\n",
       "      <td>1.0136</td>\n",
       "      <td>1.0047</td>\n",
       "      <td>0.8163</td>\n",
       "      <td>0.6934</td>\n",
       "      <td>0.6704</td>\n",
       "      <td>0.7134</td>\n",
       "      <td>0.9490</td>\n",
       "      <td>0.9633</td>\n",
       "      <td>0.9589</td>\n",
       "    </tr>\n",
       "    <tr>\n",
       "      <th>batch size: 64, mode: triangular, stepsize: 157, base-lr: 1e-05, max-lr 0.0003, *0</th>\n",
       "      <td>0.7552</td>\n",
       "      <td>0.7572</td>\n",
       "      <td>0.7794</td>\n",
       "      <td>1.0060</td>\n",
       "      <td>0.9945</td>\n",
       "      <td>0.8361</td>\n",
       "      <td>0.6875</td>\n",
       "      <td>0.6682</td>\n",
       "      <td>0.7033</td>\n",
       "      <td>0.9628</td>\n",
       "      <td>0.9718</td>\n",
       "      <td>0.9672</td>\n",
       "    </tr>\n",
       "    <tr>\n",
       "      <th>batch size: 64, mode: triangular, stepsize: 157, base-lr: 0.0001, max-lr 0.0003, *0</th>\n",
       "      <td>0.7561</td>\n",
       "      <td>0.7580</td>\n",
       "      <td>0.7861</td>\n",
       "      <td>1.0048</td>\n",
       "      <td>0.9991</td>\n",
       "      <td>0.8114</td>\n",
       "      <td>0.6927</td>\n",
       "      <td>0.6709</td>\n",
       "      <td>0.7129</td>\n",
       "      <td>0.9493</td>\n",
       "      <td>0.9638</td>\n",
       "      <td>0.9593</td>\n",
       "    </tr>\n",
       "    <tr>\n",
       "      <th>batch size: 64, mode: triangular, stepsize: 157, base-lr: 5e-05, max-lr 0.0003, *0</th>\n",
       "      <td>0.7570</td>\n",
       "      <td>0.7579</td>\n",
       "      <td>0.7857</td>\n",
       "      <td>1.0011</td>\n",
       "      <td>0.9823</td>\n",
       "      <td>0.8093</td>\n",
       "      <td>0.6929</td>\n",
       "      <td>0.6708</td>\n",
       "      <td>0.7123</td>\n",
       "      <td>0.9521</td>\n",
       "      <td>0.9656</td>\n",
       "      <td>0.9608</td>\n",
       "    </tr>\n",
       "    <tr>\n",
       "      <th>batch size: 64, mode: triangular, stepsize: 157, base-lr: 5e-05, max-lr 0.0006, *0</th>\n",
       "      <td>0.7576</td>\n",
       "      <td>0.7600</td>\n",
       "      <td>0.7871</td>\n",
       "      <td>0.9993</td>\n",
       "      <td>0.9850</td>\n",
       "      <td>0.8063</td>\n",
       "      <td>0.6938</td>\n",
       "      <td>0.6730</td>\n",
       "      <td>0.7141</td>\n",
       "      <td>0.9499</td>\n",
       "      <td>0.9647</td>\n",
       "      <td>0.9594</td>\n",
       "    </tr>\n",
       "    <tr>\n",
       "      <th>batch size: 64, mode: triangular, stepsize: 157, base-lr: 0.0001, max-lr 0.0006, *0</th>\n",
       "      <td>0.7567</td>\n",
       "      <td>0.7587</td>\n",
       "      <td>0.7876</td>\n",
       "      <td>0.9946</td>\n",
       "      <td>0.9890</td>\n",
       "      <td>0.8030</td>\n",
       "      <td>0.6939</td>\n",
       "      <td>0.6719</td>\n",
       "      <td>0.7149</td>\n",
       "      <td>0.9480</td>\n",
       "      <td>0.9620</td>\n",
       "      <td>0.9581</td>\n",
       "    </tr>\n",
       "    <tr>\n",
       "      <th>batch size: 64, mode: triangular, stepsize: 157, base-lr: 0.0001, max-lr 0.0009, *0</th>\n",
       "      <td>0.7571</td>\n",
       "      <td>0.7599</td>\n",
       "      <td>0.7896</td>\n",
       "      <td>0.9833</td>\n",
       "      <td>0.9750</td>\n",
       "      <td>0.7914</td>\n",
       "      <td>0.6956</td>\n",
       "      <td>0.6739</td>\n",
       "      <td>0.7179</td>\n",
       "      <td>0.9443</td>\n",
       "      <td>0.9597</td>\n",
       "      <td>0.9559</td>\n",
       "    </tr>\n",
       "  </tbody>\n",
       "</table>\n",
       "</div>"
      ],
      "text/plain": [
       "                                                    test acc  valid acc  \\\n",
       "batch size: 64, mode: triangular, stepsize: 157...    0.7541     0.7543   \n",
       "batch size: 64, mode: triangular, stepsize: 157...    0.7566     0.7577   \n",
       "batch size: 64, mode: triangular, stepsize: 157...    0.7567     0.7572   \n",
       "batch size: 64, mode: triangular, stepsize: 157...    0.7552     0.7572   \n",
       "batch size: 64, mode: triangular, stepsize: 157...    0.7561     0.7580   \n",
       "batch size: 64, mode: triangular, stepsize: 157...    0.7570     0.7579   \n",
       "batch size: 64, mode: triangular, stepsize: 157...    0.7576     0.7600   \n",
       "batch size: 64, mode: triangular, stepsize: 157...    0.7567     0.7587   \n",
       "batch size: 64, mode: triangular, stepsize: 157...    0.7571     0.7599   \n",
       "\n",
       "                                                    train acc  test loss  \\\n",
       "batch size: 64, mode: triangular, stepsize: 157...     0.7786     1.0466   \n",
       "batch size: 64, mode: triangular, stepsize: 157...     0.7852     1.0197   \n",
       "batch size: 64, mode: triangular, stepsize: 157...     0.7863     1.0136   \n",
       "batch size: 64, mode: triangular, stepsize: 157...     0.7794     1.0060   \n",
       "batch size: 64, mode: triangular, stepsize: 157...     0.7861     1.0048   \n",
       "batch size: 64, mode: triangular, stepsize: 157...     0.7857     1.0011   \n",
       "batch size: 64, mode: triangular, stepsize: 157...     0.7871     0.9993   \n",
       "batch size: 64, mode: triangular, stepsize: 157...     0.7876     0.9946   \n",
       "batch size: 64, mode: triangular, stepsize: 157...     0.7896     0.9833   \n",
       "\n",
       "                                                    valid loss  train loss  \\\n",
       "batch size: 64, mode: triangular, stepsize: 157...      1.0321      0.8604   \n",
       "batch size: 64, mode: triangular, stepsize: 157...      1.0037      0.8233   \n",
       "batch size: 64, mode: triangular, stepsize: 157...      1.0047      0.8163   \n",
       "batch size: 64, mode: triangular, stepsize: 157...      0.9945      0.8361   \n",
       "batch size: 64, mode: triangular, stepsize: 157...      0.9991      0.8114   \n",
       "batch size: 64, mode: triangular, stepsize: 157...      0.9823      0.8093   \n",
       "batch size: 64, mode: triangular, stepsize: 157...      0.9850      0.8063   \n",
       "batch size: 64, mode: triangular, stepsize: 157...      0.9890      0.8030   \n",
       "batch size: 64, mode: triangular, stepsize: 157...      0.9750      0.7914   \n",
       "\n",
       "                                                    test prec  valid prec  \\\n",
       "batch size: 64, mode: triangular, stepsize: 157...     0.6872      0.6664   \n",
       "batch size: 64, mode: triangular, stepsize: 157...     0.6921      0.6705   \n",
       "batch size: 64, mode: triangular, stepsize: 157...     0.6934      0.6704   \n",
       "batch size: 64, mode: triangular, stepsize: 157...     0.6875      0.6682   \n",
       "batch size: 64, mode: triangular, stepsize: 157...     0.6927      0.6709   \n",
       "batch size: 64, mode: triangular, stepsize: 157...     0.6929      0.6708   \n",
       "batch size: 64, mode: triangular, stepsize: 157...     0.6938      0.6730   \n",
       "batch size: 64, mode: triangular, stepsize: 157...     0.6939      0.6719   \n",
       "batch size: 64, mode: triangular, stepsize: 157...     0.6956      0.6739   \n",
       "\n",
       "                                                    train prec  test rec  \\\n",
       "batch size: 64, mode: triangular, stepsize: 157...      0.7034    0.9600   \n",
       "batch size: 64, mode: triangular, stepsize: 157...      0.7118    0.9528   \n",
       "batch size: 64, mode: triangular, stepsize: 157...      0.7134    0.9490   \n",
       "batch size: 64, mode: triangular, stepsize: 157...      0.7033    0.9628   \n",
       "batch size: 64, mode: triangular, stepsize: 157...      0.7129    0.9493   \n",
       "batch size: 64, mode: triangular, stepsize: 157...      0.7123    0.9521   \n",
       "batch size: 64, mode: triangular, stepsize: 157...      0.7141    0.9499   \n",
       "batch size: 64, mode: triangular, stepsize: 157...      0.7149    0.9480   \n",
       "batch size: 64, mode: triangular, stepsize: 157...      0.7179    0.9443   \n",
       "\n",
       "                                                    valid rec  train rec  \n",
       "batch size: 64, mode: triangular, stepsize: 157...     0.9716     0.9644  \n",
       "batch size: 64, mode: triangular, stepsize: 157...     0.9677     0.9610  \n",
       "batch size: 64, mode: triangular, stepsize: 157...     0.9633     0.9589  \n",
       "batch size: 64, mode: triangular, stepsize: 157...     0.9718     0.9672  \n",
       "batch size: 64, mode: triangular, stepsize: 157...     0.9638     0.9593  \n",
       "batch size: 64, mode: triangular, stepsize: 157...     0.9656     0.9608  \n",
       "batch size: 64, mode: triangular, stepsize: 157...     0.9647     0.9594  \n",
       "batch size: 64, mode: triangular, stepsize: 157...     0.9620     0.9581  \n",
       "batch size: 64, mode: triangular, stepsize: 157...     0.9597     0.9559  "
      ]
     },
     "execution_count": 254,
     "metadata": {},
     "output_type": "execute_result"
    }
   ],
   "source": [
    "lr_overview = pd.DataFrame(data = results.transpose(), columns = columns, index = model_list)\n",
    "#lr_overview\n",
    "lr_overview.sort_values(by=['test acc'], ascending = False)"
   ]
  },
  {
   "cell_type": "code",
   "execution_count": 255,
   "metadata": {},
   "outputs": [
    {
     "data": {
      "image/png": "[encoded data removed]",
      "text/plain": [
       "<Figure size 432x288 with 2 Axes>"
      ]
     },
     "metadata": {},
     "output_type": "display_data"
    }
   ],
   "source": [
    "import seaborn as sns\n",
    "sns.set()\n",
    "heatmap = sns.heatmap(test.iloc[:3,:].transpose(), annot=True, center = 0, fmt = 'f')"
   ]
  },
  {
   "cell_type": "code",
   "execution_count": 251,
   "metadata": {},
   "outputs": [
    {
     "data": {
      "text/plain": [
       "[<matplotlib.lines.Line2D at 0x7ff15b381e10>]"
      ]
     },
     "execution_count": 251,
     "metadata": {},
     "output_type": "execute_result"
    },
    {
     "data": {
      "image/png": "[encoded data removed]",
      "text/plain": [
       "<Figure size 432x288 with 2 Axes>"
      ]
     },
     "metadata": {},
     "output_type": "display_data"
    }
   ],
   "source": [
    "%matplotlib inline\n",
    "\n",
    "# f, ((ax1, ax2, ax5), (ax3, ax4, ax6)) = plt.subplots(2, 3, sharex='col', sharey='row')\n",
    "# ax1.plot(mean_test_acc, color = 'r')\n",
    "# ax1.axis([0, 9, 0.5, 1])\n",
    "# ax1.set_title('Test accuracies')\n",
    "# ax2.plot(mean_valid_acc)\n",
    "# ax2.axis([0, 9, 0.5, 1])\n",
    "# ax2.set_title('Validation accuarcies')\n",
    "# ax3.plot(mean_test_acc, color = 'r')\n",
    "# ax3.axis([0, 9, 0.7, 0.8])\n",
    "# ax4.plot(mean_valid_acc)\n",
    "# ax4.axis([0, 9, 0.7, 0.8])\n",
    "# ax5.plot(mean_train_acc, color = 'g')\n",
    "# ax5.axis([0, 9, 0.5, 1])\n",
    "# ax5.set_title('Training accuarcies')\n",
    "# ax6.plot(mean_train_acc, color = 'g')\n",
    "# ax6.axis([0, 9, 0.7, 0.8])\n",
    "\n",
    "f, (ax1, ax2) = plt.subplots(2, 1, sharex='col', sharey='row')\n",
    "ax1.plot(mean_test_acc, color = 'r')\n",
    "ax1.axis([0, 9, 0.5, 1])\n",
    "ax1.set_title('Close up')\n",
    "ax1.plot(mean_valid_acc)\n",
    "ax1.plot(mean_train_acc, color = 'g')\n",
    "ax2.set_title('Zoom')\n",
    "ax2.plot(mean_test_acc, color = 'r')\n",
    "ax2.axis([0, 9, 0.74, 0.8])\n",
    "ax2.plot(mean_valid_acc)\n",
    "ax2.plot(mean_train_acc, color = 'g')"
   ]
  },
  {
   "cell_type": "code",
   "execution_count": 270,
   "metadata": {
    "collapsed": true
   },
   "outputs": [],
   "source": [
    "base_lr = 0.00001\n",
    "max_lr = 0.0006\n",
    "stepsizes128 = [157, 210, 262]\n",
    "stepsizes64 = [315, 420,525]\n",
    "batch_sizes = [64, 128]\n",
    "modes = ['triangular', 'triangular2']\n",
    "rep = 1"
   ]
  },
  {
   "cell_type": "code",
   "execution_count": 267,
   "metadata": {
    "collapsed": true,
    "scrolled": true
   },
   "outputs": [],
   "source": [
    "def hp_tuner(base_lr = base_lr, max_lr = max_lr, rep = 5):\n",
    "    start_time = time()  \n",
    "    global test_acc_l\n",
    "    global valid_acc_l\n",
    "    global train_acc_l\n",
    "    global test_loss_l\n",
    "    global valid_loss_l\n",
    "    global train_loss_l\n",
    "    global test_prec_l\n",
    "    global valid_prec_l\n",
    "    global train_prec_l\n",
    "    global test_rec_l\n",
    "    global valid_rec_l\n",
    "    global train_rec_l\n",
    "    global model_det\n",
    "    model_det = []\n",
    "    test_acc_l = []\n",
    "    valid_acc_l = []\n",
    "    train_acc_l = []\n",
    "    test_loss_l = []\n",
    "    valid_loss_l = []\n",
    "    train_loss_l = []\n",
    "    test_prec_l = []\n",
    "    valid_prec_l = []\n",
    "    train_prec_l = []\n",
    "    test_rec_l = []\n",
    "    valid_rec_l = []\n",
    "    train_rec_l = []\n",
    "    for bs in batch_sizes:\n",
    "        if (bs == 64):\n",
    "            stepsizes = stepsizes64\n",
    "        if (bs ==128):\n",
    "            stepsizes = stepsizes128\n",
    "        for sz in stepsizes: \n",
    "            for md in modes:\n",
    "                i = 0\n",
    "                mid_time = time()\n",
    "                while (i < rep):\n",
    "                    compileModel()\n",
    "                    times = i\n",
    "                    if (i == 0):\n",
    "                        train_Model(times = times, epochs = 48, base_lr = blr, max_lr = mlr, verbose = 0,\n",
    "                                    batch_size = bs, stepsize = sz, mode = md, use_tensorboard = True)\n",
    "                    else:\n",
    "                        train_Model(times = times, epochs = 48, base_lr = blr, max_lr = mlr, verbose = 0, \n",
    "                                    batch_size = bs, stepsize = sz, mode = md, use_tensorboard = False)\n",
    "                    valid_metrics = Final_model.evaluate(valid_images, valid_labels)\n",
    "                    test_metrics = Final_model.evaluate(test_images, test_labels)\n",
    "                    train_metrics = Final_model.evaluate(train_images, train_labels)\n",
    "                    \n",
    "                    train_acc = train_metrics[1]\n",
    "                    valid_acc = valid_metrics[1]\n",
    "                    test_acc = test_metrics[1]\n",
    "                    train_loss = train_metrics[0]\n",
    "                    valid_loss = valid_metrics[0]\n",
    "                    test_loss = test_metrics[0]\n",
    "                    train_prec = train_metrics[2]\n",
    "                    valid_prec = valid_metrics[2]\n",
    "                    test_prec = test_metrics[2]\n",
    "                    train_rec = train_metrics[3]\n",
    "                    valid_rec = valid_metrics[3]\n",
    "                    test_rec = test_metrics[3]                                \n",
    "                    test_acc_l.append(test_acc)\n",
    "                    valid_acc_l.append(valid_acc)\n",
    "                    train_acc_l.append(train_acc)\n",
    "                    test_loss_l.append(test_loss)\n",
    "                    valid_loss_l.append(valid_loss)\n",
    "                    train_loss_l.append(train_loss)\n",
    "                    test_prec_l.append(test_prec)\n",
    "                    valid_prec_l.append(valid_prec)\n",
    "                    train_prec_l.append(train_prec)\n",
    "                    test_rec_l.append(test_rec)\n",
    "                    valid_rec_l.append(valid_rec)\n",
    "                    train_rec_l.append(train_rec)\n",
    "                    model_det.append(name)\n",
    "    ### training the same model for more epochs\n",
    "                    if (i == 0):\n",
    "                        train_Model(times = times, epochs = 48, base_lr = blr, max_lr = mlr, verbose = 0,\n",
    "                                    batch_size = bs, stepsize = sz, mode = md, use_tensorboard = True)\n",
    "                    else:\n",
    "                        train_Model(times = times, epochs = 48, base_lr = blr, max_lr = mlr, verbose = 0, \n",
    "                                    batch_size = bs, stepsize = sz, mode = md, use_tensorboard = False)\n",
    "                    valid_metrics = Final_model.evaluate(valid_images, valid_labels)\n",
    "                    test_metrics = Final_model.evaluate(test_images, test_labels)\n",
    "                    train_metrics = Final_model.evaluate(train_images, train_labels)\n",
    "                    \n",
    "                    train_acc = train_metrics[1]\n",
    "                    valid_acc = valid_metrics[1]\n",
    "                    test_acc = test_metrics[1]\n",
    "                    train_loss = train_metrics[0]\n",
    "                    valid_loss = valid_metrics[0]\n",
    "                    test_loss = test_metrics[0]\n",
    "                    train_prec = train_metrics[2]\n",
    "                    valid_prec = valid_metrics[2]\n",
    "                    test_prec = test_metrics[2]\n",
    "                    train_rec = train_metrics[3]\n",
    "                    valid_rec = valid_metrics[3]\n",
    "                    test_rec = test_metrics[3]                                \n",
    "                    test_acc_l.append(test_acc)\n",
    "                    valid_acc_l.append(valid_acc)\n",
    "                    train_acc_l.append(train_acc)\n",
    "                    test_loss_l.append(test_loss)\n",
    "                    valid_loss_l.append(valid_loss)\n",
    "                    train_loss_l.append(train_loss)\n",
    "                    test_prec_l.append(test_prec)\n",
    "                    valid_prec_l.append(valid_prec)\n",
    "                    train_prec_l.append(train_prec)\n",
    "                    test_rec_l.append(test_rec)\n",
    "                    valid_rec_l.append(valid_rec)\n",
    "                    train_rec_l.append(train_rec)\n",
    "                    name2 = name + '_x2'\n",
    "                    model_det.append(name2)\n",
    "                    print(log_dir)\n",
    "                    i += 1\n",
    "                mid_end_time = time()\n",
    "                mid_time_dif = mid_end_time - mid_time\n",
    "                print('Time usage: ' + str(timedelta(seconds=int(round(mid_time_dif)))) + ' minutes')\n",
    "    end_time = time()\n",
    "    time_dif = end_time - start_time\n",
    "    print('Time usage: ' + str(timedelta(seconds=int(round(time_dif)))) + ' minutes')"
   ]
  },
  {
   "cell_type": "code",
   "execution_count": 341,
   "metadata": {},
   "outputs": [
    {
     "name": "stdout",
     "output_type": "stream",
     "text": [
      " - Model specifics:\tbatch size: 64, mode: triangular, stepsize: 315, base-lr: 0.0001, max-lr 0.0009, *0\n"
     ]
    },
    {
     "name": "stderr",
     "output_type": "stream",
     "text": [
      "/home/rick/.conda/envs/hannah_z/lib/python3.6/site-packages/keras/callbacks.py:120: UserWarning: Method on_batch_end() is slow compared to the batch update (0.510050). Check your callbacks.\n",
      "  % delta_t_median)\n"
     ]
    },
    {
     "name": "stdout",
     "output_type": "stream",
     "text": [
      "Time usage: 0:03:21 minutes\n",
      "374/374 [==============================] - 1s 1ms/step\n",
      "934/934 [==============================] - 1s 1ms/step\n",
      "3357/3357 [==============================] - 4s 1ms/step\n",
      " - Model specifics:\tbatch size: 64, mode: triangular, stepsize: 315, base-lr: 0.0001, max-lr 0.0009, *0\n",
      "Time usage: 0:02:48 minutes\n",
      "374/374 [==============================] - 1s 1ms/step\n",
      "934/934 [==============================] - 1s 1ms/step\n",
      "3357/3357 [==============================] - 4s 1ms/step\n",
      "/home/rick/Documents/HannahZ/Code/logs\n",
      " - Model specifics:\tbatch size: 64, mode: triangular, stepsize: 315, base-lr: 0.0001, max-lr 0.0009, *1\n"
     ]
    },
    {
     "name": "stderr",
     "output_type": "stream",
     "text": [
      "/home/rick/.conda/envs/hannah_z/lib/python3.6/site-packages/keras/callbacks.py:120: UserWarning: Method on_batch_end() is slow compared to the batch update (0.501570). Check your callbacks.\n",
      "  % delta_t_median)\n"
     ]
    },
    {
     "name": "stdout",
     "output_type": "stream",
     "text": [
      "Time usage: 0:03:07 minutes\n",
      "374/374 [==============================] - 1s 1ms/step\n",
      "934/934 [==============================] - 1s 1ms/step\n",
      "3357/3357 [==============================] - 4s 1ms/step\n",
      " - Model specifics:\tbatch size: 64, mode: triangular, stepsize: 315, base-lr: 0.0001, max-lr 0.0009, *1\n",
      "Time usage: 0:02:48 minutes\n",
      "374/374 [==============================] - 0s 1ms/step\n",
      "934/934 [==============================] - 1s 1ms/step\n",
      "3357/3357 [==============================] - 4s 1ms/step\n",
      "/home/rick/Documents/HannahZ/Code/logs\n",
      " - Model specifics:\tbatch size: 64, mode: triangular, stepsize: 315, base-lr: 0.0001, max-lr 0.0009, *2\n"
     ]
    },
    {
     "name": "stderr",
     "output_type": "stream",
     "text": [
      "/home/rick/.conda/envs/hannah_z/lib/python3.6/site-packages/keras/callbacks.py:120: UserWarning: Method on_batch_end() is slow compared to the batch update (0.530211). Check your callbacks.\n",
      "  % delta_t_median)\n"
     ]
    },
    {
     "name": "stdout",
     "output_type": "stream",
     "text": [
      "Time usage: 0:03:09 minutes\n",
      "374/374 [==============================] - 0s 1ms/step\n",
      "934/934 [==============================] - 1s 1ms/step\n",
      "3357/3357 [==============================] - 4s 1ms/step\n",
      " - Model specifics:\tbatch size: 64, mode: triangular, stepsize: 315, base-lr: 0.0001, max-lr 0.0009, *2\n",
      "Time usage: 0:02:51 minutes\n",
      "374/374 [==============================] - 1s 1ms/step\n",
      "934/934 [==============================] - 1s 1ms/step\n",
      "3357/3357 [==============================] - 5s 1ms/step\n",
      "/home/rick/Documents/HannahZ/Code/logs\n",
      " - Model specifics:\tbatch size: 64, mode: triangular, stepsize: 315, base-lr: 0.0001, max-lr 0.0009, *3\n"
     ]
    },
    {
     "name": "stderr",
     "output_type": "stream",
     "text": [
      "/home/rick/.conda/envs/hannah_z/lib/python3.6/site-packages/keras/callbacks.py:120: UserWarning: Method on_batch_end() is slow compared to the batch update (0.529254). Check your callbacks.\n",
      "  % delta_t_median)\n"
     ]
    },
    {
     "name": "stdout",
     "output_type": "stream",
     "text": [
      "Time usage: 0:03:15 minutes\n",
      "374/374 [==============================] - 0s 1ms/step\n",
      "934/934 [==============================] - 1s 1ms/step\n",
      "3357/3357 [==============================] - 4s 1ms/step\n",
      " - Model specifics:\tbatch size: 64, mode: triangular, stepsize: 315, base-lr: 0.0001, max-lr 0.0009, *3\n",
      "Time usage: 0:02:45 minutes\n",
      "374/374 [==============================] - 0s 1ms/step\n",
      "934/934 [==============================] - 1s 1ms/step\n",
      "3357/3357 [==============================] - 4s 1ms/step\n",
      "/home/rick/Documents/HannahZ/Code/logs\n",
      " - Model specifics:\tbatch size: 64, mode: triangular, stepsize: 315, base-lr: 0.0001, max-lr 0.0009, *4\n"
     ]
    },
    {
     "name": "stderr",
     "output_type": "stream",
     "text": [
      "/home/rick/.conda/envs/hannah_z/lib/python3.6/site-packages/keras/callbacks.py:120: UserWarning: Method on_batch_end() is slow compared to the batch update (0.494157). Check your callbacks.\n",
      "  % delta_t_median)\n"
     ]
    },
    {
     "name": "stdout",
     "output_type": "stream",
     "text": [
      "Time usage: 0:03:05 minutes\n",
      "374/374 [==============================] - 0s 1ms/step\n",
      "934/934 [==============================] - 1s 1ms/step\n",
      "3357/3357 [==============================] - 4s 1ms/step\n",
      " - Model specifics:\tbatch size: 64, mode: triangular, stepsize: 315, base-lr: 0.0001, max-lr 0.0009, *4\n",
      "Time usage: 0:02:47 minutes\n",
      "374/374 [==============================] - 0s 1ms/step\n",
      "934/934 [==============================] - 1s 1ms/step\n",
      "3357/3357 [==============================] - 4s 1ms/step\n",
      "/home/rick/Documents/HannahZ/Code/logs\n",
      "Time usage: 0:30:57 minutes\n",
      " - Model specifics:\tbatch size: 64, mode: triangular2, stepsize: 315, base-lr: 0.0001, max-lr 0.0009, *0\n"
     ]
    },
    {
     "name": "stderr",
     "output_type": "stream",
     "text": [
      "/home/rick/.conda/envs/hannah_z/lib/python3.6/site-packages/keras/callbacks.py:120: UserWarning: Method on_batch_end() is slow compared to the batch update (0.607361). Check your callbacks.\n",
      "  % delta_t_median)\n"
     ]
    },
    {
     "name": "stdout",
     "output_type": "stream",
     "text": [
      "Time usage: 0:03:09 minutes\n",
      "374/374 [==============================] - 0s 1ms/step\n",
      "934/934 [==============================] - 1s 1ms/step\n",
      "3357/3357 [==============================] - 4s 1ms/step\n",
      " - Model specifics:\tbatch size: 64, mode: triangular2, stepsize: 315, base-lr: 0.0001, max-lr 0.0009, *0\n",
      "Time usage: 0:02:43 minutes\n",
      "374/374 [==============================] - 0s 1ms/step\n",
      "934/934 [==============================] - 1s 1ms/step\n",
      "3357/3357 [==============================] - 4s 1ms/step\n",
      "/home/rick/Documents/HannahZ/Code/logs\n",
      " - Model specifics:\tbatch size: 64, mode: triangular2, stepsize: 315, base-lr: 0.0001, max-lr 0.0009, *1\n"
     ]
    },
    {
     "name": "stderr",
     "output_type": "stream",
     "text": [
      "/home/rick/.conda/envs/hannah_z/lib/python3.6/site-packages/keras/callbacks.py:120: UserWarning: Method on_batch_end() is slow compared to the batch update (0.579401). Check your callbacks.\n",
      "  % delta_t_median)\n"
     ]
    },
    {
     "name": "stdout",
     "output_type": "stream",
     "text": [
      "Time usage: 0:03:07 minutes\n",
      "374/374 [==============================] - 0s 1ms/step\n",
      "934/934 [==============================] - 1s 1ms/step\n",
      "3357/3357 [==============================] - 4s 1ms/step\n",
      " - Model specifics:\tbatch size: 64, mode: triangular2, stepsize: 315, base-lr: 0.0001, max-lr 0.0009, *1\n",
      "Time usage: 0:02:41 minutes\n",
      "374/374 [==============================] - 0s 1ms/step\n",
      "934/934 [==============================] - 1s 1ms/step\n",
      "3357/3357 [==============================] - 4s 1ms/step\n",
      "/home/rick/Documents/HannahZ/Code/logs\n",
      " - Model specifics:\tbatch size: 64, mode: triangular2, stepsize: 315, base-lr: 0.0001, max-lr 0.0009, *2\n"
     ]
    },
    {
     "name": "stderr",
     "output_type": "stream",
     "text": [
      "/home/rick/.conda/envs/hannah_z/lib/python3.6/site-packages/keras/callbacks.py:120: UserWarning: Method on_batch_end() is slow compared to the batch update (0.575486). Check your callbacks.\n",
      "  % delta_t_median)\n"
     ]
    },
    {
     "name": "stdout",
     "output_type": "stream",
     "text": [
      "Time usage: 0:03:08 minutes\n",
      "374/374 [==============================] - 1s 1ms/step\n",
      "934/934 [==============================] - 1s 1ms/step\n",
      "3357/3357 [==============================] - 5s 1ms/step\n",
      " - Model specifics:\tbatch size: 64, mode: triangular2, stepsize: 315, base-lr: 0.0001, max-lr 0.0009, *2\n",
      "Time usage: 0:02:46 minutes\n",
      "374/374 [==============================] - 0s 1ms/step\n",
      "934/934 [==============================] - 1s 1ms/step\n",
      "3357/3357 [==============================] - 4s 1ms/step\n",
      "/home/rick/Documents/HannahZ/Code/logs\n",
      " - Model specifics:\tbatch size: 64, mode: triangular2, stepsize: 315, base-lr: 0.0001, max-lr 0.0009, *3\n"
     ]
    },
    {
     "name": "stderr",
     "output_type": "stream",
     "text": [
      "/home/rick/.conda/envs/hannah_z/lib/python3.6/site-packages/keras/callbacks.py:120: UserWarning: Method on_batch_end() is slow compared to the batch update (0.553521). Check your callbacks.\n",
      "  % delta_t_median)\n"
     ]
    },
    {
     "name": "stdout",
     "output_type": "stream",
     "text": [
      "Time usage: 0:03:05 minutes\n",
      "374/374 [==============================] - 1s 1ms/step\n",
      "934/934 [==============================] - 1s 1ms/step\n",
      "3357/3357 [==============================] - 4s 1ms/step\n",
      " - Model specifics:\tbatch size: 64, mode: triangular2, stepsize: 315, base-lr: 0.0001, max-lr 0.0009, *3\n",
      "Time usage: 0:02:44 minutes\n",
      "374/374 [==============================] - 0s 1ms/step\n",
      "934/934 [==============================] - 1s 1ms/step\n",
      "3357/3357 [==============================] - 4s 1ms/step\n",
      "/home/rick/Documents/HannahZ/Code/logs\n",
      " - Model specifics:\tbatch size: 64, mode: triangular2, stepsize: 315, base-lr: 0.0001, max-lr 0.0009, *4\n"
     ]
    },
    {
     "name": "stderr",
     "output_type": "stream",
     "text": [
      "/home/rick/.conda/envs/hannah_z/lib/python3.6/site-packages/keras/callbacks.py:120: UserWarning: Method on_batch_end() is slow compared to the batch update (0.544658). Check your callbacks.\n",
      "  % delta_t_median)\n"
     ]
    },
    {
     "name": "stdout",
     "output_type": "stream",
     "text": [
      "Time usage: 0:03:07 minutes\n",
      "374/374 [==============================] - 0s 1ms/step\n",
      "934/934 [==============================] - 1s 1ms/step\n",
      "3357/3357 [==============================] - 4s 1ms/step\n",
      " - Model specifics:\tbatch size: 64, mode: triangular2, stepsize: 315, base-lr: 0.0001, max-lr 0.0009, *4\n",
      "Time usage: 0:02:45 minutes\n",
      "374/374 [==============================] - 0s 1ms/step\n",
      "934/934 [==============================] - 1s 1ms/step\n",
      "3357/3357 [==============================] - 4s 1ms/step\n",
      "/home/rick/Documents/HannahZ/Code/logs\n",
      "Time usage: 0:30:15 minutes\n",
      " - Model specifics:\tbatch size: 64, mode: triangular, stepsize: 420, base-lr: 0.0001, max-lr 0.0009, *0\n"
     ]
    },
    {
     "name": "stderr",
     "output_type": "stream",
     "text": [
      "/home/rick/.conda/envs/hannah_z/lib/python3.6/site-packages/keras/callbacks.py:120: UserWarning: Method on_batch_end() is slow compared to the batch update (0.479330). Check your callbacks.\n",
      "  % delta_t_median)\n"
     ]
    },
    {
     "name": "stdout",
     "output_type": "stream",
     "text": [
      "Time usage: 0:03:12 minutes\n",
      "374/374 [==============================] - 0s 1ms/step\n",
      "934/934 [==============================] - 1s 1ms/step\n",
      "3357/3357 [==============================] - 4s 1ms/step\n",
      " - Model specifics:\tbatch size: 64, mode: triangular, stepsize: 420, base-lr: 0.0001, max-lr 0.0009, *0\n",
      "Time usage: 0:02:49 minutes\n",
      "374/374 [==============================] - 0s 1ms/step\n",
      "934/934 [==============================] - 1s 1ms/step\n",
      "3357/3357 [==============================] - 4s 1ms/step\n",
      "/home/rick/Documents/HannahZ/Code/logs\n",
      " - Model specifics:\tbatch size: 64, mode: triangular, stepsize: 420, base-lr: 0.0001, max-lr 0.0009, *1\n"
     ]
    },
    {
     "name": "stderr",
     "output_type": "stream",
     "text": [
      "/home/rick/.conda/envs/hannah_z/lib/python3.6/site-packages/keras/callbacks.py:120: UserWarning: Method on_batch_end() is slow compared to the batch update (0.469325). Check your callbacks.\n",
      "  % delta_t_median)\n"
     ]
    },
    {
     "name": "stdout",
     "output_type": "stream",
     "text": [
      "Time usage: 0:03:01 minutes\n",
      "374/374 [==============================] - 1s 1ms/step\n",
      "934/934 [==============================] - 1s 1ms/step\n",
      "3357/3357 [==============================] - 4s 1ms/step\n",
      " - Model specifics:\tbatch size: 64, mode: triangular, stepsize: 420, base-lr: 0.0001, max-lr 0.0009, *1\n",
      "Time usage: 0:02:50 minutes\n",
      "374/374 [==============================] - 0s 1ms/step\n",
      "934/934 [==============================] - 1s 1ms/step\n",
      "3357/3357 [==============================] - 4s 1ms/step\n",
      "/home/rick/Documents/HannahZ/Code/logs\n",
      " - Model specifics:\tbatch size: 64, mode: triangular, stepsize: 420, base-lr: 0.0001, max-lr 0.0009, *2\n"
     ]
    },
    {
     "name": "stderr",
     "output_type": "stream",
     "text": [
      "/home/rick/.conda/envs/hannah_z/lib/python3.6/site-packages/keras/callbacks.py:120: UserWarning: Method on_batch_end() is slow compared to the batch update (0.541773). Check your callbacks.\n",
      "  % delta_t_median)\n"
     ]
    },
    {
     "name": "stdout",
     "output_type": "stream",
     "text": [
      "Time usage: 0:03:10 minutes\n",
      "374/374 [==============================] - 1s 1ms/step\n",
      "934/934 [==============================] - 1s 1ms/step\n",
      "3357/3357 [==============================] - 5s 1ms/step\n",
      " - Model specifics:\tbatch size: 64, mode: triangular, stepsize: 420, base-lr: 0.0001, max-lr 0.0009, *2\n",
      "Time usage: 0:02:53 minutes\n",
      "374/374 [==============================] - 0s 1ms/step\n",
      "934/934 [==============================] - 1s 1ms/step\n",
      "3357/3357 [==============================] - 4s 1ms/step\n",
      "/home/rick/Documents/HannahZ/Code/logs\n",
      " - Model specifics:\tbatch size: 64, mode: triangular, stepsize: 420, base-lr: 0.0001, max-lr 0.0009, *3\n"
     ]
    },
    {
     "name": "stderr",
     "output_type": "stream",
     "text": [
      "/home/rick/.conda/envs/hannah_z/lib/python3.6/site-packages/keras/callbacks.py:120: UserWarning: Method on_batch_end() is slow compared to the batch update (0.461620). Check your callbacks.\n",
      "  % delta_t_median)\n"
     ]
    },
    {
     "name": "stdout",
     "output_type": "stream",
     "text": [
      "Time usage: 0:03:03 minutes\n",
      "374/374 [==============================] - 0s 1ms/step\n",
      "934/934 [==============================] - 1s 1ms/step\n",
      "3357/3357 [==============================] - 4s 1ms/step\n",
      " - Model specifics:\tbatch size: 64, mode: triangular, stepsize: 420, base-lr: 0.0001, max-lr 0.0009, *3\n",
      "Time usage: 0:02:45 minutes\n",
      "374/374 [==============================] - 0s 1ms/step\n",
      "934/934 [==============================] - 1s 1ms/step\n",
      "3357/3357 [==============================] - 4s 1ms/step\n",
      "/home/rick/Documents/HannahZ/Code/logs\n",
      " - Model specifics:\tbatch size: 64, mode: triangular, stepsize: 420, base-lr: 0.0001, max-lr 0.0009, *4\n"
     ]
    },
    {
     "name": "stderr",
     "output_type": "stream",
     "text": [
      "/home/rick/.conda/envs/hannah_z/lib/python3.6/site-packages/keras/callbacks.py:120: UserWarning: Method on_batch_end() is slow compared to the batch update (0.447579). Check your callbacks.\n",
      "  % delta_t_median)\n"
     ]
    },
    {
     "name": "stdout",
     "output_type": "stream",
     "text": [
      "Time usage: 0:03:06 minutes\n",
      "374/374 [==============================] - 0s 1ms/step\n",
      "934/934 [==============================] - 1s 1ms/step\n",
      "3357/3357 [==============================] - 4s 1ms/step\n",
      " - Model specifics:\tbatch size: 64, mode: triangular, stepsize: 420, base-lr: 0.0001, max-lr 0.0009, *4\n",
      "Time usage: 0:02:44 minutes\n",
      "374/374 [==============================] - 0s 1ms/step\n",
      "934/934 [==============================] - 1s 1ms/step\n",
      "3357/3357 [==============================] - 4s 1ms/step\n",
      "/home/rick/Documents/HannahZ/Code/logs\n",
      "Time usage: 0:30:33 minutes\n",
      " - Model specifics:\tbatch size: 64, mode: triangular2, stepsize: 420, base-lr: 0.0001, max-lr 0.0009, *0\n"
     ]
    },
    {
     "name": "stderr",
     "output_type": "stream",
     "text": [
      "/home/rick/.conda/envs/hannah_z/lib/python3.6/site-packages/keras/callbacks.py:120: UserWarning: Method on_batch_end() is slow compared to the batch update (0.517968). Check your callbacks.\n",
      "  % delta_t_median)\n"
     ]
    },
    {
     "name": "stdout",
     "output_type": "stream",
     "text": [
      "Time usage: 0:03:09 minutes\n",
      "374/374 [==============================] - 1s 1ms/step\n",
      "934/934 [==============================] - 1s 1ms/step\n",
      "3357/3357 [==============================] - 4s 1ms/step\n",
      " - Model specifics:\tbatch size: 64, mode: triangular2, stepsize: 420, base-lr: 0.0001, max-lr 0.0009, *0\n",
      "Time usage: 0:02:45 minutes\n",
      "374/374 [==============================] - 0s 1ms/step\n",
      "934/934 [==============================] - 1s 1ms/step\n",
      "3357/3357 [==============================] - 4s 1ms/step\n",
      "/home/rick/Documents/HannahZ/Code/logs\n",
      " - Model specifics:\tbatch size: 64, mode: triangular2, stepsize: 420, base-lr: 0.0001, max-lr 0.0009, *1\n"
     ]
    },
    {
     "name": "stderr",
     "output_type": "stream",
     "text": [
      "/home/rick/.conda/envs/hannah_z/lib/python3.6/site-packages/keras/callbacks.py:120: UserWarning: Method on_batch_end() is slow compared to the batch update (0.499047). Check your callbacks.\n",
      "  % delta_t_median)\n"
     ]
    },
    {
     "name": "stdout",
     "output_type": "stream",
     "text": [
      "Time usage: 0:03:04 minutes\n",
      "374/374 [==============================] - 0s 1ms/step\n",
      "934/934 [==============================] - 1s 1ms/step\n",
      "3357/3357 [==============================] - 4s 1ms/step\n",
      " - Model specifics:\tbatch size: 64, mode: triangular2, stepsize: 420, base-lr: 0.0001, max-lr 0.0009, *1\n",
      "Time usage: 0:02:47 minutes\n",
      "374/374 [==============================] - 1s 1ms/step\n",
      "934/934 [==============================] - 1s 1ms/step\n",
      "3357/3357 [==============================] - 4s 1ms/step\n",
      "/home/rick/Documents/HannahZ/Code/logs\n",
      " - Model specifics:\tbatch size: 64, mode: triangular2, stepsize: 420, base-lr: 0.0001, max-lr 0.0009, *2\n"
     ]
    },
    {
     "name": "stderr",
     "output_type": "stream",
     "text": [
      "/home/rick/.conda/envs/hannah_z/lib/python3.6/site-packages/keras/callbacks.py:120: UserWarning: Method on_batch_end() is slow compared to the batch update (0.534061). Check your callbacks.\n",
      "  % delta_t_median)\n"
     ]
    },
    {
     "name": "stdout",
     "output_type": "stream",
     "text": [
      "Time usage: 0:03:10 minutes\n",
      "374/374 [==============================] - 0s 1ms/step\n",
      "934/934 [==============================] - 1s 1ms/step\n",
      "3357/3357 [==============================] - 4s 1ms/step\n",
      " - Model specifics:\tbatch size: 64, mode: triangular2, stepsize: 420, base-lr: 0.0001, max-lr 0.0009, *2\n",
      "Time usage: 0:02:47 minutes\n",
      "374/374 [==============================] - 1s 1ms/step\n",
      "934/934 [==============================] - 1s 1ms/step\n",
      "3357/3357 [==============================] - 4s 1ms/step\n",
      "/home/rick/Documents/HannahZ/Code/logs\n",
      " - Model specifics:\tbatch size: 64, mode: triangular2, stepsize: 420, base-lr: 0.0001, max-lr 0.0009, *3\n"
     ]
    },
    {
     "name": "stderr",
     "output_type": "stream",
     "text": [
      "/home/rick/.conda/envs/hannah_z/lib/python3.6/site-packages/keras/callbacks.py:120: UserWarning: Method on_batch_end() is slow compared to the batch update (0.474570). Check your callbacks.\n",
      "  % delta_t_median)\n"
     ]
    },
    {
     "name": "stdout",
     "output_type": "stream",
     "text": [
      "Time usage: 0:03:04 minutes\n",
      "374/374 [==============================] - 0s 1ms/step\n",
      "934/934 [==============================] - 1s 1ms/step\n",
      "3357/3357 [==============================] - 4s 1ms/step\n",
      " - Model specifics:\tbatch size: 64, mode: triangular2, stepsize: 420, base-lr: 0.0001, max-lr 0.0009, *3\n",
      "Time usage: 0:02:43 minutes\n",
      "374/374 [==============================] - 0s 1ms/step\n",
      "934/934 [==============================] - 1s 1ms/step\n",
      "3357/3357 [==============================] - 4s 1ms/step\n",
      "/home/rick/Documents/HannahZ/Code/logs\n",
      " - Model specifics:\tbatch size: 64, mode: triangular2, stepsize: 420, base-lr: 0.0001, max-lr 0.0009, *4\n"
     ]
    },
    {
     "name": "stderr",
     "output_type": "stream",
     "text": [
      "/home/rick/.conda/envs/hannah_z/lib/python3.6/site-packages/keras/callbacks.py:120: UserWarning: Method on_batch_end() is slow compared to the batch update (0.454189). Check your callbacks.\n",
      "  % delta_t_median)\n"
     ]
    },
    {
     "name": "stdout",
     "output_type": "stream",
     "text": [
      "Time usage: 0:03:03 minutes\n",
      "374/374 [==============================] - 1s 1ms/step\n",
      "934/934 [==============================] - 1s 1ms/step\n",
      "3357/3357 [==============================] - 4s 1ms/step\n",
      " - Model specifics:\tbatch size: 64, mode: triangular2, stepsize: 420, base-lr: 0.0001, max-lr 0.0009, *4\n",
      "Time usage: 0:02:43 minutes\n",
      "374/374 [==============================] - 0s 1ms/step\n",
      "934/934 [==============================] - 1s 1ms/step\n",
      "3357/3357 [==============================] - 4s 1ms/step\n",
      "/home/rick/Documents/HannahZ/Code/logs\n",
      "Time usage: 0:30:15 minutes\n",
      " - Model specifics:\tbatch size: 64, mode: triangular, stepsize: 525, base-lr: 0.0001, max-lr 0.0009, *0\n"
     ]
    },
    {
     "name": "stderr",
     "output_type": "stream",
     "text": [
      "/home/rick/.conda/envs/hannah_z/lib/python3.6/site-packages/keras/callbacks.py:120: UserWarning: Method on_batch_end() is slow compared to the batch update (0.454632). Check your callbacks.\n",
      "  % delta_t_median)\n"
     ]
    },
    {
     "name": "stdout",
     "output_type": "stream",
     "text": [
      "Time usage: 0:03:09 minutes\n",
      "374/374 [==============================] - 0s 1ms/step\n",
      "934/934 [==============================] - 1s 1ms/step\n",
      "3357/3357 [==============================] - 4s 1ms/step\n",
      " - Model specifics:\tbatch size: 64, mode: triangular, stepsize: 525, base-lr: 0.0001, max-lr 0.0009, *0\n",
      "Time usage: 0:02:45 minutes\n",
      "374/374 [==============================] - 0s 1ms/step\n",
      "934/934 [==============================] - 1s 1ms/step\n",
      "3357/3357 [==============================] - 4s 1ms/step\n",
      "/home/rick/Documents/HannahZ/Code/logs\n",
      " - Model specifics:\tbatch size: 64, mode: triangular, stepsize: 525, base-lr: 0.0001, max-lr 0.0009, *1\n"
     ]
    },
    {
     "name": "stderr",
     "output_type": "stream",
     "text": [
      "/home/rick/.conda/envs/hannah_z/lib/python3.6/site-packages/keras/callbacks.py:120: UserWarning: Method on_batch_end() is slow compared to the batch update (0.448387). Check your callbacks.\n",
      "  % delta_t_median)\n"
     ]
    },
    {
     "name": "stdout",
     "output_type": "stream",
     "text": [
      "Time usage: 0:03:04 minutes\n",
      "374/374 [==============================] - 0s 1ms/step\n",
      "934/934 [==============================] - 1s 1ms/step\n",
      "3357/3357 [==============================] - 5s 1ms/step\n",
      " - Model specifics:\tbatch size: 64, mode: triangular, stepsize: 525, base-lr: 0.0001, max-lr 0.0009, *1\n",
      "Time usage: 0:02:46 minutes\n",
      "374/374 [==============================] - 1s 1ms/step\n",
      "934/934 [==============================] - 1s 1ms/step\n",
      "3357/3357 [==============================] - 5s 1ms/step\n",
      "/home/rick/Documents/HannahZ/Code/logs\n",
      " - Model specifics:\tbatch size: 64, mode: triangular, stepsize: 525, base-lr: 0.0001, max-lr 0.0009, *2\n"
     ]
    },
    {
     "name": "stderr",
     "output_type": "stream",
     "text": [
      "/home/rick/.conda/envs/hannah_z/lib/python3.6/site-packages/keras/callbacks.py:120: UserWarning: Method on_batch_end() is slow compared to the batch update (0.478908). Check your callbacks.\n",
      "  % delta_t_median)\n"
     ]
    },
    {
     "name": "stdout",
     "output_type": "stream",
     "text": [
      "Time usage: 0:03:04 minutes\n",
      "374/374 [==============================] - 0s 1ms/step\n",
      "934/934 [==============================] - 1s 1ms/step\n",
      "3357/3357 [==============================] - 4s 1ms/step\n",
      " - Model specifics:\tbatch size: 64, mode: triangular, stepsize: 525, base-lr: 0.0001, max-lr 0.0009, *2\n",
      "Time usage: 0:02:49 minutes\n",
      "374/374 [==============================] - 1s 1ms/step\n",
      "934/934 [==============================] - 1s 1ms/step\n",
      "3357/3357 [==============================] - 4s 1ms/step\n",
      "/home/rick/Documents/HannahZ/Code/logs\n",
      " - Model specifics:\tbatch size: 64, mode: triangular, stepsize: 525, base-lr: 0.0001, max-lr 0.0009, *3\n"
     ]
    },
    {
     "name": "stderr",
     "output_type": "stream",
     "text": [
      "/home/rick/.conda/envs/hannah_z/lib/python3.6/site-packages/keras/callbacks.py:120: UserWarning: Method on_batch_end() is slow compared to the batch update (0.491129). Check your callbacks.\n",
      "  % delta_t_median)\n"
     ]
    },
    {
     "name": "stdout",
     "output_type": "stream",
     "text": [
      "Time usage: 0:03:06 minutes\n",
      "374/374 [==============================] - 0s 1ms/step\n",
      "934/934 [==============================] - 1s 1ms/step\n",
      "3357/3357 [==============================] - 4s 1ms/step\n",
      " - Model specifics:\tbatch size: 64, mode: triangular, stepsize: 525, base-lr: 0.0001, max-lr 0.0009, *3\n",
      "Time usage: 0:02:43 minutes\n",
      "374/374 [==============================] - 0s 1ms/step\n",
      "934/934 [==============================] - 1s 1ms/step\n",
      "3357/3357 [==============================] - 4s 1ms/step\n",
      "/home/rick/Documents/HannahZ/Code/logs\n",
      " - Model specifics:\tbatch size: 64, mode: triangular, stepsize: 525, base-lr: 0.0001, max-lr 0.0009, *4\n"
     ]
    },
    {
     "name": "stderr",
     "output_type": "stream",
     "text": [
      "/home/rick/.conda/envs/hannah_z/lib/python3.6/site-packages/keras/callbacks.py:120: UserWarning: Method on_batch_end() is slow compared to the batch update (0.450104). Check your callbacks.\n",
      "  % delta_t_median)\n"
     ]
    },
    {
     "name": "stdout",
     "output_type": "stream",
     "text": [
      "Time usage: 0:03:01 minutes\n",
      "374/374 [==============================] - 0s 1ms/step\n",
      "934/934 [==============================] - 1s 1ms/step\n",
      "3357/3357 [==============================] - 4s 1ms/step\n",
      " - Model specifics:\tbatch size: 64, mode: triangular, stepsize: 525, base-lr: 0.0001, max-lr 0.0009, *4\n",
      "Time usage: 0:02:45 minutes\n",
      "374/374 [==============================] - 1s 1ms/step\n",
      "934/934 [==============================] - 1s 1ms/step\n",
      "3357/3357 [==============================] - 4s 1ms/step\n",
      "/home/rick/Documents/HannahZ/Code/logs\n",
      "Time usage: 0:30:12 minutes\n",
      " - Model specifics:\tbatch size: 64, mode: triangular2, stepsize: 525, base-lr: 0.0001, max-lr 0.0009, *0\n"
     ]
    },
    {
     "name": "stderr",
     "output_type": "stream",
     "text": [
      "/home/rick/.conda/envs/hannah_z/lib/python3.6/site-packages/keras/callbacks.py:120: UserWarning: Method on_batch_end() is slow compared to the batch update (0.487115). Check your callbacks.\n",
      "  % delta_t_median)\n"
     ]
    },
    {
     "name": "stdout",
     "output_type": "stream",
     "text": [
      "Time usage: 0:03:08 minutes\n",
      "374/374 [==============================] - 0s 1ms/step\n",
      "934/934 [==============================] - 1s 1ms/step\n",
      "3357/3357 [==============================] - 4s 1ms/step\n",
      " - Model specifics:\tbatch size: 64, mode: triangular2, stepsize: 525, base-lr: 0.0001, max-lr 0.0009, *0\n",
      "Time usage: 0:02:43 minutes\n",
      "374/374 [==============================] - 0s 1ms/step\n",
      "934/934 [==============================] - 1s 1ms/step\n",
      "3357/3357 [==============================] - 4s 1ms/step\n",
      "/home/rick/Documents/HannahZ/Code/logs\n",
      " - Model specifics:\tbatch size: 64, mode: triangular2, stepsize: 525, base-lr: 0.0001, max-lr 0.0009, *1\n"
     ]
    },
    {
     "name": "stderr",
     "output_type": "stream",
     "text": [
      "/home/rick/.conda/envs/hannah_z/lib/python3.6/site-packages/keras/callbacks.py:120: UserWarning: Method on_batch_end() is slow compared to the batch update (0.437819). Check your callbacks.\n",
      "  % delta_t_median)\n"
     ]
    },
    {
     "name": "stdout",
     "output_type": "stream",
     "text": [
      "Time usage: 0:03:06 minutes\n",
      "374/374 [==============================] - 0s 1ms/step\n",
      "934/934 [==============================] - 1s 1ms/step\n",
      "3357/3357 [==============================] - 4s 1ms/step\n",
      " - Model specifics:\tbatch size: 64, mode: triangular2, stepsize: 525, base-lr: 0.0001, max-lr 0.0009, *1\n",
      "Time usage: 0:02:45 minutes\n",
      "374/374 [==============================] - 1s 1ms/step\n",
      "934/934 [==============================] - 1s 1ms/step\n",
      "3357/3357 [==============================] - 4s 1ms/step\n",
      "/home/rick/Documents/HannahZ/Code/logs\n",
      " - Model specifics:\tbatch size: 64, mode: triangular2, stepsize: 525, base-lr: 0.0001, max-lr 0.0009, *2\n"
     ]
    },
    {
     "name": "stderr",
     "output_type": "stream",
     "text": [
      "/home/rick/.conda/envs/hannah_z/lib/python3.6/site-packages/keras/callbacks.py:120: UserWarning: Method on_batch_end() is slow compared to the batch update (0.441234). Check your callbacks.\n",
      "  % delta_t_median)\n"
     ]
    },
    {
     "name": "stdout",
     "output_type": "stream",
     "text": [
      "Time usage: 0:03:05 minutes\n",
      "374/374 [==============================] - 0s 1ms/step\n",
      "934/934 [==============================] - 1s 1ms/step\n",
      "3357/3357 [==============================] - 4s 1ms/step\n",
      " - Model specifics:\tbatch size: 64, mode: triangular2, stepsize: 525, base-lr: 0.0001, max-lr 0.0009, *2\n",
      "Time usage: 0:02:45 minutes\n",
      "374/374 [==============================] - 0s 1ms/step\n",
      "934/934 [==============================] - 1s 1ms/step\n",
      "3357/3357 [==============================] - 4s 1ms/step\n",
      "/home/rick/Documents/HannahZ/Code/logs\n",
      " - Model specifics:\tbatch size: 64, mode: triangular2, stepsize: 525, base-lr: 0.0001, max-lr 0.0009, *3\n"
     ]
    },
    {
     "name": "stderr",
     "output_type": "stream",
     "text": [
      "/home/rick/.conda/envs/hannah_z/lib/python3.6/site-packages/keras/callbacks.py:120: UserWarning: Method on_batch_end() is slow compared to the batch update (0.428104). Check your callbacks.\n",
      "  % delta_t_median)\n"
     ]
    },
    {
     "name": "stdout",
     "output_type": "stream",
     "text": [
      "Time usage: 0:03:01 minutes\n",
      "374/374 [==============================] - 0s 1ms/step\n",
      "934/934 [==============================] - 1s 1ms/step\n",
      "3357/3357 [==============================] - 4s 1ms/step\n",
      " - Model specifics:\tbatch size: 64, mode: triangular2, stepsize: 525, base-lr: 0.0001, max-lr 0.0009, *3\n",
      "Time usage: 0:02:42 minutes\n",
      "374/374 [==============================] - 0s 1ms/step\n",
      "934/934 [==============================] - 1s 1ms/step\n",
      "3357/3357 [==============================] - 4s 1ms/step\n",
      "/home/rick/Documents/HannahZ/Code/logs\n",
      " - Model specifics:\tbatch size: 64, mode: triangular2, stepsize: 525, base-lr: 0.0001, max-lr 0.0009, *4\n"
     ]
    },
    {
     "name": "stderr",
     "output_type": "stream",
     "text": [
      "/home/rick/.conda/envs/hannah_z/lib/python3.6/site-packages/keras/callbacks.py:120: UserWarning: Method on_batch_end() is slow compared to the batch update (0.439236). Check your callbacks.\n",
      "  % delta_t_median)\n"
     ]
    },
    {
     "name": "stdout",
     "output_type": "stream",
     "text": [
      "Time usage: 0:03:03 minutes\n",
      "374/374 [==============================] - 0s 1ms/step\n",
      "934/934 [==============================] - 1s 1ms/step\n",
      "3357/3357 [==============================] - 4s 1ms/step\n",
      " - Model specifics:\tbatch size: 64, mode: triangular2, stepsize: 525, base-lr: 0.0001, max-lr 0.0009, *4\n",
      "Time usage: 0:02:43 minutes\n",
      "374/374 [==============================] - 0s 1ms/step\n",
      "934/934 [==============================] - 1s 1ms/step\n",
      "3357/3357 [==============================] - 4s 1ms/step\n",
      "/home/rick/Documents/HannahZ/Code/logs\n",
      "Time usage: 0:29:59 minutes\n",
      " - Model specifics:\tbatch size: 128, mode: triangular, stepsize: 157, base-lr: 0.0001, max-lr 0.0009, *0\n"
     ]
    },
    {
     "name": "stderr",
     "output_type": "stream",
     "text": [
      "/home/rick/.conda/envs/hannah_z/lib/python3.6/site-packages/keras/callbacks.py:120: UserWarning: Method on_batch_end() is slow compared to the batch update (0.447502). Check your callbacks.\n",
      "  % delta_t_median)\n"
     ]
    },
    {
     "name": "stdout",
     "output_type": "stream",
     "text": [
      "Time usage: 0:02:41 minutes\n",
      "374/374 [==============================] - 1s 1ms/step\n",
      "934/934 [==============================] - 1s 1ms/step\n",
      "3357/3357 [==============================] - 4s 1ms/step\n",
      " - Model specifics:\tbatch size: 128, mode: triangular, stepsize: 157, base-lr: 0.0001, max-lr 0.0009, *0\n",
      "Time usage: 0:02:17 minutes\n",
      "374/374 [==============================] - 0s 1ms/step\n",
      "934/934 [==============================] - 1s 1ms/step\n",
      "3357/3357 [==============================] - 4s 1ms/step\n",
      "/home/rick/Documents/HannahZ/Code/logs\n",
      " - Model specifics:\tbatch size: 128, mode: triangular, stepsize: 157, base-lr: 0.0001, max-lr 0.0009, *1\n"
     ]
    },
    {
     "name": "stderr",
     "output_type": "stream",
     "text": [
      "/home/rick/.conda/envs/hannah_z/lib/python3.6/site-packages/keras/callbacks.py:120: UserWarning: Method on_batch_end() is slow compared to the batch update (0.432487). Check your callbacks.\n",
      "  % delta_t_median)\n"
     ]
    },
    {
     "name": "stdout",
     "output_type": "stream",
     "text": [
      "Time usage: 0:02:36 minutes\n",
      "374/374 [==============================] - 1s 1ms/step\n",
      "934/934 [==============================] - 1s 1ms/step\n",
      "3357/3357 [==============================] - 4s 1ms/step\n",
      " - Model specifics:\tbatch size: 128, mode: triangular, stepsize: 157, base-lr: 0.0001, max-lr 0.0009, *1\n",
      "Time usage: 0:02:18 minutes\n",
      "374/374 [==============================] - 0s 1ms/step\n",
      "934/934 [==============================] - 1s 1ms/step\n",
      "3357/3357 [==============================] - 4s 1ms/step\n",
      "/home/rick/Documents/HannahZ/Code/logs\n",
      " - Model specifics:\tbatch size: 128, mode: triangular, stepsize: 157, base-lr: 0.0001, max-lr 0.0009, *2\n"
     ]
    },
    {
     "name": "stderr",
     "output_type": "stream",
     "text": [
      "/home/rick/.conda/envs/hannah_z/lib/python3.6/site-packages/keras/callbacks.py:120: UserWarning: Method on_batch_end() is slow compared to the batch update (0.443496). Check your callbacks.\n",
      "  % delta_t_median)\n"
     ]
    },
    {
     "name": "stdout",
     "output_type": "stream",
     "text": [
      "Time usage: 0:02:36 minutes\n",
      "374/374 [==============================] - 0s 1ms/step\n",
      "934/934 [==============================] - 1s 1ms/step\n",
      "3357/3357 [==============================] - 4s 1ms/step\n",
      " - Model specifics:\tbatch size: 128, mode: triangular, stepsize: 157, base-lr: 0.0001, max-lr 0.0009, *2\n",
      "Time usage: 0:02:17 minutes\n",
      "374/374 [==============================] - 0s 1ms/step\n",
      "934/934 [==============================] - 1s 1ms/step\n",
      "3357/3357 [==============================] - 4s 1ms/step\n",
      "/home/rick/Documents/HannahZ/Code/logs\n",
      " - Model specifics:\tbatch size: 128, mode: triangular, stepsize: 157, base-lr: 0.0001, max-lr 0.0009, *3\n"
     ]
    },
    {
     "name": "stderr",
     "output_type": "stream",
     "text": [
      "/home/rick/.conda/envs/hannah_z/lib/python3.6/site-packages/keras/callbacks.py:120: UserWarning: Method on_batch_end() is slow compared to the batch update (0.451763). Check your callbacks.\n",
      "  % delta_t_median)\n"
     ]
    },
    {
     "name": "stdout",
     "output_type": "stream",
     "text": [
      "Time usage: 0:02:36 minutes\n",
      "374/374 [==============================] - 0s 1ms/step\n",
      "934/934 [==============================] - 1s 1ms/step\n",
      "3357/3357 [==============================] - 4s 1ms/step\n",
      " - Model specifics:\tbatch size: 128, mode: triangular, stepsize: 157, base-lr: 0.0001, max-lr 0.0009, *3\n",
      "Time usage: 0:02:18 minutes\n",
      "374/374 [==============================] - 0s 1ms/step\n",
      "934/934 [==============================] - 1s 1ms/step\n",
      "3357/3357 [==============================] - 4s 1ms/step\n",
      "/home/rick/Documents/HannahZ/Code/logs\n",
      " - Model specifics:\tbatch size: 128, mode: triangular, stepsize: 157, base-lr: 0.0001, max-lr 0.0009, *4\n"
     ]
    },
    {
     "name": "stderr",
     "output_type": "stream",
     "text": [
      "/home/rick/.conda/envs/hannah_z/lib/python3.6/site-packages/keras/callbacks.py:120: UserWarning: Method on_batch_end() is slow compared to the batch update (0.437585). Check your callbacks.\n",
      "  % delta_t_median)\n"
     ]
    },
    {
     "name": "stdout",
     "output_type": "stream",
     "text": [
      "Time usage: 0:02:35 minutes\n",
      "374/374 [==============================] - 0s 1ms/step\n",
      "934/934 [==============================] - 1s 1ms/step\n",
      "3357/3357 [==============================] - 4s 1ms/step\n",
      " - Model specifics:\tbatch size: 128, mode: triangular, stepsize: 157, base-lr: 0.0001, max-lr 0.0009, *4\n",
      "Time usage: 0:02:18 minutes\n",
      "374/374 [==============================] - 0s 1ms/step\n",
      "934/934 [==============================] - 1s 1ms/step\n",
      "3357/3357 [==============================] - 4s 1ms/step\n",
      "/home/rick/Documents/HannahZ/Code/logs\n",
      "Time usage: 0:25:31 minutes\n",
      " - Model specifics:\tbatch size: 128, mode: triangular2, stepsize: 157, base-lr: 0.0001, max-lr 0.0009, *0\n"
     ]
    },
    {
     "name": "stderr",
     "output_type": "stream",
     "text": [
      "/home/rick/.conda/envs/hannah_z/lib/python3.6/site-packages/keras/callbacks.py:120: UserWarning: Method on_batch_end() is slow compared to the batch update (0.442458). Check your callbacks.\n",
      "  % delta_t_median)\n"
     ]
    },
    {
     "name": "stdout",
     "output_type": "stream",
     "text": [
      "Time usage: 0:02:43 minutes\n",
      "374/374 [==============================] - 0s 1ms/step\n",
      "934/934 [==============================] - 1s 1ms/step\n",
      "3357/3357 [==============================] - 4s 1ms/step\n",
      " - Model specifics:\tbatch size: 128, mode: triangular2, stepsize: 157, base-lr: 0.0001, max-lr 0.0009, *0\n",
      "Time usage: 0:02:19 minutes\n",
      "374/374 [==============================] - 0s 1ms/step\n",
      "934/934 [==============================] - 1s 1ms/step\n",
      "3357/3357 [==============================] - 4s 1ms/step\n",
      "/home/rick/Documents/HannahZ/Code/logs\n",
      " - Model specifics:\tbatch size: 128, mode: triangular2, stepsize: 157, base-lr: 0.0001, max-lr 0.0009, *1\n"
     ]
    },
    {
     "name": "stderr",
     "output_type": "stream",
     "text": [
      "/home/rick/.conda/envs/hannah_z/lib/python3.6/site-packages/keras/callbacks.py:120: UserWarning: Method on_batch_end() is slow compared to the batch update (0.443079). Check your callbacks.\n",
      "  % delta_t_median)\n"
     ]
    },
    {
     "name": "stdout",
     "output_type": "stream",
     "text": [
      "Time usage: 0:02:37 minutes\n",
      "374/374 [==============================] - 0s 1ms/step\n",
      "934/934 [==============================] - 1s 1ms/step\n",
      "3357/3357 [==============================] - 4s 1ms/step\n",
      " - Model specifics:\tbatch size: 128, mode: triangular2, stepsize: 157, base-lr: 0.0001, max-lr 0.0009, *1\n",
      "Time usage: 0:02:17 minutes\n",
      "374/374 [==============================] - 0s 1ms/step\n",
      "934/934 [==============================] - 1s 1ms/step\n",
      "3357/3357 [==============================] - 4s 1ms/step\n",
      "/home/rick/Documents/HannahZ/Code/logs\n",
      " - Model specifics:\tbatch size: 128, mode: triangular2, stepsize: 157, base-lr: 0.0001, max-lr 0.0009, *2\n"
     ]
    },
    {
     "name": "stderr",
     "output_type": "stream",
     "text": [
      "/home/rick/.conda/envs/hannah_z/lib/python3.6/site-packages/keras/callbacks.py:120: UserWarning: Method on_batch_end() is slow compared to the batch update (0.448603). Check your callbacks.\n",
      "  % delta_t_median)\n"
     ]
    },
    {
     "name": "stdout",
     "output_type": "stream",
     "text": [
      "Time usage: 0:02:37 minutes\n",
      "374/374 [==============================] - 0s 1ms/step\n",
      "934/934 [==============================] - 1s 1ms/step\n",
      "3357/3357 [==============================] - 4s 1ms/step\n",
      " - Model specifics:\tbatch size: 128, mode: triangular2, stepsize: 157, base-lr: 0.0001, max-lr 0.0009, *2\n",
      "Time usage: 0:02:18 minutes\n",
      "374/374 [==============================] - 1s 1ms/step\n",
      "934/934 [==============================] - 1s 1ms/step\n",
      "3357/3357 [==============================] - 4s 1ms/step\n",
      "/home/rick/Documents/HannahZ/Code/logs\n",
      " - Model specifics:\tbatch size: 128, mode: triangular2, stepsize: 157, base-lr: 0.0001, max-lr 0.0009, *3\n"
     ]
    },
    {
     "name": "stderr",
     "output_type": "stream",
     "text": [
      "/home/rick/.conda/envs/hannah_z/lib/python3.6/site-packages/keras/callbacks.py:120: UserWarning: Method on_batch_end() is slow compared to the batch update (0.454756). Check your callbacks.\n",
      "  % delta_t_median)\n"
     ]
    },
    {
     "name": "stdout",
     "output_type": "stream",
     "text": [
      "Time usage: 0:02:37 minutes\n",
      "374/374 [==============================] - 0s 1ms/step\n",
      "934/934 [==============================] - 1s 1ms/step\n",
      "3357/3357 [==============================] - 4s 1ms/step\n",
      " - Model specifics:\tbatch size: 128, mode: triangular2, stepsize: 157, base-lr: 0.0001, max-lr 0.0009, *3\n",
      "Time usage: 0:02:18 minutes\n",
      "374/374 [==============================] - 0s 1ms/step\n",
      "934/934 [==============================] - 1s 1ms/step\n",
      "3357/3357 [==============================] - 4s 1ms/step\n",
      "/home/rick/Documents/HannahZ/Code/logs\n",
      " - Model specifics:\tbatch size: 128, mode: triangular2, stepsize: 157, base-lr: 0.0001, max-lr 0.0009, *4\n"
     ]
    },
    {
     "name": "stderr",
     "output_type": "stream",
     "text": [
      "/home/rick/.conda/envs/hannah_z/lib/python3.6/site-packages/keras/callbacks.py:120: UserWarning: Method on_batch_end() is slow compared to the batch update (0.448371). Check your callbacks.\n",
      "  % delta_t_median)\n"
     ]
    },
    {
     "name": "stdout",
     "output_type": "stream",
     "text": [
      "Time usage: 0:02:40 minutes\n",
      "374/374 [==============================] - 0s 1ms/step\n",
      "934/934 [==============================] - 1s 1ms/step\n",
      "3357/3357 [==============================] - 4s 1ms/step\n",
      " - Model specifics:\tbatch size: 128, mode: triangular2, stepsize: 157, base-lr: 0.0001, max-lr 0.0009, *4\n",
      "Time usage: 0:02:19 minutes\n",
      "374/374 [==============================] - 0s 1ms/step\n",
      "934/934 [==============================] - 1s 1ms/step\n",
      "3357/3357 [==============================] - 4s 1ms/step\n",
      "/home/rick/Documents/HannahZ/Code/logs\n",
      "Time usage: 0:25:43 minutes\n",
      " - Model specifics:\tbatch size: 128, mode: triangular, stepsize: 210, base-lr: 0.0001, max-lr 0.0009, *0\n"
     ]
    },
    {
     "name": "stderr",
     "output_type": "stream",
     "text": [
      "/home/rick/.conda/envs/hannah_z/lib/python3.6/site-packages/keras/callbacks.py:120: UserWarning: Method on_batch_end() is slow compared to the batch update (0.466672). Check your callbacks.\n",
      "  % delta_t_median)\n"
     ]
    },
    {
     "name": "stdout",
     "output_type": "stream",
     "text": [
      "Time usage: 0:02:45 minutes\n",
      "374/374 [==============================] - 0s 1ms/step\n",
      "934/934 [==============================] - 1s 1ms/step\n",
      "3357/3357 [==============================] - 4s 1ms/step\n",
      " - Model specifics:\tbatch size: 128, mode: triangular, stepsize: 210, base-lr: 0.0001, max-lr 0.0009, *0\n",
      "Time usage: 0:02:19 minutes\n",
      "374/374 [==============================] - 0s 1ms/step\n",
      "934/934 [==============================] - 1s 1ms/step\n",
      "3357/3357 [==============================] - 4s 1ms/step\n",
      "/home/rick/Documents/HannahZ/Code/logs\n",
      " - Model specifics:\tbatch size: 128, mode: triangular, stepsize: 210, base-lr: 0.0001, max-lr 0.0009, *1\n"
     ]
    },
    {
     "name": "stderr",
     "output_type": "stream",
     "text": [
      "/home/rick/.conda/envs/hannah_z/lib/python3.6/site-packages/keras/callbacks.py:120: UserWarning: Method on_batch_end() is slow compared to the batch update (0.453376). Check your callbacks.\n",
      "  % delta_t_median)\n"
     ]
    },
    {
     "name": "stdout",
     "output_type": "stream",
     "text": [
      "Time usage: 0:02:38 minutes\n",
      "374/374 [==============================] - 0s 1ms/step\n",
      "934/934 [==============================] - 1s 1ms/step\n",
      "3357/3357 [==============================] - 4s 1ms/step\n",
      " - Model specifics:\tbatch size: 128, mode: triangular, stepsize: 210, base-lr: 0.0001, max-lr 0.0009, *1\n",
      "Time usage: 0:02:17 minutes\n",
      "374/374 [==============================] - 0s 1ms/step\n",
      "934/934 [==============================] - 1s 1ms/step\n",
      "3357/3357 [==============================] - 4s 1ms/step\n",
      "/home/rick/Documents/HannahZ/Code/logs\n",
      " - Model specifics:\tbatch size: 128, mode: triangular, stepsize: 210, base-lr: 0.0001, max-lr 0.0009, *2\n"
     ]
    },
    {
     "name": "stderr",
     "output_type": "stream",
     "text": [
      "/home/rick/.conda/envs/hannah_z/lib/python3.6/site-packages/keras/callbacks.py:120: UserWarning: Method on_batch_end() is slow compared to the batch update (0.454743). Check your callbacks.\n",
      "  % delta_t_median)\n"
     ]
    },
    {
     "name": "stdout",
     "output_type": "stream",
     "text": [
      "Time usage: 0:02:38 minutes\n",
      "374/374 [==============================] - 0s 1ms/step\n",
      "934/934 [==============================] - 1s 1ms/step\n",
      "3357/3357 [==============================] - 4s 1ms/step\n",
      " - Model specifics:\tbatch size: 128, mode: triangular, stepsize: 210, base-lr: 0.0001, max-lr 0.0009, *2\n",
      "Time usage: 0:02:17 minutes\n",
      "374/374 [==============================] - 1s 1ms/step\n",
      "934/934 [==============================] - 1s 1ms/step\n",
      "3357/3357 [==============================] - 4s 1ms/step\n",
      "/home/rick/Documents/HannahZ/Code/logs\n",
      " - Model specifics:\tbatch size: 128, mode: triangular, stepsize: 210, base-lr: 0.0001, max-lr 0.0009, *3\n"
     ]
    },
    {
     "name": "stderr",
     "output_type": "stream",
     "text": [
      "/home/rick/.conda/envs/hannah_z/lib/python3.6/site-packages/keras/callbacks.py:120: UserWarning: Method on_batch_end() is slow compared to the batch update (0.458397). Check your callbacks.\n",
      "  % delta_t_median)\n"
     ]
    },
    {
     "name": "stdout",
     "output_type": "stream",
     "text": [
      "Time usage: 0:02:40 minutes\n",
      "374/374 [==============================] - 0s 1ms/step\n",
      "934/934 [==============================] - 1s 1ms/step\n",
      "3357/3357 [==============================] - 4s 1ms/step\n",
      " - Model specifics:\tbatch size: 128, mode: triangular, stepsize: 210, base-lr: 0.0001, max-lr 0.0009, *3\n",
      "Time usage: 0:02:21 minutes\n",
      "374/374 [==============================] - 0s 1ms/step\n",
      "934/934 [==============================] - 1s 1ms/step\n",
      "3357/3357 [==============================] - 4s 1ms/step\n",
      "/home/rick/Documents/HannahZ/Code/logs\n",
      " - Model specifics:\tbatch size: 128, mode: triangular, stepsize: 210, base-lr: 0.0001, max-lr 0.0009, *4\n"
     ]
    },
    {
     "name": "stderr",
     "output_type": "stream",
     "text": [
      "/home/rick/.conda/envs/hannah_z/lib/python3.6/site-packages/keras/callbacks.py:120: UserWarning: Method on_batch_end() is slow compared to the batch update (0.459882). Check your callbacks.\n",
      "  % delta_t_median)\n"
     ]
    },
    {
     "name": "stdout",
     "output_type": "stream",
     "text": [
      "Time usage: 0:02:41 minutes\n",
      "374/374 [==============================] - 0s 1ms/step\n",
      "934/934 [==============================] - 1s 1ms/step\n",
      "3357/3357 [==============================] - 4s 1ms/step\n",
      " - Model specifics:\tbatch size: 128, mode: triangular, stepsize: 210, base-lr: 0.0001, max-lr 0.0009, *4\n",
      "Time usage: 0:02:22 minutes\n",
      "374/374 [==============================] - 0s 1ms/step\n",
      "934/934 [==============================] - 1s 1ms/step\n",
      "3357/3357 [==============================] - 4s 1ms/step\n",
      "/home/rick/Documents/HannahZ/Code/logs\n",
      "Time usage: 0:25:58 minutes\n",
      " - Model specifics:\tbatch size: 128, mode: triangular2, stepsize: 210, base-lr: 0.0001, max-lr 0.0009, *0\n"
     ]
    },
    {
     "name": "stderr",
     "output_type": "stream",
     "text": [
      "/home/rick/.conda/envs/hannah_z/lib/python3.6/site-packages/keras/callbacks.py:120: UserWarning: Method on_batch_end() is slow compared to the batch update (0.457304). Check your callbacks.\n",
      "  % delta_t_median)\n"
     ]
    },
    {
     "name": "stdout",
     "output_type": "stream",
     "text": [
      "Time usage: 0:02:48 minutes\n",
      "374/374 [==============================] - 0s 1ms/step\n",
      "934/934 [==============================] - 1s 1ms/step\n",
      "3357/3357 [==============================] - 4s 1ms/step\n",
      " - Model specifics:\tbatch size: 128, mode: triangular2, stepsize: 210, base-lr: 0.0001, max-lr 0.0009, *0\n",
      "Time usage: 0:02:21 minutes\n",
      "374/374 [==============================] - 0s 1ms/step\n",
      "934/934 [==============================] - 1s 1ms/step\n",
      "3357/3357 [==============================] - 4s 1ms/step\n",
      "/home/rick/Documents/HannahZ/Code/logs\n",
      " - Model specifics:\tbatch size: 128, mode: triangular2, stepsize: 210, base-lr: 0.0001, max-lr 0.0009, *1\n"
     ]
    },
    {
     "name": "stderr",
     "output_type": "stream",
     "text": [
      "/home/rick/.conda/envs/hannah_z/lib/python3.6/site-packages/keras/callbacks.py:120: UserWarning: Method on_batch_end() is slow compared to the batch update (0.447801). Check your callbacks.\n",
      "  % delta_t_median)\n"
     ]
    },
    {
     "name": "stdout",
     "output_type": "stream",
     "text": [
      "Time usage: 0:02:41 minutes\n",
      "374/374 [==============================] - 0s 1ms/step\n",
      "934/934 [==============================] - 1s 1ms/step\n",
      "3357/3357 [==============================] - 4s 1ms/step\n",
      " - Model specifics:\tbatch size: 128, mode: triangular2, stepsize: 210, base-lr: 0.0001, max-lr 0.0009, *1\n",
      "Time usage: 0:02:19 minutes\n",
      "374/374 [==============================] - 0s 1ms/step\n",
      "934/934 [==============================] - 1s 1ms/step\n",
      "3357/3357 [==============================] - 4s 1ms/step\n",
      "/home/rick/Documents/HannahZ/Code/logs\n",
      " - Model specifics:\tbatch size: 128, mode: triangular2, stepsize: 210, base-lr: 0.0001, max-lr 0.0009, *2\n"
     ]
    },
    {
     "name": "stderr",
     "output_type": "stream",
     "text": [
      "/home/rick/.conda/envs/hannah_z/lib/python3.6/site-packages/keras/callbacks.py:120: UserWarning: Method on_batch_end() is slow compared to the batch update (0.486629). Check your callbacks.\n",
      "  % delta_t_median)\n"
     ]
    },
    {
     "name": "stdout",
     "output_type": "stream",
     "text": [
      "Time usage: 0:02:39 minutes\n",
      "374/374 [==============================] - 0s 1ms/step\n",
      "934/934 [==============================] - 1s 1ms/step\n",
      "3357/3357 [==============================] - 4s 1ms/step\n",
      " - Model specifics:\tbatch size: 128, mode: triangular2, stepsize: 210, base-lr: 0.0001, max-lr 0.0009, *2\n",
      "Time usage: 0:02:18 minutes\n",
      "374/374 [==============================] - 0s 1ms/step\n",
      "934/934 [==============================] - 1s 1ms/step\n",
      "3357/3357 [==============================] - 4s 1ms/step\n",
      "/home/rick/Documents/HannahZ/Code/logs\n",
      " - Model specifics:\tbatch size: 128, mode: triangular2, stepsize: 210, base-lr: 0.0001, max-lr 0.0009, *3\n"
     ]
    },
    {
     "name": "stderr",
     "output_type": "stream",
     "text": [
      "/home/rick/.conda/envs/hannah_z/lib/python3.6/site-packages/keras/callbacks.py:120: UserWarning: Method on_batch_end() is slow compared to the batch update (0.468673). Check your callbacks.\n",
      "  % delta_t_median)\n"
     ]
    },
    {
     "name": "stdout",
     "output_type": "stream",
     "text": [
      "Time usage: 0:02:39 minutes\n",
      "374/374 [==============================] - 0s 1ms/step\n",
      "934/934 [==============================] - 1s 1ms/step\n",
      "3357/3357 [==============================] - 4s 1ms/step\n",
      " - Model specifics:\tbatch size: 128, mode: triangular2, stepsize: 210, base-lr: 0.0001, max-lr 0.0009, *3\n",
      "Time usage: 0:02:19 minutes\n",
      "374/374 [==============================] - 0s 1ms/step\n",
      "934/934 [==============================] - 1s 1ms/step\n",
      "3357/3357 [==============================] - 4s 1ms/step\n",
      "/home/rick/Documents/HannahZ/Code/logs\n",
      " - Model specifics:\tbatch size: 128, mode: triangular2, stepsize: 210, base-lr: 0.0001, max-lr 0.0009, *4\n"
     ]
    },
    {
     "name": "stderr",
     "output_type": "stream",
     "text": [
      "/home/rick/.conda/envs/hannah_z/lib/python3.6/site-packages/keras/callbacks.py:120: UserWarning: Method on_batch_end() is slow compared to the batch update (0.486300). Check your callbacks.\n",
      "  % delta_t_median)\n"
     ]
    },
    {
     "name": "stdout",
     "output_type": "stream",
     "text": [
      "Time usage: 0:02:42 minutes\n",
      "374/374 [==============================] - 0s 1ms/step\n",
      "934/934 [==============================] - 1s 1ms/step\n",
      "3357/3357 [==============================] - 4s 1ms/step\n",
      " - Model specifics:\tbatch size: 128, mode: triangular2, stepsize: 210, base-lr: 0.0001, max-lr 0.0009, *4\n",
      "Time usage: 0:02:21 minutes\n",
      "374/374 [==============================] - 0s 1ms/step\n",
      "934/934 [==============================] - 1s 1ms/step\n",
      "3357/3357 [==============================] - 4s 1ms/step\n",
      "/home/rick/Documents/HannahZ/Code/logs\n",
      "Time usage: 0:26:07 minutes\n",
      " - Model specifics:\tbatch size: 128, mode: triangular, stepsize: 262, base-lr: 0.0001, max-lr 0.0009, *0\n"
     ]
    },
    {
     "name": "stderr",
     "output_type": "stream",
     "text": [
      "/home/rick/.conda/envs/hannah_z/lib/python3.6/site-packages/keras/callbacks.py:120: UserWarning: Method on_batch_end() is slow compared to the batch update (0.503637). Check your callbacks.\n",
      "  % delta_t_median)\n"
     ]
    },
    {
     "name": "stdout",
     "output_type": "stream",
     "text": [
      "Time usage: 0:02:49 minutes\n",
      "374/374 [==============================] - 0s 1ms/step\n",
      "934/934 [==============================] - 1s 1ms/step\n",
      "3357/3357 [==============================] - 4s 1ms/step\n",
      " - Model specifics:\tbatch size: 128, mode: triangular, stepsize: 262, base-lr: 0.0001, max-lr 0.0009, *0\n",
      "Time usage: 0:02:23 minutes\n",
      "374/374 [==============================] - 0s 1ms/step\n",
      "934/934 [==============================] - 1s 1ms/step\n",
      "3357/3357 [==============================] - 4s 1ms/step\n",
      "/home/rick/Documents/HannahZ/Code/logs\n",
      " - Model specifics:\tbatch size: 128, mode: triangular, stepsize: 262, base-lr: 0.0001, max-lr 0.0009, *1\n"
     ]
    },
    {
     "name": "stderr",
     "output_type": "stream",
     "text": [
      "/home/rick/.conda/envs/hannah_z/lib/python3.6/site-packages/keras/callbacks.py:120: UserWarning: Method on_batch_end() is slow compared to the batch update (0.536921). Check your callbacks.\n",
      "  % delta_t_median)\n"
     ]
    },
    {
     "name": "stdout",
     "output_type": "stream",
     "text": [
      "Time usage: 0:02:43 minutes\n",
      "374/374 [==============================] - 0s 1ms/step\n",
      "934/934 [==============================] - 1s 1ms/step\n",
      "3357/3357 [==============================] - 4s 1ms/step\n",
      " - Model specifics:\tbatch size: 128, mode: triangular, stepsize: 262, base-lr: 0.0001, max-lr 0.0009, *1\n",
      "Time usage: 0:02:21 minutes\n",
      "374/374 [==============================] - 0s 1ms/step\n",
      "934/934 [==============================] - 1s 1ms/step\n",
      "3357/3357 [==============================] - 4s 1ms/step\n",
      "/home/rick/Documents/HannahZ/Code/logs\n",
      " - Model specifics:\tbatch size: 128, mode: triangular, stepsize: 262, base-lr: 0.0001, max-lr 0.0009, *2\n"
     ]
    },
    {
     "name": "stderr",
     "output_type": "stream",
     "text": [
      "/home/rick/.conda/envs/hannah_z/lib/python3.6/site-packages/keras/callbacks.py:120: UserWarning: Method on_batch_end() is slow compared to the batch update (0.494913). Check your callbacks.\n",
      "  % delta_t_median)\n"
     ]
    },
    {
     "name": "stdout",
     "output_type": "stream",
     "text": [
      "Time usage: 0:02:43 minutes\n",
      "374/374 [==============================] - 0s 1ms/step\n",
      "934/934 [==============================] - 1s 1ms/step\n",
      "3357/3357 [==============================] - 4s 1ms/step\n",
      " - Model specifics:\tbatch size: 128, mode: triangular, stepsize: 262, base-lr: 0.0001, max-lr 0.0009, *2\n",
      "Time usage: 0:02:21 minutes\n",
      "374/374 [==============================] - 0s 1ms/step\n",
      "934/934 [==============================] - 1s 1ms/step\n",
      "3357/3357 [==============================] - 4s 1ms/step\n",
      "/home/rick/Documents/HannahZ/Code/logs\n",
      " - Model specifics:\tbatch size: 128, mode: triangular, stepsize: 262, base-lr: 0.0001, max-lr 0.0009, *3\n"
     ]
    },
    {
     "name": "stderr",
     "output_type": "stream",
     "text": [
      "/home/rick/.conda/envs/hannah_z/lib/python3.6/site-packages/keras/callbacks.py:120: UserWarning: Method on_batch_end() is slow compared to the batch update (0.510180). Check your callbacks.\n",
      "  % delta_t_median)\n"
     ]
    },
    {
     "name": "stdout",
     "output_type": "stream",
     "text": [
      "Time usage: 0:02:42 minutes\n",
      "374/374 [==============================] - 0s 1ms/step\n",
      "934/934 [==============================] - 1s 1ms/step\n",
      "3357/3357 [==============================] - 4s 1ms/step\n",
      " - Model specifics:\tbatch size: 128, mode: triangular, stepsize: 262, base-lr: 0.0001, max-lr 0.0009, *3\n",
      "Time usage: 0:02:21 minutes\n",
      "374/374 [==============================] - 0s 1ms/step\n",
      "934/934 [==============================] - 1s 1ms/step\n",
      "3357/3357 [==============================] - 4s 1ms/step\n",
      "/home/rick/Documents/HannahZ/Code/logs\n",
      " - Model specifics:\tbatch size: 128, mode: triangular, stepsize: 262, base-lr: 0.0001, max-lr 0.0009, *4\n"
     ]
    },
    {
     "name": "stderr",
     "output_type": "stream",
     "text": [
      "/home/rick/.conda/envs/hannah_z/lib/python3.6/site-packages/keras/callbacks.py:120: UserWarning: Method on_batch_end() is slow compared to the batch update (0.489815). Check your callbacks.\n",
      "  % delta_t_median)\n"
     ]
    },
    {
     "name": "stdout",
     "output_type": "stream",
     "text": [
      "Time usage: 0:02:41 minutes\n",
      "374/374 [==============================] - 0s 1ms/step\n",
      "934/934 [==============================] - 1s 1ms/step\n",
      "3357/3357 [==============================] - 4s 1ms/step\n",
      " - Model specifics:\tbatch size: 128, mode: triangular, stepsize: 262, base-lr: 0.0001, max-lr 0.0009, *4\n",
      "Time usage: 0:02:22 minutes\n",
      "374/374 [==============================] - 0s 1ms/step\n",
      "934/934 [==============================] - 1s 1ms/step\n",
      "3357/3357 [==============================] - 4s 1ms/step\n",
      "/home/rick/Documents/HannahZ/Code/logs\n",
      "Time usage: 0:26:26 minutes\n",
      " - Model specifics:\tbatch size: 128, mode: triangular2, stepsize: 262, base-lr: 0.0001, max-lr 0.0009, *0\n"
     ]
    },
    {
     "name": "stderr",
     "output_type": "stream",
     "text": [
      "/home/rick/.conda/envs/hannah_z/lib/python3.6/site-packages/keras/callbacks.py:120: UserWarning: Method on_batch_end() is slow compared to the batch update (0.485529). Check your callbacks.\n",
      "  % delta_t_median)\n"
     ]
    },
    {
     "name": "stdout",
     "output_type": "stream",
     "text": [
      "Time usage: 0:02:50 minutes\n",
      "374/374 [==============================] - 0s 1ms/step\n",
      "934/934 [==============================] - 1s 1ms/step\n",
      "3357/3357 [==============================] - 4s 1ms/step\n",
      " - Model specifics:\tbatch size: 128, mode: triangular2, stepsize: 262, base-lr: 0.0001, max-lr 0.0009, *0\n",
      "Time usage: 0:02:23 minutes\n",
      "374/374 [==============================] - 0s 1ms/step\n",
      "934/934 [==============================] - 1s 1ms/step\n",
      "3357/3357 [==============================] - 4s 1ms/step\n",
      "/home/rick/Documents/HannahZ/Code/logs\n",
      " - Model specifics:\tbatch size: 128, mode: triangular2, stepsize: 262, base-lr: 0.0001, max-lr 0.0009, *1\n"
     ]
    },
    {
     "name": "stderr",
     "output_type": "stream",
     "text": [
      "/home/rick/.conda/envs/hannah_z/lib/python3.6/site-packages/keras/callbacks.py:120: UserWarning: Method on_batch_end() is slow compared to the batch update (0.510402). Check your callbacks.\n",
      "  % delta_t_median)\n"
     ]
    },
    {
     "name": "stdout",
     "output_type": "stream",
     "text": [
      "Time usage: 0:02:44 minutes\n",
      "374/374 [==============================] - 0s 1ms/step\n",
      "934/934 [==============================] - 1s 1ms/step\n",
      "3357/3357 [==============================] - 4s 1ms/step\n",
      " - Model specifics:\tbatch size: 128, mode: triangular2, stepsize: 262, base-lr: 0.0001, max-lr 0.0009, *1\n",
      "Time usage: 0:02:21 minutes\n",
      "374/374 [==============================] - 0s 1ms/step\n",
      "934/934 [==============================] - 1s 1ms/step\n",
      "3357/3357 [==============================] - 4s 1ms/step\n",
      "/home/rick/Documents/HannahZ/Code/logs\n",
      " - Model specifics:\tbatch size: 128, mode: triangular2, stepsize: 262, base-lr: 0.0001, max-lr 0.0009, *2\n"
     ]
    },
    {
     "name": "stderr",
     "output_type": "stream",
     "text": [
      "/home/rick/.conda/envs/hannah_z/lib/python3.6/site-packages/keras/callbacks.py:120: UserWarning: Method on_batch_end() is slow compared to the batch update (0.496126). Check your callbacks.\n",
      "  % delta_t_median)\n"
     ]
    },
    {
     "name": "stdout",
     "output_type": "stream",
     "text": [
      "Time usage: 0:02:42 minutes\n",
      "374/374 [==============================] - 0s 1ms/step\n",
      "934/934 [==============================] - 1s 1ms/step\n",
      "3357/3357 [==============================] - 4s 1ms/step\n",
      " - Model specifics:\tbatch size: 128, mode: triangular2, stepsize: 262, base-lr: 0.0001, max-lr 0.0009, *2\n",
      "Time usage: 0:02:26 minutes\n",
      "374/374 [==============================] - 1s 1ms/step\n",
      "934/934 [==============================] - 1s 1ms/step\n",
      "3357/3357 [==============================] - 4s 1ms/step\n",
      "/home/rick/Documents/HannahZ/Code/logs\n",
      " - Model specifics:\tbatch size: 128, mode: triangular2, stepsize: 262, base-lr: 0.0001, max-lr 0.0009, *3\n"
     ]
    },
    {
     "name": "stderr",
     "output_type": "stream",
     "text": [
      "/home/rick/.conda/envs/hannah_z/lib/python3.6/site-packages/keras/callbacks.py:120: UserWarning: Method on_batch_end() is slow compared to the batch update (0.510509). Check your callbacks.\n",
      "  % delta_t_median)\n"
     ]
    },
    {
     "name": "stdout",
     "output_type": "stream",
     "text": [
      "Time usage: 0:02:41 minutes\n",
      "374/374 [==============================] - 0s 1ms/step\n",
      "934/934 [==============================] - 1s 1ms/step\n",
      "3357/3357 [==============================] - 4s 1ms/step\n",
      " - Model specifics:\tbatch size: 128, mode: triangular2, stepsize: 262, base-lr: 0.0001, max-lr 0.0009, *3\n",
      "Time usage: 0:02:21 minutes\n",
      "374/374 [==============================] - 0s 1ms/step\n",
      "934/934 [==============================] - 1s 1ms/step\n",
      "3357/3357 [==============================] - 4s 1ms/step\n",
      "/home/rick/Documents/HannahZ/Code/logs\n",
      " - Model specifics:\tbatch size: 128, mode: triangular2, stepsize: 262, base-lr: 0.0001, max-lr 0.0009, *4\n"
     ]
    },
    {
     "name": "stderr",
     "output_type": "stream",
     "text": [
      "/home/rick/.conda/envs/hannah_z/lib/python3.6/site-packages/keras/callbacks.py:120: UserWarning: Method on_batch_end() is slow compared to the batch update (0.513950). Check your callbacks.\n",
      "  % delta_t_median)\n"
     ]
    },
    {
     "name": "stdout",
     "output_type": "stream",
     "text": [
      "Time usage: 0:02:45 minutes\n",
      "374/374 [==============================] - 0s 1ms/step\n",
      "934/934 [==============================] - 1s 1ms/step\n",
      "3357/3357 [==============================] - 4s 1ms/step\n",
      " - Model specifics:\tbatch size: 128, mode: triangular2, stepsize: 262, base-lr: 0.0001, max-lr 0.0009, *4\n",
      "Time usage: 0:02:23 minutes\n",
      "374/374 [==============================] - 0s 1ms/step\n",
      "934/934 [==============================] - 1s 1ms/step\n",
      "3357/3357 [==============================] - 4s 1ms/step\n",
      "/home/rick/Documents/HannahZ/Code/logs\n",
      "Time usage: 0:26:37 minutes\n",
      "Time usage: 5:38:31 minutes\n"
     ]
    }
   ],
   "source": [
    "hp_tuner(rep = 5)"
   ]
  },
  {
   "cell_type": "code",
   "execution_count": 360,
   "metadata": {
    "collapsed": true
   },
   "outputs": [],
   "source": [
    "rep = 5\n",
    "titel = model_details[0][:47]\n",
    "mean_test_a = []\n",
    "mean_valid_a = []\n",
    "mean_train_a = []\n",
    "mean_test_l = []\n",
    "mean_valid_l = []\n",
    "mean_train_l = []\n",
    "mean_test_p = []\n",
    "mean_valid_p = []\n",
    "mean_train_p = []\n",
    "mean_test_r = []\n",
    "mean_valid_r = []\n",
    "mean_train_r = []\n",
    "model_l = []\n",
    "a = int(len(test_acc_l)/rep)\n",
    "for i in range(a):\n",
    "    tals = test_acc_l[i:(i+1)*rep]\n",
    "    vals = valid_acc_l[i:(i+1)*rep]\n",
    "    rals = train_acc_l[i:(i+1)*rep]\n",
    "    tlls = test_loss_l[i:(i+1)*rep]\n",
    "    vlls = valid_loss_l[i:(i+1)*rep]\n",
    "    rlls = train_loss_l[i:(i+1)*rep]\n",
    "    tpls = test_prec_l[i:(i+1)*rep]\n",
    "    vpls = valid_prec_l[i:(i+1)*rep]\n",
    "    rpls = train_prec_l[i:(i+1)*rep]\n",
    "    trls = test_rec_l[i:(i+1)*rep]\n",
    "    vrls = valid_rec_l[i:(i+1)*rep]\n",
    "    rrls = train_rec_l[i:(i+1)*rep]\n",
    "    tmean = round(sum(tals)/len(tals),4)\n",
    "    vmean = round(sum(vals)/len(vals),4)\n",
    "    rmean = round(sum(rals)/len(rals),4)\n",
    "    ltmean = round(sum(tlls)/len(tals),4)\n",
    "    lvmean = round(sum(vlls)/len(vals),4)\n",
    "    lrmean = round(sum(rlls)/len(rals),4)\n",
    "    ptmean = round(sum(tpls)/len(tals),4)\n",
    "    pvmean = round(sum(vpls)/len(vals),4)\n",
    "    prmean = round(sum(rpls)/len(rals),4)\n",
    "    rtmean = round(sum(trls)/len(tals),4)\n",
    "    rvmean = round(sum(vrls)/len(vals),4)\n",
    "    rrmean = round(sum(rrls)/len(rals),4)\n",
    "    mean_test_a.append(tmean)\n",
    "    mean_valid_a.append(vmean)\n",
    "    mean_train_a.append(rmean)\n",
    "    mean_test_l.append(ltmean)\n",
    "    mean_valid_l.append(lvmean)\n",
    "    mean_train_l.append(lrmean)\n",
    "    mean_test_p.append(ptmean)\n",
    "    mean_valid_p.append(pvmean)\n",
    "    mean_train_p.append(prmean)\n",
    "    mean_test_r.append(rtmean)\n",
    "    mean_valid_r.append(rvmean)\n",
    "    mean_train_r.append(rrmean)\n",
    "    if (model_det[i*rep][-2:] == 'x2'):\n",
    "        model_l.append(model_det[i*rep][6:49] + ' ' + model_det[i*rep][-2:])\n",
    "    else:\n",
    "        model_l.append(model_det[i*rep][6:49])"
   ]
  },
  {
   "cell_type": "code",
   "execution_count": 361,
   "metadata": {},
   "outputs": [
    {
     "name": "stdout",
     "output_type": "stream",
     "text": [
      "size: 64, mode: triangular, stepsize: 315, \n",
      "*0\n"
     ]
    }
   ],
   "source": [
    "print(model_det[8][6:49])\n",
    "print(model_det[0][-2:])"
   ]
  },
  {
   "cell_type": "code",
   "execution_count": 362,
   "metadata": {},
   "outputs": [
    {
     "data": {
      "text/html": [
       "<div>\n",
       "<style scoped>\n",
       "    .dataframe tbody tr th:only-of-type {\n",
       "        vertical-align: middle;\n",
       "    }\n",
       "\n",
       "    .dataframe tbody tr th {\n",
       "        vertical-align: top;\n",
       "    }\n",
       "\n",
       "    .dataframe thead th {\n",
       "        text-align: right;\n",
       "    }\n",
       "</style>\n",
       "<table border=\"1\" class=\"dataframe\">\n",
       "  <thead>\n",
       "    <tr style=\"text-align: right;\">\n",
       "      <th></th>\n",
       "      <th>test acc</th>\n",
       "      <th>valid acc</th>\n",
       "      <th>train acc</th>\n",
       "      <th>test loss</th>\n",
       "      <th>valid loss</th>\n",
       "      <th>train loss</th>\n",
       "      <th>test prec</th>\n",
       "      <th>valid prec</th>\n",
       "      <th>train prec</th>\n",
       "      <th>test rec</th>\n",
       "      <th>valid rec</th>\n",
       "      <th>train rec</th>\n",
       "    </tr>\n",
       "  </thead>\n",
       "  <tbody>\n",
       "    <tr>\n",
       "      <th>size: 64, mode: triangular, stepsize: 315,</th>\n",
       "      <td>0.7420</td>\n",
       "      <td>0.7380</td>\n",
       "      <td>0.7743</td>\n",
       "      <td>2.3157</td>\n",
       "      <td>2.4599</td>\n",
       "      <td>1.9065</td>\n",
       "      <td>0.6758</td>\n",
       "      <td>0.6528</td>\n",
       "      <td>0.6971</td>\n",
       "      <td>0.9551</td>\n",
       "      <td>0.9637</td>\n",
       "      <td>0.9689</td>\n",
       "    </tr>\n",
       "    <tr>\n",
       "      <th>size: 128, mode: triangular2, stepsize: 262 x2</th>\n",
       "      <td>0.7416</td>\n",
       "      <td>0.7410</td>\n",
       "      <td>0.7797</td>\n",
       "      <td>2.1874</td>\n",
       "      <td>2.2810</td>\n",
       "      <td>1.7320</td>\n",
       "      <td>0.6780</td>\n",
       "      <td>0.6565</td>\n",
       "      <td>0.7046</td>\n",
       "      <td>0.9515</td>\n",
       "      <td>0.9624</td>\n",
       "      <td>0.9655</td>\n",
       "    </tr>\n",
       "    <tr>\n",
       "      <th>size: 128, mode: triangular2, stepsize: 262</th>\n",
       "      <td>0.7414</td>\n",
       "      <td>0.7408</td>\n",
       "      <td>0.7793</td>\n",
       "      <td>2.1972</td>\n",
       "      <td>2.2884</td>\n",
       "      <td>1.7419</td>\n",
       "      <td>0.6777</td>\n",
       "      <td>0.6562</td>\n",
       "      <td>0.7041</td>\n",
       "      <td>0.9521</td>\n",
       "      <td>0.9630</td>\n",
       "      <td>0.9660</td>\n",
       "    </tr>\n",
       "    <tr>\n",
       "      <th>size: 64, mode: triangular, stepsize: 420,</th>\n",
       "      <td>0.7411</td>\n",
       "      <td>0.7398</td>\n",
       "      <td>0.7785</td>\n",
       "      <td>2.2117</td>\n",
       "      <td>2.2893</td>\n",
       "      <td>1.7433</td>\n",
       "      <td>0.6741</td>\n",
       "      <td>0.6535</td>\n",
       "      <td>0.7008</td>\n",
       "      <td>0.9599</td>\n",
       "      <td>0.9653</td>\n",
       "      <td>0.9708</td>\n",
       "    </tr>\n",
       "    <tr>\n",
       "      <th>size: 128, mode: triangular, stepsize: 262, x2</th>\n",
       "      <td>0.7409</td>\n",
       "      <td>0.7402</td>\n",
       "      <td>0.7788</td>\n",
       "      <td>2.2109</td>\n",
       "      <td>2.3038</td>\n",
       "      <td>1.7545</td>\n",
       "      <td>0.6771</td>\n",
       "      <td>0.6557</td>\n",
       "      <td>0.7035</td>\n",
       "      <td>0.9525</td>\n",
       "      <td>0.9631</td>\n",
       "      <td>0.9663</td>\n",
       "    </tr>\n",
       "    <tr>\n",
       "      <th>size: 128, mode: triangular2, stepsize: 210 x2</th>\n",
       "      <td>0.7409</td>\n",
       "      <td>0.7398</td>\n",
       "      <td>0.7784</td>\n",
       "      <td>2.2038</td>\n",
       "      <td>2.2952</td>\n",
       "      <td>1.7450</td>\n",
       "      <td>0.6754</td>\n",
       "      <td>0.6543</td>\n",
       "      <td>0.7016</td>\n",
       "      <td>0.9566</td>\n",
       "      <td>0.9656</td>\n",
       "      <td>0.9687</td>\n",
       "    </tr>\n",
       "    <tr>\n",
       "      <th>size: 128, mode: triangular, stepsize: 210,</th>\n",
       "      <td>0.7409</td>\n",
       "      <td>0.7401</td>\n",
       "      <td>0.7791</td>\n",
       "      <td>2.2046</td>\n",
       "      <td>2.2941</td>\n",
       "      <td>1.7418</td>\n",
       "      <td>0.6752</td>\n",
       "      <td>0.6547</td>\n",
       "      <td>0.7023</td>\n",
       "      <td>0.9572</td>\n",
       "      <td>0.9650</td>\n",
       "      <td>0.9691</td>\n",
       "    </tr>\n",
       "    <tr>\n",
       "      <th>size: 128, mode: triangular2, stepsize: 210</th>\n",
       "      <td>0.7408</td>\n",
       "      <td>0.7394</td>\n",
       "      <td>0.7785</td>\n",
       "      <td>2.2072</td>\n",
       "      <td>2.3001</td>\n",
       "      <td>1.7473</td>\n",
       "      <td>0.6753</td>\n",
       "      <td>0.6540</td>\n",
       "      <td>0.7016</td>\n",
       "      <td>0.9568</td>\n",
       "      <td>0.9652</td>\n",
       "      <td>0.9690</td>\n",
       "    </tr>\n",
       "    <tr>\n",
       "      <th>size: 128, mode: triangular, stepsize: 210, x2</th>\n",
       "      <td>0.7408</td>\n",
       "      <td>0.7396</td>\n",
       "      <td>0.7790</td>\n",
       "      <td>2.2152</td>\n",
       "      <td>2.3071</td>\n",
       "      <td>1.7513</td>\n",
       "      <td>0.6753</td>\n",
       "      <td>0.6543</td>\n",
       "      <td>0.7022</td>\n",
       "      <td>0.9565</td>\n",
       "      <td>0.9648</td>\n",
       "      <td>0.9689</td>\n",
       "    </tr>\n",
       "    <tr>\n",
       "      <th>size: 64, mode: triangular2, stepsize: 315, x2</th>\n",
       "      <td>0.7401</td>\n",
       "      <td>0.7394</td>\n",
       "      <td>0.7789</td>\n",
       "      <td>2.1848</td>\n",
       "      <td>2.2746</td>\n",
       "      <td>1.7250</td>\n",
       "      <td>0.6738</td>\n",
       "      <td>0.6531</td>\n",
       "      <td>0.7011</td>\n",
       "      <td>0.9578</td>\n",
       "      <td>0.9651</td>\n",
       "      <td>0.9707</td>\n",
       "    </tr>\n",
       "    <tr>\n",
       "      <th>size: 128, mode: triangular2, stepsize: 157 x2</th>\n",
       "      <td>0.7401</td>\n",
       "      <td>0.7392</td>\n",
       "      <td>0.7781</td>\n",
       "      <td>2.2242</td>\n",
       "      <td>2.3139</td>\n",
       "      <td>1.7593</td>\n",
       "      <td>0.6740</td>\n",
       "      <td>0.6537</td>\n",
       "      <td>0.7009</td>\n",
       "      <td>0.9586</td>\n",
       "      <td>0.9654</td>\n",
       "      <td>0.9701</td>\n",
       "    </tr>\n",
       "    <tr>\n",
       "      <th>size: 64, mode: triangular2, stepsize: 420, x2</th>\n",
       "      <td>0.7399</td>\n",
       "      <td>0.7385</td>\n",
       "      <td>0.7784</td>\n",
       "      <td>2.2101</td>\n",
       "      <td>2.2945</td>\n",
       "      <td>1.7411</td>\n",
       "      <td>0.6730</td>\n",
       "      <td>0.6527</td>\n",
       "      <td>0.7005</td>\n",
       "      <td>0.9606</td>\n",
       "      <td>0.9646</td>\n",
       "      <td>0.9714</td>\n",
       "    </tr>\n",
       "    <tr>\n",
       "      <th>size: 64, mode: triangular, stepsize: 315,  x2</th>\n",
       "      <td>0.7399</td>\n",
       "      <td>0.7368</td>\n",
       "      <td>0.7755</td>\n",
       "      <td>2.3494</td>\n",
       "      <td>2.4642</td>\n",
       "      <td>1.9099</td>\n",
       "      <td>0.6740</td>\n",
       "      <td>0.6500</td>\n",
       "      <td>0.6977</td>\n",
       "      <td>0.9564</td>\n",
       "      <td>0.9655</td>\n",
       "      <td>0.9706</td>\n",
       "    </tr>\n",
       "    <tr>\n",
       "      <th>size: 64, mode: triangular, stepsize: 420,  x2</th>\n",
       "      <td>0.7397</td>\n",
       "      <td>0.7370</td>\n",
       "      <td>0.7777</td>\n",
       "      <td>2.2285</td>\n",
       "      <td>2.3049</td>\n",
       "      <td>1.7554</td>\n",
       "      <td>0.6728</td>\n",
       "      <td>0.6513</td>\n",
       "      <td>0.7001</td>\n",
       "      <td>0.9604</td>\n",
       "      <td>0.9636</td>\n",
       "      <td>0.9704</td>\n",
       "    </tr>\n",
       "    <tr>\n",
       "      <th>size: 64, mode: triangular2, stepsize: 420,</th>\n",
       "      <td>0.7395</td>\n",
       "      <td>0.7371</td>\n",
       "      <td>0.7777</td>\n",
       "      <td>2.2024</td>\n",
       "      <td>2.2861</td>\n",
       "      <td>1.7316</td>\n",
       "      <td>0.6726</td>\n",
       "      <td>0.6516</td>\n",
       "      <td>0.6999</td>\n",
       "      <td>0.9606</td>\n",
       "      <td>0.9636</td>\n",
       "      <td>0.9710</td>\n",
       "    </tr>\n",
       "    <tr>\n",
       "      <th>size: 128, mode: triangular, stepsize: 262,</th>\n",
       "      <td>0.7394</td>\n",
       "      <td>0.7380</td>\n",
       "      <td>0.7766</td>\n",
       "      <td>2.2334</td>\n",
       "      <td>2.3290</td>\n",
       "      <td>1.7775</td>\n",
       "      <td>0.6739</td>\n",
       "      <td>0.6526</td>\n",
       "      <td>0.6997</td>\n",
       "      <td>0.9569</td>\n",
       "      <td>0.9661</td>\n",
       "      <td>0.9693</td>\n",
       "    </tr>\n",
       "    <tr>\n",
       "      <th>size: 128, mode: triangular2, stepsize: 157</th>\n",
       "      <td>0.7392</td>\n",
       "      <td>0.7389</td>\n",
       "      <td>0.7778</td>\n",
       "      <td>2.2399</td>\n",
       "      <td>2.3280</td>\n",
       "      <td>1.7698</td>\n",
       "      <td>0.6729</td>\n",
       "      <td>0.6535</td>\n",
       "      <td>0.7004</td>\n",
       "      <td>0.9593</td>\n",
       "      <td>0.9652</td>\n",
       "      <td>0.9707</td>\n",
       "    </tr>\n",
       "    <tr>\n",
       "      <th>size: 64, mode: triangular2, stepsize: 525,</th>\n",
       "      <td>0.7390</td>\n",
       "      <td>0.7384</td>\n",
       "      <td>0.7777</td>\n",
       "      <td>2.2379</td>\n",
       "      <td>2.3278</td>\n",
       "      <td>1.7650</td>\n",
       "      <td>0.6722</td>\n",
       "      <td>0.6533</td>\n",
       "      <td>0.7002</td>\n",
       "      <td>0.9608</td>\n",
       "      <td>0.9654</td>\n",
       "      <td>0.9713</td>\n",
       "    </tr>\n",
       "    <tr>\n",
       "      <th>size: 64, mode: triangular2, stepsize: 315,</th>\n",
       "      <td>0.7389</td>\n",
       "      <td>0.7374</td>\n",
       "      <td>0.7773</td>\n",
       "      <td>2.2076</td>\n",
       "      <td>2.3108</td>\n",
       "      <td>1.7613</td>\n",
       "      <td>0.6731</td>\n",
       "      <td>0.6512</td>\n",
       "      <td>0.6995</td>\n",
       "      <td>0.9552</td>\n",
       "      <td>0.9648</td>\n",
       "      <td>0.9700</td>\n",
       "    </tr>\n",
       "    <tr>\n",
       "      <th>size: 128, mode: triangular, stepsize: 157, x2</th>\n",
       "      <td>0.7388</td>\n",
       "      <td>0.7386</td>\n",
       "      <td>0.7778</td>\n",
       "      <td>2.2618</td>\n",
       "      <td>2.3505</td>\n",
       "      <td>1.7878</td>\n",
       "      <td>0.6725</td>\n",
       "      <td>0.6534</td>\n",
       "      <td>0.7004</td>\n",
       "      <td>0.9595</td>\n",
       "      <td>0.9649</td>\n",
       "      <td>0.9710</td>\n",
       "    </tr>\n",
       "    <tr>\n",
       "      <th>size: 128, mode: triangular, stepsize: 157,</th>\n",
       "      <td>0.7388</td>\n",
       "      <td>0.7384</td>\n",
       "      <td>0.7777</td>\n",
       "      <td>2.2484</td>\n",
       "      <td>2.3410</td>\n",
       "      <td>1.7774</td>\n",
       "      <td>0.6724</td>\n",
       "      <td>0.6533</td>\n",
       "      <td>0.7004</td>\n",
       "      <td>0.9599</td>\n",
       "      <td>0.9648</td>\n",
       "      <td>0.9708</td>\n",
       "    </tr>\n",
       "    <tr>\n",
       "      <th>size: 64, mode: triangular, stepsize: 525,  x2</th>\n",
       "      <td>0.7383</td>\n",
       "      <td>0.7371</td>\n",
       "      <td>0.7765</td>\n",
       "      <td>2.2635</td>\n",
       "      <td>2.3546</td>\n",
       "      <td>1.7899</td>\n",
       "      <td>0.6714</td>\n",
       "      <td>0.6521</td>\n",
       "      <td>0.6988</td>\n",
       "      <td>0.9612</td>\n",
       "      <td>0.9651</td>\n",
       "      <td>0.9719</td>\n",
       "    </tr>\n",
       "    <tr>\n",
       "      <th>size: 64, mode: triangular2, stepsize: 525, x2</th>\n",
       "      <td>0.7381</td>\n",
       "      <td>0.7375</td>\n",
       "      <td>0.7768</td>\n",
       "      <td>2.2638</td>\n",
       "      <td>2.3543</td>\n",
       "      <td>1.7864</td>\n",
       "      <td>0.6712</td>\n",
       "      <td>0.6523</td>\n",
       "      <td>0.6991</td>\n",
       "      <td>0.9613</td>\n",
       "      <td>0.9660</td>\n",
       "      <td>0.9721</td>\n",
       "    </tr>\n",
       "    <tr>\n",
       "      <th>size: 64, mode: triangular, stepsize: 525,</th>\n",
       "      <td>0.7376</td>\n",
       "      <td>0.7351</td>\n",
       "      <td>0.7757</td>\n",
       "      <td>2.2608</td>\n",
       "      <td>2.3514</td>\n",
       "      <td>1.7887</td>\n",
       "      <td>0.6704</td>\n",
       "      <td>0.6499</td>\n",
       "      <td>0.6974</td>\n",
       "      <td>0.9626</td>\n",
       "      <td>0.9653</td>\n",
       "      <td>0.9730</td>\n",
       "    </tr>\n",
       "  </tbody>\n",
       "</table>\n",
       "</div>"
      ],
      "text/plain": [
       "                                                test acc  valid acc  \\\n",
       "size: 64, mode: triangular, stepsize: 315,        0.7420     0.7380   \n",
       "size: 128, mode: triangular2, stepsize: 262 x2    0.7416     0.7410   \n",
       "size: 128, mode: triangular2, stepsize: 262       0.7414     0.7408   \n",
       "size: 64, mode: triangular, stepsize: 420,        0.7411     0.7398   \n",
       "size: 128, mode: triangular, stepsize: 262, x2    0.7409     0.7402   \n",
       "size: 128, mode: triangular2, stepsize: 210 x2    0.7409     0.7398   \n",
       "size: 128, mode: triangular, stepsize: 210,       0.7409     0.7401   \n",
       "size: 128, mode: triangular2, stepsize: 210       0.7408     0.7394   \n",
       "size: 128, mode: triangular, stepsize: 210, x2    0.7408     0.7396   \n",
       "size: 64, mode: triangular2, stepsize: 315, x2    0.7401     0.7394   \n",
       "size: 128, mode: triangular2, stepsize: 157 x2    0.7401     0.7392   \n",
       "size: 64, mode: triangular2, stepsize: 420, x2    0.7399     0.7385   \n",
       "size: 64, mode: triangular, stepsize: 315,  x2    0.7399     0.7368   \n",
       "size: 64, mode: triangular, stepsize: 420,  x2    0.7397     0.7370   \n",
       "size: 64, mode: triangular2, stepsize: 420,       0.7395     0.7371   \n",
       "size: 128, mode: triangular, stepsize: 262,       0.7394     0.7380   \n",
       "size: 128, mode: triangular2, stepsize: 157       0.7392     0.7389   \n",
       "size: 64, mode: triangular2, stepsize: 525,       0.7390     0.7384   \n",
       "size: 64, mode: triangular2, stepsize: 315,       0.7389     0.7374   \n",
       "size: 128, mode: triangular, stepsize: 157, x2    0.7388     0.7386   \n",
       "size: 128, mode: triangular, stepsize: 157,       0.7388     0.7384   \n",
       "size: 64, mode: triangular, stepsize: 525,  x2    0.7383     0.7371   \n",
       "size: 64, mode: triangular2, stepsize: 525, x2    0.7381     0.7375   \n",
       "size: 64, mode: triangular, stepsize: 525,        0.7376     0.7351   \n",
       "\n",
       "                                                train acc  test loss  \\\n",
       "size: 64, mode: triangular, stepsize: 315,         0.7743     2.3157   \n",
       "size: 128, mode: triangular2, stepsize: 262 x2     0.7797     2.1874   \n",
       "size: 128, mode: triangular2, stepsize: 262        0.7793     2.1972   \n",
       "size: 64, mode: triangular, stepsize: 420,         0.7785     2.2117   \n",
       "size: 128, mode: triangular, stepsize: 262, x2     0.7788     2.2109   \n",
       "size: 128, mode: triangular2, stepsize: 210 x2     0.7784     2.2038   \n",
       "size: 128, mode: triangular, stepsize: 210,        0.7791     2.2046   \n",
       "size: 128, mode: triangular2, stepsize: 210        0.7785     2.2072   \n",
       "size: 128, mode: triangular, stepsize: 210, x2     0.7790     2.2152   \n",
       "size: 64, mode: triangular2, stepsize: 315, x2     0.7789     2.1848   \n",
       "size: 128, mode: triangular2, stepsize: 157 x2     0.7781     2.2242   \n",
       "size: 64, mode: triangular2, stepsize: 420, x2     0.7784     2.2101   \n",
       "size: 64, mode: triangular, stepsize: 315,  x2     0.7755     2.3494   \n",
       "size: 64, mode: triangular, stepsize: 420,  x2     0.7777     2.2285   \n",
       "size: 64, mode: triangular2, stepsize: 420,        0.7777     2.2024   \n",
       "size: 128, mode: triangular, stepsize: 262,        0.7766     2.2334   \n",
       "size: 128, mode: triangular2, stepsize: 157        0.7778     2.2399   \n",
       "size: 64, mode: triangular2, stepsize: 525,        0.7777     2.2379   \n",
       "size: 64, mode: triangular2, stepsize: 315,        0.7773     2.2076   \n",
       "size: 128, mode: triangular, stepsize: 157, x2     0.7778     2.2618   \n",
       "size: 128, mode: triangular, stepsize: 157,        0.7777     2.2484   \n",
       "size: 64, mode: triangular, stepsize: 525,  x2     0.7765     2.2635   \n",
       "size: 64, mode: triangular2, stepsize: 525, x2     0.7768     2.2638   \n",
       "size: 64, mode: triangular, stepsize: 525,         0.7757     2.2608   \n",
       "\n",
       "                                                valid loss  train loss  \\\n",
       "size: 64, mode: triangular, stepsize: 315,          2.4599      1.9065   \n",
       "size: 128, mode: triangular2, stepsize: 262 x2      2.2810      1.7320   \n",
       "size: 128, mode: triangular2, stepsize: 262         2.2884      1.7419   \n",
       "size: 64, mode: triangular, stepsize: 420,          2.2893      1.7433   \n",
       "size: 128, mode: triangular, stepsize: 262, x2      2.3038      1.7545   \n",
       "size: 128, mode: triangular2, stepsize: 210 x2      2.2952      1.7450   \n",
       "size: 128, mode: triangular, stepsize: 210,         2.2941      1.7418   \n",
       "size: 128, mode: triangular2, stepsize: 210         2.3001      1.7473   \n",
       "size: 128, mode: triangular, stepsize: 210, x2      2.3071      1.7513   \n",
       "size: 64, mode: triangular2, stepsize: 315, x2      2.2746      1.7250   \n",
       "size: 128, mode: triangular2, stepsize: 157 x2      2.3139      1.7593   \n",
       "size: 64, mode: triangular2, stepsize: 420, x2      2.2945      1.7411   \n",
       "size: 64, mode: triangular, stepsize: 315,  x2      2.4642      1.9099   \n",
       "size: 64, mode: triangular, stepsize: 420,  x2      2.3049      1.7554   \n",
       "size: 64, mode: triangular2, stepsize: 420,         2.2861      1.7316   \n",
       "size: 128, mode: triangular, stepsize: 262,         2.3290      1.7775   \n",
       "size: 128, mode: triangular2, stepsize: 157         2.3280      1.7698   \n",
       "size: 64, mode: triangular2, stepsize: 525,         2.3278      1.7650   \n",
       "size: 64, mode: triangular2, stepsize: 315,         2.3108      1.7613   \n",
       "size: 128, mode: triangular, stepsize: 157, x2      2.3505      1.7878   \n",
       "size: 128, mode: triangular, stepsize: 157,         2.3410      1.7774   \n",
       "size: 64, mode: triangular, stepsize: 525,  x2      2.3546      1.7899   \n",
       "size: 64, mode: triangular2, stepsize: 525, x2      2.3543      1.7864   \n",
       "size: 64, mode: triangular, stepsize: 525,          2.3514      1.7887   \n",
       "\n",
       "                                                test prec  valid prec  \\\n",
       "size: 64, mode: triangular, stepsize: 315,         0.6758      0.6528   \n",
       "size: 128, mode: triangular2, stepsize: 262 x2     0.6780      0.6565   \n",
       "size: 128, mode: triangular2, stepsize: 262        0.6777      0.6562   \n",
       "size: 64, mode: triangular, stepsize: 420,         0.6741      0.6535   \n",
       "size: 128, mode: triangular, stepsize: 262, x2     0.6771      0.6557   \n",
       "size: 128, mode: triangular2, stepsize: 210 x2     0.6754      0.6543   \n",
       "size: 128, mode: triangular, stepsize: 210,        0.6752      0.6547   \n",
       "size: 128, mode: triangular2, stepsize: 210        0.6753      0.6540   \n",
       "size: 128, mode: triangular, stepsize: 210, x2     0.6753      0.6543   \n",
       "size: 64, mode: triangular2, stepsize: 315, x2     0.6738      0.6531   \n",
       "size: 128, mode: triangular2, stepsize: 157 x2     0.6740      0.6537   \n",
       "size: 64, mode: triangular2, stepsize: 420, x2     0.6730      0.6527   \n",
       "size: 64, mode: triangular, stepsize: 315,  x2     0.6740      0.6500   \n",
       "size: 64, mode: triangular, stepsize: 420,  x2     0.6728      0.6513   \n",
       "size: 64, mode: triangular2, stepsize: 420,        0.6726      0.6516   \n",
       "size: 128, mode: triangular, stepsize: 262,        0.6739      0.6526   \n",
       "size: 128, mode: triangular2, stepsize: 157        0.6729      0.6535   \n",
       "size: 64, mode: triangular2, stepsize: 525,        0.6722      0.6533   \n",
       "size: 64, mode: triangular2, stepsize: 315,        0.6731      0.6512   \n",
       "size: 128, mode: triangular, stepsize: 157, x2     0.6725      0.6534   \n",
       "size: 128, mode: triangular, stepsize: 157,        0.6724      0.6533   \n",
       "size: 64, mode: triangular, stepsize: 525,  x2     0.6714      0.6521   \n",
       "size: 64, mode: triangular2, stepsize: 525, x2     0.6712      0.6523   \n",
       "size: 64, mode: triangular, stepsize: 525,         0.6704      0.6499   \n",
       "\n",
       "                                                train prec  test rec  \\\n",
       "size: 64, mode: triangular, stepsize: 315,          0.6971    0.9551   \n",
       "size: 128, mode: triangular2, stepsize: 262 x2      0.7046    0.9515   \n",
       "size: 128, mode: triangular2, stepsize: 262         0.7041    0.9521   \n",
       "size: 64, mode: triangular, stepsize: 420,          0.7008    0.9599   \n",
       "size: 128, mode: triangular, stepsize: 262, x2      0.7035    0.9525   \n",
       "size: 128, mode: triangular2, stepsize: 210 x2      0.7016    0.9566   \n",
       "size: 128, mode: triangular, stepsize: 210,         0.7023    0.9572   \n",
       "size: 128, mode: triangular2, stepsize: 210         0.7016    0.9568   \n",
       "size: 128, mode: triangular, stepsize: 210, x2      0.7022    0.9565   \n",
       "size: 64, mode: triangular2, stepsize: 315, x2      0.7011    0.9578   \n",
       "size: 128, mode: triangular2, stepsize: 157 x2      0.7009    0.9586   \n",
       "size: 64, mode: triangular2, stepsize: 420, x2      0.7005    0.9606   \n",
       "size: 64, mode: triangular, stepsize: 315,  x2      0.6977    0.9564   \n",
       "size: 64, mode: triangular, stepsize: 420,  x2      0.7001    0.9604   \n",
       "size: 64, mode: triangular2, stepsize: 420,         0.6999    0.9606   \n",
       "size: 128, mode: triangular, stepsize: 262,         0.6997    0.9569   \n",
       "size: 128, mode: triangular2, stepsize: 157         0.7004    0.9593   \n",
       "size: 64, mode: triangular2, stepsize: 525,         0.7002    0.9608   \n",
       "size: 64, mode: triangular2, stepsize: 315,         0.6995    0.9552   \n",
       "size: 128, mode: triangular, stepsize: 157, x2      0.7004    0.9595   \n",
       "size: 128, mode: triangular, stepsize: 157,         0.7004    0.9599   \n",
       "size: 64, mode: triangular, stepsize: 525,  x2      0.6988    0.9612   \n",
       "size: 64, mode: triangular2, stepsize: 525, x2      0.6991    0.9613   \n",
       "size: 64, mode: triangular, stepsize: 525,          0.6974    0.9626   \n",
       "\n",
       "                                                valid rec  train rec  \n",
       "size: 64, mode: triangular, stepsize: 315,         0.9637     0.9689  \n",
       "size: 128, mode: triangular2, stepsize: 262 x2     0.9624     0.9655  \n",
       "size: 128, mode: triangular2, stepsize: 262        0.9630     0.9660  \n",
       "size: 64, mode: triangular, stepsize: 420,         0.9653     0.9708  \n",
       "size: 128, mode: triangular, stepsize: 262, x2     0.9631     0.9663  \n",
       "size: 128, mode: triangular2, stepsize: 210 x2     0.9656     0.9687  \n",
       "size: 128, mode: triangular, stepsize: 210,        0.9650     0.9691  \n",
       "size: 128, mode: triangular2, stepsize: 210        0.9652     0.9690  \n",
       "size: 128, mode: triangular, stepsize: 210, x2     0.9648     0.9689  \n",
       "size: 64, mode: triangular2, stepsize: 315, x2     0.9651     0.9707  \n",
       "size: 128, mode: triangular2, stepsize: 157 x2     0.9654     0.9701  \n",
       "size: 64, mode: triangular2, stepsize: 420, x2     0.9646     0.9714  \n",
       "size: 64, mode: triangular, stepsize: 315,  x2     0.9655     0.9706  \n",
       "size: 64, mode: triangular, stepsize: 420,  x2     0.9636     0.9704  \n",
       "size: 64, mode: triangular2, stepsize: 420,        0.9636     0.9710  \n",
       "size: 128, mode: triangular, stepsize: 262,        0.9661     0.9693  \n",
       "size: 128, mode: triangular2, stepsize: 157        0.9652     0.9707  \n",
       "size: 64, mode: triangular2, stepsize: 525,        0.9654     0.9713  \n",
       "size: 64, mode: triangular2, stepsize: 315,        0.9648     0.9700  \n",
       "size: 128, mode: triangular, stepsize: 157, x2     0.9649     0.9710  \n",
       "size: 128, mode: triangular, stepsize: 157,        0.9648     0.9708  \n",
       "size: 64, mode: triangular, stepsize: 525,  x2     0.9651     0.9719  \n",
       "size: 64, mode: triangular2, stepsize: 525, x2     0.9660     0.9721  \n",
       "size: 64, mode: triangular, stepsize: 525,         0.9653     0.9730  "
      ]
     },
     "execution_count": 362,
     "metadata": {},
     "output_type": "execute_result"
    }
   ],
   "source": [
    "cols = ['test acc', 'valid acc', 'train acc', 'test loss', 'valid loss', 'train loss', 'test prec', \\\n",
    "           'valid prec', 'train prec', 'test rec', 'valid rec', 'train rec']\n",
    "data2 = np.array((mean_test_a, mean_valid_a, mean_train_a, mean_test_l, mean_valid_l, mean_train_l,\\\n",
    "                mean_test_p, mean_valid_p, mean_train_p, mean_test_r, mean_valid_r, mean_train_r))\n",
    "results2 = pd.DataFrame(data = data2, columns = model_l, index = cols)\n",
    "hp_overview = pd.DataFrame(data = results2.transpose(), columns = cols, index = model_l)\n",
    "#hp_overview\n",
    "hp_overview.sort_values(by=['test acc'], ascending = False)"
   ]
  },
  {
   "cell_type": "code",
   "execution_count": 365,
   "metadata": {},
   "outputs": [
    {
     "data": {
      "text/plain": [
       "<matplotlib.axes._subplots.AxesSubplot at 0x7ff1430bf358>"
      ]
     },
     "execution_count": 365,
     "metadata": {},
     "output_type": "execute_result"
    },
    {
     "data": {
      "image/png": "[encoded data removed]",
      "text/plain": [
       "<Figure size 432x576 with 2 Axes>"
      ]
     },
     "metadata": {},
     "output_type": "display_data"
    }
   ],
   "source": [
    "%matplotlib inline\n",
    "plt.figure(figsize=(6, 8))\n",
    "\n",
    "sns.heatmap(hp_overview.iloc[:,:3], annot=True,  fmt = 'f')"
   ]
  },
  {
   "cell_type": "code",
   "execution_count": 368,
   "metadata": {},
   "outputs": [
    {
     "data": {
      "text/plain": [
       "[<matplotlib.lines.Line2D at 0x7ff15bae1748>]"
      ]
     },
     "execution_count": 368,
     "metadata": {},
     "output_type": "execute_result"
    },
    {
     "data": {
      "image/png": "[encoded data removed]",
      "text/plain": [
       "<Figure size 432x288 with 2 Axes>"
      ]
     },
     "metadata": {},
     "output_type": "display_data"
    }
   ],
   "source": [
    "%matplotlib inline\n",
    "\n",
    "f, (ax1, ax2) = plt.subplots(2, 1, sharex='col', sharey='row')\n",
    "ax1.plot(mean_test_a, color = 'r')\n",
    "ax1.axis([0, 9, 0.5, 1])\n",
    "ax1.set_title('Close up')\n",
    "ax1.plot(mean_valid_a)\n",
    "ax1.plot(mean_train_a, color = 'g')\n",
    "ax2.set_title('Zoom')\n",
    "ax2.plot(mean_test_a, color = 'r')\n",
    "ax2.axis([0, 9, 0.73, 0.79])\n",
    "ax2.plot(mean_valid_a)\n",
    "ax2.plot(mean_train_a, color = 'g')"
   ]
  },
  {
   "cell_type": "code",
   "execution_count": 373,
   "metadata": {
    "collapsed": true
   },
   "outputs": [],
   "source": [
    "from IPython.core.interactiveshell import InteractiveShell\n",
    "InteractiveShell.ast_node_interactivity = \"all\""
   ]
  },
  {
   "cell_type": "code",
   "execution_count": 15,
   "metadata": {},
   "outputs": [
    {
     "ename": "NameError",
     "evalue": "name 'hp_overview' is not defined",
     "output_type": "error",
     "traceback": [
      "\u001b[0;31m---------------------------------------------------------------------------\u001b[0m",
      "\u001b[0;31mNameError\u001b[0m                                 Traceback (most recent call last)",
      "\u001b[0;32m<ipython-input-15-fcda4b3d90d3>\u001b[0m in \u001b[0;36m<module>\u001b[0;34m()\u001b[0m\n\u001b[0;32m----> 1\u001b[0;31m \u001b[0mhp_overview\u001b[0m\u001b[0;34m.\u001b[0m\u001b[0msort_values\u001b[0m\u001b[0;34m(\u001b[0m\u001b[0mby\u001b[0m\u001b[0;34m=\u001b[0m\u001b[0;34m[\u001b[0m\u001b[0;34m'test acc'\u001b[0m\u001b[0;34m]\u001b[0m\u001b[0;34m,\u001b[0m \u001b[0mascending\u001b[0m \u001b[0;34m=\u001b[0m \u001b[0mFalse\u001b[0m\u001b[0;34m)\u001b[0m\u001b[0;34m.\u001b[0m\u001b[0miloc\u001b[0m\u001b[0;34m[\u001b[0m\u001b[0;34m:\u001b[0m\u001b[0;36m3\u001b[0m\u001b[0;34m,\u001b[0m\u001b[0;34m:\u001b[0m\u001b[0;34m]\u001b[0m\u001b[0;34m\u001b[0m\u001b[0m\n\u001b[0m\u001b[1;32m      2\u001b[0m \u001b[0;31m# hp_overview.sort_values(by=['test loss'], ascending = True).iloc[:3,:]\u001b[0m\u001b[0;34m\u001b[0m\u001b[0;34m\u001b[0m\u001b[0m\n\u001b[1;32m      3\u001b[0m \u001b[0;31m# hp_overview.sort_values(by=['test prec'], ascending = False).iloc[:3,:]\u001b[0m\u001b[0;34m\u001b[0m\u001b[0;34m\u001b[0m\u001b[0m\n\u001b[1;32m      4\u001b[0m \u001b[0;31m# hp_overview.sort_values(by=['test rec'], ascending = False).iloc[:3,:]\u001b[0m\u001b[0;34m\u001b[0m\u001b[0;34m\u001b[0m\u001b[0m\n\u001b[1;32m      5\u001b[0m \u001b[0mmodel_det\u001b[0m\u001b[0;34m[\u001b[0m\u001b[0;36m0\u001b[0m\u001b[0;34m]\u001b[0m\u001b[0;34m[\u001b[0m\u001b[0;36m49\u001b[0m\u001b[0;34m:\u001b[0m\u001b[0;36m79\u001b[0m\u001b[0;34m]\u001b[0m\u001b[0;34m\u001b[0m\u001b[0m\n",
      "\u001b[0;31mNameError\u001b[0m: name 'hp_overview' is not defined"
     ]
    }
   ],
   "source": [
    "hp_overview.sort_values(by=['test acc'], ascending = False).iloc[:3,:]\n",
    "# hp_overview.sort_values(by=['test loss'], ascending = True).iloc[:3,:]\n",
    "# hp_overview.sort_values(by=['test prec'], ascending = False).iloc[:3,:]\n",
    "# hp_overview.sort_values(by=['test rec'], ascending = False).iloc[:3,:]\n",
    "model_det[0][49:79]"
   ]
  },
  {
   "cell_type": "code",
   "execution_count": 396,
   "metadata": {},
   "outputs": [
    {
     "data": {
      "text/plain": [
       "'/home/rick/Documents/HannahZ/Code/Final_models/bs-64_triangular_sz-157_blr-1e-05_mlr-0.0009_imagenet_Frozen.hdf5'"
      ]
     },
     "execution_count": 396,
     "metadata": {},
     "output_type": "execute_result"
    }
   ],
   "source": [
    "name = ('bs-' + str(batch_size) + '_' + str(mode) + '_sz-' + str(stepsize) + '_blr-' + str(base_lr) + '_mlr-' \n",
    "        + str(max_lr)) + '_' + weights + '_' + trainable_layers\n",
    "model_dir + '/' + name + '.hdf5'"
   ]
  },
  {
   "cell_type": "code",
   "execution_count": 18,
   "metadata": {
    "collapsed": true
   },
   "outputs": [],
   "source": [
    "# decide on best hyperparameters\n",
    "batch_size = 64\n",
    "step_size = 315\n",
    "mode = 'triangular'\n",
    "base_lr = 0.00001\n",
    "max_lr = 0.0009\n",
    "epochs = 48\n",
    "d3 = {}"
   ]
  },
  {
   "cell_type": "code",
   "execution_count": 19,
   "metadata": {
    "collapsed": true
   },
   "outputs": [],
   "source": [
    "def trainModels(batch_size = batch_size, stepsize = step_size, mode = mode, max_lr = max_lr, base_lr = base_lr, \n",
    "                epochs = epochs, verbose = 0):\n",
    "    start_time = time()   \n",
    "    global name\n",
    "    global filepath\n",
    "    global d    \n",
    "    date = str(datetime.now().date())\n",
    "    d = {}\n",
    "    for i in range(5):\n",
    "        compileModel()\n",
    "        # logdir in linux:\n",
    "        logdir = (log_dir + '/' + date + '_' + str(batch_size) + '_' + str(mode) + '_si-' + str(stepsize) \n",
    "                  + '_base-' + str(base_lr) + '_max-' + str(max_lr) + '_' + str(i))\n",
    "        # logdir in windows:\n",
    "        ##logdir = (log_dir + '\\\\' + date + '_' + str(batch_size) + '_' + str(mode) + '_si-' + str(stepsize) + \n",
    "        #          '_base-' + str(base_lr) + '_max-' + str(max_lr) + '_' + str(i))\n",
    "        name = ('batch size: ' + str(batch_size) + ', mode: ' + str(mode) + ', stepsize: ' \n",
    "                + str(stepsize) + ', base-lr: ' + str(base_lr) + ', max-lr ' + str(max_lr) + '_' + str(i))\n",
    "        print(' - Model specifics:\\t{}'.format(name))\n",
    "        clr = CyclicLR(base_lr = base_lr, max_lr=max_lr, step_size= stepsize, mode = mode)\n",
    "        fp = (str(modelname) + '_bs-' + str(batch_size) + '_' + str(mode) + '_sz-' + str(step_size) + '_blr-' \n",
    "              + str(base_lr) + '_mlr-' + str(max_lr) + '_e-' + str(epochs) + '_' + weights + '_' \n",
    "              + str(trainable_layers) + '_' + str(i))\n",
    "        filepath = new_weight_dir + '/' + fp + '-{epoch:02d}-' +'.hdf5'\n",
    "        checkp = ModelCheckpoint(filepath, monitor='val_acc', verbose= verbose, save_weights_only=True, \n",
    "                                save_best_only=True, mode='max', period=1)\n",
    "        tbCallBack = TensorBoard(log_dir=logdir, histogram_freq=0, \n",
    "                             write_graph=False, write_images=False)\n",
    "        d[\"FinalModel{0}\".format(i)]= Final_model\n",
    "        d[\"FinalModel{0}\".format(i)].fit(x = train_images, y = train_labels, epochs = epochs, \n",
    "                                         callbacks= [tbCallBack, clr, checkp], batch_size = batch_size,\n",
    "                                         validation_data = (valid_images, valid_labels), verbose = 0)\n",
    "    end_time = time()\n",
    "    time_dif = end_time - start_time\n",
    "    print('Time usage: ' + str(timedelta(seconds=int(round(time_dif)))) + ' minutes')"
   ]
  },
  {
   "cell_type": "code",
   "execution_count": 20,
   "metadata": {},
   "outputs": [
    {
     "name": "stdout",
     "output_type": "stream",
     "text": [
      " - Model specifics:\tbatch size: 64, mode: triangular, stepsize: 315, base-lr: 1e-05, max-lr 0.0009_0\n",
      " - Model specifics:\tbatch size: 64, mode: triangular, stepsize: 315, base-lr: 1e-05, max-lr 0.0009_1\n",
      " - Model specifics:\tbatch size: 64, mode: triangular, stepsize: 315, base-lr: 1e-05, max-lr 0.0009_2\n",
      " - Model specifics:\tbatch size: 64, mode: triangular, stepsize: 315, base-lr: 1e-05, max-lr 0.0009_3\n",
      " - Model specifics:\tbatch size: 64, mode: triangular, stepsize: 315, base-lr: 1e-05, max-lr 0.0009_4\n",
      "Time usage: 0:13:20 minutes\n"
     ]
    }
   ],
   "source": [
    "# build best model again\n",
    "# usual time: 15 minutes - 18 - 15 - 13\n",
    "fm = ['FinalModel1', 'FinalModel2', 'FinalModel3', 'FinalModel4', 'FinalModel5']\n",
    "metrics = ['loss', 'acc', 'precision', 'recall']\n",
    "name = ('bs-' + str(batch_size) + '_' + str(mode) + '_sz-' + str(step_size) + '_blr-' + str(base_lr) + '_mlr-' \n",
    "       + str(max_lr)) + '_' + str(weights) + '_' + str(trainable_layers)\n",
    "trainModels(base_lr = base_lr, max_lr= max_lr, epochs = epochs, verbose = 0,\n",
    "           batch_size = batch_size, stepsize = step_size, mode = mode)"
   ]
  },
  {
   "cell_type": "code",
   "execution_count": 22,
   "metadata": {},
   "outputs": [
    {
     "name": "stdout",
     "output_type": "stream",
     "text": [
      "DenseNet121_bs-64_triangular_sz-315_blr-1e-05_mlr-0.0009_e-48_imagenet_Frozen_0-{epoch:02d}-.hdf5\n",
      "DenseNet121_bs-64_triangular_sz-315_blr-1e-05_mlr-0.0009_e-48_imagenet_Frozen_0\n"
     ]
    }
   ],
   "source": [
    "# find out where 'bs' starts and '_' ends...\n",
    "i = 0\n",
    "last = 124\n",
    "print(str(filepath)[46:last] + str(i) + str(filepath)[(last+1):])\n",
    "filename = str(filepath)[46:last] + str(i)\n",
    "print(filename)\n",
    "from collections import OrderedDict"
   ]
  },
  {
   "cell_type": "code",
   "execution_count": 23,
   "metadata": {},
   "outputs": [
    {
     "name": "stdout",
     "output_type": "stream",
     "text": [
      "DenseNet121_bs-64_triangular_sz-315_blr-1e-05_mlr-0.0009_e-48_imagenet_Frozen_0\n",
      "DenseNet121_bs-64_triangular_sz-315_blr-1e-05_mlr-0.0009_e-48_imagenet_Frozen_0-20-.hdf5\n",
      "td0-e20\n",
      "\n",
      "DenseNet121_bs-64_triangular_sz-315_blr-1e-05_mlr-0.0009_e-48_imagenet_Frozen_1\n",
      "DenseNet121_bs-64_triangular_sz-315_blr-1e-05_mlr-0.0009_e-48_imagenet_Frozen_1-08-.hdf5\n",
      "td1-e08\n",
      "\n",
      "DenseNet121_bs-64_triangular_sz-315_blr-1e-05_mlr-0.0009_e-48_imagenet_Frozen_2\n",
      "DenseNet121_bs-64_triangular_sz-315_blr-1e-05_mlr-0.0009_e-48_imagenet_Frozen_2-15-.hdf5\n",
      "td2-e15\n",
      "\n",
      "DenseNet121_bs-64_triangular_sz-315_blr-1e-05_mlr-0.0009_e-48_imagenet_Frozen_3\n",
      "DenseNet121_bs-64_triangular_sz-315_blr-1e-05_mlr-0.0009_e-48_imagenet_Frozen_3-04-.hdf5\n",
      "td3-e04\n",
      "\n",
      "DenseNet121_bs-64_triangular_sz-315_blr-1e-05_mlr-0.0009_e-48_imagenet_Frozen_4\n",
      "DenseNet121_bs-64_triangular_sz-315_blr-1e-05_mlr-0.0009_e-48_imagenet_Frozen_4-07-.hdf5\n",
      "td4-e07\n",
      "\n",
      "Time usage: 0:00:53 minutes\n"
     ]
    }
   ],
   "source": [
    "# usual time: 2 minutes\n",
    "startTime = time()\n",
    "FinalModelList = OrderedDict()\n",
    "d3 = OrderedDict()\n",
    "for i in range(5):\n",
    "    filename = str(filepath)[46:last] + str(i) #+ str(filepath)[113:]\n",
    "    weightlist = os.listdir(new_weight_dir)\n",
    "    print(filename)\n",
    "    best_filename = 'no'\n",
    "    for el in weightlist:\n",
    "        if(str(el)[:len(filename)]) == filename:\n",
    "            if len(el)>(len(filename)+5):\n",
    "                best_filename = el\n",
    "    print(best_filename)\n",
    "    best = str(best_filename)[-8:-6]\n",
    "    os.chdir(new_weight_dir)\n",
    "    compileModel()\n",
    "    Final_model.load_weights(best_filename)\n",
    "    FinalModelList[\"FinalModel{}-e{}\".format(i,best)]= Final_model\n",
    "    test_m = Final_model.evaluate(test_images, test_labels, verbose = 0)\n",
    "    test_m = [round(el, 4) for el in test_m]\n",
    "    valid_m = Final_model.evaluate(valid_images, valid_labels, verbose = 0)\n",
    "    valid_m = [round(el, 4) for el in valid_m]\n",
    "    train_m = Final_model.evaluate(train_images, train_labels, verbose = 0)\n",
    "    train_m = [round(el, 4) for el in train_m]\n",
    "    col = [\"FinalModel{}-e{}\".format(i,best)]\n",
    "    print(\"td{}-e{}\".format(i, best))\n",
    "    d3[\"td{}-e{}\".format(i, best)]= pd.DataFrame(data = test_m[:4], columns = col, index = metrics)\n",
    "    print('')\n",
    "endTime = time()\n",
    "finalTime = endTime - startTime\n",
    "print('Time usage: ' + str(timedelta(seconds=int(round(finalTime)))) + ' minutes')"
   ]
  },
  {
   "cell_type": "code",
   "execution_count": 24,
   "metadata": {},
   "outputs": [
    {
     "data": {
      "text/html": [
       "<div>\n",
       "<style scoped>\n",
       "    .dataframe tbody tr th:only-of-type {\n",
       "        vertical-align: middle;\n",
       "    }\n",
       "\n",
       "    .dataframe tbody tr th {\n",
       "        vertical-align: top;\n",
       "    }\n",
       "\n",
       "    .dataframe thead th {\n",
       "        text-align: right;\n",
       "    }\n",
       "</style>\n",
       "<table border=\"1\" class=\"dataframe\">\n",
       "  <thead>\n",
       "    <tr style=\"text-align: right;\">\n",
       "      <th></th>\n",
       "      <th>loss</th>\n",
       "      <th>acc</th>\n",
       "      <th>precision</th>\n",
       "      <th>recall</th>\n",
       "    </tr>\n",
       "  </thead>\n",
       "  <tbody>\n",
       "    <tr>\n",
       "      <th>FinalModel3-e04</th>\n",
       "      <td>0.5843</td>\n",
       "      <td>0.8009</td>\n",
       "      <td>0.7869</td>\n",
       "      <td>0.8436</td>\n",
       "    </tr>\n",
       "    <tr>\n",
       "      <th>FinalModel1-e08</th>\n",
       "      <td>0.6962</td>\n",
       "      <td>0.7998</td>\n",
       "      <td>0.8140</td>\n",
       "      <td>0.7981</td>\n",
       "    </tr>\n",
       "    <tr>\n",
       "      <th>FinalModel0-e20</th>\n",
       "      <td>1.1354</td>\n",
       "      <td>0.7816</td>\n",
       "      <td>0.7436</td>\n",
       "      <td>0.8758</td>\n",
       "    </tr>\n",
       "    <tr>\n",
       "      <th>FinalModel2-e15</th>\n",
       "      <td>1.0915</td>\n",
       "      <td>0.7805</td>\n",
       "      <td>0.7235</td>\n",
       "      <td>0.9349</td>\n",
       "    </tr>\n",
       "    <tr>\n",
       "      <th>FinalModel4-e07</th>\n",
       "      <td>0.8400</td>\n",
       "      <td>0.7794</td>\n",
       "      <td>0.7254</td>\n",
       "      <td>0.9203</td>\n",
       "    </tr>\n",
       "  </tbody>\n",
       "</table>\n",
       "</div>"
      ],
      "text/plain": [
       "                   loss     acc  precision  recall\n",
       "FinalModel3-e04  0.5843  0.8009     0.7869  0.8436\n",
       "FinalModel1-e08  0.6962  0.7998     0.8140  0.7981\n",
       "FinalModel0-e20  1.1354  0.7816     0.7436  0.8758\n",
       "FinalModel2-e15  1.0915  0.7805     0.7235  0.9349\n",
       "FinalModel4-e07  0.8400  0.7794     0.7254  0.9203"
      ]
     },
     "execution_count": 24,
     "metadata": {},
     "output_type": "execute_result"
    }
   ],
   "source": [
    "keys = d3.keys()\n",
    "FinalResults = pd.concat([d3[keys[0]], d3[keys[1]], d3[keys[2]], d3[keys[3]], d3[keys[4]]], axis=1)\n",
    "FinalResults = pd.DataFrame(data = FinalResults.transpose(), columns = metrics)\n",
    "FinalResults.sort_values(by = ['acc'], ascending = False)"
   ]
  },
  {
   "cell_type": "code",
   "execution_count": 25,
   "metadata": {},
   "outputs": [
    {
     "name": "stdout",
     "output_type": "stream",
     "text": [
      "['FinalModel0-e20', 'FinalModel1-e08', 'FinalModel2-e15', 'FinalModel3-e04', 'FinalModel4-e07']\n",
      "934/934 [==============================] - 4s 4ms/step\n"
     ]
    },
    {
     "data": {
      "text/html": [
       "<div>\n",
       "<style scoped>\n",
       "    .dataframe tbody tr th:only-of-type {\n",
       "        vertical-align: middle;\n",
       "    }\n",
       "\n",
       "    .dataframe tbody tr th {\n",
       "        vertical-align: top;\n",
       "    }\n",
       "\n",
       "    .dataframe thead th {\n",
       "        text-align: right;\n",
       "    }\n",
       "</style>\n",
       "<table border=\"1\" class=\"dataframe\">\n",
       "  <thead>\n",
       "    <tr style=\"text-align: right;\">\n",
       "      <th></th>\n",
       "      <th>loss</th>\n",
       "      <th>acc</th>\n",
       "      <th>precision</th>\n",
       "      <th>recall</th>\n",
       "    </tr>\n",
       "  </thead>\n",
       "  <tbody>\n",
       "    <tr>\n",
       "      <th>FinalModel3-e04</th>\n",
       "      <td>0.584300</td>\n",
       "      <td>0.800900</td>\n",
       "      <td>0.786900</td>\n",
       "      <td>0.843600</td>\n",
       "    </tr>\n",
       "    <tr>\n",
       "      <th>FinalModel1-e08</th>\n",
       "      <td>0.696200</td>\n",
       "      <td>0.799800</td>\n",
       "      <td>0.814000</td>\n",
       "      <td>0.798100</td>\n",
       "    </tr>\n",
       "    <tr>\n",
       "      <th>ensembleModel</th>\n",
       "      <td>0.560071</td>\n",
       "      <td>0.788009</td>\n",
       "      <td>0.752668</td>\n",
       "      <td>0.881524</td>\n",
       "    </tr>\n",
       "    <tr>\n",
       "      <th>FinalModel0-e20</th>\n",
       "      <td>1.135400</td>\n",
       "      <td>0.781600</td>\n",
       "      <td>0.743600</td>\n",
       "      <td>0.875800</td>\n",
       "    </tr>\n",
       "    <tr>\n",
       "      <th>FinalModel2-e15</th>\n",
       "      <td>1.091500</td>\n",
       "      <td>0.780500</td>\n",
       "      <td>0.723500</td>\n",
       "      <td>0.934900</td>\n",
       "    </tr>\n",
       "    <tr>\n",
       "      <th>FinalModel4-e07</th>\n",
       "      <td>0.840000</td>\n",
       "      <td>0.779400</td>\n",
       "      <td>0.725400</td>\n",
       "      <td>0.920300</td>\n",
       "    </tr>\n",
       "  </tbody>\n",
       "</table>\n",
       "</div>"
      ],
      "text/plain": [
       "                     loss       acc  precision    recall\n",
       "FinalModel3-e04  0.584300  0.800900   0.786900  0.843600\n",
       "FinalModel1-e08  0.696200  0.799800   0.814000  0.798100\n",
       "ensembleModel    0.560071  0.788009   0.752668  0.881524\n",
       "FinalModel0-e20  1.135400  0.781600   0.743600  0.875800\n",
       "FinalModel2-e15  1.091500  0.780500   0.723500  0.934900\n",
       "FinalModel4-e07  0.840000  0.779400   0.725400  0.920300"
      ]
     },
     "execution_count": 25,
     "metadata": {},
     "output_type": "execute_result"
    }
   ],
   "source": [
    "dictlist = FinalModelList.keys()\n",
    "print(dictlist)\n",
    "models = [FinalModelList[dictlist[0]], FinalModelList[dictlist[1]], FinalModelList[dictlist[2]], \\\n",
    "          FinalModelList[dictlist[3]], FinalModelList[dictlist[4]]]\n",
    "def ensemble(models):    \n",
    "    global eModel\n",
    "    outputs = [model.outputs[0] for model in models]\n",
    "    y = keras.layers.Average()(outputs)   \n",
    "    eModel = Model(inputs=Model_base.input, outputs = y, name='ensemble')  \n",
    "    eModel.compile(optimizer='rmsprop', loss='binary_crossentropy',\n",
    "                   metrics=['accuracy', precision, recall, fmeasure])\n",
    "    return eModel\n",
    "ensemble_model = ensemble(models)\n",
    "ensResults = ensemble_model.evaluate(test_images, test_labels)\n",
    "Res = pd.DataFrame(data = ensResults[:4], columns = ['ensembleModel'], index = metrics)\n",
    "Res.transpose()\n",
    "keys = d3.keys()\n",
    "FinalResults = pd.concat([d3[keys[0]], d3[keys[1]], d3[keys[2]], d3[keys[3]], d3[keys[4]], Res], axis=1)\n",
    "FinalResults = pd.DataFrame(data = FinalResults.transpose(), columns = metrics)\n",
    "FinalResults.sort_values(by = ['acc'], ascending = False)"
   ]
  },
  {
   "cell_type": "code",
   "execution_count": 27,
   "metadata": {},
   "outputs": [
    {
     "name": "stdout",
     "output_type": "stream",
     "text": [
      "DenseNet121_bs-64_triangular_sz-315_blr-1e-05_mlr-0.0009_e-48_imagenet_Frozen_3-e04\n"
     ]
    }
   ],
   "source": [
    "# change again the path name\n",
    "# saving the model   \n",
    "i = 3\n",
    "#FinName = str(filepath)[46:112] + '_ensemble' \n",
    "FinName = str(filepath)[46:last] + str(i) + dictlist[i][-4:]\n",
    "print(FinName)\n",
    "os.chdir(model_dir)\n",
    "#Final_model1 = ensemble_model # or\n",
    "Final_model = FinalModelList[dictlist[i]]\n",
    "# predictions = np.round(Final_model.predict(test_images),4)           \n",
    "# predictions_ensemble = np.round(Final_model1.predict(test_images),4)\n",
    "# for v1, v2 in zip(predictions[:5], predictions_ensemble[:5]):\n",
    "#     print('Best model prediction and ensemble prediction: \\t{} \\t{}'.format(v1, v2))"
   ]
  },
  {
   "cell_type": "code",
   "execution_count": 28,
   "metadata": {
    "collapsed": true
   },
   "outputs": [],
   "source": [
    "Final_model.save(FinName)"
   ]
  },
  {
   "cell_type": "code",
   "execution_count": null,
   "metadata": {
    "collapsed": true
   },
   "outputs": [],
   "source": [
    "# calculating the ROC    \n",
    "y_pred = Final_model.predict(test_images, batch_size = 64)\n",
    "y_true = test_labels\n",
    "fpr, tpr, thresholds = roc_curve(y_true, y_pred, pos_label = 1)\n",
    "roc_auc = auc(fpr, tpr)\n",
    "plt.figure()\n",
    "plt.plot(fpr, tpr, color='lime',\n",
    "         lw=2, label='ROC curve (area = %0.2f)' % roc_auc)\n",
    "plt.plot([0, 1], [0, 1], color='darkgrey', lw=2, linestyle='--')\n",
    "plt.xlim([-0.05, 1.0])\n",
    "plt.ylim([0.0, 1.05])\n",
    "plt.xlabel('False Positive Rate')\n",
    "plt.ylabel('True Positive Rate')\n",
    "plt.title('Receiver operating characteristic Curve')\n",
    "plt.legend(loc=\"lower right\")\n",
    "plt.show()"
   ]
  },
  {
   "cell_type": "code",
   "execution_count": null,
   "metadata": {
    "collapsed": true
   },
   "outputs": [],
   "source": [
    "# calculating the ROC    \n",
    "y_pred = Final_model.predict(test_images, batch_size = 64)\n",
    "y_true = test_labels\n",
    "fpr, tpr, thresholds = roc_curve(y_true, y_pred, pos_label = 1)\n",
    "roc_auc = auc(fpr, tpr)\n",
    "plt.figure()\n",
    "plt.plot(fpr, tpr, color='lime',\n",
    "         lw=2, label='ROC curve (area = %0.2f)' % roc_auc)\n",
    "plt.plot([0, 1], [0, 1], color='darkgrey', lw=2, linestyle='--')\n",
    "plt.xlim([-0.05, 1.0])\n",
    "plt.ylim([0.0, 1.05])\n",
    "plt.xlabel('False Positive Rate')\n",
    "plt.ylabel('True Positive Rate')\n",
    "plt.title('Receiver operating characteristic Curve')\n",
    "plt.legend(loc=\"lower right\")\n",
    "plt.show()\n",
    "\n",
    "# evaluation with bootstrapping\n",
    "seed(1)\n",
    "ratio = 0.1\n",
    "y_pred_1 = Final_model.predict(test_images, batch_size = 64).squeeze(axis = 1)\n",
    "def subsample(dataset = y_pred_1, labels = test_labels, ratio= ratio):\n",
    "    pred_sample = list()\n",
    "    label_sample = list()\n",
    "    n_sample = round(len(dataset) * ratio)\n",
    "    index = sample(range(len(dataset)), n_sample)\n",
    "    pred_sample = dataset[index]\n",
    "    label_sample = labels[index]           \n",
    "    return pred_sample, label_sample\n",
    "\n",
    "loss = []\n",
    "accuracy = []\n",
    "precisions = []\n",
    "recalls = []\n",
    "f_measures = []\n",
    "    \n",
    "def bootstrap(iterations = 20, ratio = ratio, dataset = y_pred_1, labels = test_labels):    \n",
    "    for i in range (iterations):\n",
    "        b_pred, b_labels = subsample(dataset, labels, ratio)\n",
    "        lo = cross_entropy(b_pred, b_labels)\n",
    "        b_pred_rounded = b_pred.round()\n",
    "        acc = accuracy_score(b_labels, b_pred_rounded)\n",
    "        pre = precision_score(b_labels, b_pred_rounded)\n",
    "        rec = recall_score(b_labels, b_pred_rounded)\n",
    "        fme = f1_score(b_labels, b_pred_rounded)\n",
    "        loss.append(lo)\n",
    "        accuracy.append(acc)\n",
    "        precisions.append(pre)\n",
    "        recalls.append(rec)\n",
    "        f_measures.append(fme)\n",
    "        if (i%100 == 0): \n",
    "            print('Iteration_' + str(i))\n",
    "        \n",
    "bootstrap(iterations = 10000)\n",
    "plt.hist(accuracy, bins = 100, range = [0,1])\n",
    "plt.hist(precisions, bins = 100, range = [0,1])\n",
    "plt.hist(recalls, bins = 100, range = [0,1])\n",
    "plt.hist(loss, bins = 100)\n",
    "\n",
    "##################### second training stage ###################################\n",
    "for i, layer in enumerate(Model_base.layers):\n",
    "   if ('mix' in layer.name):\n",
    "       print(i, layer.name)\n",
    "for layer in Final_model.layers[:275]:\n",
    "   layer.trainable = False\n",
    "for layer in Final_model.layers[275:]:\n",
    "   layer.trainable = True\n",
    "\n",
    "Final_model.compile(optimizer=SGD(lr=0.0001, momentum=0.9), \n",
    "              loss='binary_crossentropy', metrics = ['acc'])\n",
    "def train2_IncResNet_model(epochs = 21):\n",
    "    global no_of_epochs\n",
    "    Final_model.fit(x = train_images, y = train_labels, epochs = epochs)\n",
    "    no_of_epochs = no_of_epochs + epochs\n",
    "train2_IncResNet_model(epochs = 21)\n",
    "\n",
    "result = Final_model.evaluate(test_images, test_labels)\n",
    "for name, value in zip(Final_model.metrics_names, result):\n",
    "    print(name, value)\n",
    "\n",
    "### making predictions on the test data\n",
    "predictions = Final_model.predict(test_images).squeeze(axis = 1)\n",
    "binary_preds = predictions.round()\n",
    "print(predictions[0:10], binary_preds[0:10])\n",
    "\n",
    "# Plot a few images to see if the data is correct\n",
    "images = test_images[9:18]\n",
    "cls_true = test_labels[9:18].astype(int)\n",
    "plot_images(images=images, cls_true=cls_true)\n",
    "cls_pred = binary_preds[9:18]\n",
    "plot_images(images=images, cls_true=cls_true, cls_pred = cls_pred)    \n",
    "\n",
    "### checking test accuracy, example errors and confusion matrix\n",
    "print_test_accuracy\n",
    "\n",
    "### checking which layers are convolutional layers\n",
    "for i, layer in enumerate(Model_base.layers):\n",
    "   if ('conv' in layer.name):\n",
    "       print(i, layer.name)\n",
    "\n",
    "plot_weights(input_channel = 0, layer_index = 1)\n",
    "plot_weights(input_channel = 1, layer_index = 1)\n",
    "\n",
    "\n",
    "\n",
    "\n",
    "\n",
    "\n",
    "\n",
    "\n",
    "\n",
    "\n",
    "\n",
    "\n",
    "\n",
    "\n",
    "\n",
    "\n",
    "\n",
    "\n",
    "#*****************************************************************************\n",
    "################# HELPER FUNCTIONS ###########################################\n",
    "#\n",
    "#*****************************************************************************\n",
    "\n",
    "### Helper function for confusion matrix #####################################\n",
    "import itertools\n",
    "classes = ['no sp', 'sp']\n",
    "\n",
    "def plot_confusion_matrix(cm = cm, classes = classes,\n",
    "                          normalize=False,\n",
    "                          title='Confusion matrix',\n",
    "                          cmap=plt.cm.Blues):\n",
    "    \"\"\"\n",
    "    This function prints and plots the confusion matrix.\n",
    "    Normalization can be applied by setting `normalize=True`.\n",
    "    \"\"\"\n",
    "    if normalize:\n",
    "        cm = cm.astype('float') / cm.sum()\n",
    "        print(\"Normalized confusion matrix\")\n",
    "    else:\n",
    "        print('Confusion matrix, without normalization')\n",
    "    print(cm)\n",
    "    plt.imshow(cm, interpolation='nearest', cmap=cmap)\n",
    "    plt.title(title)\n",
    "    plt.colorbar()\n",
    "    tick_marks = np.arange(len(classes))\n",
    "    plt.xticks(tick_marks, classes)\n",
    "    plt.yticks(tick_marks, classes)\n",
    "    fmt = '.2f' if normalize else 'd'\n",
    "    thresh = cm.max() / 2.\n",
    "    for i, j in itertools.product(range(cm.shape[0]), range(cm.shape[1])):\n",
    "        plt.text(j, i, format(cm[i, j], fmt),\n",
    "                 horizontalalignment=\"center\",\n",
    "                 color=\"white\" if cm[i, j] > thresh else \"black\")     \n",
    "    plt.tight_layout(pad = 2)\n",
    "    plt.ylabel('True label')\n",
    "    plt.xlabel('Predicted label')\n",
    "\n",
    "\n",
    "###### Helper function for plotting images ####################################\n",
    "def plot_images(images, cls_true, cls_pred=None):\n",
    "    assert len(images) == len(cls_true) == 9\n",
    "    # Create figure with 3x3 sub-plots.\n",
    "    fig, axes = plt.subplots(3, 3)\n",
    "    fig.subplots_adjust(hspace=0.3, wspace=0.3)\n",
    "    for i, ax in enumerate(axes.flat):\n",
    "        ax.imshow(images[i], cmap='binary')\n",
    "        if cls_pred is None:\n",
    "            xlabel = \"Label: {0}\".format(cls_true[i])\n",
    "        else:\n",
    "            xlabel = \"Label: {0}, Pred: {1}\".format(cls_true[i], cls_pred[i])\n",
    "        # Show the classes as the label on the x-axis.\n",
    "        ax.set_xlabel(xlabel)\n",
    "        ax.set_xticks([])\n",
    "        ax.set_yticks([])\n",
    "    plt.show() \n",
    "    \n",
    "### Example errors\n",
    "def plot_example_errors(cls_pred, correct):\n",
    "    incorrect = (correct == False)\n",
    "    images = test_images[incorrect]\n",
    "    cls_pred = cls_pred[incorrect]\n",
    "    cls_true = test_labels[incorrect]\n",
    "    plot_images(images=images[0:9],\n",
    "                cls_true=cls_true[0:9],\n",
    "                cls_pred=cls_pred[0:9])\n",
    "\n",
    "def print_test_accuracy(show_example_errors=True,\n",
    "                        show_confusion_matrix=True, \n",
    "                        show_first_10_preds = True):\n",
    "    num_test = len(test_images)\n",
    "    #cls_pred = np.zeros(shape=num_test, dtype=np.int)\n",
    "    cls_pred = Final_model.predict(test_images).squeeze(axis = 1).round()\n",
    "    cls_true = test_labels\n",
    "    correct = (cls_true == cls_pred)\n",
    "    correct_sum = correct.sum()\n",
    "    acc = float(correct_sum) / num_test\n",
    "    msg = \"Accuracy on Test-Set: {0:.1%} ({1} / {2})\"\n",
    "    print(msg.format(acc, correct_sum, num_test))\n",
    "    # Plot some examples of mis-classifications, if desired.\n",
    "    if show_example_errors:\n",
    "        print(\"Example errors:\")\n",
    "        plot_example_errors(cls_pred=cls_pred, correct=correct)\n",
    "    # Plot the confusion matrix, if desired.\n",
    "    if show_confusion_matrix:\n",
    "        print(\"Confusion Matrix:\")\n",
    "        cm = confusion_matrix(test_labels, cls_pred.round())\n",
    "        plot_confusion_matrix(cm = cm)\n",
    "    # Show the first hundred predictions made:\n",
    "    if show_first_10_preds:\n",
    "        print(\"First 10 predictions:\")\n",
    "        print(cls_pred[0:10])\n",
    "\n",
    "\n",
    "#### Helper function for plotting the output of a convolutional layer\n",
    "#def plot_conv_layer(layer, image):\n",
    "#    feed_dict = {x: [image]}\n",
    "#    values = IncResNet_model.run(layer, feed_dict=feed_dict)\n",
    "#    num_filters = values.shape[3]\n",
    "#    num_grids = math.ceil(math.sqrt(num_filters))\n",
    "#    fig, axes = plt.subplots(num_grids, num_grids)\n",
    "#    for i, ax in enumerate(axes.flat):\n",
    "#        if i<num_filters:\n",
    "#            img = values[0, :, :, i]\n",
    "#            ax.imshow(img, interpolation='nearest', cmap='binary')\n",
    "#        ax.set_xticks([])\n",
    "#        ax.set_yticks([])\n",
    "#    plt.show()\n",
    "\n",
    "### Helper function for conv weights\n",
    "def plot_weights(input_channel=0, layer_index = 1):\n",
    "    w = Final_model.layers[layer_index].get_weights()[0]\n",
    "    w_min = np.min(w)\n",
    "    w_max = np.max(w)\n",
    "    num_filters = w.shape[3]\n",
    "    num_grids = math.ceil(math.sqrt(num_filters))\n",
    "    fig, axes = plt.subplots(num_grids, num_grids)\n",
    "    for i, ax in enumerate(axes.flat):\n",
    "        if i<num_filters:\n",
    "            img = w[:, :, input_channel, i]\n",
    "            ax.imshow(img, vmin=w_min, vmax=w_max,\n",
    "                      interpolation='nearest', cmap='seismic')\n",
    "        ax.set_xticks([])\n",
    "        ax.set_yticks([])\n",
    "    plt.show()"
   ]
  }
 ],
 "metadata": {
  "kernelspec": {
   "display_name": "Python 3",
   "language": "python",
   "name": "python3"
  },
  "language_info": {
   "codemirror_mode": {
    "name": "ipython",
    "version": 3
   },
   "file_extension": ".py",
   "mimetype": "text/x-python",
   "name": "python",
   "nbconvert_exporter": "python",
   "pygments_lexer": "ipython3",
   "version": "3.6.5"
  }
 },
 "nbformat": 4,
 "nbformat_minor": 2
}
