{
 "cells": [
  {
   "cell_type": "code",
   "execution_count": 1,
   "metadata": {},
   "outputs": [],
   "source": [
    "from __future__ import absolute_import\n",
    "from __future__ import division\n",
    "from __future__ import print_function\n",
    "\n",
    "### setting the different directories \n",
    "\n",
    "# on the server (linux):\n",
    "# where to find the images:\n",
    "home_dir = '/home/rick/Documents/HannahZ'\n",
    "# folder where to save code and so on\n",
    "code_dir = home_dir + '/Code'\n",
    "# where to save the final models\n",
    "model_dir = code_dir + '/Final_models'\n",
    "# where to save the logs for visualization in TensorBoard\n",
    "log_dir = code_dir + '/logs'\n",
    "# where to save the weights\n",
    "new_weight_dir = code_dir + '/new_weights'\n",
    "\n",
    "\n",
    "# on my computer (windows):\n",
    "# where to find the images:\n",
    "#home_dir = '\\\\Users\\\\ThinkPad User\\\\Google Drive\\\\DeepSolaris'\n",
    "# folder where to save code and so on\n",
    "#code_dir = '\\\\Users\\\\ThinkPad User\\\\Google Drive\\\\Master_thesis_H_Z_DL&NN\\\\Coding'\n",
    "# where to save the final models\n",
    "#model_dir = code_dir + '\\\\Final_models_saved'\n",
    "# where to save the logs for visualization in TensorBoard\n",
    "#log_dir = code_dir + '\\\\logs'\n",
    "import os\n",
    "os.chdir(home_dir)"
   ]
  },
  {
   "cell_type": "code",
   "execution_count": 2,
   "metadata": {},
   "outputs": [],
   "source": [
    "modelname = 'DenseNet121'"
   ]
  },
  {
   "cell_type": "code",
   "execution_count": 7,
   "metadata": {},
   "outputs": [],
   "source": [
    "from keras import backend as K\n",
    "from keras.models import Model\n",
    "from keras.layers import Activation\n",
    "from keras.layers import AveragePooling2D\n",
    "from keras.layers import BatchNormalization\n",
    "from keras.layers import Concatenate\n",
    "from keras.layers import Conv2D\n",
    "from keras.layers import Dense\n",
    "from keras.layers import GlobalAveragePooling2D\n",
    "from keras.layers import GlobalMaxPooling2D\n",
    "from keras.layers import Input\n",
    "from keras.layers import MaxPooling2D\n",
    "from keras.layers import ZeroPadding2D\n",
    "from keras.utils.data_utils import get_file\n",
    "from keras.engine import get_source_inputs\n",
    "from keras.applications import imagenet_utils\n",
    "from keras.applications.imagenet_utils import decode_predictions\n",
    "from keras.applications.imagenet_utils import _obtain_input_shape \n",
    "\n",
    "from sklearn.model_selection import cross_validate\n",
    "from sklearn.metrics import roc_curve\n",
    "from sklearn.metrics import auc\n",
    "from sklearn.metrics import precision_score\n",
    "from sklearn.metrics import recall_score\n",
    "from sklearn.metrics import f1_score\n",
    "from keras.losses import binary_crossentropy\n",
    "\n",
    "\n",
    "from random import randrange\n",
    "from random import seed\n",
    "from random import sample\n",
    "import tensorflow as tf\n",
    "\n",
    "\n",
    "import itertools\n",
    "import matplotlib.pyplot as plt\n",
    "import numpy as np\n",
    "import pandas as pd\n",
    "from time import time\n",
    "from datetime import timedelta\n",
    "import math\n",
    "from sklearn.model_selection import train_test_split\n",
    "from datetime import datetime\n",
    "from keras.preprocessing import image\n",
    "from keras.optimizers import SGD\n",
    "from sklearn.metrics import accuracy_score\n",
    "from sklearn.metrics import confusion_matrix\n",
    "from keras.models import load_model\n",
    "from keras.callbacks import TensorBoard\n",
    "from keras.callbacks import EarlyStopping\n",
    "from keras.callbacks import ModelCheckpoint\n",
    "import keras\n",
    "from keras.callbacks import Callback\n",
    "\n",
    "\n",
    "os.chdir(code_dir)\n",
    "\n",
    "from Learning_rate_scheduler import LrReducer\n",
    "from CyclicLR import CyclicLR\n",
    "from DenseNet_pretrained import DenseNet121"
   ]
  },
  {
   "cell_type": "code",
   "execution_count": 8,
   "metadata": {},
   "outputs": [],
   "source": [
    "seed(0)"
   ]
  },
  {
   "cell_type": "code",
   "execution_count": 9,
   "metadata": {},
   "outputs": [
    {
     "name": "stdout",
     "output_type": "stream",
     "text": [
      "Size of:\n",
      "- Training-set:\t\t3357\n",
      "- Validation-set:\t374\n",
      "- Test-set:\t\t934\n"
     ]
    }
   ],
   "source": [
    "### Helper metrics functions\n",
    "\n",
    "def precision(y_true, y_pred):\n",
    "    true_positives = K.sum(K.round(K.clip(y_true * y_pred, 0, 1)))\n",
    "    predicted_positives = K.sum(K.round(K.clip(y_pred, 0, 1)))\n",
    "    precision = true_positives / (predicted_positives + K.epsilon())\n",
    "    return precision\n",
    "    \n",
    "def recall(y_true, y_pred):\n",
    "    true_positives = K.sum(K.round(K.clip(y_true * y_pred, 0, 1)))\n",
    "    possible_positives = K.sum(K.round(K.clip(y_true, 0, 1)))\n",
    "    recall = true_positives / (possible_positives + K.epsilon())\n",
    "    return recall\n",
    "    \n",
    "    \n",
    "def fbeta_score(y_true, y_pred, beta=1):\n",
    "    if beta < 0:\n",
    "        raise ValueError('The lowest choosable beta is zero (only precision).')\n",
    "    # If there are no true positives, fix the F score at 0 like sklearn.\n",
    "    if K.sum(K.round(K.clip(y_true, 0, 1))) == 0:\n",
    "        return 0\n",
    "    p = precision(y_true, y_pred)\n",
    "    r = recall(y_true, y_pred)\n",
    "    bb = beta ** 2\n",
    "    fbeta_score = (1 + bb) * (p * r) / (bb * p + r + K.epsilon())\n",
    "    return fbeta_score\n",
    "def fmeasure(y_true, y_pred):\n",
    "    return fbeta_score(y_true, y_pred, beta=1)\n",
    "\n",
    "no_of_epochs = 0\n",
    "\n",
    "### check if data are in the right format\n",
    "K.image_data_format() == 'channels_last'\n",
    "\n",
    "os.chdir(home_dir)\n",
    "train_images = np.load('training_images_AcMüDüHo.npy')\n",
    "valid_images = np.load('validation_images_AcMüDüHo.npy')\n",
    "test_images = np.load('test_images_AcMüDüHo.npy')\n",
    "train_labels = np.load('training_labels_AcMüDüHo.npy')\n",
    "valid_labels = np.load('validation_labels_AcMüDüHo.npy')\n",
    "test_labels = np.load('test_labels_AcMüDüHo.npy')\n",
    "\n",
    "print(\"Size of:\")\n",
    "print(\"- Training-set:\\t\\t{}\".format(len(train_labels)))\n",
    "print(\"- Validation-set:\\t{}\".format(len(valid_labels)))\n",
    "print(\"- Test-set:\\t\\t{}\".format(len(test_labels)))"
   ]
  },
  {
   "cell_type": "code",
   "execution_count": 11,
   "metadata": {},
   "outputs": [
    {
     "data": {
      "text/plain": [
       "426"
      ]
     },
     "execution_count": 11,
     "metadata": {},
     "output_type": "execute_result"
    }
   ],
   "source": [
    "# choose training specifications (None or 'imagenet')\n",
    "weights = 'imagenet'\n",
    "#tf.reset_default_graph()\n",
    "\n",
    "# importing the currently used model\n",
    "os.chdir(code_dir)\n",
    "\n",
    "### create the base pre-trained model\n",
    "# usually takes around 30 seconds\n",
    "Model_base = DenseNet121(weights = weights, include_top=False)\n",
    "# find out how many layers exist to find right number of trainable layers\n",
    "len(Model_base.layers)"
   ]
  },
  {
   "cell_type": "code",
   "execution_count": 12,
   "metadata": {},
   "outputs": [],
   "source": [
    "# choose layers for split\n",
    "# for i, layer in enumerate(Model_base.layers):\n",
    "#      if ('pool' in layer.name):\n",
    "#         print(i, layer.name)"
   ]
  },
  {
   "cell_type": "code",
   "execution_count": 13,
   "metadata": {},
   "outputs": [
    {
     "data": {
      "text/plain": [
       "419.625"
      ]
     },
     "execution_count": 13,
     "metadata": {},
     "output_type": "execute_result"
    }
   ],
   "source": [
    "# choose trainable layers as 'Frozen' or 'All' or some number\n",
    "trainable_layers = 'All'\n",
    "# otherwise trainable_layers = x\n",
    "# add a global spatial average pooling layer to the pretrained model to \n",
    "# finish its compilation\n",
    "def compileModel(trainable_layers = 'Frozen'):\n",
    "    global Final_model\n",
    "    x = Model_base.output\n",
    "    x = GlobalAveragePooling2D()(x)\n",
    "    # let's add a fully-connected layer\n",
    "    x = Dense(512, activation='relu')(x)\n",
    "    preds = Dense(1, activation='sigmoid')(x)\n",
    "    Final_model = Model(inputs=Model_base.input, outputs=preds)\n",
    "    if (trainable_layers == 'Frozen'):\n",
    "        for layer in Model_base.layers:   # only train the new layers first\n",
    "            layer.trainable = False\n",
    "    elif (trainable_layers == 'All'):\n",
    "        for layer in Model_base.layers:   # only train the new layers first\n",
    "            layer.trainable = True\n",
    "    else:\n",
    "        for layer in Model_base.layers[:trainable_layers]:\n",
    "            layer.trainable = False\n",
    "        for layer in Model_base.layers[trainable_layers:]:  \n",
    "            layer.trainable = True\n",
    "    Final_model.compile(optimizer='rmsprop', loss='binary_crossentropy', \n",
    "                            metrics=['accuracy', precision, recall, fmeasure])\n",
    "# calculating the stepsize\n",
    "(3357/64)*8"
   ]
  },
  {
   "cell_type": "code",
   "execution_count": 14,
   "metadata": {},
   "outputs": [
    {
     "name": "stdout",
     "output_type": "stream",
     "text": [
      "imagenet\n",
      "All\n"
     ]
    }
   ],
   "source": [
    "###################### first training stage ###################################\n",
    "batch_size = 64\n",
    "step_size = 420\n",
    "base_lr = 0.00001\n",
    "max_lr = 0.001\n",
    "epochs = 48\n",
    "mode = 'triangular'\n",
    "def train_Model(verbose =1, times = 2, epochs = epochs, base_lr = base_lr, max_lr= max_lr, mode = mode, \n",
    "                stepsize = step_size, batch_size = batch_size, use_tensorboard = False):\n",
    "    start_time = time()   \n",
    "    global h\n",
    "    global no_of_epochs\n",
    "    global name\n",
    "    date = str(datetime.now().date())\n",
    "    # logdir in linux:\n",
    "    logdir = (log_dir + '/' + date + '_' + str(batch_size) + '_' + str(mode) + '_si-' + str(stepsize) + '_base-' \n",
    "              + str(base_lr) + '_max-' + str(max_lr) + '_' + str(times))\n",
    "    # logdir in windows:\n",
    "    ##logdir = (log_dir + '\\\\' + date + '_' + str(batch_size) + '_' + str(mode) + '_si-' + str(stepsize) + \n",
    "    #          '_base-' + str(base_lr) + '_max-' + str(max_lr) + '_' + str(times))\n",
    "    name = ('batch size: ' + str(batch_size) + ', mode: ' + str(mode) + ', stepsize: ' \n",
    "            + str(stepsize) + ', base-lr: ' + str(base_lr) + ', max-lr ' + str(max_lr) + ', *' + str(times))\n",
    "    print(' - Model specifics:\\t{}'.format(name))\n",
    "    clr = CyclicLR(base_lr = base_lr, max_lr=max_lr,\n",
    "                        step_size= stepsize, mode = mode)\n",
    "    tbCallBack = TensorBoard(log_dir=logdir, histogram_freq=0, \n",
    "                         write_graph=False, write_images=False)\n",
    "    if (use_tensorboard == True):\n",
    "        Final_model.fit(x = train_images, y = train_labels, epochs = epochs, callbacks= [tbCallBack, clr], \n",
    "                            validation_data = (valid_images, valid_labels), batch_size = batch_size, \n",
    "                            verbose = verbose)\n",
    "    else:\n",
    "        Final_model.fit(x = train_images, y = train_labels, epochs = epochs, callbacks= [clr], \n",
    "                            validation_data = (valid_images, valid_labels), batch_size = batch_size, \n",
    "                            verbose = verbose)\n",
    "    no_of_epochs = no_of_epochs + epochs\n",
    "    h = []\n",
    "    h = clr.history\n",
    "    end_time = time()\n",
    "    time_dif = end_time - start_time\n",
    "    print('Time usage: ' + str(timedelta(seconds=int(round(time_dif)))) + ' minutes')\n",
    "print(weights)\n",
    "print(trainable_layers)"
   ]
  },
  {
   "cell_type": "code",
   "execution_count": 15,
   "metadata": {},
   "outputs": [
    {
     "name": "stdout",
     "output_type": "stream",
     "text": [
      " - Model specifics:\tbatch size: 64, mode: triangular, stepsize: 420, base-lr: 1e-05, max-lr 0.001, *5\n",
      "Time usage: 0:02:35 minutes\n",
      "3357/3357 [==============================] - 3s 961us/step\n",
      "374/374 [==============================] - 1s 2ms/step\n",
      "934/934 [==============================] - 1s 1ms/step\n",
      "- Training accuracy:\t0.8058\n",
      "- Validation accuracy:\t0.7674\n",
      "- Test accuracy:\t0.7655\n"
     ]
    },
    {
     "data": {
      "text/plain": [
       "[<matplotlib.lines.Line2D at 0x7f651d5b4490>]"
      ]
     },
     "execution_count": 15,
     "metadata": {},
     "output_type": "execute_result"
    },
    {
     "data": {
      "image/png": "[encoded data removed]",
      "text/plain": [
       "<matplotlib.figure.Figure at 0x7f681ba63050>"
      ]
     },
     "metadata": {},
     "output_type": "display_data"
    }
   ],
   "source": [
    "compileModel()\n",
    "train_Model(times = 5, use_tensorboard = True, verbose = 0)\n",
    "train_acc = round(Final_model.evaluate(train_images, train_labels, 128)[1],4)\n",
    "valid_acc = round(Final_model.evaluate(valid_images, valid_labels, 128)[1],4)\n",
    "test_acc = round(Final_model.evaluate(test_images, test_labels, 128)[1],4)\n",
    "\n",
    "print(\"- Training accuracy:\\t{}\".format(train_acc))\n",
    "print(\"- Validation accuracy:\\t{}\".format(valid_acc))\n",
    "print(\"- Test accuracy:\\t{}\".format(test_acc))\n",
    "\n",
    "%matplotlib inline\n",
    "lr = h['lr'][:step_size]\n",
    "acc = h['acc'][:step_size]\n",
    "plt.plot(lr, acc)"
   ]
  },
  {
   "cell_type": "code",
   "execution_count": 16,
   "metadata": {},
   "outputs": [],
   "source": [
    "### choose your learning rates now! The one where the accuracy starts to rise as base_lr and the one where it stops\n",
    "### growing/ starts to tumble as max_lr\n",
    "baseLRS = [0.000001, 0.00001, 0.00005]\n",
    "maxLRS = [0.0003, 0.0005, 0.0007]"
   ]
  },
  {
   "cell_type": "code",
   "execution_count": 17,
   "metadata": {},
   "outputs": [],
   "source": [
    "# experiment with different learning rate ranges\n",
    "def learning_rate_finder(rep = 5, baseLRS = baseLRS, maxLRS = maxLRS):\n",
    "    start_time = time() \n",
    "    global test_acc_list\n",
    "    global valid_acc_list\n",
    "    global train_acc_list\n",
    "    global test_loss_list\n",
    "    global valid_loss_list\n",
    "    global train_loss_list\n",
    "    global test_prec_list\n",
    "    global valid_prec_list\n",
    "    global train_prec_list\n",
    "    global test_rec_list\n",
    "    global valid_rec_list\n",
    "    global train_rec_list\n",
    "    global model_details\n",
    "    model_details = []\n",
    "    test_acc_list = []\n",
    "    valid_acc_list = []\n",
    "    train_acc_list = []\n",
    "    test_loss_list = []\n",
    "    valid_loss_list = []\n",
    "    train_loss_list = []\n",
    "    test_prec_list = []\n",
    "    valid_prec_list = []\n",
    "    train_prec_list = []\n",
    "    test_rec_list = []\n",
    "    valid_rec_list = []\n",
    "    train_rec_list = []\n",
    "    for blr in baseLRS:\n",
    "        print('NEXT LEARNINGRATE: {}'.format(blr))\n",
    "        for mlr in maxLRS:\n",
    "            print('Models with base lr = ' + str(blr) + ' and max lr = ' + str(mlr))\n",
    "            for i in range(rep):\n",
    "                    compileModel()\n",
    "                    times = i\n",
    "                    if (i == 0):\n",
    "                        train_Model(times = times, epochs = epochs, base_lr = blr, max_lr = mlr, verbose = 0, \n",
    "                                    use_tensorboard = True)\n",
    "                    else:\n",
    "                        train_Model(times = times, epochs = epochs, base_lr = blr, max_lr = mlr, verbose = 0)\n",
    "                    train_metrics = Final_model.evaluate(train_images, train_labels)\n",
    "                    valid_metrics = Final_model.evaluate(valid_images, valid_labels)\n",
    "                    test_metrics = Final_model.evaluate(test_images, test_labels)\n",
    "                    train_acc = train_metrics[1]\n",
    "                    valid_acc = valid_metrics[1]\n",
    "                    test_acc = test_metrics[1]\n",
    "                    train_loss = train_metrics[0]\n",
    "                    valid_loss = valid_metrics[0]\n",
    "                    test_loss = test_metrics[0]\n",
    "                    train_prec = train_metrics[2]\n",
    "                    valid_prec = valid_metrics[2]\n",
    "                    test_prec = test_metrics[2]\n",
    "                    train_rec = train_metrics[3]\n",
    "                    valid_rec = valid_metrics[3]\n",
    "                    test_rec = test_metrics[3]                                \n",
    "                    test_acc_list.append(test_acc)\n",
    "                    valid_acc_list.append(valid_acc)\n",
    "                    train_acc_list.append(train_acc)\n",
    "                    test_loss_list.append(test_loss)\n",
    "                    valid_loss_list.append(valid_loss)\n",
    "                    train_loss_list.append(train_loss)\n",
    "                    test_prec_list.append(test_prec)\n",
    "                    valid_prec_list.append(valid_prec)\n",
    "                    train_prec_list.append(train_prec)\n",
    "                    test_rec_list.append(test_rec)\n",
    "                    valid_rec_list.append(valid_rec)\n",
    "                    train_rec_list.append(train_rec)\n",
    "                    model_details.append(name)\n",
    "            print(\"- Training accuracies:\\t{}\".format([round(el,4) for el in train_acc_list]))\n",
    "            print(\"- Validation accuracies:\\t{}\".format([round(el,4) for el in valid_acc_list]))\n",
    "            print(\"- Testing accuracies:\\t{}\".format([round(el,4) for el in test_acc_list]))\n",
    "            print('')\n",
    "            print('')\n",
    "    end_time = time()\n",
    "    time_dif = end_time - start_time\n",
    "    print('Time usage: ' + str(timedelta(seconds=int(round(time_dif)))) + ' minutes')        "
   ]
  },
  {
   "cell_type": "code",
   "execution_count": 18,
   "metadata": {},
   "outputs": [
    {
     "name": "stdout",
     "output_type": "stream",
     "text": [
      "NEXT LEARNINGRATE: 1e-06\n",
      "Models with base lr = 1e-06 and max lr = 0.0003\n",
      " - Model specifics:\tbatch size: 64, mode: triangular, stepsize: 420, base-lr: 1e-06, max-lr 0.0003, *0\n",
      "Time usage: 0:02:32 minutes\n",
      "3357/3357 [==============================] - 4s 1ms/step\n",
      "374/374 [==============================] - 1s 2ms/step\n",
      "934/934 [==============================] - 1s 1ms/step\n",
      " - Model specifics:\tbatch size: 64, mode: triangular, stepsize: 420, base-lr: 1e-06, max-lr 0.0003, *1\n",
      "Time usage: 0:02:34 minutes\n",
      "3357/3357 [==============================] - 4s 1ms/step\n",
      "374/374 [==============================] - 0s 1ms/step\n",
      "934/934 [==============================] - 1s 1ms/step\n",
      " - Model specifics:\tbatch size: 64, mode: triangular, stepsize: 420, base-lr: 1e-06, max-lr 0.0003, *2\n",
      "Time usage: 0:02:32 minutes\n",
      "3357/3357 [==============================] - 4s 1ms/step\n",
      "374/374 [==============================] - 0s 1ms/step\n",
      "934/934 [==============================] - 1s 1ms/step\n",
      " - Model specifics:\tbatch size: 64, mode: triangular, stepsize: 420, base-lr: 1e-06, max-lr 0.0003, *3\n",
      "Time usage: 0:02:33 minutes\n",
      "3357/3357 [==============================] - 4s 1ms/step\n",
      "374/374 [==============================] - 0s 1ms/step\n",
      "934/934 [==============================] - 1s 1ms/step\n",
      " - Model specifics:\tbatch size: 64, mode: triangular, stepsize: 420, base-lr: 1e-06, max-lr 0.0003, *4\n",
      "Time usage: 0:02:32 minutes\n",
      "3357/3357 [==============================] - 4s 1ms/step\n",
      "374/374 [==============================] - 0s 1ms/step\n",
      "934/934 [==============================] - 1s 1ms/step\n",
      "- Training accuracies:\t[0.7766, 0.7882, 0.7959, 0.7918, 0.8028]\n",
      "- Validation accuracies:\t[0.738, 0.7594, 0.7487, 0.746, 0.7834]\n",
      "- Testing accuracies:\t[0.7355, 0.7463, 0.7398, 0.7559, 0.7591]\n",
      "\n",
      "\n",
      "Models with base lr = 1e-06 and max lr = 0.0005\n",
      " - Model specifics:\tbatch size: 64, mode: triangular, stepsize: 420, base-lr: 1e-06, max-lr 0.0005, *0\n",
      "Time usage: 0:02:36 minutes\n",
      "3357/3357 [==============================] - 4s 1ms/step\n",
      "374/374 [==============================] - 0s 1ms/step\n",
      "934/934 [==============================] - 1s 1ms/step\n",
      " - Model specifics:\tbatch size: 64, mode: triangular, stepsize: 420, base-lr: 1e-06, max-lr 0.0005, *1\n",
      "Time usage: 0:02:33 minutes\n",
      "3357/3357 [==============================] - 4s 1ms/step\n",
      "374/374 [==============================] - 0s 1ms/step\n",
      "934/934 [==============================] - 1s 1ms/step\n",
      " - Model specifics:\tbatch size: 64, mode: triangular, stepsize: 420, base-lr: 1e-06, max-lr 0.0005, *2\n",
      "Time usage: 0:02:31 minutes\n",
      "3357/3357 [==============================] - 4s 1ms/step\n",
      "374/374 [==============================] - 0s 1ms/step\n",
      "934/934 [==============================] - 1s 1ms/step\n",
      " - Model specifics:\tbatch size: 64, mode: triangular, stepsize: 420, base-lr: 1e-06, max-lr 0.0005, *3\n",
      "Time usage: 0:02:35 minutes\n",
      "3357/3357 [==============================] - 4s 1ms/step\n",
      "374/374 [==============================] - 0s 1ms/step\n",
      "934/934 [==============================] - 1s 1ms/step\n",
      " - Model specifics:\tbatch size: 64, mode: triangular, stepsize: 420, base-lr: 1e-06, max-lr 0.0005, *4\n",
      "Time usage: 0:02:37 minutes\n",
      "3357/3357 [==============================] - 4s 1ms/step\n",
      "374/374 [==============================] - 0s 1ms/step\n",
      "934/934 [==============================] - 1s 1ms/step\n",
      "- Training accuracies:\t[0.7766, 0.7882, 0.7959, 0.7918, 0.8028, 0.7754, 0.7822, 0.7682, 0.7861, 0.7924]\n",
      "- Validation accuracies:\t[0.738, 0.7594, 0.7487, 0.746, 0.7834, 0.746, 0.7567, 0.7273, 0.738, 0.7647]\n",
      "- Testing accuracies:\t[0.7355, 0.7463, 0.7398, 0.7559, 0.7591, 0.7441, 0.7484, 0.7291, 0.7409, 0.7548]\n",
      "\n",
      "\n",
      "Models with base lr = 1e-06 and max lr = 0.0007\n",
      " - Model specifics:\tbatch size: 64, mode: triangular, stepsize: 420, base-lr: 1e-06, max-lr 0.0007, *0\n",
      "Time usage: 0:02:37 minutes\n",
      "3357/3357 [==============================] - 4s 1ms/step\n",
      "374/374 [==============================] - 0s 1ms/step\n",
      "934/934 [==============================] - 1s 1ms/step\n",
      " - Model specifics:\tbatch size: 64, mode: triangular, stepsize: 420, base-lr: 1e-06, max-lr 0.0007, *1\n",
      "Time usage: 0:02:34 minutes\n",
      "3357/3357 [==============================] - 4s 1ms/step\n",
      "374/374 [==============================] - 0s 1ms/step\n",
      "934/934 [==============================] - 1s 1ms/step\n",
      " - Model specifics:\tbatch size: 64, mode: triangular, stepsize: 420, base-lr: 1e-06, max-lr 0.0007, *2\n",
      "Time usage: 0:02:36 minutes\n",
      "3357/3357 [==============================] - 4s 1ms/step\n",
      "374/374 [==============================] - 0s 1ms/step\n",
      "934/934 [==============================] - 1s 1ms/step\n",
      " - Model specifics:\tbatch size: 64, mode: triangular, stepsize: 420, base-lr: 1e-06, max-lr 0.0007, *3\n",
      "Time usage: 0:02:32 minutes\n",
      "3357/3357 [==============================] - 4s 1ms/step\n",
      "374/374 [==============================] - 0s 1ms/step\n",
      "934/934 [==============================] - 1s 1ms/step\n",
      " - Model specifics:\tbatch size: 64, mode: triangular, stepsize: 420, base-lr: 1e-06, max-lr 0.0007, *4\n",
      "Time usage: 0:02:34 minutes\n",
      "3357/3357 [==============================] - 4s 1ms/step\n",
      "374/374 [==============================] - 0s 1ms/step\n",
      "934/934 [==============================] - 1s 1ms/step\n",
      "- Training accuracies:\t[0.7766, 0.7882, 0.7959, 0.7918, 0.8028, 0.7754, 0.7822, 0.7682, 0.7861, 0.7924, 0.7855, 0.7793, 0.7784, 0.7888, 0.7864]\n",
      "- Validation accuracies:\t[0.738, 0.7594, 0.7487, 0.746, 0.7834, 0.746, 0.7567, 0.7273, 0.738, 0.7647, 0.7487, 0.738, 0.746, 0.7353, 0.7433]\n",
      "- Testing accuracies:\t[0.7355, 0.7463, 0.7398, 0.7559, 0.7591, 0.7441, 0.7484, 0.7291, 0.7409, 0.7548, 0.7441, 0.7366, 0.7355, 0.7473, 0.7345]\n",
      "\n",
      "\n",
      "NEXT LEARNINGRATE: 1e-05\n",
      "Models with base lr = 1e-05 and max lr = 0.0003\n",
      " - Model specifics:\tbatch size: 64, mode: triangular, stepsize: 420, base-lr: 1e-05, max-lr 0.0003, *0\n",
      "Time usage: 0:02:34 minutes\n",
      "3357/3357 [==============================] - 4s 1ms/step\n",
      "374/374 [==============================] - 0s 1ms/step\n",
      "934/934 [==============================] - 1s 1ms/step\n",
      " - Model specifics:\tbatch size: 64, mode: triangular, stepsize: 420, base-lr: 1e-05, max-lr 0.0003, *1\n",
      "Time usage: 0:02:33 minutes\n",
      "3357/3357 [==============================] - 4s 1ms/step\n",
      "374/374 [==============================] - 0s 1ms/step\n",
      "934/934 [==============================] - 1s 1ms/step\n",
      " - Model specifics:\tbatch size: 64, mode: triangular, stepsize: 420, base-lr: 1e-05, max-lr 0.0003, *2\n",
      "Time usage: 0:02:31 minutes\n",
      "3357/3357 [==============================] - 4s 1ms/step\n",
      "374/374 [==============================] - 0s 1ms/step\n",
      "934/934 [==============================] - 1s 1ms/step\n",
      " - Model specifics:\tbatch size: 64, mode: triangular, stepsize: 420, base-lr: 1e-05, max-lr 0.0003, *3\n",
      "Time usage: 0:02:30 minutes\n",
      "3357/3357 [==============================] - 4s 1ms/step\n",
      "374/374 [==============================] - 0s 1ms/step\n",
      "934/934 [==============================] - 1s 1ms/step\n",
      " - Model specifics:\tbatch size: 64, mode: triangular, stepsize: 420, base-lr: 1e-05, max-lr 0.0003, *4\n",
      "Time usage: 0:02:34 minutes\n",
      "3357/3357 [==============================] - 4s 1ms/step\n",
      "374/374 [==============================] - 0s 1ms/step\n",
      "934/934 [==============================] - 1s 1ms/step\n",
      "- Training accuracies:\t[0.7766, 0.7882, 0.7959, 0.7918, 0.8028, 0.7754, 0.7822, 0.7682, 0.7861, 0.7924, 0.7855, 0.7793, 0.7784, 0.7888, 0.7864, 0.787, 0.7858, 0.773, 0.776, 0.7879]\n",
      "- Validation accuracies:\t[0.738, 0.7594, 0.7487, 0.746, 0.7834, 0.746, 0.7567, 0.7273, 0.738, 0.7647, 0.7487, 0.738, 0.746, 0.7353, 0.7433, 0.7567, 0.7433, 0.7406, 0.7406, 0.7513]\n",
      "- Testing accuracies:\t[0.7355, 0.7463, 0.7398, 0.7559, 0.7591, 0.7441, 0.7484, 0.7291, 0.7409, 0.7548, 0.7441, 0.7366, 0.7355, 0.7473, 0.7345, 0.757, 0.7537, 0.742, 0.743, 0.7505]\n",
      "\n",
      "\n",
      "Models with base lr = 1e-05 and max lr = 0.0005\n",
      " - Model specifics:\tbatch size: 64, mode: triangular, stepsize: 420, base-lr: 1e-05, max-lr 0.0005, *0\n",
      "Time usage: 0:02:32 minutes\n",
      "3357/3357 [==============================] - 4s 1ms/step\n",
      "374/374 [==============================] - 0s 1ms/step\n",
      "934/934 [==============================] - 1s 1ms/step\n",
      " - Model specifics:\tbatch size: 64, mode: triangular, stepsize: 420, base-lr: 1e-05, max-lr 0.0005, *1\n",
      "Time usage: 0:02:31 minutes\n"
     ]
    },
    {
     "name": "stdout",
     "output_type": "stream",
     "text": [
      "3357/3357 [==============================] - 4s 1ms/step\n",
      "374/374 [==============================] - 0s 1ms/step\n",
      "934/934 [==============================] - 1s 1ms/step\n",
      " - Model specifics:\tbatch size: 64, mode: triangular, stepsize: 420, base-lr: 1e-05, max-lr 0.0005, *2\n",
      "Time usage: 0:02:32 minutes\n",
      "3357/3357 [==============================] - 4s 1ms/step\n",
      "374/374 [==============================] - 0s 1ms/step\n",
      "934/934 [==============================] - 1s 1ms/step\n",
      " - Model specifics:\tbatch size: 64, mode: triangular, stepsize: 420, base-lr: 1e-05, max-lr 0.0005, *3\n",
      "Time usage: 0:02:32 minutes\n",
      "3357/3357 [==============================] - 4s 1ms/step\n",
      "374/374 [==============================] - 0s 1ms/step\n",
      "934/934 [==============================] - 1s 1ms/step\n",
      " - Model specifics:\tbatch size: 64, mode: triangular, stepsize: 420, base-lr: 1e-05, max-lr 0.0005, *4\n",
      "Time usage: 0:02:37 minutes\n",
      "3357/3357 [==============================] - 4s 1ms/step\n",
      "374/374 [==============================] - 0s 1ms/step\n",
      "934/934 [==============================] - 1s 1ms/step\n",
      "- Training accuracies:\t[0.7766, 0.7882, 0.7959, 0.7918, 0.8028, 0.7754, 0.7822, 0.7682, 0.7861, 0.7924, 0.7855, 0.7793, 0.7784, 0.7888, 0.7864, 0.787, 0.7858, 0.773, 0.776, 0.7879, 0.7739, 0.7808, 0.7822, 0.7825, 0.7742]\n",
      "- Validation accuracies:\t[0.738, 0.7594, 0.7487, 0.746, 0.7834, 0.746, 0.7567, 0.7273, 0.738, 0.7647, 0.7487, 0.738, 0.746, 0.7353, 0.7433, 0.7567, 0.7433, 0.7406, 0.7406, 0.7513, 0.7353, 0.738, 0.754, 0.7487, 0.746]\n",
      "- Testing accuracies:\t[0.7355, 0.7463, 0.7398, 0.7559, 0.7591, 0.7441, 0.7484, 0.7291, 0.7409, 0.7548, 0.7441, 0.7366, 0.7355, 0.7473, 0.7345, 0.757, 0.7537, 0.742, 0.743, 0.7505, 0.742, 0.7441, 0.7388, 0.7355, 0.7355]\n",
      "\n",
      "\n",
      "Models with base lr = 1e-05 and max lr = 0.0007\n",
      " - Model specifics:\tbatch size: 64, mode: triangular, stepsize: 420, base-lr: 1e-05, max-lr 0.0007, *0\n",
      "Time usage: 0:02:39 minutes\n",
      "3357/3357 [==============================] - 4s 1ms/step\n",
      "374/374 [==============================] - 0s 1ms/step\n",
      "934/934 [==============================] - 1s 1ms/step\n",
      " - Model specifics:\tbatch size: 64, mode: triangular, stepsize: 420, base-lr: 1e-05, max-lr 0.0007, *1\n",
      "Time usage: 0:02:35 minutes\n",
      "3357/3357 [==============================] - 4s 1ms/step\n",
      "374/374 [==============================] - 0s 1ms/step\n",
      "934/934 [==============================] - 1s 1ms/step\n",
      " - Model specifics:\tbatch size: 64, mode: triangular, stepsize: 420, base-lr: 1e-05, max-lr 0.0007, *2\n",
      "Time usage: 0:02:35 minutes\n",
      "3357/3357 [==============================] - 4s 1ms/step\n",
      "374/374 [==============================] - 0s 1ms/step\n",
      "934/934 [==============================] - 1s 1ms/step\n",
      " - Model specifics:\tbatch size: 64, mode: triangular, stepsize: 420, base-lr: 1e-05, max-lr 0.0007, *3\n",
      "Time usage: 0:02:38 minutes\n",
      "3357/3357 [==============================] - 4s 1ms/step\n",
      "374/374 [==============================] - 0s 1ms/step\n",
      "934/934 [==============================] - 1s 1ms/step\n",
      " - Model specifics:\tbatch size: 64, mode: triangular, stepsize: 420, base-lr: 1e-05, max-lr 0.0007, *4\n",
      "Time usage: 0:02:37 minutes\n",
      "3357/3357 [==============================] - 4s 1ms/step\n",
      "374/374 [==============================] - 0s 1ms/step\n",
      "934/934 [==============================] - 1s 1ms/step\n",
      "- Training accuracies:\t[0.7766, 0.7882, 0.7959, 0.7918, 0.8028, 0.7754, 0.7822, 0.7682, 0.7861, 0.7924, 0.7855, 0.7793, 0.7784, 0.7888, 0.7864, 0.787, 0.7858, 0.773, 0.776, 0.7879, 0.7739, 0.7808, 0.7822, 0.7825, 0.7742, 0.7843, 0.7861, 0.7718, 0.7721, 0.7706]\n",
      "- Validation accuracies:\t[0.738, 0.7594, 0.7487, 0.746, 0.7834, 0.746, 0.7567, 0.7273, 0.738, 0.7647, 0.7487, 0.738, 0.746, 0.7353, 0.7433, 0.7567, 0.7433, 0.7406, 0.7406, 0.7513, 0.7353, 0.738, 0.754, 0.7487, 0.746, 0.746, 0.738, 0.746, 0.7219, 0.746]\n",
      "- Testing accuracies:\t[0.7355, 0.7463, 0.7398, 0.7559, 0.7591, 0.7441, 0.7484, 0.7291, 0.7409, 0.7548, 0.7441, 0.7366, 0.7355, 0.7473, 0.7345, 0.757, 0.7537, 0.742, 0.743, 0.7505, 0.742, 0.7441, 0.7388, 0.7355, 0.7355, 0.7323, 0.7463, 0.7366, 0.7473, 0.7345]\n",
      "\n",
      "\n",
      "NEXT LEARNINGRATE: 5e-05\n",
      "Models with base lr = 5e-05 and max lr = 0.0003\n",
      " - Model specifics:\tbatch size: 64, mode: triangular, stepsize: 420, base-lr: 5e-05, max-lr 0.0003, *0\n",
      "Time usage: 0:02:38 minutes\n",
      "3357/3357 [==============================] - 4s 1ms/step\n",
      "374/374 [==============================] - 0s 1ms/step\n",
      "934/934 [==============================] - 1s 1ms/step\n",
      " - Model specifics:\tbatch size: 64, mode: triangular, stepsize: 420, base-lr: 5e-05, max-lr 0.0003, *1\n",
      "Time usage: 0:02:38 minutes\n",
      "3357/3357 [==============================] - 4s 1ms/step\n",
      "374/374 [==============================] - 0s 1ms/step\n",
      "934/934 [==============================] - 1s 1ms/step\n",
      " - Model specifics:\tbatch size: 64, mode: triangular, stepsize: 420, base-lr: 5e-05, max-lr 0.0003, *2\n",
      "Time usage: 0:02:39 minutes\n",
      "3357/3357 [==============================] - 4s 1ms/step\n",
      "374/374 [==============================] - 0s 1ms/step\n",
      "934/934 [==============================] - 1s 1ms/step\n",
      " - Model specifics:\tbatch size: 64, mode: triangular, stepsize: 420, base-lr: 5e-05, max-lr 0.0003, *3\n",
      "Time usage: 0:02:37 minutes\n",
      "3357/3357 [==============================] - 4s 1ms/step\n",
      "374/374 [==============================] - 0s 1ms/step\n",
      "934/934 [==============================] - 1s 1ms/step\n",
      " - Model specifics:\tbatch size: 64, mode: triangular, stepsize: 420, base-lr: 5e-05, max-lr 0.0003, *4\n",
      "Time usage: 0:02:37 minutes\n",
      "3357/3357 [==============================] - 4s 1ms/step\n",
      "374/374 [==============================] - 0s 1ms/step\n",
      "934/934 [==============================] - 1s 1ms/step\n",
      "- Training accuracies:\t[0.7766, 0.7882, 0.7959, 0.7918, 0.8028, 0.7754, 0.7822, 0.7682, 0.7861, 0.7924, 0.7855, 0.7793, 0.7784, 0.7888, 0.7864, 0.787, 0.7858, 0.773, 0.776, 0.7879, 0.7739, 0.7808, 0.7822, 0.7825, 0.7742, 0.7843, 0.7861, 0.7718, 0.7721, 0.7706, 0.7837, 0.7924, 0.7817, 0.7977, 0.7843]\n",
      "- Validation accuracies:\t[0.738, 0.7594, 0.7487, 0.746, 0.7834, 0.746, 0.7567, 0.7273, 0.738, 0.7647, 0.7487, 0.738, 0.746, 0.7353, 0.7433, 0.7567, 0.7433, 0.7406, 0.7406, 0.7513, 0.7353, 0.738, 0.754, 0.7487, 0.746, 0.746, 0.738, 0.746, 0.7219, 0.746, 0.7594, 0.7647, 0.7353, 0.7647, 0.7513]\n",
      "- Testing accuracies:\t[0.7355, 0.7463, 0.7398, 0.7559, 0.7591, 0.7441, 0.7484, 0.7291, 0.7409, 0.7548, 0.7441, 0.7366, 0.7355, 0.7473, 0.7345, 0.757, 0.7537, 0.742, 0.743, 0.7505, 0.742, 0.7441, 0.7388, 0.7355, 0.7355, 0.7323, 0.7463, 0.7366, 0.7473, 0.7345, 0.7409, 0.758, 0.742, 0.7505, 0.7366]\n",
      "\n",
      "\n",
      "Models with base lr = 5e-05 and max lr = 0.0005\n",
      " - Model specifics:\tbatch size: 64, mode: triangular, stepsize: 420, base-lr: 5e-05, max-lr 0.0005, *0\n",
      "Time usage: 0:02:35 minutes\n",
      "3357/3357 [==============================] - 4s 1ms/step\n",
      "374/374 [==============================] - 0s 1ms/step\n",
      "934/934 [==============================] - 1s 1ms/step\n",
      " - Model specifics:\tbatch size: 64, mode: triangular, stepsize: 420, base-lr: 5e-05, max-lr 0.0005, *1\n",
      "Time usage: 0:02:38 minutes\n",
      "3357/3357 [==============================] - 4s 1ms/step\n",
      "374/374 [==============================] - 0s 1ms/step\n",
      "934/934 [==============================] - 1s 1ms/step\n",
      " - Model specifics:\tbatch size: 64, mode: triangular, stepsize: 420, base-lr: 5e-05, max-lr 0.0005, *2\n",
      "Time usage: 0:02:37 minutes\n",
      "3357/3357 [==============================] - 4s 1ms/step\n",
      "374/374 [==============================] - 0s 1ms/step\n",
      "934/934 [==============================] - 1s 1ms/step\n",
      " - Model specifics:\tbatch size: 64, mode: triangular, stepsize: 420, base-lr: 5e-05, max-lr 0.0005, *3\n"
     ]
    },
    {
     "name": "stderr",
     "output_type": "stream",
     "text": [
      "/home/rick/.conda/envs/hannah_z/lib/python2.7/site-packages/keras/callbacks.py:120: UserWarning: Method on_batch_end() is slow compared to the batch update (0.134010). Check your callbacks.\n",
      "  % delta_t_median)\n"
     ]
    },
    {
     "name": "stdout",
     "output_type": "stream",
     "text": [
      "Time usage: 0:02:41 minutes\n",
      "3357/3357 [==============================] - 4s 1ms/step\n",
      "374/374 [==============================] - 0s 1ms/step\n",
      "934/934 [==============================] - 1s 1ms/step\n",
      " - Model specifics:\tbatch size: 64, mode: triangular, stepsize: 420, base-lr: 5e-05, max-lr 0.0005, *4\n"
     ]
    },
    {
     "name": "stderr",
     "output_type": "stream",
     "text": [
      "/home/rick/.conda/envs/hannah_z/lib/python2.7/site-packages/keras/callbacks.py:120: UserWarning: Method on_batch_end() is slow compared to the batch update (0.125041). Check your callbacks.\n",
      "  % delta_t_median)\n"
     ]
    },
    {
     "name": "stdout",
     "output_type": "stream",
     "text": [
      "Time usage: 0:02:37 minutes\n",
      "3357/3357 [==============================] - 4s 1ms/step\n",
      "374/374 [==============================] - 0s 1ms/step\n",
      "934/934 [==============================] - 1s 1ms/step\n",
      "- Training accuracies:\t[0.7766, 0.7882, 0.7959, 0.7918, 0.8028, 0.7754, 0.7822, 0.7682, 0.7861, 0.7924, 0.7855, 0.7793, 0.7784, 0.7888, 0.7864, 0.787, 0.7858, 0.773, 0.776, 0.7879, 0.7739, 0.7808, 0.7822, 0.7825, 0.7742, 0.7843, 0.7861, 0.7718, 0.7721, 0.7706, 0.7837, 0.7924, 0.7817, 0.7977, 0.7843, 0.7885, 0.8043, 0.7754, 0.7635, 0.7894]\n",
      "- Validation accuracies:\t[0.738, 0.7594, 0.7487, 0.746, 0.7834, 0.746, 0.7567, 0.7273, 0.738, 0.7647, 0.7487, 0.738, 0.746, 0.7353, 0.7433, 0.7567, 0.7433, 0.7406, 0.7406, 0.7513, 0.7353, 0.738, 0.754, 0.7487, 0.746, 0.746, 0.738, 0.746, 0.7219, 0.746, 0.7594, 0.7647, 0.7353, 0.7647, 0.7513, 0.754, 0.7781, 0.7299, 0.7273, 0.7594]\n",
      "- Testing accuracies:\t[0.7355, 0.7463, 0.7398, 0.7559, 0.7591, 0.7441, 0.7484, 0.7291, 0.7409, 0.7548, 0.7441, 0.7366, 0.7355, 0.7473, 0.7345, 0.757, 0.7537, 0.742, 0.743, 0.7505, 0.742, 0.7441, 0.7388, 0.7355, 0.7355, 0.7323, 0.7463, 0.7366, 0.7473, 0.7345, 0.7409, 0.758, 0.742, 0.7505, 0.7366, 0.7527, 0.7784, 0.7388, 0.7313, 0.7516]\n",
      "\n",
      "\n",
      "Models with base lr = 5e-05 and max lr = 0.0007\n",
      " - Model specifics:\tbatch size: 64, mode: triangular, stepsize: 420, base-lr: 5e-05, max-lr 0.0007, *0\n"
     ]
    },
    {
     "name": "stderr",
     "output_type": "stream",
     "text": [
      "/home/rick/.conda/envs/hannah_z/lib/python2.7/site-packages/keras/callbacks.py:120: UserWarning: Method on_batch_end() is slow compared to the batch update (0.104806). Check your callbacks.\n",
      "  % delta_t_median)\n"
     ]
    },
    {
     "name": "stdout",
     "output_type": "stream",
     "text": [
      "Time usage: 0:02:37 minutes\n",
      "3357/3357 [==============================] - 4s 1ms/step\n",
      "374/374 [==============================] - 0s 1ms/step\n",
      "934/934 [==============================] - 1s 1ms/step\n",
      " - Model specifics:\tbatch size: 64, mode: triangular, stepsize: 420, base-lr: 5e-05, max-lr 0.0007, *1\n"
     ]
    },
    {
     "name": "stderr",
     "output_type": "stream",
     "text": [
      "/home/rick/.conda/envs/hannah_z/lib/python2.7/site-packages/keras/callbacks.py:120: UserWarning: Method on_batch_end() is slow compared to the batch update (0.103004). Check your callbacks.\n",
      "  % delta_t_median)\n"
     ]
    },
    {
     "name": "stdout",
     "output_type": "stream",
     "text": [
      "Time usage: 0:02:38 minutes\n",
      "3357/3357 [==============================] - 4s 1ms/step\n",
      "374/374 [==============================] - 0s 1ms/step\n",
      "934/934 [==============================] - 1s 1ms/step\n",
      " - Model specifics:\tbatch size: 64, mode: triangular, stepsize: 420, base-lr: 5e-05, max-lr 0.0007, *2\n"
     ]
    },
    {
     "name": "stderr",
     "output_type": "stream",
     "text": [
      "/home/rick/.conda/envs/hannah_z/lib/python2.7/site-packages/keras/callbacks.py:120: UserWarning: Method on_batch_end() is slow compared to the batch update (0.101920). Check your callbacks.\n",
      "  % delta_t_median)\n"
     ]
    },
    {
     "name": "stdout",
     "output_type": "stream",
     "text": [
      "Time usage: 0:02:34 minutes\n",
      "3357/3357 [==============================] - 4s 1ms/step\n",
      "374/374 [==============================] - 0s 1ms/step\n",
      "934/934 [==============================] - 1s 1ms/step\n",
      " - Model specifics:\tbatch size: 64, mode: triangular, stepsize: 420, base-lr: 5e-05, max-lr 0.0007, *3\n"
     ]
    },
    {
     "name": "stderr",
     "output_type": "stream",
     "text": [
      "/home/rick/.conda/envs/hannah_z/lib/python2.7/site-packages/keras/callbacks.py:120: UserWarning: Method on_batch_end() is slow compared to the batch update (0.103015). Check your callbacks.\n",
      "  % delta_t_median)\n"
     ]
    },
    {
     "name": "stdout",
     "output_type": "stream",
     "text": [
      "Time usage: 0:02:38 minutes\n",
      "3357/3357 [==============================] - 4s 1ms/step\n",
      "374/374 [==============================] - 0s 1ms/step\n",
      "934/934 [==============================] - 1s 1ms/step\n",
      " - Model specifics:\tbatch size: 64, mode: triangular, stepsize: 420, base-lr: 5e-05, max-lr 0.0007, *4\n"
     ]
    },
    {
     "name": "stderr",
     "output_type": "stream",
     "text": [
      "/home/rick/.conda/envs/hannah_z/lib/python2.7/site-packages/keras/callbacks.py:120: UserWarning: Method on_batch_end() is slow compared to the batch update (0.103959). Check your callbacks.\n",
      "  % delta_t_median)\n"
     ]
    },
    {
     "name": "stdout",
     "output_type": "stream",
     "text": [
      "Time usage: 0:02:36 minutes\n",
      "3357/3357 [==============================] - 4s 1ms/step\n",
      "374/374 [==============================] - 0s 1ms/step\n",
      "934/934 [==============================] - 1s 1ms/step\n",
      "- Training accuracies:\t[0.7766, 0.7882, 0.7959, 0.7918, 0.8028, 0.7754, 0.7822, 0.7682, 0.7861, 0.7924, 0.7855, 0.7793, 0.7784, 0.7888, 0.7864, 0.787, 0.7858, 0.773, 0.776, 0.7879, 0.7739, 0.7808, 0.7822, 0.7825, 0.7742, 0.7843, 0.7861, 0.7718, 0.7721, 0.7706, 0.7837, 0.7924, 0.7817, 0.7977, 0.7843, 0.7885, 0.8043, 0.7754, 0.7635, 0.7894, 0.7694, 0.7858, 0.812, 0.7578, 0.7906]\n",
      "- Validation accuracies:\t[0.738, 0.7594, 0.7487, 0.746, 0.7834, 0.746, 0.7567, 0.7273, 0.738, 0.7647, 0.7487, 0.738, 0.746, 0.7353, 0.7433, 0.7567, 0.7433, 0.7406, 0.7406, 0.7513, 0.7353, 0.738, 0.754, 0.7487, 0.746, 0.746, 0.738, 0.746, 0.7219, 0.746, 0.7594, 0.7647, 0.7353, 0.7647, 0.7513, 0.754, 0.7781, 0.7299, 0.7273, 0.7594, 0.738, 0.746, 0.7781, 0.7299, 0.754]\n",
      "- Testing accuracies:\t[0.7355, 0.7463, 0.7398, 0.7559, 0.7591, 0.7441, 0.7484, 0.7291, 0.7409, 0.7548, 0.7441, 0.7366, 0.7355, 0.7473, 0.7345, 0.757, 0.7537, 0.742, 0.743, 0.7505, 0.742, 0.7441, 0.7388, 0.7355, 0.7355, 0.7323, 0.7463, 0.7366, 0.7473, 0.7345, 0.7409, 0.758, 0.742, 0.7505, 0.7366, 0.7527, 0.7784, 0.7388, 0.7313, 0.7516, 0.7366, 0.743, 0.7677, 0.7281, 0.7527]\n",
      "\n",
      "\n",
      "Time usage: 2:00:20 minutes\n"
     ]
    },
    {
     "data": {
      "text/plain": [
       "[<matplotlib.lines.Line2D at 0x7f64f1b1b150>]"
      ]
     },
     "execution_count": 18,
     "metadata": {},
     "output_type": "execute_result"
    },
    {
     "data": {
      "image/png": "[encoded data removed]",
      "text/plain": [
       "<matplotlib.figure.Figure at 0x7f6542b62910>"
      ]
     },
     "metadata": {},
     "output_type": "display_data"
    }
   ],
   "source": [
    "# usual training time: 2h - 2:44\n",
    "learning_rate_finder()\n",
    "%matplotlib inline\n",
    "acc = h['acc']\n",
    "plt.plot(acc)"
   ]
  },
  {
   "cell_type": "code",
   "execution_count": 19,
   "metadata": {},
   "outputs": [
    {
     "data": {
      "text/html": [
       "<div>\n",
       "<style scoped>\n",
       "    .dataframe tbody tr th:only-of-type {\n",
       "        vertical-align: middle;\n",
       "    }\n",
       "\n",
       "    .dataframe tbody tr th {\n",
       "        vertical-align: top;\n",
       "    }\n",
       "\n",
       "    .dataframe thead th {\n",
       "        text-align: right;\n",
       "    }\n",
       "</style>\n",
       "<table border=\"1\" class=\"dataframe\">\n",
       "  <thead>\n",
       "    <tr style=\"text-align: right;\">\n",
       "      <th></th>\n",
       "      <th>test acc</th>\n",
       "      <th>valid acc</th>\n",
       "      <th>train acc</th>\n",
       "      <th>test loss</th>\n",
       "      <th>valid loss</th>\n",
       "      <th>train loss</th>\n",
       "      <th>test prec</th>\n",
       "      <th>valid prec</th>\n",
       "      <th>train prec</th>\n",
       "      <th>test rec</th>\n",
       "      <th>valid rec</th>\n",
       "      <th>train rec</th>\n",
       "    </tr>\n",
       "  </thead>\n",
       "  <tbody>\n",
       "    <tr>\n",
       "      <th>base-lr: 1e-06, max-lr 0.0003,</th>\n",
       "      <td>0.7473</td>\n",
       "      <td>0.7551</td>\n",
       "      <td>0.7911</td>\n",
       "      <td>1.4683</td>\n",
       "      <td>1.5096</td>\n",
       "      <td>1.1206</td>\n",
       "      <td>0.6828</td>\n",
       "      <td>0.6685</td>\n",
       "      <td>0.7153</td>\n",
       "      <td>0.9498</td>\n",
       "      <td>0.9640</td>\n",
       "      <td>0.9653</td>\n",
       "    </tr>\n",
       "    <tr>\n",
       "      <th>base-lr: 1e-06, max-lr 0.0005,</th>\n",
       "      <td>0.7465</td>\n",
       "      <td>0.7522</td>\n",
       "      <td>0.7870</td>\n",
       "      <td>1.5764</td>\n",
       "      <td>1.6298</td>\n",
       "      <td>1.2154</td>\n",
       "      <td>0.6817</td>\n",
       "      <td>0.6657</td>\n",
       "      <td>0.7108</td>\n",
       "      <td>0.9508</td>\n",
       "      <td>0.9643</td>\n",
       "      <td>0.9659</td>\n",
       "    </tr>\n",
       "    <tr>\n",
       "      <th>base-lr: 1e-05, max-lr 0.0003,</th>\n",
       "      <td>0.7457</td>\n",
       "      <td>0.7474</td>\n",
       "      <td>0.7839</td>\n",
       "      <td>1.6628</td>\n",
       "      <td>1.7210</td>\n",
       "      <td>1.2769</td>\n",
       "      <td>0.6796</td>\n",
       "      <td>0.6607</td>\n",
       "      <td>0.7068</td>\n",
       "      <td>0.9557</td>\n",
       "      <td>0.9683</td>\n",
       "      <td>0.9675</td>\n",
       "    </tr>\n",
       "    <tr>\n",
       "      <th>base-lr: 5e-05, max-lr 0.0007,</th>\n",
       "      <td>0.7444</td>\n",
       "      <td>0.7469</td>\n",
       "      <td>0.7828</td>\n",
       "      <td>1.7639</td>\n",
       "      <td>1.8416</td>\n",
       "      <td>1.3588</td>\n",
       "      <td>0.6785</td>\n",
       "      <td>0.6604</td>\n",
       "      <td>0.7055</td>\n",
       "      <td>0.9556</td>\n",
       "      <td>0.9665</td>\n",
       "      <td>0.9686</td>\n",
       "    </tr>\n",
       "    <tr>\n",
       "      <th>base-lr: 1e-06, max-lr 0.0007,</th>\n",
       "      <td>0.7439</td>\n",
       "      <td>0.7478</td>\n",
       "      <td>0.7856</td>\n",
       "      <td>1.7048</td>\n",
       "      <td>1.7706</td>\n",
       "      <td>1.3075</td>\n",
       "      <td>0.6785</td>\n",
       "      <td>0.6610</td>\n",
       "      <td>0.7086</td>\n",
       "      <td>0.9529</td>\n",
       "      <td>0.9673</td>\n",
       "      <td>0.9675</td>\n",
       "    </tr>\n",
       "    <tr>\n",
       "      <th>base-lr: 1e-05, max-lr 0.0005,</th>\n",
       "      <td>0.7437</td>\n",
       "      <td>0.7468</td>\n",
       "      <td>0.7823</td>\n",
       "      <td>1.7078</td>\n",
       "      <td>1.7696</td>\n",
       "      <td>1.3113</td>\n",
       "      <td>0.6779</td>\n",
       "      <td>0.6599</td>\n",
       "      <td>0.7049</td>\n",
       "      <td>0.9553</td>\n",
       "      <td>0.9694</td>\n",
       "      <td>0.9684</td>\n",
       "    </tr>\n",
       "    <tr>\n",
       "      <th>base-lr: 5e-05, max-lr 0.0005,</th>\n",
       "      <td>0.7437</td>\n",
       "      <td>0.7460</td>\n",
       "      <td>0.7823</td>\n",
       "      <td>1.7339</td>\n",
       "      <td>1.8119</td>\n",
       "      <td>1.3360</td>\n",
       "      <td>0.6777</td>\n",
       "      <td>0.6593</td>\n",
       "      <td>0.7046</td>\n",
       "      <td>0.9562</td>\n",
       "      <td>0.9672</td>\n",
       "      <td>0.9693</td>\n",
       "    </tr>\n",
       "    <tr>\n",
       "      <th>base-lr: 5e-05, max-lr 0.0003,</th>\n",
       "      <td>0.7427</td>\n",
       "      <td>0.7457</td>\n",
       "      <td>0.7819</td>\n",
       "      <td>1.7238</td>\n",
       "      <td>1.7961</td>\n",
       "      <td>1.3272</td>\n",
       "      <td>0.6766</td>\n",
       "      <td>0.6588</td>\n",
       "      <td>0.7041</td>\n",
       "      <td>0.9562</td>\n",
       "      <td>0.9683</td>\n",
       "      <td>0.9696</td>\n",
       "    </tr>\n",
       "    <tr>\n",
       "      <th>base-lr: 1e-05, max-lr 0.0007,</th>\n",
       "      <td>0.7422</td>\n",
       "      <td>0.7439</td>\n",
       "      <td>0.7804</td>\n",
       "      <td>1.7747</td>\n",
       "      <td>1.8535</td>\n",
       "      <td>1.3716</td>\n",
       "      <td>0.6760</td>\n",
       "      <td>0.6572</td>\n",
       "      <td>0.7024</td>\n",
       "      <td>0.9567</td>\n",
       "      <td>0.9691</td>\n",
       "      <td>0.9699</td>\n",
       "    </tr>\n",
       "  </tbody>\n",
       "</table>\n",
       "</div>"
      ],
      "text/plain": [
       "                                test acc  valid acc  train acc  test loss  \\\n",
       "base-lr: 1e-06, max-lr 0.0003,    0.7473     0.7551     0.7911     1.4683   \n",
       "base-lr: 1e-06, max-lr 0.0005,    0.7465     0.7522     0.7870     1.5764   \n",
       "base-lr: 1e-05, max-lr 0.0003,    0.7457     0.7474     0.7839     1.6628   \n",
       "base-lr: 5e-05, max-lr 0.0007,    0.7444     0.7469     0.7828     1.7639   \n",
       "base-lr: 1e-06, max-lr 0.0007,    0.7439     0.7478     0.7856     1.7048   \n",
       "base-lr: 1e-05, max-lr 0.0005,    0.7437     0.7468     0.7823     1.7078   \n",
       "base-lr: 5e-05, max-lr 0.0005,    0.7437     0.7460     0.7823     1.7339   \n",
       "base-lr: 5e-05, max-lr 0.0003,    0.7427     0.7457     0.7819     1.7238   \n",
       "base-lr: 1e-05, max-lr 0.0007,    0.7422     0.7439     0.7804     1.7747   \n",
       "\n",
       "                                valid loss  train loss  test prec  valid prec  \\\n",
       "base-lr: 1e-06, max-lr 0.0003,      1.5096      1.1206     0.6828      0.6685   \n",
       "base-lr: 1e-06, max-lr 0.0005,      1.6298      1.2154     0.6817      0.6657   \n",
       "base-lr: 1e-05, max-lr 0.0003,      1.7210      1.2769     0.6796      0.6607   \n",
       "base-lr: 5e-05, max-lr 0.0007,      1.8416      1.3588     0.6785      0.6604   \n",
       "base-lr: 1e-06, max-lr 0.0007,      1.7706      1.3075     0.6785      0.6610   \n",
       "base-lr: 1e-05, max-lr 0.0005,      1.7696      1.3113     0.6779      0.6599   \n",
       "base-lr: 5e-05, max-lr 0.0005,      1.8119      1.3360     0.6777      0.6593   \n",
       "base-lr: 5e-05, max-lr 0.0003,      1.7961      1.3272     0.6766      0.6588   \n",
       "base-lr: 1e-05, max-lr 0.0007,      1.8535      1.3716     0.6760      0.6572   \n",
       "\n",
       "                                train prec  test rec  valid rec  train rec  \n",
       "base-lr: 1e-06, max-lr 0.0003,      0.7153    0.9498     0.9640     0.9653  \n",
       "base-lr: 1e-06, max-lr 0.0005,      0.7108    0.9508     0.9643     0.9659  \n",
       "base-lr: 1e-05, max-lr 0.0003,      0.7068    0.9557     0.9683     0.9675  \n",
       "base-lr: 5e-05, max-lr 0.0007,      0.7055    0.9556     0.9665     0.9686  \n",
       "base-lr: 1e-06, max-lr 0.0007,      0.7086    0.9529     0.9673     0.9675  \n",
       "base-lr: 1e-05, max-lr 0.0005,      0.7049    0.9553     0.9694     0.9684  \n",
       "base-lr: 5e-05, max-lr 0.0005,      0.7046    0.9562     0.9672     0.9693  \n",
       "base-lr: 5e-05, max-lr 0.0003,      0.7041    0.9562     0.9683     0.9696  \n",
       "base-lr: 1e-05, max-lr 0.0007,      0.7024    0.9567     0.9691     0.9699  "
      ]
     },
     "execution_count": 19,
     "metadata": {},
     "output_type": "execute_result"
    }
   ],
   "source": [
    "titel = model_details[0][:47]\n",
    "mean_test_acc = []\n",
    "mean_valid_acc = []\n",
    "mean_train_acc = []\n",
    "mean_test_loss = []\n",
    "mean_valid_loss = []\n",
    "mean_train_loss = []\n",
    "mean_test_prec = []\n",
    "mean_valid_prec = []\n",
    "mean_train_prec = []\n",
    "mean_test_rec = []\n",
    "mean_valid_rec = []\n",
    "mean_train_rec = []\n",
    "model_list = []\n",
    "a = len(test_acc_list)\n",
    "for i in range(9):\n",
    "    tals = test_acc_list[i:(i+1)*5]\n",
    "    vals = valid_acc_list[i:(i+1)*5]\n",
    "    rals = train_acc_list[i:(i+1)*5]\n",
    "    tlls = test_loss_list[i:(i+1)*5]\n",
    "    vlls = valid_loss_list[i:(i+1)*5]\n",
    "    rlls = train_loss_list[i:(i+1)*5]\n",
    "    tpls = test_prec_list[i:(i+1)*5]\n",
    "    vpls = valid_prec_list[i:(i+1)*5]\n",
    "    rpls = train_prec_list[i:(i+1)*5]\n",
    "    trls = test_rec_list[i:(i+1)*5]\n",
    "    vrls = valid_rec_list[i:(i+1)*5]\n",
    "    rrls = train_rec_list[i:(i+1)*5]\n",
    "    tmean = round(sum(tals)/len(tals),4)\n",
    "    vmean = round(sum(vals)/len(vals),4)\n",
    "    rmean = round(sum(rals)/len(rals),4)\n",
    "    ltmean = round(sum(tlls)/len(tals),4)\n",
    "    lvmean = round(sum(vlls)/len(vals),4)\n",
    "    lrmean = round(sum(rlls)/len(rals),4)\n",
    "    ptmean = round(sum(tpls)/len(tals),4)\n",
    "    pvmean = round(sum(vpls)/len(vals),4)\n",
    "    prmean = round(sum(rpls)/len(rals),4)\n",
    "    rtmean = round(sum(trls)/len(tals),4)\n",
    "    rvmean = round(sum(vrls)/len(vals),4)\n",
    "    rrmean = round(sum(rrls)/len(rals),4)\n",
    "    mean_test_acc.append(tmean)\n",
    "    mean_valid_acc.append(vmean)\n",
    "    mean_train_acc.append(rmean)\n",
    "    mean_test_loss.append(ltmean)\n",
    "    mean_valid_loss.append(lvmean)\n",
    "    mean_train_loss.append(lrmean)\n",
    "    mean_test_prec.append(ptmean)\n",
    "    mean_valid_prec.append(pvmean)\n",
    "    mean_train_prec.append(prmean)\n",
    "    mean_test_rec.append(rtmean)\n",
    "    mean_valid_rec.append(rvmean)\n",
    "    mean_train_rec.append(rrmean)\n",
    "    model_list.append(model_details[i*5][49:79])\n",
    "columns = ['test acc', 'valid acc', 'train acc', 'test loss', 'valid loss', 'train loss', 'test prec', \\\n",
    "           'valid prec', 'train prec', 'test rec', 'valid rec', 'train rec']\n",
    "data = np.array((mean_test_acc, mean_valid_acc, mean_train_acc, mean_test_loss, mean_valid_loss, mean_train_loss,\\\n",
    "                mean_test_prec, mean_valid_prec, mean_train_prec, mean_test_rec, mean_valid_rec, mean_train_rec))\n",
    "results = pd.DataFrame(data = data, columns = model_list, index = columns)\n",
    "lr_overview = pd.DataFrame(data = results.transpose(), columns = columns, index = model_list)\n",
    "#lr_overview\n",
    "overviewSorted = lr_overview.sort_values(by=['test acc'], ascending = False)\n",
    "overviewSorted"
   ]
  },
  {
   "cell_type": "code",
   "execution_count": 20,
   "metadata": {},
   "outputs": [],
   "source": [
    "blr = 0.000001\n",
    "mlr = 0.0003"
   ]
  },
  {
   "cell_type": "code",
   "execution_count": 21,
   "metadata": {},
   "outputs": [
    {
     "data": {
      "text/plain": [
       "'AfterTuningLR_modelOverview_DenseNet121_bs-64_triangular_sz-420_imagenet_All_48epochs'"
      ]
     },
     "execution_count": 21,
     "metadata": {},
     "output_type": "execute_result"
    }
   ],
   "source": [
    "os.chdir(code_dir + '/Excel')\n",
    "savename = ('AfterTuningLR_modelOverview_' + str(modelname) + '_bs-' + str(batch_size) + '_' + str(mode) + '_sz-' \n",
    "            + str(step_size) + '_' + str(weights) + '_' + str(trainable_layers) + '_' + str(epochs) + 'epochs')\n",
    "savename"
   ]
  },
  {
   "cell_type": "code",
   "execution_count": null,
   "metadata": {},
   "outputs": [],
   "source": []
  },
  {
   "cell_type": "code",
   "execution_count": 22,
   "metadata": {},
   "outputs": [],
   "source": [
    "overviewSorted.to_csv(savename)"
   ]
  },
  {
   "cell_type": "code",
   "execution_count": 23,
   "metadata": {},
   "outputs": [
    {
     "data": {
      "image/png": "[encoded data removed]",
      "text/plain": [
       "<matplotlib.figure.Figure at 0x7f64f1309e50>"
      ]
     },
     "metadata": {},
     "output_type": "display_data"
    }
   ],
   "source": [
    "import seaborn as sns\n",
    "sns.set()\n",
    "heatmap = sns.heatmap(results.iloc[:3,:].transpose(), annot=True, fmt = 'f')"
   ]
  },
  {
   "cell_type": "code",
   "execution_count": 24,
   "metadata": {},
   "outputs": [
    {
     "data": {
      "text/plain": [
       "[<matplotlib.lines.Line2D at 0x7f64f0bd25d0>]"
      ]
     },
     "execution_count": 24,
     "metadata": {},
     "output_type": "execute_result"
    },
    {
     "data": {
      "image/png": "[encoded data removed]",
      "text/plain": [
       "<matplotlib.figure.Figure at 0x7f64f0cd16d0>"
      ]
     },
     "metadata": {},
     "output_type": "display_data"
    }
   ],
   "source": [
    "%matplotlib inline\n",
    "\n",
    "f, (ax1, ax2) = plt.subplots(2, 1, sharex='col', sharey='row')\n",
    "ax1.plot(mean_test_acc, color = 'r')\n",
    "ax1.axis([0, 8, 0.5, 1])\n",
    "ax1.set_title('Close up')\n",
    "ax1.plot(mean_valid_acc)\n",
    "ax1.plot(mean_train_acc, color = 'g')\n",
    "ax2.set_title('Zoom')\n",
    "ax2.plot(mean_test_acc, color = 'r')\n",
    "ax2.axis([0, 8, 0.7, 0.8])\n",
    "ax2.plot(mean_valid_acc)\n",
    "ax2.plot(mean_train_acc, color = 'g')"
   ]
  },
  {
   "cell_type": "code",
   "execution_count": 25,
   "metadata": {},
   "outputs": [],
   "source": [
    "from IPython.core.interactiveshell import InteractiveShell\n",
    "InteractiveShell.ast_node_interactivity = \"all\""
   ]
  },
  {
   "cell_type": "code",
   "execution_count": 26,
   "metadata": {},
   "outputs": [],
   "source": [
    "stepsizes128 = [157, 210, 262]\n",
    "stepsizes64 = [315, 420,525]\n",
    "batch_sizes = [64, 128]\n",
    "modes = ['triangular', 'triangular2']\n",
    "rep = 1"
   ]
  },
  {
   "cell_type": "code",
   "execution_count": 27,
   "metadata": {
    "scrolled": true
   },
   "outputs": [],
   "source": [
    "def hp_tuner(base_lr = blr, max_lr = mlr, rep = 5):\n",
    "    start_time = time()  \n",
    "    global test_acc_l\n",
    "    global valid_acc_l\n",
    "    global train_acc_l\n",
    "    global test_loss_l\n",
    "    global valid_loss_l\n",
    "    global train_loss_l\n",
    "    global test_prec_l\n",
    "    global valid_prec_l\n",
    "    global train_prec_l\n",
    "    global test_rec_l\n",
    "    global valid_rec_l\n",
    "    global train_rec_l\n",
    "    global model_det\n",
    "    model_det = []\n",
    "    test_acc_l = []\n",
    "    valid_acc_l = []\n",
    "    train_acc_l = []\n",
    "    test_loss_l = []\n",
    "    valid_loss_l = []\n",
    "    train_loss_l = []\n",
    "    test_prec_l = []\n",
    "    valid_prec_l = []\n",
    "    train_prec_l = []\n",
    "    test_rec_l = []\n",
    "    valid_rec_l = []\n",
    "    train_rec_l = []\n",
    "    for bs in batch_sizes:\n",
    "        if (bs == 64):\n",
    "            stepsizes = stepsizes64\n",
    "        if (bs ==128):\n",
    "            stepsizes = stepsizes128\n",
    "        for sz in stepsizes: \n",
    "            for md in modes:\n",
    "                i = 0\n",
    "                mid_time = time()\n",
    "                while (i < rep):\n",
    "                    compileModel()\n",
    "                    times = i\n",
    "                    if (i == 0):\n",
    "                        train_Model(times = times, epochs = 48, base_lr = base_lr, max_lr = max_lr, verbose = 0,\n",
    "                                    batch_size = bs, stepsize = sz, mode = md, use_tensorboard = True)\n",
    "                    else:\n",
    "                        train_Model(times = times, epochs = 48, base_lr = base_lr, max_lr = max_lr, verbose = 0, \n",
    "                                    batch_size = bs, stepsize = sz, mode = md, use_tensorboard = False)\n",
    "                    valid_metrics = Final_model.evaluate(valid_images, valid_labels)\n",
    "                    test_metrics = Final_model.evaluate(test_images, test_labels)\n",
    "                    train_metrics = Final_model.evaluate(train_images, train_labels)\n",
    "                    \n",
    "                    train_acc = train_metrics[1]\n",
    "                    valid_acc = valid_metrics[1]\n",
    "                    test_acc = test_metrics[1]\n",
    "                    train_loss = train_metrics[0]\n",
    "                    valid_loss = valid_metrics[0]\n",
    "                    test_loss = test_metrics[0]\n",
    "                    train_prec = train_metrics[2]\n",
    "                    valid_prec = valid_metrics[2]\n",
    "                    test_prec = test_metrics[2]\n",
    "                    train_rec = train_metrics[3]\n",
    "                    valid_rec = valid_metrics[3]\n",
    "                    test_rec = test_metrics[3]                                \n",
    "                    test_acc_l.append(test_acc)\n",
    "                    valid_acc_l.append(valid_acc)\n",
    "                    train_acc_l.append(train_acc)\n",
    "                    test_loss_l.append(test_loss)\n",
    "                    valid_loss_l.append(valid_loss)\n",
    "                    train_loss_l.append(train_loss)\n",
    "                    test_prec_l.append(test_prec)\n",
    "                    valid_prec_l.append(valid_prec)\n",
    "                    train_prec_l.append(train_prec)\n",
    "                    test_rec_l.append(test_rec)\n",
    "                    valid_rec_l.append(valid_rec)\n",
    "                    train_rec_l.append(train_rec)\n",
    "                    model_det.append(name)\n",
    "    ### training the same model for more epochs\n",
    "                    if (i == 0):\n",
    "                        train_Model(times = times, epochs = 48, base_lr = base_lr, max_lr = max_lr, verbose = 0,\n",
    "                                    batch_size = bs, stepsize = sz, mode = md, use_tensorboard = True)\n",
    "                    else:\n",
    "                        train_Model(times = times, epochs = 48, base_lr = base_lr, max_lr = max_lr, verbose = 0, \n",
    "                                    batch_size = bs, stepsize = sz, mode = md, use_tensorboard = False)\n",
    "                    valid_metrics = Final_model.evaluate(valid_images, valid_labels)\n",
    "                    test_metrics = Final_model.evaluate(test_images, test_labels)\n",
    "                    train_metrics = Final_model.evaluate(train_images, train_labels)\n",
    "                    \n",
    "                    train_acc = train_metrics[1]\n",
    "                    valid_acc = valid_metrics[1]\n",
    "                    test_acc = test_metrics[1]\n",
    "                    train_loss = train_metrics[0]\n",
    "                    valid_loss = valid_metrics[0]\n",
    "                    test_loss = test_metrics[0]\n",
    "                    train_prec = train_metrics[2]\n",
    "                    valid_prec = valid_metrics[2]\n",
    "                    test_prec = test_metrics[2]\n",
    "                    train_rec = train_metrics[3]\n",
    "                    valid_rec = valid_metrics[3]\n",
    "                    test_rec = test_metrics[3]                                \n",
    "                    test_acc_l.append(test_acc)\n",
    "                    valid_acc_l.append(valid_acc)\n",
    "                    train_acc_l.append(train_acc)\n",
    "                    test_loss_l.append(test_loss)\n",
    "                    valid_loss_l.append(valid_loss)\n",
    "                    train_loss_l.append(train_loss)\n",
    "                    test_prec_l.append(test_prec)\n",
    "                    valid_prec_l.append(valid_prec)\n",
    "                    train_prec_l.append(train_prec)\n",
    "                    test_rec_l.append(test_rec)\n",
    "                    valid_rec_l.append(valid_rec)\n",
    "                    train_rec_l.append(train_rec)\n",
    "                    name2 = name + '_x2'\n",
    "                    model_det.append(name2)\n",
    "                    print(log_dir)\n",
    "                    i += 1\n",
    "                mid_end_time = time()\n",
    "                mid_time_dif = mid_end_time - mid_time\n",
    "                print('Time usage: ' + str(timedelta(seconds=int(round(mid_time_dif)))) + ' minutes')\n",
    "    end_time = time()\n",
    "    time_dif = end_time - start_time\n",
    "    print('Time usage: ' + str(timedelta(seconds=int(round(time_dif)))) + ' minutes')"
   ]
  },
  {
   "cell_type": "code",
   "execution_count": 28,
   "metadata": {},
   "outputs": [
    {
     "name": "stdout",
     "output_type": "stream",
     "text": [
      " - Model specifics:\tbatch size: 64, mode: triangular, stepsize: 315, base-lr: 1e-06, max-lr 0.0003, *0\n"
     ]
    },
    {
     "name": "stderr",
     "output_type": "stream",
     "text": [
      "/home/rick/.conda/envs/hannah_z/lib/python2.7/site-packages/keras/callbacks.py:120: UserWarning: Method on_batch_end() is slow compared to the batch update (0.118669). Check your callbacks.\n",
      "  % delta_t_median)\n"
     ]
    },
    {
     "name": "stdout",
     "output_type": "stream",
     "text": [
      "Time usage: 0:02:38 minutes\n",
      "374/374 [==============================] - 0s 1ms/step\n",
      "934/934 [==============================] - 1s 1ms/step\n",
      "3357/3357 [==============================] - 4s 1ms/step\n",
      " - Model specifics:\tbatch size: 64, mode: triangular, stepsize: 315, base-lr: 1e-06, max-lr 0.0003, *0\n",
      "Time usage: 0:02:29 minutes\n",
      "374/374 [==============================] - 0s 1ms/step\n",
      "934/934 [==============================] - 1s 1ms/step\n",
      "3357/3357 [==============================] - 4s 1ms/step\n",
      "/home/rick/Documents/HannahZ/Code/logs\n",
      " - Model specifics:\tbatch size: 64, mode: triangular, stepsize: 315, base-lr: 1e-06, max-lr 0.0003, *1\n"
     ]
    },
    {
     "name": "stderr",
     "output_type": "stream",
     "text": [
      "/home/rick/.conda/envs/hannah_z/lib/python2.7/site-packages/keras/callbacks.py:120: UserWarning: Method on_batch_end() is slow compared to the batch update (0.112997). Check your callbacks.\n",
      "  % delta_t_median)\n"
     ]
    },
    {
     "name": "stdout",
     "output_type": "stream",
     "text": [
      "Time usage: 0:02:41 minutes\n",
      "374/374 [==============================] - 0s 1ms/step\n",
      "934/934 [==============================] - 1s 1ms/step\n",
      "3357/3357 [==============================] - 4s 1ms/step\n",
      " - Model specifics:\tbatch size: 64, mode: triangular, stepsize: 315, base-lr: 1e-06, max-lr 0.0003, *1\n",
      "Time usage: 0:02:33 minutes\n",
      "374/374 [==============================] - 0s 1ms/step\n",
      "934/934 [==============================] - 1s 1ms/step\n",
      "3357/3357 [==============================] - 4s 1ms/step\n",
      "/home/rick/Documents/HannahZ/Code/logs\n",
      " - Model specifics:\tbatch size: 64, mode: triangular, stepsize: 315, base-lr: 1e-06, max-lr 0.0003, *2\n"
     ]
    },
    {
     "name": "stderr",
     "output_type": "stream",
     "text": [
      "/home/rick/.conda/envs/hannah_z/lib/python2.7/site-packages/keras/callbacks.py:120: UserWarning: Method on_batch_end() is slow compared to the batch update (0.107019). Check your callbacks.\n",
      "  % delta_t_median)\n"
     ]
    },
    {
     "name": "stdout",
     "output_type": "stream",
     "text": [
      "Time usage: 0:02:36 minutes\n",
      "374/374 [==============================] - 0s 1ms/step\n",
      "934/934 [==============================] - 1s 1ms/step\n",
      "3357/3357 [==============================] - 4s 1ms/step\n",
      " - Model specifics:\tbatch size: 64, mode: triangular, stepsize: 315, base-lr: 1e-06, max-lr 0.0003, *2\n",
      "Time usage: 0:02:29 minutes\n",
      "374/374 [==============================] - 0s 1ms/step\n",
      "934/934 [==============================] - 1s 1ms/step\n",
      "3357/3357 [==============================] - 4s 1ms/step\n",
      "/home/rick/Documents/HannahZ/Code/logs\n",
      " - Model specifics:\tbatch size: 64, mode: triangular, stepsize: 315, base-lr: 1e-06, max-lr 0.0003, *3\n"
     ]
    },
    {
     "name": "stderr",
     "output_type": "stream",
     "text": [
      "/home/rick/.conda/envs/hannah_z/lib/python2.7/site-packages/keras/callbacks.py:120: UserWarning: Method on_batch_end() is slow compared to the batch update (0.105880). Check your callbacks.\n",
      "  % delta_t_median)\n"
     ]
    },
    {
     "name": "stdout",
     "output_type": "stream",
     "text": [
      "Time usage: 0:02:38 minutes\n",
      "374/374 [==============================] - 0s 1ms/step\n",
      "934/934 [==============================] - 1s 1ms/step\n",
      "3357/3357 [==============================] - 4s 1ms/step\n",
      " - Model specifics:\tbatch size: 64, mode: triangular, stepsize: 315, base-lr: 1e-06, max-lr 0.0003, *3\n",
      "Time usage: 0:02:30 minutes\n",
      "374/374 [==============================] - 0s 1ms/step\n",
      "934/934 [==============================] - 1s 1ms/step\n",
      "3357/3357 [==============================] - 4s 1ms/step\n",
      "/home/rick/Documents/HannahZ/Code/logs\n",
      " - Model specifics:\tbatch size: 64, mode: triangular, stepsize: 315, base-lr: 1e-06, max-lr 0.0003, *4\n"
     ]
    },
    {
     "name": "stderr",
     "output_type": "stream",
     "text": [
      "/home/rick/.conda/envs/hannah_z/lib/python2.7/site-packages/keras/callbacks.py:120: UserWarning: Method on_batch_end() is slow compared to the batch update (0.104127). Check your callbacks.\n",
      "  % delta_t_median)\n"
     ]
    },
    {
     "name": "stdout",
     "output_type": "stream",
     "text": [
      "Time usage: 0:02:40 minutes\n",
      "374/374 [==============================] - 0s 1ms/step\n",
      "934/934 [==============================] - 1s 1ms/step\n",
      "3357/3357 [==============================] - 4s 1ms/step\n",
      " - Model specifics:\tbatch size: 64, mode: triangular, stepsize: 315, base-lr: 1e-06, max-lr 0.0003, *4\n",
      "Time usage: 0:02:32 minutes\n",
      "374/374 [==============================] - 0s 1ms/step\n",
      "934/934 [==============================] - 1s 1ms/step\n",
      "3357/3357 [==============================] - 4s 1ms/step\n",
      "/home/rick/Documents/HannahZ/Code/logs\n",
      "Time usage: 0:26:42 minutes\n",
      " - Model specifics:\tbatch size: 64, mode: triangular2, stepsize: 315, base-lr: 1e-06, max-lr 0.0003, *0\n"
     ]
    },
    {
     "name": "stderr",
     "output_type": "stream",
     "text": [
      "/home/rick/.conda/envs/hannah_z/lib/python2.7/site-packages/keras/callbacks.py:120: UserWarning: Method on_batch_end() is slow compared to the batch update (0.107682). Check your callbacks.\n",
      "  % delta_t_median)\n"
     ]
    },
    {
     "name": "stdout",
     "output_type": "stream",
     "text": [
      "Time usage: 0:02:41 minutes\n",
      "374/374 [==============================] - 0s 1ms/step\n",
      "934/934 [==============================] - 1s 1ms/step\n",
      "3357/3357 [==============================] - 4s 1ms/step\n",
      " - Model specifics:\tbatch size: 64, mode: triangular2, stepsize: 315, base-lr: 1e-06, max-lr 0.0003, *0\n",
      "Time usage: 0:02:31 minutes\n",
      "374/374 [==============================] - 0s 1ms/step\n",
      "934/934 [==============================] - 1s 1ms/step\n",
      "3357/3357 [==============================] - 4s 1ms/step\n",
      "/home/rick/Documents/HannahZ/Code/logs\n",
      " - Model specifics:\tbatch size: 64, mode: triangular2, stepsize: 315, base-lr: 1e-06, max-lr 0.0003, *1\n"
     ]
    },
    {
     "name": "stderr",
     "output_type": "stream",
     "text": [
      "/home/rick/.conda/envs/hannah_z/lib/python2.7/site-packages/keras/callbacks.py:120: UserWarning: Method on_batch_end() is slow compared to the batch update (0.106551). Check your callbacks.\n",
      "  % delta_t_median)\n"
     ]
    },
    {
     "name": "stdout",
     "output_type": "stream",
     "text": [
      "Time usage: 0:02:33 minutes\n",
      "374/374 [==============================] - 0s 1ms/step\n",
      "934/934 [==============================] - 1s 1ms/step\n",
      "3357/3357 [==============================] - 4s 1ms/step\n",
      " - Model specifics:\tbatch size: 64, mode: triangular2, stepsize: 315, base-lr: 1e-06, max-lr 0.0003, *1\n",
      "Time usage: 0:02:27 minutes\n",
      "374/374 [==============================] - 0s 1ms/step\n",
      "934/934 [==============================] - 1s 1ms/step\n",
      "3357/3357 [==============================] - 4s 1ms/step\n",
      "/home/rick/Documents/HannahZ/Code/logs\n",
      " - Model specifics:\tbatch size: 64, mode: triangular2, stepsize: 315, base-lr: 1e-06, max-lr 0.0003, *2\n"
     ]
    },
    {
     "name": "stderr",
     "output_type": "stream",
     "text": [
      "/home/rick/.conda/envs/hannah_z/lib/python2.7/site-packages/keras/callbacks.py:120: UserWarning: Method on_batch_end() is slow compared to the batch update (0.108100). Check your callbacks.\n",
      "  % delta_t_median)\n"
     ]
    },
    {
     "name": "stdout",
     "output_type": "stream",
     "text": [
      "Time usage: 0:02:33 minutes\n",
      "374/374 [==============================] - 0s 1ms/step\n",
      "934/934 [==============================] - 1s 1ms/step\n",
      "3357/3357 [==============================] - 4s 1ms/step\n",
      " - Model specifics:\tbatch size: 64, mode: triangular2, stepsize: 315, base-lr: 1e-06, max-lr 0.0003, *2\n",
      "Time usage: 0:02:29 minutes\n",
      "374/374 [==============================] - 0s 1ms/step\n",
      "934/934 [==============================] - 1s 1ms/step\n",
      "3357/3357 [==============================] - 4s 1ms/step\n",
      "/home/rick/Documents/HannahZ/Code/logs\n",
      " - Model specifics:\tbatch size: 64, mode: triangular2, stepsize: 315, base-lr: 1e-06, max-lr 0.0003, *3\n"
     ]
    },
    {
     "name": "stderr",
     "output_type": "stream",
     "text": [
      "/home/rick/.conda/envs/hannah_z/lib/python2.7/site-packages/keras/callbacks.py:120: UserWarning: Method on_batch_end() is slow compared to the batch update (0.107747). Check your callbacks.\n",
      "  % delta_t_median)\n"
     ]
    },
    {
     "name": "stdout",
     "output_type": "stream",
     "text": [
      "Time usage: 0:02:36 minutes\n",
      "374/374 [==============================] - 0s 1ms/step\n",
      "934/934 [==============================] - 1s 1ms/step\n",
      "3357/3357 [==============================] - 4s 1ms/step\n",
      " - Model specifics:\tbatch size: 64, mode: triangular2, stepsize: 315, base-lr: 1e-06, max-lr 0.0003, *3\n",
      "Time usage: 0:02:29 minutes\n",
      "374/374 [==============================] - 0s 1ms/step\n",
      "934/934 [==============================] - 1s 1ms/step\n",
      "3357/3357 [==============================] - 4s 1ms/step\n",
      "/home/rick/Documents/HannahZ/Code/logs\n",
      " - Model specifics:\tbatch size: 64, mode: triangular2, stepsize: 315, base-lr: 1e-06, max-lr 0.0003, *4\n"
     ]
    },
    {
     "name": "stderr",
     "output_type": "stream",
     "text": [
      "/home/rick/.conda/envs/hannah_z/lib/python2.7/site-packages/keras/callbacks.py:120: UserWarning: Method on_batch_end() is slow compared to the batch update (0.108458). Check your callbacks.\n",
      "  % delta_t_median)\n"
     ]
    },
    {
     "name": "stdout",
     "output_type": "stream",
     "text": [
      "Time usage: 0:02:38 minutes\n",
      "374/374 [==============================] - 0s 1ms/step\n",
      "934/934 [==============================] - 1s 1ms/step\n",
      "3357/3357 [==============================] - 4s 1ms/step\n",
      " - Model specifics:\tbatch size: 64, mode: triangular2, stepsize: 315, base-lr: 1e-06, max-lr 0.0003, *4\n",
      "Time usage: 0:02:28 minutes\n",
      "374/374 [==============================] - 0s 1ms/step\n",
      "934/934 [==============================] - 1s 1ms/step\n",
      "3357/3357 [==============================] - 4s 1ms/step\n",
      "/home/rick/Documents/HannahZ/Code/logs\n",
      "Time usage: 0:26:18 minutes\n",
      " - Model specifics:\tbatch size: 64, mode: triangular, stepsize: 420, base-lr: 1e-06, max-lr 0.0003, *0\n"
     ]
    },
    {
     "name": "stderr",
     "output_type": "stream",
     "text": [
      "/home/rick/.conda/envs/hannah_z/lib/python2.7/site-packages/keras/callbacks.py:120: UserWarning: Method on_batch_end() is slow compared to the batch update (0.111080). Check your callbacks.\n",
      "  % delta_t_median)\n"
     ]
    },
    {
     "name": "stdout",
     "output_type": "stream",
     "text": [
      "Time usage: 0:02:35 minutes\n",
      "374/374 [==============================] - 0s 1ms/step\n",
      "934/934 [==============================] - 1s 1ms/step\n",
      "3357/3357 [==============================] - 4s 1ms/step\n",
      " - Model specifics:\tbatch size: 64, mode: triangular, stepsize: 420, base-lr: 1e-06, max-lr 0.0003, *0\n",
      "Time usage: 0:02:27 minutes\n",
      "374/374 [==============================] - 0s 1ms/step\n",
      "934/934 [==============================] - 1s 1ms/step\n",
      "3357/3357 [==============================] - 4s 1ms/step\n",
      "/home/rick/Documents/HannahZ/Code/logs\n",
      " - Model specifics:\tbatch size: 64, mode: triangular, stepsize: 420, base-lr: 1e-06, max-lr 0.0003, *1\n"
     ]
    },
    {
     "name": "stderr",
     "output_type": "stream",
     "text": [
      "/home/rick/.conda/envs/hannah_z/lib/python2.7/site-packages/keras/callbacks.py:120: UserWarning: Method on_batch_end() is slow compared to the batch update (0.110325). Check your callbacks.\n",
      "  % delta_t_median)\n"
     ]
    },
    {
     "name": "stdout",
     "output_type": "stream",
     "text": [
      "Time usage: 0:02:34 minutes\n",
      "374/374 [==============================] - 0s 1ms/step\n",
      "934/934 [==============================] - 1s 1ms/step\n",
      "3357/3357 [==============================] - 4s 1ms/step\n",
      " - Model specifics:\tbatch size: 64, mode: triangular, stepsize: 420, base-lr: 1e-06, max-lr 0.0003, *1\n",
      "Time usage: 0:02:27 minutes\n",
      "374/374 [==============================] - 0s 1ms/step\n",
      "934/934 [==============================] - 1s 1ms/step\n",
      "3357/3357 [==============================] - 4s 1ms/step\n",
      "/home/rick/Documents/HannahZ/Code/logs\n",
      " - Model specifics:\tbatch size: 64, mode: triangular, stepsize: 420, base-lr: 1e-06, max-lr 0.0003, *2\n"
     ]
    },
    {
     "name": "stderr",
     "output_type": "stream",
     "text": [
      "/home/rick/.conda/envs/hannah_z/lib/python2.7/site-packages/keras/callbacks.py:120: UserWarning: Method on_batch_end() is slow compared to the batch update (0.174892). Check your callbacks.\n",
      "  % delta_t_median)\n"
     ]
    },
    {
     "name": "stdout",
     "output_type": "stream",
     "text": [
      "Time usage: 0:02:40 minutes\n",
      "374/374 [==============================] - 0s 1ms/step\n",
      "934/934 [==============================] - 1s 1ms/step\n",
      "3357/3357 [==============================] - 4s 1ms/step\n",
      " - Model specifics:\tbatch size: 64, mode: triangular, stepsize: 420, base-lr: 1e-06, max-lr 0.0003, *2\n",
      "Time usage: 0:02:30 minutes\n",
      "374/374 [==============================] - 0s 1ms/step\n",
      "934/934 [==============================] - 1s 1ms/step\n",
      "3357/3357 [==============================] - 4s 1ms/step\n",
      "/home/rick/Documents/HannahZ/Code/logs\n",
      " - Model specifics:\tbatch size: 64, mode: triangular, stepsize: 420, base-lr: 1e-06, max-lr 0.0003, *3\n"
     ]
    },
    {
     "name": "stderr",
     "output_type": "stream",
     "text": [
      "/home/rick/.conda/envs/hannah_z/lib/python2.7/site-packages/keras/callbacks.py:120: UserWarning: Method on_batch_end() is slow compared to the batch update (0.164403). Check your callbacks.\n",
      "  % delta_t_median)\n"
     ]
    },
    {
     "name": "stdout",
     "output_type": "stream",
     "text": [
      "Time usage: 0:02:41 minutes\n",
      "374/374 [==============================] - 0s 1ms/step\n",
      "934/934 [==============================] - 1s 1ms/step\n",
      "3357/3357 [==============================] - 4s 1ms/step\n",
      " - Model specifics:\tbatch size: 64, mode: triangular, stepsize: 420, base-lr: 1e-06, max-lr 0.0003, *3\n",
      "Time usage: 0:02:31 minutes\n",
      "374/374 [==============================] - 0s 1ms/step\n",
      "934/934 [==============================] - 1s 1ms/step\n",
      "3357/3357 [==============================] - 4s 1ms/step\n",
      "/home/rick/Documents/HannahZ/Code/logs\n",
      " - Model specifics:\tbatch size: 64, mode: triangular, stepsize: 420, base-lr: 1e-06, max-lr 0.0003, *4\n"
     ]
    },
    {
     "name": "stderr",
     "output_type": "stream",
     "text": [
      "/home/rick/.conda/envs/hannah_z/lib/python2.7/site-packages/keras/callbacks.py:120: UserWarning: Method on_batch_end() is slow compared to the batch update (0.156808). Check your callbacks.\n",
      "  % delta_t_median)\n"
     ]
    },
    {
     "name": "stdout",
     "output_type": "stream",
     "text": [
      "Time usage: 0:02:35 minutes\n",
      "374/374 [==============================] - 0s 1ms/step\n",
      "934/934 [==============================] - 1s 1ms/step\n",
      "3357/3357 [==============================] - 4s 1ms/step\n",
      " - Model specifics:\tbatch size: 64, mode: triangular, stepsize: 420, base-lr: 1e-06, max-lr 0.0003, *4\n",
      "Time usage: 0:02:27 minutes\n",
      "374/374 [==============================] - 0s 1ms/step\n",
      "934/934 [==============================] - 1s 1ms/step\n",
      "3357/3357 [==============================] - 4s 1ms/step\n",
      "/home/rick/Documents/HannahZ/Code/logs\n",
      "Time usage: 0:26:22 minutes\n",
      " - Model specifics:\tbatch size: 64, mode: triangular2, stepsize: 420, base-lr: 1e-06, max-lr 0.0003, *0\n"
     ]
    },
    {
     "name": "stderr",
     "output_type": "stream",
     "text": [
      "/home/rick/.conda/envs/hannah_z/lib/python2.7/site-packages/keras/callbacks.py:120: UserWarning: Method on_batch_end() is slow compared to the batch update (0.140600). Check your callbacks.\n",
      "  % delta_t_median)\n"
     ]
    },
    {
     "name": "stdout",
     "output_type": "stream",
     "text": [
      "Time usage: 0:02:37 minutes\n",
      "374/374 [==============================] - 0s 1ms/step\n",
      "934/934 [==============================] - 1s 1ms/step\n",
      "3357/3357 [==============================] - 4s 1ms/step\n",
      " - Model specifics:\tbatch size: 64, mode: triangular2, stepsize: 420, base-lr: 1e-06, max-lr 0.0003, *0\n",
      "Time usage: 0:02:28 minutes\n",
      "374/374 [==============================] - 0s 1ms/step\n",
      "934/934 [==============================] - 1s 1ms/step\n",
      "3357/3357 [==============================] - 4s 1ms/step\n",
      "/home/rick/Documents/HannahZ/Code/logs\n",
      " - Model specifics:\tbatch size: 64, mode: triangular2, stepsize: 420, base-lr: 1e-06, max-lr 0.0003, *1\n"
     ]
    },
    {
     "name": "stderr",
     "output_type": "stream",
     "text": [
      "/home/rick/.conda/envs/hannah_z/lib/python2.7/site-packages/keras/callbacks.py:120: UserWarning: Method on_batch_end() is slow compared to the batch update (0.129829). Check your callbacks.\n",
      "  % delta_t_median)\n"
     ]
    },
    {
     "name": "stdout",
     "output_type": "stream",
     "text": [
      "Time usage: 0:02:36 minutes\n",
      "374/374 [==============================] - 0s 1ms/step\n",
      "934/934 [==============================] - 1s 1ms/step\n",
      "3357/3357 [==============================] - 4s 1ms/step\n",
      " - Model specifics:\tbatch size: 64, mode: triangular2, stepsize: 420, base-lr: 1e-06, max-lr 0.0003, *1\n",
      "Time usage: 0:02:28 minutes\n",
      "374/374 [==============================] - 0s 1ms/step\n",
      "934/934 [==============================] - 1s 1ms/step\n",
      "3357/3357 [==============================] - 4s 1ms/step\n",
      "/home/rick/Documents/HannahZ/Code/logs\n",
      " - Model specifics:\tbatch size: 64, mode: triangular2, stepsize: 420, base-lr: 1e-06, max-lr 0.0003, *2\n"
     ]
    },
    {
     "name": "stderr",
     "output_type": "stream",
     "text": [
      "/home/rick/.conda/envs/hannah_z/lib/python2.7/site-packages/keras/callbacks.py:120: UserWarning: Method on_batch_end() is slow compared to the batch update (0.129285). Check your callbacks.\n",
      "  % delta_t_median)\n"
     ]
    },
    {
     "name": "stdout",
     "output_type": "stream",
     "text": [
      "Time usage: 0:02:39 minutes\n",
      "374/374 [==============================] - 0s 1ms/step\n",
      "934/934 [==============================] - 1s 1ms/step\n",
      "3357/3357 [==============================] - 4s 1ms/step\n",
      " - Model specifics:\tbatch size: 64, mode: triangular2, stepsize: 420, base-lr: 1e-06, max-lr 0.0003, *2\n",
      "Time usage: 0:02:31 minutes\n",
      "374/374 [==============================] - 0s 1ms/step\n",
      "934/934 [==============================] - 1s 1ms/step\n",
      "3357/3357 [==============================] - 4s 1ms/step\n",
      "/home/rick/Documents/HannahZ/Code/logs\n",
      " - Model specifics:\tbatch size: 64, mode: triangular2, stepsize: 420, base-lr: 1e-06, max-lr 0.0003, *3\n"
     ]
    },
    {
     "name": "stderr",
     "output_type": "stream",
     "text": [
      "/home/rick/.conda/envs/hannah_z/lib/python2.7/site-packages/keras/callbacks.py:120: UserWarning: Method on_batch_end() is slow compared to the batch update (0.129506). Check your callbacks.\n",
      "  % delta_t_median)\n"
     ]
    },
    {
     "name": "stdout",
     "output_type": "stream",
     "text": [
      "Time usage: 0:02:35 minutes\n",
      "374/374 [==============================] - 0s 1ms/step\n",
      "934/934 [==============================] - 1s 1ms/step\n",
      "3357/3357 [==============================] - 4s 1ms/step\n",
      " - Model specifics:\tbatch size: 64, mode: triangular2, stepsize: 420, base-lr: 1e-06, max-lr 0.0003, *3\n",
      "Time usage: 0:02:28 minutes\n",
      "374/374 [==============================] - 0s 1ms/step\n",
      "934/934 [==============================] - 1s 1ms/step\n",
      "3357/3357 [==============================] - 4s 1ms/step\n",
      "/home/rick/Documents/HannahZ/Code/logs\n",
      " - Model specifics:\tbatch size: 64, mode: triangular2, stepsize: 420, base-lr: 1e-06, max-lr 0.0003, *4\n"
     ]
    },
    {
     "name": "stderr",
     "output_type": "stream",
     "text": [
      "/home/rick/.conda/envs/hannah_z/lib/python2.7/site-packages/keras/callbacks.py:120: UserWarning: Method on_batch_end() is slow compared to the batch update (0.136216). Check your callbacks.\n",
      "  % delta_t_median)\n"
     ]
    },
    {
     "name": "stdout",
     "output_type": "stream",
     "text": [
      "Time usage: 0:02:39 minutes\n",
      "374/374 [==============================] - 0s 1ms/step\n",
      "934/934 [==============================] - 1s 1ms/step\n",
      "3357/3357 [==============================] - 4s 1ms/step\n",
      " - Model specifics:\tbatch size: 64, mode: triangular2, stepsize: 420, base-lr: 1e-06, max-lr 0.0003, *4\n",
      "Time usage: 0:02:31 minutes\n",
      "374/374 [==============================] - 0s 1ms/step\n",
      "934/934 [==============================] - 1s 1ms/step\n",
      "3357/3357 [==============================] - 4s 1ms/step\n",
      "/home/rick/Documents/HannahZ/Code/logs\n",
      "Time usage: 0:26:23 minutes\n",
      " - Model specifics:\tbatch size: 64, mode: triangular, stepsize: 525, base-lr: 1e-06, max-lr 0.0003, *0\n"
     ]
    },
    {
     "name": "stderr",
     "output_type": "stream",
     "text": [
      "/home/rick/.conda/envs/hannah_z/lib/python2.7/site-packages/keras/callbacks.py:120: UserWarning: Method on_batch_end() is slow compared to the batch update (0.146351). Check your callbacks.\n",
      "  % delta_t_median)\n"
     ]
    },
    {
     "name": "stdout",
     "output_type": "stream",
     "text": [
      "Time usage: 0:02:37 minutes\n",
      "374/374 [==============================] - 0s 1ms/step\n",
      "934/934 [==============================] - 1s 1ms/step\n",
      "3357/3357 [==============================] - 4s 1ms/step\n",
      " - Model specifics:\tbatch size: 64, mode: triangular, stepsize: 525, base-lr: 1e-06, max-lr 0.0003, *0\n",
      "Time usage: 0:02:28 minutes\n",
      "374/374 [==============================] - 0s 1ms/step\n",
      "934/934 [==============================] - 1s 1ms/step\n",
      "3357/3357 [==============================] - 4s 1ms/step\n",
      "/home/rick/Documents/HannahZ/Code/logs\n",
      " - Model specifics:\tbatch size: 64, mode: triangular, stepsize: 525, base-lr: 1e-06, max-lr 0.0003, *1\n"
     ]
    },
    {
     "name": "stderr",
     "output_type": "stream",
     "text": [
      "/home/rick/.conda/envs/hannah_z/lib/python2.7/site-packages/keras/callbacks.py:120: UserWarning: Method on_batch_end() is slow compared to the batch update (0.164511). Check your callbacks.\n",
      "  % delta_t_median)\n"
     ]
    },
    {
     "name": "stdout",
     "output_type": "stream",
     "text": [
      "Time usage: 0:02:39 minutes\n",
      "374/374 [==============================] - 0s 1ms/step\n",
      "934/934 [==============================] - 1s 1ms/step\n",
      "3357/3357 [==============================] - 4s 1ms/step\n",
      " - Model specifics:\tbatch size: 64, mode: triangular, stepsize: 525, base-lr: 1e-06, max-lr 0.0003, *1\n",
      "Time usage: 0:02:30 minutes\n",
      "374/374 [==============================] - 0s 1ms/step\n",
      "934/934 [==============================] - 1s 1ms/step\n",
      "3357/3357 [==============================] - 4s 1ms/step\n",
      "/home/rick/Documents/HannahZ/Code/logs\n",
      " - Model specifics:\tbatch size: 64, mode: triangular, stepsize: 525, base-lr: 1e-06, max-lr 0.0003, *2\n"
     ]
    },
    {
     "name": "stderr",
     "output_type": "stream",
     "text": [
      "/home/rick/.conda/envs/hannah_z/lib/python2.7/site-packages/keras/callbacks.py:120: UserWarning: Method on_batch_end() is slow compared to the batch update (0.132820). Check your callbacks.\n",
      "  % delta_t_median)\n"
     ]
    },
    {
     "name": "stdout",
     "output_type": "stream",
     "text": [
      "Time usage: 0:02:35 minutes\n",
      "374/374 [==============================] - 0s 1ms/step\n",
      "934/934 [==============================] - 1s 1ms/step\n",
      "3357/3357 [==============================] - 4s 1ms/step\n",
      " - Model specifics:\tbatch size: 64, mode: triangular, stepsize: 525, base-lr: 1e-06, max-lr 0.0003, *2\n",
      "Time usage: 0:02:28 minutes\n",
      "374/374 [==============================] - 0s 1ms/step\n",
      "934/934 [==============================] - 1s 1ms/step\n",
      "3357/3357 [==============================] - 4s 1ms/step\n",
      "/home/rick/Documents/HannahZ/Code/logs\n",
      " - Model specifics:\tbatch size: 64, mode: triangular, stepsize: 525, base-lr: 1e-06, max-lr 0.0003, *3\n"
     ]
    },
    {
     "name": "stderr",
     "output_type": "stream",
     "text": [
      "/home/rick/.conda/envs/hannah_z/lib/python2.7/site-packages/keras/callbacks.py:120: UserWarning: Method on_batch_end() is slow compared to the batch update (0.130062). Check your callbacks.\n",
      "  % delta_t_median)\n"
     ]
    },
    {
     "name": "stdout",
     "output_type": "stream",
     "text": [
      "Time usage: 0:02:39 minutes\n",
      "374/374 [==============================] - 0s 1ms/step\n",
      "934/934 [==============================] - 1s 1ms/step\n",
      "3357/3357 [==============================] - 4s 1ms/step\n",
      " - Model specifics:\tbatch size: 64, mode: triangular, stepsize: 525, base-lr: 1e-06, max-lr 0.0003, *3\n",
      "Time usage: 0:02:31 minutes\n",
      "374/374 [==============================] - 0s 1ms/step\n",
      "934/934 [==============================] - 1s 1ms/step\n",
      "3357/3357 [==============================] - 4s 1ms/step\n",
      "/home/rick/Documents/HannahZ/Code/logs\n",
      " - Model specifics:\tbatch size: 64, mode: triangular, stepsize: 525, base-lr: 1e-06, max-lr 0.0003, *4\n"
     ]
    },
    {
     "name": "stderr",
     "output_type": "stream",
     "text": [
      "/home/rick/.conda/envs/hannah_z/lib/python2.7/site-packages/keras/callbacks.py:120: UserWarning: Method on_batch_end() is slow compared to the batch update (0.130093). Check your callbacks.\n",
      "  % delta_t_median)\n"
     ]
    },
    {
     "name": "stdout",
     "output_type": "stream",
     "text": [
      "Time usage: 0:02:36 minutes\n",
      "374/374 [==============================] - 0s 1ms/step\n",
      "934/934 [==============================] - 1s 1ms/step\n",
      "3357/3357 [==============================] - 4s 1ms/step\n",
      " - Model specifics:\tbatch size: 64, mode: triangular, stepsize: 525, base-lr: 1e-06, max-lr 0.0003, *4\n",
      "Time usage: 0:02:28 minutes\n",
      "374/374 [==============================] - 0s 1ms/step\n",
      "934/934 [==============================] - 1s 1ms/step\n",
      "3357/3357 [==============================] - 4s 1ms/step\n",
      "/home/rick/Documents/HannahZ/Code/logs\n",
      "Time usage: 0:26:24 minutes\n",
      " - Model specifics:\tbatch size: 64, mode: triangular2, stepsize: 525, base-lr: 1e-06, max-lr 0.0003, *0\n"
     ]
    },
    {
     "name": "stderr",
     "output_type": "stream",
     "text": [
      "/home/rick/.conda/envs/hannah_z/lib/python2.7/site-packages/keras/callbacks.py:120: UserWarning: Method on_batch_end() is slow compared to the batch update (0.135083). Check your callbacks.\n",
      "  % delta_t_median)\n"
     ]
    },
    {
     "name": "stdout",
     "output_type": "stream",
     "text": [
      "Time usage: 0:02:37 minutes\n",
      "374/374 [==============================] - 0s 1ms/step\n",
      "934/934 [==============================] - 1s 1ms/step\n",
      "3357/3357 [==============================] - 4s 1ms/step\n",
      " - Model specifics:\tbatch size: 64, mode: triangular2, stepsize: 525, base-lr: 1e-06, max-lr 0.0003, *0\n",
      "Time usage: 0:02:28 minutes\n",
      "374/374 [==============================] - 0s 1ms/step\n",
      "934/934 [==============================] - 1s 1ms/step\n",
      "3357/3357 [==============================] - 4s 1ms/step\n",
      "/home/rick/Documents/HannahZ/Code/logs\n",
      " - Model specifics:\tbatch size: 64, mode: triangular2, stepsize: 525, base-lr: 1e-06, max-lr 0.0003, *1\n"
     ]
    },
    {
     "name": "stderr",
     "output_type": "stream",
     "text": [
      "/home/rick/.conda/envs/hannah_z/lib/python2.7/site-packages/keras/callbacks.py:120: UserWarning: Method on_batch_end() is slow compared to the batch update (0.131921). Check your callbacks.\n",
      "  % delta_t_median)\n"
     ]
    },
    {
     "name": "stdout",
     "output_type": "stream",
     "text": [
      "Time usage: 0:02:36 minutes\n",
      "374/374 [==============================] - 0s 1ms/step\n",
      "934/934 [==============================] - 1s 1ms/step\n",
      "3357/3357 [==============================] - 4s 1ms/step\n",
      " - Model specifics:\tbatch size: 64, mode: triangular2, stepsize: 525, base-lr: 1e-06, max-lr 0.0003, *1\n",
      "Time usage: 0:02:29 minutes\n",
      "374/374 [==============================] - 0s 1ms/step\n",
      "934/934 [==============================] - 1s 1ms/step\n",
      "3357/3357 [==============================] - 4s 1ms/step\n",
      "/home/rick/Documents/HannahZ/Code/logs\n",
      " - Model specifics:\tbatch size: 64, mode: triangular2, stepsize: 525, base-lr: 1e-06, max-lr 0.0003, *2\n"
     ]
    },
    {
     "name": "stderr",
     "output_type": "stream",
     "text": [
      "/home/rick/.conda/envs/hannah_z/lib/python2.7/site-packages/keras/callbacks.py:120: UserWarning: Method on_batch_end() is slow compared to the batch update (0.132331). Check your callbacks.\n",
      "  % delta_t_median)\n"
     ]
    },
    {
     "name": "stdout",
     "output_type": "stream",
     "text": [
      "Time usage: 0:02:36 minutes\n",
      "374/374 [==============================] - 0s 1ms/step\n",
      "934/934 [==============================] - 1s 1ms/step\n",
      "3357/3357 [==============================] - 4s 1ms/step\n",
      " - Model specifics:\tbatch size: 64, mode: triangular2, stepsize: 525, base-lr: 1e-06, max-lr 0.0003, *2\n",
      "Time usage: 0:02:28 minutes\n",
      "374/374 [==============================] - 0s 1ms/step\n",
      "934/934 [==============================] - 1s 1ms/step\n",
      "3357/3357 [==============================] - 4s 1ms/step\n",
      "/home/rick/Documents/HannahZ/Code/logs\n",
      " - Model specifics:\tbatch size: 64, mode: triangular2, stepsize: 525, base-lr: 1e-06, max-lr 0.0003, *3\n"
     ]
    },
    {
     "name": "stderr",
     "output_type": "stream",
     "text": [
      "/home/rick/.conda/envs/hannah_z/lib/python2.7/site-packages/keras/callbacks.py:120: UserWarning: Method on_batch_end() is slow compared to the batch update (0.132671). Check your callbacks.\n",
      "  % delta_t_median)\n"
     ]
    },
    {
     "name": "stdout",
     "output_type": "stream",
     "text": [
      "Time usage: 0:02:35 minutes\n",
      "374/374 [==============================] - 0s 1ms/step\n",
      "934/934 [==============================] - 1s 1ms/step\n",
      "3357/3357 [==============================] - 4s 1ms/step\n",
      " - Model specifics:\tbatch size: 64, mode: triangular2, stepsize: 525, base-lr: 1e-06, max-lr 0.0003, *3\n",
      "Time usage: 0:02:27 minutes\n",
      "374/374 [==============================] - 0s 1ms/step\n",
      "934/934 [==============================] - 1s 1ms/step\n",
      "3357/3357 [==============================] - 4s 1ms/step\n",
      "/home/rick/Documents/HannahZ/Code/logs\n",
      " - Model specifics:\tbatch size: 64, mode: triangular2, stepsize: 525, base-lr: 1e-06, max-lr 0.0003, *4\n"
     ]
    },
    {
     "name": "stderr",
     "output_type": "stream",
     "text": [
      "/home/rick/.conda/envs/hannah_z/lib/python2.7/site-packages/keras/callbacks.py:120: UserWarning: Method on_batch_end() is slow compared to the batch update (0.132494). Check your callbacks.\n",
      "  % delta_t_median)\n"
     ]
    },
    {
     "name": "stdout",
     "output_type": "stream",
     "text": [
      "Time usage: 0:02:37 minutes\n",
      "374/374 [==============================] - 0s 1ms/step\n",
      "934/934 [==============================] - 1s 1ms/step\n",
      "3357/3357 [==============================] - 4s 1ms/step\n",
      " - Model specifics:\tbatch size: 64, mode: triangular2, stepsize: 525, base-lr: 1e-06, max-lr 0.0003, *4\n",
      "Time usage: 0:02:29 minutes\n",
      "374/374 [==============================] - 0s 1ms/step\n",
      "934/934 [==============================] - 1s 1ms/step\n",
      "3357/3357 [==============================] - 4s 1ms/step\n",
      "/home/rick/Documents/HannahZ/Code/logs\n",
      "Time usage: 0:26:16 minutes\n",
      " - Model specifics:\tbatch size: 128, mode: triangular, stepsize: 157, base-lr: 1e-06, max-lr 0.0003, *0\n"
     ]
    },
    {
     "name": "stderr",
     "output_type": "stream",
     "text": [
      "/home/rick/.conda/envs/hannah_z/lib/python2.7/site-packages/keras/callbacks.py:120: UserWarning: Method on_batch_end() is slow compared to the batch update (0.137062). Check your callbacks.\n",
      "  % delta_t_median)\n"
     ]
    },
    {
     "name": "stdout",
     "output_type": "stream",
     "text": [
      "Time usage: 0:02:24 minutes\n",
      "374/374 [==============================] - 0s 1ms/step\n",
      "934/934 [==============================] - 1s 1ms/step\n",
      "3357/3357 [==============================] - 4s 1ms/step\n",
      " - Model specifics:\tbatch size: 128, mode: triangular, stepsize: 157, base-lr: 1e-06, max-lr 0.0003, *0\n",
      "Time usage: 0:02:16 minutes\n",
      "374/374 [==============================] - 0s 1ms/step\n",
      "934/934 [==============================] - 1s 1ms/step\n",
      "3357/3357 [==============================] - 4s 1ms/step\n",
      "/home/rick/Documents/HannahZ/Code/logs\n",
      " - Model specifics:\tbatch size: 128, mode: triangular, stepsize: 157, base-lr: 1e-06, max-lr 0.0003, *1\n"
     ]
    },
    {
     "name": "stderr",
     "output_type": "stream",
     "text": [
      "/home/rick/.conda/envs/hannah_z/lib/python2.7/site-packages/keras/callbacks.py:120: UserWarning: Method on_batch_end() is slow compared to the batch update (0.136780). Check your callbacks.\n",
      "  % delta_t_median)\n"
     ]
    },
    {
     "name": "stdout",
     "output_type": "stream",
     "text": [
      "Time usage: 0:02:24 minutes\n",
      "374/374 [==============================] - 0s 1ms/step\n",
      "934/934 [==============================] - 1s 1ms/step\n",
      "3357/3357 [==============================] - 4s 1ms/step\n",
      " - Model specifics:\tbatch size: 128, mode: triangular, stepsize: 157, base-lr: 1e-06, max-lr 0.0003, *1\n",
      "Time usage: 0:02:16 minutes\n",
      "374/374 [==============================] - 0s 1ms/step\n",
      "934/934 [==============================] - 1s 1ms/step\n",
      "3357/3357 [==============================] - 4s 1ms/step\n",
      "/home/rick/Documents/HannahZ/Code/logs\n",
      " - Model specifics:\tbatch size: 128, mode: triangular, stepsize: 157, base-lr: 1e-06, max-lr 0.0003, *2\n"
     ]
    },
    {
     "name": "stderr",
     "output_type": "stream",
     "text": [
      "/home/rick/.conda/envs/hannah_z/lib/python2.7/site-packages/keras/callbacks.py:120: UserWarning: Method on_batch_end() is slow compared to the batch update (0.135911). Check your callbacks.\n",
      "  % delta_t_median)\n"
     ]
    },
    {
     "name": "stdout",
     "output_type": "stream",
     "text": [
      "Time usage: 0:02:25 minutes\n",
      "374/374 [==============================] - 0s 1ms/step\n",
      "934/934 [==============================] - 1s 1ms/step\n",
      "3357/3357 [==============================] - 4s 1ms/step\n",
      " - Model specifics:\tbatch size: 128, mode: triangular, stepsize: 157, base-lr: 1e-06, max-lr 0.0003, *2\n",
      "Time usage: 0:02:16 minutes\n",
      "374/374 [==============================] - 0s 1ms/step\n",
      "934/934 [==============================] - 1s 1ms/step\n",
      "3357/3357 [==============================] - 4s 1ms/step\n",
      "/home/rick/Documents/HannahZ/Code/logs\n",
      " - Model specifics:\tbatch size: 128, mode: triangular, stepsize: 157, base-lr: 1e-06, max-lr 0.0003, *3\n"
     ]
    },
    {
     "name": "stderr",
     "output_type": "stream",
     "text": [
      "/home/rick/.conda/envs/hannah_z/lib/python2.7/site-packages/keras/callbacks.py:120: UserWarning: Method on_batch_end() is slow compared to the batch update (0.136843). Check your callbacks.\n",
      "  % delta_t_median)\n"
     ]
    },
    {
     "name": "stdout",
     "output_type": "stream",
     "text": [
      "Time usage: 0:02:24 minutes\n",
      "374/374 [==============================] - 0s 1ms/step\n",
      "934/934 [==============================] - 1s 1ms/step\n",
      "3357/3357 [==============================] - 4s 1ms/step\n",
      " - Model specifics:\tbatch size: 128, mode: triangular, stepsize: 157, base-lr: 1e-06, max-lr 0.0003, *3\n",
      "Time usage: 0:02:16 minutes\n",
      "374/374 [==============================] - 0s 1ms/step\n",
      "934/934 [==============================] - 1s 1ms/step\n",
      "3357/3357 [==============================] - 4s 1ms/step\n",
      "/home/rick/Documents/HannahZ/Code/logs\n",
      " - Model specifics:\tbatch size: 128, mode: triangular, stepsize: 157, base-lr: 1e-06, max-lr 0.0003, *4\n"
     ]
    },
    {
     "name": "stderr",
     "output_type": "stream",
     "text": [
      "/home/rick/.conda/envs/hannah_z/lib/python2.7/site-packages/keras/callbacks.py:120: UserWarning: Method on_batch_end() is slow compared to the batch update (0.139534). Check your callbacks.\n",
      "  % delta_t_median)\n"
     ]
    },
    {
     "name": "stdout",
     "output_type": "stream",
     "text": [
      "Time usage: 0:02:15 minutes\n",
      "374/374 [==============================] - 0s 1ms/step\n",
      "934/934 [==============================] - 1s 1ms/step\n",
      "3357/3357 [==============================] - 4s 1ms/step\n",
      " - Model specifics:\tbatch size: 128, mode: triangular, stepsize: 157, base-lr: 1e-06, max-lr 0.0003, *4\n",
      "Time usage: 0:02:07 minutes\n",
      "374/374 [==============================] - 0s 1ms/step\n",
      "934/934 [==============================] - 1s 1ms/step\n",
      "3357/3357 [==============================] - 4s 1ms/step\n",
      "/home/rick/Documents/HannahZ/Code/logs\n",
      "Time usage: 0:23:57 minutes\n",
      " - Model specifics:\tbatch size: 128, mode: triangular2, stepsize: 157, base-lr: 1e-06, max-lr 0.0003, *0\n"
     ]
    },
    {
     "name": "stderr",
     "output_type": "stream",
     "text": [
      "/home/rick/.conda/envs/hannah_z/lib/python2.7/site-packages/keras/callbacks.py:120: UserWarning: Method on_batch_end() is slow compared to the batch update (0.136473). Check your callbacks.\n",
      "  % delta_t_median)\n"
     ]
    },
    {
     "name": "stdout",
     "output_type": "stream",
     "text": [
      "Time usage: 0:02:17 minutes\n",
      "374/374 [==============================] - 0s 1ms/step\n",
      "934/934 [==============================] - 1s 1ms/step\n",
      "3357/3357 [==============================] - 4s 1ms/step\n",
      " - Model specifics:\tbatch size: 128, mode: triangular2, stepsize: 157, base-lr: 1e-06, max-lr 0.0003, *0\n",
      "Time usage: 0:02:07 minutes\n",
      "374/374 [==============================] - 0s 1ms/step\n",
      "934/934 [==============================] - 1s 1ms/step\n",
      "3357/3357 [==============================] - 4s 1ms/step\n",
      "/home/rick/Documents/HannahZ/Code/logs\n",
      " - Model specifics:\tbatch size: 128, mode: triangular2, stepsize: 157, base-lr: 1e-06, max-lr 0.0003, *1\n"
     ]
    },
    {
     "name": "stderr",
     "output_type": "stream",
     "text": [
      "/home/rick/.conda/envs/hannah_z/lib/python2.7/site-packages/keras/callbacks.py:120: UserWarning: Method on_batch_end() is slow compared to the batch update (0.140028). Check your callbacks.\n",
      "  % delta_t_median)\n"
     ]
    },
    {
     "name": "stdout",
     "output_type": "stream",
     "text": [
      "Time usage: 0:02:15 minutes\n",
      "374/374 [==============================] - 0s 1ms/step\n",
      "934/934 [==============================] - 1s 1ms/step\n",
      "3357/3357 [==============================] - 4s 1ms/step\n",
      " - Model specifics:\tbatch size: 128, mode: triangular2, stepsize: 157, base-lr: 1e-06, max-lr 0.0003, *1\n",
      "Time usage: 0:02:07 minutes\n",
      "374/374 [==============================] - 0s 1ms/step\n",
      "934/934 [==============================] - 1s 1ms/step\n",
      "3357/3357 [==============================] - 4s 1ms/step\n",
      "/home/rick/Documents/HannahZ/Code/logs\n",
      " - Model specifics:\tbatch size: 128, mode: triangular2, stepsize: 157, base-lr: 1e-06, max-lr 0.0003, *2\n"
     ]
    },
    {
     "name": "stderr",
     "output_type": "stream",
     "text": [
      "/home/rick/.conda/envs/hannah_z/lib/python2.7/site-packages/keras/callbacks.py:120: UserWarning: Method on_batch_end() is slow compared to the batch update (0.225374). Check your callbacks.\n",
      "  % delta_t_median)\n"
     ]
    },
    {
     "name": "stdout",
     "output_type": "stream",
     "text": [
      "Time usage: 0:02:17 minutes\n",
      "374/374 [==============================] - 0s 1ms/step\n",
      "934/934 [==============================] - 1s 1ms/step\n",
      "3357/3357 [==============================] - 4s 1ms/step\n",
      " - Model specifics:\tbatch size: 128, mode: triangular2, stepsize: 157, base-lr: 1e-06, max-lr 0.0003, *2\n",
      "Time usage: 0:02:07 minutes\n",
      "374/374 [==============================] - 0s 1ms/step\n",
      "934/934 [==============================] - 1s 1ms/step\n",
      "3357/3357 [==============================] - 4s 1ms/step\n",
      "/home/rick/Documents/HannahZ/Code/logs\n",
      " - Model specifics:\tbatch size: 128, mode: triangular2, stepsize: 157, base-lr: 1e-06, max-lr 0.0003, *3\n"
     ]
    },
    {
     "name": "stderr",
     "output_type": "stream",
     "text": [
      "/home/rick/.conda/envs/hannah_z/lib/python2.7/site-packages/keras/callbacks.py:120: UserWarning: Method on_batch_end() is slow compared to the batch update (0.218933). Check your callbacks.\n",
      "  % delta_t_median)\n"
     ]
    },
    {
     "name": "stdout",
     "output_type": "stream",
     "text": [
      "Time usage: 0:02:17 minutes\n",
      "374/374 [==============================] - 0s 1ms/step\n",
      "934/934 [==============================] - 1s 1ms/step\n",
      "3357/3357 [==============================] - 4s 1ms/step\n",
      " - Model specifics:\tbatch size: 128, mode: triangular2, stepsize: 157, base-lr: 1e-06, max-lr 0.0003, *3\n",
      "Time usage: 0:02:07 minutes\n",
      "374/374 [==============================] - 0s 1ms/step\n",
      "934/934 [==============================] - 1s 1ms/step\n",
      "3357/3357 [==============================] - 4s 1ms/step\n",
      "/home/rick/Documents/HannahZ/Code/logs\n",
      " - Model specifics:\tbatch size: 128, mode: triangular2, stepsize: 157, base-lr: 1e-06, max-lr 0.0003, *4\n"
     ]
    },
    {
     "name": "stderr",
     "output_type": "stream",
     "text": [
      "/home/rick/.conda/envs/hannah_z/lib/python2.7/site-packages/keras/callbacks.py:120: UserWarning: Method on_batch_end() is slow compared to the batch update (0.208391). Check your callbacks.\n",
      "  % delta_t_median)\n"
     ]
    },
    {
     "name": "stdout",
     "output_type": "stream",
     "text": [
      "Time usage: 0:02:20 minutes\n",
      "374/374 [==============================] - 0s 1ms/step\n",
      "934/934 [==============================] - 1s 1ms/step\n",
      "3357/3357 [==============================] - 4s 1ms/step\n",
      " - Model specifics:\tbatch size: 128, mode: triangular2, stepsize: 157, base-lr: 1e-06, max-lr 0.0003, *4\n",
      "Time usage: 0:02:10 minutes\n",
      "374/374 [==============================] - 0s 1ms/step\n",
      "934/934 [==============================] - 1s 1ms/step\n",
      "3357/3357 [==============================] - 4s 1ms/step\n",
      "/home/rick/Documents/HannahZ/Code/logs\n",
      "Time usage: 0:22:59 minutes\n",
      " - Model specifics:\tbatch size: 128, mode: triangular, stepsize: 210, base-lr: 1e-06, max-lr 0.0003, *0\n"
     ]
    },
    {
     "name": "stderr",
     "output_type": "stream",
     "text": [
      "/home/rick/.conda/envs/hannah_z/lib/python2.7/site-packages/keras/callbacks.py:120: UserWarning: Method on_batch_end() is slow compared to the batch update (0.187876). Check your callbacks.\n",
      "  % delta_t_median)\n"
     ]
    },
    {
     "name": "stdout",
     "output_type": "stream",
     "text": [
      "Time usage: 0:02:20 minutes\n",
      "374/374 [==============================] - 0s 1ms/step\n",
      "934/934 [==============================] - 1s 1ms/step\n",
      "3357/3357 [==============================] - 4s 1ms/step\n",
      " - Model specifics:\tbatch size: 128, mode: triangular, stepsize: 210, base-lr: 1e-06, max-lr 0.0003, *0\n",
      "Time usage: 0:02:10 minutes\n",
      "374/374 [==============================] - 0s 1ms/step\n",
      "934/934 [==============================] - 1s 1ms/step\n",
      "3357/3357 [==============================] - 4s 1ms/step\n",
      "/home/rick/Documents/HannahZ/Code/logs\n",
      " - Model specifics:\tbatch size: 128, mode: triangular, stepsize: 210, base-lr: 1e-06, max-lr 0.0003, *1\n"
     ]
    },
    {
     "name": "stderr",
     "output_type": "stream",
     "text": [
      "/home/rick/.conda/envs/hannah_z/lib/python2.7/site-packages/keras/callbacks.py:120: UserWarning: Method on_batch_end() is slow compared to the batch update (0.168102). Check your callbacks.\n",
      "  % delta_t_median)\n"
     ]
    },
    {
     "name": "stdout",
     "output_type": "stream",
     "text": [
      "Time usage: 0:02:18 minutes\n",
      "374/374 [==============================] - 0s 1ms/step\n",
      "934/934 [==============================] - 1s 1ms/step\n",
      "3357/3357 [==============================] - 4s 1ms/step\n",
      " - Model specifics:\tbatch size: 128, mode: triangular, stepsize: 210, base-lr: 1e-06, max-lr 0.0003, *1\n",
      "Time usage: 0:02:09 minutes\n",
      "374/374 [==============================] - 0s 1ms/step\n",
      "934/934 [==============================] - 1s 1ms/step\n",
      "3357/3357 [==============================] - 4s 1ms/step\n",
      "/home/rick/Documents/HannahZ/Code/logs\n",
      " - Model specifics:\tbatch size: 128, mode: triangular, stepsize: 210, base-lr: 1e-06, max-lr 0.0003, *2\n"
     ]
    },
    {
     "name": "stderr",
     "output_type": "stream",
     "text": [
      "/home/rick/.conda/envs/hannah_z/lib/python2.7/site-packages/keras/callbacks.py:120: UserWarning: Method on_batch_end() is slow compared to the batch update (0.166232). Check your callbacks.\n",
      "  % delta_t_median)\n"
     ]
    },
    {
     "name": "stdout",
     "output_type": "stream",
     "text": [
      "Time usage: 0:02:18 minutes\n",
      "374/374 [==============================] - 0s 1ms/step\n",
      "934/934 [==============================] - 1s 1ms/step\n",
      "3357/3357 [==============================] - 4s 1ms/step\n",
      " - Model specifics:\tbatch size: 128, mode: triangular, stepsize: 210, base-lr: 1e-06, max-lr 0.0003, *2\n",
      "Time usage: 0:02:09 minutes\n",
      "374/374 [==============================] - 0s 1ms/step\n",
      "934/934 [==============================] - 1s 1ms/step\n",
      "3357/3357 [==============================] - 4s 1ms/step\n",
      "/home/rick/Documents/HannahZ/Code/logs\n",
      " - Model specifics:\tbatch size: 128, mode: triangular, stepsize: 210, base-lr: 1e-06, max-lr 0.0003, *3\n"
     ]
    },
    {
     "name": "stderr",
     "output_type": "stream",
     "text": [
      "/home/rick/.conda/envs/hannah_z/lib/python2.7/site-packages/keras/callbacks.py:120: UserWarning: Method on_batch_end() is slow compared to the batch update (0.166792). Check your callbacks.\n",
      "  % delta_t_median)\n"
     ]
    },
    {
     "name": "stdout",
     "output_type": "stream",
     "text": [
      "Time usage: 0:02:19 minutes\n",
      "374/374 [==============================] - 0s 1ms/step\n",
      "934/934 [==============================] - 1s 1ms/step\n",
      "3357/3357 [==============================] - 4s 1ms/step\n",
      " - Model specifics:\tbatch size: 128, mode: triangular, stepsize: 210, base-lr: 1e-06, max-lr 0.0003, *3\n",
      "Time usage: 0:02:09 minutes\n",
      "374/374 [==============================] - 0s 1ms/step\n",
      "934/934 [==============================] - 1s 1ms/step\n",
      "3357/3357 [==============================] - 4s 1ms/step\n",
      "/home/rick/Documents/HannahZ/Code/logs\n",
      " - Model specifics:\tbatch size: 128, mode: triangular, stepsize: 210, base-lr: 1e-06, max-lr 0.0003, *4\n"
     ]
    },
    {
     "name": "stderr",
     "output_type": "stream",
     "text": [
      "/home/rick/.conda/envs/hannah_z/lib/python2.7/site-packages/keras/callbacks.py:120: UserWarning: Method on_batch_end() is slow compared to the batch update (0.165727). Check your callbacks.\n",
      "  % delta_t_median)\n"
     ]
    },
    {
     "name": "stdout",
     "output_type": "stream",
     "text": [
      "Time usage: 0:02:17 minutes\n",
      "374/374 [==============================] - 0s 1ms/step\n",
      "934/934 [==============================] - 1s 1ms/step\n",
      "3357/3357 [==============================] - 4s 1ms/step\n",
      " - Model specifics:\tbatch size: 128, mode: triangular, stepsize: 210, base-lr: 1e-06, max-lr 0.0003, *4\n",
      "Time usage: 0:02:07 minutes\n",
      "374/374 [==============================] - 0s 1ms/step\n",
      "934/934 [==============================] - 1s 1ms/step\n",
      "3357/3357 [==============================] - 4s 1ms/step\n",
      "/home/rick/Documents/HannahZ/Code/logs\n",
      "Time usage: 0:23:09 minutes\n",
      " - Model specifics:\tbatch size: 128, mode: triangular2, stepsize: 210, base-lr: 1e-06, max-lr 0.0003, *0\n"
     ]
    },
    {
     "name": "stderr",
     "output_type": "stream",
     "text": [
      "/home/rick/.conda/envs/hannah_z/lib/python2.7/site-packages/keras/callbacks.py:120: UserWarning: Method on_batch_end() is slow compared to the batch update (0.196209). Check your callbacks.\n",
      "  % delta_t_median)\n"
     ]
    },
    {
     "name": "stdout",
     "output_type": "stream",
     "text": [
      "Time usage: 0:02:19 minutes\n",
      "374/374 [==============================] - 0s 1ms/step\n",
      "934/934 [==============================] - 1s 1ms/step\n",
      "3357/3357 [==============================] - 4s 1ms/step\n",
      " - Model specifics:\tbatch size: 128, mode: triangular2, stepsize: 210, base-lr: 1e-06, max-lr 0.0003, *0\n",
      "Time usage: 0:02:08 minutes\n",
      "374/374 [==============================] - 0s 1ms/step\n",
      "934/934 [==============================] - 1s 1ms/step\n",
      "3357/3357 [==============================] - 4s 1ms/step\n",
      "/home/rick/Documents/HannahZ/Code/logs\n",
      " - Model specifics:\tbatch size: 128, mode: triangular2, stepsize: 210, base-lr: 1e-06, max-lr 0.0003, *1\n"
     ]
    },
    {
     "name": "stderr",
     "output_type": "stream",
     "text": [
      "/home/rick/.conda/envs/hannah_z/lib/python2.7/site-packages/keras/callbacks.py:120: UserWarning: Method on_batch_end() is slow compared to the batch update (0.184798). Check your callbacks.\n",
      "  % delta_t_median)\n"
     ]
    },
    {
     "name": "stdout",
     "output_type": "stream",
     "text": [
      "Time usage: 0:02:17 minutes\n",
      "374/374 [==============================] - 0s 1ms/step\n",
      "934/934 [==============================] - 1s 1ms/step\n",
      "3357/3357 [==============================] - 4s 1ms/step\n",
      " - Model specifics:\tbatch size: 128, mode: triangular2, stepsize: 210, base-lr: 1e-06, max-lr 0.0003, *1\n",
      "Time usage: 0:02:08 minutes\n",
      "374/374 [==============================] - 0s 1ms/step\n",
      "934/934 [==============================] - 1s 1ms/step\n",
      "3357/3357 [==============================] - 4s 1ms/step\n",
      "/home/rick/Documents/HannahZ/Code/logs\n",
      " - Model specifics:\tbatch size: 128, mode: triangular2, stepsize: 210, base-lr: 1e-06, max-lr 0.0003, *2\n"
     ]
    },
    {
     "name": "stderr",
     "output_type": "stream",
     "text": [
      "/home/rick/.conda/envs/hannah_z/lib/python2.7/site-packages/keras/callbacks.py:120: UserWarning: Method on_batch_end() is slow compared to the batch update (0.191478). Check your callbacks.\n",
      "  % delta_t_median)\n"
     ]
    },
    {
     "name": "stdout",
     "output_type": "stream",
     "text": [
      "Time usage: 0:02:17 minutes\n",
      "374/374 [==============================] - 0s 1ms/step\n",
      "934/934 [==============================] - 1s 1ms/step\n",
      "3357/3357 [==============================] - 4s 1ms/step\n",
      " - Model specifics:\tbatch size: 128, mode: triangular2, stepsize: 210, base-lr: 1e-06, max-lr 0.0003, *2\n",
      "Time usage: 0:02:08 minutes\n",
      "374/374 [==============================] - 0s 1ms/step\n",
      "934/934 [==============================] - 1s 1ms/step\n",
      "3357/3357 [==============================] - 4s 1ms/step\n",
      "/home/rick/Documents/HannahZ/Code/logs\n",
      " - Model specifics:\tbatch size: 128, mode: triangular2, stepsize: 210, base-lr: 1e-06, max-lr 0.0003, *3\n"
     ]
    },
    {
     "name": "stderr",
     "output_type": "stream",
     "text": [
      "/home/rick/.conda/envs/hannah_z/lib/python2.7/site-packages/keras/callbacks.py:120: UserWarning: Method on_batch_end() is slow compared to the batch update (0.181241). Check your callbacks.\n",
      "  % delta_t_median)\n"
     ]
    },
    {
     "name": "stdout",
     "output_type": "stream",
     "text": [
      "Time usage: 0:02:17 minutes\n",
      "374/374 [==============================] - 0s 1ms/step\n",
      "934/934 [==============================] - 1s 1ms/step\n",
      "3357/3357 [==============================] - 4s 1ms/step\n",
      " - Model specifics:\tbatch size: 128, mode: triangular2, stepsize: 210, base-lr: 1e-06, max-lr 0.0003, *3\n",
      "Time usage: 0:02:07 minutes\n",
      "374/374 [==============================] - 0s 1ms/step\n",
      "934/934 [==============================] - 1s 1ms/step\n",
      "3357/3357 [==============================] - 4s 1ms/step\n",
      "/home/rick/Documents/HannahZ/Code/logs\n",
      " - Model specifics:\tbatch size: 128, mode: triangular2, stepsize: 210, base-lr: 1e-06, max-lr 0.0003, *4\n"
     ]
    },
    {
     "name": "stderr",
     "output_type": "stream",
     "text": [
      "/home/rick/.conda/envs/hannah_z/lib/python2.7/site-packages/keras/callbacks.py:120: UserWarning: Method on_batch_end() is slow compared to the batch update (0.163360). Check your callbacks.\n",
      "  % delta_t_median)\n"
     ]
    },
    {
     "name": "stdout",
     "output_type": "stream",
     "text": [
      "Time usage: 0:02:18 minutes\n",
      "374/374 [==============================] - 0s 1ms/step\n",
      "934/934 [==============================] - 1s 1ms/step\n",
      "3357/3357 [==============================] - 4s 1ms/step\n",
      " - Model specifics:\tbatch size: 128, mode: triangular2, stepsize: 210, base-lr: 1e-06, max-lr 0.0003, *4\n",
      "Time usage: 0:02:08 minutes\n",
      "374/374 [==============================] - 0s 1ms/step\n",
      "934/934 [==============================] - 1s 1ms/step\n",
      "3357/3357 [==============================] - 4s 1ms/step\n",
      "/home/rick/Documents/HannahZ/Code/logs\n",
      "Time usage: 0:23:01 minutes\n",
      " - Model specifics:\tbatch size: 128, mode: triangular, stepsize: 262, base-lr: 1e-06, max-lr 0.0003, *0\n"
     ]
    },
    {
     "name": "stderr",
     "output_type": "stream",
     "text": [
      "/home/rick/.conda/envs/hannah_z/lib/python2.7/site-packages/keras/callbacks.py:120: UserWarning: Method on_batch_end() is slow compared to the batch update (0.165822). Check your callbacks.\n",
      "  % delta_t_median)\n"
     ]
    },
    {
     "name": "stdout",
     "output_type": "stream",
     "text": [
      "Time usage: 0:02:20 minutes\n",
      "374/374 [==============================] - 0s 1ms/step\n",
      "934/934 [==============================] - 1s 1ms/step\n",
      "3357/3357 [==============================] - 4s 1ms/step\n",
      " - Model specifics:\tbatch size: 128, mode: triangular, stepsize: 262, base-lr: 1e-06, max-lr 0.0003, *0\n",
      "Time usage: 0:02:09 minutes\n",
      "374/374 [==============================] - 0s 1ms/step\n",
      "934/934 [==============================] - 1s 1ms/step\n",
      "3357/3357 [==============================] - 4s 1ms/step\n",
      "/home/rick/Documents/HannahZ/Code/logs\n",
      " - Model specifics:\tbatch size: 128, mode: triangular, stepsize: 262, base-lr: 1e-06, max-lr 0.0003, *1\n"
     ]
    },
    {
     "name": "stderr",
     "output_type": "stream",
     "text": [
      "/home/rick/.conda/envs/hannah_z/lib/python2.7/site-packages/keras/callbacks.py:120: UserWarning: Method on_batch_end() is slow compared to the batch update (0.166204). Check your callbacks.\n",
      "  % delta_t_median)\n"
     ]
    },
    {
     "name": "stdout",
     "output_type": "stream",
     "text": [
      "Time usage: 0:02:17 minutes\n",
      "374/374 [==============================] - 0s 1ms/step\n",
      "934/934 [==============================] - 1s 1ms/step\n",
      "3357/3357 [==============================] - 4s 1ms/step\n",
      " - Model specifics:\tbatch size: 128, mode: triangular, stepsize: 262, base-lr: 1e-06, max-lr 0.0003, *1\n",
      "Time usage: 0:02:07 minutes\n",
      "374/374 [==============================] - 0s 1ms/step\n",
      "934/934 [==============================] - 1s 1ms/step\n",
      "3357/3357 [==============================] - 4s 1ms/step\n",
      "/home/rick/Documents/HannahZ/Code/logs\n",
      " - Model specifics:\tbatch size: 128, mode: triangular, stepsize: 262, base-lr: 1e-06, max-lr 0.0003, *2\n"
     ]
    },
    {
     "name": "stderr",
     "output_type": "stream",
     "text": [
      "/home/rick/.conda/envs/hannah_z/lib/python2.7/site-packages/keras/callbacks.py:120: UserWarning: Method on_batch_end() is slow compared to the batch update (0.165654). Check your callbacks.\n",
      "  % delta_t_median)\n"
     ]
    },
    {
     "name": "stdout",
     "output_type": "stream",
     "text": [
      "Time usage: 0:02:17 minutes\n",
      "374/374 [==============================] - 0s 1ms/step\n",
      "934/934 [==============================] - 1s 1ms/step\n",
      "3357/3357 [==============================] - 4s 1ms/step\n",
      " - Model specifics:\tbatch size: 128, mode: triangular, stepsize: 262, base-lr: 1e-06, max-lr 0.0003, *2\n",
      "Time usage: 0:02:08 minutes\n",
      "374/374 [==============================] - 0s 1ms/step\n",
      "934/934 [==============================] - 1s 1ms/step\n",
      "3357/3357 [==============================] - 4s 1ms/step\n",
      "/home/rick/Documents/HannahZ/Code/logs\n",
      " - Model specifics:\tbatch size: 128, mode: triangular, stepsize: 262, base-lr: 1e-06, max-lr 0.0003, *3\n"
     ]
    },
    {
     "name": "stderr",
     "output_type": "stream",
     "text": [
      "/home/rick/.conda/envs/hannah_z/lib/python2.7/site-packages/keras/callbacks.py:120: UserWarning: Method on_batch_end() is slow compared to the batch update (0.160304). Check your callbacks.\n",
      "  % delta_t_median)\n"
     ]
    },
    {
     "name": "stdout",
     "output_type": "stream",
     "text": [
      "Time usage: 0:02:16 minutes\n",
      "374/374 [==============================] - 0s 1ms/step\n",
      "934/934 [==============================] - 1s 1ms/step\n",
      "3357/3357 [==============================] - 4s 1ms/step\n",
      " - Model specifics:\tbatch size: 128, mode: triangular, stepsize: 262, base-lr: 1e-06, max-lr 0.0003, *3\n",
      "Time usage: 0:02:08 minutes\n",
      "374/374 [==============================] - 0s 1ms/step\n",
      "934/934 [==============================] - 1s 1ms/step\n",
      "3357/3357 [==============================] - 4s 1ms/step\n",
      "/home/rick/Documents/HannahZ/Code/logs\n",
      " - Model specifics:\tbatch size: 128, mode: triangular, stepsize: 262, base-lr: 1e-06, max-lr 0.0003, *4\n"
     ]
    },
    {
     "name": "stderr",
     "output_type": "stream",
     "text": [
      "/home/rick/.conda/envs/hannah_z/lib/python2.7/site-packages/keras/callbacks.py:120: UserWarning: Method on_batch_end() is slow compared to the batch update (0.163607). Check your callbacks.\n",
      "  % delta_t_median)\n"
     ]
    },
    {
     "name": "stdout",
     "output_type": "stream",
     "text": [
      "Time usage: 0:02:18 minutes\n",
      "374/374 [==============================] - 0s 1ms/step\n",
      "934/934 [==============================] - 1s 1ms/step\n",
      "3357/3357 [==============================] - 4s 1ms/step\n",
      " - Model specifics:\tbatch size: 128, mode: triangular, stepsize: 262, base-lr: 1e-06, max-lr 0.0003, *4\n",
      "Time usage: 0:02:09 minutes\n",
      "374/374 [==============================] - 0s 1ms/step\n",
      "934/934 [==============================] - 1s 1ms/step\n",
      "3357/3357 [==============================] - 4s 1ms/step\n",
      "/home/rick/Documents/HannahZ/Code/logs\n",
      "Time usage: 0:23:02 minutes\n",
      " - Model specifics:\tbatch size: 128, mode: triangular2, stepsize: 262, base-lr: 1e-06, max-lr 0.0003, *0\n"
     ]
    },
    {
     "name": "stderr",
     "output_type": "stream",
     "text": [
      "/home/rick/.conda/envs/hannah_z/lib/python2.7/site-packages/keras/callbacks.py:120: UserWarning: Method on_batch_end() is slow compared to the batch update (0.183702). Check your callbacks.\n",
      "  % delta_t_median)\n"
     ]
    },
    {
     "name": "stdout",
     "output_type": "stream",
     "text": [
      "Time usage: 0:02:21 minutes\n",
      "374/374 [==============================] - 0s 1ms/step\n",
      "934/934 [==============================] - 1s 1ms/step\n",
      "3357/3357 [==============================] - 4s 1ms/step\n",
      " - Model specifics:\tbatch size: 128, mode: triangular2, stepsize: 262, base-lr: 1e-06, max-lr 0.0003, *0\n",
      "Time usage: 0:02:10 minutes\n",
      "374/374 [==============================] - 0s 1ms/step\n",
      "934/934 [==============================] - 1s 1ms/step\n",
      "3357/3357 [==============================] - 4s 1ms/step\n",
      "/home/rick/Documents/HannahZ/Code/logs\n",
      " - Model specifics:\tbatch size: 128, mode: triangular2, stepsize: 262, base-lr: 1e-06, max-lr 0.0003, *1\n"
     ]
    },
    {
     "name": "stderr",
     "output_type": "stream",
     "text": [
      "/home/rick/.conda/envs/hannah_z/lib/python2.7/site-packages/keras/callbacks.py:120: UserWarning: Method on_batch_end() is slow compared to the batch update (0.168221). Check your callbacks.\n",
      "  % delta_t_median)\n"
     ]
    },
    {
     "name": "stdout",
     "output_type": "stream",
     "text": [
      "Time usage: 0:02:22 minutes\n",
      "374/374 [==============================] - 0s 1ms/step\n",
      "934/934 [==============================] - 1s 1ms/step\n",
      "3357/3357 [==============================] - 4s 1ms/step\n",
      " - Model specifics:\tbatch size: 128, mode: triangular2, stepsize: 262, base-lr: 1e-06, max-lr 0.0003, *1\n",
      "Time usage: 0:02:12 minutes\n",
      "374/374 [==============================] - 0s 1ms/step\n",
      "934/934 [==============================] - 1s 1ms/step\n",
      "3357/3357 [==============================] - 4s 1ms/step\n",
      "/home/rick/Documents/HannahZ/Code/logs\n",
      " - Model specifics:\tbatch size: 128, mode: triangular2, stepsize: 262, base-lr: 1e-06, max-lr 0.0003, *2\n"
     ]
    },
    {
     "name": "stderr",
     "output_type": "stream",
     "text": [
      "/home/rick/.conda/envs/hannah_z/lib/python2.7/site-packages/keras/callbacks.py:120: UserWarning: Method on_batch_end() is slow compared to the batch update (0.169023). Check your callbacks.\n",
      "  % delta_t_median)\n"
     ]
    },
    {
     "name": "stdout",
     "output_type": "stream",
     "text": [
      "Time usage: 0:02:20 minutes\n",
      "374/374 [==============================] - 0s 1ms/step\n",
      "934/934 [==============================] - 1s 1ms/step\n",
      "3357/3357 [==============================] - 4s 1ms/step\n",
      " - Model specifics:\tbatch size: 128, mode: triangular2, stepsize: 262, base-lr: 1e-06, max-lr 0.0003, *2\n",
      "Time usage: 0:02:10 minutes\n",
      "374/374 [==============================] - 0s 1ms/step\n",
      "934/934 [==============================] - 1s 1ms/step\n",
      "3357/3357 [==============================] - 4s 1ms/step\n",
      "/home/rick/Documents/HannahZ/Code/logs\n",
      " - Model specifics:\tbatch size: 128, mode: triangular2, stepsize: 262, base-lr: 1e-06, max-lr 0.0003, *3\n"
     ]
    },
    {
     "name": "stderr",
     "output_type": "stream",
     "text": [
      "/home/rick/.conda/envs/hannah_z/lib/python2.7/site-packages/keras/callbacks.py:120: UserWarning: Method on_batch_end() is slow compared to the batch update (0.171097). Check your callbacks.\n",
      "  % delta_t_median)\n"
     ]
    },
    {
     "name": "stdout",
     "output_type": "stream",
     "text": [
      "Time usage: 0:02:20 minutes\n",
      "374/374 [==============================] - 0s 1ms/step\n",
      "934/934 [==============================] - 1s 1ms/step\n",
      "3357/3357 [==============================] - 4s 1ms/step\n",
      " - Model specifics:\tbatch size: 128, mode: triangular2, stepsize: 262, base-lr: 1e-06, max-lr 0.0003, *3\n",
      "Time usage: 0:02:11 minutes\n",
      "374/374 [==============================] - 0s 1ms/step\n",
      "934/934 [==============================] - 1s 1ms/step\n",
      "3357/3357 [==============================] - 4s 1ms/step\n",
      "/home/rick/Documents/HannahZ/Code/logs\n",
      " - Model specifics:\tbatch size: 128, mode: triangular2, stepsize: 262, base-lr: 1e-06, max-lr 0.0003, *4\n"
     ]
    },
    {
     "name": "stderr",
     "output_type": "stream",
     "text": [
      "/home/rick/.conda/envs/hannah_z/lib/python2.7/site-packages/keras/callbacks.py:120: UserWarning: Method on_batch_end() is slow compared to the batch update (0.169637). Check your callbacks.\n",
      "  % delta_t_median)\n"
     ]
    },
    {
     "name": "stdout",
     "output_type": "stream",
     "text": [
      "Time usage: 0:02:20 minutes\n",
      "374/374 [==============================] - 0s 1ms/step\n",
      "934/934 [==============================] - 1s 1ms/step\n",
      "3357/3357 [==============================] - 4s 1ms/step\n",
      " - Model specifics:\tbatch size: 128, mode: triangular2, stepsize: 262, base-lr: 1e-06, max-lr 0.0003, *4\n",
      "Time usage: 0:02:11 minutes\n",
      "374/374 [==============================] - 0s 1ms/step\n",
      "934/934 [==============================] - 1s 1ms/step\n",
      "3357/3357 [==============================] - 4s 1ms/step\n",
      "/home/rick/Documents/HannahZ/Code/logs\n",
      "Time usage: 0:23:29 minutes\n",
      "Time usage: 4:58:00 minutes\n"
     ]
    }
   ],
   "source": [
    "# usual training time: 4:51 / 3:21 / 3:26 / 4:58\n",
    "rep = 5\n",
    "hp_tuner(rep = rep)"
   ]
  },
  {
   "cell_type": "code",
   "execution_count": 29,
   "metadata": {},
   "outputs": [],
   "source": [
    "rep = 5\n",
    "titel = model_details[0][:47]\n",
    "mean_test_a = []\n",
    "mean_valid_a = []\n",
    "mean_train_a = []\n",
    "mean_test_l = []\n",
    "mean_valid_l = []\n",
    "mean_train_l = []\n",
    "mean_test_p = []\n",
    "mean_valid_p = []\n",
    "mean_train_p = []\n",
    "mean_test_r = []\n",
    "mean_valid_r = []\n",
    "mean_train_r = []\n",
    "model_l = []\n",
    "a = int(len(test_acc_l)/rep)\n",
    "for i in range(a):\n",
    "    tals = test_acc_l[i:(i+1)*rep]\n",
    "    vals = valid_acc_l[i:(i+1)*rep]\n",
    "    rals = train_acc_l[i:(i+1)*rep]\n",
    "    tlls = test_loss_l[i:(i+1)*rep]\n",
    "    vlls = valid_loss_l[i:(i+1)*rep]\n",
    "    rlls = train_loss_l[i:(i+1)*rep]\n",
    "    tpls = test_prec_l[i:(i+1)*rep]\n",
    "    vpls = valid_prec_l[i:(i+1)*rep]\n",
    "    rpls = train_prec_l[i:(i+1)*rep]\n",
    "    trls = test_rec_l[i:(i+1)*rep]\n",
    "    vrls = valid_rec_l[i:(i+1)*rep]\n",
    "    rrls = train_rec_l[i:(i+1)*rep]\n",
    "    tmean = round(sum(tals)/len(tals),4)\n",
    "    vmean = round(sum(vals)/len(vals),4)\n",
    "    rmean = round(sum(rals)/len(rals),4)\n",
    "    ltmean = round(sum(tlls)/len(tals),4)\n",
    "    lvmean = round(sum(vlls)/len(vals),4)\n",
    "    lrmean = round(sum(rlls)/len(rals),4)\n",
    "    ptmean = round(sum(tpls)/len(tals),4)\n",
    "    pvmean = round(sum(vpls)/len(vals),4)\n",
    "    prmean = round(sum(rpls)/len(rals),4)\n",
    "    rtmean = round(sum(trls)/len(tals),4)\n",
    "    rvmean = round(sum(vrls)/len(vals),4)\n",
    "    rrmean = round(sum(rrls)/len(rals),4)\n",
    "    mean_test_a.append(tmean)\n",
    "    mean_valid_a.append(vmean)\n",
    "    mean_train_a.append(rmean)\n",
    "    mean_test_l.append(ltmean)\n",
    "    mean_valid_l.append(lvmean)\n",
    "    mean_train_l.append(lrmean)\n",
    "    mean_test_p.append(ptmean)\n",
    "    mean_valid_p.append(pvmean)\n",
    "    mean_train_p.append(prmean)\n",
    "    mean_test_r.append(rtmean)\n",
    "    mean_valid_r.append(rvmean)\n",
    "    mean_train_r.append(rrmean)\n",
    "    if (model_det[i*rep][-2:] == 'x2'):\n",
    "        model_l.append(model_det[i*rep][6:49] + ' ' + model_det[i*rep][-2:])\n",
    "    else:\n",
    "        model_l.append(model_det[i*rep][6:49])"
   ]
  },
  {
   "cell_type": "code",
   "execution_count": 30,
   "metadata": {},
   "outputs": [
    {
     "name": "stdout",
     "output_type": "stream",
     "text": [
      "size: 64, mode: triangular, stepsize: 315, \n",
      "*0\n"
     ]
    }
   ],
   "source": [
    "print(model_det[8][6:49])\n",
    "print(model_det[0][-2:])"
   ]
  },
  {
   "cell_type": "code",
   "execution_count": 31,
   "metadata": {},
   "outputs": [
    {
     "data": {
      "text/plain": [
       "'AfterTuningHP_modelOverview_DenseNet121_bs-64_triangular_sz-420_imagenet_All_48epochs'"
      ]
     },
     "execution_count": 31,
     "metadata": {},
     "output_type": "execute_result"
    }
   ],
   "source": [
    "savename2 = ('AfterTuningHP_modelOverview_' + str(modelname) + '_bs-'+ str(batch_size) + '_' + str(mode) + '_sz-' \n",
    "             + str(step_size) + '_' + str(weights) + '_' + str(trainable_layers) + '_' + str(epochs) + 'epochs')\n",
    "savename2"
   ]
  },
  {
   "cell_type": "code",
   "execution_count": 32,
   "metadata": {},
   "outputs": [
    {
     "data": {
      "text/html": [
       "<div>\n",
       "<style scoped>\n",
       "    .dataframe tbody tr th:only-of-type {\n",
       "        vertical-align: middle;\n",
       "    }\n",
       "\n",
       "    .dataframe tbody tr th {\n",
       "        vertical-align: top;\n",
       "    }\n",
       "\n",
       "    .dataframe thead th {\n",
       "        text-align: right;\n",
       "    }\n",
       "</style>\n",
       "<table border=\"1\" class=\"dataframe\">\n",
       "  <thead>\n",
       "    <tr style=\"text-align: right;\">\n",
       "      <th></th>\n",
       "      <th>test acc</th>\n",
       "      <th>valid acc</th>\n",
       "      <th>train acc</th>\n",
       "      <th>test loss</th>\n",
       "      <th>valid loss</th>\n",
       "      <th>train loss</th>\n",
       "      <th>test prec</th>\n",
       "      <th>valid prec</th>\n",
       "      <th>train prec</th>\n",
       "      <th>test rec</th>\n",
       "      <th>valid rec</th>\n",
       "      <th>train rec</th>\n",
       "    </tr>\n",
       "  </thead>\n",
       "  <tbody>\n",
       "    <tr>\n",
       "      <th>size: 64, mode: triangular, stepsize: 315,  x2</th>\n",
       "      <td>0.7521</td>\n",
       "      <td>0.7537</td>\n",
       "      <td>0.7913</td>\n",
       "      <td>1.5952</td>\n",
       "      <td>1.6703</td>\n",
       "      <td>1.2245</td>\n",
       "      <td>0.6875</td>\n",
       "      <td>0.6678</td>\n",
       "      <td>0.7148</td>\n",
       "      <td>0.9493</td>\n",
       "      <td>0.9618</td>\n",
       "      <td>0.9656</td>\n",
       "    </tr>\n",
       "    <tr>\n",
       "      <th>size: 64, mode: triangular2, stepsize: 315,</th>\n",
       "      <td>0.7518</td>\n",
       "      <td>0.7530</td>\n",
       "      <td>0.7904</td>\n",
       "      <td>1.4424</td>\n",
       "      <td>1.5106</td>\n",
       "      <td>1.1133</td>\n",
       "      <td>0.6867</td>\n",
       "      <td>0.6668</td>\n",
       "      <td>0.7140</td>\n",
       "      <td>0.9510</td>\n",
       "      <td>0.9624</td>\n",
       "      <td>0.9657</td>\n",
       "    </tr>\n",
       "    <tr>\n",
       "      <th>size: 64, mode: triangular2, stepsize: 315, x2</th>\n",
       "      <td>0.7516</td>\n",
       "      <td>0.7540</td>\n",
       "      <td>0.7900</td>\n",
       "      <td>1.4048</td>\n",
       "      <td>1.4565</td>\n",
       "      <td>1.0779</td>\n",
       "      <td>0.6865</td>\n",
       "      <td>0.6675</td>\n",
       "      <td>0.7138</td>\n",
       "      <td>0.9510</td>\n",
       "      <td>0.9632</td>\n",
       "      <td>0.9654</td>\n",
       "    </tr>\n",
       "    <tr>\n",
       "      <th>size: 64, mode: triangular, stepsize: 315,</th>\n",
       "      <td>0.7510</td>\n",
       "      <td>0.7551</td>\n",
       "      <td>0.7899</td>\n",
       "      <td>1.4772</td>\n",
       "      <td>1.5566</td>\n",
       "      <td>1.1408</td>\n",
       "      <td>0.6880</td>\n",
       "      <td>0.6710</td>\n",
       "      <td>0.7138</td>\n",
       "      <td>0.9465</td>\n",
       "      <td>0.9583</td>\n",
       "      <td>0.9631</td>\n",
       "    </tr>\n",
       "    <tr>\n",
       "      <th>size: 64, mode: triangular, stepsize: 420,</th>\n",
       "      <td>0.7502</td>\n",
       "      <td>0.7539</td>\n",
       "      <td>0.7903</td>\n",
       "      <td>1.4376</td>\n",
       "      <td>1.4895</td>\n",
       "      <td>1.1040</td>\n",
       "      <td>0.6847</td>\n",
       "      <td>0.6668</td>\n",
       "      <td>0.7138</td>\n",
       "      <td>0.9520</td>\n",
       "      <td>0.9647</td>\n",
       "      <td>0.9659</td>\n",
       "    </tr>\n",
       "    <tr>\n",
       "      <th>size: 128, mode: triangular2, stepsize: 262 x2</th>\n",
       "      <td>0.7500</td>\n",
       "      <td>0.7554</td>\n",
       "      <td>0.7891</td>\n",
       "      <td>1.4918</td>\n",
       "      <td>1.5442</td>\n",
       "      <td>1.1553</td>\n",
       "      <td>0.6859</td>\n",
       "      <td>0.6682</td>\n",
       "      <td>0.7142</td>\n",
       "      <td>0.9494</td>\n",
       "      <td>0.9648</td>\n",
       "      <td>0.9630</td>\n",
       "    </tr>\n",
       "    <tr>\n",
       "      <th>size: 64, mode: triangular, stepsize: 420,  x2</th>\n",
       "      <td>0.7500</td>\n",
       "      <td>0.7548</td>\n",
       "      <td>0.7907</td>\n",
       "      <td>1.4866</td>\n",
       "      <td>1.5425</td>\n",
       "      <td>1.1411</td>\n",
       "      <td>0.6845</td>\n",
       "      <td>0.6677</td>\n",
       "      <td>0.7146</td>\n",
       "      <td>0.9521</td>\n",
       "      <td>0.9630</td>\n",
       "      <td>0.9652</td>\n",
       "    </tr>\n",
       "    <tr>\n",
       "      <th>size: 128, mode: triangular2, stepsize: 262</th>\n",
       "      <td>0.7499</td>\n",
       "      <td>0.7551</td>\n",
       "      <td>0.7890</td>\n",
       "      <td>1.4952</td>\n",
       "      <td>1.5475</td>\n",
       "      <td>1.1578</td>\n",
       "      <td>0.6858</td>\n",
       "      <td>0.6679</td>\n",
       "      <td>0.7140</td>\n",
       "      <td>0.9495</td>\n",
       "      <td>0.9647</td>\n",
       "      <td>0.9631</td>\n",
       "    </tr>\n",
       "    <tr>\n",
       "      <th>size: 128, mode: triangular, stepsize: 262, x2</th>\n",
       "      <td>0.7497</td>\n",
       "      <td>0.7547</td>\n",
       "      <td>0.7887</td>\n",
       "      <td>1.5104</td>\n",
       "      <td>1.5661</td>\n",
       "      <td>1.1706</td>\n",
       "      <td>0.6853</td>\n",
       "      <td>0.6675</td>\n",
       "      <td>0.7134</td>\n",
       "      <td>0.9503</td>\n",
       "      <td>0.9650</td>\n",
       "      <td>0.9637</td>\n",
       "    </tr>\n",
       "    <tr>\n",
       "      <th>size: 64, mode: triangular2, stepsize: 525,</th>\n",
       "      <td>0.7494</td>\n",
       "      <td>0.7552</td>\n",
       "      <td>0.7903</td>\n",
       "      <td>1.4605</td>\n",
       "      <td>1.5057</td>\n",
       "      <td>1.1162</td>\n",
       "      <td>0.6845</td>\n",
       "      <td>0.6682</td>\n",
       "      <td>0.7150</td>\n",
       "      <td>0.9514</td>\n",
       "      <td>0.9636</td>\n",
       "      <td>0.9642</td>\n",
       "    </tr>\n",
       "    <tr>\n",
       "      <th>size: 128, mode: triangular2, stepsize: 157 x2</th>\n",
       "      <td>0.7492</td>\n",
       "      <td>0.7543</td>\n",
       "      <td>0.7885</td>\n",
       "      <td>1.4829</td>\n",
       "      <td>1.5337</td>\n",
       "      <td>1.1447</td>\n",
       "      <td>0.6842</td>\n",
       "      <td>0.6670</td>\n",
       "      <td>0.7130</td>\n",
       "      <td>0.9517</td>\n",
       "      <td>0.9656</td>\n",
       "      <td>0.9641</td>\n",
       "    </tr>\n",
       "    <tr>\n",
       "      <th>size: 128, mode: triangular2, stepsize: 210 x2</th>\n",
       "      <td>0.7491</td>\n",
       "      <td>0.7534</td>\n",
       "      <td>0.7882</td>\n",
       "      <td>1.5042</td>\n",
       "      <td>1.5576</td>\n",
       "      <td>1.1646</td>\n",
       "      <td>0.6843</td>\n",
       "      <td>0.6660</td>\n",
       "      <td>0.7126</td>\n",
       "      <td>0.9514</td>\n",
       "      <td>0.9659</td>\n",
       "      <td>0.9645</td>\n",
       "    </tr>\n",
       "    <tr>\n",
       "      <th>size: 64, mode: triangular2, stepsize: 525, x2</th>\n",
       "      <td>0.7491</td>\n",
       "      <td>0.7541</td>\n",
       "      <td>0.7896</td>\n",
       "      <td>1.4691</td>\n",
       "      <td>1.5157</td>\n",
       "      <td>1.1245</td>\n",
       "      <td>0.6840</td>\n",
       "      <td>0.6671</td>\n",
       "      <td>0.7142</td>\n",
       "      <td>0.9521</td>\n",
       "      <td>0.9642</td>\n",
       "      <td>0.9647</td>\n",
       "    </tr>\n",
       "    <tr>\n",
       "      <th>size: 128, mode: triangular2, stepsize: 157</th>\n",
       "      <td>0.7491</td>\n",
       "      <td>0.7545</td>\n",
       "      <td>0.7890</td>\n",
       "      <td>1.4892</td>\n",
       "      <td>1.5395</td>\n",
       "      <td>1.1473</td>\n",
       "      <td>0.6842</td>\n",
       "      <td>0.6672</td>\n",
       "      <td>0.7136</td>\n",
       "      <td>0.9517</td>\n",
       "      <td>0.9653</td>\n",
       "      <td>0.9644</td>\n",
       "    </tr>\n",
       "    <tr>\n",
       "      <th>size: 128, mode: triangular, stepsize: 262,</th>\n",
       "      <td>0.7490</td>\n",
       "      <td>0.7538</td>\n",
       "      <td>0.7882</td>\n",
       "      <td>1.5108</td>\n",
       "      <td>1.5655</td>\n",
       "      <td>1.1701</td>\n",
       "      <td>0.6843</td>\n",
       "      <td>0.6664</td>\n",
       "      <td>0.7126</td>\n",
       "      <td>0.9513</td>\n",
       "      <td>0.9656</td>\n",
       "      <td>0.9645</td>\n",
       "    </tr>\n",
       "    <tr>\n",
       "      <th>size: 64, mode: triangular2, stepsize: 420,</th>\n",
       "      <td>0.7490</td>\n",
       "      <td>0.7538</td>\n",
       "      <td>0.7902</td>\n",
       "      <td>1.4601</td>\n",
       "      <td>1.5101</td>\n",
       "      <td>1.1183</td>\n",
       "      <td>0.6829</td>\n",
       "      <td>0.6665</td>\n",
       "      <td>0.7139</td>\n",
       "      <td>0.9537</td>\n",
       "      <td>0.9648</td>\n",
       "      <td>0.9659</td>\n",
       "    </tr>\n",
       "    <tr>\n",
       "      <th>size: 64, mode: triangular, stepsize: 525,  x2</th>\n",
       "      <td>0.7490</td>\n",
       "      <td>0.7547</td>\n",
       "      <td>0.7898</td>\n",
       "      <td>1.4872</td>\n",
       "      <td>1.5324</td>\n",
       "      <td>1.1388</td>\n",
       "      <td>0.6839</td>\n",
       "      <td>0.6676</td>\n",
       "      <td>0.7142</td>\n",
       "      <td>0.9520</td>\n",
       "      <td>0.9637</td>\n",
       "      <td>0.9651</td>\n",
       "    </tr>\n",
       "    <tr>\n",
       "      <th>size: 128, mode: triangular, stepsize: 157,</th>\n",
       "      <td>0.7490</td>\n",
       "      <td>0.7535</td>\n",
       "      <td>0.7892</td>\n",
       "      <td>1.4805</td>\n",
       "      <td>1.5273</td>\n",
       "      <td>1.1350</td>\n",
       "      <td>0.6841</td>\n",
       "      <td>0.6665</td>\n",
       "      <td>0.7137</td>\n",
       "      <td>0.9517</td>\n",
       "      <td>0.9643</td>\n",
       "      <td>0.9645</td>\n",
       "    </tr>\n",
       "    <tr>\n",
       "      <th>size: 128, mode: triangular, stepsize: 210,</th>\n",
       "      <td>0.7488</td>\n",
       "      <td>0.7535</td>\n",
       "      <td>0.7884</td>\n",
       "      <td>1.4912</td>\n",
       "      <td>1.5422</td>\n",
       "      <td>1.1503</td>\n",
       "      <td>0.6838</td>\n",
       "      <td>0.6661</td>\n",
       "      <td>0.7128</td>\n",
       "      <td>0.9517</td>\n",
       "      <td>0.9659</td>\n",
       "      <td>0.9644</td>\n",
       "    </tr>\n",
       "    <tr>\n",
       "      <th>size: 128, mode: triangular, stepsize: 210, x2</th>\n",
       "      <td>0.7488</td>\n",
       "      <td>0.7531</td>\n",
       "      <td>0.7882</td>\n",
       "      <td>1.5085</td>\n",
       "      <td>1.5651</td>\n",
       "      <td>1.1661</td>\n",
       "      <td>0.6840</td>\n",
       "      <td>0.6657</td>\n",
       "      <td>0.7126</td>\n",
       "      <td>0.9514</td>\n",
       "      <td>0.9658</td>\n",
       "      <td>0.9645</td>\n",
       "    </tr>\n",
       "    <tr>\n",
       "      <th>size: 128, mode: triangular2, stepsize: 210</th>\n",
       "      <td>0.7487</td>\n",
       "      <td>0.7531</td>\n",
       "      <td>0.7879</td>\n",
       "      <td>1.5059</td>\n",
       "      <td>1.5598</td>\n",
       "      <td>1.1650</td>\n",
       "      <td>0.6838</td>\n",
       "      <td>0.6656</td>\n",
       "      <td>0.7122</td>\n",
       "      <td>0.9515</td>\n",
       "      <td>0.9664</td>\n",
       "      <td>0.9647</td>\n",
       "    </tr>\n",
       "    <tr>\n",
       "      <th>size: 128, mode: triangular, stepsize: 157, x2</th>\n",
       "      <td>0.7484</td>\n",
       "      <td>0.7533</td>\n",
       "      <td>0.7885</td>\n",
       "      <td>1.5105</td>\n",
       "      <td>1.5647</td>\n",
       "      <td>1.1626</td>\n",
       "      <td>0.6833</td>\n",
       "      <td>0.6661</td>\n",
       "      <td>0.7128</td>\n",
       "      <td>0.9524</td>\n",
       "      <td>0.9650</td>\n",
       "      <td>0.9651</td>\n",
       "    </tr>\n",
       "    <tr>\n",
       "      <th>size: 64, mode: triangular2, stepsize: 420, x2</th>\n",
       "      <td>0.7482</td>\n",
       "      <td>0.7540</td>\n",
       "      <td>0.7895</td>\n",
       "      <td>1.4537</td>\n",
       "      <td>1.5035</td>\n",
       "      <td>1.1131</td>\n",
       "      <td>0.6823</td>\n",
       "      <td>0.6664</td>\n",
       "      <td>0.7132</td>\n",
       "      <td>0.9533</td>\n",
       "      <td>0.9654</td>\n",
       "      <td>0.9661</td>\n",
       "    </tr>\n",
       "    <tr>\n",
       "      <th>size: 64, mode: triangular, stepsize: 525,</th>\n",
       "      <td>0.7482</td>\n",
       "      <td>0.7546</td>\n",
       "      <td>0.7890</td>\n",
       "      <td>1.4697</td>\n",
       "      <td>1.5182</td>\n",
       "      <td>1.1276</td>\n",
       "      <td>0.6823</td>\n",
       "      <td>0.6668</td>\n",
       "      <td>0.7128</td>\n",
       "      <td>0.9538</td>\n",
       "      <td>0.9663</td>\n",
       "      <td>0.9665</td>\n",
       "    </tr>\n",
       "  </tbody>\n",
       "</table>\n",
       "</div>"
      ],
      "text/plain": [
       "                                                test acc  valid acc  \\\n",
       "size: 64, mode: triangular, stepsize: 315,  x2    0.7521     0.7537   \n",
       "size: 64, mode: triangular2, stepsize: 315,       0.7518     0.7530   \n",
       "size: 64, mode: triangular2, stepsize: 315, x2    0.7516     0.7540   \n",
       "size: 64, mode: triangular, stepsize: 315,        0.7510     0.7551   \n",
       "size: 64, mode: triangular, stepsize: 420,        0.7502     0.7539   \n",
       "size: 128, mode: triangular2, stepsize: 262 x2    0.7500     0.7554   \n",
       "size: 64, mode: triangular, stepsize: 420,  x2    0.7500     0.7548   \n",
       "size: 128, mode: triangular2, stepsize: 262       0.7499     0.7551   \n",
       "size: 128, mode: triangular, stepsize: 262, x2    0.7497     0.7547   \n",
       "size: 64, mode: triangular2, stepsize: 525,       0.7494     0.7552   \n",
       "size: 128, mode: triangular2, stepsize: 157 x2    0.7492     0.7543   \n",
       "size: 128, mode: triangular2, stepsize: 210 x2    0.7491     0.7534   \n",
       "size: 64, mode: triangular2, stepsize: 525, x2    0.7491     0.7541   \n",
       "size: 128, mode: triangular2, stepsize: 157       0.7491     0.7545   \n",
       "size: 128, mode: triangular, stepsize: 262,       0.7490     0.7538   \n",
       "size: 64, mode: triangular2, stepsize: 420,       0.7490     0.7538   \n",
       "size: 64, mode: triangular, stepsize: 525,  x2    0.7490     0.7547   \n",
       "size: 128, mode: triangular, stepsize: 157,       0.7490     0.7535   \n",
       "size: 128, mode: triangular, stepsize: 210,       0.7488     0.7535   \n",
       "size: 128, mode: triangular, stepsize: 210, x2    0.7488     0.7531   \n",
       "size: 128, mode: triangular2, stepsize: 210       0.7487     0.7531   \n",
       "size: 128, mode: triangular, stepsize: 157, x2    0.7484     0.7533   \n",
       "size: 64, mode: triangular2, stepsize: 420, x2    0.7482     0.7540   \n",
       "size: 64, mode: triangular, stepsize: 525,        0.7482     0.7546   \n",
       "\n",
       "                                                train acc  test loss  \\\n",
       "size: 64, mode: triangular, stepsize: 315,  x2     0.7913     1.5952   \n",
       "size: 64, mode: triangular2, stepsize: 315,        0.7904     1.4424   \n",
       "size: 64, mode: triangular2, stepsize: 315, x2     0.7900     1.4048   \n",
       "size: 64, mode: triangular, stepsize: 315,         0.7899     1.4772   \n",
       "size: 64, mode: triangular, stepsize: 420,         0.7903     1.4376   \n",
       "size: 128, mode: triangular2, stepsize: 262 x2     0.7891     1.4918   \n",
       "size: 64, mode: triangular, stepsize: 420,  x2     0.7907     1.4866   \n",
       "size: 128, mode: triangular2, stepsize: 262        0.7890     1.4952   \n",
       "size: 128, mode: triangular, stepsize: 262, x2     0.7887     1.5104   \n",
       "size: 64, mode: triangular2, stepsize: 525,        0.7903     1.4605   \n",
       "size: 128, mode: triangular2, stepsize: 157 x2     0.7885     1.4829   \n",
       "size: 128, mode: triangular2, stepsize: 210 x2     0.7882     1.5042   \n",
       "size: 64, mode: triangular2, stepsize: 525, x2     0.7896     1.4691   \n",
       "size: 128, mode: triangular2, stepsize: 157        0.7890     1.4892   \n",
       "size: 128, mode: triangular, stepsize: 262,        0.7882     1.5108   \n",
       "size: 64, mode: triangular2, stepsize: 420,        0.7902     1.4601   \n",
       "size: 64, mode: triangular, stepsize: 525,  x2     0.7898     1.4872   \n",
       "size: 128, mode: triangular, stepsize: 157,        0.7892     1.4805   \n",
       "size: 128, mode: triangular, stepsize: 210,        0.7884     1.4912   \n",
       "size: 128, mode: triangular, stepsize: 210, x2     0.7882     1.5085   \n",
       "size: 128, mode: triangular2, stepsize: 210        0.7879     1.5059   \n",
       "size: 128, mode: triangular, stepsize: 157, x2     0.7885     1.5105   \n",
       "size: 64, mode: triangular2, stepsize: 420, x2     0.7895     1.4537   \n",
       "size: 64, mode: triangular, stepsize: 525,         0.7890     1.4697   \n",
       "\n",
       "                                                valid loss  train loss  \\\n",
       "size: 64, mode: triangular, stepsize: 315,  x2      1.6703      1.2245   \n",
       "size: 64, mode: triangular2, stepsize: 315,         1.5106      1.1133   \n",
       "size: 64, mode: triangular2, stepsize: 315, x2      1.4565      1.0779   \n",
       "size: 64, mode: triangular, stepsize: 315,          1.5566      1.1408   \n",
       "size: 64, mode: triangular, stepsize: 420,          1.4895      1.1040   \n",
       "size: 128, mode: triangular2, stepsize: 262 x2      1.5442      1.1553   \n",
       "size: 64, mode: triangular, stepsize: 420,  x2      1.5425      1.1411   \n",
       "size: 128, mode: triangular2, stepsize: 262         1.5475      1.1578   \n",
       "size: 128, mode: triangular, stepsize: 262, x2      1.5661      1.1706   \n",
       "size: 64, mode: triangular2, stepsize: 525,         1.5057      1.1162   \n",
       "size: 128, mode: triangular2, stepsize: 157 x2      1.5337      1.1447   \n",
       "size: 128, mode: triangular2, stepsize: 210 x2      1.5576      1.1646   \n",
       "size: 64, mode: triangular2, stepsize: 525, x2      1.5157      1.1245   \n",
       "size: 128, mode: triangular2, stepsize: 157         1.5395      1.1473   \n",
       "size: 128, mode: triangular, stepsize: 262,         1.5655      1.1701   \n",
       "size: 64, mode: triangular2, stepsize: 420,         1.5101      1.1183   \n",
       "size: 64, mode: triangular, stepsize: 525,  x2      1.5324      1.1388   \n",
       "size: 128, mode: triangular, stepsize: 157,         1.5273      1.1350   \n",
       "size: 128, mode: triangular, stepsize: 210,         1.5422      1.1503   \n",
       "size: 128, mode: triangular, stepsize: 210, x2      1.5651      1.1661   \n",
       "size: 128, mode: triangular2, stepsize: 210         1.5598      1.1650   \n",
       "size: 128, mode: triangular, stepsize: 157, x2      1.5647      1.1626   \n",
       "size: 64, mode: triangular2, stepsize: 420, x2      1.5035      1.1131   \n",
       "size: 64, mode: triangular, stepsize: 525,          1.5182      1.1276   \n",
       "\n",
       "                                                test prec  valid prec  \\\n",
       "size: 64, mode: triangular, stepsize: 315,  x2     0.6875      0.6678   \n",
       "size: 64, mode: triangular2, stepsize: 315,        0.6867      0.6668   \n",
       "size: 64, mode: triangular2, stepsize: 315, x2     0.6865      0.6675   \n",
       "size: 64, mode: triangular, stepsize: 315,         0.6880      0.6710   \n",
       "size: 64, mode: triangular, stepsize: 420,         0.6847      0.6668   \n",
       "size: 128, mode: triangular2, stepsize: 262 x2     0.6859      0.6682   \n",
       "size: 64, mode: triangular, stepsize: 420,  x2     0.6845      0.6677   \n",
       "size: 128, mode: triangular2, stepsize: 262        0.6858      0.6679   \n",
       "size: 128, mode: triangular, stepsize: 262, x2     0.6853      0.6675   \n",
       "size: 64, mode: triangular2, stepsize: 525,        0.6845      0.6682   \n",
       "size: 128, mode: triangular2, stepsize: 157 x2     0.6842      0.6670   \n",
       "size: 128, mode: triangular2, stepsize: 210 x2     0.6843      0.6660   \n",
       "size: 64, mode: triangular2, stepsize: 525, x2     0.6840      0.6671   \n",
       "size: 128, mode: triangular2, stepsize: 157        0.6842      0.6672   \n",
       "size: 128, mode: triangular, stepsize: 262,        0.6843      0.6664   \n",
       "size: 64, mode: triangular2, stepsize: 420,        0.6829      0.6665   \n",
       "size: 64, mode: triangular, stepsize: 525,  x2     0.6839      0.6676   \n",
       "size: 128, mode: triangular, stepsize: 157,        0.6841      0.6665   \n",
       "size: 128, mode: triangular, stepsize: 210,        0.6838      0.6661   \n",
       "size: 128, mode: triangular, stepsize: 210, x2     0.6840      0.6657   \n",
       "size: 128, mode: triangular2, stepsize: 210        0.6838      0.6656   \n",
       "size: 128, mode: triangular, stepsize: 157, x2     0.6833      0.6661   \n",
       "size: 64, mode: triangular2, stepsize: 420, x2     0.6823      0.6664   \n",
       "size: 64, mode: triangular, stepsize: 525,         0.6823      0.6668   \n",
       "\n",
       "                                                train prec  test rec  \\\n",
       "size: 64, mode: triangular, stepsize: 315,  x2      0.7148    0.9493   \n",
       "size: 64, mode: triangular2, stepsize: 315,         0.7140    0.9510   \n",
       "size: 64, mode: triangular2, stepsize: 315, x2      0.7138    0.9510   \n",
       "size: 64, mode: triangular, stepsize: 315,          0.7138    0.9465   \n",
       "size: 64, mode: triangular, stepsize: 420,          0.7138    0.9520   \n",
       "size: 128, mode: triangular2, stepsize: 262 x2      0.7142    0.9494   \n",
       "size: 64, mode: triangular, stepsize: 420,  x2      0.7146    0.9521   \n",
       "size: 128, mode: triangular2, stepsize: 262         0.7140    0.9495   \n",
       "size: 128, mode: triangular, stepsize: 262, x2      0.7134    0.9503   \n",
       "size: 64, mode: triangular2, stepsize: 525,         0.7150    0.9514   \n",
       "size: 128, mode: triangular2, stepsize: 157 x2      0.7130    0.9517   \n",
       "size: 128, mode: triangular2, stepsize: 210 x2      0.7126    0.9514   \n",
       "size: 64, mode: triangular2, stepsize: 525, x2      0.7142    0.9521   \n",
       "size: 128, mode: triangular2, stepsize: 157         0.7136    0.9517   \n",
       "size: 128, mode: triangular, stepsize: 262,         0.7126    0.9513   \n",
       "size: 64, mode: triangular2, stepsize: 420,         0.7139    0.9537   \n",
       "size: 64, mode: triangular, stepsize: 525,  x2      0.7142    0.9520   \n",
       "size: 128, mode: triangular, stepsize: 157,         0.7137    0.9517   \n",
       "size: 128, mode: triangular, stepsize: 210,         0.7128    0.9517   \n",
       "size: 128, mode: triangular, stepsize: 210, x2      0.7126    0.9514   \n",
       "size: 128, mode: triangular2, stepsize: 210         0.7122    0.9515   \n",
       "size: 128, mode: triangular, stepsize: 157, x2      0.7128    0.9524   \n",
       "size: 64, mode: triangular2, stepsize: 420, x2      0.7132    0.9533   \n",
       "size: 64, mode: triangular, stepsize: 525,          0.7128    0.9538   \n",
       "\n",
       "                                                valid rec  train rec  \n",
       "size: 64, mode: triangular, stepsize: 315,  x2     0.9618     0.9656  \n",
       "size: 64, mode: triangular2, stepsize: 315,        0.9624     0.9657  \n",
       "size: 64, mode: triangular2, stepsize: 315, x2     0.9632     0.9654  \n",
       "size: 64, mode: triangular, stepsize: 315,         0.9583     0.9631  \n",
       "size: 64, mode: triangular, stepsize: 420,         0.9647     0.9659  \n",
       "size: 128, mode: triangular2, stepsize: 262 x2     0.9648     0.9630  \n",
       "size: 64, mode: triangular, stepsize: 420,  x2     0.9630     0.9652  \n",
       "size: 128, mode: triangular2, stepsize: 262        0.9647     0.9631  \n",
       "size: 128, mode: triangular, stepsize: 262, x2     0.9650     0.9637  \n",
       "size: 64, mode: triangular2, stepsize: 525,        0.9636     0.9642  \n",
       "size: 128, mode: triangular2, stepsize: 157 x2     0.9656     0.9641  \n",
       "size: 128, mode: triangular2, stepsize: 210 x2     0.9659     0.9645  \n",
       "size: 64, mode: triangular2, stepsize: 525, x2     0.9642     0.9647  \n",
       "size: 128, mode: triangular2, stepsize: 157        0.9653     0.9644  \n",
       "size: 128, mode: triangular, stepsize: 262,        0.9656     0.9645  \n",
       "size: 64, mode: triangular2, stepsize: 420,        0.9648     0.9659  \n",
       "size: 64, mode: triangular, stepsize: 525,  x2     0.9637     0.9651  \n",
       "size: 128, mode: triangular, stepsize: 157,        0.9643     0.9645  \n",
       "size: 128, mode: triangular, stepsize: 210,        0.9659     0.9644  \n",
       "size: 128, mode: triangular, stepsize: 210, x2     0.9658     0.9645  \n",
       "size: 128, mode: triangular2, stepsize: 210        0.9664     0.9647  \n",
       "size: 128, mode: triangular, stepsize: 157, x2     0.9650     0.9651  \n",
       "size: 64, mode: triangular2, stepsize: 420, x2     0.9654     0.9661  \n",
       "size: 64, mode: triangular, stepsize: 525,         0.9663     0.9665  "
      ]
     },
     "execution_count": 32,
     "metadata": {},
     "output_type": "execute_result"
    }
   ],
   "source": [
    "cols = ['test acc', 'valid acc', 'train acc', 'test loss', 'valid loss', 'train loss', 'test prec', \\\n",
    "           'valid prec', 'train prec', 'test rec', 'valid rec', 'train rec']\n",
    "data2 = np.array((mean_test_a, mean_valid_a, mean_train_a, mean_test_l, mean_valid_l, mean_train_l,\\\n",
    "                mean_test_p, mean_valid_p, mean_train_p, mean_test_r, mean_valid_r, mean_train_r))\n",
    "results2 = pd.DataFrame(data = data2, columns = model_l, index = cols)\n",
    "hp_overview = pd.DataFrame(data = results2.transpose(), columns = cols, index = model_l)\n",
    "hpOverviewSorted = hp_overview.sort_values(by=['test acc'], ascending = False)\n",
    "hpOverviewSorted\n",
    "os.chdir(code_dir + '/Excel')\n",
    "hpOverviewSorted.to_csv(savename2)"
   ]
  },
  {
   "cell_type": "code",
   "execution_count": 33,
   "metadata": {},
   "outputs": [
    {
     "data": {
      "text/plain": [
       "<matplotlib.figure.Figure at 0x7f64e0941ed0>"
      ]
     },
     "execution_count": 33,
     "metadata": {},
     "output_type": "execute_result"
    },
    {
     "data": {
      "text/plain": [
       "<matplotlib.axes._subplots.AxesSubplot at 0x7f64e09413d0>"
      ]
     },
     "execution_count": 33,
     "metadata": {},
     "output_type": "execute_result"
    },
    {
     "data": {
      "image/png": "[encoded data removed]",
      "text/plain": [
       "<matplotlib.figure.Figure at 0x7f64e0941ed0>"
      ]
     },
     "metadata": {},
     "output_type": "display_data"
    }
   ],
   "source": [
    "%matplotlib inline\n",
    "plt.figure(figsize=(6, 8))\n",
    "\n",
    "sns.heatmap(hp_overview.iloc[:,:3], annot=True,  fmt = 'f')"
   ]
  },
  {
   "cell_type": "code",
   "execution_count": 34,
   "metadata": {},
   "outputs": [
    {
     "data": {
      "text/plain": [
       "[<matplotlib.lines.Line2D at 0x7f64e0941f50>]"
      ]
     },
     "execution_count": 34,
     "metadata": {},
     "output_type": "execute_result"
    },
    {
     "data": {
      "text/plain": [
       "[0, 9, 0.5, 1]"
      ]
     },
     "execution_count": 34,
     "metadata": {},
     "output_type": "execute_result"
    },
    {
     "data": {
      "text/plain": [
       "<matplotlib.text.Text at 0x7f64e069a890>"
      ]
     },
     "execution_count": 34,
     "metadata": {},
     "output_type": "execute_result"
    },
    {
     "data": {
      "text/plain": [
       "[<matplotlib.lines.Line2D at 0x7f64e0646a50>]"
      ]
     },
     "execution_count": 34,
     "metadata": {},
     "output_type": "execute_result"
    },
    {
     "data": {
      "text/plain": [
       "[<matplotlib.lines.Line2D at 0x7f64e060d4d0>]"
      ]
     },
     "execution_count": 34,
     "metadata": {},
     "output_type": "execute_result"
    },
    {
     "data": {
      "text/plain": [
       "<matplotlib.text.Text at 0x7f64e061ccd0>"
      ]
     },
     "execution_count": 34,
     "metadata": {},
     "output_type": "execute_result"
    },
    {
     "data": {
      "text/plain": [
       "[<matplotlib.lines.Line2D at 0x7f64e060d350>]"
      ]
     },
     "execution_count": 34,
     "metadata": {},
     "output_type": "execute_result"
    },
    {
     "data": {
      "text/plain": [
       "[0, 9, 0.73, 0.79]"
      ]
     },
     "execution_count": 34,
     "metadata": {},
     "output_type": "execute_result"
    },
    {
     "data": {
      "text/plain": [
       "[<matplotlib.lines.Line2D at 0x7f64e067d1d0>]"
      ]
     },
     "execution_count": 34,
     "metadata": {},
     "output_type": "execute_result"
    },
    {
     "data": {
      "text/plain": [
       "[<matplotlib.lines.Line2D at 0x7f64e085ab90>]"
      ]
     },
     "execution_count": 34,
     "metadata": {},
     "output_type": "execute_result"
    },
    {
     "data": {
      "image/png": "[encoded data removed]",
      "text/plain": [
       "<matplotlib.figure.Figure at 0x7f64e0941f10>"
      ]
     },
     "metadata": {},
     "output_type": "display_data"
    }
   ],
   "source": [
    "%matplotlib inline\n",
    "\n",
    "f, (ax1, ax2) = plt.subplots(2, 1, sharex='col', sharey='row')\n",
    "ax1.plot(mean_test_a, color = 'r')\n",
    "ax1.axis([0, 9, 0.5, 1])\n",
    "ax1.set_title('Close up')\n",
    "ax1.plot(mean_valid_a)\n",
    "ax1.plot(mean_train_a, color = 'g')\n",
    "ax2.set_title('Zoom')\n",
    "ax2.plot(mean_test_a, color = 'r')\n",
    "ax2.axis([0, 9, 0.73, 0.79])\n",
    "ax2.plot(mean_valid_a)\n",
    "ax2.plot(mean_train_a, color = 'g')"
   ]
  },
  {
   "cell_type": "code",
   "execution_count": 35,
   "metadata": {},
   "outputs": [
    {
     "data": {
      "text/html": [
       "<div>\n",
       "<style scoped>\n",
       "    .dataframe tbody tr th:only-of-type {\n",
       "        vertical-align: middle;\n",
       "    }\n",
       "\n",
       "    .dataframe tbody tr th {\n",
       "        vertical-align: top;\n",
       "    }\n",
       "\n",
       "    .dataframe thead th {\n",
       "        text-align: right;\n",
       "    }\n",
       "</style>\n",
       "<table border=\"1\" class=\"dataframe\">\n",
       "  <thead>\n",
       "    <tr style=\"text-align: right;\">\n",
       "      <th></th>\n",
       "      <th>test acc</th>\n",
       "      <th>valid acc</th>\n",
       "      <th>train acc</th>\n",
       "      <th>test loss</th>\n",
       "      <th>valid loss</th>\n",
       "      <th>train loss</th>\n",
       "      <th>test prec</th>\n",
       "      <th>valid prec</th>\n",
       "      <th>train prec</th>\n",
       "      <th>test rec</th>\n",
       "      <th>valid rec</th>\n",
       "      <th>train rec</th>\n",
       "    </tr>\n",
       "  </thead>\n",
       "  <tbody>\n",
       "    <tr>\n",
       "      <th>size: 64, mode: triangular, stepsize: 315,  x2</th>\n",
       "      <td>0.7521</td>\n",
       "      <td>0.7537</td>\n",
       "      <td>0.7913</td>\n",
       "      <td>1.5952</td>\n",
       "      <td>1.6703</td>\n",
       "      <td>1.2245</td>\n",
       "      <td>0.6875</td>\n",
       "      <td>0.6678</td>\n",
       "      <td>0.7148</td>\n",
       "      <td>0.9493</td>\n",
       "      <td>0.9618</td>\n",
       "      <td>0.9656</td>\n",
       "    </tr>\n",
       "    <tr>\n",
       "      <th>size: 64, mode: triangular2, stepsize: 315,</th>\n",
       "      <td>0.7518</td>\n",
       "      <td>0.7530</td>\n",
       "      <td>0.7904</td>\n",
       "      <td>1.4424</td>\n",
       "      <td>1.5106</td>\n",
       "      <td>1.1133</td>\n",
       "      <td>0.6867</td>\n",
       "      <td>0.6668</td>\n",
       "      <td>0.7140</td>\n",
       "      <td>0.9510</td>\n",
       "      <td>0.9624</td>\n",
       "      <td>0.9657</td>\n",
       "    </tr>\n",
       "    <tr>\n",
       "      <th>size: 64, mode: triangular2, stepsize: 315, x2</th>\n",
       "      <td>0.7516</td>\n",
       "      <td>0.7540</td>\n",
       "      <td>0.7900</td>\n",
       "      <td>1.4048</td>\n",
       "      <td>1.4565</td>\n",
       "      <td>1.0779</td>\n",
       "      <td>0.6865</td>\n",
       "      <td>0.6675</td>\n",
       "      <td>0.7138</td>\n",
       "      <td>0.9510</td>\n",
       "      <td>0.9632</td>\n",
       "      <td>0.9654</td>\n",
       "    </tr>\n",
       "  </tbody>\n",
       "</table>\n",
       "</div>"
      ],
      "text/plain": [
       "                                                test acc  valid acc  \\\n",
       "size: 64, mode: triangular, stepsize: 315,  x2    0.7521     0.7537   \n",
       "size: 64, mode: triangular2, stepsize: 315,       0.7518     0.7530   \n",
       "size: 64, mode: triangular2, stepsize: 315, x2    0.7516     0.7540   \n",
       "\n",
       "                                                train acc  test loss  \\\n",
       "size: 64, mode: triangular, stepsize: 315,  x2     0.7913     1.5952   \n",
       "size: 64, mode: triangular2, stepsize: 315,        0.7904     1.4424   \n",
       "size: 64, mode: triangular2, stepsize: 315, x2     0.7900     1.4048   \n",
       "\n",
       "                                                valid loss  train loss  \\\n",
       "size: 64, mode: triangular, stepsize: 315,  x2      1.6703      1.2245   \n",
       "size: 64, mode: triangular2, stepsize: 315,         1.5106      1.1133   \n",
       "size: 64, mode: triangular2, stepsize: 315, x2      1.4565      1.0779   \n",
       "\n",
       "                                                test prec  valid prec  \\\n",
       "size: 64, mode: triangular, stepsize: 315,  x2     0.6875      0.6678   \n",
       "size: 64, mode: triangular2, stepsize: 315,        0.6867      0.6668   \n",
       "size: 64, mode: triangular2, stepsize: 315, x2     0.6865      0.6675   \n",
       "\n",
       "                                                train prec  test rec  \\\n",
       "size: 64, mode: triangular, stepsize: 315,  x2      0.7148    0.9493   \n",
       "size: 64, mode: triangular2, stepsize: 315,         0.7140    0.9510   \n",
       "size: 64, mode: triangular2, stepsize: 315, x2      0.7138    0.9510   \n",
       "\n",
       "                                                valid rec  train rec  \n",
       "size: 64, mode: triangular, stepsize: 315,  x2     0.9618     0.9656  \n",
       "size: 64, mode: triangular2, stepsize: 315,        0.9624     0.9657  \n",
       "size: 64, mode: triangular2, stepsize: 315, x2     0.9632     0.9654  "
      ]
     },
     "execution_count": 35,
     "metadata": {},
     "output_type": "execute_result"
    },
    {
     "data": {
      "text/plain": [
       "'base-lr: 1e-06, max-lr 0.0003,'"
      ]
     },
     "execution_count": 35,
     "metadata": {},
     "output_type": "execute_result"
    }
   ],
   "source": [
    "hp_overview.sort_values(by=['test acc'], ascending = False).iloc[:3,:]\n",
    "# hp_overview.sort_values(by=['test loss'], ascending = True).iloc[:3,:]\n",
    "# hp_overview.sort_values(by=['test prec'], ascending = False).iloc[:3,:]\n",
    "# hp_overview.sort_values(by=['test rec'], ascending = False).iloc[:3,:]\n",
    "model_det[0][49:79]"
   ]
  },
  {
   "cell_type": "code",
   "execution_count": 36,
   "metadata": {},
   "outputs": [
    {
     "data": {
      "text/plain": [
       "'/home/rick/Documents/HannahZ/Code/new_weights/DenseNet121_bs-64_triangular_sz-315_blr-1e-06_mlr-0.0003_e-96_imagenet_All.hdf5'"
      ]
     },
     "execution_count": 36,
     "metadata": {},
     "output_type": "execute_result"
    }
   ],
   "source": [
    "# decide on best hyperparameters\n",
    "batch_size = 64\n",
    "step_size = 315\n",
    "mode = 'triangular'\n",
    "base_lr = 0.000001\n",
    "max_lr = 0.0003\n",
    "epochs = 96\n",
    "d3 = {}\n",
    "fp = (str(modelname) + '_bs-' + str(batch_size) + '_' + str(mode) + '_sz-' + str(step_size) + '_blr-' \n",
    "      + str(base_lr) + '_mlr-' + str(max_lr) + '_e-' + str(epochs) + '_' + weights + '_' + str(trainable_layers))\n",
    "new_weight_dir + '/' + fp + '.hdf5'"
   ]
  },
  {
   "cell_type": "code",
   "execution_count": 37,
   "metadata": {},
   "outputs": [],
   "source": [
    "def trainModels(batch_size = batch_size, stepsize = step_size, mode = mode, max_lr = max_lr, base_lr = base_lr, \n",
    "                epochs = epochs, verbose = 0):\n",
    "    start_time = time()   \n",
    "    global name\n",
    "    global filepath\n",
    "    global d    \n",
    "    date = str(datetime.now().date())\n",
    "    d = {}\n",
    "    for i in range(5):\n",
    "        compileModel()\n",
    "        # logdir in linux:\n",
    "        logdir = (log_dir + '/' + date + '_' + str(batch_size) + '_' + str(mode) + '_si-' + str(stepsize) \n",
    "                  + '_base-' + str(base_lr) + '_max-' + str(max_lr) + '_' + str(i))\n",
    "        # logdir in windows:\n",
    "        ##logdir = (log_dir + '\\\\' + date + '_' + str(batch_size) + '_' + str(mode) + '_si-' + str(stepsize) + \n",
    "        #          '_base-' + str(base_lr) + '_max-' + str(max_lr) + '_' + str(i))\n",
    "        name = ('batch size: ' + str(batch_size) + ', mode: ' + str(mode) + ', stepsize: ' \n",
    "                + str(stepsize) + ', base-lr: ' + str(base_lr) + ', max-lr ' + str(max_lr) + '_' + str(i))\n",
    "        print(' - Model specifics:\\t{}'.format(name))\n",
    "        clr = CyclicLR(base_lr = base_lr, max_lr=max_lr, step_size= stepsize, mode = mode)\n",
    "        fp = (str(modelname) + '_bs-' + str(batch_size) + '_' + str(mode) + '_sz-' + str(step_size) + '_blr-' \n",
    "              + str(base_lr) + '_mlr-' + str(max_lr) + '_e-' + str(epochs) + '_' + weights + '_' \n",
    "              + str(trainable_layers) + '_' + str(i))\n",
    "        filepath = new_weight_dir + '/' + fp + '-{epoch:02d}-' +'.hdf5'\n",
    "        checkp = ModelCheckpoint(filepath, monitor='val_acc', verbose= verbose, save_weights_only=True, \n",
    "                                save_best_only=True, mode='max', period=1)\n",
    "        tbCallBack = TensorBoard(log_dir=logdir, histogram_freq=0, \n",
    "                             write_graph=False, write_images=False)\n",
    "        d[\"FinalModel{0}\".format(i)]= Final_model\n",
    "        d[\"FinalModel{0}\".format(i)].fit(x = train_images, y = train_labels, epochs = epochs, \n",
    "                                         callbacks= [tbCallBack, clr, checkp], batch_size = batch_size,\n",
    "                                         validation_data = (valid_images, valid_labels), verbose = 0)\n",
    "    end_time = time()\n",
    "    time_dif = end_time - start_time\n",
    "    print('Time usage: ' + str(timedelta(seconds=int(round(time_dif)))) + ' minutes')"
   ]
  },
  {
   "cell_type": "code",
   "execution_count": 38,
   "metadata": {},
   "outputs": [
    {
     "name": "stdout",
     "output_type": "stream",
     "text": [
      " - Model specifics:\tbatch size: 64, mode: triangular, stepsize: 315, base-lr: 1e-06, max-lr 0.0003_0\n"
     ]
    },
    {
     "name": "stderr",
     "output_type": "stream",
     "text": [
      "/home/rick/.conda/envs/hannah_z/lib/python2.7/site-packages/keras/callbacks.py:120: UserWarning: Method on_batch_end() is slow compared to the batch update (0.175842). Check your callbacks.\n",
      "  % delta_t_median)\n"
     ]
    },
    {
     "name": "stdout",
     "output_type": "stream",
     "text": [
      " - Model specifics:\tbatch size: 64, mode: triangular, stepsize: 315, base-lr: 1e-06, max-lr 0.0003_1\n"
     ]
    },
    {
     "name": "stderr",
     "output_type": "stream",
     "text": [
      "/home/rick/.conda/envs/hannah_z/lib/python2.7/site-packages/keras/callbacks.py:120: UserWarning: Method on_batch_end() is slow compared to the batch update (0.176785). Check your callbacks.\n",
      "  % delta_t_median)\n"
     ]
    },
    {
     "name": "stdout",
     "output_type": "stream",
     "text": [
      " - Model specifics:\tbatch size: 64, mode: triangular, stepsize: 315, base-lr: 1e-06, max-lr 0.0003_2\n"
     ]
    },
    {
     "name": "stderr",
     "output_type": "stream",
     "text": [
      "/home/rick/.conda/envs/hannah_z/lib/python2.7/site-packages/keras/callbacks.py:120: UserWarning: Method on_batch_end() is slow compared to the batch update (0.180771). Check your callbacks.\n",
      "  % delta_t_median)\n"
     ]
    },
    {
     "name": "stdout",
     "output_type": "stream",
     "text": [
      " - Model specifics:\tbatch size: 64, mode: triangular, stepsize: 315, base-lr: 1e-06, max-lr 0.0003_3\n"
     ]
    },
    {
     "name": "stderr",
     "output_type": "stream",
     "text": [
      "/home/rick/.conda/envs/hannah_z/lib/python2.7/site-packages/keras/callbacks.py:120: UserWarning: Method on_batch_end() is slow compared to the batch update (0.182538). Check your callbacks.\n",
      "  % delta_t_median)\n"
     ]
    },
    {
     "name": "stdout",
     "output_type": "stream",
     "text": [
      " - Model specifics:\tbatch size: 64, mode: triangular, stepsize: 315, base-lr: 1e-06, max-lr 0.0003_4\n"
     ]
    },
    {
     "name": "stderr",
     "output_type": "stream",
     "text": [
      "/home/rick/.conda/envs/hannah_z/lib/python2.7/site-packages/keras/callbacks.py:120: UserWarning: Method on_batch_end() is slow compared to the batch update (0.184080). Check your callbacks.\n",
      "  % delta_t_median)\n"
     ]
    },
    {
     "name": "stdout",
     "output_type": "stream",
     "text": [
      "Time usage: 0:28:21 minutes\n"
     ]
    }
   ],
   "source": [
    "# build best model again\n",
    "# usual time: 15 minutes - 18\n",
    "fm = ['FinalModel1', 'FinalModel2', 'FinalModel3', 'FinalModel4', 'FinalModel5']\n",
    "metrics = ['loss', 'acc', 'precision', 'recall']\n",
    "name = ('bs-' + str(batch_size) + '_' + str(mode) + '_sz-' + str(step_size) + '_blr-' + str(base_lr) + '_mlr-' \n",
    "       + str(max_lr)) + '_' + str(weights) + '_' + str(trainable_layers)\n",
    "trainModels(base_lr = base_lr, max_lr= max_lr, epochs = epochs, verbose = 0,\n",
    "           batch_size = batch_size, stepsize = step_size, mode = mode)"
   ]
  },
  {
   "cell_type": "code",
   "execution_count": 41,
   "metadata": {},
   "outputs": [
    {
     "name": "stdout",
     "output_type": "stream",
     "text": [
      "DenseNet121_bs-64_triangular_sz-315_blr-1e-06_mlr-0.0003_e-96_imagenet_All_0-{epoch:02d}-.hdf5\n",
      "DenseNet121_bs-64_triangular_sz-315_blr-1e-06_mlr-0.0003_e-96_imagenet_All_0\n"
     ]
    }
   ],
   "source": [
    "# find out where 'bs' starts and '_' ends...\n",
    "i = 0\n",
    "last = 121\n",
    "print(str(filepath)[46:last] + str(i) + str(filepath)[(last+1):])\n",
    "filename = str(filepath)[46:last] + str(i)\n",
    "print(filename)\n",
    "from collections import OrderedDict"
   ]
  },
  {
   "cell_type": "code",
   "execution_count": null,
   "metadata": {},
   "outputs": [],
   "source": []
  },
  {
   "cell_type": "code",
   "execution_count": 42,
   "metadata": {},
   "outputs": [
    {
     "name": "stdout",
     "output_type": "stream",
     "text": [
      "DenseNet121_bs-64_triangular_sz-315_blr-1e-06_mlr-0.0003_e-96_imagenet_All_0\n",
      "DenseNet121_bs-64_triangular_sz-315_blr-1e-06_mlr-0.0003_e-96_imagenet_All_0-09-.hdf5\n",
      "td0-e09\n",
      "\n",
      "DenseNet121_bs-64_triangular_sz-315_blr-1e-06_mlr-0.0003_e-96_imagenet_All_1\n",
      "DenseNet121_bs-64_triangular_sz-315_blr-1e-06_mlr-0.0003_e-96_imagenet_All_1-51-.hdf5\n",
      "td1-e51\n",
      "\n",
      "DenseNet121_bs-64_triangular_sz-315_blr-1e-06_mlr-0.0003_e-96_imagenet_All_2\n",
      "DenseNet121_bs-64_triangular_sz-315_blr-1e-06_mlr-0.0003_e-96_imagenet_All_2-08-.hdf5\n",
      "td2-e08\n",
      "\n",
      "DenseNet121_bs-64_triangular_sz-315_blr-1e-06_mlr-0.0003_e-96_imagenet_All_3\n",
      "DenseNet121_bs-64_triangular_sz-315_blr-1e-06_mlr-0.0003_e-96_imagenet_All_3-07-.hdf5\n",
      "td3-e07\n",
      "\n",
      "DenseNet121_bs-64_triangular_sz-315_blr-1e-06_mlr-0.0003_e-96_imagenet_All_4\n",
      "DenseNet121_bs-64_triangular_sz-315_blr-1e-06_mlr-0.0003_e-96_imagenet_All_4-17-.hdf5\n",
      "td4-e17\n",
      "\n",
      "Time usage: 0:01:24 minutes\n"
     ]
    }
   ],
   "source": [
    "# usual time: 2 minutes\n",
    "startTime = time()\n",
    "FinalModelList = OrderedDict()\n",
    "d3 = OrderedDict()\n",
    "for i in range(5):\n",
    "    filename = str(filepath)[46:last] + str(i) #+ str(filepath)[113:]\n",
    "    weightlist = os.listdir(new_weight_dir)\n",
    "    print(filename)\n",
    "    best_filename = 'no'\n",
    "    for el in weightlist:\n",
    "        if(str(el)[:len(filename)]) == filename:\n",
    "            if len(el)>(len(filename)+5):\n",
    "                best_filename = el\n",
    "    print(best_filename)\n",
    "    best = str(best_filename)[-8:-6]\n",
    "    os.chdir(new_weight_dir)\n",
    "    compileModel()\n",
    "    Final_model.load_weights(best_filename)\n",
    "    FinalModelList[\"FinalModel{}-e{}\".format(i,best)]= Final_model\n",
    "    test_m = Final_model.evaluate(test_images, test_labels, verbose = 0)\n",
    "    test_m = [round(el, 4) for el in test_m]\n",
    "    valid_m = Final_model.evaluate(valid_images, valid_labels, verbose = 0)\n",
    "    valid_m = [round(el, 4) for el in valid_m]\n",
    "    train_m = Final_model.evaluate(train_images, train_labels, verbose = 0)\n",
    "    train_m = [round(el, 4) for el in train_m]\n",
    "    col = [\"FinalModel{}-e{}\".format(i,best)]\n",
    "    print(\"td{}-e{}\".format(i, best))\n",
    "    d3[\"td{}-e{}\".format(i, best)]= pd.DataFrame(data = test_m[:4], columns = col, index = metrics)\n",
    "#     print('Best test accuracy model {}: {}'.format(i, test_m[1]))\n",
    "#     print('Best validation accuracy model {}: {}'.format(i, valid_m[1]))\n",
    "#     print('Best training accuracy model {}: {}'.format(i, train_m[1]))\n",
    "    print('')\n",
    "endTime = time()\n",
    "finalTime = endTime - startTime\n",
    "print('Time usage: ' + str(timedelta(seconds=int(round(finalTime)))) + ' minutes')"
   ]
  },
  {
   "cell_type": "code",
   "execution_count": 43,
   "metadata": {},
   "outputs": [
    {
     "data": {
      "text/html": [
       "<div>\n",
       "<style scoped>\n",
       "    .dataframe tbody tr th:only-of-type {\n",
       "        vertical-align: middle;\n",
       "    }\n",
       "\n",
       "    .dataframe tbody tr th {\n",
       "        vertical-align: top;\n",
       "    }\n",
       "\n",
       "    .dataframe thead th {\n",
       "        text-align: right;\n",
       "    }\n",
       "</style>\n",
       "<table border=\"1\" class=\"dataframe\">\n",
       "  <thead>\n",
       "    <tr style=\"text-align: right;\">\n",
       "      <th></th>\n",
       "      <th>loss</th>\n",
       "      <th>acc</th>\n",
       "      <th>precision</th>\n",
       "      <th>recall</th>\n",
       "    </tr>\n",
       "  </thead>\n",
       "  <tbody>\n",
       "    <tr>\n",
       "      <th>FinalModel2-e08</th>\n",
       "      <td>0.7260</td>\n",
       "      <td>0.7891</td>\n",
       "      <td>0.7498</td>\n",
       "      <td>0.8882</td>\n",
       "    </tr>\n",
       "    <tr>\n",
       "      <th>FinalModel1-e51</th>\n",
       "      <td>1.0094</td>\n",
       "      <td>0.7827</td>\n",
       "      <td>0.7340</td>\n",
       "      <td>0.9067</td>\n",
       "    </tr>\n",
       "    <tr>\n",
       "      <th>FinalModel0-e09</th>\n",
       "      <td>0.7063</td>\n",
       "      <td>0.7816</td>\n",
       "      <td>0.7413</td>\n",
       "      <td>0.8874</td>\n",
       "    </tr>\n",
       "    <tr>\n",
       "      <th>FinalModel4-e17</th>\n",
       "      <td>0.7665</td>\n",
       "      <td>0.7816</td>\n",
       "      <td>0.7390</td>\n",
       "      <td>0.8933</td>\n",
       "    </tr>\n",
       "    <tr>\n",
       "      <th>FinalModel3-e07</th>\n",
       "      <td>0.9226</td>\n",
       "      <td>0.7719</td>\n",
       "      <td>0.7153</td>\n",
       "      <td>0.9232</td>\n",
       "    </tr>\n",
       "  </tbody>\n",
       "</table>\n",
       "</div>"
      ],
      "text/plain": [
       "                   loss     acc  precision  recall\n",
       "FinalModel2-e08  0.7260  0.7891     0.7498  0.8882\n",
       "FinalModel1-e51  1.0094  0.7827     0.7340  0.9067\n",
       "FinalModel0-e09  0.7063  0.7816     0.7413  0.8874\n",
       "FinalModel4-e17  0.7665  0.7816     0.7390  0.8933\n",
       "FinalModel3-e07  0.9226  0.7719     0.7153  0.9232"
      ]
     },
     "execution_count": 43,
     "metadata": {},
     "output_type": "execute_result"
    }
   ],
   "source": [
    "keys = d3.keys()\n",
    "FinalResults = pd.concat([d3[keys[0]], d3[keys[1]], d3[keys[2]], d3[keys[3]], d3[keys[4]]], axis=1)\n",
    "FinalResults = pd.DataFrame(data = FinalResults.transpose(), columns = metrics)\n",
    "FinalResults.sort_values(by = ['acc'], ascending = False)"
   ]
  },
  {
   "cell_type": "code",
   "execution_count": 44,
   "metadata": {},
   "outputs": [
    {
     "name": "stdout",
     "output_type": "stream",
     "text": [
      "['FinalModel0-e09', 'FinalModel1-e51', 'FinalModel2-e08', 'FinalModel3-e07', 'FinalModel4-e17']\n",
      "934/934 [==============================] - 8s 9ms/step\n"
     ]
    },
    {
     "data": {
      "text/html": [
       "<div>\n",
       "<style scoped>\n",
       "    .dataframe tbody tr th:only-of-type {\n",
       "        vertical-align: middle;\n",
       "    }\n",
       "\n",
       "    .dataframe tbody tr th {\n",
       "        vertical-align: top;\n",
       "    }\n",
       "\n",
       "    .dataframe thead th {\n",
       "        text-align: right;\n",
       "    }\n",
       "</style>\n",
       "<table border=\"1\" class=\"dataframe\">\n",
       "  <thead>\n",
       "    <tr style=\"text-align: right;\">\n",
       "      <th></th>\n",
       "      <th>loss</th>\n",
       "      <th>acc</th>\n",
       "      <th>precision</th>\n",
       "      <th>recall</th>\n",
       "    </tr>\n",
       "  </thead>\n",
       "  <tbody>\n",
       "    <tr>\n",
       "      <th>ensembleModel</th>\n",
       "      <td>0.694127</td>\n",
       "      <td>0.785867</td>\n",
       "      <td>0.741601</td>\n",
       "      <td>0.902431</td>\n",
       "    </tr>\n",
       "  </tbody>\n",
       "</table>\n",
       "</div>"
      ],
      "text/plain": [
       "                   loss       acc  precision    recall\n",
       "ensembleModel  0.694127  0.785867   0.741601  0.902431"
      ]
     },
     "execution_count": 44,
     "metadata": {},
     "output_type": "execute_result"
    },
    {
     "data": {
      "text/html": [
       "<div>\n",
       "<style scoped>\n",
       "    .dataframe tbody tr th:only-of-type {\n",
       "        vertical-align: middle;\n",
       "    }\n",
       "\n",
       "    .dataframe tbody tr th {\n",
       "        vertical-align: top;\n",
       "    }\n",
       "\n",
       "    .dataframe thead th {\n",
       "        text-align: right;\n",
       "    }\n",
       "</style>\n",
       "<table border=\"1\" class=\"dataframe\">\n",
       "  <thead>\n",
       "    <tr style=\"text-align: right;\">\n",
       "      <th></th>\n",
       "      <th>loss</th>\n",
       "      <th>acc</th>\n",
       "      <th>precision</th>\n",
       "      <th>recall</th>\n",
       "    </tr>\n",
       "  </thead>\n",
       "  <tbody>\n",
       "    <tr>\n",
       "      <th>FinalModel2-e08</th>\n",
       "      <td>0.726000</td>\n",
       "      <td>0.789100</td>\n",
       "      <td>0.749800</td>\n",
       "      <td>0.888200</td>\n",
       "    </tr>\n",
       "    <tr>\n",
       "      <th>ensembleModel</th>\n",
       "      <td>0.694127</td>\n",
       "      <td>0.785867</td>\n",
       "      <td>0.741601</td>\n",
       "      <td>0.902431</td>\n",
       "    </tr>\n",
       "    <tr>\n",
       "      <th>FinalModel1-e51</th>\n",
       "      <td>1.009400</td>\n",
       "      <td>0.782700</td>\n",
       "      <td>0.734000</td>\n",
       "      <td>0.906700</td>\n",
       "    </tr>\n",
       "    <tr>\n",
       "      <th>FinalModel0-e09</th>\n",
       "      <td>0.706300</td>\n",
       "      <td>0.781600</td>\n",
       "      <td>0.741300</td>\n",
       "      <td>0.887400</td>\n",
       "    </tr>\n",
       "    <tr>\n",
       "      <th>FinalModel4-e17</th>\n",
       "      <td>0.766500</td>\n",
       "      <td>0.781600</td>\n",
       "      <td>0.739000</td>\n",
       "      <td>0.893300</td>\n",
       "    </tr>\n",
       "    <tr>\n",
       "      <th>FinalModel3-e07</th>\n",
       "      <td>0.922600</td>\n",
       "      <td>0.771900</td>\n",
       "      <td>0.715300</td>\n",
       "      <td>0.923200</td>\n",
       "    </tr>\n",
       "  </tbody>\n",
       "</table>\n",
       "</div>"
      ],
      "text/plain": [
       "                     loss       acc  precision    recall\n",
       "FinalModel2-e08  0.726000  0.789100   0.749800  0.888200\n",
       "ensembleModel    0.694127  0.785867   0.741601  0.902431\n",
       "FinalModel1-e51  1.009400  0.782700   0.734000  0.906700\n",
       "FinalModel0-e09  0.706300  0.781600   0.741300  0.887400\n",
       "FinalModel4-e17  0.766500  0.781600   0.739000  0.893300\n",
       "FinalModel3-e07  0.922600  0.771900   0.715300  0.923200"
      ]
     },
     "execution_count": 44,
     "metadata": {},
     "output_type": "execute_result"
    }
   ],
   "source": [
    "dictlist = FinalModelList.keys()\n",
    "print(dictlist)\n",
    "models = [FinalModelList[dictlist[0]], FinalModelList[dictlist[1]], FinalModelList[dictlist[2]], \\\n",
    "          FinalModelList[dictlist[3]], FinalModelList[dictlist[4]]]\n",
    "def ensemble(models):    \n",
    "    global eModel\n",
    "    outputs = [model.outputs[0] for model in models]\n",
    "    y = keras.layers.Average()(outputs)   \n",
    "    eModel = Model(inputs=Model_base.input, outputs = y, name='ensemble')  \n",
    "    eModel.compile(optimizer='rmsprop', loss='binary_crossentropy',\n",
    "                   metrics=['accuracy', precision, recall, fmeasure])\n",
    "    return eModel\n",
    "ensemble_model = ensemble(models)\n",
    "ensResults = ensemble_model.evaluate(test_images, test_labels)\n",
    "Res = pd.DataFrame(data = ensResults[:4], columns = ['ensembleModel'], index = metrics)\n",
    "Res.transpose()\n",
    "keys = d3.keys()\n",
    "FinalResults = pd.concat([d3[keys[0]], d3[keys[1]], d3[keys[2]], d3[keys[3]], d3[keys[4]], Res], axis=1)\n",
    "FinalResults = pd.DataFrame(data = FinalResults.transpose(), columns = metrics)\n",
    "FinalResults.sort_values(by = ['acc'], ascending = False)"
   ]
  },
  {
   "cell_type": "code",
   "execution_count": 45,
   "metadata": {},
   "outputs": [
    {
     "name": "stdout",
     "output_type": "stream",
     "text": [
      "DenseNet121_bs-64_triangular_sz-315_blr-1e-06_mlr-0.0003_e-96_imagenet_All_2-e08\n"
     ]
    }
   ],
   "source": [
    "# change again the path name\n",
    "# saving the model   \n",
    "i = 2\n",
    "#FinName = str(filepath)[46:112] + '_ensemble' \n",
    "FinName = str(filepath)[46:last] + str(i) + dictlist[i][-4:]\n",
    "print(FinName)\n",
    "os.chdir(model_dir)\n",
    "#Final_model1 = ensemble_model # or\n",
    "Final_model = FinalModelList[dictlist[i]]\n",
    "# predictions = np.round(Final_model.predict(test_images),4)           \n",
    "# predictions_ensemble = np.round(Final_model1.predict(test_images),4)\n",
    "# for v1, v2 in zip(predictions[:5], predictions_ensemble[:5]):\n",
    "#     print('Best model prediction and ensemble prediction: \\t{} \\t{}'.format(v1, v2))"
   ]
  },
  {
   "cell_type": "code",
   "execution_count": 46,
   "metadata": {},
   "outputs": [],
   "source": [
    "Final_model.save(FinName)"
   ]
  },
  {
   "cell_type": "code",
   "execution_count": null,
   "metadata": {},
   "outputs": [],
   "source": [
    "# calculating the ROC    \n",
    "y_pred = Final_model.predict(test_images, batch_size = 64)\n",
    "y_true = test_labels\n",
    "fpr, tpr, thresholds = roc_curve(y_true, y_pred, pos_label = 1)\n",
    "roc_auc = auc(fpr, tpr)\n",
    "plt.figure()\n",
    "plt.plot(fpr, tpr, color='lime',\n",
    "         lw=2, label='ROC curve (area = %0.2f)' % roc_auc)\n",
    "plt.plot([0, 1], [0, 1], color='darkgrey', lw=2, linestyle='--')\n",
    "plt.xlim([-0.05, 1.0])\n",
    "plt.ylim([0.0, 1.05])\n",
    "plt.xlabel('False Positive Rate')\n",
    "plt.ylabel('True Positive Rate')\n",
    "plt.title('Receiver operating characteristic Curve')\n",
    "plt.legend(loc=\"lower right\")\n",
    "plt.show()"
   ]
  },
  {
   "cell_type": "code",
   "execution_count": null,
   "metadata": {
    "collapsed": true
   },
   "outputs": [],
   "source": [
    "# calculating the ROC    \n",
    "y_pred = Final_model.predict(test_images, batch_size = 64)\n",
    "y_true = test_labels\n",
    "fpr, tpr, thresholds = roc_curve(y_true, y_pred, pos_label = 1)\n",
    "roc_auc = auc(fpr, tpr)\n",
    "plt.figure()\n",
    "plt.plot(fpr, tpr, color='lime',\n",
    "         lw=2, label='ROC curve (area = %0.2f)' % roc_auc)\n",
    "plt.plot([0, 1], [0, 1], color='darkgrey', lw=2, linestyle='--')\n",
    "plt.xlim([-0.05, 1.0])\n",
    "plt.ylim([0.0, 1.05])\n",
    "plt.xlabel('False Positive Rate')\n",
    "plt.ylabel('True Positive Rate')\n",
    "plt.title('Receiver operating characteristic Curve')\n",
    "plt.legend(loc=\"lower right\")\n",
    "plt.show()\n",
    "\n",
    "# evaluation with bootstrapping\n",
    "seed(1)\n",
    "ratio = 0.1\n",
    "y_pred_1 = Final_model.predict(test_images, batch_size = 64).squeeze(axis = 1)\n",
    "def subsample(dataset = y_pred_1, labels = test_labels, ratio= ratio):\n",
    "    pred_sample = list()\n",
    "    label_sample = list()\n",
    "    n_sample = round(len(dataset) * ratio)\n",
    "    index = sample(range(len(dataset)), n_sample)\n",
    "    pred_sample = dataset[index]\n",
    "    label_sample = labels[index]           \n",
    "    return pred_sample, label_sample\n",
    "\n",
    "loss = []\n",
    "accuracy = []\n",
    "precisions = []\n",
    "recalls = []\n",
    "f_measures = []\n",
    "    \n",
    "def bootstrap(iterations = 20, ratio = ratio, dataset = y_pred_1, labels = test_labels):    \n",
    "    for i in range (iterations):\n",
    "        b_pred, b_labels = subsample(dataset, labels, ratio)\n",
    "        lo = cross_entropy(b_pred, b_labels)\n",
    "        b_pred_rounded = b_pred.round()\n",
    "        acc = accuracy_score(b_labels, b_pred_rounded)\n",
    "        pre = precision_score(b_labels, b_pred_rounded)\n",
    "        rec = recall_score(b_labels, b_pred_rounded)\n",
    "        fme = f1_score(b_labels, b_pred_rounded)\n",
    "        loss.append(lo)\n",
    "        accuracy.append(acc)\n",
    "        precisions.append(pre)\n",
    "        recalls.append(rec)\n",
    "        f_measures.append(fme)\n",
    "        if (i%100 == 0): \n",
    "            print('Iteration_' + str(i))\n",
    "        \n",
    "bootstrap(iterations = 10000)\n",
    "plt.hist(accuracy, bins = 100, range = [0,1])\n",
    "plt.hist(precisions, bins = 100, range = [0,1])\n",
    "plt.hist(recalls, bins = 100, range = [0,1])\n",
    "plt.hist(loss, bins = 100)\n",
    "\n",
    "##################### second training stage ###################################\n",
    "for i, layer in enumerate(Model_base.layers):\n",
    "   if ('mix' in layer.name):\n",
    "       print(i, layer.name)\n",
    "for layer in Final_model.layers[:275]:\n",
    "   layer.trainable = False\n",
    "for layer in Final_model.layers[275:]:\n",
    "   layer.trainable = True\n",
    "\n",
    "Final_model.compile(optimizer=SGD(lr=0.0001, momentum=0.9), \n",
    "              loss='binary_crossentropy', metrics = ['acc'])\n",
    "def train2_IncResNet_model(epochs = 21):\n",
    "    global no_of_epochs\n",
    "    Final_model.fit(x = train_images, y = train_labels, epochs = epochs)\n",
    "    no_of_epochs = no_of_epochs + epochs\n",
    "train2_IncResNet_model(epochs = 21)\n",
    "\n",
    "result = Final_model.evaluate(test_images, test_labels)\n",
    "for name, value in zip(Final_model.metrics_names, result):\n",
    "    print(name, value)\n",
    "\n",
    "### making predictions on the test data\n",
    "predictions = Final_model.predict(test_images).squeeze(axis = 1)\n",
    "binary_preds = predictions.round()\n",
    "print(predictions[0:10], binary_preds[0:10])\n",
    "\n",
    "# Plot a few images to see if the data is correct\n",
    "images = test_images[9:18]\n",
    "cls_true = test_labels[9:18].astype(int)\n",
    "plot_images(images=images, cls_true=cls_true)\n",
    "cls_pred = binary_preds[9:18]\n",
    "plot_images(images=images, cls_true=cls_true, cls_pred = cls_pred)    \n",
    "\n",
    "### checking test accuracy, example errors and confusion matrix\n",
    "print_test_accuracy\n",
    "\n",
    "### checking which layers are convolutional layers\n",
    "for i, layer in enumerate(Model_base.layers):\n",
    "   if ('conv' in layer.name):\n",
    "       print(i, layer.name)\n",
    "\n",
    "plot_weights(input_channel = 0, layer_index = 1)\n",
    "plot_weights(input_channel = 1, layer_index = 1)\n",
    "\n",
    "\n",
    "\n",
    "\n",
    "\n",
    "\n",
    "\n",
    "\n",
    "\n",
    "\n",
    "\n",
    "\n",
    "\n",
    "\n",
    "\n",
    "\n",
    "\n",
    "\n",
    "#*****************************************************************************\n",
    "################# HELPER FUNCTIONS ###########################################\n",
    "#\n",
    "#*****************************************************************************\n",
    "\n",
    "### Helper function for confusion matrix #####################################\n",
    "import itertools\n",
    "classes = ['no sp', 'sp']\n",
    "\n",
    "def plot_confusion_matrix(cm = cm, classes = classes,\n",
    "                          normalize=False,\n",
    "                          title='Confusion matrix',\n",
    "                          cmap=plt.cm.Blues):\n",
    "    \"\"\"\n",
    "    This function prints and plots the confusion matrix.\n",
    "    Normalization can be applied by setting `normalize=True`.\n",
    "    \"\"\"\n",
    "    if normalize:\n",
    "        cm = cm.astype('float') / cm.sum()\n",
    "        print(\"Normalized confusion matrix\")\n",
    "    else:\n",
    "        print('Confusion matrix, without normalization')\n",
    "    print(cm)\n",
    "    plt.imshow(cm, interpolation='nearest', cmap=cmap)\n",
    "    plt.title(title)\n",
    "    plt.colorbar()\n",
    "    tick_marks = np.arange(len(classes))\n",
    "    plt.xticks(tick_marks, classes)\n",
    "    plt.yticks(tick_marks, classes)\n",
    "    fmt = '.2f' if normalize else 'd'\n",
    "    thresh = cm.max() / 2.\n",
    "    for i, j in itertools.product(range(cm.shape[0]), range(cm.shape[1])):\n",
    "        plt.text(j, i, format(cm[i, j], fmt),\n",
    "                 horizontalalignment=\"center\",\n",
    "                 color=\"white\" if cm[i, j] > thresh else \"black\")     \n",
    "    plt.tight_layout(pad = 2)\n",
    "    plt.ylabel('True label')\n",
    "    plt.xlabel('Predicted label')\n",
    "\n",
    "\n",
    "###### Helper function for plotting images ####################################\n",
    "def plot_images(images, cls_true, cls_pred=None):\n",
    "    assert len(images) == len(cls_true) == 9\n",
    "    # Create figure with 3x3 sub-plots.\n",
    "    fig, axes = plt.subplots(3, 3)\n",
    "    fig.subplots_adjust(hspace=0.3, wspace=0.3)\n",
    "    for i, ax in enumerate(axes.flat):\n",
    "        ax.imshow(images[i], cmap='binary')\n",
    "        if cls_pred is None:\n",
    "            xlabel = \"Label: {0}\".format(cls_true[i])\n",
    "        else:\n",
    "            xlabel = \"Label: {0}, Pred: {1}\".format(cls_true[i], cls_pred[i])\n",
    "        # Show the classes as the label on the x-axis.\n",
    "        ax.set_xlabel(xlabel)\n",
    "        ax.set_xticks([])\n",
    "        ax.set_yticks([])\n",
    "    plt.show() \n",
    "    \n",
    "### Example errors\n",
    "def plot_example_errors(cls_pred, correct):\n",
    "    incorrect = (correct == False)\n",
    "    images = test_images[incorrect]\n",
    "    cls_pred = cls_pred[incorrect]\n",
    "    cls_true = test_labels[incorrect]\n",
    "    plot_images(images=images[0:9],\n",
    "                cls_true=cls_true[0:9],\n",
    "                cls_pred=cls_pred[0:9])\n",
    "\n",
    "def print_test_accuracy(show_example_errors=True,\n",
    "                        show_confusion_matrix=True, \n",
    "                        show_first_10_preds = True):\n",
    "    num_test = len(test_images)\n",
    "    #cls_pred = np.zeros(shape=num_test, dtype=np.int)\n",
    "    cls_pred = Final_model.predict(test_images).squeeze(axis = 1).round()\n",
    "    cls_true = test_labels\n",
    "    correct = (cls_true == cls_pred)\n",
    "    correct_sum = correct.sum()\n",
    "    acc = float(correct_sum) / num_test\n",
    "    msg = \"Accuracy on Test-Set: {0:.1%} ({1} / {2})\"\n",
    "    print(msg.format(acc, correct_sum, num_test))\n",
    "    # Plot some examples of mis-classifications, if desired.\n",
    "    if show_example_errors:\n",
    "        print(\"Example errors:\")\n",
    "        plot_example_errors(cls_pred=cls_pred, correct=correct)\n",
    "    # Plot the confusion matrix, if desired.\n",
    "    if show_confusion_matrix:\n",
    "        print(\"Confusion Matrix:\")\n",
    "        cm = confusion_matrix(test_labels, cls_pred.round())\n",
    "        plot_confusion_matrix(cm = cm)\n",
    "    # Show the first hundred predictions made:\n",
    "    if show_first_10_preds:\n",
    "        print(\"First 10 predictions:\")\n",
    "        print(cls_pred[0:10])\n",
    "\n",
    "\n",
    "#### Helper function for plotting the output of a convolutional layer\n",
    "#def plot_conv_layer(layer, image):\n",
    "#    feed_dict = {x: [image]}\n",
    "#    values = IncResNet_model.run(layer, feed_dict=feed_dict)\n",
    "#    num_filters = values.shape[3]\n",
    "#    num_grids = math.ceil(math.sqrt(num_filters))\n",
    "#    fig, axes = plt.subplots(num_grids, num_grids)\n",
    "#    for i, ax in enumerate(axes.flat):\n",
    "#        if i<num_filters:\n",
    "#            img = values[0, :, :, i]\n",
    "#            ax.imshow(img, interpolation='nearest', cmap='binary')\n",
    "#        ax.set_xticks([])\n",
    "#        ax.set_yticks([])\n",
    "#    plt.show()\n",
    "\n",
    "### Helper function for conv weights\n",
    "def plot_weights(input_channel=0, layer_index = 1):\n",
    "    w = Final_model.layers[layer_index].get_weights()[0]\n",
    "    w_min = np.min(w)\n",
    "    w_max = np.max(w)\n",
    "    num_filters = w.shape[3]\n",
    "    num_grids = math.ceil(math.sqrt(num_filters))\n",
    "    fig, axes = plt.subplots(num_grids, num_grids)\n",
    "    for i, ax in enumerate(axes.flat):\n",
    "        if i<num_filters:\n",
    "            img = w[:, :, input_channel, i]\n",
    "            ax.imshow(img, vmin=w_min, vmax=w_max,\n",
    "                      interpolation='nearest', cmap='seismic')\n",
    "        ax.set_xticks([])\n",
    "        ax.set_yticks([])\n",
    "    plt.show()"
   ]
  }
 ],
 "metadata": {
  "kernelspec": {
   "display_name": "Python [default]",
   "language": "python",
   "name": "python2"
  },
  "language_info": {
   "codemirror_mode": {
    "name": "ipython",
    "version": 2
   },
   "file_extension": ".py",
   "mimetype": "text/x-python",
   "name": "python",
   "nbconvert_exporter": "python",
   "pygments_lexer": "ipython2",
   "version": "2.7.15"
  }
 },
 "nbformat": 4,
 "nbformat_minor": 2
}
