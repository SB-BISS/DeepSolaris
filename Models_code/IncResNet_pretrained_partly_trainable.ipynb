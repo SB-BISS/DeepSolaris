{
 "cells": [
  {
   "cell_type": "code",
   "execution_count": 1,
   "metadata": {},
   "outputs": [],
   "source": [
    "from __future__ import absolute_import\n",
    "from __future__ import division\n",
    "from __future__ import print_function\n",
    "\n",
    "### setting the different directories \n",
    "\n",
    "# on the server (linux):\n",
    "# where to find the images:\n",
    "home_dir = '/home/rick/Documents/HannahZ'\n",
    "# folder where to save code and so on\n",
    "code_dir = home_dir + '/Code'\n",
    "# where to save the final models\n",
    "model_dir = code_dir + '/Final_models'\n",
    "# where to save the logs for visualization in TensorBoard\n",
    "log_dir = code_dir + '/logs'\n",
    "# where to save the weights\n",
    "new_weight_dir = code_dir + '/new_weights'\n",
    "\n",
    "\n",
    "# on my computer (windows):\n",
    "# where to find the images:\n",
    "#home_dir = '\\\\Users\\\\ThinkPad User\\\\Google Drive\\\\DeepSolaris'\n",
    "# folder where to save code and so on\n",
    "#code_dir = '\\\\Users\\\\ThinkPad User\\\\Google Drive\\\\Master_thesis_H_Z_DL&NN\\\\Coding'\n",
    "# where to save the final models\n",
    "#model_dir = code_dir + '\\\\Final_models_saved'\n",
    "# where to save the logs for visualization in TensorBoard\n",
    "#log_dir = code_dir + '\\\\logs'\n",
    "import os\n",
    "os.chdir(home_dir)"
   ]
  },
  {
   "cell_type": "code",
   "execution_count": 2,
   "metadata": {},
   "outputs": [],
   "source": [
    "modelname = 'IncResNetV2'"
   ]
  },
  {
   "cell_type": "code",
   "execution_count": 3,
   "metadata": {},
   "outputs": [
    {
     "name": "stderr",
     "output_type": "stream",
     "text": [
      "Using TensorFlow backend.\n"
     ]
    }
   ],
   "source": [
    "from keras import backend as K\n",
    "from keras.models import Model\n",
    "from keras.layers import Activation\n",
    "from keras.layers import AveragePooling2D\n",
    "from keras.layers import BatchNormalization\n",
    "from keras.layers import Concatenate\n",
    "from keras.layers import Conv2D\n",
    "from keras.layers import Dense\n",
    "from keras.layers import GlobalAveragePooling2D\n",
    "from keras.layers import GlobalMaxPooling2D\n",
    "from keras.layers import Input\n",
    "from keras.layers import MaxPooling2D\n",
    "from keras.layers import ZeroPadding2D\n",
    "from keras.utils.data_utils import get_file\n",
    "from keras.engine import get_source_inputs\n",
    "from keras.applications import imagenet_utils\n",
    "from keras.applications.imagenet_utils import decode_predictions\n",
    "from keras.applications.imagenet_utils import _obtain_input_shape \n",
    "\n",
    "from sklearn.model_selection import cross_validate\n",
    "from sklearn.metrics import roc_curve\n",
    "from sklearn.metrics import auc\n",
    "from sklearn.metrics import precision_score\n",
    "from sklearn.metrics import recall_score\n",
    "from sklearn.metrics import f1_score\n",
    "from keras.losses import binary_crossentropy\n",
    "\n",
    "\n",
    "from random import randrange\n",
    "from random import seed\n",
    "from random import sample\n",
    "import tensorflow as tf\n",
    "\n",
    "\n",
    "import itertools\n",
    "import matplotlib.pyplot as plt\n",
    "import numpy as np\n",
    "import pandas as pd\n",
    "from time import time\n",
    "from datetime import timedelta\n",
    "import math\n",
    "from sklearn.model_selection import train_test_split\n",
    "from datetime import datetime\n",
    "from keras.preprocessing import image\n",
    "from keras.optimizers import SGD\n",
    "from sklearn.metrics import accuracy_score\n",
    "from sklearn.metrics import confusion_matrix\n",
    "from keras.models import load_model\n",
    "from keras.callbacks import TensorBoard\n",
    "from keras.callbacks import EarlyStopping\n",
    "from keras.callbacks import ModelCheckpoint\n",
    "import keras\n",
    "from keras.callbacks import Callback\n",
    "from keras.applications.inception_resnet_v2 import InceptionResNetV2\n",
    "\n",
    "\n",
    "os.chdir(code_dir)\n",
    "\n",
    "from Learning_rate_scheduler import LrReducer\n",
    "from CyclicLR import CyclicLR"
   ]
  },
  {
   "cell_type": "code",
   "execution_count": 4,
   "metadata": {},
   "outputs": [
    {
     "name": "stdout",
     "output_type": "stream",
     "text": [
      "Size of:\n",
      "- Training-set:\t\t3357\n",
      "- Validation-set:\t374\n",
      "- Test-set:\t\t934\n"
     ]
    }
   ],
   "source": [
    "seed(0)\n",
    "### Helper metrics functions\n",
    "\n",
    "def precision(y_true, y_pred):\n",
    "    true_positives = K.sum(K.round(K.clip(y_true * y_pred, 0, 1)))\n",
    "    predicted_positives = K.sum(K.round(K.clip(y_pred, 0, 1)))\n",
    "    precision = true_positives / (predicted_positives + K.epsilon())\n",
    "    return precision\n",
    "    \n",
    "def recall(y_true, y_pred):\n",
    "    true_positives = K.sum(K.round(K.clip(y_true * y_pred, 0, 1)))\n",
    "    possible_positives = K.sum(K.round(K.clip(y_true, 0, 1)))\n",
    "    recall = true_positives / (possible_positives + K.epsilon())\n",
    "    return recall\n",
    "    \n",
    "    \n",
    "def fbeta_score(y_true, y_pred, beta=1):\n",
    "    if beta < 0:\n",
    "        raise ValueError('The lowest choosable beta is zero (only precision).')\n",
    "    # If there are no true positives, fix the F score at 0 like sklearn.\n",
    "    if K.sum(K.round(K.clip(y_true, 0, 1))) == 0:\n",
    "        return 0\n",
    "    p = precision(y_true, y_pred)\n",
    "    r = recall(y_true, y_pred)\n",
    "    bb = beta ** 2\n",
    "    fbeta_score = (1 + bb) * (p * r) / (bb * p + r + K.epsilon())\n",
    "    return fbeta_score\n",
    "def fmeasure(y_true, y_pred):\n",
    "    return fbeta_score(y_true, y_pred, beta=1)\n",
    "\n",
    "no_of_epochs = 0\n",
    "\n",
    "### check if data are in the right format\n",
    "K.image_data_format() == 'channels_last'\n",
    "\n",
    "os.chdir(home_dir)\n",
    "train_images = np.load('training_images_AcMüDüHo.npy')\n",
    "valid_images = np.load('validation_images_AcMüDüHo.npy')\n",
    "test_images = np.load('test_images_AcMüDüHo.npy')\n",
    "train_labels = np.load('training_labels_AcMüDüHo.npy')\n",
    "valid_labels = np.load('validation_labels_AcMüDüHo.npy')\n",
    "test_labels = np.load('test_labels_AcMüDüHo.npy')\n",
    "\n",
    "print(\"Size of:\")\n",
    "print(\"- Training-set:\\t\\t{}\".format(len(train_labels)))\n",
    "print(\"- Validation-set:\\t{}\".format(len(valid_labels)))\n",
    "print(\"- Test-set:\\t\\t{}\".format(len(test_labels)))"
   ]
  },
  {
   "cell_type": "code",
   "execution_count": 5,
   "metadata": {},
   "outputs": [
    {
     "data": {
      "text/plain": [
       "780"
      ]
     },
     "execution_count": 5,
     "metadata": {},
     "output_type": "execute_result"
    }
   ],
   "source": [
    "# choose training specifications (None or 'imagenet')\n",
    "weights = 'imagenet'\n",
    "#tf.reset_default_graph()\n",
    "\n",
    "# importing the currently used model\n",
    "os.chdir(code_dir)\n",
    "\n",
    "### create the base pre-trained model\n",
    "# usually takes around 30 seconds\n",
    "Model_base = InceptionResNetV2(weights = weights, include_top=False)\n",
    "# find out how many layers exist to find right number of trainable layers\n",
    "len(Model_base.layers)"
   ]
  },
  {
   "cell_type": "code",
   "execution_count": 6,
   "metadata": {},
   "outputs": [
    {
     "name": "stdout",
     "output_type": "stream",
     "text": [
      "59 block35_1_mixed\n",
      "60 block35_1_conv\n",
      "61 block35_1\n",
      "62 block35_1_ac\n",
      "81 block35_2_mixed\n",
      "82 block35_2_conv\n",
      "83 block35_2\n",
      "84 block35_2_ac\n",
      "103 block35_3_mixed\n",
      "104 block35_3_conv\n",
      "105 block35_3\n",
      "106 block35_3_ac\n",
      "125 block35_4_mixed\n",
      "126 block35_4_conv\n",
      "127 block35_4\n",
      "128 block35_4_ac\n",
      "147 block35_5_mixed\n",
      "148 block35_5_conv\n",
      "149 block35_5\n",
      "150 block35_5_ac\n",
      "169 block35_6_mixed\n",
      "170 block35_6_conv\n",
      "171 block35_6\n",
      "172 block35_6_ac\n",
      "191 block35_7_mixed\n",
      "192 block35_7_conv\n",
      "193 block35_7\n",
      "194 block35_7_ac\n",
      "213 block35_8_mixed\n",
      "214 block35_8_conv\n",
      "215 block35_8\n",
      "216 block35_8_ac\n",
      "235 block35_9_mixed\n",
      "236 block35_9_conv\n",
      "237 block35_9\n",
      "238 block35_9_ac\n",
      "257 block35_10_mixed\n",
      "258 block35_10_conv\n",
      "259 block35_10\n",
      "260 block35_10_ac\n",
      "287 block17_1_mixed\n",
      "288 block17_1_conv\n",
      "289 block17_1\n",
      "290 block17_1_ac\n",
      "303 block17_2_mixed\n",
      "304 block17_2_conv\n",
      "305 block17_2\n",
      "306 block17_2_ac\n",
      "319 block17_3_mixed\n",
      "320 block17_3_conv\n",
      "321 block17_3\n",
      "322 block17_3_ac\n",
      "335 block17_4_mixed\n",
      "336 block17_4_conv\n",
      "337 block17_4\n",
      "338 block17_4_ac\n",
      "351 block17_5_mixed\n",
      "352 block17_5_conv\n",
      "353 block17_5\n",
      "354 block17_5_ac\n",
      "367 block17_6_mixed\n",
      "368 block17_6_conv\n",
      "369 block17_6\n",
      "370 block17_6_ac\n",
      "383 block17_7_mixed\n",
      "384 block17_7_conv\n",
      "385 block17_7\n",
      "386 block17_7_ac\n",
      "399 block17_8_mixed\n",
      "400 block17_8_conv\n",
      "401 block17_8\n",
      "402 block17_8_ac\n",
      "415 block17_9_mixed\n",
      "416 block17_9_conv\n",
      "417 block17_9\n",
      "418 block17_9_ac\n",
      "431 block17_10_mixed\n",
      "432 block17_10_conv\n",
      "433 block17_10\n",
      "434 block17_10_ac\n",
      "447 block17_11_mixed\n",
      "448 block17_11_conv\n",
      "449 block17_11\n",
      "450 block17_11_ac\n",
      "463 block17_12_mixed\n",
      "464 block17_12_conv\n",
      "465 block17_12\n",
      "466 block17_12_ac\n",
      "479 block17_13_mixed\n",
      "480 block17_13_conv\n",
      "481 block17_13\n",
      "482 block17_13_ac\n",
      "495 block17_14_mixed\n",
      "496 block17_14_conv\n",
      "497 block17_14\n",
      "498 block17_14_ac\n",
      "511 block17_15_mixed\n",
      "512 block17_15_conv\n",
      "513 block17_15\n",
      "514 block17_15_ac\n",
      "527 block17_16_mixed\n",
      "528 block17_16_conv\n",
      "529 block17_16\n",
      "530 block17_16_ac\n",
      "543 block17_17_mixed\n",
      "544 block17_17_conv\n",
      "545 block17_17\n",
      "546 block17_17_ac\n",
      "559 block17_18_mixed\n",
      "560 block17_18_conv\n",
      "561 block17_18\n",
      "562 block17_18_ac\n",
      "575 block17_19_mixed\n",
      "576 block17_19_conv\n",
      "577 block17_19\n",
      "578 block17_19_ac\n",
      "591 block17_20_mixed\n",
      "592 block17_20_conv\n",
      "593 block17_20\n",
      "594 block17_20_ac\n",
      "630 block8_1_mixed\n",
      "631 block8_1_conv\n",
      "632 block8_1\n",
      "633 block8_1_ac\n",
      "646 block8_2_mixed\n",
      "647 block8_2_conv\n",
      "648 block8_2\n",
      "649 block8_2_ac\n",
      "662 block8_3_mixed\n",
      "663 block8_3_conv\n",
      "664 block8_3\n",
      "665 block8_3_ac\n",
      "678 block8_4_mixed\n",
      "679 block8_4_conv\n",
      "680 block8_4\n",
      "681 block8_4_ac\n",
      "694 block8_5_mixed\n",
      "695 block8_5_conv\n",
      "696 block8_5\n",
      "697 block8_5_ac\n",
      "710 block8_6_mixed\n",
      "711 block8_6_conv\n",
      "712 block8_6\n",
      "713 block8_6_ac\n",
      "726 block8_7_mixed\n",
      "727 block8_7_conv\n",
      "728 block8_7\n",
      "729 block8_7_ac\n",
      "742 block8_8_mixed\n",
      "743 block8_8_conv\n",
      "744 block8_8\n",
      "745 block8_8_ac\n",
      "758 block8_9_mixed\n",
      "759 block8_9_conv\n",
      "760 block8_9\n",
      "761 block8_9_ac\n",
      "774 block8_10_mixed\n",
      "775 block8_10_conv\n",
      "776 block8_10\n"
     ]
    }
   ],
   "source": [
    "# choose layers for split\n",
    "for i, layer in enumerate(Model_base.layers):\n",
    "    if ('block' in layer.name):\n",
    "         print(i, layer.name)"
   ]
  },
  {
   "cell_type": "code",
   "execution_count": 7,
   "metadata": {},
   "outputs": [
    {
     "data": {
      "text/plain": [
       "419.625"
      ]
     },
     "execution_count": 7,
     "metadata": {},
     "output_type": "execute_result"
    }
   ],
   "source": [
    "# choose trainable layers as 'Frozen' or 'All' or some number\n",
    "trainable_layers = 595\n",
    "# otherwise trainable_layers = x\n",
    "# add a global spatial average pooling layer to the pretrained model to \n",
    "# finish its compilation\n",
    "def compileModel(trainable_layers = 'Frozen'):\n",
    "    global Final_model\n",
    "    x = Model_base.output\n",
    "    x = GlobalAveragePooling2D()(x)\n",
    "    # let's add a fully-connected layer\n",
    "    x = Dense(512, activation='relu')(x)\n",
    "    preds = Dense(1, activation='sigmoid')(x)\n",
    "    Final_model = Model(inputs=Model_base.input, outputs=preds)\n",
    "    if (trainable_layers == 'Frozen'):\n",
    "        for layer in Model_base.layers:   # only train the new layers first\n",
    "            layer.trainable = False\n",
    "    elif (trainable_layers == 'All'):\n",
    "        for layer in Model_base.layers:   # only train the new layers first\n",
    "            layer.trainable = True\n",
    "    else:\n",
    "        for layer in Model_base.layers[:trainable_layers]:\n",
    "            layer.trainable = False\n",
    "        for layer in Model_base.layers[trainable_layers:]:  \n",
    "            layer.trainable = True\n",
    "    Final_model.compile(optimizer='rmsprop', loss='binary_crossentropy', \n",
    "                            metrics=['accuracy', precision, recall, fmeasure])\n",
    "# calculating the stepsize\n",
    "(3357/64)*8"
   ]
  },
  {
   "cell_type": "code",
   "execution_count": 8,
   "metadata": {},
   "outputs": [
    {
     "name": "stdout",
     "output_type": "stream",
     "text": [
      "imagenet\n",
      "595\n"
     ]
    }
   ],
   "source": [
    "###################### first training stage ###################################\n",
    "batch_size = 64\n",
    "step_size = 420\n",
    "base_lr = 0.00001\n",
    "max_lr = 0.001\n",
    "epochs = 48\n",
    "mode = 'triangular'\n",
    "def train_Model(verbose =1, times = 2, epochs = epochs, base_lr = base_lr, max_lr= max_lr, mode = mode, \n",
    "                stepsize = step_size, batch_size = batch_size, use_tensorboard = False):\n",
    "    start_time = time()   \n",
    "    global h\n",
    "    global no_of_epochs\n",
    "    global name\n",
    "    date = str(datetime.now().date())\n",
    "    # logdir in linux:\n",
    "    logdir = (log_dir + '/' + date + '_' + str(batch_size) + '_' + str(mode) + '_si-' + str(stepsize) + '_base-' \n",
    "              + str(base_lr) + '_max-' + str(max_lr) + '_' + str(times))\n",
    "    # logdir in windows:\n",
    "    ##logdir = (log_dir + '\\\\' + date + '_' + str(batch_size) + '_' + str(mode) + '_si-' + str(stepsize) + \n",
    "    #          '_base-' + str(base_lr) + '_max-' + str(max_lr) + '_' + str(times))\n",
    "    name = ('batch size: ' + str(batch_size) + ', mode: ' + str(mode) + ', stepsize: ' \n",
    "            + str(stepsize) + ', base-lr: ' + str(base_lr) + ', max-lr ' + str(max_lr) + ', *' + str(times))\n",
    "    print(' - Model specifics:\\t{}'.format(name))\n",
    "    clr = CyclicLR(base_lr = base_lr, max_lr=max_lr,\n",
    "                        step_size= stepsize, mode = mode)\n",
    "    tbCallBack = TensorBoard(log_dir=logdir, histogram_freq=0, \n",
    "                         write_graph=False, write_images=False)\n",
    "    if (use_tensorboard == True):\n",
    "        Final_model.fit(x = train_images, y = train_labels, epochs = epochs, callbacks= [tbCallBack, clr], \n",
    "                            validation_data = (valid_images, valid_labels), batch_size = batch_size, \n",
    "                            verbose = verbose)\n",
    "    else:\n",
    "        Final_model.fit(x = train_images, y = train_labels, epochs = epochs, callbacks= [clr], \n",
    "                            validation_data = (valid_images, valid_labels), batch_size = batch_size, \n",
    "                            verbose = verbose)\n",
    "    no_of_epochs = no_of_epochs + epochs\n",
    "    h = []\n",
    "    h = clr.history\n",
    "    end_time = time()\n",
    "    time_dif = end_time - start_time\n",
    "    print('Time usage: ' + str(timedelta(seconds=int(round(time_dif)))) + ' minutes')\n",
    "print(weights)\n",
    "print(trainable_layers)"
   ]
  },
  {
   "cell_type": "code",
   "execution_count": 15,
   "metadata": {},
   "outputs": [
    {
     "name": "stdout",
     "output_type": "stream",
     "text": [
      " - Model specifics:\tbatch size: 64, mode: triangular, stepsize: 420, base-lr: 1e-05, max-lr 0.001, *5\n",
      "Time usage: 0:03:36 minutes\n",
      "3357/3357 [==============================] - 3s 948us/step\n",
      "374/374 [==============================] - 1s 2ms/step\n",
      "934/934 [==============================] - 1s 1ms/step\n",
      "- Training accuracy:\t0.7519\n",
      "- Validation accuracy:\t0.7139\n",
      "- Test accuracy:\t0.7323\n"
     ]
    },
    {
     "data": {
      "text/plain": [
       "[<matplotlib.lines.Line2D at 0x7f75e1147790>]"
      ]
     },
     "execution_count": 15,
     "metadata": {},
     "output_type": "execute_result"
    },
    {
     "data": {
      "image/png": "[encoded data removed]",
      "text/plain": [
       "<matplotlib.figure.Figure at 0x7f75e1d78b50>"
      ]
     },
     "metadata": {},
     "output_type": "display_data"
    }
   ],
   "source": [
    "compileModel()\n",
    "train_Model(times = 5, use_tensorboard = True, verbose = 0)\n",
    "train_acc = round(Final_model.evaluate(train_images, train_labels, 128)[1],4)\n",
    "valid_acc = round(Final_model.evaluate(valid_images, valid_labels, 128)[1],4)\n",
    "test_acc = round(Final_model.evaluate(test_images, test_labels, 128)[1],4)\n",
    "\n",
    "print(\"- Training accuracy:\\t{}\".format(train_acc))\n",
    "print(\"- Validation accuracy:\\t{}\".format(valid_acc))\n",
    "print(\"- Test accuracy:\\t{}\".format(test_acc))\n",
    "\n",
    "%matplotlib inline\n",
    "lr = h['lr'][:step_size]\n",
    "acc = h['acc'][:step_size]\n",
    "plt.plot(lr, acc)"
   ]
  },
  {
   "cell_type": "code",
   "execution_count": 16,
   "metadata": {},
   "outputs": [],
   "source": [
    "### choose your learning rates now! The one where the accuracy starts to rise as base_lr and the one where it stops\n",
    "### growing/ starts to tumble as max_lr\n",
    "baseLRS = [0.000001, 0.00001, 0.00005]\n",
    "maxLRS = [0.0001, 0.0003, 0.0005]"
   ]
  },
  {
   "cell_type": "code",
   "execution_count": 17,
   "metadata": {},
   "outputs": [],
   "source": [
    "# experiment with different learning rate ranges\n",
    "def learning_rate_finder(rep = 5, baseLRS = baseLRS, maxLRS = maxLRS):\n",
    "    start_time = time() \n",
    "    global test_acc_list\n",
    "    global valid_acc_list\n",
    "    global train_acc_list\n",
    "    global test_loss_list\n",
    "    global valid_loss_list\n",
    "    global train_loss_list\n",
    "    global test_prec_list\n",
    "    global valid_prec_list\n",
    "    global train_prec_list\n",
    "    global test_rec_list\n",
    "    global valid_rec_list\n",
    "    global train_rec_list\n",
    "    global model_details\n",
    "    model_details = []\n",
    "    test_acc_list = []\n",
    "    valid_acc_list = []\n",
    "    train_acc_list = []\n",
    "    test_loss_list = []\n",
    "    valid_loss_list = []\n",
    "    train_loss_list = []\n",
    "    test_prec_list = []\n",
    "    valid_prec_list = []\n",
    "    train_prec_list = []\n",
    "    test_rec_list = []\n",
    "    valid_rec_list = []\n",
    "    train_rec_list = []\n",
    "    for blr in baseLRS:\n",
    "        print('NEXT LEARNINGRATE: {}'.format(blr))\n",
    "        for mlr in maxLRS:\n",
    "            print('Models with base lr = ' + str(blr) + ' and max lr = ' + str(mlr))\n",
    "            for i in range(rep):\n",
    "                    compileModel()\n",
    "                    times = i\n",
    "                    if (i == 0):\n",
    "                        train_Model(times = times, epochs = epochs, base_lr = blr, max_lr = mlr, verbose = 0, \n",
    "                                    use_tensorboard = True)\n",
    "                    else:\n",
    "                        train_Model(times = times, epochs = epochs, base_lr = blr, max_lr = mlr, verbose = 0)\n",
    "                    train_metrics = Final_model.evaluate(train_images, train_labels)\n",
    "                    valid_metrics = Final_model.evaluate(valid_images, valid_labels)\n",
    "                    test_metrics = Final_model.evaluate(test_images, test_labels)\n",
    "                    train_acc = train_metrics[1]\n",
    "                    valid_acc = valid_metrics[1]\n",
    "                    test_acc = test_metrics[1]\n",
    "                    train_loss = train_metrics[0]\n",
    "                    valid_loss = valid_metrics[0]\n",
    "                    test_loss = test_metrics[0]\n",
    "                    train_prec = train_metrics[2]\n",
    "                    valid_prec = valid_metrics[2]\n",
    "                    test_prec = test_metrics[2]\n",
    "                    train_rec = train_metrics[3]\n",
    "                    valid_rec = valid_metrics[3]\n",
    "                    test_rec = test_metrics[3]                                \n",
    "                    test_acc_list.append(test_acc)\n",
    "                    valid_acc_list.append(valid_acc)\n",
    "                    train_acc_list.append(train_acc)\n",
    "                    test_loss_list.append(test_loss)\n",
    "                    valid_loss_list.append(valid_loss)\n",
    "                    train_loss_list.append(train_loss)\n",
    "                    test_prec_list.append(test_prec)\n",
    "                    valid_prec_list.append(valid_prec)\n",
    "                    train_prec_list.append(train_prec)\n",
    "                    test_rec_list.append(test_rec)\n",
    "                    valid_rec_list.append(valid_rec)\n",
    "                    train_rec_list.append(train_rec)\n",
    "                    model_details.append(name)\n",
    "            print(\"- Training accuracies:\\t{}\".format([round(el,4) for el in train_acc_list]))\n",
    "            print(\"- Validation accuracies:\\t{}\".format([round(el,4) for el in valid_acc_list]))\n",
    "            print(\"- Testing accuracies:\\t{}\".format([round(el,4) for el in test_acc_list]))\n",
    "            print('')\n",
    "            print('')\n",
    "    end_time = time()\n",
    "    time_dif = end_time - start_time\n",
    "    print('Time usage: ' + str(timedelta(seconds=int(round(time_dif)))) + ' minutes')        "
   ]
  },
  {
   "cell_type": "code",
   "execution_count": 18,
   "metadata": {},
   "outputs": [
    {
     "name": "stdout",
     "output_type": "stream",
     "text": [
      "NEXT LEARNINGRATE: 1e-06\n",
      "Models with base lr = 1e-06 and max lr = 0.0001\n",
      " - Model specifics:\tbatch size: 64, mode: triangular, stepsize: 420, base-lr: 1e-06, max-lr 0.0001, *0\n",
      "Time usage: 0:03:30 minutes\n",
      "3357/3357 [==============================] - 6s 2ms/step\n",
      "374/374 [==============================] - 1s 2ms/step\n",
      "934/934 [==============================] - 2s 2ms/step\n",
      " - Model specifics:\tbatch size: 64, mode: triangular, stepsize: 420, base-lr: 1e-06, max-lr 0.0001, *1\n",
      "Time usage: 0:03:33 minutes\n",
      "3357/3357 [==============================] - 7s 2ms/step\n",
      "374/374 [==============================] - 1s 2ms/step\n",
      "934/934 [==============================] - 2s 2ms/step\n",
      " - Model specifics:\tbatch size: 64, mode: triangular, stepsize: 420, base-lr: 1e-06, max-lr 0.0001, *2\n",
      "Time usage: 0:03:31 minutes\n",
      "3357/3357 [==============================] - 6s 2ms/step\n",
      "374/374 [==============================] - 1s 2ms/step\n",
      "934/934 [==============================] - 2s 2ms/step\n",
      " - Model specifics:\tbatch size: 64, mode: triangular, stepsize: 420, base-lr: 1e-06, max-lr 0.0001, *3\n",
      "Time usage: 0:03:35 minutes\n",
      "3357/3357 [==============================] - 7s 2ms/step\n",
      "374/374 [==============================] - 1s 2ms/step\n",
      "934/934 [==============================] - 2s 2ms/step\n",
      " - Model specifics:\tbatch size: 64, mode: triangular, stepsize: 420, base-lr: 1e-06, max-lr 0.0001, *4\n",
      "Time usage: 0:03:30 minutes\n",
      "3357/3357 [==============================] - 6s 2ms/step\n",
      "374/374 [==============================] - 1s 2ms/step\n",
      "934/934 [==============================] - 2s 2ms/step\n",
      "- Training accuracies:\t[0.7697, 0.7635, 0.7769, 0.7679, 0.7638]\n",
      "- Validation accuracies:\t[0.7406, 0.7139, 0.7299, 0.738, 0.7086]\n",
      "- Testing accuracies:\t[0.7495, 0.7463, 0.7452, 0.7366, 0.7463]\n",
      "\n",
      "\n",
      "Models with base lr = 1e-06 and max lr = 0.0003\n",
      " - Model specifics:\tbatch size: 64, mode: triangular, stepsize: 420, base-lr: 1e-06, max-lr 0.0003, *0\n",
      "Time usage: 0:03:31 minutes\n",
      "3357/3357 [==============================] - 6s 2ms/step\n",
      "374/374 [==============================] - 1s 2ms/step\n",
      "934/934 [==============================] - 2s 2ms/step\n",
      " - Model specifics:\tbatch size: 64, mode: triangular, stepsize: 420, base-lr: 1e-06, max-lr 0.0003, *1\n",
      "Time usage: 0:03:31 minutes\n",
      "3357/3357 [==============================] - 6s 2ms/step\n",
      "374/374 [==============================] - 1s 2ms/step\n",
      "934/934 [==============================] - 2s 2ms/step\n",
      " - Model specifics:\tbatch size: 64, mode: triangular, stepsize: 420, base-lr: 1e-06, max-lr 0.0003, *2\n",
      "Time usage: 0:03:35 minutes\n",
      "3357/3357 [==============================] - 6s 2ms/step\n",
      "374/374 [==============================] - 1s 2ms/step\n",
      "934/934 [==============================] - 2s 2ms/step\n",
      " - Model specifics:\tbatch size: 64, mode: triangular, stepsize: 420, base-lr: 1e-06, max-lr 0.0003, *3\n",
      "Time usage: 0:03:30 minutes\n",
      "3357/3357 [==============================] - 6s 2ms/step\n",
      "374/374 [==============================] - 1s 2ms/step\n",
      "934/934 [==============================] - 2s 2ms/step\n",
      " - Model specifics:\tbatch size: 64, mode: triangular, stepsize: 420, base-lr: 1e-06, max-lr 0.0003, *4\n",
      "Time usage: 0:03:35 minutes\n",
      "3357/3357 [==============================] - 6s 2ms/step\n",
      "374/374 [==============================] - 1s 2ms/step\n",
      "934/934 [==============================] - 2s 2ms/step\n",
      "- Training accuracies:\t[0.7697, 0.7635, 0.7769, 0.7679, 0.7638, 0.7477, 0.7659, 0.7525, 0.7784, 0.7492]\n",
      "- Validation accuracies:\t[0.7406, 0.7139, 0.7299, 0.738, 0.7086, 0.7139, 0.7139, 0.6952, 0.7299, 0.7032]\n",
      "- Testing accuracies:\t[0.7495, 0.7463, 0.7452, 0.7366, 0.7463, 0.7291, 0.7452, 0.7313, 0.7505, 0.7195]\n",
      "\n",
      "\n",
      "Models with base lr = 1e-06 and max lr = 0.0005\n",
      " - Model specifics:\tbatch size: 64, mode: triangular, stepsize: 420, base-lr: 1e-06, max-lr 0.0005, *0\n",
      "Time usage: 0:03:36 minutes\n",
      "3357/3357 [==============================] - 7s 2ms/step\n",
      "374/374 [==============================] - 1s 2ms/step\n",
      "934/934 [==============================] - 2s 2ms/step\n",
      " - Model specifics:\tbatch size: 64, mode: triangular, stepsize: 420, base-lr: 1e-06, max-lr 0.0005, *1\n",
      "Time usage: 0:03:34 minutes\n",
      "3357/3357 [==============================] - 7s 2ms/step\n",
      "374/374 [==============================] - 1s 2ms/step\n",
      "934/934 [==============================] - 2s 2ms/step\n",
      " - Model specifics:\tbatch size: 64, mode: triangular, stepsize: 420, base-lr: 1e-06, max-lr 0.0005, *2\n",
      "Time usage: 0:03:35 minutes\n",
      "3357/3357 [==============================] - 7s 2ms/step\n",
      "374/374 [==============================] - 1s 2ms/step\n",
      "934/934 [==============================] - 2s 2ms/step\n",
      " - Model specifics:\tbatch size: 64, mode: triangular, stepsize: 420, base-lr: 1e-06, max-lr 0.0005, *3\n",
      "Time usage: 0:03:32 minutes\n",
      "3357/3357 [==============================] - 6s 2ms/step\n",
      "374/374 [==============================] - 1s 2ms/step\n",
      "934/934 [==============================] - 2s 2ms/step\n",
      " - Model specifics:\tbatch size: 64, mode: triangular, stepsize: 420, base-lr: 1e-06, max-lr 0.0005, *4\n",
      "Time usage: 0:03:33 minutes\n",
      "3357/3357 [==============================] - 6s 2ms/step\n",
      "374/374 [==============================] - 1s 2ms/step\n",
      "934/934 [==============================] - 2s 2ms/step\n",
      "- Training accuracies:\t[0.7697, 0.7635, 0.7769, 0.7679, 0.7638, 0.7477, 0.7659, 0.7525, 0.7784, 0.7492, 0.7769, 0.7531, 0.7581, 0.7811, 0.7781]\n",
      "- Validation accuracies:\t[0.7406, 0.7139, 0.7299, 0.738, 0.7086, 0.7139, 0.7139, 0.6952, 0.7299, 0.7032, 0.7353, 0.7139, 0.7032, 0.7353, 0.7246]\n",
      "- Testing accuracies:\t[0.7495, 0.7463, 0.7452, 0.7366, 0.7463, 0.7291, 0.7452, 0.7313, 0.7505, 0.7195, 0.7452, 0.7173, 0.7313, 0.7559, 0.7527]\n",
      "\n",
      "\n",
      "NEXT LEARNINGRATE: 1e-05\n",
      "Models with base lr = 1e-05 and max lr = 0.0001\n",
      " - Model specifics:\tbatch size: 64, mode: triangular, stepsize: 420, base-lr: 1e-05, max-lr 0.0001, *0\n",
      "Time usage: 0:03:36 minutes\n",
      "3357/3357 [==============================] - 7s 2ms/step\n",
      "374/374 [==============================] - 1s 2ms/step\n",
      "934/934 [==============================] - 2s 2ms/step\n",
      " - Model specifics:\tbatch size: 64, mode: triangular, stepsize: 420, base-lr: 1e-05, max-lr 0.0001, *1\n",
      "Time usage: 0:03:31 minutes\n",
      "3357/3357 [==============================] - 6s 2ms/step\n",
      "374/374 [==============================] - 1s 2ms/step\n",
      "934/934 [==============================] - 2s 2ms/step\n",
      " - Model specifics:\tbatch size: 64, mode: triangular, stepsize: 420, base-lr: 1e-05, max-lr 0.0001, *2\n",
      "Time usage: 0:03:35 minutes\n",
      "3357/3357 [==============================] - 6s 2ms/step\n",
      "374/374 [==============================] - 1s 2ms/step\n",
      "934/934 [==============================] - 2s 2ms/step\n",
      " - Model specifics:\tbatch size: 64, mode: triangular, stepsize: 420, base-lr: 1e-05, max-lr 0.0001, *3\n"
     ]
    },
    {
     "name": "stderr",
     "output_type": "stream",
     "text": [
      "/home/rick/.conda/envs/hannah_z/lib/python2.7/site-packages/keras/callbacks.py:120: UserWarning: Method on_batch_end() is slow compared to the batch update (0.134542). Check your callbacks.\n",
      "  % delta_t_median)\n"
     ]
    },
    {
     "name": "stdout",
     "output_type": "stream",
     "text": [
      "Time usage: 0:03:33 minutes\n",
      "3357/3357 [==============================] - 7s 2ms/step\n",
      "374/374 [==============================] - 1s 2ms/step\n",
      "934/934 [==============================] - 2s 2ms/step\n",
      " - Model specifics:\tbatch size: 64, mode: triangular, stepsize: 420, base-lr: 1e-05, max-lr 0.0001, *4\n"
     ]
    },
    {
     "name": "stderr",
     "output_type": "stream",
     "text": [
      "/home/rick/.conda/envs/hannah_z/lib/python2.7/site-packages/keras/callbacks.py:120: UserWarning: Method on_batch_end() is slow compared to the batch update (0.114638). Check your callbacks.\n",
      "  % delta_t_median)\n"
     ]
    },
    {
     "name": "stdout",
     "output_type": "stream",
     "text": [
      "Time usage: 0:03:35 minutes\n",
      "3357/3357 [==============================] - 7s 2ms/step\n",
      "374/374 [==============================] - 1s 2ms/step\n",
      "934/934 [==============================] - 2s 2ms/step\n",
      "- Training accuracies:\t[0.7697, 0.7635, 0.7769, 0.7679, 0.7638, 0.7477, 0.7659, 0.7525, 0.7784, 0.7492, 0.7769, 0.7531, 0.7581, 0.7811, 0.7781, 0.7557, 0.7793, 0.7629, 0.7513, 0.765]\n",
      "- Validation accuracies:\t[0.7406, 0.7139, 0.7299, 0.738, 0.7086, 0.7139, 0.7139, 0.6952, 0.7299, 0.7032, 0.7353, 0.7139, 0.7032, 0.7353, 0.7246, 0.7273, 0.7166, 0.7139, 0.7166, 0.7086]\n",
      "- Testing accuracies:\t[0.7495, 0.7463, 0.7452, 0.7366, 0.7463, 0.7291, 0.7452, 0.7313, 0.7505, 0.7195, 0.7452, 0.7173, 0.7313, 0.7559, 0.7527, 0.7355, 0.7505, 0.7441, 0.7173, 0.7366]\n",
      "\n",
      "\n",
      "Models with base lr = 1e-05 and max lr = 0.0003\n",
      " - Model specifics:\tbatch size: 64, mode: triangular, stepsize: 420, base-lr: 1e-05, max-lr 0.0003, *0\n"
     ]
    },
    {
     "name": "stderr",
     "output_type": "stream",
     "text": [
      "/home/rick/.conda/envs/hannah_z/lib/python2.7/site-packages/keras/callbacks.py:120: UserWarning: Method on_batch_end() is slow compared to the batch update (0.112193). Check your callbacks.\n",
      "  % delta_t_median)\n"
     ]
    },
    {
     "name": "stdout",
     "output_type": "stream",
     "text": [
      "Time usage: 0:03:36 minutes\n",
      "3357/3357 [==============================] - 7s 2ms/step\n",
      "374/374 [==============================] - 1s 2ms/step\n",
      "934/934 [==============================] - 2s 2ms/step\n",
      " - Model specifics:\tbatch size: 64, mode: triangular, stepsize: 420, base-lr: 1e-05, max-lr 0.0003, *1\n"
     ]
    },
    {
     "name": "stderr",
     "output_type": "stream",
     "text": [
      "/home/rick/.conda/envs/hannah_z/lib/python2.7/site-packages/keras/callbacks.py:120: UserWarning: Method on_batch_end() is slow compared to the batch update (0.106609). Check your callbacks.\n",
      "  % delta_t_median)\n"
     ]
    },
    {
     "name": "stdout",
     "output_type": "stream",
     "text": [
      "Time usage: 0:03:32 minutes\n",
      "3357/3357 [==============================] - 7s 2ms/step\n",
      "374/374 [==============================] - 1s 2ms/step\n",
      "934/934 [==============================] - 2s 2ms/step\n",
      " - Model specifics:\tbatch size: 64, mode: triangular, stepsize: 420, base-lr: 1e-05, max-lr 0.0003, *2\n"
     ]
    },
    {
     "name": "stderr",
     "output_type": "stream",
     "text": [
      "/home/rick/.conda/envs/hannah_z/lib/python2.7/site-packages/keras/callbacks.py:120: UserWarning: Method on_batch_end() is slow compared to the batch update (0.109877). Check your callbacks.\n",
      "  % delta_t_median)\n"
     ]
    },
    {
     "name": "stdout",
     "output_type": "stream",
     "text": [
      "Time usage: 0:03:32 minutes\n",
      "3357/3357 [==============================] - 7s 2ms/step\n",
      "374/374 [==============================] - 1s 2ms/step\n",
      "934/934 [==============================] - 2s 2ms/step\n",
      " - Model specifics:\tbatch size: 64, mode: triangular, stepsize: 420, base-lr: 1e-05, max-lr 0.0003, *3\n"
     ]
    },
    {
     "name": "stderr",
     "output_type": "stream",
     "text": [
      "/home/rick/.conda/envs/hannah_z/lib/python2.7/site-packages/keras/callbacks.py:120: UserWarning: Method on_batch_end() is slow compared to the batch update (0.114309). Check your callbacks.\n",
      "  % delta_t_median)\n"
     ]
    },
    {
     "name": "stdout",
     "output_type": "stream",
     "text": [
      "Time usage: 0:03:32 minutes\n",
      "3357/3357 [==============================] - 7s 2ms/step\n",
      "374/374 [==============================] - 1s 2ms/step\n",
      "934/934 [==============================] - 2s 2ms/step\n",
      " - Model specifics:\tbatch size: 64, mode: triangular, stepsize: 420, base-lr: 1e-05, max-lr 0.0003, *4\n"
     ]
    },
    {
     "name": "stderr",
     "output_type": "stream",
     "text": [
      "/home/rick/.conda/envs/hannah_z/lib/python2.7/site-packages/keras/callbacks.py:120: UserWarning: Method on_batch_end() is slow compared to the batch update (0.118386). Check your callbacks.\n",
      "  % delta_t_median)\n"
     ]
    },
    {
     "name": "stdout",
     "output_type": "stream",
     "text": [
      "Time usage: 0:03:35 minutes\n",
      "3357/3357 [==============================] - 7s 2ms/step\n",
      "374/374 [==============================] - 1s 2ms/step\n",
      "934/934 [==============================] - 2s 2ms/step\n",
      "- Training accuracies:\t[0.7697, 0.7635, 0.7769, 0.7679, 0.7638, 0.7477, 0.7659, 0.7525, 0.7784, 0.7492, 0.7769, 0.7531, 0.7581, 0.7811, 0.7781, 0.7557, 0.7793, 0.7629, 0.7513, 0.765, 0.7715, 0.7599, 0.7679, 0.7712, 0.7644]\n",
      "- Validation accuracies:\t[0.7406, 0.7139, 0.7299, 0.738, 0.7086, 0.7139, 0.7139, 0.6952, 0.7299, 0.7032, 0.7353, 0.7139, 0.7032, 0.7353, 0.7246, 0.7273, 0.7166, 0.7139, 0.7166, 0.7086, 0.7193, 0.7246, 0.7299, 0.7353, 0.7246]\n",
      "- Testing accuracies:\t[0.7495, 0.7463, 0.7452, 0.7366, 0.7463, 0.7291, 0.7452, 0.7313, 0.7505, 0.7195, 0.7452, 0.7173, 0.7313, 0.7559, 0.7527, 0.7355, 0.7505, 0.7441, 0.7173, 0.7366, 0.742, 0.742, 0.7463, 0.7463, 0.7345]\n",
      "\n",
      "\n",
      "Models with base lr = 1e-05 and max lr = 0.0005\n",
      " - Model specifics:\tbatch size: 64, mode: triangular, stepsize: 420, base-lr: 1e-05, max-lr 0.0005, *0\n"
     ]
    },
    {
     "name": "stderr",
     "output_type": "stream",
     "text": [
      "/home/rick/.conda/envs/hannah_z/lib/python2.7/site-packages/keras/callbacks.py:120: UserWarning: Method on_batch_end() is slow compared to the batch update (0.119116). Check your callbacks.\n",
      "  % delta_t_median)\n"
     ]
    },
    {
     "name": "stdout",
     "output_type": "stream",
     "text": [
      "Time usage: 0:03:33 minutes\n",
      "3357/3357 [==============================] - 7s 2ms/step\n",
      "374/374 [==============================] - 1s 2ms/step\n",
      "934/934 [==============================] - 2s 2ms/step\n",
      " - Model specifics:\tbatch size: 64, mode: triangular, stepsize: 420, base-lr: 1e-05, max-lr 0.0005, *1\n"
     ]
    },
    {
     "name": "stderr",
     "output_type": "stream",
     "text": [
      "/home/rick/.conda/envs/hannah_z/lib/python2.7/site-packages/keras/callbacks.py:120: UserWarning: Method on_batch_end() is slow compared to the batch update (0.122737). Check your callbacks.\n",
      "  % delta_t_median)\n"
     ]
    },
    {
     "name": "stdout",
     "output_type": "stream",
     "text": [
      "Time usage: 0:03:36 minutes\n",
      "3357/3357 [==============================] - 7s 2ms/step\n",
      "374/374 [==============================] - 1s 2ms/step\n",
      "934/934 [==============================] - 2s 2ms/step\n",
      " - Model specifics:\tbatch size: 64, mode: triangular, stepsize: 420, base-lr: 1e-05, max-lr 0.0005, *2\n"
     ]
    },
    {
     "name": "stderr",
     "output_type": "stream",
     "text": [
      "/home/rick/.conda/envs/hannah_z/lib/python2.7/site-packages/keras/callbacks.py:120: UserWarning: Method on_batch_end() is slow compared to the batch update (0.124116). Check your callbacks.\n",
      "  % delta_t_median)\n"
     ]
    },
    {
     "name": "stdout",
     "output_type": "stream",
     "text": [
      "Time usage: 0:03:38 minutes\n",
      "3357/3357 [==============================] - 7s 2ms/step\n",
      "374/374 [==============================] - 1s 2ms/step\n",
      "934/934 [==============================] - 2s 2ms/step\n",
      " - Model specifics:\tbatch size: 64, mode: triangular, stepsize: 420, base-lr: 1e-05, max-lr 0.0005, *3\n"
     ]
    },
    {
     "name": "stderr",
     "output_type": "stream",
     "text": [
      "/home/rick/.conda/envs/hannah_z/lib/python2.7/site-packages/keras/callbacks.py:120: UserWarning: Method on_batch_end() is slow compared to the batch update (0.117987). Check your callbacks.\n",
      "  % delta_t_median)\n"
     ]
    },
    {
     "name": "stdout",
     "output_type": "stream",
     "text": [
      "Time usage: 0:03:39 minutes\n",
      "3357/3357 [==============================] - 7s 2ms/step\n",
      "374/374 [==============================] - 1s 2ms/step\n",
      "934/934 [==============================] - 2s 2ms/step\n",
      " - Model specifics:\tbatch size: 64, mode: triangular, stepsize: 420, base-lr: 1e-05, max-lr 0.0005, *4\n"
     ]
    },
    {
     "name": "stderr",
     "output_type": "stream",
     "text": [
      "/home/rick/.conda/envs/hannah_z/lib/python2.7/site-packages/keras/callbacks.py:120: UserWarning: Method on_batch_end() is slow compared to the batch update (0.116439). Check your callbacks.\n",
      "  % delta_t_median)\n"
     ]
    },
    {
     "name": "stdout",
     "output_type": "stream",
     "text": [
      "Time usage: 0:03:34 minutes\n",
      "3357/3357 [==============================] - 7s 2ms/step\n",
      "374/374 [==============================] - 1s 2ms/step\n",
      "934/934 [==============================] - 2s 2ms/step\n",
      "- Training accuracies:\t[0.7697, 0.7635, 0.7769, 0.7679, 0.7638, 0.7477, 0.7659, 0.7525, 0.7784, 0.7492, 0.7769, 0.7531, 0.7581, 0.7811, 0.7781, 0.7557, 0.7793, 0.7629, 0.7513, 0.765, 0.7715, 0.7599, 0.7679, 0.7712, 0.7644, 0.7489, 0.7694, 0.7534, 0.7775, 0.7763]\n",
      "- Validation accuracies:\t[0.7406, 0.7139, 0.7299, 0.738, 0.7086, 0.7139, 0.7139, 0.6952, 0.7299, 0.7032, 0.7353, 0.7139, 0.7032, 0.7353, 0.7246, 0.7273, 0.7166, 0.7139, 0.7166, 0.7086, 0.7193, 0.7246, 0.7299, 0.7353, 0.7246, 0.7086, 0.7353, 0.7219, 0.7406, 0.7433]\n",
      "- Testing accuracies:\t[0.7495, 0.7463, 0.7452, 0.7366, 0.7463, 0.7291, 0.7452, 0.7313, 0.7505, 0.7195, 0.7452, 0.7173, 0.7313, 0.7559, 0.7527, 0.7355, 0.7505, 0.7441, 0.7173, 0.7366, 0.742, 0.742, 0.7463, 0.7463, 0.7345, 0.7259, 0.7495, 0.7334, 0.7473, 0.7409]\n",
      "\n",
      "\n",
      "NEXT LEARNINGRATE: 5e-05\n",
      "Models with base lr = 5e-05 and max lr = 0.0001\n",
      " - Model specifics:\tbatch size: 64, mode: triangular, stepsize: 420, base-lr: 5e-05, max-lr 0.0001, *0\n"
     ]
    },
    {
     "name": "stderr",
     "output_type": "stream",
     "text": [
      "/home/rick/.conda/envs/hannah_z/lib/python2.7/site-packages/keras/callbacks.py:120: UserWarning: Method on_batch_end() is slow compared to the batch update (0.114627). Check your callbacks.\n",
      "  % delta_t_median)\n"
     ]
    },
    {
     "name": "stdout",
     "output_type": "stream",
     "text": [
      "Time usage: 0:03:37 minutes\n",
      "3357/3357 [==============================] - 7s 2ms/step\n",
      "374/374 [==============================] - 1s 2ms/step\n",
      "934/934 [==============================] - 2s 2ms/step\n",
      " - Model specifics:\tbatch size: 64, mode: triangular, stepsize: 420, base-lr: 5e-05, max-lr 0.0001, *1\n"
     ]
    },
    {
     "name": "stderr",
     "output_type": "stream",
     "text": [
      "/home/rick/.conda/envs/hannah_z/lib/python2.7/site-packages/keras/callbacks.py:120: UserWarning: Method on_batch_end() is slow compared to the batch update (0.140779). Check your callbacks.\n",
      "  % delta_t_median)\n"
     ]
    },
    {
     "name": "stdout",
     "output_type": "stream",
     "text": [
      "Time usage: 0:03:35 minutes\n",
      "3357/3357 [==============================] - 7s 2ms/step\n",
      "374/374 [==============================] - 1s 2ms/step\n",
      "934/934 [==============================] - 2s 2ms/step\n",
      " - Model specifics:\tbatch size: 64, mode: triangular, stepsize: 420, base-lr: 5e-05, max-lr 0.0001, *2\n"
     ]
    },
    {
     "name": "stderr",
     "output_type": "stream",
     "text": [
      "/home/rick/.conda/envs/hannah_z/lib/python2.7/site-packages/keras/callbacks.py:120: UserWarning: Method on_batch_end() is slow compared to the batch update (0.117688). Check your callbacks.\n",
      "  % delta_t_median)\n"
     ]
    },
    {
     "name": "stdout",
     "output_type": "stream",
     "text": [
      "Time usage: 0:03:32 minutes\n",
      "3357/3357 [==============================] - 7s 2ms/step\n",
      "374/374 [==============================] - 1s 2ms/step\n",
      "934/934 [==============================] - 2s 2ms/step\n",
      " - Model specifics:\tbatch size: 64, mode: triangular, stepsize: 420, base-lr: 5e-05, max-lr 0.0001, *3\n"
     ]
    },
    {
     "name": "stderr",
     "output_type": "stream",
     "text": [
      "/home/rick/.conda/envs/hannah_z/lib/python2.7/site-packages/keras/callbacks.py:120: UserWarning: Method on_batch_end() is slow compared to the batch update (0.119336). Check your callbacks.\n",
      "  % delta_t_median)\n"
     ]
    },
    {
     "name": "stdout",
     "output_type": "stream",
     "text": [
      "Time usage: 0:03:33 minutes\n",
      "3357/3357 [==============================] - 7s 2ms/step\n",
      "374/374 [==============================] - 1s 2ms/step\n",
      "934/934 [==============================] - 2s 2ms/step\n",
      " - Model specifics:\tbatch size: 64, mode: triangular, stepsize: 420, base-lr: 5e-05, max-lr 0.0001, *4\n"
     ]
    },
    {
     "name": "stderr",
     "output_type": "stream",
     "text": [
      "/home/rick/.conda/envs/hannah_z/lib/python2.7/site-packages/keras/callbacks.py:120: UserWarning: Method on_batch_end() is slow compared to the batch update (0.123187). Check your callbacks.\n",
      "  % delta_t_median)\n"
     ]
    },
    {
     "name": "stdout",
     "output_type": "stream",
     "text": [
      "Time usage: 0:03:33 minutes\n",
      "3357/3357 [==============================] - 7s 2ms/step\n",
      "374/374 [==============================] - 1s 2ms/step\n",
      "934/934 [==============================] - 2s 2ms/step\n",
      "- Training accuracies:\t[0.7697, 0.7635, 0.7769, 0.7679, 0.7638, 0.7477, 0.7659, 0.7525, 0.7784, 0.7492, 0.7769, 0.7531, 0.7581, 0.7811, 0.7781, 0.7557, 0.7793, 0.7629, 0.7513, 0.765, 0.7715, 0.7599, 0.7679, 0.7712, 0.7644, 0.7489, 0.7694, 0.7534, 0.7775, 0.7763, 0.7474, 0.7718, 0.7784, 0.7715, 0.7822]\n",
      "- Validation accuracies:\t[0.7406, 0.7139, 0.7299, 0.738, 0.7086, 0.7139, 0.7139, 0.6952, 0.7299, 0.7032, 0.7353, 0.7139, 0.7032, 0.7353, 0.7246, 0.7273, 0.7166, 0.7139, 0.7166, 0.7086, 0.7193, 0.7246, 0.7299, 0.7353, 0.7246, 0.7086, 0.7353, 0.7219, 0.7406, 0.7433, 0.7032, 0.7166, 0.7299, 0.7086, 0.7326]\n",
      "- Testing accuracies:\t[0.7495, 0.7463, 0.7452, 0.7366, 0.7463, 0.7291, 0.7452, 0.7313, 0.7505, 0.7195, 0.7452, 0.7173, 0.7313, 0.7559, 0.7527, 0.7355, 0.7505, 0.7441, 0.7173, 0.7366, 0.742, 0.742, 0.7463, 0.7463, 0.7345, 0.7259, 0.7495, 0.7334, 0.7473, 0.7409, 0.7259, 0.743, 0.7634, 0.7441, 0.7645]\n",
      "\n",
      "\n",
      "Models with base lr = 5e-05 and max lr = 0.0003\n",
      " - Model specifics:\tbatch size: 64, mode: triangular, stepsize: 420, base-lr: 5e-05, max-lr 0.0003, *0\n"
     ]
    },
    {
     "name": "stderr",
     "output_type": "stream",
     "text": [
      "/home/rick/.conda/envs/hannah_z/lib/python2.7/site-packages/keras/callbacks.py:120: UserWarning: Method on_batch_end() is slow compared to the batch update (0.145841). Check your callbacks.\n",
      "  % delta_t_median)\n"
     ]
    },
    {
     "name": "stdout",
     "output_type": "stream",
     "text": [
      "Time usage: 0:03:34 minutes\n",
      "3357/3357 [==============================] - 7s 2ms/step\n",
      "374/374 [==============================] - 1s 2ms/step\n",
      "934/934 [==============================] - 2s 2ms/step\n",
      " - Model specifics:\tbatch size: 64, mode: triangular, stepsize: 420, base-lr: 5e-05, max-lr 0.0003, *1\n"
     ]
    },
    {
     "name": "stderr",
     "output_type": "stream",
     "text": [
      "/home/rick/.conda/envs/hannah_z/lib/python2.7/site-packages/keras/callbacks.py:120: UserWarning: Method on_batch_end() is slow compared to the batch update (0.119208). Check your callbacks.\n",
      "  % delta_t_median)\n"
     ]
    },
    {
     "name": "stdout",
     "output_type": "stream",
     "text": [
      "Time usage: 0:03:33 minutes\n",
      "3357/3357 [==============================] - 7s 2ms/step\n",
      "374/374 [==============================] - 1s 2ms/step\n",
      "934/934 [==============================] - 2s 2ms/step\n",
      " - Model specifics:\tbatch size: 64, mode: triangular, stepsize: 420, base-lr: 5e-05, max-lr 0.0003, *2\n"
     ]
    },
    {
     "name": "stderr",
     "output_type": "stream",
     "text": [
      "/home/rick/.conda/envs/hannah_z/lib/python2.7/site-packages/keras/callbacks.py:120: UserWarning: Method on_batch_end() is slow compared to the batch update (0.135528). Check your callbacks.\n",
      "  % delta_t_median)\n"
     ]
    },
    {
     "name": "stdout",
     "output_type": "stream",
     "text": [
      "Time usage: 0:03:34 minutes\n",
      "3357/3357 [==============================] - 6s 2ms/step\n",
      "374/374 [==============================] - 1s 2ms/step\n",
      "934/934 [==============================] - 2s 2ms/step\n",
      " - Model specifics:\tbatch size: 64, mode: triangular, stepsize: 420, base-lr: 5e-05, max-lr 0.0003, *3\n"
     ]
    },
    {
     "name": "stderr",
     "output_type": "stream",
     "text": [
      "/home/rick/.conda/envs/hannah_z/lib/python2.7/site-packages/keras/callbacks.py:120: UserWarning: Method on_batch_end() is slow compared to the batch update (0.122182). Check your callbacks.\n",
      "  % delta_t_median)\n"
     ]
    },
    {
     "name": "stdout",
     "output_type": "stream",
     "text": [
      "Time usage: 0:03:38 minutes\n",
      "3357/3357 [==============================] - 7s 2ms/step\n",
      "374/374 [==============================] - 1s 2ms/step\n",
      "934/934 [==============================] - 2s 2ms/step\n",
      " - Model specifics:\tbatch size: 64, mode: triangular, stepsize: 420, base-lr: 5e-05, max-lr 0.0003, *4\n"
     ]
    },
    {
     "name": "stderr",
     "output_type": "stream",
     "text": [
      "/home/rick/.conda/envs/hannah_z/lib/python2.7/site-packages/keras/callbacks.py:120: UserWarning: Method on_batch_end() is slow compared to the batch update (0.174336). Check your callbacks.\n",
      "  % delta_t_median)\n"
     ]
    },
    {
     "name": "stdout",
     "output_type": "stream",
     "text": [
      "Time usage: 0:03:37 minutes\n",
      "3357/3357 [==============================] - 6s 2ms/step\n",
      "374/374 [==============================] - 1s 2ms/step\n",
      "934/934 [==============================] - 2s 2ms/step\n",
      "- Training accuracies:\t[0.7697, 0.7635, 0.7769, 0.7679, 0.7638, 0.7477, 0.7659, 0.7525, 0.7784, 0.7492, 0.7769, 0.7531, 0.7581, 0.7811, 0.7781, 0.7557, 0.7793, 0.7629, 0.7513, 0.765, 0.7715, 0.7599, 0.7679, 0.7712, 0.7644, 0.7489, 0.7694, 0.7534, 0.7775, 0.7763, 0.7474, 0.7718, 0.7784, 0.7715, 0.7822, 0.77, 0.7766, 0.7548, 0.7632, 0.7694]\n",
      "- Validation accuracies:\t[0.7406, 0.7139, 0.7299, 0.738, 0.7086, 0.7139, 0.7139, 0.6952, 0.7299, 0.7032, 0.7353, 0.7139, 0.7032, 0.7353, 0.7246, 0.7273, 0.7166, 0.7139, 0.7166, 0.7086, 0.7193, 0.7246, 0.7299, 0.7353, 0.7246, 0.7086, 0.7353, 0.7219, 0.7406, 0.7433, 0.7032, 0.7166, 0.7299, 0.7086, 0.7326, 0.7353, 0.7353, 0.7086, 0.7273, 0.7112]\n",
      "- Testing accuracies:\t[0.7495, 0.7463, 0.7452, 0.7366, 0.7463, 0.7291, 0.7452, 0.7313, 0.7505, 0.7195, 0.7452, 0.7173, 0.7313, 0.7559, 0.7527, 0.7355, 0.7505, 0.7441, 0.7173, 0.7366, 0.742, 0.742, 0.7463, 0.7463, 0.7345, 0.7259, 0.7495, 0.7334, 0.7473, 0.7409, 0.7259, 0.743, 0.7634, 0.7441, 0.7645, 0.7505, 0.7463, 0.7313, 0.7463, 0.7355]\n",
      "\n",
      "\n",
      "Models with base lr = 5e-05 and max lr = 0.0005\n",
      " - Model specifics:\tbatch size: 64, mode: triangular, stepsize: 420, base-lr: 5e-05, max-lr 0.0005, *0\n"
     ]
    },
    {
     "name": "stderr",
     "output_type": "stream",
     "text": [
      "/home/rick/.conda/envs/hannah_z/lib/python2.7/site-packages/keras/callbacks.py:120: UserWarning: Method on_batch_end() is slow compared to the batch update (0.167809). Check your callbacks.\n",
      "  % delta_t_median)\n"
     ]
    },
    {
     "name": "stdout",
     "output_type": "stream",
     "text": [
      "Time usage: 0:03:42 minutes\n",
      "3357/3357 [==============================] - 6s 2ms/step\n",
      "374/374 [==============================] - 1s 2ms/step\n",
      "934/934 [==============================] - 2s 2ms/step\n",
      " - Model specifics:\tbatch size: 64, mode: triangular, stepsize: 420, base-lr: 5e-05, max-lr 0.0005, *1\n"
     ]
    },
    {
     "name": "stderr",
     "output_type": "stream",
     "text": [
      "/home/rick/.conda/envs/hannah_z/lib/python2.7/site-packages/keras/callbacks.py:120: UserWarning: Method on_batch_end() is slow compared to the batch update (0.180768). Check your callbacks.\n",
      "  % delta_t_median)\n"
     ]
    },
    {
     "name": "stdout",
     "output_type": "stream",
     "text": [
      "Time usage: 0:03:38 minutes\n",
      "3357/3357 [==============================] - 7s 2ms/step\n",
      "374/374 [==============================] - 1s 2ms/step\n",
      "934/934 [==============================] - 2s 2ms/step\n",
      " - Model specifics:\tbatch size: 64, mode: triangular, stepsize: 420, base-lr: 5e-05, max-lr 0.0005, *2\n"
     ]
    },
    {
     "name": "stderr",
     "output_type": "stream",
     "text": [
      "/home/rick/.conda/envs/hannah_z/lib/python2.7/site-packages/keras/callbacks.py:120: UserWarning: Method on_batch_end() is slow compared to the batch update (0.137751). Check your callbacks.\n",
      "  % delta_t_median)\n"
     ]
    },
    {
     "name": "stdout",
     "output_type": "stream",
     "text": [
      "Time usage: 0:03:38 minutes\n",
      "3357/3357 [==============================] - 6s 2ms/step\n",
      "374/374 [==============================] - 1s 2ms/step\n",
      "934/934 [==============================] - 2s 2ms/step\n",
      " - Model specifics:\tbatch size: 64, mode: triangular, stepsize: 420, base-lr: 5e-05, max-lr 0.0005, *3\n"
     ]
    },
    {
     "name": "stderr",
     "output_type": "stream",
     "text": [
      "/home/rick/.conda/envs/hannah_z/lib/python2.7/site-packages/keras/callbacks.py:120: UserWarning: Method on_batch_end() is slow compared to the batch update (0.154615). Check your callbacks.\n",
      "  % delta_t_median)\n"
     ]
    },
    {
     "name": "stdout",
     "output_type": "stream",
     "text": [
      "Time usage: 0:03:35 minutes\n",
      "3357/3357 [==============================] - 7s 2ms/step\n",
      "374/374 [==============================] - 1s 2ms/step\n",
      "934/934 [==============================] - 2s 2ms/step\n",
      " - Model specifics:\tbatch size: 64, mode: triangular, stepsize: 420, base-lr: 5e-05, max-lr 0.0005, *4\n"
     ]
    },
    {
     "name": "stderr",
     "output_type": "stream",
     "text": [
      "/home/rick/.conda/envs/hannah_z/lib/python2.7/site-packages/keras/callbacks.py:120: UserWarning: Method on_batch_end() is slow compared to the batch update (0.137304). Check your callbacks.\n",
      "  % delta_t_median)\n"
     ]
    },
    {
     "name": "stdout",
     "output_type": "stream",
     "text": [
      "Time usage: 0:03:34 minutes\n",
      "3357/3357 [==============================] - 7s 2ms/step\n",
      "374/374 [==============================] - 1s 2ms/step\n",
      "934/934 [==============================] - 2s 2ms/step\n",
      "- Training accuracies:\t[0.7697, 0.7635, 0.7769, 0.7679, 0.7638, 0.7477, 0.7659, 0.7525, 0.7784, 0.7492, 0.7769, 0.7531, 0.7581, 0.7811, 0.7781, 0.7557, 0.7793, 0.7629, 0.7513, 0.765, 0.7715, 0.7599, 0.7679, 0.7712, 0.7644, 0.7489, 0.7694, 0.7534, 0.7775, 0.7763, 0.7474, 0.7718, 0.7784, 0.7715, 0.7822, 0.77, 0.7766, 0.7548, 0.7632, 0.7694, 0.7557, 0.7954, 0.7578, 0.7685, 0.7694]\n",
      "- Validation accuracies:\t[0.7406, 0.7139, 0.7299, 0.738, 0.7086, 0.7139, 0.7139, 0.6952, 0.7299, 0.7032, 0.7353, 0.7139, 0.7032, 0.7353, 0.7246, 0.7273, 0.7166, 0.7139, 0.7166, 0.7086, 0.7193, 0.7246, 0.7299, 0.7353, 0.7246, 0.7086, 0.7353, 0.7219, 0.7406, 0.7433, 0.7032, 0.7166, 0.7299, 0.7086, 0.7326, 0.7353, 0.7353, 0.7086, 0.7273, 0.7112, 0.7353, 0.762, 0.7086, 0.7059, 0.7246]\n",
      "- Testing accuracies:\t[0.7495, 0.7463, 0.7452, 0.7366, 0.7463, 0.7291, 0.7452, 0.7313, 0.7505, 0.7195, 0.7452, 0.7173, 0.7313, 0.7559, 0.7527, 0.7355, 0.7505, 0.7441, 0.7173, 0.7366, 0.742, 0.742, 0.7463, 0.7463, 0.7345, 0.7259, 0.7495, 0.7334, 0.7473, 0.7409, 0.7259, 0.743, 0.7634, 0.7441, 0.7645, 0.7505, 0.7463, 0.7313, 0.7463, 0.7355, 0.7302, 0.7634, 0.7248, 0.7409, 0.7495]\n",
      "\n",
      "\n",
      "Time usage: 2:47:54 minutes\n"
     ]
    },
    {
     "data": {
      "text/plain": [
       "[<matplotlib.lines.Line2D at 0x7f75b635a310>]"
      ]
     },
     "execution_count": 18,
     "metadata": {},
     "output_type": "execute_result"
    },
    {
     "data": {
      "image/png": "[encoded data removed]",
      "text/plain": [
       "<matplotlib.figure.Figure at 0x7f75faf0fb90>"
      ]
     },
     "metadata": {},
     "output_type": "display_data"
    }
   ],
   "source": [
    "# usual training time: 2h - 2:43 - 2;47\n",
    "learning_rate_finder()\n",
    "%matplotlib inline\n",
    "acc = h['acc']\n",
    "plt.plot(acc)"
   ]
  },
  {
   "cell_type": "code",
   "execution_count": 19,
   "metadata": {},
   "outputs": [
    {
     "data": {
      "text/html": [
       "<div>\n",
       "<style scoped>\n",
       "    .dataframe tbody tr th:only-of-type {\n",
       "        vertical-align: middle;\n",
       "    }\n",
       "\n",
       "    .dataframe tbody tr th {\n",
       "        vertical-align: top;\n",
       "    }\n",
       "\n",
       "    .dataframe thead th {\n",
       "        text-align: right;\n",
       "    }\n",
       "</style>\n",
       "<table border=\"1\" class=\"dataframe\">\n",
       "  <thead>\n",
       "    <tr style=\"text-align: right;\">\n",
       "      <th></th>\n",
       "      <th>test acc</th>\n",
       "      <th>valid acc</th>\n",
       "      <th>train acc</th>\n",
       "      <th>test loss</th>\n",
       "      <th>valid loss</th>\n",
       "      <th>train loss</th>\n",
       "      <th>test prec</th>\n",
       "      <th>valid prec</th>\n",
       "      <th>train prec</th>\n",
       "      <th>test rec</th>\n",
       "      <th>valid rec</th>\n",
       "      <th>train rec</th>\n",
       "    </tr>\n",
       "  </thead>\n",
       "  <tbody>\n",
       "    <tr>\n",
       "      <th>base-lr: 1e-06, max-lr 0.0001,</th>\n",
       "      <td>0.7448</td>\n",
       "      <td>0.7262</td>\n",
       "      <td>0.7684</td>\n",
       "      <td>0.9220</td>\n",
       "      <td>0.9717</td>\n",
       "      <td>0.8568</td>\n",
       "      <td>0.6865</td>\n",
       "      <td>0.6527</td>\n",
       "      <td>0.6978</td>\n",
       "      <td>0.9269</td>\n",
       "      <td>0.8976</td>\n",
       "      <td>0.9444</td>\n",
       "    </tr>\n",
       "    <tr>\n",
       "      <th>base-lr: 5e-05, max-lr 0.0005,</th>\n",
       "      <td>0.7412</td>\n",
       "      <td>0.7232</td>\n",
       "      <td>0.7671</td>\n",
       "      <td>1.1425</td>\n",
       "      <td>1.1994</td>\n",
       "      <td>1.0299</td>\n",
       "      <td>0.6824</td>\n",
       "      <td>0.6484</td>\n",
       "      <td>0.6963</td>\n",
       "      <td>0.9282</td>\n",
       "      <td>0.9080</td>\n",
       "      <td>0.9471</td>\n",
       "    </tr>\n",
       "    <tr>\n",
       "      <th>base-lr: 5e-05, max-lr 0.0001,</th>\n",
       "      <td>0.7408</td>\n",
       "      <td>0.7211</td>\n",
       "      <td>0.7662</td>\n",
       "      <td>1.1206</td>\n",
       "      <td>1.1776</td>\n",
       "      <td>1.0143</td>\n",
       "      <td>0.6816</td>\n",
       "      <td>0.6461</td>\n",
       "      <td>0.6949</td>\n",
       "      <td>0.9301</td>\n",
       "      <td>0.9098</td>\n",
       "      <td>0.9487</td>\n",
       "    </tr>\n",
       "    <tr>\n",
       "      <th>base-lr: 5e-05, max-lr 0.0003,</th>\n",
       "      <td>0.7408</td>\n",
       "      <td>0.7217</td>\n",
       "      <td>0.7663</td>\n",
       "      <td>1.1212</td>\n",
       "      <td>1.1786</td>\n",
       "      <td>1.0145</td>\n",
       "      <td>0.6818</td>\n",
       "      <td>0.6467</td>\n",
       "      <td>0.6951</td>\n",
       "      <td>0.9292</td>\n",
       "      <td>0.9085</td>\n",
       "      <td>0.9481</td>\n",
       "    </tr>\n",
       "    <tr>\n",
       "      <th>base-lr: 1e-05, max-lr 0.0003,</th>\n",
       "      <td>0.7390</td>\n",
       "      <td>0.7187</td>\n",
       "      <td>0.7645</td>\n",
       "      <td>1.1249</td>\n",
       "      <td>1.1769</td>\n",
       "      <td>1.0201</td>\n",
       "      <td>0.6791</td>\n",
       "      <td>0.6436</td>\n",
       "      <td>0.6923</td>\n",
       "      <td>0.9330</td>\n",
       "      <td>0.9151</td>\n",
       "      <td>0.9513</td>\n",
       "    </tr>\n",
       "    <tr>\n",
       "      <th>base-lr: 1e-06, max-lr 0.0003,</th>\n",
       "      <td>0.7389</td>\n",
       "      <td>0.7163</td>\n",
       "      <td>0.7629</td>\n",
       "      <td>1.0662</td>\n",
       "      <td>1.1094</td>\n",
       "      <td>0.9785</td>\n",
       "      <td>0.6787</td>\n",
       "      <td>0.6415</td>\n",
       "      <td>0.6899</td>\n",
       "      <td>0.9353</td>\n",
       "      <td>0.9138</td>\n",
       "      <td>0.9536</td>\n",
       "    </tr>\n",
       "    <tr>\n",
       "      <th>base-lr: 1e-06, max-lr 0.0005,</th>\n",
       "      <td>0.7389</td>\n",
       "      <td>0.7188</td>\n",
       "      <td>0.7653</td>\n",
       "      <td>1.1481</td>\n",
       "      <td>1.2061</td>\n",
       "      <td>1.0395</td>\n",
       "      <td>0.6792</td>\n",
       "      <td>0.6435</td>\n",
       "      <td>0.6936</td>\n",
       "      <td>0.9321</td>\n",
       "      <td>0.9122</td>\n",
       "      <td>0.9503</td>\n",
       "    </tr>\n",
       "    <tr>\n",
       "      <th>base-lr: 1e-05, max-lr 0.0005,</th>\n",
       "      <td>0.7388</td>\n",
       "      <td>0.7214</td>\n",
       "      <td>0.7646</td>\n",
       "      <td>1.1629</td>\n",
       "      <td>1.2139</td>\n",
       "      <td>1.0477</td>\n",
       "      <td>0.6790</td>\n",
       "      <td>0.6456</td>\n",
       "      <td>0.6927</td>\n",
       "      <td>0.9319</td>\n",
       "      <td>0.9151</td>\n",
       "      <td>0.9510</td>\n",
       "    </tr>\n",
       "    <tr>\n",
       "      <th>base-lr: 1e-05, max-lr 0.0001,</th>\n",
       "      <td>0.7379</td>\n",
       "      <td>0.7175</td>\n",
       "      <td>0.7639</td>\n",
       "      <td>1.1166</td>\n",
       "      <td>1.1722</td>\n",
       "      <td>1.0164</td>\n",
       "      <td>0.6781</td>\n",
       "      <td>0.6422</td>\n",
       "      <td>0.6918</td>\n",
       "      <td>0.9333</td>\n",
       "      <td>0.9149</td>\n",
       "      <td>0.9510</td>\n",
       "    </tr>\n",
       "  </tbody>\n",
       "</table>\n",
       "</div>"
      ],
      "text/plain": [
       "                                test acc  valid acc  train acc  test loss  \\\n",
       "base-lr: 1e-06, max-lr 0.0001,    0.7448     0.7262     0.7684     0.9220   \n",
       "base-lr: 5e-05, max-lr 0.0005,    0.7412     0.7232     0.7671     1.1425   \n",
       "base-lr: 5e-05, max-lr 0.0001,    0.7408     0.7211     0.7662     1.1206   \n",
       "base-lr: 5e-05, max-lr 0.0003,    0.7408     0.7217     0.7663     1.1212   \n",
       "base-lr: 1e-05, max-lr 0.0003,    0.7390     0.7187     0.7645     1.1249   \n",
       "base-lr: 1e-06, max-lr 0.0003,    0.7389     0.7163     0.7629     1.0662   \n",
       "base-lr: 1e-06, max-lr 0.0005,    0.7389     0.7188     0.7653     1.1481   \n",
       "base-lr: 1e-05, max-lr 0.0005,    0.7388     0.7214     0.7646     1.1629   \n",
       "base-lr: 1e-05, max-lr 0.0001,    0.7379     0.7175     0.7639     1.1166   \n",
       "\n",
       "                                valid loss  train loss  test prec  valid prec  \\\n",
       "base-lr: 1e-06, max-lr 0.0001,      0.9717      0.8568     0.6865      0.6527   \n",
       "base-lr: 5e-05, max-lr 0.0005,      1.1994      1.0299     0.6824      0.6484   \n",
       "base-lr: 5e-05, max-lr 0.0001,      1.1776      1.0143     0.6816      0.6461   \n",
       "base-lr: 5e-05, max-lr 0.0003,      1.1786      1.0145     0.6818      0.6467   \n",
       "base-lr: 1e-05, max-lr 0.0003,      1.1769      1.0201     0.6791      0.6436   \n",
       "base-lr: 1e-06, max-lr 0.0003,      1.1094      0.9785     0.6787      0.6415   \n",
       "base-lr: 1e-06, max-lr 0.0005,      1.2061      1.0395     0.6792      0.6435   \n",
       "base-lr: 1e-05, max-lr 0.0005,      1.2139      1.0477     0.6790      0.6456   \n",
       "base-lr: 1e-05, max-lr 0.0001,      1.1722      1.0164     0.6781      0.6422   \n",
       "\n",
       "                                train prec  test rec  valid rec  train rec  \n",
       "base-lr: 1e-06, max-lr 0.0001,      0.6978    0.9269     0.8976     0.9444  \n",
       "base-lr: 5e-05, max-lr 0.0005,      0.6963    0.9282     0.9080     0.9471  \n",
       "base-lr: 5e-05, max-lr 0.0001,      0.6949    0.9301     0.9098     0.9487  \n",
       "base-lr: 5e-05, max-lr 0.0003,      0.6951    0.9292     0.9085     0.9481  \n",
       "base-lr: 1e-05, max-lr 0.0003,      0.6923    0.9330     0.9151     0.9513  \n",
       "base-lr: 1e-06, max-lr 0.0003,      0.6899    0.9353     0.9138     0.9536  \n",
       "base-lr: 1e-06, max-lr 0.0005,      0.6936    0.9321     0.9122     0.9503  \n",
       "base-lr: 1e-05, max-lr 0.0005,      0.6927    0.9319     0.9151     0.9510  \n",
       "base-lr: 1e-05, max-lr 0.0001,      0.6918    0.9333     0.9149     0.9510  "
      ]
     },
     "execution_count": 19,
     "metadata": {},
     "output_type": "execute_result"
    }
   ],
   "source": [
    "titel = model_details[0][:47]\n",
    "mean_test_acc = []\n",
    "mean_valid_acc = []\n",
    "mean_train_acc = []\n",
    "mean_test_loss = []\n",
    "mean_valid_loss = []\n",
    "mean_train_loss = []\n",
    "mean_test_prec = []\n",
    "mean_valid_prec = []\n",
    "mean_train_prec = []\n",
    "mean_test_rec = []\n",
    "mean_valid_rec = []\n",
    "mean_train_rec = []\n",
    "model_list = []\n",
    "a = len(test_acc_list)\n",
    "for i in range(9):\n",
    "    tals = test_acc_list[i:(i+1)*5]\n",
    "    vals = valid_acc_list[i:(i+1)*5]\n",
    "    rals = train_acc_list[i:(i+1)*5]\n",
    "    tlls = test_loss_list[i:(i+1)*5]\n",
    "    vlls = valid_loss_list[i:(i+1)*5]\n",
    "    rlls = train_loss_list[i:(i+1)*5]\n",
    "    tpls = test_prec_list[i:(i+1)*5]\n",
    "    vpls = valid_prec_list[i:(i+1)*5]\n",
    "    rpls = train_prec_list[i:(i+1)*5]\n",
    "    trls = test_rec_list[i:(i+1)*5]\n",
    "    vrls = valid_rec_list[i:(i+1)*5]\n",
    "    rrls = train_rec_list[i:(i+1)*5]\n",
    "    tmean = round(sum(tals)/len(tals),4)\n",
    "    vmean = round(sum(vals)/len(vals),4)\n",
    "    rmean = round(sum(rals)/len(rals),4)\n",
    "    ltmean = round(sum(tlls)/len(tals),4)\n",
    "    lvmean = round(sum(vlls)/len(vals),4)\n",
    "    lrmean = round(sum(rlls)/len(rals),4)\n",
    "    ptmean = round(sum(tpls)/len(tals),4)\n",
    "    pvmean = round(sum(vpls)/len(vals),4)\n",
    "    prmean = round(sum(rpls)/len(rals),4)\n",
    "    rtmean = round(sum(trls)/len(tals),4)\n",
    "    rvmean = round(sum(vrls)/len(vals),4)\n",
    "    rrmean = round(sum(rrls)/len(rals),4)\n",
    "    mean_test_acc.append(tmean)\n",
    "    mean_valid_acc.append(vmean)\n",
    "    mean_train_acc.append(rmean)\n",
    "    mean_test_loss.append(ltmean)\n",
    "    mean_valid_loss.append(lvmean)\n",
    "    mean_train_loss.append(lrmean)\n",
    "    mean_test_prec.append(ptmean)\n",
    "    mean_valid_prec.append(pvmean)\n",
    "    mean_train_prec.append(prmean)\n",
    "    mean_test_rec.append(rtmean)\n",
    "    mean_valid_rec.append(rvmean)\n",
    "    mean_train_rec.append(rrmean)\n",
    "    model_list.append(model_details[i*5][49:79])\n",
    "columns = ['test acc', 'valid acc', 'train acc', 'test loss', 'valid loss', 'train loss', 'test prec', \\\n",
    "           'valid prec', 'train prec', 'test rec', 'valid rec', 'train rec']\n",
    "data = np.array((mean_test_acc, mean_valid_acc, mean_train_acc, mean_test_loss, mean_valid_loss, mean_train_loss,\\\n",
    "                mean_test_prec, mean_valid_prec, mean_train_prec, mean_test_rec, mean_valid_rec, mean_train_rec))\n",
    "results = pd.DataFrame(data = data, columns = model_list, index = columns)\n",
    "lr_overview = pd.DataFrame(data = results.transpose(), columns = columns, index = model_list)\n",
    "#lr_overview\n",
    "overviewSorted = lr_overview.sort_values(by=['test acc'], ascending = False)\n",
    "overviewSorted"
   ]
  },
  {
   "cell_type": "code",
   "execution_count": 20,
   "metadata": {},
   "outputs": [],
   "source": [
    "blr = 0.000001\n",
    "mlr = 0.0001"
   ]
  },
  {
   "cell_type": "code",
   "execution_count": 21,
   "metadata": {},
   "outputs": [
    {
     "data": {
      "text/plain": [
       "'AfterTuningLR_modelOverview_IncResNetV2_bs-64_triangular_sz-420_imagenet_595_48epochs'"
      ]
     },
     "execution_count": 21,
     "metadata": {},
     "output_type": "execute_result"
    }
   ],
   "source": [
    "os.chdir(code_dir + '/Excel')\n",
    "savename = ('AfterTuningLR_modelOverview_' + str(modelname) + '_bs-' + str(batch_size) + '_' + str(mode) + '_sz-' \n",
    "            + str(step_size) + '_' + str(weights) + '_' + str(trainable_layers) + '_' + str(epochs) + 'epochs')\n",
    "savename"
   ]
  },
  {
   "cell_type": "code",
   "execution_count": 22,
   "metadata": {},
   "outputs": [],
   "source": [
    "overviewSorted.to_csv(savename)"
   ]
  },
  {
   "cell_type": "code",
   "execution_count": 26,
   "metadata": {},
   "outputs": [],
   "source": []
  },
  {
   "cell_type": "code",
   "execution_count": 23,
   "metadata": {},
   "outputs": [
    {
     "data": {
      "image/png": "[encoded data removed]",
      "text/plain": [
       "<matplotlib.figure.Figure at 0x7f75b63ffa50>"
      ]
     },
     "metadata": {},
     "output_type": "display_data"
    }
   ],
   "source": [
    "import seaborn as sns\n",
    "sns.set()\n",
    "heatmap = sns.heatmap(results.iloc[:3,:].transpose(), annot=True, fmt = 'f')"
   ]
  },
  {
   "cell_type": "code",
   "execution_count": 24,
   "metadata": {},
   "outputs": [
    {
     "data": {
      "text/plain": [
       "[<matplotlib.lines.Line2D at 0x7f75b5414250>]"
      ]
     },
     "execution_count": 24,
     "metadata": {},
     "output_type": "execute_result"
    },
    {
     "data": {
      "image/png": "[encoded data removed]",
      "text/plain": [
       "<matplotlib.figure.Figure at 0x7f75b54fd950>"
      ]
     },
     "metadata": {},
     "output_type": "display_data"
    }
   ],
   "source": [
    "%matplotlib inline\n",
    "\n",
    "f, (ax1, ax2) = plt.subplots(2, 1, sharex='col', sharey='row')\n",
    "ax1.plot(mean_test_acc, color = 'r')\n",
    "ax1.axis([0, 8, 0.5, 1])\n",
    "ax1.set_title('Close up')\n",
    "ax1.plot(mean_valid_acc)\n",
    "ax1.plot(mean_train_acc, color = 'g')\n",
    "ax2.set_title('Zoom')\n",
    "ax2.plot(mean_test_acc, color = 'r')\n",
    "ax2.axis([0, 8, 0.7, 0.8])\n",
    "ax2.plot(mean_valid_acc)\n",
    "ax2.plot(mean_train_acc, color = 'g')"
   ]
  },
  {
   "cell_type": "code",
   "execution_count": 25,
   "metadata": {},
   "outputs": [],
   "source": [
    "from IPython.core.interactiveshell import InteractiveShell\n",
    "InteractiveShell.ast_node_interactivity = \"all\""
   ]
  },
  {
   "cell_type": "code",
   "execution_count": 26,
   "metadata": {},
   "outputs": [],
   "source": [
    "stepsizes128 = [157, 210, 262]\n",
    "stepsizes64 = [315, 420,525]\n",
    "batch_sizes = [64, 128]\n",
    "modes = ['triangular', 'triangular2']\n",
    "rep = 1"
   ]
  },
  {
   "cell_type": "code",
   "execution_count": 27,
   "metadata": {
    "scrolled": true
   },
   "outputs": [],
   "source": [
    "def hp_tuner(base_lr = blr, max_lr = mlr, rep = 5):\n",
    "    start_time = time()  \n",
    "    global test_acc_l\n",
    "    global valid_acc_l\n",
    "    global train_acc_l\n",
    "    global test_loss_l\n",
    "    global valid_loss_l\n",
    "    global train_loss_l\n",
    "    global test_prec_l\n",
    "    global valid_prec_l\n",
    "    global train_prec_l\n",
    "    global test_rec_l\n",
    "    global valid_rec_l\n",
    "    global train_rec_l\n",
    "    global model_det\n",
    "    model_det = []\n",
    "    test_acc_l = []\n",
    "    valid_acc_l = []\n",
    "    train_acc_l = []\n",
    "    test_loss_l = []\n",
    "    valid_loss_l = []\n",
    "    train_loss_l = []\n",
    "    test_prec_l = []\n",
    "    valid_prec_l = []\n",
    "    train_prec_l = []\n",
    "    test_rec_l = []\n",
    "    valid_rec_l = []\n",
    "    train_rec_l = []\n",
    "    for bs in batch_sizes:\n",
    "        if (bs == 64):\n",
    "            stepsizes = stepsizes64\n",
    "        if (bs ==128):\n",
    "            stepsizes = stepsizes128\n",
    "        for sz in stepsizes: \n",
    "            for md in modes:\n",
    "                i = 0\n",
    "                mid_time = time()\n",
    "                while (i < rep):\n",
    "                    compileModel()\n",
    "                    times = i\n",
    "                    if (i == 0):\n",
    "                        train_Model(times = times, epochs = 48, base_lr = base_lr, max_lr = max_lr, verbose = 0,\n",
    "                                    batch_size = bs, stepsize = sz, mode = md, use_tensorboard = True)\n",
    "                    else:\n",
    "                        train_Model(times = times, epochs = 48, base_lr = base_lr, max_lr = max_lr, verbose = 0, \n",
    "                                    batch_size = bs, stepsize = sz, mode = md, use_tensorboard = False)\n",
    "                    valid_metrics = Final_model.evaluate(valid_images, valid_labels)\n",
    "                    test_metrics = Final_model.evaluate(test_images, test_labels)\n",
    "                    train_metrics = Final_model.evaluate(train_images, train_labels)\n",
    "                    \n",
    "                    train_acc = train_metrics[1]\n",
    "                    valid_acc = valid_metrics[1]\n",
    "                    test_acc = test_metrics[1]\n",
    "                    train_loss = train_metrics[0]\n",
    "                    valid_loss = valid_metrics[0]\n",
    "                    test_loss = test_metrics[0]\n",
    "                    train_prec = train_metrics[2]\n",
    "                    valid_prec = valid_metrics[2]\n",
    "                    test_prec = test_metrics[2]\n",
    "                    train_rec = train_metrics[3]\n",
    "                    valid_rec = valid_metrics[3]\n",
    "                    test_rec = test_metrics[3]                                \n",
    "                    test_acc_l.append(test_acc)\n",
    "                    valid_acc_l.append(valid_acc)\n",
    "                    train_acc_l.append(train_acc)\n",
    "                    test_loss_l.append(test_loss)\n",
    "                    valid_loss_l.append(valid_loss)\n",
    "                    train_loss_l.append(train_loss)\n",
    "                    test_prec_l.append(test_prec)\n",
    "                    valid_prec_l.append(valid_prec)\n",
    "                    train_prec_l.append(train_prec)\n",
    "                    test_rec_l.append(test_rec)\n",
    "                    valid_rec_l.append(valid_rec)\n",
    "                    train_rec_l.append(train_rec)\n",
    "                    model_det.append(name)\n",
    "    ### training the same model for more epochs\n",
    "                    if (i == 0):\n",
    "                        train_Model(times = times, epochs = 48, base_lr = base_lr, max_lr = max_lr, verbose = 0,\n",
    "                                    batch_size = bs, stepsize = sz, mode = md, use_tensorboard = True)\n",
    "                    else:\n",
    "                        train_Model(times = times, epochs = 48, base_lr = base_lr, max_lr = max_lr, verbose = 0, \n",
    "                                    batch_size = bs, stepsize = sz, mode = md, use_tensorboard = False)\n",
    "                    valid_metrics = Final_model.evaluate(valid_images, valid_labels)\n",
    "                    test_metrics = Final_model.evaluate(test_images, test_labels)\n",
    "                    train_metrics = Final_model.evaluate(train_images, train_labels)\n",
    "                    \n",
    "                    train_acc = train_metrics[1]\n",
    "                    valid_acc = valid_metrics[1]\n",
    "                    test_acc = test_metrics[1]\n",
    "                    train_loss = train_metrics[0]\n",
    "                    valid_loss = valid_metrics[0]\n",
    "                    test_loss = test_metrics[0]\n",
    "                    train_prec = train_metrics[2]\n",
    "                    valid_prec = valid_metrics[2]\n",
    "                    test_prec = test_metrics[2]\n",
    "                    train_rec = train_metrics[3]\n",
    "                    valid_rec = valid_metrics[3]\n",
    "                    test_rec = test_metrics[3]                                \n",
    "                    test_acc_l.append(test_acc)\n",
    "                    valid_acc_l.append(valid_acc)\n",
    "                    train_acc_l.append(train_acc)\n",
    "                    test_loss_l.append(test_loss)\n",
    "                    valid_loss_l.append(valid_loss)\n",
    "                    train_loss_l.append(train_loss)\n",
    "                    test_prec_l.append(test_prec)\n",
    "                    valid_prec_l.append(valid_prec)\n",
    "                    train_prec_l.append(train_prec)\n",
    "                    test_rec_l.append(test_rec)\n",
    "                    valid_rec_l.append(valid_rec)\n",
    "                    train_rec_l.append(train_rec)\n",
    "                    name2 = name + '_x2'\n",
    "                    model_det.append(name2)\n",
    "                    print(log_dir)\n",
    "                    i += 1\n",
    "                mid_end_time = time()\n",
    "                mid_time_dif = mid_end_time - mid_time\n",
    "                print('Time usage: ' + str(timedelta(seconds=int(round(mid_time_dif)))) + ' minutes')\n",
    "    end_time = time()\n",
    "    time_dif = end_time - start_time\n",
    "    print('Time usage: ' + str(timedelta(seconds=int(round(time_dif)))) + ' minutes')"
   ]
  },
  {
   "cell_type": "code",
   "execution_count": 28,
   "metadata": {},
   "outputs": [
    {
     "name": "stdout",
     "output_type": "stream",
     "text": [
      " - Model specifics:\tbatch size: 64, mode: triangular, stepsize: 315, base-lr: 1e-06, max-lr 0.0001, *0\n"
     ]
    },
    {
     "name": "stderr",
     "output_type": "stream",
     "text": [
      "/home/rick/.conda/envs/hannah_z/lib/python2.7/site-packages/keras/callbacks.py:120: UserWarning: Method on_batch_end() is slow compared to the batch update (0.153100). Check your callbacks.\n",
      "  % delta_t_median)\n"
     ]
    },
    {
     "name": "stdout",
     "output_type": "stream",
     "text": [
      "Time usage: 0:03:32 minutes\n",
      "374/374 [==============================] - 1s 2ms/step\n",
      "934/934 [==============================] - 2s 2ms/step\n",
      "3357/3357 [==============================] - 6s 2ms/step\n",
      " - Model specifics:\tbatch size: 64, mode: triangular, stepsize: 315, base-lr: 1e-06, max-lr 0.0001, *0\n",
      "Time usage: 0:03:22 minutes\n",
      "374/374 [==============================] - 1s 2ms/step\n",
      "934/934 [==============================] - 2s 2ms/step\n",
      "3357/3357 [==============================] - 6s 2ms/step\n",
      "/home/rick/Documents/HannahZ/Code/logs\n",
      " - Model specifics:\tbatch size: 64, mode: triangular, stepsize: 315, base-lr: 1e-06, max-lr 0.0001, *1\n"
     ]
    },
    {
     "name": "stderr",
     "output_type": "stream",
     "text": [
      "/home/rick/.conda/envs/hannah_z/lib/python2.7/site-packages/keras/callbacks.py:120: UserWarning: Method on_batch_end() is slow compared to the batch update (0.151812). Check your callbacks.\n",
      "  % delta_t_median)\n"
     ]
    },
    {
     "name": "stdout",
     "output_type": "stream",
     "text": [
      "Time usage: 0:03:36 minutes\n",
      "374/374 [==============================] - 1s 2ms/step\n",
      "934/934 [==============================] - 2s 2ms/step\n",
      "3357/3357 [==============================] - 7s 2ms/step\n",
      " - Model specifics:\tbatch size: 64, mode: triangular, stepsize: 315, base-lr: 1e-06, max-lr 0.0001, *1\n",
      "Time usage: 0:03:25 minutes\n",
      "374/374 [==============================] - 1s 2ms/step\n",
      "934/934 [==============================] - 2s 2ms/step\n",
      "3357/3357 [==============================] - 7s 2ms/step\n",
      "/home/rick/Documents/HannahZ/Code/logs\n",
      " - Model specifics:\tbatch size: 64, mode: triangular, stepsize: 315, base-lr: 1e-06, max-lr 0.0001, *2\n"
     ]
    },
    {
     "name": "stderr",
     "output_type": "stream",
     "text": [
      "/home/rick/.conda/envs/hannah_z/lib/python2.7/site-packages/keras/callbacks.py:120: UserWarning: Method on_batch_end() is slow compared to the batch update (0.148189). Check your callbacks.\n",
      "  % delta_t_median)\n"
     ]
    },
    {
     "name": "stdout",
     "output_type": "stream",
     "text": [
      "Time usage: 0:03:32 minutes\n",
      "374/374 [==============================] - 1s 2ms/step\n",
      "934/934 [==============================] - 2s 2ms/step\n",
      "3357/3357 [==============================] - 6s 2ms/step\n",
      " - Model specifics:\tbatch size: 64, mode: triangular, stepsize: 315, base-lr: 1e-06, max-lr 0.0001, *2\n",
      "Time usage: 0:03:22 minutes\n",
      "374/374 [==============================] - 1s 2ms/step\n",
      "934/934 [==============================] - 2s 2ms/step\n",
      "3357/3357 [==============================] - 6s 2ms/step\n",
      "/home/rick/Documents/HannahZ/Code/logs\n",
      " - Model specifics:\tbatch size: 64, mode: triangular, stepsize: 315, base-lr: 1e-06, max-lr 0.0001, *3\n"
     ]
    },
    {
     "name": "stderr",
     "output_type": "stream",
     "text": [
      "/home/rick/.conda/envs/hannah_z/lib/python2.7/site-packages/keras/callbacks.py:120: UserWarning: Method on_batch_end() is slow compared to the batch update (0.146180). Check your callbacks.\n",
      "  % delta_t_median)\n"
     ]
    },
    {
     "name": "stdout",
     "output_type": "stream",
     "text": [
      "Time usage: 0:03:34 minutes\n",
      "374/374 [==============================] - 1s 2ms/step\n",
      "934/934 [==============================] - 2s 2ms/step\n",
      "3357/3357 [==============================] - 7s 2ms/step\n",
      " - Model specifics:\tbatch size: 64, mode: triangular, stepsize: 315, base-lr: 1e-06, max-lr 0.0001, *3\n",
      "Time usage: 0:03:22 minutes\n",
      "374/374 [==============================] - 1s 2ms/step\n",
      "934/934 [==============================] - 2s 2ms/step\n",
      "3357/3357 [==============================] - 7s 2ms/step\n",
      "/home/rick/Documents/HannahZ/Code/logs\n",
      " - Model specifics:\tbatch size: 64, mode: triangular, stepsize: 315, base-lr: 1e-06, max-lr 0.0001, *4\n"
     ]
    },
    {
     "name": "stderr",
     "output_type": "stream",
     "text": [
      "/home/rick/.conda/envs/hannah_z/lib/python2.7/site-packages/keras/callbacks.py:120: UserWarning: Method on_batch_end() is slow compared to the batch update (0.168385). Check your callbacks.\n",
      "  % delta_t_median)\n"
     ]
    },
    {
     "name": "stdout",
     "output_type": "stream",
     "text": [
      "Time usage: 0:03:37 minutes\n",
      "374/374 [==============================] - 1s 2ms/step\n",
      "934/934 [==============================] - 2s 2ms/step\n",
      "3357/3357 [==============================] - 7s 2ms/step\n",
      " - Model specifics:\tbatch size: 64, mode: triangular, stepsize: 315, base-lr: 1e-06, max-lr 0.0001, *4\n",
      "Time usage: 0:03:26 minutes\n",
      "374/374 [==============================] - 1s 2ms/step\n",
      "934/934 [==============================] - 2s 2ms/step\n",
      "3357/3357 [==============================] - 7s 2ms/step\n",
      "/home/rick/Documents/HannahZ/Code/logs\n",
      "Time usage: 0:36:21 minutes\n",
      " - Model specifics:\tbatch size: 64, mode: triangular2, stepsize: 315, base-lr: 1e-06, max-lr 0.0001, *0\n"
     ]
    },
    {
     "name": "stderr",
     "output_type": "stream",
     "text": [
      "/home/rick/.conda/envs/hannah_z/lib/python2.7/site-packages/keras/callbacks.py:120: UserWarning: Method on_batch_end() is slow compared to the batch update (0.138479). Check your callbacks.\n",
      "  % delta_t_median)\n"
     ]
    },
    {
     "name": "stdout",
     "output_type": "stream",
     "text": [
      "Time usage: 0:03:34 minutes\n",
      "374/374 [==============================] - 1s 2ms/step\n",
      "934/934 [==============================] - 2s 2ms/step\n",
      "3357/3357 [==============================] - 7s 2ms/step\n",
      " - Model specifics:\tbatch size: 64, mode: triangular2, stepsize: 315, base-lr: 1e-06, max-lr 0.0001, *0\n",
      "Time usage: 0:03:22 minutes\n",
      "374/374 [==============================] - 1s 2ms/step\n",
      "934/934 [==============================] - 2s 2ms/step\n",
      "3357/3357 [==============================] - 7s 2ms/step\n",
      "/home/rick/Documents/HannahZ/Code/logs\n",
      " - Model specifics:\tbatch size: 64, mode: triangular2, stepsize: 315, base-lr: 1e-06, max-lr 0.0001, *1\n"
     ]
    },
    {
     "name": "stderr",
     "output_type": "stream",
     "text": [
      "/home/rick/.conda/envs/hannah_z/lib/python2.7/site-packages/keras/callbacks.py:120: UserWarning: Method on_batch_end() is slow compared to the batch update (0.141676). Check your callbacks.\n",
      "  % delta_t_median)\n"
     ]
    },
    {
     "name": "stdout",
     "output_type": "stream",
     "text": [
      "Time usage: 0:03:35 minutes\n",
      "374/374 [==============================] - 1s 2ms/step\n",
      "934/934 [==============================] - 2s 2ms/step\n",
      "3357/3357 [==============================] - 7s 2ms/step\n",
      " - Model specifics:\tbatch size: 64, mode: triangular2, stepsize: 315, base-lr: 1e-06, max-lr 0.0001, *1\n",
      "Time usage: 0:03:24 minutes\n",
      "374/374 [==============================] - 1s 2ms/step\n",
      "934/934 [==============================] - 2s 2ms/step\n",
      "3357/3357 [==============================] - 7s 2ms/step\n",
      "/home/rick/Documents/HannahZ/Code/logs\n",
      " - Model specifics:\tbatch size: 64, mode: triangular2, stepsize: 315, base-lr: 1e-06, max-lr 0.0001, *2\n"
     ]
    },
    {
     "name": "stderr",
     "output_type": "stream",
     "text": [
      "/home/rick/.conda/envs/hannah_z/lib/python2.7/site-packages/keras/callbacks.py:120: UserWarning: Method on_batch_end() is slow compared to the batch update (0.146714). Check your callbacks.\n",
      "  % delta_t_median)\n"
     ]
    },
    {
     "name": "stdout",
     "output_type": "stream",
     "text": [
      "Time usage: 0:03:38 minutes\n",
      "374/374 [==============================] - 1s 2ms/step\n",
      "934/934 [==============================] - 2s 2ms/step\n",
      "3357/3357 [==============================] - 7s 2ms/step\n",
      " - Model specifics:\tbatch size: 64, mode: triangular2, stepsize: 315, base-lr: 1e-06, max-lr 0.0001, *2\n",
      "Time usage: 0:03:27 minutes\n",
      "374/374 [==============================] - 1s 2ms/step\n",
      "934/934 [==============================] - 2s 2ms/step\n",
      "3357/3357 [==============================] - 7s 2ms/step\n",
      "/home/rick/Documents/HannahZ/Code/logs\n",
      " - Model specifics:\tbatch size: 64, mode: triangular2, stepsize: 315, base-lr: 1e-06, max-lr 0.0001, *3\n"
     ]
    },
    {
     "name": "stderr",
     "output_type": "stream",
     "text": [
      "/home/rick/.conda/envs/hannah_z/lib/python2.7/site-packages/keras/callbacks.py:120: UserWarning: Method on_batch_end() is slow compared to the batch update (0.148964). Check your callbacks.\n",
      "  % delta_t_median)\n"
     ]
    },
    {
     "name": "stdout",
     "output_type": "stream",
     "text": [
      "Time usage: 0:03:36 minutes\n",
      "374/374 [==============================] - 1s 2ms/step\n",
      "934/934 [==============================] - 2s 2ms/step\n",
      "3357/3357 [==============================] - 6s 2ms/step\n",
      " - Model specifics:\tbatch size: 64, mode: triangular2, stepsize: 315, base-lr: 1e-06, max-lr 0.0001, *3\n",
      "Time usage: 0:03:26 minutes\n",
      "374/374 [==============================] - 1s 2ms/step\n",
      "934/934 [==============================] - 2s 2ms/step\n",
      "3357/3357 [==============================] - 7s 2ms/step\n",
      "/home/rick/Documents/HannahZ/Code/logs\n",
      " - Model specifics:\tbatch size: 64, mode: triangular2, stepsize: 315, base-lr: 1e-06, max-lr 0.0001, *4\n"
     ]
    },
    {
     "name": "stderr",
     "output_type": "stream",
     "text": [
      "/home/rick/.conda/envs/hannah_z/lib/python2.7/site-packages/keras/callbacks.py:120: UserWarning: Method on_batch_end() is slow compared to the batch update (0.147093). Check your callbacks.\n",
      "  % delta_t_median)\n"
     ]
    },
    {
     "name": "stdout",
     "output_type": "stream",
     "text": [
      "Time usage: 0:03:34 minutes\n",
      "374/374 [==============================] - 1s 2ms/step\n",
      "934/934 [==============================] - 2s 2ms/step\n",
      "3357/3357 [==============================] - 6s 2ms/step\n",
      " - Model specifics:\tbatch size: 64, mode: triangular2, stepsize: 315, base-lr: 1e-06, max-lr 0.0001, *4\n",
      "Time usage: 0:03:23 minutes\n",
      "374/374 [==============================] - 1s 2ms/step\n",
      "934/934 [==============================] - 2s 2ms/step\n",
      "3357/3357 [==============================] - 7s 2ms/step\n",
      "/home/rick/Documents/HannahZ/Code/logs\n",
      "Time usage: 0:36:33 minutes\n",
      " - Model specifics:\tbatch size: 64, mode: triangular, stepsize: 420, base-lr: 1e-06, max-lr 0.0001, *0\n"
     ]
    },
    {
     "name": "stderr",
     "output_type": "stream",
     "text": [
      "/home/rick/.conda/envs/hannah_z/lib/python2.7/site-packages/keras/callbacks.py:120: UserWarning: Method on_batch_end() is slow compared to the batch update (0.159675). Check your callbacks.\n",
      "  % delta_t_median)\n"
     ]
    },
    {
     "name": "stdout",
     "output_type": "stream",
     "text": [
      "Time usage: 0:03:37 minutes\n",
      "374/374 [==============================] - 1s 2ms/step\n",
      "934/934 [==============================] - 2s 2ms/step\n",
      "3357/3357 [==============================] - 7s 2ms/step\n",
      " - Model specifics:\tbatch size: 64, mode: triangular, stepsize: 420, base-lr: 1e-06, max-lr 0.0001, *0\n",
      "Time usage: 0:03:22 minutes\n",
      "374/374 [==============================] - 1s 2ms/step\n",
      "934/934 [==============================] - 2s 2ms/step\n",
      "3357/3357 [==============================] - 7s 2ms/step\n",
      "/home/rick/Documents/HannahZ/Code/logs\n",
      " - Model specifics:\tbatch size: 64, mode: triangular, stepsize: 420, base-lr: 1e-06, max-lr 0.0001, *1\n"
     ]
    },
    {
     "name": "stderr",
     "output_type": "stream",
     "text": [
      "/home/rick/.conda/envs/hannah_z/lib/python2.7/site-packages/keras/callbacks.py:120: UserWarning: Method on_batch_end() is slow compared to the batch update (0.146761). Check your callbacks.\n",
      "  % delta_t_median)\n"
     ]
    },
    {
     "name": "stdout",
     "output_type": "stream",
     "text": [
      "Time usage: 0:03:38 minutes\n",
      "374/374 [==============================] - 1s 2ms/step\n",
      "934/934 [==============================] - 2s 2ms/step\n",
      "3357/3357 [==============================] - 6s 2ms/step\n",
      " - Model specifics:\tbatch size: 64, mode: triangular, stepsize: 420, base-lr: 1e-06, max-lr 0.0001, *1\n",
      "Time usage: 0:03:26 minutes\n",
      "374/374 [==============================] - 1s 2ms/step\n",
      "934/934 [==============================] - 2s 2ms/step\n",
      "3357/3357 [==============================] - 7s 2ms/step\n",
      "/home/rick/Documents/HannahZ/Code/logs\n",
      " - Model specifics:\tbatch size: 64, mode: triangular, stepsize: 420, base-lr: 1e-06, max-lr 0.0001, *2\n"
     ]
    },
    {
     "name": "stderr",
     "output_type": "stream",
     "text": [
      "/home/rick/.conda/envs/hannah_z/lib/python2.7/site-packages/keras/callbacks.py:120: UserWarning: Method on_batch_end() is slow compared to the batch update (0.142426). Check your callbacks.\n",
      "  % delta_t_median)\n"
     ]
    },
    {
     "name": "stdout",
     "output_type": "stream",
     "text": [
      "Time usage: 0:03:38 minutes\n",
      "374/374 [==============================] - 1s 2ms/step\n",
      "934/934 [==============================] - 2s 2ms/step\n",
      "3357/3357 [==============================] - 7s 2ms/step\n",
      " - Model specifics:\tbatch size: 64, mode: triangular, stepsize: 420, base-lr: 1e-06, max-lr 0.0001, *2\n",
      "Time usage: 0:03:27 minutes\n",
      "374/374 [==============================] - 1s 2ms/step\n",
      "934/934 [==============================] - 2s 2ms/step\n",
      "3357/3357 [==============================] - 6s 2ms/step\n",
      "/home/rick/Documents/HannahZ/Code/logs\n",
      " - Model specifics:\tbatch size: 64, mode: triangular, stepsize: 420, base-lr: 1e-06, max-lr 0.0001, *3\n"
     ]
    },
    {
     "name": "stderr",
     "output_type": "stream",
     "text": [
      "/home/rick/.conda/envs/hannah_z/lib/python2.7/site-packages/keras/callbacks.py:120: UserWarning: Method on_batch_end() is slow compared to the batch update (0.150489). Check your callbacks.\n",
      "  % delta_t_median)\n"
     ]
    },
    {
     "name": "stdout",
     "output_type": "stream",
     "text": [
      "Time usage: 0:03:34 minutes\n",
      "374/374 [==============================] - 1s 2ms/step\n",
      "934/934 [==============================] - 2s 2ms/step\n",
      "3357/3357 [==============================] - 7s 2ms/step\n",
      " - Model specifics:\tbatch size: 64, mode: triangular, stepsize: 420, base-lr: 1e-06, max-lr 0.0001, *3\n",
      "Time usage: 0:03:24 minutes\n",
      "374/374 [==============================] - 1s 2ms/step\n",
      "934/934 [==============================] - 2s 2ms/step\n",
      "3357/3357 [==============================] - 7s 2ms/step\n",
      "/home/rick/Documents/HannahZ/Code/logs\n",
      " - Model specifics:\tbatch size: 64, mode: triangular, stepsize: 420, base-lr: 1e-06, max-lr 0.0001, *4\n"
     ]
    },
    {
     "name": "stderr",
     "output_type": "stream",
     "text": [
      "/home/rick/.conda/envs/hannah_z/lib/python2.7/site-packages/keras/callbacks.py:120: UserWarning: Method on_batch_end() is slow compared to the batch update (0.147365). Check your callbacks.\n",
      "  % delta_t_median)\n"
     ]
    },
    {
     "name": "stdout",
     "output_type": "stream",
     "text": [
      "Time usage: 0:03:37 minutes\n",
      "374/374 [==============================] - 1s 2ms/step\n",
      "934/934 [==============================] - 2s 2ms/step\n",
      "3357/3357 [==============================] - 7s 2ms/step\n",
      " - Model specifics:\tbatch size: 64, mode: triangular, stepsize: 420, base-lr: 1e-06, max-lr 0.0001, *4\n",
      "Time usage: 0:03:27 minutes\n",
      "374/374 [==============================] - 1s 2ms/step\n",
      "934/934 [==============================] - 2s 2ms/step\n",
      "3357/3357 [==============================] - 7s 2ms/step\n",
      "/home/rick/Documents/HannahZ/Code/logs\n",
      "Time usage: 0:36:45 minutes\n",
      " - Model specifics:\tbatch size: 64, mode: triangular2, stepsize: 420, base-lr: 1e-06, max-lr 0.0001, *0\n"
     ]
    },
    {
     "name": "stderr",
     "output_type": "stream",
     "text": [
      "/home/rick/.conda/envs/hannah_z/lib/python2.7/site-packages/keras/callbacks.py:120: UserWarning: Method on_batch_end() is slow compared to the batch update (0.150169). Check your callbacks.\n",
      "  % delta_t_median)\n"
     ]
    },
    {
     "name": "stdout",
     "output_type": "stream",
     "text": [
      "Time usage: 0:03:36 minutes\n",
      "374/374 [==============================] - 1s 2ms/step\n",
      "934/934 [==============================] - 2s 2ms/step\n",
      "3357/3357 [==============================] - 7s 2ms/step\n",
      " - Model specifics:\tbatch size: 64, mode: triangular2, stepsize: 420, base-lr: 1e-06, max-lr 0.0001, *0\n",
      "Time usage: 0:03:25 minutes\n",
      "374/374 [==============================] - 1s 2ms/step\n",
      "934/934 [==============================] - 2s 2ms/step\n",
      "3357/3357 [==============================] - 7s 2ms/step\n",
      "/home/rick/Documents/HannahZ/Code/logs\n",
      " - Model specifics:\tbatch size: 64, mode: triangular2, stepsize: 420, base-lr: 1e-06, max-lr 0.0001, *1\n"
     ]
    },
    {
     "name": "stderr",
     "output_type": "stream",
     "text": [
      "/home/rick/.conda/envs/hannah_z/lib/python2.7/site-packages/keras/callbacks.py:120: UserWarning: Method on_batch_end() is slow compared to the batch update (0.151690). Check your callbacks.\n",
      "  % delta_t_median)\n"
     ]
    },
    {
     "name": "stdout",
     "output_type": "stream",
     "text": [
      "Time usage: 0:03:36 minutes\n",
      "374/374 [==============================] - 1s 2ms/step\n",
      "934/934 [==============================] - 2s 2ms/step\n",
      "3357/3357 [==============================] - 7s 2ms/step\n",
      " - Model specifics:\tbatch size: 64, mode: triangular2, stepsize: 420, base-lr: 1e-06, max-lr 0.0001, *1\n",
      "Time usage: 0:03:25 minutes\n",
      "374/374 [==============================] - 1s 2ms/step\n",
      "934/934 [==============================] - 2s 2ms/step\n",
      "3357/3357 [==============================] - 7s 2ms/step\n",
      "/home/rick/Documents/HannahZ/Code/logs\n",
      " - Model specifics:\tbatch size: 64, mode: triangular2, stepsize: 420, base-lr: 1e-06, max-lr 0.0001, *2\n"
     ]
    },
    {
     "name": "stderr",
     "output_type": "stream",
     "text": [
      "/home/rick/.conda/envs/hannah_z/lib/python2.7/site-packages/keras/callbacks.py:120: UserWarning: Method on_batch_end() is slow compared to the batch update (0.146104). Check your callbacks.\n",
      "  % delta_t_median)\n"
     ]
    },
    {
     "name": "stdout",
     "output_type": "stream",
     "text": [
      "Time usage: 0:03:38 minutes\n",
      "374/374 [==============================] - 1s 2ms/step\n",
      "934/934 [==============================] - 2s 2ms/step\n",
      "3357/3357 [==============================] - 7s 2ms/step\n",
      " - Model specifics:\tbatch size: 64, mode: triangular2, stepsize: 420, base-lr: 1e-06, max-lr 0.0001, *2\n",
      "Time usage: 0:03:27 minutes\n",
      "374/374 [==============================] - 1s 2ms/step\n",
      "934/934 [==============================] - 2s 2ms/step\n",
      "3357/3357 [==============================] - 7s 2ms/step\n",
      "/home/rick/Documents/HannahZ/Code/logs\n",
      " - Model specifics:\tbatch size: 64, mode: triangular2, stepsize: 420, base-lr: 1e-06, max-lr 0.0001, *3\n"
     ]
    },
    {
     "name": "stderr",
     "output_type": "stream",
     "text": [
      "/home/rick/.conda/envs/hannah_z/lib/python2.7/site-packages/keras/callbacks.py:120: UserWarning: Method on_batch_end() is slow compared to the batch update (0.268391). Check your callbacks.\n",
      "  % delta_t_median)\n"
     ]
    },
    {
     "name": "stdout",
     "output_type": "stream",
     "text": [
      "Time usage: 0:03:42 minutes\n",
      "374/374 [==============================] - 1s 2ms/step\n",
      "934/934 [==============================] - 2s 2ms/step\n",
      "3357/3357 [==============================] - 7s 2ms/step\n",
      " - Model specifics:\tbatch size: 64, mode: triangular2, stepsize: 420, base-lr: 1e-06, max-lr 0.0001, *3\n",
      "Time usage: 0:03:28 minutes\n",
      "374/374 [==============================] - 1s 2ms/step\n",
      "934/934 [==============================] - 2s 2ms/step\n",
      "3357/3357 [==============================] - 7s 2ms/step\n",
      "/home/rick/Documents/HannahZ/Code/logs\n",
      " - Model specifics:\tbatch size: 64, mode: triangular2, stepsize: 420, base-lr: 1e-06, max-lr 0.0001, *4\n"
     ]
    },
    {
     "name": "stderr",
     "output_type": "stream",
     "text": [
      "/home/rick/.conda/envs/hannah_z/lib/python2.7/site-packages/keras/callbacks.py:120: UserWarning: Method on_batch_end() is slow compared to the batch update (0.208318). Check your callbacks.\n",
      "  % delta_t_median)\n"
     ]
    },
    {
     "name": "stdout",
     "output_type": "stream",
     "text": [
      "Time usage: 0:03:37 minutes\n",
      "374/374 [==============================] - 1s 2ms/step\n",
      "934/934 [==============================] - 2s 2ms/step\n",
      "3357/3357 [==============================] - 6s 2ms/step\n",
      " - Model specifics:\tbatch size: 64, mode: triangular2, stepsize: 420, base-lr: 1e-06, max-lr 0.0001, *4\n",
      "Time usage: 0:03:24 minutes\n",
      "374/374 [==============================] - 1s 2ms/step\n",
      "934/934 [==============================] - 2s 2ms/step\n",
      "3357/3357 [==============================] - 6s 2ms/step\n",
      "/home/rick/Documents/HannahZ/Code/logs\n",
      "Time usage: 0:36:54 minutes\n",
      " - Model specifics:\tbatch size: 64, mode: triangular, stepsize: 525, base-lr: 1e-06, max-lr 0.0001, *0\n"
     ]
    },
    {
     "name": "stderr",
     "output_type": "stream",
     "text": [
      "/home/rick/.conda/envs/hannah_z/lib/python2.7/site-packages/keras/callbacks.py:120: UserWarning: Method on_batch_end() is slow compared to the batch update (0.181908). Check your callbacks.\n",
      "  % delta_t_median)\n"
     ]
    },
    {
     "name": "stdout",
     "output_type": "stream",
     "text": [
      "Time usage: 0:03:40 minutes\n",
      "374/374 [==============================] - 1s 2ms/step\n",
      "934/934 [==============================] - 2s 2ms/step\n",
      "3357/3357 [==============================] - 6s 2ms/step\n",
      " - Model specifics:\tbatch size: 64, mode: triangular, stepsize: 525, base-lr: 1e-06, max-lr 0.0001, *0\n",
      "Time usage: 0:03:21 minutes\n",
      "374/374 [==============================] - 1s 2ms/step\n",
      "934/934 [==============================] - 2s 2ms/step\n",
      "3357/3357 [==============================] - 6s 2ms/step\n",
      "/home/rick/Documents/HannahZ/Code/logs\n",
      " - Model specifics:\tbatch size: 64, mode: triangular, stepsize: 525, base-lr: 1e-06, max-lr 0.0001, *1\n"
     ]
    },
    {
     "name": "stderr",
     "output_type": "stream",
     "text": [
      "/home/rick/.conda/envs/hannah_z/lib/python2.7/site-packages/keras/callbacks.py:120: UserWarning: Method on_batch_end() is slow compared to the batch update (0.180516). Check your callbacks.\n",
      "  % delta_t_median)\n"
     ]
    },
    {
     "name": "stdout",
     "output_type": "stream",
     "text": [
      "Time usage: 0:03:33 minutes\n",
      "374/374 [==============================] - 1s 2ms/step\n",
      "934/934 [==============================] - 2s 2ms/step\n",
      "3357/3357 [==============================] - 6s 2ms/step\n",
      " - Model specifics:\tbatch size: 64, mode: triangular, stepsize: 525, base-lr: 1e-06, max-lr 0.0001, *1\n",
      "Time usage: 0:03:21 minutes\n",
      "374/374 [==============================] - 1s 2ms/step\n",
      "934/934 [==============================] - 2s 2ms/step\n",
      "3357/3357 [==============================] - 6s 2ms/step\n",
      "/home/rick/Documents/HannahZ/Code/logs\n",
      " - Model specifics:\tbatch size: 64, mode: triangular, stepsize: 525, base-lr: 1e-06, max-lr 0.0001, *2\n"
     ]
    },
    {
     "name": "stderr",
     "output_type": "stream",
     "text": [
      "/home/rick/.conda/envs/hannah_z/lib/python2.7/site-packages/keras/callbacks.py:120: UserWarning: Method on_batch_end() is slow compared to the batch update (0.188255). Check your callbacks.\n",
      "  % delta_t_median)\n"
     ]
    },
    {
     "name": "stdout",
     "output_type": "stream",
     "text": [
      "Time usage: 0:03:38 minutes\n",
      "374/374 [==============================] - 1s 2ms/step\n",
      "934/934 [==============================] - 2s 2ms/step\n",
      "3357/3357 [==============================] - 6s 2ms/step\n",
      " - Model specifics:\tbatch size: 64, mode: triangular, stepsize: 525, base-lr: 1e-06, max-lr 0.0001, *2\n",
      "Time usage: 0:03:24 minutes\n",
      "374/374 [==============================] - 1s 2ms/step\n",
      "934/934 [==============================] - 2s 2ms/step\n",
      "3357/3357 [==============================] - 6s 2ms/step\n",
      "/home/rick/Documents/HannahZ/Code/logs\n",
      " - Model specifics:\tbatch size: 64, mode: triangular, stepsize: 525, base-lr: 1e-06, max-lr 0.0001, *3\n"
     ]
    },
    {
     "name": "stderr",
     "output_type": "stream",
     "text": [
      "/home/rick/.conda/envs/hannah_z/lib/python2.7/site-packages/keras/callbacks.py:120: UserWarning: Method on_batch_end() is slow compared to the batch update (0.177647). Check your callbacks.\n",
      "  % delta_t_median)\n"
     ]
    },
    {
     "name": "stdout",
     "output_type": "stream",
     "text": [
      "Time usage: 0:03:37 minutes\n",
      "374/374 [==============================] - 1s 2ms/step\n",
      "934/934 [==============================] - 2s 2ms/step\n",
      "3357/3357 [==============================] - 6s 2ms/step\n",
      " - Model specifics:\tbatch size: 64, mode: triangular, stepsize: 525, base-lr: 1e-06, max-lr 0.0001, *3\n",
      "Time usage: 0:03:21 minutes\n",
      "374/374 [==============================] - 1s 2ms/step\n",
      "934/934 [==============================] - 2s 2ms/step\n",
      "3357/3357 [==============================] - 6s 2ms/step\n",
      "/home/rick/Documents/HannahZ/Code/logs\n",
      " - Model specifics:\tbatch size: 64, mode: triangular, stepsize: 525, base-lr: 1e-06, max-lr 0.0001, *4\n"
     ]
    },
    {
     "name": "stderr",
     "output_type": "stream",
     "text": [
      "/home/rick/.conda/envs/hannah_z/lib/python2.7/site-packages/keras/callbacks.py:120: UserWarning: Method on_batch_end() is slow compared to the batch update (0.178694). Check your callbacks.\n",
      "  % delta_t_median)\n"
     ]
    },
    {
     "name": "stdout",
     "output_type": "stream",
     "text": [
      "Time usage: 0:03:33 minutes\n",
      "374/374 [==============================] - 1s 2ms/step\n",
      "934/934 [==============================] - 2s 2ms/step\n",
      "3357/3357 [==============================] - 6s 2ms/step\n",
      " - Model specifics:\tbatch size: 64, mode: triangular, stepsize: 525, base-lr: 1e-06, max-lr 0.0001, *4\n",
      "Time usage: 0:03:24 minutes\n",
      "374/374 [==============================] - 1s 2ms/step\n",
      "934/934 [==============================] - 2s 2ms/step\n",
      "3357/3357 [==============================] - 6s 2ms/step\n",
      "/home/rick/Documents/HannahZ/Code/logs\n",
      "Time usage: 0:36:20 minutes\n",
      " - Model specifics:\tbatch size: 64, mode: triangular2, stepsize: 525, base-lr: 1e-06, max-lr 0.0001, *0\n"
     ]
    },
    {
     "name": "stderr",
     "output_type": "stream",
     "text": [
      "/home/rick/.conda/envs/hannah_z/lib/python2.7/site-packages/keras/callbacks.py:120: UserWarning: Method on_batch_end() is slow compared to the batch update (0.197917). Check your callbacks.\n",
      "  % delta_t_median)\n"
     ]
    },
    {
     "name": "stdout",
     "output_type": "stream",
     "text": [
      "Time usage: 0:03:40 minutes\n",
      "374/374 [==============================] - 1s 2ms/step\n",
      "934/934 [==============================] - 2s 2ms/step\n",
      "3357/3357 [==============================] - 6s 2ms/step\n",
      " - Model specifics:\tbatch size: 64, mode: triangular2, stepsize: 525, base-lr: 1e-06, max-lr 0.0001, *0\n",
      "Time usage: 0:03:25 minutes\n",
      "374/374 [==============================] - 1s 2ms/step\n",
      "934/934 [==============================] - 2s 2ms/step\n",
      "3357/3357 [==============================] - 6s 2ms/step\n",
      "/home/rick/Documents/HannahZ/Code/logs\n",
      " - Model specifics:\tbatch size: 64, mode: triangular2, stepsize: 525, base-lr: 1e-06, max-lr 0.0001, *1\n"
     ]
    },
    {
     "name": "stderr",
     "output_type": "stream",
     "text": [
      "/home/rick/.conda/envs/hannah_z/lib/python2.7/site-packages/keras/callbacks.py:120: UserWarning: Method on_batch_end() is slow compared to the batch update (0.184788). Check your callbacks.\n",
      "  % delta_t_median)\n"
     ]
    },
    {
     "name": "stdout",
     "output_type": "stream",
     "text": [
      "Time usage: 0:03:37 minutes\n",
      "374/374 [==============================] - 1s 2ms/step\n",
      "934/934 [==============================] - 2s 2ms/step\n",
      "3357/3357 [==============================] - 6s 2ms/step\n",
      " - Model specifics:\tbatch size: 64, mode: triangular2, stepsize: 525, base-lr: 1e-06, max-lr 0.0001, *1\n",
      "Time usage: 0:03:24 minutes\n",
      "374/374 [==============================] - 1s 2ms/step\n",
      "934/934 [==============================] - 2s 2ms/step\n",
      "3357/3357 [==============================] - 6s 2ms/step\n",
      "/home/rick/Documents/HannahZ/Code/logs\n",
      " - Model specifics:\tbatch size: 64, mode: triangular2, stepsize: 525, base-lr: 1e-06, max-lr 0.0001, *2\n"
     ]
    },
    {
     "name": "stderr",
     "output_type": "stream",
     "text": [
      "/home/rick/.conda/envs/hannah_z/lib/python2.7/site-packages/keras/callbacks.py:120: UserWarning: Method on_batch_end() is slow compared to the batch update (0.186049). Check your callbacks.\n",
      "  % delta_t_median)\n"
     ]
    },
    {
     "name": "stdout",
     "output_type": "stream",
     "text": [
      "Time usage: 0:03:38 minutes\n",
      "374/374 [==============================] - 1s 2ms/step\n",
      "934/934 [==============================] - 2s 2ms/step\n",
      "3357/3357 [==============================] - 6s 2ms/step\n",
      " - Model specifics:\tbatch size: 64, mode: triangular2, stepsize: 525, base-lr: 1e-06, max-lr 0.0001, *2\n",
      "Time usage: 0:03:21 minutes\n",
      "374/374 [==============================] - 1s 2ms/step\n",
      "934/934 [==============================] - 2s 2ms/step\n",
      "3357/3357 [==============================] - 6s 2ms/step\n",
      "/home/rick/Documents/HannahZ/Code/logs\n",
      " - Model specifics:\tbatch size: 64, mode: triangular2, stepsize: 525, base-lr: 1e-06, max-lr 0.0001, *3\n"
     ]
    },
    {
     "name": "stderr",
     "output_type": "stream",
     "text": [
      "/home/rick/.conda/envs/hannah_z/lib/python2.7/site-packages/keras/callbacks.py:120: UserWarning: Method on_batch_end() is slow compared to the batch update (0.178529). Check your callbacks.\n",
      "  % delta_t_median)\n"
     ]
    },
    {
     "name": "stdout",
     "output_type": "stream",
     "text": [
      "Time usage: 0:03:33 minutes\n",
      "374/374 [==============================] - 1s 2ms/step\n",
      "934/934 [==============================] - 2s 2ms/step\n",
      "3357/3357 [==============================] - 6s 2ms/step\n",
      " - Model specifics:\tbatch size: 64, mode: triangular2, stepsize: 525, base-lr: 1e-06, max-lr 0.0001, *3\n",
      "Time usage: 0:03:21 minutes\n",
      "374/374 [==============================] - 1s 2ms/step\n",
      "934/934 [==============================] - 2s 2ms/step\n",
      "3357/3357 [==============================] - 6s 2ms/step\n",
      "/home/rick/Documents/HannahZ/Code/logs\n",
      " - Model specifics:\tbatch size: 64, mode: triangular2, stepsize: 525, base-lr: 1e-06, max-lr 0.0001, *4\n"
     ]
    },
    {
     "name": "stderr",
     "output_type": "stream",
     "text": [
      "/home/rick/.conda/envs/hannah_z/lib/python2.7/site-packages/keras/callbacks.py:120: UserWarning: Method on_batch_end() is slow compared to the batch update (0.177279). Check your callbacks.\n",
      "  % delta_t_median)\n"
     ]
    },
    {
     "name": "stdout",
     "output_type": "stream",
     "text": [
      "Time usage: 0:03:33 minutes\n",
      "374/374 [==============================] - 1s 2ms/step\n",
      "934/934 [==============================] - 2s 2ms/step\n",
      "3357/3357 [==============================] - 6s 2ms/step\n",
      " - Model specifics:\tbatch size: 64, mode: triangular2, stepsize: 525, base-lr: 1e-06, max-lr 0.0001, *4\n",
      "Time usage: 0:03:20 minutes\n",
      "374/374 [==============================] - 1s 2ms/step\n",
      "934/934 [==============================] - 2s 2ms/step\n",
      "3357/3357 [==============================] - 6s 2ms/step\n",
      "/home/rick/Documents/HannahZ/Code/logs\n",
      "Time usage: 0:36:21 minutes\n",
      " - Model specifics:\tbatch size: 128, mode: triangular, stepsize: 157, base-lr: 1e-06, max-lr 0.0001, *0\n"
     ]
    },
    {
     "name": "stderr",
     "output_type": "stream",
     "text": [
      "/home/rick/.conda/envs/hannah_z/lib/python2.7/site-packages/keras/callbacks.py:120: UserWarning: Method on_batch_end() is slow compared to the batch update (0.180415). Check your callbacks.\n",
      "  % delta_t_median)\n"
     ]
    },
    {
     "name": "stdout",
     "output_type": "stream",
     "text": [
      "Time usage: 0:02:37 minutes\n",
      "374/374 [==============================] - 1s 2ms/step\n",
      "934/934 [==============================] - 2s 2ms/step\n",
      "3357/3357 [==============================] - 6s 2ms/step\n",
      " - Model specifics:\tbatch size: 128, mode: triangular, stepsize: 157, base-lr: 1e-06, max-lr 0.0001, *0\n",
      "Time usage: 0:02:25 minutes\n",
      "374/374 [==============================] - 1s 2ms/step\n",
      "934/934 [==============================] - 2s 2ms/step\n",
      "3357/3357 [==============================] - 6s 2ms/step\n",
      "/home/rick/Documents/HannahZ/Code/logs\n",
      " - Model specifics:\tbatch size: 128, mode: triangular, stepsize: 157, base-lr: 1e-06, max-lr 0.0001, *1\n"
     ]
    },
    {
     "name": "stderr",
     "output_type": "stream",
     "text": [
      "/home/rick/.conda/envs/hannah_z/lib/python2.7/site-packages/keras/callbacks.py:120: UserWarning: Method on_batch_end() is slow compared to the batch update (0.183605). Check your callbacks.\n",
      "  % delta_t_median)\n"
     ]
    },
    {
     "name": "stdout",
     "output_type": "stream",
     "text": [
      "Time usage: 0:02:35 minutes\n",
      "374/374 [==============================] - 1s 2ms/step\n",
      "934/934 [==============================] - 2s 2ms/step\n",
      "3357/3357 [==============================] - 6s 2ms/step\n",
      " - Model specifics:\tbatch size: 128, mode: triangular, stepsize: 157, base-lr: 1e-06, max-lr 0.0001, *1\n",
      "Time usage: 0:02:23 minutes\n",
      "374/374 [==============================] - 1s 2ms/step\n",
      "934/934 [==============================] - 2s 2ms/step\n",
      "3357/3357 [==============================] - 6s 2ms/step\n",
      "/home/rick/Documents/HannahZ/Code/logs\n",
      " - Model specifics:\tbatch size: 128, mode: triangular, stepsize: 157, base-lr: 1e-06, max-lr 0.0001, *2\n"
     ]
    },
    {
     "name": "stderr",
     "output_type": "stream",
     "text": [
      "/home/rick/.conda/envs/hannah_z/lib/python2.7/site-packages/keras/callbacks.py:120: UserWarning: Method on_batch_end() is slow compared to the batch update (0.180849). Check your callbacks.\n",
      "  % delta_t_median)\n"
     ]
    },
    {
     "name": "stdout",
     "output_type": "stream",
     "text": [
      "Time usage: 0:02:35 minutes\n",
      "374/374 [==============================] - 1s 2ms/step\n",
      "934/934 [==============================] - 2s 2ms/step\n",
      "3357/3357 [==============================] - 6s 2ms/step\n",
      " - Model specifics:\tbatch size: 128, mode: triangular, stepsize: 157, base-lr: 1e-06, max-lr 0.0001, *2\n",
      "Time usage: 0:02:23 minutes\n",
      "374/374 [==============================] - 1s 2ms/step\n",
      "934/934 [==============================] - 2s 2ms/step\n",
      "3357/3357 [==============================] - 6s 2ms/step\n",
      "/home/rick/Documents/HannahZ/Code/logs\n",
      " - Model specifics:\tbatch size: 128, mode: triangular, stepsize: 157, base-lr: 1e-06, max-lr 0.0001, *3\n"
     ]
    },
    {
     "name": "stderr",
     "output_type": "stream",
     "text": [
      "/home/rick/.conda/envs/hannah_z/lib/python2.7/site-packages/keras/callbacks.py:120: UserWarning: Method on_batch_end() is slow compared to the batch update (0.176367). Check your callbacks.\n",
      "  % delta_t_median)\n"
     ]
    },
    {
     "name": "stdout",
     "output_type": "stream",
     "text": [
      "Time usage: 0:02:35 minutes\n",
      "374/374 [==============================] - 1s 2ms/step\n",
      "934/934 [==============================] - 2s 2ms/step\n",
      "3357/3357 [==============================] - 6s 2ms/step\n",
      " - Model specifics:\tbatch size: 128, mode: triangular, stepsize: 157, base-lr: 1e-06, max-lr 0.0001, *3\n",
      "Time usage: 0:02:23 minutes\n",
      "374/374 [==============================] - 1s 2ms/step\n",
      "934/934 [==============================] - 2s 2ms/step\n",
      "3357/3357 [==============================] - 6s 2ms/step\n",
      "/home/rick/Documents/HannahZ/Code/logs\n",
      " - Model specifics:\tbatch size: 128, mode: triangular, stepsize: 157, base-lr: 1e-06, max-lr 0.0001, *4\n"
     ]
    },
    {
     "name": "stderr",
     "output_type": "stream",
     "text": [
      "/home/rick/.conda/envs/hannah_z/lib/python2.7/site-packages/keras/callbacks.py:120: UserWarning: Method on_batch_end() is slow compared to the batch update (0.179264). Check your callbacks.\n",
      "  % delta_t_median)\n"
     ]
    },
    {
     "name": "stdout",
     "output_type": "stream",
     "text": [
      "Time usage: 0:02:36 minutes\n",
      "374/374 [==============================] - 1s 2ms/step\n",
      "934/934 [==============================] - 2s 2ms/step\n",
      "3357/3357 [==============================] - 6s 2ms/step\n",
      " - Model specifics:\tbatch size: 128, mode: triangular, stepsize: 157, base-lr: 1e-06, max-lr 0.0001, *4\n",
      "Time usage: 0:02:25 minutes\n",
      "374/374 [==============================] - 1s 2ms/step\n",
      "934/934 [==============================] - 2s 2ms/step\n",
      "3357/3357 [==============================] - 6s 2ms/step\n",
      "/home/rick/Documents/HannahZ/Code/logs\n",
      "Time usage: 0:26:27 minutes\n",
      " - Model specifics:\tbatch size: 128, mode: triangular2, stepsize: 157, base-lr: 1e-06, max-lr 0.0001, *0\n"
     ]
    },
    {
     "name": "stderr",
     "output_type": "stream",
     "text": [
      "/home/rick/.conda/envs/hannah_z/lib/python2.7/site-packages/keras/callbacks.py:120: UserWarning: Method on_batch_end() is slow compared to the batch update (0.179772). Check your callbacks.\n",
      "  % delta_t_median)\n"
     ]
    },
    {
     "name": "stdout",
     "output_type": "stream",
     "text": [
      "Time usage: 0:02:38 minutes\n",
      "374/374 [==============================] - 1s 2ms/step\n",
      "934/934 [==============================] - 2s 2ms/step\n",
      "3357/3357 [==============================] - 6s 2ms/step\n",
      " - Model specifics:\tbatch size: 128, mode: triangular2, stepsize: 157, base-lr: 1e-06, max-lr 0.0001, *0\n",
      "Time usage: 0:02:24 minutes\n",
      "374/374 [==============================] - 1s 2ms/step\n",
      "934/934 [==============================] - 2s 2ms/step\n",
      "3357/3357 [==============================] - 6s 2ms/step\n",
      "/home/rick/Documents/HannahZ/Code/logs\n",
      " - Model specifics:\tbatch size: 128, mode: triangular2, stepsize: 157, base-lr: 1e-06, max-lr 0.0001, *1\n"
     ]
    },
    {
     "name": "stderr",
     "output_type": "stream",
     "text": [
      "/home/rick/.conda/envs/hannah_z/lib/python2.7/site-packages/keras/callbacks.py:120: UserWarning: Method on_batch_end() is slow compared to the batch update (0.179588). Check your callbacks.\n",
      "  % delta_t_median)\n"
     ]
    },
    {
     "name": "stdout",
     "output_type": "stream",
     "text": [
      "Time usage: 0:02:36 minutes\n",
      "374/374 [==============================] - 1s 2ms/step\n",
      "934/934 [==============================] - 2s 2ms/step\n",
      "3357/3357 [==============================] - 6s 2ms/step\n",
      " - Model specifics:\tbatch size: 128, mode: triangular2, stepsize: 157, base-lr: 1e-06, max-lr 0.0001, *1\n",
      "Time usage: 0:02:23 minutes\n",
      "374/374 [==============================] - 1s 2ms/step\n",
      "934/934 [==============================] - 2s 2ms/step\n",
      "3357/3357 [==============================] - 6s 2ms/step\n",
      "/home/rick/Documents/HannahZ/Code/logs\n",
      " - Model specifics:\tbatch size: 128, mode: triangular2, stepsize: 157, base-lr: 1e-06, max-lr 0.0001, *2\n"
     ]
    },
    {
     "name": "stderr",
     "output_type": "stream",
     "text": [
      "/home/rick/.conda/envs/hannah_z/lib/python2.7/site-packages/keras/callbacks.py:120: UserWarning: Method on_batch_end() is slow compared to the batch update (0.181504). Check your callbacks.\n",
      "  % delta_t_median)\n"
     ]
    },
    {
     "name": "stdout",
     "output_type": "stream",
     "text": [
      "Time usage: 0:02:35 minutes\n",
      "374/374 [==============================] - 1s 2ms/step\n",
      "934/934 [==============================] - 2s 2ms/step\n",
      "3357/3357 [==============================] - 6s 2ms/step\n",
      " - Model specifics:\tbatch size: 128, mode: triangular2, stepsize: 157, base-lr: 1e-06, max-lr 0.0001, *2\n",
      "Time usage: 0:02:23 minutes\n",
      "374/374 [==============================] - 1s 2ms/step\n",
      "934/934 [==============================] - 2s 2ms/step\n",
      "3357/3357 [==============================] - 6s 2ms/step\n",
      "/home/rick/Documents/HannahZ/Code/logs\n",
      " - Model specifics:\tbatch size: 128, mode: triangular2, stepsize: 157, base-lr: 1e-06, max-lr 0.0001, *3\n"
     ]
    },
    {
     "name": "stderr",
     "output_type": "stream",
     "text": [
      "/home/rick/.conda/envs/hannah_z/lib/python2.7/site-packages/keras/callbacks.py:120: UserWarning: Method on_batch_end() is slow compared to the batch update (0.182878). Check your callbacks.\n",
      "  % delta_t_median)\n"
     ]
    },
    {
     "name": "stdout",
     "output_type": "stream",
     "text": [
      "Time usage: 0:02:37 minutes\n",
      "374/374 [==============================] - 1s 2ms/step\n",
      "934/934 [==============================] - 2s 2ms/step\n",
      "3357/3357 [==============================] - 6s 2ms/step\n",
      " - Model specifics:\tbatch size: 128, mode: triangular2, stepsize: 157, base-lr: 1e-06, max-lr 0.0001, *3\n",
      "Time usage: 0:02:23 minutes\n",
      "374/374 [==============================] - 1s 2ms/step\n",
      "934/934 [==============================] - 2s 2ms/step\n",
      "3357/3357 [==============================] - 6s 2ms/step\n",
      "/home/rick/Documents/HannahZ/Code/logs\n",
      " - Model specifics:\tbatch size: 128, mode: triangular2, stepsize: 157, base-lr: 1e-06, max-lr 0.0001, *4\n"
     ]
    },
    {
     "name": "stderr",
     "output_type": "stream",
     "text": [
      "/home/rick/.conda/envs/hannah_z/lib/python2.7/site-packages/keras/callbacks.py:120: UserWarning: Method on_batch_end() is slow compared to the batch update (0.181816). Check your callbacks.\n",
      "  % delta_t_median)\n"
     ]
    },
    {
     "name": "stdout",
     "output_type": "stream",
     "text": [
      "Time usage: 0:02:35 minutes\n",
      "374/374 [==============================] - 1s 2ms/step\n",
      "934/934 [==============================] - 2s 2ms/step\n",
      "3357/3357 [==============================] - 6s 2ms/step\n",
      " - Model specifics:\tbatch size: 128, mode: triangular2, stepsize: 157, base-lr: 1e-06, max-lr 0.0001, *4\n",
      "Time usage: 0:02:24 minutes\n",
      "374/374 [==============================] - 1s 2ms/step\n",
      "934/934 [==============================] - 2s 2ms/step\n",
      "3357/3357 [==============================] - 6s 2ms/step\n",
      "/home/rick/Documents/HannahZ/Code/logs\n",
      "Time usage: 0:26:27 minutes\n",
      " - Model specifics:\tbatch size: 128, mode: triangular, stepsize: 210, base-lr: 1e-06, max-lr 0.0001, *0\n"
     ]
    },
    {
     "name": "stderr",
     "output_type": "stream",
     "text": [
      "/home/rick/.conda/envs/hannah_z/lib/python2.7/site-packages/keras/callbacks.py:120: UserWarning: Method on_batch_end() is slow compared to the batch update (0.183775). Check your callbacks.\n",
      "  % delta_t_median)\n"
     ]
    },
    {
     "name": "stdout",
     "output_type": "stream",
     "text": [
      "Time usage: 0:02:40 minutes\n",
      "374/374 [==============================] - 1s 2ms/step\n",
      "934/934 [==============================] - 2s 2ms/step\n",
      "3357/3357 [==============================] - 6s 2ms/step\n",
      " - Model specifics:\tbatch size: 128, mode: triangular, stepsize: 210, base-lr: 1e-06, max-lr 0.0001, *0\n",
      "Time usage: 0:02:25 minutes\n",
      "374/374 [==============================] - 1s 2ms/step\n",
      "934/934 [==============================] - 2s 2ms/step\n",
      "3357/3357 [==============================] - 6s 2ms/step\n",
      "/home/rick/Documents/HannahZ/Code/logs\n",
      " - Model specifics:\tbatch size: 128, mode: triangular, stepsize: 210, base-lr: 1e-06, max-lr 0.0001, *1\n"
     ]
    },
    {
     "name": "stderr",
     "output_type": "stream",
     "text": [
      "/home/rick/.conda/envs/hannah_z/lib/python2.7/site-packages/keras/callbacks.py:120: UserWarning: Method on_batch_end() is slow compared to the batch update (0.186000). Check your callbacks.\n",
      "  % delta_t_median)\n"
     ]
    },
    {
     "name": "stdout",
     "output_type": "stream",
     "text": [
      "Time usage: 0:02:38 minutes\n",
      "374/374 [==============================] - 1s 2ms/step\n",
      "934/934 [==============================] - 2s 2ms/step\n",
      "3357/3357 [==============================] - 6s 2ms/step\n",
      " - Model specifics:\tbatch size: 128, mode: triangular, stepsize: 210, base-lr: 1e-06, max-lr 0.0001, *1\n",
      "Time usage: 0:02:27 minutes\n",
      "374/374 [==============================] - 1s 2ms/step\n",
      "934/934 [==============================] - 2s 2ms/step\n",
      "3357/3357 [==============================] - 6s 2ms/step\n",
      "/home/rick/Documents/HannahZ/Code/logs\n",
      " - Model specifics:\tbatch size: 128, mode: triangular, stepsize: 210, base-lr: 1e-06, max-lr 0.0001, *2\n"
     ]
    },
    {
     "name": "stderr",
     "output_type": "stream",
     "text": [
      "/home/rick/.conda/envs/hannah_z/lib/python2.7/site-packages/keras/callbacks.py:120: UserWarning: Method on_batch_end() is slow compared to the batch update (0.182974). Check your callbacks.\n",
      "  % delta_t_median)\n"
     ]
    },
    {
     "name": "stdout",
     "output_type": "stream",
     "text": [
      "Time usage: 0:02:36 minutes\n",
      "374/374 [==============================] - 1s 2ms/step\n",
      "934/934 [==============================] - 2s 2ms/step\n",
      "3357/3357 [==============================] - 6s 2ms/step\n",
      " - Model specifics:\tbatch size: 128, mode: triangular, stepsize: 210, base-lr: 1e-06, max-lr 0.0001, *2\n",
      "Time usage: 0:02:23 minutes\n",
      "374/374 [==============================] - 1s 2ms/step\n",
      "934/934 [==============================] - 2s 2ms/step\n",
      "3357/3357 [==============================] - 6s 2ms/step\n",
      "/home/rick/Documents/HannahZ/Code/logs\n",
      " - Model specifics:\tbatch size: 128, mode: triangular, stepsize: 210, base-lr: 1e-06, max-lr 0.0001, *3\n"
     ]
    },
    {
     "name": "stderr",
     "output_type": "stream",
     "text": [
      "/home/rick/.conda/envs/hannah_z/lib/python2.7/site-packages/keras/callbacks.py:120: UserWarning: Method on_batch_end() is slow compared to the batch update (0.185059). Check your callbacks.\n",
      "  % delta_t_median)\n"
     ]
    },
    {
     "name": "stdout",
     "output_type": "stream",
     "text": [
      "Time usage: 0:02:38 minutes\n",
      "374/374 [==============================] - 1s 2ms/step\n",
      "934/934 [==============================] - 2s 2ms/step\n",
      "3357/3357 [==============================] - 6s 2ms/step\n",
      " - Model specifics:\tbatch size: 128, mode: triangular, stepsize: 210, base-lr: 1e-06, max-lr 0.0001, *3\n",
      "Time usage: 0:02:25 minutes\n",
      "374/374 [==============================] - 1s 2ms/step\n",
      "934/934 [==============================] - 2s 2ms/step\n",
      "3357/3357 [==============================] - 6s 2ms/step\n",
      "/home/rick/Documents/HannahZ/Code/logs\n",
      " - Model specifics:\tbatch size: 128, mode: triangular, stepsize: 210, base-lr: 1e-06, max-lr 0.0001, *4\n"
     ]
    },
    {
     "name": "stderr",
     "output_type": "stream",
     "text": [
      "/home/rick/.conda/envs/hannah_z/lib/python2.7/site-packages/keras/callbacks.py:120: UserWarning: Method on_batch_end() is slow compared to the batch update (0.182762). Check your callbacks.\n",
      "  % delta_t_median)\n"
     ]
    },
    {
     "name": "stdout",
     "output_type": "stream",
     "text": [
      "Time usage: 0:02:36 minutes\n",
      "374/374 [==============================] - 1s 2ms/step\n",
      "934/934 [==============================] - 2s 2ms/step\n",
      "3357/3357 [==============================] - 6s 2ms/step\n",
      " - Model specifics:\tbatch size: 128, mode: triangular, stepsize: 210, base-lr: 1e-06, max-lr 0.0001, *4\n",
      "Time usage: 0:02:23 minutes\n",
      "374/374 [==============================] - 1s 2ms/step\n",
      "934/934 [==============================] - 2s 2ms/step\n",
      "3357/3357 [==============================] - 6s 2ms/step\n",
      "/home/rick/Documents/HannahZ/Code/logs\n",
      "Time usage: 0:26:39 minutes\n",
      " - Model specifics:\tbatch size: 128, mode: triangular2, stepsize: 210, base-lr: 1e-06, max-lr 0.0001, *0\n"
     ]
    },
    {
     "name": "stderr",
     "output_type": "stream",
     "text": [
      "/home/rick/.conda/envs/hannah_z/lib/python2.7/site-packages/keras/callbacks.py:120: UserWarning: Method on_batch_end() is slow compared to the batch update (0.185345). Check your callbacks.\n",
      "  % delta_t_median)\n"
     ]
    },
    {
     "name": "stdout",
     "output_type": "stream",
     "text": [
      "Time usage: 0:02:39 minutes\n",
      "374/374 [==============================] - 1s 2ms/step\n",
      "934/934 [==============================] - 2s 2ms/step\n",
      "3357/3357 [==============================] - 6s 2ms/step\n",
      " - Model specifics:\tbatch size: 128, mode: triangular2, stepsize: 210, base-lr: 1e-06, max-lr 0.0001, *0\n",
      "Time usage: 0:02:26 minutes\n",
      "374/374 [==============================] - 1s 2ms/step\n",
      "934/934 [==============================] - 2s 2ms/step\n",
      "3357/3357 [==============================] - 6s 2ms/step\n",
      "/home/rick/Documents/HannahZ/Code/logs\n",
      " - Model specifics:\tbatch size: 128, mode: triangular2, stepsize: 210, base-lr: 1e-06, max-lr 0.0001, *1\n"
     ]
    },
    {
     "name": "stderr",
     "output_type": "stream",
     "text": [
      "/home/rick/.conda/envs/hannah_z/lib/python2.7/site-packages/keras/callbacks.py:120: UserWarning: Method on_batch_end() is slow compared to the batch update (0.186296). Check your callbacks.\n",
      "  % delta_t_median)\n"
     ]
    },
    {
     "name": "stdout",
     "output_type": "stream",
     "text": [
      "Time usage: 0:02:35 minutes\n",
      "374/374 [==============================] - 1s 2ms/step\n",
      "934/934 [==============================] - 2s 2ms/step\n",
      "3357/3357 [==============================] - 6s 2ms/step\n",
      " - Model specifics:\tbatch size: 128, mode: triangular2, stepsize: 210, base-lr: 1e-06, max-lr 0.0001, *1\n",
      "Time usage: 0:02:23 minutes\n",
      "374/374 [==============================] - 1s 2ms/step\n",
      "934/934 [==============================] - 2s 2ms/step\n",
      "3357/3357 [==============================] - 6s 2ms/step\n",
      "/home/rick/Documents/HannahZ/Code/logs\n",
      " - Model specifics:\tbatch size: 128, mode: triangular2, stepsize: 210, base-lr: 1e-06, max-lr 0.0001, *2\n"
     ]
    },
    {
     "name": "stderr",
     "output_type": "stream",
     "text": [
      "/home/rick/.conda/envs/hannah_z/lib/python2.7/site-packages/keras/callbacks.py:120: UserWarning: Method on_batch_end() is slow compared to the batch update (0.188169). Check your callbacks.\n",
      "  % delta_t_median)\n"
     ]
    },
    {
     "name": "stdout",
     "output_type": "stream",
     "text": [
      "Time usage: 0:02:33 minutes\n",
      "374/374 [==============================] - 1s 2ms/step\n",
      "934/934 [==============================] - 2s 2ms/step\n",
      "3357/3357 [==============================] - 6s 2ms/step\n",
      " - Model specifics:\tbatch size: 128, mode: triangular2, stepsize: 210, base-lr: 1e-06, max-lr 0.0001, *2\n",
      "Time usage: 0:02:21 minutes\n",
      "374/374 [==============================] - 1s 2ms/step\n",
      "934/934 [==============================] - 2s 2ms/step\n",
      "3357/3357 [==============================] - 6s 2ms/step\n",
      "/home/rick/Documents/HannahZ/Code/logs\n",
      " - Model specifics:\tbatch size: 128, mode: triangular2, stepsize: 210, base-lr: 1e-06, max-lr 0.0001, *3\n"
     ]
    },
    {
     "name": "stderr",
     "output_type": "stream",
     "text": [
      "/home/rick/.conda/envs/hannah_z/lib/python2.7/site-packages/keras/callbacks.py:120: UserWarning: Method on_batch_end() is slow compared to the batch update (0.189561). Check your callbacks.\n",
      "  % delta_t_median)\n"
     ]
    },
    {
     "name": "stdout",
     "output_type": "stream",
     "text": [
      "Time usage: 0:02:36 minutes\n",
      "374/374 [==============================] - 1s 2ms/step\n",
      "934/934 [==============================] - 2s 2ms/step\n",
      "3357/3357 [==============================] - 6s 2ms/step\n",
      " - Model specifics:\tbatch size: 128, mode: triangular2, stepsize: 210, base-lr: 1e-06, max-lr 0.0001, *3\n",
      "Time usage: 0:02:23 minutes\n",
      "374/374 [==============================] - 1s 2ms/step\n",
      "934/934 [==============================] - 2s 2ms/step\n",
      "3357/3357 [==============================] - 6s 2ms/step\n",
      "/home/rick/Documents/HannahZ/Code/logs\n",
      " - Model specifics:\tbatch size: 128, mode: triangular2, stepsize: 210, base-lr: 1e-06, max-lr 0.0001, *4\n"
     ]
    },
    {
     "name": "stderr",
     "output_type": "stream",
     "text": [
      "/home/rick/.conda/envs/hannah_z/lib/python2.7/site-packages/keras/callbacks.py:120: UserWarning: Method on_batch_end() is slow compared to the batch update (0.296220). Check your callbacks.\n",
      "  % delta_t_median)\n"
     ]
    },
    {
     "name": "stdout",
     "output_type": "stream",
     "text": [
      "Time usage: 0:02:40 minutes\n",
      "374/374 [==============================] - 1s 2ms/step\n",
      "934/934 [==============================] - 2s 2ms/step\n",
      "3357/3357 [==============================] - 6s 2ms/step\n",
      " - Model specifics:\tbatch size: 128, mode: triangular2, stepsize: 210, base-lr: 1e-06, max-lr 0.0001, *4\n",
      "Time usage: 0:02:21 minutes\n",
      "374/374 [==============================] - 1s 2ms/step\n",
      "934/934 [==============================] - 2s 2ms/step\n",
      "3357/3357 [==============================] - 6s 2ms/step\n",
      "/home/rick/Documents/HannahZ/Code/logs\n",
      "Time usage: 0:26:26 minutes\n",
      " - Model specifics:\tbatch size: 128, mode: triangular, stepsize: 262, base-lr: 1e-06, max-lr 0.0001, *0\n"
     ]
    },
    {
     "name": "stderr",
     "output_type": "stream",
     "text": [
      "/home/rick/.conda/envs/hannah_z/lib/python2.7/site-packages/keras/callbacks.py:120: UserWarning: Method on_batch_end() is slow compared to the batch update (0.236726). Check your callbacks.\n",
      "  % delta_t_median)\n"
     ]
    },
    {
     "name": "stdout",
     "output_type": "stream",
     "text": [
      "Time usage: 0:02:39 minutes\n",
      "374/374 [==============================] - 1s 2ms/step\n",
      "934/934 [==============================] - 2s 2ms/step\n",
      "3357/3357 [==============================] - 6s 2ms/step\n",
      " - Model specifics:\tbatch size: 128, mode: triangular, stepsize: 262, base-lr: 1e-06, max-lr 0.0001, *0\n",
      "Time usage: 0:02:22 minutes\n",
      "374/374 [==============================] - 1s 2ms/step\n",
      "934/934 [==============================] - 2s 2ms/step\n",
      "3357/3357 [==============================] - 6s 2ms/step\n",
      "/home/rick/Documents/HannahZ/Code/logs\n",
      " - Model specifics:\tbatch size: 128, mode: triangular, stepsize: 262, base-lr: 1e-06, max-lr 0.0001, *1\n"
     ]
    },
    {
     "name": "stderr",
     "output_type": "stream",
     "text": [
      "/home/rick/.conda/envs/hannah_z/lib/python2.7/site-packages/keras/callbacks.py:120: UserWarning: Method on_batch_end() is slow compared to the batch update (0.229605). Check your callbacks.\n",
      "  % delta_t_median)\n"
     ]
    },
    {
     "name": "stdout",
     "output_type": "stream",
     "text": [
      "Time usage: 0:02:38 minutes\n",
      "374/374 [==============================] - 1s 2ms/step\n",
      "934/934 [==============================] - 2s 2ms/step\n",
      "3357/3357 [==============================] - 6s 2ms/step\n",
      " - Model specifics:\tbatch size: 128, mode: triangular, stepsize: 262, base-lr: 1e-06, max-lr 0.0001, *1\n",
      "Time usage: 0:02:23 minutes\n",
      "374/374 [==============================] - 1s 2ms/step\n",
      "934/934 [==============================] - 2s 2ms/step\n",
      "3357/3357 [==============================] - 6s 2ms/step\n",
      "/home/rick/Documents/HannahZ/Code/logs\n",
      " - Model specifics:\tbatch size: 128, mode: triangular, stepsize: 262, base-lr: 1e-06, max-lr 0.0001, *2\n"
     ]
    },
    {
     "name": "stderr",
     "output_type": "stream",
     "text": [
      "/home/rick/.conda/envs/hannah_z/lib/python2.7/site-packages/keras/callbacks.py:120: UserWarning: Method on_batch_end() is slow compared to the batch update (0.231187). Check your callbacks.\n",
      "  % delta_t_median)\n"
     ]
    },
    {
     "name": "stdout",
     "output_type": "stream",
     "text": [
      "Time usage: 0:02:37 minutes\n",
      "374/374 [==============================] - 1s 2ms/step\n",
      "934/934 [==============================] - 2s 2ms/step\n",
      "3357/3357 [==============================] - 6s 2ms/step\n",
      " - Model specifics:\tbatch size: 128, mode: triangular, stepsize: 262, base-lr: 1e-06, max-lr 0.0001, *2\n",
      "Time usage: 0:02:23 minutes\n",
      "374/374 [==============================] - 1s 2ms/step\n",
      "934/934 [==============================] - 2s 2ms/step\n",
      "3357/3357 [==============================] - 6s 2ms/step\n",
      "/home/rick/Documents/HannahZ/Code/logs\n",
      " - Model specifics:\tbatch size: 128, mode: triangular, stepsize: 262, base-lr: 1e-06, max-lr 0.0001, *3\n"
     ]
    },
    {
     "name": "stderr",
     "output_type": "stream",
     "text": [
      "/home/rick/.conda/envs/hannah_z/lib/python2.7/site-packages/keras/callbacks.py:120: UserWarning: Method on_batch_end() is slow compared to the batch update (0.268625). Check your callbacks.\n",
      "  % delta_t_median)\n"
     ]
    },
    {
     "name": "stdout",
     "output_type": "stream",
     "text": [
      "Time usage: 0:02:36 minutes\n",
      "374/374 [==============================] - 1s 2ms/step\n",
      "934/934 [==============================] - 2s 2ms/step\n",
      "3357/3357 [==============================] - 6s 2ms/step\n",
      " - Model specifics:\tbatch size: 128, mode: triangular, stepsize: 262, base-lr: 1e-06, max-lr 0.0001, *3\n",
      "Time usage: 0:02:21 minutes\n",
      "374/374 [==============================] - 1s 2ms/step\n",
      "934/934 [==============================] - 2s 2ms/step\n",
      "3357/3357 [==============================] - 6s 2ms/step\n",
      "/home/rick/Documents/HannahZ/Code/logs\n",
      " - Model specifics:\tbatch size: 128, mode: triangular, stepsize: 262, base-lr: 1e-06, max-lr 0.0001, *4\n"
     ]
    },
    {
     "name": "stderr",
     "output_type": "stream",
     "text": [
      "/home/rick/.conda/envs/hannah_z/lib/python2.7/site-packages/keras/callbacks.py:120: UserWarning: Method on_batch_end() is slow compared to the batch update (0.235921). Check your callbacks.\n",
      "  % delta_t_median)\n"
     ]
    },
    {
     "name": "stdout",
     "output_type": "stream",
     "text": [
      "Time usage: 0:02:39 minutes\n",
      "374/374 [==============================] - 1s 2ms/step\n",
      "934/934 [==============================] - 2s 2ms/step\n",
      "3357/3357 [==============================] - 6s 2ms/step\n",
      " - Model specifics:\tbatch size: 128, mode: triangular, stepsize: 262, base-lr: 1e-06, max-lr 0.0001, *4\n",
      "Time usage: 0:02:24 minutes\n",
      "374/374 [==============================] - 1s 2ms/step\n",
      "934/934 [==============================] - 2s 2ms/step\n",
      "3357/3357 [==============================] - 6s 2ms/step\n",
      "/home/rick/Documents/HannahZ/Code/logs\n",
      "Time usage: 0:26:32 minutes\n",
      " - Model specifics:\tbatch size: 128, mode: triangular2, stepsize: 262, base-lr: 1e-06, max-lr 0.0001, *0\n"
     ]
    },
    {
     "name": "stderr",
     "output_type": "stream",
     "text": [
      "/home/rick/.conda/envs/hannah_z/lib/python2.7/site-packages/keras/callbacks.py:120: UserWarning: Method on_batch_end() is slow compared to the batch update (0.287592). Check your callbacks.\n",
      "  % delta_t_median)\n"
     ]
    },
    {
     "name": "stdout",
     "output_type": "stream",
     "text": [
      "Time usage: 0:02:40 minutes\n",
      "374/374 [==============================] - 1s 2ms/step\n",
      "934/934 [==============================] - 2s 2ms/step\n",
      "3357/3357 [==============================] - 6s 2ms/step\n",
      " - Model specifics:\tbatch size: 128, mode: triangular2, stepsize: 262, base-lr: 1e-06, max-lr 0.0001, *0\n",
      "Time usage: 0:02:22 minutes\n",
      "374/374 [==============================] - 1s 2ms/step\n",
      "934/934 [==============================] - 2s 2ms/step\n",
      "3357/3357 [==============================] - 6s 2ms/step\n",
      "/home/rick/Documents/HannahZ/Code/logs\n",
      " - Model specifics:\tbatch size: 128, mode: triangular2, stepsize: 262, base-lr: 1e-06, max-lr 0.0001, *1\n"
     ]
    },
    {
     "name": "stderr",
     "output_type": "stream",
     "text": [
      "/home/rick/.conda/envs/hannah_z/lib/python2.7/site-packages/keras/callbacks.py:120: UserWarning: Method on_batch_end() is slow compared to the batch update (0.265745). Check your callbacks.\n",
      "  % delta_t_median)\n"
     ]
    },
    {
     "name": "stdout",
     "output_type": "stream",
     "text": [
      "Time usage: 0:02:37 minutes\n",
      "374/374 [==============================] - 1s 2ms/step\n",
      "934/934 [==============================] - 2s 2ms/step\n",
      "3357/3357 [==============================] - 6s 2ms/step\n",
      " - Model specifics:\tbatch size: 128, mode: triangular2, stepsize: 262, base-lr: 1e-06, max-lr 0.0001, *1\n",
      "Time usage: 0:02:22 minutes\n",
      "374/374 [==============================] - 1s 2ms/step\n",
      "934/934 [==============================] - 2s 2ms/step\n",
      "3357/3357 [==============================] - 6s 2ms/step\n",
      "/home/rick/Documents/HannahZ/Code/logs\n",
      " - Model specifics:\tbatch size: 128, mode: triangular2, stepsize: 262, base-lr: 1e-06, max-lr 0.0001, *2\n"
     ]
    },
    {
     "name": "stderr",
     "output_type": "stream",
     "text": [
      "/home/rick/.conda/envs/hannah_z/lib/python2.7/site-packages/keras/callbacks.py:120: UserWarning: Method on_batch_end() is slow compared to the batch update (0.252464). Check your callbacks.\n",
      "  % delta_t_median)\n"
     ]
    },
    {
     "name": "stdout",
     "output_type": "stream",
     "text": [
      "Time usage: 0:02:39 minutes\n",
      "374/374 [==============================] - 1s 2ms/step\n",
      "934/934 [==============================] - 2s 2ms/step\n",
      "3357/3357 [==============================] - 6s 2ms/step\n",
      " - Model specifics:\tbatch size: 128, mode: triangular2, stepsize: 262, base-lr: 1e-06, max-lr 0.0001, *2\n",
      "Time usage: 0:02:25 minutes\n",
      "374/374 [==============================] - 1s 2ms/step\n",
      "934/934 [==============================] - 2s 2ms/step\n",
      "3357/3357 [==============================] - 6s 2ms/step\n",
      "/home/rick/Documents/HannahZ/Code/logs\n",
      " - Model specifics:\tbatch size: 128, mode: triangular2, stepsize: 262, base-lr: 1e-06, max-lr 0.0001, *3\n"
     ]
    },
    {
     "name": "stderr",
     "output_type": "stream",
     "text": [
      "/home/rick/.conda/envs/hannah_z/lib/python2.7/site-packages/keras/callbacks.py:120: UserWarning: Method on_batch_end() is slow compared to the batch update (0.250617). Check your callbacks.\n",
      "  % delta_t_median)\n"
     ]
    },
    {
     "name": "stdout",
     "output_type": "stream",
     "text": [
      "Time usage: 0:02:37 minutes\n",
      "374/374 [==============================] - 1s 2ms/step\n",
      "934/934 [==============================] - 2s 2ms/step\n",
      "3357/3357 [==============================] - 6s 2ms/step\n",
      " - Model specifics:\tbatch size: 128, mode: triangular2, stepsize: 262, base-lr: 1e-06, max-lr 0.0001, *3\n",
      "Time usage: 0:02:22 minutes\n",
      "374/374 [==============================] - 1s 2ms/step\n",
      "934/934 [==============================] - 2s 2ms/step\n",
      "3357/3357 [==============================] - 6s 2ms/step\n",
      "/home/rick/Documents/HannahZ/Code/logs\n",
      " - Model specifics:\tbatch size: 128, mode: triangular2, stepsize: 262, base-lr: 1e-06, max-lr 0.0001, *4\n"
     ]
    },
    {
     "name": "stderr",
     "output_type": "stream",
     "text": [
      "/home/rick/.conda/envs/hannah_z/lib/python2.7/site-packages/keras/callbacks.py:120: UserWarning: Method on_batch_end() is slow compared to the batch update (0.234225). Check your callbacks.\n",
      "  % delta_t_median)\n"
     ]
    },
    {
     "name": "stdout",
     "output_type": "stream",
     "text": [
      "Time usage: 0:02:38 minutes\n",
      "374/374 [==============================] - 1s 2ms/step\n",
      "934/934 [==============================] - 2s 2ms/step\n",
      "3357/3357 [==============================] - 6s 2ms/step\n",
      " - Model specifics:\tbatch size: 128, mode: triangular2, stepsize: 262, base-lr: 1e-06, max-lr 0.0001, *4\n",
      "Time usage: 0:02:24 minutes\n",
      "374/374 [==============================] - 1s 2ms/step\n",
      "934/934 [==============================] - 2s 2ms/step\n",
      "3357/3357 [==============================] - 6s 2ms/step\n",
      "/home/rick/Documents/HannahZ/Code/logs\n",
      "Time usage: 0:26:35 minutes\n",
      "Time usage: 6:18:19 minutes\n"
     ]
    }
   ],
   "source": [
    "# usual training time: 4:51 / 3:21 / 3:26 / 6:13 / 6:18\n",
    "rep = 5\n",
    "hp_tuner(rep = rep)"
   ]
  },
  {
   "cell_type": "code",
   "execution_count": 29,
   "metadata": {},
   "outputs": [],
   "source": [
    "rep = 5\n",
    "titel = model_details[0][:47]\n",
    "mean_test_a = []\n",
    "mean_valid_a = []\n",
    "mean_train_a = []\n",
    "mean_test_l = []\n",
    "mean_valid_l = []\n",
    "mean_train_l = []\n",
    "mean_test_p = []\n",
    "mean_valid_p = []\n",
    "mean_train_p = []\n",
    "mean_test_r = []\n",
    "mean_valid_r = []\n",
    "mean_train_r = []\n",
    "model_l = []\n",
    "a = int(len(test_acc_l)/rep)\n",
    "for i in range(a):\n",
    "    tals = test_acc_l[i:(i+1)*rep]\n",
    "    vals = valid_acc_l[i:(i+1)*rep]\n",
    "    rals = train_acc_l[i:(i+1)*rep]\n",
    "    tlls = test_loss_l[i:(i+1)*rep]\n",
    "    vlls = valid_loss_l[i:(i+1)*rep]\n",
    "    rlls = train_loss_l[i:(i+1)*rep]\n",
    "    tpls = test_prec_l[i:(i+1)*rep]\n",
    "    vpls = valid_prec_l[i:(i+1)*rep]\n",
    "    rpls = train_prec_l[i:(i+1)*rep]\n",
    "    trls = test_rec_l[i:(i+1)*rep]\n",
    "    vrls = valid_rec_l[i:(i+1)*rep]\n",
    "    rrls = train_rec_l[i:(i+1)*rep]\n",
    "    tmean = round(sum(tals)/len(tals),4)\n",
    "    vmean = round(sum(vals)/len(vals),4)\n",
    "    rmean = round(sum(rals)/len(rals),4)\n",
    "    ltmean = round(sum(tlls)/len(tals),4)\n",
    "    lvmean = round(sum(vlls)/len(vals),4)\n",
    "    lrmean = round(sum(rlls)/len(rals),4)\n",
    "    ptmean = round(sum(tpls)/len(tals),4)\n",
    "    pvmean = round(sum(vpls)/len(vals),4)\n",
    "    prmean = round(sum(rpls)/len(rals),4)\n",
    "    rtmean = round(sum(trls)/len(tals),4)\n",
    "    rvmean = round(sum(vrls)/len(vals),4)\n",
    "    rrmean = round(sum(rrls)/len(rals),4)\n",
    "    mean_test_a.append(tmean)\n",
    "    mean_valid_a.append(vmean)\n",
    "    mean_train_a.append(rmean)\n",
    "    mean_test_l.append(ltmean)\n",
    "    mean_valid_l.append(lvmean)\n",
    "    mean_train_l.append(lrmean)\n",
    "    mean_test_p.append(ptmean)\n",
    "    mean_valid_p.append(pvmean)\n",
    "    mean_train_p.append(prmean)\n",
    "    mean_test_r.append(rtmean)\n",
    "    mean_valid_r.append(rvmean)\n",
    "    mean_train_r.append(rrmean)\n",
    "    if (model_det[i*rep][-2:] == 'x2'):\n",
    "        model_l.append(model_det[i*rep][6:49] + ' ' + model_det[i*rep][-2:])\n",
    "    else:\n",
    "        model_l.append(model_det[i*rep][6:49])"
   ]
  },
  {
   "cell_type": "code",
   "execution_count": 9,
   "metadata": {},
   "outputs": [
    {
     "ename": "NameError",
     "evalue": "name 'model_det' is not defined",
     "output_type": "error",
     "traceback": [
      "\u001b[0;31m---------------------------------------------------------------------------\u001b[0m",
      "\u001b[0;31mNameError\u001b[0m                                 Traceback (most recent call last)",
      "\u001b[0;32m<ipython-input-9-b35188aebdc3>\u001b[0m in \u001b[0;36m<module>\u001b[0;34m()\u001b[0m\n\u001b[0;32m----> 1\u001b[0;31m \u001b[0;32mprint\u001b[0m\u001b[0;34m(\u001b[0m\u001b[0mmodel_det\u001b[0m\u001b[0;34m[\u001b[0m\u001b[0;36m8\u001b[0m\u001b[0;34m]\u001b[0m\u001b[0;34m[\u001b[0m\u001b[0;36m6\u001b[0m\u001b[0;34m:\u001b[0m\u001b[0;36m49\u001b[0m\u001b[0;34m]\u001b[0m\u001b[0;34m)\u001b[0m\u001b[0;34m\u001b[0m\u001b[0m\n\u001b[0m\u001b[1;32m      2\u001b[0m \u001b[0;32mprint\u001b[0m\u001b[0;34m(\u001b[0m\u001b[0mmodel_det\u001b[0m\u001b[0;34m[\u001b[0m\u001b[0;36m0\u001b[0m\u001b[0;34m]\u001b[0m\u001b[0;34m[\u001b[0m\u001b[0;34m-\u001b[0m\u001b[0;36m2\u001b[0m\u001b[0;34m:\u001b[0m\u001b[0;34m]\u001b[0m\u001b[0;34m)\u001b[0m\u001b[0;34m\u001b[0m\u001b[0m\n",
      "\u001b[0;31mNameError\u001b[0m: name 'model_det' is not defined"
     ]
    }
   ],
   "source": [
    "print(model_det[8][6:49])\n",
    "print(model_det[0][-2:])"
   ]
  },
  {
   "cell_type": "code",
   "execution_count": 31,
   "metadata": {},
   "outputs": [
    {
     "data": {
      "text/plain": [
       "'AfterTuningHP_modelOverview_IncResNetV2_bs-64_triangular_sz-420_imagenet_595_48epochs'"
      ]
     },
     "execution_count": 31,
     "metadata": {},
     "output_type": "execute_result"
    }
   ],
   "source": [
    "savename2 = ('AfterTuningHP_modelOverview_' + str(modelname) + '_bs-'+ str(batch_size) + '_' + str(mode) + '_sz-' \n",
    "             + str(step_size) + '_' + str(weights) + '_' + str(trainable_layers) + '_' + str(epochs) + 'epochs')\n",
    "savename2"
   ]
  },
  {
   "cell_type": "code",
   "execution_count": 32,
   "metadata": {},
   "outputs": [
    {
     "data": {
      "text/html": [
       "<div>\n",
       "<style scoped>\n",
       "    .dataframe tbody tr th:only-of-type {\n",
       "        vertical-align: middle;\n",
       "    }\n",
       "\n",
       "    .dataframe tbody tr th {\n",
       "        vertical-align: top;\n",
       "    }\n",
       "\n",
       "    .dataframe thead th {\n",
       "        text-align: right;\n",
       "    }\n",
       "</style>\n",
       "<table border=\"1\" class=\"dataframe\">\n",
       "  <thead>\n",
       "    <tr style=\"text-align: right;\">\n",
       "      <th></th>\n",
       "      <th>test acc</th>\n",
       "      <th>valid acc</th>\n",
       "      <th>train acc</th>\n",
       "      <th>test loss</th>\n",
       "      <th>valid loss</th>\n",
       "      <th>train loss</th>\n",
       "      <th>test prec</th>\n",
       "      <th>valid prec</th>\n",
       "      <th>train prec</th>\n",
       "      <th>test rec</th>\n",
       "      <th>valid rec</th>\n",
       "      <th>train rec</th>\n",
       "    </tr>\n",
       "  </thead>\n",
       "  <tbody>\n",
       "    <tr>\n",
       "      <th>size: 64, mode: triangular, stepsize: 315,</th>\n",
       "      <td>0.7493</td>\n",
       "      <td>0.7316</td>\n",
       "      <td>0.7713</td>\n",
       "      <td>0.9368</td>\n",
       "      <td>0.9491</td>\n",
       "      <td>0.8491</td>\n",
       "      <td>0.6929</td>\n",
       "      <td>0.6582</td>\n",
       "      <td>0.7015</td>\n",
       "      <td>0.9233</td>\n",
       "      <td>0.9038</td>\n",
       "      <td>0.9421</td>\n",
       "    </tr>\n",
       "    <tr>\n",
       "      <th>size: 64, mode: triangular, stepsize: 315,  x2</th>\n",
       "      <td>0.7463</td>\n",
       "      <td>0.7252</td>\n",
       "      <td>0.7686</td>\n",
       "      <td>0.9660</td>\n",
       "      <td>1.0058</td>\n",
       "      <td>0.8794</td>\n",
       "      <td>0.6892</td>\n",
       "      <td>0.6497</td>\n",
       "      <td>0.6971</td>\n",
       "      <td>0.9251</td>\n",
       "      <td>0.9090</td>\n",
       "      <td>0.9478</td>\n",
       "    </tr>\n",
       "    <tr>\n",
       "      <th>size: 64, mode: triangular2, stepsize: 315,</th>\n",
       "      <td>0.7438</td>\n",
       "      <td>0.7221</td>\n",
       "      <td>0.7653</td>\n",
       "      <td>0.9432</td>\n",
       "      <td>0.9939</td>\n",
       "      <td>0.8679</td>\n",
       "      <td>0.6872</td>\n",
       "      <td>0.6481</td>\n",
       "      <td>0.6936</td>\n",
       "      <td>0.9235</td>\n",
       "      <td>0.9032</td>\n",
       "      <td>0.9476</td>\n",
       "    </tr>\n",
       "    <tr>\n",
       "      <th>size: 64, mode: triangular2, stepsize: 525,</th>\n",
       "      <td>0.7430</td>\n",
       "      <td>0.7253</td>\n",
       "      <td>0.7654</td>\n",
       "      <td>0.9432</td>\n",
       "      <td>0.9809</td>\n",
       "      <td>0.8737</td>\n",
       "      <td>0.6863</td>\n",
       "      <td>0.6522</td>\n",
       "      <td>0.6948</td>\n",
       "      <td>0.9245</td>\n",
       "      <td>0.9002</td>\n",
       "      <td>0.9439</td>\n",
       "    </tr>\n",
       "    <tr>\n",
       "      <th>size: 64, mode: triangular2, stepsize: 315, x2</th>\n",
       "      <td>0.7427</td>\n",
       "      <td>0.7229</td>\n",
       "      <td>0.7644</td>\n",
       "      <td>0.9432</td>\n",
       "      <td>0.9936</td>\n",
       "      <td>0.8727</td>\n",
       "      <td>0.6853</td>\n",
       "      <td>0.6485</td>\n",
       "      <td>0.6921</td>\n",
       "      <td>0.9262</td>\n",
       "      <td>0.9043</td>\n",
       "      <td>0.9490</td>\n",
       "    </tr>\n",
       "    <tr>\n",
       "      <th>size: 64, mode: triangular, stepsize: 525,  x2</th>\n",
       "      <td>0.7427</td>\n",
       "      <td>0.7241</td>\n",
       "      <td>0.7646</td>\n",
       "      <td>0.9512</td>\n",
       "      <td>0.9922</td>\n",
       "      <td>0.8804</td>\n",
       "      <td>0.6858</td>\n",
       "      <td>0.6509</td>\n",
       "      <td>0.6938</td>\n",
       "      <td>0.9251</td>\n",
       "      <td>0.9011</td>\n",
       "      <td>0.9448</td>\n",
       "    </tr>\n",
       "    <tr>\n",
       "      <th>size: 64, mode: triangular2, stepsize: 420, x2</th>\n",
       "      <td>0.7426</td>\n",
       "      <td>0.7240</td>\n",
       "      <td>0.7636</td>\n",
       "      <td>0.9441</td>\n",
       "      <td>0.9886</td>\n",
       "      <td>0.8757</td>\n",
       "      <td>0.6851</td>\n",
       "      <td>0.6493</td>\n",
       "      <td>0.6919</td>\n",
       "      <td>0.9265</td>\n",
       "      <td>0.9042</td>\n",
       "      <td>0.9466</td>\n",
       "    </tr>\n",
       "    <tr>\n",
       "      <th>size: 64, mode: triangular2, stepsize: 420,</th>\n",
       "      <td>0.7423</td>\n",
       "      <td>0.7232</td>\n",
       "      <td>0.7635</td>\n",
       "      <td>0.9520</td>\n",
       "      <td>0.9988</td>\n",
       "      <td>0.8824</td>\n",
       "      <td>0.6848</td>\n",
       "      <td>0.6483</td>\n",
       "      <td>0.6914</td>\n",
       "      <td>0.9265</td>\n",
       "      <td>0.9051</td>\n",
       "      <td>0.9478</td>\n",
       "    </tr>\n",
       "    <tr>\n",
       "      <th>size: 64, mode: triangular, stepsize: 525,</th>\n",
       "      <td>0.7422</td>\n",
       "      <td>0.7240</td>\n",
       "      <td>0.7642</td>\n",
       "      <td>0.9499</td>\n",
       "      <td>0.9921</td>\n",
       "      <td>0.8796</td>\n",
       "      <td>0.6848</td>\n",
       "      <td>0.6496</td>\n",
       "      <td>0.6926</td>\n",
       "      <td>0.9263</td>\n",
       "      <td>0.9044</td>\n",
       "      <td>0.9467</td>\n",
       "    </tr>\n",
       "    <tr>\n",
       "      <th>size: 64, mode: triangular, stepsize: 420,</th>\n",
       "      <td>0.7421</td>\n",
       "      <td>0.7229</td>\n",
       "      <td>0.7636</td>\n",
       "      <td>0.9448</td>\n",
       "      <td>0.9963</td>\n",
       "      <td>0.8749</td>\n",
       "      <td>0.6849</td>\n",
       "      <td>0.6482</td>\n",
       "      <td>0.6915</td>\n",
       "      <td>0.9257</td>\n",
       "      <td>0.9045</td>\n",
       "      <td>0.9486</td>\n",
       "    </tr>\n",
       "    <tr>\n",
       "      <th>size: 64, mode: triangular, stepsize: 420,  x2</th>\n",
       "      <td>0.7420</td>\n",
       "      <td>0.7232</td>\n",
       "      <td>0.7640</td>\n",
       "      <td>0.9560</td>\n",
       "      <td>1.0035</td>\n",
       "      <td>0.8836</td>\n",
       "      <td>0.6848</td>\n",
       "      <td>0.6479</td>\n",
       "      <td>0.6918</td>\n",
       "      <td>0.9257</td>\n",
       "      <td>0.9060</td>\n",
       "      <td>0.9486</td>\n",
       "    </tr>\n",
       "    <tr>\n",
       "      <th>size: 64, mode: triangular2, stepsize: 525, x2</th>\n",
       "      <td>0.7419</td>\n",
       "      <td>0.7253</td>\n",
       "      <td>0.7643</td>\n",
       "      <td>0.9537</td>\n",
       "      <td>0.9895</td>\n",
       "      <td>0.8826</td>\n",
       "      <td>0.6848</td>\n",
       "      <td>0.6519</td>\n",
       "      <td>0.6934</td>\n",
       "      <td>0.9260</td>\n",
       "      <td>0.9040</td>\n",
       "      <td>0.9453</td>\n",
       "    </tr>\n",
       "    <tr>\n",
       "      <th>size: 128, mode: triangular, stepsize: 262, x2</th>\n",
       "      <td>0.7415</td>\n",
       "      <td>0.7253</td>\n",
       "      <td>0.7639</td>\n",
       "      <td>0.9854</td>\n",
       "      <td>1.0577</td>\n",
       "      <td>0.9252</td>\n",
       "      <td>0.6849</td>\n",
       "      <td>0.6535</td>\n",
       "      <td>0.6948</td>\n",
       "      <td>0.9268</td>\n",
       "      <td>0.9035</td>\n",
       "      <td>0.9422</td>\n",
       "    </tr>\n",
       "    <tr>\n",
       "      <th>size: 128, mode: triangular, stepsize: 157, x2</th>\n",
       "      <td>0.7408</td>\n",
       "      <td>0.7228</td>\n",
       "      <td>0.7636</td>\n",
       "      <td>0.9746</td>\n",
       "      <td>1.0218</td>\n",
       "      <td>0.9053</td>\n",
       "      <td>0.6834</td>\n",
       "      <td>0.6495</td>\n",
       "      <td>0.6928</td>\n",
       "      <td>0.9273</td>\n",
       "      <td>0.9041</td>\n",
       "      <td>0.9452</td>\n",
       "    </tr>\n",
       "    <tr>\n",
       "      <th>size: 128, mode: triangular2, stepsize: 262</th>\n",
       "      <td>0.7405</td>\n",
       "      <td>0.7244</td>\n",
       "      <td>0.7631</td>\n",
       "      <td>0.9921</td>\n",
       "      <td>1.0656</td>\n",
       "      <td>0.9329</td>\n",
       "      <td>0.6835</td>\n",
       "      <td>0.6524</td>\n",
       "      <td>0.6937</td>\n",
       "      <td>0.9278</td>\n",
       "      <td>0.9046</td>\n",
       "      <td>0.9431</td>\n",
       "    </tr>\n",
       "    <tr>\n",
       "      <th>size: 128, mode: triangular2, stepsize: 262 x2</th>\n",
       "      <td>0.7405</td>\n",
       "      <td>0.7242</td>\n",
       "      <td>0.7627</td>\n",
       "      <td>0.9950</td>\n",
       "      <td>1.0706</td>\n",
       "      <td>0.9364</td>\n",
       "      <td>0.6833</td>\n",
       "      <td>0.6521</td>\n",
       "      <td>0.6932</td>\n",
       "      <td>0.9286</td>\n",
       "      <td>0.9052</td>\n",
       "      <td>0.9435</td>\n",
       "    </tr>\n",
       "    <tr>\n",
       "      <th>size: 128, mode: triangular, stepsize: 157,</th>\n",
       "      <td>0.7404</td>\n",
       "      <td>0.7232</td>\n",
       "      <td>0.7632</td>\n",
       "      <td>0.9708</td>\n",
       "      <td>1.0112</td>\n",
       "      <td>0.9004</td>\n",
       "      <td>0.6829</td>\n",
       "      <td>0.6498</td>\n",
       "      <td>0.6921</td>\n",
       "      <td>0.9275</td>\n",
       "      <td>0.9058</td>\n",
       "      <td>0.9462</td>\n",
       "    </tr>\n",
       "    <tr>\n",
       "      <th>size: 128, mode: triangular2, stepsize: 157</th>\n",
       "      <td>0.7403</td>\n",
       "      <td>0.7232</td>\n",
       "      <td>0.7627</td>\n",
       "      <td>0.9787</td>\n",
       "      <td>1.0276</td>\n",
       "      <td>0.9110</td>\n",
       "      <td>0.6824</td>\n",
       "      <td>0.6495</td>\n",
       "      <td>0.6916</td>\n",
       "      <td>0.9289</td>\n",
       "      <td>0.9068</td>\n",
       "      <td>0.9462</td>\n",
       "    </tr>\n",
       "    <tr>\n",
       "      <th>size: 128, mode: triangular, stepsize: 262,</th>\n",
       "      <td>0.7402</td>\n",
       "      <td>0.7232</td>\n",
       "      <td>0.7628</td>\n",
       "      <td>0.9906</td>\n",
       "      <td>1.0596</td>\n",
       "      <td>0.9294</td>\n",
       "      <td>0.6820</td>\n",
       "      <td>0.6499</td>\n",
       "      <td>0.6921</td>\n",
       "      <td>0.9299</td>\n",
       "      <td>0.9072</td>\n",
       "      <td>0.9454</td>\n",
       "    </tr>\n",
       "    <tr>\n",
       "      <th>size: 128, mode: triangular2, stepsize: 157 x2</th>\n",
       "      <td>0.7398</td>\n",
       "      <td>0.7223</td>\n",
       "      <td>0.7626</td>\n",
       "      <td>0.9810</td>\n",
       "      <td>1.0344</td>\n",
       "      <td>0.9148</td>\n",
       "      <td>0.6816</td>\n",
       "      <td>0.6487</td>\n",
       "      <td>0.6913</td>\n",
       "      <td>0.9296</td>\n",
       "      <td>0.9072</td>\n",
       "      <td>0.9467</td>\n",
       "    </tr>\n",
       "    <tr>\n",
       "      <th>size: 128, mode: triangular, stepsize: 210,</th>\n",
       "      <td>0.7395</td>\n",
       "      <td>0.7223</td>\n",
       "      <td>0.7622</td>\n",
       "      <td>0.9886</td>\n",
       "      <td>1.0470</td>\n",
       "      <td>0.9238</td>\n",
       "      <td>0.6811</td>\n",
       "      <td>0.6484</td>\n",
       "      <td>0.6908</td>\n",
       "      <td>0.9303</td>\n",
       "      <td>0.9084</td>\n",
       "      <td>0.9471</td>\n",
       "    </tr>\n",
       "    <tr>\n",
       "      <th>size: 128, mode: triangular, stepsize: 210, x2</th>\n",
       "      <td>0.7395</td>\n",
       "      <td>0.7219</td>\n",
       "      <td>0.7624</td>\n",
       "      <td>0.9936</td>\n",
       "      <td>1.0557</td>\n",
       "      <td>0.9294</td>\n",
       "      <td>0.6810</td>\n",
       "      <td>0.6479</td>\n",
       "      <td>0.6911</td>\n",
       "      <td>0.9305</td>\n",
       "      <td>0.9085</td>\n",
       "      <td>0.9467</td>\n",
       "    </tr>\n",
       "    <tr>\n",
       "      <th>size: 128, mode: triangular2, stepsize: 210</th>\n",
       "      <td>0.7383</td>\n",
       "      <td>0.7211</td>\n",
       "      <td>0.7616</td>\n",
       "      <td>0.9999</td>\n",
       "      <td>1.0637</td>\n",
       "      <td>0.9354</td>\n",
       "      <td>0.6796</td>\n",
       "      <td>0.6470</td>\n",
       "      <td>0.6901</td>\n",
       "      <td>0.9316</td>\n",
       "      <td>0.9098</td>\n",
       "      <td>0.9474</td>\n",
       "    </tr>\n",
       "    <tr>\n",
       "      <th>size: 128, mode: triangular2, stepsize: 210 x2</th>\n",
       "      <td>0.7382</td>\n",
       "      <td>0.7211</td>\n",
       "      <td>0.7611</td>\n",
       "      <td>1.0026</td>\n",
       "      <td>1.0675</td>\n",
       "      <td>0.9389</td>\n",
       "      <td>0.6792</td>\n",
       "      <td>0.6469</td>\n",
       "      <td>0.6896</td>\n",
       "      <td>0.9323</td>\n",
       "      <td>0.9105</td>\n",
       "      <td>0.9478</td>\n",
       "    </tr>\n",
       "  </tbody>\n",
       "</table>\n",
       "</div>"
      ],
      "text/plain": [
       "                                                test acc  valid acc  \\\n",
       "size: 64, mode: triangular, stepsize: 315,        0.7493     0.7316   \n",
       "size: 64, mode: triangular, stepsize: 315,  x2    0.7463     0.7252   \n",
       "size: 64, mode: triangular2, stepsize: 315,       0.7438     0.7221   \n",
       "size: 64, mode: triangular2, stepsize: 525,       0.7430     0.7253   \n",
       "size: 64, mode: triangular2, stepsize: 315, x2    0.7427     0.7229   \n",
       "size: 64, mode: triangular, stepsize: 525,  x2    0.7427     0.7241   \n",
       "size: 64, mode: triangular2, stepsize: 420, x2    0.7426     0.7240   \n",
       "size: 64, mode: triangular2, stepsize: 420,       0.7423     0.7232   \n",
       "size: 64, mode: triangular, stepsize: 525,        0.7422     0.7240   \n",
       "size: 64, mode: triangular, stepsize: 420,        0.7421     0.7229   \n",
       "size: 64, mode: triangular, stepsize: 420,  x2    0.7420     0.7232   \n",
       "size: 64, mode: triangular2, stepsize: 525, x2    0.7419     0.7253   \n",
       "size: 128, mode: triangular, stepsize: 262, x2    0.7415     0.7253   \n",
       "size: 128, mode: triangular, stepsize: 157, x2    0.7408     0.7228   \n",
       "size: 128, mode: triangular2, stepsize: 262       0.7405     0.7244   \n",
       "size: 128, mode: triangular2, stepsize: 262 x2    0.7405     0.7242   \n",
       "size: 128, mode: triangular, stepsize: 157,       0.7404     0.7232   \n",
       "size: 128, mode: triangular2, stepsize: 157       0.7403     0.7232   \n",
       "size: 128, mode: triangular, stepsize: 262,       0.7402     0.7232   \n",
       "size: 128, mode: triangular2, stepsize: 157 x2    0.7398     0.7223   \n",
       "size: 128, mode: triangular, stepsize: 210,       0.7395     0.7223   \n",
       "size: 128, mode: triangular, stepsize: 210, x2    0.7395     0.7219   \n",
       "size: 128, mode: triangular2, stepsize: 210       0.7383     0.7211   \n",
       "size: 128, mode: triangular2, stepsize: 210 x2    0.7382     0.7211   \n",
       "\n",
       "                                                train acc  test loss  \\\n",
       "size: 64, mode: triangular, stepsize: 315,         0.7713     0.9368   \n",
       "size: 64, mode: triangular, stepsize: 315,  x2     0.7686     0.9660   \n",
       "size: 64, mode: triangular2, stepsize: 315,        0.7653     0.9432   \n",
       "size: 64, mode: triangular2, stepsize: 525,        0.7654     0.9432   \n",
       "size: 64, mode: triangular2, stepsize: 315, x2     0.7644     0.9432   \n",
       "size: 64, mode: triangular, stepsize: 525,  x2     0.7646     0.9512   \n",
       "size: 64, mode: triangular2, stepsize: 420, x2     0.7636     0.9441   \n",
       "size: 64, mode: triangular2, stepsize: 420,        0.7635     0.9520   \n",
       "size: 64, mode: triangular, stepsize: 525,         0.7642     0.9499   \n",
       "size: 64, mode: triangular, stepsize: 420,         0.7636     0.9448   \n",
       "size: 64, mode: triangular, stepsize: 420,  x2     0.7640     0.9560   \n",
       "size: 64, mode: triangular2, stepsize: 525, x2     0.7643     0.9537   \n",
       "size: 128, mode: triangular, stepsize: 262, x2     0.7639     0.9854   \n",
       "size: 128, mode: triangular, stepsize: 157, x2     0.7636     0.9746   \n",
       "size: 128, mode: triangular2, stepsize: 262        0.7631     0.9921   \n",
       "size: 128, mode: triangular2, stepsize: 262 x2     0.7627     0.9950   \n",
       "size: 128, mode: triangular, stepsize: 157,        0.7632     0.9708   \n",
       "size: 128, mode: triangular2, stepsize: 157        0.7627     0.9787   \n",
       "size: 128, mode: triangular, stepsize: 262,        0.7628     0.9906   \n",
       "size: 128, mode: triangular2, stepsize: 157 x2     0.7626     0.9810   \n",
       "size: 128, mode: triangular, stepsize: 210,        0.7622     0.9886   \n",
       "size: 128, mode: triangular, stepsize: 210, x2     0.7624     0.9936   \n",
       "size: 128, mode: triangular2, stepsize: 210        0.7616     0.9999   \n",
       "size: 128, mode: triangular2, stepsize: 210 x2     0.7611     1.0026   \n",
       "\n",
       "                                                valid loss  train loss  \\\n",
       "size: 64, mode: triangular, stepsize: 315,          0.9491      0.8491   \n",
       "size: 64, mode: triangular, stepsize: 315,  x2      1.0058      0.8794   \n",
       "size: 64, mode: triangular2, stepsize: 315,         0.9939      0.8679   \n",
       "size: 64, mode: triangular2, stepsize: 525,         0.9809      0.8737   \n",
       "size: 64, mode: triangular2, stepsize: 315, x2      0.9936      0.8727   \n",
       "size: 64, mode: triangular, stepsize: 525,  x2      0.9922      0.8804   \n",
       "size: 64, mode: triangular2, stepsize: 420, x2      0.9886      0.8757   \n",
       "size: 64, mode: triangular2, stepsize: 420,         0.9988      0.8824   \n",
       "size: 64, mode: triangular, stepsize: 525,          0.9921      0.8796   \n",
       "size: 64, mode: triangular, stepsize: 420,          0.9963      0.8749   \n",
       "size: 64, mode: triangular, stepsize: 420,  x2      1.0035      0.8836   \n",
       "size: 64, mode: triangular2, stepsize: 525, x2      0.9895      0.8826   \n",
       "size: 128, mode: triangular, stepsize: 262, x2      1.0577      0.9252   \n",
       "size: 128, mode: triangular, stepsize: 157, x2      1.0218      0.9053   \n",
       "size: 128, mode: triangular2, stepsize: 262         1.0656      0.9329   \n",
       "size: 128, mode: triangular2, stepsize: 262 x2      1.0706      0.9364   \n",
       "size: 128, mode: triangular, stepsize: 157,         1.0112      0.9004   \n",
       "size: 128, mode: triangular2, stepsize: 157         1.0276      0.9110   \n",
       "size: 128, mode: triangular, stepsize: 262,         1.0596      0.9294   \n",
       "size: 128, mode: triangular2, stepsize: 157 x2      1.0344      0.9148   \n",
       "size: 128, mode: triangular, stepsize: 210,         1.0470      0.9238   \n",
       "size: 128, mode: triangular, stepsize: 210, x2      1.0557      0.9294   \n",
       "size: 128, mode: triangular2, stepsize: 210         1.0637      0.9354   \n",
       "size: 128, mode: triangular2, stepsize: 210 x2      1.0675      0.9389   \n",
       "\n",
       "                                                test prec  valid prec  \\\n",
       "size: 64, mode: triangular, stepsize: 315,         0.6929      0.6582   \n",
       "size: 64, mode: triangular, stepsize: 315,  x2     0.6892      0.6497   \n",
       "size: 64, mode: triangular2, stepsize: 315,        0.6872      0.6481   \n",
       "size: 64, mode: triangular2, stepsize: 525,        0.6863      0.6522   \n",
       "size: 64, mode: triangular2, stepsize: 315, x2     0.6853      0.6485   \n",
       "size: 64, mode: triangular, stepsize: 525,  x2     0.6858      0.6509   \n",
       "size: 64, mode: triangular2, stepsize: 420, x2     0.6851      0.6493   \n",
       "size: 64, mode: triangular2, stepsize: 420,        0.6848      0.6483   \n",
       "size: 64, mode: triangular, stepsize: 525,         0.6848      0.6496   \n",
       "size: 64, mode: triangular, stepsize: 420,         0.6849      0.6482   \n",
       "size: 64, mode: triangular, stepsize: 420,  x2     0.6848      0.6479   \n",
       "size: 64, mode: triangular2, stepsize: 525, x2     0.6848      0.6519   \n",
       "size: 128, mode: triangular, stepsize: 262, x2     0.6849      0.6535   \n",
       "size: 128, mode: triangular, stepsize: 157, x2     0.6834      0.6495   \n",
       "size: 128, mode: triangular2, stepsize: 262        0.6835      0.6524   \n",
       "size: 128, mode: triangular2, stepsize: 262 x2     0.6833      0.6521   \n",
       "size: 128, mode: triangular, stepsize: 157,        0.6829      0.6498   \n",
       "size: 128, mode: triangular2, stepsize: 157        0.6824      0.6495   \n",
       "size: 128, mode: triangular, stepsize: 262,        0.6820      0.6499   \n",
       "size: 128, mode: triangular2, stepsize: 157 x2     0.6816      0.6487   \n",
       "size: 128, mode: triangular, stepsize: 210,        0.6811      0.6484   \n",
       "size: 128, mode: triangular, stepsize: 210, x2     0.6810      0.6479   \n",
       "size: 128, mode: triangular2, stepsize: 210        0.6796      0.6470   \n",
       "size: 128, mode: triangular2, stepsize: 210 x2     0.6792      0.6469   \n",
       "\n",
       "                                                train prec  test rec  \\\n",
       "size: 64, mode: triangular, stepsize: 315,          0.7015    0.9233   \n",
       "size: 64, mode: triangular, stepsize: 315,  x2      0.6971    0.9251   \n",
       "size: 64, mode: triangular2, stepsize: 315,         0.6936    0.9235   \n",
       "size: 64, mode: triangular2, stepsize: 525,         0.6948    0.9245   \n",
       "size: 64, mode: triangular2, stepsize: 315, x2      0.6921    0.9262   \n",
       "size: 64, mode: triangular, stepsize: 525,  x2      0.6938    0.9251   \n",
       "size: 64, mode: triangular2, stepsize: 420, x2      0.6919    0.9265   \n",
       "size: 64, mode: triangular2, stepsize: 420,         0.6914    0.9265   \n",
       "size: 64, mode: triangular, stepsize: 525,          0.6926    0.9263   \n",
       "size: 64, mode: triangular, stepsize: 420,          0.6915    0.9257   \n",
       "size: 64, mode: triangular, stepsize: 420,  x2      0.6918    0.9257   \n",
       "size: 64, mode: triangular2, stepsize: 525, x2      0.6934    0.9260   \n",
       "size: 128, mode: triangular, stepsize: 262, x2      0.6948    0.9268   \n",
       "size: 128, mode: triangular, stepsize: 157, x2      0.6928    0.9273   \n",
       "size: 128, mode: triangular2, stepsize: 262         0.6937    0.9278   \n",
       "size: 128, mode: triangular2, stepsize: 262 x2      0.6932    0.9286   \n",
       "size: 128, mode: triangular, stepsize: 157,         0.6921    0.9275   \n",
       "size: 128, mode: triangular2, stepsize: 157         0.6916    0.9289   \n",
       "size: 128, mode: triangular, stepsize: 262,         0.6921    0.9299   \n",
       "size: 128, mode: triangular2, stepsize: 157 x2      0.6913    0.9296   \n",
       "size: 128, mode: triangular, stepsize: 210,         0.6908    0.9303   \n",
       "size: 128, mode: triangular, stepsize: 210, x2      0.6911    0.9305   \n",
       "size: 128, mode: triangular2, stepsize: 210         0.6901    0.9316   \n",
       "size: 128, mode: triangular2, stepsize: 210 x2      0.6896    0.9323   \n",
       "\n",
       "                                                valid rec  train rec  \n",
       "size: 64, mode: triangular, stepsize: 315,         0.9038     0.9421  \n",
       "size: 64, mode: triangular, stepsize: 315,  x2     0.9090     0.9478  \n",
       "size: 64, mode: triangular2, stepsize: 315,        0.9032     0.9476  \n",
       "size: 64, mode: triangular2, stepsize: 525,        0.9002     0.9439  \n",
       "size: 64, mode: triangular2, stepsize: 315, x2     0.9043     0.9490  \n",
       "size: 64, mode: triangular, stepsize: 525,  x2     0.9011     0.9448  \n",
       "size: 64, mode: triangular2, stepsize: 420, x2     0.9042     0.9466  \n",
       "size: 64, mode: triangular2, stepsize: 420,        0.9051     0.9478  \n",
       "size: 64, mode: triangular, stepsize: 525,         0.9044     0.9467  \n",
       "size: 64, mode: triangular, stepsize: 420,         0.9045     0.9486  \n",
       "size: 64, mode: triangular, stepsize: 420,  x2     0.9060     0.9486  \n",
       "size: 64, mode: triangular2, stepsize: 525, x2     0.9040     0.9453  \n",
       "size: 128, mode: triangular, stepsize: 262, x2     0.9035     0.9422  \n",
       "size: 128, mode: triangular, stepsize: 157, x2     0.9041     0.9452  \n",
       "size: 128, mode: triangular2, stepsize: 262        0.9046     0.9431  \n",
       "size: 128, mode: triangular2, stepsize: 262 x2     0.9052     0.9435  \n",
       "size: 128, mode: triangular, stepsize: 157,        0.9058     0.9462  \n",
       "size: 128, mode: triangular2, stepsize: 157        0.9068     0.9462  \n",
       "size: 128, mode: triangular, stepsize: 262,        0.9072     0.9454  \n",
       "size: 128, mode: triangular2, stepsize: 157 x2     0.9072     0.9467  \n",
       "size: 128, mode: triangular, stepsize: 210,        0.9084     0.9471  \n",
       "size: 128, mode: triangular, stepsize: 210, x2     0.9085     0.9467  \n",
       "size: 128, mode: triangular2, stepsize: 210        0.9098     0.9474  \n",
       "size: 128, mode: triangular2, stepsize: 210 x2     0.9105     0.9478  "
      ]
     },
     "execution_count": 32,
     "metadata": {},
     "output_type": "execute_result"
    }
   ],
   "source": [
    "cols = ['test acc', 'valid acc', 'train acc', 'test loss', 'valid loss', 'train loss', 'test prec', \\\n",
    "           'valid prec', 'train prec', 'test rec', 'valid rec', 'train rec']\n",
    "data2 = np.array((mean_test_a, mean_valid_a, mean_train_a, mean_test_l, mean_valid_l, mean_train_l,\\\n",
    "                mean_test_p, mean_valid_p, mean_train_p, mean_test_r, mean_valid_r, mean_train_r))\n",
    "results2 = pd.DataFrame(data = data2, columns = model_l, index = cols)\n",
    "hp_overview = pd.DataFrame(data = results2.transpose(), columns = cols, index = model_l)\n",
    "hpOverviewSorted = hp_overview.sort_values(by=['test acc'], ascending = False)\n",
    "hpOverviewSorted\n",
    "os.chdir(code_dir + '/Excel')\n",
    "hpOverviewSorted.to_csv(savename2)"
   ]
  },
  {
   "cell_type": "code",
   "execution_count": 33,
   "metadata": {},
   "outputs": [
    {
     "data": {
      "text/plain": [
       "<matplotlib.figure.Figure at 0x7f75b54fd9d0>"
      ]
     },
     "execution_count": 33,
     "metadata": {},
     "output_type": "execute_result"
    },
    {
     "data": {
      "text/plain": [
       "<matplotlib.axes._subplots.AxesSubplot at 0x7f75b549d710>"
      ]
     },
     "execution_count": 33,
     "metadata": {},
     "output_type": "execute_result"
    },
    {
     "data": {
      "image/png": "[encoded data removed]",
      "text/plain": [
       "<matplotlib.figure.Figure at 0x7f75b54fd9d0>"
      ]
     },
     "metadata": {},
     "output_type": "display_data"
    }
   ],
   "source": [
    "%matplotlib inline\n",
    "plt.figure(figsize=(6, 8))\n",
    "\n",
    "sns.heatmap(hp_overview.iloc[:,:3], annot=True,  fmt = 'f')"
   ]
  },
  {
   "cell_type": "code",
   "execution_count": 34,
   "metadata": {},
   "outputs": [
    {
     "data": {
      "text/plain": [
       "[<matplotlib.lines.Line2D at 0x7f75b5367f90>]"
      ]
     },
     "execution_count": 34,
     "metadata": {},
     "output_type": "execute_result"
    },
    {
     "data": {
      "text/plain": [
       "[0, 9, 0.5, 1]"
      ]
     },
     "execution_count": 34,
     "metadata": {},
     "output_type": "execute_result"
    },
    {
     "data": {
      "text/plain": [
       "<matplotlib.text.Text at 0x7f75a4fc0bd0>"
      ]
     },
     "execution_count": 34,
     "metadata": {},
     "output_type": "execute_result"
    },
    {
     "data": {
      "text/plain": [
       "[<matplotlib.lines.Line2D at 0x7f75a4fe9d90>]"
      ]
     },
     "execution_count": 34,
     "metadata": {},
     "output_type": "execute_result"
    },
    {
     "data": {
      "text/plain": [
       "[<matplotlib.lines.Line2D at 0x7f75b5578a50>]"
      ]
     },
     "execution_count": 34,
     "metadata": {},
     "output_type": "execute_result"
    },
    {
     "data": {
      "text/plain": [
       "<matplotlib.text.Text at 0x7f75a4fa3e90>"
      ]
     },
     "execution_count": 34,
     "metadata": {},
     "output_type": "execute_result"
    },
    {
     "data": {
      "text/plain": [
       "[<matplotlib.lines.Line2D at 0x7f75a4fb1550>]"
      ]
     },
     "execution_count": 34,
     "metadata": {},
     "output_type": "execute_result"
    },
    {
     "data": {
      "text/plain": [
       "[0, 9, 0.73, 0.79]"
      ]
     },
     "execution_count": 34,
     "metadata": {},
     "output_type": "execute_result"
    },
    {
     "data": {
      "text/plain": [
       "[<matplotlib.lines.Line2D at 0x7f75a4fa3450>]"
      ]
     },
     "execution_count": 34,
     "metadata": {},
     "output_type": "execute_result"
    },
    {
     "data": {
      "text/plain": [
       "[<matplotlib.lines.Line2D at 0x7f75a4f08110>]"
      ]
     },
     "execution_count": 34,
     "metadata": {},
     "output_type": "execute_result"
    },
    {
     "data": {
      "image/png": "[encoded data removed]",
      "text/plain": [
       "<matplotlib.figure.Figure at 0x7f75a52ef510>"
      ]
     },
     "metadata": {},
     "output_type": "display_data"
    }
   ],
   "source": [
    "%matplotlib inline\n",
    "\n",
    "f, (ax1, ax2) = plt.subplots(2, 1, sharex='col', sharey='row')\n",
    "ax1.plot(mean_test_a, color = 'r')\n",
    "ax1.axis([0, 9, 0.5, 1])\n",
    "ax1.set_title('Close up')\n",
    "ax1.plot(mean_valid_a)\n",
    "ax1.plot(mean_train_a, color = 'g')\n",
    "ax2.set_title('Zoom')\n",
    "ax2.plot(mean_test_a, color = 'r')\n",
    "ax2.axis([0, 9, 0.73, 0.79])\n",
    "ax2.plot(mean_valid_a)\n",
    "ax2.plot(mean_train_a, color = 'g')"
   ]
  },
  {
   "cell_type": "code",
   "execution_count": 35,
   "metadata": {},
   "outputs": [
    {
     "data": {
      "text/html": [
       "<div>\n",
       "<style scoped>\n",
       "    .dataframe tbody tr th:only-of-type {\n",
       "        vertical-align: middle;\n",
       "    }\n",
       "\n",
       "    .dataframe tbody tr th {\n",
       "        vertical-align: top;\n",
       "    }\n",
       "\n",
       "    .dataframe thead th {\n",
       "        text-align: right;\n",
       "    }\n",
       "</style>\n",
       "<table border=\"1\" class=\"dataframe\">\n",
       "  <thead>\n",
       "    <tr style=\"text-align: right;\">\n",
       "      <th></th>\n",
       "      <th>test acc</th>\n",
       "      <th>valid acc</th>\n",
       "      <th>train acc</th>\n",
       "      <th>test loss</th>\n",
       "      <th>valid loss</th>\n",
       "      <th>train loss</th>\n",
       "      <th>test prec</th>\n",
       "      <th>valid prec</th>\n",
       "      <th>train prec</th>\n",
       "      <th>test rec</th>\n",
       "      <th>valid rec</th>\n",
       "      <th>train rec</th>\n",
       "    </tr>\n",
       "  </thead>\n",
       "  <tbody>\n",
       "    <tr>\n",
       "      <th>size: 64, mode: triangular, stepsize: 315,</th>\n",
       "      <td>0.7493</td>\n",
       "      <td>0.7316</td>\n",
       "      <td>0.7713</td>\n",
       "      <td>0.9368</td>\n",
       "      <td>0.9491</td>\n",
       "      <td>0.8491</td>\n",
       "      <td>0.6929</td>\n",
       "      <td>0.6582</td>\n",
       "      <td>0.7015</td>\n",
       "      <td>0.9233</td>\n",
       "      <td>0.9038</td>\n",
       "      <td>0.9421</td>\n",
       "    </tr>\n",
       "    <tr>\n",
       "      <th>size: 64, mode: triangular, stepsize: 315,  x2</th>\n",
       "      <td>0.7463</td>\n",
       "      <td>0.7252</td>\n",
       "      <td>0.7686</td>\n",
       "      <td>0.9660</td>\n",
       "      <td>1.0058</td>\n",
       "      <td>0.8794</td>\n",
       "      <td>0.6892</td>\n",
       "      <td>0.6497</td>\n",
       "      <td>0.6971</td>\n",
       "      <td>0.9251</td>\n",
       "      <td>0.9090</td>\n",
       "      <td>0.9478</td>\n",
       "    </tr>\n",
       "    <tr>\n",
       "      <th>size: 64, mode: triangular2, stepsize: 315,</th>\n",
       "      <td>0.7438</td>\n",
       "      <td>0.7221</td>\n",
       "      <td>0.7653</td>\n",
       "      <td>0.9432</td>\n",
       "      <td>0.9939</td>\n",
       "      <td>0.8679</td>\n",
       "      <td>0.6872</td>\n",
       "      <td>0.6481</td>\n",
       "      <td>0.6936</td>\n",
       "      <td>0.9235</td>\n",
       "      <td>0.9032</td>\n",
       "      <td>0.9476</td>\n",
       "    </tr>\n",
       "  </tbody>\n",
       "</table>\n",
       "</div>"
      ],
      "text/plain": [
       "                                                test acc  valid acc  \\\n",
       "size: 64, mode: triangular, stepsize: 315,        0.7493     0.7316   \n",
       "size: 64, mode: triangular, stepsize: 315,  x2    0.7463     0.7252   \n",
       "size: 64, mode: triangular2, stepsize: 315,       0.7438     0.7221   \n",
       "\n",
       "                                                train acc  test loss  \\\n",
       "size: 64, mode: triangular, stepsize: 315,         0.7713     0.9368   \n",
       "size: 64, mode: triangular, stepsize: 315,  x2     0.7686     0.9660   \n",
       "size: 64, mode: triangular2, stepsize: 315,        0.7653     0.9432   \n",
       "\n",
       "                                                valid loss  train loss  \\\n",
       "size: 64, mode: triangular, stepsize: 315,          0.9491      0.8491   \n",
       "size: 64, mode: triangular, stepsize: 315,  x2      1.0058      0.8794   \n",
       "size: 64, mode: triangular2, stepsize: 315,         0.9939      0.8679   \n",
       "\n",
       "                                                test prec  valid prec  \\\n",
       "size: 64, mode: triangular, stepsize: 315,         0.6929      0.6582   \n",
       "size: 64, mode: triangular, stepsize: 315,  x2     0.6892      0.6497   \n",
       "size: 64, mode: triangular2, stepsize: 315,        0.6872      0.6481   \n",
       "\n",
       "                                                train prec  test rec  \\\n",
       "size: 64, mode: triangular, stepsize: 315,          0.7015    0.9233   \n",
       "size: 64, mode: triangular, stepsize: 315,  x2      0.6971    0.9251   \n",
       "size: 64, mode: triangular2, stepsize: 315,         0.6936    0.9235   \n",
       "\n",
       "                                                valid rec  train rec  \n",
       "size: 64, mode: triangular, stepsize: 315,         0.9038     0.9421  \n",
       "size: 64, mode: triangular, stepsize: 315,  x2     0.9090     0.9478  \n",
       "size: 64, mode: triangular2, stepsize: 315,        0.9032     0.9476  "
      ]
     },
     "execution_count": 35,
     "metadata": {},
     "output_type": "execute_result"
    },
    {
     "data": {
      "text/plain": [
       "'base-lr: 1e-06, max-lr 0.0001,'"
      ]
     },
     "execution_count": 35,
     "metadata": {},
     "output_type": "execute_result"
    }
   ],
   "source": [
    "hp_overview.sort_values(by=['test acc'], ascending = False).iloc[:3,:]\n",
    "# hp_overview.sort_values(by=['test loss'], ascending = True).iloc[:3,:]\n",
    "# hp_overview.sort_values(by=['test prec'], ascending = False).iloc[:3,:]\n",
    "# hp_overview.sort_values(by=['test rec'], ascending = False).iloc[:3,:]\n",
    "model_det[0][49:79]"
   ]
  },
  {
   "cell_type": "code",
   "execution_count": 10,
   "metadata": {},
   "outputs": [
    {
     "data": {
      "text/plain": [
       "'/home/rick/Documents/HannahZ/Code/new_weights/IncResNetV2_bs-64_triangular_sz-315_blr-1e-06_mlr-0.0001_e-48_imagenet_595.hdf5'"
      ]
     },
     "execution_count": 10,
     "metadata": {},
     "output_type": "execute_result"
    }
   ],
   "source": [
    "# decide on best hyperparameters\n",
    "batch_size = 64\n",
    "step_size = 315\n",
    "mode = 'triangular'\n",
    "base_lr = 0.000001\n",
    "max_lr = 0.0001\n",
    "epochs = 48\n",
    "d3 = {}\n",
    "fp = (str(modelname) + '_bs-' + str(batch_size) + '_' + str(mode) + '_sz-' + str(step_size) + '_blr-' \n",
    "      + str(base_lr) + '_mlr-' + str(max_lr) + '_e-' + str(epochs) + '_' + weights + '_' + str(trainable_layers))\n",
    "new_weight_dir + '/' + fp + '.hdf5'"
   ]
  },
  {
   "cell_type": "code",
   "execution_count": 11,
   "metadata": {},
   "outputs": [],
   "source": [
    "def trainModels(batch_size = batch_size, stepsize = step_size, mode = mode, max_lr = max_lr, base_lr = base_lr, \n",
    "                epochs = epochs, verbose = 0):\n",
    "    start_time = time()   \n",
    "    global name\n",
    "    global filepath\n",
    "    global d    \n",
    "    date = str(datetime.now().date())\n",
    "    d = {}\n",
    "    for i in range(5):\n",
    "        compileModel()\n",
    "        # logdir in linux:\n",
    "        logdir = (log_dir + '/' + date + '_' + str(batch_size) + '_' + str(mode) + '_si-' + str(stepsize) \n",
    "                  + '_base-' + str(base_lr) + '_max-' + str(max_lr) + '_' + str(i))\n",
    "        # logdir in windows:\n",
    "        ##logdir = (log_dir + '\\\\' + date + '_' + str(batch_size) + '_' + str(mode) + '_si-' + str(stepsize) + \n",
    "        #          '_base-' + str(base_lr) + '_max-' + str(max_lr) + '_' + str(i))\n",
    "        name = ('batch size: ' + str(batch_size) + ', mode: ' + str(mode) + ', stepsize: ' \n",
    "                + str(stepsize) + ', base-lr: ' + str(base_lr) + ', max-lr ' + str(max_lr) + '_' + str(i))\n",
    "        print(' - Model specifics:\\t{}'.format(name))\n",
    "        clr = CyclicLR(base_lr = base_lr, max_lr=max_lr, step_size= stepsize, mode = mode)\n",
    "        fp = (str(modelname) + '_bs-' + str(batch_size) + '_' + str(mode) + '_sz-' + str(step_size) + '_blr-' \n",
    "              + str(base_lr) + '_mlr-' + str(max_lr) + '_e-' + str(epochs) + '_' + weights + '_' \n",
    "              + str(trainable_layers) + '_' + str(i))\n",
    "        filepath = new_weight_dir + '/' + fp + '-{epoch:02d}-' +'.hdf5'\n",
    "        checkp = ModelCheckpoint(filepath, monitor='val_acc', verbose= verbose, save_weights_only=True, \n",
    "                                save_best_only=True, mode='max', period=1)\n",
    "        tbCallBack = TensorBoard(log_dir=logdir, histogram_freq=0, \n",
    "                             write_graph=False, write_images=False)\n",
    "        d[\"FinalModel{0}\".format(i)]= Final_model\n",
    "        d[\"FinalModel{0}\".format(i)].fit(x = train_images, y = train_labels, epochs = epochs, \n",
    "                                         callbacks= [tbCallBack, clr, checkp], batch_size = batch_size,\n",
    "                                         validation_data = (valid_images, valid_labels), verbose = 0)\n",
    "    end_time = time()\n",
    "    time_dif = end_time - start_time\n",
    "    print('Time usage: ' + str(timedelta(seconds=int(round(time_dif)))) + ' minutes')"
   ]
  },
  {
   "cell_type": "code",
   "execution_count": 12,
   "metadata": {},
   "outputs": [
    {
     "name": "stdout",
     "output_type": "stream",
     "text": [
      " - Model specifics:\tbatch size: 64, mode: triangular, stepsize: 315, base-lr: 1e-06, max-lr 0.0001_0\n",
      " - Model specifics:\tbatch size: 64, mode: triangular, stepsize: 315, base-lr: 1e-06, max-lr 0.0001_1\n",
      " - Model specifics:\tbatch size: 64, mode: triangular, stepsize: 315, base-lr: 1e-06, max-lr 0.0001_2\n",
      " - Model specifics:\tbatch size: 64, mode: triangular, stepsize: 315, base-lr: 1e-06, max-lr 0.0001_3\n",
      " - Model specifics:\tbatch size: 64, mode: triangular, stepsize: 315, base-lr: 1e-06, max-lr 0.0001_4\n",
      "Time usage: 0:19:06 minutes\n"
     ]
    }
   ],
   "source": [
    "# build best model again\n",
    "# usual time: 15 minutes - 18\n",
    "fm = ['FinalModel1', 'FinalModel2', 'FinalModel3', 'FinalModel4', 'FinalModel5']\n",
    "metrics = ['loss', 'acc', 'precision', 'recall']\n",
    "name = ('bs-' + str(batch_size) + '_' + str(mode) + '_sz-' + str(step_size) + '_blr-' + str(base_lr) + '_mlr-' \n",
    "       + str(max_lr)) + '_' + str(weights) + '_' + str(trainable_layers)\n",
    "trainModels(base_lr = base_lr, max_lr= max_lr, epochs = epochs, verbose = 0,\n",
    "           batch_size = batch_size, stepsize = step_size, mode = mode)"
   ]
  },
  {
   "cell_type": "code",
   "execution_count": 14,
   "metadata": {},
   "outputs": [
    {
     "name": "stdout",
     "output_type": "stream",
     "text": [
      "IncResNetV2_bs-64_triangular_sz-315_blr-1e-06_mlr-0.0001_e-48_imagenet_595_0-{epoch:02d}-.hdf5\n",
      "IncResNetV2_bs-64_triangular_sz-315_blr-1e-06_mlr-0.0001_e-48_imagenet_595_0\n"
     ]
    }
   ],
   "source": [
    "# find out where 'bs' starts and '_' ends...\n",
    "i = 0\n",
    "last = 121\n",
    "print(str(filepath)[46:last] + str(i) + str(filepath)[(last+1):])\n",
    "filename = str(filepath)[46:last] + str(i)\n",
    "print(filename)\n",
    "from collections import OrderedDict"
   ]
  },
  {
   "cell_type": "code",
   "execution_count": null,
   "metadata": {},
   "outputs": [],
   "source": []
  },
  {
   "cell_type": "code",
   "execution_count": 15,
   "metadata": {},
   "outputs": [
    {
     "name": "stdout",
     "output_type": "stream",
     "text": [
      "IncResNetV2_bs-64_triangular_sz-315_blr-1e-06_mlr-0.0001_e-48_imagenet_595_0\n",
      "IncResNetV2_bs-64_triangular_sz-315_blr-1e-06_mlr-0.0001_e-48_imagenet_595_0-26-.hdf5\n",
      "td0-e26\n",
      "\n",
      "IncResNetV2_bs-64_triangular_sz-315_blr-1e-06_mlr-0.0001_e-48_imagenet_595_1\n",
      "IncResNetV2_bs-64_triangular_sz-315_blr-1e-06_mlr-0.0001_e-48_imagenet_595_1-08-.hdf5\n",
      "td1-e08\n",
      "\n",
      "IncResNetV2_bs-64_triangular_sz-315_blr-1e-06_mlr-0.0001_e-48_imagenet_595_2\n",
      "IncResNetV2_bs-64_triangular_sz-315_blr-1e-06_mlr-0.0001_e-48_imagenet_595_2-16-.hdf5\n",
      "td2-e16\n",
      "\n",
      "IncResNetV2_bs-64_triangular_sz-315_blr-1e-06_mlr-0.0001_e-48_imagenet_595_3\n",
      "IncResNetV2_bs-64_triangular_sz-315_blr-1e-06_mlr-0.0001_e-48_imagenet_595_3-29-.hdf5\n",
      "td3-e29\n",
      "\n",
      "IncResNetV2_bs-64_triangular_sz-315_blr-1e-06_mlr-0.0001_e-48_imagenet_595_4\n",
      "IncResNetV2_bs-64_triangular_sz-315_blr-1e-06_mlr-0.0001_e-48_imagenet_595_4-07-.hdf5\n",
      "td4-e07\n",
      "\n",
      "Time usage: 0:01:26 minutes\n"
     ]
    }
   ],
   "source": [
    "# usual time: 2 minutes\n",
    "startTime = time()\n",
    "FinalModelList = OrderedDict()\n",
    "d3 = OrderedDict()\n",
    "for i in range(5):\n",
    "    filename = str(filepath)[46:last] + str(i) #+ str(filepath)[113:]\n",
    "    weightlist = os.listdir(new_weight_dir)\n",
    "    print(filename)\n",
    "    best_filename = 'no'\n",
    "    for el in weightlist:\n",
    "        if(str(el)[:len(filename)]) == filename:\n",
    "            if len(el)>(len(filename)+5):\n",
    "                best_filename = el\n",
    "    print(best_filename)\n",
    "    best = str(best_filename)[-8:-6]\n",
    "    os.chdir(new_weight_dir)\n",
    "    compileModel()\n",
    "    Final_model.load_weights(best_filename)\n",
    "    FinalModelList[\"FinalModel{}-e{}\".format(i,best)]= Final_model\n",
    "    test_m = Final_model.evaluate(test_images, test_labels, verbose = 0)\n",
    "    test_m = [round(el, 4) for el in test_m]\n",
    "    valid_m = Final_model.evaluate(valid_images, valid_labels, verbose = 0)\n",
    "    valid_m = [round(el, 4) for el in valid_m]\n",
    "    train_m = Final_model.evaluate(train_images, train_labels, verbose = 0)\n",
    "    train_m = [round(el, 4) for el in train_m]\n",
    "    col = [\"FinalModel{}-e{}\".format(i,best)]\n",
    "    print(\"td{}-e{}\".format(i, best))\n",
    "    d3[\"td{}-e{}\".format(i, best)]= pd.DataFrame(data = test_m[:4], columns = col, index = metrics)\n",
    "#     print('Best test accuracy model {}: {}'.format(i, test_m[1]))\n",
    "#     print('Best validation accuracy model {}: {}'.format(i, valid_m[1]))\n",
    "#     print('Best training accuracy model {}: {}'.format(i, train_m[1]))\n",
    "    print('')\n",
    "endTime = time()\n",
    "finalTime = endTime - startTime\n",
    "print('Time usage: ' + str(timedelta(seconds=int(round(finalTime)))) + ' minutes')"
   ]
  },
  {
   "cell_type": "code",
   "execution_count": 17,
   "metadata": {},
   "outputs": [
    {
     "data": {
      "text/html": [
       "<div>\n",
       "<style scoped>\n",
       "    .dataframe tbody tr th:only-of-type {\n",
       "        vertical-align: middle;\n",
       "    }\n",
       "\n",
       "    .dataframe tbody tr th {\n",
       "        vertical-align: top;\n",
       "    }\n",
       "\n",
       "    .dataframe thead th {\n",
       "        text-align: right;\n",
       "    }\n",
       "</style>\n",
       "<table border=\"1\" class=\"dataframe\">\n",
       "  <thead>\n",
       "    <tr style=\"text-align: right;\">\n",
       "      <th></th>\n",
       "      <th>loss</th>\n",
       "      <th>acc</th>\n",
       "      <th>precision</th>\n",
       "      <th>recall</th>\n",
       "    </tr>\n",
       "  </thead>\n",
       "  <tbody>\n",
       "    <tr>\n",
       "      <th>FinalModel3-e29</th>\n",
       "      <td>0.6502</td>\n",
       "      <td>0.7816</td>\n",
       "      <td>0.7572</td>\n",
       "      <td>0.8381</td>\n",
       "    </tr>\n",
       "    <tr>\n",
       "      <th>FinalModel2-e16</th>\n",
       "      <td>0.6711</td>\n",
       "      <td>0.7709</td>\n",
       "      <td>0.7346</td>\n",
       "      <td>0.8718</td>\n",
       "    </tr>\n",
       "    <tr>\n",
       "      <th>FinalModel4-e07</th>\n",
       "      <td>0.5956</td>\n",
       "      <td>0.7698</td>\n",
       "      <td>0.7381</td>\n",
       "      <td>0.8573</td>\n",
       "    </tr>\n",
       "    <tr>\n",
       "      <th>FinalModel0-e26</th>\n",
       "      <td>0.7482</td>\n",
       "      <td>0.7634</td>\n",
       "      <td>0.7182</td>\n",
       "      <td>0.8875</td>\n",
       "    </tr>\n",
       "    <tr>\n",
       "      <th>FinalModel1-e08</th>\n",
       "      <td>0.6629</td>\n",
       "      <td>0.7537</td>\n",
       "      <td>0.7325</td>\n",
       "      <td>0.8138</td>\n",
       "    </tr>\n",
       "  </tbody>\n",
       "</table>\n",
       "</div>"
      ],
      "text/plain": [
       "                   loss     acc  precision  recall\n",
       "FinalModel3-e29  0.6502  0.7816     0.7572  0.8381\n",
       "FinalModel2-e16  0.6711  0.7709     0.7346  0.8718\n",
       "FinalModel4-e07  0.5956  0.7698     0.7381  0.8573\n",
       "FinalModel0-e26  0.7482  0.7634     0.7182  0.8875\n",
       "FinalModel1-e08  0.6629  0.7537     0.7325  0.8138"
      ]
     },
     "execution_count": 17,
     "metadata": {},
     "output_type": "execute_result"
    }
   ],
   "source": [
    "keys = d3.keys()\n",
    "FinalResults = pd.concat([d3[keys[0]], d3[keys[1]], d3[keys[2]], d3[keys[3]], d3[keys[4]]], axis=1)\n",
    "FinalResults = pd.DataFrame(data = FinalResults.transpose(), columns = metrics)\n",
    "FinalResults.sort_values(by = ['acc'], ascending = False)"
   ]
  },
  {
   "cell_type": "code",
   "execution_count": 18,
   "metadata": {
    "scrolled": true
   },
   "outputs": [
    {
     "name": "stdout",
     "output_type": "stream",
     "text": [
      "['FinalModel0-e26', 'FinalModel1-e08', 'FinalModel2-e16', 'FinalModel3-e29', 'FinalModel4-e07']\n",
      "934/934 [==============================] - 7s 8ms/step\n"
     ]
    },
    {
     "data": {
      "text/html": [
       "<div>\n",
       "<style scoped>\n",
       "    .dataframe tbody tr th:only-of-type {\n",
       "        vertical-align: middle;\n",
       "    }\n",
       "\n",
       "    .dataframe tbody tr th {\n",
       "        vertical-align: top;\n",
       "    }\n",
       "\n",
       "    .dataframe thead th {\n",
       "        text-align: right;\n",
       "    }\n",
       "</style>\n",
       "<table border=\"1\" class=\"dataframe\">\n",
       "  <thead>\n",
       "    <tr style=\"text-align: right;\">\n",
       "      <th></th>\n",
       "      <th>loss</th>\n",
       "      <th>acc</th>\n",
       "      <th>precision</th>\n",
       "      <th>recall</th>\n",
       "    </tr>\n",
       "  </thead>\n",
       "  <tbody>\n",
       "    <tr>\n",
       "      <th>FinalModel3-e29</th>\n",
       "      <td>0.650200</td>\n",
       "      <td>0.781600</td>\n",
       "      <td>0.757200</td>\n",
       "      <td>0.838100</td>\n",
       "    </tr>\n",
       "    <tr>\n",
       "      <th>ensembleModel</th>\n",
       "      <td>0.582777</td>\n",
       "      <td>0.775161</td>\n",
       "      <td>0.743294</td>\n",
       "      <td>0.859578</td>\n",
       "    </tr>\n",
       "    <tr>\n",
       "      <th>FinalModel2-e16</th>\n",
       "      <td>0.671100</td>\n",
       "      <td>0.770900</td>\n",
       "      <td>0.734600</td>\n",
       "      <td>0.871800</td>\n",
       "    </tr>\n",
       "    <tr>\n",
       "      <th>FinalModel4-e07</th>\n",
       "      <td>0.595600</td>\n",
       "      <td>0.769800</td>\n",
       "      <td>0.738100</td>\n",
       "      <td>0.857300</td>\n",
       "    </tr>\n",
       "    <tr>\n",
       "      <th>FinalModel0-e26</th>\n",
       "      <td>0.748200</td>\n",
       "      <td>0.763400</td>\n",
       "      <td>0.718200</td>\n",
       "      <td>0.887500</td>\n",
       "    </tr>\n",
       "    <tr>\n",
       "      <th>FinalModel1-e08</th>\n",
       "      <td>0.662900</td>\n",
       "      <td>0.753700</td>\n",
       "      <td>0.732500</td>\n",
       "      <td>0.813800</td>\n",
       "    </tr>\n",
       "  </tbody>\n",
       "</table>\n",
       "</div>"
      ],
      "text/plain": [
       "                     loss       acc  precision    recall\n",
       "FinalModel3-e29  0.650200  0.781600   0.757200  0.838100\n",
       "ensembleModel    0.582777  0.775161   0.743294  0.859578\n",
       "FinalModel2-e16  0.671100  0.770900   0.734600  0.871800\n",
       "FinalModel4-e07  0.595600  0.769800   0.738100  0.857300\n",
       "FinalModel0-e26  0.748200  0.763400   0.718200  0.887500\n",
       "FinalModel1-e08  0.662900  0.753700   0.732500  0.813800"
      ]
     },
     "execution_count": 18,
     "metadata": {},
     "output_type": "execute_result"
    }
   ],
   "source": [
    "dictlist = FinalModelList.keys()\n",
    "print(dictlist)\n",
    "models = [FinalModelList[dictlist[0]], FinalModelList[dictlist[1]], FinalModelList[dictlist[2]], \\\n",
    "          FinalModelList[dictlist[3]], FinalModelList[dictlist[4]]]\n",
    "def ensemble(models):    \n",
    "    global eModel\n",
    "    outputs = [model.outputs[0] for model in models]\n",
    "    y = keras.layers.Average()(outputs)   \n",
    "    eModel = Model(inputs=Model_base.input, outputs = y, name='ensemble')  \n",
    "    eModel.compile(optimizer='rmsprop', loss='binary_crossentropy',\n",
    "                   metrics=['accuracy', precision, recall, fmeasure])\n",
    "    return eModel\n",
    "ensemble_model = ensemble(models)\n",
    "ensResults = ensemble_model.evaluate(test_images, test_labels)\n",
    "Res = pd.DataFrame(data = ensResults[:4], columns = ['ensembleModel'], index = metrics)\n",
    "Res.transpose()\n",
    "keys = d3.keys()\n",
    "FinalResults = pd.concat([d3[keys[0]], d3[keys[1]], d3[keys[2]], d3[keys[3]], d3[keys[4]], Res], axis=1)\n",
    "FinalResults = pd.DataFrame(data = FinalResults.transpose(), columns = metrics)\n",
    "FinalResults.sort_values(by = ['acc'], ascending = False)"
   ]
  },
  {
   "cell_type": "code",
   "execution_count": 20,
   "metadata": {},
   "outputs": [
    {
     "name": "stdout",
     "output_type": "stream",
     "text": [
      "IncResNetV2_bs-64_triangular_sz-315_blr-1e-06_mlr-0.0001_e-48_imagenet_595_3-e29\n"
     ]
    }
   ],
   "source": [
    "# change again the path name\n",
    "# saving the model   \n",
    "i = 3\n",
    "#FinName = str(filepath)[46:112] + '_ensemble' \n",
    "FinName = str(filepath)[46:last] + str(i) + dictlist[i][-4:]\n",
    "print(FinName)\n",
    "os.chdir(model_dir)\n",
    "#Final_model1 = ensemble_model # or\n",
    "Final_model = FinalModelList[dictlist[i]]\n",
    "# predictions = np.round(Final_model.predict(test_images),4)           \n",
    "# predictions_ensemble = np.round(Final_model1.predict(test_images),4)\n",
    "# for v1, v2 in zip(predictions[:5], predictions_ensemble[:5]):\n",
    "#     print('Best model prediction and ensemble prediction: \\t{} \\t{}'.format(v1, v2))"
   ]
  },
  {
   "cell_type": "code",
   "execution_count": 21,
   "metadata": {},
   "outputs": [],
   "source": [
    "Final_model.save(FinName)"
   ]
  },
  {
   "cell_type": "code",
   "execution_count": null,
   "metadata": {},
   "outputs": [],
   "source": [
    "# calculating the ROC    \n",
    "y_pred = Final_model.predict(test_images, batch_size = 64)\n",
    "y_true = test_labels\n",
    "fpr, tpr, thresholds = roc_curve(y_true, y_pred, pos_label = 1)\n",
    "roc_auc = auc(fpr, tpr)\n",
    "plt.figure()\n",
    "plt.plot(fpr, tpr, color='lime',\n",
    "         lw=2, label='ROC curve (area = %0.2f)' % roc_auc)\n",
    "plt.plot([0, 1], [0, 1], color='darkgrey', lw=2, linestyle='--')\n",
    "plt.xlim([-0.05, 1.0])\n",
    "plt.ylim([0.0, 1.05])\n",
    "plt.xlabel('False Positive Rate')\n",
    "plt.ylabel('True Positive Rate')\n",
    "plt.title('Receiver operating characteristic Curve')\n",
    "plt.legend(loc=\"lower right\")\n",
    "plt.show()"
   ]
  },
  {
   "cell_type": "code",
   "execution_count": null,
   "metadata": {
    "collapsed": true
   },
   "outputs": [],
   "source": [
    "# calculating the ROC    \n",
    "y_pred = Final_model.predict(test_images, batch_size = 64)\n",
    "y_true = test_labels\n",
    "fpr, tpr, thresholds = roc_curve(y_true, y_pred, pos_label = 1)\n",
    "roc_auc = auc(fpr, tpr)\n",
    "plt.figure()\n",
    "plt.plot(fpr, tpr, color='lime',\n",
    "         lw=2, label='ROC curve (area = %0.2f)' % roc_auc)\n",
    "plt.plot([0, 1], [0, 1], color='darkgrey', lw=2, linestyle='--')\n",
    "plt.xlim([-0.05, 1.0])\n",
    "plt.ylim([0.0, 1.05])\n",
    "plt.xlabel('False Positive Rate')\n",
    "plt.ylabel('True Positive Rate')\n",
    "plt.title('Receiver operating characteristic Curve')\n",
    "plt.legend(loc=\"lower right\")\n",
    "plt.show()\n",
    "\n",
    "# evaluation with bootstrapping\n",
    "seed(1)\n",
    "ratio = 0.1\n",
    "y_pred_1 = Final_model.predict(test_images, batch_size = 64).squeeze(axis = 1)\n",
    "def subsample(dataset = y_pred_1, labels = test_labels, ratio= ratio):\n",
    "    pred_sample = list()\n",
    "    label_sample = list()\n",
    "    n_sample = round(len(dataset) * ratio)\n",
    "    index = sample(range(len(dataset)), n_sample)\n",
    "    pred_sample = dataset[index]\n",
    "    label_sample = labels[index]           \n",
    "    return pred_sample, label_sample\n",
    "\n",
    "loss = []\n",
    "accuracy = []\n",
    "precisions = []\n",
    "recalls = []\n",
    "f_measures = []\n",
    "    \n",
    "def bootstrap(iterations = 20, ratio = ratio, dataset = y_pred_1, labels = test_labels):    \n",
    "    for i in range (iterations):\n",
    "        b_pred, b_labels = subsample(dataset, labels, ratio)\n",
    "        lo = cross_entropy(b_pred, b_labels)\n",
    "        b_pred_rounded = b_pred.round()\n",
    "        acc = accuracy_score(b_labels, b_pred_rounded)\n",
    "        pre = precision_score(b_labels, b_pred_rounded)\n",
    "        rec = recall_score(b_labels, b_pred_rounded)\n",
    "        fme = f1_score(b_labels, b_pred_rounded)\n",
    "        loss.append(lo)\n",
    "        accuracy.append(acc)\n",
    "        precisions.append(pre)\n",
    "        recalls.append(rec)\n",
    "        f_measures.append(fme)\n",
    "        if (i%100 == 0): \n",
    "            print('Iteration_' + str(i))\n",
    "        \n",
    "bootstrap(iterations = 10000)\n",
    "plt.hist(accuracy, bins = 100, range = [0,1])\n",
    "plt.hist(precisions, bins = 100, range = [0,1])\n",
    "plt.hist(recalls, bins = 100, range = [0,1])\n",
    "plt.hist(loss, bins = 100)\n",
    "\n",
    "##################### second training stage ###################################\n",
    "for i, layer in enumerate(Model_base.layers):\n",
    "   if ('mix' in layer.name):\n",
    "       print(i, layer.name)\n",
    "for layer in Final_model.layers[:275]:\n",
    "   layer.trainable = False\n",
    "for layer in Final_model.layers[275:]:\n",
    "   layer.trainable = True\n",
    "\n",
    "Final_model.compile(optimizer=SGD(lr=0.0001, momentum=0.9), \n",
    "              loss='binary_crossentropy', metrics = ['acc'])\n",
    "def train2_IncResNet_model(epochs = 21):\n",
    "    global no_of_epochs\n",
    "    Final_model.fit(x = train_images, y = train_labels, epochs = epochs)\n",
    "    no_of_epochs = no_of_epochs + epochs\n",
    "train2_IncResNet_model(epochs = 21)\n",
    "\n",
    "result = Final_model.evaluate(test_images, test_labels)\n",
    "for name, value in zip(Final_model.metrics_names, result):\n",
    "    print(name, value)\n",
    "\n",
    "### making predictions on the test data\n",
    "predictions = Final_model.predict(test_images).squeeze(axis = 1)\n",
    "binary_preds = predictions.round()\n",
    "print(predictions[0:10], binary_preds[0:10])\n",
    "\n",
    "# Plot a few images to see if the data is correct\n",
    "images = test_images[9:18]\n",
    "cls_true = test_labels[9:18].astype(int)\n",
    "plot_images(images=images, cls_true=cls_true)\n",
    "cls_pred = binary_preds[9:18]\n",
    "plot_images(images=images, cls_true=cls_true, cls_pred = cls_pred)    \n",
    "\n",
    "### checking test accuracy, example errors and confusion matrix\n",
    "print_test_accuracy\n",
    "\n",
    "### checking which layers are convolutional layers\n",
    "for i, layer in enumerate(Model_base.layers):\n",
    "   if ('conv' in layer.name):\n",
    "       print(i, layer.name)\n",
    "\n",
    "plot_weights(input_channel = 0, layer_index = 1)\n",
    "plot_weights(input_channel = 1, layer_index = 1)\n",
    "\n",
    "\n",
    "\n",
    "\n",
    "\n",
    "\n",
    "\n",
    "\n",
    "\n",
    "\n",
    "\n",
    "\n",
    "\n",
    "\n",
    "\n",
    "\n",
    "\n",
    "\n",
    "#*****************************************************************************\n",
    "################# HELPER FUNCTIONS ###########################################\n",
    "#\n",
    "#*****************************************************************************\n",
    "\n",
    "### Helper function for confusion matrix #####################################\n",
    "import itertools\n",
    "classes = ['no sp', 'sp']\n",
    "\n",
    "def plot_confusion_matrix(cm = cm, classes = classes,\n",
    "                          normalize=False,\n",
    "                          title='Confusion matrix',\n",
    "                          cmap=plt.cm.Blues):\n",
    "    \"\"\"\n",
    "    This function prints and plots the confusion matrix.\n",
    "    Normalization can be applied by setting `normalize=True`.\n",
    "    \"\"\"\n",
    "    if normalize:\n",
    "        cm = cm.astype('float') / cm.sum()\n",
    "        print(\"Normalized confusion matrix\")\n",
    "    else:\n",
    "        print('Confusion matrix, without normalization')\n",
    "    print(cm)\n",
    "    plt.imshow(cm, interpolation='nearest', cmap=cmap)\n",
    "    plt.title(title)\n",
    "    plt.colorbar()\n",
    "    tick_marks = np.arange(len(classes))\n",
    "    plt.xticks(tick_marks, classes)\n",
    "    plt.yticks(tick_marks, classes)\n",
    "    fmt = '.2f' if normalize else 'd'\n",
    "    thresh = cm.max() / 2.\n",
    "    for i, j in itertools.product(range(cm.shape[0]), range(cm.shape[1])):\n",
    "        plt.text(j, i, format(cm[i, j], fmt),\n",
    "                 horizontalalignment=\"center\",\n",
    "                 color=\"white\" if cm[i, j] > thresh else \"black\")     \n",
    "    plt.tight_layout(pad = 2)\n",
    "    plt.ylabel('True label')\n",
    "    plt.xlabel('Predicted label')\n",
    "\n",
    "\n",
    "###### Helper function for plotting images ####################################\n",
    "def plot_images(images, cls_true, cls_pred=None):\n",
    "    assert len(images) == len(cls_true) == 9\n",
    "    # Create figure with 3x3 sub-plots.\n",
    "    fig, axes = plt.subplots(3, 3)\n",
    "    fig.subplots_adjust(hspace=0.3, wspace=0.3)\n",
    "    for i, ax in enumerate(axes.flat):\n",
    "        ax.imshow(images[i], cmap='binary')\n",
    "        if cls_pred is None:\n",
    "            xlabel = \"Label: {0}\".format(cls_true[i])\n",
    "        else:\n",
    "            xlabel = \"Label: {0}, Pred: {1}\".format(cls_true[i], cls_pred[i])\n",
    "        # Show the classes as the label on the x-axis.\n",
    "        ax.set_xlabel(xlabel)\n",
    "        ax.set_xticks([])\n",
    "        ax.set_yticks([])\n",
    "    plt.show() \n",
    "    \n",
    "### Example errors\n",
    "def plot_example_errors(cls_pred, correct):\n",
    "    incorrect = (correct == False)\n",
    "    images = test_images[incorrect]\n",
    "    cls_pred = cls_pred[incorrect]\n",
    "    cls_true = test_labels[incorrect]\n",
    "    plot_images(images=images[0:9],\n",
    "                cls_true=cls_true[0:9],\n",
    "                cls_pred=cls_pred[0:9])\n",
    "\n",
    "def print_test_accuracy(show_example_errors=True,\n",
    "                        show_confusion_matrix=True, \n",
    "                        show_first_10_preds = True):\n",
    "    num_test = len(test_images)\n",
    "    #cls_pred = np.zeros(shape=num_test, dtype=np.int)\n",
    "    cls_pred = Final_model.predict(test_images).squeeze(axis = 1).round()\n",
    "    cls_true = test_labels\n",
    "    correct = (cls_true == cls_pred)\n",
    "    correct_sum = correct.sum()\n",
    "    acc = float(correct_sum) / num_test\n",
    "    msg = \"Accuracy on Test-Set: {0:.1%} ({1} / {2})\"\n",
    "    print(msg.format(acc, correct_sum, num_test))\n",
    "    # Plot some examples of mis-classifications, if desired.\n",
    "    if show_example_errors:\n",
    "        print(\"Example errors:\")\n",
    "        plot_example_errors(cls_pred=cls_pred, correct=correct)\n",
    "    # Plot the confusion matrix, if desired.\n",
    "    if show_confusion_matrix:\n",
    "        print(\"Confusion Matrix:\")\n",
    "        cm = confusion_matrix(test_labels, cls_pred.round())\n",
    "        plot_confusion_matrix(cm = cm)\n",
    "    # Show the first hundred predictions made:\n",
    "    if show_first_10_preds:\n",
    "        print(\"First 10 predictions:\")\n",
    "        print(cls_pred[0:10])\n",
    "\n",
    "\n",
    "#### Helper function for plotting the output of a convolutional layer\n",
    "#def plot_conv_layer(layer, image):\n",
    "#    feed_dict = {x: [image]}\n",
    "#    values = IncResNet_model.run(layer, feed_dict=feed_dict)\n",
    "#    num_filters = values.shape[3]\n",
    "#    num_grids = math.ceil(math.sqrt(num_filters))\n",
    "#    fig, axes = plt.subplots(num_grids, num_grids)\n",
    "#    for i, ax in enumerate(axes.flat):\n",
    "#        if i<num_filters:\n",
    "#            img = values[0, :, :, i]\n",
    "#            ax.imshow(img, interpolation='nearest', cmap='binary')\n",
    "#        ax.set_xticks([])\n",
    "#        ax.set_yticks([])\n",
    "#    plt.show()\n",
    "\n",
    "### Helper function for conv weights\n",
    "def plot_weights(input_channel=0, layer_index = 1):\n",
    "    w = Final_model.layers[layer_index].get_weights()[0]\n",
    "    w_min = np.min(w)\n",
    "    w_max = np.max(w)\n",
    "    num_filters = w.shape[3]\n",
    "    num_grids = math.ceil(math.sqrt(num_filters))\n",
    "    fig, axes = plt.subplots(num_grids, num_grids)\n",
    "    for i, ax in enumerate(axes.flat):\n",
    "        if i<num_filters:\n",
    "            img = w[:, :, input_channel, i]\n",
    "            ax.imshow(img, vmin=w_min, vmax=w_max,\n",
    "                      interpolation='nearest', cmap='seismic')\n",
    "        ax.set_xticks([])\n",
    "        ax.set_yticks([])\n",
    "    plt.show()"
   ]
  }
 ],
 "metadata": {
  "kernelspec": {
   "display_name": "Python [default]",
   "language": "python",
   "name": "python2"
  },
  "language_info": {
   "codemirror_mode": {
    "name": "ipython",
    "version": 2
   },
   "file_extension": ".py",
   "mimetype": "text/x-python",
   "name": "python",
   "nbconvert_exporter": "python",
   "pygments_lexer": "ipython2",
   "version": "2.7.15"
  }
 },
 "nbformat": 4,
 "nbformat_minor": 2
}
