{
 "cells": [
  {
   "cell_type": "code",
   "execution_count": 1,
   "metadata": {
    "collapsed": true
   },
   "outputs": [],
   "source": [
    "### Investigation of how the model performing best and being trained on images from NRW annotated by us\n",
    "### performs on the >30.000 images data set from California\n",
    "\n",
    "# It investigates \n",
    "#1)  how does the best model (xception model with pre-trained weights from imagenet and all layers set to trainable during the \n",
    "#    further training process on the NRW data set) perform on the California data set\n",
    "\n",
    "#2) how it performs on the california and NRW data set if it is further trained on the Cali data set for 5 epochs\n",
    "\n",
    "#3) how the same model type (xception, pre-trained, all layers trainable) performs on the Cali and NRW dataset if it \n",
    "#   is not pre-trained on NRW data, but only on Cali data for 5 epochs\n",
    "\n",
    "#4) doing the same with the NRW data training for 48 epochs first and then evaluating on NRW and Cali data\n",
    "\n",
    "#5) then retraining this data set for 5 epochs on the Cali data set and evaluating again on NRW and Cali data\n",
    "\n",
    "#6) then checking if it is an exception occuring only for the Xception network or if any of the other models pre-trained on \n",
    "#   the NRW data set is performing better"
   ]
  },
  {
   "cell_type": "code",
   "execution_count": 3,
   "metadata": {},
   "outputs": [],
   "source": [
    "### setting the different directories \n",
    "\n",
    "# on the server (linux):\n",
    "# where to find the images:\n",
    "#home_dir = '/home/rick/Documents/HannahZ'\n",
    "# folder where to save code and so on\n",
    "#code_dir = home_dir + '/Code'\n",
    "# where to save the final models\n",
    "#model_dir = code_dir + '/Final_models'\n",
    "# where to save the logs for visualization in TensorBoard\n",
    "#log_dir = code_dir + '/logs'\n",
    "# where to save the weights\n",
    "#new_weight_dir = code_dir + '/new_weights'\n",
    "\n",
    "# # on my computer (windows):\n",
    "# # where to find the images:\n",
    "home_dir = '\\\\Users\\\\ThinkPad User\\\\Google Drive\\\\DeepSolaris'\n",
    "# # folder where to save code and so on\n",
    "code_dir = '\\\\Users\\\\ThinkPad User\\\\Google Drive\\\\Master_thesis_H_Z_DL&NN\\\\Results'\n",
    "# # where to save the final models\n",
    "model_dir = 'E:\\\\FinalModels\\\\'\n",
    "# # where to save the logs for visualization in TensorBoard\n",
    "log_dir = code_dir + '\\\\logs'\n",
    "\n",
    "\n",
    "import os\n",
    "os.chdir(home_dir)"
   ]
  },
  {
   "cell_type": "code",
   "execution_count": 4,
   "metadata": {
    "collapsed": true
   },
   "outputs": [],
   "source": [
    "import numpy as np"
   ]
  },
  {
   "cell_type": "code",
   "execution_count": 5,
   "metadata": {},
   "outputs": [
    {
     "name": "stdout",
     "output_type": "stream",
     "text": [
      "Size of:\n",
      "- Training-set:\t\t31776\n",
      "- Test-set:\t\t7946\n"
     ]
    }
   ],
   "source": [
    "### Loading the images from California (over 30.000 just for training)\n",
    "\n",
    "os.chdir(home_dir)\n",
    "train_images = np.load('train_images_Bradbury.npy')\n",
    "# valid_images = np.load('validation_images_AcMüDüHo.npy')\n",
    "test_images = np.load('test_images_Bradbury.npy')\n",
    "train_labels = np.load('train_labels_Bradbury.npy')\n",
    "# valid_labels = np.load('validation_labels_AcMüDüHo.npy')\n",
    "test_labels = np.load('test_labels_Bradbury.npy')\n",
    "\n",
    "print(\"Size of:\")\n",
    "print(\"- Training-set:\\t\\t{}\".format(len(train_labels)))\n",
    "# print(\"- Validation-set:\\t{}\".format(len(valid_labels)))\n",
    "print(\"- Test-set:\\t\\t{}\".format(len(test_labels)))"
   ]
  },
  {
   "cell_type": "code",
   "execution_count": 6,
   "metadata": {},
   "outputs": [
    {
     "name": "stdout",
     "output_type": "stream",
     "text": [
      "Size of:\n",
      "- Training-set:\t\t3357\n",
      "- Validation-set:\t374\n",
      "- Test-set:\t\t934\n"
     ]
    }
   ],
   "source": [
    "### Loading the images from NRW I used for my thesis\n",
    "\n",
    "os.chdir(home_dir)\n",
    "Atrain_images = np.load('training_images_AcMüDüHo.npy')\n",
    "Avalid_images = np.load('validation_images_AcMüDüHo.npy')\n",
    "Atest_images = np.load('test_images_AcMüDüHo.npy')\n",
    "Atrain_labels = np.load('training_labels_AcMüDüHo.npy')\n",
    "Avalid_labels = np.load('validation_labels_AcMüDüHo.npy')\n",
    "Atest_labels = np.load('test_labels_AcMüDüHo.npy')\n",
    "\n",
    "print(\"Size of:\")\n",
    "print(\"- Training-set:\\t\\t{}\".format(len(Atrain_labels)))\n",
    "print(\"- Validation-set:\\t{}\".format(len(Avalid_labels)))\n",
    "print(\"- Test-set:\\t\\t{}\".format(len(Atest_labels)))"
   ]
  },
  {
   "cell_type": "code",
   "execution_count": 6,
   "metadata": {},
   "outputs": [
    {
     "name": "stdout",
     "output_type": "stream",
     "text": [
      "Size of:\n",
      "- Training-set:\t\t1848\n",
      "- Test-set:\t\t464\n"
     ]
    }
   ],
   "source": [
    "os.chdir(home_dir)\n",
    "Htrain_images = np.load('train_images_CBS.npy')\n",
    "Htest_images = np.load('test_images_CBS.npy')\n",
    "Htrain_labels = np.load('train_labels_CBS.npy')\n",
    "Htest_labels = np.load('test_labels_CBS.npy')\n",
    "\n",
    "print(\"Size of:\")\n",
    "print(\"- Training-set:\\t\\t{}\".format(len(Htrain_labels)))\n",
    "print(\"- Test-set:\\t\\t{}\".format(len(Htest_labels)))"
   ]
  },
  {
   "cell_type": "code",
   "execution_count": null,
   "metadata": {
    "collapsed": true
   },
   "outputs": [],
   "source": []
  },
  {
   "cell_type": "code",
   "execution_count": 8,
   "metadata": {
    "collapsed": true
   },
   "outputs": [],
   "source": [
    "# import cv2\n",
    "# import matplotlib.pyplot as plt\n",
    "# %matplotlib inline\n",
    "# for i in range(3):\n",
    "#     print('Cali')\n",
    "#     ex = train_images[i]\n",
    "#     #plt.imshow(ex)\n",
    "#     #plt.show()\n",
    "#     ex = cv2.resize(ex, (300, 300))\n",
    "#     cv2.imshow('example', ex)\n",
    "#     cv2.waitKey(1200)\n",
    "#     cv2.destroyAllWindows()  \n",
    "#     print('NRW')\n",
    "#     #plt.imshow(Atrain_images[i])\n",
    "#     #plt.show()\n",
    "#     ex2 = cv2.resize(Atrain_images[i], (300, 300))\n",
    "#     cv2.imshow('NRW', ex2)\n",
    "#     cv2.waitKey(2400)\n",
    "#     cv2.destroyAllWindows()  "
   ]
  },
  {
   "cell_type": "code",
   "execution_count": 7,
   "metadata": {},
   "outputs": [
    {
     "name": "stderr",
     "output_type": "stream",
     "text": [
      "Using TensorFlow backend.\n"
     ]
    }
   ],
   "source": [
    "### Loading the relevant packages\n",
    "\n",
    "from sklearn.model_selection import cross_validate\n",
    "from sklearn.metrics import roc_curve\n",
    "from sklearn.metrics import auc\n",
    "from sklearn.metrics import precision_score\n",
    "from sklearn.metrics import recall_score\n",
    "from sklearn.metrics import f1_score\n",
    "from keras.losses import binary_crossentropy\n",
    "from keras import backend as K\n",
    "\n",
    "from random import randrange\n",
    "from random import seed\n",
    "from random import sample\n",
    "\n",
    "import itertools\n",
    "import matplotlib.pyplot as plt\n",
    "import numpy as np\n",
    "import pandas as pd\n",
    "from time import time\n",
    "from datetime import timedelta\n",
    "import math\n",
    "from datetime import datetime\n",
    "from sklearn.metrics import accuracy_score\n",
    "from sklearn.metrics import confusion_matrix\n",
    "from keras.callbacks import TensorBoard\n",
    "from keras.callbacks import EarlyStopping\n",
    "from keras.callbacks import ModelCheckpoint\n",
    "import keras\n",
    "from keras.callbacks import Callback"
   ]
  },
  {
   "cell_type": "code",
   "execution_count": 8,
   "metadata": {
    "collapsed": true
   },
   "outputs": [],
   "source": [
    "### Helper metrics functions\n",
    "\n",
    "def precision(y_true, y_pred):\n",
    "    true_positives = K.sum(K.round(K.clip(y_true * y_pred, 0, 1)))\n",
    "    predicted_positives = K.sum(K.round(K.clip(y_pred, 0, 1)))\n",
    "    precision = true_positives / (predicted_positives + K.epsilon())\n",
    "    return precision\n",
    "def recall(y_true, y_pred):\n",
    "    true_positives = K.sum(K.round(K.clip(y_true * y_pred, 0, 1)))\n",
    "    possible_positives = K.sum(K.round(K.clip(y_true, 0, 1)))\n",
    "    recall = true_positives / (possible_positives + K.epsilon())\n",
    "    return recall   \n",
    "def fbeta_score(y_true, y_pred, beta=1):\n",
    "    if beta < 0:\n",
    "        raise ValueError('The lowest choosable beta is zero (only precision).')\n",
    "    # If there are no true positives, fix the F score at 0 like sklearn.\n",
    "    if K.sum(K.round(K.clip(y_true, 0, 1))) == 0:\n",
    "        return 0\n",
    "    p = precision(y_true, y_pred)\n",
    "    r = recall(y_true, y_pred)\n",
    "    bb = beta ** 2\n",
    "    fbeta_score = (1 + bb) * (p * r) / (bb * p + r + K.epsilon())\n",
    "    return fbeta_score\n",
    "def fmeasure(y_true, y_pred):\n",
    "    return fbeta_score(y_true, y_pred, beta=1)\n",
    "\n",
    "no_of_epochs = 0"
   ]
  },
  {
   "cell_type": "code",
   "execution_count": 9,
   "metadata": {},
   "outputs": [
    {
     "data": {
      "text/plain": [
       "['DenseNet121_bs-128_triangular_sz-157_blr-1e-06_mlr-0.0002_e-48_imagenet_141_2-e30',\n",
       " 'DenseNet121_bs-64_triangular_sz-315_blr-1e-05_mlr-0.0009_e-48_imagenet_Frozen_3-e04',\n",
       " 'DenseNet121_bs-64_triangular_sz-315_blr-1e-06_mlr-0.0003_e-96_imagenet_All_2-e08',\n",
       " 'IncResNetV2_bs-64_triangular_sz-315_blr-1e-06_mlr-0.0001_e-48_imagenet_595_3-e29',\n",
       " 'IncResNetV2_bs-64_triangular_sz-315_blr-1e-06_mlr-0.0003_e-96_imagenet_All_3-e63',\n",
       " 'IncResNetV2_bs-64_triangular_sz-315_blr-1e-06_mlr-0.0005_e-48_imagenet_Frozen_4-e16',\n",
       " 'IncV3_bs-64_triangular2_sz-315_blr-1e-05_mlr-0.0002_e-96_imagenet_All_0-e04',\n",
       " 'IncV3_bs-64_triangular2_sz-315_blr-1e-06_mlr-0.0001_e-96_imagenet_Frozen_4-e08',\n",
       " 'IncV3_bs-64_triangular2_sz-420_blr-1e-06_mlr-0.0002_e-96_imagenet_229__ensemble__',\n",
       " 'Xception_bs-128_triangular_sz-157_blr-1e-06_mlr-0.0002_e-48_imagenet_Frozen_3-e42',\n",
       " 'Xception_bs-128_triangular_sz-157_blr-1e-06_mlr-0.0004_e-96_imagenet_All_1-e73',\n",
       " 'Xception_bs-64_triangular_sz-315_blr-5e-05_mlr-0.0006_e-48_imagenet_86_3-e19']"
      ]
     },
     "execution_count": 9,
     "metadata": {},
     "output_type": "execute_result"
    }
   ],
   "source": [
    "os.listdir(model_dir)"
   ]
  },
  {
   "cell_type": "code",
   "execution_count": 91,
   "metadata": {
    "collapsed": true
   },
   "outputs": [],
   "source": [
    "### Loading the model which performed best on the NRW test set, from all the models build before\n",
    "\n",
    "bestModelName = 'Xception_bs-128_triangular_sz-157_blr-1e-06_mlr-0.0004_e-96_imagenet_All_1-e73'\n",
    "from keras.models import load_model\n",
    "os.chdir(model_dir)\n",
    "boModel = load_model(bestModelName, \n",
    "                     custom_objects={'precision': precision, 'recall': recall, \n",
    "                                                            'fbeta_score': fbeta_score, 'fmeasure': fmeasure})"
   ]
  },
  {
   "cell_type": "code",
   "execution_count": null,
   "metadata": {
    "collapsed": true
   },
   "outputs": [],
   "source": [
    "### Evaluating the best-of-model on the data set of Heerlen\n",
    "print('    Heerlen      ')\n",
    "print('train_metrics') \n",
    "HtrainingRes = boModel.evaluate(Htrain_images, Htrain_labels)\n",
    "for i, j in zip(metrics,HtrainingRes):\n",
    "    print('{:12} :\\t{:.4f}'.format(i,j))\n",
    "print('test_metrics') \n",
    "HtestingRes = boModel.evaluate(Htest_images, Htest_labels)\n",
    "for i, j in zip(metrics,HtestingRes):\n",
    "    print('{:12} :\\t{:.4f}'.format(i,j))"
   ]
  },
  {
   "cell_type": "code",
   "execution_count": 28,
   "metadata": {},
   "outputs": [
    {
     "name": "stdout",
     "output_type": "stream",
     "text": [
      "       California           \n",
      "train_metrics\n",
      "31776/31776 [==============================] - 44s 1ms/step\n",
      "loss         :\t1.4672\n",
      "acc          :\t0.7287\n",
      "precision    :\t0.7200\n",
      "recall       :\t0.7496\n",
      "fmeasure     :\t0.7287\n",
      "\n",
      "test_metrics\n",
      "7946/7946 [==============================] - 11s 1ms/step\n",
      "loss         :\t1.5187\n",
      "acc          :\t0.7230\n",
      "precision    :\t0.7120\n",
      "recall       :\t0.7501\n",
      "fmeasure     :\t0.7249\n"
     ]
    }
   ],
   "source": [
    "### Evaluating the best-of-model on the Californian data set from BradBury\n",
    "\n",
    "print('       California           ')\n",
    "print('train_metrics') \n",
    "trainingRes = boModel.evaluate(train_images, train_labels)\n",
    "metrics = boModel.metrics_names\n",
    "for i, j in zip(metrics,trainingRes):\n",
    "    print('{:12} :\\t{:.4f}'.format(i,j))\n",
    "print('')\n",
    "print('test_metrics') \n",
    "testingRes = boModel.evaluate(test_images, test_labels)\n",
    "for i, j in zip(metrics,testingRes):\n",
    "    print('{:12} :\\t{:.4f}'.format(i,j))\n",
    "\n",
    "# -> worse than guessing"
   ]
  },
  {
   "cell_type": "code",
   "execution_count": 29,
   "metadata": {},
   "outputs": [
    {
     "name": "stdout",
     "output_type": "stream",
     "text": [
      "       NRW           \n",
      "train_metrics\n",
      "3357/3357 [==============================] - 5s 1ms/step\n",
      "loss         :\t1.2569\n",
      "acc          :\t0.8108\n",
      "precision    :\t0.7796\n",
      "recall       :\t0.8650\n",
      "fmeasure     :\t0.8155\n",
      "test_metrics\n",
      "934/934 [==============================] - 1s 1ms/step\n",
      "loss         :\t1.2356\n",
      "acc          :\t0.8201\n",
      "precision    :\t0.7776\n",
      "recall       :\t0.9085\n",
      "fmeasure     :\t0.8345\n"
     ]
    }
   ],
   "source": [
    "### Evaluating it on the data is was already trained and tested on just to check if the loadig worked\n",
    "\n",
    "print('       NRW           ')\n",
    "print('train_metrics') \n",
    "AtrainingRes = boModel.evaluate(Atrain_images, Atrain_labels)\n",
    "metrics = boModel.metrics_names\n",
    "for i, j in zip(metrics,AtrainingRes):\n",
    "    print('{:12} :\\t{:.4f}'.format(i,j))\n",
    "print('test_metrics') \n",
    "AtestingRes = boModel.evaluate(Atest_images, Atest_labels)\n",
    "for i, j in zip(metrics,AtestingRes):\n",
    "    print('{:12} :\\t{:.4f}'.format(i,j))\n",
    "\n",
    "# -> it worked as the model performs as good as before"
   ]
  },
  {
   "cell_type": "code",
   "execution_count": 30,
   "metadata": {},
   "outputs": [
    {
     "name": "stdout",
     "output_type": "stream",
     "text": [
      "Epoch 1/5\n",
      "31776/31776 [==============================] - 26s 831us/step - loss: 0.4566 - acc: 0.8313 - precision: 0.8343 - recall: 0.8295 - fmeasure: 0.8262\n",
      "Epoch 2/5\n",
      "31776/31776 [==============================] - 25s 786us/step - loss: 0.3098 - acc: 0.8754 - precision: 0.8575 - recall: 0.9028 - fmeasure: 0.87814s - loss: 0.3098 - acc: 0.8757 - pre\n",
      "Epoch 3/5\n",
      "31776/31776 [==============================] - 25s 776us/step - loss: 0.2871 - acc: 0.8841 - precision: 0.8658 - recall: 0.9110 - fmeasure: 0.8867\n",
      "Epoch 4/5\n",
      "31776/31776 [==============================] - 25s 783us/step - loss: 0.2700 - acc: 0.8902 - precision: 0.8710 - recall: 0.9180 - fmeasure: 0.89269s - loss: 0.2735 - acc: 0.8866 - preci - ETA: 4s - loss: 0.2710 - acc: 0.8881 - precisi\n",
      "Epoch 5/5\n",
      "31776/31776 [==============================] - 25s 788us/step - loss: 0.2577 - acc: 0.8956 - precision: 0.8782 - recall: 0.9205 - fmeasure: 0.8977\n"
     ]
    },
    {
     "data": {
      "text/plain": [
       "<keras.callbacks.History at 0x7f32bc75aa50>"
      ]
     },
     "execution_count": 30,
     "metadata": {},
     "output_type": "execute_result"
    }
   ],
   "source": [
    "### Retraining the best-of-model on the data from the Bradbury data set with the same hyperparameters for 5 epochs\n",
    "\n",
    "os.chdir(code_dir)\n",
    "from CyclicLR import CyclicLR\n",
    "clr = CyclicLR(base_lr = 0.000001, max_lr=0.0004,\n",
    "                        step_size= 157, mode = 'triangular')\n",
    "boModel.fit(x = train_images, y = train_labels, epochs = 5, callbacks= [clr], batch_size = 128, verbose = 1)"
   ]
  },
  {
   "cell_type": "code",
   "execution_count": 31,
   "metadata": {},
   "outputs": [
    {
     "name": "stdout",
     "output_type": "stream",
     "text": [
      "for California:\n",
      "train_metrics\n",
      "31776/31776 [==============================] - 44s 1ms/step\n",
      "loss         :\t1.2182\n",
      "acc          :\t0.7281\n",
      "precision    :\t0.6485\n",
      "recall       :\t0.9975\n",
      "fmeasure     :\t0.7820\n",
      "\n",
      "test_metrics\n",
      "7946/7946 [==============================] - 11s 1ms/step\n",
      "loss         :\t1.2788\n",
      "acc          :\t0.7240\n",
      "precision    :\t0.6457\n",
      "recall       :\t0.9957\n",
      "fmeasure     :\t0.7794\n",
      "\n",
      "for NRW:\n",
      "train_metrics\n",
      "3357/3357 [==============================] - 5s 1ms/step\n",
      "loss         :\t2.0641\n",
      "acc          :\t0.6571\n",
      "precision    :\t0.5929\n",
      "recall       :\t0.9883\n",
      "fmeasure     :\t0.7373\n",
      "\n",
      "test_metrics\n",
      "934/934 [==============================] - 1s 1ms/step\n",
      "loss         :\t2.2196\n",
      "acc          :\t0.6488\n",
      "precision    :\t0.5928\n",
      "recall       :\t0.9872\n",
      "fmeasure     :\t0.7384\n"
     ]
    }
   ],
   "source": [
    "### checking the results of the retraining\n",
    "\n",
    "print('for California:')\n",
    "print('train_metrics') \n",
    "trainingRes = boModel.evaluate(train_images, train_labels)\n",
    "for i, j in zip(metrics,trainingRes):\n",
    "    print('{:12} :\\t{:.4f}'.format(i,j))\n",
    "print('')\n",
    "print('test_metrics') \n",
    "testingRes = boModel.evaluate(test_images, test_labels)\n",
    "for i, j in zip(metrics,testingRes):\n",
    "    print('{:12} :\\t{:.4f}'.format(i,j))\n",
    "print('')\n",
    "\n",
    "print('for NRW:')\n",
    "print('train_metrics') \n",
    "AtrainingRes = boModel.evaluate(Atrain_images, Atrain_labels)\n",
    "for i, j in zip(metrics,AtrainingRes):\n",
    "    print('{:12} :\\t{:.4f}'.format(i,j))\n",
    "print('')\n",
    "print('test_metrics') \n",
    "AtestingRes = boModel.evaluate(Atest_images, Atest_labels)\n",
    "for i, j in zip(metrics,AtestingRes):\n",
    "    print('{:12} :\\t{:.4f}'.format(i,j))"
   ]
  },
  {
   "cell_type": "code",
   "execution_count": null,
   "metadata": {
    "collapsed": true
   },
   "outputs": [],
   "source": []
  },
  {
   "cell_type": "code",
   "execution_count": null,
   "metadata": {
    "collapsed": true
   },
   "outputs": [],
   "source": [
    "### chosing the model that performed best (Xception using transfer learning and having all layers trainable), and training it\n",
    "### directly on the Bradbury data sets without using the pre-trained weigths learned from the NRW data set"
   ]
  },
  {
   "cell_type": "code",
   "execution_count": 32,
   "metadata": {
    "collapsed": true
   },
   "outputs": [],
   "source": [
    "# choose training specifications (None or 'imagenet')\n",
    "weights = 'imagenet'\n",
    "from keras.applications import xception\n",
    "\n",
    "# importing the currently used model\n",
    "os.chdir(code_dir)\n",
    "### create the base pre-trained model\n",
    "# usually takes around 30 seconds\n",
    "Model_base = xception.Xception(weights = weights, include_top=False)"
   ]
  },
  {
   "cell_type": "code",
   "execution_count": 33,
   "metadata": {
    "collapsed": true
   },
   "outputs": [],
   "source": [
    "from keras.layers import Dense\n",
    "from keras.layers import GlobalAveragePooling2D\n",
    "from keras.layers import GlobalMaxPooling2D\n",
    "from keras import Model\n",
    "\n",
    "def compileModel():\n",
    "    global Final_model\n",
    "    x = Model_base.output\n",
    "    x = GlobalAveragePooling2D()(x)\n",
    "    # let's add a fully-connected layer\n",
    "    x = Dense(512, activation='relu')(x)\n",
    "    preds = Dense(1, activation='sigmoid')(x)\n",
    "    Final_model = Model(inputs=Model_base.input, outputs=preds)\n",
    "    for layer in Model_base.layers:   # only train the new layers first\n",
    "        layer.trainable = True\n",
    "    Final_model.compile(optimizer='rmsprop', loss='binary_crossentropy', \n",
    "                            metrics=['accuracy', precision, recall, fmeasure])"
   ]
  },
  {
   "cell_type": "code",
   "execution_count": 34,
   "metadata": {},
   "outputs": [
    {
     "name": "stdout",
     "output_type": "stream",
     "text": [
      "Xception_bs-128_triangular_sz-157_blr-1e-06_mlr-0.0004_e-96_imagenet_All_1-e73\n"
     ]
    }
   ],
   "source": [
    "print(bestModelName)"
   ]
  },
  {
   "cell_type": "code",
   "execution_count": 35,
   "metadata": {},
   "outputs": [
    {
     "name": "stdout",
     "output_type": "stream",
     "text": [
      "imagenet\n",
      "All\n"
     ]
    }
   ],
   "source": [
    "###################### first training stage ###################################\n",
    "weights = 'imagenet'\n",
    "trainable_layers = 'All'\n",
    "batch_size = 128\n",
    "step_size = 157\n",
    "base_lr = 0.000006\n",
    "max_lr = 0.00001\n",
    "epochs = 96\n",
    "mode = 'triangular'\n",
    "def train_Model(verbose =1, times = 2, epochs = epochs, base_lr = base_lr, max_lr= max_lr, mode = mode, \n",
    "                stepsize = step_size, batch_size = batch_size, use_tensorboard = False, \n",
    "                train_images = train_images, train_labels = train_labels):\n",
    "    start_time = time()   \n",
    "    global h\n",
    "    global no_of_epochs\n",
    "    global name\n",
    "    date = str(datetime.now().date())\n",
    "    # logdir in linux:\n",
    "    logdir = (log_dir + '/' + date + '_' + str(batch_size) + '_' + str(mode) + '_si-' + str(stepsize) + '_base-' \n",
    "              + str(base_lr) + '_max-' + str(max_lr) + '_' + str(times))\n",
    "    name = ('batch size: ' + str(batch_size) + ', mode: ' + str(mode) + ', stepsize: ' \n",
    "            + str(stepsize) + ', base-lr: ' + str(base_lr) + ', max-lr ' + str(max_lr) + ', *' + str(times))\n",
    "    print(' - Model specifics:\\t{}'.format(name))\n",
    "    clr = CyclicLR(base_lr = base_lr, max_lr=max_lr,\n",
    "                        step_size= stepsize, mode = mode)\n",
    "    tbCallBack = TensorBoard(log_dir=logdir, histogram_freq=0, \n",
    "                         write_graph=False, write_images=False)\n",
    "    if (use_tensorboard == True):\n",
    "        Final_model.fit(x = train_images, y = train_labels, epochs = epochs, callbacks= [tbCallBack, clr], \n",
    "                            batch_size = batch_size, \n",
    "                            verbose = verbose)\n",
    "    else:\n",
    "        Final_model.fit(x = train_images, y = train_labels, epochs = epochs, callbacks= [clr], \n",
    "                            batch_size = batch_size, \n",
    "                            verbose = verbose)\n",
    "    no_of_epochs = no_of_epochs + epochs\n",
    "    h = []\n",
    "    h = clr.history\n",
    "    end_time = time()\n",
    "    time_dif = end_time - start_time\n",
    "    print('Time usage: ' + str(timedelta(seconds=int(round(time_dif)))) + ' minutes')\n",
    "print(weights)\n",
    "print(trainable_layers)\n"
   ]
  },
  {
   "cell_type": "code",
   "execution_count": 36,
   "metadata": {
    "collapsed": true
   },
   "outputs": [],
   "source": [
    "### Training only for 5 epochs"
   ]
  },
  {
   "cell_type": "code",
   "execution_count": 37,
   "metadata": {},
   "outputs": [
    {
     "name": "stdout",
     "output_type": "stream",
     "text": [
      " - Model specifics:\tbatch size: 128, mode: triangular, stepsize: 157, base-lr: 6e-06, max-lr 1e-05, *1\n",
      "Epoch 1/5\n",
      "31776/31776 [==============================] - 103s 3ms/step - loss: 0.5327 - acc: 0.7909 - precision: 0.7171 - recall: 0.9857 - fmeasure: 0.8268\n",
      "Epoch 2/5\n",
      "31776/31776 [==============================] - 95s 3ms/step - loss: 0.4089 - acc: 0.9160 - precision: 0.8748 - recall: 0.9730 - fmeasure: 0.9202\n",
      "Epoch 3/5\n",
      "31776/31776 [==============================] - 95s 3ms/step - loss: 0.2190 - acc: 0.9450 - precision: 0.9310 - recall: 0.9618 - fmeasure: 0.9453\n",
      "Epoch 4/5\n",
      "31776/31776 [==============================] - 95s 3ms/step - loss: 0.1098 - acc: 0.9588 - precision: 0.9538 - recall: 0.9649 - fmeasure: 0.9586\n",
      "Epoch 5/5\n",
      "31776/31776 [==============================] - 95s 3ms/step - loss: 0.0762 - acc: 0.9698 - precision: 0.9682 - recall: 0.9716 - fmeasure: 0.9695\n",
      "Time usage: 0:08:16 minutes\n"
     ]
    }
   ],
   "source": [
    "Final_model = []\n",
    "compileModel()\n",
    "train_Model(verbose =1, times = 1, epochs = 5, base_lr = base_lr, max_lr= max_lr, mode = mode, \n",
    "                stepsize = step_size, batch_size = batch_size, use_tensorboard = False)"
   ]
  },
  {
   "cell_type": "code",
   "execution_count": null,
   "metadata": {
    "collapsed": true
   },
   "outputs": [],
   "source": [
    "# already achieve an accuracy of >90% even on the test set\n",
    "# this makes very little sense to me"
   ]
  },
  {
   "cell_type": "code",
   "execution_count": 38,
   "metadata": {},
   "outputs": [
    {
     "name": "stdout",
     "output_type": "stream",
     "text": [
      "for California:\n",
      "train_metrics\n",
      "31776/31776 [==============================] - 45s 1ms/step\n",
      "loss         :\t1.2182\n",
      "acc          :\t0.7281\n",
      "precision    :\t0.6485\n",
      "recall       :\t0.9975\n",
      "fmeasure     :\t0.7820\n",
      "\n",
      "test_metrics\n",
      "7946/7946 [==============================] - 11s 1ms/step\n",
      "loss         :\t1.2788\n",
      "acc          :\t0.7240\n",
      "precision    :\t0.6457\n",
      "recall       :\t0.9957\n",
      "fmeasure     :\t0.7794\n",
      "\n",
      "for NRW:\n",
      "train_metrics\n",
      "3357/3357 [==============================] - 5s 1ms/step\n",
      "loss         :\t2.0641\n",
      "acc          :\t0.6571\n",
      "precision    :\t0.5929\n",
      "recall       :\t0.9883\n",
      "fmeasure     :\t0.7373\n",
      "\n",
      "test_metrics\n",
      "934/934 [==============================] - 1s 1ms/step\n",
      "loss         :\t2.2196\n",
      "acc          :\t0.6488\n",
      "precision    :\t0.5928\n",
      "recall       :\t0.9872\n",
      "fmeasure     :\t0.7384\n"
     ]
    }
   ],
   "source": [
    "### checking the results for California \n",
    "print('for California:')\n",
    "print('train_metrics') \n",
    "trainingRes = boModel.evaluate(train_images, train_labels)\n",
    "for i, j in zip(metrics,trainingRes):\n",
    "    print('{:12} :\\t{:.4f}'.format(i,j))\n",
    "print('')\n",
    "print('test_metrics') \n",
    "testingRes = boModel.evaluate(test_images, test_labels)\n",
    "for i, j in zip(metrics,testingRes):\n",
    "    print('{:12} :\\t{:.4f}'.format(i,j))\n",
    "print('')\n",
    "\n",
    "#... and NRW: \n",
    "print('for NRW:')\n",
    "print('train_metrics') \n",
    "AtrainingRes = boModel.evaluate(Atrain_images, Atrain_labels)\n",
    "for i, j in zip(metrics,AtrainingRes):\n",
    "    print('{:12} :\\t{:.4f}'.format(i,j))\n",
    "print('')\n",
    "print('test_metrics') \n",
    "AtestingRes = boModel.evaluate(Atest_images, Atest_labels)\n",
    "for i, j in zip(metrics,AtestingRes):\n",
    "    print('{:12} :\\t{:.4f}'.format(i,j))"
   ]
  },
  {
   "cell_type": "code",
   "execution_count": 39,
   "metadata": {},
   "outputs": [
    {
     "name": "stdout",
     "output_type": "stream",
     "text": [
      " - Model specifics:\tbatch size: 128, mode: triangular, stepsize: 157, base-lr: 6e-06, max-lr 1e-05, *1\n",
      "Epoch 1/5\n",
      "31776/31776 [==============================] - 95s 3ms/step - loss: 0.0542 - acc: 0.9808 - precision: 0.9815 - recall: 0.9801 - fmeasure: 0.9805\n",
      "Epoch 2/5\n",
      "31776/31776 [==============================] - 95s 3ms/step - loss: 0.0353 - acc: 0.9882 - precision: 0.9899 - recall: 0.9866 - fmeasure: 0.9881\n",
      "Epoch 3/5\n",
      "31776/31776 [==============================] - 96s 3ms/step - loss: 0.0226 - acc: 0.9927 - precision: 0.9943 - recall: 0.9910 - fmeasure: 0.9926\n",
      "Epoch 4/5\n",
      "31776/31776 [==============================] - 96s 3ms/step - loss: 0.0155 - acc: 0.9955 - precision: 0.9971 - recall: 0.9940 - fmeasure: 0.9955\n",
      "Epoch 5/5\n",
      "31776/31776 [==============================] - 96s 3ms/step - loss: 0.0102 - acc: 0.9971 - precision: 0.9982 - recall: 0.9960 - fmeasure: 0.9971\n",
      "Time usage: 0:07:57 minutes\n"
     ]
    }
   ],
   "source": [
    "# train for 5 more epochs\n",
    "train_Model(verbose =1, times = 1, epochs = 5, base_lr = base_lr, max_lr= max_lr, mode = mode, \n",
    "                stepsize = step_size, batch_size = batch_size, use_tensorboard = False)"
   ]
  },
  {
   "cell_type": "code",
   "execution_count": 40,
   "metadata": {},
   "outputs": [
    {
     "name": "stdout",
     "output_type": "stream",
     "text": [
      "for California:\n",
      "train_metrics\n",
      "31776/31776 [==============================] - 45s 1ms/step\n",
      "loss         :\t1.2182\n",
      "acc          :\t0.7281\n",
      "precision    :\t0.6485\n",
      "recall       :\t0.9975\n",
      "fmeasure     :\t0.7820\n",
      "\n",
      "test_metrics\n",
      "7946/7946 [==============================] - 11s 1ms/step\n",
      "loss         :\t1.2788\n",
      "acc          :\t0.7240\n",
      "precision    :\t0.6457\n",
      "recall       :\t0.9957\n",
      "fmeasure     :\t0.7794\n",
      "\n",
      "for NRW:\n",
      "train_metrics\n",
      "3357/3357 [==============================] - 5s 1ms/step\n",
      "loss         :\t2.0641\n",
      "acc          :\t0.6571\n",
      "precision    :\t0.5929\n",
      "recall       :\t0.9883\n",
      "fmeasure     :\t0.7373\n",
      "\n",
      "test_metrics\n",
      "934/934 [==============================] - 1s 1ms/step\n",
      "loss         :\t2.2196\n",
      "acc          :\t0.6488\n",
      "precision    :\t0.5928\n",
      "recall       :\t0.9872\n",
      "fmeasure     :\t0.7384\n",
      "    Heerlen      \n",
      "train_metrics\n",
      "1848/1848 [==============================] - 3s 2ms/step\n",
      "loss         :\t3.4379\n",
      "acc          :\t0.5038\n",
      "precision    :\t0.5000\n",
      "recall       :\t0.5016\n",
      "fmeasure     :\t0.5007\n",
      "test_metrics\n",
      "464/464 [==============================] - 1s 2ms/step\n",
      "loss         :\t3.7953\n",
      "acc          :\t0.5065\n",
      "precision    :\t0.5006\n",
      "recall       :\t0.5517\n",
      "fmeasure     :\t0.5111\n"
     ]
    }
   ],
   "source": [
    "### checking the results for California \n",
    "print('for California:')\n",
    "print('train_metrics') \n",
    "trainingRes = boModel.evaluate(train_images, train_labels)\n",
    "for i, j in zip(metrics,trainingRes):\n",
    "    print('{:12} :\\t{:.4f}'.format(i,j))\n",
    "print('')\n",
    "print('test_metrics') \n",
    "testingRes = boModel.evaluate(test_images, test_labels)\n",
    "for i, j in zip(metrics,testingRes):\n",
    "    print('{:12} :\\t{:.4f}'.format(i,j))\n",
    "print('')\n",
    "\n",
    "#... and NRW: \n",
    "print('for NRW:')\n",
    "print('train_metrics') \n",
    "AtrainingRes = boModel.evaluate(Atrain_images, Atrain_labels)\n",
    "for i, j in zip(metrics,AtrainingRes):\n",
    "    print('{:12} :\\t{:.4f}'.format(i,j))\n",
    "print('')\n",
    "print('test_metrics') \n",
    "AtestingRes = boModel.evaluate(Atest_images, Atest_labels)\n",
    "for i, j in zip(metrics,AtestingRes):\n",
    "    print('{:12} :\\t{:.4f}'.format(i,j))\n",
    "    \n",
    "# ...and Heerlen\n",
    "print('    Heerlen      ')\n",
    "print('train_metrics') \n",
    "HtrainingRes = boModel.evaluate(Htrain_images, Htrain_labels)\n",
    "for i, j in zip(metrics,HtrainingRes):\n",
    "    print('{:12} :\\t{:.4f}'.format(i,j))\n",
    "print('test_metrics') \n",
    "HtestingRes = boModel.evaluate(Htest_images, Htest_labels)\n",
    "for i, j in zip(metrics,HtestingRes):\n",
    "    print('{:12} :\\t{:.4f}'.format(i,j))"
   ]
  },
  {
   "cell_type": "code",
   "execution_count": null,
   "metadata": {
    "collapsed": true
   },
   "outputs": [],
   "source": [
    "### to exclude that something went wrong with loading the model, the xception network is loaded as it is, then trained for 48 \n",
    "### epochs on the NRW data set and then trained again for 5 epochs on the Bradbury data set"
   ]
  },
  {
   "cell_type": "code",
   "execution_count": null,
   "metadata": {
    "collapsed": true
   },
   "outputs": [],
   "source": [
    "Final_model = []\n",
    "compileModel()\n",
    "train_Model(verbose =1, times = 1, epochs = 5, base_lr = base_lr, max_lr= max_lr, mode = mode, \n",
    "                stepsize = step_size, batch_size = batch_size, use_tensorboard = False,\n",
    "           train_images = Atrain_images, train_labels = Atrain_labels)"
   ]
  },
  {
   "cell_type": "code",
   "execution_count": null,
   "metadata": {
    "collapsed": true
   },
   "outputs": [],
   "source": [
    "print('    NRW      ')\n",
    "print('train_metrics') \n",
    "trainingAcc = Final_model.evaluate(Atrain_images, Atrain_labels)[1]\n",
    "print(trainingAcc)\n",
    "print('test_metrics') \n",
    "testingAcc = Final_model.evaluate(Atest_images, Atest_labels)[1]\n",
    "print(testingAcc)"
   ]
  },
  {
   "cell_type": "code",
   "execution_count": 41,
   "metadata": {},
   "outputs": [
    {
     "name": "stdout",
     "output_type": "stream",
     "text": [
      "Epoch 1/5\n",
      "31776/31776 [==============================] - 95s 3ms/step - loss: 0.0071 - acc: 0.9983 - precision: 0.9988 - recall: 0.9980 - fmeasure: 0.9984\n",
      "Epoch 2/5\n",
      "31776/31776 [==============================] - 96s 3ms/step - loss: 0.0054 - acc: 0.9984 - precision: 0.9987 - recall: 0.9981 - fmeasure: 0.9984\n",
      "Epoch 3/5\n",
      "31776/31776 [==============================] - 96s 3ms/step - loss: 0.0048 - acc: 0.9990 - precision: 0.9992 - recall: 0.9989 - fmeasure: 0.9990\n",
      "Epoch 4/5\n",
      "31776/31776 [==============================] - 96s 3ms/step - loss: 0.0107 - acc: 0.9980 - precision: 0.9982 - recall: 0.9976 - fmeasure: 0.9979\n",
      "Epoch 5/5\n",
      "31776/31776 [==============================] - 96s 3ms/step - loss: 0.0055 - acc: 0.9985 - precision: 0.9986 - recall: 0.9983 - fmeasure: 0.9984\n"
     ]
    },
    {
     "data": {
      "text/plain": [
       "<keras.callbacks.History at 0x7f769b679510>"
      ]
     },
     "execution_count": 41,
     "metadata": {},
     "output_type": "execute_result"
    }
   ],
   "source": [
    "Final_model.fit(x = train_images, y = train_labels, epochs = 48, callbacks= [clr], \n",
    "                            batch_size = batch_size, verbose = 1)"
   ]
  },
  {
   "cell_type": "code",
   "execution_count": 42,
   "metadata": {},
   "outputs": [
    {
     "name": "stdout",
     "output_type": "stream",
     "text": [
      "train_metrics\n",
      "31776/31776 [==============================] - 45s 1ms/step\n",
      "[0.0019756040841845935, 0.9994335347432024, 0.99977174656388745, 0.99902841649867014, 0.99937881563845476]\n",
      "test_metrics\n",
      "7946/7946 [==============================] - 11s 1ms/step\n",
      "[0.16572030939293919, 0.97596274855273091, 0.98318925445157213, 0.96792361780104696, 0.97460047772030911]\n"
     ]
    }
   ],
   "source": [
    "### checking the results for California \n",
    "print('train_metrics') \n",
    "trainingAcc = Final_model.evaluate(train_images, train_labels)[1]\n",
    "print(trainingAcc)\n",
    "print('test_metrics') \n",
    "testingAcc = Final_model.evaluate(test_images, test_labels)[1]\n",
    "print(testingAcc)\n",
    "\n",
    "#... and NRW: \n",
    "print('    NRW      ')\n",
    "print('train_metrics') \n",
    "trainingAcc = Final_model.evaluate(Atrain_images, Atrain_labels)[1]\n",
    "print(trainingAcc)\n",
    "print('test_metrics') \n",
    "testingAcc = Final_model.evaluate(Atest_images, Atest_labels)[1]\n",
    "print(testingAcc)"
   ]
  },
  {
   "cell_type": "code",
   "execution_count": null,
   "metadata": {
    "collapsed": true
   },
   "outputs": [],
   "source": [
    "### then retraining it on the Cali-data-set for 5 epochs"
   ]
  },
  {
   "cell_type": "code",
   "execution_count": 15,
   "metadata": {},
   "outputs": [
    {
     "name": "stdout",
     "output_type": "stream",
     "text": [
      " - Model specifics:\tbatch size: 128, mode: triangular, stepsize: 157, base-lr: 6e-06, max-lr 0.0004, *1\n",
      "Epoch 1/96\n",
      "31776/31776 [==============================] - 103s 3ms/step - loss: 0.2106 - acc: 0.9262 - precision: 0.9106 - recall: 0.9575 - fmeasure: 0.9305\n",
      "Epoch 2/96\n",
      "31776/31776 [==============================] - 95s 3ms/step - loss: 0.0481 - acc: 0.9826 - precision: 0.9815 - recall: 0.9837 - fmeasure: 0.9824\n",
      "Epoch 3/96\n",
      "31776/31776 [==============================] - 95s 3ms/step - loss: 0.0246 - acc: 0.9920 - precision: 0.9915 - recall: 0.9926 - fmeasure: 0.9920\n",
      "Epoch 4/96\n",
      "31776/31776 [==============================] - 95s 3ms/step - loss: 0.0182 - acc: 0.9949 - precision: 0.9955 - recall: 0.9944 - fmeasure: 0.9949\n",
      "Epoch 5/96\n",
      "31776/31776 [==============================] - 94s 3ms/step - loss: 0.0159 - acc: 0.9957 - precision: 0.9953 - recall: 0.9961 - fmeasure: 0.9957\n",
      "Epoch 6/96\n",
      "31776/31776 [==============================] - 94s 3ms/step - loss: 0.0100 - acc: 0.9975 - precision: 0.9971 - recall: 0.9978 - fmeasure: 0.9974\n",
      "Epoch 7/96\n",
      "31776/31776 [==============================] - 95s 3ms/step - loss: 0.0086 - acc: 0.9981 - precision: 0.9982 - recall: 0.9981 - fmeasure: 0.9981\n",
      "Epoch 8/96\n",
      "31776/31776 [==============================] - 94s 3ms/step - loss: 0.0090 - acc: 0.9982 - precision: 0.9985 - recall: 0.9980 - fmeasure: 0.9982\n",
      "Epoch 9/96\n",
      "31776/31776 [==============================] - 94s 3ms/step - loss: 0.0117 - acc: 0.9969 - precision: 0.9971 - recall: 0.9968 - fmeasure: 0.9969\n",
      "Epoch 10/96\n",
      "31776/31776 [==============================] - 94s 3ms/step - loss: 0.0129 - acc: 0.9974 - precision: 0.9972 - recall: 0.9977 - fmeasure: 0.9974\n",
      "Epoch 11/96\n",
      "31776/31776 [==============================] - 95s 3ms/step - loss: 0.0085 - acc: 0.9980 - precision: 0.9976 - recall: 0.9983 - fmeasure: 0.9979\n",
      "Epoch 12/96\n",
      "31776/31776 [==============================] - 95s 3ms/step - loss: 0.0051 - acc: 0.9987 - precision: 0.9990 - recall: 0.9985 - fmeasure: 0.9987\n",
      "Epoch 13/96\n",
      "31776/31776 [==============================] - 95s 3ms/step - loss: 0.0099 - acc: 0.9983 - precision: 0.9982 - recall: 0.9984 - fmeasure: 0.9983\n",
      "Epoch 14/96\n",
      "31776/31776 [==============================] - 95s 3ms/step - loss: 0.0059 - acc: 0.9985 - precision: 0.9980 - recall: 0.9989 - fmeasure: 0.9984\n",
      "Epoch 15/96\n",
      "31776/31776 [==============================] - 95s 3ms/step - loss: 0.0069 - acc: 0.9983 - precision: 0.9976 - recall: 0.9988 - fmeasure: 0.9982\n",
      "Epoch 16/96\n",
      "31776/31776 [==============================] - 95s 3ms/step - loss: 0.0046 - acc: 0.9986 - precision: 0.9984 - recall: 0.9989 - fmeasure: 0.9986\n",
      "Epoch 17/96\n",
      "31776/31776 [==============================] - 94s 3ms/step - loss: 0.0080 - acc: 0.9987 - precision: 0.9988 - recall: 0.9987 - fmeasure: 0.9987\n",
      "Epoch 18/96\n",
      "31776/31776 [==============================] - 95s 3ms/step - loss: 0.0036 - acc: 0.9989 - precision: 0.9990 - recall: 0.9989 - fmeasure: 0.9989\n",
      "Epoch 19/96\n",
      "31776/31776 [==============================] - 95s 3ms/step - loss: 0.0044 - acc: 0.9990 - precision: 0.9993 - recall: 0.9988 - fmeasure: 0.9990\n",
      "Epoch 20/96\n",
      "31776/31776 [==============================] - 94s 3ms/step - loss: 0.0041 - acc: 0.9986 - precision: 0.9985 - recall: 0.9988 - fmeasure: 0.9987\n",
      "Epoch 21/96\n",
      "31776/31776 [==============================] - 95s 3ms/step - loss: 0.0057 - acc: 0.9989 - precision: 0.9990 - recall: 0.9988 - fmeasure: 0.9989\n",
      "Epoch 22/96\n",
      "31776/31776 [==============================] - 95s 3ms/step - loss: 0.0039 - acc: 0.9991 - precision: 0.9989 - recall: 0.9992 - fmeasure: 0.9991\n",
      "Epoch 23/96\n",
      "31776/31776 [==============================] - 95s 3ms/step - loss: 0.0067 - acc: 0.9990 - precision: 0.9991 - recall: 0.9988 - fmeasure: 0.9989\n",
      "Epoch 24/96\n",
      "31776/31776 [==============================] - 95s 3ms/step - loss: 0.0064 - acc: 0.9989 - precision: 0.9990 - recall: 0.9988 - fmeasure: 0.9989\n",
      "Epoch 25/96\n",
      "31776/31776 [==============================] - 95s 3ms/step - loss: 0.0062 - acc: 0.9985 - precision: 0.9987 - recall: 0.9984 - fmeasure: 0.9985\n",
      "Epoch 26/96\n",
      "31776/31776 [==============================] - 95s 3ms/step - loss: 0.0045 - acc: 0.9992 - precision: 0.9989 - recall: 0.9995 - fmeasure: 0.9992\n",
      "Epoch 27/96\n",
      "31776/31776 [==============================] - 95s 3ms/step - loss: 0.0029 - acc: 0.9993 - precision: 0.9992 - recall: 0.9995 - fmeasure: 0.9993\n",
      "Epoch 28/96\n",
      "31776/31776 [==============================] - 95s 3ms/step - loss: 0.0022 - acc: 0.9995 - precision: 0.9994 - recall: 0.9996 - fmeasure: 0.9995\n",
      "Epoch 29/96\n",
      "31776/31776 [==============================] - 95s 3ms/step - loss: 0.0026 - acc: 0.9995 - precision: 0.9994 - recall: 0.9995 - fmeasure: 0.9995\n",
      "Epoch 30/96\n",
      "31776/31776 [==============================] - 95s 3ms/step - loss: 0.0026 - acc: 0.9995 - precision: 0.9995 - recall: 0.9995 - fmeasure: 0.9995\n",
      "Epoch 31/96\n",
      "31776/31776 [==============================] - 95s 3ms/step - loss: 0.0054 - acc: 0.9993 - precision: 0.9990 - recall: 0.9996 - fmeasure: 0.9993\n",
      "Epoch 32/96\n",
      "31776/31776 [==============================] - 95s 3ms/step - loss: 0.0021 - acc: 0.9993 - precision: 0.9994 - recall: 0.9992 - fmeasure: 0.9993\n",
      "Epoch 33/96\n",
      "31776/31776 [==============================] - 95s 3ms/step - loss: 0.0044 - acc: 0.9994 - precision: 0.9996 - recall: 0.9993 - fmeasure: 0.9994\n",
      "Epoch 34/96\n",
      "31776/31776 [==============================] - 95s 3ms/step - loss: 0.0029 - acc: 0.9993 - precision: 0.9991 - recall: 0.9994 - fmeasure: 0.9993\n",
      "Epoch 35/96\n",
      "31776/31776 [==============================] - 94s 3ms/step - loss: 0.0100 - acc: 0.9988 - precision: 0.9986 - recall: 0.9989 - fmeasure: 0.9987\n",
      "Epoch 36/96\n",
      "31776/31776 [==============================] - 95s 3ms/step - loss: 0.0139 - acc: 0.9988 - precision: 0.9993 - recall: 0.9984 - fmeasure: 0.9988\n",
      "Epoch 37/96\n",
      "31776/31776 [==============================] - 94s 3ms/step - loss: 0.0017 - acc: 0.9997 - precision: 0.9998 - recall: 0.9996 - fmeasure: 0.9997\n",
      "Epoch 38/96\n",
      "31776/31776 [==============================] - 95s 3ms/step - loss: 0.0026 - acc: 0.9993 - precision: 0.9994 - recall: 0.9993 - fmeasure: 0.9993\n",
      "Epoch 39/96\n",
      "31776/31776 [==============================] - 95s 3ms/step - loss: 0.0026 - acc: 0.9997 - precision: 0.9997 - recall: 0.9995 - fmeasure: 0.9996\n",
      "Epoch 40/96\n",
      "31776/31776 [==============================] - 94s 3ms/step - loss: 0.0017 - acc: 0.9994 - precision: 0.9993 - recall: 0.9994 - fmeasure: 0.9994\n",
      "Epoch 41/96\n",
      "31776/31776 [==============================] - 94s 3ms/step - loss: 0.0032 - acc: 0.9995 - precision: 0.9994 - recall: 0.9996 - fmeasure: 0.9995\n",
      "Epoch 42/96\n",
      "31776/31776 [==============================] - 95s 3ms/step - loss: 0.0025 - acc: 0.9994 - precision: 0.9993 - recall: 0.9995 - fmeasure: 0.9994\n",
      "Epoch 43/96\n",
      "31776/31776 [==============================] - 95s 3ms/step - loss: 0.0043 - acc: 0.9994 - precision: 0.9993 - recall: 0.9995 - fmeasure: 0.9994\n",
      "Epoch 44/96\n",
      "31776/31776 [==============================] - 95s 3ms/step - loss: 0.0015 - acc: 0.9998 - precision: 0.9998 - recall: 0.9998 - fmeasure: 0.9998\n",
      "Epoch 45/96\n",
      "31776/31776 [==============================] - 95s 3ms/step - loss: 0.0031 - acc: 0.9993 - precision: 0.9993 - recall: 0.9994 - fmeasure: 0.9993\n",
      "Epoch 46/96\n",
      "31776/31776 [==============================] - 95s 3ms/step - loss: 0.0011 - acc: 0.9999 - precision: 0.9999 - recall: 0.9998 - fmeasure: 0.9999\n",
      "Epoch 47/96\n",
      "31776/31776 [==============================] - 95s 3ms/step - loss: 0.0022 - acc: 0.9995 - precision: 0.9995 - recall: 0.9995 - fmeasure: 0.9995\n",
      "Epoch 48/96\n",
      "31776/31776 [==============================] - 95s 3ms/step - loss: 0.0024 - acc: 0.9995 - precision: 0.9994 - recall: 0.9995 - fmeasure: 0.9994\n",
      "Epoch 49/96\n",
      "31776/31776 [==============================] - 95s 3ms/step - loss: 0.0025 - acc: 0.9992 - precision: 0.9991 - recall: 0.9994 - fmeasure: 0.9993\n",
      "Epoch 50/96\n",
      "31776/31776 [==============================] - 95s 3ms/step - loss: 0.0044 - acc: 0.9995 - precision: 0.9995 - recall: 0.9995 - fmeasure: 0.9995\n",
      "Epoch 51/96\n",
      "31776/31776 [==============================] - 95s 3ms/step - loss: 7.8995e-04 - acc: 0.9998 - precision: 0.9998 - recall: 0.9997 - fmeasure: 0.9998\n",
      "Epoch 52/96\n",
      "31776/31776 [==============================] - 95s 3ms/step - loss: 0.0030 - acc: 0.9997 - precision: 0.9994 - recall: 0.9998 - fmeasure: 0.9996\n",
      "Epoch 53/96\n",
      "31776/31776 [==============================] - 95s 3ms/step - loss: 0.0040 - acc: 0.9994 - precision: 0.9994 - recall: 0.9995 - fmeasure: 0.9994\n",
      "Epoch 54/96\n",
      "31776/31776 [==============================] - 95s 3ms/step - loss: 0.0026 - acc: 0.9995 - precision: 0.9995 - recall: 0.9995 - fmeasure: 0.9995\n",
      "Epoch 55/96\n",
      "31776/31776 [==============================] - 95s 3ms/step - loss: 0.0010 - acc: 0.9997 - precision: 0.9997 - recall: 0.9997 - fmeasure: 0.9997\n",
      "Epoch 56/96\n",
      "31776/31776 [==============================] - 95s 3ms/step - loss: 0.0019 - acc: 0.9997 - precision: 0.9997 - recall: 0.9997 - fmeasure: 0.9997\n",
      "Epoch 57/96\n",
      "31776/31776 [==============================] - 95s 3ms/step - loss: 0.0016 - acc: 0.9995 - precision: 0.9994 - recall: 0.9997 - fmeasure: 0.9995\n",
      "Epoch 58/96\n",
      "31776/31776 [==============================] - 95s 3ms/step - loss: 0.0020 - acc: 0.9993 - precision: 0.9992 - recall: 0.9992 - fmeasure: 0.9992\n",
      "Epoch 59/96\n",
      "31776/31776 [==============================] - 95s 3ms/step - loss: 0.0010 - acc: 0.9997 - precision: 0.9996 - recall: 0.9998 - fmeasure: 0.9997\n",
      "Epoch 60/96\n",
      "31776/31776 [==============================] - 95s 3ms/step - loss: 0.0026 - acc: 0.9997 - precision: 0.9998 - recall: 0.9997 - fmeasure: 0.9997\n",
      "Epoch 61/96\n",
      "31776/31776 [==============================] - 95s 3ms/step - loss: 0.0024 - acc: 0.9994 - precision: 0.9996 - recall: 0.9993 - fmeasure: 0.9994\n",
      "Epoch 62/96\n",
      "31776/31776 [==============================] - 95s 3ms/step - loss: 0.0022 - acc: 0.9996 - precision: 0.9998 - recall: 0.9995 - fmeasure: 0.9996\n",
      "Epoch 63/96\n",
      "31776/31776 [==============================] - 95s 3ms/step - loss: 0.0013 - acc: 0.9998 - precision: 0.9998 - recall: 0.9998 - fmeasure: 0.9998\n",
      "Epoch 64/96\n",
      "31776/31776 [==============================] - 95s 3ms/step - loss: 0.0016 - acc: 0.9997 - precision: 0.9998 - recall: 0.9997 - fmeasure: 0.9997\n",
      "Epoch 65/96\n",
      "31776/31776 [==============================] - 95s 3ms/step - loss: 0.0017 - acc: 0.9997 - precision: 0.9996 - recall: 0.9997 - fmeasure: 0.9997\n",
      "Epoch 66/96\n",
      "31776/31776 [==============================] - 95s 3ms/step - loss: 0.0024 - acc: 0.9997 - precision: 0.9995 - recall: 0.9998 - fmeasure: 0.9996\n",
      "Epoch 67/96\n",
      "31776/31776 [==============================] - 95s 3ms/step - loss: 9.4892e-04 - acc: 0.9997 - precision: 0.9996 - recall: 0.9998 - fmeasure: 0.9997\n",
      "Epoch 68/96\n",
      "31776/31776 [==============================] - 95s 3ms/step - loss: 6.9969e-04 - acc: 0.9998 - precision: 0.9996 - recall: 0.9999 - fmeasure: 0.9998\n",
      "Epoch 69/96\n",
      "31776/31776 [==============================] - 95s 3ms/step - loss: 0.0021 - acc: 0.9997 - precision: 0.9996 - recall: 0.9997 - fmeasure: 0.9997\n",
      "Epoch 70/96\n",
      "31776/31776 [==============================] - 95s 3ms/step - loss: 0.0018 - acc: 0.9997 - precision: 0.9996 - recall: 0.9998 - fmeasure: 0.9997\n",
      "Epoch 71/96\n",
      "31776/31776 [==============================] - 95s 3ms/step - loss: 6.4451e-04 - acc: 0.9998 - precision: 0.9998 - recall: 0.9999 - fmeasure: 0.9998\n",
      "Epoch 72/96\n",
      "31776/31776 [==============================] - 95s 3ms/step - loss: 0.0024 - acc: 0.9997 - precision: 0.9996 - recall: 0.9998 - fmeasure: 0.9997\n",
      "Epoch 73/96\n",
      "31776/31776 [==============================] - 95s 3ms/step - loss: 0.0016 - acc: 0.9998 - precision: 0.9999 - recall: 0.9998 - fmeasure: 0.9998\n",
      "Epoch 74/96\n",
      "31776/31776 [==============================] - 95s 3ms/step - loss: 0.0018 - acc: 0.9996 - precision: 0.9996 - recall: 0.9995 - fmeasure: 0.9995\n",
      "Epoch 75/96\n",
      "31776/31776 [==============================] - 95s 3ms/step - loss: 0.0012 - acc: 0.9998 - precision: 0.9999 - recall: 0.9997 - fmeasure: 0.9998\n",
      "Epoch 76/96\n",
      "31776/31776 [==============================] - 95s 3ms/step - loss: 0.0018 - acc: 0.9996 - precision: 0.9996 - recall: 0.9995 - fmeasure: 0.9996\n",
      "Epoch 77/96\n",
      "31776/31776 [==============================] - 95s 3ms/step - loss: 0.0043 - acc: 0.9994 - precision: 0.9992 - recall: 0.9996 - fmeasure: 0.9994\n",
      "Epoch 78/96\n",
      "31776/31776 [==============================] - 95s 3ms/step - loss: 0.0019 - acc: 0.9998 - precision: 0.9998 - recall: 0.9998 - fmeasure: 0.9998\n",
      "Epoch 79/96\n",
      "31776/31776 [==============================] - 95s 3ms/step - loss: 0.0026 - acc: 0.9995 - precision: 0.9995 - recall: 0.9994 - fmeasure: 0.9995\n",
      "Epoch 80/96\n",
      "31776/31776 [==============================] - 95s 3ms/step - loss: 0.0012 - acc: 0.9997 - precision: 0.9995 - recall: 0.9997 - fmeasure: 0.9996\n",
      "Epoch 81/96\n",
      "31776/31776 [==============================] - 95s 3ms/step - loss: 0.0019 - acc: 0.9996 - precision: 0.9995 - recall: 0.9996 - fmeasure: 0.9996\n",
      "Epoch 82/96\n",
      "31776/31776 [==============================] - 95s 3ms/step - loss: 0.0012 - acc: 0.9997 - precision: 0.9997 - recall: 0.9998 - fmeasure: 0.9997\n",
      "Epoch 83/96\n",
      "31776/31776 [==============================] - 95s 3ms/step - loss: 0.0013 - acc: 0.9998 - precision: 0.9998 - recall: 0.9998 - fmeasure: 0.9998\n",
      "Epoch 84/96\n",
      "31776/31776 [==============================] - 96s 3ms/step - loss: 8.6940e-04 - acc: 0.9998 - precision: 0.9999 - recall: 0.9998 - fmeasure: 0.9999\n",
      "Epoch 85/96\n",
      "31776/31776 [==============================] - 95s 3ms/step - loss: 0.0014 - acc: 0.9998 - precision: 0.9996 - recall: 0.9999 - fmeasure: 0.9998\n",
      "Epoch 86/96\n",
      "31776/31776 [==============================] - 95s 3ms/step - loss: 0.0015 - acc: 0.9996 - precision: 0.9997 - recall: 0.9995 - fmeasure: 0.9996\n",
      "Epoch 87/96\n",
      "31776/31776 [==============================] - 95s 3ms/step - loss: 9.3065e-04 - acc: 0.9998 - precision: 0.9998 - recall: 0.9998 - fmeasure: 0.9998\n",
      "Epoch 88/96\n",
      "31776/31776 [==============================] - 95s 3ms/step - loss: 0.0014 - acc: 0.9998 - precision: 0.9998 - recall: 0.9998 - fmeasure: 0.9998\n",
      "Epoch 89/96\n",
      "31776/31776 [==============================] - 95s 3ms/step - loss: 0.0045 - acc: 0.9997 - precision: 0.9994 - recall: 0.9999 - fmeasure: 0.9996\n",
      "Epoch 90/96\n",
      "31776/31776 [==============================] - 95s 3ms/step - loss: 6.2688e-04 - acc: 0.9998 - precision: 0.9999 - recall: 0.9997 - fmeasure: 0.9998\n",
      "Epoch 91/96\n",
      "31776/31776 [==============================] - 95s 3ms/step - loss: 0.0010 - acc: 0.9999 - precision: 1.0000 - recall: 0.9998 - fmeasure: 0.9999\n",
      "Epoch 92/96\n",
      "31776/31776 [==============================] - 95s 3ms/step - loss: 0.0014 - acc: 0.9997 - precision: 0.9996 - recall: 0.9997 - fmeasure: 0.9997\n",
      "Epoch 93/96\n",
      "31776/31776 [==============================] - 95s 3ms/step - loss: 0.0028 - acc: 0.9995 - precision: 0.9992 - recall: 0.9998 - fmeasure: 0.9995\n",
      "Epoch 94/96\n",
      "31776/31776 [==============================] - 94s 3ms/step - loss: 0.0021 - acc: 0.9997 - precision: 0.9997 - recall: 0.9998 - fmeasure: 0.9997\n",
      "Epoch 95/96\n",
      "31776/31776 [==============================] - 95s 3ms/step - loss: 9.9298e-04 - acc: 0.9998 - precision: 0.9999 - recall: 0.9998 - fmeasure: 0.9998\n",
      "Epoch 96/96\n",
      "31776/31776 [==============================] - 94s 3ms/step - loss: 0.0010 - acc: 0.9998 - precision: 0.9997 - recall: 0.9999 - fmeasure: 0.9998\n",
      "Time usage: 2:31:53 minutes\n"
     ]
    }
   ],
   "source": [
    "from keras.models import Model\n",
    "compileModel()\n",
    "train_Model(verbose =1, times = 1, epochs = 5, base_lr = base_lr, max_lr= max_lr, mode = mode, \n",
    "                stepsize = step_size, batch_size = batch_size, use_tensorboard = False)"
   ]
  },
  {
   "cell_type": "code",
   "execution_count": 19,
   "metadata": {},
   "outputs": [
    {
     "name": "stdout",
     "output_type": "stream",
     "text": [
      "train_metrics\n",
      "31776/31776 [==============================] - 42s 1ms/step\n",
      "0.6074\n",
      "test_metrics\n",
      "7946/7946 [==============================] - 11s 1ms/step\n",
      "0.6063\n"
     ]
    }
   ],
   "source": [
    "### checking the results for California \n",
    "print('train_metrics') \n",
    "trainingAcc = Final_model.evaluate(train_images, train_labels)[1]\n",
    "print(trainingAcc)\n",
    "print('test_metrics') \n",
    "testingAcc = Final_model.evaluate(test_images, test_labels)[1]\n",
    "print(testingAcc)\n",
    "\n",
    "#... and NRW: \n",
    "print('    NRW      ')\n",
    "print('train_metrics') \n",
    "trainingAcc = Final_model.evaluate(Atrain_images, Atrain_labels)[1]\n",
    "print(trainingAcc)\n",
    "print('test_metrics') \n",
    "testingAcc = Final_model.evaluate(Atest_images, Atest_labels)[1]\n",
    "print(testingAcc)\n",
    "\n",
    "# ...and Heerlen\n",
    "print('    Heerlen      ')\n",
    "print('train_metrics') \n",
    "trainingAcc = boModel.evaluate(Htrain_images, Htrain_labels)[1]\n",
    "print(trainingAcc)\n",
    "print('test_metrics') \n",
    "testingAcc = boModel.evaluate(Htest_images, Htest_labels)[1]\n",
    "print(testingAcc)"
   ]
  },
  {
   "cell_type": "code",
   "execution_count": null,
   "metadata": {
    "collapsed": true
   },
   "outputs": [],
   "source": [
    "### checking if it is an exception occuring only for the Xception network or if any of the other models pre-trained on the\n",
    "### NRW data set is performing better:"
   ]
  },
  {
   "cell_type": "code",
   "execution_count": 51,
   "metadata": {},
   "outputs": [
    {
     "name": "stdout",
     "output_type": "stream",
     "text": [
      "IncV3_bs-64_triangular2_sz-420_blr-1e-06_mlr-0.0002_e-96_imagenet_229__ensemble__\n",
      "31776/31776 [==============================] - 39s 1ms/step\n",
      "7946/7946 [==============================] - 8s 1ms/step\n",
      "IncV3_bs-64_triangular2_sz-315_blr-1e-06_mlr-0.0001_e-96_imagenet_Frozen_4-e08\n",
      "31776/31776 [==============================] - 42s 1ms/step\n",
      "7946/7946 [==============================] - 8s 1ms/step\n",
      "IncResNetV2_bs-64_triangular_sz-315_blr-1e-06_mlr-0.0005_e-48_imagenet_Frozen_4-e16\n",
      "31776/31776 [==============================] - 84s 3ms/step\n",
      "7946/7946 [==============================] - 17s 2ms/step\n",
      "Xception_bs-128_triangular_sz-157_blr-1e-06_mlr-0.0002_e-48_imagenet_Frozen_3-e42\n",
      "31776/31776 [==============================] - 67s 2ms/step\n",
      "7946/7946 [==============================] - 13s 2ms/step\n",
      "IncResNetV2_bs-64_triangular_sz-315_blr-1e-06_mlr-0.0003_e-96_imagenet_All_3-e63\n",
      "31776/31776 [==============================] - 95s 3ms/step\n",
      "7946/7946 [==============================] - 18s 2ms/step\n",
      "Xception_bs-128_triangular_sz-157_blr-1e-06_mlr-0.0004_e-96_imagenet_All_1-e73\n",
      "31776/31776 [==============================] - 79s 2ms/step\n",
      "7946/7946 [==============================] - 15s 2ms/step\n",
      "DenseNet121_bs-128_triangular_sz-157_blr-1e-06_mlr-0.0002_e-48_imagenet_141_2-e30\n",
      "31776/31776 [==============================] - 80s 3ms/step\n",
      "7946/7946 [==============================] - 14s 2ms/step\n",
      "DenseNet121_bs-64_triangular_sz-315_blr-1e-06_mlr-0.0003_e-96_imagenet_All_2-e08\n",
      "31776/31776 [==============================] - 86s 3ms/step\n",
      "7946/7946 [==============================] - 14s 2ms/step\n",
      "IncResNetV2_bs-64_triangular_sz-315_blr-1e-06_mlr-0.0001_e-48_imagenet_595_3-e29\n",
      "31776/31776 [==============================] - 113s 4ms/step\n",
      "7946/7946 [==============================] - 19s 2ms/step\n",
      "DenseNet121_bs-64_triangular_sz-315_blr-1e-05_mlr-0.0009_e-48_imagenet_Frozen_3-e04\n",
      "31776/31776 [==============================] - 97s 3ms/step\n",
      "7946/7946 [==============================] - 15s 2ms/step\n",
      "Xception_bs-64_triangular_sz-315_blr-5e-05_mlr-0.0006_e-48_imagenet_86_3-e19\n",
      "31776/31776 [==============================] - 107s 3ms/step\n",
      "7946/7946 [==============================] - 17s 2ms/step\n",
      "IncV3_bs-64_triangular2_sz-315_blr-1e-05_mlr-0.0002_e-96_imagenet_All_0-e04\n",
      "31776/31776 [==============================] - 101s 3ms/step\n",
      "7946/7946 [==============================] - 13s 2ms/step\n",
      "Time usage: 0:39:45 minutes\n"
     ]
    }
   ],
   "source": [
    "os.chdir(model_dir)\n",
    "nameList = os.listdir(model_dir)\n",
    "def evalModels():\n",
    "    start_time = time()\n",
    "    global test_acc_list; global train_acc_list; global test_loss_list\n",
    "    global train_loss_list; global test_prec_list\n",
    "    global train_prec_list; global test_rec_list; global train_rec_list\n",
    "    global model_details\n",
    "    model_details = []; test_acc_list = []; train_acc_list = []; test_loss_list = []\n",
    "    train_loss_list = []; test_prec_list = []\n",
    "    train_prec_list = []; test_rec_list = []; train_rec_list = []\n",
    "    for name in nameList:\n",
    "        print(name)\n",
    "        Final_model = load_model(name, custom_objects={'precision': precision, 'recall': recall, \n",
    "                                 'fbeta_score': fbeta_score, 'fmeasure': fmeasure})\n",
    "        train_metrics = Final_model.evaluate(train_images, train_labels)\n",
    "        test_metrics = Final_model.evaluate(test_images, test_labels)\n",
    "        train_acc = train_metrics[1]; test_acc = test_metrics[1]\n",
    "        train_loss = train_metrics[0]; test_loss = test_metrics[0]\n",
    "        train_prec = train_metrics[2];  test_prec = test_metrics[2]\n",
    "        train_rec = train_metrics[3]; test_rec = test_metrics[3]         \n",
    "        test_acc_list.append(test_acc); train_acc_list.append(train_acc)\n",
    "        test_loss_list.append(test_loss); train_loss_list.append(train_loss)\n",
    "        test_prec_list.append(test_prec); train_prec_list.append(train_prec)\n",
    "        test_rec_list.append(test_rec); train_rec_list.append(train_rec)\n",
    "        model_details.append(name)\n",
    "    end_time = time()\n",
    "    time_dif = end_time - start_time\n",
    "    print('Time usage: ' + str(timedelta(seconds=int(round(time_dif)))) + ' minutes')\n",
    "evalModels()"
   ]
  },
  {
   "cell_type": "code",
   "execution_count": 53,
   "metadata": {},
   "outputs": [
    {
     "data": {
      "text/html": [
       "<div>\n",
       "<style scoped>\n",
       "    .dataframe tbody tr th:only-of-type {\n",
       "        vertical-align: middle;\n",
       "    }\n",
       "\n",
       "    .dataframe tbody tr th {\n",
       "        vertical-align: top;\n",
       "    }\n",
       "\n",
       "    .dataframe thead th {\n",
       "        text-align: right;\n",
       "    }\n",
       "</style>\n",
       "<table border=\"1\" class=\"dataframe\">\n",
       "  <thead>\n",
       "    <tr style=\"text-align: right;\">\n",
       "      <th></th>\n",
       "      <th>test acc</th>\n",
       "      <th>test loss</th>\n",
       "      <th>test prec</th>\n",
       "      <th>test rec</th>\n",
       "    </tr>\n",
       "  </thead>\n",
       "  <tbody>\n",
       "    <tr>\n",
       "      <th>DenseNet121_bs-64_triangular_sz-315_blr-1e-05_mlr-0.0009_e-48_imagenet_Frozen_3-e04</th>\n",
       "      <td>0.639819</td>\n",
       "      <td>3.216919</td>\n",
       "      <td>0.614226</td>\n",
       "      <td>0.747921</td>\n",
       "    </tr>\n",
       "    <tr>\n",
       "      <th>DenseNet121_bs-64_triangular_sz-315_blr-1e-06_mlr-0.0003_e-96_imagenet_All_2-e08</th>\n",
       "      <td>0.621319</td>\n",
       "      <td>4.400646</td>\n",
       "      <td>0.570508</td>\n",
       "      <td>0.980548</td>\n",
       "    </tr>\n",
       "    <tr>\n",
       "      <th>DenseNet121_bs-128_triangular_sz-157_blr-1e-06_mlr-0.0002_e-48_imagenet_141_2-e30</th>\n",
       "      <td>0.607350</td>\n",
       "      <td>4.450650</td>\n",
       "      <td>0.562837</td>\n",
       "      <td>0.964576</td>\n",
       "    </tr>\n",
       "    <tr>\n",
       "      <th>IncV3_bs-64_triangular2_sz-315_blr-1e-06_mlr-0.0001_e-96_imagenet_Frozen_4-e08</th>\n",
       "      <td>0.602316</td>\n",
       "      <td>5.770830</td>\n",
       "      <td>0.589164</td>\n",
       "      <td>0.682436</td>\n",
       "    </tr>\n",
       "    <tr>\n",
       "      <th>IncV3_bs-64_triangular2_sz-315_blr-1e-05_mlr-0.0002_e-96_imagenet_All_0-e04</th>\n",
       "      <td>0.500126</td>\n",
       "      <td>7.968705</td>\n",
       "      <td>0.500081</td>\n",
       "      <td>1.000000</td>\n",
       "    </tr>\n",
       "    <tr>\n",
       "      <th>IncResNetV2_bs-64_triangular_sz-315_blr-1e-06_mlr-0.0005_e-48_imagenet_Frozen_4-e16</th>\n",
       "      <td>0.500000</td>\n",
       "      <td>8.059048</td>\n",
       "      <td>0.000000</td>\n",
       "      <td>0.000000</td>\n",
       "    </tr>\n",
       "    <tr>\n",
       "      <th>IncResNetV2_bs-64_triangular_sz-315_blr-1e-06_mlr-0.0003_e-96_imagenet_All_3-e63</th>\n",
       "      <td>0.500000</td>\n",
       "      <td>8.059048</td>\n",
       "      <td>0.000000</td>\n",
       "      <td>0.000000</td>\n",
       "    </tr>\n",
       "    <tr>\n",
       "      <th>IncResNetV2_bs-64_triangular_sz-315_blr-1e-06_mlr-0.0001_e-48_imagenet_595_3-e29</th>\n",
       "      <td>0.500000</td>\n",
       "      <td>8.059048</td>\n",
       "      <td>0.000000</td>\n",
       "      <td>0.000000</td>\n",
       "    </tr>\n",
       "    <tr>\n",
       "      <th>IncV3_bs-64_triangular2_sz-420_blr-1e-06_mlr-0.0002_e-96_imagenet_229__ensemble__</th>\n",
       "      <td>0.497861</td>\n",
       "      <td>4.983025</td>\n",
       "      <td>0.498976</td>\n",
       "      <td>0.988217</td>\n",
       "    </tr>\n",
       "    <tr>\n",
       "      <th>Xception_bs-128_triangular_sz-157_blr-1e-06_mlr-0.0002_e-48_imagenet_Frozen_3-e42</th>\n",
       "      <td>0.495344</td>\n",
       "      <td>7.825194</td>\n",
       "      <td>0.498004</td>\n",
       "      <td>0.979937</td>\n",
       "    </tr>\n",
       "    <tr>\n",
       "      <th>Xception_bs-128_triangular_sz-157_blr-1e-06_mlr-0.0004_e-96_imagenet_All_1-e73</th>\n",
       "      <td>0.360307</td>\n",
       "      <td>9.597677</td>\n",
       "      <td>0.382656</td>\n",
       "      <td>0.449676</td>\n",
       "    </tr>\n",
       "    <tr>\n",
       "      <th>Xception_bs-64_triangular_sz-315_blr-5e-05_mlr-0.0006_e-48_imagenet_86_3-e19</th>\n",
       "      <td>0.355776</td>\n",
       "      <td>8.900431</td>\n",
       "      <td>0.371805</td>\n",
       "      <td>0.418504</td>\n",
       "    </tr>\n",
       "  </tbody>\n",
       "</table>\n",
       "</div>"
      ],
      "text/plain": [
       "                                                    test acc  test loss  \\\n",
       "DenseNet121_bs-64_triangular_sz-315_blr-1e-05_m...  0.639819   3.216919   \n",
       "DenseNet121_bs-64_triangular_sz-315_blr-1e-06_m...  0.621319   4.400646   \n",
       "DenseNet121_bs-128_triangular_sz-157_blr-1e-06_...  0.607350   4.450650   \n",
       "IncV3_bs-64_triangular2_sz-315_blr-1e-06_mlr-0....  0.602316   5.770830   \n",
       "IncV3_bs-64_triangular2_sz-315_blr-1e-05_mlr-0....  0.500126   7.968705   \n",
       "IncResNetV2_bs-64_triangular_sz-315_blr-1e-06_m...  0.500000   8.059048   \n",
       "IncResNetV2_bs-64_triangular_sz-315_blr-1e-06_m...  0.500000   8.059048   \n",
       "IncResNetV2_bs-64_triangular_sz-315_blr-1e-06_m...  0.500000   8.059048   \n",
       "IncV3_bs-64_triangular2_sz-420_blr-1e-06_mlr-0....  0.497861   4.983025   \n",
       "Xception_bs-128_triangular_sz-157_blr-1e-06_mlr...  0.495344   7.825194   \n",
       "Xception_bs-128_triangular_sz-157_blr-1e-06_mlr...  0.360307   9.597677   \n",
       "Xception_bs-64_triangular_sz-315_blr-5e-05_mlr-...  0.355776   8.900431   \n",
       "\n",
       "                                                    test prec  test rec  \n",
       "DenseNet121_bs-64_triangular_sz-315_blr-1e-05_m...   0.614226  0.747921  \n",
       "DenseNet121_bs-64_triangular_sz-315_blr-1e-06_m...   0.570508  0.980548  \n",
       "DenseNet121_bs-128_triangular_sz-157_blr-1e-06_...   0.562837  0.964576  \n",
       "IncV3_bs-64_triangular2_sz-315_blr-1e-06_mlr-0....   0.589164  0.682436  \n",
       "IncV3_bs-64_triangular2_sz-315_blr-1e-05_mlr-0....   0.500081  1.000000  \n",
       "IncResNetV2_bs-64_triangular_sz-315_blr-1e-06_m...   0.000000  0.000000  \n",
       "IncResNetV2_bs-64_triangular_sz-315_blr-1e-06_m...   0.000000  0.000000  \n",
       "IncResNetV2_bs-64_triangular_sz-315_blr-1e-06_m...   0.000000  0.000000  \n",
       "IncV3_bs-64_triangular2_sz-420_blr-1e-06_mlr-0....   0.498976  0.988217  \n",
       "Xception_bs-128_triangular_sz-157_blr-1e-06_mlr...   0.498004  0.979937  \n",
       "Xception_bs-128_triangular_sz-157_blr-1e-06_mlr...   0.382656  0.449676  \n",
       "Xception_bs-64_triangular_sz-315_blr-5e-05_mlr-...   0.371805  0.418504  "
      ]
     },
     "execution_count": 53,
     "metadata": {},
     "output_type": "execute_result"
    }
   ],
   "source": [
    "testData = np.array((test_acc_list, test_loss_list, test_prec_list, test_rec_list, train_acc_list))\n",
    "testColumns = ['test acc', 'test loss', 'test prec', 'test rec', 'train acc']\n",
    "shortRes = pd.DataFrame(data = testData, columns = model_details, index = testColumns)\n",
    "ShortAllModelOvw = pd.DataFrame(data = shortRes.transpose(), columns = testColumns, index = model_details)\n",
    "ShortAllModelOvw.sort_values(by=['test acc'], ascending = False)"
   ]
  },
  {
   "cell_type": "code",
   "execution_count": 48,
   "metadata": {},
   "outputs": [],
   "source": [
    "# evaluation with bootstrapping\n",
    "seed(1)\n",
    "ratio = 0.1    # proportion of data that is used for subsample\n",
    "\n",
    "def subsample(dataset, labels = test_labels, ratio= ratio):\n",
    "    pred_sample = list()\n",
    "    label_sample = list()\n",
    "    n_sample = round(len(dataset) * ratio)\n",
    "    index = sample(range(len(dataset)), n_sample)\n",
    "    pred_sample = dataset[index]\n",
    "    label_sample = labels[index]           \n",
    "    return pred_sample, label_sample\n",
    "\n",
    "def bootstrap(dataset, iterations = 20, ratio = ratio, labels = test_labels):    \n",
    "    for i in range (iterations):\n",
    "        b_pred, b_labels = subsample(dataset, labels, ratio)\n",
    "        lo = cross_entropy(b_pred, b_labels)\n",
    "        b_pred_rounded = b_pred.round()\n",
    "        acc = accuracy_score(b_labels, b_pred_rounded)\n",
    "        pre = precision_score(b_labels, b_pred_rounded)\n",
    "        rec = recall_score(b_labels, b_pred_rounded)\n",
    "        loss.append(lo)\n",
    "        accuracy.append(acc)\n",
    "        precisions.append(pre)\n",
    "        recalls.append(rec)\n",
    "        if (i%1000 == 0): \n",
    "            print('Iteration_' + str(i))\n",
    "            \n",
    "def cross_entropy(predictions, targets, epsilon=1e-12):\n",
    "    predictions = np.clip(predictions, epsilon, 1. - epsilon)\n",
    "    N = predictions.shape[0]\n",
    "    ce = -np.sum(np.sum(targets*np.log(predictions+1e-9)))/N\n",
    "    return ce"
   ]
  },
  {
   "cell_type": "code",
   "execution_count": null,
   "metadata": {
    "collapsed": true
   },
   "outputs": [],
   "source": [
    "boPreds = boModel.predict(test_images, batch_size = 64).squeeze(axis = 1)"
   ]
  },
  {
   "cell_type": "code",
   "execution_count": 28,
   "metadata": {
    "collapsed": true
   },
   "outputs": [],
   "source": [
    "from IPython.core.interactiveshell import InteractiveShell\n",
    "InteractiveShell.ast_node_interactivity = \"last\""
   ]
  },
  {
   "cell_type": "code",
   "execution_count": 47,
   "metadata": {},
   "outputs": [
    {
     "name": "stdout",
     "output_type": "stream",
     "text": [
      "Iteration_0\n",
      "Iteration_1000\n",
      "Iteration_2000\n",
      "Iteration_3000\n",
      "Iteration_4000\n",
      "Iteration_5000\n",
      "Iteration_6000\n",
      "Iteration_7000\n",
      "Iteration_8000\n",
      "Iteration_9000\n"
     ]
    },
    {
     "data": {
      "image/png": "[encoded data removed]",
      "text/plain": [
       "<matplotlib.figure.Figure at 0x425239b0>"
      ]
     },
     "metadata": {},
     "output_type": "display_data"
    }
   ],
   "source": [
    "loss = []\n",
    "accuracy = []\n",
    "precisions = []\n",
    "recalls = []\n",
    "f_measures = []\n",
    "\n",
    "### for the best of Model\n",
    "%matplotlib inline\n",
    "bootstrap(iterations = 10000, dataset = boPreds)\n",
    "plt.hist(accuracy, bins = 700, range = [0,1])\n",
    "plt.show\n",
    "acc_boModel = accuracy\n",
    "loss_boModel = loss\n",
    "pre_boModel = precisions\n",
    "rec_boModel = recall"
   ]
  },
  {
   "cell_type": "code",
   "execution_count": 44,
   "metadata": {},
   "outputs": [],
   "source": [
    "#plt.hist(precisions, bins = 100, range = [0,1], color = 'forestgreen')\n",
    "#plt.hist(recalls, bins = 100, range = [0,1], color = 'indianred')\n",
    "#plt.hist(loss, bins = 100, color = 'skyblue')\n",
    "#plt.show"
   ]
  },
  {
   "cell_type": "code",
   "execution_count": null,
   "metadata": {},
   "outputs": [],
   "source": []
  },
  {
   "cell_type": "code",
   "execution_count": 93,
   "metadata": {},
   "outputs": [],
   "source": [
    "### loading the best model from the mixed training\n",
    "ModelName = 'FINAL'\n",
    "os.chdir(model_dir)\n",
    "mixedModel = load_model(ModelName, \n",
    "                     custom_objects={'precision': precision, 'recall': recall, \n",
    "                                                            'fbeta_score': fbeta_score, 'fmeasure': fmeasure})\n",
    "mixedPreds = mixedModel.predict(test_images, batch_size = 64).squeeze(axis = 1)"
   ]
  },
  {
   "cell_type": "code",
   "execution_count": null,
   "metadata": {
    "collapsed": true
   },
   "outputs": [],
   "source": []
  },
  {
   "cell_type": "code",
   "execution_count": 50,
   "metadata": {},
   "outputs": [
    {
     "name": "stdout",
     "output_type": "stream",
     "text": [
      "Iteration_0\n",
      "Iteration_1000\n",
      "Iteration_2000\n",
      "Iteration_3000\n",
      "Iteration_4000\n",
      "Iteration_5000\n",
      "Iteration_6000\n",
      "Iteration_7000\n",
      "Iteration_8000\n",
      "Iteration_9000\n"
     ]
    },
    {
     "data": {
      "image/png": "[encoded data removed]",
      "text/plain": [
       "<matplotlib.figure.Figure at 0x4ae25c50>"
      ]
     },
     "metadata": {},
     "output_type": "display_data"
    }
   ],
   "source": [
    "### for the mixed Model\n",
    "loss = []\n",
    "accuracy = []\n",
    "precisions = []\n",
    "recalls = []\n",
    "\n",
    "bootstrap(iterations = 10000, dataset = mixedPreds)\n",
    "plt.hist(accuracy, bins = 700, range = [0,1])\n",
    "#plt.hist(precisions, bins = 100, range = [0,1])\n",
    "#plt.hist(recalls, bins = 100, range = [0,1])\n",
    "#plt.hist(loss, bins = 100)\n",
    "\n",
    "acc_mixedModel = accuracy\n",
    "loss_mixedModel = loss\n",
    "pre_mixedModel = precisions\n",
    "rec_mixedModel = recall"
   ]
  },
  {
   "cell_type": "code",
   "execution_count": 139,
   "metadata": {},
   "outputs": [
    {
     "data": {
      "text/plain": [
       "<function matplotlib.pyplot.show>"
      ]
     },
     "execution_count": 139,
     "metadata": {},
     "output_type": "execute_result"
    },
    {
     "data": {
      "image/png": "[encoded data removed]",
      "text/plain": [
       "<matplotlib.figure.Figure at 0x7e3ed710>"
      ]
     },
     "metadata": {},
     "output_type": "display_data"
    }
   ],
   "source": [
    "plt.hist(acc_boModel, bins = 800, range = [0,1], color = 'darkorchid', alpha = 0.6)\n",
    "plt.hist(acc_mixedModel, bins = 800, range = [0,1], color = 'royalblue', alpha = 0.6)\n",
    "plt.show"
   ]
  },
  {
   "cell_type": "code",
   "execution_count": 67,
   "metadata": {},
   "outputs": [
    {
     "name": "stdout",
     "output_type": "stream",
     "text": [
      "0.0224\n",
      "0.0171\n"
     ]
    },
    {
     "data": {
      "text/plain": [
       "0.0141"
      ]
     },
     "execution_count": 67,
     "metadata": {},
     "output_type": "execute_result"
    }
   ],
   "source": [
    "# 0-Hypothesis:  both accuracies are the same\n",
    "# Alternative-H: both accuracies are different\n",
    "\n",
    "import numpy as np\n",
    "from scipy import stats\n",
    "\n",
    "N = 10000\n",
    "a = np.array(acc_mixedModel)\n",
    "b = np.array(acc_boModel)\n",
    "\n",
    "#For unbiased max likelihood estimate we have to divide the var by N-1, and therefore the parameter ddof = 1\n",
    "var_a = a.var(ddof=1)\n",
    "var_b = b.var(ddof=1)\n",
    "print(round(var_a, 6)*100)\n",
    "print(round(var_b, 6)*100)\n",
    "#std deviation\n",
    "s = np.sqrt((var_a + var_b)/2)\n",
    "round(s, 4)"
   ]
  },
  {
   "cell_type": "code",
   "execution_count": 74,
   "metadata": {},
   "outputs": [
    {
     "name": "stdout",
     "output_type": "stream",
     "text": [
      "t = -441.372222632\n",
      "p = nan\n"
     ]
    }
   ],
   "source": [
    "## Calculate the t-statistics\n",
    "t = (a.mean() - b.mean())/(s*np.sqrt(2/N))\n",
    "## Compare with the critical t-value\n",
    "#Degrees of freedom\n",
    "df = 2*N - 2\n",
    "\n",
    "#p-value after comparison with the t \n",
    "p = 1 - stats.t.cdf(t,df=df)\n",
    "print(\"t = \" + str(t))\n",
    "print(\"p = \" + str(2*p))\n",
    "#Note that we multiply the p value by 2 because its a twp tail t-test\n",
    "### You can see that after comparing the t statistic with the critical t value (computed internally) we get a good p value \n",
    "# of 0.0005 and thus we reject the null hypothesis and thus it proves that the mean of the two distributions are different \n",
    "# and statistically significant."
   ]
  },
  {
   "cell_type": "code",
   "execution_count": 60,
   "metadata": {},
   "outputs": [
    {
     "name": "stdout",
     "output_type": "stream",
     "text": [
      "t = -441.372222632\n",
      "p = 0.0\n"
     ]
    }
   ],
   "source": [
    "## Cross Checking with the internal scipy function\n",
    "t2, p2 = stats.ttest_ind(acc_mixedModel ,acc_boModel)\n",
    "print(\"t = \" + str(t2))\n",
    "print(\"p = \" + str(2*p2))"
   ]
  },
  {
   "cell_type": "code",
   "execution_count": 98,
   "metadata": {},
   "outputs": [
    {
     "name": "stdout",
     "output_type": "stream",
     "text": [
      "Iteration_0\n",
      "Iteration_1000\n",
      "Iteration_2000\n",
      "Iteration_3000\n",
      "Iteration_4000\n",
      "Iteration_5000\n",
      "Iteration_6000\n",
      "Iteration_7000\n",
      "Iteration_8000\n",
      "Iteration_9000\n"
     ]
    }
   ],
   "source": [
    "### Now for the NRW data\n",
    "\n",
    "### for the best of Model\n",
    "boPreds = boModel.predict(Atest_images, batch_size = 64).squeeze(axis = 1)\n",
    "loss = []; accuracy = []; precisions = []; recalls = []; f_measures = []\n",
    "\n",
    "bootstrap(iterations = 10000, dataset = boPreds, labels = Atest_labels)\n",
    "NRW_acc_boModel = accuracy\n",
    "NRW_loss_boModel = loss\n",
    "NRW_pre_boModel = precisions\n",
    "NRW_rec_boModel = recall"
   ]
  },
  {
   "cell_type": "code",
   "execution_count": 99,
   "metadata": {},
   "outputs": [
    {
     "data": {
      "text/plain": [
       "[0.87096774193548387,\n",
       " 0.79569892473118276,\n",
       " 0.81720430107526887,\n",
       " 0.76344086021505375,\n",
       " 0.79569892473118276,\n",
       " 0.83870967741935487,\n",
       " 0.90322580645161288,\n",
       " 0.84946236559139787,\n",
       " 0.76344086021505375,\n",
       " 0.82795698924731187]"
      ]
     },
     "execution_count": 99,
     "metadata": {},
     "output_type": "execute_result"
    }
   ],
   "source": [
    "NRW_acc_boModel[:10]"
   ]
  },
  {
   "cell_type": "code",
   "execution_count": 104,
   "metadata": {},
   "outputs": [
    {
     "data": {
      "text/plain": [
       "10000"
      ]
     },
     "execution_count": 104,
     "metadata": {},
     "output_type": "execute_result"
    }
   ],
   "source": [
    "len(NRW_acc_mixedModel)"
   ]
  },
  {
   "cell_type": "code",
   "execution_count": 101,
   "metadata": {},
   "outputs": [
    {
     "name": "stdout",
     "output_type": "stream",
     "text": [
      "Iteration_0\n",
      "Iteration_1000\n",
      "Iteration_2000\n",
      "Iteration_3000\n",
      "Iteration_4000\n",
      "Iteration_5000\n",
      "Iteration_6000\n",
      "Iteration_7000\n",
      "Iteration_8000\n",
      "Iteration_9000\n"
     ]
    }
   ],
   "source": [
    "### for the mixed Model\n",
    "mixedPreds = mixedModel.predict(Atest_images, batch_size = 64).squeeze(axis = 1)\n",
    "loss = []; accuracy = []; precisions = []; recalls = []; f_measures = []\n",
    "\n",
    "bootstrap(iterations = 10000, dataset = mixedPreds, labels = Atest_labels)\n",
    "NRW_acc_mixedModel = accuracy\n",
    "NRW_loss_mixedModel = loss\n",
    "NRW_pre_mixedModel = precisions\n",
    "NRW_rec_mixedModel = recall"
   ]
  },
  {
   "cell_type": "code",
   "execution_count": 120,
   "metadata": {},
   "outputs": [
    {
     "data": {
      "text/plain": [
       "<function matplotlib.pyplot.show>"
      ]
     },
     "execution_count": 120,
     "metadata": {},
     "output_type": "execute_result"
    },
    {
     "data": {
      "image/png": "[encoded data removed]",
      "text/plain": [
       "<matplotlib.figure.Figure at 0x131cd1518>"
      ]
     },
     "metadata": {},
     "output_type": "display_data"
    }
   ],
   "source": [
    "plt.hist(NRW_acc_boModel, bins = 90, range = [0,1], color = 'b', alpha =0.5)\n",
    "plt.hist(NRW_acc_mixedModel, bins = 90, range = [0,1], color = 'r', alpha =0.5)\n",
    "plt.show"
   ]
  },
  {
   "cell_type": "code",
   "execution_count": 115,
   "metadata": {},
   "outputs": [
    {
     "name": "stdout",
     "output_type": "stream",
     "text": [
      "variance mixedModel: \t0.1652\n",
      "variance boModel: \t0.1407\n",
      "standard deviation: \t0.0141 \n"
     ]
    }
   ],
   "source": [
    "# 0-Hypothesis:  both accuracies are the same\n",
    "# Alternative-H: both accuracies are different\n",
    "\n",
    "import numpy as np\n",
    "from scipy import stats\n",
    "\n",
    "N = 10000\n",
    "NRW_a = np.array(NRW_acc_mixedModel)\n",
    "NRW_b = np.array(NRW_acc_boModel)\n",
    "\n",
    "#For unbiased max likelihood estimate we have to divide the var by N-1, and therefore the parameter ddof = 1\n",
    "var_aNRW = NRW_a.var(ddof=1)\n",
    "var_bNRW = NRW_b.var(ddof=1)\n",
    "print('variance mixedModel: \\t{}'.format(round(var_aNRW, 6)*100))\n",
    "print('variance boModel: \\t{}'.format(round(var_bNRW, 6)*100))\n",
    "#std deviation\n",
    "sNRW = np.sqrt((var_aNRW + var_bNRW)/2)\n",
    "print('standard deviation: \\t{} '.format(round(s, 4)))"
   ]
  },
  {
   "cell_type": "code",
   "execution_count": 123,
   "metadata": {},
   "outputs": [
    {
     "name": "stdout",
     "output_type": "stream",
     "text": [
      "t = 67.1007731575\n",
      "p = 0.0\n"
     ]
    }
   ],
   "source": [
    "## Calculate the t-statistics\n",
    "tNRW = (NRW_b.mean() - NRW_a.mean())/(sNRW*np.sqrt(2/N))\n",
    "## Compare with the critical t-value\n",
    "#Degrees of freedom\n",
    "df = 2*N - 2\n",
    "\n",
    "#p-value after comparison with the t \n",
    "pNRW = 1 - stats.t.cdf(tNRW,df=df)\n",
    "print(\"t = \" + str(tNRW))\n",
    "print(\"p = \" + str(2*pNRW))\n",
    "#Note that we multiply the p value by 2 because its a twp tail t-test\n",
    "### You can see that after comparing the t statistic with the critical t value (computed internally) we get a good p value \n",
    "# of 0.0005 and thus we reject the null hypothesis and thus it proves that the mean of the two distributions are different \n",
    "# and statistically significant."
   ]
  },
  {
   "cell_type": "code",
   "execution_count": 118,
   "metadata": {},
   "outputs": [
    {
     "name": "stdout",
     "output_type": "stream",
     "text": [
      "t = -67.1007731575\n",
      "p = 0.0\n"
     ]
    }
   ],
   "source": [
    "## Cross Checking with the internal scipy function\n",
    "NRWt2, NRWp2 = stats.ttest_ind(NRW_acc_mixedModel ,NRW_acc_boModel)\n",
    "print(\"t = \" + str(NRWt2))\n",
    "print(\"p = \" + str(2*NRWp2))"
   ]
  },
  {
   "cell_type": "code",
   "execution_count": 124,
   "metadata": {
    "collapsed": true
   },
   "outputs": [],
   "source": [
    "############################################################################################\n",
    "# compare to second-best model                                                             #\n",
    "############################################################################################\n",
    "os.chdir(model_dir)\n",
    "sbModel = load_model('Xception_bs-64_triangular_sz-315_blr-5e-05_mlr-0.0006_e-48_imagenet_86_3-e19', \n",
    "                     custom_objects={'precision': precision, 'recall': recall, 'fbeta_score': fbeta_score, 'fmeasure': fmeasure})"
   ]
  },
  {
   "cell_type": "code",
   "execution_count": 125,
   "metadata": {},
   "outputs": [
    {
     "name": "stdout",
     "output_type": "stream",
     "text": [
      "Iteration_0\n",
      "Iteration_1000\n",
      "Iteration_2000\n",
      "Iteration_3000\n",
      "Iteration_4000\n",
      "Iteration_5000\n",
      "Iteration_6000\n",
      "Iteration_7000\n",
      "Iteration_8000\n",
      "Iteration_9000\n"
     ]
    }
   ],
   "source": [
    "### for the best of Model\n",
    "sbPreds = sbModel.predict(Atest_images, batch_size = 64).squeeze(axis = 1)\n",
    "loss = []; accuracy = []; precisions = []; recalls = []; f_measures = []\n",
    "\n",
    "bootstrap(iterations = 10000, dataset = sbPreds, labels = Atest_labels)\n",
    "NRW_acc_sbModel = accuracy\n",
    "NRW_loss_sbModel = loss\n",
    "NRW_pre_sbModel = precisions\n",
    "NRW_rec_sbModel = recall"
   ]
  },
  {
   "cell_type": "code",
   "execution_count": 126,
   "metadata": {},
   "outputs": [
    {
     "data": {
      "text/plain": [
       "[0.80645161290322576,\n",
       " 0.76344086021505375,\n",
       " 0.83870967741935487,\n",
       " 0.86021505376344087,\n",
       " 0.76344086021505375,\n",
       " 0.75268817204301075,\n",
       " 0.86021505376344087,\n",
       " 0.84946236559139787,\n",
       " 0.91397849462365588,\n",
       " 0.88172043010752688]"
      ]
     },
     "execution_count": 126,
     "metadata": {},
     "output_type": "execute_result"
    }
   ],
   "source": [
    "NRW_acc_sbModel[:10]"
   ]
  },
  {
   "cell_type": "code",
   "execution_count": 130,
   "metadata": {},
   "outputs": [
    {
     "data": {
      "text/plain": [
       "<function matplotlib.pyplot.show>"
      ]
     },
     "execution_count": 130,
     "metadata": {},
     "output_type": "execute_result"
    },
    {
     "data": {
      "image/png": "[encoded data removed]",
      "text/plain": [
       "<matplotlib.figure.Figure at 0x7cf420b8>"
      ]
     },
     "metadata": {},
     "output_type": "display_data"
    }
   ],
   "source": [
    "plt.hist(NRW_acc_boModel, bins = 95, range = [0,1], color = 'b', alpha =0.5)\n",
    "plt.hist(NRW_acc_sbModel, bins = 95, range = [0,1], color = 'forestgreen', alpha =0.5)\n",
    "plt.show"
   ]
  },
  {
   "cell_type": "code",
   "execution_count": 131,
   "metadata": {},
   "outputs": [
    {
     "name": "stdout",
     "output_type": "stream",
     "text": [
      "variance mixedModel: \t0.1508\n",
      "variance boModel: \t0.1407\n",
      "standard deviation: \t0.0382 \n"
     ]
    }
   ],
   "source": [
    "# 0-Hypothesis:  both accuracies are the same\n",
    "# Alternative-H: both accuracies are different\n",
    "\n",
    "N = 10000\n",
    "aSB = np.array(NRW_acc_sbModel)\n",
    "bSB = np.array(NRW_acc_boModel)\n",
    "\n",
    "#For unbiased max likelihood estimate we have to divide the var by N-1, and therefore the parameter ddof = 1\n",
    "var_aSB = aSB.var(ddof=1)\n",
    "var_bSB = bSB.var(ddof=1)\n",
    "print('variance mixedModel: \\t{}'.format(round(var_aSB, 6)*100))\n",
    "print('variance boModel: \\t{}'.format(round(var_bSB, 6)*100))\n",
    "#std deviation\n",
    "sSB = np.sqrt((var_aSB + var_bSB)/2)\n",
    "print('standard deviation: \\t{} '.format(round(sSB, 4)))"
   ]
  },
  {
   "cell_type": "code",
   "execution_count": 138,
   "metadata": {},
   "outputs": [
    {
     "name": "stdout",
     "output_type": "stream",
     "text": [
      "0.820524731183\n",
      "0.814407526882\n"
     ]
    }
   ],
   "source": [
    "print(bSB.mean())\n",
    "print(aSB.mean())"
   ]
  },
  {
   "cell_type": "code",
   "execution_count": 132,
   "metadata": {},
   "outputs": [
    {
     "name": "stdout",
     "output_type": "stream",
     "text": [
      "t = 11.3291156128\n",
      "p = 0.0\n"
     ]
    }
   ],
   "source": [
    "## Calculate the t-statistics\n",
    "tSB = (bSB.mean() - aSB.mean())/(sSB*np.sqrt(2/N))\n",
    "## Compare with the critical t-value\n",
    "#Degrees of freedom\n",
    "df = 2*N - 2\n",
    "\n",
    "#p-value after comparison with the t \n",
    "pSB = 1 - stats.t.cdf(tSB,df=df)\n",
    "print(\"t = \" + str(tSB))\n",
    "print(\"p = \" + str(2*pSB))\n",
    "#Note that we multiply the p value by 2 because its a twp tail t-test\n",
    "### You can see that after comparing the t statistic with the critical t value (computed internally) we get a good p value \n",
    "# of 0.0005 and thus we reject the null hypothesis and thus it proves that the mean of the two distributions are different \n",
    "# and statistically significant."
   ]
  },
  {
   "cell_type": "code",
   "execution_count": 135,
   "metadata": {},
   "outputs": [
    {
     "name": "stdout",
     "output_type": "stream",
     "text": [
      "t = -11.3291156128\n",
      "p = 2.31896449395e-29\n"
     ]
    }
   ],
   "source": [
    "## Cross Checking with the internal scipy function\n",
    "t2SB, p2SB = stats.ttest_ind(NRW_acc_sbModel ,NRW_acc_boModel)\n",
    "print(\"t = \" + str(t2SB))\n",
    "print(\"p = \" + str(2*p2SB))"
   ]
  },
  {
   "cell_type": "code",
   "execution_count": null,
   "metadata": {
    "collapsed": true
   },
   "outputs": [],
   "source": []
  },
  {
   "cell_type": "code",
   "execution_count": null,
   "metadata": {
    "collapsed": true
   },
   "outputs": [],
   "source": []
  }
 ],
 "metadata": {
  "kernelspec": {
   "display_name": "Python 3",
   "language": "python",
   "name": "python3"
  },
  "language_info": {
   "codemirror_mode": {
    "name": "ipython",
    "version": 3
   },
   "file_extension": ".py",
   "mimetype": "text/x-python",
   "name": "python",
   "nbconvert_exporter": "python",
   "pygments_lexer": "ipython3",
   "version": "3.6.5"
  }
 },
 "nbformat": 4,
 "nbformat_minor": 2
}
